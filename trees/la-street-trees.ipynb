{
 "cells": [
  {
   "cell_type": "markdown",
   "metadata": {},
   "source": [
    "# Jacarandas of Los Angeles County"
   ]
  },
  {
   "cell_type": "code",
   "execution_count": 237,
   "metadata": {},
   "outputs": [],
   "source": [
    "import pandas as pd\n",
    "import geopandas as gpd\n",
    "import jenkspy\n",
    "import matplotlib.pyplot as plt\n",
    "%matplotlib inline\n",
    "import json\n",
    "import numpy as np\n",
    "from altair import datum\n",
    "import altair as alt\n",
    "import shapely\n",
    "import altair_latimes as lat"
   ]
  },
  {
   "cell_type": "code",
   "execution_count": 238,
   "metadata": {},
   "outputs": [],
   "source": [
    "alt.themes.register('latimes', lat.theme)\n",
    "alt.themes.enable('latimes')\n",
    "pd.options.display.max_columns = 100\n",
    "pd.options.display.max_rows = 1000\n",
    "alt.data_transformers.disable_max_rows()\n",
    "pd.options.display.max_colwidth = None"
   ]
  },
  {
   "cell_type": "markdown",
   "metadata": {},
   "source": [
    "### Trees in all cities"
   ]
  },
  {
   "cell_type": "code",
   "execution_count": 239,
   "metadata": {},
   "outputs": [],
   "source": [
    "trees = gpd.read_file('/Users/mhustiles/data/data/treesold/all_trees.shp')"
   ]
  },
  {
   "cell_type": "code",
   "execution_count": 240,
   "metadata": {},
   "outputs": [],
   "source": [
    "trees['place_label'] = trees['place'].str.replace(\"_\", \" \").str.title()"
   ]
  },
  {
   "cell_type": "code",
   "execution_count": 241,
   "metadata": {},
   "outputs": [
    {
     "data": {
      "text/html": [
       "<div>\n",
       "<style scoped>\n",
       "    .dataframe tbody tr th:only-of-type {\n",
       "        vertical-align: middle;\n",
       "    }\n",
       "\n",
       "    .dataframe tbody tr th {\n",
       "        vertical-align: top;\n",
       "    }\n",
       "\n",
       "    .dataframe thead th {\n",
       "        text-align: right;\n",
       "    }\n",
       "</style>\n",
       "<table border=\"1\" class=\"dataframe\">\n",
       "  <thead>\n",
       "    <tr style=\"text-align: right;\">\n",
       "      <th></th>\n",
       "      <th>place</th>\n",
       "      <th>ispalm</th>\n",
       "      <th>species</th>\n",
       "      <th>category</th>\n",
       "      <th>geometry</th>\n",
       "      <th>place_label</th>\n",
       "    </tr>\n",
       "  </thead>\n",
       "  <tbody>\n",
       "    <tr>\n",
       "      <th>0</th>\n",
       "      <td>pasadena</td>\n",
       "      <td>n</td>\n",
       "      <td>no room for replant</td>\n",
       "      <td>other</td>\n",
       "      <td>POINT (-118.17635 34.15406)</td>\n",
       "      <td>Pasadena</td>\n",
       "    </tr>\n",
       "    <tr>\n",
       "      <th>1</th>\n",
       "      <td>los_angeles_city</td>\n",
       "      <td>n</td>\n",
       "      <td>scarlet bottlebrush</td>\n",
       "      <td>other</td>\n",
       "      <td>POINT (-118.25420 34.10675)</td>\n",
       "      <td>Los Angeles City</td>\n",
       "    </tr>\n",
       "    <tr>\n",
       "      <th>2</th>\n",
       "      <td>long_beach</td>\n",
       "      <td>y</td>\n",
       "      <td>mexican fan palm</td>\n",
       "      <td>palm</td>\n",
       "      <td>POINT (-118.12397 33.79612)</td>\n",
       "      <td>Long Beach</td>\n",
       "    </tr>\n",
       "    <tr>\n",
       "      <th>3</th>\n",
       "      <td>long_beach</td>\n",
       "      <td>y</td>\n",
       "      <td>mexican fan palm</td>\n",
       "      <td>palm</td>\n",
       "      <td>POINT (-118.12387 33.79612)</td>\n",
       "      <td>Long Beach</td>\n",
       "    </tr>\n",
       "    <tr>\n",
       "      <th>4</th>\n",
       "      <td>long_beach</td>\n",
       "      <td>y</td>\n",
       "      <td>mexican fan palm</td>\n",
       "      <td>palm</td>\n",
       "      <td>POINT (-118.12378 33.79611)</td>\n",
       "      <td>Long Beach</td>\n",
       "    </tr>\n",
       "  </tbody>\n",
       "</table>\n",
       "</div>"
      ],
      "text/plain": [
       "              place ispalm              species category  \\\n",
       "0          pasadena      n  no room for replant    other   \n",
       "1  los_angeles_city      n  scarlet bottlebrush    other   \n",
       "2        long_beach      y     mexican fan palm     palm   \n",
       "3        long_beach      y     mexican fan palm     palm   \n",
       "4        long_beach      y     mexican fan palm     palm   \n",
       "\n",
       "                      geometry       place_label  \n",
       "0  POINT (-118.17635 34.15406)          Pasadena  \n",
       "1  POINT (-118.25420 34.10675)  Los Angeles City  \n",
       "2  POINT (-118.12397 33.79612)        Long Beach  \n",
       "3  POINT (-118.12387 33.79612)        Long Beach  \n",
       "4  POINT (-118.12378 33.79611)        Long Beach  "
      ]
     },
     "execution_count": 241,
     "metadata": {},
     "output_type": "execute_result"
    }
   ],
   "source": [
    "trees.head()"
   ]
  },
  {
   "cell_type": "markdown",
   "metadata": {},
   "source": [
    "### LA County neighborhoods"
   ]
  },
  {
   "cell_type": "code",
   "execution_count": 242,
   "metadata": {},
   "outputs": [],
   "source": [
    "neighborhoods = gpd.read_file('input/cities-neighborhoods-unincorporated-la-county-deleted-islands.geojson')"
   ]
  },
  {
   "cell_type": "code",
   "execution_count": 249,
   "metadata": {},
   "outputs": [],
   "source": [
    "neighborhoods = neighborhoods.to_crs('epsg:4326')"
   ]
  },
  {
   "cell_type": "code",
   "execution_count": null,
   "metadata": {},
   "outputs": [],
   "source": [
    "trees_df = gpd.sjoin(trees, neighborhoods, op='within')"
   ]
  },
  {
   "cell_type": "code",
   "execution_count": 255,
   "metadata": {},
   "outputs": [],
   "source": [
    "trees_df.columns = trees_df.columns.str.lower()"
   ]
  },
  {
   "cell_type": "markdown",
   "metadata": {},
   "source": [
    "### Just the Jacaranda"
   ]
  },
  {
   "cell_type": "code",
   "execution_count": 256,
   "metadata": {},
   "outputs": [],
   "source": [
    "jacaranda = trees_df[trees_df['species'] == 'jacaranda'].reset_index(drop=True)"
   ]
  },
  {
   "cell_type": "code",
   "execution_count": 257,
   "metadata": {},
   "outputs": [],
   "source": [
    "len(jacaranda)"
   ]
  },
  {
   "cell_type": "code",
   "execution_count": 299,
   "metadata": {},
   "outputs": [
    {
     "data": {
      "text/html": [
       "<div>\n",
       "<style scoped>\n",
       "    .dataframe tbody tr th:only-of-type {\n",
       "        vertical-align: middle;\n",
       "    }\n",
       "\n",
       "    .dataframe tbody tr th {\n",
       "        vertical-align: top;\n",
       "    }\n",
       "\n",
       "    .dataframe thead th {\n",
       "        text-align: right;\n",
       "    }\n",
       "</style>\n",
       "<table border=\"1\" class=\"dataframe\">\n",
       "  <thead>\n",
       "    <tr style=\"text-align: right;\">\n",
       "      <th></th>\n",
       "      <th>place</th>\n",
       "      <th>ispalm</th>\n",
       "      <th>species</th>\n",
       "      <th>category</th>\n",
       "      <th>geometry</th>\n",
       "      <th>place_label</th>\n",
       "      <th>index_right</th>\n",
       "      <th>name</th>\n",
       "    </tr>\n",
       "  </thead>\n",
       "  <tbody>\n",
       "    <tr>\n",
       "      <th>0</th>\n",
       "      <td>pasadena</td>\n",
       "      <td>n</td>\n",
       "      <td>jacaranda</td>\n",
       "      <td>jacaranda</td>\n",
       "      <td>POINT (-118.15560 34.12412)</td>\n",
       "      <td>Pasadena</td>\n",
       "      <td>115</td>\n",
       "      <td>Pasadena</td>\n",
       "    </tr>\n",
       "    <tr>\n",
       "      <th>1</th>\n",
       "      <td>pasadena</td>\n",
       "      <td>n</td>\n",
       "      <td>jacaranda</td>\n",
       "      <td>jacaranda</td>\n",
       "      <td>POINT (-118.15570 34.12412)</td>\n",
       "      <td>Pasadena</td>\n",
       "      <td>115</td>\n",
       "      <td>Pasadena</td>\n",
       "    </tr>\n",
       "    <tr>\n",
       "      <th>2</th>\n",
       "      <td>pasadena</td>\n",
       "      <td>n</td>\n",
       "      <td>jacaranda</td>\n",
       "      <td>jacaranda</td>\n",
       "      <td>POINT (-118.16223 34.20012)</td>\n",
       "      <td>Pasadena</td>\n",
       "      <td>115</td>\n",
       "      <td>Pasadena</td>\n",
       "    </tr>\n",
       "    <tr>\n",
       "      <th>3</th>\n",
       "      <td>pasadena</td>\n",
       "      <td>n</td>\n",
       "      <td>jacaranda</td>\n",
       "      <td>jacaranda</td>\n",
       "      <td>POINT (-118.15684 34.13957)</td>\n",
       "      <td>Pasadena</td>\n",
       "      <td>115</td>\n",
       "      <td>Pasadena</td>\n",
       "    </tr>\n",
       "    <tr>\n",
       "      <th>4</th>\n",
       "      <td>pasadena</td>\n",
       "      <td>n</td>\n",
       "      <td>jacaranda</td>\n",
       "      <td>jacaranda</td>\n",
       "      <td>POINT (-118.09406 34.15782)</td>\n",
       "      <td>Pasadena</td>\n",
       "      <td>115</td>\n",
       "      <td>Pasadena</td>\n",
       "    </tr>\n",
       "  </tbody>\n",
       "</table>\n",
       "</div>"
      ],
      "text/plain": [
       "      place ispalm    species   category                     geometry  \\\n",
       "0  pasadena      n  jacaranda  jacaranda  POINT (-118.15560 34.12412)   \n",
       "1  pasadena      n  jacaranda  jacaranda  POINT (-118.15570 34.12412)   \n",
       "2  pasadena      n  jacaranda  jacaranda  POINT (-118.16223 34.20012)   \n",
       "3  pasadena      n  jacaranda  jacaranda  POINT (-118.15684 34.13957)   \n",
       "4  pasadena      n  jacaranda  jacaranda  POINT (-118.09406 34.15782)   \n",
       "\n",
       "  place_label  index_right      name  \n",
       "0    Pasadena          115  Pasadena  \n",
       "1    Pasadena          115  Pasadena  \n",
       "2    Pasadena          115  Pasadena  \n",
       "3    Pasadena          115  Pasadena  \n",
       "4    Pasadena          115  Pasadena  "
      ]
     },
     "execution_count": 299,
     "metadata": {},
     "output_type": "execute_result"
    }
   ],
   "source": [
    "jacaranda.head()"
   ]
  },
  {
   "cell_type": "markdown",
   "metadata": {},
   "source": [
    "### Toptal by place/neighborhood"
   ]
  },
  {
   "cell_type": "code",
   "execution_count": 268,
   "metadata": {},
   "outputs": [],
   "source": [
    "jacaranda_totals = jacaranda.groupby(['name']).agg({'species':'count'}).reset_index()"
   ]
  },
  {
   "cell_type": "code",
   "execution_count": 270,
   "metadata": {},
   "outputs": [],
   "source": [
    "city_totals = trees_df.groupby(['name']).agg({'species':'count'}).reset_index()"
   ]
  },
  {
   "cell_type": "code",
   "execution_count": 287,
   "metadata": {},
   "outputs": [],
   "source": [
    "cities_jacarandas = jacaranda_totals.merge(city_totals, on='name')"
   ]
  },
  {
   "cell_type": "code",
   "execution_count": 288,
   "metadata": {},
   "outputs": [],
   "source": [
    "cities_jacarandas.rename(columns={'species_x':'jacarandas', 'species_y':'total'}, inplace=True)"
   ]
  },
  {
   "cell_type": "code",
   "execution_count": 289,
   "metadata": {},
   "outputs": [],
   "source": [
    "cities_jacarandas['share'] = ((cities_jacarandas['jacarandas'] / cities_jacarandas['total'])*100).round(2)"
   ]
  },
  {
   "cell_type": "markdown",
   "metadata": {},
   "source": [
    "### Places with a high share of jacarandas"
   ]
  },
  {
   "cell_type": "code",
   "execution_count": 290,
   "metadata": {},
   "outputs": [
    {
     "data": {
      "text/html": [
       "<div>\n",
       "<style scoped>\n",
       "    .dataframe tbody tr th:only-of-type {\n",
       "        vertical-align: middle;\n",
       "    }\n",
       "\n",
       "    .dataframe tbody tr th {\n",
       "        vertical-align: top;\n",
       "    }\n",
       "\n",
       "    .dataframe thead th {\n",
       "        text-align: right;\n",
       "    }\n",
       "</style>\n",
       "<table border=\"1\" class=\"dataframe\">\n",
       "  <thead>\n",
       "    <tr style=\"text-align: right;\">\n",
       "      <th></th>\n",
       "      <th>name</th>\n",
       "      <th>jacarandas</th>\n",
       "      <th>total</th>\n",
       "      <th>share</th>\n",
       "    </tr>\n",
       "  </thead>\n",
       "  <tbody>\n",
       "    <tr>\n",
       "      <th>0</th>\n",
       "      <td>Adams-Normandie</td>\n",
       "      <td>131</td>\n",
       "      <td>709</td>\n",
       "      <td>18.48</td>\n",
       "    </tr>\n",
       "    <tr>\n",
       "      <th>202</th>\n",
       "      <td>West Rancho Dominguez</td>\n",
       "      <td>54</td>\n",
       "      <td>299</td>\n",
       "      <td>18.06</td>\n",
       "    </tr>\n",
       "    <tr>\n",
       "      <th>22</th>\n",
       "      <td>Cadillac-Corning</td>\n",
       "      <td>82</td>\n",
       "      <td>522</td>\n",
       "      <td>15.71</td>\n",
       "    </tr>\n",
       "    <tr>\n",
       "      <th>199</th>\n",
       "      <td>West Hollywood</td>\n",
       "      <td>1417</td>\n",
       "      <td>9041</td>\n",
       "      <td>15.67</td>\n",
       "    </tr>\n",
       "    <tr>\n",
       "      <th>51</th>\n",
       "      <td>East Rancho Dominguez</td>\n",
       "      <td>2</td>\n",
       "      <td>16</td>\n",
       "      <td>12.50</td>\n",
       "    </tr>\n",
       "    <tr>\n",
       "      <th>42</th>\n",
       "      <td>Del Aire</td>\n",
       "      <td>70</td>\n",
       "      <td>581</td>\n",
       "      <td>12.05</td>\n",
       "    </tr>\n",
       "    <tr>\n",
       "      <th>91</th>\n",
       "      <td>Ladera Heights</td>\n",
       "      <td>191</td>\n",
       "      <td>1612</td>\n",
       "      <td>11.85</td>\n",
       "    </tr>\n",
       "    <tr>\n",
       "      <th>89</th>\n",
       "      <td>La Rambla</td>\n",
       "      <td>9</td>\n",
       "      <td>76</td>\n",
       "      <td>11.84</td>\n",
       "    </tr>\n",
       "    <tr>\n",
       "      <th>207</th>\n",
       "      <td>Westlake</td>\n",
       "      <td>72</td>\n",
       "      <td>632</td>\n",
       "      <td>11.39</td>\n",
       "    </tr>\n",
       "    <tr>\n",
       "      <th>151</th>\n",
       "      <td>San Pasqual</td>\n",
       "      <td>65</td>\n",
       "      <td>577</td>\n",
       "      <td>11.27</td>\n",
       "    </tr>\n",
       "  </tbody>\n",
       "</table>\n",
       "</div>"
      ],
      "text/plain": [
       "                      name  jacarandas  total  share\n",
       "0          Adams-Normandie         131    709  18.48\n",
       "202  West Rancho Dominguez          54    299  18.06\n",
       "22        Cadillac-Corning          82    522  15.71\n",
       "199         West Hollywood        1417   9041  15.67\n",
       "51   East Rancho Dominguez           2     16  12.50\n",
       "42                Del Aire          70    581  12.05\n",
       "91          Ladera Heights         191   1612  11.85\n",
       "89               La Rambla           9     76  11.84\n",
       "207               Westlake          72    632  11.39\n",
       "151            San Pasqual          65    577  11.27"
      ]
     },
     "execution_count": 290,
     "metadata": {},
     "output_type": "execute_result"
    }
   ],
   "source": [
    "cities_jacarandas.sort_values('share', ascending=False).head(10)"
   ]
  },
  {
   "cell_type": "markdown",
   "metadata": {},
   "source": [
    "### Places with a high jacarandas count"
   ]
  },
  {
   "cell_type": "code",
   "execution_count": 291,
   "metadata": {},
   "outputs": [
    {
     "data": {
      "text/html": [
       "<div>\n",
       "<style scoped>\n",
       "    .dataframe tbody tr th:only-of-type {\n",
       "        vertical-align: middle;\n",
       "    }\n",
       "\n",
       "    .dataframe tbody tr th {\n",
       "        vertical-align: top;\n",
       "    }\n",
       "\n",
       "    .dataframe thead th {\n",
       "        text-align: right;\n",
       "    }\n",
       "</style>\n",
       "<table border=\"1\" class=\"dataframe\">\n",
       "  <thead>\n",
       "    <tr style=\"text-align: right;\">\n",
       "      <th></th>\n",
       "      <th>name</th>\n",
       "      <th>jacarandas</th>\n",
       "      <th>total</th>\n",
       "      <th>share</th>\n",
       "    </tr>\n",
       "  </thead>\n",
       "  <tbody>\n",
       "    <tr>\n",
       "      <th>103</th>\n",
       "      <td>Long Beach</td>\n",
       "      <td>6793</td>\n",
       "      <td>140796</td>\n",
       "      <td>4.82</td>\n",
       "    </tr>\n",
       "    <tr>\n",
       "      <th>67</th>\n",
       "      <td>Glendale</td>\n",
       "      <td>2031</td>\n",
       "      <td>56764</td>\n",
       "      <td>3.58</td>\n",
       "    </tr>\n",
       "    <tr>\n",
       "      <th>209</th>\n",
       "      <td>Whittier</td>\n",
       "      <td>1774</td>\n",
       "      <td>28381</td>\n",
       "      <td>6.25</td>\n",
       "    </tr>\n",
       "    <tr>\n",
       "      <th>129</th>\n",
       "      <td>Pasadena</td>\n",
       "      <td>1684</td>\n",
       "      <td>71104</td>\n",
       "      <td>2.37</td>\n",
       "    </tr>\n",
       "    <tr>\n",
       "      <th>199</th>\n",
       "      <td>West Hollywood</td>\n",
       "      <td>1417</td>\n",
       "      <td>9041</td>\n",
       "      <td>15.67</td>\n",
       "    </tr>\n",
       "    <tr>\n",
       "      <th>16</th>\n",
       "      <td>Beverly Hills</td>\n",
       "      <td>1382</td>\n",
       "      <td>26902</td>\n",
       "      <td>5.14</td>\n",
       "    </tr>\n",
       "    <tr>\n",
       "      <th>24</th>\n",
       "      <td>Carson</td>\n",
       "      <td>1353</td>\n",
       "      <td>22519</td>\n",
       "      <td>6.01</td>\n",
       "    </tr>\n",
       "    <tr>\n",
       "      <th>133</th>\n",
       "      <td>Pomona</td>\n",
       "      <td>1019</td>\n",
       "      <td>50508</td>\n",
       "      <td>2.02</td>\n",
       "    </tr>\n",
       "    <tr>\n",
       "      <th>155</th>\n",
       "      <td>Santa Monica</td>\n",
       "      <td>927</td>\n",
       "      <td>34966</td>\n",
       "      <td>2.65</td>\n",
       "    </tr>\n",
       "    <tr>\n",
       "      <th>30</th>\n",
       "      <td>Cerritos</td>\n",
       "      <td>828</td>\n",
       "      <td>24567</td>\n",
       "      <td>3.37</td>\n",
       "    </tr>\n",
       "  </tbody>\n",
       "</table>\n",
       "</div>"
      ],
      "text/plain": [
       "               name  jacarandas   total  share\n",
       "103      Long Beach        6793  140796   4.82\n",
       "67         Glendale        2031   56764   3.58\n",
       "209        Whittier        1774   28381   6.25\n",
       "129        Pasadena        1684   71104   2.37\n",
       "199  West Hollywood        1417    9041  15.67\n",
       "16    Beverly Hills        1382   26902   5.14\n",
       "24           Carson        1353   22519   6.01\n",
       "133          Pomona        1019   50508   2.02\n",
       "155    Santa Monica         927   34966   2.65\n",
       "30         Cerritos         828   24567   3.37"
      ]
     },
     "execution_count": 291,
     "metadata": {},
     "output_type": "execute_result"
    }
   ],
   "source": [
    "cities_jacarandas.sort_values('jacarandas', ascending=False).head(10)"
   ]
  },
  {
   "cell_type": "markdown",
   "metadata": {},
   "source": [
    "---"
   ]
  },
  {
   "cell_type": "markdown",
   "metadata": {},
   "source": [
    "### Bin the trees"
   ]
  },
  {
   "cell_type": "code",
   "execution_count": 292,
   "metadata": {},
   "outputs": [],
   "source": [
    "bins = gpd.read_file('input/halfmile.geojson')"
   ]
  },
  {
   "cell_type": "code",
   "execution_count": 327,
   "metadata": {},
   "outputs": [
    {
     "data": {
      "text/plain": [
       "<matplotlib.axes._subplots.AxesSubplot at 0x1b2467450>"
      ]
     },
     "execution_count": 327,
     "metadata": {},
     "output_type": "execute_result"
    },
    {
     "data": {
      "image/png": "[encoded data removed]",
      "text/plain": [
       "<Figure size 432x288 with 1 Axes>"
      ]
     },
     "metadata": {
      "needs_background": "light"
     },
     "output_type": "display_data"
    }
   ],
   "source": [
    "bins[bins['id'] == 5130].plot()"
   ]
  },
  {
   "cell_type": "code",
   "execution_count": 302,
   "metadata": {},
   "outputs": [],
   "source": [
    "jacaranda.drop(['index_right'], axis=1, inplace=True)"
   ]
  },
  {
   "cell_type": "code",
   "execution_count": 303,
   "metadata": {},
   "outputs": [],
   "source": [
    "bins_jacarandas = gpd.sjoin(jacaranda, bins, op='within')"
   ]
  },
  {
   "cell_type": "code",
   "execution_count": 319,
   "metadata": {},
   "outputs": [
    {
     "data": {
      "text/html": [
       "<div>\n",
       "<style scoped>\n",
       "    .dataframe tbody tr th:only-of-type {\n",
       "        vertical-align: middle;\n",
       "    }\n",
       "\n",
       "    .dataframe tbody tr th {\n",
       "        vertical-align: top;\n",
       "    }\n",
       "\n",
       "    .dataframe thead th {\n",
       "        text-align: right;\n",
       "    }\n",
       "</style>\n",
       "<table border=\"1\" class=\"dataframe\">\n",
       "  <thead>\n",
       "    <tr style=\"text-align: right;\">\n",
       "      <th></th>\n",
       "      <th>place</th>\n",
       "      <th>ispalm</th>\n",
       "      <th>species</th>\n",
       "      <th>category</th>\n",
       "      <th>geometry</th>\n",
       "      <th>place_label</th>\n",
       "      <th>name</th>\n",
       "      <th>index_right</th>\n",
       "      <th>left</th>\n",
       "      <th>top</th>\n",
       "      <th>right</th>\n",
       "      <th>bottom</th>\n",
       "      <th>id</th>\n",
       "    </tr>\n",
       "  </thead>\n",
       "  <tbody>\n",
       "    <tr>\n",
       "      <th>85</th>\n",
       "      <td>pasadena</td>\n",
       "      <td>n</td>\n",
       "      <td>jacaranda</td>\n",
       "      <td>jacaranda</td>\n",
       "      <td>POINT (-118.17550 34.12696)</td>\n",
       "      <td>Pasadena</td>\n",
       "      <td>Pasadena</td>\n",
       "      <td>68</td>\n",
       "      <td>-1.315573e+07</td>\n",
       "      <td>4.046022e+06</td>\n",
       "      <td>-1.315480e+07</td>\n",
       "      <td>4.045217e+06</td>\n",
       "      <td>8304</td>\n",
       "    </tr>\n",
       "    <tr>\n",
       "      <th>345</th>\n",
       "      <td>pasadena</td>\n",
       "      <td>n</td>\n",
       "      <td>jacaranda</td>\n",
       "      <td>jacaranda</td>\n",
       "      <td>POINT (-118.17206 34.12895)</td>\n",
       "      <td>Pasadena</td>\n",
       "      <td>Pasadena</td>\n",
       "      <td>150</td>\n",
       "      <td>-1.315503e+07</td>\n",
       "      <td>4.046424e+06</td>\n",
       "      <td>-1.315410e+07</td>\n",
       "      <td>4.045619e+06</td>\n",
       "      <td>8409</td>\n",
       "    </tr>\n",
       "    <tr>\n",
       "      <th>531</th>\n",
       "      <td>pasadena</td>\n",
       "      <td>n</td>\n",
       "      <td>jacaranda</td>\n",
       "      <td>jacaranda</td>\n",
       "      <td>POINT (-118.17133 34.12930)</td>\n",
       "      <td>Pasadena</td>\n",
       "      <td>Pasadena</td>\n",
       "      <td>150</td>\n",
       "      <td>-1.315503e+07</td>\n",
       "      <td>4.046424e+06</td>\n",
       "      <td>-1.315410e+07</td>\n",
       "      <td>4.045619e+06</td>\n",
       "      <td>8409</td>\n",
       "    </tr>\n",
       "    <tr>\n",
       "      <th>523</th>\n",
       "      <td>pasadena</td>\n",
       "      <td>n</td>\n",
       "      <td>jacaranda</td>\n",
       "      <td>jacaranda</td>\n",
       "      <td>POINT (-118.18259 34.13197)</td>\n",
       "      <td>Pasadena</td>\n",
       "      <td>Pasadena</td>\n",
       "      <td>3597</td>\n",
       "      <td>-1.315642e+07</td>\n",
       "      <td>4.047229e+06</td>\n",
       "      <td>-1.315549e+07</td>\n",
       "      <td>4.046424e+06</td>\n",
       "      <td>8196</td>\n",
       "    </tr>\n",
       "    <tr>\n",
       "      <th>803</th>\n",
       "      <td>pasadena</td>\n",
       "      <td>n</td>\n",
       "      <td>jacaranda</td>\n",
       "      <td>jacaranda</td>\n",
       "      <td>POINT (-118.18414 34.13532)</td>\n",
       "      <td>Pasadena</td>\n",
       "      <td>Pasadena</td>\n",
       "      <td>3597</td>\n",
       "      <td>-1.315642e+07</td>\n",
       "      <td>4.047229e+06</td>\n",
       "      <td>-1.315549e+07</td>\n",
       "      <td>4.046424e+06</td>\n",
       "      <td>8196</td>\n",
       "    </tr>\n",
       "  </tbody>\n",
       "</table>\n",
       "</div>"
      ],
      "text/plain": [
       "        place ispalm    species   category                     geometry  \\\n",
       "85   pasadena      n  jacaranda  jacaranda  POINT (-118.17550 34.12696)   \n",
       "345  pasadena      n  jacaranda  jacaranda  POINT (-118.17206 34.12895)   \n",
       "531  pasadena      n  jacaranda  jacaranda  POINT (-118.17133 34.12930)   \n",
       "523  pasadena      n  jacaranda  jacaranda  POINT (-118.18259 34.13197)   \n",
       "803  pasadena      n  jacaranda  jacaranda  POINT (-118.18414 34.13532)   \n",
       "\n",
       "    place_label      name  index_right          left           top  \\\n",
       "85     Pasadena  Pasadena           68 -1.315573e+07  4.046022e+06   \n",
       "345    Pasadena  Pasadena          150 -1.315503e+07  4.046424e+06   \n",
       "531    Pasadena  Pasadena          150 -1.315503e+07  4.046424e+06   \n",
       "523    Pasadena  Pasadena         3597 -1.315642e+07  4.047229e+06   \n",
       "803    Pasadena  Pasadena         3597 -1.315642e+07  4.047229e+06   \n",
       "\n",
       "            right        bottom    id  \n",
       "85  -1.315480e+07  4.045217e+06  8304  \n",
       "345 -1.315410e+07  4.045619e+06  8409  \n",
       "531 -1.315410e+07  4.045619e+06  8409  \n",
       "523 -1.315549e+07  4.046424e+06  8196  \n",
       "803 -1.315549e+07  4.046424e+06  8196  "
      ]
     },
     "execution_count": 319,
     "metadata": {},
     "output_type": "execute_result"
    }
   ],
   "source": [
    "bins_jacarandas.head()"
   ]
  },
  {
   "cell_type": "code",
   "execution_count": 323,
   "metadata": {},
   "outputs": [],
   "source": [
    "jac_grp = bins_jacarandas.groupby(['id', 'name']).size().reset_index(name='count')"
   ]
  },
  {
   "cell_type": "code",
   "execution_count": 325,
   "metadata": {},
   "outputs": [],
   "source": [
    "jac_grp.sort_values('count', ascending=False)"
   ]
  },
  {
   "cell_type": "code",
   "execution_count": 332,
   "metadata": {},
   "outputs": [],
   "source": [
    "jac_grp_geo = bins.merge(jac_grp, on='id')"
   ]
  },
  {
   "cell_type": "code",
   "execution_count": 336,
   "metadata": {},
   "outputs": [],
   "source": [
    "jac_grp_geo.drop(['left','top','right','bottom'], axis=1, inplace=True)"
   ]
  },
  {
   "cell_type": "code",
   "execution_count": 340,
   "metadata": {},
   "outputs": [
    {
     "data": {
      "text/html": [
       "<div>\n",
       "<style scoped>\n",
       "    .dataframe tbody tr th:only-of-type {\n",
       "        vertical-align: middle;\n",
       "    }\n",
       "\n",
       "    .dataframe tbody tr th {\n",
       "        vertical-align: top;\n",
       "    }\n",
       "\n",
       "    .dataframe thead th {\n",
       "        text-align: right;\n",
       "    }\n",
       "</style>\n",
       "<table border=\"1\" class=\"dataframe\">\n",
       "  <thead>\n",
       "    <tr style=\"text-align: right;\">\n",
       "      <th></th>\n",
       "      <th>id</th>\n",
       "      <th>geometry</th>\n",
       "      <th>name</th>\n",
       "      <th>count</th>\n",
       "    </tr>\n",
       "  </thead>\n",
       "  <tbody>\n",
       "    <tr>\n",
       "      <th>1403</th>\n",
       "      <td>5130</td>\n",
       "      <td>POLYGON ((-118.36771 34.08924, -118.36562 34.09223, -118.36145 34.09223, -118.35936 34.08924, -118.36145 34.08625, -118.36562 34.08625, -118.36771 34.08924))</td>\n",
       "      <td>West Hollywood</td>\n",
       "      <td>140</td>\n",
       "    </tr>\n",
       "    <tr>\n",
       "      <th>266</th>\n",
       "      <td>4708</td>\n",
       "      <td>POLYGON ((-118.38440 34.07727, -118.38649 34.07427, -118.39066 34.07427, -118.39275 34.07727, -118.39066 34.08026, -118.38649 34.08026, -118.38440 34.07727))</td>\n",
       "      <td>Beverly Hills</td>\n",
       "      <td>136</td>\n",
       "    </tr>\n",
       "    <tr>\n",
       "      <th>180</th>\n",
       "      <td>5023</td>\n",
       "      <td>POLYGON ((-118.37397 34.09223, -118.37188 34.09523, -118.36771 34.09523, -118.36562 34.09223, -118.36771 34.08924, -118.37188 34.08924, -118.37397 34.09223))</td>\n",
       "      <td>West Hollywood</td>\n",
       "      <td>136</td>\n",
       "    </tr>\n",
       "    <tr>\n",
       "      <th>264</th>\n",
       "      <td>4709</td>\n",
       "      <td>POLYGON ((-118.39066 34.07427, -118.38649 34.07427, -118.38440 34.07128, -118.38649 34.06829, -118.39066 34.06829, -118.39275 34.07128, -118.39066 34.07427))</td>\n",
       "      <td>Beverly Hills</td>\n",
       "      <td>135</td>\n",
       "    </tr>\n",
       "    <tr>\n",
       "      <th>267</th>\n",
       "      <td>4708</td>\n",
       "      <td>POLYGON ((-118.38440 34.07727, -118.38649 34.07427, -118.39066 34.07427, -118.39275 34.07727, -118.39066 34.08026, -118.38649 34.08026, -118.38440 34.07727))</td>\n",
       "      <td>West Hollywood</td>\n",
       "      <td>128</td>\n",
       "    </tr>\n",
       "    <tr>\n",
       "      <th>...</th>\n",
       "      <td>...</td>\n",
       "      <td>...</td>\n",
       "      <td>...</td>\n",
       "      <td>...</td>\n",
       "    </tr>\n",
       "    <tr>\n",
       "      <th>1433</th>\n",
       "      <td>5210</td>\n",
       "      <td>POLYGON ((-118.35936 34.24474, -118.35519 34.24474, -118.35310 34.24176, -118.35519 34.23877, -118.35936 34.23877, -118.36145 34.24176, -118.35936 34.24474))</td>\n",
       "      <td>Sunland</td>\n",
       "      <td>1</td>\n",
       "    </tr>\n",
       "    <tr>\n",
       "      <th>1432</th>\n",
       "      <td>5204</td>\n",
       "      <td>POLYGON ((-118.35519 34.28059, -118.35310 34.27760, -118.35519 34.27462, -118.35936 34.27462, -118.36145 34.27760, -118.35936 34.28059, -118.35519 34.28059))</td>\n",
       "      <td>Lakeview Terrace</td>\n",
       "      <td>1</td>\n",
       "    </tr>\n",
       "    <tr>\n",
       "      <th>786</th>\n",
       "      <td>3744</td>\n",
       "      <td>POLYGON ((-118.44909 34.13413, -118.44700 34.13712, -118.44283 34.13712, -118.44074 34.13413, -118.44283 34.13114, -118.44700 34.13114, -118.44909 34.13413))</td>\n",
       "      <td>Sherman Oaks</td>\n",
       "      <td>1</td>\n",
       "    </tr>\n",
       "    <tr>\n",
       "      <th>794</th>\n",
       "      <td>3763</td>\n",
       "      <td>POLYGON ((-118.44909 34.02037, -118.44700 34.02337, -118.44283 34.02337, -118.44074 34.02037, -118.44283 34.01737, -118.44700 34.01737, -118.44909 34.02037))</td>\n",
       "      <td>Santa Monica</td>\n",
       "      <td>1</td>\n",
       "    </tr>\n",
       "    <tr>\n",
       "      <th>1516</th>\n",
       "      <td>1830</td>\n",
       "      <td>POLYGON ((-118.55968 34.17301, -118.55551 34.17301, -118.55342 34.17002, -118.55551 34.16703, -118.55968 34.16703, -118.56177 34.17002, -118.55968 34.17301))</td>\n",
       "      <td>Tarzana</td>\n",
       "      <td>1</td>\n",
       "    </tr>\n",
       "  </tbody>\n",
       "</table>\n",
       "<p>1843 rows × 4 columns</p>\n",
       "</div>"
      ],
      "text/plain": [
       "        id  \\\n",
       "1403  5130   \n",
       "266   4708   \n",
       "180   5023   \n",
       "264   4709   \n",
       "267   4708   \n",
       "...    ...   \n",
       "1433  5210   \n",
       "1432  5204   \n",
       "786   3744   \n",
       "794   3763   \n",
       "1516  1830   \n",
       "\n",
       "                                                                                                                                                           geometry  \\\n",
       "1403  POLYGON ((-118.36771 34.08924, -118.36562 34.09223, -118.36145 34.09223, -118.35936 34.08924, -118.36145 34.08625, -118.36562 34.08625, -118.36771 34.08924))   \n",
       "266   POLYGON ((-118.38440 34.07727, -118.38649 34.07427, -118.39066 34.07427, -118.39275 34.07727, -118.39066 34.08026, -118.38649 34.08026, -118.38440 34.07727))   \n",
       "180   POLYGON ((-118.37397 34.09223, -118.37188 34.09523, -118.36771 34.09523, -118.36562 34.09223, -118.36771 34.08924, -118.37188 34.08924, -118.37397 34.09223))   \n",
       "264   POLYGON ((-118.39066 34.07427, -118.38649 34.07427, -118.38440 34.07128, -118.38649 34.06829, -118.39066 34.06829, -118.39275 34.07128, -118.39066 34.07427))   \n",
       "267   POLYGON ((-118.38440 34.07727, -118.38649 34.07427, -118.39066 34.07427, -118.39275 34.07727, -118.39066 34.08026, -118.38649 34.08026, -118.38440 34.07727))   \n",
       "...                                                                                                                                                             ...   \n",
       "1433  POLYGON ((-118.35936 34.24474, -118.35519 34.24474, -118.35310 34.24176, -118.35519 34.23877, -118.35936 34.23877, -118.36145 34.24176, -118.35936 34.24474))   \n",
       "1432  POLYGON ((-118.35519 34.28059, -118.35310 34.27760, -118.35519 34.27462, -118.35936 34.27462, -118.36145 34.27760, -118.35936 34.28059, -118.35519 34.28059))   \n",
       "786   POLYGON ((-118.44909 34.13413, -118.44700 34.13712, -118.44283 34.13712, -118.44074 34.13413, -118.44283 34.13114, -118.44700 34.13114, -118.44909 34.13413))   \n",
       "794   POLYGON ((-118.44909 34.02037, -118.44700 34.02337, -118.44283 34.02337, -118.44074 34.02037, -118.44283 34.01737, -118.44700 34.01737, -118.44909 34.02037))   \n",
       "1516  POLYGON ((-118.55968 34.17301, -118.55551 34.17301, -118.55342 34.17002, -118.55551 34.16703, -118.55968 34.16703, -118.56177 34.17002, -118.55968 34.17301))   \n",
       "\n",
       "                  name  count  \n",
       "1403    West Hollywood    140  \n",
       "266      Beverly Hills    136  \n",
       "180     West Hollywood    136  \n",
       "264      Beverly Hills    135  \n",
       "267     West Hollywood    128  \n",
       "...                ...    ...  \n",
       "1433           Sunland      1  \n",
       "1432  Lakeview Terrace      1  \n",
       "786       Sherman Oaks      1  \n",
       "794       Santa Monica      1  \n",
       "1516           Tarzana      1  \n",
       "\n",
       "[1843 rows x 4 columns]"
      ]
     },
     "execution_count": 340,
     "metadata": {},
     "output_type": "execute_result"
    }
   ],
   "source": [
    "jac_grp_geo.sort_values('count', ascending=False)"
   ]
  },
  {
   "cell_type": "markdown",
   "metadata": {},
   "source": [
    "---"
   ]
  },
  {
   "cell_type": "markdown",
   "metadata": {},
   "source": [
    "### Export"
   ]
  },
  {
   "cell_type": "code",
   "execution_count": 337,
   "metadata": {},
   "outputs": [],
   "source": [
    "jacaranda.to_file('output/jacaranda.geojson', driver='GeoJSON')"
   ]
  },
  {
   "cell_type": "code",
   "execution_count": 338,
   "metadata": {},
   "outputs": [],
   "source": [
    "jac_grp_geo.to_file('output/jac_grp_geo.geojson', driver='GeoJSON')"
   ]
  },
  {
   "cell_type": "code",
   "execution_count": 70,
   "metadata": {},
   "outputs": [
    {
     "name": "stdout",
     "output_type": "stream",
     "text": [
      "For layer 0, using name \"jacaranda\"\n",
      "15388 features, 592547 bytes of geometry, 16 bytes of separate metadata, 620701 bytes of string pool\n",
      "  99.9%  14/2802/6527  \n"
     ]
    }
   ],
   "source": [
    "# !tippecanoe --generate-ids --force -r1 -pk -pf -o \\\n",
    "# output/jacaranda.mbtiles \\\n",
    "# output/jacaranda.geojson"
   ]
  }
 ],
 "metadata": {
  "kernelspec": {
   "display_name": "Python 3",
   "language": "python",
   "name": "python3"
  },
  "language_info": {
   "codemirror_mode": {
    "name": "ipython",
    "version": 3
   },
   "file_extension": ".py",
   "mimetype": "text/x-python",
   "name": "python",
   "nbconvert_exporter": "python",
   "pygments_lexer": "ipython3",
   "version": "3.7.4"
  }
 },
 "nbformat": 4,
 "nbformat_minor": 4
}
