{
 "cells": [
  {
   "cell_type": "markdown",
   "id": "feae62c1-9acf-43bc-8a44-782fc993f285",
   "metadata": {},
   "source": [
    "# Open Movie Database API"
   ]
  },
  {
   "cell_type": "code",
   "execution_count": 5,
   "id": "3cc2698f-1526-4750-922d-4f739f85b33a",
   "metadata": {},
   "outputs": [],
   "source": [
    "# DOCS: https://www.omdbapi.com/"
   ]
  },
  {
   "cell_type": "markdown",
   "id": "1aad9ed4-c9ed-493c-b73d-92f819f96fa2",
   "metadata": {},
   "source": [
    "### Import Python tools and Jupyter configuration"
   ]
  },
  {
   "cell_type": "code",
   "execution_count": 6,
   "id": "65ce4d0b-9f95-4efd-a971-64a506b94c36",
   "metadata": {},
   "outputs": [],
   "source": [
    "%load_ext lab_black"
   ]
  },
  {
   "cell_type": "code",
   "execution_count": 7,
   "id": "e5c65701-ff95-420f-9610-adfb37bc7979",
   "metadata": {},
   "outputs": [],
   "source": [
    "import pandas as pd\n",
    "import geopandas as gpd\n",
    "import datetime as dt\n",
    "import matplotlib.pyplot as plt\n",
    "import altair as alt\n",
    "import requests\n",
    "import lxml.html as html\n",
    "import bs4 as BeautifulSoup"
   ]
  },
  {
   "cell_type": "code",
   "execution_count": 8,
   "id": "47f0440c-13a6-4fcb-9bb4-d9af538a2cf4",
   "metadata": {},
   "outputs": [],
   "source": [
    "pd.options.display.max_columns = 100\n",
    "pd.options.display.max_rows = 1000\n",
    "pd.options.display.max_colwidth = None"
   ]
  },
  {
   "cell_type": "code",
   "execution_count": 8,
   "id": "e795fcf8-c2d6-4c3f-988c-9497883e1be3",
   "metadata": {},
   "outputs": [],
   "source": [
    "'https://www.omdbapi.com/?apikey=c1353e93&t=Home+Alone'"
   ]
  },
  {
   "cell_type": "code",
   "execution_count": 72,
   "id": "ba3ea77f-b6a3-4bd7-a7e3-ce7809a1568d",
   "metadata": {},
   "outputs": [],
   "source": [
    "apikey = \"c1353e93\"\n",
    "title = \"a\""
   ]
  },
  {
   "cell_type": "code",
   "execution_count": 73,
   "id": "c4c7c327-8c68-479f-814d-23d7dedcff70",
   "metadata": {},
   "outputs": [],
   "source": [
    "url = \"https://www.omdbapi.com/?apikey=\" + apikey + \"&t=\" + title + \"&plot=full\""
   ]
  },
  {
   "cell_type": "code",
   "execution_count": 74,
   "id": "e54a34d9-3ab1-4fcf-a456-593d1f1acca4",
   "metadata": {},
   "outputs": [],
   "source": [
    "df = pd.read_json(url)"
   ]
  },
  {
   "cell_type": "code",
   "execution_count": 75,
   "id": "f4a6a59d-62f6-442e-acd8-de971f71abf0",
   "metadata": {},
   "outputs": [
    {
     "data": {
      "text/plain": [
       "'The Imperial Forces, under orders from cruel Darth Vader, hold Princess Leia hostage in their efforts to quell the rebellion against the Galactic Empire. Luke Skywalker and Han Solo, captain of the Millennium Falcon, work together with the companionable droid duo R2-D2 and C-3PO to rescue the beautiful princess, help the Rebel Alliance and restore freedom and justice to the Galaxy.'"
      ]
     },
     "execution_count": 75,
     "metadata": {},
     "output_type": "execute_result"
    }
   ],
   "source": [
    "df[\"Plot\"][0]"
   ]
  },
  {
   "cell_type": "code",
   "execution_count": 63,
   "id": "0d9f3ef0-7821-488f-9cfb-55b97ce73cec",
   "metadata": {},
   "outputs": [],
   "source": [
    "ratings = df[\"Ratings\"].to_list()"
   ]
  },
  {
   "cell_type": "code",
   "execution_count": 64,
   "id": "16112475-3134-49e8-8e06-814a6c6b3939",
   "metadata": {},
   "outputs": [
    {
     "data": {
      "text/plain": [
       "[{'Source': 'Internet Movie Database', 'Value': '8.2/10'},\n",
       " {'Source': 'Rotten Tomatoes', 'Value': '94%'},\n",
       " {'Source': 'Metacritic', 'Value': '72/100'}]"
      ]
     },
     "execution_count": 64,
     "metadata": {},
     "output_type": "execute_result"
    }
   ],
   "source": [
    "ratings"
   ]
  }
 ],
 "metadata": {
  "kernelspec": {
   "display_name": "Python 3",
   "language": "python",
   "name": "python3"
  },
  "language_info": {
   "codemirror_mode": {
    "name": "ipython",
    "version": 3
   },
   "file_extension": ".py",
   "mimetype": "text/x-python",
   "name": "python",
   "nbconvert_exporter": "python",
   "pygments_lexer": "ipython3",
   "version": "3.8.2"
  }
 },
 "nbformat": 4,
 "nbformat_minor": 5
}
