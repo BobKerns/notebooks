{
 "cells": [
  {
   "cell_type": "markdown",
   "metadata": {},
   "source": [
    "# Scraping former President Trump's 'desk'"
   ]
  },
  {
   "cell_type": "markdown",
   "metadata": {},
   "source": [
    "### Import Python tools and Jupyter configuration"
   ]
  },
  {
   "cell_type": "code",
   "execution_count": 1,
   "metadata": {},
   "outputs": [],
   "source": [
    "%load_ext lab_black"
   ]
  },
  {
   "cell_type": "code",
   "execution_count": 2,
   "metadata": {},
   "outputs": [],
   "source": [
    "import pandas as pd\n",
    "import requests\n",
    "from bs4 import BeautifulSoup\n",
    "import re\n",
    "import datetime as dt"
   ]
  },
  {
   "cell_type": "code",
   "execution_count": 3,
   "metadata": {},
   "outputs": [],
   "source": [
    "import altair as alt\n",
    "import altair_latimes as lat\n",
    "import matplotlib.pyplot as plt"
   ]
  },
  {
   "cell_type": "code",
   "execution_count": 4,
   "metadata": {},
   "outputs": [
    {
     "data": {
      "text/plain": [
       "ThemeRegistry.enable('latimes')"
      ]
     },
     "execution_count": 4,
     "metadata": {},
     "output_type": "execute_result"
    }
   ],
   "source": [
    "alt.themes.register(\"latimes\", lat.theme)\n",
    "alt.themes.enable(\"latimes\")"
   ]
  },
  {
   "cell_type": "code",
   "execution_count": 5,
   "metadata": {},
   "outputs": [],
   "source": [
    "pd.options.display.max_columns = 100\n",
    "pd.options.display.max_rows = 1000\n",
    "alt.data_transformers.disable_max_rows()\n",
    "pd.options.display.max_colwidth = None"
   ]
  },
  {
   "cell_type": "markdown",
   "metadata": {},
   "source": [
    "---"
   ]
  },
  {
   "cell_type": "markdown",
   "metadata": {},
   "source": [
    "### Read the page"
   ]
  },
  {
   "cell_type": "code",
   "execution_count": 6,
   "metadata": {},
   "outputs": [],
   "source": [
    "r = requests.get(\"https://www.donaldjtrump.com/desk\")\n",
    "soup = BeautifulSoup(r.text, \"html.parser\")"
   ]
  },
  {
   "cell_type": "markdown",
   "metadata": {},
   "source": [
    "### Grab everything from each post div"
   ]
  },
  {
   "cell_type": "code",
   "execution_count": 7,
   "metadata": {},
   "outputs": [],
   "source": [
    "rows = soup.find_all(\"div\", class_=\"ftdli-main ftd-d\")"
   ]
  },
  {
   "cell_type": "code",
   "execution_count": 8,
   "metadata": {},
   "outputs": [],
   "source": [
    "data = []\n",
    "for r in rows:\n",
    "    if r.find(\"img\") is not None:\n",
    "        image = r.find(\"img\")[\"src\"]\n",
    "    else:\n",
    "        image = \"\"\n",
    "    post_url = r.find(\"div\", class_=\"title ftd-d\").get(\"onclick\")\n",
    "    post = r.find(\"p\", class_=\"ftd-post-text\").text\n",
    "    author = r.find(\"h2\").text\n",
    "    date = r.find(\"div\", class_=\"date ftd-d\").text\n",
    "    raw = r.find(\"p\", class_=\"ftd-post-text\").text\n",
    "    data.append(\n",
    "        dict(\n",
    "            date=date,\n",
    "            url=post_url,\n",
    "            author=author,\n",
    "            post=post,\n",
    "            image=image,\n",
    "        )\n",
    "    )"
   ]
  },
  {
   "cell_type": "markdown",
   "metadata": {},
   "source": [
    "### First item from the dictionary"
   ]
  },
  {
   "cell_type": "code",
   "execution_count": 9,
   "metadata": {},
   "outputs": [
    {
     "data": {
      "text/plain": [
       "{'date': '\\n8:29am May 25, 2021\\n',\n",
       " 'url': \"location.href='/desk/desk-cr9wpsyfxe/';\",\n",
       " 'author': 'Donald J. Trump',\n",
       " 'post': 'Crazy Joe Scarborough and his blood-curdling, psycho wife (?), Mika, are going crazy because their ratings have absolutely TANKED. They are wrong too often and always predictable. They were right about me in 2016, but I did better in the 2020 Election with 12 million more votes. Stay tuned!',\n",
       " 'image': ''}"
      ]
     },
     "execution_count": 9,
     "metadata": {},
     "output_type": "execute_result"
    }
   ],
   "source": [
    "data[0]"
   ]
  },
  {
   "cell_type": "markdown",
   "metadata": {},
   "source": [
    "### Clean up before importing as a dataframe"
   ]
  },
  {
   "cell_type": "code",
   "execution_count": 10,
   "metadata": {},
   "outputs": [],
   "source": [
    "for d in data:\n",
    "    d[\"date\"] = d[\"date\"].replace(\"\\n\", \"\")\n",
    "    d[\"url\"] = (\n",
    "        d[\"url\"]\n",
    "        .replace(\"location.href='\", \"https://www.donaldjtrump.com\")\n",
    "        .replace(\"/';\", \"\")\n",
    "    )"
   ]
  },
  {
   "cell_type": "code",
   "execution_count": 11,
   "metadata": {},
   "outputs": [],
   "source": [
    "src = pd.DataFrame(data)"
   ]
  },
  {
   "cell_type": "markdown",
   "metadata": {},
   "source": [
    "---"
   ]
  },
  {
   "cell_type": "markdown",
   "metadata": {},
   "source": [
    "### Pull in early posts"
   ]
  },
  {
   "cell_type": "code",
   "execution_count": 12,
   "metadata": {},
   "outputs": [],
   "source": [
    "archive_df = pd.read_csv(\"input/archive.csv\")"
   ]
  },
  {
   "cell_type": "code",
   "execution_count": 13,
   "metadata": {},
   "outputs": [],
   "source": [
    "archive_df.drop([\"video\"], axis=1, inplace=True)"
   ]
  },
  {
   "cell_type": "code",
   "execution_count": 14,
   "metadata": {},
   "outputs": [],
   "source": [
    "df = pd.concat([src, archive_df]).drop_duplicates(subset=\"url\", keep=\"first\")"
   ]
  },
  {
   "cell_type": "markdown",
   "metadata": {},
   "source": [
    "### How many posts total? "
   ]
  },
  {
   "cell_type": "code",
   "execution_count": 15,
   "metadata": {},
   "outputs": [
    {
     "data": {
      "text/plain": [
       "54"
      ]
     },
     "execution_count": 15,
     "metadata": {},
     "output_type": "execute_result"
    }
   ],
   "source": [
    "len(df)"
   ]
  },
  {
   "cell_type": "markdown",
   "metadata": {},
   "source": [
    "### Last five posts"
   ]
  },
  {
   "cell_type": "code",
   "execution_count": 36,
   "metadata": {},
   "outputs": [
    {
     "data": {
      "text/html": [
       "<div>\n",
       "<style scoped>\n",
       "    .dataframe tbody tr th:only-of-type {\n",
       "        vertical-align: middle;\n",
       "    }\n",
       "\n",
       "    .dataframe tbody tr th {\n",
       "        vertical-align: top;\n",
       "    }\n",
       "\n",
       "    .dataframe thead th {\n",
       "        text-align: right;\n",
       "    }\n",
       "</style>\n",
       "<table border=\"1\" class=\"dataframe\">\n",
       "  <thead>\n",
       "    <tr style=\"text-align: right;\">\n",
       "      <th></th>\n",
       "      <th>date</th>\n",
       "      <th>url</th>\n",
       "      <th>author</th>\n",
       "      <th>post</th>\n",
       "      <th>image</th>\n",
       "      <th>election</th>\n",
       "      <th>fulldate</th>\n",
       "      <th>time</th>\n",
       "    </tr>\n",
       "  </thead>\n",
       "  <tbody>\n",
       "    <tr>\n",
       "      <th>0</th>\n",
       "      <td>2021-05-25</td>\n",
       "      <td>https://www.donaldjtrump.com/desk/desk-cr9wpsyfxe</td>\n",
       "      <td>Donald J. Trump</td>\n",
       "      <td>Crazy Joe Scarborough and his blood-curdling, psycho wife (?), Mika, are going crazy because their ratings have absolutely TANKED. They are wrong too often and always predictable. They were right about me in 2016, but I did better in the 2020 Election with 12 million more votes. Stay tuned!</td>\n",
       "      <td></td>\n",
       "      <td>True</td>\n",
       "      <td>2021-05-25 08:29:00</td>\n",
       "      <td>08:29:00</td>\n",
       "    </tr>\n",
       "    <tr>\n",
       "      <th>1</th>\n",
       "      <td>2021-05-24</td>\n",
       "      <td>https://www.donaldjtrump.com/desk/desk-pwspbhwbx6</td>\n",
       "      <td>Donald J. Trump</td>\n",
       "      <td>New Hampshire’s Election Audit has revealed that large-scale voting machines appear to count NON-EXISTING VOTES. State and local communities are seeking confirmation. It’s probably true, but we’ll soon know. Why aren’t Minority Leader Mitch McConnell and Republicans doing anything about what went on in the 2020 Election? How can the Democrats be allowed to get away with this? It will go down as the Crime of the Century! Other States like Arizona, Georgia (where a Judge just granted a motion to unseal and inspect ballots from the 2020 Election), Michigan, Pennsylvania, and more to follow.</td>\n",
       "      <td></td>\n",
       "      <td>True</td>\n",
       "      <td>2021-05-24 20:30:00</td>\n",
       "      <td>20:30:00</td>\n",
       "    </tr>\n",
       "    <tr>\n",
       "      <th>2</th>\n",
       "      <td>2021-05-24</td>\n",
       "      <td>https://www.donaldjtrump.com/desk/desk-svhbnaemtt</td>\n",
       "      <td>Donald J. Trump</td>\n",
       "      <td>Highly respected pollster John McLaughlin says 73% of all Republicans want Trump to run again in 2024 and Republican primary voters would support him 82%-13%. Even the Washington Post has just reported “All Republican Roads Lead to Mar-a-Lago.”\\n\\nWhat WaPo and other members of the Fake News Media don’t report is that Joe Biden is of no interest to anybody—21 million less people watched his Joint Address to Congress than watched mine.\\n\\nAlso, Biden’s ratings have killed the Radical Left Fake News Cable Channels. MSNBC and CNN have plummeted in the ratings. MSNBC doesn’t have a show in the top 10 of all cable news programs, and CNN doesn’t even have a show in the top 100. They should have embraced and endorsed “Trump”—their ratings would have been at new highs!\\nI have been doing very limited media so the American public could see just how big of a disaster the Biden Administration has been, and I was right. Inflation, the Border Crisis, our forgotten Military, war in the Middle East, all as a result of Biden’s mistakes. Our Country is being destroyed. Watch, it’s only going to get worse!\\n\\nThe Washington Post also incorrectly reported about my DonaldJTrump.com website viewership. We have not yet launched our own social media “platform,” but even the very basic site we have to post our statements has received 36.7 million views over the past month alone, and we’re getting more traffic to our website now than in 2020, an Election year! This number would be even greater if we were still on Twitter and Facebook, but since Big Tech has illegally banned me, tens of millions of our supporters have stopped using these platforms because they’ve become “boring” and nasty.\\n\\nMy website is a place where everyone can see my statements, issued in real time, and engage with the MAGA Movement. This is meant to be a temporary way of getting my thoughts and ideas out to the public without the Fake News spin, but the website is not a “platform.” It is merely a way of communicating until I decide on what the future will be for the choice or establishment of a platform. It will happen soon. Stay tuned!</td>\n",
       "      <td></td>\n",
       "      <td>True</td>\n",
       "      <td>2021-05-24 17:00:00</td>\n",
       "      <td>17:00:00</td>\n",
       "    </tr>\n",
       "    <tr>\n",
       "      <th>3</th>\n",
       "      <td>2021-05-22</td>\n",
       "      <td>https://www.donaldjtrump.com/desk/desk-ucnmbjj2mk</td>\n",
       "      <td>Donald J. Trump</td>\n",
       "      <td>Where’s Durham—what ever happened to the Durham Report?\\n</td>\n",
       "      <td></td>\n",
       "      <td>False</td>\n",
       "      <td>2021-05-22 15:39:00</td>\n",
       "      <td>15:39:00</td>\n",
       "    </tr>\n",
       "    <tr>\n",
       "      <th>4</th>\n",
       "      <td>2021-05-22</td>\n",
       "      <td>https://www.donaldjtrump.com/desk/desk-nxxuw8ftmx</td>\n",
       "      <td>Donald J. Trump</td>\n",
       "      <td>The lackluster Attorney General of Arizona, Mark Brnovich, has to get on the ball and catch up with the great Republican Patriots in the Arizona State Senate. As massive crime in the 2020 Election is becoming more and more evident and obvious, Brnovich is nowhere to be found. He is always on television promoting himself, but never mentions the Crime of the Century, that took place during the 2020 Presidential Election, which was Rigged and Stolen. Arizona was a big part and Brnovich must put himself in gear, or no Arizona Republican will vote for him in the upcoming elections. They will never forget, and neither will the great Patriots of our Nation!</td>\n",
       "      <td></td>\n",
       "      <td>True</td>\n",
       "      <td>2021-05-22 14:36:00</td>\n",
       "      <td>14:36:00</td>\n",
       "    </tr>\n",
       "  </tbody>\n",
       "</table>\n",
       "</div>"
      ],
      "text/plain": [
       "         date                                                url  \\\n",
       "0  2021-05-25  https://www.donaldjtrump.com/desk/desk-cr9wpsyfxe   \n",
       "1  2021-05-24  https://www.donaldjtrump.com/desk/desk-pwspbhwbx6   \n",
       "2  2021-05-24  https://www.donaldjtrump.com/desk/desk-svhbnaemtt   \n",
       "3  2021-05-22  https://www.donaldjtrump.com/desk/desk-ucnmbjj2mk   \n",
       "4  2021-05-22  https://www.donaldjtrump.com/desk/desk-nxxuw8ftmx   \n",
       "\n",
       "            author  \\\n",
       "0  Donald J. Trump   \n",
       "1  Donald J. Trump   \n",
       "2  Donald J. Trump   \n",
       "3  Donald J. Trump   \n",
       "4  Donald J. Trump   \n",
       "\n",
       "                                                                                                                                                                                                                                                                                                                                                                                                                                                                                                                                                                                                                                                                                                                                                                                                                                                                                                                                                                                                                                                                                                                                                                                                                                                                                                                                                                                                                                                                                                                                                                                                                                                                                                                                                                                                                                                                                                                                                                                                                                                                                                                                                                                                         post  \\\n",
       "0                                                                                                                                                                                                                                                                                                                                                                                                                                                                                                                                                                                                                                                                                                                                                                                                                                                                                                                                                                                                                                                                                                                                                                                                                                                                                                                                                                                                                                                                                                                                                                                                                                                                                                                                                                                                                                                                                                         Crazy Joe Scarborough and his blood-curdling, psycho wife (?), Mika, are going crazy because their ratings have absolutely TANKED. They are wrong too often and always predictable. They were right about me in 2016, but I did better in the 2020 Election with 12 million more votes. Stay tuned!   \n",
       "1                                                                                                                                                                                                                                                                                                                                                                                                                                                                                                                                                                                                                                                                                                                                                                                                                                                                                                                                                                                                                                                                                                                                                                                                                                                                                                                                                                                                                                                                                                                                                                                          New Hampshire’s Election Audit has revealed that large-scale voting machines appear to count NON-EXISTING VOTES. State and local communities are seeking confirmation. It’s probably true, but we’ll soon know. Why aren’t Minority Leader Mitch McConnell and Republicans doing anything about what went on in the 2020 Election? How can the Democrats be allowed to get away with this? It will go down as the Crime of the Century! Other States like Arizona, Georgia (where a Judge just granted a motion to unseal and inspect ballots from the 2020 Election), Michigan, Pennsylvania, and more to follow.   \n",
       "2  Highly respected pollster John McLaughlin says 73% of all Republicans want Trump to run again in 2024 and Republican primary voters would support him 82%-13%. Even the Washington Post has just reported “All Republican Roads Lead to Mar-a-Lago.”\\n\\nWhat WaPo and other members of the Fake News Media don’t report is that Joe Biden is of no interest to anybody—21 million less people watched his Joint Address to Congress than watched mine.\\n\\nAlso, Biden’s ratings have killed the Radical Left Fake News Cable Channels. MSNBC and CNN have plummeted in the ratings. MSNBC doesn’t have a show in the top 10 of all cable news programs, and CNN doesn’t even have a show in the top 100. They should have embraced and endorsed “Trump”—their ratings would have been at new highs!\\nI have been doing very limited media so the American public could see just how big of a disaster the Biden Administration has been, and I was right. Inflation, the Border Crisis, our forgotten Military, war in the Middle East, all as a result of Biden’s mistakes. Our Country is being destroyed. Watch, it’s only going to get worse!\\n\\nThe Washington Post also incorrectly reported about my DonaldJTrump.com website viewership. We have not yet launched our own social media “platform,” but even the very basic site we have to post our statements has received 36.7 million views over the past month alone, and we’re getting more traffic to our website now than in 2020, an Election year! This number would be even greater if we were still on Twitter and Facebook, but since Big Tech has illegally banned me, tens of millions of our supporters have stopped using these platforms because they’ve become “boring” and nasty.\\n\\nMy website is a place where everyone can see my statements, issued in real time, and engage with the MAGA Movement. This is meant to be a temporary way of getting my thoughts and ideas out to the public without the Fake News spin, but the website is not a “platform.” It is merely a way of communicating until I decide on what the future will be for the choice or establishment of a platform. It will happen soon. Stay tuned!    \n",
       "3                                                                                                                                                                                                                                                                                                                                                                                                                                                                                                                                                                                                                                                                                                                                                                                                                                                                                                                                                                                                                                                                                                                                                                                                                                                                                                                                                                                                                                                                                                                                                                                                                                                                                                                                                                                                                                                                                                                                                                                                                                                                                                                                                   Where’s Durham—what ever happened to the Durham Report?\\n   \n",
       "4                                                                                                                                                                                                                                                                                                                                                                                                                                                                                                                                                                                                                                                                                                                                                                                                                                                                                                                                                                                                                                                                                                                                                                                                                                                                                                                                                                                                                                                                                                                          The lackluster Attorney General of Arizona, Mark Brnovich, has to get on the ball and catch up with the great Republican Patriots in the Arizona State Senate. As massive crime in the 2020 Election is becoming more and more evident and obvious, Brnovich is nowhere to be found. He is always on television promoting himself, but never mentions the Crime of the Century, that took place during the 2020 Presidential Election, which was Rigged and Stolen. Arizona was a big part and Brnovich must put himself in gear, or no Arizona Republican will vote for him in the upcoming elections. They will never forget, and neither will the great Patriots of our Nation!   \n",
       "\n",
       "  image  election            fulldate      time  \n",
       "0            True 2021-05-25 08:29:00  08:29:00  \n",
       "1            True 2021-05-24 20:30:00  20:30:00  \n",
       "2            True 2021-05-24 17:00:00  17:00:00  \n",
       "3           False 2021-05-22 15:39:00  15:39:00  \n",
       "4            True 2021-05-22 14:36:00  14:36:00  "
      ]
     },
     "execution_count": 36,
     "metadata": {},
     "output_type": "execute_result"
    }
   ],
   "source": [
    "df.head()"
   ]
  },
  {
   "cell_type": "markdown",
   "metadata": {},
   "source": [
    "### How many mention 'election'?"
   ]
  },
  {
   "cell_type": "code",
   "execution_count": 17,
   "metadata": {},
   "outputs": [],
   "source": [
    "df[\"election\"] = df[\"post\"].str.contains(\"election\") | df[\"post\"].str.contains(\n",
    "    \"Election\"\n",
    ")"
   ]
  },
  {
   "cell_type": "code",
   "execution_count": 18,
   "metadata": {},
   "outputs": [
    {
     "data": {
      "text/plain": [
       "29"
      ]
     },
     "execution_count": 18,
     "metadata": {},
     "output_type": "execute_result"
    }
   ],
   "source": [
    "len(df[df[\"election\"] == True])"
   ]
  },
  {
   "cell_type": "markdown",
   "metadata": {},
   "source": [
    "### Clean up the dates"
   ]
  },
  {
   "cell_type": "code",
   "execution_count": 19,
   "metadata": {},
   "outputs": [],
   "source": [
    "df[\"fulldate\"] = pd.to_datetime(df[\"date\"])\n",
    "df[\"date\"] = df[\"fulldate\"].dt.date\n",
    "df[\"time\"] = df[\"fulldate\"].dt.time"
   ]
  },
  {
   "cell_type": "code",
   "execution_count": 20,
   "metadata": {},
   "outputs": [],
   "source": [
    "post_urls = list(df[\"url\"])"
   ]
  },
  {
   "cell_type": "markdown",
   "metadata": {},
   "source": [
    "---"
   ]
  },
  {
   "cell_type": "markdown",
   "metadata": {},
   "source": [
    "### Posts per day "
   ]
  },
  {
   "cell_type": "code",
   "execution_count": 21,
   "metadata": {},
   "outputs": [],
   "source": [
    "election = df.groupby([\"date\", \"election\"]).agg({\"author\": \"size\"}).reset_index()"
   ]
  },
  {
   "cell_type": "code",
   "execution_count": 22,
   "metadata": {},
   "outputs": [
    {
     "data": {
      "text/html": [
       "<div>\n",
       "<style scoped>\n",
       "    .dataframe tbody tr th:only-of-type {\n",
       "        vertical-align: middle;\n",
       "    }\n",
       "\n",
       "    .dataframe tbody tr th {\n",
       "        vertical-align: top;\n",
       "    }\n",
       "\n",
       "    .dataframe thead th {\n",
       "        text-align: right;\n",
       "    }\n",
       "</style>\n",
       "<table border=\"1\" class=\"dataframe\">\n",
       "  <thead>\n",
       "    <tr style=\"text-align: right;\">\n",
       "      <th></th>\n",
       "      <th>date</th>\n",
       "      <th>election</th>\n",
       "      <th>author</th>\n",
       "    </tr>\n",
       "  </thead>\n",
       "  <tbody>\n",
       "    <tr>\n",
       "      <th>0</th>\n",
       "      <td>2021-03-24</td>\n",
       "      <td>True</td>\n",
       "      <td>1</td>\n",
       "    </tr>\n",
       "    <tr>\n",
       "      <th>1</th>\n",
       "      <td>2021-03-26</td>\n",
       "      <td>True</td>\n",
       "      <td>1</td>\n",
       "    </tr>\n",
       "    <tr>\n",
       "      <th>2</th>\n",
       "      <td>2021-03-30</td>\n",
       "      <td>True</td>\n",
       "      <td>1</td>\n",
       "    </tr>\n",
       "    <tr>\n",
       "      <th>3</th>\n",
       "      <td>2021-04-02</td>\n",
       "      <td>True</td>\n",
       "      <td>2</td>\n",
       "    </tr>\n",
       "    <tr>\n",
       "      <th>4</th>\n",
       "      <td>2021-04-03</td>\n",
       "      <td>True</td>\n",
       "      <td>1</td>\n",
       "    </tr>\n",
       "  </tbody>\n",
       "</table>\n",
       "</div>"
      ],
      "text/plain": [
       "         date  election  author\n",
       "0  2021-03-24      True       1\n",
       "1  2021-03-26      True       1\n",
       "2  2021-03-30      True       1\n",
       "3  2021-04-02      True       2\n",
       "4  2021-04-03      True       1"
      ]
     },
     "execution_count": 22,
     "metadata": {},
     "output_type": "execute_result"
    }
   ],
   "source": [
    "election.head()"
   ]
  },
  {
   "cell_type": "code",
   "execution_count": 23,
   "metadata": {},
   "outputs": [],
   "source": [
    "daily = df.groupby([\"date\"])[\"author\"].count().reset_index(name=\"count\")"
   ]
  },
  {
   "cell_type": "code",
   "execution_count": 24,
   "metadata": {},
   "outputs": [],
   "source": [
    "daily.rename(columns={\"author\": \"count\"}, inplace=True)"
   ]
  },
  {
   "cell_type": "code",
   "execution_count": 25,
   "metadata": {},
   "outputs": [],
   "source": [
    "daily[\"seven-day-avg\"] = daily[\"count\"].rolling(7).mean()"
   ]
  },
  {
   "cell_type": "code",
   "execution_count": 26,
   "metadata": {},
   "outputs": [],
   "source": [
    "daily[\"date\"] = pd.to_datetime(daily[\"date\"])"
   ]
  },
  {
   "cell_type": "code",
   "execution_count": 27,
   "metadata": {},
   "outputs": [
    {
     "data": {
      "text/html": [
       "<div>\n",
       "<style scoped>\n",
       "    .dataframe tbody tr th:only-of-type {\n",
       "        vertical-align: middle;\n",
       "    }\n",
       "\n",
       "    .dataframe tbody tr th {\n",
       "        vertical-align: top;\n",
       "    }\n",
       "\n",
       "    .dataframe thead th {\n",
       "        text-align: right;\n",
       "    }\n",
       "</style>\n",
       "<table border=\"1\" class=\"dataframe\">\n",
       "  <thead>\n",
       "    <tr style=\"text-align: right;\">\n",
       "      <th></th>\n",
       "      <th>date</th>\n",
       "      <th>count</th>\n",
       "      <th>seven-day-avg</th>\n",
       "    </tr>\n",
       "  </thead>\n",
       "  <tbody>\n",
       "    <tr>\n",
       "      <th>23</th>\n",
       "      <td>2021-05-03</td>\n",
       "      <td>4</td>\n",
       "      <td>1.857143</td>\n",
       "    </tr>\n",
       "    <tr>\n",
       "      <th>25</th>\n",
       "      <td>2021-05-05</td>\n",
       "      <td>4</td>\n",
       "      <td>2.142857</td>\n",
       "    </tr>\n",
       "    <tr>\n",
       "      <th>26</th>\n",
       "      <td>2021-05-19</td>\n",
       "      <td>3</td>\n",
       "      <td>2.142857</td>\n",
       "    </tr>\n",
       "    <tr>\n",
       "      <th>8</th>\n",
       "      <td>2021-04-07</td>\n",
       "      <td>3</td>\n",
       "      <td>1.571429</td>\n",
       "    </tr>\n",
       "    <tr>\n",
       "      <th>9</th>\n",
       "      <td>2021-04-08</td>\n",
       "      <td>3</td>\n",
       "      <td>1.857143</td>\n",
       "    </tr>\n",
       "  </tbody>\n",
       "</table>\n",
       "</div>"
      ],
      "text/plain": [
       "         date  count  seven-day-avg\n",
       "23 2021-05-03      4       1.857143\n",
       "25 2021-05-05      4       2.142857\n",
       "26 2021-05-19      3       2.142857\n",
       "8  2021-04-07      3       1.571429\n",
       "9  2021-04-08      3       1.857143"
      ]
     },
     "execution_count": 27,
     "metadata": {},
     "output_type": "execute_result"
    }
   ],
   "source": [
    "daily.sort_values(\"count\", ascending=False).head()"
   ]
  },
  {
   "cell_type": "markdown",
   "metadata": {},
   "source": [
    "### Chart it!"
   ]
  },
  {
   "cell_type": "code",
   "execution_count": 28,
   "metadata": {},
   "outputs": [
    {
     "data": {
      "text/html": [
       "\n",
       "<div id=\"altair-viz-3809c48b67804f9d81b5f465d1ed8a39\"></div>\n",
       "<script type=\"text/javascript\">\n",
       "  (function(spec, embedOpt){\n",
       "    let outputDiv = document.currentScript.previousElementSibling;\n",
       "    if (outputDiv.id !== \"altair-viz-3809c48b67804f9d81b5f465d1ed8a39\") {\n",
       "      outputDiv = document.getElementById(\"altair-viz-3809c48b67804f9d81b5f465d1ed8a39\");\n",
       "    }\n",
       "    const paths = {\n",
       "      \"vega\": \"https://cdn.jsdelivr.net/npm//vega@5?noext\",\n",
       "      \"vega-lib\": \"https://cdn.jsdelivr.net/npm//vega-lib?noext\",\n",
       "      \"vega-lite\": \"https://cdn.jsdelivr.net/npm//vega-lite@4.8.1?noext\",\n",
       "      \"vega-embed\": \"https://cdn.jsdelivr.net/npm//vega-embed@6?noext\",\n",
       "    };\n",
       "\n",
       "    function loadScript(lib) {\n",
       "      return new Promise(function(resolve, reject) {\n",
       "        var s = document.createElement('script');\n",
       "        s.src = paths[lib];\n",
       "        s.async = true;\n",
       "        s.onload = () => resolve(paths[lib]);\n",
       "        s.onerror = () => reject(`Error loading script: ${paths[lib]}`);\n",
       "        document.getElementsByTagName(\"head\")[0].appendChild(s);\n",
       "      });\n",
       "    }\n",
       "\n",
       "    function showError(err) {\n",
       "      outputDiv.innerHTML = `<div class=\"error\" style=\"color:red;\">${err}</div>`;\n",
       "      throw err;\n",
       "    }\n",
       "\n",
       "    function displayChart(vegaEmbed) {\n",
       "      vegaEmbed(outputDiv, spec, embedOpt)\n",
       "        .catch(err => showError(`Javascript Error: ${err.message}<br>This usually means there's a typo in your chart specification. See the javascript console for the full traceback.`));\n",
       "    }\n",
       "\n",
       "    if(typeof define === \"function\" && define.amd) {\n",
       "      requirejs.config({paths});\n",
       "      require([\"vega-embed\"], displayChart, err => showError(`Error loading script: ${err.message}`));\n",
       "    } else if (typeof vegaEmbed === \"function\") {\n",
       "      displayChart(vegaEmbed);\n",
       "    } else {\n",
       "      loadScript(\"vega\")\n",
       "        .then(() => loadScript(\"vega-lite\"))\n",
       "        .then(() => loadScript(\"vega-embed\"))\n",
       "        .catch(showError)\n",
       "        .then(() => displayChart(vegaEmbed));\n",
       "    }\n",
       "  })({\"config\": {\"view\": {\"width\": 800, \"height\": 450, \"strokeOpacity\": 0}, \"background\": \"#ffffff\", \"title\": {\"anchor\": \"start\", \"font\": \"BentonGothic-Bold, sans\", \"fontColor\": \"#000000\", \"fontSize\": 22, \"fontWeight\": \"normal\"}, \"arc\": {\"fill\": \"#82c6df\"}, \"area\": {\"fill\": \"#82c6df\"}, \"line\": {\"stroke\": \"#82c6df\", \"strokeWidth\": 3}, \"path\": {\"stroke\": \"#82c6df\"}, \"rect\": {\"fill\": \"#82c6df\"}, \"shape\": {\"stroke\": \"#82c6df\"}, \"bar\": {\"fill\": \"#82c6df\"}, \"point\": {\"stroke\": \"#82c6df\"}, \"symbol\": {\"fill\": \"#82c6df\", \"size\": 30}, \"axis\": {\"titleFont\": \"BentonGothic-Bold, sans\", \"titleFontSize\": 14, \"titleFontWeight\": \"normal\", \"labelFont\": \"BentonGothic, sans\", \"labelFontSize\": 12, \"labelFontWeight\": \"normal\"}, \"axisX\": {\"labelAngle\": 0, \"labelPadding\": 4, \"tickSize\": 3}, \"axisY\": {\"labelBaseline\": \"middle\", \"maxExtent\": 45, \"minExtent\": 45, \"tickSize\": 2, \"titleAlign\": \"left\", \"titleAngle\": 0, \"titleX\": -45, \"titleY\": -11}, \"legend\": {\"titleFont\": \"BentonGothic-Bold, sans\", \"titleFontSize\": 14, \"titleFontWeight\": \"normal\", \"symbolType\": \"square\", \"labelFont\": \"BentonGothic, sans\", \"labelFontSize\": 13}, \"range\": {\"category\": [\"#3580b1\", \"#ec8431\", \"#ab7fb4\", \"#c89d29\", \"#adc839\", \"#829eb1\"], \"diverging\": [\"#e68a4f\", \"#f4bb6a\", \"#f9e39c\", \"#dadfe2\", \"#a6b7c6\", \"#849eae\"], \"heatmap\": [\"#fbf2c7\", \"#f9e39c\", \"#f8d36e\", \"#f4bb6a\", \"#e68a4f\", \"#d15a40\", \"#ab4232\"], \"ordinal\": [\"#fbf2c7\", \"#f9e39c\", \"#f8d36e\", \"#f4bb6a\", \"#e68a4f\", \"#d15a40\", \"#ab4232\"], \"ramp\": [\"#fbf2c7\", \"#f9e39c\", \"#f8d36e\", \"#f4bb6a\", \"#e68a4f\", \"#d15a40\", \"#ab4232\"]}}, \"layer\": [{\"mark\": {\"type\": \"bar\", \"size\": 10}, \"encoding\": {\"x\": {\"type\": \"temporal\", \"axis\": {\"format\": \"%B %-d\", \"grid\": false, \"tickCount\": 5, \"title\": \"\"}, \"field\": \"date\"}, \"y\": {\"type\": \"quantitative\", \"axis\": {\"domainOpacity\": 0, \"gridColor\": \"#dddddd\", \"offset\": 6, \"tickCount\": 3, \"tickSize\": 0, \"title\": \"Daily post count and seven-day average\"}, \"field\": \"count\", \"scale\": {\"domain\": [0, 5]}}}, \"title\": \"Trump posts to the 'desk' since it launched\"}, {\"mark\": {\"type\": \"line\", \"color\": \"red\"}, \"encoding\": {\"x\": {\"type\": \"temporal\", \"axis\": {\"format\": \"%B %-d\", \"grid\": false, \"tickCount\": 5, \"title\": \"\"}, \"field\": \"date\"}, \"y\": {\"type\": \"quantitative\", \"field\": \"seven-day-avg\"}}}], \"data\": {\"name\": \"data-e679936dca53ba2e6566d9638782bc93\"}, \"height\": 350, \"width\": 600, \"$schema\": \"https://vega.github.io/schema/vega-lite/v4.8.1.json\", \"datasets\": {\"data-e679936dca53ba2e6566d9638782bc93\": [{\"date\": \"2021-03-24T00:00:00\", \"count\": 1, \"seven-day-avg\": null}, {\"date\": \"2021-03-26T00:00:00\", \"count\": 1, \"seven-day-avg\": null}, {\"date\": \"2021-03-30T00:00:00\", \"count\": 1, \"seven-day-avg\": null}, {\"date\": \"2021-04-02T00:00:00\", \"count\": 2, \"seven-day-avg\": null}, {\"date\": \"2021-04-03T00:00:00\", \"count\": 1, \"seven-day-avg\": null}, {\"date\": \"2021-04-04T00:00:00\", \"count\": 1, \"seven-day-avg\": null}, {\"date\": \"2021-04-05T00:00:00\", \"count\": 2, \"seven-day-avg\": 1.2857142857142858}, {\"date\": \"2021-04-06T00:00:00\", \"count\": 1, \"seven-day-avg\": 1.2857142857142858}, {\"date\": \"2021-04-07T00:00:00\", \"count\": 3, \"seven-day-avg\": 1.5714285714285714}, {\"date\": \"2021-04-08T00:00:00\", \"count\": 3, \"seven-day-avg\": 1.8571428571428572}, {\"date\": \"2021-04-09T00:00:00\", \"count\": 1, \"seven-day-avg\": 1.7142857142857142}, {\"date\": \"2021-04-12T00:00:00\", \"count\": 2, \"seven-day-avg\": 1.8571428571428572}, {\"date\": \"2021-04-13T00:00:00\", \"count\": 2, \"seven-day-avg\": 2.0}, {\"date\": \"2021-04-14T00:00:00\", \"count\": 1, \"seven-day-avg\": 1.8571428571428572}, {\"date\": \"2021-04-15T00:00:00\", \"count\": 1, \"seven-day-avg\": 1.8571428571428572}, {\"date\": \"2021-04-20T00:00:00\", \"count\": 1, \"seven-day-avg\": 1.5714285714285714}, {\"date\": \"2021-04-23T00:00:00\", \"count\": 2, \"seven-day-avg\": 1.4285714285714286}, {\"date\": \"2021-04-24T00:00:00\", \"count\": 2, \"seven-day-avg\": 1.5714285714285714}, {\"date\": \"2021-04-26T00:00:00\", \"count\": 1, \"seven-day-avg\": 1.4285714285714286}, {\"date\": \"2021-04-27T00:00:00\", \"count\": 3, \"seven-day-avg\": 1.5714285714285714}, {\"date\": \"2021-04-28T00:00:00\", \"count\": 1, \"seven-day-avg\": 1.5714285714285714}, {\"date\": \"2021-04-30T00:00:00\", \"count\": 1, \"seven-day-avg\": 1.5714285714285714}, {\"date\": \"2021-05-01T00:00:00\", \"count\": 1, \"seven-day-avg\": 1.5714285714285714}, {\"date\": \"2021-05-03T00:00:00\", \"count\": 4, \"seven-day-avg\": 1.8571428571428572}, {\"date\": \"2021-05-04T00:00:00\", \"count\": 1, \"seven-day-avg\": 1.7142857142857142}, {\"date\": \"2021-05-05T00:00:00\", \"count\": 4, \"seven-day-avg\": 2.142857142857143}, {\"date\": \"2021-05-19T00:00:00\", \"count\": 3, \"seven-day-avg\": 2.142857142857143}, {\"date\": \"2021-05-20T00:00:00\", \"count\": 1, \"seven-day-avg\": 2.142857142857143}, {\"date\": \"2021-05-21T00:00:00\", \"count\": 1, \"seven-day-avg\": 2.142857142857143}, {\"date\": \"2021-05-22T00:00:00\", \"count\": 2, \"seven-day-avg\": 2.2857142857142856}, {\"date\": \"2021-05-24T00:00:00\", \"count\": 2, \"seven-day-avg\": 2.0}, {\"date\": \"2021-05-25T00:00:00\", \"count\": 1, \"seven-day-avg\": 2.0}]}}, {\"mode\": \"vega-lite\"});\n",
       "</script>"
      ],
      "text/plain": [
       "alt.LayerChart(...)"
      ]
     },
     "execution_count": 28,
     "metadata": {},
     "output_type": "execute_result"
    }
   ],
   "source": [
    "bars = (\n",
    "    alt.Chart(\n",
    "        daily,\n",
    "        title=\"Trump posts to the 'desk' since it launched\",\n",
    "    )\n",
    "    .mark_bar(size=10)\n",
    "    .encode(\n",
    "        x=alt.X(\n",
    "            \"date:T\",\n",
    "            axis=alt.Axis(grid=False, title=\"\", tickCount=5, format=(\"%B %-d\")),\n",
    "        ),\n",
    "        y=alt.Y(\n",
    "            \"count:Q\",\n",
    "            scale=alt.Scale(domain=(0, len(\"count\"))),\n",
    "            axis=alt.Axis(\n",
    "                gridColor=\"#dddddd\",\n",
    "                offset=6,\n",
    "                tickSize=0,\n",
    "                domainOpacity=0,\n",
    "                tickCount=3,\n",
    "                title=\"Daily post count and seven-day average\",\n",
    "            ),\n",
    "        ),\n",
    "    )\n",
    ")\n",
    "\n",
    "rolling = (\n",
    "    alt.Chart(daily)\n",
    "    .mark_line(color=\"red\")\n",
    "    .encode(\n",
    "        y=\"seven-day-avg\",\n",
    "        x=alt.X(\n",
    "            \"date:T\",\n",
    "            axis=alt.Axis(grid=False, title=\"\", tickCount=5, format=(\"%B %-d\")),\n",
    "        ),\n",
    "    )\n",
    ")\n",
    "\n",
    "(bars + rolling).properties(height=350, width=600).configure_view(strokeOpacity=0)"
   ]
  },
  {
   "cell_type": "code",
   "execution_count": 29,
   "metadata": {},
   "outputs": [],
   "source": [
    "election[\"date\"] = pd.to_datetime(election[\"date\"])"
   ]
  },
  {
   "cell_type": "code",
   "execution_count": 30,
   "metadata": {},
   "outputs": [
    {
     "data": {
      "text/html": [
       "\n",
       "<div id=\"altair-viz-a66a1f89cb464b4b9dca21387cf513bd\"></div>\n",
       "<script type=\"text/javascript\">\n",
       "  (function(spec, embedOpt){\n",
       "    let outputDiv = document.currentScript.previousElementSibling;\n",
       "    if (outputDiv.id !== \"altair-viz-a66a1f89cb464b4b9dca21387cf513bd\") {\n",
       "      outputDiv = document.getElementById(\"altair-viz-a66a1f89cb464b4b9dca21387cf513bd\");\n",
       "    }\n",
       "    const paths = {\n",
       "      \"vega\": \"https://cdn.jsdelivr.net/npm//vega@5?noext\",\n",
       "      \"vega-lib\": \"https://cdn.jsdelivr.net/npm//vega-lib?noext\",\n",
       "      \"vega-lite\": \"https://cdn.jsdelivr.net/npm//vega-lite@4.8.1?noext\",\n",
       "      \"vega-embed\": \"https://cdn.jsdelivr.net/npm//vega-embed@6?noext\",\n",
       "    };\n",
       "\n",
       "    function loadScript(lib) {\n",
       "      return new Promise(function(resolve, reject) {\n",
       "        var s = document.createElement('script');\n",
       "        s.src = paths[lib];\n",
       "        s.async = true;\n",
       "        s.onload = () => resolve(paths[lib]);\n",
       "        s.onerror = () => reject(`Error loading script: ${paths[lib]}`);\n",
       "        document.getElementsByTagName(\"head\")[0].appendChild(s);\n",
       "      });\n",
       "    }\n",
       "\n",
       "    function showError(err) {\n",
       "      outputDiv.innerHTML = `<div class=\"error\" style=\"color:red;\">${err}</div>`;\n",
       "      throw err;\n",
       "    }\n",
       "\n",
       "    function displayChart(vegaEmbed) {\n",
       "      vegaEmbed(outputDiv, spec, embedOpt)\n",
       "        .catch(err => showError(`Javascript Error: ${err.message}<br>This usually means there's a typo in your chart specification. See the javascript console for the full traceback.`));\n",
       "    }\n",
       "\n",
       "    if(typeof define === \"function\" && define.amd) {\n",
       "      requirejs.config({paths});\n",
       "      require([\"vega-embed\"], displayChart, err => showError(`Error loading script: ${err.message}`));\n",
       "    } else if (typeof vegaEmbed === \"function\") {\n",
       "      displayChart(vegaEmbed);\n",
       "    } else {\n",
       "      loadScript(\"vega\")\n",
       "        .then(() => loadScript(\"vega-lite\"))\n",
       "        .then(() => loadScript(\"vega-embed\"))\n",
       "        .catch(showError)\n",
       "        .then(() => displayChart(vegaEmbed));\n",
       "    }\n",
       "  })({\"config\": {\"view\": {\"width\": 800, \"height\": 450, \"strokeOpacity\": 0}, \"background\": \"#ffffff\", \"title\": {\"anchor\": \"start\", \"font\": \"BentonGothic-Bold, sans\", \"fontColor\": \"#000000\", \"fontSize\": 22, \"fontWeight\": \"normal\"}, \"arc\": {\"fill\": \"#82c6df\"}, \"area\": {\"fill\": \"#82c6df\"}, \"line\": {\"stroke\": \"#82c6df\", \"strokeWidth\": 3}, \"path\": {\"stroke\": \"#82c6df\"}, \"rect\": {\"fill\": \"#82c6df\"}, \"shape\": {\"stroke\": \"#82c6df\"}, \"bar\": {\"fill\": \"#82c6df\"}, \"point\": {\"stroke\": \"#82c6df\"}, \"symbol\": {\"fill\": \"#82c6df\", \"size\": 30}, \"axis\": {\"titleFont\": \"BentonGothic-Bold, sans\", \"titleFontSize\": 14, \"titleFontWeight\": \"normal\", \"labelFont\": \"BentonGothic, sans\", \"labelFontSize\": 12, \"labelFontWeight\": \"normal\"}, \"axisX\": {\"labelAngle\": 0, \"labelPadding\": 4, \"tickSize\": 3}, \"axisY\": {\"labelBaseline\": \"middle\", \"maxExtent\": 45, \"minExtent\": 45, \"tickSize\": 2, \"titleAlign\": \"left\", \"titleAngle\": 0, \"titleX\": -45, \"titleY\": -11}, \"legend\": {\"titleFont\": \"BentonGothic-Bold, sans\", \"titleFontSize\": 14, \"titleFontWeight\": \"normal\", \"symbolType\": \"square\", \"labelFont\": \"BentonGothic, sans\", \"labelFontSize\": 13}, \"range\": {\"category\": [\"#3580b1\", \"#ec8431\", \"#ab7fb4\", \"#c89d29\", \"#adc839\", \"#829eb1\"], \"diverging\": [\"#e68a4f\", \"#f4bb6a\", \"#f9e39c\", \"#dadfe2\", \"#a6b7c6\", \"#849eae\"], \"heatmap\": [\"#fbf2c7\", \"#f9e39c\", \"#f8d36e\", \"#f4bb6a\", \"#e68a4f\", \"#d15a40\", \"#ab4232\"], \"ordinal\": [\"#fbf2c7\", \"#f9e39c\", \"#f8d36e\", \"#f4bb6a\", \"#e68a4f\", \"#d15a40\", \"#ab4232\"], \"ramp\": [\"#fbf2c7\", \"#f9e39c\", \"#f8d36e\", \"#f4bb6a\", \"#e68a4f\", \"#d15a40\", \"#ab4232\"]}}, \"data\": {\"name\": \"data-593053ec236ef9d413a0de4f5b3c1215\"}, \"mark\": {\"type\": \"bar\", \"size\": 10}, \"encoding\": {\"color\": {\"type\": \"nominal\", \"field\": \"election\", \"scale\": {\"domain\": [\"true\", \"false\"], \"range\": [\"#f1a340\", \"#998ec3\"]}, \"title\": \"About election?\"}, \"x\": {\"type\": \"temporal\", \"axis\": {\"format\": \"%B %-d\", \"grid\": false, \"tickCount\": 5, \"title\": \"\"}, \"field\": \"date\"}, \"y\": {\"type\": \"quantitative\", \"axis\": {\"domainOpacity\": 0, \"gridColor\": \"#dddddd\", \"offset\": 6, \"tickCount\": 3, \"tickSize\": 0, \"title\": \"Daily post count\"}, \"field\": \"author\", \"scale\": {\"domain\": [0, 8]}}}, \"height\": 350, \"title\": \"Trump posts to the 'desk' re: election\", \"width\": 600, \"$schema\": \"https://vega.github.io/schema/vega-lite/v4.8.1.json\", \"datasets\": {\"data-593053ec236ef9d413a0de4f5b3c1215\": [{\"date\": \"2021-03-24T00:00:00\", \"election\": true, \"author\": 1}, {\"date\": \"2021-03-26T00:00:00\", \"election\": true, \"author\": 1}, {\"date\": \"2021-03-30T00:00:00\", \"election\": true, \"author\": 1}, {\"date\": \"2021-04-02T00:00:00\", \"election\": true, \"author\": 2}, {\"date\": \"2021-04-03T00:00:00\", \"election\": true, \"author\": 1}, {\"date\": \"2021-04-04T00:00:00\", \"election\": true, \"author\": 1}, {\"date\": \"2021-04-05T00:00:00\", \"election\": true, \"author\": 2}, {\"date\": \"2021-04-06T00:00:00\", \"election\": true, \"author\": 1}, {\"date\": \"2021-04-07T00:00:00\", \"election\": false, \"author\": 2}, {\"date\": \"2021-04-07T00:00:00\", \"election\": true, \"author\": 1}, {\"date\": \"2021-04-08T00:00:00\", \"election\": false, \"author\": 3}, {\"date\": \"2021-04-09T00:00:00\", \"election\": false, \"author\": 1}, {\"date\": \"2021-04-12T00:00:00\", \"election\": false, \"author\": 1}, {\"date\": \"2021-04-12T00:00:00\", \"election\": true, \"author\": 1}, {\"date\": \"2021-04-13T00:00:00\", \"election\": false, \"author\": 1}, {\"date\": \"2021-04-13T00:00:00\", \"election\": true, \"author\": 1}, {\"date\": \"2021-04-14T00:00:00\", \"election\": false, \"author\": 1}, {\"date\": \"2021-04-15T00:00:00\", \"election\": true, \"author\": 1}, {\"date\": \"2021-04-20T00:00:00\", \"election\": false, \"author\": 1}, {\"date\": \"2021-04-23T00:00:00\", \"election\": false, \"author\": 1}, {\"date\": \"2021-04-23T00:00:00\", \"election\": true, \"author\": 1}, {\"date\": \"2021-04-24T00:00:00\", \"election\": true, \"author\": 2}, {\"date\": \"2021-04-26T00:00:00\", \"election\": true, \"author\": 1}, {\"date\": \"2021-04-27T00:00:00\", \"election\": false, \"author\": 1}, {\"date\": \"2021-04-27T00:00:00\", \"election\": true, \"author\": 2}, {\"date\": \"2021-04-28T00:00:00\", \"election\": false, \"author\": 1}, {\"date\": \"2021-04-30T00:00:00\", \"election\": false, \"author\": 1}, {\"date\": \"2021-05-01T00:00:00\", \"election\": true, \"author\": 1}, {\"date\": \"2021-05-03T00:00:00\", \"election\": false, \"author\": 2}, {\"date\": \"2021-05-03T00:00:00\", \"election\": true, \"author\": 2}, {\"date\": \"2021-05-04T00:00:00\", \"election\": false, \"author\": 1}, {\"date\": \"2021-05-05T00:00:00\", \"election\": false, \"author\": 3}, {\"date\": \"2021-05-05T00:00:00\", \"election\": true, \"author\": 1}, {\"date\": \"2021-05-19T00:00:00\", \"election\": false, \"author\": 2}, {\"date\": \"2021-05-19T00:00:00\", \"election\": true, \"author\": 1}, {\"date\": \"2021-05-20T00:00:00\", \"election\": false, \"author\": 1}, {\"date\": \"2021-05-21T00:00:00\", \"election\": false, \"author\": 1}, {\"date\": \"2021-05-22T00:00:00\", \"election\": false, \"author\": 1}, {\"date\": \"2021-05-22T00:00:00\", \"election\": true, \"author\": 1}, {\"date\": \"2021-05-24T00:00:00\", \"election\": true, \"author\": 2}, {\"date\": \"2021-05-25T00:00:00\", \"election\": true, \"author\": 1}]}}, {\"mode\": \"vega-lite\"});\n",
       "</script>"
      ],
      "text/plain": [
       "alt.Chart(...)"
      ]
     },
     "execution_count": 30,
     "metadata": {},
     "output_type": "execute_result"
    }
   ],
   "source": [
    "bars_elex = (\n",
    "    alt.Chart(\n",
    "        election,\n",
    "        title=\"Trump posts to the 'desk' re: election\",\n",
    "    )\n",
    "    .mark_bar(size=10)\n",
    "    .encode(\n",
    "        x=alt.X(\n",
    "            \"date:T\",\n",
    "            axis=alt.Axis(grid=False, title=\"\", tickCount=5, format=(\"%B %-d\")),\n",
    "        ),\n",
    "        y=alt.Y(\n",
    "            \"author:Q\",\n",
    "            scale=alt.Scale(domain=(0, len(\"author:Q\"))),\n",
    "            axis=alt.Axis(\n",
    "                gridColor=\"#dddddd\",\n",
    "                offset=6,\n",
    "                tickSize=0,\n",
    "                domainOpacity=0,\n",
    "                tickCount=3,\n",
    "                title=\"Daily post count\",\n",
    "            ),\n",
    "        ),\n",
    "        color=alt.Color(\n",
    "            \"election\",\n",
    "            title=\"About election?\",\n",
    "            scale=alt.Scale(domain=[\"true\", \"false\"], range=[\"#f1a340\", \"#998ec3\"]),\n",
    "        ),\n",
    "    )\n",
    ")\n",
    "\n",
    "(bars_elex).properties(height=350, width=600).configure_view(strokeOpacity=0)"
   ]
  },
  {
   "cell_type": "code",
   "execution_count": 31,
   "metadata": {},
   "outputs": [],
   "source": [
    "(bars + rolling).properties(height=350, width=600).configure_view(strokeOpacity=0).save(\n",
    "    \"visuals/daily_posts.png\"\n",
    ")"
   ]
  },
  {
   "cell_type": "code",
   "execution_count": 32,
   "metadata": {},
   "outputs": [],
   "source": [
    "(bars_elex).properties(height=350, width=600).configure_view(strokeOpacity=0).save(\n",
    "    \"visuals/daily_posts_re_election.png\"\n",
    ")"
   ]
  },
  {
   "cell_type": "markdown",
   "metadata": {},
   "source": [
    "---"
   ]
  },
  {
   "cell_type": "markdown",
   "metadata": {},
   "source": [
    "### Exports"
   ]
  },
  {
   "cell_type": "code",
   "execution_count": 33,
   "metadata": {},
   "outputs": [],
   "source": [
    "today = dt.date.today().strftime(\"%m-%d-%Y\")"
   ]
  },
  {
   "cell_type": "code",
   "execution_count": 34,
   "metadata": {},
   "outputs": [],
   "source": [
    "df.to_csv(\"archive/posts_\" + str(today) + \".csv\", index=False)\n",
    "df.to_csv(\"output/allposts.csv\", index=False)"
   ]
  }
 ],
 "metadata": {
  "kernelspec": {
   "display_name": "Python 3",
   "language": "python",
   "name": "python3"
  },
  "language_info": {
   "codemirror_mode": {
    "name": "ipython",
    "version": 3
   },
   "file_extension": ".py",
   "mimetype": "text/x-python",
   "name": "python",
   "nbconvert_exporter": "python",
   "pygments_lexer": "ipython3",
   "version": "3.8.2"
  }
 },
 "nbformat": 4,
 "nbformat_minor": 4
}
