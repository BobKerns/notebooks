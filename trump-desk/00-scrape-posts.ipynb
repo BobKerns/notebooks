{
 "cells": [
  {
   "cell_type": "markdown",
   "metadata": {},
   "source": [
    "# Scraping former President Trump's 'desk'"
   ]
  },
  {
   "cell_type": "markdown",
   "metadata": {},
   "source": [
    "### Import Python tools and Jupyter configuration"
   ]
  },
  {
   "cell_type": "code",
   "execution_count": 1,
   "metadata": {},
   "outputs": [],
   "source": [
    "%load_ext lab_black"
   ]
  },
  {
   "cell_type": "code",
   "execution_count": 2,
   "metadata": {},
   "outputs": [],
   "source": [
    "import pandas as pd\n",
    "import requests\n",
    "from bs4 import BeautifulSoup\n",
    "import re\n",
    "import datetime as dt\n",
    "import tweepy"
   ]
  },
  {
   "cell_type": "code",
   "execution_count": 3,
   "metadata": {},
   "outputs": [],
   "source": [
    "import altair as alt\n",
    "import altair_latimes as lat\n",
    "import matplotlib.pyplot as plt"
   ]
  },
  {
   "cell_type": "code",
   "execution_count": 4,
   "metadata": {},
   "outputs": [
    {
     "data": {
      "text/plain": [
       "ThemeRegistry.enable('latimes')"
      ]
     },
     "execution_count": 4,
     "metadata": {},
     "output_type": "execute_result"
    }
   ],
   "source": [
    "alt.themes.register(\"latimes\", lat.theme)\n",
    "alt.themes.enable(\"latimes\")"
   ]
  },
  {
   "cell_type": "code",
   "execution_count": 5,
   "metadata": {},
   "outputs": [],
   "source": [
    "pd.options.display.max_columns = 100\n",
    "pd.options.display.max_rows = 1000\n",
    "alt.data_transformers.disable_max_rows()\n",
    "pd.options.display.max_colwidth = None"
   ]
  },
  {
   "cell_type": "markdown",
   "metadata": {},
   "source": [
    "---"
   ]
  },
  {
   "cell_type": "markdown",
   "metadata": {},
   "source": [
    "### Read the page"
   ]
  },
  {
   "cell_type": "code",
   "execution_count": 6,
   "metadata": {},
   "outputs": [],
   "source": [
    "r = requests.get(\"https://www.donaldjtrump.com/desk\")\n",
    "soup = BeautifulSoup(r.text, \"html.parser\")"
   ]
  },
  {
   "cell_type": "markdown",
   "metadata": {},
   "source": [
    "### Grab everything from each post div"
   ]
  },
  {
   "cell_type": "code",
   "execution_count": 7,
   "metadata": {},
   "outputs": [],
   "source": [
    "rows = soup.find_all(\"div\", class_=\"ftdli-main ftd-d\")"
   ]
  },
  {
   "cell_type": "code",
   "execution_count": 8,
   "metadata": {},
   "outputs": [],
   "source": [
    "data = []\n",
    "for r in rows:\n",
    "    if r.find(\"img\") is not None:\n",
    "        image = r.find(\"img\")[\"src\"]\n",
    "    else:\n",
    "        image = \"\"\n",
    "    post_url = r.find(\"div\", class_=\"title ftd-d\").get(\"onclick\")\n",
    "    post = r.find(\"p\", class_=\"ftd-post-text\").text\n",
    "    author = r.find(\"h2\").text\n",
    "    date = r.find(\"div\", class_=\"date ftd-d\").text\n",
    "    raw = r.find(\"p\", class_=\"ftd-post-text\").text\n",
    "    data.append(\n",
    "        dict(\n",
    "            date=date,\n",
    "            url=post_url,\n",
    "            author=author,\n",
    "            post=post,\n",
    "            image=image,\n",
    "        )\n",
    "    )"
   ]
  },
  {
   "cell_type": "markdown",
   "metadata": {},
   "source": [
    "### First item from the dictionary"
   ]
  },
  {
   "cell_type": "code",
   "execution_count": 9,
   "metadata": {},
   "outputs": [
    {
     "data": {
      "text/plain": [
       "{'date': '\\n9:48am May 6, 2021\\n',\n",
       " 'url': \"location.href='/desk/desk-dqvrd5gscw/';\",\n",
       " 'author': 'Donald J. Trump',\n",
       " 'post': 'Congratulations to the great Patriots of Windham, New Hampshire for their incredible fight to seek out the truth on the massive Election Fraud which took place in New Hampshire and the 2020 Presidential Election. The spirit for transparency and justice is being displayed all over the Country by media outlets which do not represent Fake News. People are watching in droves as these Patriots work tirelessly to reveal the real facts of the most tainted and corrupt Election in American history. Congratulations Windham—look forward to seeing the results.',\n",
       " 'image': ''}"
      ]
     },
     "execution_count": 9,
     "metadata": {},
     "output_type": "execute_result"
    }
   ],
   "source": [
    "data[0]"
   ]
  },
  {
   "cell_type": "markdown",
   "metadata": {},
   "source": [
    "### Clean up before importing as a dataframe"
   ]
  },
  {
   "cell_type": "code",
   "execution_count": 10,
   "metadata": {},
   "outputs": [],
   "source": [
    "for d in data:\n",
    "    d[\"date\"] = d[\"date\"].replace(\"\\n\", \"\")\n",
    "    d[\"url\"] = (\n",
    "        d[\"url\"]\n",
    "        .replace(\"location.href='\", \"https://www.donaldjtrump.com\")\n",
    "        .replace(\"/';\", \"\")\n",
    "    )"
   ]
  },
  {
   "cell_type": "code",
   "execution_count": 11,
   "metadata": {},
   "outputs": [],
   "source": [
    "src = pd.DataFrame(data)"
   ]
  },
  {
   "cell_type": "markdown",
   "metadata": {},
   "source": [
    "---"
   ]
  },
  {
   "cell_type": "markdown",
   "metadata": {},
   "source": [
    "### Pull in early posts"
   ]
  },
  {
   "cell_type": "code",
   "execution_count": 12,
   "metadata": {},
   "outputs": [],
   "source": [
    "archive_df = pd.read_csv(\"input/archive.csv\")"
   ]
  },
  {
   "cell_type": "code",
   "execution_count": 13,
   "metadata": {},
   "outputs": [],
   "source": [
    "archive_df.drop([\"video\"], axis=1, inplace=True)"
   ]
  },
  {
   "cell_type": "code",
   "execution_count": 14,
   "metadata": {},
   "outputs": [],
   "source": [
    "df = pd.concat([src, archive_df]).drop_duplicates(subset=\"url\", keep=\"first\")"
   ]
  },
  {
   "cell_type": "code",
   "execution_count": 15,
   "metadata": {},
   "outputs": [
    {
     "data": {
      "text/plain": [
       "45"
      ]
     },
     "execution_count": 15,
     "metadata": {},
     "output_type": "execute_result"
    }
   ],
   "source": [
    "len(df)"
   ]
  },
  {
   "cell_type": "markdown",
   "metadata": {},
   "source": [
    "### Last five posts"
   ]
  },
  {
   "cell_type": "code",
   "execution_count": 16,
   "metadata": {},
   "outputs": [
    {
     "data": {
      "text/html": [
       "<div>\n",
       "<style scoped>\n",
       "    .dataframe tbody tr th:only-of-type {\n",
       "        vertical-align: middle;\n",
       "    }\n",
       "\n",
       "    .dataframe tbody tr th {\n",
       "        vertical-align: top;\n",
       "    }\n",
       "\n",
       "    .dataframe thead th {\n",
       "        text-align: right;\n",
       "    }\n",
       "</style>\n",
       "<table border=\"1\" class=\"dataframe\">\n",
       "  <thead>\n",
       "    <tr style=\"text-align: right;\">\n",
       "      <th></th>\n",
       "      <th>date</th>\n",
       "      <th>url</th>\n",
       "      <th>author</th>\n",
       "      <th>post</th>\n",
       "      <th>image</th>\n",
       "    </tr>\n",
       "  </thead>\n",
       "  <tbody>\n",
       "    <tr>\n",
       "      <th>0</th>\n",
       "      <td>9:48am May 6, 2021</td>\n",
       "      <td>https://www.donaldjtrump.com/desk/desk-dqvrd5gscw</td>\n",
       "      <td>Donald J. Trump</td>\n",
       "      <td>Congratulations to the great Patriots of Windham, New Hampshire for their incredible fight to seek out the truth on the massive Election Fraud which took place in New Hampshire and the 2020 Presidential Election. The spirit for transparency and justice is being displayed all over the Country by media outlets which do not represent Fake News. People are watching in droves as these Patriots work tirelessly to reveal the real facts of the most tainted and corrupt Election in American history. Congratulations Windham—look forward to seeing the results.</td>\n",
       "      <td></td>\n",
       "    </tr>\n",
       "    <tr>\n",
       "      <th>1</th>\n",
       "      <td>12:27pm May 5, 2021</td>\n",
       "      <td>https://www.donaldjtrump.com/desk/desk-sg5yzrmuvr</td>\n",
       "      <td>Donald J. Trump</td>\n",
       "      <td></td>\n",
       "      <td>https://cdn.donaldjtrump.com/djtweb/general/SA_EliseStefanik_EndorsementGraphic_Twitter.jpg</td>\n",
       "    </tr>\n",
       "    <tr>\n",
       "      <th>2</th>\n",
       "      <td>11:45am May 5, 2021</td>\n",
       "      <td>https://www.donaldjtrump.com/desk/desk-s9g4x7x8zk</td>\n",
       "      <td>Donald J. Trump</td>\n",
       "      <td>Liz Cheney is a warmongering fool who has no business in Republican Party Leadership. We want leaders who believe in the Make America Great Again movement, and prioritize the values of America First. Elise Stefanik is a far superior choice, and she has my COMPLETE and TOTAL endorsement for GOP Conference Chair. Elise is a tough and smart communicator!</td>\n",
       "      <td></td>\n",
       "    </tr>\n",
       "    <tr>\n",
       "      <th>3</th>\n",
       "      <td>11:21am May 5, 2021</td>\n",
       "      <td>https://www.donaldjtrump.com/desk/desk-htrykas6u6</td>\n",
       "      <td>Donald J. Trump</td>\n",
       "      <td>What Facebook, Twitter, and Google have done is a total disgrace and an embarrassment to our Country. Free Speech has been taken away from the President of the United States because the Radical Left Lunatics are afraid of the truth, but the truth will come out anyway, bigger and stronger than ever before. The People of our Country will not stand for it! These corrupt social media companies must pay a political price, and must never again be allowed to destroy and decimate our Electoral Process.</td>\n",
       "      <td></td>\n",
       "    </tr>\n",
       "    <tr>\n",
       "      <th>4</th>\n",
       "      <td>9:51am May 5, 2021</td>\n",
       "      <td>https://www.donaldjtrump.com/desk/desk-w5tycmjzr6</td>\n",
       "      <td>Donald J. Trump</td>\n",
       "      <td>Warmonger Liz Cheney, who has virtually no support left in the Great State of Wyoming, continues to unknowingly and foolishly say that there was no Election Fraud in the 2020 Presidential Election when in fact, the evidence, including no Legislative approvals as demanded by the U.S. Constitution, shows the exact opposite. Had Mike Pence referred the information on six states (only need two) back to State Legislatures, and had gutless and clueless MINORITY Leader Mitch McConnell (he blew two seats in Georgia that should have never been lost) fought to expose all of the corruption that was presented at the time, with more found since, we would have had a far different Presidential result, and our Country would not be turning into a socialist nightmare! Never give up!</td>\n",
       "      <td></td>\n",
       "    </tr>\n",
       "  </tbody>\n",
       "</table>\n",
       "</div>"
      ],
      "text/plain": [
       "                  date                                                url  \\\n",
       "0   9:48am May 6, 2021  https://www.donaldjtrump.com/desk/desk-dqvrd5gscw   \n",
       "1  12:27pm May 5, 2021  https://www.donaldjtrump.com/desk/desk-sg5yzrmuvr   \n",
       "2  11:45am May 5, 2021  https://www.donaldjtrump.com/desk/desk-s9g4x7x8zk   \n",
       "3  11:21am May 5, 2021  https://www.donaldjtrump.com/desk/desk-htrykas6u6   \n",
       "4   9:51am May 5, 2021  https://www.donaldjtrump.com/desk/desk-w5tycmjzr6   \n",
       "\n",
       "            author  \\\n",
       "0  Donald J. Trump   \n",
       "1  Donald J. Trump   \n",
       "2  Donald J. Trump   \n",
       "3  Donald J. Trump   \n",
       "4  Donald J. Trump   \n",
       "\n",
       "                                                                                                                                                                                                                                                                                                                                                                                                                                                                                                                                                                                                                                                                                                                                                                                                      post  \\\n",
       "0                                                                                                                                                                                                                               Congratulations to the great Patriots of Windham, New Hampshire for their incredible fight to seek out the truth on the massive Election Fraud which took place in New Hampshire and the 2020 Presidential Election. The spirit for transparency and justice is being displayed all over the Country by media outlets which do not represent Fake News. People are watching in droves as these Patriots work tirelessly to reveal the real facts of the most tainted and corrupt Election in American history. Congratulations Windham—look forward to seeing the results.   \n",
       "1                                                                                                                                                                                                                                                                                                                                                                                                                                                                                                                                                                                                                                                                                                                                                                                                            \n",
       "2                                                                                                                                                                                                                                                                                                                                                                                                                                       Liz Cheney is a warmongering fool who has no business in Republican Party Leadership. We want leaders who believe in the Make America Great Again movement, and prioritize the values of America First. Elise Stefanik is a far superior choice, and she has my COMPLETE and TOTAL endorsement for GOP Conference Chair. Elise is a tough and smart communicator!    \n",
       "3                                                                                                                                                                                                                                                                                      What Facebook, Twitter, and Google have done is a total disgrace and an embarrassment to our Country. Free Speech has been taken away from the President of the United States because the Radical Left Lunatics are afraid of the truth, but the truth will come out anyway, bigger and stronger than ever before. The People of our Country will not stand for it! These corrupt social media companies must pay a political price, and must never again be allowed to destroy and decimate our Electoral Process.   \n",
       "4  Warmonger Liz Cheney, who has virtually no support left in the Great State of Wyoming, continues to unknowingly and foolishly say that there was no Election Fraud in the 2020 Presidential Election when in fact, the evidence, including no Legislative approvals as demanded by the U.S. Constitution, shows the exact opposite. Had Mike Pence referred the information on six states (only need two) back to State Legislatures, and had gutless and clueless MINORITY Leader Mitch McConnell (he blew two seats in Georgia that should have never been lost) fought to expose all of the corruption that was presented at the time, with more found since, we would have had a far different Presidential result, and our Country would not be turning into a socialist nightmare! Never give up!   \n",
       "\n",
       "                                                                                         image  \n",
       "0                                                                                               \n",
       "1  https://cdn.donaldjtrump.com/djtweb/general/SA_EliseStefanik_EndorsementGraphic_Twitter.jpg  \n",
       "2                                                                                               \n",
       "3                                                                                               \n",
       "4                                                                                               "
      ]
     },
     "execution_count": 16,
     "metadata": {},
     "output_type": "execute_result"
    }
   ],
   "source": [
    "df.head(5)"
   ]
  },
  {
   "cell_type": "markdown",
   "metadata": {},
   "source": [
    "### How many mention 'election'?"
   ]
  },
  {
   "cell_type": "code",
   "execution_count": 17,
   "metadata": {},
   "outputs": [],
   "source": [
    "election = df[\n",
    "    (df[\"post\"].str.contains(\"election\")) | (df[\"post\"].str.contains(\"Election\"))\n",
    "]"
   ]
  },
  {
   "cell_type": "code",
   "execution_count": 18,
   "metadata": {},
   "outputs": [
    {
     "data": {
      "text/plain": [
       "25"
      ]
     },
     "execution_count": 18,
     "metadata": {},
     "output_type": "execute_result"
    }
   ],
   "source": [
    "len(election)"
   ]
  },
  {
   "cell_type": "markdown",
   "metadata": {},
   "source": [
    "### Clean up the dates"
   ]
  },
  {
   "cell_type": "code",
   "execution_count": 19,
   "metadata": {},
   "outputs": [],
   "source": [
    "df[\"fulldate\"] = pd.to_datetime(df[\"date\"])\n",
    "df[\"date\"] = df[\"fulldate\"].dt.date\n",
    "df[\"time\"] = df[\"fulldate\"].dt.time"
   ]
  },
  {
   "cell_type": "code",
   "execution_count": 20,
   "metadata": {},
   "outputs": [],
   "source": [
    "post_urls = list(df[\"url\"])"
   ]
  },
  {
   "cell_type": "markdown",
   "metadata": {},
   "source": [
    "---"
   ]
  },
  {
   "cell_type": "markdown",
   "metadata": {},
   "source": [
    "### Posts per day "
   ]
  },
  {
   "cell_type": "code",
   "execution_count": 21,
   "metadata": {},
   "outputs": [],
   "source": [
    "daily = df.groupby([\"date\"])[\"author\"].count().reset_index(name=\"count\")"
   ]
  },
  {
   "cell_type": "code",
   "execution_count": 22,
   "metadata": {},
   "outputs": [],
   "source": [
    "daily[\"date\"] = pd.to_datetime(daily[\"date\"])"
   ]
  },
  {
   "cell_type": "code",
   "execution_count": 23,
   "metadata": {},
   "outputs": [
    {
     "data": {
      "text/html": [
       "<div>\n",
       "<style scoped>\n",
       "    .dataframe tbody tr th:only-of-type {\n",
       "        vertical-align: middle;\n",
       "    }\n",
       "\n",
       "    .dataframe tbody tr th {\n",
       "        vertical-align: top;\n",
       "    }\n",
       "\n",
       "    .dataframe thead th {\n",
       "        text-align: right;\n",
       "    }\n",
       "</style>\n",
       "<table border=\"1\" class=\"dataframe\">\n",
       "  <thead>\n",
       "    <tr style=\"text-align: right;\">\n",
       "      <th></th>\n",
       "      <th>date</th>\n",
       "      <th>count</th>\n",
       "    </tr>\n",
       "  </thead>\n",
       "  <tbody>\n",
       "    <tr>\n",
       "      <th>25</th>\n",
       "      <td>2021-05-05</td>\n",
       "      <td>4</td>\n",
       "    </tr>\n",
       "    <tr>\n",
       "      <th>23</th>\n",
       "      <td>2021-05-03</td>\n",
       "      <td>4</td>\n",
       "    </tr>\n",
       "    <tr>\n",
       "      <th>8</th>\n",
       "      <td>2021-04-07</td>\n",
       "      <td>3</td>\n",
       "    </tr>\n",
       "    <tr>\n",
       "      <th>19</th>\n",
       "      <td>2021-04-27</td>\n",
       "      <td>3</td>\n",
       "    </tr>\n",
       "    <tr>\n",
       "      <th>9</th>\n",
       "      <td>2021-04-08</td>\n",
       "      <td>3</td>\n",
       "    </tr>\n",
       "  </tbody>\n",
       "</table>\n",
       "</div>"
      ],
      "text/plain": [
       "         date  count\n",
       "25 2021-05-05      4\n",
       "23 2021-05-03      4\n",
       "8  2021-04-07      3\n",
       "19 2021-04-27      3\n",
       "9  2021-04-08      3"
      ]
     },
     "execution_count": 23,
     "metadata": {},
     "output_type": "execute_result"
    }
   ],
   "source": [
    "daily.sort_values(\"count\", ascending=False).head()"
   ]
  },
  {
   "cell_type": "markdown",
   "metadata": {},
   "source": [
    "### Chart it!"
   ]
  },
  {
   "cell_type": "code",
   "execution_count": 24,
   "metadata": {},
   "outputs": [
    {
     "data": {
      "text/html": [
       "\n",
       "<div id=\"altair-viz-b45da0e3099a450c88256816fb1624fe\"></div>\n",
       "<script type=\"text/javascript\">\n",
       "  (function(spec, embedOpt){\n",
       "    const outputDiv = document.getElementById(\"altair-viz-b45da0e3099a450c88256816fb1624fe\");\n",
       "    const paths = {\n",
       "      \"vega\": \"https://cdn.jsdelivr.net/npm//vega@5?noext\",\n",
       "      \"vega-lib\": \"https://cdn.jsdelivr.net/npm//vega-lib?noext\",\n",
       "      \"vega-lite\": \"https://cdn.jsdelivr.net/npm//vega-lite@4.0.2?noext\",\n",
       "      \"vega-embed\": \"https://cdn.jsdelivr.net/npm//vega-embed@6?noext\",\n",
       "    };\n",
       "\n",
       "    function loadScript(lib) {\n",
       "      return new Promise(function(resolve, reject) {\n",
       "        var s = document.createElement('script');\n",
       "        s.src = paths[lib];\n",
       "        s.async = true;\n",
       "        s.onload = () => resolve(paths[lib]);\n",
       "        s.onerror = () => reject(`Error loading script: ${paths[lib]}`);\n",
       "        document.getElementsByTagName(\"head\")[0].appendChild(s);\n",
       "      });\n",
       "    }\n",
       "\n",
       "    function showError(err) {\n",
       "      outputDiv.innerHTML = `<div class=\"error\" style=\"color:red;\">${err}</div>`;\n",
       "      throw err;\n",
       "    }\n",
       "\n",
       "    function displayChart(vegaEmbed) {\n",
       "      vegaEmbed(outputDiv, spec, embedOpt)\n",
       "        .catch(err => showError(`Javascript Error: ${err.message}<br>This usually means there's a typo in your chart specification. See the javascript console for the full traceback.`));\n",
       "    }\n",
       "\n",
       "    if(typeof define === \"function\" && define.amd) {\n",
       "      requirejs.config({paths});\n",
       "      require([\"vega-embed\"], displayChart, err => showError(`Error loading script: ${err.message}`));\n",
       "    } else if (typeof vegaEmbed === \"function\") {\n",
       "      displayChart(vegaEmbed);\n",
       "    } else {\n",
       "      loadScript(\"vega\")\n",
       "        .then(() => loadScript(\"vega-lite\"))\n",
       "        .then(() => loadScript(\"vega-embed\"))\n",
       "        .catch(showError)\n",
       "        .then(() => displayChart(vegaEmbed));\n",
       "    }\n",
       "  })({\"config\": {\"view\": {\"width\": 800, \"height\": 450, \"strokeOpacity\": 0}, \"background\": \"#ffffff\", \"title\": {\"anchor\": \"start\", \"font\": \"Benton Gothic Bold, sans\", \"fontColor\": \"#000000\", \"fontSize\": 22, \"fontWeight\": \"normal\"}, \"arc\": {\"fill\": \"#82c6df\"}, \"area\": {\"fill\": \"#82c6df\"}, \"line\": {\"stroke\": \"#82c6df\", \"strokeWidth\": 3}, \"path\": {\"stroke\": \"#82c6df\"}, \"rect\": {\"fill\": \"#82c6df\"}, \"shape\": {\"stroke\": \"#82c6df\"}, \"bar\": {\"fill\": \"#82c6df\"}, \"point\": {\"stroke\": \"#82c6df\"}, \"symbol\": {\"fill\": \"#82c6df\", \"size\": 30}, \"axis\": {\"titleFont\": \"Benton Gothic Bold, sans\", \"titleFontSize\": 13, \"titleFontWeight\": \"normal\", \"labelFont\": \"Benton Gothic, sans\", \"labelFontSize\": 11.5, \"labelFontWeight\": \"normal\"}, \"axisX\": {\"labelAngle\": 0, \"labelPadding\": 4, \"tickSize\": 3}, \"axisY\": {\"labelBaseline\": \"middle\", \"maxExtent\": 45, \"minExtent\": 45, \"tickSize\": 2, \"titleAlign\": \"left\", \"titleAngle\": 0, \"titleX\": -45, \"titleY\": -11}, \"legend\": {\"titleFont\": \"Benton Gothic Bold, sans\", \"titleFontSize\": 13, \"titleFontWeight\": \"normal\", \"symbolType\": \"square\", \"labelFont\": \"Benton Gothic, sans\", \"labelFontSize\": 11.5}, \"range\": {\"category\": [\"#3580b1\", \"#ec8431\", \"#ab7fb4\", \"#c89d29\", \"#adc839\", \"#829eb1\"], \"diverging\": [\"#e68a4f\", \"#f4bb6a\", \"#f9e39c\", \"#dadfe2\", \"#a6b7c6\", \"#849eae\"], \"heatmap\": [\"#fbf2c7\", \"#f9e39c\", \"#f8d36e\", \"#f4bb6a\", \"#e68a4f\", \"#d15a40\", \"#ab4232\"], \"ordinal\": [\"#fbf2c7\", \"#f9e39c\", \"#f8d36e\", \"#f4bb6a\", \"#e68a4f\", \"#d15a40\", \"#ab4232\"], \"ramp\": [\"#fbf2c7\", \"#f9e39c\", \"#f8d36e\", \"#f4bb6a\", \"#e68a4f\", \"#d15a40\", \"#ab4232\"]}}, \"layer\": [{\"mark\": {\"type\": \"bar\", \"size\": 10}, \"encoding\": {\"x\": {\"type\": \"temporal\", \"axis\": {\"format\": \"%B %-d\", \"grid\": false, \"tickCount\": 5, \"title\": \"\"}, \"field\": \"date\"}, \"y\": {\"type\": \"quantitative\", \"axis\": {\"domainOpacity\": 0, \"gridColor\": \"#dddddd\", \"offset\": 6, \"tickCount\": 3, \"tickSize\": 0, \"title\": \"Daily post count and mean\"}, \"field\": \"count\", \"scale\": {\"domain\": [0, 5]}}}, \"title\": \"Trump posts to the 'desk' since it launched\"}, {\"mark\": {\"type\": \"rule\", \"color\": \"red\"}, \"encoding\": {\"y\": {\"type\": \"quantitative\", \"aggregate\": \"mean\", \"field\": \"count\"}}}, {\"mark\": {\"type\": \"text\", \"align\": \"center\", \"baseline\": \"middle\", \"dx\": 220, \"dy\": 10, \"fontWeight\": \"bold\"}, \"encoding\": {\"text\": {\"type\": \"quantitative\", \"aggregate\": \"mean\", \"field\": \"count\", \"format\": \".2\"}, \"y\": {\"type\": \"quantitative\", \"aggregate\": \"mean\", \"field\": \"count\"}}}], \"data\": {\"name\": \"data-cf991f1171e6cca1c22c8ba455ac3366\"}, \"height\": 350, \"width\": 600, \"$schema\": \"https://vega.github.io/schema/vega-lite/v4.0.2.json\", \"datasets\": {\"data-cf991f1171e6cca1c22c8ba455ac3366\": [{\"date\": \"2021-03-24T00:00:00\", \"count\": 1}, {\"date\": \"2021-03-26T00:00:00\", \"count\": 1}, {\"date\": \"2021-03-30T00:00:00\", \"count\": 1}, {\"date\": \"2021-04-02T00:00:00\", \"count\": 2}, {\"date\": \"2021-04-03T00:00:00\", \"count\": 1}, {\"date\": \"2021-04-04T00:00:00\", \"count\": 1}, {\"date\": \"2021-04-05T00:00:00\", \"count\": 2}, {\"date\": \"2021-04-06T00:00:00\", \"count\": 1}, {\"date\": \"2021-04-07T00:00:00\", \"count\": 3}, {\"date\": \"2021-04-08T00:00:00\", \"count\": 3}, {\"date\": \"2021-04-09T00:00:00\", \"count\": 1}, {\"date\": \"2021-04-12T00:00:00\", \"count\": 2}, {\"date\": \"2021-04-13T00:00:00\", \"count\": 2}, {\"date\": \"2021-04-14T00:00:00\", \"count\": 1}, {\"date\": \"2021-04-15T00:00:00\", \"count\": 1}, {\"date\": \"2021-04-20T00:00:00\", \"count\": 1}, {\"date\": \"2021-04-23T00:00:00\", \"count\": 2}, {\"date\": \"2021-04-24T00:00:00\", \"count\": 2}, {\"date\": \"2021-04-26T00:00:00\", \"count\": 1}, {\"date\": \"2021-04-27T00:00:00\", \"count\": 3}, {\"date\": \"2021-04-28T00:00:00\", \"count\": 1}, {\"date\": \"2021-04-30T00:00:00\", \"count\": 1}, {\"date\": \"2021-05-01T00:00:00\", \"count\": 1}, {\"date\": \"2021-05-03T00:00:00\", \"count\": 4}, {\"date\": \"2021-05-04T00:00:00\", \"count\": 1}, {\"date\": \"2021-05-05T00:00:00\", \"count\": 4}, {\"date\": \"2021-05-06T00:00:00\", \"count\": 1}]}}, {\"mode\": \"vega-lite\"});\n",
       "</script>"
      ],
      "text/plain": [
       "alt.LayerChart(...)"
      ]
     },
     "execution_count": 24,
     "metadata": {},
     "output_type": "execute_result"
    }
   ],
   "source": [
    "lines = (\n",
    "    alt.Chart(\n",
    "        daily,\n",
    "        title=\"Trump posts to the 'desk' since it launched\",\n",
    "    )\n",
    "    .mark_bar(size=10)\n",
    "    .encode(\n",
    "        x=alt.X(\n",
    "            \"date:T\",\n",
    "            axis=alt.Axis(grid=False, title=\"\", tickCount=5, format=(\"%B %-d\")),\n",
    "        ),\n",
    "        y=alt.Y(\n",
    "            \"count:Q\",\n",
    "            scale=alt.Scale(domain=(0, 5)),\n",
    "            axis=alt.Axis(\n",
    "                gridColor=\"#dddddd\",\n",
    "                offset=6,\n",
    "                tickSize=0,\n",
    "                domainOpacity=0,\n",
    "                tickCount=3,\n",
    "                title=\"Daily post count and mean\",\n",
    "            ),\n",
    "        ),\n",
    "    )\n",
    ")\n",
    "\n",
    "rule = alt.Chart(daily).mark_rule(color=\"red\").encode(y=\"mean(count):Q\")\n",
    "\n",
    "# rule label -- would like to add \"Average: \" annotation\n",
    "text = rule.mark_text(\n",
    "    align=\"center\",\n",
    "    baseline=\"middle\",\n",
    "    dx=220,\n",
    "    dy=10,\n",
    "    fontWeight=\"bold\",\n",
    ").encode(text=alt.Text(\"mean(count):Q\", format=\".2\"))\n",
    "\n",
    "(lines + rule + text).properties(height=350, width=600).configure_view(strokeOpacity=0)"
   ]
  },
  {
   "cell_type": "code",
   "execution_count": 28,
   "metadata": {},
   "outputs": [],
   "source": [
    "(lines + rule + text).properties(height=350, width=600).configure_view(\n",
    "    strokeOpacity=0\n",
    ").save(\"visuals/daily_posts.png\")"
   ]
  },
  {
   "cell_type": "markdown",
   "metadata": {},
   "source": [
    "---"
   ]
  },
  {
   "cell_type": "markdown",
   "metadata": {},
   "source": [
    "### Exports"
   ]
  },
  {
   "cell_type": "code",
   "execution_count": 26,
   "metadata": {},
   "outputs": [],
   "source": [
    "today = dt.date.today().strftime(\"%m-%d-%Y\")"
   ]
  },
  {
   "cell_type": "code",
   "execution_count": 27,
   "metadata": {},
   "outputs": [],
   "source": [
    "df.to_csv(\"archive/posts_\" + str(today) + \".csv\", index=False)\n",
    "df.to_csv(\"output/allposts.csv\", index=False)"
   ]
  }
 ],
 "metadata": {
  "kernelspec": {
   "display_name": "Python 3",
   "language": "python",
   "name": "python3"
  },
  "language_info": {
   "codemirror_mode": {
    "name": "ipython",
    "version": 3
   },
   "file_extension": ".py",
   "mimetype": "text/x-python",
   "name": "python",
   "nbconvert_exporter": "python",
   "pygments_lexer": "ipython3",
   "version": "3.7.4"
  }
 },
 "nbformat": 4,
 "nbformat_minor": 4
}
