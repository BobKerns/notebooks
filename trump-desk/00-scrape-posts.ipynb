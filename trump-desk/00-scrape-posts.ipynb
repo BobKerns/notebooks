{
 "cells": [
  {
   "cell_type": "markdown",
   "metadata": {},
   "source": [
    "# Scraping former President Trump's 'desk'"
   ]
  },
  {
   "cell_type": "markdown",
   "metadata": {},
   "source": [
    "### Import Python tools and Jupyter configuration"
   ]
  },
  {
   "cell_type": "code",
   "execution_count": 1,
   "metadata": {},
   "outputs": [],
   "source": [
    "%load_ext lab_black"
   ]
  },
  {
   "cell_type": "code",
   "execution_count": 2,
   "metadata": {},
   "outputs": [],
   "source": [
    "import pandas as pd\n",
    "import requests\n",
    "from bs4 import BeautifulSoup\n",
    "import re\n",
    "import datetime as dt\n",
    "import tweepy"
   ]
  },
  {
   "cell_type": "code",
   "execution_count": 3,
   "metadata": {},
   "outputs": [],
   "source": [
    "import altair as alt\n",
    "import altair_latimes as lat\n",
    "import matplotlib.pyplot as plt"
   ]
  },
  {
   "cell_type": "code",
   "execution_count": 4,
   "metadata": {},
   "outputs": [
    {
     "data": {
      "text/plain": [
       "ThemeRegistry.enable('latimes')"
      ]
     },
     "execution_count": 4,
     "metadata": {},
     "output_type": "execute_result"
    }
   ],
   "source": [
    "alt.themes.register(\"latimes\", lat.theme)\n",
    "alt.themes.enable(\"latimes\")"
   ]
  },
  {
   "cell_type": "code",
   "execution_count": 5,
   "metadata": {},
   "outputs": [],
   "source": [
    "pd.options.display.max_columns = 100\n",
    "pd.options.display.max_rows = 1000\n",
    "alt.data_transformers.disable_max_rows()\n",
    "pd.options.display.max_colwidth = None"
   ]
  },
  {
   "cell_type": "markdown",
   "metadata": {},
   "source": [
    "---"
   ]
  },
  {
   "cell_type": "markdown",
   "metadata": {},
   "source": [
    "### Read the page"
   ]
  },
  {
   "cell_type": "code",
   "execution_count": 6,
   "metadata": {},
   "outputs": [],
   "source": [
    "r = requests.get(\"https://www.donaldjtrump.com/desk\")\n",
    "soup = BeautifulSoup(r.text, \"html.parser\")"
   ]
  },
  {
   "cell_type": "markdown",
   "metadata": {},
   "source": [
    "### Grab everything from each post div"
   ]
  },
  {
   "cell_type": "code",
   "execution_count": 7,
   "metadata": {},
   "outputs": [],
   "source": [
    "rows = soup.find_all(\"div\", class_=\"ftdli-main ftd-d\")"
   ]
  },
  {
   "cell_type": "code",
   "execution_count": 8,
   "metadata": {},
   "outputs": [],
   "source": [
    "data = []\n",
    "for r in rows:\n",
    "    if r.find(\"img\") is not None:\n",
    "        image = r.find(\"img\")[\"src\"]\n",
    "    else:\n",
    "        image = \"\"\n",
    "    post_url = r.find(\"div\", class_=\"title ftd-d\").get(\"onclick\")\n",
    "    post = r.find(\"p\", class_=\"ftd-post-text\").text\n",
    "    author = r.find(\"h2\").text\n",
    "    date = r.find(\"div\", class_=\"date ftd-d\").text\n",
    "    raw = r.find(\"p\", class_=\"ftd-post-text\").text\n",
    "    data.append(\n",
    "        dict(\n",
    "            date=date,\n",
    "            url=post_url,\n",
    "            author=author,\n",
    "            post=post,\n",
    "            image=image,\n",
    "        )\n",
    "    )"
   ]
  },
  {
   "cell_type": "markdown",
   "metadata": {},
   "source": [
    "### First item from the dictionary"
   ]
  },
  {
   "cell_type": "code",
   "execution_count": 9,
   "metadata": {},
   "outputs": [
    {
     "data": {
      "text/plain": [
       "{'date': '\\n9:56am May 11, 2021\\n',\n",
       " 'url': \"location.href='/desk/desk-xudptbbxru/';\",\n",
       " 'author': 'Donald J. Trump',\n",
       " 'post': 'Congratulations to Glenn Youngkin for winning the Republican nomination for Governor of Virginia. Glenn is pro-Business, pro-Second Amendment, pro-Veterans, pro-America, he knows how to make Virginia’s economy rip-roaring, and he has my Complete and Total Endorsement! Glenn is running against Bill Clinton’s longtime enabler, Terry McAuliffe. Terry McAuliffe was the Clintons’ bagman in more ways than one, from the cover-ups to the get-rich-quick schemes, and his deals with Communist China look suspicious. He was responsible for many of the problems Virginia currently has. Virginia doesn’t need the Clintons or the Communist Chinese running the state, so say no to Terry McAuliffe, and yes to Patriot Glenn Youngkin!',\n",
       " 'image': 'https://cdn.donaldjtrump.com/djtweb/general/SA_GlennYoungkin_EndorsementGraphic_Twitter.jpg'}"
      ]
     },
     "execution_count": 9,
     "metadata": {},
     "output_type": "execute_result"
    }
   ],
   "source": [
    "data[0]"
   ]
  },
  {
   "cell_type": "markdown",
   "metadata": {},
   "source": [
    "### Clean up before importing as a dataframe"
   ]
  },
  {
   "cell_type": "code",
   "execution_count": 10,
   "metadata": {},
   "outputs": [],
   "source": [
    "for d in data:\n",
    "    d[\"date\"] = d[\"date\"].replace(\"\\n\", \"\")\n",
    "    d[\"url\"] = (\n",
    "        d[\"url\"]\n",
    "        .replace(\"location.href='\", \"https://www.donaldjtrump.com\")\n",
    "        .replace(\"/';\", \"\")\n",
    "    )"
   ]
  },
  {
   "cell_type": "code",
   "execution_count": 11,
   "metadata": {},
   "outputs": [],
   "source": [
    "src = pd.DataFrame(data)"
   ]
  },
  {
   "cell_type": "markdown",
   "metadata": {},
   "source": [
    "---"
   ]
  },
  {
   "cell_type": "markdown",
   "metadata": {},
   "source": [
    "### Pull in early posts"
   ]
  },
  {
   "cell_type": "code",
   "execution_count": 12,
   "metadata": {},
   "outputs": [],
   "source": [
    "archive_df = pd.read_csv(\"input/archive.csv\")"
   ]
  },
  {
   "cell_type": "code",
   "execution_count": 13,
   "metadata": {},
   "outputs": [],
   "source": [
    "archive_df.drop([\"video\"], axis=1, inplace=True)"
   ]
  },
  {
   "cell_type": "code",
   "execution_count": 14,
   "metadata": {},
   "outputs": [],
   "source": [
    "df = pd.concat([src, archive_df]).drop_duplicates(subset=\"url\", keep=\"first\")"
   ]
  },
  {
   "cell_type": "markdown",
   "metadata": {},
   "source": [
    "### How many posts total? "
   ]
  },
  {
   "cell_type": "code",
   "execution_count": 15,
   "metadata": {},
   "outputs": [
    {
     "data": {
      "text/plain": [
       "54"
      ]
     },
     "execution_count": 15,
     "metadata": {},
     "output_type": "execute_result"
    }
   ],
   "source": [
    "len(df)"
   ]
  },
  {
   "cell_type": "markdown",
   "metadata": {},
   "source": [
    "### Last five posts"
   ]
  },
  {
   "cell_type": "code",
   "execution_count": 16,
   "metadata": {},
   "outputs": [
    {
     "data": {
      "text/html": [
       "<div>\n",
       "<style scoped>\n",
       "    .dataframe tbody tr th:only-of-type {\n",
       "        vertical-align: middle;\n",
       "    }\n",
       "\n",
       "    .dataframe tbody tr th {\n",
       "        vertical-align: top;\n",
       "    }\n",
       "\n",
       "    .dataframe thead th {\n",
       "        text-align: right;\n",
       "    }\n",
       "</style>\n",
       "<table border=\"1\" class=\"dataframe\">\n",
       "  <thead>\n",
       "    <tr style=\"text-align: right;\">\n",
       "      <th></th>\n",
       "      <th>date</th>\n",
       "      <th>url</th>\n",
       "      <th>author</th>\n",
       "      <th>post</th>\n",
       "      <th>image</th>\n",
       "    </tr>\n",
       "  </thead>\n",
       "  <tbody>\n",
       "    <tr>\n",
       "      <th>0</th>\n",
       "      <td>9:56am May 11, 2021</td>\n",
       "      <td>https://www.donaldjtrump.com/desk/desk-xudptbbxru</td>\n",
       "      <td>Donald J. Trump</td>\n",
       "      <td>Congratulations to Glenn Youngkin for winning the Republican nomination for Governor of Virginia. Glenn is pro-Business, pro-Second Amendment, pro-Veterans, pro-America, he knows how to make Virginia’s economy rip-roaring, and he has my Complete and Total Endorsement! Glenn is running against Bill Clinton’s longtime enabler, Terry McAuliffe. Terry McAuliffe was the Clintons’ bagman in more ways than one, from the cover-ups to the get-rich-quick schemes, and his deals with Communist China look suspicious. He was responsible for many of the problems Virginia currently has. Virginia doesn’t need the Clintons or the Communist Chinese running the state, so say no to Terry McAuliffe, and yes to Patriot Glenn Youngkin!</td>\n",
       "      <td>https://cdn.donaldjtrump.com/djtweb/general/SA_GlennYoungkin_EndorsementGraphic_Twitter.jpg</td>\n",
       "    </tr>\n",
       "    <tr>\n",
       "      <th>1</th>\n",
       "      <td>8:52pm May 10, 2021</td>\n",
       "      <td>https://www.donaldjtrump.com/desk/desk-x3nk392q9z</td>\n",
       "      <td>Donald J. Trump</td>\n",
       "      <td>The major Michigan Election Fraud case has just filed a bombshell pleading claiming votes were intentionally switched from President Trump to Joe Biden. The number of votes is MASSIVE and determinative. This will prove true in numerous other States. All Republicans must UNIFY and not let this happen. If a thief robs a jewelry store of all of its diamonds (the 2020 Presidential Election), the diamonds must be returned. The Fake News media refuses to cover the greatest Election Fraud in the history of our Country. They have lost all credibility, but ultimately, they will have no choice!</td>\n",
       "      <td></td>\n",
       "    </tr>\n",
       "    <tr>\n",
       "      <th>2</th>\n",
       "      <td>2:26pm May 10, 2021</td>\n",
       "      <td>https://www.donaldjtrump.com/desk/desk-henmxass3a</td>\n",
       "      <td>Donald J. Trump</td>\n",
       "      <td>After being loudly booed at the Utah Republican Party Convention, Utah’s Weber County censured RINO Mitt Romney in the strongest of terms. Washington County Republicans also censured Romney in April. He is BAD NEWS for our Country!</td>\n",
       "      <td></td>\n",
       "    </tr>\n",
       "    <tr>\n",
       "      <th>3</th>\n",
       "      <td>2:04pm May 10, 2021</td>\n",
       "      <td>https://www.donaldjtrump.com/desk/desk-xkpygaxcpz</td>\n",
       "      <td>Donald J. Trump</td>\n",
       "      <td>Lieutenant Governor Dan Patrick is a great fighter for the people of Texas. He has stood up for up for Life, Liberty, the Second Amendment, Border Security, our Military and our Vets, and our God-given Freedoms. He has governed by conservative principles of LOW TAXES and careful spending, always doing what is best for his great State and for America. Texans should re-elect him! He is outstanding and has my Complete and Total Endorsement!</td>\n",
       "      <td>https://cdn.donaldjtrump.com/djtweb/general/SA_DanPatrick_EndorsementGraphic_Twitter.jpg</td>\n",
       "    </tr>\n",
       "    <tr>\n",
       "      <th>4</th>\n",
       "      <td>10:46am May 10, 2021</td>\n",
       "      <td>https://www.donaldjtrump.com/desk/desk-wbwbqk2sy7</td>\n",
       "      <td>Donald J. Trump</td>\n",
       "      <td>The House GOP has a massive opportunity to upgrade this week from warmonger Liz Cheney to gifted communicator Elise Stefanik. Elise has intelligence, an endorsement from American Patriot Brandon Judd and the National Border Patrol Council, she has an A+ from the NRA, and she loves our Veterans. We need someone in Leadership who has experience flipping districts from Blue to Red as we approach the important 2022 midterms, and that’s Elise! She knows how to win, which is what we need!</td>\n",
       "      <td></td>\n",
       "    </tr>\n",
       "  </tbody>\n",
       "</table>\n",
       "</div>"
      ],
      "text/plain": [
       "                   date                                                url  \\\n",
       "0   9:56am May 11, 2021  https://www.donaldjtrump.com/desk/desk-xudptbbxru   \n",
       "1   8:52pm May 10, 2021  https://www.donaldjtrump.com/desk/desk-x3nk392q9z   \n",
       "2   2:26pm May 10, 2021  https://www.donaldjtrump.com/desk/desk-henmxass3a   \n",
       "3   2:04pm May 10, 2021  https://www.donaldjtrump.com/desk/desk-xkpygaxcpz   \n",
       "4  10:46am May 10, 2021  https://www.donaldjtrump.com/desk/desk-wbwbqk2sy7   \n",
       "\n",
       "            author  \\\n",
       "0  Donald J. Trump   \n",
       "1  Donald J. Trump   \n",
       "2  Donald J. Trump   \n",
       "3  Donald J. Trump   \n",
       "4  Donald J. Trump   \n",
       "\n",
       "                                                                                                                                                                                                                                                                                                                                                                                                                                                                                                                                                                                                                                                                                                                                                post  \\\n",
       "0  Congratulations to Glenn Youngkin for winning the Republican nomination for Governor of Virginia. Glenn is pro-Business, pro-Second Amendment, pro-Veterans, pro-America, he knows how to make Virginia’s economy rip-roaring, and he has my Complete and Total Endorsement! Glenn is running against Bill Clinton’s longtime enabler, Terry McAuliffe. Terry McAuliffe was the Clintons’ bagman in more ways than one, from the cover-ups to the get-rich-quick schemes, and his deals with Communist China look suspicious. He was responsible for many of the problems Virginia currently has. Virginia doesn’t need the Clintons or the Communist Chinese running the state, so say no to Terry McAuliffe, and yes to Patriot Glenn Youngkin!   \n",
       "1                                                                                                                                   The major Michigan Election Fraud case has just filed a bombshell pleading claiming votes were intentionally switched from President Trump to Joe Biden. The number of votes is MASSIVE and determinative. This will prove true in numerous other States. All Republicans must UNIFY and not let this happen. If a thief robs a jewelry store of all of its diamonds (the 2020 Presidential Election), the diamonds must be returned. The Fake News media refuses to cover the greatest Election Fraud in the history of our Country. They have lost all credibility, but ultimately, they will have no choice!    \n",
       "2                                                                                                                                                                                                                                                                                                                                                                                                                                                                                                            After being loudly booed at the Utah Republican Party Convention, Utah’s Weber County censured RINO Mitt Romney in the strongest of terms. Washington County Republicans also censured Romney in April. He is BAD NEWS for our Country!   \n",
       "3                                                                                                                                                                                                                                                                                          Lieutenant Governor Dan Patrick is a great fighter for the people of Texas. He has stood up for up for Life, Liberty, the Second Amendment, Border Security, our Military and our Vets, and our God-given Freedoms. He has governed by conservative principles of LOW TAXES and careful spending, always doing what is best for his great State and for America. Texans should re-elect him! He is outstanding and has my Complete and Total Endorsement!   \n",
       "4                                                                                                                                                                                                                                            The House GOP has a massive opportunity to upgrade this week from warmonger Liz Cheney to gifted communicator Elise Stefanik. Elise has intelligence, an endorsement from American Patriot Brandon Judd and the National Border Patrol Council, she has an A+ from the NRA, and she loves our Veterans. We need someone in Leadership who has experience flipping districts from Blue to Red as we approach the important 2022 midterms, and that’s Elise! She knows how to win, which is what we need!   \n",
       "\n",
       "                                                                                         image  \n",
       "0  https://cdn.donaldjtrump.com/djtweb/general/SA_GlennYoungkin_EndorsementGraphic_Twitter.jpg  \n",
       "1                                                                                               \n",
       "2                                                                                               \n",
       "3     https://cdn.donaldjtrump.com/djtweb/general/SA_DanPatrick_EndorsementGraphic_Twitter.jpg  \n",
       "4                                                                                               "
      ]
     },
     "execution_count": 16,
     "metadata": {},
     "output_type": "execute_result"
    }
   ],
   "source": [
    "df.head(5)"
   ]
  },
  {
   "cell_type": "markdown",
   "metadata": {},
   "source": [
    "### How many mention 'election'?"
   ]
  },
  {
   "cell_type": "code",
   "execution_count": 17,
   "metadata": {},
   "outputs": [],
   "source": [
    "election = df[\n",
    "    (df[\"post\"].str.contains(\"election\")) | (df[\"post\"].str.contains(\"Election\"))\n",
    "]"
   ]
  },
  {
   "cell_type": "code",
   "execution_count": 18,
   "metadata": {},
   "outputs": [
    {
     "data": {
      "text/plain": [
       "28"
      ]
     },
     "execution_count": 18,
     "metadata": {},
     "output_type": "execute_result"
    }
   ],
   "source": [
    "len(election)"
   ]
  },
  {
   "cell_type": "markdown",
   "metadata": {},
   "source": [
    "### Clean up the dates"
   ]
  },
  {
   "cell_type": "code",
   "execution_count": 19,
   "metadata": {},
   "outputs": [],
   "source": [
    "df[\"fulldate\"] = pd.to_datetime(df[\"date\"])\n",
    "df[\"date\"] = df[\"fulldate\"].dt.date\n",
    "df[\"time\"] = df[\"fulldate\"].dt.time"
   ]
  },
  {
   "cell_type": "code",
   "execution_count": 20,
   "metadata": {},
   "outputs": [],
   "source": [
    "post_urls = list(df[\"url\"])"
   ]
  },
  {
   "cell_type": "markdown",
   "metadata": {},
   "source": [
    "---"
   ]
  },
  {
   "cell_type": "markdown",
   "metadata": {},
   "source": [
    "### Posts per day "
   ]
  },
  {
   "cell_type": "code",
   "execution_count": 21,
   "metadata": {},
   "outputs": [],
   "source": [
    "daily = df.groupby([\"date\"])[\"author\"].count().reset_index(name=\"count\")"
   ]
  },
  {
   "cell_type": "code",
   "execution_count": 22,
   "metadata": {},
   "outputs": [
    {
     "data": {
      "text/html": [
       "<div>\n",
       "<style scoped>\n",
       "    .dataframe tbody tr th:only-of-type {\n",
       "        vertical-align: middle;\n",
       "    }\n",
       "\n",
       "    .dataframe tbody tr th {\n",
       "        vertical-align: top;\n",
       "    }\n",
       "\n",
       "    .dataframe thead th {\n",
       "        text-align: right;\n",
       "    }\n",
       "</style>\n",
       "<table border=\"1\" class=\"dataframe\">\n",
       "  <thead>\n",
       "    <tr style=\"text-align: right;\">\n",
       "      <th></th>\n",
       "      <th>date</th>\n",
       "      <th>count</th>\n",
       "    </tr>\n",
       "  </thead>\n",
       "  <tbody>\n",
       "    <tr>\n",
       "      <th>0</th>\n",
       "      <td>2021-03-24</td>\n",
       "      <td>1</td>\n",
       "    </tr>\n",
       "    <tr>\n",
       "      <th>1</th>\n",
       "      <td>2021-03-26</td>\n",
       "      <td>1</td>\n",
       "    </tr>\n",
       "    <tr>\n",
       "      <th>2</th>\n",
       "      <td>2021-03-30</td>\n",
       "      <td>1</td>\n",
       "    </tr>\n",
       "    <tr>\n",
       "      <th>3</th>\n",
       "      <td>2021-04-02</td>\n",
       "      <td>2</td>\n",
       "    </tr>\n",
       "    <tr>\n",
       "      <th>4</th>\n",
       "      <td>2021-04-03</td>\n",
       "      <td>1</td>\n",
       "    </tr>\n",
       "    <tr>\n",
       "      <th>5</th>\n",
       "      <td>2021-04-04</td>\n",
       "      <td>1</td>\n",
       "    </tr>\n",
       "    <tr>\n",
       "      <th>6</th>\n",
       "      <td>2021-04-05</td>\n",
       "      <td>2</td>\n",
       "    </tr>\n",
       "    <tr>\n",
       "      <th>7</th>\n",
       "      <td>2021-04-06</td>\n",
       "      <td>1</td>\n",
       "    </tr>\n",
       "    <tr>\n",
       "      <th>8</th>\n",
       "      <td>2021-04-07</td>\n",
       "      <td>3</td>\n",
       "    </tr>\n",
       "    <tr>\n",
       "      <th>9</th>\n",
       "      <td>2021-04-08</td>\n",
       "      <td>3</td>\n",
       "    </tr>\n",
       "    <tr>\n",
       "      <th>10</th>\n",
       "      <td>2021-04-09</td>\n",
       "      <td>1</td>\n",
       "    </tr>\n",
       "    <tr>\n",
       "      <th>11</th>\n",
       "      <td>2021-04-12</td>\n",
       "      <td>2</td>\n",
       "    </tr>\n",
       "    <tr>\n",
       "      <th>12</th>\n",
       "      <td>2021-04-13</td>\n",
       "      <td>2</td>\n",
       "    </tr>\n",
       "    <tr>\n",
       "      <th>13</th>\n",
       "      <td>2021-04-14</td>\n",
       "      <td>1</td>\n",
       "    </tr>\n",
       "    <tr>\n",
       "      <th>14</th>\n",
       "      <td>2021-04-15</td>\n",
       "      <td>1</td>\n",
       "    </tr>\n",
       "    <tr>\n",
       "      <th>15</th>\n",
       "      <td>2021-04-20</td>\n",
       "      <td>1</td>\n",
       "    </tr>\n",
       "    <tr>\n",
       "      <th>16</th>\n",
       "      <td>2021-04-23</td>\n",
       "      <td>2</td>\n",
       "    </tr>\n",
       "    <tr>\n",
       "      <th>17</th>\n",
       "      <td>2021-04-24</td>\n",
       "      <td>2</td>\n",
       "    </tr>\n",
       "    <tr>\n",
       "      <th>18</th>\n",
       "      <td>2021-04-26</td>\n",
       "      <td>1</td>\n",
       "    </tr>\n",
       "    <tr>\n",
       "      <th>19</th>\n",
       "      <td>2021-04-27</td>\n",
       "      <td>3</td>\n",
       "    </tr>\n",
       "    <tr>\n",
       "      <th>20</th>\n",
       "      <td>2021-04-28</td>\n",
       "      <td>1</td>\n",
       "    </tr>\n",
       "    <tr>\n",
       "      <th>21</th>\n",
       "      <td>2021-04-30</td>\n",
       "      <td>1</td>\n",
       "    </tr>\n",
       "    <tr>\n",
       "      <th>22</th>\n",
       "      <td>2021-05-01</td>\n",
       "      <td>1</td>\n",
       "    </tr>\n",
       "    <tr>\n",
       "      <th>23</th>\n",
       "      <td>2021-05-03</td>\n",
       "      <td>4</td>\n",
       "    </tr>\n",
       "    <tr>\n",
       "      <th>24</th>\n",
       "      <td>2021-05-04</td>\n",
       "      <td>1</td>\n",
       "    </tr>\n",
       "    <tr>\n",
       "      <th>25</th>\n",
       "      <td>2021-05-05</td>\n",
       "      <td>4</td>\n",
       "    </tr>\n",
       "    <tr>\n",
       "      <th>26</th>\n",
       "      <td>2021-05-07</td>\n",
       "      <td>3</td>\n",
       "    </tr>\n",
       "    <tr>\n",
       "      <th>27</th>\n",
       "      <td>2021-05-09</td>\n",
       "      <td>2</td>\n",
       "    </tr>\n",
       "    <tr>\n",
       "      <th>28</th>\n",
       "      <td>2021-05-10</td>\n",
       "      <td>4</td>\n",
       "    </tr>\n",
       "    <tr>\n",
       "      <th>29</th>\n",
       "      <td>2021-05-11</td>\n",
       "      <td>1</td>\n",
       "    </tr>\n",
       "  </tbody>\n",
       "</table>\n",
       "</div>"
      ],
      "text/plain": [
       "          date  count\n",
       "0   2021-03-24      1\n",
       "1   2021-03-26      1\n",
       "2   2021-03-30      1\n",
       "3   2021-04-02      2\n",
       "4   2021-04-03      1\n",
       "5   2021-04-04      1\n",
       "6   2021-04-05      2\n",
       "7   2021-04-06      1\n",
       "8   2021-04-07      3\n",
       "9   2021-04-08      3\n",
       "10  2021-04-09      1\n",
       "11  2021-04-12      2\n",
       "12  2021-04-13      2\n",
       "13  2021-04-14      1\n",
       "14  2021-04-15      1\n",
       "15  2021-04-20      1\n",
       "16  2021-04-23      2\n",
       "17  2021-04-24      2\n",
       "18  2021-04-26      1\n",
       "19  2021-04-27      3\n",
       "20  2021-04-28      1\n",
       "21  2021-04-30      1\n",
       "22  2021-05-01      1\n",
       "23  2021-05-03      4\n",
       "24  2021-05-04      1\n",
       "25  2021-05-05      4\n",
       "26  2021-05-07      3\n",
       "27  2021-05-09      2\n",
       "28  2021-05-10      4\n",
       "29  2021-05-11      1"
      ]
     },
     "execution_count": 22,
     "metadata": {},
     "output_type": "execute_result"
    }
   ],
   "source": [
    "daily"
   ]
  },
  {
   "cell_type": "code",
   "execution_count": 23,
   "metadata": {},
   "outputs": [],
   "source": [
    "daily[\"seven-day-avg\"] = daily[\"count\"].rolling(7).mean()"
   ]
  },
  {
   "cell_type": "code",
   "execution_count": 24,
   "metadata": {},
   "outputs": [],
   "source": [
    "daily[\"date\"] = pd.to_datetime(daily[\"date\"])"
   ]
  },
  {
   "cell_type": "code",
   "execution_count": 25,
   "metadata": {},
   "outputs": [
    {
     "data": {
      "text/html": [
       "<div>\n",
       "<style scoped>\n",
       "    .dataframe tbody tr th:only-of-type {\n",
       "        vertical-align: middle;\n",
       "    }\n",
       "\n",
       "    .dataframe tbody tr th {\n",
       "        vertical-align: top;\n",
       "    }\n",
       "\n",
       "    .dataframe thead th {\n",
       "        text-align: right;\n",
       "    }\n",
       "</style>\n",
       "<table border=\"1\" class=\"dataframe\">\n",
       "  <thead>\n",
       "    <tr style=\"text-align: right;\">\n",
       "      <th></th>\n",
       "      <th>date</th>\n",
       "      <th>count</th>\n",
       "      <th>seven-day-avg</th>\n",
       "    </tr>\n",
       "  </thead>\n",
       "  <tbody>\n",
       "    <tr>\n",
       "      <th>28</th>\n",
       "      <td>2021-05-10</td>\n",
       "      <td>4</td>\n",
       "      <td>2.714286</td>\n",
       "    </tr>\n",
       "    <tr>\n",
       "      <th>25</th>\n",
       "      <td>2021-05-05</td>\n",
       "      <td>4</td>\n",
       "      <td>2.142857</td>\n",
       "    </tr>\n",
       "    <tr>\n",
       "      <th>23</th>\n",
       "      <td>2021-05-03</td>\n",
       "      <td>4</td>\n",
       "      <td>1.857143</td>\n",
       "    </tr>\n",
       "    <tr>\n",
       "      <th>9</th>\n",
       "      <td>2021-04-08</td>\n",
       "      <td>3</td>\n",
       "      <td>1.857143</td>\n",
       "    </tr>\n",
       "    <tr>\n",
       "      <th>26</th>\n",
       "      <td>2021-05-07</td>\n",
       "      <td>3</td>\n",
       "      <td>2.142857</td>\n",
       "    </tr>\n",
       "  </tbody>\n",
       "</table>\n",
       "</div>"
      ],
      "text/plain": [
       "         date  count  seven-day-avg\n",
       "28 2021-05-10      4       2.714286\n",
       "25 2021-05-05      4       2.142857\n",
       "23 2021-05-03      4       1.857143\n",
       "9  2021-04-08      3       1.857143\n",
       "26 2021-05-07      3       2.142857"
      ]
     },
     "execution_count": 25,
     "metadata": {},
     "output_type": "execute_result"
    }
   ],
   "source": [
    "daily.sort_values(\"count\", ascending=False).head()"
   ]
  },
  {
   "cell_type": "markdown",
   "metadata": {},
   "source": [
    "### Chart it!"
   ]
  },
  {
   "cell_type": "code",
   "execution_count": 30,
   "metadata": {},
   "outputs": [
    {
     "data": {
      "text/html": [
       "\n",
       "<div id=\"altair-viz-da6f43191d20408e96a15223b4d649f3\"></div>\n",
       "<script type=\"text/javascript\">\n",
       "  (function(spec, embedOpt){\n",
       "    const outputDiv = document.getElementById(\"altair-viz-da6f43191d20408e96a15223b4d649f3\");\n",
       "    const paths = {\n",
       "      \"vega\": \"https://cdn.jsdelivr.net/npm//vega@5?noext\",\n",
       "      \"vega-lib\": \"https://cdn.jsdelivr.net/npm//vega-lib?noext\",\n",
       "      \"vega-lite\": \"https://cdn.jsdelivr.net/npm//vega-lite@4.0.2?noext\",\n",
       "      \"vega-embed\": \"https://cdn.jsdelivr.net/npm//vega-embed@6?noext\",\n",
       "    };\n",
       "\n",
       "    function loadScript(lib) {\n",
       "      return new Promise(function(resolve, reject) {\n",
       "        var s = document.createElement('script');\n",
       "        s.src = paths[lib];\n",
       "        s.async = true;\n",
       "        s.onload = () => resolve(paths[lib]);\n",
       "        s.onerror = () => reject(`Error loading script: ${paths[lib]}`);\n",
       "        document.getElementsByTagName(\"head\")[0].appendChild(s);\n",
       "      });\n",
       "    }\n",
       "\n",
       "    function showError(err) {\n",
       "      outputDiv.innerHTML = `<div class=\"error\" style=\"color:red;\">${err}</div>`;\n",
       "      throw err;\n",
       "    }\n",
       "\n",
       "    function displayChart(vegaEmbed) {\n",
       "      vegaEmbed(outputDiv, spec, embedOpt)\n",
       "        .catch(err => showError(`Javascript Error: ${err.message}<br>This usually means there's a typo in your chart specification. See the javascript console for the full traceback.`));\n",
       "    }\n",
       "\n",
       "    if(typeof define === \"function\" && define.amd) {\n",
       "      requirejs.config({paths});\n",
       "      require([\"vega-embed\"], displayChart, err => showError(`Error loading script: ${err.message}`));\n",
       "    } else if (typeof vegaEmbed === \"function\") {\n",
       "      displayChart(vegaEmbed);\n",
       "    } else {\n",
       "      loadScript(\"vega\")\n",
       "        .then(() => loadScript(\"vega-lite\"))\n",
       "        .then(() => loadScript(\"vega-embed\"))\n",
       "        .catch(showError)\n",
       "        .then(() => displayChart(vegaEmbed));\n",
       "    }\n",
       "  })({\"config\": {\"view\": {\"width\": 800, \"height\": 450, \"strokeOpacity\": 0}, \"background\": \"#ffffff\", \"title\": {\"anchor\": \"start\", \"font\": \"Benton Gothic Bold, sans\", \"fontColor\": \"#000000\", \"fontSize\": 22, \"fontWeight\": \"normal\"}, \"arc\": {\"fill\": \"#82c6df\"}, \"area\": {\"fill\": \"#82c6df\"}, \"line\": {\"stroke\": \"#82c6df\", \"strokeWidth\": 3}, \"path\": {\"stroke\": \"#82c6df\"}, \"rect\": {\"fill\": \"#82c6df\"}, \"shape\": {\"stroke\": \"#82c6df\"}, \"bar\": {\"fill\": \"#82c6df\"}, \"point\": {\"stroke\": \"#82c6df\"}, \"symbol\": {\"fill\": \"#82c6df\", \"size\": 30}, \"axis\": {\"titleFont\": \"Benton Gothic Bold, sans\", \"titleFontSize\": 13, \"titleFontWeight\": \"normal\", \"labelFont\": \"Benton Gothic, sans\", \"labelFontSize\": 11.5, \"labelFontWeight\": \"normal\"}, \"axisX\": {\"labelAngle\": 0, \"labelPadding\": 4, \"tickSize\": 3}, \"axisY\": {\"labelBaseline\": \"middle\", \"maxExtent\": 45, \"minExtent\": 45, \"tickSize\": 2, \"titleAlign\": \"left\", \"titleAngle\": 0, \"titleX\": -45, \"titleY\": -11}, \"legend\": {\"titleFont\": \"Benton Gothic Bold, sans\", \"titleFontSize\": 13, \"titleFontWeight\": \"normal\", \"symbolType\": \"square\", \"labelFont\": \"Benton Gothic, sans\", \"labelFontSize\": 11.5}, \"range\": {\"category\": [\"#3580b1\", \"#ec8431\", \"#ab7fb4\", \"#c89d29\", \"#adc839\", \"#829eb1\"], \"diverging\": [\"#e68a4f\", \"#f4bb6a\", \"#f9e39c\", \"#dadfe2\", \"#a6b7c6\", \"#849eae\"], \"heatmap\": [\"#fbf2c7\", \"#f9e39c\", \"#f8d36e\", \"#f4bb6a\", \"#e68a4f\", \"#d15a40\", \"#ab4232\"], \"ordinal\": [\"#fbf2c7\", \"#f9e39c\", \"#f8d36e\", \"#f4bb6a\", \"#e68a4f\", \"#d15a40\", \"#ab4232\"], \"ramp\": [\"#fbf2c7\", \"#f9e39c\", \"#f8d36e\", \"#f4bb6a\", \"#e68a4f\", \"#d15a40\", \"#ab4232\"]}}, \"layer\": [{\"mark\": {\"type\": \"bar\", \"size\": 10}, \"encoding\": {\"x\": {\"type\": \"temporal\", \"axis\": {\"format\": \"%B %-d\", \"grid\": false, \"tickCount\": 5, \"title\": \"\"}, \"field\": \"date\"}, \"y\": {\"type\": \"quantitative\", \"axis\": {\"domainOpacity\": 0, \"gridColor\": \"#dddddd\", \"offset\": 6, \"tickCount\": 3, \"tickSize\": 0, \"title\": \"Daily post count and seven-day average\"}, \"field\": \"count\", \"scale\": {\"domain\": [0, 5]}}}, \"title\": \"Trump posts to the 'desk' since it launched\"}, {\"mark\": {\"type\": \"line\", \"color\": \"red\"}, \"encoding\": {\"x\": {\"type\": \"temporal\", \"axis\": {\"format\": \"%B %-d\", \"grid\": false, \"tickCount\": 5, \"title\": \"\"}, \"field\": \"date\"}, \"y\": {\"type\": \"quantitative\", \"field\": \"seven-day-avg\"}}}], \"data\": {\"name\": \"data-8300ae5ff015104b7edf1c4d4c8dd933\"}, \"height\": 350, \"width\": 600, \"$schema\": \"https://vega.github.io/schema/vega-lite/v4.0.2.json\", \"datasets\": {\"data-8300ae5ff015104b7edf1c4d4c8dd933\": [{\"date\": \"2021-03-24T00:00:00\", \"count\": 1, \"seven-day-avg\": null}, {\"date\": \"2021-03-26T00:00:00\", \"count\": 1, \"seven-day-avg\": null}, {\"date\": \"2021-03-30T00:00:00\", \"count\": 1, \"seven-day-avg\": null}, {\"date\": \"2021-04-02T00:00:00\", \"count\": 2, \"seven-day-avg\": null}, {\"date\": \"2021-04-03T00:00:00\", \"count\": 1, \"seven-day-avg\": null}, {\"date\": \"2021-04-04T00:00:00\", \"count\": 1, \"seven-day-avg\": null}, {\"date\": \"2021-04-05T00:00:00\", \"count\": 2, \"seven-day-avg\": 1.2857142857142858}, {\"date\": \"2021-04-06T00:00:00\", \"count\": 1, \"seven-day-avg\": 1.2857142857142858}, {\"date\": \"2021-04-07T00:00:00\", \"count\": 3, \"seven-day-avg\": 1.5714285714285714}, {\"date\": \"2021-04-08T00:00:00\", \"count\": 3, \"seven-day-avg\": 1.8571428571428572}, {\"date\": \"2021-04-09T00:00:00\", \"count\": 1, \"seven-day-avg\": 1.7142857142857142}, {\"date\": \"2021-04-12T00:00:00\", \"count\": 2, \"seven-day-avg\": 1.8571428571428572}, {\"date\": \"2021-04-13T00:00:00\", \"count\": 2, \"seven-day-avg\": 2.0}, {\"date\": \"2021-04-14T00:00:00\", \"count\": 1, \"seven-day-avg\": 1.8571428571428572}, {\"date\": \"2021-04-15T00:00:00\", \"count\": 1, \"seven-day-avg\": 1.8571428571428572}, {\"date\": \"2021-04-20T00:00:00\", \"count\": 1, \"seven-day-avg\": 1.5714285714285714}, {\"date\": \"2021-04-23T00:00:00\", \"count\": 2, \"seven-day-avg\": 1.4285714285714286}, {\"date\": \"2021-04-24T00:00:00\", \"count\": 2, \"seven-day-avg\": 1.5714285714285714}, {\"date\": \"2021-04-26T00:00:00\", \"count\": 1, \"seven-day-avg\": 1.4285714285714286}, {\"date\": \"2021-04-27T00:00:00\", \"count\": 3, \"seven-day-avg\": 1.5714285714285714}, {\"date\": \"2021-04-28T00:00:00\", \"count\": 1, \"seven-day-avg\": 1.5714285714285714}, {\"date\": \"2021-04-30T00:00:00\", \"count\": 1, \"seven-day-avg\": 1.5714285714285714}, {\"date\": \"2021-05-01T00:00:00\", \"count\": 1, \"seven-day-avg\": 1.5714285714285714}, {\"date\": \"2021-05-03T00:00:00\", \"count\": 4, \"seven-day-avg\": 1.8571428571428572}, {\"date\": \"2021-05-04T00:00:00\", \"count\": 1, \"seven-day-avg\": 1.7142857142857142}, {\"date\": \"2021-05-05T00:00:00\", \"count\": 4, \"seven-day-avg\": 2.142857142857143}, {\"date\": \"2021-05-07T00:00:00\", \"count\": 3, \"seven-day-avg\": 2.142857142857143}, {\"date\": \"2021-05-09T00:00:00\", \"count\": 2, \"seven-day-avg\": 2.2857142857142856}, {\"date\": \"2021-05-10T00:00:00\", \"count\": 4, \"seven-day-avg\": 2.7142857142857144}, {\"date\": \"2021-05-11T00:00:00\", \"count\": 1, \"seven-day-avg\": 2.7142857142857144}]}}, {\"mode\": \"vega-lite\"});\n",
       "</script>"
      ],
      "text/plain": [
       "alt.LayerChart(...)"
      ]
     },
     "execution_count": 30,
     "metadata": {},
     "output_type": "execute_result"
    }
   ],
   "source": [
    "bars = (\n",
    "    alt.Chart(\n",
    "        daily,\n",
    "        title=\"Trump posts to the 'desk' since it launched\",\n",
    "    )\n",
    "    .mark_bar(size=10)\n",
    "    .encode(\n",
    "        x=alt.X(\n",
    "            \"date:T\",\n",
    "            axis=alt.Axis(grid=False, title=\"\", tickCount=5, format=(\"%B %-d\")),\n",
    "        ),\n",
    "        y=alt.Y(\n",
    "            \"count:Q\",\n",
    "            scale=alt.Scale(domain=(0, 5)),\n",
    "            axis=alt.Axis(\n",
    "                gridColor=\"#dddddd\",\n",
    "                offset=6,\n",
    "                tickSize=0,\n",
    "                domainOpacity=0,\n",
    "                tickCount=3,\n",
    "                title=\"Daily post count and seven-day average\",\n",
    "            ),\n",
    "        ),\n",
    "    )\n",
    ")\n",
    "\n",
    "rolling = (\n",
    "    alt.Chart(daily)\n",
    "    .mark_line(color=\"red\")\n",
    "    .encode(\n",
    "        y=\"seven-day-avg\",\n",
    "        x=alt.X(\n",
    "            \"date:T\",\n",
    "            axis=alt.Axis(grid=False, title=\"\", tickCount=5, format=(\"%B %-d\")),\n",
    "        ),\n",
    "    )\n",
    ")\n",
    "\n",
    "(bars + rolling).properties(height=350, width=600).configure_view(strokeOpacity=0)"
   ]
  },
  {
   "cell_type": "code",
   "execution_count": 31,
   "metadata": {},
   "outputs": [],
   "source": [
    "(bars + rolling).properties(height=350, width=600).configure_view(strokeOpacity=0).save(\n",
    "    \"visuals/daily_posts.png\"\n",
    ")"
   ]
  },
  {
   "cell_type": "markdown",
   "metadata": {},
   "source": [
    "---"
   ]
  },
  {
   "cell_type": "markdown",
   "metadata": {},
   "source": [
    "### Exports"
   ]
  },
  {
   "cell_type": "code",
   "execution_count": 28,
   "metadata": {},
   "outputs": [],
   "source": [
    "today = dt.date.today().strftime(\"%m-%d-%Y\")"
   ]
  },
  {
   "cell_type": "code",
   "execution_count": 29,
   "metadata": {},
   "outputs": [],
   "source": [
    "df.to_csv(\"archive/posts_\" + str(today) + \".csv\", index=False)\n",
    "df.to_csv(\"output/allposts.csv\", index=False)"
   ]
  }
 ],
 "metadata": {
  "kernelspec": {
   "display_name": "Python 3",
   "language": "python",
   "name": "python3"
  },
  "language_info": {
   "codemirror_mode": {
    "name": "ipython",
    "version": 3
   },
   "file_extension": ".py",
   "mimetype": "text/x-python",
   "name": "python",
   "nbconvert_exporter": "python",
   "pygments_lexer": "ipython3",
   "version": "3.7.4"
  }
 },
 "nbformat": 4,
 "nbformat_minor": 4
}
