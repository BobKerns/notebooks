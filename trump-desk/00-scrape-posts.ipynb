{
 "cells": [
  {
   "cell_type": "markdown",
   "metadata": {},
   "source": [
    "# Scraping former President Trump's 'desk'"
   ]
  },
  {
   "cell_type": "markdown",
   "metadata": {},
   "source": [
    "### Import Python tools and Jupyter configuration"
   ]
  },
  {
   "cell_type": "code",
   "execution_count": 1,
   "metadata": {},
   "outputs": [],
   "source": [
    "%load_ext lab_black"
   ]
  },
  {
   "cell_type": "code",
   "execution_count": 2,
   "metadata": {},
   "outputs": [],
   "source": [
    "import pandas as pd\n",
    "import requests\n",
    "from bs4 import BeautifulSoup\n",
    "import re\n",
    "import datetime as dt\n",
    "import tweepy"
   ]
  },
  {
   "cell_type": "code",
   "execution_count": 3,
   "metadata": {},
   "outputs": [],
   "source": [
    "import altair as alt\n",
    "import altair_latimes as lat\n",
    "import matplotlib.pyplot as plt"
   ]
  },
  {
   "cell_type": "code",
   "execution_count": 4,
   "metadata": {},
   "outputs": [
    {
     "data": {
      "text/plain": [
       "ThemeRegistry.enable('latimes')"
      ]
     },
     "execution_count": 4,
     "metadata": {},
     "output_type": "execute_result"
    }
   ],
   "source": [
    "alt.themes.register(\"latimes\", lat.theme)\n",
    "alt.themes.enable(\"latimes\")"
   ]
  },
  {
   "cell_type": "code",
   "execution_count": 5,
   "metadata": {},
   "outputs": [],
   "source": [
    "pd.options.display.max_columns = 100\n",
    "pd.options.display.max_rows = 1000\n",
    "alt.data_transformers.disable_max_rows()\n",
    "pd.options.display.max_colwidth = None"
   ]
  },
  {
   "cell_type": "markdown",
   "metadata": {},
   "source": [
    "---"
   ]
  },
  {
   "cell_type": "markdown",
   "metadata": {},
   "source": [
    "### Read the page"
   ]
  },
  {
   "cell_type": "code",
   "execution_count": 6,
   "metadata": {},
   "outputs": [],
   "source": [
    "r = requests.get(\"https://www.donaldjtrump.com/desk\")\n",
    "soup = BeautifulSoup(r.text, \"html.parser\")"
   ]
  },
  {
   "cell_type": "markdown",
   "metadata": {},
   "source": [
    "### Grab everything from each post div"
   ]
  },
  {
   "cell_type": "code",
   "execution_count": 7,
   "metadata": {},
   "outputs": [],
   "source": [
    "rows = soup.find_all(\"div\", class_=\"ftdli-main ftd-d\")"
   ]
  },
  {
   "cell_type": "code",
   "execution_count": 8,
   "metadata": {},
   "outputs": [],
   "source": [
    "data = []\n",
    "for r in rows:\n",
    "    if r.find(\"img\") is not None:\n",
    "        image = r.find(\"img\")[\"src\"]\n",
    "    else:\n",
    "        image = \"\"\n",
    "    post_url = r.find(\"div\", class_=\"title ftd-d\").get(\"onclick\")\n",
    "    post = r.find(\"p\", class_=\"ftd-post-text\").text\n",
    "    author = r.find(\"h2\").text\n",
    "    date = r.find(\"div\", class_=\"date ftd-d\").text\n",
    "    raw = r.find(\"p\", class_=\"ftd-post-text\").text\n",
    "    data.append(\n",
    "        dict(\n",
    "            date=date,\n",
    "            url=post_url,\n",
    "            author=author,\n",
    "            post=post,\n",
    "            image=image,\n",
    "        )\n",
    "    )"
   ]
  },
  {
   "cell_type": "markdown",
   "metadata": {},
   "source": [
    "### First item from the dictionary"
   ]
  },
  {
   "cell_type": "code",
   "execution_count": 9,
   "metadata": {},
   "outputs": [
    {
     "data": {
      "text/plain": [
       "{'date': '\\n1:41pm May 7, 2021\\n',\n",
       " 'url': \"location.href='/desk/desk-z9jmnjza6f/';\",\n",
       " 'author': 'Donald J. Trump',\n",
       " 'post': 'Josh Hawley, our fantastic Senator from the beautiful and great State of Missouri, has a fantastic new book, just out this week, about the terrible Big Tech companies and their attempt to ruin our Country. It’s called The Tyranny of Big Tech—it has my Full and Complete Endorsement. Buy it now!',\n",
       " 'image': ''}"
      ]
     },
     "execution_count": 9,
     "metadata": {},
     "output_type": "execute_result"
    }
   ],
   "source": [
    "data[0]"
   ]
  },
  {
   "cell_type": "markdown",
   "metadata": {},
   "source": [
    "### Clean up before importing as a dataframe"
   ]
  },
  {
   "cell_type": "code",
   "execution_count": 10,
   "metadata": {},
   "outputs": [],
   "source": [
    "for d in data:\n",
    "    d[\"date\"] = d[\"date\"].replace(\"\\n\", \"\")\n",
    "    d[\"url\"] = (\n",
    "        d[\"url\"]\n",
    "        .replace(\"location.href='\", \"https://www.donaldjtrump.com\")\n",
    "        .replace(\"/';\", \"\")\n",
    "    )"
   ]
  },
  {
   "cell_type": "code",
   "execution_count": 11,
   "metadata": {},
   "outputs": [],
   "source": [
    "src = pd.DataFrame(data)"
   ]
  },
  {
   "cell_type": "markdown",
   "metadata": {},
   "source": [
    "---"
   ]
  },
  {
   "cell_type": "markdown",
   "metadata": {},
   "source": [
    "### Pull in early posts"
   ]
  },
  {
   "cell_type": "code",
   "execution_count": 12,
   "metadata": {},
   "outputs": [],
   "source": [
    "archive_df = pd.read_csv(\"input/archive.csv\")"
   ]
  },
  {
   "cell_type": "code",
   "execution_count": 13,
   "metadata": {},
   "outputs": [],
   "source": [
    "archive_df.drop([\"video\"], axis=1, inplace=True)"
   ]
  },
  {
   "cell_type": "code",
   "execution_count": 14,
   "metadata": {},
   "outputs": [],
   "source": [
    "df = pd.concat([src, archive_df]).drop_duplicates(subset=\"url\", keep=\"first\")"
   ]
  },
  {
   "cell_type": "markdown",
   "metadata": {},
   "source": [
    "### How many posts total? "
   ]
  },
  {
   "cell_type": "code",
   "execution_count": 15,
   "metadata": {},
   "outputs": [
    {
     "data": {
      "text/plain": [
       "49"
      ]
     },
     "execution_count": 15,
     "metadata": {},
     "output_type": "execute_result"
    }
   ],
   "source": [
    "len(df)"
   ]
  },
  {
   "cell_type": "markdown",
   "metadata": {},
   "source": [
    "### Last five posts"
   ]
  },
  {
   "cell_type": "code",
   "execution_count": 16,
   "metadata": {},
   "outputs": [
    {
     "data": {
      "text/html": [
       "<div>\n",
       "<style scoped>\n",
       "    .dataframe tbody tr th:only-of-type {\n",
       "        vertical-align: middle;\n",
       "    }\n",
       "\n",
       "    .dataframe tbody tr th {\n",
       "        vertical-align: top;\n",
       "    }\n",
       "\n",
       "    .dataframe thead th {\n",
       "        text-align: right;\n",
       "    }\n",
       "</style>\n",
       "<table border=\"1\" class=\"dataframe\">\n",
       "  <thead>\n",
       "    <tr style=\"text-align: right;\">\n",
       "      <th></th>\n",
       "      <th>date</th>\n",
       "      <th>url</th>\n",
       "      <th>author</th>\n",
       "      <th>post</th>\n",
       "      <th>image</th>\n",
       "    </tr>\n",
       "  </thead>\n",
       "  <tbody>\n",
       "    <tr>\n",
       "      <th>0</th>\n",
       "      <td>1:41pm May 7, 2021</td>\n",
       "      <td>https://www.donaldjtrump.com/desk/desk-z9jmnjza6f</td>\n",
       "      <td>Donald J. Trump</td>\n",
       "      <td>Josh Hawley, our fantastic Senator from the beautiful and great State of Missouri, has a fantastic new book, just out this week, about the terrible Big Tech companies and their attempt to ruin our Country. It’s called The Tyranny of Big Tech—it has my Full and Complete Endorsement. Buy it now!</td>\n",
       "      <td></td>\n",
       "    </tr>\n",
       "    <tr>\n",
       "      <th>1</th>\n",
       "      <td>10:11am May 7, 2021</td>\n",
       "      <td>https://www.donaldjtrump.com/desk/desk-sv5wzzsjev</td>\n",
       "      <td>Donald J. Trump</td>\n",
       "      <td>At 6:31 in the morning on November 4th, a dump of 149,772 votes came in to the State of Michigan. Biden received 96% of those votes and the State miraculously went to him. Has the Michigan State Senate started their review of the Fraudulent Presidential Election of 2020 yet, or are they about to start? If not, they should be run out of office. Likewise, at 3:42 in the morning, a dump of 143,379 votes came in to the state of Wisconsin, also miraculously, given to Biden. Where did these “votes” come from? Both were State Election changing events, and that is on top of the other corruption without even including the fact that neither state got Legislative approval, which is required under the United States Constitution.</td>\n",
       "      <td></td>\n",
       "    </tr>\n",
       "    <tr>\n",
       "      <th>2</th>\n",
       "      <td>9:03am May 7, 2021</td>\n",
       "      <td>https://www.donaldjtrump.com/desk/desk-w2ur8p3wzk</td>\n",
       "      <td>Donald J. Trump</td>\n",
       "      <td>The Federal Election Commission in Washington, D.C., has totally dropped the phony case against me concerning payments to women relative to the 2016 Presidential Election. It was a case built on lies from Michael Cohen, a corrupt and convicted lawyer, a lawyer in fact who was so corrupt he was sentenced to three years in jail for lying to Congress and many other things having nothing to do with me. I thank the Commission for their decision, ending this chapter of Fake News. Between two sleazebag lawyers, Michael Avenatti and Michael Cohen, we were all able to witness law and justice in our Country at its lowest!</td>\n",
       "      <td></td>\n",
       "    </tr>\n",
       "    <tr>\n",
       "      <th>3</th>\n",
       "      <td>11:57am May 6, 2021</td>\n",
       "      <td>https://www.donaldjtrump.com/desk/desk-hgnfasttbf</td>\n",
       "      <td>Donald J. Trump</td>\n",
       "      <td>The Fake News Media, working in close conjunction with Big Tech and the Radical Left Democrats, is doing everything they can to perpetuate the term “The Big Lie” when speaking of 2020 Presidential Election Fraud. They are right in that the 2020 Presidential Election was a Big Lie, but not in the way they mean. The 2020 Election, which didn’t even have Legislative approvals from many States (which is required under the U.S. Constitution), and was also otherwise corrupt, was indeed The Big Lie. So when they try to sell the American people the term The Big Lie, which they do in unison and coordination, think of it instead as the greatest Fraud in the history of our Country! An even greater Hoax than Russia, Russia, Russia, Mueller, Mueller, Mueller, Impeachment Hoax #1, Impeachment Hoax #2, or any of the other many scams the Democrats pulled!</td>\n",
       "      <td></td>\n",
       "    </tr>\n",
       "    <tr>\n",
       "      <th>4</th>\n",
       "      <td>9:48am May 6, 2021</td>\n",
       "      <td>https://www.donaldjtrump.com/desk/desk-dqvrd5gscw</td>\n",
       "      <td>Donald J. Trump</td>\n",
       "      <td>Congratulations to the great Patriots of Windham, New Hampshire for their incredible fight to seek out the truth on the massive Election Fraud which took place in New Hampshire and the 2020 Presidential Election. The spirit for transparency and justice is being displayed all over the Country by media outlets which do not represent Fake News. People are watching in droves as these Patriots work tirelessly to reveal the real facts of the most tainted and corrupt Election in American history. Congratulations Windham—look forward to seeing the results.</td>\n",
       "      <td></td>\n",
       "    </tr>\n",
       "  </tbody>\n",
       "</table>\n",
       "</div>"
      ],
      "text/plain": [
       "                  date                                                url  \\\n",
       "0   1:41pm May 7, 2021  https://www.donaldjtrump.com/desk/desk-z9jmnjza6f   \n",
       "1  10:11am May 7, 2021  https://www.donaldjtrump.com/desk/desk-sv5wzzsjev   \n",
       "2   9:03am May 7, 2021  https://www.donaldjtrump.com/desk/desk-w2ur8p3wzk   \n",
       "3  11:57am May 6, 2021  https://www.donaldjtrump.com/desk/desk-hgnfasttbf   \n",
       "4   9:48am May 6, 2021  https://www.donaldjtrump.com/desk/desk-dqvrd5gscw   \n",
       "\n",
       "            author  \\\n",
       "0  Donald J. Trump   \n",
       "1  Donald J. Trump   \n",
       "2  Donald J. Trump   \n",
       "3  Donald J. Trump   \n",
       "4  Donald J. Trump   \n",
       "\n",
       "                                                                                                                                                                                                                                                                                                                                                                                                                                                                                                                                                                                                                                                                                                                                                                                                                                                                                  post  \\\n",
       "0                                                                                                                                                                                                                                                                                                                                                                                                                                                                                                                                                                               Josh Hawley, our fantastic Senator from the beautiful and great State of Missouri, has a fantastic new book, just out this week, about the terrible Big Tech companies and their attempt to ruin our Country. It’s called The Tyranny of Big Tech—it has my Full and Complete Endorsement. Buy it now!   \n",
       "1                                                                                                                               At 6:31 in the morning on November 4th, a dump of 149,772 votes came in to the State of Michigan. Biden received 96% of those votes and the State miraculously went to him. Has the Michigan State Senate started their review of the Fraudulent Presidential Election of 2020 yet, or are they about to start? If not, they should be run out of office. Likewise, at 3:42 in the morning, a dump of 143,379 votes came in to the state of Wisconsin, also miraculously, given to Biden. Where did these “votes” come from? Both were State Election changing events, and that is on top of the other corruption without even including the fact that neither state got Legislative approval, which is required under the United States Constitution.   \n",
       "2                                                                                                                                                                                                                                          The Federal Election Commission in Washington, D.C., has totally dropped the phony case against me concerning payments to women relative to the 2016 Presidential Election. It was a case built on lies from Michael Cohen, a corrupt and convicted lawyer, a lawyer in fact who was so corrupt he was sentenced to three years in jail for lying to Congress and many other things having nothing to do with me. I thank the Commission for their decision, ending this chapter of Fake News. Between two sleazebag lawyers, Michael Avenatti and Michael Cohen, we were all able to witness law and justice in our Country at its lowest!   \n",
       "3  The Fake News Media, working in close conjunction with Big Tech and the Radical Left Democrats, is doing everything they can to perpetuate the term “The Big Lie” when speaking of 2020 Presidential Election Fraud. They are right in that the 2020 Presidential Election was a Big Lie, but not in the way they mean. The 2020 Election, which didn’t even have Legislative approvals from many States (which is required under the U.S. Constitution), and was also otherwise corrupt, was indeed The Big Lie. So when they try to sell the American people the term The Big Lie, which they do in unison and coordination, think of it instead as the greatest Fraud in the history of our Country! An even greater Hoax than Russia, Russia, Russia, Mueller, Mueller, Mueller, Impeachment Hoax #1, Impeachment Hoax #2, or any of the other many scams the Democrats pulled!   \n",
       "4                                                                                                                                                                                                                                                                                                           Congratulations to the great Patriots of Windham, New Hampshire for their incredible fight to seek out the truth on the massive Election Fraud which took place in New Hampshire and the 2020 Presidential Election. The spirit for transparency and justice is being displayed all over the Country by media outlets which do not represent Fake News. People are watching in droves as these Patriots work tirelessly to reveal the real facts of the most tainted and corrupt Election in American history. Congratulations Windham—look forward to seeing the results.   \n",
       "\n",
       "  image  \n",
       "0        \n",
       "1        \n",
       "2        \n",
       "3        \n",
       "4        "
      ]
     },
     "execution_count": 16,
     "metadata": {},
     "output_type": "execute_result"
    }
   ],
   "source": [
    "df.head(5)"
   ]
  },
  {
   "cell_type": "markdown",
   "metadata": {},
   "source": [
    "### How many mention 'election'?"
   ]
  },
  {
   "cell_type": "code",
   "execution_count": 17,
   "metadata": {},
   "outputs": [],
   "source": [
    "election = df[\n",
    "    (df[\"post\"].str.contains(\"election\")) | (df[\"post\"].str.contains(\"Election\"))\n",
    "]"
   ]
  },
  {
   "cell_type": "code",
   "execution_count": 18,
   "metadata": {},
   "outputs": [
    {
     "data": {
      "text/plain": [
       "28"
      ]
     },
     "execution_count": 18,
     "metadata": {},
     "output_type": "execute_result"
    }
   ],
   "source": [
    "len(election)"
   ]
  },
  {
   "cell_type": "markdown",
   "metadata": {},
   "source": [
    "### Clean up the dates"
   ]
  },
  {
   "cell_type": "code",
   "execution_count": 19,
   "metadata": {},
   "outputs": [],
   "source": [
    "df[\"fulldate\"] = pd.to_datetime(df[\"date\"])\n",
    "df[\"date\"] = df[\"fulldate\"].dt.date\n",
    "df[\"time\"] = df[\"fulldate\"].dt.time"
   ]
  },
  {
   "cell_type": "code",
   "execution_count": 20,
   "metadata": {},
   "outputs": [],
   "source": [
    "post_urls = list(df[\"url\"])"
   ]
  },
  {
   "cell_type": "markdown",
   "metadata": {},
   "source": [
    "---"
   ]
  },
  {
   "cell_type": "markdown",
   "metadata": {},
   "source": [
    "### Posts per day "
   ]
  },
  {
   "cell_type": "code",
   "execution_count": 21,
   "metadata": {},
   "outputs": [],
   "source": [
    "daily = df.groupby([\"date\"])[\"author\"].count().reset_index(name=\"count\")"
   ]
  },
  {
   "cell_type": "code",
   "execution_count": 22,
   "metadata": {},
   "outputs": [],
   "source": [
    "daily[\"date\"] = pd.to_datetime(daily[\"date\"])"
   ]
  },
  {
   "cell_type": "code",
   "execution_count": 23,
   "metadata": {},
   "outputs": [
    {
     "data": {
      "text/html": [
       "<div>\n",
       "<style scoped>\n",
       "    .dataframe tbody tr th:only-of-type {\n",
       "        vertical-align: middle;\n",
       "    }\n",
       "\n",
       "    .dataframe tbody tr th {\n",
       "        vertical-align: top;\n",
       "    }\n",
       "\n",
       "    .dataframe thead th {\n",
       "        text-align: right;\n",
       "    }\n",
       "</style>\n",
       "<table border=\"1\" class=\"dataframe\">\n",
       "  <thead>\n",
       "    <tr style=\"text-align: right;\">\n",
       "      <th></th>\n",
       "      <th>date</th>\n",
       "      <th>count</th>\n",
       "    </tr>\n",
       "  </thead>\n",
       "  <tbody>\n",
       "    <tr>\n",
       "      <th>23</th>\n",
       "      <td>2021-05-03</td>\n",
       "      <td>4</td>\n",
       "    </tr>\n",
       "    <tr>\n",
       "      <th>25</th>\n",
       "      <td>2021-05-05</td>\n",
       "      <td>4</td>\n",
       "    </tr>\n",
       "    <tr>\n",
       "      <th>27</th>\n",
       "      <td>2021-05-07</td>\n",
       "      <td>3</td>\n",
       "    </tr>\n",
       "    <tr>\n",
       "      <th>19</th>\n",
       "      <td>2021-04-27</td>\n",
       "      <td>3</td>\n",
       "    </tr>\n",
       "    <tr>\n",
       "      <th>8</th>\n",
       "      <td>2021-04-07</td>\n",
       "      <td>3</td>\n",
       "    </tr>\n",
       "  </tbody>\n",
       "</table>\n",
       "</div>"
      ],
      "text/plain": [
       "         date  count\n",
       "23 2021-05-03      4\n",
       "25 2021-05-05      4\n",
       "27 2021-05-07      3\n",
       "19 2021-04-27      3\n",
       "8  2021-04-07      3"
      ]
     },
     "execution_count": 23,
     "metadata": {},
     "output_type": "execute_result"
    }
   ],
   "source": [
    "daily.sort_values(\"count\", ascending=False).head()"
   ]
  },
  {
   "cell_type": "markdown",
   "metadata": {},
   "source": [
    "### Chart it!"
   ]
  },
  {
   "cell_type": "code",
   "execution_count": 24,
   "metadata": {},
   "outputs": [
    {
     "data": {
      "text/html": [
       "\n",
       "<div id=\"altair-viz-ef9a031027b948fc97e2b49236af1a89\"></div>\n",
       "<script type=\"text/javascript\">\n",
       "  (function(spec, embedOpt){\n",
       "    const outputDiv = document.getElementById(\"altair-viz-ef9a031027b948fc97e2b49236af1a89\");\n",
       "    const paths = {\n",
       "      \"vega\": \"https://cdn.jsdelivr.net/npm//vega@5?noext\",\n",
       "      \"vega-lib\": \"https://cdn.jsdelivr.net/npm//vega-lib?noext\",\n",
       "      \"vega-lite\": \"https://cdn.jsdelivr.net/npm//vega-lite@4.0.2?noext\",\n",
       "      \"vega-embed\": \"https://cdn.jsdelivr.net/npm//vega-embed@6?noext\",\n",
       "    };\n",
       "\n",
       "    function loadScript(lib) {\n",
       "      return new Promise(function(resolve, reject) {\n",
       "        var s = document.createElement('script');\n",
       "        s.src = paths[lib];\n",
       "        s.async = true;\n",
       "        s.onload = () => resolve(paths[lib]);\n",
       "        s.onerror = () => reject(`Error loading script: ${paths[lib]}`);\n",
       "        document.getElementsByTagName(\"head\")[0].appendChild(s);\n",
       "      });\n",
       "    }\n",
       "\n",
       "    function showError(err) {\n",
       "      outputDiv.innerHTML = `<div class=\"error\" style=\"color:red;\">${err}</div>`;\n",
       "      throw err;\n",
       "    }\n",
       "\n",
       "    function displayChart(vegaEmbed) {\n",
       "      vegaEmbed(outputDiv, spec, embedOpt)\n",
       "        .catch(err => showError(`Javascript Error: ${err.message}<br>This usually means there's a typo in your chart specification. See the javascript console for the full traceback.`));\n",
       "    }\n",
       "\n",
       "    if(typeof define === \"function\" && define.amd) {\n",
       "      requirejs.config({paths});\n",
       "      require([\"vega-embed\"], displayChart, err => showError(`Error loading script: ${err.message}`));\n",
       "    } else if (typeof vegaEmbed === \"function\") {\n",
       "      displayChart(vegaEmbed);\n",
       "    } else {\n",
       "      loadScript(\"vega\")\n",
       "        .then(() => loadScript(\"vega-lite\"))\n",
       "        .then(() => loadScript(\"vega-embed\"))\n",
       "        .catch(showError)\n",
       "        .then(() => displayChart(vegaEmbed));\n",
       "    }\n",
       "  })({\"config\": {\"view\": {\"width\": 800, \"height\": 450, \"strokeOpacity\": 0}, \"background\": \"#ffffff\", \"title\": {\"anchor\": \"start\", \"font\": \"Benton Gothic Bold, sans\", \"fontColor\": \"#000000\", \"fontSize\": 22, \"fontWeight\": \"normal\"}, \"arc\": {\"fill\": \"#82c6df\"}, \"area\": {\"fill\": \"#82c6df\"}, \"line\": {\"stroke\": \"#82c6df\", \"strokeWidth\": 3}, \"path\": {\"stroke\": \"#82c6df\"}, \"rect\": {\"fill\": \"#82c6df\"}, \"shape\": {\"stroke\": \"#82c6df\"}, \"bar\": {\"fill\": \"#82c6df\"}, \"point\": {\"stroke\": \"#82c6df\"}, \"symbol\": {\"fill\": \"#82c6df\", \"size\": 30}, \"axis\": {\"titleFont\": \"Benton Gothic Bold, sans\", \"titleFontSize\": 13, \"titleFontWeight\": \"normal\", \"labelFont\": \"Benton Gothic, sans\", \"labelFontSize\": 11.5, \"labelFontWeight\": \"normal\"}, \"axisX\": {\"labelAngle\": 0, \"labelPadding\": 4, \"tickSize\": 3}, \"axisY\": {\"labelBaseline\": \"middle\", \"maxExtent\": 45, \"minExtent\": 45, \"tickSize\": 2, \"titleAlign\": \"left\", \"titleAngle\": 0, \"titleX\": -45, \"titleY\": -11}, \"legend\": {\"titleFont\": \"Benton Gothic Bold, sans\", \"titleFontSize\": 13, \"titleFontWeight\": \"normal\", \"symbolType\": \"square\", \"labelFont\": \"Benton Gothic, sans\", \"labelFontSize\": 11.5}, \"range\": {\"category\": [\"#3580b1\", \"#ec8431\", \"#ab7fb4\", \"#c89d29\", \"#adc839\", \"#829eb1\"], \"diverging\": [\"#e68a4f\", \"#f4bb6a\", \"#f9e39c\", \"#dadfe2\", \"#a6b7c6\", \"#849eae\"], \"heatmap\": [\"#fbf2c7\", \"#f9e39c\", \"#f8d36e\", \"#f4bb6a\", \"#e68a4f\", \"#d15a40\", \"#ab4232\"], \"ordinal\": [\"#fbf2c7\", \"#f9e39c\", \"#f8d36e\", \"#f4bb6a\", \"#e68a4f\", \"#d15a40\", \"#ab4232\"], \"ramp\": [\"#fbf2c7\", \"#f9e39c\", \"#f8d36e\", \"#f4bb6a\", \"#e68a4f\", \"#d15a40\", \"#ab4232\"]}}, \"layer\": [{\"mark\": {\"type\": \"bar\", \"size\": 10}, \"encoding\": {\"x\": {\"type\": \"temporal\", \"axis\": {\"format\": \"%B %-d\", \"grid\": false, \"tickCount\": 5, \"title\": \"\"}, \"field\": \"date\"}, \"y\": {\"type\": \"quantitative\", \"axis\": {\"domainOpacity\": 0, \"gridColor\": \"#dddddd\", \"offset\": 6, \"tickCount\": 3, \"tickSize\": 0, \"title\": \"Daily post count and mean\"}, \"field\": \"count\", \"scale\": {\"domain\": [0, 5]}}}, \"title\": \"Trump posts to the 'desk' since it launched\"}, {\"mark\": {\"type\": \"rule\", \"color\": \"red\"}, \"encoding\": {\"y\": {\"type\": \"quantitative\", \"aggregate\": \"mean\", \"field\": \"count\"}}}, {\"mark\": {\"type\": \"text\", \"align\": \"center\", \"baseline\": \"middle\", \"dx\": 220, \"dy\": 10, \"fontWeight\": \"bold\"}, \"encoding\": {\"text\": {\"type\": \"quantitative\", \"aggregate\": \"mean\", \"field\": \"count\", \"format\": \".2\"}, \"y\": {\"type\": \"quantitative\", \"aggregate\": \"mean\", \"field\": \"count\"}}}], \"data\": {\"name\": \"data-1e6bc0c62e75a4108ae4e9699d7ffae1\"}, \"height\": 350, \"width\": 600, \"$schema\": \"https://vega.github.io/schema/vega-lite/v4.0.2.json\", \"datasets\": {\"data-1e6bc0c62e75a4108ae4e9699d7ffae1\": [{\"date\": \"2021-03-24T00:00:00\", \"count\": 1}, {\"date\": \"2021-03-26T00:00:00\", \"count\": 1}, {\"date\": \"2021-03-30T00:00:00\", \"count\": 1}, {\"date\": \"2021-04-02T00:00:00\", \"count\": 2}, {\"date\": \"2021-04-03T00:00:00\", \"count\": 1}, {\"date\": \"2021-04-04T00:00:00\", \"count\": 1}, {\"date\": \"2021-04-05T00:00:00\", \"count\": 2}, {\"date\": \"2021-04-06T00:00:00\", \"count\": 1}, {\"date\": \"2021-04-07T00:00:00\", \"count\": 3}, {\"date\": \"2021-04-08T00:00:00\", \"count\": 3}, {\"date\": \"2021-04-09T00:00:00\", \"count\": 1}, {\"date\": \"2021-04-12T00:00:00\", \"count\": 2}, {\"date\": \"2021-04-13T00:00:00\", \"count\": 2}, {\"date\": \"2021-04-14T00:00:00\", \"count\": 1}, {\"date\": \"2021-04-15T00:00:00\", \"count\": 1}, {\"date\": \"2021-04-20T00:00:00\", \"count\": 1}, {\"date\": \"2021-04-23T00:00:00\", \"count\": 2}, {\"date\": \"2021-04-24T00:00:00\", \"count\": 2}, {\"date\": \"2021-04-26T00:00:00\", \"count\": 1}, {\"date\": \"2021-04-27T00:00:00\", \"count\": 3}, {\"date\": \"2021-04-28T00:00:00\", \"count\": 1}, {\"date\": \"2021-04-30T00:00:00\", \"count\": 1}, {\"date\": \"2021-05-01T00:00:00\", \"count\": 1}, {\"date\": \"2021-05-03T00:00:00\", \"count\": 4}, {\"date\": \"2021-05-04T00:00:00\", \"count\": 1}, {\"date\": \"2021-05-05T00:00:00\", \"count\": 4}, {\"date\": \"2021-05-06T00:00:00\", \"count\": 2}, {\"date\": \"2021-05-07T00:00:00\", \"count\": 3}]}}, {\"mode\": \"vega-lite\"});\n",
       "</script>"
      ],
      "text/plain": [
       "alt.LayerChart(...)"
      ]
     },
     "execution_count": 24,
     "metadata": {},
     "output_type": "execute_result"
    }
   ],
   "source": [
    "lines = (\n",
    "    alt.Chart(\n",
    "        daily,\n",
    "        title=\"Trump posts to the 'desk' since it launched\",\n",
    "    )\n",
    "    .mark_bar(size=10)\n",
    "    .encode(\n",
    "        x=alt.X(\n",
    "            \"date:T\",\n",
    "            axis=alt.Axis(grid=False, title=\"\", tickCount=5, format=(\"%B %-d\")),\n",
    "        ),\n",
    "        y=alt.Y(\n",
    "            \"count:Q\",\n",
    "            scale=alt.Scale(domain=(0, 5)),\n",
    "            axis=alt.Axis(\n",
    "                gridColor=\"#dddddd\",\n",
    "                offset=6,\n",
    "                tickSize=0,\n",
    "                domainOpacity=0,\n",
    "                tickCount=3,\n",
    "                title=\"Daily post count and mean\",\n",
    "            ),\n",
    "        ),\n",
    "    )\n",
    ")\n",
    "\n",
    "rule = alt.Chart(daily).mark_rule(color=\"red\").encode(y=\"mean(count):Q\")\n",
    "\n",
    "# rule label -- would like to add \"Average: \" annotation\n",
    "text = rule.mark_text(\n",
    "    align=\"center\",\n",
    "    baseline=\"middle\",\n",
    "    dx=220,\n",
    "    dy=10,\n",
    "    fontWeight=\"bold\",\n",
    ").encode(text=alt.Text(\"mean(count):Q\", format=\".2\"))\n",
    "\n",
    "(lines + rule + text).properties(height=350, width=600).configure_view(strokeOpacity=0)"
   ]
  },
  {
   "cell_type": "code",
   "execution_count": 25,
   "metadata": {},
   "outputs": [],
   "source": [
    "(lines + rule + text).properties(height=350, width=600).configure_view(\n",
    "    strokeOpacity=0\n",
    ").save(\"visuals/daily_posts.png\")"
   ]
  },
  {
   "cell_type": "markdown",
   "metadata": {},
   "source": [
    "---"
   ]
  },
  {
   "cell_type": "markdown",
   "metadata": {},
   "source": [
    "### Exports"
   ]
  },
  {
   "cell_type": "code",
   "execution_count": 26,
   "metadata": {},
   "outputs": [],
   "source": [
    "today = dt.date.today().strftime(\"%m-%d-%Y\")"
   ]
  },
  {
   "cell_type": "code",
   "execution_count": 27,
   "metadata": {},
   "outputs": [],
   "source": [
    "df.to_csv(\"archive/posts_\" + str(today) + \".csv\", index=False)\n",
    "df.to_csv(\"output/allposts.csv\", index=False)"
   ]
  }
 ],
 "metadata": {
  "kernelspec": {
   "display_name": "Python 3",
   "language": "python",
   "name": "python3"
  },
  "language_info": {
   "codemirror_mode": {
    "name": "ipython",
    "version": 3
   },
   "file_extension": ".py",
   "mimetype": "text/x-python",
   "name": "python",
   "nbconvert_exporter": "python",
   "pygments_lexer": "ipython3",
   "version": "3.7.4"
  }
 },
 "nbformat": 4,
 "nbformat_minor": 4
}
