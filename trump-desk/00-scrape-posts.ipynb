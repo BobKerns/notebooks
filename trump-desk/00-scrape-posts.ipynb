{
 "cells": [
  {
   "cell_type": "markdown",
   "metadata": {},
   "source": [
    "# Scraping former President Trump's 'desk'"
   ]
  },
  {
   "cell_type": "markdown",
   "metadata": {},
   "source": [
    "### Import Python tools and Jupyter configuration"
   ]
  },
  {
   "cell_type": "code",
   "execution_count": 1,
   "metadata": {},
   "outputs": [],
   "source": [
    "%load_ext lab_black"
   ]
  },
  {
   "cell_type": "code",
   "execution_count": 2,
   "metadata": {},
   "outputs": [],
   "source": [
    "import pandas as pd\n",
    "import requests\n",
    "from bs4 import BeautifulSoup\n",
    "import re\n",
    "import datetime as dt"
   ]
  },
  {
   "cell_type": "code",
   "execution_count": 3,
   "metadata": {},
   "outputs": [],
   "source": [
    "import altair as alt\n",
    "import altair_latimes as lat\n",
    "import matplotlib.pyplot as plt"
   ]
  },
  {
   "cell_type": "code",
   "execution_count": 4,
   "metadata": {},
   "outputs": [
    {
     "data": {
      "text/plain": [
       "ThemeRegistry.enable('latimes')"
      ]
     },
     "execution_count": 4,
     "metadata": {},
     "output_type": "execute_result"
    }
   ],
   "source": [
    "alt.themes.register(\"latimes\", lat.theme)\n",
    "alt.themes.enable(\"latimes\")"
   ]
  },
  {
   "cell_type": "code",
   "execution_count": 5,
   "metadata": {},
   "outputs": [],
   "source": [
    "pd.options.display.max_columns = 100\n",
    "pd.options.display.max_rows = 1000\n",
    "alt.data_transformers.disable_max_rows()\n",
    "pd.options.display.max_colwidth = None"
   ]
  },
  {
   "cell_type": "markdown",
   "metadata": {},
   "source": [
    "---"
   ]
  },
  {
   "cell_type": "markdown",
   "metadata": {},
   "source": [
    "### Read the page"
   ]
  },
  {
   "cell_type": "code",
   "execution_count": 6,
   "metadata": {},
   "outputs": [],
   "source": [
    "r = requests.get(\"https://www.donaldjtrump.com/desk\")\n",
    "soup = BeautifulSoup(r.text, \"html.parser\")"
   ]
  },
  {
   "cell_type": "markdown",
   "metadata": {},
   "source": [
    "### Grab everything from each post div"
   ]
  },
  {
   "cell_type": "code",
   "execution_count": 7,
   "metadata": {},
   "outputs": [],
   "source": [
    "rows = soup.find_all(\"div\", class_=\"ftdli-main ftd-d\")"
   ]
  },
  {
   "cell_type": "code",
   "execution_count": 8,
   "metadata": {},
   "outputs": [],
   "source": [
    "data = []\n",
    "for r in rows:\n",
    "    if r.find(\"img\") is not None:\n",
    "        image = r.find(\"img\")[\"src\"]\n",
    "    else:\n",
    "        image = \"\"\n",
    "    post_url = r.find(\"div\", class_=\"title ftd-d\").get(\"onclick\")\n",
    "    post = r.find(\"p\", class_=\"ftd-post-text\").text\n",
    "    author = r.find(\"h2\").text\n",
    "    date = r.find(\"div\", class_=\"date ftd-d\").text\n",
    "    raw = r.find(\"p\", class_=\"ftd-post-text\").text\n",
    "    data.append(\n",
    "        dict(\n",
    "            date=date,\n",
    "            url=post_url,\n",
    "            author=author,\n",
    "            post=post,\n",
    "            image=image,\n",
    "        )\n",
    "    )"
   ]
  },
  {
   "cell_type": "markdown",
   "metadata": {},
   "source": [
    "### First item from the dictionary"
   ]
  },
  {
   "cell_type": "code",
   "execution_count": 9,
   "metadata": {},
   "outputs": [
    {
     "data": {
      "text/plain": [
       "{'date': '\\n6:17pm May 21, 2021\\n',\n",
       " 'url': \"location.href='/desk/desk-cc9k2cjkge/';\",\n",
       " 'author': 'Donald J. Trump',\n",
       " 'post': 'Many people have asked about the beautiful Boeing 757 that became so iconic during the Trump rallies. It was effectively kept in storage in Upstate New York in that I was not allowed to use it during my presidency. It is now being fully restored and updated and will be put back into service sometime prior to the end of the year. It will soon be brought to a Louisiana service facility for the completion of work, inspection and updating of Rolls-Royce engines, and a brand new paint job. When completed, it will be better than ever, and again used at upcoming rallies!',\n",
       " 'image': ''}"
      ]
     },
     "execution_count": 9,
     "metadata": {},
     "output_type": "execute_result"
    }
   ],
   "source": [
    "data[0]"
   ]
  },
  {
   "cell_type": "markdown",
   "metadata": {},
   "source": [
    "### Clean up before importing as a dataframe"
   ]
  },
  {
   "cell_type": "code",
   "execution_count": 10,
   "metadata": {},
   "outputs": [],
   "source": [
    "for d in data:\n",
    "    d[\"date\"] = d[\"date\"].replace(\"\\n\", \"\")\n",
    "    d[\"url\"] = (\n",
    "        d[\"url\"]\n",
    "        .replace(\"location.href='\", \"https://www.donaldjtrump.com\")\n",
    "        .replace(\"/';\", \"\")\n",
    "    )"
   ]
  },
  {
   "cell_type": "code",
   "execution_count": 11,
   "metadata": {},
   "outputs": [],
   "source": [
    "src = pd.DataFrame(data)"
   ]
  },
  {
   "cell_type": "markdown",
   "metadata": {},
   "source": [
    "---"
   ]
  },
  {
   "cell_type": "markdown",
   "metadata": {},
   "source": [
    "### Pull in early posts"
   ]
  },
  {
   "cell_type": "code",
   "execution_count": 12,
   "metadata": {},
   "outputs": [],
   "source": [
    "archive_df = pd.read_csv(\"input/archive.csv\")"
   ]
  },
  {
   "cell_type": "code",
   "execution_count": 13,
   "metadata": {},
   "outputs": [],
   "source": [
    "archive_df.drop([\"video\"], axis=1, inplace=True)"
   ]
  },
  {
   "cell_type": "code",
   "execution_count": 14,
   "metadata": {},
   "outputs": [],
   "source": [
    "df = pd.concat([src, archive_df]).drop_duplicates(subset=\"url\", keep=\"first\")"
   ]
  },
  {
   "cell_type": "markdown",
   "metadata": {},
   "source": [
    "### How many posts total? "
   ]
  },
  {
   "cell_type": "code",
   "execution_count": 15,
   "metadata": {},
   "outputs": [
    {
     "data": {
      "text/plain": [
       "54"
      ]
     },
     "execution_count": 15,
     "metadata": {},
     "output_type": "execute_result"
    }
   ],
   "source": [
    "len(df)"
   ]
  },
  {
   "cell_type": "markdown",
   "metadata": {},
   "source": [
    "### Last five posts"
   ]
  },
  {
   "cell_type": "code",
   "execution_count": 16,
   "metadata": {},
   "outputs": [
    {
     "data": {
      "text/html": [
       "<div>\n",
       "<style scoped>\n",
       "    .dataframe tbody tr th:only-of-type {\n",
       "        vertical-align: middle;\n",
       "    }\n",
       "\n",
       "    .dataframe tbody tr th {\n",
       "        vertical-align: top;\n",
       "    }\n",
       "\n",
       "    .dataframe thead th {\n",
       "        text-align: right;\n",
       "    }\n",
       "</style>\n",
       "<table border=\"1\" class=\"dataframe\">\n",
       "  <thead>\n",
       "    <tr style=\"text-align: right;\">\n",
       "      <th></th>\n",
       "      <th>date</th>\n",
       "      <th>url</th>\n",
       "      <th>author</th>\n",
       "      <th>post</th>\n",
       "      <th>image</th>\n",
       "    </tr>\n",
       "  </thead>\n",
       "  <tbody>\n",
       "    <tr>\n",
       "      <th>0</th>\n",
       "      <td>6:17pm May 21, 2021</td>\n",
       "      <td>https://www.donaldjtrump.com/desk/desk-cc9k2cjkge</td>\n",
       "      <td>Donald J. Trump</td>\n",
       "      <td>Many people have asked about the beautiful Boeing 757 that became so iconic during the Trump rallies. It was effectively kept in storage in Upstate New York in that I was not allowed to use it during my presidency. It is now being fully restored and updated and will be put back into service sometime prior to the end of the year. It will soon be brought to a Louisiana service facility for the completion of work, inspection and updating of Rolls-Royce engines, and a brand new paint job. When completed, it will be better than ever, and again used at upcoming rallies!</td>\n",
       "      <td></td>\n",
       "    </tr>\n",
       "    <tr>\n",
       "      <th>1</th>\n",
       "      <td>12:41pm May 20, 2021</td>\n",
       "      <td>https://www.donaldjtrump.com/desk/desk-ecxupbx2p2</td>\n",
       "      <td>Donald J. Trump</td>\n",
       "      <td>See, 35 wayward Republicans—they just can’t help themselves. We have much better policy and are much better for the Country, but the Democrats stick together, the Republicans don’t. They don’t have the Romney’s, Little Ben Sasse’s, and Cheney’s of the world. Unfortunately, we do. Sometimes there are consequences to being ineffective and weak. The voters understand!</td>\n",
       "      <td></td>\n",
       "    </tr>\n",
       "    <tr>\n",
       "      <th>2</th>\n",
       "      <td>9:31pm May 19, 2021</td>\n",
       "      <td>https://www.donaldjtrump.com/desk/desk-jtag3nem59</td>\n",
       "      <td>Donald J. Trump</td>\n",
       "      <td>A loan of $1.2 billion has closed on the asset known as the Bank of America Building (555 California Street) in San Francisco, CA. The interest rate is approximately 2%. Thank you!</td>\n",
       "      <td></td>\n",
       "    </tr>\n",
       "    <tr>\n",
       "      <th>3</th>\n",
       "      <td>7:58pm May 19, 2021</td>\n",
       "      <td>https://www.donaldjtrump.com/desk/desk-bc3qjwctre</td>\n",
       "      <td>Donald J. Trump</td>\n",
       "      <td>Stick with Kirstie Alley! She is a great actress, loved by so many people, and a true original. She is also strong and smart. Many millions of people greatly appreciate her support of our Country. Thank you Kirstie, you are truly appreciated!</td>\n",
       "      <td></td>\n",
       "    </tr>\n",
       "    <tr>\n",
       "      <th>4</th>\n",
       "      <td>12:02pm May 19, 2021</td>\n",
       "      <td>https://www.donaldjtrump.com/desk/desk-w2snhrwejb</td>\n",
       "      <td>Donald J. Trump</td>\n",
       "      <td>I have just learned, through leaks in the mainstream media, that after being under investigation from the time I came down the escalator 5 ½ years ago, including the fake Russia Russia Russia Hoax, the 2 year, $48M, No Collusion Mueller Witch Hunt, Impeachment Hoax #1, Impeachment Hoax #2, and others, that the Democrat New York Attorney General has “informed” my organization that their “investigation” is no longer just a civil matter but also potentially a “criminal” investigation working with the Manhattan District Attorney’s Office.\\nThere is nothing more corrupt than an investigation that is in desperate search of a crime. But, make no mistake, that is exactly what is happening here.\\nThe Attorney General of New York literally campaigned on prosecuting Donald Trump even before she knew anything about me. She said that if elected, she would use her office to look into “every aspect” of my real estate dealings. She swore that she would “definitely sue” me. She boasted on video that she would be, and I quote, “a real pain in the ass.” She declared, “just wait until I’m in the Attorney General’s office,” and, ”I’ve got my eyes on Trump Tower.” She also promised that, if elected, she would “join with law enforcement and other Attorney Generals across this nation in removing this President from office,” and, “It’s important that everyone understand that the days of Donald Trump are coming to an end.”\\nThe Attorney General made each of these statements, not after having had an opportunity to actually look at the facts, but BEFORE she was even elected, BEFORE she had seen even a shred of evidence. This is something that happens in failed third world countries, not the United States. If you can run for a prosecutor’s office pledging to take out your enemies, and be elected to that job by partisan voters who wish to enact political retribution, then we are no longer a free constitutional democracy.\\nLikewise, the District Attorney’s office has been going after me for years based on a lying, discredited low life, who was not listened to or given credibility by other prosecutorial offices, and sentenced to 3 years in prison for lying and other events unrelated to me.\\nThese investigations have also been going on for years with members and associates of the Trump Organization being viciously attacked, harassed, and threatened, in order to say anything bad about the 45th President of the United States. This would include having to make up false stories. Numerous documents, all prepared by large and prestigious law and accounting firms, have been examined, and many hours of testimony have been taken from many people, some of whom I have not seen in years.\\nThese Democrat offices are consumed with this political and partisan Witch Hunt at a time when crime is up big in New York City, shootings are up 97%, murders are up 45%, a rate not seen in 40 years, drugs and criminals are pouring into our Country in record numbers from our now unprotected Southern Border, and people are fleeing New York for other much safer locations to live. But the District Attorney and Attorney General are possessed, at an unprecedented level, with destroying the political fortunes of President Donald J. Trump and the almost 75 million people who voted for him, by far the highest number ever received by a sitting President.\\nThat is what these investigations are all about—a continuation of the greatest political Witch Hunt in the history of the United States. Working in conjunction with Washington, these Democrats want to silence and cancel millions of voters because they don’t want “Trump” to run again. As people are being killed on the sidewalks of New York at an unprecedented rate, as drugs and crime of all kinds are flowing through New York City at record levels, with absolutely nothing being done about it, all they care about is taking down Trump.\\nOur movement, which started with the Great Election Win of 2016, is perhaps the biggest and most powerful in the history of our Country. But the Democrats want to cancel the Make America Great Again movement, not by Making America First, but by Making America Last. No President has been treated the way I have. With all of the crime and corruption you read about with others, nothing happens, they only go after Donald Trump.\\nAfter prosecutorial efforts the likes of which nobody has ever seen before, they failed to stop me in Washington, so they turned it over to New York to do their dirty work. This is what I have been going through for years. It’s a very sad and dangerous tale for our Country, but it is what it is, and we will overcome together.\\nI have built a great company, employed thousands of people, and all I do is get unfairly attacked and abused by a corrupt political system. It would be so wonderful if the effort used against President Donald J. Trump, who lowered taxes and regulations, rebuilt our military, took care of our Veterans, created Space Force, fixed our border, produced our vaccine in record-setting time (years ahead of what was anticipated), and made our Country great and respected again, and so much more, would be focused on the ever more dangerous sidewalks and streets of New York.\\nIf these prosecutors focused on real issues, crime would be obliterated, and New York would be great and free again!</td>\n",
       "      <td></td>\n",
       "    </tr>\n",
       "  </tbody>\n",
       "</table>\n",
       "</div>"
      ],
      "text/plain": [
       "                   date                                                url  \\\n",
       "0   6:17pm May 21, 2021  https://www.donaldjtrump.com/desk/desk-cc9k2cjkge   \n",
       "1  12:41pm May 20, 2021  https://www.donaldjtrump.com/desk/desk-ecxupbx2p2   \n",
       "2   9:31pm May 19, 2021  https://www.donaldjtrump.com/desk/desk-jtag3nem59   \n",
       "3   7:58pm May 19, 2021  https://www.donaldjtrump.com/desk/desk-bc3qjwctre   \n",
       "4  12:02pm May 19, 2021  https://www.donaldjtrump.com/desk/desk-w2snhrwejb   \n",
       "\n",
       "            author  \\\n",
       "0  Donald J. Trump   \n",
       "1  Donald J. Trump   \n",
       "2  Donald J. Trump   \n",
       "3  Donald J. Trump   \n",
       "4  Donald J. Trump   \n",
       "\n",
       "                                                                                                                                                                                                                                                                                                                                                                                                                                                                                                                                                                                                                                                                                                                                                                                                                                                                                                                                                                                                                                                                                                                                                                                                                                                                                                                                                                                                                                                                                                                                                                                                                                                                                                                                                                                                                                                                                                                                                                                                                                                                                                                                                                                                                                                                                                                                                                                                                                                                                                                                                                                                                                                                                                                                                                                                                                                                                                                                                                                                                                                                                                                                                                                                                                                                                                                                                                                                                                                                                                                                                                                                                                                                                                                                                                                                                                                                                                                                                                                                                                                                                                                                                                                                                                                                                                                                                                                                                                                                                                                                                                                                                                                                                                                                                                                                                                                                                                                                                                                                                                                                                                                                                                                                                                                                                                                                                                                                                                                                                                                                                  post  \\\n",
       "0                                                                                                                                                                                                                                                                                                                                                                                                                                                                                                                                                                                                                                                                                                                                                                                                                                                                                                                                                                                                                                                                                                                                                                                                                                                                                                                                                                                                                                                                                                                                                                                                                                                                                                                                                                                                                                                                                                                                                                                                                                                                                                                                                                                                                                                                                                                                                                                                                                                                                                                                                                                                                                                                                                                                                                                                                                                                                                                                                                                                                                                                                                                                                                                                                                                                                                                                                                                                                                                                                                                                                                                                                                                                                                                                                                                                                                                                                                                                                                                                                                                                                                                                                                                                                                                                                                                                                                                                                                                                                                                                                                                                                                                                                                                                                                                                                                                                                                                                                           Many people have asked about the beautiful Boeing 757 that became so iconic during the Trump rallies. It was effectively kept in storage in Upstate New York in that I was not allowed to use it during my presidency. It is now being fully restored and updated and will be put back into service sometime prior to the end of the year. It will soon be brought to a Louisiana service facility for the completion of work, inspection and updating of Rolls-Royce engines, and a brand new paint job. When completed, it will be better than ever, and again used at upcoming rallies!   \n",
       "1                                                                                                                                                                                                                                                                                                                                                                                                                                                                                                                                                                                                                                                                                                                                                                                                                                                                                                                                                                                                                                                                                                                                                                                                                                                                                                                                                                                                                                                                                                                                                                                                                                                                                                                                                                                                                                                                                                                                                                                                                                                                                                                                                                                                                                                                                                                                                                                                                                                                                                                                                                                                                                                                                                                                                                                                                                                                                                                                                                                                                                                                                                                                                                                                                                                                                                                                                                                                                                                                                                                                                                                                                                                                                                                                                                                                                                                                                                                                                                                                                                                                                                                                                                                                                                                                                                                                                                                                                                                                                                                                                                                                                                                                                                                                                                                                                                                                                                                                                                                                                                                                                                                                                                      See, 35 wayward Republicans—they just can’t help themselves. We have much better policy and are much better for the Country, but the Democrats stick together, the Republicans don’t. They don’t have the Romney’s, Little Ben Sasse’s, and Cheney’s of the world. Unfortunately, we do. Sometimes there are consequences to being ineffective and weak. The voters understand!   \n",
       "2                                                                                                                                                                                                                                                                                                                                                                                                                                                                                                                                                                                                                                                                                                                                                                                                                                                                                                                                                                                                                                                                                                                                                                                                                                                                                                                                                                                                                                                                                                                                                                                                                                                                                                                                                                                                                                                                                                                                                                                                                                                                                                                                                                                                                                                                                                                                                                                                                                                                                                                                                                                                                                                                                                                                                                                                                                                                                                                                                                                                                                                                                                                                                                                                                                                                                                                                                                                                                                                                                                                                                                                                                                                                                                                                                                                                                                                                                                                                                                                                                                                                                                                                                                                                                                                                                                                                                                                                                                                                                                                                                                                                                                                                                                                                                                                                                                                                                                                                                                                                                                                                                                                                                                                                                                                                                                                                                                 A loan of $1.2 billion has closed on the asset known as the Bank of America Building (555 California Street) in San Francisco, CA. The interest rate is approximately 2%. Thank you!   \n",
       "3                                                                                                                                                                                                                                                                                                                                                                                                                                                                                                                                                                                                                                                                                                                                                                                                                                                                                                                                                                                                                                                                                                                                                                                                                                                                                                                                                                                                                                                                                                                                                                                                                                                                                                                                                                                                                                                                                                                                                                                                                                                                                                                                                                                                                                                                                                                                                                                                                                                                                                                                                                                                                                                                                                                                                                                                                                                                                                                                                                                                                                                                                                                                                                                                                                                                                                                                                                                                                                                                                                                                                                                                                                                                                                                                                                                                                                                                                                                                                                                                                                                                                                                                                                                                                                                                                                                                                                                                                                                                                                                                                                                                                                                                                                                                                                                                                                                                                                                                                                                                                                                                                                                                                                                                                                                                                                  Stick with Kirstie Alley! She is a great actress, loved by so many people, and a true original. She is also strong and smart. Many millions of people greatly appreciate her support of our Country. Thank you Kirstie, you are truly appreciated!    \n",
       "4  I have just learned, through leaks in the mainstream media, that after being under investigation from the time I came down the escalator 5 ½ years ago, including the fake Russia Russia Russia Hoax, the 2 year, $48M, No Collusion Mueller Witch Hunt, Impeachment Hoax #1, Impeachment Hoax #2, and others, that the Democrat New York Attorney General has “informed” my organization that their “investigation” is no longer just a civil matter but also potentially a “criminal” investigation working with the Manhattan District Attorney’s Office.\\nThere is nothing more corrupt than an investigation that is in desperate search of a crime. But, make no mistake, that is exactly what is happening here.\\nThe Attorney General of New York literally campaigned on prosecuting Donald Trump even before she knew anything about me. She said that if elected, she would use her office to look into “every aspect” of my real estate dealings. She swore that she would “definitely sue” me. She boasted on video that she would be, and I quote, “a real pain in the ass.” She declared, “just wait until I’m in the Attorney General’s office,” and, ”I’ve got my eyes on Trump Tower.” She also promised that, if elected, she would “join with law enforcement and other Attorney Generals across this nation in removing this President from office,” and, “It’s important that everyone understand that the days of Donald Trump are coming to an end.”\\nThe Attorney General made each of these statements, not after having had an opportunity to actually look at the facts, but BEFORE she was even elected, BEFORE she had seen even a shred of evidence. This is something that happens in failed third world countries, not the United States. If you can run for a prosecutor’s office pledging to take out your enemies, and be elected to that job by partisan voters who wish to enact political retribution, then we are no longer a free constitutional democracy.\\nLikewise, the District Attorney’s office has been going after me for years based on a lying, discredited low life, who was not listened to or given credibility by other prosecutorial offices, and sentenced to 3 years in prison for lying and other events unrelated to me.\\nThese investigations have also been going on for years with members and associates of the Trump Organization being viciously attacked, harassed, and threatened, in order to say anything bad about the 45th President of the United States. This would include having to make up false stories. Numerous documents, all prepared by large and prestigious law and accounting firms, have been examined, and many hours of testimony have been taken from many people, some of whom I have not seen in years.\\nThese Democrat offices are consumed with this political and partisan Witch Hunt at a time when crime is up big in New York City, shootings are up 97%, murders are up 45%, a rate not seen in 40 years, drugs and criminals are pouring into our Country in record numbers from our now unprotected Southern Border, and people are fleeing New York for other much safer locations to live. But the District Attorney and Attorney General are possessed, at an unprecedented level, with destroying the political fortunes of President Donald J. Trump and the almost 75 million people who voted for him, by far the highest number ever received by a sitting President.\\nThat is what these investigations are all about—a continuation of the greatest political Witch Hunt in the history of the United States. Working in conjunction with Washington, these Democrats want to silence and cancel millions of voters because they don’t want “Trump” to run again. As people are being killed on the sidewalks of New York at an unprecedented rate, as drugs and crime of all kinds are flowing through New York City at record levels, with absolutely nothing being done about it, all they care about is taking down Trump.\\nOur movement, which started with the Great Election Win of 2016, is perhaps the biggest and most powerful in the history of our Country. But the Democrats want to cancel the Make America Great Again movement, not by Making America First, but by Making America Last. No President has been treated the way I have. With all of the crime and corruption you read about with others, nothing happens, they only go after Donald Trump.\\nAfter prosecutorial efforts the likes of which nobody has ever seen before, they failed to stop me in Washington, so they turned it over to New York to do their dirty work. This is what I have been going through for years. It’s a very sad and dangerous tale for our Country, but it is what it is, and we will overcome together.\\nI have built a great company, employed thousands of people, and all I do is get unfairly attacked and abused by a corrupt political system. It would be so wonderful if the effort used against President Donald J. Trump, who lowered taxes and regulations, rebuilt our military, took care of our Veterans, created Space Force, fixed our border, produced our vaccine in record-setting time (years ahead of what was anticipated), and made our Country great and respected again, and so much more, would be focused on the ever more dangerous sidewalks and streets of New York.\\nIf these prosecutors focused on real issues, crime would be obliterated, and New York would be great and free again!   \n",
       "\n",
       "  image  \n",
       "0        \n",
       "1        \n",
       "2        \n",
       "3        \n",
       "4        "
      ]
     },
     "execution_count": 16,
     "metadata": {},
     "output_type": "execute_result"
    }
   ],
   "source": [
    "df.head(5)"
   ]
  },
  {
   "cell_type": "markdown",
   "metadata": {},
   "source": [
    "### How many mention 'election'?"
   ]
  },
  {
   "cell_type": "code",
   "execution_count": 17,
   "metadata": {},
   "outputs": [],
   "source": [
    "df[\"election\"] = df[\"post\"].str.contains(\"election\") | df[\"post\"].str.contains(\n",
    "    \"Election\"\n",
    ")"
   ]
  },
  {
   "cell_type": "code",
   "execution_count": 18,
   "metadata": {},
   "outputs": [
    {
     "data": {
      "text/plain": [
       "26"
      ]
     },
     "execution_count": 18,
     "metadata": {},
     "output_type": "execute_result"
    }
   ],
   "source": [
    "len(df[df[\"election\"] == True])"
   ]
  },
  {
   "cell_type": "markdown",
   "metadata": {},
   "source": [
    "### Clean up the dates"
   ]
  },
  {
   "cell_type": "code",
   "execution_count": 19,
   "metadata": {},
   "outputs": [],
   "source": [
    "df[\"fulldate\"] = pd.to_datetime(df[\"date\"])\n",
    "df[\"date\"] = df[\"fulldate\"].dt.date\n",
    "df[\"time\"] = df[\"fulldate\"].dt.time"
   ]
  },
  {
   "cell_type": "code",
   "execution_count": 20,
   "metadata": {},
   "outputs": [],
   "source": [
    "post_urls = list(df[\"url\"])"
   ]
  },
  {
   "cell_type": "markdown",
   "metadata": {},
   "source": [
    "---"
   ]
  },
  {
   "cell_type": "markdown",
   "metadata": {},
   "source": [
    "### Posts per day "
   ]
  },
  {
   "cell_type": "code",
   "execution_count": 21,
   "metadata": {},
   "outputs": [],
   "source": [
    "election = df.groupby([\"date\", \"election\"]).agg({\"author\": \"size\"}).reset_index()"
   ]
  },
  {
   "cell_type": "code",
   "execution_count": 22,
   "metadata": {},
   "outputs": [
    {
     "data": {
      "text/html": [
       "<div>\n",
       "<style scoped>\n",
       "    .dataframe tbody tr th:only-of-type {\n",
       "        vertical-align: middle;\n",
       "    }\n",
       "\n",
       "    .dataframe tbody tr th {\n",
       "        vertical-align: top;\n",
       "    }\n",
       "\n",
       "    .dataframe thead th {\n",
       "        text-align: right;\n",
       "    }\n",
       "</style>\n",
       "<table border=\"1\" class=\"dataframe\">\n",
       "  <thead>\n",
       "    <tr style=\"text-align: right;\">\n",
       "      <th></th>\n",
       "      <th>date</th>\n",
       "      <th>election</th>\n",
       "      <th>author</th>\n",
       "    </tr>\n",
       "  </thead>\n",
       "  <tbody>\n",
       "    <tr>\n",
       "      <th>0</th>\n",
       "      <td>2021-03-24</td>\n",
       "      <td>True</td>\n",
       "      <td>1</td>\n",
       "    </tr>\n",
       "    <tr>\n",
       "      <th>1</th>\n",
       "      <td>2021-03-26</td>\n",
       "      <td>True</td>\n",
       "      <td>1</td>\n",
       "    </tr>\n",
       "    <tr>\n",
       "      <th>2</th>\n",
       "      <td>2021-03-30</td>\n",
       "      <td>True</td>\n",
       "      <td>1</td>\n",
       "    </tr>\n",
       "    <tr>\n",
       "      <th>3</th>\n",
       "      <td>2021-04-02</td>\n",
       "      <td>True</td>\n",
       "      <td>2</td>\n",
       "    </tr>\n",
       "    <tr>\n",
       "      <th>4</th>\n",
       "      <td>2021-04-03</td>\n",
       "      <td>True</td>\n",
       "      <td>1</td>\n",
       "    </tr>\n",
       "  </tbody>\n",
       "</table>\n",
       "</div>"
      ],
      "text/plain": [
       "         date  election  author\n",
       "0  2021-03-24      True       1\n",
       "1  2021-03-26      True       1\n",
       "2  2021-03-30      True       1\n",
       "3  2021-04-02      True       2\n",
       "4  2021-04-03      True       1"
      ]
     },
     "execution_count": 22,
     "metadata": {},
     "output_type": "execute_result"
    }
   ],
   "source": [
    "election.head()"
   ]
  },
  {
   "cell_type": "code",
   "execution_count": 23,
   "metadata": {},
   "outputs": [],
   "source": [
    "daily = df.groupby([\"date\"])[\"author\"].count().reset_index(name=\"count\")"
   ]
  },
  {
   "cell_type": "code",
   "execution_count": 24,
   "metadata": {},
   "outputs": [],
   "source": [
    "daily.rename(columns={\"author\": \"count\"}, inplace=True)"
   ]
  },
  {
   "cell_type": "code",
   "execution_count": 25,
   "metadata": {},
   "outputs": [],
   "source": [
    "daily[\"seven-day-avg\"] = daily[\"count\"].rolling(7).mean()"
   ]
  },
  {
   "cell_type": "code",
   "execution_count": 26,
   "metadata": {},
   "outputs": [],
   "source": [
    "daily[\"date\"] = pd.to_datetime(daily[\"date\"])"
   ]
  },
  {
   "cell_type": "code",
   "execution_count": 27,
   "metadata": {},
   "outputs": [
    {
     "data": {
      "text/html": [
       "<div>\n",
       "<style scoped>\n",
       "    .dataframe tbody tr th:only-of-type {\n",
       "        vertical-align: middle;\n",
       "    }\n",
       "\n",
       "    .dataframe tbody tr th {\n",
       "        vertical-align: top;\n",
       "    }\n",
       "\n",
       "    .dataframe thead th {\n",
       "        text-align: right;\n",
       "    }\n",
       "</style>\n",
       "<table border=\"1\" class=\"dataframe\">\n",
       "  <thead>\n",
       "    <tr style=\"text-align: right;\">\n",
       "      <th></th>\n",
       "      <th>date</th>\n",
       "      <th>count</th>\n",
       "      <th>seven-day-avg</th>\n",
       "    </tr>\n",
       "  </thead>\n",
       "  <tbody>\n",
       "    <tr>\n",
       "      <th>25</th>\n",
       "      <td>2021-05-05</td>\n",
       "      <td>4</td>\n",
       "      <td>2.142857</td>\n",
       "    </tr>\n",
       "    <tr>\n",
       "      <th>23</th>\n",
       "      <td>2021-05-03</td>\n",
       "      <td>4</td>\n",
       "      <td>1.857143</td>\n",
       "    </tr>\n",
       "    <tr>\n",
       "      <th>28</th>\n",
       "      <td>2021-05-19</td>\n",
       "      <td>4</td>\n",
       "      <td>2.571429</td>\n",
       "    </tr>\n",
       "    <tr>\n",
       "      <th>8</th>\n",
       "      <td>2021-04-07</td>\n",
       "      <td>3</td>\n",
       "      <td>1.571429</td>\n",
       "    </tr>\n",
       "    <tr>\n",
       "      <th>9</th>\n",
       "      <td>2021-04-08</td>\n",
       "      <td>3</td>\n",
       "      <td>1.857143</td>\n",
       "    </tr>\n",
       "  </tbody>\n",
       "</table>\n",
       "</div>"
      ],
      "text/plain": [
       "         date  count  seven-day-avg\n",
       "25 2021-05-05      4       2.142857\n",
       "23 2021-05-03      4       1.857143\n",
       "28 2021-05-19      4       2.571429\n",
       "8  2021-04-07      3       1.571429\n",
       "9  2021-04-08      3       1.857143"
      ]
     },
     "execution_count": 27,
     "metadata": {},
     "output_type": "execute_result"
    }
   ],
   "source": [
    "daily.sort_values(\"count\", ascending=False).head()"
   ]
  },
  {
   "cell_type": "markdown",
   "metadata": {},
   "source": [
    "### Chart it!"
   ]
  },
  {
   "cell_type": "code",
   "execution_count": 28,
   "metadata": {},
   "outputs": [
    {
     "data": {
      "text/html": [
       "\n",
       "<div id=\"altair-viz-9791607eb121406091fe236e960ca1eb\"></div>\n",
       "<script type=\"text/javascript\">\n",
       "  (function(spec, embedOpt){\n",
       "    let outputDiv = document.currentScript.previousElementSibling;\n",
       "    if (outputDiv.id !== \"altair-viz-9791607eb121406091fe236e960ca1eb\") {\n",
       "      outputDiv = document.getElementById(\"altair-viz-9791607eb121406091fe236e960ca1eb\");\n",
       "    }\n",
       "    const paths = {\n",
       "      \"vega\": \"https://cdn.jsdelivr.net/npm//vega@5?noext\",\n",
       "      \"vega-lib\": \"https://cdn.jsdelivr.net/npm//vega-lib?noext\",\n",
       "      \"vega-lite\": \"https://cdn.jsdelivr.net/npm//vega-lite@4.8.1?noext\",\n",
       "      \"vega-embed\": \"https://cdn.jsdelivr.net/npm//vega-embed@6?noext\",\n",
       "    };\n",
       "\n",
       "    function loadScript(lib) {\n",
       "      return new Promise(function(resolve, reject) {\n",
       "        var s = document.createElement('script');\n",
       "        s.src = paths[lib];\n",
       "        s.async = true;\n",
       "        s.onload = () => resolve(paths[lib]);\n",
       "        s.onerror = () => reject(`Error loading script: ${paths[lib]}`);\n",
       "        document.getElementsByTagName(\"head\")[0].appendChild(s);\n",
       "      });\n",
       "    }\n",
       "\n",
       "    function showError(err) {\n",
       "      outputDiv.innerHTML = `<div class=\"error\" style=\"color:red;\">${err}</div>`;\n",
       "      throw err;\n",
       "    }\n",
       "\n",
       "    function displayChart(vegaEmbed) {\n",
       "      vegaEmbed(outputDiv, spec, embedOpt)\n",
       "        .catch(err => showError(`Javascript Error: ${err.message}<br>This usually means there's a typo in your chart specification. See the javascript console for the full traceback.`));\n",
       "    }\n",
       "\n",
       "    if(typeof define === \"function\" && define.amd) {\n",
       "      requirejs.config({paths});\n",
       "      require([\"vega-embed\"], displayChart, err => showError(`Error loading script: ${err.message}`));\n",
       "    } else if (typeof vegaEmbed === \"function\") {\n",
       "      displayChart(vegaEmbed);\n",
       "    } else {\n",
       "      loadScript(\"vega\")\n",
       "        .then(() => loadScript(\"vega-lite\"))\n",
       "        .then(() => loadScript(\"vega-embed\"))\n",
       "        .catch(showError)\n",
       "        .then(() => displayChart(vegaEmbed));\n",
       "    }\n",
       "  })({\"config\": {\"view\": {\"width\": 800, \"height\": 450, \"strokeOpacity\": 0}, \"background\": \"#ffffff\", \"title\": {\"anchor\": \"start\", \"font\": \"BentonGothic-Bold, sans\", \"fontColor\": \"#000000\", \"fontSize\": 22, \"fontWeight\": \"normal\"}, \"arc\": {\"fill\": \"#82c6df\"}, \"area\": {\"fill\": \"#82c6df\"}, \"line\": {\"stroke\": \"#82c6df\", \"strokeWidth\": 3}, \"path\": {\"stroke\": \"#82c6df\"}, \"rect\": {\"fill\": \"#82c6df\"}, \"shape\": {\"stroke\": \"#82c6df\"}, \"bar\": {\"fill\": \"#82c6df\"}, \"point\": {\"stroke\": \"#82c6df\"}, \"symbol\": {\"fill\": \"#82c6df\", \"size\": 30}, \"axis\": {\"titleFont\": \"BentonGothic-Bold, sans\", \"titleFontSize\": 14, \"titleFontWeight\": \"normal\", \"labelFont\": \"BentonGothic, sans\", \"labelFontSize\": 12, \"labelFontWeight\": \"normal\"}, \"axisX\": {\"labelAngle\": 0, \"labelPadding\": 4, \"tickSize\": 3}, \"axisY\": {\"labelBaseline\": \"middle\", \"maxExtent\": 45, \"minExtent\": 45, \"tickSize\": 2, \"titleAlign\": \"left\", \"titleAngle\": 0, \"titleX\": -45, \"titleY\": -11}, \"legend\": {\"titleFont\": \"BentonGothic-Bold, sans\", \"titleFontSize\": 14, \"titleFontWeight\": \"normal\", \"symbolType\": \"square\", \"labelFont\": \"BentonGothic, sans\", \"labelFontSize\": 13}, \"range\": {\"category\": [\"#3580b1\", \"#ec8431\", \"#ab7fb4\", \"#c89d29\", \"#adc839\", \"#829eb1\"], \"diverging\": [\"#e68a4f\", \"#f4bb6a\", \"#f9e39c\", \"#dadfe2\", \"#a6b7c6\", \"#849eae\"], \"heatmap\": [\"#fbf2c7\", \"#f9e39c\", \"#f8d36e\", \"#f4bb6a\", \"#e68a4f\", \"#d15a40\", \"#ab4232\"], \"ordinal\": [\"#fbf2c7\", \"#f9e39c\", \"#f8d36e\", \"#f4bb6a\", \"#e68a4f\", \"#d15a40\", \"#ab4232\"], \"ramp\": [\"#fbf2c7\", \"#f9e39c\", \"#f8d36e\", \"#f4bb6a\", \"#e68a4f\", \"#d15a40\", \"#ab4232\"]}}, \"layer\": [{\"mark\": {\"type\": \"bar\", \"size\": 10}, \"encoding\": {\"x\": {\"type\": \"temporal\", \"axis\": {\"format\": \"%B %-d\", \"grid\": false, \"tickCount\": 5, \"title\": \"\"}, \"field\": \"date\"}, \"y\": {\"type\": \"quantitative\", \"axis\": {\"domainOpacity\": 0, \"gridColor\": \"#dddddd\", \"offset\": 6, \"tickCount\": 3, \"tickSize\": 0, \"title\": \"Daily post count and seven-day average\"}, \"field\": \"count\", \"scale\": {\"domain\": [0, 5]}}}, \"title\": \"Trump posts to the 'desk' since it launched\"}, {\"mark\": {\"type\": \"line\", \"color\": \"red\"}, \"encoding\": {\"x\": {\"type\": \"temporal\", \"axis\": {\"format\": \"%B %-d\", \"grid\": false, \"tickCount\": 5, \"title\": \"\"}, \"field\": \"date\"}, \"y\": {\"type\": \"quantitative\", \"field\": \"seven-day-avg\"}}}], \"data\": {\"name\": \"data-9c3b5c9460261f2c31871f34d2371961\"}, \"height\": 350, \"width\": 600, \"$schema\": \"https://vega.github.io/schema/vega-lite/v4.8.1.json\", \"datasets\": {\"data-9c3b5c9460261f2c31871f34d2371961\": [{\"date\": \"2021-03-24T00:00:00\", \"count\": 1, \"seven-day-avg\": null}, {\"date\": \"2021-03-26T00:00:00\", \"count\": 1, \"seven-day-avg\": null}, {\"date\": \"2021-03-30T00:00:00\", \"count\": 1, \"seven-day-avg\": null}, {\"date\": \"2021-04-02T00:00:00\", \"count\": 2, \"seven-day-avg\": null}, {\"date\": \"2021-04-03T00:00:00\", \"count\": 1, \"seven-day-avg\": null}, {\"date\": \"2021-04-04T00:00:00\", \"count\": 1, \"seven-day-avg\": null}, {\"date\": \"2021-04-05T00:00:00\", \"count\": 2, \"seven-day-avg\": 1.2857142857142858}, {\"date\": \"2021-04-06T00:00:00\", \"count\": 1, \"seven-day-avg\": 1.2857142857142858}, {\"date\": \"2021-04-07T00:00:00\", \"count\": 3, \"seven-day-avg\": 1.5714285714285714}, {\"date\": \"2021-04-08T00:00:00\", \"count\": 3, \"seven-day-avg\": 1.8571428571428572}, {\"date\": \"2021-04-09T00:00:00\", \"count\": 1, \"seven-day-avg\": 1.7142857142857142}, {\"date\": \"2021-04-12T00:00:00\", \"count\": 2, \"seven-day-avg\": 1.8571428571428572}, {\"date\": \"2021-04-13T00:00:00\", \"count\": 2, \"seven-day-avg\": 2.0}, {\"date\": \"2021-04-14T00:00:00\", \"count\": 1, \"seven-day-avg\": 1.8571428571428572}, {\"date\": \"2021-04-15T00:00:00\", \"count\": 1, \"seven-day-avg\": 1.8571428571428572}, {\"date\": \"2021-04-20T00:00:00\", \"count\": 1, \"seven-day-avg\": 1.5714285714285714}, {\"date\": \"2021-04-23T00:00:00\", \"count\": 2, \"seven-day-avg\": 1.4285714285714286}, {\"date\": \"2021-04-24T00:00:00\", \"count\": 2, \"seven-day-avg\": 1.5714285714285714}, {\"date\": \"2021-04-26T00:00:00\", \"count\": 1, \"seven-day-avg\": 1.4285714285714286}, {\"date\": \"2021-04-27T00:00:00\", \"count\": 3, \"seven-day-avg\": 1.5714285714285714}, {\"date\": \"2021-04-28T00:00:00\", \"count\": 1, \"seven-day-avg\": 1.5714285714285714}, {\"date\": \"2021-04-30T00:00:00\", \"count\": 1, \"seven-day-avg\": 1.5714285714285714}, {\"date\": \"2021-05-01T00:00:00\", \"count\": 1, \"seven-day-avg\": 1.5714285714285714}, {\"date\": \"2021-05-03T00:00:00\", \"count\": 4, \"seven-day-avg\": 1.8571428571428572}, {\"date\": \"2021-05-04T00:00:00\", \"count\": 1, \"seven-day-avg\": 1.7142857142857142}, {\"date\": \"2021-05-05T00:00:00\", \"count\": 4, \"seven-day-avg\": 2.142857142857143}, {\"date\": \"2021-05-17T00:00:00\", \"count\": 1, \"seven-day-avg\": 1.8571428571428572}, {\"date\": \"2021-05-18T00:00:00\", \"count\": 3, \"seven-day-avg\": 2.142857142857143}, {\"date\": \"2021-05-19T00:00:00\", \"count\": 4, \"seven-day-avg\": 2.5714285714285716}, {\"date\": \"2021-05-20T00:00:00\", \"count\": 1, \"seven-day-avg\": 2.5714285714285716}, {\"date\": \"2021-05-21T00:00:00\", \"count\": 1, \"seven-day-avg\": 2.142857142857143}]}}, {\"mode\": \"vega-lite\"});\n",
       "</script>"
      ],
      "text/plain": [
       "alt.LayerChart(...)"
      ]
     },
     "execution_count": 28,
     "metadata": {},
     "output_type": "execute_result"
    }
   ],
   "source": [
    "bars = (\n",
    "    alt.Chart(\n",
    "        daily,\n",
    "        title=\"Trump posts to the 'desk' since it launched\",\n",
    "    )\n",
    "    .mark_bar(size=10)\n",
    "    .encode(\n",
    "        x=alt.X(\n",
    "            \"date:T\",\n",
    "            axis=alt.Axis(grid=False, title=\"\", tickCount=5, format=(\"%B %-d\")),\n",
    "        ),\n",
    "        y=alt.Y(\n",
    "            \"count:Q\",\n",
    "            scale=alt.Scale(domain=(0, len(\"count\"))),\n",
    "            axis=alt.Axis(\n",
    "                gridColor=\"#dddddd\",\n",
    "                offset=6,\n",
    "                tickSize=0,\n",
    "                domainOpacity=0,\n",
    "                tickCount=3,\n",
    "                title=\"Daily post count and seven-day average\",\n",
    "            ),\n",
    "        ),\n",
    "    )\n",
    ")\n",
    "\n",
    "rolling = (\n",
    "    alt.Chart(daily)\n",
    "    .mark_line(color=\"red\")\n",
    "    .encode(\n",
    "        y=\"seven-day-avg\",\n",
    "        x=alt.X(\n",
    "            \"date:T\",\n",
    "            axis=alt.Axis(grid=False, title=\"\", tickCount=5, format=(\"%B %-d\")),\n",
    "        ),\n",
    "    )\n",
    ")\n",
    "\n",
    "(bars + rolling).properties(height=350, width=600).configure_view(strokeOpacity=0)"
   ]
  },
  {
   "cell_type": "code",
   "execution_count": 29,
   "metadata": {},
   "outputs": [],
   "source": [
    "election[\"date\"] = pd.to_datetime(election[\"date\"])"
   ]
  },
  {
   "cell_type": "code",
   "execution_count": 30,
   "metadata": {},
   "outputs": [
    {
     "data": {
      "text/html": [
       "\n",
       "<div id=\"altair-viz-fc431553bc1e436fbe7caba612af2bdf\"></div>\n",
       "<script type=\"text/javascript\">\n",
       "  (function(spec, embedOpt){\n",
       "    let outputDiv = document.currentScript.previousElementSibling;\n",
       "    if (outputDiv.id !== \"altair-viz-fc431553bc1e436fbe7caba612af2bdf\") {\n",
       "      outputDiv = document.getElementById(\"altair-viz-fc431553bc1e436fbe7caba612af2bdf\");\n",
       "    }\n",
       "    const paths = {\n",
       "      \"vega\": \"https://cdn.jsdelivr.net/npm//vega@5?noext\",\n",
       "      \"vega-lib\": \"https://cdn.jsdelivr.net/npm//vega-lib?noext\",\n",
       "      \"vega-lite\": \"https://cdn.jsdelivr.net/npm//vega-lite@4.8.1?noext\",\n",
       "      \"vega-embed\": \"https://cdn.jsdelivr.net/npm//vega-embed@6?noext\",\n",
       "    };\n",
       "\n",
       "    function loadScript(lib) {\n",
       "      return new Promise(function(resolve, reject) {\n",
       "        var s = document.createElement('script');\n",
       "        s.src = paths[lib];\n",
       "        s.async = true;\n",
       "        s.onload = () => resolve(paths[lib]);\n",
       "        s.onerror = () => reject(`Error loading script: ${paths[lib]}`);\n",
       "        document.getElementsByTagName(\"head\")[0].appendChild(s);\n",
       "      });\n",
       "    }\n",
       "\n",
       "    function showError(err) {\n",
       "      outputDiv.innerHTML = `<div class=\"error\" style=\"color:red;\">${err}</div>`;\n",
       "      throw err;\n",
       "    }\n",
       "\n",
       "    function displayChart(vegaEmbed) {\n",
       "      vegaEmbed(outputDiv, spec, embedOpt)\n",
       "        .catch(err => showError(`Javascript Error: ${err.message}<br>This usually means there's a typo in your chart specification. See the javascript console for the full traceback.`));\n",
       "    }\n",
       "\n",
       "    if(typeof define === \"function\" && define.amd) {\n",
       "      requirejs.config({paths});\n",
       "      require([\"vega-embed\"], displayChart, err => showError(`Error loading script: ${err.message}`));\n",
       "    } else if (typeof vegaEmbed === \"function\") {\n",
       "      displayChart(vegaEmbed);\n",
       "    } else {\n",
       "      loadScript(\"vega\")\n",
       "        .then(() => loadScript(\"vega-lite\"))\n",
       "        .then(() => loadScript(\"vega-embed\"))\n",
       "        .catch(showError)\n",
       "        .then(() => displayChart(vegaEmbed));\n",
       "    }\n",
       "  })({\"config\": {\"view\": {\"width\": 800, \"height\": 450, \"strokeOpacity\": 0}, \"background\": \"#ffffff\", \"title\": {\"anchor\": \"start\", \"font\": \"BentonGothic-Bold, sans\", \"fontColor\": \"#000000\", \"fontSize\": 22, \"fontWeight\": \"normal\"}, \"arc\": {\"fill\": \"#82c6df\"}, \"area\": {\"fill\": \"#82c6df\"}, \"line\": {\"stroke\": \"#82c6df\", \"strokeWidth\": 3}, \"path\": {\"stroke\": \"#82c6df\"}, \"rect\": {\"fill\": \"#82c6df\"}, \"shape\": {\"stroke\": \"#82c6df\"}, \"bar\": {\"fill\": \"#82c6df\"}, \"point\": {\"stroke\": \"#82c6df\"}, \"symbol\": {\"fill\": \"#82c6df\", \"size\": 30}, \"axis\": {\"titleFont\": \"BentonGothic-Bold, sans\", \"titleFontSize\": 14, \"titleFontWeight\": \"normal\", \"labelFont\": \"BentonGothic, sans\", \"labelFontSize\": 12, \"labelFontWeight\": \"normal\"}, \"axisX\": {\"labelAngle\": 0, \"labelPadding\": 4, \"tickSize\": 3}, \"axisY\": {\"labelBaseline\": \"middle\", \"maxExtent\": 45, \"minExtent\": 45, \"tickSize\": 2, \"titleAlign\": \"left\", \"titleAngle\": 0, \"titleX\": -45, \"titleY\": -11}, \"legend\": {\"titleFont\": \"BentonGothic-Bold, sans\", \"titleFontSize\": 14, \"titleFontWeight\": \"normal\", \"symbolType\": \"square\", \"labelFont\": \"BentonGothic, sans\", \"labelFontSize\": 13}, \"range\": {\"category\": [\"#3580b1\", \"#ec8431\", \"#ab7fb4\", \"#c89d29\", \"#adc839\", \"#829eb1\"], \"diverging\": [\"#e68a4f\", \"#f4bb6a\", \"#f9e39c\", \"#dadfe2\", \"#a6b7c6\", \"#849eae\"], \"heatmap\": [\"#fbf2c7\", \"#f9e39c\", \"#f8d36e\", \"#f4bb6a\", \"#e68a4f\", \"#d15a40\", \"#ab4232\"], \"ordinal\": [\"#fbf2c7\", \"#f9e39c\", \"#f8d36e\", \"#f4bb6a\", \"#e68a4f\", \"#d15a40\", \"#ab4232\"], \"ramp\": [\"#fbf2c7\", \"#f9e39c\", \"#f8d36e\", \"#f4bb6a\", \"#e68a4f\", \"#d15a40\", \"#ab4232\"]}}, \"data\": {\"name\": \"data-38710f80f60b79c7f41f8a31330795cc\"}, \"mark\": {\"type\": \"bar\", \"size\": 10}, \"encoding\": {\"color\": {\"type\": \"nominal\", \"field\": \"election\", \"scale\": {\"domain\": [\"true\", \"false\"], \"range\": [\"#f1a340\", \"#998ec3\"]}, \"title\": \"About election?\"}, \"x\": {\"type\": \"temporal\", \"axis\": {\"format\": \"%B %-d\", \"grid\": false, \"tickCount\": 5, \"title\": \"\"}, \"field\": \"date\"}, \"y\": {\"type\": \"quantitative\", \"axis\": {\"domainOpacity\": 0, \"gridColor\": \"#dddddd\", \"offset\": 6, \"tickCount\": 3, \"tickSize\": 0, \"title\": \"Daily post count\"}, \"field\": \"author\", \"scale\": {\"domain\": [0, 8]}}}, \"height\": 350, \"title\": \"Trump posts to the 'desk' re: election\", \"width\": 600, \"$schema\": \"https://vega.github.io/schema/vega-lite/v4.8.1.json\", \"datasets\": {\"data-38710f80f60b79c7f41f8a31330795cc\": [{\"date\": \"2021-03-24T00:00:00\", \"election\": true, \"author\": 1}, {\"date\": \"2021-03-26T00:00:00\", \"election\": true, \"author\": 1}, {\"date\": \"2021-03-30T00:00:00\", \"election\": true, \"author\": 1}, {\"date\": \"2021-04-02T00:00:00\", \"election\": true, \"author\": 2}, {\"date\": \"2021-04-03T00:00:00\", \"election\": true, \"author\": 1}, {\"date\": \"2021-04-04T00:00:00\", \"election\": true, \"author\": 1}, {\"date\": \"2021-04-05T00:00:00\", \"election\": true, \"author\": 2}, {\"date\": \"2021-04-06T00:00:00\", \"election\": true, \"author\": 1}, {\"date\": \"2021-04-07T00:00:00\", \"election\": false, \"author\": 2}, {\"date\": \"2021-04-07T00:00:00\", \"election\": true, \"author\": 1}, {\"date\": \"2021-04-08T00:00:00\", \"election\": false, \"author\": 3}, {\"date\": \"2021-04-09T00:00:00\", \"election\": false, \"author\": 1}, {\"date\": \"2021-04-12T00:00:00\", \"election\": false, \"author\": 1}, {\"date\": \"2021-04-12T00:00:00\", \"election\": true, \"author\": 1}, {\"date\": \"2021-04-13T00:00:00\", \"election\": false, \"author\": 1}, {\"date\": \"2021-04-13T00:00:00\", \"election\": true, \"author\": 1}, {\"date\": \"2021-04-14T00:00:00\", \"election\": false, \"author\": 1}, {\"date\": \"2021-04-15T00:00:00\", \"election\": true, \"author\": 1}, {\"date\": \"2021-04-20T00:00:00\", \"election\": false, \"author\": 1}, {\"date\": \"2021-04-23T00:00:00\", \"election\": false, \"author\": 1}, {\"date\": \"2021-04-23T00:00:00\", \"election\": true, \"author\": 1}, {\"date\": \"2021-04-24T00:00:00\", \"election\": true, \"author\": 2}, {\"date\": \"2021-04-26T00:00:00\", \"election\": true, \"author\": 1}, {\"date\": \"2021-04-27T00:00:00\", \"election\": false, \"author\": 1}, {\"date\": \"2021-04-27T00:00:00\", \"election\": true, \"author\": 2}, {\"date\": \"2021-04-28T00:00:00\", \"election\": false, \"author\": 1}, {\"date\": \"2021-04-30T00:00:00\", \"election\": false, \"author\": 1}, {\"date\": \"2021-05-01T00:00:00\", \"election\": true, \"author\": 1}, {\"date\": \"2021-05-03T00:00:00\", \"election\": false, \"author\": 2}, {\"date\": \"2021-05-03T00:00:00\", \"election\": true, \"author\": 2}, {\"date\": \"2021-05-04T00:00:00\", \"election\": false, \"author\": 1}, {\"date\": \"2021-05-05T00:00:00\", \"election\": false, \"author\": 3}, {\"date\": \"2021-05-05T00:00:00\", \"election\": true, \"author\": 1}, {\"date\": \"2021-05-17T00:00:00\", \"election\": false, \"author\": 1}, {\"date\": \"2021-05-18T00:00:00\", \"election\": false, \"author\": 2}, {\"date\": \"2021-05-18T00:00:00\", \"election\": true, \"author\": 1}, {\"date\": \"2021-05-19T00:00:00\", \"election\": false, \"author\": 3}, {\"date\": \"2021-05-19T00:00:00\", \"election\": true, \"author\": 1}, {\"date\": \"2021-05-20T00:00:00\", \"election\": false, \"author\": 1}, {\"date\": \"2021-05-21T00:00:00\", \"election\": false, \"author\": 1}]}}, {\"mode\": \"vega-lite\"});\n",
       "</script>"
      ],
      "text/plain": [
       "alt.Chart(...)"
      ]
     },
     "execution_count": 30,
     "metadata": {},
     "output_type": "execute_result"
    }
   ],
   "source": [
    "bars_elex = (\n",
    "    alt.Chart(\n",
    "        election,\n",
    "        title=\"Trump posts to the 'desk' re: election\",\n",
    "    )\n",
    "    .mark_bar(size=10)\n",
    "    .encode(\n",
    "        x=alt.X(\n",
    "            \"date:T\",\n",
    "            axis=alt.Axis(grid=False, title=\"\", tickCount=5, format=(\"%B %-d\")),\n",
    "        ),\n",
    "        y=alt.Y(\n",
    "            \"author:Q\",\n",
    "            scale=alt.Scale(domain=(0, len(\"author:Q\"))),\n",
    "            axis=alt.Axis(\n",
    "                gridColor=\"#dddddd\",\n",
    "                offset=6,\n",
    "                tickSize=0,\n",
    "                domainOpacity=0,\n",
    "                tickCount=3,\n",
    "                title=\"Daily post count\",\n",
    "            ),\n",
    "        ),\n",
    "        color=alt.Color(\n",
    "            \"election\",\n",
    "            title=\"About election?\",\n",
    "            scale=alt.Scale(domain=[\"true\", \"false\"], range=[\"#f1a340\", \"#998ec3\"]),\n",
    "        ),\n",
    "    )\n",
    ")\n",
    "\n",
    "(bars_elex).properties(height=350, width=600).configure_view(strokeOpacity=0)"
   ]
  },
  {
   "cell_type": "code",
   "execution_count": 31,
   "metadata": {},
   "outputs": [],
   "source": [
    "(bars + rolling).properties(height=350, width=600).configure_view(strokeOpacity=0).save(\n",
    "    \"visuals/daily_posts.png\"\n",
    ")"
   ]
  },
  {
   "cell_type": "code",
   "execution_count": 32,
   "metadata": {},
   "outputs": [],
   "source": [
    "(bars_elex).properties(height=350, width=600).configure_view(strokeOpacity=0).save(\n",
    "    \"visuals/daily_posts_re_election.png\"\n",
    ")"
   ]
  },
  {
   "cell_type": "markdown",
   "metadata": {},
   "source": [
    "---"
   ]
  },
  {
   "cell_type": "markdown",
   "metadata": {},
   "source": [
    "### Exports"
   ]
  },
  {
   "cell_type": "code",
   "execution_count": 33,
   "metadata": {},
   "outputs": [],
   "source": [
    "today = dt.date.today().strftime(\"%m-%d-%Y\")"
   ]
  },
  {
   "cell_type": "code",
   "execution_count": 34,
   "metadata": {},
   "outputs": [],
   "source": [
    "df.to_csv(\"archive/posts_\" + str(today) + \".csv\", index=False)\n",
    "df.to_csv(\"output/allposts.csv\", index=False)"
   ]
  }
 ],
 "metadata": {
  "kernelspec": {
   "display_name": "Python 3",
   "language": "python",
   "name": "python3"
  },
  "language_info": {
   "codemirror_mode": {
    "name": "ipython",
    "version": 3
   },
   "file_extension": ".py",
   "mimetype": "text/x-python",
   "name": "python",
   "nbconvert_exporter": "python",
   "pygments_lexer": "ipython3",
   "version": "3.8.2"
  }
 },
 "nbformat": 4,
 "nbformat_minor": 4
}
