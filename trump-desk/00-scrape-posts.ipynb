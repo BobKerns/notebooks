{
 "cells": [
  {
   "cell_type": "markdown",
   "metadata": {},
   "source": [
    "# Scraping former President Trump's 'desk'"
   ]
  },
  {
   "cell_type": "markdown",
   "metadata": {},
   "source": [
    "### Import Python tools and Jupyter configuration"
   ]
  },
  {
   "cell_type": "code",
   "execution_count": 1,
   "metadata": {},
   "outputs": [],
   "source": [
    "%load_ext lab_black"
   ]
  },
  {
   "cell_type": "code",
   "execution_count": 2,
   "metadata": {},
   "outputs": [],
   "source": [
    "import pandas as pd\n",
    "import requests\n",
    "from bs4 import BeautifulSoup\n",
    "import re\n",
    "import datetime as dt\n",
    "import tweepy"
   ]
  },
  {
   "cell_type": "code",
   "execution_count": 3,
   "metadata": {},
   "outputs": [],
   "source": [
    "import altair as alt\n",
    "import altair_latimes as lat\n",
    "import matplotlib.pyplot as plt"
   ]
  },
  {
   "cell_type": "code",
   "execution_count": 4,
   "metadata": {},
   "outputs": [
    {
     "data": {
      "text/plain": [
       "ThemeRegistry.enable('latimes')"
      ]
     },
     "execution_count": 4,
     "metadata": {},
     "output_type": "execute_result"
    }
   ],
   "source": [
    "alt.themes.register(\"latimes\", lat.theme)\n",
    "alt.themes.enable(\"latimes\")"
   ]
  },
  {
   "cell_type": "code",
   "execution_count": 5,
   "metadata": {},
   "outputs": [],
   "source": [
    "pd.options.display.max_columns = 100\n",
    "pd.options.display.max_rows = 1000\n",
    "alt.data_transformers.disable_max_rows()\n",
    "pd.options.display.max_colwidth = None"
   ]
  },
  {
   "cell_type": "markdown",
   "metadata": {},
   "source": [
    "---"
   ]
  },
  {
   "cell_type": "markdown",
   "metadata": {},
   "source": [
    "### Read the page"
   ]
  },
  {
   "cell_type": "code",
   "execution_count": 6,
   "metadata": {},
   "outputs": [],
   "source": [
    "r = requests.get(\"https://www.donaldjtrump.com/desk\")\n",
    "soup = BeautifulSoup(r.text, \"html.parser\")"
   ]
  },
  {
   "cell_type": "markdown",
   "metadata": {},
   "source": [
    "### Grab everything from each post div"
   ]
  },
  {
   "cell_type": "code",
   "execution_count": 7,
   "metadata": {},
   "outputs": [],
   "source": [
    "rows = soup.find_all(\"div\", class_=\"ftdli-main ftd-d\")"
   ]
  },
  {
   "cell_type": "code",
   "execution_count": 8,
   "metadata": {},
   "outputs": [],
   "source": [
    "data = []\n",
    "for r in rows:\n",
    "    if r.find(\"img\") is not None:\n",
    "        image = r.find(\"img\")[\"src\"]\n",
    "    else:\n",
    "        image = \"\"\n",
    "    post_url = r.find(\"div\", class_=\"title ftd-d\").get(\"onclick\")\n",
    "    post = r.find(\"p\", class_=\"ftd-post-text\").text\n",
    "    author = r.find(\"h2\").text\n",
    "    date = r.find(\"div\", class_=\"date ftd-d\").text\n",
    "    raw = r.find(\"p\", class_=\"ftd-post-text\").text\n",
    "    data.append(\n",
    "        dict(\n",
    "            date=date,\n",
    "            url=post_url,\n",
    "            author=author,\n",
    "            post=post,\n",
    "            image=image,\n",
    "        )\n",
    "    )"
   ]
  },
  {
   "cell_type": "markdown",
   "metadata": {},
   "source": [
    "### First item from the dictionary"
   ]
  },
  {
   "cell_type": "code",
   "execution_count": 9,
   "metadata": {},
   "outputs": [
    {
     "data": {
      "text/plain": [
       "{'date': '\\n7:11pm May 16, 2021\\n',\n",
       " 'url': \"location.href='/desk/desk-q7wsgfnztk/';\",\n",
       " 'author': 'Donald J. Trump',\n",
       " 'post': 'Breaking News! New polling by CBS News on the state of the Republican Party (which is very strong!). “President Trump has a strong hold on the GOP.” 80% of Republicans agree with the removal of Liz Cheney from GOP Leadership and only 20% disagree. The poll also showed that 67% of Republicans said that they do not consider Sleepy Joe Biden to be the legitimate winner of the 2020 Presidential Election. I agree with them 100%, just look at the facts and the data—there is no way he won the 2020 Presidential Election!',\n",
       " 'image': ''}"
      ]
     },
     "execution_count": 9,
     "metadata": {},
     "output_type": "execute_result"
    }
   ],
   "source": [
    "data[0]"
   ]
  },
  {
   "cell_type": "markdown",
   "metadata": {},
   "source": [
    "### Clean up before importing as a dataframe"
   ]
  },
  {
   "cell_type": "code",
   "execution_count": 10,
   "metadata": {},
   "outputs": [],
   "source": [
    "for d in data:\n",
    "    d[\"date\"] = d[\"date\"].replace(\"\\n\", \"\")\n",
    "    d[\"url\"] = (\n",
    "        d[\"url\"]\n",
    "        .replace(\"location.href='\", \"https://www.donaldjtrump.com\")\n",
    "        .replace(\"/';\", \"\")\n",
    "    )"
   ]
  },
  {
   "cell_type": "code",
   "execution_count": 11,
   "metadata": {},
   "outputs": [],
   "source": [
    "src = pd.DataFrame(data)"
   ]
  },
  {
   "cell_type": "markdown",
   "metadata": {},
   "source": [
    "---"
   ]
  },
  {
   "cell_type": "markdown",
   "metadata": {},
   "source": [
    "### Pull in early posts"
   ]
  },
  {
   "cell_type": "code",
   "execution_count": 12,
   "metadata": {},
   "outputs": [],
   "source": [
    "archive_df = pd.read_csv(\"input/archive.csv\")"
   ]
  },
  {
   "cell_type": "code",
   "execution_count": 13,
   "metadata": {},
   "outputs": [],
   "source": [
    "archive_df.drop([\"video\"], axis=1, inplace=True)"
   ]
  },
  {
   "cell_type": "code",
   "execution_count": 14,
   "metadata": {},
   "outputs": [],
   "source": [
    "df = pd.concat([src, archive_df]).drop_duplicates(subset=\"url\", keep=\"first\")"
   ]
  },
  {
   "cell_type": "markdown",
   "metadata": {},
   "source": [
    "### How many posts total? "
   ]
  },
  {
   "cell_type": "code",
   "execution_count": 15,
   "metadata": {},
   "outputs": [
    {
     "data": {
      "text/plain": [
       "54"
      ]
     },
     "execution_count": 15,
     "metadata": {},
     "output_type": "execute_result"
    }
   ],
   "source": [
    "len(df)"
   ]
  },
  {
   "cell_type": "markdown",
   "metadata": {},
   "source": [
    "### Last five posts"
   ]
  },
  {
   "cell_type": "code",
   "execution_count": 16,
   "metadata": {},
   "outputs": [
    {
     "data": {
      "text/html": [
       "<div>\n",
       "<style scoped>\n",
       "    .dataframe tbody tr th:only-of-type {\n",
       "        vertical-align: middle;\n",
       "    }\n",
       "\n",
       "    .dataframe tbody tr th {\n",
       "        vertical-align: top;\n",
       "    }\n",
       "\n",
       "    .dataframe thead th {\n",
       "        text-align: right;\n",
       "    }\n",
       "</style>\n",
       "<table border=\"1\" class=\"dataframe\">\n",
       "  <thead>\n",
       "    <tr style=\"text-align: right;\">\n",
       "      <th></th>\n",
       "      <th>date</th>\n",
       "      <th>url</th>\n",
       "      <th>author</th>\n",
       "      <th>post</th>\n",
       "      <th>image</th>\n",
       "    </tr>\n",
       "  </thead>\n",
       "  <tbody>\n",
       "    <tr>\n",
       "      <th>0</th>\n",
       "      <td>7:11pm May 16, 2021</td>\n",
       "      <td>https://www.donaldjtrump.com/desk/desk-q7wsgfnztk</td>\n",
       "      <td>Donald J. Trump</td>\n",
       "      <td>Breaking News! New polling by CBS News on the state of the Republican Party (which is very strong!). “President Trump has a strong hold on the GOP.” 80% of Republicans agree with the removal of Liz Cheney from GOP Leadership and only 20% disagree. The poll also showed that 67% of Republicans said that they do not consider Sleepy Joe Biden to be the legitimate winner of the 2020 Presidential Election. I agree with them 100%, just look at the facts and the data—there is no way he won the 2020 Presidential Election!</td>\n",
       "      <td></td>\n",
       "    </tr>\n",
       "    <tr>\n",
       "      <th>1</th>\n",
       "      <td>6:20pm May 15, 2021</td>\n",
       "      <td>https://www.donaldjtrump.com/desk/desk-rdqw9ezkfx</td>\n",
       "      <td>Donald J. Trump</td>\n",
       "      <td>Congratulations to Drew McKissick on a great win today in his re-elect as Chairman of the Republican Party of South Carolina. It was a great win against a strong and talented opponent. The Republican Party of South Carolina is in good hands and we will continue to go on to victory as we have had in the past two Presidential Elections!</td>\n",
       "      <td></td>\n",
       "    </tr>\n",
       "    <tr>\n",
       "      <th>2</th>\n",
       "      <td>2:12pm May 15, 2021</td>\n",
       "      <td>https://www.donaldjtrump.com/desk/desk-4yeh37peju</td>\n",
       "      <td>Donald J. Trump</td>\n",
       "      <td>The entire Database of Maricopa County in Arizona has been DELETED! This is illegal and the Arizona State Senate, who is leading the Forensic Audit, is up in arms. Additionally, seals were broken on the boxes that hold the votes, ballots are missing, and worse. Mark Brnovich, the Attorney General of Arizona, will now be forced to look into this unbelievable Election crime. Many Radical Left Democrats and weak Republicans are very worried about the fact that this has been exposed. The DELETION of an entire Database and critical Election files of Maricopa County is unprecedented. Many other States to follow. The Mainstream Media and Radical Left Democrats want to stay as far away as possible from the Presidential Election Fraud, which should be one of the biggest stories of our time. Fox News is afraid to cover it—there is rarely a mention. Likewise, Newsmax has been virtually silent on this subject because they are intimidated by threats of lawsuits. One America News (OAN), one of the fastest growing networks on television, and the “hottest”, is doing a magnificent job of exposing the massive fraud that took place. The story is only getting bigger and at some point it will be impossible for the weak and/or corrupt media not to cover. Thank you to OAN and other brave American Patriots. It is all happening quickly!</td>\n",
       "      <td></td>\n",
       "    </tr>\n",
       "    <tr>\n",
       "      <th>3</th>\n",
       "      <td>12:35pm May 15, 2021</td>\n",
       "      <td>https://www.donaldjtrump.com/desk/desk-m9xwwg56fp</td>\n",
       "      <td>Donald J. Trump</td>\n",
       "      <td>Wall Street Journal has reported (they finally got something right), that 2020 was the “Worst Presidential Poll Miss in 40 Years.” The public opinion surveys ahead of the 2020 Presidential Election were the most inaccurate ever, according to a major polling panel. This was done purposely. The polls were a joke. I won States in a landslide that I was predicted to lose days before the election. Other states had me purposely so far down that it would force people, even fans, to say “Let's stay home Darling. We love our President, but he can’t win.” And then I would win those states or at least come very close. In one state that I actually won, but the results were rigged, ABC and the Washington Post had me down by 17 points. Even the rigged final result was extremely close. It’s called SUPPRESSION POLLING and it should be illegal. These are crooked, disgusting, and very dishonest media outlets and they know exactly what they are doing. The 2020 Presidential Election was, by far, the greatest Election Fraud in the history of our Country. The good news is, the American people get it and the truth is rapidly coming out! Had Mike Pence had the courage to send the Electoral College vote back to states for recertification, and had Mitch McConnell fought for us instead of being the weak and pathetic leader he is, we would right now have a Republican President who would be VETOING the horrific Socialistic Bills that are rapidly going through Congress, including Open Borders, High Taxes, Massive Regulations, and so much else!</td>\n",
       "      <td></td>\n",
       "    </tr>\n",
       "    <tr>\n",
       "      <th>4</th>\n",
       "      <td>12:07pm May 15, 2021</td>\n",
       "      <td>https://www.donaldjtrump.com/desk/desk-qt8ayyzxe7</td>\n",
       "      <td>Donald J. Trump</td>\n",
       "      <td>As our Country is being destroyed, both inside and out, the Presidential Election of 2020 will go down as THE CRIME OF THE CENTURY!</td>\n",
       "      <td></td>\n",
       "    </tr>\n",
       "  </tbody>\n",
       "</table>\n",
       "</div>"
      ],
      "text/plain": [
       "                   date                                                url  \\\n",
       "0   7:11pm May 16, 2021  https://www.donaldjtrump.com/desk/desk-q7wsgfnztk   \n",
       "1   6:20pm May 15, 2021  https://www.donaldjtrump.com/desk/desk-rdqw9ezkfx   \n",
       "2   2:12pm May 15, 2021  https://www.donaldjtrump.com/desk/desk-4yeh37peju   \n",
       "3  12:35pm May 15, 2021  https://www.donaldjtrump.com/desk/desk-m9xwwg56fp   \n",
       "4  12:07pm May 15, 2021  https://www.donaldjtrump.com/desk/desk-qt8ayyzxe7   \n",
       "\n",
       "            author  \\\n",
       "0  Donald J. Trump   \n",
       "1  Donald J. Trump   \n",
       "2  Donald J. Trump   \n",
       "3  Donald J. Trump   \n",
       "4  Donald J. Trump   \n",
       "\n",
       "                                                                                                                                                                                                                                                                                                                                                                                                                                                                                                                                                                                                                                                                                                                                                                                                                                                                                                                                                                                                                                                                                                                                                                                                                                                                                                                                                                                                                                                                                                                                                                                                  post  \\\n",
       "0                                                                                                                                                                                                                                                                                                                                                                                                                                                                                                                                                                                                                                                                                                                                                                                                                                                                                                                                                                                                                                                               Breaking News! New polling by CBS News on the state of the Republican Party (which is very strong!). “President Trump has a strong hold on the GOP.” 80% of Republicans agree with the removal of Liz Cheney from GOP Leadership and only 20% disagree. The poll also showed that 67% of Republicans said that they do not consider Sleepy Joe Biden to be the legitimate winner of the 2020 Presidential Election. I agree with them 100%, just look at the facts and the data—there is no way he won the 2020 Presidential Election!   \n",
       "1                                                                                                                                                                                                                                                                                                                                                                                                                                                                                                                                                                                                                                                                                                                                                                                                                                                                                                                                                                                                                                                                                                                                                                                                                                                     Congratulations to Drew McKissick on a great win today in his re-elect as Chairman of the Republican Party of South Carolina. It was a great win against a strong and talented opponent. The Republican Party of South Carolina is in good hands and we will continue to go on to victory as we have had in the past two Presidential Elections!   \n",
       "2                                                                                                                                                                                                                The entire Database of Maricopa County in Arizona has been DELETED! This is illegal and the Arizona State Senate, who is leading the Forensic Audit, is up in arms. Additionally, seals were broken on the boxes that hold the votes, ballots are missing, and worse. Mark Brnovich, the Attorney General of Arizona, will now be forced to look into this unbelievable Election crime. Many Radical Left Democrats and weak Republicans are very worried about the fact that this has been exposed. The DELETION of an entire Database and critical Election files of Maricopa County is unprecedented. Many other States to follow. The Mainstream Media and Radical Left Democrats want to stay as far away as possible from the Presidential Election Fraud, which should be one of the biggest stories of our time. Fox News is afraid to cover it—there is rarely a mention. Likewise, Newsmax has been virtually silent on this subject because they are intimidated by threats of lawsuits. One America News (OAN), one of the fastest growing networks on television, and the “hottest”, is doing a magnificent job of exposing the massive fraud that took place. The story is only getting bigger and at some point it will be impossible for the weak and/or corrupt media not to cover. Thank you to OAN and other brave American Patriots. It is all happening quickly!   \n",
       "3  Wall Street Journal has reported (they finally got something right), that 2020 was the “Worst Presidential Poll Miss in 40 Years.” The public opinion surveys ahead of the 2020 Presidential Election were the most inaccurate ever, according to a major polling panel. This was done purposely. The polls were a joke. I won States in a landslide that I was predicted to lose days before the election. Other states had me purposely so far down that it would force people, even fans, to say “Let's stay home Darling. We love our President, but he can’t win.” And then I would win those states or at least come very close. In one state that I actually won, but the results were rigged, ABC and the Washington Post had me down by 17 points. Even the rigged final result was extremely close. It’s called SUPPRESSION POLLING and it should be illegal. These are crooked, disgusting, and very dishonest media outlets and they know exactly what they are doing. The 2020 Presidential Election was, by far, the greatest Election Fraud in the history of our Country. The good news is, the American people get it and the truth is rapidly coming out! Had Mike Pence had the courage to send the Electoral College vote back to states for recertification, and had Mitch McConnell fought for us instead of being the weak and pathetic leader he is, we would right now have a Republican President who would be VETOING the horrific Socialistic Bills that are rapidly going through Congress, including Open Borders, High Taxes, Massive Regulations, and so much else!   \n",
       "4                                                                                                                                                                                                                                                                                                                                                                                                                                                                                                                                                                                                                                                                                                                                                                                                                                                                                                                                                                                                                                                                                                                                                                                                                                                                                                                                                                                                                                                                  As our Country is being destroyed, both inside and out, the Presidential Election of 2020 will go down as THE CRIME OF THE CENTURY!   \n",
       "\n",
       "  image  \n",
       "0        \n",
       "1        \n",
       "2        \n",
       "3        \n",
       "4        "
      ]
     },
     "execution_count": 16,
     "metadata": {},
     "output_type": "execute_result"
    }
   ],
   "source": [
    "df.head(5)"
   ]
  },
  {
   "cell_type": "markdown",
   "metadata": {},
   "source": [
    "### How many mention 'election'?"
   ]
  },
  {
   "cell_type": "code",
   "execution_count": 17,
   "metadata": {},
   "outputs": [],
   "source": [
    "df[\"election\"] = df[\"post\"].str.contains(\"election\") | df[\"post\"].str.contains(\n",
    "    \"Election\"\n",
    ")"
   ]
  },
  {
   "cell_type": "code",
   "execution_count": 18,
   "metadata": {},
   "outputs": [
    {
     "data": {
      "text/plain": [
       "31"
      ]
     },
     "execution_count": 18,
     "metadata": {},
     "output_type": "execute_result"
    }
   ],
   "source": [
    "len(df[df[\"election\"] == True])"
   ]
  },
  {
   "cell_type": "markdown",
   "metadata": {},
   "source": [
    "### Clean up the dates"
   ]
  },
  {
   "cell_type": "code",
   "execution_count": 19,
   "metadata": {},
   "outputs": [],
   "source": [
    "df[\"fulldate\"] = pd.to_datetime(df[\"date\"])\n",
    "df[\"date\"] = df[\"fulldate\"].dt.date\n",
    "df[\"time\"] = df[\"fulldate\"].dt.time"
   ]
  },
  {
   "cell_type": "code",
   "execution_count": 20,
   "metadata": {},
   "outputs": [],
   "source": [
    "post_urls = list(df[\"url\"])"
   ]
  },
  {
   "cell_type": "markdown",
   "metadata": {},
   "source": [
    "---"
   ]
  },
  {
   "cell_type": "markdown",
   "metadata": {},
   "source": [
    "### Posts per day "
   ]
  },
  {
   "cell_type": "code",
   "execution_count": 21,
   "metadata": {},
   "outputs": [],
   "source": [
    "election = df.groupby([\"date\", \"election\"]).agg({\"author\": \"size\"}).reset_index()"
   ]
  },
  {
   "cell_type": "code",
   "execution_count": 22,
   "metadata": {},
   "outputs": [
    {
     "data": {
      "text/html": [
       "<div>\n",
       "<style scoped>\n",
       "    .dataframe tbody tr th:only-of-type {\n",
       "        vertical-align: middle;\n",
       "    }\n",
       "\n",
       "    .dataframe tbody tr th {\n",
       "        vertical-align: top;\n",
       "    }\n",
       "\n",
       "    .dataframe thead th {\n",
       "        text-align: right;\n",
       "    }\n",
       "</style>\n",
       "<table border=\"1\" class=\"dataframe\">\n",
       "  <thead>\n",
       "    <tr style=\"text-align: right;\">\n",
       "      <th></th>\n",
       "      <th>date</th>\n",
       "      <th>election</th>\n",
       "      <th>author</th>\n",
       "    </tr>\n",
       "  </thead>\n",
       "  <tbody>\n",
       "    <tr>\n",
       "      <th>0</th>\n",
       "      <td>2021-03-24</td>\n",
       "      <td>True</td>\n",
       "      <td>1</td>\n",
       "    </tr>\n",
       "    <tr>\n",
       "      <th>1</th>\n",
       "      <td>2021-03-26</td>\n",
       "      <td>True</td>\n",
       "      <td>1</td>\n",
       "    </tr>\n",
       "    <tr>\n",
       "      <th>2</th>\n",
       "      <td>2021-03-30</td>\n",
       "      <td>True</td>\n",
       "      <td>1</td>\n",
       "    </tr>\n",
       "    <tr>\n",
       "      <th>3</th>\n",
       "      <td>2021-04-02</td>\n",
       "      <td>True</td>\n",
       "      <td>2</td>\n",
       "    </tr>\n",
       "    <tr>\n",
       "      <th>4</th>\n",
       "      <td>2021-04-03</td>\n",
       "      <td>True</td>\n",
       "      <td>1</td>\n",
       "    </tr>\n",
       "  </tbody>\n",
       "</table>\n",
       "</div>"
      ],
      "text/plain": [
       "         date  election  author\n",
       "0  2021-03-24      True       1\n",
       "1  2021-03-26      True       1\n",
       "2  2021-03-30      True       1\n",
       "3  2021-04-02      True       2\n",
       "4  2021-04-03      True       1"
      ]
     },
     "execution_count": 22,
     "metadata": {},
     "output_type": "execute_result"
    }
   ],
   "source": [
    "election.head()"
   ]
  },
  {
   "cell_type": "code",
   "execution_count": 23,
   "metadata": {},
   "outputs": [],
   "source": [
    "daily = df.groupby([\"date\"])[\"author\"].count().reset_index(name=\"count\")"
   ]
  },
  {
   "cell_type": "code",
   "execution_count": 24,
   "metadata": {},
   "outputs": [],
   "source": [
    "daily.rename(columns={\"author\": \"count\"}, inplace=True)"
   ]
  },
  {
   "cell_type": "code",
   "execution_count": 25,
   "metadata": {},
   "outputs": [],
   "source": [
    "daily[\"seven-day-avg\"] = daily[\"count\"].rolling(7).mean()"
   ]
  },
  {
   "cell_type": "code",
   "execution_count": 26,
   "metadata": {},
   "outputs": [],
   "source": [
    "daily[\"date\"] = pd.to_datetime(daily[\"date\"])"
   ]
  },
  {
   "cell_type": "code",
   "execution_count": 27,
   "metadata": {},
   "outputs": [
    {
     "data": {
      "text/html": [
       "<div>\n",
       "<style scoped>\n",
       "    .dataframe tbody tr th:only-of-type {\n",
       "        vertical-align: middle;\n",
       "    }\n",
       "\n",
       "    .dataframe tbody tr th {\n",
       "        vertical-align: top;\n",
       "    }\n",
       "\n",
       "    .dataframe thead th {\n",
       "        text-align: right;\n",
       "    }\n",
       "</style>\n",
       "<table border=\"1\" class=\"dataframe\">\n",
       "  <thead>\n",
       "    <tr style=\"text-align: right;\">\n",
       "      <th></th>\n",
       "      <th>date</th>\n",
       "      <th>count</th>\n",
       "      <th>seven-day-avg</th>\n",
       "    </tr>\n",
       "  </thead>\n",
       "  <tbody>\n",
       "    <tr>\n",
       "      <th>28</th>\n",
       "      <td>2021-05-15</td>\n",
       "      <td>4</td>\n",
       "      <td>2.714286</td>\n",
       "    </tr>\n",
       "    <tr>\n",
       "      <th>27</th>\n",
       "      <td>2021-05-14</td>\n",
       "      <td>4</td>\n",
       "      <td>2.285714</td>\n",
       "    </tr>\n",
       "    <tr>\n",
       "      <th>25</th>\n",
       "      <td>2021-05-05</td>\n",
       "      <td>4</td>\n",
       "      <td>2.142857</td>\n",
       "    </tr>\n",
       "    <tr>\n",
       "      <th>23</th>\n",
       "      <td>2021-05-03</td>\n",
       "      <td>4</td>\n",
       "      <td>1.857143</td>\n",
       "    </tr>\n",
       "    <tr>\n",
       "      <th>9</th>\n",
       "      <td>2021-04-08</td>\n",
       "      <td>3</td>\n",
       "      <td>1.857143</td>\n",
       "    </tr>\n",
       "  </tbody>\n",
       "</table>\n",
       "</div>"
      ],
      "text/plain": [
       "         date  count  seven-day-avg\n",
       "28 2021-05-15      4       2.714286\n",
       "27 2021-05-14      4       2.285714\n",
       "25 2021-05-05      4       2.142857\n",
       "23 2021-05-03      4       1.857143\n",
       "9  2021-04-08      3       1.857143"
      ]
     },
     "execution_count": 27,
     "metadata": {},
     "output_type": "execute_result"
    }
   ],
   "source": [
    "daily.sort_values(\"count\", ascending=False).head()"
   ]
  },
  {
   "cell_type": "markdown",
   "metadata": {},
   "source": [
    "### Chart it!"
   ]
  },
  {
   "cell_type": "code",
   "execution_count": 28,
   "metadata": {},
   "outputs": [
    {
     "data": {
      "text/html": [
       "\n",
       "<div id=\"altair-viz-53af296740d64423bd935463639af44e\"></div>\n",
       "<script type=\"text/javascript\">\n",
       "  (function(spec, embedOpt){\n",
       "    const outputDiv = document.getElementById(\"altair-viz-53af296740d64423bd935463639af44e\");\n",
       "    const paths = {\n",
       "      \"vega\": \"https://cdn.jsdelivr.net/npm//vega@5?noext\",\n",
       "      \"vega-lib\": \"https://cdn.jsdelivr.net/npm//vega-lib?noext\",\n",
       "      \"vega-lite\": \"https://cdn.jsdelivr.net/npm//vega-lite@4.0.2?noext\",\n",
       "      \"vega-embed\": \"https://cdn.jsdelivr.net/npm//vega-embed@6?noext\",\n",
       "    };\n",
       "\n",
       "    function loadScript(lib) {\n",
       "      return new Promise(function(resolve, reject) {\n",
       "        var s = document.createElement('script');\n",
       "        s.src = paths[lib];\n",
       "        s.async = true;\n",
       "        s.onload = () => resolve(paths[lib]);\n",
       "        s.onerror = () => reject(`Error loading script: ${paths[lib]}`);\n",
       "        document.getElementsByTagName(\"head\")[0].appendChild(s);\n",
       "      });\n",
       "    }\n",
       "\n",
       "    function showError(err) {\n",
       "      outputDiv.innerHTML = `<div class=\"error\" style=\"color:red;\">${err}</div>`;\n",
       "      throw err;\n",
       "    }\n",
       "\n",
       "    function displayChart(vegaEmbed) {\n",
       "      vegaEmbed(outputDiv, spec, embedOpt)\n",
       "        .catch(err => showError(`Javascript Error: ${err.message}<br>This usually means there's a typo in your chart specification. See the javascript console for the full traceback.`));\n",
       "    }\n",
       "\n",
       "    if(typeof define === \"function\" && define.amd) {\n",
       "      requirejs.config({paths});\n",
       "      require([\"vega-embed\"], displayChart, err => showError(`Error loading script: ${err.message}`));\n",
       "    } else if (typeof vegaEmbed === \"function\") {\n",
       "      displayChart(vegaEmbed);\n",
       "    } else {\n",
       "      loadScript(\"vega\")\n",
       "        .then(() => loadScript(\"vega-lite\"))\n",
       "        .then(() => loadScript(\"vega-embed\"))\n",
       "        .catch(showError)\n",
       "        .then(() => displayChart(vegaEmbed));\n",
       "    }\n",
       "  })({\"config\": {\"view\": {\"width\": 800, \"height\": 450, \"strokeOpacity\": 0}, \"background\": \"#ffffff\", \"title\": {\"anchor\": \"start\", \"font\": \"Benton Gothic Bold, sans\", \"fontColor\": \"#000000\", \"fontSize\": 22, \"fontWeight\": \"normal\"}, \"arc\": {\"fill\": \"#82c6df\"}, \"area\": {\"fill\": \"#82c6df\"}, \"line\": {\"stroke\": \"#82c6df\", \"strokeWidth\": 3}, \"path\": {\"stroke\": \"#82c6df\"}, \"rect\": {\"fill\": \"#82c6df\"}, \"shape\": {\"stroke\": \"#82c6df\"}, \"bar\": {\"fill\": \"#82c6df\"}, \"point\": {\"stroke\": \"#82c6df\"}, \"symbol\": {\"fill\": \"#82c6df\", \"size\": 30}, \"axis\": {\"titleFont\": \"Benton Gothic Bold, sans\", \"titleFontSize\": 13, \"titleFontWeight\": \"normal\", \"labelFont\": \"Benton Gothic, sans\", \"labelFontSize\": 11.5, \"labelFontWeight\": \"normal\"}, \"axisX\": {\"labelAngle\": 0, \"labelPadding\": 4, \"tickSize\": 3}, \"axisY\": {\"labelBaseline\": \"middle\", \"maxExtent\": 45, \"minExtent\": 45, \"tickSize\": 2, \"titleAlign\": \"left\", \"titleAngle\": 0, \"titleX\": -45, \"titleY\": -11}, \"legend\": {\"titleFont\": \"Benton Gothic Bold, sans\", \"titleFontSize\": 13, \"titleFontWeight\": \"normal\", \"symbolType\": \"square\", \"labelFont\": \"Benton Gothic, sans\", \"labelFontSize\": 11.5}, \"range\": {\"category\": [\"#3580b1\", \"#ec8431\", \"#ab7fb4\", \"#c89d29\", \"#adc839\", \"#829eb1\"], \"diverging\": [\"#e68a4f\", \"#f4bb6a\", \"#f9e39c\", \"#dadfe2\", \"#a6b7c6\", \"#849eae\"], \"heatmap\": [\"#fbf2c7\", \"#f9e39c\", \"#f8d36e\", \"#f4bb6a\", \"#e68a4f\", \"#d15a40\", \"#ab4232\"], \"ordinal\": [\"#fbf2c7\", \"#f9e39c\", \"#f8d36e\", \"#f4bb6a\", \"#e68a4f\", \"#d15a40\", \"#ab4232\"], \"ramp\": [\"#fbf2c7\", \"#f9e39c\", \"#f8d36e\", \"#f4bb6a\", \"#e68a4f\", \"#d15a40\", \"#ab4232\"]}}, \"layer\": [{\"mark\": {\"type\": \"bar\", \"size\": 10}, \"encoding\": {\"x\": {\"type\": \"temporal\", \"axis\": {\"format\": \"%B %-d\", \"grid\": false, \"tickCount\": 5, \"title\": \"\"}, \"field\": \"date\"}, \"y\": {\"type\": \"quantitative\", \"axis\": {\"domainOpacity\": 0, \"gridColor\": \"#dddddd\", \"offset\": 6, \"tickCount\": 3, \"tickSize\": 0, \"title\": \"Daily post count and seven-day average\"}, \"field\": \"count\", \"scale\": {\"domain\": [0, 5]}}}, \"title\": \"Trump posts to the 'desk' since it launched\"}, {\"mark\": {\"type\": \"line\", \"color\": \"red\"}, \"encoding\": {\"x\": {\"type\": \"temporal\", \"axis\": {\"format\": \"%B %-d\", \"grid\": false, \"tickCount\": 5, \"title\": \"\"}, \"field\": \"date\"}, \"y\": {\"type\": \"quantitative\", \"field\": \"seven-day-avg\"}}}], \"data\": {\"name\": \"data-51b0cde9a9f8db3e3829a8a4e97a6c1f\"}, \"height\": 350, \"width\": 600, \"$schema\": \"https://vega.github.io/schema/vega-lite/v4.0.2.json\", \"datasets\": {\"data-51b0cde9a9f8db3e3829a8a4e97a6c1f\": [{\"date\": \"2021-03-24T00:00:00\", \"count\": 1, \"seven-day-avg\": null}, {\"date\": \"2021-03-26T00:00:00\", \"count\": 1, \"seven-day-avg\": null}, {\"date\": \"2021-03-30T00:00:00\", \"count\": 1, \"seven-day-avg\": null}, {\"date\": \"2021-04-02T00:00:00\", \"count\": 2, \"seven-day-avg\": null}, {\"date\": \"2021-04-03T00:00:00\", \"count\": 1, \"seven-day-avg\": null}, {\"date\": \"2021-04-04T00:00:00\", \"count\": 1, \"seven-day-avg\": null}, {\"date\": \"2021-04-05T00:00:00\", \"count\": 2, \"seven-day-avg\": 1.2857142857142858}, {\"date\": \"2021-04-06T00:00:00\", \"count\": 1, \"seven-day-avg\": 1.2857142857142858}, {\"date\": \"2021-04-07T00:00:00\", \"count\": 3, \"seven-day-avg\": 1.5714285714285714}, {\"date\": \"2021-04-08T00:00:00\", \"count\": 3, \"seven-day-avg\": 1.8571428571428572}, {\"date\": \"2021-04-09T00:00:00\", \"count\": 1, \"seven-day-avg\": 1.7142857142857142}, {\"date\": \"2021-04-12T00:00:00\", \"count\": 2, \"seven-day-avg\": 1.8571428571428572}, {\"date\": \"2021-04-13T00:00:00\", \"count\": 2, \"seven-day-avg\": 2.0}, {\"date\": \"2021-04-14T00:00:00\", \"count\": 1, \"seven-day-avg\": 1.8571428571428572}, {\"date\": \"2021-04-15T00:00:00\", \"count\": 1, \"seven-day-avg\": 1.8571428571428572}, {\"date\": \"2021-04-20T00:00:00\", \"count\": 1, \"seven-day-avg\": 1.5714285714285714}, {\"date\": \"2021-04-23T00:00:00\", \"count\": 2, \"seven-day-avg\": 1.4285714285714286}, {\"date\": \"2021-04-24T00:00:00\", \"count\": 2, \"seven-day-avg\": 1.5714285714285714}, {\"date\": \"2021-04-26T00:00:00\", \"count\": 1, \"seven-day-avg\": 1.4285714285714286}, {\"date\": \"2021-04-27T00:00:00\", \"count\": 3, \"seven-day-avg\": 1.5714285714285714}, {\"date\": \"2021-04-28T00:00:00\", \"count\": 1, \"seven-day-avg\": 1.5714285714285714}, {\"date\": \"2021-04-30T00:00:00\", \"count\": 1, \"seven-day-avg\": 1.5714285714285714}, {\"date\": \"2021-05-01T00:00:00\", \"count\": 1, \"seven-day-avg\": 1.5714285714285714}, {\"date\": \"2021-05-03T00:00:00\", \"count\": 4, \"seven-day-avg\": 1.8571428571428572}, {\"date\": \"2021-05-04T00:00:00\", \"count\": 1, \"seven-day-avg\": 1.7142857142857142}, {\"date\": \"2021-05-05T00:00:00\", \"count\": 4, \"seven-day-avg\": 2.142857142857143}, {\"date\": \"2021-05-13T00:00:00\", \"count\": 1, \"seven-day-avg\": 1.8571428571428572}, {\"date\": \"2021-05-14T00:00:00\", \"count\": 4, \"seven-day-avg\": 2.2857142857142856}, {\"date\": \"2021-05-15T00:00:00\", \"count\": 4, \"seven-day-avg\": 2.7142857142857144}, {\"date\": \"2021-05-16T00:00:00\", \"count\": 1, \"seven-day-avg\": 2.7142857142857144}]}}, {\"mode\": \"vega-lite\"});\n",
       "</script>"
      ],
      "text/plain": [
       "alt.LayerChart(...)"
      ]
     },
     "execution_count": 28,
     "metadata": {},
     "output_type": "execute_result"
    }
   ],
   "source": [
    "bars = (\n",
    "    alt.Chart(\n",
    "        daily,\n",
    "        title=\"Trump posts to the 'desk' since it launched\",\n",
    "    )\n",
    "    .mark_bar(size=10)\n",
    "    .encode(\n",
    "        x=alt.X(\n",
    "            \"date:T\",\n",
    "            axis=alt.Axis(grid=False, title=\"\", tickCount=5, format=(\"%B %-d\")),\n",
    "        ),\n",
    "        y=alt.Y(\n",
    "            \"count:Q\",\n",
    "            scale=alt.Scale(domain=(0, len(\"count\"))),\n",
    "            axis=alt.Axis(\n",
    "                gridColor=\"#dddddd\",\n",
    "                offset=6,\n",
    "                tickSize=0,\n",
    "                domainOpacity=0,\n",
    "                tickCount=3,\n",
    "                title=\"Daily post count and seven-day average\",\n",
    "            ),\n",
    "        ),\n",
    "    )\n",
    ")\n",
    "\n",
    "rolling = (\n",
    "    alt.Chart(daily)\n",
    "    .mark_line(color=\"red\")\n",
    "    .encode(\n",
    "        y=\"seven-day-avg\",\n",
    "        x=alt.X(\n",
    "            \"date:T\",\n",
    "            axis=alt.Axis(grid=False, title=\"\", tickCount=5, format=(\"%B %-d\")),\n",
    "        ),\n",
    "    )\n",
    ")\n",
    "\n",
    "(bars + rolling).properties(height=350, width=600).configure_view(strokeOpacity=0)"
   ]
  },
  {
   "cell_type": "code",
   "execution_count": 29,
   "metadata": {},
   "outputs": [],
   "source": [
    "election[\"date\"] = pd.to_datetime(election[\"date\"])"
   ]
  },
  {
   "cell_type": "code",
   "execution_count": 30,
   "metadata": {},
   "outputs": [
    {
     "data": {
      "text/html": [
       "\n",
       "<div id=\"altair-viz-38ba34ac2b8047779cda4412bb881dfb\"></div>\n",
       "<script type=\"text/javascript\">\n",
       "  (function(spec, embedOpt){\n",
       "    const outputDiv = document.getElementById(\"altair-viz-38ba34ac2b8047779cda4412bb881dfb\");\n",
       "    const paths = {\n",
       "      \"vega\": \"https://cdn.jsdelivr.net/npm//vega@5?noext\",\n",
       "      \"vega-lib\": \"https://cdn.jsdelivr.net/npm//vega-lib?noext\",\n",
       "      \"vega-lite\": \"https://cdn.jsdelivr.net/npm//vega-lite@4.0.2?noext\",\n",
       "      \"vega-embed\": \"https://cdn.jsdelivr.net/npm//vega-embed@6?noext\",\n",
       "    };\n",
       "\n",
       "    function loadScript(lib) {\n",
       "      return new Promise(function(resolve, reject) {\n",
       "        var s = document.createElement('script');\n",
       "        s.src = paths[lib];\n",
       "        s.async = true;\n",
       "        s.onload = () => resolve(paths[lib]);\n",
       "        s.onerror = () => reject(`Error loading script: ${paths[lib]}`);\n",
       "        document.getElementsByTagName(\"head\")[0].appendChild(s);\n",
       "      });\n",
       "    }\n",
       "\n",
       "    function showError(err) {\n",
       "      outputDiv.innerHTML = `<div class=\"error\" style=\"color:red;\">${err}</div>`;\n",
       "      throw err;\n",
       "    }\n",
       "\n",
       "    function displayChart(vegaEmbed) {\n",
       "      vegaEmbed(outputDiv, spec, embedOpt)\n",
       "        .catch(err => showError(`Javascript Error: ${err.message}<br>This usually means there's a typo in your chart specification. See the javascript console for the full traceback.`));\n",
       "    }\n",
       "\n",
       "    if(typeof define === \"function\" && define.amd) {\n",
       "      requirejs.config({paths});\n",
       "      require([\"vega-embed\"], displayChart, err => showError(`Error loading script: ${err.message}`));\n",
       "    } else if (typeof vegaEmbed === \"function\") {\n",
       "      displayChart(vegaEmbed);\n",
       "    } else {\n",
       "      loadScript(\"vega\")\n",
       "        .then(() => loadScript(\"vega-lite\"))\n",
       "        .then(() => loadScript(\"vega-embed\"))\n",
       "        .catch(showError)\n",
       "        .then(() => displayChart(vegaEmbed));\n",
       "    }\n",
       "  })({\"config\": {\"view\": {\"width\": 800, \"height\": 450, \"strokeOpacity\": 0}, \"background\": \"#ffffff\", \"title\": {\"anchor\": \"start\", \"font\": \"Benton Gothic Bold, sans\", \"fontColor\": \"#000000\", \"fontSize\": 22, \"fontWeight\": \"normal\"}, \"arc\": {\"fill\": \"#82c6df\"}, \"area\": {\"fill\": \"#82c6df\"}, \"line\": {\"stroke\": \"#82c6df\", \"strokeWidth\": 3}, \"path\": {\"stroke\": \"#82c6df\"}, \"rect\": {\"fill\": \"#82c6df\"}, \"shape\": {\"stroke\": \"#82c6df\"}, \"bar\": {\"fill\": \"#82c6df\"}, \"point\": {\"stroke\": \"#82c6df\"}, \"symbol\": {\"fill\": \"#82c6df\", \"size\": 30}, \"axis\": {\"titleFont\": \"Benton Gothic Bold, sans\", \"titleFontSize\": 13, \"titleFontWeight\": \"normal\", \"labelFont\": \"Benton Gothic, sans\", \"labelFontSize\": 11.5, \"labelFontWeight\": \"normal\"}, \"axisX\": {\"labelAngle\": 0, \"labelPadding\": 4, \"tickSize\": 3}, \"axisY\": {\"labelBaseline\": \"middle\", \"maxExtent\": 45, \"minExtent\": 45, \"tickSize\": 2, \"titleAlign\": \"left\", \"titleAngle\": 0, \"titleX\": -45, \"titleY\": -11}, \"legend\": {\"titleFont\": \"Benton Gothic Bold, sans\", \"titleFontSize\": 13, \"titleFontWeight\": \"normal\", \"symbolType\": \"square\", \"labelFont\": \"Benton Gothic, sans\", \"labelFontSize\": 11.5}, \"range\": {\"category\": [\"#3580b1\", \"#ec8431\", \"#ab7fb4\", \"#c89d29\", \"#adc839\", \"#829eb1\"], \"diverging\": [\"#e68a4f\", \"#f4bb6a\", \"#f9e39c\", \"#dadfe2\", \"#a6b7c6\", \"#849eae\"], \"heatmap\": [\"#fbf2c7\", \"#f9e39c\", \"#f8d36e\", \"#f4bb6a\", \"#e68a4f\", \"#d15a40\", \"#ab4232\"], \"ordinal\": [\"#fbf2c7\", \"#f9e39c\", \"#f8d36e\", \"#f4bb6a\", \"#e68a4f\", \"#d15a40\", \"#ab4232\"], \"ramp\": [\"#fbf2c7\", \"#f9e39c\", \"#f8d36e\", \"#f4bb6a\", \"#e68a4f\", \"#d15a40\", \"#ab4232\"]}}, \"data\": {\"name\": \"data-659de708475e74c90331ac3ba15befc4\"}, \"mark\": {\"type\": \"bar\", \"size\": 10}, \"encoding\": {\"color\": {\"type\": \"nominal\", \"field\": \"election\", \"scale\": {\"domain\": [\"true\", \"false\"], \"range\": [\"#f1a340\", \"#998ec3\"]}, \"title\": \"About election?\"}, \"x\": {\"type\": \"temporal\", \"axis\": {\"format\": \"%B %-d\", \"grid\": false, \"tickCount\": 5, \"title\": \"\"}, \"field\": \"date\"}, \"y\": {\"type\": \"quantitative\", \"axis\": {\"domainOpacity\": 0, \"gridColor\": \"#dddddd\", \"offset\": 6, \"tickCount\": 3, \"tickSize\": 0, \"title\": \"Daily post count\"}, \"field\": \"author\", \"scale\": {\"domain\": [0, 8]}}}, \"height\": 350, \"title\": \"Trump posts to the 'desk' re: election\", \"width\": 600, \"$schema\": \"https://vega.github.io/schema/vega-lite/v4.0.2.json\", \"datasets\": {\"data-659de708475e74c90331ac3ba15befc4\": [{\"date\": \"2021-03-24T00:00:00\", \"election\": true, \"author\": 1}, {\"date\": \"2021-03-26T00:00:00\", \"election\": true, \"author\": 1}, {\"date\": \"2021-03-30T00:00:00\", \"election\": true, \"author\": 1}, {\"date\": \"2021-04-02T00:00:00\", \"election\": true, \"author\": 2}, {\"date\": \"2021-04-03T00:00:00\", \"election\": true, \"author\": 1}, {\"date\": \"2021-04-04T00:00:00\", \"election\": true, \"author\": 1}, {\"date\": \"2021-04-05T00:00:00\", \"election\": true, \"author\": 2}, {\"date\": \"2021-04-06T00:00:00\", \"election\": true, \"author\": 1}, {\"date\": \"2021-04-07T00:00:00\", \"election\": false, \"author\": 2}, {\"date\": \"2021-04-07T00:00:00\", \"election\": true, \"author\": 1}, {\"date\": \"2021-04-08T00:00:00\", \"election\": false, \"author\": 3}, {\"date\": \"2021-04-09T00:00:00\", \"election\": false, \"author\": 1}, {\"date\": \"2021-04-12T00:00:00\", \"election\": false, \"author\": 1}, {\"date\": \"2021-04-12T00:00:00\", \"election\": true, \"author\": 1}, {\"date\": \"2021-04-13T00:00:00\", \"election\": false, \"author\": 1}, {\"date\": \"2021-04-13T00:00:00\", \"election\": true, \"author\": 1}, {\"date\": \"2021-04-14T00:00:00\", \"election\": false, \"author\": 1}, {\"date\": \"2021-04-15T00:00:00\", \"election\": true, \"author\": 1}, {\"date\": \"2021-04-20T00:00:00\", \"election\": false, \"author\": 1}, {\"date\": \"2021-04-23T00:00:00\", \"election\": false, \"author\": 1}, {\"date\": \"2021-04-23T00:00:00\", \"election\": true, \"author\": 1}, {\"date\": \"2021-04-24T00:00:00\", \"election\": true, \"author\": 2}, {\"date\": \"2021-04-26T00:00:00\", \"election\": true, \"author\": 1}, {\"date\": \"2021-04-27T00:00:00\", \"election\": false, \"author\": 1}, {\"date\": \"2021-04-27T00:00:00\", \"election\": true, \"author\": 2}, {\"date\": \"2021-04-28T00:00:00\", \"election\": false, \"author\": 1}, {\"date\": \"2021-04-30T00:00:00\", \"election\": false, \"author\": 1}, {\"date\": \"2021-05-01T00:00:00\", \"election\": true, \"author\": 1}, {\"date\": \"2021-05-03T00:00:00\", \"election\": false, \"author\": 2}, {\"date\": \"2021-05-03T00:00:00\", \"election\": true, \"author\": 2}, {\"date\": \"2021-05-04T00:00:00\", \"election\": false, \"author\": 1}, {\"date\": \"2021-05-05T00:00:00\", \"election\": false, \"author\": 3}, {\"date\": \"2021-05-05T00:00:00\", \"election\": true, \"author\": 1}, {\"date\": \"2021-05-13T00:00:00\", \"election\": false, \"author\": 1}, {\"date\": \"2021-05-14T00:00:00\", \"election\": false, \"author\": 2}, {\"date\": \"2021-05-14T00:00:00\", \"election\": true, \"author\": 2}, {\"date\": \"2021-05-15T00:00:00\", \"election\": true, \"author\": 4}, {\"date\": \"2021-05-16T00:00:00\", \"election\": true, \"author\": 1}]}}, {\"mode\": \"vega-lite\"});\n",
       "</script>"
      ],
      "text/plain": [
       "alt.Chart(...)"
      ]
     },
     "execution_count": 30,
     "metadata": {},
     "output_type": "execute_result"
    }
   ],
   "source": [
    "bars_elex = (\n",
    "    alt.Chart(\n",
    "        election,\n",
    "        title=\"Trump posts to the 'desk' re: election\",\n",
    "    )\n",
    "    .mark_bar(size=10)\n",
    "    .encode(\n",
    "        x=alt.X(\n",
    "            \"date:T\",\n",
    "            axis=alt.Axis(grid=False, title=\"\", tickCount=5, format=(\"%B %-d\")),\n",
    "        ),\n",
    "        y=alt.Y(\n",
    "            \"author:Q\",\n",
    "            scale=alt.Scale(domain=(0, len(\"author:Q\"))),\n",
    "            axis=alt.Axis(\n",
    "                gridColor=\"#dddddd\",\n",
    "                offset=6,\n",
    "                tickSize=0,\n",
    "                domainOpacity=0,\n",
    "                tickCount=3,\n",
    "                title=\"Daily post count\",\n",
    "            ),\n",
    "        ),\n",
    "        color=alt.Color(\n",
    "            \"election\",\n",
    "            title=\"About election?\",\n",
    "            scale=alt.Scale(domain=[\"true\", \"false\"], range=[\"#f1a340\", \"#998ec3\"]),\n",
    "        ),\n",
    "    )\n",
    ")\n",
    "\n",
    "(bars_elex).properties(height=350, width=600).configure_view(strokeOpacity=0)"
   ]
  },
  {
   "cell_type": "code",
   "execution_count": 31,
   "metadata": {},
   "outputs": [],
   "source": [
    "(bars + rolling).properties(height=350, width=600).configure_view(strokeOpacity=0).save(\n",
    "    \"visuals/daily_posts.png\"\n",
    ")"
   ]
  },
  {
   "cell_type": "code",
   "execution_count": 32,
   "metadata": {},
   "outputs": [],
   "source": [
    "(bars_elex).properties(height=350, width=600).configure_view(strokeOpacity=0).save(\n",
    "    \"visuals/daily_posts_re_election.png\"\n",
    ")"
   ]
  },
  {
   "cell_type": "markdown",
   "metadata": {},
   "source": [
    "---"
   ]
  },
  {
   "cell_type": "markdown",
   "metadata": {},
   "source": [
    "### Exports"
   ]
  },
  {
   "cell_type": "code",
   "execution_count": 33,
   "metadata": {},
   "outputs": [],
   "source": [
    "today = dt.date.today().strftime(\"%m-%d-%Y\")"
   ]
  },
  {
   "cell_type": "code",
   "execution_count": 34,
   "metadata": {},
   "outputs": [],
   "source": [
    "df.to_csv(\"archive/posts_\" + str(today) + \".csv\", index=False)\n",
    "df.to_csv(\"output/allposts.csv\", index=False)"
   ]
  }
 ],
 "metadata": {
  "kernelspec": {
   "display_name": "Python 3",
   "language": "python",
   "name": "python3"
  },
  "language_info": {
   "codemirror_mode": {
    "name": "ipython",
    "version": 3
   },
   "file_extension": ".py",
   "mimetype": "text/x-python",
   "name": "python",
   "nbconvert_exporter": "python",
   "pygments_lexer": "ipython3",
   "version": "3.7.4"
  }
 },
 "nbformat": 4,
 "nbformat_minor": 4
}
