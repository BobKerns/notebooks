{
 "cells": [
  {
   "cell_type": "markdown",
   "metadata": {},
   "source": [
    "# Tie-breaking votes"
   ]
  },
  {
   "cell_type": "code",
   "execution_count": 1,
   "metadata": {},
   "outputs": [],
   "source": [
    "%load_ext lab_black"
   ]
  },
  {
   "cell_type": "code",
   "execution_count": 2,
   "metadata": {},
   "outputs": [],
   "source": [
    "import pandas as pd\n",
    "import geopandas as gpd\n",
    "import altair as alt\n",
    "import altair_latimes as lat\n",
    "import glob\n",
    "import os\n",
    "import requests\n",
    "from pandas import json_normalize"
   ]
  },
  {
   "cell_type": "code",
   "execution_count": 3,
   "metadata": {},
   "outputs": [],
   "source": [
    "alt.themes.register(\"latimes\", lat.theme)\n",
    "alt.themes.enable(\"latimes\")\n",
    "pd.options.display.max_columns = 50\n",
    "pd.options.display.max_rows = 1000\n",
    "alt.data_transformers.disable_max_rows()\n",
    "pd.set_option(\"max_colwidth\", None)"
   ]
  },
  {
   "cell_type": "markdown",
   "metadata": {},
   "source": [
    "### Get congressional voting data for House and Senate from ProPublica"
   ]
  },
  {
   "cell_type": "code",
   "execution_count": 4,
   "metadata": {},
   "outputs": [],
   "source": [
    "key = \"sg5Q11oWW9pqLtmn8gVS0nOS179RousHDpeTgZkA\""
   ]
  },
  {
   "cell_type": "code",
   "execution_count": 5,
   "metadata": {},
   "outputs": [],
   "source": [
    "base_url = \"https://api.propublica.org/congress/v1/senate/votes/recent.json?offset=\""
   ]
  },
  {
   "cell_type": "code",
   "execution_count": 6,
   "metadata": {},
   "outputs": [],
   "source": [
    "links = []\n",
    "\n",
    "for offset in range(1, 200):\n",
    "    links.append(dict(chamber=\"senate\", url=base_url + str(offset)))"
   ]
  },
  {
   "cell_type": "code",
   "execution_count": 7,
   "metadata": {},
   "outputs": [],
   "source": [
    "jsons = []\n",
    "for l in links:\n",
    "    r = requests.get(l[\"url\"], headers={\"X-API-KEY\": key})\n",
    "    d = r.json()\n",
    "    l[\"datadict\"] = d\n",
    "    jsons.append(l)"
   ]
  },
  {
   "cell_type": "code",
   "execution_count": 8,
   "metadata": {},
   "outputs": [],
   "source": [
    "def processdict(d):\n",
    "    data = json_normalize(d[\"datadict\"][\"results\"], record_path=[\"votes\"])\n",
    "    return data"
   ]
  },
  {
   "cell_type": "code",
   "execution_count": 9,
   "metadata": {},
   "outputs": [],
   "source": [
    "alldata = pd.concat([processdict(j) for j in jsons], sort=False).reset_index()"
   ]
  },
  {
   "cell_type": "code",
   "execution_count": null,
   "metadata": {},
   "outputs": [],
   "source": []
  },
  {
   "cell_type": "code",
   "execution_count": 10,
   "metadata": {},
   "outputs": [],
   "source": [
    "alldata_slim = alldata[\n",
    "    [\n",
    "        \"index\",\n",
    "        \"congress\",\n",
    "        \"chamber\",\n",
    "        \"session\",\n",
    "        \"roll_call\",\n",
    "        \"source\",\n",
    "        \"url\",\n",
    "        \"vote_uri\",\n",
    "        \"question\",\n",
    "        \"question_text\",\n",
    "        \"description\",\n",
    "        \"vote_type\",\n",
    "        \"date\",\n",
    "        \"time\",\n",
    "        \"result\",\n",
    "        \"tie_breaker\",\n",
    "        \"tie_breaker_vote\",\n",
    "    ]\n",
    "]"
   ]
  },
  {
   "cell_type": "code",
   "execution_count": 11,
   "metadata": {},
   "outputs": [],
   "source": [
    "alldata_slim = alldata_slim.drop_duplicates()"
   ]
  },
  {
   "cell_type": "code",
   "execution_count": 12,
   "metadata": {},
   "outputs": [
    {
     "data": {
      "text/html": [
       "<div>\n",
       "<style scoped>\n",
       "    .dataframe tbody tr th:only-of-type {\n",
       "        vertical-align: middle;\n",
       "    }\n",
       "\n",
       "    .dataframe tbody tr th {\n",
       "        vertical-align: top;\n",
       "    }\n",
       "\n",
       "    .dataframe thead th {\n",
       "        text-align: right;\n",
       "    }\n",
       "</style>\n",
       "<table border=\"1\" class=\"dataframe\">\n",
       "  <thead>\n",
       "    <tr style=\"text-align: right;\">\n",
       "      <th></th>\n",
       "      <th>index</th>\n",
       "      <th>congress</th>\n",
       "      <th>chamber</th>\n",
       "      <th>session</th>\n",
       "      <th>roll_call</th>\n",
       "      <th>source</th>\n",
       "      <th>url</th>\n",
       "      <th>vote_uri</th>\n",
       "      <th>question</th>\n",
       "      <th>question_text</th>\n",
       "      <th>description</th>\n",
       "      <th>vote_type</th>\n",
       "      <th>date</th>\n",
       "      <th>time</th>\n",
       "      <th>result</th>\n",
       "      <th>tie_breaker</th>\n",
       "      <th>tie_breaker_vote</th>\n",
       "    </tr>\n",
       "  </thead>\n",
       "  <tbody>\n",
       "    <tr>\n",
       "      <th>16</th>\n",
       "      <td>16</td>\n",
       "      <td>117</td>\n",
       "      <td>Senate</td>\n",
       "      <td>1</td>\n",
       "      <td>161</td>\n",
       "      <td>https://www.senate.gov/legislative/LIS/roll_call_votes/vote1171/vote_117_1_00161.xml</td>\n",
       "      <td>https://www.senate.gov/legislative/LIS/roll_call_lists/roll_call_vote_cfm.cfm?congress=117&amp;session=1&amp;vote=00161</td>\n",
       "      <td>https://api.propublica.org/congress/v1/117/senate/sessions/1/votes/161.json</td>\n",
       "      <td>On the Motion to Discharge</td>\n",
       "      <td>On the Motion to Discharge PN79-6</td>\n",
       "      <td>Colin Hackett Kahl, of California, to be Under Secretary of Defense for Policy</td>\n",
       "      <td>1/2</td>\n",
       "      <td>2021-04-21</td>\n",
       "      <td>17:58:00</td>\n",
       "      <td>Motion to Discharge Agreed to</td>\n",
       "      <td>Vice President of the United States</td>\n",
       "      <td>Yea</td>\n",
       "    </tr>\n",
       "    <tr>\n",
       "      <th>35</th>\n",
       "      <td>15</td>\n",
       "      <td>117</td>\n",
       "      <td>Senate</td>\n",
       "      <td>1</td>\n",
       "      <td>161</td>\n",
       "      <td>https://www.senate.gov/legislative/LIS/roll_call_votes/vote1171/vote_117_1_00161.xml</td>\n",
       "      <td>https://www.senate.gov/legislative/LIS/roll_call_lists/roll_call_vote_cfm.cfm?congress=117&amp;session=1&amp;vote=00161</td>\n",
       "      <td>https://api.propublica.org/congress/v1/117/senate/sessions/1/votes/161.json</td>\n",
       "      <td>On the Motion to Discharge</td>\n",
       "      <td>On the Motion to Discharge PN79-6</td>\n",
       "      <td>Colin Hackett Kahl, of California, to be Under Secretary of Defense for Policy</td>\n",
       "      <td>1/2</td>\n",
       "      <td>2021-04-21</td>\n",
       "      <td>17:58:00</td>\n",
       "      <td>Motion to Discharge Agreed to</td>\n",
       "      <td>Vice President of the United States</td>\n",
       "      <td>Yea</td>\n",
       "    </tr>\n",
       "    <tr>\n",
       "      <th>54</th>\n",
       "      <td>14</td>\n",
       "      <td>117</td>\n",
       "      <td>Senate</td>\n",
       "      <td>1</td>\n",
       "      <td>161</td>\n",
       "      <td>https://www.senate.gov/legislative/LIS/roll_call_votes/vote1171/vote_117_1_00161.xml</td>\n",
       "      <td>https://www.senate.gov/legislative/LIS/roll_call_lists/roll_call_vote_cfm.cfm?congress=117&amp;session=1&amp;vote=00161</td>\n",
       "      <td>https://api.propublica.org/congress/v1/117/senate/sessions/1/votes/161.json</td>\n",
       "      <td>On the Motion to Discharge</td>\n",
       "      <td>On the Motion to Discharge PN79-6</td>\n",
       "      <td>Colin Hackett Kahl, of California, to be Under Secretary of Defense for Policy</td>\n",
       "      <td>1/2</td>\n",
       "      <td>2021-04-21</td>\n",
       "      <td>17:58:00</td>\n",
       "      <td>Motion to Discharge Agreed to</td>\n",
       "      <td>Vice President of the United States</td>\n",
       "      <td>Yea</td>\n",
       "    </tr>\n",
       "    <tr>\n",
       "      <th>73</th>\n",
       "      <td>13</td>\n",
       "      <td>117</td>\n",
       "      <td>Senate</td>\n",
       "      <td>1</td>\n",
       "      <td>161</td>\n",
       "      <td>https://www.senate.gov/legislative/LIS/roll_call_votes/vote1171/vote_117_1_00161.xml</td>\n",
       "      <td>https://www.senate.gov/legislative/LIS/roll_call_lists/roll_call_vote_cfm.cfm?congress=117&amp;session=1&amp;vote=00161</td>\n",
       "      <td>https://api.propublica.org/congress/v1/117/senate/sessions/1/votes/161.json</td>\n",
       "      <td>On the Motion to Discharge</td>\n",
       "      <td>On the Motion to Discharge PN79-6</td>\n",
       "      <td>Colin Hackett Kahl, of California, to be Under Secretary of Defense for Policy</td>\n",
       "      <td>1/2</td>\n",
       "      <td>2021-04-21</td>\n",
       "      <td>17:58:00</td>\n",
       "      <td>Motion to Discharge Agreed to</td>\n",
       "      <td>Vice President of the United States</td>\n",
       "      <td>Yea</td>\n",
       "    </tr>\n",
       "    <tr>\n",
       "      <th>92</th>\n",
       "      <td>12</td>\n",
       "      <td>117</td>\n",
       "      <td>Senate</td>\n",
       "      <td>1</td>\n",
       "      <td>161</td>\n",
       "      <td>https://www.senate.gov/legislative/LIS/roll_call_votes/vote1171/vote_117_1_00161.xml</td>\n",
       "      <td>https://www.senate.gov/legislative/LIS/roll_call_lists/roll_call_vote_cfm.cfm?congress=117&amp;session=1&amp;vote=00161</td>\n",
       "      <td>https://api.propublica.org/congress/v1/117/senate/sessions/1/votes/161.json</td>\n",
       "      <td>On the Motion to Discharge</td>\n",
       "      <td>On the Motion to Discharge PN79-6</td>\n",
       "      <td>Colin Hackett Kahl, of California, to be Under Secretary of Defense for Policy</td>\n",
       "      <td>1/2</td>\n",
       "      <td>2021-04-21</td>\n",
       "      <td>17:58:00</td>\n",
       "      <td>Motion to Discharge Agreed to</td>\n",
       "      <td>Vice President of the United States</td>\n",
       "      <td>Yea</td>\n",
       "    </tr>\n",
       "  </tbody>\n",
       "</table>\n",
       "</div>"
      ],
      "text/plain": [
       "    index  congress chamber  session  roll_call  \\\n",
       "16     16       117  Senate        1        161   \n",
       "35     15       117  Senate        1        161   \n",
       "54     14       117  Senate        1        161   \n",
       "73     13       117  Senate        1        161   \n",
       "92     12       117  Senate        1        161   \n",
       "\n",
       "                                                                                  source  \\\n",
       "16  https://www.senate.gov/legislative/LIS/roll_call_votes/vote1171/vote_117_1_00161.xml   \n",
       "35  https://www.senate.gov/legislative/LIS/roll_call_votes/vote1171/vote_117_1_00161.xml   \n",
       "54  https://www.senate.gov/legislative/LIS/roll_call_votes/vote1171/vote_117_1_00161.xml   \n",
       "73  https://www.senate.gov/legislative/LIS/roll_call_votes/vote1171/vote_117_1_00161.xml   \n",
       "92  https://www.senate.gov/legislative/LIS/roll_call_votes/vote1171/vote_117_1_00161.xml   \n",
       "\n",
       "                                                                                                                url  \\\n",
       "16  https://www.senate.gov/legislative/LIS/roll_call_lists/roll_call_vote_cfm.cfm?congress=117&session=1&vote=00161   \n",
       "35  https://www.senate.gov/legislative/LIS/roll_call_lists/roll_call_vote_cfm.cfm?congress=117&session=1&vote=00161   \n",
       "54  https://www.senate.gov/legislative/LIS/roll_call_lists/roll_call_vote_cfm.cfm?congress=117&session=1&vote=00161   \n",
       "73  https://www.senate.gov/legislative/LIS/roll_call_lists/roll_call_vote_cfm.cfm?congress=117&session=1&vote=00161   \n",
       "92  https://www.senate.gov/legislative/LIS/roll_call_lists/roll_call_vote_cfm.cfm?congress=117&session=1&vote=00161   \n",
       "\n",
       "                                                                       vote_uri  \\\n",
       "16  https://api.propublica.org/congress/v1/117/senate/sessions/1/votes/161.json   \n",
       "35  https://api.propublica.org/congress/v1/117/senate/sessions/1/votes/161.json   \n",
       "54  https://api.propublica.org/congress/v1/117/senate/sessions/1/votes/161.json   \n",
       "73  https://api.propublica.org/congress/v1/117/senate/sessions/1/votes/161.json   \n",
       "92  https://api.propublica.org/congress/v1/117/senate/sessions/1/votes/161.json   \n",
       "\n",
       "                      question                      question_text  \\\n",
       "16  On the Motion to Discharge  On the Motion to Discharge PN79-6   \n",
       "35  On the Motion to Discharge  On the Motion to Discharge PN79-6   \n",
       "54  On the Motion to Discharge  On the Motion to Discharge PN79-6   \n",
       "73  On the Motion to Discharge  On the Motion to Discharge PN79-6   \n",
       "92  On the Motion to Discharge  On the Motion to Discharge PN79-6   \n",
       "\n",
       "                                                                       description  \\\n",
       "16  Colin Hackett Kahl, of California, to be Under Secretary of Defense for Policy   \n",
       "35  Colin Hackett Kahl, of California, to be Under Secretary of Defense for Policy   \n",
       "54  Colin Hackett Kahl, of California, to be Under Secretary of Defense for Policy   \n",
       "73  Colin Hackett Kahl, of California, to be Under Secretary of Defense for Policy   \n",
       "92  Colin Hackett Kahl, of California, to be Under Secretary of Defense for Policy   \n",
       "\n",
       "   vote_type        date      time                         result  \\\n",
       "16       1/2  2021-04-21  17:58:00  Motion to Discharge Agreed to   \n",
       "35       1/2  2021-04-21  17:58:00  Motion to Discharge Agreed to   \n",
       "54       1/2  2021-04-21  17:58:00  Motion to Discharge Agreed to   \n",
       "73       1/2  2021-04-21  17:58:00  Motion to Discharge Agreed to   \n",
       "92       1/2  2021-04-21  17:58:00  Motion to Discharge Agreed to   \n",
       "\n",
       "                            tie_breaker tie_breaker_vote  \n",
       "16  Vice President of the United States              Yea  \n",
       "35  Vice President of the United States              Yea  \n",
       "54  Vice President of the United States              Yea  \n",
       "73  Vice President of the United States              Yea  \n",
       "92  Vice President of the United States              Yea  "
      ]
     },
     "execution_count": 12,
     "metadata": {},
     "output_type": "execute_result"
    }
   ],
   "source": [
    "alldata_slim[\n",
    "    alldata_slim[\"tie_breaker\"] == \"Vice President of the United States\"\n",
    "].head()"
   ]
  },
  {
   "cell_type": "code",
   "execution_count": 13,
   "metadata": {},
   "outputs": [],
   "source": [
    "tie_breakers = (\n",
    "    alldata_slim[alldata_slim[\"tie_breaker\"] == \"Vice President of the United States\"]\n",
    "    .groupby([\"date\", \"description\", \"roll_call\"])\n",
    "    .agg({\"index\": \"count\"})\n",
    "    .reset_index()\n",
    ")"
   ]
  },
  {
   "cell_type": "code",
   "execution_count": null,
   "metadata": {},
   "outputs": [],
   "source": []
  },
  {
   "cell_type": "code",
   "execution_count": null,
   "metadata": {},
   "outputs": [],
   "source": []
  },
  {
   "cell_type": "code",
   "execution_count": null,
   "metadata": {},
   "outputs": [],
   "source": []
  },
  {
   "cell_type": "code",
   "execution_count": null,
   "metadata": {},
   "outputs": [],
   "source": []
  },
  {
   "cell_type": "code",
   "execution_count": null,
   "metadata": {},
   "outputs": [],
   "source": []
  },
  {
   "cell_type": "markdown",
   "metadata": {},
   "source": [
    "---"
   ]
  },
  {
   "cell_type": "code",
   "execution_count": 14,
   "metadata": {},
   "outputs": [],
   "source": [
    "votes_url = \"https://api.propublica.org/congress/v1/117/senate/sessions/1/votes/\""
   ]
  },
  {
   "cell_type": "code",
   "execution_count": 15,
   "metadata": {},
   "outputs": [],
   "source": [
    "links_votes = []\n",
    "\n",
    "for vote in tie_breakers.roll_call.unique():\n",
    "    links_votes.append(dict(chamber=\"senate\", url=votes_url + str(vote) + \".json\"))"
   ]
  }
 ],
 "metadata": {
  "kernelspec": {
   "display_name": "Python 3",
   "language": "python",
   "name": "python3"
  },
  "language_info": {
   "codemirror_mode": {
    "name": "ipython",
    "version": 3
   },
   "file_extension": ".py",
   "mimetype": "text/x-python",
   "name": "python",
   "nbconvert_exporter": "python",
   "pygments_lexer": "ipython3",
   "version": "3.7.4"
  }
 },
 "nbformat": 4,
 "nbformat_minor": 4
}
