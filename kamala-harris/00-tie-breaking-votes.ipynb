{
 "cells": [
  {
   "cell_type": "markdown",
   "metadata": {},
   "source": [
    "# Tie-breaking votes"
   ]
  },
  {
   "cell_type": "code",
   "execution_count": 1,
   "metadata": {},
   "outputs": [],
   "source": [
    "%load_ext lab_black"
   ]
  },
  {
   "cell_type": "code",
   "execution_count": 2,
   "metadata": {},
   "outputs": [],
   "source": [
    "import pandas as pd\n",
    "import geopandas as gpd\n",
    "import altair as alt\n",
    "import altair_latimes as lat\n",
    "import glob\n",
    "import os\n",
    "import requests\n",
    "from pandas import json_normalize"
   ]
  },
  {
   "cell_type": "code",
   "execution_count": 50,
   "metadata": {},
   "outputs": [],
   "source": [
    "alt.themes.register(\"latimes\", lat.theme)\n",
    "alt.themes.enable(\"latimes\")\n",
    "pd.options.display.max_columns = 50\n",
    "pd.options.display.max_rows = 1000\n",
    "alt.data_transformers.disable_max_rows()\n",
    "pd.set_option(\"max_colwidth\", None)"
   ]
  },
  {
   "cell_type": "markdown",
   "metadata": {},
   "source": [
    "### Get congressional voting data for House and Senate from ProPublica"
   ]
  },
  {
   "cell_type": "code",
   "execution_count": 51,
   "metadata": {},
   "outputs": [],
   "source": [
    "key = \"sg5Q11oWW9pqLtmn8gVS0nOS179RousHDpeTgZkA\""
   ]
  },
  {
   "cell_type": "code",
   "execution_count": 52,
   "metadata": {},
   "outputs": [],
   "source": [
    "base_url = \"https://api.propublica.org/congress/v1/senate/votes/recent.json?offset=\""
   ]
  },
  {
   "cell_type": "code",
   "execution_count": 53,
   "metadata": {},
   "outputs": [],
   "source": [
    "links = []\n",
    "\n",
    "for offset in range(1, 200):\n",
    "    links.append(dict(chamber=\"senate\", url=base_url + str(offset)))"
   ]
  },
  {
   "cell_type": "code",
   "execution_count": 54,
   "metadata": {},
   "outputs": [],
   "source": [
    "jsons = []\n",
    "for l in links:\n",
    "    r = requests.get(l[\"url\"], headers={\"X-API-KEY\": key})\n",
    "    d = r.json()\n",
    "    l[\"datadict\"] = d\n",
    "    jsons.append(l)"
   ]
  },
  {
   "cell_type": "code",
   "execution_count": 55,
   "metadata": {},
   "outputs": [],
   "source": [
    "def processdict(d):\n",
    "    data = json_normalize(d[\"datadict\"][\"results\"], record_path=[\"votes\"])\n",
    "    return data"
   ]
  },
  {
   "cell_type": "code",
   "execution_count": 56,
   "metadata": {},
   "outputs": [],
   "source": [
    "alldata = pd.concat([processdict(j) for j in jsons], sort=False).reset_index()"
   ]
  },
  {
   "cell_type": "code",
   "execution_count": null,
   "metadata": {},
   "outputs": [],
   "source": []
  },
  {
   "cell_type": "code",
   "execution_count": 66,
   "metadata": {},
   "outputs": [],
   "source": [
    "alldata_slim = alldata[\n",
    "    [\n",
    "        \"index\",\n",
    "        \"congress\",\n",
    "        \"chamber\",\n",
    "        \"session\",\n",
    "        \"roll_call\",\n",
    "        \"source\",\n",
    "        \"url\",\n",
    "        \"vote_uri\",\n",
    "        \"question\",\n",
    "        \"question_text\",\n",
    "        \"description\",\n",
    "        \"vote_type\",\n",
    "        \"date\",\n",
    "        \"time\",\n",
    "        \"result\",\n",
    "        \"tie_breaker\",\n",
    "        \"tie_breaker_vote\",\n",
    "    ]\n",
    "]"
   ]
  },
  {
   "cell_type": "code",
   "execution_count": 67,
   "metadata": {},
   "outputs": [],
   "source": [
    "alldata_slim = alldata_slim.drop_duplicates()"
   ]
  },
  {
   "cell_type": "code",
   "execution_count": 68,
   "metadata": {},
   "outputs": [
    {
     "data": {
      "text/html": [
       "<div>\n",
       "<style scoped>\n",
       "    .dataframe tbody tr th:only-of-type {\n",
       "        vertical-align: middle;\n",
       "    }\n",
       "\n",
       "    .dataframe tbody tr th {\n",
       "        vertical-align: top;\n",
       "    }\n",
       "\n",
       "    .dataframe thead th {\n",
       "        text-align: right;\n",
       "    }\n",
       "</style>\n",
       "<table border=\"1\" class=\"dataframe\">\n",
       "  <thead>\n",
       "    <tr style=\"text-align: right;\">\n",
       "      <th></th>\n",
       "      <th>index</th>\n",
       "      <th>congress</th>\n",
       "      <th>chamber</th>\n",
       "      <th>session</th>\n",
       "      <th>roll_call</th>\n",
       "      <th>source</th>\n",
       "      <th>url</th>\n",
       "      <th>vote_uri</th>\n",
       "      <th>question</th>\n",
       "      <th>question_text</th>\n",
       "      <th>description</th>\n",
       "      <th>vote_type</th>\n",
       "      <th>date</th>\n",
       "      <th>time</th>\n",
       "      <th>result</th>\n",
       "      <th>tie_breaker</th>\n",
       "      <th>tie_breaker_vote</th>\n",
       "    </tr>\n",
       "  </thead>\n",
       "  <tbody>\n",
       "    <tr>\n",
       "      <th>1219</th>\n",
       "      <td>19</td>\n",
       "      <td>117</td>\n",
       "      <td>Senate</td>\n",
       "      <td>1</td>\n",
       "      <td>73</td>\n",
       "      <td>https://www.senate.gov/legislative/LIS/roll_call_votes/vote1171/vote_117_1_00073.xml</td>\n",
       "      <td>https://www.senate.gov/legislative/LIS/roll_call_lists/roll_call_vote_cfm.cfm?congress=117&amp;session=1&amp;vote=00073</td>\n",
       "      <td>https://api.propublica.org/congress/v1/117/senate/sessions/1/votes/73.json</td>\n",
       "      <td>On the Motion to Proceed</td>\n",
       "      <td>On the Motion to Proceed H.R. 1319</td>\n",
       "      <td>A bill to provide for reconciliation pursuant to title II of S. Con. Res. 5.</td>\n",
       "      <td>1/2</td>\n",
       "      <td>2021-03-04</td>\n",
       "      <td>14:35:00</td>\n",
       "      <td>Motion to Proceed Agreed to</td>\n",
       "      <td>Vice President of the United States</td>\n",
       "      <td>Yea</td>\n",
       "    </tr>\n",
       "    <tr>\n",
       "      <th>1238</th>\n",
       "      <td>18</td>\n",
       "      <td>117</td>\n",
       "      <td>Senate</td>\n",
       "      <td>1</td>\n",
       "      <td>73</td>\n",
       "      <td>https://www.senate.gov/legislative/LIS/roll_call_votes/vote1171/vote_117_1_00073.xml</td>\n",
       "      <td>https://www.senate.gov/legislative/LIS/roll_call_lists/roll_call_vote_cfm.cfm?congress=117&amp;session=1&amp;vote=00073</td>\n",
       "      <td>https://api.propublica.org/congress/v1/117/senate/sessions/1/votes/73.json</td>\n",
       "      <td>On the Motion to Proceed</td>\n",
       "      <td>On the Motion to Proceed H.R. 1319</td>\n",
       "      <td>A bill to provide for reconciliation pursuant to title II of S. Con. Res. 5.</td>\n",
       "      <td>1/2</td>\n",
       "      <td>2021-03-04</td>\n",
       "      <td>14:35:00</td>\n",
       "      <td>Motion to Proceed Agreed to</td>\n",
       "      <td>Vice President of the United States</td>\n",
       "      <td>Yea</td>\n",
       "    </tr>\n",
       "    <tr>\n",
       "      <th>1257</th>\n",
       "      <td>17</td>\n",
       "      <td>117</td>\n",
       "      <td>Senate</td>\n",
       "      <td>1</td>\n",
       "      <td>73</td>\n",
       "      <td>https://www.senate.gov/legislative/LIS/roll_call_votes/vote1171/vote_117_1_00073.xml</td>\n",
       "      <td>https://www.senate.gov/legislative/LIS/roll_call_lists/roll_call_vote_cfm.cfm?congress=117&amp;session=1&amp;vote=00073</td>\n",
       "      <td>https://api.propublica.org/congress/v1/117/senate/sessions/1/votes/73.json</td>\n",
       "      <td>On the Motion to Proceed</td>\n",
       "      <td>On the Motion to Proceed H.R. 1319</td>\n",
       "      <td>A bill to provide for reconciliation pursuant to title II of S. Con. Res. 5.</td>\n",
       "      <td>1/2</td>\n",
       "      <td>2021-03-04</td>\n",
       "      <td>14:35:00</td>\n",
       "      <td>Motion to Proceed Agreed to</td>\n",
       "      <td>Vice President of the United States</td>\n",
       "      <td>Yea</td>\n",
       "    </tr>\n",
       "    <tr>\n",
       "      <th>1276</th>\n",
       "      <td>16</td>\n",
       "      <td>117</td>\n",
       "      <td>Senate</td>\n",
       "      <td>1</td>\n",
       "      <td>73</td>\n",
       "      <td>https://www.senate.gov/legislative/LIS/roll_call_votes/vote1171/vote_117_1_00073.xml</td>\n",
       "      <td>https://www.senate.gov/legislative/LIS/roll_call_lists/roll_call_vote_cfm.cfm?congress=117&amp;session=1&amp;vote=00073</td>\n",
       "      <td>https://api.propublica.org/congress/v1/117/senate/sessions/1/votes/73.json</td>\n",
       "      <td>On the Motion to Proceed</td>\n",
       "      <td>On the Motion to Proceed H.R. 1319</td>\n",
       "      <td>A bill to provide for reconciliation pursuant to title II of S. Con. Res. 5.</td>\n",
       "      <td>1/2</td>\n",
       "      <td>2021-03-04</td>\n",
       "      <td>14:35:00</td>\n",
       "      <td>Motion to Proceed Agreed to</td>\n",
       "      <td>Vice President of the United States</td>\n",
       "      <td>Yea</td>\n",
       "    </tr>\n",
       "    <tr>\n",
       "      <th>1295</th>\n",
       "      <td>15</td>\n",
       "      <td>117</td>\n",
       "      <td>Senate</td>\n",
       "      <td>1</td>\n",
       "      <td>73</td>\n",
       "      <td>https://www.senate.gov/legislative/LIS/roll_call_votes/vote1171/vote_117_1_00073.xml</td>\n",
       "      <td>https://www.senate.gov/legislative/LIS/roll_call_lists/roll_call_vote_cfm.cfm?congress=117&amp;session=1&amp;vote=00073</td>\n",
       "      <td>https://api.propublica.org/congress/v1/117/senate/sessions/1/votes/73.json</td>\n",
       "      <td>On the Motion to Proceed</td>\n",
       "      <td>On the Motion to Proceed H.R. 1319</td>\n",
       "      <td>A bill to provide for reconciliation pursuant to title II of S. Con. Res. 5.</td>\n",
       "      <td>1/2</td>\n",
       "      <td>2021-03-04</td>\n",
       "      <td>14:35:00</td>\n",
       "      <td>Motion to Proceed Agreed to</td>\n",
       "      <td>Vice President of the United States</td>\n",
       "      <td>Yea</td>\n",
       "    </tr>\n",
       "  </tbody>\n",
       "</table>\n",
       "</div>"
      ],
      "text/plain": [
       "      index  congress chamber  session  roll_call  \\\n",
       "1219     19       117  Senate        1         73   \n",
       "1238     18       117  Senate        1         73   \n",
       "1257     17       117  Senate        1         73   \n",
       "1276     16       117  Senate        1         73   \n",
       "1295     15       117  Senate        1         73   \n",
       "\n",
       "                                                                                    source  \\\n",
       "1219  https://www.senate.gov/legislative/LIS/roll_call_votes/vote1171/vote_117_1_00073.xml   \n",
       "1238  https://www.senate.gov/legislative/LIS/roll_call_votes/vote1171/vote_117_1_00073.xml   \n",
       "1257  https://www.senate.gov/legislative/LIS/roll_call_votes/vote1171/vote_117_1_00073.xml   \n",
       "1276  https://www.senate.gov/legislative/LIS/roll_call_votes/vote1171/vote_117_1_00073.xml   \n",
       "1295  https://www.senate.gov/legislative/LIS/roll_call_votes/vote1171/vote_117_1_00073.xml   \n",
       "\n",
       "                                                                                                                  url  \\\n",
       "1219  https://www.senate.gov/legislative/LIS/roll_call_lists/roll_call_vote_cfm.cfm?congress=117&session=1&vote=00073   \n",
       "1238  https://www.senate.gov/legislative/LIS/roll_call_lists/roll_call_vote_cfm.cfm?congress=117&session=1&vote=00073   \n",
       "1257  https://www.senate.gov/legislative/LIS/roll_call_lists/roll_call_vote_cfm.cfm?congress=117&session=1&vote=00073   \n",
       "1276  https://www.senate.gov/legislative/LIS/roll_call_lists/roll_call_vote_cfm.cfm?congress=117&session=1&vote=00073   \n",
       "1295  https://www.senate.gov/legislative/LIS/roll_call_lists/roll_call_vote_cfm.cfm?congress=117&session=1&vote=00073   \n",
       "\n",
       "                                                                        vote_uri  \\\n",
       "1219  https://api.propublica.org/congress/v1/117/senate/sessions/1/votes/73.json   \n",
       "1238  https://api.propublica.org/congress/v1/117/senate/sessions/1/votes/73.json   \n",
       "1257  https://api.propublica.org/congress/v1/117/senate/sessions/1/votes/73.json   \n",
       "1276  https://api.propublica.org/congress/v1/117/senate/sessions/1/votes/73.json   \n",
       "1295  https://api.propublica.org/congress/v1/117/senate/sessions/1/votes/73.json   \n",
       "\n",
       "                      question                       question_text  \\\n",
       "1219  On the Motion to Proceed  On the Motion to Proceed H.R. 1319   \n",
       "1238  On the Motion to Proceed  On the Motion to Proceed H.R. 1319   \n",
       "1257  On the Motion to Proceed  On the Motion to Proceed H.R. 1319   \n",
       "1276  On the Motion to Proceed  On the Motion to Proceed H.R. 1319   \n",
       "1295  On the Motion to Proceed  On the Motion to Proceed H.R. 1319   \n",
       "\n",
       "                                                                       description  \\\n",
       "1219  A bill to provide for reconciliation pursuant to title II of S. Con. Res. 5.   \n",
       "1238  A bill to provide for reconciliation pursuant to title II of S. Con. Res. 5.   \n",
       "1257  A bill to provide for reconciliation pursuant to title II of S. Con. Res. 5.   \n",
       "1276  A bill to provide for reconciliation pursuant to title II of S. Con. Res. 5.   \n",
       "1295  A bill to provide for reconciliation pursuant to title II of S. Con. Res. 5.   \n",
       "\n",
       "     vote_type        date      time                       result  \\\n",
       "1219       1/2  2021-03-04  14:35:00  Motion to Proceed Agreed to   \n",
       "1238       1/2  2021-03-04  14:35:00  Motion to Proceed Agreed to   \n",
       "1257       1/2  2021-03-04  14:35:00  Motion to Proceed Agreed to   \n",
       "1276       1/2  2021-03-04  14:35:00  Motion to Proceed Agreed to   \n",
       "1295       1/2  2021-03-04  14:35:00  Motion to Proceed Agreed to   \n",
       "\n",
       "                              tie_breaker tie_breaker_vote  \n",
       "1219  Vice President of the United States              Yea  \n",
       "1238  Vice President of the United States              Yea  \n",
       "1257  Vice President of the United States              Yea  \n",
       "1276  Vice President of the United States              Yea  \n",
       "1295  Vice President of the United States              Yea  "
      ]
     },
     "execution_count": 68,
     "metadata": {},
     "output_type": "execute_result"
    }
   ],
   "source": [
    "alldata_slim[\n",
    "    alldata_slim[\"tie_breaker\"] == \"Vice President of the United States\"\n",
    "].head()"
   ]
  },
  {
   "cell_type": "code",
   "execution_count": 87,
   "metadata": {},
   "outputs": [],
   "source": [
    "tie_breakers = (\n",
    "    alldata_slim[alldata_slim[\"tie_breaker\"] == \"Vice President of the United States\"]\n",
    "    .groupby([\"date\", \"description\", \"roll_call\"])\n",
    "    .agg({\"index\": \"count\"})\n",
    "    .reset_index()\n",
    ")"
   ]
  },
  {
   "cell_type": "code",
   "execution_count": null,
   "metadata": {},
   "outputs": [],
   "source": []
  },
  {
   "cell_type": "code",
   "execution_count": null,
   "metadata": {},
   "outputs": [],
   "source": []
  },
  {
   "cell_type": "code",
   "execution_count": null,
   "metadata": {},
   "outputs": [],
   "source": []
  },
  {
   "cell_type": "code",
   "execution_count": null,
   "metadata": {},
   "outputs": [],
   "source": []
  },
  {
   "cell_type": "code",
   "execution_count": null,
   "metadata": {},
   "outputs": [],
   "source": []
  },
  {
   "cell_type": "markdown",
   "metadata": {},
   "source": [
    "---"
   ]
  },
  {
   "cell_type": "code",
   "execution_count": 99,
   "metadata": {},
   "outputs": [],
   "source": [
    "votes_url = \"https://api.propublica.org/congress/v1/117/senate/sessions/1/votes/\""
   ]
  },
  {
   "cell_type": "code",
   "execution_count": 100,
   "metadata": {},
   "outputs": [],
   "source": [
    "links_votes = []\n",
    "\n",
    "for vote in tie_breakers.roll_call.unique():\n",
    "    links_votes.append(dict(chamber=\"senate\", url=votes_url + str(vote) + \".json\"))"
   ]
  }
 ],
 "metadata": {
  "kernelspec": {
   "display_name": "Python 3",
   "language": "python",
   "name": "python3"
  },
  "language_info": {
   "codemirror_mode": {
    "name": "ipython",
    "version": 3
   },
   "file_extension": ".py",
   "mimetype": "text/x-python",
   "name": "python",
   "nbconvert_exporter": "python",
   "pygments_lexer": "ipython3",
   "version": "3.7.4"
  }
 },
 "nbformat": 4,
 "nbformat_minor": 4
}
