{
 "cells": [
  {
   "cell_type": "markdown",
   "metadata": {},
   "source": [
    "# How often does LAPD tweet? "
   ]
  },
  {
   "cell_type": "code",
   "execution_count": 1,
   "metadata": {},
   "outputs": [],
   "source": [
    "# https://github.com/dnanhkhoa/nb_black\n",
    "%load_ext lab_black"
   ]
  },
  {
   "cell_type": "code",
   "execution_count": 2,
   "metadata": {},
   "outputs": [
    {
     "data": {
      "text/plain": [
       "ThemeRegistry.enable('latimes')"
      ]
     },
     "execution_count": 2,
     "metadata": {},
     "output_type": "execute_result"
    }
   ],
   "source": [
    "import altair as alt\n",
    "import pandas as pd\n",
    "import matplotlib as mpl\n",
    "import numpy as np\n",
    "import json\n",
    "import pytz\n",
    "from datetime import datetime\n",
    "import altair_latimes as lat\n",
    "\n",
    "alt.themes.register(\"latimes\", lat.theme)\n",
    "alt.themes.enable(\"latimes\")"
   ]
  },
  {
   "cell_type": "code",
   "execution_count": 3,
   "metadata": {},
   "outputs": [],
   "source": [
    "pd.set_option(\"display.max_colwidth\", None)\n",
    "pd.set_option(\"display.max_rows\", None)"
   ]
  },
  {
   "cell_type": "markdown",
   "metadata": {},
   "source": [
    "### Read dump downloaded from trumptweetarchive.com"
   ]
  },
  {
   "cell_type": "code",
   "execution_count": 4,
   "metadata": {},
   "outputs": [],
   "source": [
    "%run '00-lapd-tweets-processing.ipynb'"
   ]
  },
  {
   "cell_type": "code",
   "execution_count": 5,
   "metadata": {},
   "outputs": [],
   "source": [
    "src = pd.read_csv(\n",
    "    \"output/lapdhq.csv\",\n",
    "    dtype={\"id\": str},\n",
    "    low_memory=False,\n",
    ")"
   ]
  },
  {
   "cell_type": "code",
   "execution_count": 6,
   "metadata": {},
   "outputs": [],
   "source": [
    "src[\"user\"] = \"lapdhq\""
   ]
  },
  {
   "cell_type": "markdown",
   "metadata": {},
   "source": [
    "### How many tweets?"
   ]
  },
  {
   "cell_type": "code",
   "execution_count": 7,
   "metadata": {},
   "outputs": [
    {
     "data": {
      "text/plain": [
       "12226"
      ]
     },
     "execution_count": 7,
     "metadata": {},
     "output_type": "execute_result"
    }
   ],
   "source": [
    "len(src)"
   ]
  },
  {
   "cell_type": "markdown",
   "metadata": {},
   "source": [
    "### Clean up dates"
   ]
  },
  {
   "cell_type": "code",
   "execution_count": 8,
   "metadata": {},
   "outputs": [],
   "source": [
    "src[\"id\"] = src[\"id\"].astype(str)\n",
    "src[\"year\"] = src[\"year\"].astype(str)\n",
    "src[\"month\"] = src[\"month\"].astype(str)\n",
    "src[\"day\"] = src[\"day\"].astype(str)\n",
    "src[\"hour\"] = src[\"hour\"].astype(str)\n",
    "src[\"date\"] = pd.to_datetime(src[\"date\"])"
   ]
  },
  {
   "cell_type": "markdown",
   "metadata": {},
   "source": [
    "### Most popular tweets"
   ]
  },
  {
   "cell_type": "code",
   "execution_count": 12,
   "metadata": {},
   "outputs": [
    {
     "data": {
      "text/html": [
       "<div>\n",
       "<style scoped>\n",
       "    .dataframe tbody tr th:only-of-type {\n",
       "        vertical-align: middle;\n",
       "    }\n",
       "\n",
       "    .dataframe tbody tr th {\n",
       "        vertical-align: top;\n",
       "    }\n",
       "\n",
       "    .dataframe thead th {\n",
       "        text-align: right;\n",
       "    }\n",
       "</style>\n",
       "<table border=\"1\" class=\"dataframe\">\n",
       "  <thead>\n",
       "    <tr style=\"text-align: right;\">\n",
       "      <th></th>\n",
       "      <th>id</th>\n",
       "      <th>date</th>\n",
       "      <th>tweet</th>\n",
       "      <th>likes_count</th>\n",
       "    </tr>\n",
       "  </thead>\n",
       "  <tbody>\n",
       "    <tr>\n",
       "      <th>892</th>\n",
       "      <td>1239000513850380288</td>\n",
       "      <td>2020-03-14</td>\n",
       "      <td>During these times, we must work together and not against each other.   Here are the facts:  -There is no food shortage &amp;amp; stores will restock, so please don’t hoard.   -The water supply is clean &amp;amp; safe to drink, so there’s no need to buy water in bulk.  -We are in this together.</td>\n",
       "      <td>35861</td>\n",
       "    </tr>\n",
       "    <tr>\n",
       "      <th>1649</th>\n",
       "      <td>1112947396562960384</td>\n",
       "      <td>2019-04-01</td>\n",
       "      <td>Eric Holder is wanted for Homicide in the shooting of Nipsey Hussle. He was last seen in a 2016 white 4 door Chevy Cruze CA license plate 7RJD742. Anyone with information related to his whereabouts or this deadly shooting is urged to contact South Bureau Homicide at 323-786-5100  https://t.co/3pX4fbezDs</td>\n",
       "      <td>34286</td>\n",
       "    </tr>\n",
       "    <tr>\n",
       "      <th>3668</th>\n",
       "      <td>938574653085302785</td>\n",
       "      <td>2017-12-06</td>\n",
       "      <td>For some it might just be a cat. But to others it’s a friend, a loved one, a companion. The #LAPD has a motto, “To Protect and to Serve”, and our officers have been displaying that in many ways during the #CreekFire &amp;amp; #SkirballFire  https://t.co/kmyHhvy9Fe</td>\n",
       "      <td>33594</td>\n",
       "    </tr>\n",
       "    <tr>\n",
       "      <th>2401</th>\n",
       "      <td>1037786719989329920</td>\n",
       "      <td>2018-09-06</td>\n",
       "      <td>What’s a day in Los Angeles without some @BTS_twt excitement! Always a great time meeting the #BTSArmy lining up outside Staples Center for tonight’s concert. Enjoy the show — we’ll be out here to make your day as safe and enjoyable as possible #BtsLoveYourselfTour  https://t.co/vkWmcxMXuK</td>\n",
       "      <td>26360</td>\n",
       "    </tr>\n",
       "    <tr>\n",
       "      <th>867</th>\n",
       "      <td>1242926931298803712</td>\n",
       "      <td>2020-03-25</td>\n",
       "      <td>@theashleyray Hello. Can you please have your co-worker or their friend send us a Direct Message with more details about this alleged incident. We have no evidence of any LAPD officers being involved in these types of “spot checks”. Thanks</td>\n",
       "      <td>22594</td>\n",
       "    </tr>\n",
       "  </tbody>\n",
       "</table>\n",
       "</div>"
      ],
      "text/plain": [
       "                       id       date  \\\n",
       "892   1239000513850380288 2020-03-14   \n",
       "1649  1112947396562960384 2019-04-01   \n",
       "3668   938574653085302785 2017-12-06   \n",
       "2401  1037786719989329920 2018-09-06   \n",
       "867   1242926931298803712 2020-03-25   \n",
       "\n",
       "                                                                                                                                                                                                                                                                                                                 tweet  \\\n",
       "892                    During these times, we must work together and not against each other.   Here are the facts:  -There is no food shortage &amp; stores will restock, so please don’t hoard.   -The water supply is clean &amp; safe to drink, so there’s no need to buy water in bulk.  -We are in this together.   \n",
       "1649  Eric Holder is wanted for Homicide in the shooting of Nipsey Hussle. He was last seen in a 2016 white 4 door Chevy Cruze CA license plate 7RJD742. Anyone with information related to his whereabouts or this deadly shooting is urged to contact South Bureau Homicide at 323-786-5100  https://t.co/3pX4fbezDs   \n",
       "3668                                              For some it might just be a cat. But to others it’s a friend, a loved one, a companion. The #LAPD has a motto, “To Protect and to Serve”, and our officers have been displaying that in many ways during the #CreekFire &amp; #SkirballFire  https://t.co/kmyHhvy9Fe   \n",
       "2401                What’s a day in Los Angeles without some @BTS_twt excitement! Always a great time meeting the #BTSArmy lining up outside Staples Center for tonight’s concert. Enjoy the show — we’ll be out here to make your day as safe and enjoyable as possible #BtsLoveYourselfTour  https://t.co/vkWmcxMXuK   \n",
       "867                                                                    @theashleyray Hello. Can you please have your co-worker or their friend send us a Direct Message with more details about this alleged incident. We have no evidence of any LAPD officers being involved in these types of “spot checks”. Thanks   \n",
       "\n",
       "      likes_count  \n",
       "892         35861  \n",
       "1649        34286  \n",
       "3668        33594  \n",
       "2401        26360  \n",
       "867         22594  "
      ]
     },
     "execution_count": 12,
     "metadata": {},
     "output_type": "execute_result"
    }
   ],
   "source": [
    "src[[\"id\", \"date\", \"tweet\", \"likes_count\"]].sort_values(\n",
    "    \"likes_count\", ascending=False\n",
    ").head(5)"
   ]
  },
  {
   "cell_type": "code",
   "execution_count": 21,
   "metadata": {},
   "outputs": [
    {
     "data": {
      "text/html": [
       "<div>\n",
       "<style scoped>\n",
       "    .dataframe tbody tr th:only-of-type {\n",
       "        vertical-align: middle;\n",
       "    }\n",
       "\n",
       "    .dataframe tbody tr th {\n",
       "        vertical-align: top;\n",
       "    }\n",
       "\n",
       "    .dataframe thead th {\n",
       "        text-align: right;\n",
       "    }\n",
       "</style>\n",
       "<table border=\"1\" class=\"dataframe\">\n",
       "  <thead>\n",
       "    <tr style=\"text-align: right;\">\n",
       "      <th></th>\n",
       "      <th>id</th>\n",
       "      <th>date</th>\n",
       "      <th>tweet</th>\n",
       "      <th>retweets_count</th>\n",
       "    </tr>\n",
       "  </thead>\n",
       "  <tbody>\n",
       "    <tr>\n",
       "      <th>1649</th>\n",
       "      <td>1112947396562960384</td>\n",
       "      <td>2019-04-01</td>\n",
       "      <td>Eric Holder is wanted for Homicide in the shooting of Nipsey Hussle. He was last seen in a 2016 white 4 door Chevy Cruze CA license plate 7RJD742. Anyone with information related to his whereabouts or this deadly shooting is urged to contact South Bureau Homicide at 323-786-5100  https://t.co/3pX4fbezDs</td>\n",
       "      <td>34457</td>\n",
       "    </tr>\n",
       "    <tr>\n",
       "      <th>2643</th>\n",
       "      <td>1014724487277711360</td>\n",
       "      <td>2018-07-04</td>\n",
       "      <td>Please Retweet — We need your help to locate the family of this child found today at Union Station. It’s believed he is 5-7 years old, deaf and autistic and we have been unable to communicate with him. Any info please contact LAPD Transit Services Division at (213) 922-1410  https://t.co/pgCPKd8KY1</td>\n",
       "      <td>13475</td>\n",
       "    </tr>\n",
       "    <tr>\n",
       "      <th>1975</th>\n",
       "      <td>1078165199113183232</td>\n",
       "      <td>2018-12-26</td>\n",
       "      <td>We want to see this face all over Twitter until he is caught — he is the suspect in the senseless killing of Newman Police Officer Ronil Singh. You will be caught...  https://t.co/CfuNNC076z</td>\n",
       "      <td>13056</td>\n",
       "    </tr>\n",
       "    <tr>\n",
       "      <th>892</th>\n",
       "      <td>1239000513850380288</td>\n",
       "      <td>2020-03-14</td>\n",
       "      <td>During these times, we must work together and not against each other.   Here are the facts:  -There is no food shortage &amp;amp; stores will restock, so please don’t hoard.   -The water supply is clean &amp;amp; safe to drink, so there’s no need to buy water in bulk.  -We are in this together.</td>\n",
       "      <td>11844</td>\n",
       "    </tr>\n",
       "    <tr>\n",
       "      <th>1843</th>\n",
       "      <td>1090306829588918272</td>\n",
       "      <td>2019-01-29</td>\n",
       "      <td>Attention Los Angeles — this guy brutally punched two women at a hotdog stand on Jan. 26 in the area of 6th &amp;amp; Spring. Someone knows him, and we would like to be one of those people. If you have any info contact Detective Gonzalez 213-996-1851 (after hours contact 213-486-6606).  https://t.co/DN1Og1lToM</td>\n",
       "      <td>10754</td>\n",
       "    </tr>\n",
       "  </tbody>\n",
       "</table>\n",
       "</div>"
      ],
      "text/plain": [
       "                       id       date  \\\n",
       "1649  1112947396562960384 2019-04-01   \n",
       "2643  1014724487277711360 2018-07-04   \n",
       "1975  1078165199113183232 2018-12-26   \n",
       "892   1239000513850380288 2020-03-14   \n",
       "1843  1090306829588918272 2019-01-29   \n",
       "\n",
       "                                                                                                                                                                                                                                                                                                                    tweet  \\\n",
       "1649     Eric Holder is wanted for Homicide in the shooting of Nipsey Hussle. He was last seen in a 2016 white 4 door Chevy Cruze CA license plate 7RJD742. Anyone with information related to his whereabouts or this deadly shooting is urged to contact South Bureau Homicide at 323-786-5100  https://t.co/3pX4fbezDs   \n",
       "2643          Please Retweet — We need your help to locate the family of this child found today at Union Station. It’s believed he is 5-7 years old, deaf and autistic and we have been unable to communicate with him. Any info please contact LAPD Transit Services Division at (213) 922-1410  https://t.co/pgCPKd8KY1   \n",
       "1975                                                                                                                       We want to see this face all over Twitter until he is caught — he is the suspect in the senseless killing of Newman Police Officer Ronil Singh. You will be caught...  https://t.co/CfuNNC076z   \n",
       "892                       During these times, we must work together and not against each other.   Here are the facts:  -There is no food shortage &amp; stores will restock, so please don’t hoard.   -The water supply is clean &amp; safe to drink, so there’s no need to buy water in bulk.  -We are in this together.   \n",
       "1843  Attention Los Angeles — this guy brutally punched two women at a hotdog stand on Jan. 26 in the area of 6th &amp; Spring. Someone knows him, and we would like to be one of those people. If you have any info contact Detective Gonzalez 213-996-1851 (after hours contact 213-486-6606).  https://t.co/DN1Og1lToM   \n",
       "\n",
       "      retweets_count  \n",
       "1649           34457  \n",
       "2643           13475  \n",
       "1975           13056  \n",
       "892            11844  \n",
       "1843           10754  "
      ]
     },
     "execution_count": 21,
     "metadata": {},
     "output_type": "execute_result"
    }
   ],
   "source": [
    "src[[\"id\", \"date\", \"tweet\", \"retweets_count\"]].sort_values(\n",
    "    \"retweets_count\", ascending=False\n",
    ").head(5)"
   ]
  },
  {
   "cell_type": "markdown",
   "metadata": {},
   "source": [
    "### Tweets per month, year"
   ]
  },
  {
   "cell_type": "code",
   "execution_count": 23,
   "metadata": {},
   "outputs": [],
   "source": [
    "month_year = src.groupby([\"year\", \"month\"]).agg({\"date\": \"count\"}).reset_index()"
   ]
  },
  {
   "cell_type": "code",
   "execution_count": 24,
   "metadata": {},
   "outputs": [
    {
     "data": {
      "text/html": [
       "<div>\n",
       "<style scoped>\n",
       "    .dataframe tbody tr th:only-of-type {\n",
       "        vertical-align: middle;\n",
       "    }\n",
       "\n",
       "    .dataframe tbody tr th {\n",
       "        vertical-align: top;\n",
       "    }\n",
       "\n",
       "    .dataframe thead th {\n",
       "        text-align: right;\n",
       "    }\n",
       "</style>\n",
       "<table border=\"1\" class=\"dataframe\">\n",
       "  <thead>\n",
       "    <tr style=\"text-align: right;\">\n",
       "      <th></th>\n",
       "      <th>year</th>\n",
       "      <th>month</th>\n",
       "      <th>date</th>\n",
       "    </tr>\n",
       "  </thead>\n",
       "  <tbody>\n",
       "    <tr>\n",
       "      <th>110</th>\n",
       "      <td>2020</td>\n",
       "      <td>8</td>\n",
       "      <td>53</td>\n",
       "    </tr>\n",
       "    <tr>\n",
       "      <th>111</th>\n",
       "      <td>2020</td>\n",
       "      <td>9</td>\n",
       "      <td>67</td>\n",
       "    </tr>\n",
       "    <tr>\n",
       "      <th>112</th>\n",
       "      <td>2021</td>\n",
       "      <td>1</td>\n",
       "      <td>93</td>\n",
       "    </tr>\n",
       "    <tr>\n",
       "      <th>113</th>\n",
       "      <td>2021</td>\n",
       "      <td>2</td>\n",
       "      <td>80</td>\n",
       "    </tr>\n",
       "    <tr>\n",
       "      <th>114</th>\n",
       "      <td>2021</td>\n",
       "      <td>3</td>\n",
       "      <td>87</td>\n",
       "    </tr>\n",
       "  </tbody>\n",
       "</table>\n",
       "</div>"
      ],
      "text/plain": [
       "     year month  date\n",
       "110  2020     8    53\n",
       "111  2020     9    67\n",
       "112  2021     1    93\n",
       "113  2021     2    80\n",
       "114  2021     3    87"
      ]
     },
     "execution_count": 24,
     "metadata": {},
     "output_type": "execute_result"
    }
   ],
   "source": [
    "month_year.tail()"
   ]
  },
  {
   "cell_type": "markdown",
   "metadata": {},
   "source": [
    "### What do they average each day in retweets, likes and replies"
   ]
  },
  {
   "cell_type": "code",
   "execution_count": 26,
   "metadata": {},
   "outputs": [],
   "source": [
    "lapd_engagements_day = (\n",
    "    src.groupby([\"month\", \"year\"])\n",
    "    .agg(\n",
    "        {\n",
    "            \"id\": \"size\",\n",
    "            \"retweets_count\": [\"sum\", \"mean\"],\n",
    "            \"likes_count\": [\"sum\", \"mean\"],\n",
    "        }\n",
    "    )\n",
    "    .round()\n",
    "    .reset_index()\n",
    ")"
   ]
  },
  {
   "cell_type": "code",
   "execution_count": 27,
   "metadata": {},
   "outputs": [],
   "source": [
    "lapd_engagements_day.columns = (\n",
    "    lapd_engagements_day.columns.map(\"_\".join).str.strip().str.rstrip(\"_\")\n",
    ")"
   ]
  },
  {
   "cell_type": "code",
   "execution_count": 28,
   "metadata": {},
   "outputs": [
    {
     "data": {
      "text/html": [
       "<div>\n",
       "<style scoped>\n",
       "    .dataframe tbody tr th:only-of-type {\n",
       "        vertical-align: middle;\n",
       "    }\n",
       "\n",
       "    .dataframe tbody tr th {\n",
       "        vertical-align: top;\n",
       "    }\n",
       "\n",
       "    .dataframe thead th {\n",
       "        text-align: right;\n",
       "    }\n",
       "</style>\n",
       "<table border=\"1\" class=\"dataframe\">\n",
       "  <thead>\n",
       "    <tr style=\"text-align: right;\">\n",
       "      <th></th>\n",
       "      <th>month</th>\n",
       "      <th>year</th>\n",
       "      <th>id_size</th>\n",
       "      <th>retweets_count_sum</th>\n",
       "      <th>retweets_count_mean</th>\n",
       "      <th>likes_count_sum</th>\n",
       "      <th>likes_count_mean</th>\n",
       "    </tr>\n",
       "  </thead>\n",
       "  <tbody>\n",
       "    <tr>\n",
       "      <th>110</th>\n",
       "      <td>9</td>\n",
       "      <td>2016</td>\n",
       "      <td>83</td>\n",
       "      <td>1611</td>\n",
       "      <td>19.0</td>\n",
       "      <td>3756</td>\n",
       "      <td>45.0</td>\n",
       "    </tr>\n",
       "    <tr>\n",
       "      <th>111</th>\n",
       "      <td>9</td>\n",
       "      <td>2017</td>\n",
       "      <td>142</td>\n",
       "      <td>3791</td>\n",
       "      <td>27.0</td>\n",
       "      <td>11185</td>\n",
       "      <td>79.0</td>\n",
       "    </tr>\n",
       "    <tr>\n",
       "      <th>112</th>\n",
       "      <td>9</td>\n",
       "      <td>2018</td>\n",
       "      <td>86</td>\n",
       "      <td>14081</td>\n",
       "      <td>164.0</td>\n",
       "      <td>39179</td>\n",
       "      <td>456.0</td>\n",
       "    </tr>\n",
       "    <tr>\n",
       "      <th>113</th>\n",
       "      <td>9</td>\n",
       "      <td>2019</td>\n",
       "      <td>55</td>\n",
       "      <td>10112</td>\n",
       "      <td>184.0</td>\n",
       "      <td>41040</td>\n",
       "      <td>746.0</td>\n",
       "    </tr>\n",
       "    <tr>\n",
       "      <th>114</th>\n",
       "      <td>9</td>\n",
       "      <td>2020</td>\n",
       "      <td>67</td>\n",
       "      <td>7397</td>\n",
       "      <td>110.0</td>\n",
       "      <td>32444</td>\n",
       "      <td>484.0</td>\n",
       "    </tr>\n",
       "  </tbody>\n",
       "</table>\n",
       "</div>"
      ],
      "text/plain": [
       "    month  year  id_size  retweets_count_sum  retweets_count_mean  \\\n",
       "110     9  2016       83                1611                 19.0   \n",
       "111     9  2017      142                3791                 27.0   \n",
       "112     9  2018       86               14081                164.0   \n",
       "113     9  2019       55               10112                184.0   \n",
       "114     9  2020       67                7397                110.0   \n",
       "\n",
       "     likes_count_sum  likes_count_mean  \n",
       "110             3756              45.0  \n",
       "111            11185              79.0  \n",
       "112            39179             456.0  \n",
       "113            41040             746.0  \n",
       "114            32444             484.0  "
      ]
     },
     "execution_count": 28,
     "metadata": {},
     "output_type": "execute_result"
    }
   ],
   "source": [
    "lapd_engagements_day.tail()"
   ]
  },
  {
   "cell_type": "code",
   "execution_count": 37,
   "metadata": {},
   "outputs": [
    {
     "data": {
      "text/html": [
       "\n",
       "<div id=\"altair-viz-37dcd8d35a6b498baf0b760616aeef3c\"></div>\n",
       "<script type=\"text/javascript\">\n",
       "  (function(spec, embedOpt){\n",
       "    const outputDiv = document.getElementById(\"altair-viz-37dcd8d35a6b498baf0b760616aeef3c\");\n",
       "    const paths = {\n",
       "      \"vega\": \"https://cdn.jsdelivr.net/npm//vega@5?noext\",\n",
       "      \"vega-lib\": \"https://cdn.jsdelivr.net/npm//vega-lib?noext\",\n",
       "      \"vega-lite\": \"https://cdn.jsdelivr.net/npm//vega-lite@4.0.2?noext\",\n",
       "      \"vega-embed\": \"https://cdn.jsdelivr.net/npm//vega-embed@6?noext\",\n",
       "    };\n",
       "\n",
       "    function loadScript(lib) {\n",
       "      return new Promise(function(resolve, reject) {\n",
       "        var s = document.createElement('script');\n",
       "        s.src = paths[lib];\n",
       "        s.async = true;\n",
       "        s.onload = () => resolve(paths[lib]);\n",
       "        s.onerror = () => reject(`Error loading script: ${paths[lib]}`);\n",
       "        document.getElementsByTagName(\"head\")[0].appendChild(s);\n",
       "      });\n",
       "    }\n",
       "\n",
       "    function showError(err) {\n",
       "      outputDiv.innerHTML = `<div class=\"error\" style=\"color:red;\">${err}</div>`;\n",
       "      throw err;\n",
       "    }\n",
       "\n",
       "    function displayChart(vegaEmbed) {\n",
       "      vegaEmbed(outputDiv, spec, embedOpt)\n",
       "        .catch(err => showError(`Javascript Error: ${err.message}<br>This usually means there's a typo in your chart specification. See the javascript console for the full traceback.`));\n",
       "    }\n",
       "\n",
       "    if(typeof define === \"function\" && define.amd) {\n",
       "      requirejs.config({paths});\n",
       "      require([\"vega-embed\"], displayChart, err => showError(`Error loading script: ${err.message}`));\n",
       "    } else if (typeof vegaEmbed === \"function\") {\n",
       "      displayChart(vegaEmbed);\n",
       "    } else {\n",
       "      loadScript(\"vega\")\n",
       "        .then(() => loadScript(\"vega-lite\"))\n",
       "        .then(() => loadScript(\"vega-embed\"))\n",
       "        .catch(showError)\n",
       "        .then(() => displayChart(vegaEmbed));\n",
       "    }\n",
       "  })({\"config\": {\"view\": {\"width\": 800, \"height\": 450, \"strokeOpacity\": 0}, \"background\": \"#ffffff\", \"title\": {\"anchor\": \"start\", \"font\": \"Benton Gothic Bold, sans\", \"fontColor\": \"#000000\", \"fontSize\": 22, \"fontWeight\": \"normal\"}, \"arc\": {\"fill\": \"#82c6df\"}, \"area\": {\"fill\": \"#82c6df\"}, \"line\": {\"stroke\": \"#82c6df\", \"strokeWidth\": 3}, \"path\": {\"stroke\": \"#82c6df\"}, \"rect\": {\"fill\": \"#82c6df\"}, \"shape\": {\"stroke\": \"#82c6df\"}, \"bar\": {\"fill\": \"#82c6df\"}, \"point\": {\"stroke\": \"#82c6df\"}, \"symbol\": {\"fill\": \"#82c6df\", \"size\": 30}, \"axis\": {\"titleFont\": \"Benton Gothic Bold, sans\", \"titleFontSize\": 13, \"titleFontWeight\": \"normal\", \"labelFont\": \"Benton Gothic, sans\", \"labelFontSize\": 11.5, \"labelFontWeight\": \"normal\"}, \"axisX\": {\"labelAngle\": 0, \"labelPadding\": 4, \"tickSize\": 3}, \"axisY\": {\"labelBaseline\": \"middle\", \"maxExtent\": 45, \"minExtent\": 45, \"tickSize\": 2, \"titleAlign\": \"left\", \"titleAngle\": 0, \"titleX\": -45, \"titleY\": -11}, \"legend\": {\"titleFont\": \"Benton Gothic Bold, sans\", \"titleFontSize\": 13, \"titleFontWeight\": \"normal\", \"symbolType\": \"square\", \"labelFont\": \"Benton Gothic, sans\", \"labelFontSize\": 11.5}, \"range\": {\"category\": [\"#3580b1\", \"#ec8431\", \"#ab7fb4\", \"#c89d29\", \"#adc839\", \"#829eb1\"], \"diverging\": [\"#e68a4f\", \"#f4bb6a\", \"#f9e39c\", \"#dadfe2\", \"#a6b7c6\", \"#849eae\"], \"heatmap\": [\"#fbf2c7\", \"#f9e39c\", \"#f8d36e\", \"#f4bb6a\", \"#e68a4f\", \"#d15a40\", \"#ab4232\"], \"ordinal\": [\"#fbf2c7\", \"#f9e39c\", \"#f8d36e\", \"#f4bb6a\", \"#e68a4f\", \"#d15a40\", \"#ab4232\"], \"ramp\": [\"#fbf2c7\", \"#f9e39c\", \"#f8d36e\", \"#f4bb6a\", \"#e68a4f\", \"#d15a40\", \"#ab4232\"]}}, \"data\": {\"name\": \"data-4c0df77e6fc229ab0c162c052e6747c8\"}, \"mark\": {\"type\": \"bar\", \"opacity\": 1, \"size\": 10}, \"encoding\": {\"facet\": {\"type\": \"nominal\", \"columns\": 4, \"field\": \"year\", \"title\": \" \"}, \"x\": {\"type\": \"temporal\", \"axis\": {\"format\": \"%b\", \"grid\": false, \"tickCount\": 1, \"values\": [\"1\", \"12\"]}, \"field\": \"month\", \"title\": \" \"}, \"y\": {\"type\": \"quantitative\", \"axis\": {\"domainOpacity\": 0, \"format\": \"2,f\", \"gridColor\": \"#dddddd\", \"gridWidth\": 0.6, \"offset\": 6, \"tickCount\": 2, \"tickSize\": 0}, \"field\": \"id_size\", \"scale\": {\"domain\": [0, 200]}, \"stack\": null, \"title\": \" \"}}, \"height\": 100, \"title\": \"Monthly tweets by @LAPDHQ\", \"width\": 150, \"$schema\": \"https://vega.github.io/schema/vega-lite/v4.0.2.json\", \"datasets\": {\"data-4c0df77e6fc229ab0c162c052e6747c8\": [{\"month\": \"1\", \"year\": \"2017\", \"id_size\": 96, \"retweets_count_sum\": 3359, \"retweets_count_mean\": 35.0, \"likes_count_sum\": 8728, \"likes_count_mean\": 91.0}, {\"month\": \"1\", \"year\": \"2018\", \"id_size\": 144, \"retweets_count_sum\": 7675, \"retweets_count_mean\": 53.0, \"likes_count_sum\": 16026, \"likes_count_mean\": 111.0}, {\"month\": \"1\", \"year\": \"2019\", \"id_size\": 121, \"retweets_count_sum\": 18823, \"retweets_count_mean\": 156.0, \"likes_count_sum\": 43289, \"likes_count_mean\": 358.0}, {\"month\": \"1\", \"year\": \"2020\", \"id_size\": 53, \"retweets_count_sum\": 5716, \"retweets_count_mean\": 108.0, \"likes_count_sum\": 25538, \"likes_count_mean\": 482.0}, {\"month\": \"1\", \"year\": \"2021\", \"id_size\": 93, \"retweets_count_sum\": 8056, \"retweets_count_mean\": 87.0, \"likes_count_sum\": 34197, \"likes_count_mean\": 368.0}, {\"month\": \"10\", \"year\": \"2017\", \"id_size\": 158, \"retweets_count_sum\": 13346, \"retweets_count_mean\": 84.0, \"likes_count_sum\": 21189, \"likes_count_mean\": 134.0}, {\"month\": \"10\", \"year\": \"2018\", \"id_size\": 124, \"retweets_count_sum\": 9687, \"retweets_count_mean\": 78.0, \"likes_count_sum\": 46958, \"likes_count_mean\": 379.0}, {\"month\": \"10\", \"year\": \"2019\", \"id_size\": 114, \"retweets_count_sum\": 13997, \"retweets_count_mean\": 123.0, \"likes_count_sum\": 38159, \"likes_count_mean\": 335.0}, {\"month\": \"10\", \"year\": \"2020\", \"id_size\": 72, \"retweets_count_sum\": 4911, \"retweets_count_mean\": 68.0, \"likes_count_sum\": 26714, \"likes_count_mean\": 371.0}, {\"month\": \"11\", \"year\": \"2017\", \"id_size\": 123, \"retweets_count_sum\": 5400, \"retweets_count_mean\": 44.0, \"likes_count_sum\": 12425, \"likes_count_mean\": 101.0}, {\"month\": \"11\", \"year\": \"2018\", \"id_size\": 137, \"retweets_count_sum\": 16837, \"retweets_count_mean\": 123.0, \"likes_count_sum\": 52812, \"likes_count_mean\": 385.0}, {\"month\": \"11\", \"year\": \"2019\", \"id_size\": 58, \"retweets_count_sum\": 2163, \"retweets_count_mean\": 37.0, \"likes_count_sum\": 11207, \"likes_count_mean\": 193.0}, {\"month\": \"11\", \"year\": \"2020\", \"id_size\": 56, \"retweets_count_sum\": 3432, \"retweets_count_mean\": 61.0, \"likes_count_sum\": 21995, \"likes_count_mean\": 393.0}, {\"month\": \"12\", \"year\": \"2017\", \"id_size\": 163, \"retweets_count_sum\": 14989, \"retweets_count_mean\": 92.0, \"likes_count_sum\": 49307, \"likes_count_mean\": 302.0}, {\"month\": \"12\", \"year\": \"2018\", \"id_size\": 112, \"retweets_count_sum\": 22682, \"retweets_count_mean\": 203.0, \"likes_count_sum\": 41467, \"likes_count_mean\": 370.0}, {\"month\": \"12\", \"year\": \"2019\", \"id_size\": 38, \"retweets_count_sum\": 2820, \"retweets_count_mean\": 74.0, \"likes_count_sum\": 15343, \"likes_count_mean\": 404.0}, {\"month\": \"12\", \"year\": \"2020\", \"id_size\": 79, \"retweets_count_sum\": 3274, \"retweets_count_mean\": 41.0, \"likes_count_sum\": 26859, \"likes_count_mean\": 340.0}, {\"month\": \"2\", \"year\": \"2017\", \"id_size\": 100, \"retweets_count_sum\": 1923, \"retweets_count_mean\": 19.0, \"likes_count_sum\": 3469, \"likes_count_mean\": 35.0}, {\"month\": \"2\", \"year\": \"2018\", \"id_size\": 137, \"retweets_count_sum\": 6958, \"retweets_count_mean\": 51.0, \"likes_count_sum\": 14938, \"likes_count_mean\": 109.0}, {\"month\": \"2\", \"year\": \"2019\", \"id_size\": 88, \"retweets_count_sum\": 6003, \"retweets_count_mean\": 68.0, \"likes_count_sum\": 29416, \"likes_count_mean\": 334.0}, {\"month\": \"2\", \"year\": \"2020\", \"id_size\": 45, \"retweets_count_sum\": 1793, \"retweets_count_mean\": 40.0, \"likes_count_sum\": 10334, \"likes_count_mean\": 230.0}, {\"month\": \"2\", \"year\": \"2021\", \"id_size\": 80, \"retweets_count_sum\": 6945, \"retweets_count_mean\": 87.0, \"likes_count_sum\": 31242, \"likes_count_mean\": 391.0}, {\"month\": \"3\", \"year\": \"2017\", \"id_size\": 99, \"retweets_count_sum\": 1892, \"retweets_count_mean\": 19.0, \"likes_count_sum\": 4051, \"likes_count_mean\": 41.0}, {\"month\": \"3\", \"year\": \"2018\", \"id_size\": 186, \"retweets_count_sum\": 7896, \"retweets_count_mean\": 42.0, \"likes_count_sum\": 20555, \"likes_count_mean\": 111.0}, {\"month\": \"3\", \"year\": \"2019\", \"id_size\": 90, \"retweets_count_sum\": 10942, \"retweets_count_mean\": 122.0, \"likes_count_sum\": 36884, \"likes_count_mean\": 410.0}, {\"month\": \"3\", \"year\": \"2020\", \"id_size\": 56, \"retweets_count_sum\": 21258, \"retweets_count_mean\": 380.0, \"likes_count_sum\": 88222, \"likes_count_mean\": 1575.0}, {\"month\": \"3\", \"year\": \"2021\", \"id_size\": 87, \"retweets_count_sum\": 2620, \"retweets_count_mean\": 30.0, \"likes_count_sum\": 12554, \"likes_count_mean\": 144.0}, {\"month\": \"4\", \"year\": \"2017\", \"id_size\": 88, \"retweets_count_sum\": 1511, \"retweets_count_mean\": 17.0, \"likes_count_sum\": 3071, \"likes_count_mean\": 35.0}, {\"month\": \"4\", \"year\": \"2018\", \"id_size\": 170, \"retweets_count_sum\": 4242, \"retweets_count_mean\": 25.0, \"likes_count_sum\": 15625, \"likes_count_mean\": 92.0}, {\"month\": \"4\", \"year\": \"2019\", \"id_size\": 88, \"retweets_count_sum\": 48386, \"retweets_count_mean\": 550.0, \"likes_count_sum\": 72478, \"likes_count_mean\": 824.0}, {\"month\": \"4\", \"year\": \"2020\", \"id_size\": 47, \"retweets_count_sum\": 3723, \"retweets_count_mean\": 79.0, \"likes_count_sum\": 17971, \"likes_count_mean\": 382.0}, {\"month\": \"5\", \"year\": \"2017\", \"id_size\": 107, \"retweets_count_sum\": 2026, \"retweets_count_mean\": 19.0, \"likes_count_sum\": 4011, \"likes_count_mean\": 37.0}, {\"month\": \"5\", \"year\": \"2018\", \"id_size\": 148, \"retweets_count_sum\": 4116, \"retweets_count_mean\": 28.0, \"likes_count_sum\": 17280, \"likes_count_mean\": 117.0}, {\"month\": \"5\", \"year\": \"2019\", \"id_size\": 79, \"retweets_count_sum\": 7990, \"retweets_count_mean\": 101.0, \"likes_count_sum\": 37163, \"likes_count_mean\": 470.0}, {\"month\": \"5\", \"year\": \"2020\", \"id_size\": 67, \"retweets_count_sum\": 11307, \"retweets_count_mean\": 169.0, \"likes_count_sum\": 37359, \"likes_count_mean\": 558.0}, {\"month\": \"6\", \"year\": \"2017\", \"id_size\": 137, \"retweets_count_sum\": 2668, \"retweets_count_mean\": 19.0, \"likes_count_sum\": 5422, \"likes_count_mean\": 40.0}, {\"month\": \"6\", \"year\": \"2018\", \"id_size\": 106, \"retweets_count_sum\": 3745, \"retweets_count_mean\": 35.0, \"likes_count_sum\": 12524, \"likes_count_mean\": 118.0}, {\"month\": \"6\", \"year\": \"2019\", \"id_size\": 51, \"retweets_count_sum\": 4498, \"retweets_count_mean\": 88.0, \"likes_count_sum\": 11463, \"likes_count_mean\": 225.0}, {\"month\": \"6\", \"year\": \"2020\", \"id_size\": 92, \"retweets_count_sum\": 11266, \"retweets_count_mean\": 122.0, \"likes_count_sum\": 52532, \"likes_count_mean\": 571.0}, {\"month\": \"7\", \"year\": \"2017\", \"id_size\": 83, \"retweets_count_sum\": 1600, \"retweets_count_mean\": 19.0, \"likes_count_sum\": 3052, \"likes_count_mean\": 37.0}, {\"month\": \"7\", \"year\": \"2018\", \"id_size\": 134, \"retweets_count_sum\": 26378, \"retweets_count_mean\": 197.0, \"likes_count_sum\": 37882, \"likes_count_mean\": 283.0}, {\"month\": \"7\", \"year\": \"2019\", \"id_size\": 86, \"retweets_count_sum\": 15876, \"retweets_count_mean\": 185.0, \"likes_count_sum\": 58694, \"likes_count_mean\": 682.0}, {\"month\": \"7\", \"year\": \"2020\", \"id_size\": 63, \"retweets_count_sum\": 10564, \"retweets_count_mean\": 168.0, \"likes_count_sum\": 40191, \"likes_count_mean\": 638.0}, {\"month\": \"8\", \"year\": \"2017\", \"id_size\": 167, \"retweets_count_sum\": 2775, \"retweets_count_mean\": 17.0, \"likes_count_sum\": 7091, \"likes_count_mean\": 42.0}, {\"month\": \"8\", \"year\": \"2018\", \"id_size\": 113, \"retweets_count_sum\": 11784, \"retweets_count_mean\": 104.0, \"likes_count_sum\": 20721, \"likes_count_mean\": 183.0}, {\"month\": \"8\", \"year\": \"2019\", \"id_size\": 76, \"retweets_count_sum\": 8807, \"retweets_count_mean\": 116.0, \"likes_count_sum\": 27151, \"likes_count_mean\": 357.0}, {\"month\": \"8\", \"year\": \"2020\", \"id_size\": 53, \"retweets_count_sum\": 3064, \"retweets_count_mean\": 58.0, \"likes_count_sum\": 14294, \"likes_count_mean\": 270.0}, {\"month\": \"9\", \"year\": \"2017\", \"id_size\": 142, \"retweets_count_sum\": 3791, \"retweets_count_mean\": 27.0, \"likes_count_sum\": 11185, \"likes_count_mean\": 79.0}, {\"month\": \"9\", \"year\": \"2018\", \"id_size\": 86, \"retweets_count_sum\": 14081, \"retweets_count_mean\": 164.0, \"likes_count_sum\": 39179, \"likes_count_mean\": 456.0}, {\"month\": \"9\", \"year\": \"2019\", \"id_size\": 55, \"retweets_count_sum\": 10112, \"retweets_count_mean\": 184.0, \"likes_count_sum\": 41040, \"likes_count_mean\": 746.0}, {\"month\": \"9\", \"year\": \"2020\", \"id_size\": 67, \"retweets_count_sum\": 7397, \"retweets_count_mean\": 110.0, \"likes_count_sum\": 32444, \"likes_count_mean\": 484.0}]}}, {\"mode\": \"vega-lite\"});\n",
       "</script>"
      ],
      "text/plain": [
       "alt.Chart(...)"
      ]
     },
     "execution_count": 37,
     "metadata": {},
     "output_type": "execute_result"
    }
   ],
   "source": [
    "chart = (\n",
    "    alt.Chart((lapd_engagements_day.query('year > \"2016\"')))\n",
    "    .mark_bar(size=10, opacity=1)\n",
    "    .encode(\n",
    "        x=alt.X(\n",
    "            \"month:T\",\n",
    "            title=\" \",\n",
    "            axis=alt.Axis(values=[\"1\", \"12\"], grid=False, tickCount=1, format=\"%b\"),\n",
    "        ),\n",
    "        y=alt.Y(\n",
    "            \"id_size:Q\",\n",
    "            stack=None,\n",
    "            title=\" \",\n",
    "            axis=alt.Axis(\n",
    "                gridWidth=0.6,\n",
    "                gridColor=\"#dddddd\",\n",
    "                offset=6,\n",
    "                tickSize=0,\n",
    "                domainOpacity=0,\n",
    "                tickCount=2,\n",
    "                format=\"2,f\",\n",
    "            ),\n",
    "            scale=alt.Scale(domain=(0, 200)),\n",
    "        ),\n",
    "        facet=alt.Facet(\"year:N\", columns=4, title=\" \"),\n",
    "    )\n",
    "    .properties(width=150, height=100, title=\"Monthly tweets by @LAPDHQ\")\n",
    ")\n",
    "\n",
    "chart.configure_view(strokeOpacity=0).configure_legend(\n",
    "    orient=\"top\", symbolType=\"stroke\"\n",
    ").configure_legend(symbolType=\"square\")"
   ]
  },
  {
   "cell_type": "code",
   "execution_count": null,
   "metadata": {},
   "outputs": [],
   "source": []
  }
 ],
 "metadata": {
  "kernelspec": {
   "display_name": "Python 3",
   "language": "python",
   "name": "python3"
  },
  "language_info": {
   "codemirror_mode": {
    "name": "ipython",
    "version": 3
   },
   "file_extension": ".py",
   "mimetype": "text/x-python",
   "name": "python",
   "nbconvert_exporter": "python",
   "pygments_lexer": "ipython3",
   "version": "3.7.4"
  }
 },
 "nbformat": 4,
 "nbformat_minor": 4
}
