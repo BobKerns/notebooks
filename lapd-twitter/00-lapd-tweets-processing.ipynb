{
 "cells": [
  {
   "cell_type": "markdown",
   "metadata": {},
   "source": [
    "## Processing LAPD twitter"
   ]
  },
  {
   "cell_type": "code",
   "execution_count": 11,
   "metadata": {},
   "outputs": [
    {
     "data": {
      "text/plain": [
       "ThemeRegistry.enable('latimes')"
      ]
     },
     "execution_count": 11,
     "metadata": {},
     "output_type": "execute_result"
    }
   ],
   "source": [
    "import altair as alt\n",
    "import pandas as pd\n",
    "import matplotlib as mpl\n",
    "import numpy as np\n",
    "import json\n",
    "from datetime import datetime\n",
    "import altair_latimes as lat\n",
    "alt.themes.register('latimes', lat.theme)\n",
    "alt.themes.enable('latimes')"
   ]
  },
  {
   "cell_type": "markdown",
   "metadata": {},
   "source": [
    "### Get the archive"
   ]
  },
  {
   "cell_type": "code",
   "execution_count": 12,
   "metadata": {},
   "outputs": [],
   "source": [
    "src = pd.read_json('../../twint/LAPDHQ.json', convert_dates=['created_at', 'date', 'time'], dtype={'timezone':str}, date_unit='s', lines=True)"
   ]
  },
  {
   "cell_type": "code",
   "execution_count": 13,
   "metadata": {},
   "outputs": [
    {
     "data": {
      "text/html": [
       "<div>\n",
       "<style scoped>\n",
       "    .dataframe tbody tr th:only-of-type {\n",
       "        vertical-align: middle;\n",
       "    }\n",
       "\n",
       "    .dataframe tbody tr th {\n",
       "        vertical-align: top;\n",
       "    }\n",
       "\n",
       "    .dataframe thead th {\n",
       "        text-align: right;\n",
       "    }\n",
       "</style>\n",
       "<table border=\"1\" class=\"dataframe\">\n",
       "  <thead>\n",
       "    <tr style=\"text-align: right;\">\n",
       "      <th></th>\n",
       "      <th>id</th>\n",
       "      <th>conversation_id</th>\n",
       "      <th>created_at</th>\n",
       "      <th>date</th>\n",
       "      <th>time</th>\n",
       "      <th>timezone</th>\n",
       "      <th>user_id</th>\n",
       "      <th>username</th>\n",
       "      <th>name</th>\n",
       "      <th>place</th>\n",
       "      <th>...</th>\n",
       "      <th>geo</th>\n",
       "      <th>source</th>\n",
       "      <th>user_rt_id</th>\n",
       "      <th>user_rt</th>\n",
       "      <th>retweet_id</th>\n",
       "      <th>reply_to</th>\n",
       "      <th>retweet_date</th>\n",
       "      <th>translate</th>\n",
       "      <th>trans_src</th>\n",
       "      <th>trans_dest</th>\n",
       "    </tr>\n",
       "  </thead>\n",
       "  <tbody>\n",
       "    <tr>\n",
       "      <th>0</th>\n",
       "      <td>1373328469996675073</td>\n",
       "      <td>1373069690558312448</td>\n",
       "      <td>2021-03-20 10:39:57 PDT</td>\n",
       "      <td>2021-03-20</td>\n",
       "      <td>10:39:57</td>\n",
       "      <td>-0700</td>\n",
       "      <td>115705583</td>\n",
       "      <td>lapdhq</td>\n",
       "      <td>LAPD HQ</td>\n",
       "      <td></td>\n",
       "      <td>...</td>\n",
       "      <td></td>\n",
       "      <td></td>\n",
       "      <td></td>\n",
       "      <td></td>\n",
       "      <td></td>\n",
       "      <td>[]</td>\n",
       "      <td></td>\n",
       "      <td></td>\n",
       "      <td></td>\n",
       "      <td></td>\n",
       "    </tr>\n",
       "    <tr>\n",
       "      <th>2</th>\n",
       "      <td>1373304407429840896</td>\n",
       "      <td>1373304407429840896</td>\n",
       "      <td>2021-03-20 09:04:20 PDT</td>\n",
       "      <td>2021-03-20</td>\n",
       "      <td>09:04:20</td>\n",
       "      <td>-0700</td>\n",
       "      <td>115705583</td>\n",
       "      <td>lapdhq</td>\n",
       "      <td>LAPD HQ</td>\n",
       "      <td></td>\n",
       "      <td>...</td>\n",
       "      <td></td>\n",
       "      <td></td>\n",
       "      <td></td>\n",
       "      <td></td>\n",
       "      <td></td>\n",
       "      <td>[]</td>\n",
       "      <td></td>\n",
       "      <td></td>\n",
       "      <td></td>\n",
       "      <td></td>\n",
       "    </tr>\n",
       "    <tr>\n",
       "      <th>1</th>\n",
       "      <td>1373308777894612999</td>\n",
       "      <td>1373308777894612992</td>\n",
       "      <td>2021-03-20 09:21:42 PDT</td>\n",
       "      <td>2021-03-20</td>\n",
       "      <td>09:21:42</td>\n",
       "      <td>-0700</td>\n",
       "      <td>115705583</td>\n",
       "      <td>lapdhq</td>\n",
       "      <td>LAPD HQ</td>\n",
       "      <td></td>\n",
       "      <td>...</td>\n",
       "      <td></td>\n",
       "      <td></td>\n",
       "      <td></td>\n",
       "      <td></td>\n",
       "      <td></td>\n",
       "      <td>[]</td>\n",
       "      <td></td>\n",
       "      <td></td>\n",
       "      <td></td>\n",
       "      <td></td>\n",
       "    </tr>\n",
       "    <tr>\n",
       "      <th>3</th>\n",
       "      <td>1373153195925536768</td>\n",
       "      <td>1373094087809589248</td>\n",
       "      <td>2021-03-19 23:03:28 PDT</td>\n",
       "      <td>2021-03-19</td>\n",
       "      <td>23:03:28</td>\n",
       "      <td>-0700</td>\n",
       "      <td>115705583</td>\n",
       "      <td>lapdhq</td>\n",
       "      <td>LAPD HQ</td>\n",
       "      <td></td>\n",
       "      <td>...</td>\n",
       "      <td></td>\n",
       "      <td></td>\n",
       "      <td></td>\n",
       "      <td></td>\n",
       "      <td></td>\n",
       "      <td>[]</td>\n",
       "      <td></td>\n",
       "      <td></td>\n",
       "      <td></td>\n",
       "      <td></td>\n",
       "    </tr>\n",
       "    <tr>\n",
       "      <th>14</th>\n",
       "      <td>1373069691975991301</td>\n",
       "      <td>1373069690558312448</td>\n",
       "      <td>2021-03-19 17:31:39 PDT</td>\n",
       "      <td>2021-03-19</td>\n",
       "      <td>17:31:39</td>\n",
       "      <td>-0700</td>\n",
       "      <td>115705583</td>\n",
       "      <td>lapdhq</td>\n",
       "      <td>LAPD HQ</td>\n",
       "      <td></td>\n",
       "      <td>...</td>\n",
       "      <td></td>\n",
       "      <td></td>\n",
       "      <td></td>\n",
       "      <td></td>\n",
       "      <td></td>\n",
       "      <td>[]</td>\n",
       "      <td></td>\n",
       "      <td></td>\n",
       "      <td></td>\n",
       "      <td></td>\n",
       "    </tr>\n",
       "  </tbody>\n",
       "</table>\n",
       "<p>5 rows × 36 columns</p>\n",
       "</div>"
      ],
      "text/plain": [
       "                     id      conversation_id               created_at  \\\n",
       "0   1373328469996675073  1373069690558312448  2021-03-20 10:39:57 PDT   \n",
       "2   1373304407429840896  1373304407429840896  2021-03-20 09:04:20 PDT   \n",
       "1   1373308777894612999  1373308777894612992  2021-03-20 09:21:42 PDT   \n",
       "3   1373153195925536768  1373094087809589248  2021-03-19 23:03:28 PDT   \n",
       "14  1373069691975991301  1373069690558312448  2021-03-19 17:31:39 PDT   \n",
       "\n",
       "          date      time timezone    user_id username     name place  ... geo  \\\n",
       "0   2021-03-20  10:39:57    -0700  115705583   lapdhq  LAPD HQ        ...       \n",
       "2   2021-03-20  09:04:20    -0700  115705583   lapdhq  LAPD HQ        ...       \n",
       "1   2021-03-20  09:21:42    -0700  115705583   lapdhq  LAPD HQ        ...       \n",
       "3   2021-03-19  23:03:28    -0700  115705583   lapdhq  LAPD HQ        ...       \n",
       "14  2021-03-19  17:31:39    -0700  115705583   lapdhq  LAPD HQ        ...       \n",
       "\n",
       "   source user_rt_id user_rt retweet_id  reply_to  retweet_date  translate  \\\n",
       "0                                              []                            \n",
       "2                                              []                            \n",
       "1                                              []                            \n",
       "3                                              []                            \n",
       "14                                             []                            \n",
       "\n",
       "   trans_src trans_dest  \n",
       "0                        \n",
       "2                        \n",
       "1                        \n",
       "3                        \n",
       "14                       \n",
       "\n",
       "[5 rows x 36 columns]"
      ]
     },
     "execution_count": 13,
     "metadata": {},
     "output_type": "execute_result"
    }
   ],
   "source": [
    "src.sort_values('date', ascending=False).head()"
   ]
  },
  {
   "cell_type": "markdown",
   "metadata": {},
   "source": [
    "### Clean up dates ..."
   ]
  },
  {
   "cell_type": "code",
   "execution_count": 14,
   "metadata": {},
   "outputs": [],
   "source": [
    "src['date'] = pd.to_datetime(src['date'])\n",
    "src['year'] = src['date'].dt.year\n",
    "src['month'] = src['date'].dt.month\n",
    "src['day'] = src['date'].dt.day"
   ]
  },
  {
   "cell_type": "markdown",
   "metadata": {},
   "source": [
    "### ... and times"
   ]
  },
  {
   "cell_type": "code",
   "execution_count": 15,
   "metadata": {},
   "outputs": [],
   "source": [
    "src['time'] = pd.to_datetime(src['time'])\n",
    "src['hour'] = src['time'].dt.hour\n",
    "src['minute'] = src['time'].dt.minute\n",
    "src['time'] = src['time'].dt.time"
   ]
  },
  {
   "cell_type": "code",
   "execution_count": 16,
   "metadata": {},
   "outputs": [],
   "source": [
    "src['id'] = src['id'].astype(str)\n",
    "src['year'] = src['year'].astype(str)\n",
    "src['month'] = src['month'].astype(str)\n",
    "src['day'] = src['day'].astype(str)\n",
    "src['hour'] = src['hour'].astype(str)"
   ]
  },
  {
   "cell_type": "code",
   "execution_count": 17,
   "metadata": {},
   "outputs": [
    {
     "data": {
      "text/plain": [
       "id                         object\n",
       "conversation_id             int64\n",
       "created_at                 object\n",
       "date               datetime64[ns]\n",
       "time                       object\n",
       "timezone                   object\n",
       "user_id                     int64\n",
       "username                   object\n",
       "name                       object\n",
       "place                      object\n",
       "tweet                      object\n",
       "language                   object\n",
       "mentions                   object\n",
       "urls                       object\n",
       "photos                     object\n",
       "replies_count               int64\n",
       "retweets_count              int64\n",
       "likes_count                 int64\n",
       "hashtags                   object\n",
       "cashtags                   object\n",
       "link                       object\n",
       "retweet                      bool\n",
       "quote_url                  object\n",
       "video                       int64\n",
       "thumbnail                  object\n",
       "near                       object\n",
       "geo                        object\n",
       "source                     object\n",
       "user_rt_id                 object\n",
       "user_rt                    object\n",
       "retweet_id                 object\n",
       "reply_to                   object\n",
       "retweet_date               object\n",
       "translate                  object\n",
       "trans_src                  object\n",
       "trans_dest                 object\n",
       "year                       object\n",
       "month                      object\n",
       "day                        object\n",
       "hour                       object\n",
       "minute                      int64\n",
       "dtype: object"
      ]
     },
     "execution_count": 17,
     "metadata": {},
     "output_type": "execute_result"
    }
   ],
   "source": [
    "src.dtypes"
   ]
  },
  {
   "cell_type": "code",
   "execution_count": 19,
   "metadata": {},
   "outputs": [],
   "source": [
    "src.reset_index().to_csv('output/lapdhq.csv', index=False)"
   ]
  }
 ],
 "metadata": {
  "kernelspec": {
   "display_name": "Python 3",
   "language": "python",
   "name": "python3"
  },
  "language_info": {
   "codemirror_mode": {
    "name": "ipython",
    "version": 3
   },
   "file_extension": ".py",
   "mimetype": "text/x-python",
   "name": "python",
   "nbconvert_exporter": "python",
   "pygments_lexer": "ipython3",
   "version": "3.7.4"
  }
 },
 "nbformat": 4,
 "nbformat_minor": 4
}
