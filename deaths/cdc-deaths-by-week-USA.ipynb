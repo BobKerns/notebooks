{
 "cells": [
  {
   "cell_type": "markdown",
   "metadata": {},
   "source": [
    "# Analyzing CDC deaths in California re: Covid-19"
   ]
  },
  {
   "cell_type": "code",
   "execution_count": 1,
   "metadata": {},
   "outputs": [
    {
     "data": {
      "text/plain": [
       "ThemeRegistry.enable('latimes')"
      ]
     },
     "execution_count": 1,
     "metadata": {},
     "output_type": "execute_result"
    }
   ],
   "source": [
    "import pandas as pd\n",
    "import geopandas as gpd\n",
    "import altair as alt\n",
    "import altair_latimes as lat\n",
    "alt.themes.register('latimes', lat.theme)\n",
    "alt.themes.enable('latimes')"
   ]
  },
  {
   "cell_type": "markdown",
   "metadata": {},
   "source": [
    "### Load deaths data from past years and 2020"
   ]
  },
  {
   "cell_type": "code",
   "execution_count": 2,
   "metadata": {},
   "outputs": [],
   "source": [
    "# metadata: https://data.cdc.gov/NCHS/Weekly-Counts-of-Deaths-by-State-and-Select-Causes/muzy-jte6"
   ]
  },
  {
   "cell_type": "code",
   "execution_count": 3,
   "metadata": {},
   "outputs": [],
   "source": [
    "url_current = \"https://data.cdc.gov/api/views/muzy-jte6/rows.csv?accessType=DOWNLOAD\""
   ]
  },
  {
   "cell_type": "code",
   "execution_count": 4,
   "metadata": {},
   "outputs": [],
   "source": [
    "# #metadata: https://data.cdc.gov/NCHS/Weekly-Counts-of-Deaths-by-State-and-Select-Causes/3yf8-kanr"
   ]
  },
  {
   "cell_type": "code",
   "execution_count": 5,
   "metadata": {},
   "outputs": [],
   "source": [
    "url_history = \"https://data.cdc.gov/api/views/3yf8-kanr/rows.csv?accessType=DOWNLOAD\""
   ]
  },
  {
   "cell_type": "markdown",
   "metadata": {},
   "source": [
    "### Read the current data (2020-21) and the historical data (2014-2019)"
   ]
  },
  {
   "cell_type": "code",
   "execution_count": 6,
   "metadata": {},
   "outputs": [],
   "source": [
    "df_current = pd.read_csv(\n",
    "    url_current,\n",
    "    parse_dates=[\"Week Ending Date\"],\n",
    "    dtype={\"MMWR Year\": str, \"MMWR Week\": str},\n",
    ")"
   ]
  },
  {
   "cell_type": "code",
   "execution_count": 7,
   "metadata": {},
   "outputs": [],
   "source": [
    "df_history = pd.read_csv(\n",
    "    url_history,\n",
    "    parse_dates=[\"Week Ending Date\"],\n",
    "    dtype={\"MMWR Year\": str},\n",
    ")"
   ]
  },
  {
   "cell_type": "markdown",
   "metadata": {},
   "source": [
    "### Clean up slight differences in two dataframes' column headers"
   ]
  },
  {
   "cell_type": "code",
   "execution_count": 8,
   "metadata": {},
   "outputs": [],
   "source": [
    "df_history.rename(columns={\"All  Cause\": \"All Cause\"}, inplace=True)"
   ]
  },
  {
   "cell_type": "markdown",
   "metadata": {},
   "source": [
    "### Concatenate them into one frame"
   ]
  },
  {
   "cell_type": "code",
   "execution_count": 9,
   "metadata": {},
   "outputs": [],
   "source": [
    "df = pd.concat(\n",
    "    [\n",
    "        df_history[\n",
    "            [\n",
    "                \"Jurisdiction of Occurrence\",\n",
    "                \"MMWR Year\",\n",
    "                \"MMWR Week\",\n",
    "                \"Week Ending Date\",\n",
    "                \"All Cause\",\n",
    "                \"Natural Cause\",\n",
    "            ]\n",
    "        ],\n",
    "        df_current[\n",
    "            [\n",
    "                \"Jurisdiction of Occurrence\",\n",
    "                \"MMWR Year\",\n",
    "                \"MMWR Week\",\n",
    "                \"Week Ending Date\",\n",
    "                \"All Cause\",\n",
    "                \"Natural Cause\",\n",
    "            ]\n",
    "        ],\n",
    "    ]\n",
    ")"
   ]
  },
  {
   "cell_type": "markdown",
   "metadata": {},
   "source": [
    "### Strip out junk from column headers"
   ]
  },
  {
   "cell_type": "code",
   "execution_count": 10,
   "metadata": {},
   "outputs": [],
   "source": [
    "df.columns = (\n",
    "    df.columns.str.strip()\n",
    "    .str.lower()\n",
    "    .str.replace(\" \", \"_\", regex=False)\n",
    "    .str.replace(\":\", \"\", regex=False)\n",
    "    .str.replace(\"/\", \"_\", regex=False)\n",
    "    .str.replace(\",\", \"_\", regex=False)\n",
    "    .str.replace(\"*\", \"\", regex=False)\n",
    "    .str.replace(\"(s)\", \"s\", regex=False)\n",
    ")"
   ]
  },
  {
   "cell_type": "markdown",
   "metadata": {},
   "source": [
    "### Make a copy of the dataframe, excluding this year (and only the U.S. as a juridiction)"
   ]
  },
  {
   "cell_type": "code",
   "execution_count": 11,
   "metadata": {},
   "outputs": [],
   "source": [
    "deaths = df[(df['week_ending_date'] < '2021/01/01') & (df['jurisdiction_of_occurrence'] == 'United States')].copy()"
   ]
  },
  {
   "cell_type": "markdown",
   "metadata": {},
   "source": [
    "### Make the data tall"
   ]
  },
  {
   "cell_type": "code",
   "execution_count": 12,
   "metadata": {},
   "outputs": [],
   "source": [
    "deaths_melt = pd.melt(deaths, id_vars=['jurisdiction_of_occurrence', 'mmwr_year', 'mmwr_week', 'week_ending_date']\\\n",
    "    , value_vars=['all_cause', 'natural_cause'],\n",
    "        var_name='cause', value_name='count')"
   ]
  },
  {
   "cell_type": "code",
   "execution_count": 13,
   "metadata": {},
   "outputs": [],
   "source": [
    "deaths_melt['mmwr_year'] = deaths_melt['mmwr_year'].astype(str)\n",
    "deaths_melt['mmwr_week'] = deaths_melt['mmwr_week'].astype(int)"
   ]
  },
  {
   "cell_type": "markdown",
   "metadata": {},
   "source": [
    "### Just California"
   ]
  },
  {
   "cell_type": "code",
   "execution_count": 14,
   "metadata": {},
   "outputs": [],
   "source": [
    "usa_deaths = deaths_melt.copy()"
   ]
  },
  {
   "cell_type": "markdown",
   "metadata": {},
   "source": [
    "### What's the mean number of deaths per week, 2014-2019?"
   ]
  },
  {
   "cell_type": "code",
   "execution_count": 15,
   "metadata": {},
   "outputs": [],
   "source": [
    "all_usa_deaths_then = usa_deaths[(usa_deaths['mmwr_year'] != '2020') & (usa_deaths['cause'] == 'all_cause')]"
   ]
  },
  {
   "cell_type": "code",
   "execution_count": 16,
   "metadata": {},
   "outputs": [],
   "source": [
    "all_usa_deaths_now = usa_deaths[(usa_deaths['mmwr_year'] == '2020') & (usa_deaths['cause'] == 'all_cause')] "
   ]
  },
  {
   "cell_type": "code",
   "execution_count": 17,
   "metadata": {},
   "outputs": [],
   "source": [
    "usa_deaths_then_grouped = all_usa_deaths_then.groupby(['mmwr_week']).agg({'count':'mean'}).reset_index()"
   ]
  },
  {
   "cell_type": "code",
   "execution_count": 18,
   "metadata": {},
   "outputs": [],
   "source": [
    "usa_deaths_now_grouped = all_usa_deaths_now.groupby(['mmwr_week', 'week_ending_date']).agg({'count':'mean'}).reset_index()"
   ]
  },
  {
   "cell_type": "code",
   "execution_count": 19,
   "metadata": {},
   "outputs": [],
   "source": [
    "usa_deaths_then_grouped['count'] = usa_deaths_then_grouped['count'].astype(int)"
   ]
  },
  {
   "cell_type": "code",
   "execution_count": 20,
   "metadata": {},
   "outputs": [],
   "source": [
    "then_now = usa_deaths_then_grouped.merge(usa_deaths_now_grouped, on='mmwr_week', how='inner')"
   ]
  },
  {
   "cell_type": "code",
   "execution_count": 21,
   "metadata": {},
   "outputs": [],
   "source": [
    "then_now.rename(columns={\"mmwr_week\": \"week\", \"count_x\": \"Normal\", \"count_y\": \"2020\"}, inplace=True)"
   ]
  },
  {
   "cell_type": "code",
   "execution_count": 22,
   "metadata": {},
   "outputs": [],
   "source": [
    "then_now_melt = pd.melt(then_now, id_vars=['week', 'week_ending_date']\\\n",
    "                      , value_vars=['Normal', '2020'],\n",
    "        var_name='year', value_name='count')"
   ]
  },
  {
   "cell_type": "code",
   "execution_count": 23,
   "metadata": {},
   "outputs": [],
   "source": [
    "then_now_melt['week_ending_date'] = then_now_melt['week_ending_date'].astype('datetime64[ns]')"
   ]
  },
  {
   "cell_type": "code",
   "execution_count": 24,
   "metadata": {},
   "outputs": [
    {
     "data": {
      "text/plain": [
       "week                         int64\n",
       "week_ending_date    datetime64[ns]\n",
       "year                        object\n",
       "count                      float64\n",
       "dtype: object"
      ]
     },
     "execution_count": 24,
     "metadata": {},
     "output_type": "execute_result"
    }
   ],
   "source": [
    "then_now_melt.dtypes"
   ]
  },
  {
   "cell_type": "code",
   "execution_count": 25,
   "metadata": {},
   "outputs": [],
   "source": [
    "then_now_melt.to_csv('output/then_now_melt.csv', index=False)"
   ]
  },
  {
   "cell_type": "code",
   "execution_count": 26,
   "metadata": {},
   "outputs": [],
   "source": [
    "then_now_melt = then_now_melt.sort_values('year', ascending=True)"
   ]
  },
  {
   "cell_type": "markdown",
   "metadata": {},
   "source": [
    "### Chart it"
   ]
  },
  {
   "cell_type": "code",
   "execution_count": 27,
   "metadata": {},
   "outputs": [
    {
     "data": {
      "text/html": [
       "\n",
       "<div id=\"altair-viz-05d0829f15ce402596773b660c90887f\"></div>\n",
       "<script type=\"text/javascript\">\n",
       "  (function(spec, embedOpt){\n",
       "    const outputDiv = document.getElementById(\"altair-viz-05d0829f15ce402596773b660c90887f\");\n",
       "    const paths = {\n",
       "      \"vega\": \"https://cdn.jsdelivr.net/npm//vega@5?noext\",\n",
       "      \"vega-lib\": \"https://cdn.jsdelivr.net/npm//vega-lib?noext\",\n",
       "      \"vega-lite\": \"https://cdn.jsdelivr.net/npm//vega-lite@4.0.2?noext\",\n",
       "      \"vega-embed\": \"https://cdn.jsdelivr.net/npm//vega-embed@6?noext\",\n",
       "    };\n",
       "\n",
       "    function loadScript(lib) {\n",
       "      return new Promise(function(resolve, reject) {\n",
       "        var s = document.createElement('script');\n",
       "        s.src = paths[lib];\n",
       "        s.async = true;\n",
       "        s.onload = () => resolve(paths[lib]);\n",
       "        s.onerror = () => reject(`Error loading script: ${paths[lib]}`);\n",
       "        document.getElementsByTagName(\"head\")[0].appendChild(s);\n",
       "      });\n",
       "    }\n",
       "\n",
       "    function showError(err) {\n",
       "      outputDiv.innerHTML = `<div class=\"error\" style=\"color:red;\">${err}</div>`;\n",
       "      throw err;\n",
       "    }\n",
       "\n",
       "    function displayChart(vegaEmbed) {\n",
       "      vegaEmbed(outputDiv, spec, embedOpt)\n",
       "        .catch(err => showError(`Javascript Error: ${err.message}<br>This usually means there's a typo in your chart specification. See the javascript console for the full traceback.`));\n",
       "    }\n",
       "\n",
       "    if(typeof define === \"function\" && define.amd) {\n",
       "      requirejs.config({paths});\n",
       "      require([\"vega-embed\"], displayChart, err => showError(`Error loading script: ${err.message}`));\n",
       "    } else if (typeof vegaEmbed === \"function\") {\n",
       "      displayChart(vegaEmbed);\n",
       "    } else {\n",
       "      loadScript(\"vega\")\n",
       "        .then(() => loadScript(\"vega-lite\"))\n",
       "        .then(() => loadScript(\"vega-embed\"))\n",
       "        .catch(showError)\n",
       "        .then(() => displayChart(vegaEmbed));\n",
       "    }\n",
       "  })({\"config\": {\"view\": {\"width\": 800, \"height\": 450, \"strokeOpacity\": 0}, \"background\": \"#ffffff\", \"title\": {\"anchor\": \"start\", \"font\": \"Benton Gothic Bold, sans\", \"fontColor\": \"#000000\", \"fontSize\": 22, \"fontWeight\": \"normal\"}, \"arc\": {\"fill\": \"#82c6df\"}, \"area\": {\"fill\": \"#82c6df\"}, \"line\": {\"stroke\": \"#82c6df\", \"strokeWidth\": 3}, \"path\": {\"stroke\": \"#82c6df\"}, \"rect\": {\"fill\": \"#82c6df\"}, \"shape\": {\"stroke\": \"#82c6df\"}, \"bar\": {\"fill\": \"#82c6df\"}, \"point\": {\"stroke\": \"#82c6df\"}, \"symbol\": {\"fill\": \"#82c6df\", \"size\": 30}, \"axis\": {\"titleFont\": \"Benton Gothic Bold, sans\", \"titleFontSize\": 13, \"titleFontWeight\": \"normal\", \"labelFont\": \"Benton Gothic, sans\", \"labelFontSize\": 11.5, \"labelFontWeight\": \"normal\"}, \"axisX\": {\"labelAngle\": 0, \"labelPadding\": 4, \"tickSize\": 3}, \"axisY\": {\"labelBaseline\": \"middle\", \"maxExtent\": 45, \"minExtent\": 45, \"tickSize\": 2, \"titleAlign\": \"left\", \"titleAngle\": 0, \"titleX\": -45, \"titleY\": -11}, \"legend\": {\"titleFont\": \"Benton Gothic Bold, sans\", \"titleFontSize\": 13, \"titleFontWeight\": \"normal\", \"symbolType\": \"square\", \"labelFont\": \"Benton Gothic, sans\", \"labelFontSize\": 11.5, \"orient\": \"top\"}, \"range\": {\"category\": [\"#3580b1\", \"#ec8431\", \"#ab7fb4\", \"#c89d29\", \"#adc839\", \"#829eb1\"], \"diverging\": [\"#e68a4f\", \"#f4bb6a\", \"#f9e39c\", \"#dadfe2\", \"#a6b7c6\", \"#849eae\"], \"heatmap\": [\"#fbf2c7\", \"#f9e39c\", \"#f8d36e\", \"#f4bb6a\", \"#e68a4f\", \"#d15a40\", \"#ab4232\"], \"ordinal\": [\"#fbf2c7\", \"#f9e39c\", \"#f8d36e\", \"#f4bb6a\", \"#e68a4f\", \"#d15a40\", \"#ab4232\"], \"ramp\": [\"#fbf2c7\", \"#f9e39c\", \"#f8d36e\", \"#f4bb6a\", \"#e68a4f\", \"#d15a40\", \"#ab4232\"]}}, \"data\": {\"name\": \"data-0543f4e63fa9fe339f7f7ba8c49950b9\"}, \"mark\": {\"type\": \"area\", \"opacity\": 0.5}, \"encoding\": {\"color\": {\"type\": \"nominal\", \"field\": \"year\", \"scale\": {\"domain\": [\"2020\", \"Normal\"], \"range\": [\"#82c6df\", \"#3580b1\"]}, \"title\": \" \"}, \"x\": {\"type\": \"temporal\", \"axis\": {\"format\": \"%B\", \"grid\": false, \"tickCount\": 10}, \"field\": \"week_ending_date\", \"title\": \"\"}, \"y\": {\"type\": \"quantitative\", \"axis\": {\"domainOpacity\": 0, \"format\": \"\", \"gridColor\": \"#dddddd\", \"gridWidth\": 0.6, \"offset\": 4, \"tickCount\": 4, \"tickSize\": 0}, \"field\": \"count\", \"scale\": {\"domain\": [3000, 100000]}, \"stack\": null, \"title\": \" \"}}, \"height\": 350, \"title\": \"Average weekly deaths in United States vs. deaths in 2020\", \"width\": 620, \"$schema\": \"https://vega.github.io/schema/vega-lite/v4.0.2.json\", \"datasets\": {\"data-0543f4e63fa9fe339f7f7ba8c49950b9\": [{\"week\": 52, \"week_ending_date\": \"2020-12-26T00:00:00\", \"year\": \"2020\", \"count\": 81185.0}, {\"week\": 23, \"week_ending_date\": \"2020-06-06T00:00:00\", \"year\": \"2020\", \"count\": 58862.0}, {\"week\": 22, \"week_ending_date\": \"2020-05-30T00:00:00\", \"year\": \"2020\", \"count\": 59651.0}, {\"week\": 21, \"week_ending_date\": \"2020-05-23T00:00:00\", \"year\": \"2020\", \"count\": 61613.0}, {\"week\": 20, \"week_ending_date\": \"2020-05-16T00:00:00\", \"year\": \"2020\", \"count\": 64454.0}, {\"week\": 19, \"week_ending_date\": \"2020-05-09T00:00:00\", \"year\": \"2020\", \"count\": 66794.0}, {\"week\": 18, \"week_ending_date\": \"2020-05-02T00:00:00\", \"year\": \"2020\", \"count\": 69282.0}, {\"week\": 17, \"week_ending_date\": \"2020-04-25T00:00:00\", \"year\": \"2020\", \"count\": 73891.0}, {\"week\": 16, \"week_ending_date\": \"2020-04-18T00:00:00\", \"year\": \"2020\", \"count\": 76782.0}, {\"week\": 15, \"week_ending_date\": \"2020-04-11T00:00:00\", \"year\": \"2020\", \"count\": 79076.0}, {\"week\": 14, \"week_ending_date\": \"2020-04-04T00:00:00\", \"year\": \"2020\", \"count\": 72297.0}, {\"week\": 24, \"week_ending_date\": \"2020-06-13T00:00:00\", \"year\": \"2020\", \"count\": 58004.0}, {\"week\": 13, \"week_ending_date\": \"2020-03-28T00:00:00\", \"year\": \"2020\", \"count\": 62996.0}, {\"week\": 11, \"week_ending_date\": \"2020-03-14T00:00:00\", \"year\": \"2020\", \"count\": 58660.0}, {\"week\": 10, \"week_ending_date\": \"2020-03-07T00:00:00\", \"year\": \"2020\", \"count\": 59700.0}, {\"week\": 9, \"week_ending_date\": \"2020-02-29T00:00:00\", \"year\": \"2020\", \"count\": 59319.0}, {\"week\": 8, \"week_ending_date\": \"2020-02-22T00:00:00\", \"year\": \"2020\", \"count\": 58884.0}, {\"week\": 7, \"week_ending_date\": \"2020-02-15T00:00:00\", \"year\": \"2020\", \"count\": 58798.0}, {\"week\": 6, \"week_ending_date\": \"2020-02-08T00:00:00\", \"year\": \"2020\", \"count\": 59454.0}, {\"week\": 5, \"week_ending_date\": \"2020-02-01T00:00:00\", \"year\": \"2020\", \"count\": 58819.0}, {\"week\": 4, \"week_ending_date\": \"2020-01-25T00:00:00\", \"year\": \"2020\", \"count\": 59149.0}, {\"week\": 3, \"week_ending_date\": \"2020-01-18T00:00:00\", \"year\": \"2020\", \"count\": 59358.0}, {\"week\": 2, \"week_ending_date\": \"2020-01-11T00:00:00\", \"year\": \"2020\", \"count\": 60717.0}, {\"week\": 12, \"week_ending_date\": \"2020-03-21T00:00:00\", \"year\": \"2020\", \"count\": 59197.0}, {\"week\": 25, \"week_ending_date\": \"2020-06-20T00:00:00\", \"year\": \"2020\", \"count\": 57964.0}, {\"week\": 26, \"week_ending_date\": \"2020-06-27T00:00:00\", \"year\": \"2020\", \"count\": 58477.0}, {\"week\": 27, \"week_ending_date\": \"2020-07-04T00:00:00\", \"year\": \"2020\", \"count\": 59781.0}, {\"week\": 50, \"week_ending_date\": \"2020-12-12T00:00:00\", \"year\": \"2020\", \"count\": 79544.0}, {\"week\": 49, \"week_ending_date\": \"2020-12-05T00:00:00\", \"year\": \"2020\", \"count\": 75528.0}, {\"week\": 48, \"week_ending_date\": \"2020-11-28T00:00:00\", \"year\": \"2020\", \"count\": 72266.0}, {\"week\": 47, \"week_ending_date\": \"2020-11-21T00:00:00\", \"year\": \"2020\", \"count\": 70616.0}, {\"week\": 46, \"week_ending_date\": \"2020-11-14T00:00:00\", \"year\": \"2020\", \"count\": 68189.0}, {\"week\": 45, \"week_ending_date\": \"2020-11-07T00:00:00\", \"year\": \"2020\", \"count\": 66990.0}, {\"week\": 44, \"week_ending_date\": \"2020-10-31T00:00:00\", \"year\": \"2020\", \"count\": 62866.0}, {\"week\": 43, \"week_ending_date\": \"2020-10-24T00:00:00\", \"year\": \"2020\", \"count\": 61647.0}, {\"week\": 42, \"week_ending_date\": \"2020-10-17T00:00:00\", \"year\": \"2020\", \"count\": 60110.0}, {\"week\": 41, \"week_ending_date\": \"2020-10-10T00:00:00\", \"year\": \"2020\", \"count\": 61470.0}, {\"week\": 40, \"week_ending_date\": \"2020-10-03T00:00:00\", \"year\": \"2020\", \"count\": 59627.0}, {\"week\": 39, \"week_ending_date\": \"2020-09-26T00:00:00\", \"year\": \"2020\", \"count\": 60531.0}, {\"week\": 38, \"week_ending_date\": \"2020-09-19T00:00:00\", \"year\": \"2020\", \"count\": 59662.0}, {\"week\": 37, \"week_ending_date\": \"2020-09-12T00:00:00\", \"year\": \"2020\", \"count\": 59580.0}, {\"week\": 36, \"week_ending_date\": \"2020-09-05T00:00:00\", \"year\": \"2020\", \"count\": 60175.0}, {\"week\": 35, \"week_ending_date\": \"2020-08-29T00:00:00\", \"year\": \"2020\", \"count\": 61061.0}, {\"week\": 34, \"week_ending_date\": \"2020-08-22T00:00:00\", \"year\": \"2020\", \"count\": 62501.0}, {\"week\": 33, \"week_ending_date\": \"2020-08-15T00:00:00\", \"year\": \"2020\", \"count\": 63592.0}, {\"week\": 32, \"week_ending_date\": \"2020-08-08T00:00:00\", \"year\": \"2020\", \"count\": 63671.0}, {\"week\": 31, \"week_ending_date\": \"2020-08-01T00:00:00\", \"year\": \"2020\", \"count\": 64189.0}, {\"week\": 30, \"week_ending_date\": \"2020-07-25T00:00:00\", \"year\": \"2020\", \"count\": 64201.0}, {\"week\": 29, \"week_ending_date\": \"2020-07-18T00:00:00\", \"year\": \"2020\", \"count\": 63122.0}, {\"week\": 28, \"week_ending_date\": \"2020-07-11T00:00:00\", \"year\": \"2020\", \"count\": 61897.0}, {\"week\": 1, \"week_ending_date\": \"2020-01-04T00:00:00\", \"year\": \"2020\", \"count\": 60168.0}, {\"week\": 51, \"week_ending_date\": \"2020-12-19T00:00:00\", \"year\": \"2020\", \"count\": 80148.0}, {\"week\": 1, \"week_ending_date\": \"2020-01-04T00:00:00\", \"year\": \"Normal\", \"count\": 59317.0}, {\"week\": 50, \"week_ending_date\": \"2020-12-12T00:00:00\", \"year\": \"Normal\", \"count\": 55574.0}, {\"week\": 23, \"week_ending_date\": \"2020-06-06T00:00:00\", \"year\": \"Normal\", \"count\": 50688.0}, {\"week\": 22, \"week_ending_date\": \"2020-05-30T00:00:00\", \"year\": \"Normal\", \"count\": 50376.0}, {\"week\": 21, \"week_ending_date\": \"2020-05-23T00:00:00\", \"year\": \"Normal\", \"count\": 50772.0}, {\"week\": 20, \"week_ending_date\": \"2020-05-16T00:00:00\", \"year\": \"Normal\", \"count\": 50758.0}, {\"week\": 19, \"week_ending_date\": \"2020-05-09T00:00:00\", \"year\": \"Normal\", \"count\": 51621.0}, {\"week\": 18, \"week_ending_date\": \"2020-05-02T00:00:00\", \"year\": \"Normal\", \"count\": 52184.0}, {\"week\": 17, \"week_ending_date\": \"2020-04-25T00:00:00\", \"year\": \"Normal\", \"count\": 52209.0}, {\"week\": 16, \"week_ending_date\": \"2020-04-18T00:00:00\", \"year\": \"Normal\", \"count\": 52724.0}, {\"week\": 15, \"week_ending_date\": \"2020-04-11T00:00:00\", \"year\": \"Normal\", \"count\": 53792.0}, {\"week\": 14, \"week_ending_date\": \"2020-04-04T00:00:00\", \"year\": \"Normal\", \"count\": 54153.0}, {\"week\": 24, \"week_ending_date\": \"2020-06-13T00:00:00\", \"year\": \"Normal\", \"count\": 50295.0}, {\"week\": 13, \"week_ending_date\": \"2020-03-28T00:00:00\", \"year\": \"Normal\", \"count\": 54234.0}, {\"week\": 11, \"week_ending_date\": \"2020-03-14T00:00:00\", \"year\": \"Normal\", \"count\": 55311.0}, {\"week\": 10, \"week_ending_date\": \"2020-03-07T00:00:00\", \"year\": \"Normal\", \"count\": 56210.0}, {\"week\": 9, \"week_ending_date\": \"2020-02-29T00:00:00\", \"year\": \"Normal\", \"count\": 56023.0}, {\"week\": 8, \"week_ending_date\": \"2020-02-22T00:00:00\", \"year\": \"Normal\", \"count\": 56397.0}, {\"week\": 7, \"week_ending_date\": \"2020-02-15T00:00:00\", \"year\": \"Normal\", \"count\": 57172.0}, {\"week\": 6, \"week_ending_date\": \"2020-02-08T00:00:00\", \"year\": \"Normal\", \"count\": 57383.0}, {\"week\": 5, \"week_ending_date\": \"2020-02-01T00:00:00\", \"year\": \"Normal\", \"count\": 57358.0}, {\"week\": 4, \"week_ending_date\": \"2020-01-25T00:00:00\", \"year\": \"Normal\", \"count\": 57655.0}, {\"week\": 3, \"week_ending_date\": \"2020-01-18T00:00:00\", \"year\": \"Normal\", \"count\": 58469.0}, {\"week\": 2, \"week_ending_date\": \"2020-01-11T00:00:00\", \"year\": \"Normal\", \"count\": 59993.0}, {\"week\": 12, \"week_ending_date\": \"2020-03-21T00:00:00\", \"year\": \"Normal\", \"count\": 54937.0}, {\"week\": 51, \"week_ending_date\": \"2020-12-19T00:00:00\", \"year\": \"Normal\", \"count\": 56383.0}, {\"week\": 25, \"week_ending_date\": \"2020-06-20T00:00:00\", \"year\": \"Normal\", \"count\": 50154.0}, {\"week\": 27, \"week_ending_date\": \"2020-07-04T00:00:00\", \"year\": \"Normal\", \"count\": 50197.0}, {\"week\": 49, \"week_ending_date\": \"2020-12-05T00:00:00\", \"year\": \"Normal\", \"count\": 55130.0}, {\"week\": 48, \"week_ending_date\": \"2020-11-28T00:00:00\", \"year\": \"Normal\", \"count\": 54008.0}, {\"week\": 47, \"week_ending_date\": \"2020-11-21T00:00:00\", \"year\": \"Normal\", \"count\": 53760.0}, {\"week\": 46, \"week_ending_date\": \"2020-11-14T00:00:00\", \"year\": \"Normal\", \"count\": 53397.0}, {\"week\": 45, \"week_ending_date\": \"2020-11-07T00:00:00\", \"year\": \"Normal\", \"count\": 52840.0}, {\"week\": 44, \"week_ending_date\": \"2020-10-31T00:00:00\", \"year\": \"Normal\", \"count\": 52258.0}, {\"week\": 43, \"week_ending_date\": \"2020-10-24T00:00:00\", \"year\": \"Normal\", \"count\": 51997.0}, {\"week\": 42, \"week_ending_date\": \"2020-10-17T00:00:00\", \"year\": \"Normal\", \"count\": 51895.0}, {\"week\": 41, \"week_ending_date\": \"2020-10-10T00:00:00\", \"year\": \"Normal\", \"count\": 51367.0}, {\"week\": 40, \"week_ending_date\": \"2020-10-03T00:00:00\", \"year\": \"Normal\", \"count\": 51334.0}, {\"week\": 26, \"week_ending_date\": \"2020-06-27T00:00:00\", \"year\": \"Normal\", \"count\": 50038.0}, {\"week\": 39, \"week_ending_date\": \"2020-09-26T00:00:00\", \"year\": \"Normal\", \"count\": 50458.0}, {\"week\": 37, \"week_ending_date\": \"2020-09-12T00:00:00\", \"year\": \"Normal\", \"count\": 50075.0}, {\"week\": 36, \"week_ending_date\": \"2020-09-05T00:00:00\", \"year\": \"Normal\", \"count\": 49924.0}, {\"week\": 35, \"week_ending_date\": \"2020-08-29T00:00:00\", \"year\": \"Normal\", \"count\": 49617.0}, {\"week\": 34, \"week_ending_date\": \"2020-08-22T00:00:00\", \"year\": \"Normal\", \"count\": 49317.0}, {\"week\": 33, \"week_ending_date\": \"2020-08-15T00:00:00\", \"year\": \"Normal\", \"count\": 49442.0}, {\"week\": 32, \"week_ending_date\": \"2020-08-08T00:00:00\", \"year\": \"Normal\", \"count\": 49683.0}, {\"week\": 31, \"week_ending_date\": \"2020-08-01T00:00:00\", \"year\": \"Normal\", \"count\": 49511.0}, {\"week\": 30, \"week_ending_date\": \"2020-07-25T00:00:00\", \"year\": \"Normal\", \"count\": 49496.0}, {\"week\": 29, \"week_ending_date\": \"2020-07-18T00:00:00\", \"year\": \"Normal\", \"count\": 49610.0}, {\"week\": 28, \"week_ending_date\": \"2020-07-11T00:00:00\", \"year\": \"Normal\", \"count\": 49934.0}, {\"week\": 38, \"week_ending_date\": \"2020-09-19T00:00:00\", \"year\": \"Normal\", \"count\": 50332.0}, {\"week\": 52, \"week_ending_date\": \"2020-12-26T00:00:00\", \"year\": \"Normal\", \"count\": 57016.0}]}}, {\"mode\": \"vega-lite\"});\n",
       "</script>"
      ],
      "text/plain": [
       "alt.Chart(...)"
      ]
     },
     "execution_count": 27,
     "metadata": {},
     "output_type": "execute_result"
    }
   ],
   "source": [
    "domain = ['2020', 'Normal']\n",
    "range_ = ['#82c6df', '#3580b1']\n",
    "\n",
    "chart = alt.Chart(then_now_melt).mark_area(opacity=.5).encode(\n",
    "    x=alt.X('week_ending_date:T', title='',axis=alt.Axis(format='%B', tickCount=10, grid=False)),\n",
    "    y=alt.Y('count', title=' ', stack=None, axis=alt.Axis(tickSize=0,domainOpacity=0,\\\n",
    "                                   tickCount=4,offset=4, gridWidth=.6, gridColor='#dddddd', format=''), \\\n",
    "            scale=alt.Scale(domain=(3000,100000))),\n",
    "    color=alt.Color('year', title=' ', scale=alt.Scale(domain=domain, range=range_))\n",
    ").properties(width=620, height=350,\n",
    "    title='Average weekly deaths in United States vs. deaths in 2020'\n",
    " ).configure_view(strokeOpacity=0).configure_legend(\n",
    "    orient='top',\n",
    "    symbolType='square'\n",
    ")\n",
    "chart"
   ]
  },
  {
   "cell_type": "code",
   "execution_count": 28,
   "metadata": {},
   "outputs": [],
   "source": [
    "chart.save('visualization_usa.png')"
   ]
  }
 ],
 "metadata": {
  "kernelspec": {
   "display_name": "Python 3",
   "language": "python",
   "name": "python3"
  },
  "language_info": {
   "codemirror_mode": {
    "name": "ipython",
    "version": 3
   },
   "file_extension": ".py",
   "mimetype": "text/x-python",
   "name": "python",
   "nbconvert_exporter": "python",
   "pygments_lexer": "ipython3",
   "version": "3.7.4"
  }
 },
 "nbformat": 4,
 "nbformat_minor": 4
}
