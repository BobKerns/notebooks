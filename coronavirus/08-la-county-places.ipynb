{
 "cells": [
  {
   "cell_type": "markdown",
   "metadata": {},
   "source": [
    "# L.A. County places timeseries"
   ]
  },
  {
   "cell_type": "code",
   "execution_count": 1,
   "metadata": {},
   "outputs": [],
   "source": [
    "# !/opt/anaconda3/bin/python -m pip install nb-black"
   ]
  },
  {
   "cell_type": "code",
   "execution_count": 2,
   "metadata": {},
   "outputs": [],
   "source": [
    "%load_ext lab_black"
   ]
  },
  {
   "cell_type": "code",
   "execution_count": 3,
   "metadata": {},
   "outputs": [],
   "source": [
    "import pandas as pd\n",
    "import geopandas as gpd\n",
    "import jenkspy\n",
    "import matplotlib.pyplot as plt"
   ]
  },
  {
   "cell_type": "code",
   "execution_count": 4,
   "metadata": {},
   "outputs": [],
   "source": [
    "%matplotlib inline\n",
    "import json\n",
    "import numpy as np\n",
    "import altair as alt\n",
    "import altair_latimes as lat"
   ]
  },
  {
   "cell_type": "code",
   "execution_count": 5,
   "metadata": {},
   "outputs": [],
   "source": [
    "import requests\n",
    "from bs4 import BeautifulSoup\n",
    "import re\n",
    "import unicodedata\n",
    "from datetime import datetime, date"
   ]
  },
  {
   "cell_type": "code",
   "execution_count": 6,
   "metadata": {},
   "outputs": [
    {
     "data": {
      "text/plain": [
       "DataTransformerRegistry.enable('default')"
      ]
     },
     "execution_count": 6,
     "metadata": {},
     "output_type": "execute_result"
    }
   ],
   "source": [
    "alt.themes.register(\"latimes\", lat.theme)\n",
    "alt.themes.enable(\"latimes\")\n",
    "pd.options.display.max_columns = 50\n",
    "pd.options.display.max_rows = 1000\n",
    "alt.data_transformers.disable_max_rows()"
   ]
  },
  {
   "cell_type": "markdown",
   "metadata": {},
   "source": [
    "---"
   ]
  },
  {
   "cell_type": "code",
   "execution_count": 7,
   "metadata": {},
   "outputs": [],
   "source": [
    "surge_begin = \"2020-11-15\"\n",
    "surge_end = \"2021-01-15\""
   ]
  },
  {
   "cell_type": "markdown",
   "metadata": {},
   "source": [
    "### Counties"
   ]
  },
  {
   "cell_type": "code",
   "execution_count": 8,
   "metadata": {},
   "outputs": [],
   "source": [
    "counties = pd.read_csv(\n",
    "    \"../../coronavirus-tracker/_notebooks/data/processed/agency-survey/counties-timeseries.csv\",\n",
    "    low_memory=False,\n",
    ")"
   ]
  },
  {
   "cell_type": "code",
   "execution_count": 9,
   "metadata": {},
   "outputs": [],
   "source": [
    "la = counties[\n",
    "    (counties[\"county\"] == \"Los Angeles\")\n",
    "    & ((counties[\"date\"] >= surge_begin) & (counties[\"date\"] <= surge_end))\n",
    "]"
   ]
  },
  {
   "cell_type": "code",
   "execution_count": 10,
   "metadata": {},
   "outputs": [
    {
     "data": {
      "text/html": [
       "<div>\n",
       "<style scoped>\n",
       "    .dataframe tbody tr th:only-of-type {\n",
       "        vertical-align: middle;\n",
       "    }\n",
       "\n",
       "    .dataframe tbody tr th {\n",
       "        vertical-align: top;\n",
       "    }\n",
       "\n",
       "    .dataframe thead th {\n",
       "        text-align: right;\n",
       "    }\n",
       "</style>\n",
       "<table border=\"1\" class=\"dataframe\">\n",
       "  <thead>\n",
       "    <tr style=\"text-align: right;\">\n",
       "      <th></th>\n",
       "      <th>date</th>\n",
       "      <th>county</th>\n",
       "      <th>fips</th>\n",
       "      <th>population</th>\n",
       "      <th>confirmed_cases</th>\n",
       "      <th>deaths</th>\n",
       "      <th>recoveries</th>\n",
       "      <th>confirmed_cases_per_100k</th>\n",
       "      <th>deaths_per_100k</th>\n",
       "      <th>new_confirmed_cases</th>\n",
       "      <th>new_deaths</th>\n",
       "      <th>new_recoveries</th>\n",
       "      <th>agencies_count</th>\n",
       "      <th>agencies_updated</th>\n",
       "      <th>updated</th>\n",
       "      <th>in_progress</th>\n",
       "    </tr>\n",
       "  </thead>\n",
       "  <tbody>\n",
       "    <tr>\n",
       "      <th>7278</th>\n",
       "      <td>2020-11-15</td>\n",
       "      <td>Los Angeles</td>\n",
       "      <td>37</td>\n",
       "      <td>10098052</td>\n",
       "      <td>339570.0</td>\n",
       "      <td>7269.0</td>\n",
       "      <td>13116.0</td>\n",
       "      <td>3362.727782</td>\n",
       "      <td>71.984181</td>\n",
       "      <td>2899.0</td>\n",
       "      <td>2.0</td>\n",
       "      <td>0.0</td>\n",
       "      <td>3.0</td>\n",
       "      <td>2.0</td>\n",
       "      <td>True</td>\n",
       "      <td>False</td>\n",
       "    </tr>\n",
       "    <tr>\n",
       "      <th>7279</th>\n",
       "      <td>2020-11-16</td>\n",
       "      <td>Los Angeles</td>\n",
       "      <td>37</td>\n",
       "      <td>10098052</td>\n",
       "      <td>342489.0</td>\n",
       "      <td>7275.0</td>\n",
       "      <td>13187.0</td>\n",
       "      <td>3391.634347</td>\n",
       "      <td>72.043598</td>\n",
       "      <td>2919.0</td>\n",
       "      <td>6.0</td>\n",
       "      <td>71.0</td>\n",
       "      <td>3.0</td>\n",
       "      <td>3.0</td>\n",
       "      <td>True</td>\n",
       "      <td>False</td>\n",
       "    </tr>\n",
       "    <tr>\n",
       "      <th>7280</th>\n",
       "      <td>2020-11-17</td>\n",
       "      <td>Los Angeles</td>\n",
       "      <td>37</td>\n",
       "      <td>10098052</td>\n",
       "      <td>344741.0</td>\n",
       "      <td>7300.0</td>\n",
       "      <td>13244.0</td>\n",
       "      <td>3413.935678</td>\n",
       "      <td>72.291171</td>\n",
       "      <td>2252.0</td>\n",
       "      <td>25.0</td>\n",
       "      <td>57.0</td>\n",
       "      <td>3.0</td>\n",
       "      <td>3.0</td>\n",
       "      <td>True</td>\n",
       "      <td>False</td>\n",
       "    </tr>\n",
       "    <tr>\n",
       "      <th>7281</th>\n",
       "      <td>2020-11-18</td>\n",
       "      <td>Los Angeles</td>\n",
       "      <td>37</td>\n",
       "      <td>10098052</td>\n",
       "      <td>348536.0</td>\n",
       "      <td>7337.0</td>\n",
       "      <td>13348.0</td>\n",
       "      <td>3451.517184</td>\n",
       "      <td>72.657578</td>\n",
       "      <td>3795.0</td>\n",
       "      <td>37.0</td>\n",
       "      <td>104.0</td>\n",
       "      <td>3.0</td>\n",
       "      <td>3.0</td>\n",
       "      <td>True</td>\n",
       "      <td>False</td>\n",
       "    </tr>\n",
       "    <tr>\n",
       "      <th>7282</th>\n",
       "      <td>2020-11-19</td>\n",
       "      <td>Los Angeles</td>\n",
       "      <td>37</td>\n",
       "      <td>10098052</td>\n",
       "      <td>353479.0</td>\n",
       "      <td>7365.0</td>\n",
       "      <td>13435.0</td>\n",
       "      <td>3500.467219</td>\n",
       "      <td>72.934859</td>\n",
       "      <td>4943.0</td>\n",
       "      <td>28.0</td>\n",
       "      <td>87.0</td>\n",
       "      <td>3.0</td>\n",
       "      <td>3.0</td>\n",
       "      <td>True</td>\n",
       "      <td>False</td>\n",
       "    </tr>\n",
       "  </tbody>\n",
       "</table>\n",
       "</div>"
      ],
      "text/plain": [
       "            date       county  fips  population  confirmed_cases  deaths  \\\n",
       "7278  2020-11-15  Los Angeles    37    10098052         339570.0  7269.0   \n",
       "7279  2020-11-16  Los Angeles    37    10098052         342489.0  7275.0   \n",
       "7280  2020-11-17  Los Angeles    37    10098052         344741.0  7300.0   \n",
       "7281  2020-11-18  Los Angeles    37    10098052         348536.0  7337.0   \n",
       "7282  2020-11-19  Los Angeles    37    10098052         353479.0  7365.0   \n",
       "\n",
       "      recoveries  confirmed_cases_per_100k  deaths_per_100k  \\\n",
       "7278     13116.0               3362.727782        71.984181   \n",
       "7279     13187.0               3391.634347        72.043598   \n",
       "7280     13244.0               3413.935678        72.291171   \n",
       "7281     13348.0               3451.517184        72.657578   \n",
       "7282     13435.0               3500.467219        72.934859   \n",
       "\n",
       "      new_confirmed_cases  new_deaths  new_recoveries  agencies_count  \\\n",
       "7278               2899.0         2.0             0.0             3.0   \n",
       "7279               2919.0         6.0            71.0             3.0   \n",
       "7280               2252.0        25.0            57.0             3.0   \n",
       "7281               3795.0        37.0           104.0             3.0   \n",
       "7282               4943.0        28.0            87.0             3.0   \n",
       "\n",
       "      agencies_updated  updated  in_progress  \n",
       "7278               2.0     True        False  \n",
       "7279               3.0     True        False  \n",
       "7280               3.0     True        False  \n",
       "7281               3.0     True        False  \n",
       "7282               3.0     True        False  "
      ]
     },
     "execution_count": 10,
     "metadata": {},
     "output_type": "execute_result"
    }
   ],
   "source": [
    "la.head()"
   ]
  },
  {
   "cell_type": "markdown",
   "metadata": {},
   "source": [
    "### Regions"
   ]
  },
  {
   "cell_type": "code",
   "execution_count": 11,
   "metadata": {},
   "outputs": [],
   "source": [
    "regions = pd.read_csv(\n",
    "    \"../../coronavirus-tracker/_notebooks/data/processed/agency-survey/regions-cases-timeseries.csv\",\n",
    "    low_memory=False,\n",
    ")"
   ]
  },
  {
   "cell_type": "code",
   "execution_count": 12,
   "metadata": {},
   "outputs": [],
   "source": [
    "socal = regions[\n",
    "    (regions[\"region\"] == \"Southern California\")\n",
    "    & ((regions[\"date\"] >= surge_begin) & (regions[\"date\"] <= surge_end))\n",
    "]"
   ]
  },
  {
   "cell_type": "code",
   "execution_count": 13,
   "metadata": {},
   "outputs": [
    {
     "data": {
      "text/html": [
       "<div>\n",
       "<style scoped>\n",
       "    .dataframe tbody tr th:only-of-type {\n",
       "        vertical-align: middle;\n",
       "    }\n",
       "\n",
       "    .dataframe tbody tr th {\n",
       "        vertical-align: top;\n",
       "    }\n",
       "\n",
       "    .dataframe thead th {\n",
       "        text-align: right;\n",
       "    }\n",
       "</style>\n",
       "<table border=\"1\" class=\"dataframe\">\n",
       "  <thead>\n",
       "    <tr style=\"text-align: right;\">\n",
       "      <th></th>\n",
       "      <th>date</th>\n",
       "      <th>new_confirmed_cases_seven_day_per_100k</th>\n",
       "    </tr>\n",
       "  </thead>\n",
       "  <tbody>\n",
       "    <tr>\n",
       "      <th>1898</th>\n",
       "      <td>2021-01-10</td>\n",
       "      <td>1001.84761</td>\n",
       "    </tr>\n",
       "  </tbody>\n",
       "</table>\n",
       "</div>"
      ],
      "text/plain": [
       "            date  new_confirmed_cases_seven_day_per_100k\n",
       "1898  2021-01-10                              1001.84761"
      ]
     },
     "execution_count": 13,
     "metadata": {},
     "output_type": "execute_result"
    }
   ],
   "source": [
    "socal[\n",
    "    socal[\"new_confirmed_cases_seven_day_per_100k\"]\n",
    "    == socal[\"new_confirmed_cases_seven_day_per_100k\"].max()\n",
    "][[\"date\", \"new_confirmed_cases_seven_day_per_100k\"]]"
   ]
  },
  {
   "cell_type": "code",
   "execution_count": 14,
   "metadata": {},
   "outputs": [
    {
     "data": {
      "text/html": [
       "\n",
       "<div id=\"altair-viz-35af72f8a902498490e29f149a91f27b\"></div>\n",
       "<script type=\"text/javascript\">\n",
       "  (function(spec, embedOpt){\n",
       "    const outputDiv = document.getElementById(\"altair-viz-35af72f8a902498490e29f149a91f27b\");\n",
       "    const paths = {\n",
       "      \"vega\": \"https://cdn.jsdelivr.net/npm//vega@5?noext\",\n",
       "      \"vega-lib\": \"https://cdn.jsdelivr.net/npm//vega-lib?noext\",\n",
       "      \"vega-lite\": \"https://cdn.jsdelivr.net/npm//vega-lite@4.0.2?noext\",\n",
       "      \"vega-embed\": \"https://cdn.jsdelivr.net/npm//vega-embed@6?noext\",\n",
       "    };\n",
       "\n",
       "    function loadScript(lib) {\n",
       "      return new Promise(function(resolve, reject) {\n",
       "        var s = document.createElement('script');\n",
       "        s.src = paths[lib];\n",
       "        s.async = true;\n",
       "        s.onload = () => resolve(paths[lib]);\n",
       "        s.onerror = () => reject(`Error loading script: ${paths[lib]}`);\n",
       "        document.getElementsByTagName(\"head\")[0].appendChild(s);\n",
       "      });\n",
       "    }\n",
       "\n",
       "    function showError(err) {\n",
       "      outputDiv.innerHTML = `<div class=\"error\" style=\"color:red;\">${err}</div>`;\n",
       "      throw err;\n",
       "    }\n",
       "\n",
       "    function displayChart(vegaEmbed) {\n",
       "      vegaEmbed(outputDiv, spec, embedOpt)\n",
       "        .catch(err => showError(`Javascript Error: ${err.message}<br>This usually means there's a typo in your chart specification. See the javascript console for the full traceback.`));\n",
       "    }\n",
       "\n",
       "    if(typeof define === \"function\" && define.amd) {\n",
       "      requirejs.config({paths});\n",
       "      require([\"vega-embed\"], displayChart, err => showError(`Error loading script: ${err.message}`));\n",
       "    } else if (typeof vegaEmbed === \"function\") {\n",
       "      displayChart(vegaEmbed);\n",
       "    } else {\n",
       "      loadScript(\"vega\")\n",
       "        .then(() => loadScript(\"vega-lite\"))\n",
       "        .then(() => loadScript(\"vega-embed\"))\n",
       "        .catch(showError)\n",
       "        .then(() => displayChart(vegaEmbed));\n",
       "    }\n",
       "  })({\"config\": {\"view\": {\"width\": 800, \"height\": 450}, \"background\": \"#ffffff\", \"title\": {\"anchor\": \"start\", \"font\": \"Benton Gothic Bold, sans\", \"fontColor\": \"#000000\", \"fontSize\": 22, \"fontWeight\": \"normal\"}, \"arc\": {\"fill\": \"#82c6df\"}, \"area\": {\"fill\": \"#82c6df\"}, \"line\": {\"stroke\": \"#82c6df\", \"strokeWidth\": 3}, \"path\": {\"stroke\": \"#82c6df\"}, \"rect\": {\"fill\": \"#82c6df\"}, \"shape\": {\"stroke\": \"#82c6df\"}, \"bar\": {\"fill\": \"#82c6df\"}, \"point\": {\"stroke\": \"#82c6df\"}, \"symbol\": {\"fill\": \"#82c6df\", \"size\": 30}, \"axis\": {\"titleFont\": \"Benton Gothic Bold, sans\", \"titleFontSize\": 13, \"titleFontWeight\": \"normal\", \"labelFont\": \"Benton Gothic, sans\", \"labelFontSize\": 11.5, \"labelFontWeight\": \"normal\"}, \"axisX\": {\"labelAngle\": 0, \"labelPadding\": 4, \"tickSize\": 3}, \"axisY\": {\"labelBaseline\": \"middle\", \"maxExtent\": 45, \"minExtent\": 45, \"tickSize\": 2, \"titleAlign\": \"left\", \"titleAngle\": 0, \"titleX\": -45, \"titleY\": -11}, \"legend\": {\"titleFont\": \"Benton Gothic Bold, sans\", \"titleFontSize\": 13, \"titleFontWeight\": \"normal\", \"symbolType\": \"square\", \"labelFont\": \"Benton Gothic, sans\", \"labelFontSize\": 11.5}, \"range\": {\"category\": [\"#3580b1\", \"#ec8431\", \"#ab7fb4\", \"#c89d29\", \"#adc839\", \"#829eb1\"], \"diverging\": [\"#e68a4f\", \"#f4bb6a\", \"#f9e39c\", \"#dadfe2\", \"#a6b7c6\", \"#849eae\"], \"heatmap\": [\"#fbf2c7\", \"#f9e39c\", \"#f8d36e\", \"#f4bb6a\", \"#e68a4f\", \"#d15a40\", \"#ab4232\"], \"ordinal\": [\"#fbf2c7\", \"#f9e39c\", \"#f8d36e\", \"#f4bb6a\", \"#e68a4f\", \"#d15a40\", \"#ab4232\"], \"ramp\": [\"#fbf2c7\", \"#f9e39c\", \"#f8d36e\", \"#f4bb6a\", \"#e68a4f\", \"#d15a40\", \"#ab4232\"]}}, \"data\": {\"name\": \"data-eaf10e7f2153c25e43e18b823a73955c\"}, \"mark\": \"line\", \"encoding\": {\"x\": {\"type\": \"temporal\", \"axis\": {\"format\": \"%b. %-d\", \"grid\": false, \"tickColor\": \"#ffffff\", \"tickCount\": 2}, \"field\": \"date\"}, \"y\": {\"type\": \"quantitative\", \"axis\": {\"tickColor\": \"#ffffff\"}, \"field\": \"new_confirmed_cases_seven_day_per_100k\", \"title\": \"\"}}, \"height\": 300, \"width\": 500, \"$schema\": \"https://vega.github.io/schema/vega-lite/v4.0.2.json\", \"datasets\": {\"data-eaf10e7f2153c25e43e18b823a73955c\": [{\"date\": \"2020-11-15\", \"region\": \"Southern California\", \"confirmed_cases\": 663982.0, \"confirmed_cases_per_100k\": 2903.345785701212, \"new_confirmed_cases\": 4880.0, \"new_confirmed_cases_seven_day_total\": 36068.0, \"deaths\": 12887.0, \"deaths_per_100k\": 56.350047351180464, \"new_deaths\": 4.0, \"new_deaths_seven_day_total\": 178.0, \"new_confirmed_cases_seven_day_average\": 5152.571428571428, \"new_deaths_seven_day_average\": 25.42857142857143, \"population\": 22869546, \"new_confirmed_cases_per_100k\": 21.33842097258949, \"new_deaths_per_100k\": 0.017490508993925808, \"new_confirmed_cases_seven_day_per_100k\": 157.71191959822903, \"new_deaths_seven_day_per_100k\": 0.7783276502296985, \"new_confirmed_cases_seven_day_average_per_100k\": 22.53027422831843, \"new_deaths_seven_day_average_per_100k\": 0.11118966431852836, \"new_confirmed_cases_seven_day_average_per_100k_percent_change\": 0.8314207372803899, \"new_deaths_seven_day_average_per_100k_percent_change\": -0.09183673469387754}, {\"date\": \"2020-11-16\", \"region\": \"Southern California\", \"confirmed_cases\": 671652.0, \"confirmed_cases_per_100k\": 2936.883836697064, \"new_confirmed_cases\": 7670.0, \"new_confirmed_cases_seven_day_total\": 39650.0, \"deaths\": 12908.0, \"deaths_per_100k\": 56.44187252339859, \"new_deaths\": 21.0, \"new_deaths_seven_day_total\": 187.0, \"new_confirmed_cases_seven_day_average\": 5664.285714285716, \"new_deaths_seven_day_average\": 26.714285714285715, \"population\": 22869546, \"new_confirmed_cases_per_100k\": 33.538050995852736, \"new_deaths_per_100k\": 0.09182517221811047, \"new_confirmed_cases_seven_day_per_100k\": 173.37467040228958, \"new_deaths_seven_day_per_100k\": 0.8176812954660315, \"new_confirmed_cases_seven_day_average_per_100k\": 24.767810057469944, \"new_deaths_seven_day_average_per_100k\": 0.1168116136380045, \"new_confirmed_cases_seven_day_average_per_100k_percent_change\": 0.9740117494772482, \"new_deaths_seven_day_average_per_100k_percent_change\": 0.04469273743016755}, {\"date\": \"2020-11-17\", \"region\": \"Southern California\", \"confirmed_cases\": 678067.0, \"confirmed_cases_per_100k\": 2964.934240496073, \"new_confirmed_cases\": 6415.0, \"new_confirmed_cases_seven_day_total\": 40477.0, \"deaths\": 12940.0, \"deaths_per_100k\": 56.58179659534999, \"new_deaths\": 32.0, \"new_deaths_seven_day_total\": 170.0, \"new_confirmed_cases_seven_day_average\": 5782.428571428572, \"new_deaths_seven_day_average\": 24.285714285714285, \"population\": 22869546, \"new_confirmed_cases_per_100k\": 28.050403799008517, \"new_deaths_per_100k\": 0.13992407195140644, \"new_confirmed_cases_seven_day_per_100k\": 176.99083313678375, \"new_deaths_seven_day_per_100k\": 0.7433466322418468, \"new_confirmed_cases_seven_day_average_per_100k\": 25.28440473382625, \"new_deaths_seven_day_average_per_100k\": 0.10619237603454952, \"new_confirmed_cases_seven_day_average_per_100k_percent_change\": 0.9992591129111928, \"new_deaths_seven_day_average_per_100k_percent_change\": 0.06918238993710668}, {\"date\": \"2020-11-18\", \"region\": \"Southern California\", \"confirmed_cases\": 686601.0, \"confirmed_cases_per_100k\": 3002.2502414346136, \"new_confirmed_cases\": 8534.0, \"new_confirmed_cases_seven_day_total\": 45924.0, \"deaths\": 13022.0, \"deaths_per_100k\": 56.94035202972547, \"new_deaths\": 82.0, \"new_deaths_seven_day_total\": 234.0, \"new_confirmed_cases_seven_day_average\": 6560.571428571428, \"new_deaths_seven_day_average\": 33.42857142857143, \"population\": 22869546, \"new_confirmed_cases_per_100k\": 37.31600093854072, \"new_deaths_per_100k\": 0.3585554343754791, \"new_confirmed_cases_seven_day_per_100k\": 200.8085337592622, \"new_deaths_seven_day_per_100k\": 1.0231947761446598, \"new_confirmed_cases_seven_day_average_per_100k\": 28.686933394180322, \"new_deaths_seven_day_average_per_100k\": 0.14617068230637995, \"new_confirmed_cases_seven_day_average_per_100k_percent_change\": 1.187690548780488, \"new_deaths_seven_day_average_per_100k_percent_change\": 0.3846153846153848}, {\"date\": \"2020-11-19\", \"region\": \"Southern California\", \"confirmed_cases\": 695936.0, \"confirmed_cases_per_100k\": 3043.068716799188, \"new_confirmed_cases\": 9335.0, \"new_confirmed_cases_seven_day_total\": 48646.0, \"deaths\": 13088.0, \"deaths_per_100k\": 57.22894542812525, \"new_deaths\": 66.0, \"new_deaths_seven_day_total\": 282.0, \"new_confirmed_cases_seven_day_average\": 6949.428571428572, \"new_deaths_seven_day_average\": 40.285714285714285, \"population\": 22869546, \"new_confirmed_cases_per_100k\": 40.818475364574354, \"new_deaths_per_100k\": 0.2885933983997759, \"new_confirmed_cases_seven_day_per_100k\": 212.71082512962872, \"new_deaths_seven_day_per_100k\": 1.2330808840717695, \"new_confirmed_cases_seven_day_average_per_100k\": 30.38726073280411, \"new_deaths_seven_day_average_per_100k\": 0.17615441201025278, \"new_confirmed_cases_seven_day_average_per_100k_percent_change\": 1.1889933852315169, \"new_deaths_seven_day_average_per_100k_percent_change\": 0.4461538461538461}, {\"date\": \"2020-11-20\", \"region\": \"Southern California\", \"confirmed_cases\": 704488.0, \"confirmed_cases_per_100k\": 3080.463425028201, \"new_confirmed_cases\": 8552.0, \"new_confirmed_cases_seven_day_total\": 51258.0, \"deaths\": 13136.0, \"deaths_per_100k\": 57.43883153605235, \"new_deaths\": 48.0, \"new_deaths_seven_day_total\": 281.0, \"new_confirmed_cases_seven_day_average\": 7322.571428571428, \"new_deaths_seven_day_average\": 40.142857142857146, \"population\": 22869546, \"new_confirmed_cases_per_100k\": 37.394708229013375, \"new_deaths_per_100k\": 0.2098861079271097, \"new_confirmed_cases_seven_day_per_100k\": 224.13212750266223, \"new_deaths_seven_day_per_100k\": 1.228708256823288, \"new_confirmed_cases_seven_day_average_per_100k\": 32.01887535752318, \"new_deaths_seven_day_average_per_100k\": 0.17552975097475546, \"new_confirmed_cases_seven_day_average_per_100k_percent_change\": 1.1836073954162052, \"new_deaths_seven_day_average_per_100k_percent_change\": 0.4789473684210528}, {\"date\": \"2020-11-21\", \"region\": \"Southern California\", \"confirmed_cases\": 714032.0, \"confirmed_cases_per_100k\": 3122.195779487708, \"new_confirmed_cases\": 9544.0, \"new_confirmed_cases_seven_day_total\": 54930.0, \"deaths\": 13187.0, \"deaths_per_100k\": 57.6618355257249, \"new_deaths\": 51.0, \"new_deaths_seven_day_total\": 304.0, \"new_confirmed_cases_seven_day_average\": 7847.142857142857, \"new_deaths_seven_day_average\": 43.42857142857143, \"population\": 22869546, \"new_confirmed_cases_per_100k\": 41.73235445950697, \"new_deaths_per_100k\": 0.22300398967255405, \"new_confirmed_cases_seven_day_per_100k\": 240.18841475908616, \"new_deaths_seven_day_per_100k\": 1.3292786835383614, \"new_confirmed_cases_seven_day_average_per_100k\": 34.31263067986945, \"new_deaths_seven_day_average_per_100k\": 0.1898969547911945, \"new_confirmed_cases_seven_day_average_per_100k_percent_change\": 1.2206500646830527, \"new_deaths_seven_day_average_per_100k_percent_change\": 0.7078651685393259}, {\"date\": \"2020-11-22\", \"region\": \"Southern California\", \"confirmed_cases\": 718412.0, \"confirmed_cases_per_100k\": 3141.347886836057, \"new_confirmed_cases\": 4380.0, \"new_confirmed_cases_seven_day_total\": 54430.0, \"deaths\": 13203.0, \"deaths_per_100k\": 57.731797561700624, \"new_deaths\": 16.0, \"new_deaths_seven_day_total\": 316.0, \"new_confirmed_cases_seven_day_average\": 7775.714285714284, \"new_deaths_seven_day_average\": 45.14285714285714, \"population\": 22869546, \"new_confirmed_cases_per_100k\": 19.15210734834876, \"new_deaths_per_100k\": 0.06996203597570322, \"new_confirmed_cases_seven_day_per_100k\": 238.00210113484542, \"new_deaths_seven_day_per_100k\": 1.3817502105201391, \"new_confirmed_cases_seven_day_average_per_100k\": 34.00030016212077, \"new_deaths_seven_day_average_per_100k\": 0.1973928872171627, \"new_confirmed_cases_seven_day_average_per_100k_percent_change\": 1.1022749217874934, \"new_deaths_seven_day_average_per_100k_percent_change\": 0.7267759562841529}, {\"date\": \"2020-11-23\", \"region\": \"Southern California\", \"confirmed_cases\": 730861.0, \"confirmed_cases_per_100k\": 3195.7827234524025, \"new_confirmed_cases\": 12449.0, \"new_confirmed_cases_seven_day_total\": 59209.0, \"deaths\": 13237.0, \"deaths_per_100k\": 57.88046688814897, \"new_deaths\": 34.0, \"new_deaths_seven_day_total\": 329.0, \"new_confirmed_cases_seven_day_average\": 8458.42857142857, \"new_deaths_seven_day_average\": 47.0, \"population\": 22869546, \"new_confirmed_cases_per_100k\": 54.4348366163456, \"new_deaths_per_100k\": 0.14866932644836936, \"new_confirmed_cases_seven_day_per_100k\": 258.8988867553383, \"new_deaths_seven_day_per_100k\": 1.4385943647503978, \"new_confirmed_cases_seven_day_average_per_100k\": 36.98555525076261, \"new_deaths_seven_day_average_per_100k\": 0.20551348067862826, \"new_confirmed_cases_seven_day_average_per_100k_percent_change\": 1.2238122065727697, \"new_deaths_seven_day_average_per_100k_percent_change\": 0.7688172043010753}, {\"date\": \"2020-11-24\", \"region\": \"Southern California\", \"confirmed_cases\": 741042.0, \"confirmed_cases_per_100k\": 3240.300441469193, \"new_confirmed_cases\": 10181.0, \"new_confirmed_cases_seven_day_total\": 62975.0, \"deaths\": 13306.0, \"deaths_per_100k\": 58.18217816829421, \"new_deaths\": 69.0, \"new_deaths_seven_day_total\": 366.0, \"new_confirmed_cases_seven_day_average\": 8996.42857142857, \"new_deaths_seven_day_average\": 52.28571428571429, \"population\": 22869546, \"new_confirmed_cases_per_100k\": 44.51771801678967, \"new_deaths_per_100k\": 0.3017112801452202, \"new_confirmed_cases_seven_day_per_100k\": 275.36620097311953, \"new_deaths_seven_day_per_100k\": 1.6003815729442117, \"new_confirmed_cases_seven_day_average_per_100k\": 39.338028710445634, \"new_deaths_seven_day_average_per_100k\": 0.2286259389920302, \"new_confirmed_cases_seven_day_average_per_100k_percent_change\": 1.1675902660654662, \"new_deaths_seven_day_average_per_100k_percent_change\": 0.8208955223880596}, {\"date\": \"2020-11-25\", \"region\": \"Southern California\", \"confirmed_cases\": 749308.0, \"confirmed_cases_per_100k\": 3276.4445783051397, \"new_confirmed_cases\": 8266.0, \"new_confirmed_cases_seven_day_total\": 62707.0, \"deaths\": 13373.0, \"deaths_per_100k\": 58.47514419394246, \"new_deaths\": 67.0, \"new_deaths_seven_day_total\": 351.0, \"new_confirmed_cases_seven_day_average\": 8958.142857142857, \"new_deaths_seven_day_average\": 50.14285714285714, \"population\": 22869546, \"new_confirmed_cases_per_100k\": 36.144136835947684, \"new_deaths_per_100k\": 0.2929660256482573, \"new_confirmed_cases_seven_day_per_100k\": 274.19433687052646, \"new_deaths_seven_day_per_100k\": 1.5347921642169895, \"new_confirmed_cases_seven_day_average_per_100k\": 39.17061955293234, \"new_deaths_seven_day_average_per_100k\": 0.21925602345957, \"new_confirmed_cases_seven_day_average_per_100k_percent_change\": 1.203880082943802, \"new_deaths_seven_day_average_per_100k_percent_change\": 1.0289017341040465}, {\"date\": \"2020-11-26\", \"region\": \"Southern California\", \"confirmed_cases\": 754225.0, \"confirmed_cases_per_100k\": 3297.9447864859235, \"new_confirmed_cases\": 4917.0, \"new_confirmed_cases_seven_day_total\": 58289.0, \"deaths\": 13410.0, \"deaths_per_100k\": 58.63693140213628, \"new_deaths\": 37.0, \"new_deaths_seven_day_total\": 322.0, \"new_confirmed_cases_seven_day_average\": 8327.0, \"new_deaths_seven_day_average\": 46.0, \"population\": 22869546, \"new_confirmed_cases_per_100k\": 21.5002081807833, \"new_deaths_per_100k\": 0.16178720819381373, \"new_confirmed_cases_seven_day_per_100k\": 254.8760696867353, \"new_deaths_seven_day_per_100k\": 1.4079859740110277, \"new_confirmed_cases_seven_day_average_per_100k\": 36.41086709810505, \"new_deaths_seven_day_average_per_100k\": 0.2011408534301468, \"new_confirmed_cases_seven_day_average_per_100k_percent_change\": 0.8858261347827494, \"new_deaths_seven_day_average_per_100k_percent_change\": 1.0641025641025643}, {\"date\": \"2020-11-27\", \"region\": \"Southern California\", \"confirmed_cases\": 765980.0, \"confirmed_cases_per_100k\": 3349.3450197918223, \"new_confirmed_cases\": 11755.0, \"new_confirmed_cases_seven_day_total\": 61492.0, \"deaths\": 13464.0, \"deaths_per_100k\": 58.87305327355428, \"new_deaths\": 54.0, \"new_deaths_seven_day_total\": 328.0, \"new_confirmed_cases_seven_day_average\": 8784.57142857143, \"new_deaths_seven_day_average\": 46.85714285714285, \"population\": 22869546, \"new_confirmed_cases_per_100k\": 51.40023330589947, \"new_deaths_per_100k\": 0.2361218714179984, \"new_confirmed_cases_seven_day_per_100k\": 268.8815947636215, \"new_deaths_seven_day_per_100k\": 1.4342217375019164, \"new_confirmed_cases_seven_day_average_per_100k\": 38.411656394803074, \"new_deaths_seven_day_average_per_100k\": 0.20488881964313088, \"new_confirmed_cases_seven_day_average_per_100k_percent_change\": 0.8819280795715376, \"new_deaths_seven_day_average_per_100k_percent_change\": 0.91812865497076}, {\"date\": \"2020-11-28\", \"region\": \"Southern California\", \"confirmed_cases\": 774881.0, \"confirmed_cases_per_100k\": 3388.265774930556, \"new_confirmed_cases\": 8901.0, \"new_confirmed_cases_seven_day_total\": 60849.0, \"deaths\": 13484.0, \"deaths_per_100k\": 58.960505818523906, \"new_deaths\": 20.0, \"new_deaths_seven_day_total\": 297.0, \"new_confirmed_cases_seven_day_average\": 8692.714285714286, \"new_deaths_seven_day_average\": 42.42857142857143, \"population\": 22869546, \"new_confirmed_cases_per_100k\": 38.920755138733405, \"new_deaths_per_100k\": 0.08745254496962905, \"new_confirmed_cases_seven_day_per_100k\": 266.06999544284787, \"new_deaths_seven_day_per_100k\": 1.2986702927989913, \"new_confirmed_cases_seven_day_average_per_100k\": 38.00999934897827, \"new_deaths_seven_day_average_per_100k\": 0.18552432754271306, \"new_confirmed_cases_seven_day_average_per_100k_percent_change\": 0.7463766036219615, \"new_deaths_seven_day_average_per_100k_percent_change\": 0.6318681318681318}, {\"date\": \"2020-11-29\", \"region\": \"Southern California\", \"confirmed_cases\": 782515.0, \"confirmed_cases_per_100k\": 3421.646411345463, \"new_confirmed_cases\": 7634.0, \"new_confirmed_cases_seven_day_total\": 64103.0, \"deaths\": 13500.0, \"deaths_per_100k\": 59.030467854499605, \"new_deaths\": 16.0, \"new_deaths_seven_day_total\": 297.0, \"new_confirmed_cases_seven_day_average\": 9157.57142857143, \"new_deaths_seven_day_average\": 42.42857142857143, \"population\": 22869546, \"new_confirmed_cases_per_100k\": 33.380636414907414, \"new_deaths_per_100k\": 0.06996203597570322, \"new_confirmed_cases_seven_day_per_100k\": 280.29852450940655, \"new_deaths_seven_day_per_100k\": 1.2986702927989913, \"new_confirmed_cases_seven_day_average_per_100k\": 40.04264635848665, \"new_deaths_seven_day_average_per_100k\": 0.18552432754271306, \"new_confirmed_cases_seven_day_average_per_100k_percent_change\": 0.7772818010424756, \"new_deaths_seven_day_average_per_100k_percent_change\": 0.6685393258426968}, {\"date\": \"2020-11-30\", \"region\": \"Southern California\", \"confirmed_cases\": 795231.0, \"confirmed_cases_per_100k\": 3477.2487394371537, \"new_confirmed_cases\": 12716.0, \"new_confirmed_cases_seven_day_total\": 64370.0, \"deaths\": 13533.0, \"deaths_per_100k\": 59.174764553699504, \"new_deaths\": 33.0, \"new_deaths_seven_day_total\": 296.0, \"new_confirmed_cases_seven_day_average\": 9195.714285714286, \"new_deaths_seven_day_average\": 42.285714285714285, \"population\": 22869546, \"new_confirmed_cases_per_100k\": 55.60232809169015, \"new_deaths_per_100k\": 0.14429669919988794, \"new_confirmed_cases_seven_day_per_100k\": 281.4660159847511, \"new_deaths_seven_day_per_100k\": 1.2942976655505098, \"new_confirmed_cases_seven_day_average_per_100k\": 40.20943085496444, \"new_deaths_seven_day_average_per_100k\": 0.1848996665072157, \"new_confirmed_cases_seven_day_average_per_100k_percent_change\": 0.6234552332912986, \"new_deaths_seven_day_average_per_100k_percent_change\": 0.5828877005347595}, {\"date\": \"2020-12-01\", \"region\": \"Southern California\", \"confirmed_cases\": 806099.0, \"confirmed_cases_per_100k\": 3524.7704523736497, \"new_confirmed_cases\": 10868.0, \"new_confirmed_cases_seven_day_total\": 65057.0, \"deaths\": 13605.0, \"deaths_per_100k\": 59.48959371559015, \"new_deaths\": 72.0, \"new_deaths_seven_day_total\": 299.0, \"new_confirmed_cases_seven_day_average\": 9293.857142857143, \"new_deaths_seven_day_average\": 42.714285714285715, \"population\": 22869546, \"new_confirmed_cases_per_100k\": 47.52171293649642, \"new_deaths_per_100k\": 0.31482916189066457, \"new_confirmed_cases_seven_day_per_100k\": 284.47001090445787, \"new_deaths_seven_day_per_100k\": 1.307415547295954, \"new_confirmed_cases_seven_day_average_per_100k\": 40.63857298635112, \"new_deaths_seven_day_average_per_100k\": 0.18677364961370774, \"new_confirmed_cases_seven_day_average_per_100k_percent_change\": 0.6072584430664327, \"new_deaths_seven_day_average_per_100k_percent_change\": 0.7588235294117649}, {\"date\": \"2020-12-02\", \"region\": \"Southern California\", \"confirmed_cases\": 818693.0, \"confirmed_cases_per_100k\": 3579.839319941025, \"new_confirmed_cases\": 12594.0, \"new_confirmed_cases_seven_day_total\": 69385.0, \"deaths\": 13672.0, \"deaths_per_100k\": 59.78255974123842, \"new_deaths\": 67.0, \"new_deaths_seven_day_total\": 299.0, \"new_confirmed_cases_seven_day_average\": 9912.142857142857, \"new_deaths_seven_day_average\": 42.714285714285715, \"population\": 22869546, \"new_confirmed_cases_per_100k\": 55.0688675673754, \"new_deaths_per_100k\": 0.2929660256482573, \"new_confirmed_cases_seven_day_per_100k\": 303.3947416358856, \"new_deaths_seven_day_per_100k\": 1.307415547295954, \"new_confirmed_cases_seven_day_average_per_100k\": 43.34210594798365, \"new_deaths_seven_day_average_per_100k\": 0.18677364961370774, \"new_confirmed_cases_seven_day_average_per_100k_percent_change\": 0.5108657782423132, \"new_deaths_seven_day_average_per_100k_percent_change\": 0.2777777777777777}, {\"date\": \"2020-12-03\", \"region\": \"Southern California\", \"confirmed_cases\": 833054.0, \"confirmed_cases_per_100k\": 3642.634619856468, \"new_confirmed_cases\": 14361.0, \"new_confirmed_cases_seven_day_total\": 78829.0, \"deaths\": 13764.0, \"deaths_per_100k\": 60.18484144809871, \"new_deaths\": 92.0, \"new_deaths_seven_day_total\": 354.0, \"new_confirmed_cases_seven_day_average\": 11261.285714285714, \"new_deaths_seven_day_average\": 50.57142857142857, \"population\": 22869546, \"new_confirmed_cases_per_100k\": 62.795299915442136, \"new_deaths_per_100k\": 0.4022817068602936, \"new_confirmed_cases_seven_day_per_100k\": 344.68983337054436, \"new_deaths_seven_day_per_100k\": 1.5479100459624342, \"new_confirmed_cases_seven_day_average_per_100k\": 49.24140476722063, \"new_deaths_seven_day_average_per_100k\": 0.221130006566062, \"new_confirmed_cases_seven_day_average_per_100k_percent_change\": 0.6204621140484314, \"new_deaths_seven_day_average_per_100k_percent_change\": 0.2553191489361704}, {\"date\": \"2020-12-04\", \"region\": \"Southern California\", \"confirmed_cases\": 848379.0, \"confirmed_cases_per_100k\": 3709.6451324394457, \"new_confirmed_cases\": 15325.0, \"new_confirmed_cases_seven_day_total\": 82399.0, \"deaths\": 13887.0, \"deaths_per_100k\": 60.72267459966193, \"new_deaths\": 123.0, \"new_deaths_seven_day_total\": 423.0, \"new_confirmed_cases_seven_day_average\": 11771.285714285714, \"new_deaths_seven_day_average\": 60.42857142857143, \"population\": 22869546, \"new_confirmed_cases_per_100k\": 67.01051258297825, \"new_deaths_per_100k\": 0.5378331515632186, \"new_confirmed_cases_seven_day_per_100k\": 360.3001126476232, \"new_deaths_seven_day_per_100k\": 1.8496213261076544, \"new_confirmed_cases_seven_day_average_per_100k\": 51.47144466394617, \"new_deaths_seven_day_average_per_100k\": 0.2642316180153792, \"new_confirmed_cases_seven_day_average_per_100k_percent_change\": 0.6075344336493818, \"new_deaths_seven_day_average_per_100k_percent_change\": 0.5053380782918149}, {\"date\": \"2020-12-05\", \"region\": \"Southern California\", \"confirmed_cases\": 865049.0, \"confirmed_cases_per_100k\": 3782.536828671632, \"new_confirmed_cases\": 16670.0, \"new_confirmed_cases_seven_day_total\": 90168.0, \"deaths\": 13953.0, \"deaths_per_100k\": 61.011267998061705, \"new_deaths\": 66.0, \"new_deaths_seven_day_total\": 469.0, \"new_confirmed_cases_seven_day_average\": 12881.142857142857, \"new_deaths_seven_day_average\": 67.0, \"population\": 22869546, \"new_confirmed_cases_per_100k\": 72.89169623218581, \"new_deaths_per_100k\": 0.2885933983997759, \"new_confirmed_cases_seven_day_per_100k\": 394.2710537410756, \"new_deaths_seven_day_per_100k\": 2.0507621795378013, \"new_confirmed_cases_seven_day_average_per_100k\": 56.32443624872508, \"new_deaths_seven_day_average_per_100k\": 0.2929660256482573, \"new_confirmed_cases_seven_day_average_per_100k_percent_change\": 0.6415073730202074, \"new_deaths_seven_day_average_per_100k_percent_change\": 0.5427631578947367}, {\"date\": \"2020-12-06\", \"region\": \"Southern California\", \"confirmed_cases\": 881569.0, \"confirmed_cases_per_100k\": 3854.772630816545, \"new_confirmed_cases\": 16520.0, \"new_confirmed_cases_seven_day_total\": 99054.0, \"deaths\": 13998.0, \"deaths_per_100k\": 61.208036224243365, \"new_deaths\": 45.0, \"new_deaths_seven_day_total\": 498.0, \"new_confirmed_cases_seven_day_average\": 14150.571428571431, \"new_deaths_seven_day_average\": 71.14285714285714, \"population\": 22869546, \"new_confirmed_cases_per_100k\": 72.23580214491359, \"new_deaths_per_100k\": 0.1967682261816653, \"new_confirmed_cases_seven_day_per_100k\": 433.12621947108175, \"new_deaths_seven_day_per_100k\": 2.177568369743763, \"new_confirmed_cases_seven_day_average_per_100k\": 61.87517421015454, \"new_deaths_seven_day_average_per_100k\": 0.31108119567768044, \"new_confirmed_cases_seven_day_average_per_100k_percent_change\": 0.8198419988976671, \"new_deaths_seven_day_average_per_100k_percent_change\": 0.5759493670886076}, {\"date\": \"2020-12-07\", \"region\": \"Southern California\", \"confirmed_cases\": 901942.0, \"confirmed_cases_per_100k\": 3943.8561657498576, \"new_confirmed_cases\": 20373.0, \"new_confirmed_cases_seven_day_total\": 106711.0, \"deaths\": 14055.0, \"deaths_per_100k\": 61.457275977406816, \"new_deaths\": 57.0, \"new_deaths_seven_day_total\": 522.0, \"new_confirmed_cases_seven_day_average\": 15244.428571428569, \"new_deaths_seven_day_average\": 74.57142857142857, \"population\": 22869546, \"new_confirmed_cases_per_100k\": 89.08353493331262, \"new_deaths_per_100k\": 0.2492397531634428, \"new_confirmed_cases_seven_day_per_100k\": 466.60742631270426, \"new_deaths_seven_day_per_100k\": 2.2825114237073185, \"new_confirmed_cases_seven_day_average_per_100k\": 66.65820375895775, \"new_deaths_seven_day_average_per_100k\": 0.3260730605296168, \"new_confirmed_cases_seven_day_average_per_100k_percent_change\": 0.8022766809099973, \"new_deaths_seven_day_average_per_100k_percent_change\": 0.5866261398176291}, {\"date\": \"2020-12-08\", \"region\": \"Southern California\", \"confirmed_cases\": 926634.0, \"confirmed_cases_per_100k\": 4051.8250777693615, \"new_confirmed_cases\": 24692.0, \"new_confirmed_cases_seven_day_total\": 120535.0, \"deaths\": 14202.0, \"deaths_per_100k\": 62.10005218293358, \"new_deaths\": 147.0, \"new_deaths_seven_day_total\": 597.0, \"new_confirmed_cases_seven_day_average\": 17219.285714285714, \"new_deaths_seven_day_average\": 85.28571428571429, \"population\": 22869546, \"new_confirmed_cases_per_100k\": 107.96891201950402, \"new_deaths_per_100k\": 0.6427762055267735, \"new_confirmed_cases_seven_day_per_100k\": 527.0546253957118, \"new_deaths_seven_day_per_100k\": 2.6104584673434266, \"new_confirmed_cases_seven_day_average_per_100k\": 75.2935179136731, \"new_deaths_seven_day_average_per_100k\": 0.3729226381919182, \"new_confirmed_cases_seven_day_average_per_100k_percent_change\": 0.9140134974196108, \"new_deaths_seven_day_average_per_100k_percent_change\": 0.6311475409836067}, {\"date\": \"2020-12-09\", \"region\": \"Southern California\", \"confirmed_cases\": 947391.0, \"confirmed_cases_per_100k\": 4142.587701566092, \"new_confirmed_cases\": 20757.0, \"new_confirmed_cases_seven_day_total\": 128698.0, \"deaths\": 14327.0, \"deaths_per_100k\": 62.64663058899376, \"new_deaths\": 125.0, \"new_deaths_seven_day_total\": 655.0, \"new_confirmed_cases_seven_day_average\": 18385.428571428565, \"new_deaths_seven_day_average\": 93.57142857142857, \"population\": 22869546, \"new_confirmed_cases_per_100k\": 90.76262379672951, \"new_deaths_per_100k\": 0.5465784060601815, \"new_confirmed_cases_seven_day_per_100k\": 562.7483816250658, \"new_deaths_seven_day_per_100k\": 2.864070847755351, \"new_confirmed_cases_seven_day_average_per_100k\": 80.39262594643799, \"new_deaths_seven_day_average_per_100k\": 0.4091529782507644, \"new_confirmed_cases_seven_day_average_per_100k_percent_change\": 1.0523705487425643, \"new_deaths_seven_day_average_per_100k_percent_change\": 0.866096866096866}, {\"date\": \"2020-12-10\", \"region\": \"Southern California\", \"confirmed_cases\": 972393.0, \"confirmed_cases_per_100k\": 4251.9121280326235, \"new_confirmed_cases\": 25002.0, \"new_confirmed_cases_seven_day_total\": 139339.0, \"deaths\": 14438.0, \"deaths_per_100k\": 63.13199221357521, \"new_deaths\": 111.0, \"new_deaths_seven_day_total\": 674.0, \"new_confirmed_cases_seven_day_average\": 19905.571428571428, \"new_deaths_seven_day_average\": 96.28571428571428, \"population\": 22869546, \"new_confirmed_cases_per_100k\": 109.32442646653324, \"new_deaths_per_100k\": 0.4853616245814412, \"new_confirmed_cases_seven_day_per_100k\": 609.2775081761572, \"new_deaths_seven_day_per_100k\": 2.947150765476499, \"new_confirmed_cases_seven_day_average_per_100k\": 87.03964402516529, \"new_deaths_seven_day_average_per_100k\": 0.4210215379252141, \"new_confirmed_cases_seven_day_average_per_100k_percent_change\": 1.3904853402871895, \"new_deaths_seven_day_average_per_100k_percent_change\": 1.093167701863354}, {\"date\": \"2020-12-11\", \"region\": \"Southern California\", \"confirmed_cases\": 997725.0, \"confirmed_cases_per_100k\": 4362.679521491157, \"new_confirmed_cases\": 25332.0, \"new_confirmed_cases_seven_day_total\": 149346.0, \"deaths\": 14560.0, \"deaths_per_100k\": 63.665452737889936, \"new_deaths\": 122.0, \"new_deaths_seven_day_total\": 673.0, \"new_confirmed_cases_seven_day_average\": 21335.14285714286, \"new_deaths_seven_day_average\": 96.14285714285714, \"population\": 22869546, \"new_confirmed_cases_per_100k\": 110.76739345853214, \"new_deaths_per_100k\": 0.5334605243147371, \"new_confirmed_cases_seven_day_per_100k\": 653.034389051711, \"new_deaths_seven_day_per_100k\": 2.942778138228017, \"new_confirmed_cases_seven_day_average_per_100k\": 93.29062700738727, \"new_deaths_seven_day_average_per_100k\": 0.4203968768897167, \"new_confirmed_cases_seven_day_average_per_100k_percent_change\": 1.4287061731607364, \"new_deaths_seven_day_average_per_100k_percent_change\": 1.0518292682926829}, {\"date\": \"2020-12-12\", \"region\": \"Southern California\", \"confirmed_cases\": 1019007.0, \"confirmed_cases_per_100k\": 4455.737774593339, \"new_confirmed_cases\": 21282.0, \"new_confirmed_cases_seven_day_total\": 153958.0, \"deaths\": 14669.0, \"deaths_per_100k\": 64.14206910797442, \"new_deaths\": 109.0, \"new_deaths_seven_day_total\": 716.0, \"new_confirmed_cases_seven_day_average\": 21994.0, \"new_deaths_seven_day_average\": 102.28571428571428, \"population\": 22869546, \"new_confirmed_cases_per_100k\": 93.05825310218228, \"new_deaths_per_100k\": 0.4766163700844783, \"new_confirmed_cases_seven_day_per_100k\": 673.2009459217072, \"new_deaths_seven_day_per_100k\": 3.13080110991272, \"new_confirmed_cases_seven_day_average_per_100k\": 96.17156370310106, \"new_deaths_seven_day_average_per_100k\": 0.4472573014161029, \"new_confirmed_cases_seven_day_average_per_100k_percent_change\": 1.5301648342618617, \"new_deaths_seven_day_average_per_100k_percent_change\": 1.410774410774411}, {\"date\": \"2020-12-13\", \"region\": \"Southern California\", \"confirmed_cases\": 1039441.0, \"confirmed_cases_per_100k\": 4545.0880397888095, \"new_confirmed_cases\": 20434.0, \"new_confirmed_cases_seven_day_total\": 157872.0, \"deaths\": 14727.0, \"deaths_per_100k\": 64.39568148838634, \"new_deaths\": 58.0, \"new_deaths_seven_day_total\": 729.0, \"new_confirmed_cases_seven_day_average\": 22553.142857142862, \"new_deaths_seven_day_average\": 104.14285714285714, \"population\": 22869546, \"new_confirmed_cases_per_100k\": 89.35026519546999, \"new_deaths_per_100k\": 0.25361238041192424, \"new_confirmed_cases_seven_day_per_100k\": 690.3154089722638, \"new_deaths_seven_day_per_100k\": 3.187645264142979, \"new_confirmed_cases_seven_day_average_per_100k\": 98.61648699603771, \"new_deaths_seven_day_average_per_100k\": 0.4553778948775684, \"new_confirmed_cases_seven_day_average_per_100k_percent_change\": 1.4627864530521195, \"new_deaths_seven_day_average_per_100k_percent_change\": 1.454545454545454}, {\"date\": \"2020-12-14\", \"region\": \"Southern California\", \"confirmed_cases\": 1064682.0, \"confirmed_cases_per_100k\": 4655.4575241677285, \"new_confirmed_cases\": 25241.0, \"new_confirmed_cases_seven_day_total\": 162740.0, \"deaths\": 14810.0, \"deaths_per_100k\": 64.7586095500103, \"new_deaths\": 83.0, \"new_deaths_seven_day_total\": 755.0, \"new_confirmed_cases_seven_day_average\": 23248.571428571428, \"new_deaths_seven_day_average\": 107.85714285714286, \"population\": 22869546, \"new_confirmed_cases_per_100k\": 110.3694843789203, \"new_deaths_per_100k\": 0.3629280616239605, \"new_confirmed_cases_seven_day_per_100k\": 711.6013584178716, \"new_deaths_seven_day_per_100k\": 3.301333572603496, \"new_confirmed_cases_seven_day_average_per_100k\": 101.6573369168388, \"new_deaths_seven_day_average_per_100k\": 0.4716190818004995, \"new_confirmed_cases_seven_day_average_per_100k_percent_change\": 1.5281963647661954, \"new_deaths_seven_day_average_per_100k_percent_change\": 1.5506756756756754}, {\"date\": \"2020-12-15\", \"region\": \"Southern California\", \"confirmed_cases\": 1084190.0, \"confirmed_cases_per_100k\": 4740.758736531106, \"new_confirmed_cases\": 19508.0, \"new_confirmed_cases_seven_day_total\": 157556.0, \"deaths\": 14992.0, \"deaths_per_100k\": 65.55442770923393, \"new_deaths\": 182.0, \"new_deaths_seven_day_total\": 790.0, \"new_confirmed_cases_seven_day_average\": 22508.0, \"new_deaths_seven_day_average\": 112.85714285714286, \"population\": 22869546, \"new_confirmed_cases_per_100k\": 85.30121236337617, \"new_deaths_per_100k\": 0.7958181592236242, \"new_confirmed_cases_seven_day_per_100k\": 688.9336587617438, \"new_deaths_seven_day_per_100k\": 3.454375526300347, \"new_confirmed_cases_seven_day_average_per_100k\": 98.41909410882052, \"new_deaths_seven_day_average_per_100k\": 0.4934822180429067, \"new_confirmed_cases_seven_day_average_per_100k_percent_change\": 1.4218147163256831, \"new_deaths_seven_day_average_per_100k_percent_change\": 1.6421404682274248}, {\"date\": \"2020-12-16\", \"region\": \"Southern California\", \"confirmed_cases\": 1123252.0, \"confirmed_cases_per_100k\": 4911.562302111288, \"new_confirmed_cases\": 39062.0, \"new_confirmed_cases_seven_day_total\": 175861.0, \"deaths\": 15290.0, \"deaths_per_100k\": 66.85747062928141, \"new_deaths\": 298.0, \"new_deaths_seven_day_total\": 963.0, \"new_confirmed_cases_seven_day_average\": 25123.0, \"new_deaths_seven_day_average\": 137.57142857142858, \"population\": 22869546, \"new_confirmed_cases_per_100k\": 170.8035655801825, \"new_deaths_per_100k\": 1.303042920047473, \"new_confirmed_cases_seven_day_per_100k\": 768.9746005451967, \"new_deaths_seven_day_per_100k\": 4.210840040287638, \"new_confirmed_cases_seven_day_average_per_100k\": 109.85351436359952, \"new_deaths_seven_day_average_per_100k\": 0.6015485771839484, \"new_confirmed_cases_seven_day_average_per_100k_percent_change\": 1.5345679901996108, \"new_deaths_seven_day_average_per_100k_percent_change\": 2.2207357859531776}, {\"date\": \"2020-12-17\", \"region\": \"Southern California\", \"confirmed_cases\": 1161748.0, \"confirmed_cases_per_100k\": 5079.89096066883, \"new_confirmed_cases\": 38496.0, \"new_confirmed_cases_seven_day_total\": 189355.0, \"deaths\": 15496.0, \"deaths_per_100k\": 67.75823184246859, \"new_deaths\": 206.0, \"new_deaths_seven_day_total\": 1058.0, \"new_confirmed_cases_seven_day_average\": 27050.714285714286, \"new_deaths_seven_day_average\": 151.14285714285714, \"population\": 22869546, \"new_confirmed_cases_per_100k\": 168.32865855754196, \"new_deaths_per_100k\": 0.9007612131871792, \"new_confirmed_cases_seven_day_per_100k\": 827.9788326362053, \"new_deaths_seven_day_per_100k\": 4.6262396288933765, \"new_confirmed_cases_seven_day_average_per_100k\": 118.28269037660075, \"new_deaths_seven_day_average_per_100k\": 0.6608913755561966, \"new_confirmed_cases_seven_day_average_per_100k_percent_change\": 1.4020982125867385, \"new_deaths_seven_day_average_per_100k_percent_change\": 1.9887005649717515}, {\"date\": \"2020-12-18\", \"region\": \"Southern California\", \"confirmed_cases\": 1200030.0, \"confirmed_cases_per_100k\": 5247.283876995197, \"new_confirmed_cases\": 38282.0, \"new_confirmed_cases_seven_day_total\": 202305.0, \"deaths\": 15644.0, \"deaths_per_100k\": 68.40538067524382, \"new_deaths\": 148.0, \"new_deaths_seven_day_total\": 1084.0, \"new_confirmed_cases_seven_day_average\": 28900.714285714286, \"new_deaths_seven_day_average\": 154.85714285714286, \"population\": 22869546, \"new_confirmed_cases_per_100k\": 167.392916326367, \"new_deaths_per_100k\": 0.6471488327752549, \"new_confirmed_cases_seven_day_per_100k\": 884.6043555040402, \"new_deaths_seven_day_per_100k\": 4.739927937353894, \"new_confirmed_cases_seven_day_average_per_100k\": 126.37205078629145, \"new_deaths_seven_day_average_per_100k\": 0.6771325624791278, \"new_confirmed_cases_seven_day_average_per_100k_percent_change\": 1.4551875629558608, \"new_deaths_seven_day_average_per_100k_percent_change\": 1.562647754137116}, {\"date\": \"2020-12-19\", \"region\": \"Southern California\", \"confirmed_cases\": 1226062.0, \"confirmed_cases_per_100k\": 5361.112109527666, \"new_confirmed_cases\": 26032.0, \"new_confirmed_cases_seven_day_total\": 207055.0, \"deaths\": 15765.0, \"deaths_per_100k\": 68.93446857231011, \"new_deaths\": 121.0, \"new_deaths_seven_day_total\": 1096.0, \"new_confirmed_cases_seven_day_average\": 29579.285714285717, \"new_deaths_seven_day_average\": 156.57142857142858, \"population\": 22869546, \"new_confirmed_cases_per_100k\": 113.82823253246916, \"new_deaths_per_100k\": 0.5290878970662557, \"new_confirmed_cases_seven_day_per_100k\": 905.3743349343273, \"new_deaths_seven_day_per_100k\": 4.792399464335672, \"new_confirmed_cases_seven_day_average_per_100k\": 129.33919070490387, \"new_deaths_seven_day_average_per_100k\": 0.6846284949050959, \"new_confirmed_cases_seven_day_average_per_100k_percent_change\": 1.2963246384526663, \"new_deaths_seven_day_average_per_100k_percent_change\": 1.3368869936034111}, {\"date\": \"2020-12-20\", \"region\": \"Southern California\", \"confirmed_cases\": 1247393.0, \"confirmed_cases_per_100k\": 5454.384621365024, \"new_confirmed_cases\": 21331.0, \"new_confirmed_cases_seven_day_total\": 207952.0, \"deaths\": 15833.0, \"deaths_per_100k\": 69.23180722520684, \"new_deaths\": 68.0, \"new_deaths_seven_day_total\": 1106.0, \"new_confirmed_cases_seven_day_average\": 29707.42857142857, \"new_deaths_seven_day_average\": 158.0, \"population\": 22869546, \"new_confirmed_cases_per_100k\": 93.27251183735784, \"new_deaths_per_100k\": 0.2973386528967387, \"new_confirmed_cases_seven_day_per_100k\": 909.2965815762147, \"new_deaths_seven_day_per_100k\": 4.8361257368204855, \"new_confirmed_cases_seven_day_average_per_100k\": 129.89951165374498, \"new_deaths_seven_day_average_per_100k\": 0.6908751052600695, \"new_confirmed_cases_seven_day_average_per_100k_percent_change\": 1.0993801360873865, \"new_deaths_seven_day_average_per_100k_percent_change\": 1.2208835341365465}, {\"date\": \"2020-12-21\", \"region\": \"Southern California\", \"confirmed_cases\": 1285697.0, \"confirmed_cases_per_100k\": 5621.873735490857, \"new_confirmed_cases\": 38304.0, \"new_confirmed_cases_seven_day_total\": 221015.0, \"deaths\": 15959.0, \"deaths_per_100k\": 69.7827582585155, \"new_deaths\": 126.0, \"new_deaths_seven_day_total\": 1149.0, \"new_confirmed_cases_seven_day_average\": 31573.571428571428, \"new_deaths_seven_day_average\": 164.14285714285714, \"population\": 22869546, \"new_confirmed_cases_per_100k\": 167.48911412583354, \"new_deaths_per_100k\": 0.550951033308663, \"new_confirmed_cases_seven_day_per_100k\": 966.4162113231281, \"new_deaths_seven_day_per_100k\": 5.024148708505188, \"new_confirmed_cases_seven_day_average_per_100k\": 138.05945876044692, \"new_deaths_seven_day_average_per_100k\": 0.7177355297864555, \"new_confirmed_cases_seven_day_average_per_100k_percent_change\": 1.0711548012857155, \"new_deaths_seven_day_average_per_100k_percent_change\": 1.2011494252873565}, {\"date\": \"2020-12-22\", \"region\": \"Southern California\", \"confirmed_cases\": 1309229.0, \"confirmed_cases_per_100k\": 5724.770399902123, \"new_confirmed_cases\": 23532.0, \"new_confirmed_cases_seven_day_total\": 225039.0, \"deaths\": 16152.0, \"deaths_per_100k\": 70.62667531747242, \"new_deaths\": 193.0, \"new_deaths_seven_day_total\": 1160.0, \"new_confirmed_cases_seven_day_average\": 32148.42857142857, \"new_deaths_seven_day_average\": 165.71428571428572, \"population\": 22869546, \"new_confirmed_cases_per_100k\": 102.8966644112655, \"new_deaths_per_100k\": 0.8439170589569203, \"new_confirmed_cases_seven_day_per_100k\": 984.0116633710176, \"new_deaths_seven_day_per_100k\": 5.0722476082384835, \"new_confirmed_cases_seven_day_average_per_100k\": 140.5730947672882, \"new_deaths_seven_day_average_per_100k\": 0.7246068011769263, \"new_confirmed_cases_seven_day_average_per_100k_percent_change\": 0.8670012859335463, \"new_deaths_seven_day_average_per_100k_percent_change\": 0.943048576214405}, {\"date\": \"2020-12-23\", \"region\": \"Southern California\", \"confirmed_cases\": 1342323.0, \"confirmed_cases_per_100k\": 5869.478126063368, \"new_confirmed_cases\": 33094.0, \"new_confirmed_cases_seven_day_total\": 219071.0, \"deaths\": 16375.0, \"deaths_per_100k\": 71.60177119388378, \"new_deaths\": 223.0, \"new_deaths_seven_day_total\": 1085.0, \"new_confirmed_cases_seven_day_average\": 31295.857142857138, \"new_deaths_seven_day_average\": 155.0, \"population\": 22869546, \"new_confirmed_cases_per_100k\": 144.7077261612452, \"new_deaths_per_100k\": 0.975095876411364, \"new_confirmed_cases_seven_day_per_100k\": 957.9158239520799, \"new_deaths_seven_day_per_100k\": 4.744300564602376, \"new_confirmed_cases_seven_day_average_per_100k\": 136.84511770743998, \"new_deaths_seven_day_average_per_100k\": 0.6777572235146251, \"new_confirmed_cases_seven_day_average_per_100k_percent_change\": 0.702209824550498, \"new_deaths_seven_day_average_per_100k_percent_change\": 0.6564885496183208}, {\"date\": \"2020-12-24\", \"region\": \"Southern California\", \"confirmed_cases\": 1366659.0, \"confirmed_cases_per_100k\": 5975.890382782413, \"new_confirmed_cases\": 24336.0, \"new_confirmed_cases_seven_day_total\": 204911.0, \"deaths\": 16599.0, \"deaths_per_100k\": 72.58123969754362, \"new_deaths\": 224.0, \"new_deaths_seven_day_total\": 1103.0, \"new_confirmed_cases_seven_day_average\": 29273.0, \"new_deaths_seven_day_average\": 157.57142857142858, \"population\": 22869546, \"new_confirmed_cases_per_100k\": 106.41225671904459, \"new_deaths_per_100k\": 0.9794685036598452, \"new_confirmed_cases_seven_day_per_100k\": 895.9994221135829, \"new_deaths_seven_day_per_100k\": 4.8230078550750415, \"new_confirmed_cases_seven_day_average_per_100k\": 127.99991744479756, \"new_deaths_seven_day_average_per_100k\": 0.6890011221535774, \"new_confirmed_cases_seven_day_average_per_100k_percent_change\": 0.4705933012293762, \"new_deaths_seven_day_average_per_100k_percent_change\": 0.6364985163204748}, {\"date\": \"2020-12-25\", \"region\": \"Southern California\", \"confirmed_cases\": 1369714.0, \"confirmed_cases_per_100k\": 5989.248759026524, \"new_confirmed_cases\": 3055.0, \"new_confirmed_cases_seven_day_total\": 169684.0, \"deaths\": 16619.0, \"deaths_per_100k\": 72.66869224251325, \"new_deaths\": 20.0, \"new_deaths_seven_day_total\": 975.0, \"new_confirmed_cases_seven_day_average\": 24240.571428571428, \"new_deaths_seven_day_average\": 139.28571428571428, \"population\": 22869546, \"new_confirmed_cases_per_100k\": 13.358376244110836, \"new_deaths_per_100k\": 0.08745254496962905, \"new_confirmed_cases_seven_day_per_100k\": 741.9648820313267, \"new_deaths_seven_day_per_100k\": 4.263311567269415, \"new_confirmed_cases_seven_day_average_per_100k\": 105.9949831473324, \"new_deaths_seven_day_average_per_100k\": 0.6090445096099165, \"new_confirmed_cases_seven_day_average_per_100k_percent_change\": 0.13618041326851738, \"new_deaths_seven_day_average_per_100k_percent_change\": 0.4487369985141159}, {\"date\": \"2020-12-26\", \"region\": \"Southern California\", \"confirmed_cases\": 1412591.0, \"confirmed_cases_per_100k\": 6176.733897559663, \"new_confirmed_cases\": 42877.0, \"new_confirmed_cases_seven_day_total\": 186529.0, \"deaths\": 16829.0, \"deaths_per_100k\": 73.58694396469436, \"new_deaths\": 210.0, \"new_deaths_seven_day_total\": 1064.0, \"new_confirmed_cases_seven_day_average\": 26647.0, \"new_deaths_seven_day_average\": 152.0, \"population\": 22869546, \"new_confirmed_cases_per_100k\": 187.48513853313926, \"new_deaths_per_100k\": 0.9182517221811051, \"new_confirmed_cases_seven_day_per_100k\": 815.621788031997, \"new_deaths_seven_day_per_100k\": 4.6524753923842646, \"new_confirmed_cases_seven_day_average_per_100k\": 116.51739829028523, \"new_deaths_seven_day_average_per_100k\": 0.6646393417691807, \"new_confirmed_cases_seven_day_average_per_100k_percent_change\": 0.2115576975538782, \"new_deaths_seven_day_average_per_100k_percent_change\": 0.4860335195530725}, {\"date\": \"2020-12-27\", \"region\": \"Southern California\", \"confirmed_cases\": 1435443.0, \"confirmed_cases_per_100k\": 6276.657175441962, \"new_confirmed_cases\": 22852.0, \"new_confirmed_cases_seven_day_total\": 188050.0, \"deaths\": 16882.0, \"deaths_per_100k\": 73.81869320886388, \"new_deaths\": 53.0, \"new_deaths_seven_day_total\": 1049.0, \"new_confirmed_cases_seven_day_average\": 26864.285714285717, \"new_deaths_seven_day_average\": 149.85714285714286, \"population\": 22869546, \"new_confirmed_cases_per_100k\": 99.92327788229815, \"new_deaths_per_100k\": 0.2317492441695169, \"new_confirmed_cases_seven_day_per_100k\": 822.2725540769369, \"new_deaths_seven_day_per_100k\": 4.586885983657044, \"new_confirmed_cases_seven_day_average_per_100k\": 117.46750772527672, \"new_deaths_seven_day_average_per_100k\": 0.6552694262367205, \"new_confirmed_cases_seven_day_average_per_100k_percent_change\": 0.1911548596331203, \"new_deaths_seven_day_average_per_100k_percent_change\": 0.4389574759945132}, {\"date\": \"2020-12-28\", \"region\": \"Southern California\", \"confirmed_cases\": 1477411.0, \"confirmed_cases_per_100k\": 6460.167595806231, \"new_confirmed_cases\": 41968.0, \"new_confirmed_cases_seven_day_total\": 191714.0, \"deaths\": 17018.0, \"deaths_per_100k\": 74.41337051465736, \"new_deaths\": 136.0, \"new_deaths_seven_day_total\": 1059.0, \"new_confirmed_cases_seven_day_average\": 27387.714285714286, \"new_deaths_seven_day_average\": 151.28571428571428, \"population\": 22869546, \"new_confirmed_cases_per_100k\": 183.5104203642696, \"new_deaths_per_100k\": 0.5946773057934774, \"new_confirmed_cases_seven_day_per_100k\": 838.2938603153731, \"new_deaths_seven_day_per_100k\": 4.630612256141858, \"new_confirmed_cases_seven_day_average_per_100k\": 119.756265759339, \"new_deaths_seven_day_average_per_100k\": 0.6615160365916939, \"new_confirmed_cases_seven_day_average_per_100k_percent_change\": 0.17803858916062446, \"new_deaths_seven_day_average_per_100k_percent_change\": 0.4026490066225164}, {\"date\": \"2020-12-29\", \"region\": \"Southern California\", \"confirmed_cases\": 1503938.0, \"confirmed_cases_per_100k\": 6576.160278826698, \"new_confirmed_cases\": 26527.0, \"new_confirmed_cases_seven_day_total\": 194709.0, \"deaths\": 17389.0, \"deaths_per_100k\": 76.03561522384399, \"new_deaths\": 371.0, \"new_deaths_seven_day_total\": 1237.0, \"new_confirmed_cases_seven_day_average\": 27815.571428571428, \"new_deaths_seven_day_average\": 176.71428571428572, \"population\": 22869546, \"new_confirmed_cases_per_100k\": 115.9926830204675, \"new_deaths_per_100k\": 1.6222447091866186, \"new_confirmed_cases_seven_day_per_100k\": 851.3898789245752, \"new_deaths_seven_day_per_100k\": 5.408939906371557, \"new_confirmed_cases_seven_day_average_per_100k\": 121.62712556065357, \"new_deaths_seven_day_average_per_100k\": 0.7727057009102225, \"new_confirmed_cases_seven_day_average_per_100k_percent_change\": 0.2358082205691945, \"new_deaths_seven_day_average_per_100k_percent_change\": 0.5658227848101272}, {\"date\": \"2020-12-30\", \"region\": \"Southern California\", \"confirmed_cases\": 1528481.0, \"confirmed_cases_per_100k\": 6683.4776693861795, \"new_confirmed_cases\": 24543.0, \"new_confirmed_cases_seven_day_total\": 186158.0, \"deaths\": 17744.0, \"deaths_per_100k\": 77.58789789705489, \"new_deaths\": 355.0, \"new_deaths_seven_day_total\": 1369.0, \"new_confirmed_cases_seven_day_average\": 26594.0, \"new_deaths_seven_day_average\": 195.57142857142856, \"population\": 22869546, \"new_confirmed_cases_per_100k\": 107.31739055948029, \"new_deaths_per_100k\": 1.5522826732109154, \"new_confirmed_cases_seven_day_per_100k\": 813.9995433228102, \"new_deaths_seven_day_per_100k\": 5.9861267031711085, \"new_confirmed_cases_seven_day_average_per_100k\": 116.28564904611576, \"new_deaths_seven_day_average_per_100k\": 0.8551609575958727, \"new_confirmed_cases_seven_day_average_per_100k_percent_change\": 0.0585519245313062, \"new_deaths_seven_day_average_per_100k_percent_change\": 0.4215991692627208}, {\"date\": \"2020-12-31\", \"region\": \"Southern California\", \"confirmed_cases\": 1550325.0, \"confirmed_cases_per_100k\": 6778.993339002007, \"new_confirmed_cases\": 21844.0, \"new_confirmed_cases_seven_day_total\": 183666.0, \"deaths\": 18147.0, \"deaths_per_100k\": 79.3500666781929, \"new_deaths\": 403.0, \"new_deaths_seven_day_total\": 1548.0, \"new_confirmed_cases_seven_day_average\": 26238.0, \"new_deaths_seven_day_average\": 221.14285714285717, \"population\": 22869546, \"new_confirmed_cases_per_100k\": 95.51566961582884, \"new_deaths_per_100k\": 1.7621687811380249, \"new_confirmed_cases_seven_day_per_100k\": 803.1029562195946, \"new_deaths_seven_day_per_100k\": 6.768826980649288, \"new_confirmed_cases_seven_day_average_per_100k\": 114.72899374565634, \"new_deaths_seven_day_average_per_100k\": 0.9669752829498984, \"new_confirmed_cases_seven_day_average_per_100k_percent_change\": -0.030044097066356912, \"new_deaths_seven_day_average_per_100k_percent_change\": 0.4631379962192818}, {\"date\": \"2021-01-01\", \"region\": \"Southern California\", \"confirmed_cases\": 1573880.0, \"confirmed_cases_per_100k\": 6881.9905738399875, \"new_confirmed_cases\": 23555.0, \"new_confirmed_cases_seven_day_total\": 204166.0, \"deaths\": 18398.0, \"deaths_per_100k\": 80.44759611756177, \"new_deaths\": 251.0, \"new_deaths_seven_day_total\": 1779.0, \"new_confirmed_cases_seven_day_average\": 29166.571428571428, \"new_deaths_seven_day_average\": 254.14285714285717, \"population\": 22869546, \"new_confirmed_cases_per_100k\": 102.9972348379806, \"new_deaths_per_100k\": 1.0975294393688446, \"new_confirmed_cases_seven_day_per_100k\": 892.7418148134641, \"new_deaths_seven_day_per_100k\": 7.778903875048504, \"new_confirmed_cases_seven_day_average_per_100k\": 127.534544973352, \"new_deaths_seven_day_average_per_100k\": 1.1112719821497858, \"new_confirmed_cases_seven_day_average_per_100k_percent_change\": 0.009198981735498268, \"new_deaths_seven_day_average_per_100k_percent_change\": 0.641143911439114}, {\"date\": \"2021-01-02\", \"region\": \"Southern California\", \"confirmed_cases\": 1599316.0, \"confirmed_cases_per_100k\": 6993.21272053236, \"new_confirmed_cases\": 25436.0, \"new_confirmed_cases_seven_day_total\": 186725.0, \"deaths\": 18560.0, \"deaths_per_100k\": 81.15596173181575, \"new_deaths\": 162.0, \"new_deaths_seven_day_total\": 1731.0, \"new_confirmed_cases_seven_day_average\": 26675.0, \"new_deaths_seven_day_average\": 247.28571428571428, \"population\": 22869546, \"new_confirmed_cases_per_100k\": 111.22214669237421, \"new_deaths_per_100k\": 0.7083656142539952, \"new_confirmed_cases_seven_day_per_100k\": 816.4788229726993, \"new_deaths_seven_day_per_100k\": 7.569017767121394, \"new_confirmed_cases_seven_day_average_per_100k\": 116.63983185324274, \"new_deaths_seven_day_average_per_100k\": 1.081288252445913, \"new_confirmed_cases_seven_day_average_per_100k_percent_change\": -0.09818647219337863, \"new_deaths_seven_day_average_per_100k_percent_change\": 0.5793795620437956}, {\"date\": \"2021-01-03\", \"region\": \"Southern California\", \"confirmed_cases\": 1615635.0, \"confirmed_cases_per_100k\": 7064.569624600331, \"new_confirmed_cases\": 16319.0, \"new_confirmed_cases_seven_day_total\": 180192.0, \"deaths\": 18647.0, \"deaths_per_100k\": 81.53638030243364, \"new_deaths\": 87.0, \"new_deaths_seven_day_total\": 1765.0, \"new_confirmed_cases_seven_day_average\": 25741.714285714286, \"new_deaths_seven_day_average\": 252.14285714285717, \"population\": 22869546, \"new_confirmed_cases_per_100k\": 71.35690406796881, \"new_deaths_per_100k\": 0.3804185706178863, \"new_confirmed_cases_seven_day_per_100k\": 787.9124491583699, \"new_deaths_seven_day_per_100k\": 7.717687093569762, \"new_confirmed_cases_seven_day_average_per_100k\": 112.55892130833857, \"new_deaths_seven_day_average_per_100k\": 1.1025267276528232, \"new_confirmed_cases_seven_day_average_per_100k_percent_change\": -0.13349234438716615, \"new_deaths_seven_day_average_per_100k_percent_change\": 0.5958408679927667}, {\"date\": \"2021-01-04\", \"region\": \"Southern California\", \"confirmed_cases\": 1670637.0, \"confirmed_cases_per_100k\": 7305.072868521309, \"new_confirmed_cases\": 55002.0, \"new_confirmed_cases_seven_day_total\": 193226.0, \"deaths\": 18910.0, \"deaths_per_100k\": 82.68638126878426, \"new_deaths\": 263.0, \"new_deaths_seven_day_total\": 1892.0, \"new_confirmed_cases_seven_day_average\": 27603.714285714286, \"new_deaths_seven_day_average\": 270.2857142857143, \"population\": 22869546, \"new_confirmed_cases_per_100k\": 240.50324392097684, \"new_deaths_per_100k\": 1.150000966350622, \"new_confirmed_cases_seven_day_per_100k\": 844.9052727150771, \"new_deaths_seven_day_per_100k\": 8.273010754126908, \"new_confirmed_cases_seven_day_average_per_100k\": 120.70075324501104, \"new_deaths_seven_day_average_per_100k\": 1.1818586791609869, \"new_confirmed_cases_seven_day_average_per_100k_percent_change\": -0.12573354749677612, \"new_deaths_seven_day_average_per_100k_percent_change\": 0.6466492602262839}, {\"date\": \"2021-01-05\", \"region\": \"Southern California\", \"confirmed_cases\": 1699504.0, \"confirmed_cases_per_100k\": 7431.297499303221, \"new_confirmed_cases\": 28867.0, \"new_confirmed_cases_seven_day_total\": 195566.0, \"deaths\": 19240.0, \"deaths_per_100k\": 84.12934826078316, \"new_deaths\": 330.0, \"new_deaths_seven_day_total\": 1851.0, \"new_confirmed_cases_seven_day_average\": 27938.0, \"new_deaths_seven_day_average\": 264.42857142857144, \"population\": 22869546, \"new_confirmed_cases_per_100k\": 126.22463078191409, \"new_deaths_per_100k\": 1.4429669919988792, \"new_confirmed_cases_seven_day_per_100k\": 855.1372204765238, \"new_deaths_seven_day_per_100k\": 8.093733036939168, \"new_confirmed_cases_seven_day_average_per_100k\": 122.1624600680748, \"new_deaths_seven_day_average_per_100k\": 1.1562475767055955, \"new_confirmed_cases_seven_day_average_per_100k_percent_change\": -0.13096840992005832, \"new_deaths_seven_day_average_per_100k_percent_change\": 0.595689655172414}, {\"date\": \"2021-01-06\", \"region\": \"Southern California\", \"confirmed_cases\": 1726160.0, \"confirmed_cases_per_100k\": 7547.854251238743, \"new_confirmed_cases\": 26656.0, \"new_confirmed_cases_seven_day_total\": 197679.0, \"deaths\": 19637.0, \"deaths_per_100k\": 85.86528127843026, \"new_deaths\": 397.0, \"new_deaths_seven_day_total\": 1893.0, \"new_confirmed_cases_seven_day_average\": 28239.857142857138, \"new_deaths_seven_day_average\": 270.42857142857144, \"population\": 22869546, \"new_confirmed_cases_per_100k\": 116.5567519355216, \"new_deaths_per_100k\": 1.7359330176471366, \"new_confirmed_cases_seven_day_per_100k\": 864.376581852565, \"new_deaths_seven_day_per_100k\": 8.277383381375389, \"new_confirmed_cases_seven_day_average_per_100k\": 123.48236883608072, \"new_deaths_seven_day_average_per_100k\": 1.1824833401964845, \"new_confirmed_cases_seven_day_average_per_100k_percent_change\": -0.09764870749665623, \"new_deaths_seven_day_average_per_100k_percent_change\": 0.7447004608294934}, {\"date\": \"2021-01-07\", \"region\": \"Southern California\", \"confirmed_cases\": 1755692.0, \"confirmed_cases_per_100k\": 7676.986679140899, \"new_confirmed_cases\": 29532.0, \"new_confirmed_cases_seven_day_total\": 205367.0, \"deaths\": 19975.0, \"deaths_per_100k\": 87.34322928841699, \"new_deaths\": 338.0, \"new_deaths_seven_day_total\": 1828.0, \"new_confirmed_cases_seven_day_average\": 29338.142857142862, \"new_deaths_seven_day_average\": 261.14285714285717, \"population\": 22869546, \"new_confirmed_cases_per_100k\": 129.13242790215423, \"new_deaths_per_100k\": 1.4779480099867308, \"new_confirmed_cases_seven_day_per_100k\": 897.9933401388904, \"new_deaths_seven_day_per_100k\": 7.993162610224093, \"new_confirmed_cases_seven_day_average_per_100k\": 128.2847628769843, \"new_deaths_seven_day_average_per_100k\": 1.1418803728891564, \"new_confirmed_cases_seven_day_average_per_100k_percent_change\": 0.002225356374230492, \"new_deaths_seven_day_average_per_100k_percent_change\": 0.6572982774252039}, {\"date\": \"2021-01-08\", \"region\": \"Southern California\", \"confirmed_cases\": 1790160.0, \"confirmed_cases_per_100k\": 7827.702395141557, \"new_confirmed_cases\": 34468.0, \"new_confirmed_cases_seven_day_total\": 216280.0, \"deaths\": 20442.0, \"deaths_per_100k\": 89.38524621345785, \"new_deaths\": 467.0, \"new_deaths_seven_day_total\": 2044.0, \"new_confirmed_cases_seven_day_average\": 30897.142857142862, \"new_deaths_seven_day_average\": 292.0, \"population\": 22869546, \"new_confirmed_cases_per_100k\": 150.7157160006587, \"new_deaths_per_100k\": 2.042016925040838, \"new_confirmed_cases_seven_day_per_100k\": 945.7118213015684, \"new_deaths_seven_day_per_100k\": 8.937650095896087, \"new_confirmed_cases_seven_day_average_per_100k\": 135.10168875736693, \"new_deaths_seven_day_average_per_100k\": 1.276807156556584, \"new_confirmed_cases_seven_day_average_per_100k_percent_change\": 0.2746045590627284, \"new_deaths_seven_day_average_per_100k_percent_change\": 1.0964102564102562}, {\"date\": \"2021-01-09\", \"region\": \"Southern California\", \"confirmed_cases\": 1820359.0, \"confirmed_cases_per_100k\": 7959.751365418449, \"new_confirmed_cases\": 30199.0, \"new_confirmed_cases_seven_day_total\": 221043.0, \"deaths\": 20802.0, \"deaths_per_100k\": 90.95939202291115, \"new_deaths\": 360.0, \"new_deaths_seven_day_total\": 2242.0, \"new_confirmed_cases_seven_day_average\": 31577.571428571428, \"new_deaths_seven_day_average\": 320.2857142857143, \"population\": 22869546, \"new_confirmed_cases_per_100k\": 132.04897027689137, \"new_deaths_per_100k\": 1.5741458094533227, \"new_confirmed_cases_seven_day_per_100k\": 966.5386448860856, \"new_deaths_seven_day_per_100k\": 9.803430291095417, \"new_confirmed_cases_seven_day_average_per_100k\": 138.0769492694408, \"new_deaths_seven_day_average_per_100k\": 1.4004900415850594, \"new_confirmed_cases_seven_day_average_per_100k_percent_change\": 0.1850328903280456, \"new_deaths_seven_day_average_per_100k_percent_change\": 1.1071428571428572}, {\"date\": \"2021-01-10\", \"region\": \"Southern California\", \"confirmed_cases\": 1844753.0, \"confirmed_cases_per_100k\": 8066.417234517904, \"new_confirmed_cases\": 24394.0, \"new_confirmed_cases_seven_day_total\": 229118.0, \"deaths\": 21058.0, \"deaths_per_100k\": 92.07878459852242, \"new_deaths\": 256.0, \"new_deaths_seven_day_total\": 2411.0, \"new_confirmed_cases_seven_day_average\": 32731.142857142862, \"new_deaths_seven_day_average\": 344.42857142857144, \"population\": 22869546, \"new_confirmed_cases_per_100k\": 106.66586909945654, \"new_deaths_per_100k\": 1.1193925756112515, \"new_confirmed_cases_seven_day_per_100k\": 1001.8476099175732, \"new_deaths_seven_day_per_100k\": 10.54240429608878, \"new_confirmed_cases_seven_day_average_per_100k\": 143.1210871310819, \"new_deaths_seven_day_average_per_100k\": 1.5060577565841118, \"new_confirmed_cases_seven_day_average_per_100k_percent_change\": 0.21838872640255255, \"new_deaths_seven_day_average_per_100k_percent_change\": 1.2983794089609155}, {\"date\": \"2021-01-11\", \"region\": \"Southern California\", \"confirmed_cases\": 1880374.0, \"confirmed_cases_per_100k\": 8222.174589736062, \"new_confirmed_cases\": 35621.0, \"new_confirmed_cases_seven_day_total\": 209737.0, \"deaths\": 21299.0, \"deaths_per_100k\": 93.13258776540646, \"new_deaths\": 241.0, \"new_deaths_seven_day_total\": 2389.0, \"new_confirmed_cases_seven_day_average\": 29962.42857142857, \"new_deaths_seven_day_average\": 341.2857142857143, \"population\": 22869546, \"new_confirmed_cases_per_100k\": 155.7573552181578, \"new_deaths_per_100k\": 1.0538031668840302, \"new_confirmed_cases_seven_day_per_100k\": 917.1017212147543, \"new_deaths_seven_day_per_100k\": 10.446206496622189, \"new_confirmed_cases_seven_day_average_per_100k\": 131.01453160210778, \"new_deaths_seven_day_average_per_100k\": 1.4923152138031701, \"new_confirmed_cases_seven_day_average_per_100k_percent_change\": 0.09400982713834137, \"new_deaths_seven_day_average_per_100k_percent_change\": 1.2559017941454207}, {\"date\": \"2021-01-12\", \"region\": \"Southern California\", \"confirmed_cases\": 1919185.0, \"confirmed_cases_per_100k\": 8391.880625876876, \"new_confirmed_cases\": 38811.0, \"new_confirmed_cases_seven_day_total\": 219681.0, \"deaths\": 21771.0, \"deaths_per_100k\": 95.1964678266897, \"new_deaths\": 472.0, \"new_deaths_seven_day_total\": 2531.0, \"new_confirmed_cases_seven_day_average\": 31383.0, \"new_deaths_seven_day_average\": 361.57142857142856, \"population\": 22869546, \"new_confirmed_cases_per_100k\": 169.7060361408136, \"new_deaths_per_100k\": 2.0638800612832453, \"new_confirmed_cases_seven_day_per_100k\": 960.583126573654, \"new_deaths_seven_day_per_100k\": 11.067119565906555, \"new_confirmed_cases_seven_day_average_per_100k\": 137.2261609390934, \"new_deaths_seven_day_average_per_100k\": 1.5810170808437936, \"new_confirmed_cases_seven_day_average_per_100k_percent_change\": 0.1282529312974745, \"new_deaths_seven_day_average_per_100k_percent_change\": 1.0460792239288597}, {\"date\": \"2021-01-13\", \"region\": \"Southern California\", \"confirmed_cases\": 1948547.0, \"confirmed_cases_per_100k\": 8520.269707146788, \"new_confirmed_cases\": 29362.0, \"new_confirmed_cases_seven_day_total\": 222387.0, \"deaths\": 22168.0, \"deaths_per_100k\": 96.93240084433685, \"new_deaths\": 397.0, \"new_deaths_seven_day_total\": 2531.0, \"new_confirmed_cases_seven_day_average\": 31769.571428571428, \"new_deaths_seven_day_average\": 361.57142857142856, \"population\": 22869546, \"new_confirmed_cases_per_100k\": 128.38908126991242, \"new_deaths_per_100k\": 1.7359330176471366, \"new_confirmed_cases_seven_day_per_100k\": 972.4154559080447, \"new_deaths_seven_day_per_100k\": 11.067119565906555, \"new_confirmed_cases_seven_day_average_per_100k\": 138.91649370114922, \"new_deaths_seven_day_average_per_100k\": 1.5810170808437936, \"new_confirmed_cases_seven_day_average_per_100k_percent_change\": 0.19461425240924332, \"new_deaths_seven_day_average_per_100k_percent_change\": 0.8487947406866321}, {\"date\": \"2021-01-14\", \"region\": \"Southern California\", \"confirmed_cases\": 1978262.0, \"confirmed_cases_per_100k\": 8650.202325835415, \"new_confirmed_cases\": 29715.0, \"new_confirmed_cases_seven_day_total\": 222570.0, \"deaths\": 22643.0, \"deaths_per_100k\": 99.00939878736551, \"new_deaths\": 475.0, \"new_deaths_seven_day_total\": 2668.0, \"new_confirmed_cases_seven_day_average\": 31795.714285714286, \"new_deaths_seven_day_average\": 381.1428571428572, \"population\": 22869546, \"new_confirmed_cases_per_100k\": 129.93261868862638, \"new_deaths_per_100k\": 2.07699794302869, \"new_confirmed_cases_seven_day_per_100k\": 973.2156466945167, \"new_deaths_seven_day_per_100k\": 11.666169498948515, \"new_confirmed_cases_seven_day_average_per_100k\": 139.03080667064526, \"new_deaths_seven_day_average_per_100k\": 1.6665956427069308, \"new_confirmed_cases_seven_day_average_per_100k_percent_change\": 0.21181928065074665, \"new_deaths_seven_day_average_per_100k_percent_change\": 0.7235142118863052}, {\"date\": \"2021-01-15\", \"region\": \"Southern California\", \"confirmed_cases\": 2005223.0, \"confirmed_cases_per_100k\": 8768.092729081722, \"new_confirmed_cases\": 26961.0, \"new_confirmed_cases_seven_day_total\": 215063.0, \"deaths\": 23159.0, \"deaths_per_100k\": 101.26567444758196, \"new_deaths\": 516.0, \"new_deaths_seven_day_total\": 2717.0, \"new_confirmed_cases_seven_day_average\": 30723.285714285717, \"new_deaths_seven_day_average\": 388.1428571428572, \"population\": 22869546, \"new_confirmed_cases_per_100k\": 117.89040324630842, \"new_deaths_per_100k\": 2.2562756602164296, \"new_confirmed_cases_seven_day_per_100k\": 940.3903339401663, \"new_deaths_seven_day_per_100k\": 11.880428234124105, \"new_confirmed_cases_seven_day_average_per_100k\": 134.34147627716663, \"new_deaths_seven_day_average_per_100k\": 1.697204033446301, \"new_confirmed_cases_seven_day_average_per_100k_percent_change\": 0.053373235504442514, \"new_deaths_seven_day_average_per_100k_percent_change\": 0.5272625070264196}]}}, {\"mode\": \"vega-lite\"});\n",
       "</script>"
      ],
      "text/plain": [
       "alt.Chart(...)"
      ]
     },
     "execution_count": 14,
     "metadata": {},
     "output_type": "execute_result"
    }
   ],
   "source": [
    "alt.Chart(socal).mark_line().encode(\n",
    "    x=alt.X(\n",
    "        \"date:T\",\n",
    "        axis=alt.Axis(tickCount=2, format=(\"%b. %-d\"), grid=False, tickColor=\"#ffffff\"),\n",
    "    ),\n",
    "    y=alt.Y(\n",
    "        \"new_confirmed_cases_seven_day_per_100k\",\n",
    "        title=\"\",\n",
    "        axis=alt.Axis(tickColor=\"#ffffff\"),\n",
    "    ),\n",
    ").properties(width=500, height=300).configure_axis()"
   ]
  },
  {
   "cell_type": "code",
   "execution_count": 15,
   "metadata": {},
   "outputs": [
    {
     "data": {
      "text/html": [
       "\n",
       "<div id=\"altair-viz-edd0f971123448268c13977af928c111\"></div>\n",
       "<script type=\"text/javascript\">\n",
       "  (function(spec, embedOpt){\n",
       "    const outputDiv = document.getElementById(\"altair-viz-edd0f971123448268c13977af928c111\");\n",
       "    const paths = {\n",
       "      \"vega\": \"https://cdn.jsdelivr.net/npm//vega@5?noext\",\n",
       "      \"vega-lib\": \"https://cdn.jsdelivr.net/npm//vega-lib?noext\",\n",
       "      \"vega-lite\": \"https://cdn.jsdelivr.net/npm//vega-lite@4.0.2?noext\",\n",
       "      \"vega-embed\": \"https://cdn.jsdelivr.net/npm//vega-embed@6?noext\",\n",
       "    };\n",
       "\n",
       "    function loadScript(lib) {\n",
       "      return new Promise(function(resolve, reject) {\n",
       "        var s = document.createElement('script');\n",
       "        s.src = paths[lib];\n",
       "        s.async = true;\n",
       "        s.onload = () => resolve(paths[lib]);\n",
       "        s.onerror = () => reject(`Error loading script: ${paths[lib]}`);\n",
       "        document.getElementsByTagName(\"head\")[0].appendChild(s);\n",
       "      });\n",
       "    }\n",
       "\n",
       "    function showError(err) {\n",
       "      outputDiv.innerHTML = `<div class=\"error\" style=\"color:red;\">${err}</div>`;\n",
       "      throw err;\n",
       "    }\n",
       "\n",
       "    function displayChart(vegaEmbed) {\n",
       "      vegaEmbed(outputDiv, spec, embedOpt)\n",
       "        .catch(err => showError(`Javascript Error: ${err.message}<br>This usually means there's a typo in your chart specification. See the javascript console for the full traceback.`));\n",
       "    }\n",
       "\n",
       "    if(typeof define === \"function\" && define.amd) {\n",
       "      requirejs.config({paths});\n",
       "      require([\"vega-embed\"], displayChart, err => showError(`Error loading script: ${err.message}`));\n",
       "    } else if (typeof vegaEmbed === \"function\") {\n",
       "      displayChart(vegaEmbed);\n",
       "    } else {\n",
       "      loadScript(\"vega\")\n",
       "        .then(() => loadScript(\"vega-lite\"))\n",
       "        .then(() => loadScript(\"vega-embed\"))\n",
       "        .catch(showError)\n",
       "        .then(() => displayChart(vegaEmbed));\n",
       "    }\n",
       "  })({\"config\": {\"view\": {\"width\": 800, \"height\": 450}, \"background\": \"#ffffff\", \"title\": {\"anchor\": \"start\", \"font\": \"Benton Gothic Bold, sans\", \"fontColor\": \"#000000\", \"fontSize\": 22, \"fontWeight\": \"normal\"}, \"arc\": {\"fill\": \"#82c6df\"}, \"area\": {\"fill\": \"#82c6df\"}, \"line\": {\"stroke\": \"#82c6df\", \"strokeWidth\": 3}, \"path\": {\"stroke\": \"#82c6df\"}, \"rect\": {\"fill\": \"#82c6df\"}, \"shape\": {\"stroke\": \"#82c6df\"}, \"bar\": {\"fill\": \"#82c6df\"}, \"point\": {\"stroke\": \"#82c6df\"}, \"symbol\": {\"fill\": \"#82c6df\", \"size\": 30}, \"axis\": {\"titleFont\": \"Benton Gothic Bold, sans\", \"titleFontSize\": 13, \"titleFontWeight\": \"normal\", \"labelFont\": \"Benton Gothic, sans\", \"labelFontSize\": 11.5, \"labelFontWeight\": \"normal\"}, \"axisX\": {\"labelAngle\": 0, \"labelPadding\": 4, \"tickSize\": 3}, \"axisY\": {\"labelBaseline\": \"middle\", \"maxExtent\": 45, \"minExtent\": 45, \"tickSize\": 2, \"titleAlign\": \"left\", \"titleAngle\": 0, \"titleX\": -45, \"titleY\": -11}, \"legend\": {\"titleFont\": \"Benton Gothic Bold, sans\", \"titleFontSize\": 13, \"titleFontWeight\": \"normal\", \"symbolType\": \"square\", \"labelFont\": \"Benton Gothic, sans\", \"labelFontSize\": 11.5}, \"range\": {\"category\": [\"#3580b1\", \"#ec8431\", \"#ab7fb4\", \"#c89d29\", \"#adc839\", \"#829eb1\"], \"diverging\": [\"#e68a4f\", \"#f4bb6a\", \"#f9e39c\", \"#dadfe2\", \"#a6b7c6\", \"#849eae\"], \"heatmap\": [\"#fbf2c7\", \"#f9e39c\", \"#f8d36e\", \"#f4bb6a\", \"#e68a4f\", \"#d15a40\", \"#ab4232\"], \"ordinal\": [\"#fbf2c7\", \"#f9e39c\", \"#f8d36e\", \"#f4bb6a\", \"#e68a4f\", \"#d15a40\", \"#ab4232\"], \"ramp\": [\"#fbf2c7\", \"#f9e39c\", \"#f8d36e\", \"#f4bb6a\", \"#e68a4f\", \"#d15a40\", \"#ab4232\"]}}, \"data\": {\"name\": \"data-0c28295f7b38555bb4ea6f252fb79fb5\"}, \"mark\": \"line\", \"encoding\": {\"x\": {\"type\": \"temporal\", \"axis\": {\"format\": \"%b. %-d\", \"grid\": false, \"tickColor\": \"#ffffff\", \"tickCount\": 2}, \"field\": \"date\"}, \"y\": {\"type\": \"quantitative\", \"axis\": {\"tickColor\": \"#ffffff\"}, \"field\": \"new_confirmed_cases_seven_day_per_100k\", \"title\": \"\"}}, \"height\": 300, \"width\": 500, \"$schema\": \"https://vega.github.io/schema/vega-lite/v4.0.2.json\", \"datasets\": {\"data-0c28295f7b38555bb4ea6f252fb79fb5\": [{\"date\": \"2020-11-15\", \"county\": \"Los Angeles\", \"fips\": 37, \"population\": 10098052, \"confirmed_cases\": 339570.0, \"deaths\": 7269.0, \"recoveries\": 13116.0, \"confirmed_cases_per_100k\": 3362.7277815562848, \"deaths_per_100k\": 71.98418071128967, \"new_confirmed_cases\": 2899.0, \"new_deaths\": 2.0, \"new_recoveries\": 0.0, \"agencies_count\": 3.0, \"agencies_updated\": 2.0, \"updated\": true, \"in_progress\": false}, {\"date\": \"2020-11-16\", \"county\": \"Los Angeles\", \"fips\": 37, \"population\": 10098052, \"confirmed_cases\": 342489.0, \"deaths\": 7275.0, \"recoveries\": 13187.0, \"confirmed_cases_per_100k\": 3391.634346901759, \"deaths_per_100k\": 72.04359811179424, \"new_confirmed_cases\": 2919.0, \"new_deaths\": 6.0, \"new_recoveries\": 71.0, \"agencies_count\": 3.0, \"agencies_updated\": 3.0, \"updated\": true, \"in_progress\": false}, {\"date\": \"2020-11-17\", \"county\": \"Los Angeles\", \"fips\": 37, \"population\": 10098052, \"confirmed_cases\": 344741.0, \"deaths\": 7300.0, \"recoveries\": 13244.0, \"confirmed_cases_per_100k\": 3413.9356778911406, \"deaths_per_100k\": 72.29117061389663, \"new_confirmed_cases\": 2252.0, \"new_deaths\": 25.0, \"new_recoveries\": 57.0, \"agencies_count\": 3.0, \"agencies_updated\": 3.0, \"updated\": true, \"in_progress\": false}, {\"date\": \"2020-11-18\", \"county\": \"Los Angeles\", \"fips\": 37, \"population\": 10098052, \"confirmed_cases\": 348536.0, \"deaths\": 7337.0, \"recoveries\": 13348.0, \"confirmed_cases_per_100k\": 3451.5171837102844, \"deaths_per_100k\": 72.65757791700815, \"new_confirmed_cases\": 3795.0, \"new_deaths\": 37.0, \"new_recoveries\": 104.0, \"agencies_count\": 3.0, \"agencies_updated\": 3.0, \"updated\": true, \"in_progress\": false}, {\"date\": \"2020-11-19\", \"county\": \"Los Angeles\", \"fips\": 37, \"population\": 10098052, \"confirmed_cases\": 353479.0, \"deaths\": 7365.0, \"recoveries\": 13435.0, \"confirmed_cases_per_100k\": 3500.467218825968, \"deaths_per_100k\": 72.93485911936283, \"new_confirmed_cases\": 4943.0, \"new_deaths\": 28.0, \"new_recoveries\": 87.0, \"agencies_count\": 3.0, \"agencies_updated\": 3.0, \"updated\": true, \"in_progress\": false}, {\"date\": \"2020-11-20\", \"county\": \"Los Angeles\", \"fips\": 37, \"population\": 10098052, \"confirmed_cases\": 357637.0, \"deaths\": 7397.0, \"recoveries\": 13515.0, \"confirmed_cases_per_100k\": 3541.643477375636, \"deaths_per_100k\": 73.25175192205387, \"new_confirmed_cases\": 4158.0, \"new_deaths\": 32.0, \"new_recoveries\": 80.0, \"agencies_count\": 3.0, \"agencies_updated\": 3.0, \"updated\": true, \"in_progress\": false}, {\"date\": \"2020-11-21\", \"county\": \"Los Angeles\", \"fips\": 37, \"population\": 10098052, \"confirmed_cases\": 362024.0, \"deaths\": 7429.0, \"recoveries\": 13618.0, \"confirmed_cases_per_100k\": 3585.0875000445635, \"deaths_per_100k\": 73.56864472474494, \"new_confirmed_cases\": 4387.0, \"new_deaths\": 32.0, \"new_recoveries\": 103.0, \"agencies_count\": 3.0, \"agencies_updated\": 3.0, \"updated\": true, \"in_progress\": false}, {\"date\": \"2020-11-22\", \"county\": \"Los Angeles\", \"fips\": 37, \"population\": 10098052, \"confirmed_cases\": 364583.0, \"deaths\": 7438.0, \"recoveries\": 13618.0, \"confirmed_cases_per_100k\": 3610.4290213597633, \"deaths_per_100k\": 73.6577708255018, \"new_confirmed_cases\": 2559.0, \"new_deaths\": 9.0, \"new_recoveries\": 0.0, \"agencies_count\": 3.0, \"agencies_updated\": 2.0, \"updated\": true, \"in_progress\": false}, {\"date\": \"2020-11-23\", \"county\": \"Los Angeles\", \"fips\": 37, \"population\": 10098052, \"confirmed_cases\": 370769.0, \"deaths\": 7456.0, \"recoveries\": 13705.0, \"confirmed_cases_per_100k\": 3671.6883612799775, \"deaths_per_100k\": 73.83602302701551, \"new_confirmed_cases\": 6186.0, \"new_deaths\": 18.0, \"new_recoveries\": 87.0, \"agencies_count\": 3.0, \"agencies_updated\": 3.0, \"updated\": true, \"in_progress\": false}, {\"date\": \"2020-11-24\", \"county\": \"Los Angeles\", \"fips\": 37, \"population\": 10098052, \"confirmed_cases\": 374479.0, \"deaths\": 7501.0, \"recoveries\": 13792.0, \"confirmed_cases_per_100k\": 3708.428120591972, \"deaths_per_100k\": 74.2816535307998, \"new_confirmed_cases\": 3710.0, \"new_deaths\": 45.0, \"new_recoveries\": 87.0, \"agencies_count\": 3.0, \"agencies_updated\": 3.0, \"updated\": true, \"in_progress\": false}, {\"date\": \"2020-11-25\", \"county\": \"Los Angeles\", \"fips\": 37, \"population\": 10098052, \"confirmed_cases\": 378361.0, \"deaths\": 7543.0, \"recoveries\": 13792.0, \"confirmed_cases_per_100k\": 3746.8711787184297, \"deaths_per_100k\": 74.6975753343318, \"new_confirmed_cases\": 3882.0, \"new_deaths\": 42.0, \"new_recoveries\": 0.0, \"agencies_count\": 3.0, \"agencies_updated\": 3.0, \"updated\": true, \"in_progress\": false}, {\"date\": \"2020-11-26\", \"county\": \"Los Angeles\", \"fips\": 37, \"population\": 10098052, \"confirmed_cases\": 383275.0, \"deaths\": 7580.0, \"recoveries\": 13792.0, \"confirmed_cases_per_100k\": 3795.5340297316748, \"deaths_per_100k\": 75.06398263744335, \"new_confirmed_cases\": 4914.0, \"new_deaths\": 37.0, \"new_recoveries\": 0.0, \"agencies_count\": 3.0, \"agencies_updated\": 1.0, \"updated\": true, \"in_progress\": false}, {\"date\": \"2020-11-27\", \"county\": \"Los Angeles\", \"fips\": 37, \"population\": 10098052, \"confirmed_cases\": 387793.0, \"deaths\": 7604.0, \"recoveries\": 13792.0, \"confirmed_cases_per_100k\": 3840.2753323116185, \"deaths_per_100k\": 75.30165223946162, \"new_confirmed_cases\": 4518.0, \"new_deaths\": 24.0, \"new_recoveries\": 0.0, \"agencies_count\": 3.0, \"agencies_updated\": 1.0, \"updated\": true, \"in_progress\": false}, {\"date\": \"2020-11-28\", \"county\": \"Los Angeles\", \"fips\": 37, \"population\": 10098052, \"confirmed_cases\": 391225.0, \"deaths\": 7623.0, \"recoveries\": 14205.0, \"confirmed_cases_per_100k\": 3874.262085400234, \"deaths_per_100k\": 75.48980734105946, \"new_confirmed_cases\": 3432.0, \"new_deaths\": 19.0, \"new_recoveries\": 413.0, \"agencies_count\": 3.0, \"agencies_updated\": 3.0, \"updated\": true, \"in_progress\": false}, {\"date\": \"2020-11-29\", \"county\": \"Los Angeles\", \"fips\": 37, \"population\": 10098052, \"confirmed_cases\": 395879.0, \"deaths\": 7639.0, \"recoveries\": 14205.0, \"confirmed_cases_per_100k\": 3920.3501823916135, \"deaths_per_100k\": 75.64825374240499, \"new_confirmed_cases\": 4654.0, \"new_deaths\": 16.0, \"new_recoveries\": 0.0, \"agencies_count\": 3.0, \"agencies_updated\": 2.0, \"updated\": true, \"in_progress\": false}, {\"date\": \"2020-11-30\", \"county\": \"Los Angeles\", \"fips\": 37, \"population\": 10098052, \"confirmed_cases\": 401448.0, \"deaths\": 7656.0, \"recoveries\": 14378.0, \"confirmed_cases_per_100k\": 3975.499432959941, \"deaths_per_100k\": 75.81660304383459, \"new_confirmed_cases\": 5569.0, \"new_deaths\": 17.0, \"new_recoveries\": 173.0, \"agencies_count\": 3.0, \"agencies_updated\": 3.0, \"updated\": true, \"in_progress\": false}, {\"date\": \"2020-12-01\", \"county\": \"Los Angeles\", \"fips\": 37, \"population\": 10098052, \"confirmed_cases\": 409015.0, \"deaths\": 7702.0, \"recoveries\": 14518.0, \"confirmed_cases_per_100k\": 4050.434677896291, \"deaths_per_100k\": 76.27213644770298, \"new_confirmed_cases\": 7567.0, \"new_deaths\": 46.0, \"new_recoveries\": 140.0, \"agencies_count\": 3.0, \"agencies_updated\": 3.0, \"updated\": true, \"in_progress\": false}, {\"date\": \"2020-12-02\", \"county\": \"Los Angeles\", \"fips\": 37, \"population\": 10098052, \"confirmed_cases\": 414549.0, \"deaths\": 7743.0, \"recoveries\": 14683.0, \"confirmed_cases_per_100k\": 4105.237326961676, \"deaths_per_100k\": 76.6781553511509, \"new_confirmed_cases\": 5534.0, \"new_deaths\": 41.0, \"new_recoveries\": 165.0, \"agencies_count\": 3.0, \"agencies_updated\": 3.0, \"updated\": true, \"in_progress\": false}, {\"date\": \"2020-12-03\", \"county\": \"Los Angeles\", \"fips\": 37, \"population\": 10098052, \"confirmed_cases\": 422262.0, \"deaths\": 7787.0, \"recoveries\": 14837.0, \"confirmed_cases_per_100k\": 4181.618395310304, \"deaths_per_100k\": 77.11388295485109, \"new_confirmed_cases\": 7713.0, \"new_deaths\": 44.0, \"new_recoveries\": 154.0, \"agencies_count\": 3.0, \"agencies_updated\": 3.0, \"updated\": true, \"in_progress\": false}, {\"date\": \"2020-12-04\", \"county\": \"Los Angeles\", \"fips\": 37, \"population\": 10098052, \"confirmed_cases\": 430824.0, \"deaths\": 7843.0, \"recoveries\": 15027.0, \"confirmed_cases_per_100k\": 4266.407025830329, \"deaths_per_100k\": 77.66844535956044, \"new_confirmed_cases\": 8562.0, \"new_deaths\": 56.0, \"new_recoveries\": 190.0, \"agencies_count\": 3.0, \"agencies_updated\": 3.0, \"updated\": true, \"in_progress\": false}, {\"date\": \"2020-12-05\", \"county\": \"Los Angeles\", \"fips\": 37, \"population\": 10098052, \"confirmed_cases\": 440042.0, \"deaths\": 7886.0, \"recoveries\": 15217.0, \"confirmed_cases_per_100k\": 4357.69195880552, \"deaths_per_100k\": 78.09427006317655, \"new_confirmed_cases\": 9218.0, \"new_deaths\": 43.0, \"new_recoveries\": 190.0, \"agencies_count\": 3.0, \"agencies_updated\": 3.0, \"updated\": true, \"in_progress\": false}, {\"date\": \"2020-12-06\", \"county\": \"Los Angeles\", \"fips\": 37, \"population\": 10098052, \"confirmed_cases\": 449971.0, \"deaths\": 7909.0, \"recoveries\": 15217.0, \"confirmed_cases_per_100k\": 4456.0178537405045, \"deaths_per_100k\": 78.32203676511074, \"new_confirmed_cases\": 9929.0, \"new_deaths\": 23.0, \"new_recoveries\": 0.0, \"agencies_count\": 3.0, \"agencies_updated\": 2.0, \"updated\": true, \"in_progress\": false}, {\"date\": \"2020-12-07\", \"county\": \"Los Angeles\", \"fips\": 37, \"population\": 10098052, \"confirmed_cases\": 458255.0, \"deaths\": 7936.0, \"recoveries\": 15438.0, \"confirmed_cases_per_100k\": 4538.05347803715, \"deaths_per_100k\": 78.58941506738131, \"new_confirmed_cases\": 8284.0, \"new_deaths\": 27.0, \"new_recoveries\": 221.0, \"agencies_count\": 3.0, \"agencies_updated\": 3.0, \"updated\": true, \"in_progress\": false}, {\"date\": \"2020-12-08\", \"county\": \"Los Angeles\", \"fips\": 37, \"population\": 10098052, \"confirmed_cases\": 467189.0, \"deaths\": 8006.0, \"recoveries\": 15699.0, \"confirmed_cases_per_100k\": 4626.525987388459, \"deaths_per_100k\": 79.282618073268, \"new_confirmed_cases\": 8934.0, \"new_deaths\": 70.0, \"new_recoveries\": 261.0, \"agencies_count\": 3.0, \"agencies_updated\": 3.0, \"updated\": true, \"in_progress\": false}, {\"date\": \"2020-12-09\", \"county\": \"Los Angeles\", \"fips\": 37, \"population\": 10098052, \"confirmed_cases\": 475778.0, \"deaths\": 8077.0, \"recoveries\": 15951.0, \"confirmed_cases_per_100k\": 4711.5819962107535, \"deaths_per_100k\": 79.98572397923877, \"new_confirmed_cases\": 8589.0, \"new_deaths\": 71.0, \"new_recoveries\": 252.0, \"agencies_count\": 3.0, \"agencies_updated\": 3.0, \"updated\": true, \"in_progress\": false}, {\"date\": \"2020-12-10\", \"county\": \"Los Angeles\", \"fips\": 37, \"population\": 10098052, \"confirmed_cases\": 488519.0, \"deaths\": 8151.0, \"recoveries\": 16213.0, \"confirmed_cases_per_100k\": 4837.754846182213, \"deaths_per_100k\": 80.71853858546183, \"new_confirmed_cases\": 12741.0, \"new_deaths\": 74.0, \"new_recoveries\": 262.0, \"agencies_count\": 3.0, \"agencies_updated\": 3.0, \"updated\": true, \"in_progress\": false}, {\"date\": \"2020-12-11\", \"county\": \"Los Angeles\", \"fips\": 37, \"population\": 10098052, \"confirmed_cases\": 502026.0, \"deaths\": 8202.0, \"recoveries\": 16298.0, \"confirmed_cases_per_100k\": 4971.513317618092, \"deaths_per_100k\": 81.22358648975069, \"new_confirmed_cases\": 13507.0, \"new_deaths\": 51.0, \"new_recoveries\": 85.0, \"agencies_count\": 3.0, \"agencies_updated\": 3.0, \"updated\": true, \"in_progress\": false}, {\"date\": \"2020-12-12\", \"county\": \"Los Angeles\", \"fips\": 37, \"population\": 10098052, \"confirmed_cases\": 513283.0, \"deaths\": 8273.0, \"recoveries\": 16458.0, \"confirmed_cases_per_100k\": 5082.990263864754, \"deaths_per_100k\": 81.92669239572146, \"new_confirmed_cases\": 11257.0, \"new_deaths\": 71.0, \"new_recoveries\": 160.0, \"agencies_count\": 3.0, \"agencies_updated\": 3.0, \"updated\": true, \"in_progress\": false}, {\"date\": \"2020-12-13\", \"county\": \"Los Angeles\", \"fips\": 37, \"population\": 10098052, \"confirmed_cases\": 525564.0, \"deaths\": 8298.0, \"recoveries\": 16458.0, \"confirmed_cases_per_100k\": 5204.6077797975295, \"deaths_per_100k\": 82.17426489782383, \"new_confirmed_cases\": 12281.0, \"new_deaths\": 25.0, \"new_recoveries\": 0.0, \"agencies_count\": 3.0, \"agencies_updated\": 2.0, \"updated\": true, \"in_progress\": false}, {\"date\": \"2020-12-14\", \"county\": \"Los Angeles\", \"fips\": 37, \"population\": 10098052, \"confirmed_cases\": 533123.0, \"deaths\": 8345.0, \"recoveries\": 16786.0, \"confirmed_cases_per_100k\": 5279.463801533207, \"deaths_per_100k\": 82.63970120177633, \"new_confirmed_cases\": 7559.0, \"new_deaths\": 47.0, \"new_recoveries\": 328.0, \"agencies_count\": 3.0, \"agencies_updated\": 3.0, \"updated\": true, \"in_progress\": false}, {\"date\": \"2020-12-15\", \"county\": \"Los Angeles\", \"fips\": 37, \"population\": 10098052, \"confirmed_cases\": 544780.0, \"deaths\": 8438.0, \"recoveries\": 17098.0, \"confirmed_cases_per_100k\": 5394.901907813507, \"deaths_per_100k\": 83.56067090959722, \"new_confirmed_cases\": 11657.0, \"new_deaths\": 93.0, \"new_recoveries\": 312.0, \"agencies_count\": 3.0, \"agencies_updated\": 3.0, \"updated\": true, \"in_progress\": false}, {\"date\": \"2020-12-16\", \"county\": \"Los Angeles\", \"fips\": 37, \"population\": 10098052, \"confirmed_cases\": 567249.0, \"deaths\": 8572.0, \"recoveries\": 17434.0, \"confirmed_cases_per_100k\": 5617.410169803047, \"deaths_per_100k\": 84.88765952086601, \"new_confirmed_cases\": 22469.0, \"new_deaths\": 134.0, \"new_recoveries\": 336.0, \"agencies_count\": 3.0, \"agencies_updated\": 3.0, \"updated\": true, \"in_progress\": false}, {\"date\": \"2020-12-17\", \"county\": \"Los Angeles\", \"fips\": 37, \"population\": 10098052, \"confirmed_cases\": 581519.0, \"deaths\": 8671.0, \"recoveries\": 17791.0, \"confirmed_cases_per_100k\": 5758.72455400309, \"deaths_per_100k\": 85.86804662919145, \"new_confirmed_cases\": 14270.0, \"new_deaths\": 99.0, \"new_recoveries\": 357.0, \"agencies_count\": 3.0, \"agencies_updated\": 3.0, \"updated\": true, \"in_progress\": false}, {\"date\": \"2020-12-18\", \"county\": \"Los Angeles\", \"fips\": 37, \"population\": 10098052, \"confirmed_cases\": 597386.0, \"deaths\": 8758.0, \"recoveries\": 18219.0, \"confirmed_cases_per_100k\": 5915.853869637431, \"deaths_per_100k\": 86.72959893650776, \"new_confirmed_cases\": 15867.0, \"new_deaths\": 87.0, \"new_recoveries\": 428.0, \"agencies_count\": 3.0, \"agencies_updated\": 3.0, \"updated\": true, \"in_progress\": false}, {\"date\": \"2020-12-19\", \"county\": \"Los Angeles\", \"fips\": 37, \"population\": 10098052, \"confirmed_cases\": 610907.0, \"deaths\": 8822.0, \"recoveries\": 18587.0, \"confirmed_cases_per_100k\": 6049.750981674485, \"deaths_per_100k\": 87.36338454188986, \"new_confirmed_cases\": 13521.0, \"new_deaths\": 64.0, \"new_recoveries\": 368.0, \"agencies_count\": 3.0, \"agencies_updated\": 3.0, \"updated\": true, \"in_progress\": false}, {\"date\": \"2020-12-20\", \"county\": \"Los Angeles\", \"fips\": 37, \"population\": 10098052, \"confirmed_cases\": 623792.0, \"deaths\": 8875.0, \"recoveries\": 18587.0, \"confirmed_cases_per_100k\": 6177.349849258056, \"deaths_per_100k\": 87.88823824634692, \"new_confirmed_cases\": 12885.0, \"new_deaths\": 53.0, \"new_recoveries\": 0.0, \"agencies_count\": 3.0, \"agencies_updated\": 2.0, \"updated\": true, \"in_progress\": false}, {\"date\": \"2020-12-21\", \"county\": \"Los Angeles\", \"fips\": 37, \"population\": 10098052, \"confirmed_cases\": 636190.0, \"deaths\": 8935.0, \"recoveries\": 19074.0, \"confirmed_cases_per_100k\": 6300.126004500669, \"deaths_per_100k\": 88.48241225139265, \"new_confirmed_cases\": 12398.0, \"new_deaths\": 60.0, \"new_recoveries\": 487.0, \"agencies_count\": 3.0, \"agencies_updated\": 3.0, \"updated\": true, \"in_progress\": false}, {\"date\": \"2020-12-22\", \"county\": \"Los Angeles\", \"fips\": 37, \"population\": 10098052, \"confirmed_cases\": 648062.0, \"deaths\": 9031.0, \"recoveries\": 19538.0, \"confirmed_cases_per_100k\": 6417.69323429905, \"deaths_per_100k\": 89.43309065946579, \"new_confirmed_cases\": 11872.0, \"new_deaths\": 96.0, \"new_recoveries\": 464.0, \"agencies_count\": 3.0, \"agencies_updated\": 3.0, \"updated\": true, \"in_progress\": false}, {\"date\": \"2020-12-23\", \"county\": \"Los Angeles\", \"fips\": 37, \"population\": 10098052, \"confirmed_cases\": 665036.0, \"deaths\": 9165.0, \"recoveries\": 19927.0, \"confirmed_cases_per_100k\": 6585.785060326486, \"deaths_per_100k\": 90.7600792707346, \"new_confirmed_cases\": 16974.0, \"new_deaths\": 134.0, \"new_recoveries\": 389.0, \"agencies_count\": 3.0, \"agencies_updated\": 3.0, \"updated\": true, \"in_progress\": false}, {\"date\": \"2020-12-24\", \"county\": \"Los Angeles\", \"fips\": 37, \"population\": 10098052, \"confirmed_cases\": 678040.0, \"deaths\": 9305.0, \"recoveries\": 20383.0, \"confirmed_cases_per_100k\": 6714.562373020063, \"deaths_per_100k\": 92.14648528250795, \"new_confirmed_cases\": 13004.0, \"new_deaths\": 140.0, \"new_recoveries\": 456.0, \"agencies_count\": 3.0, \"agencies_updated\": 2.0, \"updated\": true, \"in_progress\": false}, {\"date\": \"2020-12-25\", \"county\": \"Los Angeles\", \"fips\": 37, \"population\": 10098052, \"confirmed_cases\": 678040.0, \"deaths\": 9305.0, \"recoveries\": 20383.0, \"confirmed_cases_per_100k\": 6714.562373020063, \"deaths_per_100k\": 92.14648528250795, \"new_confirmed_cases\": 0.0, \"new_deaths\": 0.0, \"new_recoveries\": 0.0, \"agencies_count\": 3.0, \"agencies_updated\": 0.0, \"updated\": false, \"in_progress\": false}, {\"date\": \"2020-12-26\", \"county\": \"Los Angeles\", \"fips\": 37, \"population\": 10098052, \"confirmed_cases\": 707463.0, \"deaths\": 9441.0, \"recoveries\": 21066.0, \"confirmed_cases_per_100k\": 7005.935402194405, \"deaths_per_100k\": 93.49327969394493, \"new_confirmed_cases\": 29423.0, \"new_deaths\": 136.0, \"new_recoveries\": 683.0, \"agencies_count\": 3.0, \"agencies_updated\": 3.0, \"updated\": true, \"in_progress\": false}, {\"date\": \"2020-12-27\", \"county\": \"Los Angeles\", \"fips\": 37, \"population\": 10098052, \"confirmed_cases\": 719960.0, \"deaths\": 9485.0, \"recoveries\": 21066.0, \"confirmed_cases_per_100k\": 7129.691944545344, \"deaths_per_100k\": 93.92900729764513, \"new_confirmed_cases\": 12497.0, \"new_deaths\": 44.0, \"new_recoveries\": 0.0, \"agencies_count\": 3.0, \"agencies_updated\": 2.0, \"updated\": true, \"in_progress\": false}, {\"date\": \"2020-12-28\", \"county\": \"Los Angeles\", \"fips\": 37, \"population\": 10098052, \"confirmed_cases\": 734860.0, \"deaths\": 9564.0, \"recoveries\": 21578.0, \"confirmed_cases_per_100k\": 7277.245155798366, \"deaths_per_100k\": 94.71133640428869, \"new_confirmed_cases\": 14900.0, \"new_deaths\": 79.0, \"new_recoveries\": 512.0, \"agencies_count\": 3.0, \"agencies_updated\": 3.0, \"updated\": true, \"in_progress\": false}, {\"date\": \"2020-12-29\", \"county\": \"Los Angeles\", \"fips\": 37, \"population\": 10098052, \"confirmed_cases\": 746666.0, \"deaths\": 9806.0, \"recoveries\": 22218.0, \"confirmed_cases_per_100k\": 7394.158794191198, \"deaths_per_100k\": 97.10783822463976, \"new_confirmed_cases\": 11806.0, \"new_deaths\": 242.0, \"new_recoveries\": 640.0, \"agencies_count\": 3.0, \"agencies_updated\": 3.0, \"updated\": true, \"in_progress\": false}, {\"date\": \"2020-12-30\", \"county\": \"Los Angeles\", \"fips\": 37, \"population\": 10098052, \"confirmed_cases\": 756840.0, \"deaths\": 10068.0, \"recoveries\": 22765.0, \"confirmed_cases_per_100k\": 7494.910899646783, \"deaths_per_100k\": 99.70239804667277, \"new_confirmed_cases\": 10174.0, \"new_deaths\": 262.0, \"new_recoveries\": 547.0, \"agencies_count\": 3.0, \"agencies_updated\": 3.0, \"updated\": true, \"in_progress\": false}, {\"date\": \"2020-12-31\", \"county\": \"Los Angeles\", \"fips\": 37, \"population\": 10098052, \"confirmed_cases\": 771519.0, \"deaths\": 10359.0, \"recoveries\": 23125.0, \"confirmed_cases_per_100k\": 7640.2755699812205, \"deaths_per_100k\": 102.58414197114452, \"new_confirmed_cases\": 14679.0, \"new_deaths\": 291.0, \"new_recoveries\": 360.0, \"agencies_count\": 3.0, \"agencies_updated\": 3.0, \"updated\": true, \"in_progress\": false}, {\"date\": \"2021-01-01\", \"county\": \"Los Angeles\", \"fips\": 37, \"population\": 10098052, \"confirmed_cases\": 790582.0, \"deaths\": 10552.0, \"recoveries\": 23125.0, \"confirmed_cases_per_100k\": 7829.054554284331, \"deaths_per_100k\": 104.49540168737494, \"new_confirmed_cases\": 19063.0, \"new_deaths\": 193.0, \"new_recoveries\": 0.0, \"agencies_count\": 3.0, \"agencies_updated\": 1.0, \"updated\": true, \"in_progress\": false}, {\"date\": \"2021-01-02\", \"county\": \"Los Angeles\", \"fips\": 37, \"population\": 10098052, \"confirmed_cases\": 807185.0, \"deaths\": 10688.0, \"recoveries\": 23994.0, \"confirmed_cases_per_100k\": 7993.472404380567, \"deaths_per_100k\": 105.84219609881191, \"new_confirmed_cases\": 16603.0, \"new_deaths\": 136.0, \"new_recoveries\": 869.0, \"agencies_count\": 3.0, \"agencies_updated\": 3.0, \"updated\": true, \"in_progress\": false}, {\"date\": \"2021-01-03\", \"county\": \"Los Angeles\", \"fips\": 37, \"population\": 10098052, \"confirmed_cases\": 818698.0, \"deaths\": 10773.0, \"recoveries\": 23994.0, \"confirmed_cases_per_100k\": 8107.484493048759, \"deaths_per_100k\": 106.68394260596004, \"new_confirmed_cases\": 11513.0, \"new_deaths\": 85.0, \"new_recoveries\": 0.0, \"agencies_count\": 3.0, \"agencies_updated\": 2.0, \"updated\": true, \"in_progress\": false}, {\"date\": \"2021-01-04\", \"county\": \"Los Angeles\", \"fips\": 37, \"population\": 10098052, \"confirmed_cases\": 829549.0, \"deaths\": 10852.0, \"recoveries\": 24413.0, \"confirmed_cases_per_100k\": 8214.940861861278, \"deaths_per_100k\": 107.46627171260357, \"new_confirmed_cases\": 10851.0, \"new_deaths\": 79.0, \"new_recoveries\": 419.0, \"agencies_count\": 3.0, \"agencies_updated\": 3.0, \"updated\": true, \"in_progress\": false}, {\"date\": \"2021-01-05\", \"county\": \"Los Angeles\", \"fips\": 37, \"population\": 10098052, \"confirmed_cases\": 841392.0, \"deaths\": 11089.0, \"recoveries\": 25053.0, \"confirmed_cases_per_100k\": 8332.220907557221, \"deaths_per_100k\": 109.8132590325342, \"new_confirmed_cases\": 11843.0, \"new_deaths\": 237.0, \"new_recoveries\": 640.0, \"agencies_count\": 3.0, \"agencies_updated\": 3.0, \"updated\": true, \"in_progress\": false}, {\"date\": \"2021-01-06\", \"county\": \"Los Angeles\", \"fips\": 37, \"population\": 10098052, \"confirmed_cases\": 853440.0, \"deaths\": 11349.0, \"recoveries\": 25684.0, \"confirmed_cases_per_100k\": 8451.5310477704, \"deaths_per_100k\": 112.388013054399, \"new_confirmed_cases\": 12048.0, \"new_deaths\": 260.0, \"new_recoveries\": 631.0, \"agencies_count\": 3.0, \"agencies_updated\": 3.0, \"updated\": true, \"in_progress\": false}, {\"date\": \"2021-01-07\", \"county\": \"Los Angeles\", \"fips\": 37, \"population\": 10098052, \"confirmed_cases\": 872204.0, \"deaths\": 11554.0, \"recoveries\": 26007.0, \"confirmed_cases_per_100k\": 8637.349064948368, \"deaths_per_100k\": 114.41810757163857, \"new_confirmed_cases\": 18764.0, \"new_deaths\": 205.0, \"new_recoveries\": 323.0, \"agencies_count\": 3.0, \"agencies_updated\": 3.0, \"updated\": true, \"in_progress\": false}, {\"date\": \"2021-01-08\", \"county\": \"Los Angeles\", \"fips\": 37, \"population\": 10098052, \"confirmed_cases\": 890031.0, \"deaths\": 11872.0, \"recoveries\": 26263.0, \"confirmed_cases_per_100k\": 8813.888064747536, \"deaths_per_100k\": 117.56722979838092, \"new_confirmed_cases\": 17827.0, \"new_deaths\": 318.0, \"new_recoveries\": 256.0, \"agencies_count\": 3.0, \"agencies_updated\": 3.0, \"updated\": true, \"in_progress\": false}, {\"date\": \"2021-01-09\", \"county\": \"Los Angeles\", \"fips\": 37, \"population\": 10098052, \"confirmed_cases\": 907077.0, \"deaths\": 12090.0, \"recoveries\": 26426.0, \"confirmed_cases_per_100k\": 8982.692899581029, \"deaths_per_100k\": 119.72606201671371, \"new_confirmed_cases\": 17046.0, \"new_deaths\": 218.0, \"new_recoveries\": 163.0, \"agencies_count\": 3.0, \"agencies_updated\": 3.0, \"updated\": true, \"in_progress\": false}, {\"date\": \"2021-01-10\", \"county\": \"Los Angeles\", \"fips\": 37, \"population\": 10098052, \"confirmed_cases\": 920324.0, \"deaths\": 12252.0, \"recoveries\": 26426.0, \"confirmed_cases_per_100k\": 9113.87661699504, \"deaths_per_100k\": 121.33033183033716, \"new_confirmed_cases\": 13247.0, \"new_deaths\": 162.0, \"new_recoveries\": 0.0, \"agencies_count\": 3.0, \"agencies_updated\": 2.0, \"updated\": true, \"in_progress\": false}, {\"date\": \"2021-01-11\", \"county\": \"Los Angeles\", \"fips\": 37, \"population\": 10098052, \"confirmed_cases\": 932901.0, \"deaths\": 12388.0, \"recoveries\": 26950.0, \"confirmed_cases_per_100k\": 9238.425391352708, \"deaths_per_100k\": 122.67712624177416, \"new_confirmed_cases\": 12577.0, \"new_deaths\": 136.0, \"new_recoveries\": 524.0, \"agencies_count\": 3.0, \"agencies_updated\": 3.0, \"updated\": true, \"in_progress\": false}, {\"date\": \"2021-01-12\", \"county\": \"Los Angeles\", \"fips\": 37, \"population\": 10098052, \"confirmed_cases\": 947035.0, \"deaths\": 12706.0, \"recoveries\": 27540.0, \"confirmed_cases_per_100k\": 9378.392981141313, \"deaths_per_100k\": 125.82624846851652, \"new_confirmed_cases\": 14134.0, \"new_deaths\": 318.0, \"new_recoveries\": 590.0, \"agencies_count\": 3.0, \"agencies_updated\": 3.0, \"updated\": true, \"in_progress\": false}, {\"date\": \"2021-01-13\", \"county\": \"Los Angeles\", \"fips\": 37, \"population\": 10098052, \"confirmed_cases\": 959156.0, \"deaths\": 12972.0, \"recoveries\": 28264.0, \"confirmed_cases_per_100k\": 9498.426033060634, \"deaths_per_100k\": 128.4604198908859, \"new_confirmed_cases\": 12121.0, \"new_deaths\": 266.0, \"new_recoveries\": 724.0, \"agencies_count\": 3.0, \"agencies_updated\": 3.0, \"updated\": true, \"in_progress\": false}, {\"date\": \"2021-01-14\", \"county\": \"Los Angeles\", \"fips\": 37, \"population\": 10098052, \"confirmed_cases\": 976075.0, \"deaths\": 13244.0, \"recoveries\": 28594.0, \"confirmed_cases_per_100k\": 9665.973199583445, \"deaths_per_100k\": 131.15400871375985, \"new_confirmed_cases\": 16919.0, \"new_deaths\": 272.0, \"new_recoveries\": 330.0, \"agencies_count\": 3.0, \"agencies_updated\": 3.0, \"updated\": true, \"in_progress\": false}, {\"date\": \"2021-01-15\", \"county\": \"Los Angeles\", \"fips\": 37, \"population\": 10098052, \"confirmed_cases\": 990632.0, \"deaths\": 13504.0, \"recoveries\": 28833.0, \"confirmed_cases_per_100k\": 9810.129716107622, \"deaths_per_100k\": 133.72876273562466, \"new_confirmed_cases\": 14557.0, \"new_deaths\": 260.0, \"new_recoveries\": 239.0, \"agencies_count\": 3.0, \"agencies_updated\": 3.0, \"updated\": true, \"in_progress\": false}]}}, {\"mode\": \"vega-lite\"});\n",
       "</script>"
      ],
      "text/plain": [
       "alt.Chart(...)"
      ]
     },
     "execution_count": 15,
     "metadata": {},
     "output_type": "execute_result"
    }
   ],
   "source": [
    "alt.Chart(la).mark_line().encode(\n",
    "    x=alt.X(\n",
    "        \"date:T\",\n",
    "        axis=alt.Axis(tickCount=2, format=(\"%b. %-d\"), grid=False, tickColor=\"#ffffff\"),\n",
    "    ),\n",
    "    y=alt.Y(\n",
    "        \"new_confirmed_cases_seven_day_per_100k:Q\",\n",
    "        title=\"\",\n",
    "        axis=alt.Axis(tickColor=\"#ffffff\"),\n",
    "    ),\n",
    ").properties(width=500, height=300).configure_axis()"
   ]
  },
  {
   "cell_type": "markdown",
   "metadata": {},
   "source": [
    "---"
   ]
  },
  {
   "cell_type": "code",
   "execution_count": 16,
   "metadata": {},
   "outputs": [],
   "source": [
    "cases = pd.read_csv(\n",
    "    \"../../coronavirus-tracker/_notebooks/data/processed/places/timeseries.csv\",\n",
    "    low_memory=False,\n",
    ")"
   ]
  },
  {
   "cell_type": "markdown",
   "metadata": {},
   "source": [
    "### Get places in Los Angeles County"
   ]
  },
  {
   "cell_type": "code",
   "execution_count": 17,
   "metadata": {},
   "outputs": [],
   "source": [
    "places = cases[(cases[\"zcta_id\"].isna()) & (cases[\"county\"] == \"Los Angeles\")]"
   ]
  },
  {
   "cell_type": "code",
   "execution_count": 18,
   "metadata": {},
   "outputs": [],
   "source": [
    "places_latest = places[places[\"date\"] == places[\"date\"].max()][\n",
    "    [\n",
    "        \"name\",\n",
    "        \"date\",\n",
    "        \"new_confirmed_cases_seven_day_per_100k\",\n",
    "        \"new_confirmed_cases_seven_day_total\",\n",
    "        \"population\",\n",
    "    ]\n",
    "]"
   ]
  },
  {
   "cell_type": "code",
   "execution_count": 19,
   "metadata": {},
   "outputs": [
    {
     "data": {
      "text/plain": [
       "334"
      ]
     },
     "execution_count": 19,
     "metadata": {},
     "output_type": "execute_result"
    }
   ],
   "source": [
    "len(places_latest)"
   ]
  },
  {
   "cell_type": "code",
   "execution_count": 20,
   "metadata": {},
   "outputs": [
    {
     "data": {
      "text/html": [
       "<div>\n",
       "<style scoped>\n",
       "    .dataframe tbody tr th:only-of-type {\n",
       "        vertical-align: middle;\n",
       "    }\n",
       "\n",
       "    .dataframe tbody tr th {\n",
       "        vertical-align: top;\n",
       "    }\n",
       "\n",
       "    .dataframe thead th {\n",
       "        text-align: right;\n",
       "    }\n",
       "</style>\n",
       "<table border=\"1\" class=\"dataframe\">\n",
       "  <thead>\n",
       "    <tr style=\"text-align: right;\">\n",
       "      <th></th>\n",
       "      <th>name</th>\n",
       "      <th>date</th>\n",
       "      <th>new_confirmed_cases_seven_day_per_100k</th>\n",
       "      <th>new_confirmed_cases_seven_day_total</th>\n",
       "      <th>population</th>\n",
       "    </tr>\n",
       "  </thead>\n",
       "  <tbody>\n",
       "    <tr>\n",
       "      <th>134809</th>\n",
       "      <td>Playa Del Rey</td>\n",
       "      <td>2021-02-16</td>\n",
       "      <td>62.578223</td>\n",
       "      <td>2.0</td>\n",
       "      <td>3196.0</td>\n",
       "    </tr>\n",
       "  </tbody>\n",
       "</table>\n",
       "</div>"
      ],
      "text/plain": [
       "                 name        date  new_confirmed_cases_seven_day_per_100k  \\\n",
       "134809  Playa Del Rey  2021-02-16                               62.578223   \n",
       "\n",
       "        new_confirmed_cases_seven_day_total  population  \n",
       "134809                                  2.0      3196.0  "
      ]
     },
     "execution_count": 20,
     "metadata": {},
     "output_type": "execute_result"
    }
   ],
   "source": [
    "places_latest[places_latest[\"name\"] == \"Playa Del Rey\"]"
   ]
  },
  {
   "cell_type": "code",
   "execution_count": 21,
   "metadata": {},
   "outputs": [
    {
     "data": {
      "text/html": [
       "<div>\n",
       "<style scoped>\n",
       "    .dataframe tbody tr th:only-of-type {\n",
       "        vertical-align: middle;\n",
       "    }\n",
       "\n",
       "    .dataframe tbody tr th {\n",
       "        vertical-align: top;\n",
       "    }\n",
       "\n",
       "    .dataframe thead th {\n",
       "        text-align: right;\n",
       "    }\n",
       "</style>\n",
       "<table border=\"1\" class=\"dataframe\">\n",
       "  <thead>\n",
       "    <tr style=\"text-align: right;\">\n",
       "      <th></th>\n",
       "      <th>name</th>\n",
       "      <th>date</th>\n",
       "      <th>new_confirmed_cases_seven_day_per_100k</th>\n",
       "      <th>new_confirmed_cases_seven_day_total</th>\n",
       "      <th>population</th>\n",
       "    </tr>\n",
       "  </thead>\n",
       "  <tbody>\n",
       "    <tr>\n",
       "      <th>69237</th>\n",
       "      <td>Acton</td>\n",
       "      <td>2021-02-16</td>\n",
       "      <td>150.545728</td>\n",
       "      <td>12.0</td>\n",
       "      <td>7971.0</td>\n",
       "    </tr>\n",
       "    <tr>\n",
       "      <th>69575</th>\n",
       "      <td>Adams-Normandie</td>\n",
       "      <td>2021-02-16</td>\n",
       "      <td>73.152890</td>\n",
       "      <td>6.0</td>\n",
       "      <td>8202.0</td>\n",
       "    </tr>\n",
       "    <tr>\n",
       "      <th>69913</th>\n",
       "      <td>Agoura Hills</td>\n",
       "      <td>2021-02-16</td>\n",
       "      <td>95.771680</td>\n",
       "      <td>20.0</td>\n",
       "      <td>20883.0</td>\n",
       "    </tr>\n",
       "    <tr>\n",
       "      <th>70251</th>\n",
       "      <td>Agua Dulce</td>\n",
       "      <td>2021-02-16</td>\n",
       "      <td>96.200096</td>\n",
       "      <td>4.0</td>\n",
       "      <td>4158.0</td>\n",
       "    </tr>\n",
       "    <tr>\n",
       "      <th>70589</th>\n",
       "      <td>Alhambra</td>\n",
       "      <td>2021-02-16</td>\n",
       "      <td>109.542918</td>\n",
       "      <td>95.0</td>\n",
       "      <td>86724.0</td>\n",
       "    </tr>\n",
       "  </tbody>\n",
       "</table>\n",
       "</div>"
      ],
      "text/plain": [
       "                  name        date  new_confirmed_cases_seven_day_per_100k  \\\n",
       "69237            Acton  2021-02-16                              150.545728   \n",
       "69575  Adams-Normandie  2021-02-16                               73.152890   \n",
       "69913     Agoura Hills  2021-02-16                               95.771680   \n",
       "70251       Agua Dulce  2021-02-16                               96.200096   \n",
       "70589         Alhambra  2021-02-16                              109.542918   \n",
       "\n",
       "       new_confirmed_cases_seven_day_total  population  \n",
       "69237                                 12.0      7971.0  \n",
       "69575                                  6.0      8202.0  \n",
       "69913                                 20.0     20883.0  \n",
       "70251                                  4.0      4158.0  \n",
       "70589                                 95.0     86724.0  "
      ]
     },
     "execution_count": 21,
     "metadata": {},
     "output_type": "execute_result"
    }
   ],
   "source": [
    "places_latest.head()"
   ]
  },
  {
   "cell_type": "markdown",
   "metadata": {},
   "source": [
    "### What's the distribution of population by place? "
   ]
  },
  {
   "cell_type": "code",
   "execution_count": 22,
   "metadata": {},
   "outputs": [
    {
     "data": {
      "text/plain": [
       "16464.5"
      ]
     },
     "execution_count": 22,
     "metadata": {},
     "output_type": "execute_result"
    }
   ],
   "source": [
    "places_latest.population.median()"
   ]
  },
  {
   "cell_type": "code",
   "execution_count": 23,
   "metadata": {},
   "outputs": [],
   "source": [
    "pop_histogram = (\n",
    "    alt.Chart(places_latest)\n",
    "    .mark_bar()\n",
    "    .encode(\n",
    "        alt.X(\"population:Q\", bin=alt.Bin(maxbins=50), title=\"Population ranges\"),\n",
    "        alt.Y(\"count()\", title=\"Places in population range\"),\n",
    "    )\n",
    ")"
   ]
  },
  {
   "cell_type": "markdown",
   "metadata": {},
   "source": [
    "### Limit the dataframe to places with > 3000 population"
   ]
  },
  {
   "cell_type": "code",
   "execution_count": 24,
   "metadata": {},
   "outputs": [],
   "source": [
    "places_lrg = places[places[\"population\"] >= 3000]"
   ]
  },
  {
   "cell_type": "code",
   "execution_count": 25,
   "metadata": {},
   "outputs": [
    {
     "data": {
      "text/plain": [
       "28892.428143712576"
      ]
     },
     "execution_count": 25,
     "metadata": {},
     "output_type": "execute_result"
    }
   ],
   "source": [
    "places_latest.population.mean()"
   ]
  },
  {
   "cell_type": "markdown",
   "metadata": {},
   "source": [
    "---"
   ]
  },
  {
   "cell_type": "markdown",
   "metadata": {},
   "source": [
    "### Get neightborhoods and regions in LA County from U.S. Census"
   ]
  },
  {
   "cell_type": "code",
   "execution_count": 26,
   "metadata": {},
   "outputs": [],
   "source": [
    "census = pd.read_csv(\"output/places_totals.csv\")"
   ]
  },
  {
   "cell_type": "code",
   "execution_count": 27,
   "metadata": {},
   "outputs": [
    {
     "data": {
      "text/html": [
       "<div>\n",
       "<style scoped>\n",
       "    .dataframe tbody tr th:only-of-type {\n",
       "        vertical-align: middle;\n",
       "    }\n",
       "\n",
       "    .dataframe tbody tr th {\n",
       "        vertical-align: top;\n",
       "    }\n",
       "\n",
       "    .dataframe thead th {\n",
       "        text-align: right;\n",
       "    }\n",
       "</style>\n",
       "<table border=\"1\" class=\"dataframe\">\n",
       "  <thead>\n",
       "    <tr style=\"text-align: right;\">\n",
       "      <th></th>\n",
       "      <th>name</th>\n",
       "      <th>rsa</th>\n",
       "      <th>est_pop</th>\n",
       "      <th>est_latino</th>\n",
       "      <th>est_anglo</th>\n",
       "      <th>est_black</th>\n",
       "      <th>est_asian</th>\n",
       "      <th>est_total_single_units</th>\n",
       "      <th>est_total_seven_more_units</th>\n",
       "      <th>est_total_housing_units</th>\n",
       "      <th>median_house_income</th>\n",
       "      <th>est_latino_pct</th>\n",
       "      <th>est_anglo_pct</th>\n",
       "      <th>est_black_pct</th>\n",
       "      <th>est_asian_pct</th>\n",
       "      <th>est_total_seven_more_units_pct</th>\n",
       "      <th>est_total_single_units_pct</th>\n",
       "    </tr>\n",
       "  </thead>\n",
       "  <tbody>\n",
       "    <tr>\n",
       "      <th>181</th>\n",
       "      <td>Marina del Rey</td>\n",
       "      <td>Westside</td>\n",
       "      <td>5449.0</td>\n",
       "      <td>423.0</td>\n",
       "      <td>4072.0</td>\n",
       "      <td>285.0</td>\n",
       "      <td>460.0</td>\n",
       "      <td>1858.0</td>\n",
       "      <td>1.0</td>\n",
       "      <td>3435.0</td>\n",
       "      <td>103577.0</td>\n",
       "      <td>7.76</td>\n",
       "      <td>74.73</td>\n",
       "      <td>5.23</td>\n",
       "      <td>8.44</td>\n",
       "      <td>0.03</td>\n",
       "      <td>54.09</td>\n",
       "    </tr>\n",
       "    <tr>\n",
       "      <th>207</th>\n",
       "      <td>Del Rey</td>\n",
       "      <td>Westside</td>\n",
       "      <td>630.0</td>\n",
       "      <td>79.0</td>\n",
       "      <td>308.0</td>\n",
       "      <td>70.0</td>\n",
       "      <td>142.0</td>\n",
       "      <td>142.0</td>\n",
       "      <td>1.0</td>\n",
       "      <td>336.0</td>\n",
       "      <td>71179.0</td>\n",
       "      <td>12.54</td>\n",
       "      <td>48.89</td>\n",
       "      <td>11.11</td>\n",
       "      <td>22.54</td>\n",
       "      <td>0.30</td>\n",
       "      <td>42.26</td>\n",
       "    </tr>\n",
       "  </tbody>\n",
       "</table>\n",
       "</div>"
      ],
      "text/plain": [
       "               name       rsa  est_pop  est_latino  est_anglo  est_black  \\\n",
       "181  Marina del Rey  Westside   5449.0       423.0     4072.0      285.0   \n",
       "207         Del Rey  Westside    630.0        79.0      308.0       70.0   \n",
       "\n",
       "     est_asian  est_total_single_units  est_total_seven_more_units  \\\n",
       "181      460.0                  1858.0                         1.0   \n",
       "207      142.0                   142.0                         1.0   \n",
       "\n",
       "     est_total_housing_units  median_house_income  est_latino_pct  \\\n",
       "181                   3435.0             103577.0            7.76   \n",
       "207                    336.0              71179.0           12.54   \n",
       "\n",
       "     est_anglo_pct  est_black_pct  est_asian_pct  \\\n",
       "181          74.73           5.23           8.44   \n",
       "207          48.89          11.11          22.54   \n",
       "\n",
       "     est_total_seven_more_units_pct  est_total_single_units_pct  \n",
       "181                            0.03                       54.09  \n",
       "207                            0.30                       42.26  "
      ]
     },
     "execution_count": 27,
     "metadata": {},
     "output_type": "execute_result"
    }
   ],
   "source": [
    "census[census[\"name\"].str.contains(\"Rey\")]"
   ]
  },
  {
   "cell_type": "code",
   "execution_count": 28,
   "metadata": {},
   "outputs": [],
   "source": [
    "places_lrg = pd.merge(places_lrg, census[[\"name\", \"rsa\"]], on=\"name\")"
   ]
  },
  {
   "cell_type": "markdown",
   "metadata": {},
   "source": [
    "---"
   ]
  },
  {
   "cell_type": "markdown",
   "metadata": {},
   "source": [
    "### Cases during the surge (in large places)? "
   ]
  },
  {
   "cell_type": "code",
   "execution_count": 29,
   "metadata": {},
   "outputs": [],
   "source": [
    "surge_places = places_lrg[\n",
    "    (places_lrg[\"date\"] >= surge_begin) & (places_lrg[\"date\"] <= surge_end)\n",
    "][[\"name\", \"rsa\", \"date\", \"new_confirmed_cases_seven_day_per_100k\"]]"
   ]
  },
  {
   "cell_type": "code",
   "execution_count": 30,
   "metadata": {},
   "outputs": [],
   "source": [
    "lacounty_all = (\n",
    "    surge_places.groupby([\"date\"])\n",
    "    .agg({\"new_confirmed_cases_seven_day_per_100k\": \"mean\"})\n",
    "    .reset_index()\n",
    ")"
   ]
  },
  {
   "cell_type": "code",
   "execution_count": 31,
   "metadata": {},
   "outputs": [],
   "source": [
    "lacounty_all[\"name\"] = \"Los Angeles County\""
   ]
  },
  {
   "cell_type": "code",
   "execution_count": 32,
   "metadata": {},
   "outputs": [],
   "source": [
    "lacounty_all[\"rsa\"] = \"Los Angeles County\""
   ]
  },
  {
   "cell_type": "code",
   "execution_count": 33,
   "metadata": {},
   "outputs": [],
   "source": [
    "surge_places = surge_places.append(lacounty_all, ignore_index=True)"
   ]
  },
  {
   "cell_type": "code",
   "execution_count": 34,
   "metadata": {},
   "outputs": [],
   "source": [
    "two_cities = surge_places[\n",
    "    (surge_places[\"name\"].str.contains(\"West Los Angeles\"))\n",
    "    | (surge_places[\"name\"].str.contains(\"East Los Angeles\"))\n",
    "    | (surge_places[\"name\"] == \"Los Angeles County\")\n",
    "]"
   ]
  },
  {
   "cell_type": "code",
   "execution_count": 35,
   "metadata": {},
   "outputs": [],
   "source": [
    "two_cities2 = surge_places[\n",
    "    (surge_places[\"name\"].str.contains(\"Playa Del Rey\"))\n",
    "    | (surge_places[\"name\"].str.contains(\"Leimert Park\"))\n",
    "    | (surge_places[\"name\"] == \"Los Angeles County\")\n",
    "]"
   ]
  },
  {
   "cell_type": "code",
   "execution_count": 36,
   "metadata": {},
   "outputs": [
    {
     "data": {
      "text/html": [
       "<div>\n",
       "<style scoped>\n",
       "    .dataframe tbody tr th:only-of-type {\n",
       "        vertical-align: middle;\n",
       "    }\n",
       "\n",
       "    .dataframe tbody tr th {\n",
       "        vertical-align: top;\n",
       "    }\n",
       "\n",
       "    .dataframe thead th {\n",
       "        text-align: right;\n",
       "    }\n",
       "</style>\n",
       "<table border=\"1\" class=\"dataframe\">\n",
       "  <thead>\n",
       "    <tr style=\"text-align: right;\">\n",
       "      <th></th>\n",
       "      <th>name</th>\n",
       "      <th>rsa</th>\n",
       "      <th>date</th>\n",
       "      <th>new_confirmed_cases_seven_day_per_100k</th>\n",
       "    </tr>\n",
       "  </thead>\n",
       "  <tbody>\n",
       "    <tr>\n",
       "      <th>12147</th>\n",
       "      <td>Los Angeles County</td>\n",
       "      <td>Los Angeles County</td>\n",
       "      <td>2021-01-11</td>\n",
       "      <td>914.659912</td>\n",
       "    </tr>\n",
       "    <tr>\n",
       "      <th>12148</th>\n",
       "      <td>Los Angeles County</td>\n",
       "      <td>Los Angeles County</td>\n",
       "      <td>2021-01-12</td>\n",
       "      <td>915.756773</td>\n",
       "    </tr>\n",
       "    <tr>\n",
       "      <th>12149</th>\n",
       "      <td>Los Angeles County</td>\n",
       "      <td>Los Angeles County</td>\n",
       "      <td>2021-01-13</td>\n",
       "      <td>915.888140</td>\n",
       "    </tr>\n",
       "    <tr>\n",
       "      <th>12150</th>\n",
       "      <td>Los Angeles County</td>\n",
       "      <td>Los Angeles County</td>\n",
       "      <td>2021-01-14</td>\n",
       "      <td>899.647901</td>\n",
       "    </tr>\n",
       "    <tr>\n",
       "      <th>12151</th>\n",
       "      <td>Los Angeles County</td>\n",
       "      <td>Los Angeles County</td>\n",
       "      <td>2021-01-15</td>\n",
       "      <td>865.482111</td>\n",
       "    </tr>\n",
       "  </tbody>\n",
       "</table>\n",
       "</div>"
      ],
      "text/plain": [
       "                     name                 rsa        date  \\\n",
       "12147  Los Angeles County  Los Angeles County  2021-01-11   \n",
       "12148  Los Angeles County  Los Angeles County  2021-01-12   \n",
       "12149  Los Angeles County  Los Angeles County  2021-01-13   \n",
       "12150  Los Angeles County  Los Angeles County  2021-01-14   \n",
       "12151  Los Angeles County  Los Angeles County  2021-01-15   \n",
       "\n",
       "       new_confirmed_cases_seven_day_per_100k  \n",
       "12147                              914.659912  \n",
       "12148                              915.756773  \n",
       "12149                              915.888140  \n",
       "12150                              899.647901  \n",
       "12151                              865.482111  "
      ]
     },
     "execution_count": 36,
     "metadata": {},
     "output_type": "execute_result"
    }
   ],
   "source": [
    "two_cities2.tail()"
   ]
  },
  {
   "cell_type": "markdown",
   "metadata": {},
   "source": [
    "### Chart two divergent neighborhoods"
   ]
  },
  {
   "cell_type": "code",
   "execution_count": 37,
   "metadata": {},
   "outputs": [],
   "source": [
    "twocities_chart = (\n",
    "    alt.Chart(two_cities)\n",
    "    .mark_line()\n",
    "    .encode(\n",
    "        x=alt.X(\n",
    "            \"date:T\",\n",
    "            axis=alt.Axis(\n",
    "                tickCount=4,\n",
    "                format=(\"%b. %-d\"),\n",
    "                grid=False,\n",
    "                tickColor=\"#ffffff\",\n",
    "                title=\"\",\n",
    "            ),\n",
    "        ),\n",
    "        y=alt.Y(\n",
    "            \"new_confirmed_cases_seven_day_per_100k\",\n",
    "            title=\"\",\n",
    "            axis=alt.Axis(tickColor=\"#ffffff\"),\n",
    "        ),\n",
    "        facet=alt.Facet(\"name:N\", columns=3, title=\"\"),\n",
    "    )\n",
    "    .properties(width=350, height=250)\n",
    "    .configure_axis()\n",
    ")"
   ]
  },
  {
   "cell_type": "code",
   "execution_count": 38,
   "metadata": {},
   "outputs": [
    {
     "data": {
      "text/html": [
       "\n",
       "<div id=\"altair-viz-87337bbc87dd4777882c1e407058523e\"></div>\n",
       "<script type=\"text/javascript\">\n",
       "  (function(spec, embedOpt){\n",
       "    const outputDiv = document.getElementById(\"altair-viz-87337bbc87dd4777882c1e407058523e\");\n",
       "    const paths = {\n",
       "      \"vega\": \"https://cdn.jsdelivr.net/npm//vega@5?noext\",\n",
       "      \"vega-lib\": \"https://cdn.jsdelivr.net/npm//vega-lib?noext\",\n",
       "      \"vega-lite\": \"https://cdn.jsdelivr.net/npm//vega-lite@4.0.2?noext\",\n",
       "      \"vega-embed\": \"https://cdn.jsdelivr.net/npm//vega-embed@6?noext\",\n",
       "    };\n",
       "\n",
       "    function loadScript(lib) {\n",
       "      return new Promise(function(resolve, reject) {\n",
       "        var s = document.createElement('script');\n",
       "        s.src = paths[lib];\n",
       "        s.async = true;\n",
       "        s.onload = () => resolve(paths[lib]);\n",
       "        s.onerror = () => reject(`Error loading script: ${paths[lib]}`);\n",
       "        document.getElementsByTagName(\"head\")[0].appendChild(s);\n",
       "      });\n",
       "    }\n",
       "\n",
       "    function showError(err) {\n",
       "      outputDiv.innerHTML = `<div class=\"error\" style=\"color:red;\">${err}</div>`;\n",
       "      throw err;\n",
       "    }\n",
       "\n",
       "    function displayChart(vegaEmbed) {\n",
       "      vegaEmbed(outputDiv, spec, embedOpt)\n",
       "        .catch(err => showError(`Javascript Error: ${err.message}<br>This usually means there's a typo in your chart specification. See the javascript console for the full traceback.`));\n",
       "    }\n",
       "\n",
       "    if(typeof define === \"function\" && define.amd) {\n",
       "      requirejs.config({paths});\n",
       "      require([\"vega-embed\"], displayChart, err => showError(`Error loading script: ${err.message}`));\n",
       "    } else if (typeof vegaEmbed === \"function\") {\n",
       "      displayChart(vegaEmbed);\n",
       "    } else {\n",
       "      loadScript(\"vega\")\n",
       "        .then(() => loadScript(\"vega-lite\"))\n",
       "        .then(() => loadScript(\"vega-embed\"))\n",
       "        .catch(showError)\n",
       "        .then(() => displayChart(vegaEmbed));\n",
       "    }\n",
       "  })({\"config\": {\"view\": {\"width\": 800, \"height\": 450}, \"background\": \"#ffffff\", \"title\": {\"anchor\": \"start\", \"font\": \"Benton Gothic Bold, sans\", \"fontColor\": \"#000000\", \"fontSize\": 22, \"fontWeight\": \"normal\"}, \"arc\": {\"fill\": \"#82c6df\"}, \"area\": {\"fill\": \"#82c6df\"}, \"line\": {\"stroke\": \"#82c6df\", \"strokeWidth\": 3}, \"path\": {\"stroke\": \"#82c6df\"}, \"rect\": {\"fill\": \"#82c6df\"}, \"shape\": {\"stroke\": \"#82c6df\"}, \"bar\": {\"fill\": \"#82c6df\"}, \"point\": {\"stroke\": \"#82c6df\"}, \"symbol\": {\"fill\": \"#82c6df\", \"size\": 30}, \"axis\": {\"titleFont\": \"Benton Gothic Bold, sans\", \"titleFontSize\": 13, \"titleFontWeight\": \"normal\", \"labelFont\": \"Benton Gothic, sans\", \"labelFontSize\": 11.5, \"labelFontWeight\": \"normal\"}, \"axisX\": {\"labelAngle\": 0, \"labelPadding\": 4, \"tickSize\": 3}, \"axisY\": {\"labelBaseline\": \"middle\", \"maxExtent\": 45, \"minExtent\": 45, \"tickSize\": 2, \"titleAlign\": \"left\", \"titleAngle\": 0, \"titleX\": -45, \"titleY\": -11}, \"legend\": {\"titleFont\": \"Benton Gothic Bold, sans\", \"titleFontSize\": 13, \"titleFontWeight\": \"normal\", \"symbolType\": \"square\", \"labelFont\": \"Benton Gothic, sans\", \"labelFontSize\": 11.5}, \"range\": {\"category\": [\"#3580b1\", \"#ec8431\", \"#ab7fb4\", \"#c89d29\", \"#adc839\", \"#829eb1\"], \"diverging\": [\"#e68a4f\", \"#f4bb6a\", \"#f9e39c\", \"#dadfe2\", \"#a6b7c6\", \"#849eae\"], \"heatmap\": [\"#fbf2c7\", \"#f9e39c\", \"#f8d36e\", \"#f4bb6a\", \"#e68a4f\", \"#d15a40\", \"#ab4232\"], \"ordinal\": [\"#fbf2c7\", \"#f9e39c\", \"#f8d36e\", \"#f4bb6a\", \"#e68a4f\", \"#d15a40\", \"#ab4232\"], \"ramp\": [\"#fbf2c7\", \"#f9e39c\", \"#f8d36e\", \"#f4bb6a\", \"#e68a4f\", \"#d15a40\", \"#ab4232\"]}}, \"data\": {\"name\": \"data-88547b1185bb48d9aac39d7e2ce2c731\"}, \"mark\": \"line\", \"encoding\": {\"facet\": {\"type\": \"nominal\", \"columns\": 3, \"field\": \"name\", \"title\": \"\"}, \"x\": {\"type\": \"temporal\", \"axis\": {\"format\": \"%b. %-d\", \"grid\": false, \"tickColor\": \"#ffffff\", \"tickCount\": 4, \"title\": \"\"}, \"field\": \"date\"}, \"y\": {\"type\": \"quantitative\", \"axis\": {\"tickColor\": \"#ffffff\"}, \"field\": \"new_confirmed_cases_seven_day_per_100k\", \"title\": \"\"}}, \"height\": 250, \"width\": 350, \"$schema\": \"https://vega.github.io/schema/vega-lite/v4.0.2.json\", \"datasets\": {\"data-88547b1185bb48d9aac39d7e2ce2c731\": [{\"name\": \"East Los Angeles\", \"rsa\": \"Eastside\", \"date\": \"2020-11-15\", \"new_confirmed_cases_seven_day_per_100k\": 235.49321859358662}, {\"name\": \"East Los Angeles\", \"rsa\": \"Eastside\", \"date\": \"2020-11-16\", \"new_confirmed_cases_seven_day_per_100k\": 256.2485531136993}, {\"name\": \"East Los Angeles\", \"rsa\": \"Eastside\", \"date\": \"2020-11-17\", \"new_confirmed_cases_seven_day_per_100k\": 258.64339940448156}, {\"name\": \"East Los Angeles\", \"rsa\": \"Eastside\", \"date\": \"2020-11-18\", \"new_confirmed_cases_seven_day_per_100k\": 300.95235054163436}, {\"name\": \"East Los Angeles\", \"rsa\": \"Eastside\", \"date\": \"2020-11-19\", \"new_confirmed_cases_seven_day_per_100k\": 340.06817329107764}, {\"name\": \"East Los Angeles\", \"rsa\": \"Eastside\", \"date\": \"2020-11-20\", \"new_confirmed_cases_seven_day_per_100k\": 308.13688941398107}, {\"name\": \"East Los Angeles\", \"rsa\": \"Eastside\", \"date\": \"2020-11-21\", \"new_confirmed_cases_seven_day_per_100k\": 375.19258555588374}, {\"name\": \"East Los Angeles\", \"rsa\": \"Eastside\", \"date\": \"2020-11-22\", \"new_confirmed_cases_seven_day_per_100k\": 371.99945716817416}, {\"name\": \"East Los Angeles\", \"rsa\": \"Eastside\", \"date\": \"2020-11-23\", \"new_confirmed_cases_seven_day_per_100k\": 415.90497249918167}, {\"name\": \"East Los Angeles\", \"rsa\": \"Eastside\", \"date\": \"2020-11-24\", \"new_confirmed_cases_seven_day_per_100k\": 452.6259489578428}, {\"name\": \"East Los Angeles\", \"rsa\": \"Eastside\", \"date\": \"2020-11-25\", \"new_confirmed_cases_seven_day_per_100k\": 455.8190773455524}, {\"name\": \"East Los Angeles\", \"rsa\": \"Eastside\", \"date\": \"2020-11-26\", \"new_confirmed_cases_seven_day_per_100k\": 443.0465637947137}, {\"name\": \"East Los Angeles\", \"rsa\": \"Eastside\", \"date\": \"2020-11-27\", \"new_confirmed_cases_seven_day_per_100k\": 511.69882413047134}, {\"name\": \"East Los Angeles\", \"rsa\": \"Eastside\", \"date\": \"2020-11-28\", \"new_confirmed_cases_seven_day_per_100k\": 415.1066904022544}, {\"name\": \"East Los Angeles\", \"rsa\": \"Eastside\", \"date\": \"2020-11-29\", \"new_confirmed_cases_seven_day_per_100k\": 447.83625637627824}, {\"name\": \"East Los Angeles\", \"rsa\": \"Eastside\", \"date\": \"2020-11-30\", \"new_confirmed_cases_seven_day_per_100k\": 447.0379742793508}, {\"name\": \"East Los Angeles\", \"rsa\": \"Eastside\", \"date\": \"2020-12-01\", \"new_confirmed_cases_seven_day_per_100k\": 517.2867988089631}, {\"name\": \"East Los Angeles\", \"rsa\": \"Eastside\", \"date\": \"2020-12-02\", \"new_confirmed_cases_seven_day_per_100k\": 549.2180826860597}, {\"name\": \"East Los Angeles\", \"rsa\": \"Eastside\", \"date\": \"2020-12-03\", \"new_confirmed_cases_seven_day_per_100k\": 622.6600356033815}, {\"name\": \"East Los Angeles\", \"rsa\": \"Eastside\", \"date\": \"2020-12-04\", \"new_confirmed_cases_seven_day_per_100k\": 674.5483719036632}, {\"name\": \"East Los Angeles\", \"rsa\": \"Eastside\", \"date\": \"2020-12-05\", \"new_confirmed_cases_seven_day_per_100k\": 869.329203553952}, {\"name\": \"East Los Angeles\", \"rsa\": \"Eastside\", \"date\": \"2020-12-06\", \"new_confirmed_cases_seven_day_per_100k\": 945.166002762056}, {\"name\": \"East Los Angeles\", \"rsa\": \"Eastside\", \"date\": \"2020-12-07\", \"new_confirmed_cases_seven_day_per_100k\": 987.4749538992087}, {\"name\": \"East Los Angeles\", \"rsa\": \"Eastside\", \"date\": \"2020-12-08\", \"new_confirmed_cases_seven_day_per_100k\": 1040.9598543933457}, {\"name\": \"East Los Angeles\", \"rsa\": \"Eastside\", \"date\": \"2020-12-09\", \"new_confirmed_cases_seven_day_per_100k\": 1069.6980098827323}, {\"name\": \"East Los Angeles\", \"rsa\": \"Eastside\", \"date\": \"2020-12-10\", \"new_confirmed_cases_seven_day_per_100k\": 1183.054067646425}, {\"name\": \"East Los Angeles\", \"rsa\": \"Eastside\", \"date\": \"2020-12-11\", \"new_confirmed_cases_seven_day_per_100k\": 1317.9637420271574}, {\"name\": \"East Los Angeles\", \"rsa\": \"Eastside\", \"date\": \"2020-12-12\", \"new_confirmed_cases_seven_day_per_100k\": 1256.496020563747}, {\"name\": \"East Los Angeles\", \"rsa\": \"Eastside\", \"date\": \"2020-12-13\", \"new_confirmed_cases_seven_day_per_100k\": 1367.4572320366572}, {\"name\": \"East Los Angeles\", \"rsa\": \"Eastside\", \"date\": \"2020-12-14\", \"new_confirmed_cases_seven_day_per_100k\": 1339.5173586441974}, {\"name\": \"East Los Angeles\", \"rsa\": \"Eastside\", \"date\": \"2020-12-15\", \"new_confirmed_cases_seven_day_per_100k\": 1342.7104870319072}, {\"name\": \"East Los Angeles\", \"rsa\": \"Eastside\", \"date\": \"2020-12-16\", \"new_confirmed_cases_seven_day_per_100k\": 1677.1906856444932}, {\"name\": \"East Los Angeles\", \"rsa\": \"Eastside\", \"date\": \"2020-12-17\", \"new_confirmed_cases_seven_day_per_100k\": 1699.5425843584603}, {\"name\": \"East Los Angeles\", \"rsa\": \"Eastside\", \"date\": \"2020-12-18\", \"new_confirmed_cases_seven_day_per_100k\": 1766.5982805003634}, {\"name\": \"East Los Angeles\", \"rsa\": \"Eastside\", \"date\": \"2020-12-19\", \"new_confirmed_cases_seven_day_per_100k\": 1812.898642122153}, {\"name\": \"East Los Angeles\", \"rsa\": \"Eastside\", \"date\": \"2020-12-20\", \"new_confirmed_cases_seven_day_per_100k\": 1768.9931267911456}, {\"name\": \"East Los Angeles\", \"rsa\": \"Eastside\", \"date\": \"2020-12-21\", \"new_confirmed_cases_seven_day_per_100k\": 1832.057412448411}, {\"name\": \"East Los Angeles\", \"rsa\": \"Eastside\", \"date\": \"2020-12-22\", \"new_confirmed_cases_seven_day_per_100k\": 1828.8642840607013}, {\"name\": \"East Los Angeles\", \"rsa\": \"Eastside\", \"date\": \"2020-12-23\", \"new_confirmed_cases_seven_day_per_100k\": 1681.9803782260574}, {\"name\": \"East Los Angeles\", \"rsa\": \"Eastside\", \"date\": \"2020-12-24\", \"new_confirmed_cases_seven_day_per_100k\": 1622.9075030534286}, {\"name\": \"East Los Angeles\", \"rsa\": \"Eastside\", \"date\": \"2020-12-25\", \"new_confirmed_cases_seven_day_per_100k\": 1300.4015358947545}, {\"name\": \"East Los Angeles\", \"rsa\": \"Eastside\", \"date\": \"2020-12-26\", \"new_confirmed_cases_seven_day_per_100k\": 1623.7057851503564}, {\"name\": \"East Los Angeles\", \"rsa\": \"Eastside\", \"date\": \"2020-12-27\", \"new_confirmed_cases_seven_day_per_100k\": 1642.066273379687}, {\"name\": \"East Los Angeles\", \"rsa\": \"Eastside\", \"date\": \"2020-12-28\", \"new_confirmed_cases_seven_day_per_100k\": 1717.1047904908637}, {\"name\": \"East Los Angeles\", \"rsa\": \"Eastside\", \"date\": \"2020-12-29\", \"new_confirmed_cases_seven_day_per_100k\": 1717.1047904908637}, {\"name\": \"East Los Angeles\", \"rsa\": \"Eastside\", \"date\": \"2020-12-30\", \"new_confirmed_cases_seven_day_per_100k\": 1590.177937079405}, {\"name\": \"East Los Angeles\", \"rsa\": \"Eastside\", \"date\": \"2020-12-31\", \"new_confirmed_cases_seven_day_per_100k\": 1590.177937079405}, {\"name\": \"East Los Angeles\", \"rsa\": \"Eastside\", \"date\": \"2021-01-01\", \"new_confirmed_cases_seven_day_per_100k\": 1899.9113906872406}, {\"name\": \"East Los Angeles\", \"rsa\": \"Eastside\", \"date\": \"2021-01-02\", \"new_confirmed_cases_seven_day_per_100k\": 1648.4525301551062}, {\"name\": \"East Los Angeles\", \"rsa\": \"Eastside\", \"date\": \"2021-01-03\", \"new_confirmed_cases_seven_day_per_100k\": 1602.9504506302435}, {\"name\": \"East Los Angeles\", \"rsa\": \"Eastside\", \"date\": \"2021-01-04\", \"new_confirmed_cases_seven_day_per_100k\": 1512.7445736774464}, {\"name\": \"East Los Angeles\", \"rsa\": \"Eastside\", \"date\": \"2021-01-05\", \"new_confirmed_cases_seven_day_per_100k\": 1463.251083667947}, {\"name\": \"East Los Angeles\", \"rsa\": \"Eastside\", \"date\": \"2021-01-06\", \"new_confirmed_cases_seven_day_per_100k\": 1404.9764905922455}, {\"name\": \"East Los Angeles\", \"rsa\": \"Eastside\", \"date\": \"2021-01-07\", \"new_confirmed_cases_seven_day_per_100k\": 1462.4528015710189}, {\"name\": \"East Los Angeles\", \"rsa\": \"Eastside\", \"date\": \"2021-01-08\", \"new_confirmed_cases_seven_day_per_100k\": 1470.4356225402933}, {\"name\": \"East Los Angeles\", \"rsa\": \"Eastside\", \"date\": \"2021-01-09\", \"new_confirmed_cases_seven_day_per_100k\": 1478.4184435095676}, {\"name\": \"East Los Angeles\", \"rsa\": \"Eastside\", \"date\": \"2021-01-10\", \"new_confirmed_cases_seven_day_per_100k\": 1497.5772138358254}, {\"name\": \"East Los Angeles\", \"rsa\": \"Eastside\", \"date\": \"2021-01-11\", \"new_confirmed_cases_seven_day_per_100k\": 1572.615730947002}, {\"name\": \"East Los Angeles\", \"rsa\": \"Eastside\", \"date\": \"2021-01-12\", \"new_confirmed_cases_seven_day_per_100k\": 1590.9762191763325}, {\"name\": \"East Los Angeles\", \"rsa\": \"Eastside\", \"date\": \"2021-01-13\", \"new_confirmed_cases_seven_day_per_100k\": 1649.2508122520335}, {\"name\": \"East Los Angeles\", \"rsa\": \"Eastside\", \"date\": \"2021-01-14\", \"new_confirmed_cases_seven_day_per_100k\": 1650.8473764458884}, {\"name\": \"East Los Angeles\", \"rsa\": \"Eastside\", \"date\": \"2021-01-15\", \"new_confirmed_cases_seven_day_per_100k\": 1524.7188051313574}, {\"name\": \"West Los Angeles\", \"rsa\": \"Westside\", \"date\": \"2020-11-15\", \"new_confirmed_cases_seven_day_per_100k\": 106.28122010840684}, {\"name\": \"West Los Angeles\", \"rsa\": \"Westside\", \"date\": \"2020-11-16\", \"new_confirmed_cases_seven_day_per_100k\": 106.28122010840684}, {\"name\": \"West Los Angeles\", \"rsa\": \"Westside\", \"date\": \"2020-11-17\", \"new_confirmed_cases_seven_day_per_100k\": 98.31012860027631}, {\"name\": \"West Los Angeles\", \"rsa\": \"Westside\", \"date\": \"2020-11-18\", \"new_confirmed_cases_seven_day_per_100k\": 103.62418960569669}, {\"name\": \"West Los Angeles\", \"rsa\": \"Westside\", \"date\": \"2020-11-19\", \"new_confirmed_cases_seven_day_per_100k\": 132.85152513550855}, {\"name\": \"West Los Angeles\", \"rsa\": \"Westside\", \"date\": \"2020-11-20\", \"new_confirmed_cases_seven_day_per_100k\": 111.59528111382721}, {\"name\": \"West Los Angeles\", \"rsa\": \"Westside\", \"date\": \"2020-11-21\", \"new_confirmed_cases_seven_day_per_100k\": 138.1655861409289}, {\"name\": \"West Los Angeles\", \"rsa\": \"Westside\", \"date\": \"2020-11-22\", \"new_confirmed_cases_seven_day_per_100k\": 132.85152513550855}, {\"name\": \"West Los Angeles\", \"rsa\": \"Westside\", \"date\": \"2020-11-23\", \"new_confirmed_cases_seven_day_per_100k\": 156.7647996599001}, {\"name\": \"West Los Angeles\", \"rsa\": \"Westside\", \"date\": \"2020-11-24\", \"new_confirmed_cases_seven_day_per_100k\": 180.6780741842916}, {\"name\": \"West Los Angeles\", \"rsa\": \"Westside\", \"date\": \"2020-11-25\", \"new_confirmed_cases_seven_day_per_100k\": 207.2483792113933}, {\"name\": \"West Los Angeles\", \"rsa\": \"Westside\", \"date\": \"2020-11-26\", \"new_confirmed_cases_seven_day_per_100k\": 207.2483792113933}, {\"name\": \"West Los Angeles\", \"rsa\": \"Westside\", \"date\": \"2020-11-27\", \"new_confirmed_cases_seven_day_per_100k\": 215.21947071952385}, {\"name\": \"West Los Angeles\", \"rsa\": \"Westside\", \"date\": \"2020-11-28\", \"new_confirmed_cases_seven_day_per_100k\": 170.04995217345098}, {\"name\": \"West Los Angeles\", \"rsa\": \"Westside\", \"date\": \"2020-11-29\", \"new_confirmed_cases_seven_day_per_100k\": 175.36401317887132}, {\"name\": \"West Los Angeles\", \"rsa\": \"Westside\", \"date\": \"2020-11-30\", \"new_confirmed_cases_seven_day_per_100k\": 170.04995217345098}, {\"name\": \"West Los Angeles\", \"rsa\": \"Westside\", \"date\": \"2020-12-01\", \"new_confirmed_cases_seven_day_per_100k\": 180.6780741842916}, {\"name\": \"West Los Angeles\", \"rsa\": \"Westside\", \"date\": \"2020-12-02\", \"new_confirmed_cases_seven_day_per_100k\": 185.992135189712}, {\"name\": \"West Los Angeles\", \"rsa\": \"Westside\", \"date\": \"2020-12-03\", \"new_confirmed_cases_seven_day_per_100k\": 199.27728770326283}, {\"name\": \"West Los Angeles\", \"rsa\": \"Westside\", \"date\": \"2020-12-04\", \"new_confirmed_cases_seven_day_per_100k\": 225.84759273036457}, {\"name\": \"West Los Angeles\", \"rsa\": \"Westside\", \"date\": \"2020-12-05\", \"new_confirmed_cases_seven_day_per_100k\": 263.04601976830696}, {\"name\": \"West Los Angeles\", \"rsa\": \"Westside\", \"date\": \"2020-12-06\", \"new_confirmed_cases_seven_day_per_100k\": 276.3311722818578}, {\"name\": \"West Los Angeles\", \"rsa\": \"Westside\", \"date\": \"2020-12-07\", \"new_confirmed_cases_seven_day_per_100k\": 313.5295993198002}, {\"name\": \"West Los Angeles\", \"rsa\": \"Westside\", \"date\": \"2020-12-08\", \"new_confirmed_cases_seven_day_per_100k\": 324.15772133064087}, {\"name\": \"West Los Angeles\", \"rsa\": \"Westside\", \"date\": \"2020-12-09\", \"new_confirmed_cases_seven_day_per_100k\": 305.55850781166964}, {\"name\": \"West Los Angeles\", \"rsa\": \"Westside\", \"date\": \"2020-12-10\", \"new_confirmed_cases_seven_day_per_100k\": 329.47178233606115}, {\"name\": \"West Los Angeles\", \"rsa\": \"Westside\", \"date\": \"2020-12-11\", \"new_confirmed_cases_seven_day_per_100k\": 361.3561483685832}, {\"name\": \"West Los Angeles\", \"rsa\": \"Westside\", \"date\": \"2020-12-12\", \"new_confirmed_cases_seven_day_per_100k\": 382.6123923902646}, {\"name\": \"West Los Angeles\", \"rsa\": \"Westside\", \"date\": \"2020-12-13\", \"new_confirmed_cases_seven_day_per_100k\": 390.5834838983952}, {\"name\": \"West Los Angeles\", \"rsa\": \"Westside\", \"date\": \"2020-12-14\", \"new_confirmed_cases_seven_day_per_100k\": 342.7569348496121}, {\"name\": \"West Los Angeles\", \"rsa\": \"Westside\", \"date\": \"2020-12-15\", \"new_confirmed_cases_seven_day_per_100k\": 374.64130088213415}, {\"name\": \"West Los Angeles\", \"rsa\": \"Westside\", \"date\": \"2020-12-16\", \"new_confirmed_cases_seven_day_per_100k\": 430.4389414390477}, {\"name\": \"West Los Angeles\", \"rsa\": \"Westside\", \"date\": \"2020-12-17\", \"new_confirmed_cases_seven_day_per_100k\": 433.0959719417579}, {\"name\": \"West Los Angeles\", \"rsa\": \"Westside\", \"date\": \"2020-12-18\", \"new_confirmed_cases_seven_day_per_100k\": 422.4678499309172}, {\"name\": \"West Los Angeles\", \"rsa\": \"Westside\", \"date\": \"2020-12-19\", \"new_confirmed_cases_seven_day_per_100k\": 417.1537889254969}, {\"name\": \"West Los Angeles\", \"rsa\": \"Westside\", \"date\": \"2020-12-20\", \"new_confirmed_cases_seven_day_per_100k\": 446.38112445530885}, {\"name\": \"West Los Angeles\", \"rsa\": \"Westside\", \"date\": \"2020-12-21\", \"new_confirmed_cases_seven_day_per_100k\": 472.9514294824105}, {\"name\": \"West Los Angeles\", \"rsa\": \"Westside\", \"date\": \"2020-12-22\", \"new_confirmed_cases_seven_day_per_100k\": 454.35221596343933}, {\"name\": \"West Los Angeles\", \"rsa\": \"Westside\", \"date\": \"2020-12-23\", \"new_confirmed_cases_seven_day_per_100k\": 435.75300244446805}, {\"name\": \"West Los Angeles\", \"rsa\": \"Westside\", \"date\": \"2020-12-24\", \"new_confirmed_cases_seven_day_per_100k\": 425.12488043362737}, {\"name\": \"West Los Angeles\", \"rsa\": \"Westside\", \"date\": \"2020-12-25\", \"new_confirmed_cases_seven_day_per_100k\": 369.3272398767138}, {\"name\": \"West Los Angeles\", \"rsa\": \"Westside\", \"date\": \"2020-12-26\", \"new_confirmed_cases_seven_day_per_100k\": 438.41003294717837}, {\"name\": \"West Los Angeles\", \"rsa\": \"Westside\", \"date\": \"2020-12-27\", \"new_confirmed_cases_seven_day_per_100k\": 417.1537889254969}, {\"name\": \"West Los Angeles\", \"rsa\": \"Westside\", \"date\": \"2020-12-28\", \"new_confirmed_cases_seven_day_per_100k\": 414.49675842278674}, {\"name\": \"West Los Angeles\", \"rsa\": \"Westside\", \"date\": \"2020-12-29\", \"new_confirmed_cases_seven_day_per_100k\": 417.1537889254969}, {\"name\": \"West Los Angeles\", \"rsa\": \"Westside\", \"date\": \"2020-12-30\", \"new_confirmed_cases_seven_day_per_100k\": 379.9553618875545}, {\"name\": \"West Los Angeles\", \"rsa\": \"Westside\", \"date\": \"2020-12-31\", \"new_confirmed_cases_seven_day_per_100k\": 422.4678499309172}, {\"name\": \"West Los Angeles\", \"rsa\": \"Westside\", \"date\": \"2021-01-01\", \"new_confirmed_cases_seven_day_per_100k\": 510.1498565203528}, {\"name\": \"West Los Angeles\", \"rsa\": \"Westside\", \"date\": \"2021-01-02\", \"new_confirmed_cases_seven_day_per_100k\": 425.12488043362737}, {\"name\": \"West Los Angeles\", \"rsa\": \"Westside\", \"date\": \"2021-01-03\", \"new_confirmed_cases_seven_day_per_100k\": 395.89754490381546}, {\"name\": \"West Los Angeles\", \"rsa\": \"Westside\", \"date\": \"2021-01-04\", \"new_confirmed_cases_seven_day_per_100k\": 403.86863641194606}, {\"name\": \"West Los Angeles\", \"rsa\": \"Westside\", \"date\": \"2021-01-05\", \"new_confirmed_cases_seven_day_per_100k\": 377.2983313848443}, {\"name\": \"West Los Angeles\", \"rsa\": \"Westside\", \"date\": \"2021-01-06\", \"new_confirmed_cases_seven_day_per_100k\": 385.2694228929748}, {\"name\": \"West Los Angeles\", \"rsa\": \"Westside\", \"date\": \"2021-01-07\", \"new_confirmed_cases_seven_day_per_100k\": 377.2983313848443}, {\"name\": \"West Los Angeles\", \"rsa\": \"Westside\", \"date\": \"2021-01-08\", \"new_confirmed_cases_seven_day_per_100k\": 409.1826974173664}, {\"name\": \"West Los Angeles\", \"rsa\": \"Westside\", \"date\": \"2021-01-09\", \"new_confirmed_cases_seven_day_per_100k\": 475.60845998512065}, {\"name\": \"West Los Angeles\", \"rsa\": \"Westside\", \"date\": \"2021-01-10\", \"new_confirmed_cases_seven_day_per_100k\": 502.1787650122223}, {\"name\": \"West Los Angeles\", \"rsa\": \"Westside\", \"date\": \"2021-01-11\", \"new_confirmed_cases_seven_day_per_100k\": 520.7779785311934}, {\"name\": \"West Los Angeles\", \"rsa\": \"Westside\", \"date\": \"2021-01-12\", \"new_confirmed_cases_seven_day_per_100k\": 568.6045275799768}, {\"name\": \"West Los Angeles\", \"rsa\": \"Westside\", \"date\": \"2021-01-13\", \"new_confirmed_cases_seven_day_per_100k\": 592.5178021043681}, {\"name\": \"West Los Angeles\", \"rsa\": \"Westside\", \"date\": \"2021-01-14\", \"new_confirmed_cases_seven_day_per_100k\": 608.4599851206293}, {\"name\": \"West Los Angeles\", \"rsa\": \"Westside\", \"date\": \"2021-01-15\", \"new_confirmed_cases_seven_day_per_100k\": 576.5756190881071}, {\"name\": \"Los Angeles County\", \"rsa\": \"Los Angeles County\", \"date\": \"2020-11-15\", \"new_confirmed_cases_seven_day_per_100k\": 154.47546009827875}, {\"name\": \"Los Angeles County\", \"rsa\": \"Los Angeles County\", \"date\": \"2020-11-16\", \"new_confirmed_cases_seven_day_per_100k\": 167.52639508039405}, {\"name\": \"Los Angeles County\", \"rsa\": \"Los Angeles County\", \"date\": \"2020-11-17\", \"new_confirmed_cases_seven_day_per_100k\": 169.18648365119103}, {\"name\": \"Los Angeles County\", \"rsa\": \"Los Angeles County\", \"date\": \"2020-11-18\", \"new_confirmed_cases_seven_day_per_100k\": 189.11963970874848}, {\"name\": \"Los Angeles County\", \"rsa\": \"Los Angeles County\", \"date\": \"2020-11-19\", \"new_confirmed_cases_seven_day_per_100k\": 210.4195161797892}, {\"name\": \"Los Angeles County\", \"rsa\": \"Los Angeles County\", \"date\": \"2020-11-20\", \"new_confirmed_cases_seven_day_per_100k\": 188.1065621430341}, {\"name\": \"Los Angeles County\", \"rsa\": \"Los Angeles County\", \"date\": \"2020-11-21\", \"new_confirmed_cases_seven_day_per_100k\": 230.9748238294448}, {\"name\": \"Los Angeles County\", \"rsa\": \"Los Angeles County\", \"date\": \"2020-11-22\", \"new_confirmed_cases_seven_day_per_100k\": 226.538848503327}, {\"name\": \"Los Angeles County\", \"rsa\": \"Los Angeles County\", \"date\": \"2020-11-23\", \"new_confirmed_cases_seven_day_per_100k\": 254.66208025173057}, {\"name\": \"Los Angeles County\", \"rsa\": \"Los Angeles County\", \"date\": \"2020-11-24\", \"new_confirmed_cases_seven_day_per_100k\": 264.34090248746065}, {\"name\": \"Los Angeles County\", \"rsa\": \"Los Angeles County\", \"date\": \"2020-11-25\", \"new_confirmed_cases_seven_day_per_100k\": 263.0234805316266}, {\"name\": \"Los Angeles County\", \"rsa\": \"Los Angeles County\", \"date\": \"2020-11-26\", \"new_confirmed_cases_seven_day_per_100k\": 266.08412265433117}, {\"name\": \"Los Angeles County\", \"rsa\": \"Los Angeles County\", \"date\": \"2020-11-27\", \"new_confirmed_cases_seven_day_per_100k\": 304.71071645360104}, {\"name\": \"Los Angeles County\", \"rsa\": \"Los Angeles County\", \"date\": \"2020-11-28\", \"new_confirmed_cases_seven_day_per_100k\": 257.04518438990414}, {\"name\": \"Los Angeles County\", \"rsa\": \"Los Angeles County\", \"date\": \"2020-11-29\", \"new_confirmed_cases_seven_day_per_100k\": 276.2074959208999}, {\"name\": \"Los Angeles County\", \"rsa\": \"Los Angeles County\", \"date\": \"2020-11-30\", \"new_confirmed_cases_seven_day_per_100k\": 268.5129525160409}, {\"name\": \"Los Angeles County\", \"rsa\": \"Los Angeles County\", \"date\": \"2020-12-01\", \"new_confirmed_cases_seven_day_per_100k\": 303.275096664173}, {\"name\": \"Los Angeles County\", \"rsa\": \"Los Angeles County\", \"date\": \"2020-12-02\", \"new_confirmed_cases_seven_day_per_100k\": 318.0598299671711}, {\"name\": \"Los Angeles County\", \"rsa\": \"Los Angeles County\", \"date\": \"2020-12-03\", \"new_confirmed_cases_seven_day_per_100k\": 338.9870198317438}, {\"name\": \"Los Angeles County\", \"rsa\": \"Los Angeles County\", \"date\": \"2020-12-04\", \"new_confirmed_cases_seven_day_per_100k\": 378.1344050168774}, {\"name\": \"Los Angeles County\", \"rsa\": \"Los Angeles County\", \"date\": \"2020-12-05\", \"new_confirmed_cases_seven_day_per_100k\": 425.9382396566499}, {\"name\": \"Los Angeles County\", \"rsa\": \"Los Angeles County\", \"date\": \"2020-12-06\", \"new_confirmed_cases_seven_day_per_100k\": 475.5789895724229}, {\"name\": \"Los Angeles County\", \"rsa\": \"Los Angeles County\", \"date\": \"2020-12-07\", \"new_confirmed_cases_seven_day_per_100k\": 500.90838418044143}, {\"name\": \"Los Angeles County\", \"rsa\": \"Los Angeles County\", \"date\": \"2020-12-08\", \"new_confirmed_cases_seven_day_per_100k\": 507.86516160452516}, {\"name\": \"Los Angeles County\", \"rsa\": \"Los Angeles County\", \"date\": \"2020-12-09\", \"new_confirmed_cases_seven_day_per_100k\": 531.7665327793109}, {\"name\": \"Los Angeles County\", \"rsa\": \"Los Angeles County\", \"date\": \"2020-12-10\", \"new_confirmed_cases_seven_day_per_100k\": 575.1110328253416}, {\"name\": \"Los Angeles County\", \"rsa\": \"Los Angeles County\", \"date\": \"2020-12-11\", \"new_confirmed_cases_seven_day_per_100k\": 617.9834750661822}, {\"name\": \"Los Angeles County\", \"rsa\": \"Los Angeles County\", \"date\": \"2020-12-12\", \"new_confirmed_cases_seven_day_per_100k\": 641.5042613509374}, {\"name\": \"Los Angeles County\", \"rsa\": \"Los Angeles County\", \"date\": \"2020-12-13\", \"new_confirmed_cases_seven_day_per_100k\": 657.209987321989}, {\"name\": \"Los Angeles County\", \"rsa\": \"Los Angeles County\", \"date\": \"2020-12-14\", \"new_confirmed_cases_seven_day_per_100k\": 647.3250921387145}, {\"name\": \"Los Angeles County\", \"rsa\": \"Los Angeles County\", \"date\": \"2020-12-15\", \"new_confirmed_cases_seven_day_per_100k\": 674.1497256063024}, {\"name\": \"Los Angeles County\", \"rsa\": \"Los Angeles County\", \"date\": \"2020-12-16\", \"new_confirmed_cases_seven_day_per_100k\": 794.292300405562}, {\"name\": \"Los Angeles County\", \"rsa\": \"Los Angeles County\", \"date\": \"2020-12-17\", \"new_confirmed_cases_seven_day_per_100k\": 803.4705292700836}, {\"name\": \"Los Angeles County\", \"rsa\": \"Los Angeles County\", \"date\": \"2020-12-18\", \"new_confirmed_cases_seven_day_per_100k\": 819.8060876818511}, {\"name\": \"Los Angeles County\", \"rsa\": \"Los Angeles County\", \"date\": \"2020-12-19\", \"new_confirmed_cases_seven_day_per_100k\": 840.0236678804686}, {\"name\": \"Los Angeles County\", \"rsa\": \"Los Angeles County\", \"date\": \"2020-12-20\", \"new_confirmed_cases_seven_day_per_100k\": 846.6315483045506}, {\"name\": \"Los Angeles County\", \"rsa\": \"Los Angeles County\", \"date\": \"2020-12-21\", \"new_confirmed_cases_seven_day_per_100k\": 887.2219190649095}, {\"name\": \"Los Angeles County\", \"rsa\": \"Los Angeles County\", \"date\": \"2020-12-22\", \"new_confirmed_cases_seven_day_per_100k\": 891.9797583695419}, {\"name\": \"Los Angeles County\", \"rsa\": \"Los Angeles County\", \"date\": \"2020-12-23\", \"new_confirmed_cases_seven_day_per_100k\": 839.2187420480292}, {\"name\": \"Los Angeles County\", \"rsa\": \"Los Angeles County\", \"date\": \"2020-12-24\", \"new_confirmed_cases_seven_day_per_100k\": 832.6615078753198}, {\"name\": \"Los Angeles County\", \"rsa\": \"Los Angeles County\", \"date\": \"2020-12-25\", \"new_confirmed_cases_seven_day_per_100k\": 695.679528238308}, {\"name\": \"Los Angeles County\", \"rsa\": \"Los Angeles County\", \"date\": \"2020-12-26\", \"new_confirmed_cases_seven_day_per_100k\": 835.0939638356593}, {\"name\": \"Los Angeles County\", \"rsa\": \"Los Angeles County\", \"date\": \"2020-12-27\", \"new_confirmed_cases_seven_day_per_100k\": 835.9122621261291}, {\"name\": \"Los Angeles County\", \"rsa\": \"Los Angeles County\", \"date\": \"2020-12-28\", \"new_confirmed_cases_seven_day_per_100k\": 854.7010314195264}, {\"name\": \"Los Angeles County\", \"rsa\": \"Los Angeles County\", \"date\": \"2020-12-29\", \"new_confirmed_cases_seven_day_per_100k\": 851.1227998423742}, {\"name\": \"Los Angeles County\", \"rsa\": \"Los Angeles County\", \"date\": \"2020-12-30\", \"new_confirmed_cases_seven_day_per_100k\": 795.2431459220965}, {\"name\": \"Los Angeles County\", \"rsa\": \"Los Angeles County\", \"date\": \"2020-12-31\", \"new_confirmed_cases_seven_day_per_100k\": 812.1802815167844}, {\"name\": \"Los Angeles County\", \"rsa\": \"Los Angeles County\", \"date\": \"2021-01-01\", \"new_confirmed_cases_seven_day_per_100k\": 1018.0965849310445}, {\"name\": \"Los Angeles County\", \"rsa\": \"Los Angeles County\", \"date\": \"2021-01-02\", \"new_confirmed_cases_seven_day_per_100k\": 899.778624118464}, {\"name\": \"Los Angeles County\", \"rsa\": \"Los Angeles County\", \"date\": \"2021-01-03\", \"new_confirmed_cases_seven_day_per_100k\": 888.9983298782083}, {\"name\": \"Los Angeles County\", \"rsa\": \"Los Angeles County\", \"date\": \"2021-01-04\", \"new_confirmed_cases_seven_day_per_100k\": 848.7005801635706}, {\"name\": \"Los Angeles County\", \"rsa\": \"Los Angeles County\", \"date\": \"2021-01-05\", \"new_confirmed_cases_seven_day_per_100k\": 851.937564973959}, {\"name\": \"Los Angeles County\", \"rsa\": \"Los Angeles County\", \"date\": \"2021-01-06\", \"new_confirmed_cases_seven_day_per_100k\": 868.3988055357319}, {\"name\": \"Los Angeles County\", \"rsa\": \"Los Angeles County\", \"date\": \"2021-01-07\", \"new_confirmed_cases_seven_day_per_100k\": 903.2565953564397}, {\"name\": \"Los Angeles County\", \"rsa\": \"Los Angeles County\", \"date\": \"2021-01-08\", \"new_confirmed_cases_seven_day_per_100k\": 855.2620327583556}, {\"name\": \"Los Angeles County\", \"rsa\": \"Los Angeles County\", \"date\": \"2021-01-09\", \"new_confirmed_cases_seven_day_per_100k\": 860.7758610091317}, {\"name\": \"Los Angeles County\", \"rsa\": \"Los Angeles County\", \"date\": \"2021-01-10\", \"new_confirmed_cases_seven_day_per_100k\": 880.0816385724135}, {\"name\": \"Los Angeles County\", \"rsa\": \"Los Angeles County\", \"date\": \"2021-01-11\", \"new_confirmed_cases_seven_day_per_100k\": 914.6599117740526}, {\"name\": \"Los Angeles County\", \"rsa\": \"Los Angeles County\", \"date\": \"2021-01-12\", \"new_confirmed_cases_seven_day_per_100k\": 915.7567733002567}, {\"name\": \"Los Angeles County\", \"rsa\": \"Los Angeles County\", \"date\": \"2021-01-13\", \"new_confirmed_cases_seven_day_per_100k\": 915.8881404387677}, {\"name\": \"Los Angeles County\", \"rsa\": \"Los Angeles County\", \"date\": \"2021-01-14\", \"new_confirmed_cases_seven_day_per_100k\": 899.6479009879774}, {\"name\": \"Los Angeles County\", \"rsa\": \"Los Angeles County\", \"date\": \"2021-01-15\", \"new_confirmed_cases_seven_day_per_100k\": 865.482111365075}]}}, {\"mode\": \"vega-lite\"});\n",
       "</script>"
      ],
      "text/plain": [
       "alt.Chart(...)"
      ]
     },
     "execution_count": 38,
     "metadata": {},
     "output_type": "execute_result"
    }
   ],
   "source": [
    "twocities_chart"
   ]
  },
  {
   "cell_type": "code",
   "execution_count": 39,
   "metadata": {},
   "outputs": [],
   "source": [
    "twocities_chart2 = (\n",
    "    alt.Chart(two_cities2)\n",
    "    .mark_line()\n",
    "    .encode(\n",
    "        x=alt.X(\n",
    "            \"date:T\",\n",
    "            axis=alt.Axis(\n",
    "                tickCount=4,\n",
    "                format=(\"%b. %-d\"),\n",
    "                grid=False,\n",
    "                tickColor=\"#ffffff\",\n",
    "                title=\"\",\n",
    "            ),\n",
    "        ),\n",
    "        y=alt.Y(\n",
    "            \"new_confirmed_cases_seven_day_per_100k\",\n",
    "            title=\"\",\n",
    "            axis=alt.Axis(tickColor=\"#ffffff\"),\n",
    "        ),\n",
    "        facet=alt.Facet(\"name:N\", columns=3, title=\"\"),\n",
    "    )\n",
    "    .properties(width=350, height=250)\n",
    "    .configure_axis()\n",
    ")"
   ]
  },
  {
   "cell_type": "code",
   "execution_count": 40,
   "metadata": {},
   "outputs": [
    {
     "data": {
      "text/html": [
       "\n",
       "<div id=\"altair-viz-ebd27f0891a7443bb9cb82da4378fe28\"></div>\n",
       "<script type=\"text/javascript\">\n",
       "  (function(spec, embedOpt){\n",
       "    const outputDiv = document.getElementById(\"altair-viz-ebd27f0891a7443bb9cb82da4378fe28\");\n",
       "    const paths = {\n",
       "      \"vega\": \"https://cdn.jsdelivr.net/npm//vega@5?noext\",\n",
       "      \"vega-lib\": \"https://cdn.jsdelivr.net/npm//vega-lib?noext\",\n",
       "      \"vega-lite\": \"https://cdn.jsdelivr.net/npm//vega-lite@4.0.2?noext\",\n",
       "      \"vega-embed\": \"https://cdn.jsdelivr.net/npm//vega-embed@6?noext\",\n",
       "    };\n",
       "\n",
       "    function loadScript(lib) {\n",
       "      return new Promise(function(resolve, reject) {\n",
       "        var s = document.createElement('script');\n",
       "        s.src = paths[lib];\n",
       "        s.async = true;\n",
       "        s.onload = () => resolve(paths[lib]);\n",
       "        s.onerror = () => reject(`Error loading script: ${paths[lib]}`);\n",
       "        document.getElementsByTagName(\"head\")[0].appendChild(s);\n",
       "      });\n",
       "    }\n",
       "\n",
       "    function showError(err) {\n",
       "      outputDiv.innerHTML = `<div class=\"error\" style=\"color:red;\">${err}</div>`;\n",
       "      throw err;\n",
       "    }\n",
       "\n",
       "    function displayChart(vegaEmbed) {\n",
       "      vegaEmbed(outputDiv, spec, embedOpt)\n",
       "        .catch(err => showError(`Javascript Error: ${err.message}<br>This usually means there's a typo in your chart specification. See the javascript console for the full traceback.`));\n",
       "    }\n",
       "\n",
       "    if(typeof define === \"function\" && define.amd) {\n",
       "      requirejs.config({paths});\n",
       "      require([\"vega-embed\"], displayChart, err => showError(`Error loading script: ${err.message}`));\n",
       "    } else if (typeof vegaEmbed === \"function\") {\n",
       "      displayChart(vegaEmbed);\n",
       "    } else {\n",
       "      loadScript(\"vega\")\n",
       "        .then(() => loadScript(\"vega-lite\"))\n",
       "        .then(() => loadScript(\"vega-embed\"))\n",
       "        .catch(showError)\n",
       "        .then(() => displayChart(vegaEmbed));\n",
       "    }\n",
       "  })({\"config\": {\"view\": {\"width\": 800, \"height\": 450}, \"background\": \"#ffffff\", \"title\": {\"anchor\": \"start\", \"font\": \"Benton Gothic Bold, sans\", \"fontColor\": \"#000000\", \"fontSize\": 22, \"fontWeight\": \"normal\"}, \"arc\": {\"fill\": \"#82c6df\"}, \"area\": {\"fill\": \"#82c6df\"}, \"line\": {\"stroke\": \"#82c6df\", \"strokeWidth\": 3}, \"path\": {\"stroke\": \"#82c6df\"}, \"rect\": {\"fill\": \"#82c6df\"}, \"shape\": {\"stroke\": \"#82c6df\"}, \"bar\": {\"fill\": \"#82c6df\"}, \"point\": {\"stroke\": \"#82c6df\"}, \"symbol\": {\"fill\": \"#82c6df\", \"size\": 30}, \"axis\": {\"titleFont\": \"Benton Gothic Bold, sans\", \"titleFontSize\": 13, \"titleFontWeight\": \"normal\", \"labelFont\": \"Benton Gothic, sans\", \"labelFontSize\": 11.5, \"labelFontWeight\": \"normal\"}, \"axisX\": {\"labelAngle\": 0, \"labelPadding\": 4, \"tickSize\": 3}, \"axisY\": {\"labelBaseline\": \"middle\", \"maxExtent\": 45, \"minExtent\": 45, \"tickSize\": 2, \"titleAlign\": \"left\", \"titleAngle\": 0, \"titleX\": -45, \"titleY\": -11}, \"legend\": {\"titleFont\": \"Benton Gothic Bold, sans\", \"titleFontSize\": 13, \"titleFontWeight\": \"normal\", \"symbolType\": \"square\", \"labelFont\": \"Benton Gothic, sans\", \"labelFontSize\": 11.5}, \"range\": {\"category\": [\"#3580b1\", \"#ec8431\", \"#ab7fb4\", \"#c89d29\", \"#adc839\", \"#829eb1\"], \"diverging\": [\"#e68a4f\", \"#f4bb6a\", \"#f9e39c\", \"#dadfe2\", \"#a6b7c6\", \"#849eae\"], \"heatmap\": [\"#fbf2c7\", \"#f9e39c\", \"#f8d36e\", \"#f4bb6a\", \"#e68a4f\", \"#d15a40\", \"#ab4232\"], \"ordinal\": [\"#fbf2c7\", \"#f9e39c\", \"#f8d36e\", \"#f4bb6a\", \"#e68a4f\", \"#d15a40\", \"#ab4232\"], \"ramp\": [\"#fbf2c7\", \"#f9e39c\", \"#f8d36e\", \"#f4bb6a\", \"#e68a4f\", \"#d15a40\", \"#ab4232\"]}}, \"data\": {\"name\": \"data-114597ede0bc0e8b995f3265096088a5\"}, \"mark\": \"line\", \"encoding\": {\"facet\": {\"type\": \"nominal\", \"columns\": 3, \"field\": \"name\", \"title\": \"\"}, \"x\": {\"type\": \"temporal\", \"axis\": {\"format\": \"%b. %-d\", \"grid\": false, \"tickColor\": \"#ffffff\", \"tickCount\": 4, \"title\": \"\"}, \"field\": \"date\"}, \"y\": {\"type\": \"quantitative\", \"axis\": {\"tickColor\": \"#ffffff\"}, \"field\": \"new_confirmed_cases_seven_day_per_100k\", \"title\": \"\"}}, \"height\": 250, \"width\": 350, \"$schema\": \"https://vega.github.io/schema/vega-lite/v4.0.2.json\", \"datasets\": {\"data-114597ede0bc0e8b995f3265096088a5\": [{\"name\": \"Leimert Park\", \"rsa\": \"South L.A.\", \"date\": \"2020-11-15\", \"new_confirmed_cases_seven_day_per_100k\": 59.074499507712495}, {\"name\": \"Leimert Park\", \"rsa\": \"South L.A.\", \"date\": \"2020-11-16\", \"new_confirmed_cases_seven_day_per_100k\": 65.63833278634722}, {\"name\": \"Leimert Park\", \"rsa\": \"South L.A.\", \"date\": \"2020-11-17\", \"new_confirmed_cases_seven_day_per_100k\": 98.45749917952084}, {\"name\": \"Leimert Park\", \"rsa\": \"South L.A.\", \"date\": \"2020-11-18\", \"new_confirmed_cases_seven_day_per_100k\": 98.45749917952084}, {\"name\": \"Leimert Park\", \"rsa\": \"South L.A.\", \"date\": \"2020-11-19\", \"new_confirmed_cases_seven_day_per_100k\": 124.71283229405974}, {\"name\": \"Leimert Park\", \"rsa\": \"South L.A.\", \"date\": \"2020-11-20\", \"new_confirmed_cases_seven_day_per_100k\": 118.14899901542499}, {\"name\": \"Leimert Park\", \"rsa\": \"South L.A.\", \"date\": \"2020-11-21\", \"new_confirmed_cases_seven_day_per_100k\": 203.4788316376764}, {\"name\": \"Leimert Park\", \"rsa\": \"South L.A.\", \"date\": \"2020-11-22\", \"new_confirmed_cases_seven_day_per_100k\": 216.60649819494583}, {\"name\": \"Leimert Park\", \"rsa\": \"South L.A.\", \"date\": \"2020-11-23\", \"new_confirmed_cases_seven_day_per_100k\": 249.42566458811947}, {\"name\": \"Leimert Park\", \"rsa\": \"South L.A.\", \"date\": \"2020-11-24\", \"new_confirmed_cases_seven_day_per_100k\": 242.86183130948476}, {\"name\": \"Leimert Park\", \"rsa\": \"South L.A.\", \"date\": \"2020-11-25\", \"new_confirmed_cases_seven_day_per_100k\": 269.1171644240236}, {\"name\": \"Leimert Park\", \"rsa\": \"South L.A.\", \"date\": \"2020-11-26\", \"new_confirmed_cases_seven_day_per_100k\": 282.2448309812931}, {\"name\": \"Leimert Park\", \"rsa\": \"South L.A.\", \"date\": \"2020-11-27\", \"new_confirmed_cases_seven_day_per_100k\": 321.6278306531014}, {\"name\": \"Leimert Park\", \"rsa\": \"South L.A.\", \"date\": \"2020-11-28\", \"new_confirmed_cases_seven_day_per_100k\": 255.9894978667542}, {\"name\": \"Leimert Park\", \"rsa\": \"South L.A.\", \"date\": \"2020-11-29\", \"new_confirmed_cases_seven_day_per_100k\": 262.5533311453889}, {\"name\": \"Leimert Park\", \"rsa\": \"South L.A.\", \"date\": \"2020-11-30\", \"new_confirmed_cases_seven_day_per_100k\": 315.0639973744667}, {\"name\": \"Leimert Park\", \"rsa\": \"South L.A.\", \"date\": \"2020-12-01\", \"new_confirmed_cases_seven_day_per_100k\": 334.7554972103709}, {\"name\": \"Leimert Park\", \"rsa\": \"South L.A.\", \"date\": \"2020-12-02\", \"new_confirmed_cases_seven_day_per_100k\": 315.0639973744667}, {\"name\": \"Leimert Park\", \"rsa\": \"South L.A.\", \"date\": \"2020-12-03\", \"new_confirmed_cases_seven_day_per_100k\": 354.44699704627504}, {\"name\": \"Leimert Park\", \"rsa\": \"South L.A.\", \"date\": \"2020-12-04\", \"new_confirmed_cases_seven_day_per_100k\": 347.8831637676402}, {\"name\": \"Leimert Park\", \"rsa\": \"South L.A.\", \"date\": \"2020-12-05\", \"new_confirmed_cases_seven_day_per_100k\": 367.57466360354437}, {\"name\": \"Leimert Park\", \"rsa\": \"South L.A.\", \"date\": \"2020-12-06\", \"new_confirmed_cases_seven_day_per_100k\": 452.904496225796}, {\"name\": \"Leimert Park\", \"rsa\": \"South L.A.\", \"date\": \"2020-12-07\", \"new_confirmed_cases_seven_day_per_100k\": 433.21299638989166}, {\"name\": \"Leimert Park\", \"rsa\": \"South L.A.\", \"date\": \"2020-12-08\", \"new_confirmed_cases_seven_day_per_100k\": 485.7236626189695}, {\"name\": \"Leimert Park\", \"rsa\": \"South L.A.\", \"date\": \"2020-12-09\", \"new_confirmed_cases_seven_day_per_100k\": 531.6704955694125}, {\"name\": \"Leimert Park\", \"rsa\": \"South L.A.\", \"date\": \"2020-12-10\", \"new_confirmed_cases_seven_day_per_100k\": 590.744995077125}, {\"name\": \"Leimert Park\", \"rsa\": \"South L.A.\", \"date\": \"2020-12-11\", \"new_confirmed_cases_seven_day_per_100k\": 662.947161142107}, {\"name\": \"Leimert Park\", \"rsa\": \"South L.A.\", \"date\": \"2020-12-12\", \"new_confirmed_cases_seven_day_per_100k\": 715.4578273711847}, {\"name\": \"Leimert Park\", \"rsa\": \"South L.A.\", \"date\": \"2020-12-13\", \"new_confirmed_cases_seven_day_per_100k\": 722.0216606498195}, {\"name\": \"Leimert Park\", \"rsa\": \"South L.A.\", \"date\": \"2020-12-14\", \"new_confirmed_cases_seven_day_per_100k\": 689.2024942566458}, {\"name\": \"Leimert Park\", \"rsa\": \"South L.A.\", \"date\": \"2020-12-15\", \"new_confirmed_cases_seven_day_per_100k\": 702.3301608139152}, {\"name\": \"Leimert Park\", \"rsa\": \"South L.A.\", \"date\": \"2020-12-16\", \"new_confirmed_cases_seven_day_per_100k\": 754.8408270429933}, {\"name\": \"Leimert Park\", \"rsa\": \"South L.A.\", \"date\": \"2020-12-17\", \"new_confirmed_cases_seven_day_per_100k\": 689.2024942566458}, {\"name\": \"Leimert Park\", \"rsa\": \"South L.A.\", \"date\": \"2020-12-18\", \"new_confirmed_cases_seven_day_per_100k\": 728.5854939284543}, {\"name\": \"Leimert Park\", \"rsa\": \"South L.A.\", \"date\": \"2020-12-19\", \"new_confirmed_cases_seven_day_per_100k\": 761.4046603216278}, {\"name\": \"Leimert Park\", \"rsa\": \"South L.A.\", \"date\": \"2020-12-20\", \"new_confirmed_cases_seven_day_per_100k\": 748.2769937643584}, {\"name\": \"Leimert Park\", \"rsa\": \"South L.A.\", \"date\": \"2020-12-21\", \"new_confirmed_cases_seven_day_per_100k\": 853.298326222514}, {\"name\": \"Leimert Park\", \"rsa\": \"South L.A.\", \"date\": \"2020-12-22\", \"new_confirmed_cases_seven_day_per_100k\": 918.9366590088613}, {\"name\": \"Leimert Park\", \"rsa\": \"South L.A.\", \"date\": \"2020-12-23\", \"new_confirmed_cases_seven_day_per_100k\": 892.6813258943222}, {\"name\": \"Leimert Park\", \"rsa\": \"South L.A.\", \"date\": \"2020-12-24\", \"new_confirmed_cases_seven_day_per_100k\": 918.9366590088613}, {\"name\": \"Leimert Park\", \"rsa\": \"South L.A.\", \"date\": \"2020-12-25\", \"new_confirmed_cases_seven_day_per_100k\": 774.5323268788973}, {\"name\": \"Leimert Park\", \"rsa\": \"South L.A.\", \"date\": \"2020-12-26\", \"new_confirmed_cases_seven_day_per_100k\": 846.7344929438791}, {\"name\": \"Leimert Park\", \"rsa\": \"South L.A.\", \"date\": \"2020-12-27\", \"new_confirmed_cases_seven_day_per_100k\": 872.9898260584181}, {\"name\": \"Leimert Park\", \"rsa\": \"South L.A.\", \"date\": \"2020-12-28\", \"new_confirmed_cases_seven_day_per_100k\": 800.7876599934361}, {\"name\": \"Leimert Park\", \"rsa\": \"South L.A.\", \"date\": \"2020-12-29\", \"new_confirmed_cases_seven_day_per_100k\": 689.2024942566458}, {\"name\": \"Leimert Park\", \"rsa\": \"South L.A.\", \"date\": \"2020-12-30\", \"new_confirmed_cases_seven_day_per_100k\": 610.4364949130293}, {\"name\": \"Leimert Park\", \"rsa\": \"South L.A.\", \"date\": \"2020-12-31\", \"new_confirmed_cases_seven_day_per_100k\": 617.0003281916639}, {\"name\": \"Leimert Park\", \"rsa\": \"South L.A.\", \"date\": \"2021-01-01\", \"new_confirmed_cases_seven_day_per_100k\": 827.0429931079751}, {\"name\": \"Leimert Park\", \"rsa\": \"South L.A.\", \"date\": \"2021-01-02\", \"new_confirmed_cases_seven_day_per_100k\": 741.7131604857236}, {\"name\": \"Leimert Park\", \"rsa\": \"South L.A.\", \"date\": \"2021-01-03\", \"new_confirmed_cases_seven_day_per_100k\": 748.2769937643584}, {\"name\": \"Leimert Park\", \"rsa\": \"South L.A.\", \"date\": \"2021-01-04\", \"new_confirmed_cases_seven_day_per_100k\": 787.6599934361667}, {\"name\": \"Leimert Park\", \"rsa\": \"South L.A.\", \"date\": \"2021-01-05\", \"new_confirmed_cases_seven_day_per_100k\": 820.4791598293402}, {\"name\": \"Leimert Park\", \"rsa\": \"South L.A.\", \"date\": \"2021-01-06\", \"new_confirmed_cases_seven_day_per_100k\": 859.8621595011487}, {\"name\": \"Leimert Park\", \"rsa\": \"South L.A.\", \"date\": \"2021-01-07\", \"new_confirmed_cases_seven_day_per_100k\": 840.1706596652444}, {\"name\": \"Leimert Park\", \"rsa\": \"South L.A.\", \"date\": \"2021-01-08\", \"new_confirmed_cases_seven_day_per_100k\": 754.8408270429933}, {\"name\": \"Leimert Park\", \"rsa\": \"South L.A.\", \"date\": \"2021-01-09\", \"new_confirmed_cases_seven_day_per_100k\": 774.5323268788973}, {\"name\": \"Leimert Park\", \"rsa\": \"South L.A.\", \"date\": \"2021-01-10\", \"new_confirmed_cases_seven_day_per_100k\": 774.5323268788973}, {\"name\": \"Leimert Park\", \"rsa\": \"South L.A.\", \"date\": \"2021-01-11\", \"new_confirmed_cases_seven_day_per_100k\": 708.8939940925501}, {\"name\": \"Leimert Park\", \"rsa\": \"South L.A.\", \"date\": \"2021-01-12\", \"new_confirmed_cases_seven_day_per_100k\": 722.0216606498195}, {\"name\": \"Leimert Park\", \"rsa\": \"South L.A.\", \"date\": \"2021-01-13\", \"new_confirmed_cases_seven_day_per_100k\": 748.2769937643584}, {\"name\": \"Leimert Park\", \"rsa\": \"South L.A.\", \"date\": \"2021-01-14\", \"new_confirmed_cases_seven_day_per_100k\": 781.096160157532}, {\"name\": \"Leimert Park\", \"rsa\": \"South L.A.\", \"date\": \"2021-01-15\", \"new_confirmed_cases_seven_day_per_100k\": 774.5323268788973}, {\"name\": \"Los Angeles County\", \"rsa\": \"Los Angeles County\", \"date\": \"2020-11-15\", \"new_confirmed_cases_seven_day_per_100k\": 154.47546009827875}, {\"name\": \"Los Angeles County\", \"rsa\": \"Los Angeles County\", \"date\": \"2020-11-16\", \"new_confirmed_cases_seven_day_per_100k\": 167.52639508039405}, {\"name\": \"Los Angeles County\", \"rsa\": \"Los Angeles County\", \"date\": \"2020-11-17\", \"new_confirmed_cases_seven_day_per_100k\": 169.18648365119103}, {\"name\": \"Los Angeles County\", \"rsa\": \"Los Angeles County\", \"date\": \"2020-11-18\", \"new_confirmed_cases_seven_day_per_100k\": 189.11963970874848}, {\"name\": \"Los Angeles County\", \"rsa\": \"Los Angeles County\", \"date\": \"2020-11-19\", \"new_confirmed_cases_seven_day_per_100k\": 210.4195161797892}, {\"name\": \"Los Angeles County\", \"rsa\": \"Los Angeles County\", \"date\": \"2020-11-20\", \"new_confirmed_cases_seven_day_per_100k\": 188.1065621430341}, {\"name\": \"Los Angeles County\", \"rsa\": \"Los Angeles County\", \"date\": \"2020-11-21\", \"new_confirmed_cases_seven_day_per_100k\": 230.9748238294448}, {\"name\": \"Los Angeles County\", \"rsa\": \"Los Angeles County\", \"date\": \"2020-11-22\", \"new_confirmed_cases_seven_day_per_100k\": 226.538848503327}, {\"name\": \"Los Angeles County\", \"rsa\": \"Los Angeles County\", \"date\": \"2020-11-23\", \"new_confirmed_cases_seven_day_per_100k\": 254.66208025173057}, {\"name\": \"Los Angeles County\", \"rsa\": \"Los Angeles County\", \"date\": \"2020-11-24\", \"new_confirmed_cases_seven_day_per_100k\": 264.34090248746065}, {\"name\": \"Los Angeles County\", \"rsa\": \"Los Angeles County\", \"date\": \"2020-11-25\", \"new_confirmed_cases_seven_day_per_100k\": 263.0234805316266}, {\"name\": \"Los Angeles County\", \"rsa\": \"Los Angeles County\", \"date\": \"2020-11-26\", \"new_confirmed_cases_seven_day_per_100k\": 266.08412265433117}, {\"name\": \"Los Angeles County\", \"rsa\": \"Los Angeles County\", \"date\": \"2020-11-27\", \"new_confirmed_cases_seven_day_per_100k\": 304.71071645360104}, {\"name\": \"Los Angeles County\", \"rsa\": \"Los Angeles County\", \"date\": \"2020-11-28\", \"new_confirmed_cases_seven_day_per_100k\": 257.04518438990414}, {\"name\": \"Los Angeles County\", \"rsa\": \"Los Angeles County\", \"date\": \"2020-11-29\", \"new_confirmed_cases_seven_day_per_100k\": 276.2074959208999}, {\"name\": \"Los Angeles County\", \"rsa\": \"Los Angeles County\", \"date\": \"2020-11-30\", \"new_confirmed_cases_seven_day_per_100k\": 268.5129525160409}, {\"name\": \"Los Angeles County\", \"rsa\": \"Los Angeles County\", \"date\": \"2020-12-01\", \"new_confirmed_cases_seven_day_per_100k\": 303.275096664173}, {\"name\": \"Los Angeles County\", \"rsa\": \"Los Angeles County\", \"date\": \"2020-12-02\", \"new_confirmed_cases_seven_day_per_100k\": 318.0598299671711}, {\"name\": \"Los Angeles County\", \"rsa\": \"Los Angeles County\", \"date\": \"2020-12-03\", \"new_confirmed_cases_seven_day_per_100k\": 338.9870198317438}, {\"name\": \"Los Angeles County\", \"rsa\": \"Los Angeles County\", \"date\": \"2020-12-04\", \"new_confirmed_cases_seven_day_per_100k\": 378.1344050168774}, {\"name\": \"Los Angeles County\", \"rsa\": \"Los Angeles County\", \"date\": \"2020-12-05\", \"new_confirmed_cases_seven_day_per_100k\": 425.9382396566499}, {\"name\": \"Los Angeles County\", \"rsa\": \"Los Angeles County\", \"date\": \"2020-12-06\", \"new_confirmed_cases_seven_day_per_100k\": 475.5789895724229}, {\"name\": \"Los Angeles County\", \"rsa\": \"Los Angeles County\", \"date\": \"2020-12-07\", \"new_confirmed_cases_seven_day_per_100k\": 500.90838418044143}, {\"name\": \"Los Angeles County\", \"rsa\": \"Los Angeles County\", \"date\": \"2020-12-08\", \"new_confirmed_cases_seven_day_per_100k\": 507.86516160452516}, {\"name\": \"Los Angeles County\", \"rsa\": \"Los Angeles County\", \"date\": \"2020-12-09\", \"new_confirmed_cases_seven_day_per_100k\": 531.7665327793109}, {\"name\": \"Los Angeles County\", \"rsa\": \"Los Angeles County\", \"date\": \"2020-12-10\", \"new_confirmed_cases_seven_day_per_100k\": 575.1110328253416}, {\"name\": \"Los Angeles County\", \"rsa\": \"Los Angeles County\", \"date\": \"2020-12-11\", \"new_confirmed_cases_seven_day_per_100k\": 617.9834750661822}, {\"name\": \"Los Angeles County\", \"rsa\": \"Los Angeles County\", \"date\": \"2020-12-12\", \"new_confirmed_cases_seven_day_per_100k\": 641.5042613509374}, {\"name\": \"Los Angeles County\", \"rsa\": \"Los Angeles County\", \"date\": \"2020-12-13\", \"new_confirmed_cases_seven_day_per_100k\": 657.209987321989}, {\"name\": \"Los Angeles County\", \"rsa\": \"Los Angeles County\", \"date\": \"2020-12-14\", \"new_confirmed_cases_seven_day_per_100k\": 647.3250921387145}, {\"name\": \"Los Angeles County\", \"rsa\": \"Los Angeles County\", \"date\": \"2020-12-15\", \"new_confirmed_cases_seven_day_per_100k\": 674.1497256063024}, {\"name\": \"Los Angeles County\", \"rsa\": \"Los Angeles County\", \"date\": \"2020-12-16\", \"new_confirmed_cases_seven_day_per_100k\": 794.292300405562}, {\"name\": \"Los Angeles County\", \"rsa\": \"Los Angeles County\", \"date\": \"2020-12-17\", \"new_confirmed_cases_seven_day_per_100k\": 803.4705292700836}, {\"name\": \"Los Angeles County\", \"rsa\": \"Los Angeles County\", \"date\": \"2020-12-18\", \"new_confirmed_cases_seven_day_per_100k\": 819.8060876818511}, {\"name\": \"Los Angeles County\", \"rsa\": \"Los Angeles County\", \"date\": \"2020-12-19\", \"new_confirmed_cases_seven_day_per_100k\": 840.0236678804686}, {\"name\": \"Los Angeles County\", \"rsa\": \"Los Angeles County\", \"date\": \"2020-12-20\", \"new_confirmed_cases_seven_day_per_100k\": 846.6315483045506}, {\"name\": \"Los Angeles County\", \"rsa\": \"Los Angeles County\", \"date\": \"2020-12-21\", \"new_confirmed_cases_seven_day_per_100k\": 887.2219190649095}, {\"name\": \"Los Angeles County\", \"rsa\": \"Los Angeles County\", \"date\": \"2020-12-22\", \"new_confirmed_cases_seven_day_per_100k\": 891.9797583695419}, {\"name\": \"Los Angeles County\", \"rsa\": \"Los Angeles County\", \"date\": \"2020-12-23\", \"new_confirmed_cases_seven_day_per_100k\": 839.2187420480292}, {\"name\": \"Los Angeles County\", \"rsa\": \"Los Angeles County\", \"date\": \"2020-12-24\", \"new_confirmed_cases_seven_day_per_100k\": 832.6615078753198}, {\"name\": \"Los Angeles County\", \"rsa\": \"Los Angeles County\", \"date\": \"2020-12-25\", \"new_confirmed_cases_seven_day_per_100k\": 695.679528238308}, {\"name\": \"Los Angeles County\", \"rsa\": \"Los Angeles County\", \"date\": \"2020-12-26\", \"new_confirmed_cases_seven_day_per_100k\": 835.0939638356593}, {\"name\": \"Los Angeles County\", \"rsa\": \"Los Angeles County\", \"date\": \"2020-12-27\", \"new_confirmed_cases_seven_day_per_100k\": 835.9122621261291}, {\"name\": \"Los Angeles County\", \"rsa\": \"Los Angeles County\", \"date\": \"2020-12-28\", \"new_confirmed_cases_seven_day_per_100k\": 854.7010314195264}, {\"name\": \"Los Angeles County\", \"rsa\": \"Los Angeles County\", \"date\": \"2020-12-29\", \"new_confirmed_cases_seven_day_per_100k\": 851.1227998423742}, {\"name\": \"Los Angeles County\", \"rsa\": \"Los Angeles County\", \"date\": \"2020-12-30\", \"new_confirmed_cases_seven_day_per_100k\": 795.2431459220965}, {\"name\": \"Los Angeles County\", \"rsa\": \"Los Angeles County\", \"date\": \"2020-12-31\", \"new_confirmed_cases_seven_day_per_100k\": 812.1802815167844}, {\"name\": \"Los Angeles County\", \"rsa\": \"Los Angeles County\", \"date\": \"2021-01-01\", \"new_confirmed_cases_seven_day_per_100k\": 1018.0965849310445}, {\"name\": \"Los Angeles County\", \"rsa\": \"Los Angeles County\", \"date\": \"2021-01-02\", \"new_confirmed_cases_seven_day_per_100k\": 899.778624118464}, {\"name\": \"Los Angeles County\", \"rsa\": \"Los Angeles County\", \"date\": \"2021-01-03\", \"new_confirmed_cases_seven_day_per_100k\": 888.9983298782083}, {\"name\": \"Los Angeles County\", \"rsa\": \"Los Angeles County\", \"date\": \"2021-01-04\", \"new_confirmed_cases_seven_day_per_100k\": 848.7005801635706}, {\"name\": \"Los Angeles County\", \"rsa\": \"Los Angeles County\", \"date\": \"2021-01-05\", \"new_confirmed_cases_seven_day_per_100k\": 851.937564973959}, {\"name\": \"Los Angeles County\", \"rsa\": \"Los Angeles County\", \"date\": \"2021-01-06\", \"new_confirmed_cases_seven_day_per_100k\": 868.3988055357319}, {\"name\": \"Los Angeles County\", \"rsa\": \"Los Angeles County\", \"date\": \"2021-01-07\", \"new_confirmed_cases_seven_day_per_100k\": 903.2565953564397}, {\"name\": \"Los Angeles County\", \"rsa\": \"Los Angeles County\", \"date\": \"2021-01-08\", \"new_confirmed_cases_seven_day_per_100k\": 855.2620327583556}, {\"name\": \"Los Angeles County\", \"rsa\": \"Los Angeles County\", \"date\": \"2021-01-09\", \"new_confirmed_cases_seven_day_per_100k\": 860.7758610091317}, {\"name\": \"Los Angeles County\", \"rsa\": \"Los Angeles County\", \"date\": \"2021-01-10\", \"new_confirmed_cases_seven_day_per_100k\": 880.0816385724135}, {\"name\": \"Los Angeles County\", \"rsa\": \"Los Angeles County\", \"date\": \"2021-01-11\", \"new_confirmed_cases_seven_day_per_100k\": 914.6599117740526}, {\"name\": \"Los Angeles County\", \"rsa\": \"Los Angeles County\", \"date\": \"2021-01-12\", \"new_confirmed_cases_seven_day_per_100k\": 915.7567733002567}, {\"name\": \"Los Angeles County\", \"rsa\": \"Los Angeles County\", \"date\": \"2021-01-13\", \"new_confirmed_cases_seven_day_per_100k\": 915.8881404387677}, {\"name\": \"Los Angeles County\", \"rsa\": \"Los Angeles County\", \"date\": \"2021-01-14\", \"new_confirmed_cases_seven_day_per_100k\": 899.6479009879774}, {\"name\": \"Los Angeles County\", \"rsa\": \"Los Angeles County\", \"date\": \"2021-01-15\", \"new_confirmed_cases_seven_day_per_100k\": 865.482111365075}]}}, {\"mode\": \"vega-lite\"});\n",
       "</script>"
      ],
      "text/plain": [
       "alt.Chart(...)"
      ]
     },
     "execution_count": 40,
     "metadata": {},
     "output_type": "execute_result"
    }
   ],
   "source": [
    "twocities_chart2"
   ]
  },
  {
   "cell_type": "code",
   "execution_count": 116,
   "metadata": {},
   "outputs": [],
   "source": [
    "allcities_chart = (\n",
    "    alt.Chart(surge_places.query(\"name != 'East Rancho Dominguez'\"))\n",
    "    .mark_line()\n",
    "    .encode(\n",
    "        x=alt.X(\n",
    "            \"date:T\",\n",
    "            axis=alt.Axis(\n",
    "                tickCount=4,\n",
    "                format=(\"%b. %-d\"),\n",
    "                grid=False,\n",
    "                tickColor=\"#ffffff\",\n",
    "                title=\"\",\n",
    "            ),\n",
    "        ),\n",
    "        y=alt.Y(\n",
    "            \"new_confirmed_cases_seven_day_per_100k\",\n",
    "            title=\"\",\n",
    "            axis=alt.Axis(tickColor=\"#ffffff\"),\n",
    "        ),\n",
    "        facet=alt.Facet(\"name:N\", title=\"\", columns=11),\n",
    "        color=alt.Color(\"rsa:N\"),\n",
    "    )\n",
    "    .properties(width=100, height=100)\n",
    "    .configure_axis()\n",
    ")"
   ]
  },
  {
   "cell_type": "code",
   "execution_count": 118,
   "metadata": {},
   "outputs": [],
   "source": [
    "allcities_chart.save(\"visuals/allcities_chart_min_multiples.png\")"
   ]
  },
  {
   "cell_type": "markdown",
   "metadata": {},
   "source": [
    "### Change from Nov. 15 to Jan. 15?"
   ]
  },
  {
   "cell_type": "code",
   "execution_count": 43,
   "metadata": {},
   "outputs": [],
   "source": [
    "surge_change = places_lrg[\n",
    "    (places_lrg[\"date\"] == surge_begin) | (places_lrg[\"date\"] == surge_end)\n",
    "][[\"name\", \"date\", \"new_confirmed_cases_seven_day_per_100k\"]]"
   ]
  },
  {
   "cell_type": "markdown",
   "metadata": {},
   "source": [
    "### Make the change dataframe wide "
   ]
  },
  {
   "cell_type": "code",
   "execution_count": 44,
   "metadata": {},
   "outputs": [],
   "source": [
    "surge_change_pivot = (\n",
    "    pd.pivot_table(\n",
    "        surge_change[surge_change[\"new_confirmed_cases_seven_day_per_100k\"] > 0],\n",
    "        values=\"new_confirmed_cases_seven_day_per_100k\",\n",
    "        index=[\"name\"],\n",
    "        columns=[\"date\"],\n",
    "        fill_value=0,\n",
    "    )\n",
    "    .dropna()\n",
    "    .reset_index()\n",
    ")"
   ]
  },
  {
   "cell_type": "markdown",
   "metadata": {},
   "source": [
    "### Clean up column headers, round figures and remove places with no cases"
   ]
  },
  {
   "cell_type": "code",
   "execution_count": 45,
   "metadata": {},
   "outputs": [],
   "source": [
    "surge_change_pivot.rename(\n",
    "    columns={\"2020-11-15\": \"mid_november\", \"2021-01-15\": \"mid_january\"}, inplace=True\n",
    ")"
   ]
  },
  {
   "cell_type": "code",
   "execution_count": 46,
   "metadata": {},
   "outputs": [],
   "source": [
    "surge_change_pivot[[\"mid_november\", \"mid_january\"]] = round(\n",
    "    surge_change_pivot[[\"mid_november\", \"mid_january\"]], 2\n",
    ")"
   ]
  },
  {
   "cell_type": "code",
   "execution_count": 50,
   "metadata": {},
   "outputs": [],
   "source": [
    "surge_change_pivot = surge_change_pivot[surge_change_pivot[\"mid_november\"] > 0]"
   ]
  },
  {
   "cell_type": "markdown",
   "metadata": {},
   "source": [
    "### LA County increase percentage?"
   ]
  },
  {
   "cell_type": "code",
   "execution_count": 51,
   "metadata": {},
   "outputs": [
    {
     "data": {
      "text/plain": [
       "460.04"
      ]
     },
     "execution_count": 51,
     "metadata": {},
     "output_type": "execute_result"
    }
   ],
   "source": [
    "round(\n",
    "    (\n",
    "        (\n",
    "            surge_change_pivot[\"mid_january\"].sum()\n",
    "            - surge_change_pivot[\"mid_november\"].sum()\n",
    "        )\n",
    "        / surge_change_pivot[\"mid_november\"].sum()\n",
    "    )\n",
    "    * 100,\n",
    "    2,\n",
    ")"
   ]
  },
  {
   "cell_type": "markdown",
   "metadata": {},
   "source": [
    "### Calculate the change"
   ]
  },
  {
   "cell_type": "code",
   "execution_count": 52,
   "metadata": {},
   "outputs": [],
   "source": [
    "surge_change_pivot[\"pct_change\"] = round(\n",
    "    (\n",
    "        (surge_change_pivot[\"mid_january\"] - surge_change_pivot[\"mid_november\"])\n",
    "        / surge_change_pivot[\"mid_november\"]\n",
    "    )\n",
    "    * 100,\n",
    "    2,\n",
    ")"
   ]
  },
  {
   "cell_type": "markdown",
   "metadata": {},
   "source": [
    "### Which places had the smallest increase in coronavirus rates? "
   ]
  },
  {
   "cell_type": "code",
   "execution_count": 53,
   "metadata": {},
   "outputs": [
    {
     "data": {
      "text/html": [
       "<div>\n",
       "<style scoped>\n",
       "    .dataframe tbody tr th:only-of-type {\n",
       "        vertical-align: middle;\n",
       "    }\n",
       "\n",
       "    .dataframe tbody tr th {\n",
       "        vertical-align: top;\n",
       "    }\n",
       "\n",
       "    .dataframe thead th {\n",
       "        text-align: right;\n",
       "    }\n",
       "</style>\n",
       "<table border=\"1\" class=\"dataframe\">\n",
       "  <thead>\n",
       "    <tr style=\"text-align: right;\">\n",
       "      <th>date</th>\n",
       "      <th>name</th>\n",
       "      <th>mid_november</th>\n",
       "      <th>mid_january</th>\n",
       "      <th>pct_change</th>\n",
       "    </tr>\n",
       "  </thead>\n",
       "  <tbody>\n",
       "    <tr>\n",
       "      <th>183</th>\n",
       "      <td>West Hollywood</td>\n",
       "      <td>211.09</td>\n",
       "      <td>308.52</td>\n",
       "      <td>46.16</td>\n",
       "    </tr>\n",
       "    <tr>\n",
       "      <th>3</th>\n",
       "      <td>Agua Dulce</td>\n",
       "      <td>240.50</td>\n",
       "      <td>408.85</td>\n",
       "      <td>70.00</td>\n",
       "    </tr>\n",
       "    <tr>\n",
       "      <th>102</th>\n",
       "      <td>Malibu</td>\n",
       "      <td>100.30</td>\n",
       "      <td>208.32</td>\n",
       "      <td>107.70</td>\n",
       "    </tr>\n",
       "    <tr>\n",
       "      <th>39</th>\n",
       "      <td>Del Aire</td>\n",
       "      <td>91.05</td>\n",
       "      <td>227.63</td>\n",
       "      <td>150.01</td>\n",
       "    </tr>\n",
       "    <tr>\n",
       "      <th>48</th>\n",
       "      <td>East Pasadena</td>\n",
       "      <td>46.85</td>\n",
       "      <td>124.94</td>\n",
       "      <td>166.68</td>\n",
       "    </tr>\n",
       "    <tr>\n",
       "      <th>57</th>\n",
       "      <td>Encino</td>\n",
       "      <td>172.67</td>\n",
       "      <td>464.89</td>\n",
       "      <td>169.24</td>\n",
       "    </tr>\n",
       "    <tr>\n",
       "      <th>77</th>\n",
       "      <td>Hollywood Hills</td>\n",
       "      <td>139.29</td>\n",
       "      <td>397.50</td>\n",
       "      <td>185.38</td>\n",
       "    </tr>\n",
       "    <tr>\n",
       "      <th>131</th>\n",
       "      <td>Rancho Park</td>\n",
       "      <td>106.71</td>\n",
       "      <td>304.88</td>\n",
       "      <td>185.71</td>\n",
       "    </tr>\n",
       "    <tr>\n",
       "      <th>172</th>\n",
       "      <td>Venice</td>\n",
       "      <td>103.29</td>\n",
       "      <td>309.87</td>\n",
       "      <td>200.00</td>\n",
       "    </tr>\n",
       "    <tr>\n",
       "      <th>21</th>\n",
       "      <td>Brentwood</td>\n",
       "      <td>125.99</td>\n",
       "      <td>377.97</td>\n",
       "      <td>200.00</td>\n",
       "    </tr>\n",
       "  </tbody>\n",
       "</table>\n",
       "</div>"
      ],
      "text/plain": [
       "date             name  mid_november  mid_january  pct_change\n",
       "183    West Hollywood        211.09       308.52       46.16\n",
       "3          Agua Dulce        240.50       408.85       70.00\n",
       "102            Malibu        100.30       208.32      107.70\n",
       "39           Del Aire         91.05       227.63      150.01\n",
       "48      East Pasadena         46.85       124.94      166.68\n",
       "57             Encino        172.67       464.89      169.24\n",
       "77    Hollywood Hills        139.29       397.50      185.38\n",
       "131       Rancho Park        106.71       304.88      185.71\n",
       "172            Venice        103.29       309.87      200.00\n",
       "21          Brentwood        125.99       377.97      200.00"
      ]
     },
     "execution_count": 53,
     "metadata": {},
     "output_type": "execute_result"
    }
   ],
   "source": [
    "surge_change_pivot.sort_values(\"pct_change\", ascending=True).head(10)"
   ]
  },
  {
   "cell_type": "code",
   "execution_count": 54,
   "metadata": {},
   "outputs": [
    {
     "data": {
      "text/plain": [
       "date\n",
       "name             object\n",
       "mid_november    float64\n",
       "mid_january     float64\n",
       "pct_change      float64\n",
       "dtype: object"
      ]
     },
     "execution_count": 54,
     "metadata": {},
     "output_type": "execute_result"
    }
   ],
   "source": [
    "surge_change_pivot.dtypes"
   ]
  },
  {
   "cell_type": "markdown",
   "metadata": {},
   "source": [
    "### And the greatest increase? "
   ]
  },
  {
   "cell_type": "code",
   "execution_count": 55,
   "metadata": {},
   "outputs": [
    {
     "data": {
      "text/html": [
       "<div>\n",
       "<style scoped>\n",
       "    .dataframe tbody tr th:only-of-type {\n",
       "        vertical-align: middle;\n",
       "    }\n",
       "\n",
       "    .dataframe tbody tr th {\n",
       "        vertical-align: top;\n",
       "    }\n",
       "\n",
       "    .dataframe thead th {\n",
       "        text-align: right;\n",
       "    }\n",
       "</style>\n",
       "<table border=\"1\" class=\"dataframe\">\n",
       "  <thead>\n",
       "    <tr style=\"text-align: right;\">\n",
       "      <th>date</th>\n",
       "      <th>name</th>\n",
       "      <th>mid_november</th>\n",
       "      <th>mid_january</th>\n",
       "      <th>pct_change</th>\n",
       "    </tr>\n",
       "  </thead>\n",
       "  <tbody>\n",
       "    <tr>\n",
       "      <th>140</th>\n",
       "      <td>San Marino</td>\n",
       "      <td>15.06</td>\n",
       "      <td>316.34</td>\n",
       "      <td>2000.53</td>\n",
       "    </tr>\n",
       "    <tr>\n",
       "      <th>95</th>\n",
       "      <td>Leimert Park</td>\n",
       "      <td>59.07</td>\n",
       "      <td>774.53</td>\n",
       "      <td>1211.21</td>\n",
       "    </tr>\n",
       "    <tr>\n",
       "      <th>174</th>\n",
       "      <td>Vermont Square</td>\n",
       "      <td>156.72</td>\n",
       "      <td>1828.39</td>\n",
       "      <td>1066.66</td>\n",
       "    </tr>\n",
       "    <tr>\n",
       "      <th>153</th>\n",
       "      <td>South San Gabriel</td>\n",
       "      <td>90.42</td>\n",
       "      <td>1039.78</td>\n",
       "      <td>1049.94</td>\n",
       "    </tr>\n",
       "    <tr>\n",
       "      <th>79</th>\n",
       "      <td>Hyde Park</td>\n",
       "      <td>101.61</td>\n",
       "      <td>1152.73</td>\n",
       "      <td>1034.47</td>\n",
       "    </tr>\n",
       "    <tr>\n",
       "      <th>143</th>\n",
       "      <td>Santa Fe Springs</td>\n",
       "      <td>119.80</td>\n",
       "      <td>1236.11</td>\n",
       "      <td>931.81</td>\n",
       "    </tr>\n",
       "    <tr>\n",
       "      <th>19</th>\n",
       "      <td>Beverlywood</td>\n",
       "      <td>53.14</td>\n",
       "      <td>538.98</td>\n",
       "      <td>914.26</td>\n",
       "    </tr>\n",
       "    <tr>\n",
       "      <th>11</th>\n",
       "      <td>Avocado Heights</td>\n",
       "      <td>118.08</td>\n",
       "      <td>1195.57</td>\n",
       "      <td>912.51</td>\n",
       "    </tr>\n",
       "    <tr>\n",
       "      <th>120</th>\n",
       "      <td>Palms</td>\n",
       "      <td>82.05</td>\n",
       "      <td>818.20</td>\n",
       "      <td>897.20</td>\n",
       "    </tr>\n",
       "    <tr>\n",
       "      <th>50</th>\n",
       "      <td>East Whittier</td>\n",
       "      <td>94.23</td>\n",
       "      <td>904.64</td>\n",
       "      <td>860.03</td>\n",
       "    </tr>\n",
       "  </tbody>\n",
       "</table>\n",
       "</div>"
      ],
      "text/plain": [
       "date               name  mid_november  mid_january  pct_change\n",
       "140          San Marino         15.06       316.34     2000.53\n",
       "95         Leimert Park         59.07       774.53     1211.21\n",
       "174      Vermont Square        156.72      1828.39     1066.66\n",
       "153   South San Gabriel         90.42      1039.78     1049.94\n",
       "79            Hyde Park        101.61      1152.73     1034.47\n",
       "143    Santa Fe Springs        119.80      1236.11      931.81\n",
       "19          Beverlywood         53.14       538.98      914.26\n",
       "11      Avocado Heights        118.08      1195.57      912.51\n",
       "120               Palms         82.05       818.20      897.20\n",
       "50        East Whittier         94.23       904.64      860.03"
      ]
     },
     "execution_count": 55,
     "metadata": {},
     "output_type": "execute_result"
    }
   ],
   "source": [
    "surge_change_pivot.sort_values(\"pct_change\", ascending=False).head(10)"
   ]
  },
  {
   "cell_type": "markdown",
   "metadata": {},
   "source": [
    "### Rank them"
   ]
  },
  {
   "cell_type": "code",
   "execution_count": 56,
   "metadata": {},
   "outputs": [],
   "source": [
    "surge_change_pivot[\"rank_lower_is_better\"] = surge_change_pivot[\"pct_change\"].rank(\n",
    "    method=\"max\"\n",
    ")"
   ]
  },
  {
   "cell_type": "code",
   "execution_count": 57,
   "metadata": {},
   "outputs": [
    {
     "data": {
      "text/html": [
       "<div>\n",
       "<style scoped>\n",
       "    .dataframe tbody tr th:only-of-type {\n",
       "        vertical-align: middle;\n",
       "    }\n",
       "\n",
       "    .dataframe tbody tr th {\n",
       "        vertical-align: top;\n",
       "    }\n",
       "\n",
       "    .dataframe thead th {\n",
       "        text-align: right;\n",
       "    }\n",
       "</style>\n",
       "<table border=\"1\" class=\"dataframe\">\n",
       "  <thead>\n",
       "    <tr style=\"text-align: right;\">\n",
       "      <th>date</th>\n",
       "      <th>name</th>\n",
       "      <th>mid_november</th>\n",
       "      <th>mid_january</th>\n",
       "      <th>pct_change</th>\n",
       "      <th>rank_lower_is_better</th>\n",
       "    </tr>\n",
       "  </thead>\n",
       "  <tbody>\n",
       "    <tr>\n",
       "      <th>183</th>\n",
       "      <td>West Hollywood</td>\n",
       "      <td>211.09</td>\n",
       "      <td>308.52</td>\n",
       "      <td>46.16</td>\n",
       "      <td>1.0</td>\n",
       "    </tr>\n",
       "    <tr>\n",
       "      <th>3</th>\n",
       "      <td>Agua Dulce</td>\n",
       "      <td>240.50</td>\n",
       "      <td>408.85</td>\n",
       "      <td>70.00</td>\n",
       "      <td>2.0</td>\n",
       "    </tr>\n",
       "    <tr>\n",
       "      <th>102</th>\n",
       "      <td>Malibu</td>\n",
       "      <td>100.30</td>\n",
       "      <td>208.32</td>\n",
       "      <td>107.70</td>\n",
       "      <td>3.0</td>\n",
       "    </tr>\n",
       "    <tr>\n",
       "      <th>39</th>\n",
       "      <td>Del Aire</td>\n",
       "      <td>91.05</td>\n",
       "      <td>227.63</td>\n",
       "      <td>150.01</td>\n",
       "      <td>4.0</td>\n",
       "    </tr>\n",
       "    <tr>\n",
       "      <th>48</th>\n",
       "      <td>East Pasadena</td>\n",
       "      <td>46.85</td>\n",
       "      <td>124.94</td>\n",
       "      <td>166.68</td>\n",
       "      <td>5.0</td>\n",
       "    </tr>\n",
       "  </tbody>\n",
       "</table>\n",
       "</div>"
      ],
      "text/plain": [
       "date            name  mid_november  mid_january  pct_change  \\\n",
       "183   West Hollywood        211.09       308.52       46.16   \n",
       "3         Agua Dulce        240.50       408.85       70.00   \n",
       "102           Malibu        100.30       208.32      107.70   \n",
       "39          Del Aire         91.05       227.63      150.01   \n",
       "48     East Pasadena         46.85       124.94      166.68   \n",
       "\n",
       "date  rank_lower_is_better  \n",
       "183                    1.0  \n",
       "3                      2.0  \n",
       "102                    3.0  \n",
       "39                     4.0  \n",
       "48                     5.0  "
      ]
     },
     "execution_count": 57,
     "metadata": {},
     "output_type": "execute_result"
    }
   ],
   "source": [
    "surge_change_pivot.sort_values(\"rank_lower_is_better\", ascending=True).head()"
   ]
  },
  {
   "cell_type": "markdown",
   "metadata": {},
   "source": [
    "### Greatest/least change?"
   ]
  },
  {
   "cell_type": "code",
   "execution_count": 58,
   "metadata": {},
   "outputs": [],
   "source": [
    "surge_change_pivot_min_max = pd.concat(\n",
    "    [\n",
    "        surge_change_pivot.sort_values(\"pct_change\", ascending=False).head(20),\n",
    "        surge_change_pivot.sort_values(\"pct_change\", ascending=False).tail(20),\n",
    "    ]\n",
    ")"
   ]
  },
  {
   "cell_type": "code",
   "execution_count": 59,
   "metadata": {},
   "outputs": [],
   "source": [
    "surge_change_pivot_min_max.rename(\n",
    "    columns={\"mid_november\": \"2020-11-15\", \"mid_january\": \"2021-01-15\"}, inplace=True\n",
    ")"
   ]
  },
  {
   "cell_type": "code",
   "execution_count": 60,
   "metadata": {},
   "outputs": [],
   "source": [
    "surge_change_pivot_min_max_melt = surge_change_pivot_min_max.melt(\n",
    "    id_vars=[\"name\"], var_name=\"date\"\n",
    ")"
   ]
  },
  {
   "cell_type": "code",
   "execution_count": 61,
   "metadata": {},
   "outputs": [],
   "source": [
    "surge_change_pivot_min_max_melt.rename(columns={\"value\": \"rate\"}, inplace=True)"
   ]
  },
  {
   "cell_type": "code",
   "execution_count": 62,
   "metadata": {},
   "outputs": [],
   "source": [
    "surge_change_pivot_min_max_melt = surge_change_pivot_min_max_melt[\n",
    "    surge_change_pivot_min_max_melt[\"date\"] != \"pct_change\"\n",
    "]"
   ]
  },
  {
   "cell_type": "code",
   "execution_count": 63,
   "metadata": {},
   "outputs": [],
   "source": [
    "surge_change_pivot_min_max_melt[\"date\"] = surge_change_pivot_min_max_melt[\"date\"]"
   ]
  },
  {
   "cell_type": "code",
   "execution_count": 64,
   "metadata": {},
   "outputs": [
    {
     "data": {
      "text/html": [
       "<div>\n",
       "<style scoped>\n",
       "    .dataframe tbody tr th:only-of-type {\n",
       "        vertical-align: middle;\n",
       "    }\n",
       "\n",
       "    .dataframe tbody tr th {\n",
       "        vertical-align: top;\n",
       "    }\n",
       "\n",
       "    .dataframe thead th {\n",
       "        text-align: right;\n",
       "    }\n",
       "</style>\n",
       "<table border=\"1\" class=\"dataframe\">\n",
       "  <thead>\n",
       "    <tr style=\"text-align: right;\">\n",
       "      <th></th>\n",
       "      <th>name</th>\n",
       "      <th>date</th>\n",
       "      <th>rate</th>\n",
       "    </tr>\n",
       "  </thead>\n",
       "  <tbody>\n",
       "    <tr>\n",
       "      <th>0</th>\n",
       "      <td>San Marino</td>\n",
       "      <td>2020-11-15</td>\n",
       "      <td>15.06</td>\n",
       "    </tr>\n",
       "    <tr>\n",
       "      <th>1</th>\n",
       "      <td>Leimert Park</td>\n",
       "      <td>2020-11-15</td>\n",
       "      <td>59.07</td>\n",
       "    </tr>\n",
       "    <tr>\n",
       "      <th>2</th>\n",
       "      <td>Vermont Square</td>\n",
       "      <td>2020-11-15</td>\n",
       "      <td>156.72</td>\n",
       "    </tr>\n",
       "    <tr>\n",
       "      <th>3</th>\n",
       "      <td>South San Gabriel</td>\n",
       "      <td>2020-11-15</td>\n",
       "      <td>90.42</td>\n",
       "    </tr>\n",
       "    <tr>\n",
       "      <th>4</th>\n",
       "      <td>Hyde Park</td>\n",
       "      <td>2020-11-15</td>\n",
       "      <td>101.61</td>\n",
       "    </tr>\n",
       "  </tbody>\n",
       "</table>\n",
       "</div>"
      ],
      "text/plain": [
       "                name        date    rate\n",
       "0         San Marino  2020-11-15   15.06\n",
       "1       Leimert Park  2020-11-15   59.07\n",
       "2     Vermont Square  2020-11-15  156.72\n",
       "3  South San Gabriel  2020-11-15   90.42\n",
       "4          Hyde Park  2020-11-15  101.61"
      ]
     },
     "execution_count": 64,
     "metadata": {},
     "output_type": "execute_result"
    }
   ],
   "source": [
    "surge_change_pivot_min_max_melt.head()"
   ]
  },
  {
   "cell_type": "markdown",
   "metadata": {},
   "source": [
    "---"
   ]
  },
  {
   "cell_type": "code",
   "execution_count": 65,
   "metadata": {},
   "outputs": [
    {
     "data": {
      "text/html": [
       "\n",
       "<div id=\"altair-viz-ea04881bd75e4b058c4edcd3558a4dee\"></div>\n",
       "<script type=\"text/javascript\">\n",
       "  (function(spec, embedOpt){\n",
       "    const outputDiv = document.getElementById(\"altair-viz-ea04881bd75e4b058c4edcd3558a4dee\");\n",
       "    const paths = {\n",
       "      \"vega\": \"https://cdn.jsdelivr.net/npm//vega@5?noext\",\n",
       "      \"vega-lib\": \"https://cdn.jsdelivr.net/npm//vega-lib?noext\",\n",
       "      \"vega-lite\": \"https://cdn.jsdelivr.net/npm//vega-lite@4.0.2?noext\",\n",
       "      \"vega-embed\": \"https://cdn.jsdelivr.net/npm//vega-embed@6?noext\",\n",
       "    };\n",
       "\n",
       "    function loadScript(lib) {\n",
       "      return new Promise(function(resolve, reject) {\n",
       "        var s = document.createElement('script');\n",
       "        s.src = paths[lib];\n",
       "        s.async = true;\n",
       "        s.onload = () => resolve(paths[lib]);\n",
       "        s.onerror = () => reject(`Error loading script: ${paths[lib]}`);\n",
       "        document.getElementsByTagName(\"head\")[0].appendChild(s);\n",
       "      });\n",
       "    }\n",
       "\n",
       "    function showError(err) {\n",
       "      outputDiv.innerHTML = `<div class=\"error\" style=\"color:red;\">${err}</div>`;\n",
       "      throw err;\n",
       "    }\n",
       "\n",
       "    function displayChart(vegaEmbed) {\n",
       "      vegaEmbed(outputDiv, spec, embedOpt)\n",
       "        .catch(err => showError(`Javascript Error: ${err.message}<br>This usually means there's a typo in your chart specification. See the javascript console for the full traceback.`));\n",
       "    }\n",
       "\n",
       "    if(typeof define === \"function\" && define.amd) {\n",
       "      requirejs.config({paths});\n",
       "      require([\"vega-embed\"], displayChart, err => showError(`Error loading script: ${err.message}`));\n",
       "    } else if (typeof vegaEmbed === \"function\") {\n",
       "      displayChart(vegaEmbed);\n",
       "    } else {\n",
       "      loadScript(\"vega\")\n",
       "        .then(() => loadScript(\"vega-lite\"))\n",
       "        .then(() => loadScript(\"vega-embed\"))\n",
       "        .catch(showError)\n",
       "        .then(() => displayChart(vegaEmbed));\n",
       "    }\n",
       "  })({\"config\": {\"view\": {\"width\": 800, \"height\": 450}, \"background\": \"#ffffff\", \"title\": {\"anchor\": \"start\", \"font\": \"Benton Gothic Bold, sans\", \"fontColor\": \"#000000\", \"fontSize\": 22, \"fontWeight\": \"normal\"}, \"arc\": {\"fill\": \"#82c6df\"}, \"area\": {\"fill\": \"#82c6df\"}, \"line\": {\"stroke\": \"#82c6df\", \"strokeWidth\": 3}, \"path\": {\"stroke\": \"#82c6df\"}, \"rect\": {\"fill\": \"#82c6df\"}, \"shape\": {\"stroke\": \"#82c6df\"}, \"bar\": {\"fill\": \"#82c6df\"}, \"point\": {\"stroke\": \"#82c6df\"}, \"symbol\": {\"fill\": \"#82c6df\", \"size\": 30}, \"axis\": {\"titleFont\": \"Benton Gothic Bold, sans\", \"titleFontSize\": 13, \"titleFontWeight\": \"normal\", \"labelFont\": \"Benton Gothic, sans\", \"labelFontSize\": 11.5, \"labelFontWeight\": \"normal\"}, \"axisX\": {\"labelAngle\": 0, \"labelPadding\": 4, \"tickSize\": 3}, \"axisY\": {\"labelBaseline\": \"middle\", \"maxExtent\": 45, \"minExtent\": 45, \"tickSize\": 2, \"titleAlign\": \"left\", \"titleAngle\": 0, \"titleX\": -45, \"titleY\": -11}, \"legend\": {\"titleFont\": \"Benton Gothic Bold, sans\", \"titleFontSize\": 13, \"titleFontWeight\": \"normal\", \"symbolType\": \"square\", \"labelFont\": \"Benton Gothic, sans\", \"labelFontSize\": 11.5}, \"range\": {\"category\": [\"#3580b1\", \"#ec8431\", \"#ab7fb4\", \"#c89d29\", \"#adc839\", \"#829eb1\"], \"diverging\": [\"#e68a4f\", \"#f4bb6a\", \"#f9e39c\", \"#dadfe2\", \"#a6b7c6\", \"#849eae\"], \"heatmap\": [\"#fbf2c7\", \"#f9e39c\", \"#f8d36e\", \"#f4bb6a\", \"#e68a4f\", \"#d15a40\", \"#ab4232\"], \"ordinal\": [\"#fbf2c7\", \"#f9e39c\", \"#f8d36e\", \"#f4bb6a\", \"#e68a4f\", \"#d15a40\", \"#ab4232\"], \"ramp\": [\"#fbf2c7\", \"#f9e39c\", \"#f8d36e\", \"#f4bb6a\", \"#e68a4f\", \"#d15a40\", \"#ab4232\"]}}, \"data\": {\"name\": \"data-bd0e425540cd1ac4442206f6e26554f3\"}, \"mark\": {\"type\": \"line\", \"color\": \"red\", \"size\": 5}, \"encoding\": {\"facet\": {\"type\": \"nominal\", \"columns\": 8, \"field\": \"name\"}, \"x\": {\"type\": \"temporal\", \"axis\": {\"format\": \"%b. %d\", \"tickCount\": 3}, \"field\": \"date\", \"title\": \"\"}, \"y\": {\"type\": \"quantitative\", \"field\": \"rate\", \"title\": \"\"}}, \"height\": 120, \"title\": \"Places with greatest, least rate increases\", \"width\": 120, \"$schema\": \"https://vega.github.io/schema/vega-lite/v4.0.2.json\", \"datasets\": {\"data-bd0e425540cd1ac4442206f6e26554f3\": [{\"name\": \"San Marino\", \"date\": \"2020-11-15\", \"rate\": 15.06}, {\"name\": \"Leimert Park\", \"date\": \"2020-11-15\", \"rate\": 59.07}, {\"name\": \"Vermont Square\", \"date\": \"2020-11-15\", \"rate\": 156.72}, {\"name\": \"South San Gabriel\", \"date\": \"2020-11-15\", \"rate\": 90.42}, {\"name\": \"Hyde Park\", \"date\": \"2020-11-15\", \"rate\": 101.61}, {\"name\": \"Santa Fe Springs\", \"date\": \"2020-11-15\", \"rate\": 119.8}, {\"name\": \"Beverlywood\", \"date\": \"2020-11-15\", \"rate\": 53.14}, {\"name\": \"Avocado Heights\", \"date\": \"2020-11-15\", \"rate\": 118.08}, {\"name\": \"Palms\", \"date\": \"2020-11-15\", \"rate\": 82.05}, {\"name\": \"East Whittier\", \"date\": \"2020-11-15\", \"rate\": 94.23}, {\"name\": \"Harbor Gateway\", \"date\": \"2020-11-15\", \"rate\": 107.8}, {\"name\": \"Walnut Park\", \"date\": \"2020-11-15\", \"rate\": 192.03}, {\"name\": \"Lakewood\", \"date\": \"2020-11-15\", \"rate\": 79.64}, {\"name\": \"Harbor City\", \"date\": \"2020-11-15\", \"rate\": 75.68}, {\"name\": \"West Puente Valley\", \"date\": \"2020-11-15\", \"rate\": 162.68}, {\"name\": \"Maywood\", \"date\": \"2020-11-15\", \"rate\": 164.0}, {\"name\": \"Hancock Park\", \"date\": \"2020-11-15\", \"rate\": 58.69}, {\"name\": \"Harvard Heights\", \"date\": \"2020-11-15\", \"rate\": 149.71}, {\"name\": \"Watts\", \"date\": \"2020-11-15\", \"rate\": 173.41}, {\"name\": \"Harvard Park\", \"date\": \"2020-11-15\", \"rate\": 176.62}, {\"name\": \"Claremont\", \"date\": \"2020-11-15\", \"rate\": 131.56}, {\"name\": \"Hermosa Beach\", \"date\": \"2020-11-15\", \"rate\": 106.76}, {\"name\": \"San Gabriel\", \"date\": \"2020-11-15\", \"rate\": 217.32}, {\"name\": \"Downtown\", \"date\": \"2020-11-15\", \"rate\": 269.02}, {\"name\": \"Rolling Hills Estates\", \"date\": \"2020-11-15\", \"rate\": 61.63}, {\"name\": \"Los Feliz\", \"date\": \"2020-11-15\", \"rate\": 106.44}, {\"name\": \"Del Rey\", \"date\": \"2020-11-15\", \"rate\": 136.96}, {\"name\": \"Tarzana\", \"date\": \"2020-11-15\", \"rate\": 242.91}, {\"name\": \"Sierra Madre\", \"date\": \"2020-11-15\", \"rate\": 81.9}, {\"name\": \"Santa Monica\", \"date\": \"2020-11-15\", \"rate\": 128.72}, {\"name\": \"Brentwood\", \"date\": \"2020-11-15\", \"rate\": 125.99}, {\"name\": \"Venice\", \"date\": \"2020-11-15\", \"rate\": 103.29}, {\"name\": \"Rancho Park\", \"date\": \"2020-11-15\", \"rate\": 106.71}, {\"name\": \"Hollywood Hills\", \"date\": \"2020-11-15\", \"rate\": 139.29}, {\"name\": \"Encino\", \"date\": \"2020-11-15\", \"rate\": 172.67}, {\"name\": \"East Pasadena\", \"date\": \"2020-11-15\", \"rate\": 46.85}, {\"name\": \"Del Aire\", \"date\": \"2020-11-15\", \"rate\": 91.05}, {\"name\": \"Malibu\", \"date\": \"2020-11-15\", \"rate\": 100.3}, {\"name\": \"Agua Dulce\", \"date\": \"2020-11-15\", \"rate\": 240.5}, {\"name\": \"West Hollywood\", \"date\": \"2020-11-15\", \"rate\": 211.09}, {\"name\": \"San Marino\", \"date\": \"2021-01-15\", \"rate\": 316.34}, {\"name\": \"Leimert Park\", \"date\": \"2021-01-15\", \"rate\": 774.53}, {\"name\": \"Vermont Square\", \"date\": \"2021-01-15\", \"rate\": 1828.39}, {\"name\": \"South San Gabriel\", \"date\": \"2021-01-15\", \"rate\": 1039.78}, {\"name\": \"Hyde Park\", \"date\": \"2021-01-15\", \"rate\": 1152.73}, {\"name\": \"Santa Fe Springs\", \"date\": \"2021-01-15\", \"rate\": 1236.11}, {\"name\": \"Beverlywood\", \"date\": \"2021-01-15\", \"rate\": 538.98}, {\"name\": \"Avocado Heights\", \"date\": \"2021-01-15\", \"rate\": 1195.57}, {\"name\": \"Palms\", \"date\": \"2021-01-15\", \"rate\": 818.2}, {\"name\": \"East Whittier\", \"date\": \"2021-01-15\", \"rate\": 904.64}, {\"name\": \"Harbor Gateway\", \"date\": \"2021-01-15\", \"rate\": 1034.4}, {\"name\": \"Walnut Park\", \"date\": \"2021-01-15\", \"rate\": 1827.42}, {\"name\": \"Lakewood\", \"date\": \"2021-01-15\", \"rate\": 752.84}, {\"name\": \"Harbor City\", \"date\": \"2021-01-15\", \"rate\": 705.19}, {\"name\": \"West Puente Valley\", \"date\": \"2021-01-15\", \"rate\": 1504.83}, {\"name\": \"Maywood\", \"date\": \"2021-01-15\", \"rate\": 1436.77}, {\"name\": \"Hancock Park\", \"date\": \"2021-01-15\", \"rate\": 510.59}, {\"name\": \"Harvard Heights\", \"date\": \"2021-01-15\", \"rate\": 1297.48}, {\"name\": \"Watts\", \"date\": \"2021-01-15\", \"rate\": 1478.65}, {\"name\": \"Harvard Park\", \"date\": \"2021-01-15\", \"rate\": 1502.57}, {\"name\": \"Claremont\", \"date\": \"2021-01-15\", \"rate\": 468.7}, {\"name\": \"Hermosa Beach\", \"date\": \"2021-01-15\", \"rate\": 376.21}, {\"name\": \"San Gabriel\", \"date\": \"2021-01-15\", \"rate\": 764.27}, {\"name\": \"Downtown\", \"date\": \"2021-01-15\", \"rate\": 941.58}, {\"name\": \"Rolling Hills Estates\", \"date\": \"2021-01-15\", \"rate\": 209.54}, {\"name\": \"Los Feliz\", \"date\": \"2021-01-15\", \"rate\": 360.98}, {\"name\": \"Del Rey\", \"date\": \"2021-01-15\", \"rate\": 454.3}, {\"name\": \"Tarzana\", \"date\": \"2021-01-15\", \"rate\": 796.74}, {\"name\": \"Sierra Madre\", \"date\": \"2021-01-15\", \"rate\": 254.8}, {\"name\": \"Santa Monica\", \"date\": \"2021-01-15\", \"rate\": 390.5}, {\"name\": \"Brentwood\", \"date\": \"2021-01-15\", \"rate\": 377.97}, {\"name\": \"Venice\", \"date\": \"2021-01-15\", \"rate\": 309.87}, {\"name\": \"Rancho Park\", \"date\": \"2021-01-15\", \"rate\": 304.88}, {\"name\": \"Hollywood Hills\", \"date\": \"2021-01-15\", \"rate\": 397.5}, {\"name\": \"Encino\", \"date\": \"2021-01-15\", \"rate\": 464.89}, {\"name\": \"East Pasadena\", \"date\": \"2021-01-15\", \"rate\": 124.94}, {\"name\": \"Del Aire\", \"date\": \"2021-01-15\", \"rate\": 227.63}, {\"name\": \"Malibu\", \"date\": \"2021-01-15\", \"rate\": 208.32}, {\"name\": \"Agua Dulce\", \"date\": \"2021-01-15\", \"rate\": 408.85}, {\"name\": \"West Hollywood\", \"date\": \"2021-01-15\", \"rate\": 308.52}, {\"name\": \"San Marino\", \"date\": \"rank_lower_is_better\", \"rate\": 193.0}, {\"name\": \"Leimert Park\", \"date\": \"rank_lower_is_better\", \"rate\": 192.0}, {\"name\": \"Vermont Square\", \"date\": \"rank_lower_is_better\", \"rate\": 191.0}, {\"name\": \"South San Gabriel\", \"date\": \"rank_lower_is_better\", \"rate\": 190.0}, {\"name\": \"Hyde Park\", \"date\": \"rank_lower_is_better\", \"rate\": 189.0}, {\"name\": \"Santa Fe Springs\", \"date\": \"rank_lower_is_better\", \"rate\": 188.0}, {\"name\": \"Beverlywood\", \"date\": \"rank_lower_is_better\", \"rate\": 187.0}, {\"name\": \"Avocado Heights\", \"date\": \"rank_lower_is_better\", \"rate\": 186.0}, {\"name\": \"Palms\", \"date\": \"rank_lower_is_better\", \"rate\": 185.0}, {\"name\": \"East Whittier\", \"date\": \"rank_lower_is_better\", \"rate\": 184.0}, {\"name\": \"Harbor Gateway\", \"date\": \"rank_lower_is_better\", \"rate\": 183.0}, {\"name\": \"Walnut Park\", \"date\": \"rank_lower_is_better\", \"rate\": 182.0}, {\"name\": \"Lakewood\", \"date\": \"rank_lower_is_better\", \"rate\": 181.0}, {\"name\": \"Harbor City\", \"date\": \"rank_lower_is_better\", \"rate\": 180.0}, {\"name\": \"West Puente Valley\", \"date\": \"rank_lower_is_better\", \"rate\": 179.0}, {\"name\": \"Maywood\", \"date\": \"rank_lower_is_better\", \"rate\": 178.0}, {\"name\": \"Hancock Park\", \"date\": \"rank_lower_is_better\", \"rate\": 177.0}, {\"name\": \"Harvard Heights\", \"date\": \"rank_lower_is_better\", \"rate\": 176.0}, {\"name\": \"Watts\", \"date\": \"rank_lower_is_better\", \"rate\": 175.0}, {\"name\": \"Harvard Park\", \"date\": \"rank_lower_is_better\", \"rate\": 174.0}, {\"name\": \"Claremont\", \"date\": \"rank_lower_is_better\", \"rate\": 20.0}, {\"name\": \"Hermosa Beach\", \"date\": \"rank_lower_is_better\", \"rate\": 19.0}, {\"name\": \"San Gabriel\", \"date\": \"rank_lower_is_better\", \"rate\": 18.0}, {\"name\": \"Downtown\", \"date\": \"rank_lower_is_better\", \"rate\": 17.0}, {\"name\": \"Rolling Hills Estates\", \"date\": \"rank_lower_is_better\", \"rate\": 16.0}, {\"name\": \"Los Feliz\", \"date\": \"rank_lower_is_better\", \"rate\": 15.0}, {\"name\": \"Del Rey\", \"date\": \"rank_lower_is_better\", \"rate\": 14.0}, {\"name\": \"Tarzana\", \"date\": \"rank_lower_is_better\", \"rate\": 13.0}, {\"name\": \"Sierra Madre\", \"date\": \"rank_lower_is_better\", \"rate\": 12.0}, {\"name\": \"Santa Monica\", \"date\": \"rank_lower_is_better\", \"rate\": 11.0}, {\"name\": \"Brentwood\", \"date\": \"rank_lower_is_better\", \"rate\": 10.0}, {\"name\": \"Venice\", \"date\": \"rank_lower_is_better\", \"rate\": 10.0}, {\"name\": \"Rancho Park\", \"date\": \"rank_lower_is_better\", \"rate\": 8.0}, {\"name\": \"Hollywood Hills\", \"date\": \"rank_lower_is_better\", \"rate\": 7.0}, {\"name\": \"Encino\", \"date\": \"rank_lower_is_better\", \"rate\": 6.0}, {\"name\": \"East Pasadena\", \"date\": \"rank_lower_is_better\", \"rate\": 5.0}, {\"name\": \"Del Aire\", \"date\": \"rank_lower_is_better\", \"rate\": 4.0}, {\"name\": \"Malibu\", \"date\": \"rank_lower_is_better\", \"rate\": 3.0}, {\"name\": \"Agua Dulce\", \"date\": \"rank_lower_is_better\", \"rate\": 2.0}, {\"name\": \"West Hollywood\", \"date\": \"rank_lower_is_better\", \"rate\": 1.0}]}}, {\"mode\": \"vega-lite\"});\n",
       "</script>"
      ],
      "text/plain": [
       "alt.Chart(...)"
      ]
     },
     "execution_count": 65,
     "metadata": {},
     "output_type": "execute_result"
    }
   ],
   "source": [
    "min_max_minimultiples = (\n",
    "    alt.Chart(surge_change_pivot_min_max_melt)\n",
    "    .mark_line(size=5, color=\"red\")\n",
    "    .encode(\n",
    "        x=alt.X(\"date:T\", title=\"\", axis=alt.Axis(tickCount=3, format=\"%b. %d\")),\n",
    "        y=alt.Y(\"rate\", title=\"\"),\n",
    "        facet=alt.Facet(\"name\", columns=8),\n",
    "    )\n",
    "    .properties(\n",
    "        height=120,\n",
    "        width=120,\n",
    "        title=\"Places with greatest, least rate increases\",\n",
    "    )\n",
    ")\n",
    "min_max_minimultiples"
   ]
  },
  {
   "cell_type": "code",
   "execution_count": null,
   "metadata": {},
   "outputs": [],
   "source": []
  },
  {
   "cell_type": "markdown",
   "metadata": {},
   "source": [
    "---"
   ]
  },
  {
   "cell_type": "markdown",
   "metadata": {},
   "source": [
    "### Import geography"
   ]
  },
  {
   "cell_type": "code",
   "execution_count": 66,
   "metadata": {},
   "outputs": [],
   "source": [
    "places_map = gpd.read_file(\n",
    "    \"input/cities-neighborhoods-unincorporated-la-county.geojson\"\n",
    ").fillna(\"\")"
   ]
  },
  {
   "cell_type": "code",
   "execution_count": 67,
   "metadata": {},
   "outputs": [
    {
     "data": {
      "text/html": [
       "<div>\n",
       "<style scoped>\n",
       "    .dataframe tbody tr th:only-of-type {\n",
       "        vertical-align: middle;\n",
       "    }\n",
       "\n",
       "    .dataframe tbody tr th {\n",
       "        vertical-align: top;\n",
       "    }\n",
       "\n",
       "    .dataframe thead th {\n",
       "        text-align: right;\n",
       "    }\n",
       "</style>\n",
       "<table border=\"1\" class=\"dataframe\">\n",
       "  <thead>\n",
       "    <tr style=\"text-align: right;\">\n",
       "      <th></th>\n",
       "      <th>NAME</th>\n",
       "      <th>geometry</th>\n",
       "    </tr>\n",
       "  </thead>\n",
       "  <tbody>\n",
       "    <tr>\n",
       "      <th>0</th>\n",
       "      <td>Agoura Hills</td>\n",
       "      <td>MULTIPOLYGON (((117201.354 -426752.672, 116472...</td>\n",
       "    </tr>\n",
       "    <tr>\n",
       "      <th>1</th>\n",
       "      <td>Bellflower</td>\n",
       "      <td>MULTIPOLYGON (((174818.350 -454427.122, 174810...</td>\n",
       "    </tr>\n",
       "    <tr>\n",
       "      <th>2</th>\n",
       "      <td>Beverly Hills</td>\n",
       "      <td>MULTIPOLYGON (((148374.547 -432436.704, 148309...</td>\n",
       "    </tr>\n",
       "    <tr>\n",
       "      <th>3</th>\n",
       "      <td>Burbank</td>\n",
       "      <td>MULTIPOLYGON (((156006.516 -426897.025, 156303...</td>\n",
       "    </tr>\n",
       "    <tr>\n",
       "      <th>4</th>\n",
       "      <td>Calabasas</td>\n",
       "      <td>MULTIPOLYGON (((120408.368 -426638.916, 120344...</td>\n",
       "    </tr>\n",
       "  </tbody>\n",
       "</table>\n",
       "</div>"
      ],
      "text/plain": [
       "            NAME                                           geometry\n",
       "0   Agoura Hills  MULTIPOLYGON (((117201.354 -426752.672, 116472...\n",
       "1     Bellflower  MULTIPOLYGON (((174818.350 -454427.122, 174810...\n",
       "2  Beverly Hills  MULTIPOLYGON (((148374.547 -432436.704, 148309...\n",
       "3        Burbank  MULTIPOLYGON (((156006.516 -426897.025, 156303...\n",
       "4      Calabasas  MULTIPOLYGON (((120408.368 -426638.916, 120344..."
      ]
     },
     "execution_count": 67,
     "metadata": {},
     "output_type": "execute_result"
    }
   ],
   "source": [
    "places_map.head()"
   ]
  },
  {
   "cell_type": "code",
   "execution_count": 68,
   "metadata": {},
   "outputs": [],
   "source": [
    "places_map_geo = places_map.merge(\n",
    "    surge_change_pivot, left_on=\"NAME\", right_on=\"name\", how=\"inner\"\n",
    ")"
   ]
  },
  {
   "cell_type": "code",
   "execution_count": 111,
   "metadata": {},
   "outputs": [
    {
     "data": {
      "text/plain": [
       "214"
      ]
     },
     "execution_count": 111,
     "metadata": {},
     "output_type": "execute_result"
    }
   ],
   "source": [
    "len(places_map_geo)"
   ]
  },
  {
   "cell_type": "code",
   "execution_count": 112,
   "metadata": {},
   "outputs": [
    {
     "data": {
      "text/plain": [
       "<matplotlib.axes._subplots.AxesSubplot at 0x12d0a4a10>"
      ]
     },
     "execution_count": 112,
     "metadata": {},
     "output_type": "execute_result"
    },
    {
     "data": {
      "image/png": "[encoded data removed]",
      "text/plain": [
       "<Figure size 432x288 with 1 Axes>"
      ]
     },
     "metadata": {
      "needs_background": "light"
     },
     "output_type": "display_data"
    }
   ],
   "source": [
    "places_map_geo.plot()"
   ]
  },
  {
   "cell_type": "markdown",
   "metadata": {},
   "source": [
    "---"
   ]
  },
  {
   "cell_type": "markdown",
   "metadata": {},
   "source": [
    "### Export"
   ]
  },
  {
   "cell_type": "code",
   "execution_count": 113,
   "metadata": {},
   "outputs": [
    {
     "name": "stderr",
     "output_type": "stream",
     "text": [
      "ERROR:fiona._env:output/places_map_geo.geojson: No such file or directory\n",
      "WARNING:fiona._env:driver GeoJSON does not support creation option ENCODING\n"
     ]
    }
   ],
   "source": [
    "places_map_geo[\n",
    "    [\n",
    "        \"name\",\n",
    "        \"mid_november\",\n",
    "        \"mid_january\",\n",
    "        \"pct_change\",\n",
    "        \"rank_lower_is_better\",\n",
    "        \"geometry\",\n",
    "    ]\n",
    "].to_file(\"output/places_map_geo.geojson\", driver=\"GeoJSON\")"
   ]
  },
  {
   "cell_type": "code",
   "execution_count": 71,
   "metadata": {},
   "outputs": [],
   "source": [
    "# min_max_minimultiples.save(\"visuals/min_max_minimultiples.png\")"
   ]
  },
  {
   "cell_type": "code",
   "execution_count": 72,
   "metadata": {},
   "outputs": [],
   "source": [
    "# twocities_chart.save(\"visuals/twocities_chart.png\")"
   ]
  },
  {
   "cell_type": "code",
   "execution_count": 73,
   "metadata": {},
   "outputs": [],
   "source": [
    "# twocities_chart2.save(\"visuals/twocities_chart2.png\")"
   ]
  },
  {
   "cell_type": "code",
   "execution_count": 74,
   "metadata": {},
   "outputs": [],
   "source": [
    "# pop_histogram.save(\"visuals/pop_histogram.png\")"
   ]
  },
  {
   "cell_type": "code",
   "execution_count": 75,
   "metadata": {},
   "outputs": [],
   "source": [
    "surge_change_pivot.rename(\n",
    "    columns={\n",
    "        \"mid_november\": \"case_rate_per_100k_mid-november\",\n",
    "        \"mid_january\": \"case_rate_per_100k_mid-january\",\n",
    "    },\n",
    "    inplace=True,\n",
    ")"
   ]
  },
  {
   "cell_type": "markdown",
   "metadata": {},
   "source": [
    "---"
   ]
  },
  {
   "cell_type": "markdown",
   "metadata": {},
   "source": [
    "### Add demographics from 07-census-data-places"
   ]
  },
  {
   "cell_type": "code",
   "execution_count": 76,
   "metadata": {},
   "outputs": [],
   "source": [
    "census = pd.read_csv(\"output/places_totals.csv\")"
   ]
  },
  {
   "cell_type": "code",
   "execution_count": 77,
   "metadata": {},
   "outputs": [],
   "source": [
    "surge_demos = pd.merge(surge_change_pivot, census, on=\"name\")"
   ]
  },
  {
   "cell_type": "code",
   "execution_count": 78,
   "metadata": {},
   "outputs": [
    {
     "data": {
      "text/html": [
       "<div>\n",
       "<style scoped>\n",
       "    .dataframe tbody tr th:only-of-type {\n",
       "        vertical-align: middle;\n",
       "    }\n",
       "\n",
       "    .dataframe tbody tr th {\n",
       "        vertical-align: top;\n",
       "    }\n",
       "\n",
       "    .dataframe thead th {\n",
       "        text-align: right;\n",
       "    }\n",
       "</style>\n",
       "<table border=\"1\" class=\"dataframe\">\n",
       "  <thead>\n",
       "    <tr style=\"text-align: right;\">\n",
       "      <th></th>\n",
       "      <th>name</th>\n",
       "      <th>case_rate_per_100k_mid-november</th>\n",
       "      <th>case_rate_per_100k_mid-january</th>\n",
       "      <th>pct_change</th>\n",
       "      <th>rank_lower_is_better</th>\n",
       "      <th>rsa</th>\n",
       "      <th>est_pop</th>\n",
       "      <th>est_latino</th>\n",
       "      <th>est_anglo</th>\n",
       "      <th>est_black</th>\n",
       "      <th>est_asian</th>\n",
       "      <th>est_total_single_units</th>\n",
       "      <th>est_total_seven_more_units</th>\n",
       "      <th>est_total_housing_units</th>\n",
       "      <th>median_house_income</th>\n",
       "      <th>est_latino_pct</th>\n",
       "      <th>est_anglo_pct</th>\n",
       "      <th>est_black_pct</th>\n",
       "      <th>est_asian_pct</th>\n",
       "      <th>est_total_seven_more_units_pct</th>\n",
       "      <th>est_total_single_units_pct</th>\n",
       "    </tr>\n",
       "  </thead>\n",
       "  <tbody>\n",
       "    <tr>\n",
       "      <th>186</th>\n",
       "      <td>Westlake Village</td>\n",
       "      <td>11.96</td>\n",
       "      <td>47.85</td>\n",
       "      <td>300.08</td>\n",
       "      <td>34.0</td>\n",
       "      <td>Santa Monica Mountains</td>\n",
       "      <td>6704.0</td>\n",
       "      <td>483.0</td>\n",
       "      <td>5537.0</td>\n",
       "      <td>98.0</td>\n",
       "      <td>395.0</td>\n",
       "      <td>604.0</td>\n",
       "      <td>16.0</td>\n",
       "      <td>2646.0</td>\n",
       "      <td>124822.0</td>\n",
       "      <td>7.2</td>\n",
       "      <td>82.59</td>\n",
       "      <td>1.46</td>\n",
       "      <td>5.89</td>\n",
       "      <td>0.6</td>\n",
       "      <td>22.83</td>\n",
       "    </tr>\n",
       "  </tbody>\n",
       "</table>\n",
       "</div>"
      ],
      "text/plain": [
       "                 name  case_rate_per_100k_mid-november  \\\n",
       "186  Westlake Village                            11.96   \n",
       "\n",
       "     case_rate_per_100k_mid-january  pct_change  rank_lower_is_better  \\\n",
       "186                           47.85      300.08                  34.0   \n",
       "\n",
       "                        rsa  est_pop  est_latino  est_anglo  est_black  \\\n",
       "186  Santa Monica Mountains   6704.0       483.0     5537.0       98.0   \n",
       "\n",
       "     est_asian  est_total_single_units  est_total_seven_more_units  \\\n",
       "186      395.0                   604.0                        16.0   \n",
       "\n",
       "     est_total_housing_units  median_house_income  est_latino_pct  \\\n",
       "186                   2646.0             124822.0             7.2   \n",
       "\n",
       "     est_anglo_pct  est_black_pct  est_asian_pct  \\\n",
       "186          82.59           1.46           5.89   \n",
       "\n",
       "     est_total_seven_more_units_pct  est_total_single_units_pct  \n",
       "186                             0.6                       22.83  "
      ]
     },
     "execution_count": 78,
     "metadata": {},
     "output_type": "execute_result"
    }
   ],
   "source": [
    "surge_demos[surge_demos[\"name\"] == \"Westlake Village\"]"
   ]
  },
  {
   "cell_type": "markdown",
   "metadata": {},
   "source": [
    "### Places with the HIGHEST rates of homes that have seven or more residents"
   ]
  },
  {
   "cell_type": "code",
   "execution_count": 79,
   "metadata": {},
   "outputs": [
    {
     "data": {
      "text/html": [
       "<div>\n",
       "<style scoped>\n",
       "    .dataframe tbody tr th:only-of-type {\n",
       "        vertical-align: middle;\n",
       "    }\n",
       "\n",
       "    .dataframe tbody tr th {\n",
       "        vertical-align: top;\n",
       "    }\n",
       "\n",
       "    .dataframe thead th {\n",
       "        text-align: right;\n",
       "    }\n",
       "</style>\n",
       "<table border=\"1\" class=\"dataframe\">\n",
       "  <thead>\n",
       "    <tr style=\"text-align: right;\">\n",
       "      <th></th>\n",
       "      <th>name</th>\n",
       "      <th>rsa</th>\n",
       "      <th>est_total_seven_more_units_pct</th>\n",
       "      <th>pct_change</th>\n",
       "      <th>rank_lower_is_better</th>\n",
       "    </tr>\n",
       "  </thead>\n",
       "  <tbody>\n",
       "    <tr>\n",
       "      <th>48</th>\n",
       "      <td>East Rancho Dominguez</td>\n",
       "      <td>Harbor</td>\n",
       "      <td>22.81</td>\n",
       "      <td>378.26</td>\n",
       "      <td>66.0</td>\n",
       "    </tr>\n",
       "    <tr>\n",
       "      <th>116</th>\n",
       "      <td>Pacoima</td>\n",
       "      <td>San Fernando Valley</td>\n",
       "      <td>21.03</td>\n",
       "      <td>396.40</td>\n",
       "      <td>72.0</td>\n",
       "    </tr>\n",
       "    <tr>\n",
       "      <th>183</th>\n",
       "      <td>West Puente Valley</td>\n",
       "      <td>San Gabriel Valley</td>\n",
       "      <td>19.74</td>\n",
       "      <td>825.02</td>\n",
       "      <td>179.0</td>\n",
       "    </tr>\n",
       "    <tr>\n",
       "      <th>7</th>\n",
       "      <td>Arleta</td>\n",
       "      <td>San Fernando Valley</td>\n",
       "      <td>18.53</td>\n",
       "      <td>374.57</td>\n",
       "      <td>64.0</td>\n",
       "    </tr>\n",
       "    <tr>\n",
       "      <th>10</th>\n",
       "      <td>Avocado Heights</td>\n",
       "      <td>San Gabriel Valley</td>\n",
       "      <td>18.48</td>\n",
       "      <td>912.51</td>\n",
       "      <td>186.0</td>\n",
       "    </tr>\n",
       "    <tr>\n",
       "      <th>175</th>\n",
       "      <td>Walnut Park</td>\n",
       "      <td>Southeast</td>\n",
       "      <td>17.62</td>\n",
       "      <td>851.63</td>\n",
       "      <td>182.0</td>\n",
       "    </tr>\n",
       "    <tr>\n",
       "      <th>99</th>\n",
       "      <td>Lynwood</td>\n",
       "      <td>Southeast</td>\n",
       "      <td>17.53</td>\n",
       "      <td>583.22</td>\n",
       "      <td>137.0</td>\n",
       "    </tr>\n",
       "    <tr>\n",
       "      <th>58</th>\n",
       "      <td>Florence-Firestone</td>\n",
       "      <td>South L.A.</td>\n",
       "      <td>17.31</td>\n",
       "      <td>528.05</td>\n",
       "      <td>121.0</td>\n",
       "    </tr>\n",
       "    <tr>\n",
       "      <th>176</th>\n",
       "      <td>Watts</td>\n",
       "      <td>South L.A.</td>\n",
       "      <td>17.22</td>\n",
       "      <td>752.69</td>\n",
       "      <td>175.0</td>\n",
       "    </tr>\n",
       "    <tr>\n",
       "      <th>147</th>\n",
       "      <td>South El Monte</td>\n",
       "      <td>San Gabriel Valley</td>\n",
       "      <td>16.74</td>\n",
       "      <td>430.19</td>\n",
       "      <td>87.0</td>\n",
       "    </tr>\n",
       "  </tbody>\n",
       "</table>\n",
       "</div>"
      ],
      "text/plain": [
       "                      name                  rsa  \\\n",
       "48   East Rancho Dominguez               Harbor   \n",
       "116                Pacoima  San Fernando Valley   \n",
       "183     West Puente Valley   San Gabriel Valley   \n",
       "7                   Arleta  San Fernando Valley   \n",
       "10         Avocado Heights   San Gabriel Valley   \n",
       "175            Walnut Park            Southeast   \n",
       "99                 Lynwood            Southeast   \n",
       "58      Florence-Firestone           South L.A.   \n",
       "176                  Watts           South L.A.   \n",
       "147         South El Monte   San Gabriel Valley   \n",
       "\n",
       "     est_total_seven_more_units_pct  pct_change  rank_lower_is_better  \n",
       "48                            22.81      378.26                  66.0  \n",
       "116                           21.03      396.40                  72.0  \n",
       "183                           19.74      825.02                 179.0  \n",
       "7                             18.53      374.57                  64.0  \n",
       "10                            18.48      912.51                 186.0  \n",
       "175                           17.62      851.63                 182.0  \n",
       "99                            17.53      583.22                 137.0  \n",
       "58                            17.31      528.05                 121.0  \n",
       "176                           17.22      752.69                 175.0  \n",
       "147                           16.74      430.19                  87.0  "
      ]
     },
     "execution_count": 79,
     "metadata": {},
     "output_type": "execute_result"
    }
   ],
   "source": [
    "surge_demos[\n",
    "    [\n",
    "        \"name\",\n",
    "        \"rsa\",\n",
    "        \"est_total_seven_more_units_pct\",\n",
    "        \"pct_change\",\n",
    "        \"rank_lower_is_better\",\n",
    "    ]\n",
    "].sort_values(\"est_total_seven_more_units_pct\", ascending=False).head(10)"
   ]
  },
  {
   "cell_type": "markdown",
   "metadata": {},
   "source": [
    "### Places with the LOWEST rates of homes that have seven or more residents"
   ]
  },
  {
   "cell_type": "code",
   "execution_count": 80,
   "metadata": {},
   "outputs": [
    {
     "data": {
      "text/html": [
       "<div>\n",
       "<style scoped>\n",
       "    .dataframe tbody tr th:only-of-type {\n",
       "        vertical-align: middle;\n",
       "    }\n",
       "\n",
       "    .dataframe tbody tr th {\n",
       "        vertical-align: top;\n",
       "    }\n",
       "\n",
       "    .dataframe thead th {\n",
       "        text-align: right;\n",
       "    }\n",
       "</style>\n",
       "<table border=\"1\" class=\"dataframe\">\n",
       "  <thead>\n",
       "    <tr style=\"text-align: right;\">\n",
       "      <th></th>\n",
       "      <th>name</th>\n",
       "      <th>rsa</th>\n",
       "      <th>est_total_seven_more_units_pct</th>\n",
       "      <th>pct_change</th>\n",
       "      <th>rank_lower_is_better</th>\n",
       "    </tr>\n",
       "  </thead>\n",
       "  <tbody>\n",
       "    <tr>\n",
       "      <th>104</th>\n",
       "      <td>Marina del Rey</td>\n",
       "      <td>Westside</td>\n",
       "      <td>0.03</td>\n",
       "      <td>419.99</td>\n",
       "      <td>84.0</td>\n",
       "    </tr>\n",
       "    <tr>\n",
       "      <th>25</th>\n",
       "      <td>Carthay</td>\n",
       "      <td>Central L.A.</td>\n",
       "      <td>0.04</td>\n",
       "      <td>293.32</td>\n",
       "      <td>32.0</td>\n",
       "    </tr>\n",
       "    <tr>\n",
       "      <th>181</th>\n",
       "      <td>West Hollywood</td>\n",
       "      <td>Central L.A.</td>\n",
       "      <td>0.06</td>\n",
       "      <td>46.16</td>\n",
       "      <td>1.0</td>\n",
       "    </tr>\n",
       "    <tr>\n",
       "      <th>27</th>\n",
       "      <td>Century City</td>\n",
       "      <td>Westside</td>\n",
       "      <td>0.10</td>\n",
       "      <td>308.33</td>\n",
       "      <td>38.0</td>\n",
       "    </tr>\n",
       "    <tr>\n",
       "      <th>76</th>\n",
       "      <td>Hollywood Hills</td>\n",
       "      <td>Central L.A.</td>\n",
       "      <td>0.15</td>\n",
       "      <td>185.38</td>\n",
       "      <td>7.0</td>\n",
       "    </tr>\n",
       "    <tr>\n",
       "      <th>73</th>\n",
       "      <td>Hermosa Beach</td>\n",
       "      <td>South Bay</td>\n",
       "      <td>0.16</td>\n",
       "      <td>252.39</td>\n",
       "      <td>19.0</td>\n",
       "    </tr>\n",
       "    <tr>\n",
       "      <th>20</th>\n",
       "      <td>Brentwood</td>\n",
       "      <td>Westside</td>\n",
       "      <td>0.18</td>\n",
       "      <td>200.00</td>\n",
       "      <td>10.0</td>\n",
       "    </tr>\n",
       "    <tr>\n",
       "      <th>187</th>\n",
       "      <td>Westwood</td>\n",
       "      <td>Westside</td>\n",
       "      <td>0.25</td>\n",
       "      <td>469.07</td>\n",
       "      <td>104.0</td>\n",
       "    </tr>\n",
       "    <tr>\n",
       "      <th>154</th>\n",
       "      <td>Studio City</td>\n",
       "      <td>San Fernando Valley</td>\n",
       "      <td>0.26</td>\n",
       "      <td>329.98</td>\n",
       "      <td>51.0</td>\n",
       "    </tr>\n",
       "    <tr>\n",
       "      <th>161</th>\n",
       "      <td>Toluca Lake</td>\n",
       "      <td>San Fernando Valley</td>\n",
       "      <td>0.29</td>\n",
       "      <td>266.67</td>\n",
       "      <td>23.0</td>\n",
       "    </tr>\n",
       "  </tbody>\n",
       "</table>\n",
       "</div>"
      ],
      "text/plain": [
       "                name                  rsa  est_total_seven_more_units_pct  \\\n",
       "104   Marina del Rey             Westside                            0.03   \n",
       "25           Carthay         Central L.A.                            0.04   \n",
       "181   West Hollywood         Central L.A.                            0.06   \n",
       "27      Century City             Westside                            0.10   \n",
       "76   Hollywood Hills         Central L.A.                            0.15   \n",
       "73     Hermosa Beach            South Bay                            0.16   \n",
       "20         Brentwood             Westside                            0.18   \n",
       "187         Westwood             Westside                            0.25   \n",
       "154      Studio City  San Fernando Valley                            0.26   \n",
       "161      Toluca Lake  San Fernando Valley                            0.29   \n",
       "\n",
       "     pct_change  rank_lower_is_better  \n",
       "104      419.99                  84.0  \n",
       "25       293.32                  32.0  \n",
       "181       46.16                   1.0  \n",
       "27       308.33                  38.0  \n",
       "76       185.38                   7.0  \n",
       "73       252.39                  19.0  \n",
       "20       200.00                  10.0  \n",
       "187      469.07                 104.0  \n",
       "154      329.98                  51.0  \n",
       "161      266.67                  23.0  "
      ]
     },
     "execution_count": 80,
     "metadata": {},
     "output_type": "execute_result"
    }
   ],
   "source": [
    "surge_demos[\n",
    "    [\n",
    "        \"name\",\n",
    "        \"rsa\",\n",
    "        \"est_total_seven_more_units_pct\",\n",
    "        \"pct_change\",\n",
    "        \"rank_lower_is_better\",\n",
    "    ]\n",
    "].sort_values(\"est_total_seven_more_units_pct\", ascending=True).head(10)"
   ]
  },
  {
   "cell_type": "markdown",
   "metadata": {},
   "source": [
    "### Places with largest coronavirus rate increases during surge"
   ]
  },
  {
   "cell_type": "code",
   "execution_count": 81,
   "metadata": {},
   "outputs": [
    {
     "data": {
      "text/html": [
       "<div>\n",
       "<style scoped>\n",
       "    .dataframe tbody tr th:only-of-type {\n",
       "        vertical-align: middle;\n",
       "    }\n",
       "\n",
       "    .dataframe tbody tr th {\n",
       "        vertical-align: top;\n",
       "    }\n",
       "\n",
       "    .dataframe thead th {\n",
       "        text-align: right;\n",
       "    }\n",
       "</style>\n",
       "<table border=\"1\" class=\"dataframe\">\n",
       "  <thead>\n",
       "    <tr style=\"text-align: right;\">\n",
       "      <th></th>\n",
       "      <th>name</th>\n",
       "      <th>rsa</th>\n",
       "      <th>case_rate_per_100k_mid-november</th>\n",
       "      <th>case_rate_per_100k_mid-january</th>\n",
       "      <th>rank_lower_is_better</th>\n",
       "      <th>pct_change</th>\n",
       "      <th>est_latino_pct</th>\n",
       "      <th>est_total_seven_more_units_pct</th>\n",
       "    </tr>\n",
       "  </thead>\n",
       "  <tbody>\n",
       "    <tr>\n",
       "      <th>49</th>\n",
       "      <td>East Whittier</td>\n",
       "      <td>San Gabriel Valley</td>\n",
       "      <td>94.23</td>\n",
       "      <td>904.64</td>\n",
       "      <td>184.0</td>\n",
       "      <td>860.03</td>\n",
       "      <td>51.76</td>\n",
       "      <td>2.30</td>\n",
       "    </tr>\n",
       "    <tr>\n",
       "      <th>118</th>\n",
       "      <td>Palms</td>\n",
       "      <td>Westside</td>\n",
       "      <td>82.05</td>\n",
       "      <td>818.20</td>\n",
       "      <td>185.0</td>\n",
       "      <td>897.20</td>\n",
       "      <td>22.90</td>\n",
       "      <td>0.51</td>\n",
       "    </tr>\n",
       "    <tr>\n",
       "      <th>10</th>\n",
       "      <td>Avocado Heights</td>\n",
       "      <td>San Gabriel Valley</td>\n",
       "      <td>118.08</td>\n",
       "      <td>1195.57</td>\n",
       "      <td>186.0</td>\n",
       "      <td>912.51</td>\n",
       "      <td>85.80</td>\n",
       "      <td>18.48</td>\n",
       "    </tr>\n",
       "    <tr>\n",
       "      <th>18</th>\n",
       "      <td>Beverlywood</td>\n",
       "      <td>Westside</td>\n",
       "      <td>53.14</td>\n",
       "      <td>538.98</td>\n",
       "      <td>187.0</td>\n",
       "      <td>914.26</td>\n",
       "      <td>10.44</td>\n",
       "      <td>1.40</td>\n",
       "    </tr>\n",
       "    <tr>\n",
       "      <th>141</th>\n",
       "      <td>Santa Fe Springs</td>\n",
       "      <td>Southeast</td>\n",
       "      <td>119.80</td>\n",
       "      <td>1236.11</td>\n",
       "      <td>188.0</td>\n",
       "      <td>931.81</td>\n",
       "      <td>82.49</td>\n",
       "      <td>8.49</td>\n",
       "    </tr>\n",
       "    <tr>\n",
       "      <th>78</th>\n",
       "      <td>Hyde Park</td>\n",
       "      <td>South L.A.</td>\n",
       "      <td>101.61</td>\n",
       "      <td>1152.73</td>\n",
       "      <td>189.0</td>\n",
       "      <td>1034.47</td>\n",
       "      <td>36.60</td>\n",
       "      <td>4.95</td>\n",
       "    </tr>\n",
       "    <tr>\n",
       "      <th>151</th>\n",
       "      <td>South San Gabriel</td>\n",
       "      <td>San Gabriel Valley</td>\n",
       "      <td>90.42</td>\n",
       "      <td>1039.78</td>\n",
       "      <td>190.0</td>\n",
       "      <td>1049.94</td>\n",
       "      <td>41.25</td>\n",
       "      <td>7.32</td>\n",
       "    </tr>\n",
       "    <tr>\n",
       "      <th>172</th>\n",
       "      <td>Vermont Square</td>\n",
       "      <td>South L.A.</td>\n",
       "      <td>156.72</td>\n",
       "      <td>1828.39</td>\n",
       "      <td>191.0</td>\n",
       "      <td>1066.66</td>\n",
       "      <td>63.40</td>\n",
       "      <td>15.17</td>\n",
       "    </tr>\n",
       "    <tr>\n",
       "      <th>93</th>\n",
       "      <td>Leimert Park</td>\n",
       "      <td>South L.A.</td>\n",
       "      <td>59.07</td>\n",
       "      <td>774.53</td>\n",
       "      <td>192.0</td>\n",
       "      <td>1211.21</td>\n",
       "      <td>25.70</td>\n",
       "      <td>3.22</td>\n",
       "    </tr>\n",
       "    <tr>\n",
       "      <th>138</th>\n",
       "      <td>San Marino</td>\n",
       "      <td>San Gabriel Valley</td>\n",
       "      <td>15.06</td>\n",
       "      <td>316.34</td>\n",
       "      <td>193.0</td>\n",
       "      <td>2000.53</td>\n",
       "      <td>6.65</td>\n",
       "      <td>1.24</td>\n",
       "    </tr>\n",
       "  </tbody>\n",
       "</table>\n",
       "</div>"
      ],
      "text/plain": [
       "                  name                 rsa  case_rate_per_100k_mid-november  \\\n",
       "49       East Whittier  San Gabriel Valley                            94.23   \n",
       "118              Palms            Westside                            82.05   \n",
       "10     Avocado Heights  San Gabriel Valley                           118.08   \n",
       "18         Beverlywood            Westside                            53.14   \n",
       "141   Santa Fe Springs           Southeast                           119.80   \n",
       "78           Hyde Park          South L.A.                           101.61   \n",
       "151  South San Gabriel  San Gabriel Valley                            90.42   \n",
       "172     Vermont Square          South L.A.                           156.72   \n",
       "93        Leimert Park          South L.A.                            59.07   \n",
       "138         San Marino  San Gabriel Valley                            15.06   \n",
       "\n",
       "     case_rate_per_100k_mid-january  rank_lower_is_better  pct_change  \\\n",
       "49                           904.64                 184.0      860.03   \n",
       "118                          818.20                 185.0      897.20   \n",
       "10                          1195.57                 186.0      912.51   \n",
       "18                           538.98                 187.0      914.26   \n",
       "141                         1236.11                 188.0      931.81   \n",
       "78                          1152.73                 189.0     1034.47   \n",
       "151                         1039.78                 190.0     1049.94   \n",
       "172                         1828.39                 191.0     1066.66   \n",
       "93                           774.53                 192.0     1211.21   \n",
       "138                          316.34                 193.0     2000.53   \n",
       "\n",
       "     est_latino_pct  est_total_seven_more_units_pct  \n",
       "49            51.76                            2.30  \n",
       "118           22.90                            0.51  \n",
       "10            85.80                           18.48  \n",
       "18            10.44                            1.40  \n",
       "141           82.49                            8.49  \n",
       "78            36.60                            4.95  \n",
       "151           41.25                            7.32  \n",
       "172           63.40                           15.17  \n",
       "93            25.70                            3.22  \n",
       "138            6.65                            1.24  "
      ]
     },
     "execution_count": 81,
     "metadata": {},
     "output_type": "execute_result"
    }
   ],
   "source": [
    "surge_demos[\n",
    "    [\n",
    "        \"name\",\n",
    "        \"rsa\",\n",
    "        \"case_rate_per_100k_mid-november\",\n",
    "        \"case_rate_per_100k_mid-january\",\n",
    "        \"rank_lower_is_better\",\n",
    "        \"pct_change\",\n",
    "        \"est_latino_pct\",\n",
    "        \"est_total_seven_more_units_pct\",\n",
    "    ]\n",
    "].sort_values(\"rank_lower_is_better\", ascending=True).tail(10)"
   ]
  },
  {
   "cell_type": "markdown",
   "metadata": {},
   "source": [
    "### Places with smallest coronavirus rate increases during surge"
   ]
  },
  {
   "cell_type": "code",
   "execution_count": 82,
   "metadata": {},
   "outputs": [
    {
     "data": {
      "text/html": [
       "<div>\n",
       "<style scoped>\n",
       "    .dataframe tbody tr th:only-of-type {\n",
       "        vertical-align: middle;\n",
       "    }\n",
       "\n",
       "    .dataframe tbody tr th {\n",
       "        vertical-align: top;\n",
       "    }\n",
       "\n",
       "    .dataframe thead th {\n",
       "        text-align: right;\n",
       "    }\n",
       "</style>\n",
       "<table border=\"1\" class=\"dataframe\">\n",
       "  <thead>\n",
       "    <tr style=\"text-align: right;\">\n",
       "      <th></th>\n",
       "      <th>name</th>\n",
       "      <th>rsa</th>\n",
       "      <th>case_rate_per_100k_mid-november</th>\n",
       "      <th>case_rate_per_100k_mid-january</th>\n",
       "      <th>rank_lower_is_better</th>\n",
       "      <th>pct_change</th>\n",
       "      <th>est_latino_pct</th>\n",
       "      <th>est_total_seven_more_units_pct</th>\n",
       "    </tr>\n",
       "  </thead>\n",
       "  <tbody>\n",
       "    <tr>\n",
       "      <th>181</th>\n",
       "      <td>West Hollywood</td>\n",
       "      <td>Central L.A.</td>\n",
       "      <td>211.09</td>\n",
       "      <td>308.52</td>\n",
       "      <td>1.0</td>\n",
       "      <td>46.16</td>\n",
       "      <td>10.50</td>\n",
       "      <td>0.06</td>\n",
       "    </tr>\n",
       "    <tr>\n",
       "      <th>3</th>\n",
       "      <td>Agua Dulce</td>\n",
       "      <td>Northwest County</td>\n",
       "      <td>240.50</td>\n",
       "      <td>408.85</td>\n",
       "      <td>2.0</td>\n",
       "      <td>70.00</td>\n",
       "      <td>23.23</td>\n",
       "      <td>2.19</td>\n",
       "    </tr>\n",
       "    <tr>\n",
       "      <th>100</th>\n",
       "      <td>Malibu</td>\n",
       "      <td>Santa Monica Mountains</td>\n",
       "      <td>100.30</td>\n",
       "      <td>208.32</td>\n",
       "      <td>3.0</td>\n",
       "      <td>107.70</td>\n",
       "      <td>6.54</td>\n",
       "      <td>0.82</td>\n",
       "    </tr>\n",
       "    <tr>\n",
       "      <th>38</th>\n",
       "      <td>Del Aire</td>\n",
       "      <td>South Bay</td>\n",
       "      <td>91.05</td>\n",
       "      <td>227.63</td>\n",
       "      <td>4.0</td>\n",
       "      <td>150.01</td>\n",
       "      <td>50.16</td>\n",
       "      <td>3.57</td>\n",
       "    </tr>\n",
       "    <tr>\n",
       "      <th>47</th>\n",
       "      <td>East Pasadena</td>\n",
       "      <td>San Gabriel Valley</td>\n",
       "      <td>46.85</td>\n",
       "      <td>124.94</td>\n",
       "      <td>5.0</td>\n",
       "      <td>166.68</td>\n",
       "      <td>26.80</td>\n",
       "      <td>2.67</td>\n",
       "    </tr>\n",
       "    <tr>\n",
       "      <th>56</th>\n",
       "      <td>Encino</td>\n",
       "      <td>San Fernando Valley</td>\n",
       "      <td>172.67</td>\n",
       "      <td>464.89</td>\n",
       "      <td>6.0</td>\n",
       "      <td>169.24</td>\n",
       "      <td>9.32</td>\n",
       "      <td>0.47</td>\n",
       "    </tr>\n",
       "    <tr>\n",
       "      <th>76</th>\n",
       "      <td>Hollywood Hills</td>\n",
       "      <td>Central L.A.</td>\n",
       "      <td>139.29</td>\n",
       "      <td>397.50</td>\n",
       "      <td>7.0</td>\n",
       "      <td>185.38</td>\n",
       "      <td>9.48</td>\n",
       "      <td>0.15</td>\n",
       "    </tr>\n",
       "    <tr>\n",
       "      <th>129</th>\n",
       "      <td>Rancho Park</td>\n",
       "      <td>Westside</td>\n",
       "      <td>106.71</td>\n",
       "      <td>304.88</td>\n",
       "      <td>8.0</td>\n",
       "      <td>185.71</td>\n",
       "      <td>13.51</td>\n",
       "      <td>0.47</td>\n",
       "    </tr>\n",
       "    <tr>\n",
       "      <th>170</th>\n",
       "      <td>Venice</td>\n",
       "      <td>Westside</td>\n",
       "      <td>103.29</td>\n",
       "      <td>309.87</td>\n",
       "      <td>10.0</td>\n",
       "      <td>200.00</td>\n",
       "      <td>18.64</td>\n",
       "      <td>0.70</td>\n",
       "    </tr>\n",
       "    <tr>\n",
       "      <th>20</th>\n",
       "      <td>Brentwood</td>\n",
       "      <td>Westside</td>\n",
       "      <td>125.99</td>\n",
       "      <td>377.97</td>\n",
       "      <td>10.0</td>\n",
       "      <td>200.00</td>\n",
       "      <td>5.68</td>\n",
       "      <td>0.18</td>\n",
       "    </tr>\n",
       "  </tbody>\n",
       "</table>\n",
       "</div>"
      ],
      "text/plain": [
       "                name                     rsa  case_rate_per_100k_mid-november  \\\n",
       "181   West Hollywood            Central L.A.                           211.09   \n",
       "3         Agua Dulce        Northwest County                           240.50   \n",
       "100           Malibu  Santa Monica Mountains                           100.30   \n",
       "38          Del Aire               South Bay                            91.05   \n",
       "47     East Pasadena      San Gabriel Valley                            46.85   \n",
       "56            Encino     San Fernando Valley                           172.67   \n",
       "76   Hollywood Hills            Central L.A.                           139.29   \n",
       "129      Rancho Park                Westside                           106.71   \n",
       "170           Venice                Westside                           103.29   \n",
       "20         Brentwood                Westside                           125.99   \n",
       "\n",
       "     case_rate_per_100k_mid-january  rank_lower_is_better  pct_change  \\\n",
       "181                          308.52                   1.0       46.16   \n",
       "3                            408.85                   2.0       70.00   \n",
       "100                          208.32                   3.0      107.70   \n",
       "38                           227.63                   4.0      150.01   \n",
       "47                           124.94                   5.0      166.68   \n",
       "56                           464.89                   6.0      169.24   \n",
       "76                           397.50                   7.0      185.38   \n",
       "129                          304.88                   8.0      185.71   \n",
       "170                          309.87                  10.0      200.00   \n",
       "20                           377.97                  10.0      200.00   \n",
       "\n",
       "     est_latino_pct  est_total_seven_more_units_pct  \n",
       "181           10.50                            0.06  \n",
       "3             23.23                            2.19  \n",
       "100            6.54                            0.82  \n",
       "38            50.16                            3.57  \n",
       "47            26.80                            2.67  \n",
       "56             9.32                            0.47  \n",
       "76             9.48                            0.15  \n",
       "129           13.51                            0.47  \n",
       "170           18.64                            0.70  \n",
       "20             5.68                            0.18  "
      ]
     },
     "execution_count": 82,
     "metadata": {},
     "output_type": "execute_result"
    }
   ],
   "source": [
    "surge_demos[\n",
    "    [\n",
    "        \"name\",\n",
    "        \"rsa\",\n",
    "        \"case_rate_per_100k_mid-november\",\n",
    "        \"case_rate_per_100k_mid-january\",\n",
    "        \"rank_lower_is_better\",\n",
    "        \"pct_change\",\n",
    "        \"est_latino_pct\",\n",
    "        \"est_total_seven_more_units_pct\",\n",
    "    ]\n",
    "].sort_values(\"rank_lower_is_better\", ascending=True).head(10)"
   ]
  },
  {
   "cell_type": "code",
   "execution_count": 83,
   "metadata": {},
   "outputs": [],
   "source": [
    "surge_demos.sort_values(\"rank_lower_is_better\", ascending=True).to_csv(\n",
    "    \"output/hayley/change_by_community.csv\", index=False\n",
    ")"
   ]
  },
  {
   "cell_type": "markdown",
   "metadata": {},
   "source": [
    "### What's the relationship between our demographics and coronavirus rates? "
   ]
  },
  {
   "cell_type": "code",
   "execution_count": 95,
   "metadata": {},
   "outputs": [],
   "source": [
    "surge_demos_slim = surge_demos[\n",
    "    [\n",
    "        \"name\",\n",
    "        \"rsa\",\n",
    "        \"est_pop\",\n",
    "        \"case_rate_per_100k_mid-january\",\n",
    "        \"pct_change\",\n",
    "        \"est_latino_pct\",\n",
    "        \"est_anglo_pct\",\n",
    "        \"est_black_pct\",\n",
    "        \"est_asian_pct\",\n",
    "        \"est_total_seven_more_units_pct\",\n",
    "        \"est_total_single_units_pct\",\n",
    "        \"median_house_income\",\n",
    "    ]\n",
    "]"
   ]
  },
  {
   "cell_type": "code",
   "execution_count": 96,
   "metadata": {},
   "outputs": [
    {
     "data": {
      "text/html": [
       "<div>\n",
       "<style scoped>\n",
       "    .dataframe tbody tr th:only-of-type {\n",
       "        vertical-align: middle;\n",
       "    }\n",
       "\n",
       "    .dataframe tbody tr th {\n",
       "        vertical-align: top;\n",
       "    }\n",
       "\n",
       "    .dataframe thead th {\n",
       "        text-align: right;\n",
       "    }\n",
       "</style>\n",
       "<table border=\"1\" class=\"dataframe\">\n",
       "  <thead>\n",
       "    <tr style=\"text-align: right;\">\n",
       "      <th></th>\n",
       "      <th>est_pop</th>\n",
       "      <th>case_rate_per_100k_mid-january</th>\n",
       "      <th>pct_change</th>\n",
       "      <th>est_latino_pct</th>\n",
       "      <th>est_anglo_pct</th>\n",
       "      <th>est_black_pct</th>\n",
       "      <th>est_asian_pct</th>\n",
       "      <th>est_total_seven_more_units_pct</th>\n",
       "      <th>est_total_single_units_pct</th>\n",
       "      <th>median_house_income</th>\n",
       "    </tr>\n",
       "  </thead>\n",
       "  <tbody>\n",
       "    <tr>\n",
       "      <th>est_pop</th>\n",
       "      <td>1.000000</td>\n",
       "      <td>0.204489</td>\n",
       "      <td>-0.072185</td>\n",
       "      <td>0.172641</td>\n",
       "      <td>-0.147830</td>\n",
       "      <td>-0.041613</td>\n",
       "      <td>-0.014934</td>\n",
       "      <td>0.080166</td>\n",
       "      <td>-0.111327</td>\n",
       "      <td>-0.151476</td>\n",
       "    </tr>\n",
       "    <tr>\n",
       "      <th>case_rate_per_100k_mid-january</th>\n",
       "      <td>0.204489</td>\n",
       "      <td>1.000000</td>\n",
       "      <td>0.305584</td>\n",
       "      <td>0.901472</td>\n",
       "      <td>-0.791340</td>\n",
       "      <td>0.157697</td>\n",
       "      <td>-0.332877</td>\n",
       "      <td>0.841461</td>\n",
       "      <td>-0.538883</td>\n",
       "      <td>-0.755528</td>\n",
       "    </tr>\n",
       "    <tr>\n",
       "      <th>pct_change</th>\n",
       "      <td>-0.072185</td>\n",
       "      <td>0.305584</td>\n",
       "      <td>1.000000</td>\n",
       "      <td>0.219093</td>\n",
       "      <td>-0.378335</td>\n",
       "      <td>0.259672</td>\n",
       "      <td>0.085312</td>\n",
       "      <td>0.244312</td>\n",
       "      <td>-0.273361</td>\n",
       "      <td>-0.280460</td>\n",
       "    </tr>\n",
       "    <tr>\n",
       "      <th>est_latino_pct</th>\n",
       "      <td>0.172641</td>\n",
       "      <td>0.901472</td>\n",
       "      <td>0.219093</td>\n",
       "      <td>1.000000</td>\n",
       "      <td>-0.816307</td>\n",
       "      <td>0.024108</td>\n",
       "      <td>-0.362574</td>\n",
       "      <td>0.856202</td>\n",
       "      <td>-0.601132</td>\n",
       "      <td>-0.702102</td>\n",
       "    </tr>\n",
       "    <tr>\n",
       "      <th>est_anglo_pct</th>\n",
       "      <td>-0.147830</td>\n",
       "      <td>-0.791340</td>\n",
       "      <td>-0.378335</td>\n",
       "      <td>-0.816307</td>\n",
       "      <td>1.000000</td>\n",
       "      <td>-0.328321</td>\n",
       "      <td>-0.067989</td>\n",
       "      <td>-0.748334</td>\n",
       "      <td>0.564785</td>\n",
       "      <td>0.796041</td>\n",
       "    </tr>\n",
       "    <tr>\n",
       "      <th>est_black_pct</th>\n",
       "      <td>-0.041613</td>\n",
       "      <td>0.157697</td>\n",
       "      <td>0.259672</td>\n",
       "      <td>0.024108</td>\n",
       "      <td>-0.328321</td>\n",
       "      <td>1.000000</td>\n",
       "      <td>-0.250833</td>\n",
       "      <td>0.126266</td>\n",
       "      <td>0.079670</td>\n",
       "      <td>-0.340007</td>\n",
       "    </tr>\n",
       "    <tr>\n",
       "      <th>est_asian_pct</th>\n",
       "      <td>-0.014934</td>\n",
       "      <td>-0.332877</td>\n",
       "      <td>0.085312</td>\n",
       "      <td>-0.362574</td>\n",
       "      <td>-0.067989</td>\n",
       "      <td>-0.250833</td>\n",
       "      <td>1.000000</td>\n",
       "      <td>-0.301198</td>\n",
       "      <td>-0.002836</td>\n",
       "      <td>0.107761</td>\n",
       "    </tr>\n",
       "    <tr>\n",
       "      <th>est_total_seven_more_units_pct</th>\n",
       "      <td>0.080166</td>\n",
       "      <td>0.841461</td>\n",
       "      <td>0.244312</td>\n",
       "      <td>0.856202</td>\n",
       "      <td>-0.748334</td>\n",
       "      <td>0.126266</td>\n",
       "      <td>-0.301198</td>\n",
       "      <td>1.000000</td>\n",
       "      <td>-0.675173</td>\n",
       "      <td>-0.575871</td>\n",
       "    </tr>\n",
       "    <tr>\n",
       "      <th>est_total_single_units_pct</th>\n",
       "      <td>-0.111327</td>\n",
       "      <td>-0.538883</td>\n",
       "      <td>-0.273361</td>\n",
       "      <td>-0.601132</td>\n",
       "      <td>0.564785</td>\n",
       "      <td>0.079670</td>\n",
       "      <td>-0.002836</td>\n",
       "      <td>-0.675173</td>\n",
       "      <td>1.000000</td>\n",
       "      <td>0.192256</td>\n",
       "    </tr>\n",
       "    <tr>\n",
       "      <th>median_house_income</th>\n",
       "      <td>-0.151476</td>\n",
       "      <td>-0.755528</td>\n",
       "      <td>-0.280460</td>\n",
       "      <td>-0.702102</td>\n",
       "      <td>0.796041</td>\n",
       "      <td>-0.340007</td>\n",
       "      <td>0.107761</td>\n",
       "      <td>-0.575871</td>\n",
       "      <td>0.192256</td>\n",
       "      <td>1.000000</td>\n",
       "    </tr>\n",
       "  </tbody>\n",
       "</table>\n",
       "</div>"
      ],
      "text/plain": [
       "                                 est_pop  case_rate_per_100k_mid-january  \\\n",
       "est_pop                         1.000000                        0.204489   \n",
       "case_rate_per_100k_mid-january  0.204489                        1.000000   \n",
       "pct_change                     -0.072185                        0.305584   \n",
       "est_latino_pct                  0.172641                        0.901472   \n",
       "est_anglo_pct                  -0.147830                       -0.791340   \n",
       "est_black_pct                  -0.041613                        0.157697   \n",
       "est_asian_pct                  -0.014934                       -0.332877   \n",
       "est_total_seven_more_units_pct  0.080166                        0.841461   \n",
       "est_total_single_units_pct     -0.111327                       -0.538883   \n",
       "median_house_income            -0.151476                       -0.755528   \n",
       "\n",
       "                                pct_change  est_latino_pct  est_anglo_pct  \\\n",
       "est_pop                          -0.072185        0.172641      -0.147830   \n",
       "case_rate_per_100k_mid-january    0.305584        0.901472      -0.791340   \n",
       "pct_change                        1.000000        0.219093      -0.378335   \n",
       "est_latino_pct                    0.219093        1.000000      -0.816307   \n",
       "est_anglo_pct                    -0.378335       -0.816307       1.000000   \n",
       "est_black_pct                     0.259672        0.024108      -0.328321   \n",
       "est_asian_pct                     0.085312       -0.362574      -0.067989   \n",
       "est_total_seven_more_units_pct    0.244312        0.856202      -0.748334   \n",
       "est_total_single_units_pct       -0.273361       -0.601132       0.564785   \n",
       "median_house_income              -0.280460       -0.702102       0.796041   \n",
       "\n",
       "                                est_black_pct  est_asian_pct  \\\n",
       "est_pop                             -0.041613      -0.014934   \n",
       "case_rate_per_100k_mid-january       0.157697      -0.332877   \n",
       "pct_change                           0.259672       0.085312   \n",
       "est_latino_pct                       0.024108      -0.362574   \n",
       "est_anglo_pct                       -0.328321      -0.067989   \n",
       "est_black_pct                        1.000000      -0.250833   \n",
       "est_asian_pct                       -0.250833       1.000000   \n",
       "est_total_seven_more_units_pct       0.126266      -0.301198   \n",
       "est_total_single_units_pct           0.079670      -0.002836   \n",
       "median_house_income                 -0.340007       0.107761   \n",
       "\n",
       "                                est_total_seven_more_units_pct  \\\n",
       "est_pop                                               0.080166   \n",
       "case_rate_per_100k_mid-january                        0.841461   \n",
       "pct_change                                            0.244312   \n",
       "est_latino_pct                                        0.856202   \n",
       "est_anglo_pct                                        -0.748334   \n",
       "est_black_pct                                         0.126266   \n",
       "est_asian_pct                                        -0.301198   \n",
       "est_total_seven_more_units_pct                        1.000000   \n",
       "est_total_single_units_pct                           -0.675173   \n",
       "median_house_income                                  -0.575871   \n",
       "\n",
       "                                est_total_single_units_pct  \\\n",
       "est_pop                                          -0.111327   \n",
       "case_rate_per_100k_mid-january                   -0.538883   \n",
       "pct_change                                       -0.273361   \n",
       "est_latino_pct                                   -0.601132   \n",
       "est_anglo_pct                                     0.564785   \n",
       "est_black_pct                                     0.079670   \n",
       "est_asian_pct                                    -0.002836   \n",
       "est_total_seven_more_units_pct                   -0.675173   \n",
       "est_total_single_units_pct                        1.000000   \n",
       "median_house_income                               0.192256   \n",
       "\n",
       "                                median_house_income  \n",
       "est_pop                                   -0.151476  \n",
       "case_rate_per_100k_mid-january            -0.755528  \n",
       "pct_change                                -0.280460  \n",
       "est_latino_pct                            -0.702102  \n",
       "est_anglo_pct                              0.796041  \n",
       "est_black_pct                             -0.340007  \n",
       "est_asian_pct                              0.107761  \n",
       "est_total_seven_more_units_pct            -0.575871  \n",
       "est_total_single_units_pct                 0.192256  \n",
       "median_house_income                        1.000000  "
      ]
     },
     "execution_count": 96,
     "metadata": {},
     "output_type": "execute_result"
    }
   ],
   "source": [
    "surge_demos_slim.corr(method=\"pearson\")"
   ]
  },
  {
   "cell_type": "code",
   "execution_count": 108,
   "metadata": {},
   "outputs": [
    {
     "data": {
      "text/html": [
       "\n",
       "<div id=\"altair-viz-286d41984a904fd3907c6015106601da\"></div>\n",
       "<script type=\"text/javascript\">\n",
       "  (function(spec, embedOpt){\n",
       "    const outputDiv = document.getElementById(\"altair-viz-286d41984a904fd3907c6015106601da\");\n",
       "    const paths = {\n",
       "      \"vega\": \"https://cdn.jsdelivr.net/npm//vega@5?noext\",\n",
       "      \"vega-lib\": \"https://cdn.jsdelivr.net/npm//vega-lib?noext\",\n",
       "      \"vega-lite\": \"https://cdn.jsdelivr.net/npm//vega-lite@4.0.2?noext\",\n",
       "      \"vega-embed\": \"https://cdn.jsdelivr.net/npm//vega-embed@6?noext\",\n",
       "    };\n",
       "\n",
       "    function loadScript(lib) {\n",
       "      return new Promise(function(resolve, reject) {\n",
       "        var s = document.createElement('script');\n",
       "        s.src = paths[lib];\n",
       "        s.async = true;\n",
       "        s.onload = () => resolve(paths[lib]);\n",
       "        s.onerror = () => reject(`Error loading script: ${paths[lib]}`);\n",
       "        document.getElementsByTagName(\"head\")[0].appendChild(s);\n",
       "      });\n",
       "    }\n",
       "\n",
       "    function showError(err) {\n",
       "      outputDiv.innerHTML = `<div class=\"error\" style=\"color:red;\">${err}</div>`;\n",
       "      throw err;\n",
       "    }\n",
       "\n",
       "    function displayChart(vegaEmbed) {\n",
       "      vegaEmbed(outputDiv, spec, embedOpt)\n",
       "        .catch(err => showError(`Javascript Error: ${err.message}<br>This usually means there's a typo in your chart specification. See the javascript console for the full traceback.`));\n",
       "    }\n",
       "\n",
       "    if(typeof define === \"function\" && define.amd) {\n",
       "      requirejs.config({paths});\n",
       "      require([\"vega-embed\"], displayChart, err => showError(`Error loading script: ${err.message}`));\n",
       "    } else if (typeof vegaEmbed === \"function\") {\n",
       "      displayChart(vegaEmbed);\n",
       "    } else {\n",
       "      loadScript(\"vega\")\n",
       "        .then(() => loadScript(\"vega-lite\"))\n",
       "        .then(() => loadScript(\"vega-embed\"))\n",
       "        .catch(showError)\n",
       "        .then(() => displayChart(vegaEmbed));\n",
       "    }\n",
       "  })({\"config\": {\"view\": {\"width\": 800, \"height\": 450}, \"background\": \"#ffffff\", \"title\": {\"anchor\": \"start\", \"font\": \"Benton Gothic Bold, sans\", \"fontColor\": \"#000000\", \"fontSize\": 22, \"fontWeight\": \"normal\"}, \"arc\": {\"fill\": \"#82c6df\"}, \"area\": {\"fill\": \"#82c6df\"}, \"line\": {\"stroke\": \"#82c6df\", \"strokeWidth\": 3}, \"path\": {\"stroke\": \"#82c6df\"}, \"rect\": {\"fill\": \"#82c6df\"}, \"shape\": {\"stroke\": \"#82c6df\"}, \"bar\": {\"fill\": \"#82c6df\"}, \"point\": {\"stroke\": \"#82c6df\"}, \"symbol\": {\"fill\": \"#82c6df\", \"size\": 30}, \"axis\": {\"titleFont\": \"Benton Gothic Bold, sans\", \"titleFontSize\": 13, \"titleFontWeight\": \"normal\", \"labelFont\": \"Benton Gothic, sans\", \"labelFontSize\": 11.5, \"labelFontWeight\": \"normal\"}, \"axisX\": {\"labelAngle\": 0, \"labelPadding\": 4, \"tickSize\": 3}, \"axisY\": {\"labelBaseline\": \"middle\", \"maxExtent\": 45, \"minExtent\": 45, \"tickSize\": 2, \"titleAlign\": \"left\", \"titleAngle\": 0, \"titleX\": -45, \"titleY\": -11}, \"legend\": {\"titleFont\": \"Benton Gothic Bold, sans\", \"titleFontSize\": 13, \"titleFontWeight\": \"normal\", \"symbolType\": \"square\", \"labelFont\": \"Benton Gothic, sans\", \"labelFontSize\": 11.5}, \"range\": {\"category\": [\"#3580b1\", \"#ec8431\", \"#ab7fb4\", \"#c89d29\", \"#adc839\", \"#829eb1\"], \"diverging\": [\"#e68a4f\", \"#f4bb6a\", \"#f9e39c\", \"#dadfe2\", \"#a6b7c6\", \"#849eae\"], \"heatmap\": [\"#fbf2c7\", \"#f9e39c\", \"#f8d36e\", \"#f4bb6a\", \"#e68a4f\", \"#d15a40\", \"#ab4232\"], \"ordinal\": [\"#fbf2c7\", \"#f9e39c\", \"#f8d36e\", \"#f4bb6a\", \"#e68a4f\", \"#d15a40\", \"#ab4232\"], \"ramp\": [\"#fbf2c7\", \"#f9e39c\", \"#f8d36e\", \"#f4bb6a\", \"#e68a4f\", \"#d15a40\", \"#ab4232\"]}}, \"layer\": [{\"mark\": {\"type\": \"circle\", \"size\": 100}, \"encoding\": {\"color\": {\"type\": \"nominal\", \"field\": \"rsa\", \"scale\": {\"scheme\": \"category20\"}}, \"size\": {\"type\": \"quantitative\", \"field\": \"est_pop\"}, \"tooltip\": [{\"type\": \"nominal\", \"field\": \"name\"}, {\"type\": \"quantitative\", \"field\": \"est_pop\"}, {\"type\": \"quantitative\", \"field\": \"case_rate_per_100k_mid-january\"}, {\"type\": \"quantitative\", \"field\": \"est_total_seven_more_units_pct\"}], \"x\": {\"type\": \"quantitative\", \"field\": \"median_house_income\"}, \"y\": {\"type\": \"quantitative\", \"field\": \"case_rate_per_100k_mid-january\"}}}, {\"mark\": {\"type\": \"text\", \"align\": \"left\", \"baseline\": \"middle\", \"dx\": 7}, \"encoding\": {\"text\": {\"type\": \"nominal\", \"field\": \"name\"}, \"x\": {\"type\": \"quantitative\", \"field\": \"median_house_income\"}, \"y\": {\"type\": \"quantitative\", \"field\": \"case_rate_per_100k_mid-january\"}}}], \"data\": {\"name\": \"data-ef8e34b98bc07a20ffff39b29a35cf82\"}, \"height\": 1000, \"width\": 1000, \"$schema\": \"https://vega.github.io/schema/vega-lite/v4.0.2.json\", \"datasets\": {\"data-ef8e34b98bc07a20ffff39b29a35cf82\": [{\"name\": \"Acton\", \"rsa\": \"Antelope Valley\", \"est_pop\": 7479.0, \"case_rate_per_100k_mid-january\": 426.55, \"pct_change\": 466.69, \"est_latino_pct\": 19.7, \"est_anglo_pct\": 73.86, \"est_black_pct\": 1.7, \"est_asian_pct\": 1.91, \"est_total_seven_more_units_pct\": 2.79, \"est_total_single_units_pct\": 17.71, \"median_house_income\": 91371.0}, {\"name\": \"Adams-Normandie\", \"rsa\": \"South L.A.\", \"est_pop\": 7842.0, \"case_rate_per_100k_mid-january\": 902.22, \"pct_change\": 335.29, \"est_latino_pct\": 66.31, \"est_anglo_pct\": 4.57, \"est_black_pct\": 24.67, \"est_asian_pct\": 3.07, \"est_total_seven_more_units_pct\": 9.04, \"est_total_single_units_pct\": 21.05, \"median_house_income\": 25282.0}, {\"name\": \"Agoura Hills\", \"rsa\": \"Santa Monica Mountains\", \"est_pop\": 18545.0, \"case_rate_per_100k_mid-january\": 397.45, \"pct_change\": 453.32, \"est_latino_pct\": 9.6, \"est_anglo_pct\": 78.45, \"est_black_pct\": 1.28, \"est_asian_pct\": 7.65, \"est_total_seven_more_units_pct\": 0.92, \"est_total_single_units_pct\": 18.24, \"median_house_income\": 106151.0}, {\"name\": \"Agua Dulce\", \"rsa\": \"Northwest County\", \"est_pop\": 8862.0, \"case_rate_per_100k_mid-january\": 408.85, \"pct_change\": 70.0, \"est_latino_pct\": 23.23, \"est_anglo_pct\": 67.1, \"est_black_pct\": 2.2, \"est_asian_pct\": 5.0, \"est_total_seven_more_units_pct\": 2.19, \"est_total_single_units_pct\": 13.72, \"median_house_income\": 88335.0}, {\"name\": \"Alhambra\", \"rsa\": \"San Gabriel Valley\", \"est_pop\": 83136.0, \"case_rate_per_100k_mid-january\": 712.61, \"pct_change\": 635.71, \"est_latino_pct\": 34.4, \"est_anglo_pct\": 10.04, \"est_black_pct\": 1.54, \"est_asian_pct\": 52.91, \"est_total_seven_more_units_pct\": 2.83, \"est_total_single_units_pct\": 22.16, \"median_house_income\": 57077.0}, {\"name\": \"Altadena\", \"rsa\": \"Verdugos\", \"est_pop\": 41744.0, \"case_rate_per_100k_mid-january\": 497.48, \"pct_change\": 456.4, \"est_latino_pct\": 27.2, \"est_anglo_pct\": 39.63, \"est_black_pct\": 23.94, \"est_asian_pct\": 5.44, \"est_total_seven_more_units_pct\": 3.18, \"est_total_single_units_pct\": 22.83, \"median_house_income\": 80541.0}, {\"name\": \"Arcadia\", \"rsa\": \"San Gabriel Valley\", \"est_pop\": 10286.0, \"case_rate_per_100k_mid-january\": 346.3, \"pct_change\": 733.25, \"est_latino_pct\": 28.68, \"est_anglo_pct\": 30.33, \"est_black_pct\": 1.33, \"est_asian_pct\": 37.7, \"est_total_seven_more_units_pct\": 2.95, \"est_total_single_units_pct\": 19.97, \"median_house_income\": 77053.0}, {\"name\": \"Arleta\", \"rsa\": \"San Fernando Valley\", \"est_pop\": 32544.0, \"case_rate_per_100k_mid-january\": 1574.05, \"pct_change\": 374.57, \"est_latino_pct\": 80.93, \"est_anglo_pct\": 7.91, \"est_black_pct\": 1.49, \"est_asian_pct\": 9.11, \"est_total_seven_more_units_pct\": 18.53, \"est_total_single_units_pct\": 9.85, \"median_house_income\": 55903.0}, {\"name\": \"Artesia\", \"rsa\": \"Southeast\", \"est_pop\": 16515.0, \"case_rate_per_100k_mid-january\": 910.99, \"pct_change\": 466.68, \"est_latino_pct\": 35.71, \"est_anglo_pct\": 21.28, \"est_black_pct\": 3.57, \"est_asian_pct\": 37.16, \"est_total_seven_more_units_pct\": 7.23, \"est_total_single_units_pct\": 14.58, \"median_house_income\": 76190.0}, {\"name\": \"Atwater Village\", \"rsa\": \"Northeast L.A.\", \"est_pop\": 14122.0, \"case_rate_per_100k_mid-january\": 981.86, \"pct_change\": 433.33, \"est_latino_pct\": 48.24, \"est_anglo_pct\": 26.73, \"est_black_pct\": 1.69, \"est_asian_pct\": 21.52, \"est_total_seven_more_units_pct\": 2.93, \"est_total_single_units_pct\": 28.98, \"median_house_income\": 48022.0}, {\"name\": \"Avocado Heights\", \"rsa\": \"San Gabriel Valley\", \"est_pop\": 5111.0, \"case_rate_per_100k_mid-january\": 1195.57, \"pct_change\": 912.51, \"est_latino_pct\": 85.8, \"est_anglo_pct\": 5.3, \"est_black_pct\": 0.59, \"est_asian_pct\": 8.14, \"est_total_seven_more_units_pct\": 18.48, \"est_total_single_units_pct\": 7.68, \"median_house_income\": 64059.0}, {\"name\": \"Azusa\", \"rsa\": \"San Gabriel Valley\", \"est_pop\": 29999.0, \"case_rate_per_100k_mid-january\": 987.21, \"pct_change\": 268.65, \"est_latino_pct\": 72.47, \"est_anglo_pct\": 15.11, \"est_black_pct\": 3.04, \"est_asian_pct\": 8.37, \"est_total_seven_more_units_pct\": 13.26, \"est_total_single_units_pct\": 13.5, \"median_house_income\": 62923.0}, {\"name\": \"Baldwin Park\", \"rsa\": \"San Gabriel Valley\", \"est_pop\": 75514.0, \"case_rate_per_100k_mid-january\": 1474.55, \"pct_change\": 515.22, \"est_latino_pct\": 80.09, \"est_anglo_pct\": 4.31, \"est_black_pct\": 1.21, \"est_asian_pct\": 14.19, \"est_total_seven_more_units_pct\": 15.84, \"est_total_single_units_pct\": 8.57, \"median_house_income\": 57126.0}, {\"name\": \"Bell\", \"rsa\": \"Southeast\", \"est_pop\": 36160.0, \"case_rate_per_100k_mid-january\": 1546.85, \"pct_change\": 593.84, \"est_latino_pct\": 93.59, \"est_anglo_pct\": 4.68, \"est_black_pct\": 0.66, \"est_asian_pct\": 0.72, \"est_total_seven_more_units_pct\": 10.36, \"est_total_single_units_pct\": 11.08, \"median_house_income\": 41123.0}, {\"name\": \"Bell Gardens\", \"rsa\": \"Southeast\", \"est_pop\": 42065.0, \"case_rate_per_100k_mid-january\": 1455.74, \"pct_change\": 520.78, \"est_latino_pct\": 95.71, \"est_anglo_pct\": 2.7, \"est_black_pct\": 0.9, \"est_asian_pct\": 0.62, \"est_total_seven_more_units_pct\": 13.71, \"est_total_single_units_pct\": 7.77, \"median_house_income\": 45649.0}, {\"name\": \"Bellflower\", \"rsa\": \"Southeast\", \"est_pop\": 76734.0, \"case_rate_per_100k_mid-january\": 1130.76, \"pct_change\": 684.81, \"est_latino_pct\": 52.34, \"est_anglo_pct\": 19.53, \"est_black_pct\": 14.04, \"est_asian_pct\": 11.57, \"est_total_seven_more_units_pct\": 5.1, \"est_total_single_units_pct\": 19.52, \"median_house_income\": 54812.0}, {\"name\": \"Beverly Crest\", \"rsa\": \"Westside\", \"est_pop\": 11968.0, \"case_rate_per_100k_mid-january\": 303.39, \"pct_change\": 322.2, \"est_latino_pct\": 4.67, \"est_anglo_pct\": 84.13, \"est_black_pct\": 1.65, \"est_asian_pct\": 5.71, \"est_total_seven_more_units_pct\": 0.49, \"est_total_single_units_pct\": 24.05, \"median_house_income\": 156904.0}, {\"name\": \"Beverly Hills\", \"rsa\": \"Westside\", \"est_pop\": 34212.0, \"case_rate_per_100k_mid-january\": 492.47, \"pct_change\": 400.02, \"est_latino_pct\": 5.69, \"est_anglo_pct\": 78.55, \"est_black_pct\": 2.19, \"est_asian_pct\": 8.88, \"est_total_seven_more_units_pct\": 0.6, \"est_total_single_units_pct\": 36.39, \"median_house_income\": 103949.0}, {\"name\": \"Beverlywood\", \"rsa\": \"Westside\", \"est_pop\": 12244.0, \"case_rate_per_100k_mid-january\": 538.98, \"pct_change\": 914.26, \"est_latino_pct\": 10.44, \"est_anglo_pct\": 72.57, \"est_black_pct\": 4.52, \"est_asian_pct\": 8.87, \"est_total_seven_more_units_pct\": 1.4, \"est_total_single_units_pct\": 32.15, \"median_house_income\": 75265.0}, {\"name\": \"Boyle Heights\", \"rsa\": \"Eastside\", \"est_pop\": 81371.0, \"case_rate_per_100k_mid-january\": 1640.12, \"pct_change\": 474.59, \"est_latino_pct\": 95.63, \"est_anglo_pct\": 1.53, \"est_black_pct\": 1.21, \"est_asian_pct\": 1.62, \"est_total_seven_more_units_pct\": 12.17, \"est_total_single_units_pct\": 12.94, \"median_house_income\": 35554.0}, {\"name\": \"Brentwood\", \"rsa\": \"Westside\", \"est_pop\": 29276.0, \"case_rate_per_100k_mid-january\": 377.97, \"pct_change\": 200.0, \"est_latino_pct\": 5.68, \"est_anglo_pct\": 80.36, \"est_black_pct\": 1.49, \"est_asian_pct\": 8.74, \"est_total_seven_more_units_pct\": 0.18, \"est_total_single_units_pct\": 39.54, \"median_house_income\": 122242.0}, {\"name\": \"Burbank\", \"rsa\": \"San Fernando Valley\", \"est_pop\": 103338.0, \"case_rate_per_100k_mid-january\": 600.86, \"pct_change\": 310.2, \"est_latino_pct\": 24.51, \"est_anglo_pct\": 58.3, \"est_black_pct\": 2.52, \"est_asian_pct\": 11.62, \"est_total_seven_more_units_pct\": 1.11, \"est_total_single_units_pct\": 30.58, \"median_house_income\": 68037.0}, {\"name\": \"Calabasas\", \"rsa\": \"Santa Monica Mountains\", \"est_pop\": 14411.0, \"case_rate_per_100k_mid-january\": 386.47, \"pct_change\": 571.42, \"est_latino_pct\": 5.9, \"est_anglo_pct\": 81.97, \"est_black_pct\": 1.41, \"est_asian_pct\": 7.2, \"est_total_seven_more_units_pct\": 0.75, \"est_total_single_units_pct\": 16.33, \"median_house_income\": 118860.0}, {\"name\": \"Canoga Park\", \"rsa\": \"San Fernando Valley\", \"est_pop\": 56586.0, \"case_rate_per_100k_mid-january\": 1183.97, \"pct_change\": 596.41, \"est_latino_pct\": 53.64, \"est_anglo_pct\": 26.07, \"est_black_pct\": 4.86, \"est_asian_pct\": 13.32, \"est_total_seven_more_units_pct\": 4.94, \"est_total_single_units_pct\": 25.73, \"median_house_income\": 53906.0}, {\"name\": \"Carson\", \"rsa\": \"Harbor\", \"est_pop\": 90867.0, \"case_rate_per_100k_mid-january\": 853.53, \"pct_change\": 677.7, \"est_latino_pct\": 38.92, \"est_anglo_pct\": 7.32, \"est_black_pct\": 24.8, \"est_asian_pct\": 24.83, \"est_total_seven_more_units_pct\": 8.59, \"est_total_single_units_pct\": 14.68, \"median_house_income\": 60872.0}, {\"name\": \"Carthay\", \"rsa\": \"Central L.A.\", \"est_pop\": 13146.0, \"case_rate_per_100k_mid-january\": 410.78, \"pct_change\": 293.32, \"est_latino_pct\": 7.08, \"est_anglo_pct\": 78.62, \"est_black_pct\": 3.22, \"est_asian_pct\": 7.69, \"est_total_seven_more_units_pct\": 0.04, \"est_total_single_units_pct\": 53.69, \"median_house_income\": 69904.0}, {\"name\": \"Castaic\", \"rsa\": \"Northwest County\", \"est_pop\": 28363.0, \"case_rate_per_100k_mid-january\": 514.88, \"pct_change\": 311.77, \"est_latino_pct\": 32.79, \"est_anglo_pct\": 46.21, \"est_black_pct\": 10.01, \"est_asian_pct\": 8.44, \"est_total_seven_more_units_pct\": 2.09, \"est_total_single_units_pct\": 12.84, \"median_house_income\": 93575.0}, {\"name\": \"Century City\", \"rsa\": \"Westside\", \"est_pop\": 11872.0, \"case_rate_per_100k_mid-january\": 383.05, \"pct_change\": 308.33, \"est_latino_pct\": 5.46, \"est_anglo_pct\": 76.4, \"est_black_pct\": 1.96, \"est_asian_pct\": 12.14, \"est_total_seven_more_units_pct\": 0.1, \"est_total_single_units_pct\": 41.23, \"median_house_income\": 101115.0}, {\"name\": \"Cerritos\", \"rsa\": \"Southeast\", \"est_pop\": 54789.0, \"case_rate_per_100k_mid-january\": 521.3, \"pct_change\": 552.52, \"est_latino_pct\": 12.56, \"est_anglo_pct\": 17.49, \"est_black_pct\": 7.2, \"est_asian_pct\": 60.22, \"est_total_seven_more_units_pct\": 2.85, \"est_total_single_units_pct\": 12.53, \"median_house_income\": 76855.0}, {\"name\": \"Chatsworth\", \"rsa\": \"San Fernando Valley\", \"est_pop\": 34655.0, \"case_rate_per_100k_mid-january\": 839.16, \"pct_change\": 486.78, \"est_latino_pct\": 22.03, \"est_anglo_pct\": 53.77, \"est_black_pct\": 4.25, \"est_asian_pct\": 16.84, \"est_total_seven_more_units_pct\": 1.77, \"est_total_single_units_pct\": 22.15, \"median_house_income\": 84452.0}, {\"name\": \"Cheviot Hills\", \"rsa\": \"Westside\", \"est_pop\": 9041.0, \"case_rate_per_100k_mid-january\": 490.68, \"pct_change\": 650.05, \"est_latino_pct\": 7.82, \"est_anglo_pct\": 77.92, \"est_black_pct\": 2.29, \"est_asian_pct\": 8.34, \"est_total_seven_more_units_pct\": 0.5, \"est_total_single_units_pct\": 30.55, \"median_house_income\": 84026.0}, {\"name\": \"Chinatown\", \"rsa\": \"Central L.A.\", \"est_pop\": 7674.0, \"case_rate_per_100k_mid-january\": 573.49, \"pct_change\": 283.32, \"est_latino_pct\": 15.43, \"est_anglo_pct\": 5.8, \"est_black_pct\": 3.4, \"est_asian_pct\": 74.19, \"est_total_seven_more_units_pct\": 1.74, \"est_total_single_units_pct\": 36.05, \"median_house_income\": 33123.0}, {\"name\": \"Claremont\", \"rsa\": \"Pomona Valley\", \"est_pop\": 42188.0, \"case_rate_per_100k_mid-january\": 468.7, \"pct_change\": 256.26, \"est_latino_pct\": 19.66, \"est_anglo_pct\": 58.67, \"est_black_pct\": 4.81, \"est_asian_pct\": 13.39, \"est_total_seven_more_units_pct\": 1.21, \"est_total_single_units_pct\": 23.98, \"median_house_income\": 93494.0}, {\"name\": \"Commerce\", \"rsa\": \"Southeast\", \"est_pop\": 12968.0, \"case_rate_per_100k_mid-january\": 1293.14, \"pct_change\": 302.38, \"est_latino_pct\": 93.72, \"est_anglo_pct\": 3.26, \"est_black_pct\": 1.43, \"est_asian_pct\": 1.1, \"est_total_seven_more_units_pct\": 10.53, \"est_total_single_units_pct\": 15.58, \"median_house_income\": 41420.0}, {\"name\": \"Compton\", \"rsa\": \"Southeast\", \"est_pop\": 97428.0, \"case_rate_per_100k_mid-january\": 1340.29, \"pct_change\": 579.69, \"est_latino_pct\": 65.07, \"est_anglo_pct\": 1.04, \"est_black_pct\": 32.42, \"est_asian_pct\": 0.4, \"est_total_seven_more_units_pct\": 15.51, \"est_total_single_units_pct\": 12.9, \"median_house_income\": 44376.0}, {\"name\": \"Covina\", \"rsa\": \"San Gabriel Valley\", \"est_pop\": 67501.0, \"case_rate_per_100k_mid-january\": 980.99, \"pct_change\": 452.86, \"est_latino_pct\": 56.13, \"est_anglo_pct\": 27.34, \"est_black_pct\": 3.97, \"est_asian_pct\": 11.03, \"est_total_seven_more_units_pct\": 4.3, \"est_total_single_units_pct\": 18.38, \"median_house_income\": 71628.0}, {\"name\": \"Cudahy\", \"rsa\": \"Southeast\", \"est_pop\": 24768.0, \"case_rate_per_100k_mid-january\": 1527.91, \"pct_change\": 455.22, \"est_latino_pct\": 95.99, \"est_anglo_pct\": 2.16, \"est_black_pct\": 1.38, \"est_asian_pct\": 0.56, \"est_total_seven_more_units_pct\": 11.86, \"est_total_single_units_pct\": 7.28, \"median_house_income\": 42607.0}, {\"name\": \"Culver City\", \"rsa\": \"Westside\", \"est_pop\": 35705.0, \"case_rate_per_100k_mid-january\": 451.52, \"pct_change\": 400.02, \"est_latino_pct\": 24.31, \"est_anglo_pct\": 48.75, \"est_black_pct\": 7.72, \"est_asian_pct\": 14.7, \"est_total_seven_more_units_pct\": 1.08, \"est_total_single_units_pct\": 32.8, \"median_house_income\": 65009.0}, {\"name\": \"Del Aire\", \"rsa\": \"South Bay\", \"est_pop\": 4928.0, \"case_rate_per_100k_mid-january\": 227.63, \"pct_change\": 150.01, \"est_latino_pct\": 50.16, \"est_anglo_pct\": 26.48, \"est_black_pct\": 10.51, \"est_asian_pct\": 8.52, \"est_total_seven_more_units_pct\": 3.57, \"est_total_single_units_pct\": 24.96, \"median_house_income\": 71941.0}, {\"name\": \"Del Rey\", \"rsa\": \"Westside\", \"est_pop\": 630.0, \"case_rate_per_100k_mid-january\": 454.3, \"pct_change\": 231.7, \"est_latino_pct\": 12.54, \"est_anglo_pct\": 48.89, \"est_black_pct\": 11.11, \"est_asian_pct\": 22.54, \"est_total_seven_more_units_pct\": 0.3, \"est_total_single_units_pct\": 42.26, \"median_house_income\": 71179.0}, {\"name\": \"Diamond Bar\", \"rsa\": \"San Gabriel Valley\", \"est_pop\": 45313.0, \"case_rate_per_100k_mid-january\": 460.75, \"pct_change\": 314.05, \"est_latino_pct\": 19.03, \"est_anglo_pct\": 21.16, \"est_black_pct\": 4.32, \"est_asian_pct\": 53.46, \"est_total_seven_more_units_pct\": 2.1, \"est_total_single_units_pct\": 13.73, \"median_house_income\": 86579.0}, {\"name\": \"Downey\", \"rsa\": \"Southeast\", \"est_pop\": 111731.0, \"case_rate_per_100k_mid-january\": 1114.97, \"pct_change\": 453.91, \"est_latino_pct\": 70.67, \"est_anglo_pct\": 17.7, \"est_black_pct\": 3.87, \"est_asian_pct\": 6.98, \"est_total_seven_more_units_pct\": 5.19, \"est_total_single_units_pct\": 16.86, \"median_house_income\": 59548.0}, {\"name\": \"Downtown\", \"rsa\": \"Central L.A.\", \"est_pop\": 24348.0, \"case_rate_per_100k_mid-january\": 941.58, \"pct_change\": 250.0, \"est_latino_pct\": 28.07, \"est_anglo_pct\": 29.21, \"est_black_pct\": 13.65, \"est_asian_pct\": 25.95, \"est_total_seven_more_units_pct\": 0.36, \"est_total_single_units_pct\": 64.93, \"median_house_income\": 28749.0}, {\"name\": \"Duarte\", \"rsa\": \"San Gabriel Valley\", \"est_pop\": 26044.0, \"case_rate_per_100k_mid-january\": 972.02, \"pct_change\": 511.41, \"est_latino_pct\": 52.73, \"est_anglo_pct\": 24.02, \"est_black_pct\": 6.96, \"est_asian_pct\": 14.4, \"est_total_seven_more_units_pct\": 6.36, \"est_total_single_units_pct\": 22.48, \"median_house_income\": 71870.0}, {\"name\": \"Eagle Rock\", \"rsa\": \"Northeast L.A.\", \"est_pop\": 37705.0, \"case_rate_per_100k_mid-january\": 795.68, \"pct_change\": 632.54, \"est_latino_pct\": 44.61, \"est_anglo_pct\": 27.97, \"est_black_pct\": 2.08, \"est_asian_pct\": 23.01, \"est_total_seven_more_units_pct\": 3.77, \"est_total_single_units_pct\": 23.71, \"median_house_income\": 69746.0}, {\"name\": \"East Hollywood\", \"rsa\": \"Central L.A.\", \"est_pop\": 28390.0, \"case_rate_per_100k_mid-january\": 956.06, \"pct_change\": 536.36, \"est_latino_pct\": 54.89, \"est_anglo_pct\": 22.09, \"est_black_pct\": 3.25, \"est_asian_pct\": 18.26, \"est_total_seven_more_units_pct\": 2.95, \"est_total_single_units_pct\": 30.34, \"median_house_income\": 38050.0}, {\"name\": \"East Los Angeles\", \"rsa\": \"Eastside\", \"est_pop\": 125028.0, \"case_rate_per_100k_mid-january\": 1524.72, \"pct_change\": 547.47, \"est_latino_pct\": 97.0, \"est_anglo_pct\": 1.51, \"est_black_pct\": 0.63, \"est_asian_pct\": 1.0, \"est_total_seven_more_units_pct\": 13.4, \"est_total_single_units_pct\": 12.17, \"median_house_income\": 41620.0}, {\"name\": \"East Pasadena\", \"rsa\": \"San Gabriel Valley\", \"est_pop\": 8959.0, \"case_rate_per_100k_mid-january\": 124.94, \"pct_change\": 166.68, \"est_latino_pct\": 26.8, \"est_anglo_pct\": 44.9, \"est_black_pct\": 3.75, \"est_asian_pct\": 21.74, \"est_total_seven_more_units_pct\": 2.67, \"est_total_single_units_pct\": 20.41, \"median_house_income\": 96955.0}, {\"name\": \"East Rancho Dominguez\", \"rsa\": \"Harbor\", \"est_pop\": 12258.0, \"case_rate_per_100k_mid-january\": 1437.16, \"pct_change\": 378.26, \"est_latino_pct\": 81.89, \"est_anglo_pct\": 0.91, \"est_black_pct\": 16.14, \"est_asian_pct\": 0.29, \"est_total_seven_more_units_pct\": 22.81, \"est_total_single_units_pct\": 8.11, \"median_house_income\": 45282.0}, {\"name\": \"East Whittier\", \"rsa\": \"San Gabriel Valley\", \"est_pop\": 4745.0, \"case_rate_per_100k_mid-january\": 904.64, \"pct_change\": 860.03, \"est_latino_pct\": 51.76, \"est_anglo_pct\": 39.52, \"est_black_pct\": 1.83, \"est_asian_pct\": 5.06, \"est_total_seven_more_units_pct\": 2.3, \"est_total_single_units_pct\": 21.64, \"median_house_income\": 82258.0}, {\"name\": \"Echo Park\", \"rsa\": \"Central L.A.\", \"est_pop\": 13074.0, \"case_rate_per_100k_mid-january\": 939.96, \"pct_change\": 538.08, \"est_latino_pct\": 51.72, \"est_anglo_pct\": 29.77, \"est_black_pct\": 1.95, \"est_asian_pct\": 14.54, \"est_total_seven_more_units_pct\": 2.61, \"est_total_single_units_pct\": 31.63, \"median_house_income\": 49935.0}, {\"name\": \"El Monte\", \"rsa\": \"San Gabriel Valley\", \"est_pop\": 111876.0, \"case_rate_per_100k_mid-january\": 1058.25, \"pct_change\": 375.47, \"est_latino_pct\": 68.39, \"est_anglo_pct\": 4.64, \"est_black_pct\": 0.75, \"est_asian_pct\": 25.99, \"est_total_seven_more_units_pct\": 12.74, \"est_total_single_units_pct\": 10.83, \"median_house_income\": 48951.0}, {\"name\": \"El Segundo\", \"rsa\": \"South Bay\", \"est_pop\": 16469.0, \"case_rate_per_100k_mid-january\": 434.89, \"pct_change\": 563.65, \"est_latino_pct\": 15.66, \"est_anglo_pct\": 69.14, \"est_black_pct\": 2.02, \"est_asian_pct\": 8.76, \"est_total_seven_more_units_pct\": 0.5, \"est_total_single_units_pct\": 31.84, \"median_house_income\": 100160.0}, {\"name\": \"El Sereno\", \"rsa\": \"Eastside\", \"est_pop\": 39329.0, \"case_rate_per_100k_mid-january\": 1219.86, \"pct_change\": 385.71, \"est_latino_pct\": 82.73, \"est_anglo_pct\": 4.37, \"est_black_pct\": 1.87, \"est_asian_pct\": 10.91, \"est_total_seven_more_units_pct\": 8.08, \"est_total_single_units_pct\": 15.05, \"median_house_income\": 53227.0}, {\"name\": \"Elysian Park\", \"rsa\": \"Central L.A.\", \"est_pop\": 5277.0, \"case_rate_per_100k_mid-january\": 752.8, \"pct_change\": 330.0, \"est_latino_pct\": 29.68, \"est_anglo_pct\": 10.2, \"est_black_pct\": 2.2, \"est_asian_pct\": 56.17, \"est_total_seven_more_units_pct\": 2.8, \"est_total_single_units_pct\": 22.11, \"median_house_income\": 40098.0}, {\"name\": \"Elysian Valley\", \"rsa\": \"Central L.A.\", \"est_pop\": 10071.0, \"case_rate_per_100k_mid-january\": 1219.15, \"pct_change\": 588.9, \"est_latino_pct\": 65.02, \"est_anglo_pct\": 12.36, \"est_black_pct\": 1.26, \"est_asian_pct\": 20.38, \"est_total_seven_more_units_pct\": 6.41, \"est_total_single_units_pct\": 20.55, \"median_house_income\": 50590.0}, {\"name\": \"Encino\", \"rsa\": \"San Fernando Valley\", \"est_pop\": 43455.0, \"case_rate_per_100k_mid-january\": 464.89, \"pct_change\": 169.24, \"est_latino_pct\": 9.32, \"est_anglo_pct\": 77.79, \"est_black_pct\": 3.07, \"est_asian_pct\": 5.66, \"est_total_seven_more_units_pct\": 0.47, \"est_total_single_units_pct\": 29.4, \"median_house_income\": 102971.0}, {\"name\": \"Exposition Park\", \"rsa\": \"South L.A.\", \"est_pop\": 42650.0, \"case_rate_per_100k_mid-january\": 1173.28, \"pct_change\": 686.59, \"est_latino_pct\": 61.06, \"est_anglo_pct\": 6.84, \"est_black_pct\": 25.01, \"est_asian_pct\": 5.53, \"est_total_seven_more_units_pct\": 9.81, \"est_total_single_units_pct\": 19.77, \"median_house_income\": 29170.0}, {\"name\": \"Florence-Firestone\", \"rsa\": \"South L.A.\", \"est_pop\": 82807.0, \"case_rate_per_100k_mid-january\": 1416.38, \"pct_change\": 528.05, \"est_latino_pct\": 89.45, \"est_anglo_pct\": 0.61, \"est_black_pct\": 9.86, \"est_asian_pct\": 0.23, \"est_total_seven_more_units_pct\": 17.31, \"est_total_single_units_pct\": 8.9, \"median_house_income\": 32741.0}, {\"name\": \"Gardena\", \"rsa\": \"South Bay\", \"est_pop\": 58730.0, \"case_rate_per_100k_mid-january\": 856.3, \"pct_change\": 746.73, \"est_latino_pct\": 37.68, \"est_anglo_pct\": 9.32, \"est_black_pct\": 24.39, \"est_asian_pct\": 26.17, \"est_total_seven_more_units_pct\": 3.63, \"est_total_single_units_pct\": 25.01, \"median_house_income\": 50729.0}, {\"name\": \"Glassell Park\", \"rsa\": \"Northeast L.A.\", \"est_pop\": 29725.0, \"case_rate_per_100k_mid-january\": 1003.04, \"pct_change\": 589.14, \"est_latino_pct\": 57.93, \"est_anglo_pct\": 17.06, \"est_black_pct\": 1.93, \"est_asian_pct\": 21.64, \"est_total_seven_more_units_pct\": 5.1, \"est_total_single_units_pct\": 20.07, \"median_house_income\": 56597.0}, {\"name\": \"Glendale\", \"rsa\": \"Verdugos\", \"est_pop\": 190870.0, \"case_rate_per_100k_mid-january\": 783.08, \"pct_change\": 457.59, \"est_latino_pct\": 17.46, \"est_anglo_pct\": 61.65, \"est_black_pct\": 1.35, \"est_asian_pct\": 16.22, \"est_total_seven_more_units_pct\": 1.22, \"est_total_single_units_pct\": 24.99, \"median_house_income\": 70234.0}, {\"name\": \"Glendora\", \"rsa\": \"San Gabriel Valley\", \"est_pop\": 1515.0, \"case_rate_per_100k_mid-january\": 739.14, \"pct_change\": 343.18, \"est_latino_pct\": 26.53, \"est_anglo_pct\": 61.39, \"est_black_pct\": 1.45, \"est_asian_pct\": 8.38, \"est_total_seven_more_units_pct\": 2.55, \"est_total_single_units_pct\": 15.52, \"median_house_income\": 78959.0}, {\"name\": \"Granada Hills\", \"rsa\": \"San Fernando Valley\", \"est_pop\": 54001.0, \"case_rate_per_100k_mid-january\": 946.88, \"pct_change\": 450.99, \"est_latino_pct\": 31.34, \"est_anglo_pct\": 45.18, \"est_black_pct\": 3.69, \"est_asian_pct\": 17.08, \"est_total_seven_more_units_pct\": 3.58, \"est_total_single_units_pct\": 17.33, \"median_house_income\": 76820.0}, {\"name\": \"Green Meadows\", \"rsa\": \"South L.A.\", \"est_pop\": 19811.0, \"case_rate_per_100k_mid-january\": 1581.03, \"pct_change\": 639.14, \"est_latino_pct\": 68.3, \"est_anglo_pct\": 0.55, \"est_black_pct\": 30.73, \"est_asian_pct\": 0.27, \"est_total_seven_more_units_pct\": 14.89, \"est_total_single_units_pct\": 14.89, \"median_house_income\": 33758.0}, {\"name\": \"Hacienda Heights\", \"rsa\": \"San Gabriel Valley\", \"est_pop\": 52762.0, \"case_rate_per_100k_mid-january\": 745.63, \"pct_change\": 329.91, \"est_latino_pct\": 45.64, \"est_anglo_pct\": 14.82, \"est_black_pct\": 1.38, \"est_asian_pct\": 37.06, \"est_total_seven_more_units_pct\": 5.63, \"est_total_single_units_pct\": 13.08, \"median_house_income\": 77156.0}, {\"name\": \"Hancock Park\", \"rsa\": \"Central L.A.\", \"est_pop\": 15590.0, \"case_rate_per_100k_mid-january\": 510.59, \"pct_change\": 769.98, \"est_latino_pct\": 11.2, \"est_anglo_pct\": 54.53, \"est_black_pct\": 3.91, \"est_asian_pct\": 28.04, \"est_total_seven_more_units_pct\": 1.63, \"est_total_single_units_pct\": 28.92, \"median_house_income\": 62331.0}, {\"name\": \"Harbor City\", \"rsa\": \"Harbor\", \"est_pop\": 26885.0, \"case_rate_per_100k_mid-january\": 705.19, \"pct_change\": 831.8, \"est_latino_pct\": 44.18, \"est_anglo_pct\": 25.6, \"est_black_pct\": 10.22, \"est_asian_pct\": 17.27, \"est_total_seven_more_units_pct\": 3.12, \"est_total_single_units_pct\": 23.17, \"median_house_income\": 63910.0}, {\"name\": \"Harbor Gateway\", \"rsa\": \"Harbor\", \"est_pop\": 760.0, \"case_rate_per_100k_mid-january\": 1034.4, \"pct_change\": 859.55, \"est_latino_pct\": 59.74, \"est_anglo_pct\": 11.05, \"est_black_pct\": 13.68, \"est_asian_pct\": 13.95, \"est_total_seven_more_units_pct\": 7.62, \"est_total_single_units_pct\": 13.81, \"median_house_income\": 52785.0}, {\"name\": \"Harvard Heights\", \"rsa\": \"Central L.A.\", \"est_pop\": 16946.0, \"case_rate_per_100k_mid-january\": 1297.48, \"pct_change\": 766.66, \"est_latino_pct\": 73.02, \"est_anglo_pct\": 3.37, \"est_black_pct\": 12.56, \"est_asian_pct\": 10.49, \"est_total_seven_more_units_pct\": 7.11, \"est_total_single_units_pct\": 18.42, \"median_house_income\": 28117.0}, {\"name\": \"Harvard Park\", \"rsa\": \"South L.A.\", \"est_pop\": 36771.0, \"case_rate_per_100k_mid-january\": 1502.57, \"pct_change\": 750.74, \"est_latino_pct\": 65.49, \"est_anglo_pct\": 0.84, \"est_black_pct\": 32.92, \"est_asian_pct\": 0.37, \"est_total_seven_more_units_pct\": 10.88, \"est_total_single_units_pct\": 19.6, \"median_house_income\": 34236.0}, {\"name\": \"Hawaiian Gardens\", \"rsa\": \"Harbor\", \"est_pop\": 14779.0, \"case_rate_per_100k_mid-january\": 1403.65, \"pct_change\": 586.65, \"est_latino_pct\": 73.02, \"est_anglo_pct\": 8.76, \"est_black_pct\": 3.86, \"est_asian_pct\": 13.22, \"est_total_seven_more_units_pct\": 13.2, \"est_total_single_units_pct\": 15.09, \"median_house_income\": 65997.0}, {\"name\": \"Hawthorne\", \"rsa\": \"South Bay\", \"est_pop\": 1322.0, \"case_rate_per_100k_mid-january\": 1073.36, \"pct_change\": 600.72, \"est_latino_pct\": 60.67, \"est_anglo_pct\": 4.08, \"est_black_pct\": 24.28, \"est_asian_pct\": 9.38, \"est_total_seven_more_units_pct\": 10.06, \"est_total_single_units_pct\": 15.08, \"median_house_income\": 53181.0}, {\"name\": \"Hermosa Beach\", \"rsa\": \"South Bay\", \"est_pop\": 19486.0, \"case_rate_per_100k_mid-january\": 376.21, \"pct_change\": 252.39, \"est_latino_pct\": 8.36, \"est_anglo_pct\": 80.89, \"est_black_pct\": 1.18, \"est_asian_pct\": 5.7, \"est_total_seven_more_units_pct\": 0.16, \"est_total_single_units_pct\": 38.15, \"median_house_income\": 106648.0}, {\"name\": \"Highland Park\", \"rsa\": \"Northeast L.A.\", \"est_pop\": 45462.0, \"case_rate_per_100k_mid-january\": 1014.65, \"pct_change\": 416.83, \"est_latino_pct\": 72.15, \"est_anglo_pct\": 12.33, \"est_black_pct\": 2.86, \"est_asian_pct\": 11.64, \"est_total_seven_more_units_pct\": 5.4, \"est_total_single_units_pct\": 22.41, \"median_house_income\": 60375.0}, {\"name\": \"Hollywood\", \"rsa\": \"Central L.A.\", \"est_pop\": 62261.0, \"case_rate_per_100k_mid-january\": 638.79, \"pct_change\": 263.34, \"est_latino_pct\": 29.8, \"est_anglo_pct\": 54.63, \"est_black_pct\": 5.61, \"est_asian_pct\": 7.26, \"est_total_seven_more_units_pct\": 0.54, \"est_total_single_units_pct\": 50.23, \"median_house_income\": 54122.0}, {\"name\": \"Hollywood Hills\", \"rsa\": \"Central L.A.\", \"est_pop\": 27793.0, \"case_rate_per_100k_mid-january\": 397.5, \"pct_change\": 185.38, \"est_latino_pct\": 9.48, \"est_anglo_pct\": 76.17, \"est_black_pct\": 4.47, \"est_asian_pct\": 6.33, \"est_total_seven_more_units_pct\": 0.15, \"est_total_single_units_pct\": 47.56, \"median_house_income\": 78345.0}, {\"name\": \"Huntington Park\", \"rsa\": \"Southeast\", \"est_pop\": 59920.0, \"case_rate_per_100k_mid-january\": 1476.03, \"pct_change\": 518.31, \"est_latino_pct\": 97.14, \"est_anglo_pct\": 1.59, \"est_black_pct\": 0.78, \"est_asian_pct\": 0.66, \"est_total_seven_more_units_pct\": 11.1, \"est_total_single_units_pct\": 11.17, \"median_house_income\": 38884.0}, {\"name\": \"Hyde Park\", \"rsa\": \"South L.A.\", \"est_pop\": 27864.0, \"case_rate_per_100k_mid-january\": 1152.73, \"pct_change\": 1034.47, \"est_latino_pct\": 36.6, \"est_anglo_pct\": 1.44, \"est_black_pct\": 60.03, \"est_asian_pct\": 0.59, \"est_total_seven_more_units_pct\": 4.95, \"est_total_single_units_pct\": 29.09, \"median_house_income\": 42497.0}, {\"name\": \"Inglewood\", \"rsa\": \"South Bay\", \"est_pop\": 111254.0, \"case_rate_per_100k_mid-january\": 1020.41, \"pct_change\": 606.7, \"est_latino_pct\": 51.33, \"est_anglo_pct\": 2.86, \"est_black_pct\": 43.19, \"est_asian_pct\": 1.35, \"est_total_seven_more_units_pct\": 5.11, \"est_total_single_units_pct\": 25.57, \"median_house_income\": 48874.0}, {\"name\": \"Jefferson Park\", \"rsa\": \"South L.A.\", \"est_pop\": 7612.0, \"case_rate_per_100k_mid-january\": 953.8, \"pct_change\": 599.99, \"est_latino_pct\": 65.03, \"est_anglo_pct\": 2.75, \"est_black_pct\": 28.97, \"est_asian_pct\": 2.77, \"est_total_seven_more_units_pct\": 8.28, \"est_total_single_units_pct\": 21.26, \"median_house_income\": 43370.0}, {\"name\": \"Koreatown\", \"rsa\": \"Central L.A.\", \"est_pop\": 48286.0, \"case_rate_per_100k_mid-january\": 1133.62, \"pct_change\": 749.28, \"est_latino_pct\": 52.86, \"est_anglo_pct\": 5.37, \"est_black_pct\": 4.61, \"est_asian_pct\": 36.42, \"est_total_seven_more_units_pct\": 2.57, \"est_total_single_units_pct\": 30.0, \"median_house_income\": 32455.0}, {\"name\": \"La Canada Flintridge\", \"rsa\": \"Verdugos\", \"est_pop\": 21422.0, \"case_rate_per_100k_mid-january\": 289.95, \"pct_change\": 650.0, \"est_latino_pct\": 6.96, \"est_anglo_pct\": 64.04, \"est_black_pct\": 0.58, \"est_asian_pct\": 25.67, \"est_total_seven_more_units_pct\": 0.9, \"est_total_single_units_pct\": 14.93, \"median_house_income\": 115901.0}, {\"name\": \"La Crescenta-Montrose\", \"rsa\": \"Verdugos\", \"est_pop\": 19214.0, \"case_rate_per_100k_mid-january\": 530.28, \"pct_change\": 337.49, \"est_latino_pct\": 10.69, \"est_anglo_pct\": 57.05, \"est_black_pct\": 0.68, \"est_asian_pct\": 28.9, \"est_total_seven_more_units_pct\": 1.09, \"est_total_single_units_pct\": 20.17, \"median_house_income\": 93267.0}, {\"name\": \"La Mirada\", \"rsa\": \"Southeast\", \"est_pop\": 48685.0, \"case_rate_per_100k_mid-january\": 623.0, \"pct_change\": 543.73, \"est_latino_pct\": 39.78, \"est_anglo_pct\": 37.95, \"est_black_pct\": 2.26, \"est_asian_pct\": 17.78, \"est_total_seven_more_units_pct\": 3.86, \"est_total_single_units_pct\": 17.27, \"median_house_income\": 77036.0}, {\"name\": \"La Puente\", \"rsa\": \"San Gabriel Valley\", \"est_pop\": 40415.0, \"case_rate_per_100k_mid-january\": 1231.05, \"pct_change\": 510.97, \"est_latino_pct\": 85.18, \"est_anglo_pct\": 4.75, \"est_black_pct\": 1.47, \"est_asian_pct\": 8.19, \"est_total_seven_more_units_pct\": 15.89, \"est_total_single_units_pct\": 10.03, \"median_house_income\": 55584.0}, {\"name\": \"La Verne\", \"rsa\": \"Pomona Valley\", \"est_pop\": 8349.0, \"case_rate_per_100k_mid-january\": 670.03, \"pct_change\": 298.21, \"est_latino_pct\": 24.23, \"est_anglo_pct\": 58.5, \"est_black_pct\": 3.8, \"est_asian_pct\": 11.31, \"est_total_seven_more_units_pct\": 1.44, \"est_total_single_units_pct\": 17.04, \"median_house_income\": 87940.0}, {\"name\": \"Ladera Heights\", \"rsa\": \"Westside\", \"est_pop\": 11657.0, \"case_rate_per_100k_mid-january\": 353.56, \"pct_change\": 525.0, \"est_latino_pct\": 7.74, \"est_anglo_pct\": 20.71, \"est_black_pct\": 59.84, \"est_asian_pct\": 7.49, \"est_total_seven_more_units_pct\": 0.47, \"est_total_single_units_pct\": 34.66, \"median_house_income\": 75078.0}, {\"name\": \"Lake Balboa\", \"rsa\": \"San Fernando Valley\", \"est_pop\": 37588.0, \"case_rate_per_100k_mid-january\": 985.64, \"pct_change\": 477.78, \"est_latino_pct\": 53.08, \"est_anglo_pct\": 31.79, \"est_black_pct\": 5.07, \"est_asian_pct\": 8.12, \"est_total_seven_more_units_pct\": 4.38, \"est_total_single_units_pct\": 21.67, \"median_house_income\": 54990.0}, {\"name\": \"Lake Los Angeles\", \"rsa\": \"Antelope Valley\", \"est_pop\": 13931.0, \"case_rate_per_100k_mid-january\": 985.07, \"pct_change\": 357.15, \"est_latino_pct\": 54.56, \"est_anglo_pct\": 31.29, \"est_black_pct\": 11.05, \"est_asian_pct\": 0.95, \"est_total_seven_more_units_pct\": 10.73, \"est_total_single_units_pct\": 14.09, \"median_house_income\": 50484.0}, {\"name\": \"Lakewood\", \"rsa\": \"Harbor\", \"est_pop\": 868.0, \"case_rate_per_100k_mid-january\": 752.84, \"pct_change\": 845.3, \"est_latino_pct\": 29.95, \"est_anglo_pct\": 23.16, \"est_black_pct\": 14.98, \"est_asian_pct\": 28.0, \"est_total_seven_more_units_pct\": 4.98, \"est_total_single_units_pct\": 13.41, \"median_house_income\": 73630.0}, {\"name\": \"Lancaster\", \"rsa\": \"Antelope Valley\", \"est_pop\": 153534.0, \"case_rate_per_100k_mid-january\": 1029.89, \"pct_change\": 300.97, \"est_latino_pct\": 37.87, \"est_anglo_pct\": 34.79, \"est_black_pct\": 20.28, \"est_asian_pct\": 4.16, \"est_total_seven_more_units_pct\": 4.89, \"est_total_single_units_pct\": 20.64, \"median_house_income\": 55998.0}, {\"name\": \"Lawndale\", \"rsa\": \"South Bay\", \"est_pop\": 32579.0, \"case_rate_per_100k_mid-january\": 963.88, \"pct_change\": 604.33, \"est_latino_pct\": 61.01, \"est_anglo_pct\": 16.23, \"est_black_pct\": 10.14, \"est_asian_pct\": 9.98, \"est_total_seven_more_units_pct\": 6.85, \"est_total_single_units_pct\": 18.17, \"median_house_income\": 62212.0}, {\"name\": \"Leimert Park\", \"rsa\": \"South L.A.\", \"est_pop\": 14865.0, \"case_rate_per_100k_mid-january\": 774.53, \"pct_change\": 1211.21, \"est_latino_pct\": 25.7, \"est_anglo_pct\": 1.92, \"est_black_pct\": 69.12, \"est_asian_pct\": 1.29, \"est_total_seven_more_units_pct\": 3.22, \"est_total_single_units_pct\": 38.6, \"median_house_income\": 36842.0}, {\"name\": \"Lennox\", \"rsa\": \"South Bay\", \"est_pop\": 20136.0, \"case_rate_per_100k_mid-january\": 1432.88, \"pct_change\": 602.19, \"est_latino_pct\": 92.62, \"est_anglo_pct\": 2.04, \"est_black_pct\": 3.61, \"est_asian_pct\": 0.75, \"est_total_seven_more_units_pct\": 15.72, \"est_total_single_units_pct\": 9.7, \"median_house_income\": 40414.0}, {\"name\": \"Lincoln Heights\", \"rsa\": \"Eastside\", \"est_pop\": 31149.0, \"case_rate_per_100k_mid-january\": 1362.09, \"pct_change\": 525.36, \"est_latino_pct\": 70.12, \"est_anglo_pct\": 4.7, \"est_black_pct\": 1.45, \"est_asian_pct\": 23.24, \"est_total_seven_more_units_pct\": 8.36, \"est_total_single_units_pct\": 15.81, \"median_house_income\": 37628.0}, {\"name\": \"Littlerock\", \"rsa\": \"Antelope Valley\", \"est_pop\": 877.0, \"case_rate_per_100k_mid-january\": 994.78, \"pct_change\": 566.65, \"est_latino_pct\": 57.13, \"est_anglo_pct\": 34.89, \"est_black_pct\": 4.56, \"est_asian_pct\": 1.25, \"est_total_seven_more_units_pct\": 9.68, \"est_total_single_units_pct\": 15.73, \"median_house_income\": 53467.0}, {\"name\": \"Lomita\", \"rsa\": \"South Bay\", \"est_pop\": 20039.0, \"case_rate_per_100k_mid-january\": 660.91, \"pct_change\": 585.02, \"est_latino_pct\": 32.71, \"est_anglo_pct\": 43.88, \"est_black_pct\": 4.65, \"est_asian_pct\": 14.68, \"est_total_seven_more_units_pct\": 1.47, \"est_total_single_units_pct\": 29.99, \"median_house_income\": 69160.0}, {\"name\": \"Los Feliz\", \"rsa\": \"Central L.A.\", \"est_pop\": 20608.0, \"case_rate_per_100k_mid-january\": 360.98, \"pct_change\": 239.14, \"est_latino_pct\": 12.35, \"est_anglo_pct\": 68.91, \"est_black_pct\": 2.93, \"est_asian_pct\": 12.59, \"est_total_seven_more_units_pct\": 0.43, \"est_total_single_units_pct\": 46.33, \"median_house_income\": 67738.0}, {\"name\": \"Lynwood\", \"rsa\": \"Southeast\", \"est_pop\": 73992.0, \"case_rate_per_100k_mid-january\": 1469.87, \"pct_change\": 583.22, \"est_latino_pct\": 86.71, \"est_anglo_pct\": 2.17, \"est_black_pct\": 10.18, \"est_asian_pct\": 0.7, \"est_total_seven_more_units_pct\": 17.53, \"est_total_single_units_pct\": 7.2, \"median_house_income\": 44554.0}, {\"name\": \"Malibu\", \"rsa\": \"Santa Monica Mountains\", \"est_pop\": 9491.0, \"case_rate_per_100k_mid-january\": 208.32, \"pct_change\": 107.7, \"est_latino_pct\": 6.54, \"est_anglo_pct\": 86.29, \"est_black_pct\": 1.43, \"est_asian_pct\": 2.95, \"est_total_seven_more_units_pct\": 0.82, \"est_total_single_units_pct\": 26.27, \"median_house_income\": 125011.0}, {\"name\": \"Manchester Square\", \"rsa\": \"South L.A.\", \"est_pop\": 8242.0, \"case_rate_per_100k_mid-january\": 890.35, \"pct_change\": 406.66, \"est_latino_pct\": 21.88, \"est_anglo_pct\": 1.07, \"est_black_pct\": 74.88, \"est_asian_pct\": 0.59, \"est_total_seven_more_units_pct\": 4.0, \"est_total_single_units_pct\": 24.91, \"median_house_income\": 44492.0}, {\"name\": \"Manhattan Beach\", \"rsa\": \"South Bay\", \"est_pop\": 34856.0, \"case_rate_per_100k_mid-january\": 227.78, \"pct_change\": 309.97, \"est_latino_pct\": 6.96, \"est_anglo_pct\": 79.28, \"est_black_pct\": 0.83, \"est_asian_pct\": 8.64, \"est_total_seven_more_units_pct\": 0.33, \"est_total_single_units_pct\": 25.64, \"median_house_income\": 119721.0}, {\"name\": \"Mar Vista\", \"rsa\": \"Westside\", \"est_pop\": 40425.0, \"case_rate_per_100k_mid-january\": 440.3, \"pct_change\": 367.51, \"est_latino_pct\": 26.75, \"est_anglo_pct\": 50.46, \"est_black_pct\": 3.46, \"est_asian_pct\": 15.47, \"est_total_seven_more_units_pct\": 0.95, \"est_total_single_units_pct\": 33.31, \"median_house_income\": 65894.0}, {\"name\": \"Marina del Rey\", \"rsa\": \"Westside\", \"est_pop\": 5449.0, \"case_rate_per_100k_mid-january\": 276.27, \"pct_change\": 419.99, \"est_latino_pct\": 7.76, \"est_anglo_pct\": 74.73, \"est_black_pct\": 5.23, \"est_asian_pct\": 8.44, \"est_total_seven_more_units_pct\": 0.03, \"est_total_single_units_pct\": 54.09, \"median_house_income\": 103577.0}, {\"name\": \"Maywood\", \"rsa\": \"Southeast\", \"est_pop\": 25646.0, \"case_rate_per_100k_mid-january\": 1436.77, \"pct_change\": 776.08, \"est_latino_pct\": 97.41, \"est_anglo_pct\": 1.84, \"est_black_pct\": 0.62, \"est_asian_pct\": 0.32, \"est_total_seven_more_units_pct\": 11.73, \"est_total_single_units_pct\": 9.27, \"median_house_income\": 40217.0}, {\"name\": \"Mission Hills\", \"rsa\": \"San Fernando Valley\", \"est_pop\": 22811.0, \"case_rate_per_100k_mid-january\": 1272.59, \"pct_change\": 326.39, \"est_latino_pct\": 71.58, \"est_anglo_pct\": 15.8, \"est_black_pct\": 3.19, \"est_asian_pct\": 8.18, \"est_total_seven_more_units_pct\": 10.21, \"est_total_single_units_pct\": 16.42, \"median_house_income\": 57638.0}, {\"name\": \"Monrovia\", \"rsa\": \"San Gabriel Valley\", \"est_pop\": 7456.0, \"case_rate_per_100k_mid-january\": 757.73, \"pct_change\": 454.71, \"est_latino_pct\": 53.59, \"est_anglo_pct\": 25.32, \"est_black_pct\": 6.21, \"est_asian_pct\": 13.48, \"est_total_seven_more_units_pct\": 8.28, \"est_total_single_units_pct\": 15.18, \"median_house_income\": 76834.0}, {\"name\": \"Montebello\", \"rsa\": \"Southeast\", \"est_pop\": 62804.0, \"case_rate_per_100k_mid-january\": 1129.32, \"pct_change\": 438.52, \"est_latino_pct\": 79.37, \"est_anglo_pct\": 8.47, \"est_black_pct\": 0.91, \"est_asian_pct\": 10.98, \"est_total_seven_more_units_pct\": 5.55, \"est_total_single_units_pct\": 17.52, \"median_house_income\": 52912.0}, {\"name\": \"Monterey Park\", \"rsa\": \"San Gabriel Valley\", \"est_pop\": 60701.0, \"case_rate_per_100k_mid-january\": 647.26, \"pct_change\": 549.99, \"est_latino_pct\": 27.52, \"est_anglo_pct\": 4.95, \"est_black_pct\": 0.45, \"est_asian_pct\": 66.24, \"est_total_seven_more_units_pct\": 3.63, \"est_total_single_units_pct\": 18.29, \"median_house_income\": 52411.0}, {\"name\": \"North Hills\", \"rsa\": \"San Fernando Valley\", \"est_pop\": 57632.0, \"case_rate_per_100k_mid-january\": 1211.53, \"pct_change\": 532.19, \"est_latino_pct\": 60.72, \"est_anglo_pct\": 19.21, \"est_black_pct\": 4.34, \"est_asian_pct\": 14.33, \"est_total_seven_more_units_pct\": 8.15, \"est_total_single_units_pct\": 14.41, \"median_house_income\": 48746.0}, {\"name\": \"North Hollywood\", \"rsa\": \"San Fernando Valley\", \"est_pop\": 138165.0, \"case_rate_per_100k_mid-january\": 1069.86, \"pct_change\": 398.47, \"est_latino_pct\": 53.8, \"est_anglo_pct\": 31.84, \"est_black_pct\": 4.93, \"est_asian_pct\": 7.48, \"est_total_seven_more_units_pct\": 4.44, \"est_total_single_units_pct\": 27.46, \"median_house_income\": 51079.0}, {\"name\": \"North Whittier\", \"rsa\": \"San Gabriel Valley\", \"est_pop\": 5712.0, \"case_rate_per_100k_mid-january\": 1196.17, \"pct_change\": 257.14, \"est_latino_pct\": 77.92, \"est_anglo_pct\": 10.78, \"est_black_pct\": 1.26, \"est_asian_pct\": 9.44, \"est_total_seven_more_units_pct\": 7.83, \"est_total_single_units_pct\": 11.21, \"median_house_income\": 66729.0}, {\"name\": \"Northridge\", \"rsa\": \"San Fernando Valley\", \"est_pop\": 65213.0, \"case_rate_per_100k_mid-january\": 829.55, \"pct_change\": 462.14, \"est_latino_pct\": 33.49, \"est_anglo_pct\": 40.4, \"est_black_pct\": 6.2, \"est_asian_pct\": 16.98, \"est_total_seven_more_units_pct\": 3.15, \"est_total_single_units_pct\": 23.34, \"median_house_income\": 66222.0}, {\"name\": \"Norwalk\", \"rsa\": \"Southeast\", \"est_pop\": 105741.0, \"case_rate_per_100k_mid-january\": 1391.91, \"pct_change\": 600.02, \"est_latino_pct\": 70.17, \"est_anglo_pct\": 12.28, \"est_black_pct\": 4.37, \"est_asian_pct\": 12.04, \"est_total_seven_more_units_pct\": 10.9, \"est_total_single_units_pct\": 12.59, \"median_house_income\": 64322.0}, {\"name\": \"Pacific Palisades\", \"rsa\": \"Westside\", \"est_pop\": 20620.0, \"case_rate_per_100k_mid-january\": 211.36, \"pct_change\": 309.06, \"est_latino_pct\": 4.55, \"est_anglo_pct\": 87.18, \"est_black_pct\": 0.61, \"est_asian_pct\": 4.8, \"est_total_seven_more_units_pct\": 0.36, \"est_total_single_units_pct\": 26.76, \"median_house_income\": 150673.0}, {\"name\": \"Pacoima\", \"rsa\": \"San Fernando Valley\", \"est_pop\": 72301.0, \"case_rate_per_100k_mid-january\": 1792.7, \"pct_change\": 396.4, \"est_latino_pct\": 91.1, \"est_anglo_pct\": 2.48, \"est_black_pct\": 4.42, \"est_asian_pct\": 1.77, \"est_total_seven_more_units_pct\": 21.03, \"est_total_single_units_pct\": 10.06, \"median_house_income\": 48299.0}, {\"name\": \"Palmdale\", \"rsa\": \"Antelope Valley\", \"est_pop\": 182000.0, \"case_rate_per_100k_mid-january\": 1234.84, \"pct_change\": 347.15, \"est_latino_pct\": 56.16, \"est_anglo_pct\": 22.81, \"est_black_pct\": 15.28, \"est_asian_pct\": 3.91, \"est_total_seven_more_units_pct\": 7.31, \"est_total_single_units_pct\": 13.77, \"median_house_income\": 58521.0}, {\"name\": \"Palms\", \"rsa\": \"Westside\", \"est_pop\": 39562.0, \"case_rate_per_100k_mid-january\": 818.2, \"pct_change\": 897.2, \"est_latino_pct\": 22.9, \"est_anglo_pct\": 39.51, \"est_black_pct\": 8.72, \"est_asian_pct\": 24.8, \"est_total_seven_more_units_pct\": 0.51, \"est_total_single_units_pct\": 41.26, \"median_house_income\": 58000.0}, {\"name\": \"Palos Verdes Estates\", \"rsa\": \"South Bay\", \"est_pop\": 13456.0, \"case_rate_per_100k_mid-january\": 192.28, \"pct_change\": 419.96, \"est_latino_pct\": 4.7, \"est_anglo_pct\": 73.39, \"est_black_pct\": 1.2, \"est_asian_pct\": 17.31, \"est_total_seven_more_units_pct\": 0.65, \"est_total_single_units_pct\": 16.76, \"median_house_income\": 122685.0}, {\"name\": \"Panorama City\", \"rsa\": \"San Fernando Valley\", \"est_pop\": 69792.0, \"case_rate_per_100k_mid-january\": 1499.0, \"pct_change\": 481.44, \"est_latino_pct\": 72.48, \"est_anglo_pct\": 9.39, \"est_black_pct\": 3.08, \"est_asian_pct\": 14.13, \"est_total_seven_more_units_pct\": 10.33, \"est_total_single_units_pct\": 13.77, \"median_house_income\": 46261.0}, {\"name\": \"Paramount\", \"rsa\": \"Southeast\", \"est_pop\": 54751.0, \"case_rate_per_100k_mid-january\": 1306.61, \"pct_change\": 480.95, \"est_latino_pct\": 78.83, \"est_anglo_pct\": 5.5, \"est_black_pct\": 11.66, \"est_asian_pct\": 2.98, \"est_total_seven_more_units_pct\": 10.8, \"est_total_single_units_pct\": 13.6, \"median_house_income\": 44841.0}, {\"name\": \"Pico Rivera\", \"rsa\": \"Southeast\", \"est_pop\": 64346.0, \"case_rate_per_100k_mid-january\": 1309.81, \"pct_change\": 389.54, \"est_latino_pct\": 91.1, \"est_anglo_pct\": 5.31, \"est_black_pct\": 0.96, \"est_asian_pct\": 2.55, \"est_total_seven_more_units_pct\": 10.16, \"est_total_single_units_pct\": 13.68, \"median_house_income\": 57187.0}, {\"name\": \"Pico-Union\", \"rsa\": \"Central L.A.\", \"est_pop\": 39585.0, \"case_rate_per_100k_mid-january\": 1629.94, \"pct_change\": 721.67, \"est_latino_pct\": 82.56, \"est_anglo_pct\": 2.88, \"est_black_pct\": 3.55, \"est_asian_pct\": 10.87, \"est_total_seven_more_units_pct\": 6.24, \"est_total_single_units_pct\": 24.15, \"median_house_income\": 25464.0}, {\"name\": \"Playa Vista\", \"rsa\": \"Westside\", \"est_pop\": 8895.0, \"case_rate_per_100k_mid-january\": 438.48, \"pct_change\": 269.25, \"est_latino_pct\": 18.52, \"est_anglo_pct\": 45.19, \"est_black_pct\": 9.15, \"est_asian_pct\": 22.46, \"est_total_seven_more_units_pct\": 0.61, \"est_total_single_units_pct\": 39.87, \"median_house_income\": 92920.0}, {\"name\": \"Pomona\", \"rsa\": \"Pomona Valley\", \"est_pop\": 3420.0, \"case_rate_per_100k_mid-january\": 1067.14, \"pct_change\": 271.42, \"est_latino_pct\": 29.04, \"est_anglo_pct\": 40.18, \"est_black_pct\": 7.19, \"est_asian_pct\": 18.16, \"est_total_seven_more_units_pct\": 4.74, \"est_total_single_units_pct\": 31.75, \"median_house_income\": 62112.0}, {\"name\": \"Porter Ranch\", \"rsa\": \"San Fernando Valley\", \"est_pop\": 31231.0, \"case_rate_per_100k_mid-january\": 601.33, \"pct_change\": 568.74, \"est_latino_pct\": 11.92, \"est_anglo_pct\": 52.35, \"est_black_pct\": 3.03, \"est_asian_pct\": 29.76, \"est_total_seven_more_units_pct\": 1.45, \"est_total_single_units_pct\": 14.25, \"median_house_income\": 100865.0}, {\"name\": \"Quartz Hill\", \"rsa\": \"Antelope Valley\", \"est_pop\": 10584.0, \"case_rate_per_100k_mid-january\": 798.08, \"pct_change\": 312.0, \"est_latino_pct\": 24.6, \"est_anglo_pct\": 59.6, \"est_black_pct\": 8.9, \"est_asian_pct\": 3.9, \"est_total_seven_more_units_pct\": 2.85, \"est_total_single_units_pct\": 16.1, \"median_house_income\": 80978.0}, {\"name\": \"Rancho Palos Verdes\", \"rsa\": \"South Bay\", \"est_pop\": 41096.0, \"case_rate_per_100k_mid-january\": 217.56, \"pct_change\": 615.42, \"est_latino_pct\": 8.74, \"est_anglo_pct\": 55.53, \"est_black_pct\": 2.81, \"est_asian_pct\": 29.01, \"est_total_seven_more_units_pct\": 0.74, \"est_total_single_units_pct\": 19.14, \"median_house_income\": 115929.0}, {\"name\": \"Rancho Park\", \"rsa\": \"Westside\", \"est_pop\": 6684.0, \"case_rate_per_100k_mid-january\": 304.88, \"pct_change\": 185.71, \"est_latino_pct\": 13.51, \"est_anglo_pct\": 56.88, \"est_black_pct\": 2.9, \"est_asian_pct\": 21.84, \"est_total_seven_more_units_pct\": 0.47, \"est_total_single_units_pct\": 29.17, \"median_house_income\": 78027.0}, {\"name\": \"Redondo Beach\", \"rsa\": \"South Bay\", \"est_pop\": 66497.0, \"case_rate_per_100k_mid-january\": 318.79, \"pct_change\": 291.06, \"est_latino_pct\": 15.28, \"est_anglo_pct\": 65.11, \"est_black_pct\": 2.78, \"est_asian_pct\": 12.0, \"est_total_seven_more_units_pct\": 0.55, \"est_total_single_units_pct\": 31.71, \"median_house_income\": 91210.0}, {\"name\": \"Reseda\", \"rsa\": \"San Fernando Valley\", \"est_pop\": 71395.0, \"case_rate_per_100k_mid-january\": 1296.06, \"pct_change\": 349.32, \"est_latino_pct\": 49.68, \"est_anglo_pct\": 31.44, \"est_black_pct\": 4.09, \"est_asian_pct\": 12.34, \"est_total_seven_more_units_pct\": 5.99, \"est_total_single_units_pct\": 21.22, \"median_house_income\": 61546.0}, {\"name\": \"Rolling Hills Estates\", \"rsa\": \"South Bay\", \"est_pop\": 9693.0, \"case_rate_per_100k_mid-january\": 209.54, \"pct_change\": 240.0, \"est_latino_pct\": 7.18, \"est_anglo_pct\": 62.52, \"est_black_pct\": 1.5, \"est_asian_pct\": 24.83, \"est_total_seven_more_units_pct\": 0.69, \"est_total_single_units_pct\": 19.6, \"median_house_income\": 118331.0}, {\"name\": \"Rosemead\", \"rsa\": \"San Gabriel Valley\", \"est_pop\": 51849.0, \"case_rate_per_100k_mid-january\": 816.62, \"pct_change\": 527.78, \"est_latino_pct\": 34.14, \"est_anglo_pct\": 4.79, \"est_black_pct\": 0.49, \"est_asian_pct\": 60.2, \"est_total_seven_more_units_pct\": 9.21, \"est_total_single_units_pct\": 12.14, \"median_house_income\": 50658.0}, {\"name\": \"Rowland Heights\", \"rsa\": \"San Gabriel Valley\", \"est_pop\": 47848.0, \"case_rate_per_100k_mid-january\": 591.9, \"pct_change\": 516.31, \"est_latino_pct\": 25.23, \"est_anglo_pct\": 11.99, \"est_black_pct\": 1.77, \"est_asian_pct\": 59.52, \"est_total_seven_more_units_pct\": 4.93, \"est_total_single_units_pct\": 10.55, \"median_house_income\": 76878.0}, {\"name\": \"San Dimas\", \"rsa\": \"San Gabriel Valley\", \"est_pop\": 32875.0, \"case_rate_per_100k_mid-january\": 793.83, \"pct_change\": 315.14, \"est_latino_pct\": 32.1, \"est_anglo_pct\": 51.69, \"est_black_pct\": 3.31, \"est_asian_pct\": 10.31, \"est_total_seven_more_units_pct\": 1.99, \"est_total_single_units_pct\": 21.49, \"median_house_income\": 82784.0}, {\"name\": \"San Fernando\", \"rsa\": \"San Fernando Valley\", \"est_pop\": 23624.0, \"case_rate_per_100k_mid-january\": 1751.18, \"pct_change\": 384.27, \"est_latino_pct\": 92.47, \"est_anglo_pct\": 5.33, \"est_black_pct\": 0.94, \"est_asian_pct\": 1.05, \"est_total_seven_more_units_pct\": 11.59, \"est_total_single_units_pct\": 12.25, \"median_house_income\": 55724.0}, {\"name\": \"San Gabriel\", \"rsa\": \"San Gabriel Valley\", \"est_pop\": 40759.0, \"case_rate_per_100k_mid-january\": 764.27, \"pct_change\": 251.68, \"est_latino_pct\": 26.14, \"est_anglo_pct\": 11.48, \"est_black_pct\": 0.99, \"est_asian_pct\": 60.11, \"est_total_seven_more_units_pct\": 4.55, \"est_total_single_units_pct\": 16.72, \"median_house_income\": 71941.0}, {\"name\": \"San Marino\", \"rsa\": \"San Gabriel Valley\", \"est_pop\": 13167.0, \"case_rate_per_100k_mid-january\": 316.34, \"pct_change\": 2000.53, \"est_latino_pct\": 6.65, \"est_anglo_pct\": 37.06, \"est_black_pct\": 0.44, \"est_asian_pct\": 53.38, \"est_total_seven_more_units_pct\": 1.24, \"est_total_single_units_pct\": 12.41, \"median_house_income\": 102973.0}, {\"name\": \"San Pedro\", \"rsa\": \"Harbor\", \"est_pop\": 73453.0, \"case_rate_per_100k_mid-january\": 668.9, \"pct_change\": 667.62, \"est_latino_pct\": 47.73, \"est_anglo_pct\": 37.72, \"est_black_pct\": 6.7, \"est_asian_pct\": 5.12, \"est_total_seven_more_units_pct\": 2.2, \"est_total_single_units_pct\": 29.95, \"median_house_income\": 61396.0}, {\"name\": \"Santa Clarita\", \"rsa\": \"Northwest County\", \"est_pop\": 196572.0, \"case_rate_per_100k_mid-january\": 713.17, \"pct_change\": 292.02, \"est_latino_pct\": 29.72, \"est_anglo_pct\": 53.82, \"est_black_pct\": 3.82, \"est_asian_pct\": 9.78, \"est_total_seven_more_units_pct\": 2.82, \"est_total_single_units_pct\": 18.9, \"median_house_income\": 86748.0}, {\"name\": \"Santa Fe Springs\", \"rsa\": \"Southeast\", \"est_pop\": 20725.0, \"case_rate_per_100k_mid-january\": 1236.11, \"pct_change\": 931.81, \"est_latino_pct\": 82.49, \"est_anglo_pct\": 10.95, \"est_black_pct\": 2.03, \"est_asian_pct\": 3.88, \"est_total_seven_more_units_pct\": 8.49, \"est_total_single_units_pct\": 16.82, \"median_house_income\": 64520.0}, {\"name\": \"Santa Monica\", \"rsa\": \"Westside\", \"est_pop\": 89687.0, \"case_rate_per_100k_mid-january\": 390.5, \"pct_change\": 203.37, \"est_latino_pct\": 13.04, \"est_anglo_pct\": 70.13, \"est_black_pct\": 3.93, \"est_asian_pct\": 8.97, \"est_total_seven_more_units_pct\": 0.31, \"est_total_single_units_pct\": 48.41, \"median_house_income\": 80359.0}, {\"name\": \"Shadow Hills\", \"rsa\": \"San Fernando Valley\", \"est_pop\": 4458.0, \"case_rate_per_100k_mid-january\": 765.42, \"pct_change\": 749.99, \"est_latino_pct\": 24.99, \"est_anglo_pct\": 65.66, \"est_black_pct\": 0.96, \"est_asian_pct\": 5.85, \"est_total_seven_more_units_pct\": 4.06, \"est_total_single_units_pct\": 18.02, \"median_house_income\": 65422.0}, {\"name\": \"Sherman Oaks\", \"rsa\": \"San Fernando Valley\", \"est_pop\": 83542.0, \"case_rate_per_100k_mid-january\": 506.57, \"pct_change\": 365.26, \"est_latino_pct\": 14.24, \"est_anglo_pct\": 70.44, \"est_black_pct\": 5.25, \"est_asian_pct\": 6.8, \"est_total_seven_more_units_pct\": 0.42, \"est_total_single_units_pct\": 37.57, \"median_house_income\": 92149.0}, {\"name\": \"Sierra Madre\", \"rsa\": \"San Gabriel Valley\", \"est_pop\": 10920.0, \"case_rate_per_100k_mid-january\": 254.8, \"pct_change\": 211.11, \"est_latino_pct\": 14.91, \"est_anglo_pct\": 72.23, \"est_black_pct\": 1.84, \"est_asian_pct\": 7.7, \"est_total_seven_more_units_pct\": 0.66, \"est_total_single_units_pct\": 32.97, \"median_house_income\": 109401.0}, {\"name\": \"Signal Hill\", \"rsa\": \"Harbor\", \"est_pop\": 11033.0, \"case_rate_per_100k_mid-january\": 737.48, \"pct_change\": 335.01, \"est_latino_pct\": 31.54, \"est_anglo_pct\": 30.14, \"est_black_pct\": 13.6, \"est_asian_pct\": 20.56, \"est_total_seven_more_units_pct\": 2.67, \"est_total_single_units_pct\": 27.06, \"median_house_income\": 58112.0}, {\"name\": \"South El Monte\", \"rsa\": \"San Gabriel Valley\", \"est_pop\": 21675.0, \"case_rate_per_100k_mid-january\": 1345.46, \"pct_change\": 430.19, \"est_latino_pct\": 84.51, \"est_anglo_pct\": 3.04, \"est_black_pct\": 0.55, \"est_asian_pct\": 11.79, \"est_total_seven_more_units_pct\": 16.74, \"est_total_single_units_pct\": 7.36, \"median_house_income\": 49914.0}, {\"name\": \"South Gate\", \"rsa\": \"Southeast\", \"est_pop\": 94030.0, \"case_rate_per_100k_mid-january\": 1622.94, \"pct_change\": 624.07, \"est_latino_pct\": 94.76, \"est_anglo_pct\": 3.41, \"est_black_pct\": 0.96, \"est_asian_pct\": 0.77, \"est_total_seven_more_units_pct\": 11.52, \"est_total_single_units_pct\": 9.85, \"median_house_income\": 43657.0}, {\"name\": \"South Park\", \"rsa\": \"South L.A.\", \"est_pop\": 36543.0, \"case_rate_per_100k_mid-january\": 1448.86, \"pct_change\": 643.23, \"est_latino_pct\": 84.81, \"est_anglo_pct\": 0.82, \"est_black_pct\": 14.03, \"est_asian_pct\": 0.38, \"est_total_seven_more_units_pct\": 16.66, \"est_total_single_units_pct\": 12.36, \"median_house_income\": 29151.0}, {\"name\": \"South Pasadena\", \"rsa\": \"San Gabriel Valley\", \"est_pop\": 25549.0, \"case_rate_per_100k_mid-january\": 387.67, \"pct_change\": 303.99, \"est_latino_pct\": 18.63, \"est_anglo_pct\": 43.6, \"est_black_pct\": 3.01, \"est_asian_pct\": 31.15, \"est_total_seven_more_units_pct\": 0.64, \"est_total_single_units_pct\": 29.34, \"median_house_income\": 82779.0}, {\"name\": \"South San Gabriel\", \"rsa\": \"San Gabriel Valley\", \"est_pop\": 10037.0, \"case_rate_per_100k_mid-january\": 1039.78, \"pct_change\": 1049.94, \"est_latino_pct\": 41.25, \"est_anglo_pct\": 5.32, \"est_black_pct\": 1.03, \"est_asian_pct\": 51.53, \"est_total_seven_more_units_pct\": 7.32, \"est_total_single_units_pct\": 15.04, \"median_house_income\": 56080.0}, {\"name\": \"South Whittier\", \"rsa\": \"Southeast\", \"est_pop\": 52700.0, \"case_rate_per_100k_mid-january\": 918.58, \"pct_change\": 418.09, \"est_latino_pct\": 76.53, \"est_anglo_pct\": 17.22, \"est_black_pct\": 1.53, \"est_asian_pct\": 4.06, \"est_total_seven_more_units_pct\": 9.69, \"est_total_single_units_pct\": 13.21, \"median_house_income\": 64469.0}, {\"name\": \"Stevenson Ranch\", \"rsa\": \"Northwest County\", \"est_pop\": 21096.0, \"case_rate_per_100k_mid-january\": 443.58, \"pct_change\": 389.49, \"est_latino_pct\": 15.49, \"est_anglo_pct\": 54.31, \"est_black_pct\": 3.39, \"est_asian_pct\": 23.11, \"est_total_seven_more_units_pct\": 1.29, \"est_total_single_units_pct\": 15.43, \"median_house_income\": 97742.0}, {\"name\": \"Studio City\", \"rsa\": \"San Fernando Valley\", \"est_pop\": 21170.0, \"case_rate_per_100k_mid-january\": 383.24, \"pct_change\": 329.98, \"est_latino_pct\": 10.16, \"est_anglo_pct\": 75.23, \"est_black_pct\": 4.33, \"est_asian_pct\": 6.85, \"est_total_seven_more_units_pct\": 0.26, \"est_total_single_units_pct\": 39.45, \"median_house_income\": 106852.0}, {\"name\": \"Sun Valley\", \"rsa\": \"San Fernando Valley\", \"est_pop\": 54668.0, \"case_rate_per_100k_mid-january\": 1522.4, \"pct_change\": 451.04, \"est_latino_pct\": 70.41, \"est_anglo_pct\": 19.41, \"est_black_pct\": 1.79, \"est_asian_pct\": 7.25, \"est_total_seven_more_units_pct\": 12.08, \"est_total_single_units_pct\": 13.77, \"median_house_income\": 61122.0}, {\"name\": \"Sun Village\", \"rsa\": \"Antelope Valley\", \"est_pop\": 2720.0, \"case_rate_per_100k_mid-january\": 1192.84, \"pct_change\": 414.29, \"est_latino_pct\": 67.9, \"est_anglo_pct\": 18.16, \"est_black_pct\": 11.4, \"est_asian_pct\": 1.8, \"est_total_seven_more_units_pct\": 14.7, \"est_total_single_units_pct\": 11.06, \"median_house_income\": 48682.0}, {\"name\": \"Sunland\", \"rsa\": \"Verdugos\", \"est_pop\": 17757.0, \"case_rate_per_100k_mid-january\": 867.31, \"pct_change\": 490.01, \"est_latino_pct\": 26.07, \"est_anglo_pct\": 59.98, \"est_black_pct\": 1.89, \"est_asian_pct\": 9.03, \"est_total_seven_more_units_pct\": 2.31, \"est_total_single_units_pct\": 23.83, \"median_house_income\": 63333.0}, {\"name\": \"Sylmar\", \"rsa\": \"San Fernando Valley\", \"est_pop\": 75215.0, \"case_rate_per_100k_mid-january\": 1558.29, \"pct_change\": 426.24, \"est_latino_pct\": 77.88, \"est_anglo_pct\": 12.59, \"est_black_pct\": 3.65, \"est_asian_pct\": 5.14, \"est_total_seven_more_units_pct\": 11.08, \"est_total_single_units_pct\": 12.15, \"median_house_income\": 59657.0}, {\"name\": \"Tarzana\", \"rsa\": \"San Fernando Valley\", \"est_pop\": 28146.0, \"case_rate_per_100k_mid-january\": 796.74, \"pct_change\": 228.0, \"est_latino_pct\": 14.8, \"est_anglo_pct\": 69.54, \"est_black_pct\": 4.49, \"est_asian_pct\": 6.55, \"est_total_seven_more_units_pct\": 0.97, \"est_total_single_units_pct\": 28.62, \"median_house_income\": 84258.0}, {\"name\": \"Temple City\", \"rsa\": \"San Gabriel Valley\", \"est_pop\": 36695.0, \"case_rate_per_100k_mid-january\": 460.84, \"pct_change\": 546.16, \"est_latino_pct\": 19.46, \"est_anglo_pct\": 22.94, \"est_black_pct\": 0.91, \"est_asian_pct\": 55.21, \"est_total_seven_more_units_pct\": 2.97, \"est_total_single_units_pct\": 18.6, \"median_house_income\": 67104.0}, {\"name\": \"Toluca Lake\", \"rsa\": \"San Fernando Valley\", \"est_pop\": 7988.0, \"case_rate_per_100k_mid-january\": 379.14, \"pct_change\": 266.67, \"est_latino_pct\": 13.88, \"est_anglo_pct\": 70.09, \"est_black_pct\": 5.96, \"est_asian_pct\": 6.86, \"est_total_seven_more_units_pct\": 0.29, \"est_total_single_units_pct\": 42.59, \"median_house_income\": 67600.0}, {\"name\": \"Torrance\", \"rsa\": \"South Bay\", \"est_pop\": 145094.0, \"case_rate_per_100k_mid-january\": 407.99, \"pct_change\": 584.32, \"est_latino_pct\": 16.17, \"est_anglo_pct\": 42.26, \"est_black_pct\": 2.73, \"est_asian_pct\": 34.57, \"est_total_seven_more_units_pct\": 1.1, \"est_total_single_units_pct\": 25.8, \"median_house_income\": 77056.0}, {\"name\": \"Tujunga\", \"rsa\": \"Verdugos\", \"est_pop\": 26865.0, \"case_rate_per_100k_mid-january\": 880.98, \"pct_change\": 544.75, \"est_latino_pct\": 25.69, \"est_anglo_pct\": 59.74, \"est_black_pct\": 1.77, \"est_asian_pct\": 9.4, \"est_total_seven_more_units_pct\": 2.13, \"est_total_single_units_pct\": 23.74, \"median_house_income\": 66488.0}, {\"name\": \"University Park\", \"rsa\": \"South L.A.\", \"est_pop\": 24334.0, \"case_rate_per_100k_mid-january\": 790.36, \"pct_change\": 267.8, \"est_latino_pct\": 46.29, \"est_anglo_pct\": 23.67, \"est_black_pct\": 7.22, \"est_asian_pct\": 20.35, \"est_total_seven_more_units_pct\": 5.29, \"est_total_single_units_pct\": 31.48, \"median_house_income\": 20732.0}, {\"name\": \"Val Verde\", \"rsa\": \"Northwest County\", \"est_pop\": 3116.0, \"case_rate_per_100k_mid-january\": 634.63, \"pct_change\": 425.01, \"est_latino_pct\": 54.69, \"est_anglo_pct\": 36.68, \"est_black_pct\": 3.69, \"est_asian_pct\": 2.31, \"est_total_seven_more_units_pct\": 8.0, \"est_total_single_units_pct\": 14.86, \"median_house_income\": 105961.0}, {\"name\": \"Valinda\", \"rsa\": \"San Gabriel Valley\", \"est_pop\": 19066.0, \"case_rate_per_100k_mid-january\": 1347.82, \"pct_change\": 356.52, \"est_latino_pct\": 73.48, \"est_anglo_pct\": 7.44, \"est_black_pct\": 2.56, \"est_asian_pct\": 16.01, \"est_total_seven_more_units_pct\": 16.35, \"est_total_single_units_pct\": 9.13, \"median_house_income\": 64360.0}, {\"name\": \"Valley Glen\", \"rsa\": \"San Fernando Valley\", \"est_pop\": 26552.0, \"case_rate_per_100k_mid-january\": 946.16, \"pct_change\": 407.13, \"est_latino_pct\": 42.16, \"est_anglo_pct\": 46.55, \"est_black_pct\": 4.04, \"est_asian_pct\": 5.45, \"est_total_seven_more_units_pct\": 2.88, \"est_total_single_units_pct\": 24.69, \"median_house_income\": 50539.0}, {\"name\": \"Valley Village\", \"rsa\": \"San Fernando Valley\", \"est_pop\": 22526.0, \"case_rate_per_100k_mid-january\": 582.52, \"pct_change\": 585.72, \"est_latino_pct\": 19.57, \"est_anglo_pct\": 65.89, \"est_black_pct\": 5.58, \"est_asian_pct\": 5.5, \"est_total_seven_more_units_pct\": 0.63, \"est_total_single_units_pct\": 40.55, \"median_house_income\": 59166.0}, {\"name\": \"Van Nuys\", \"rsa\": \"San Fernando Valley\", \"est_pop\": 87546.0, \"case_rate_per_100k_mid-january\": 1206.09, \"pct_change\": 388.69, \"est_latino_pct\": 63.82, \"est_anglo_pct\": 22.15, \"est_black_pct\": 5.34, \"est_asian_pct\": 7.2, \"est_total_seven_more_units_pct\": 4.96, \"est_total_single_units_pct\": 22.63, \"median_house_income\": 42392.0}, {\"name\": \"Venice\", \"rsa\": \"Westside\", \"est_pop\": 32441.0, \"case_rate_per_100k_mid-january\": 309.87, \"pct_change\": 200.0, \"est_latino_pct\": 18.64, \"est_anglo_pct\": 66.61, \"est_black_pct\": 5.26, \"est_asian_pct\": 5.68, \"est_total_seven_more_units_pct\": 0.7, \"est_total_single_units_pct\": 44.8, \"median_house_income\": 78406.0}, {\"name\": \"Vermont Knolls\", \"rsa\": \"South L.A.\", \"est_pop\": 16689.0, \"case_rate_per_100k_mid-january\": 1226.74, \"pct_change\": 559.36, \"est_latino_pct\": 50.43, \"est_anglo_pct\": 0.87, \"est_black_pct\": 47.32, \"est_asian_pct\": 0.49, \"est_total_seven_more_units_pct\": 7.82, \"est_total_single_units_pct\": 25.03, \"median_house_income\": 32283.0}, {\"name\": \"Vermont Square\", \"rsa\": \"South L.A.\", \"est_pop\": 7049.0, \"case_rate_per_100k_mid-january\": 1828.39, \"pct_change\": 1066.66, \"est_latino_pct\": 63.4, \"est_anglo_pct\": 1.01, \"est_black_pct\": 34.66, \"est_asian_pct\": 0.21, \"est_total_seven_more_units_pct\": 15.17, \"est_total_single_units_pct\": 18.3, \"median_house_income\": 30912.0}, {\"name\": \"Vermont Vista\", \"rsa\": \"South L.A.\", \"est_pop\": 37988.0, \"case_rate_per_100k_mid-january\": 1522.36, \"pct_change\": 724.99, \"est_latino_pct\": 67.98, \"est_anglo_pct\": 1.01, \"est_black_pct\": 30.34, \"est_asian_pct\": 0.23, \"est_total_seven_more_units_pct\": 12.44, \"est_total_single_units_pct\": 15.87, \"median_house_income\": 30148.0}, {\"name\": \"Walnut\", \"rsa\": \"San Gabriel Valley\", \"est_pop\": 42693.0, \"case_rate_per_100k_mid-january\": 465.09, \"pct_change\": 358.08, \"est_latino_pct\": 19.84, \"est_anglo_pct\": 12.83, \"est_black_pct\": 2.81, \"est_asian_pct\": 62.72, \"est_total_seven_more_units_pct\": 3.56, \"est_total_single_units_pct\": 7.5, \"median_house_income\": 87042.0}, {\"name\": \"Walnut Park\", \"rsa\": \"Southeast\", \"est_pop\": 15976.0, \"case_rate_per_100k_mid-january\": 1827.42, \"pct_change\": 851.63, \"est_latino_pct\": 97.35, \"est_anglo_pct\": 1.68, \"est_black_pct\": 0.44, \"est_asian_pct\": 0.56, \"est_total_seven_more_units_pct\": 17.62, \"est_total_single_units_pct\": 8.77, \"median_house_income\": 37496.0}, {\"name\": \"Watts\", \"rsa\": \"South L.A.\", \"est_pop\": 40442.0, \"case_rate_per_100k_mid-january\": 1478.65, \"pct_change\": 752.69, \"est_latino_pct\": 70.18, \"est_anglo_pct\": 0.87, \"est_black_pct\": 28.29, \"est_asian_pct\": 0.3, \"est_total_seven_more_units_pct\": 17.22, \"est_total_single_units_pct\": 13.22, \"median_house_income\": 34490.0}, {\"name\": \"West Adams\", \"rsa\": \"South L.A.\", \"est_pop\": 26550.0, \"case_rate_per_100k_mid-january\": 1234.17, \"pct_change\": 408.96, \"est_latino_pct\": 63.51, \"est_anglo_pct\": 4.75, \"est_black_pct\": 25.14, \"est_asian_pct\": 5.42, \"est_total_seven_more_units_pct\": 5.23, \"est_total_single_units_pct\": 28.38, \"median_house_income\": 27137.0}, {\"name\": \"West Carson\", \"rsa\": \"Harbor\", \"est_pop\": 23007.0, \"case_rate_per_100k_mid-january\": 756.14, \"pct_change\": 659.1, \"est_latino_pct\": 32.78, \"est_anglo_pct\": 20.65, \"est_black_pct\": 10.64, \"est_asian_pct\": 31.75, \"est_total_seven_more_units_pct\": 3.98, \"est_total_single_units_pct\": 23.35, \"median_house_income\": 61618.0}, {\"name\": \"West Covina\", \"rsa\": \"San Gabriel Valley\", \"est_pop\": 106347.0, \"case_rate_per_100k_mid-january\": 875.87, \"pct_change\": 441.7, \"est_latino_pct\": 54.68, \"est_anglo_pct\": 15.09, \"est_black_pct\": 4.23, \"est_asian_pct\": 24.76, \"est_total_seven_more_units_pct\": 6.01, \"est_total_single_units_pct\": 14.55, \"median_house_income\": 69378.0}, {\"name\": \"West Hills\", \"rsa\": \"San Fernando Valley\", \"est_pop\": 35809.0, \"case_rate_per_100k_mid-january\": 562.34, \"pct_change\": 635.47, \"est_latino_pct\": 15.31, \"est_anglo_pct\": 64.76, \"est_black_pct\": 2.94, \"est_asian_pct\": 13.44, \"est_total_seven_more_units_pct\": 1.87, \"est_total_single_units_pct\": 16.34, \"median_house_income\": 82740.0}, {\"name\": \"West Hollywood\", \"rsa\": \"Central L.A.\", \"est_pop\": 34561.0, \"case_rate_per_100k_mid-january\": 308.52, \"pct_change\": 46.16, \"est_latino_pct\": 10.5, \"est_anglo_pct\": 77.88, \"est_black_pct\": 3.25, \"est_asian_pct\": 5.45, \"est_total_seven_more_units_pct\": 0.06, \"est_total_single_units_pct\": 59.63, \"median_house_income\": 68987.0}, {\"name\": \"West Los Angeles\", \"rsa\": \"Westside\", \"est_pop\": 34087.0, \"case_rate_per_100k_mid-january\": 576.58, \"pct_change\": 442.51, \"est_latino_pct\": 18.03, \"est_anglo_pct\": 53.67, \"est_black_pct\": 2.72, \"est_asian_pct\": 21.11, \"est_total_seven_more_units_pct\": 0.63, \"est_total_single_units_pct\": 43.24, \"median_house_income\": 66910.0}, {\"name\": \"West Puente Valley\", \"rsa\": \"San Gabriel Valley\", \"est_pop\": 9283.0, \"case_rate_per_100k_mid-january\": 1504.83, \"pct_change\": 825.02, \"est_latino_pct\": 84.98, \"est_anglo_pct\": 5.48, \"est_black_pct\": 1.63, \"est_asian_pct\": 7.58, \"est_total_seven_more_units_pct\": 19.74, \"est_total_single_units_pct\": 6.88, \"median_house_income\": 63607.0}, {\"name\": \"Westchester\", \"rsa\": \"South Bay\", \"est_pop\": 48110.0, \"case_rate_per_100k_mid-january\": 331.38, \"pct_change\": 288.62, \"est_latino_pct\": 16.61, \"est_anglo_pct\": 53.59, \"est_black_pct\": 13.5, \"est_asian_pct\": 11.64, \"est_total_seven_more_units_pct\": 0.54, \"est_total_single_units_pct\": 33.73, \"median_house_income\": 78483.0}, {\"name\": \"Westlake\", \"rsa\": \"Central L.A.\", \"est_pop\": 54607.0, \"case_rate_per_100k_mid-january\": 1068.15, \"pct_change\": 527.73, \"est_latino_pct\": 72.54, \"est_anglo_pct\": 6.58, \"est_black_pct\": 5.2, \"est_asian_pct\": 14.9, \"est_total_seven_more_units_pct\": 3.8, \"est_total_single_units_pct\": 32.69, \"median_house_income\": 27435.0}, {\"name\": \"Westlake Village\", \"rsa\": \"Santa Monica Mountains\", \"est_pop\": 6704.0, \"case_rate_per_100k_mid-january\": 47.85, \"pct_change\": 300.08, \"est_latino_pct\": 7.2, \"est_anglo_pct\": 82.59, \"est_black_pct\": 1.46, \"est_asian_pct\": 5.89, \"est_total_seven_more_units_pct\": 0.6, \"est_total_single_units_pct\": 22.83, \"median_house_income\": 124822.0}, {\"name\": \"Westwood\", \"rsa\": \"Westside\", \"est_pop\": 51545.0, \"case_rate_per_100k_mid-january\": 578.46, \"pct_change\": 469.07, \"est_latino_pct\": 8.76, \"est_anglo_pct\": 58.51, \"est_black_pct\": 2.19, \"est_asian_pct\": 25.72, \"est_total_seven_more_units_pct\": 0.25, \"est_total_single_units_pct\": 41.14, \"median_house_income\": 101358.0}, {\"name\": \"Whittier\", \"rsa\": \"San Gabriel Valley\", \"est_pop\": 98003.0, \"case_rate_per_100k_mid-january\": 902.42, \"pct_change\": 319.69, \"est_latino_pct\": 65.39, \"est_anglo_pct\": 27.9, \"est_black_pct\": 1.26, \"est_asian_pct\": 4.54, \"est_total_seven_more_units_pct\": 3.55, \"est_total_single_units_pct\": 20.61, \"median_house_income\": 71326.0}, {\"name\": \"Willowbrook\", \"rsa\": \"South L.A.\", \"est_pop\": 32899.0, \"case_rate_per_100k_mid-january\": 1371.98, \"pct_change\": 594.22, \"est_latino_pct\": 64.46, \"est_anglo_pct\": 0.75, \"est_black_pct\": 33.98, \"est_asian_pct\": 0.29, \"est_total_seven_more_units_pct\": 16.15, \"est_total_single_units_pct\": 15.14, \"median_house_income\": 42410.0}, {\"name\": \"Wilmington\", \"rsa\": \"Harbor\", \"est_pop\": 52431.0, \"case_rate_per_100k_mid-january\": 1129.46, \"pct_change\": 586.02, \"est_latino_pct\": 90.12, \"est_anglo_pct\": 4.38, \"est_black_pct\": 2.69, \"est_asian_pct\": 1.94, \"est_total_seven_more_units_pct\": 10.28, \"est_total_single_units_pct\": 13.06, \"median_house_income\": 47699.0}, {\"name\": \"Winnetka\", \"rsa\": \"San Fernando Valley\", \"est_pop\": 51868.0, \"case_rate_per_100k_mid-january\": 990.62, \"pct_change\": 418.19, \"est_latino_pct\": 49.01, \"est_anglo_pct\": 26.64, \"est_black_pct\": 5.2, \"est_asian_pct\": 16.87, \"est_total_seven_more_units_pct\": 5.64, \"est_total_single_units_pct\": 18.0, \"median_house_income\": 62043.0}, {\"name\": \"Woodland Hills\", \"rsa\": \"San Fernando Valley\", \"est_pop\": 59613.0, \"case_rate_per_100k_mid-january\": 564.25, \"pct_change\": 317.41, \"est_latino_pct\": 10.67, \"est_anglo_pct\": 71.26, \"est_black_pct\": 4.37, \"est_asian_pct\": 9.3, \"est_total_seven_more_units_pct\": 0.74, \"est_total_single_units_pct\": 27.05, \"median_house_income\": 96823.0}]}}, {\"mode\": \"vega-lite\"});\n",
       "</script>"
      ],
      "text/plain": [
       "alt.LayerChart(...)"
      ]
     },
     "execution_count": 108,
     "metadata": {},
     "output_type": "execute_result"
    }
   ],
   "source": [
    "scatter = (\n",
    "    alt.Chart(surge_demos_slim)\n",
    "    .mark_circle(size=100)\n",
    "    .encode(\n",
    "        x=\"median_house_income:Q\",\n",
    "        y=\"case_rate_per_100k_mid-january:Q\",\n",
    "        color=alt.Color(\"rsa\", scale=alt.Scale(scheme=\"category20\")),\n",
    "        size=\"est_pop:Q\",\n",
    "        tooltip=[\n",
    "            \"name\",\n",
    "            \"est_pop\",\n",
    "            \"case_rate_per_100k_mid-january\",\n",
    "            \"est_total_seven_more_units_pct\",\n",
    "        ],\n",
    "    )\n",
    ")\n",
    "\n",
    "text = (\n",
    "    alt.Chart(surge_demos_slim)\n",
    "    .mark_text(align=\"left\", baseline=\"middle\", dx=7)\n",
    "    .encode(\n",
    "        x=\"median_house_income:Q\",\n",
    "        y=\"case_rate_per_100k_mid-january:Q\",\n",
    "        text=\"name\",\n",
    "    )\n",
    ")\n",
    "\n",
    "(scatter + text).properties(width=1000, height=1000)"
   ]
  },
  {
   "cell_type": "code",
   "execution_count": 103,
   "metadata": {},
   "outputs": [],
   "source": [
    "(scatter + text).properties(width=2000, height=2000).save(\n",
    "    \"visuals/places_scatter_house_income.png\"\n",
    ")"
   ]
  },
  {
   "cell_type": "code",
   "execution_count": 104,
   "metadata": {},
   "outputs": [],
   "source": [
    "min_max_minimultiples.properties(width=2000, height=2000).save(\n",
    "    \"visuals/min_max_minimultiples.png\"\n",
    ")"
   ]
  },
  {
   "cell_type": "code",
   "execution_count": 105,
   "metadata": {},
   "outputs": [],
   "source": [
    "twocities_chart2.properties(width=2000, height=2000).save(\n",
    "    \"visuals/twocities_chart2.png\"\n",
    ")"
   ]
  },
  {
   "cell_type": "code",
   "execution_count": 106,
   "metadata": {},
   "outputs": [],
   "source": [
    "twocities_chart.properties(width=2000, height=2000).save(\"visuals/twocities_chart.png\")"
   ]
  },
  {
   "cell_type": "code",
   "execution_count": null,
   "metadata": {},
   "outputs": [],
   "source": []
  }
 ],
 "metadata": {
  "kernelspec": {
   "display_name": "Python 3",
   "language": "python",
   "name": "python3"
  },
  "language_info": {
   "codemirror_mode": {
    "name": "ipython",
    "version": 3
   },
   "file_extension": ".py",
   "mimetype": "text/x-python",
   "name": "python",
   "nbconvert_exporter": "python",
   "pygments_lexer": "ipython3",
   "version": "3.7.4"
  }
 },
 "nbformat": 4,
 "nbformat_minor": 5
}
