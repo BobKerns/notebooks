{
 "cells": [
  {
   "cell_type": "markdown",
   "metadata": {},
   "source": [
    "# Coronavirus vaccine administration by county"
   ]
  },
  {
   "cell_type": "markdown",
   "metadata": {},
   "source": [
    "### Load Python tools"
   ]
  },
  {
   "cell_type": "code",
   "execution_count": 1,
   "metadata": {},
   "outputs": [],
   "source": [
    "%load_ext lab_black"
   ]
  },
  {
   "cell_type": "code",
   "execution_count": 2,
   "metadata": {},
   "outputs": [],
   "source": [
    "import pandas as pd\n",
    "import geopandas as gpd\n",
    "import altair as alt\n",
    "import altair_latimes as lat"
   ]
  },
  {
   "cell_type": "code",
   "execution_count": 3,
   "metadata": {},
   "outputs": [
    {
     "data": {
      "text/plain": [
       "DataTransformerRegistry.enable('default')"
      ]
     },
     "execution_count": 3,
     "metadata": {},
     "output_type": "execute_result"
    }
   ],
   "source": [
    "alt.themes.register(\"latimes\", lat.theme)\n",
    "alt.themes.enable(\"latimes\")\n",
    "pd.options.display.max_columns = 50\n",
    "pd.options.display.max_rows = 1000\n",
    "alt.data_transformers.disable_max_rows()"
   ]
  },
  {
   "cell_type": "markdown",
   "metadata": {},
   "source": [
    "### Get the county-level data from CDC"
   ]
  },
  {
   "cell_type": "code",
   "execution_count": 4,
   "metadata": {},
   "outputs": [],
   "source": [
    "# Pulled from here: https://covid.cdc.gov/covid-data-tracker/#county-view"
   ]
  },
  {
   "cell_type": "code",
   "execution_count": 5,
   "metadata": {},
   "outputs": [],
   "source": [
    "url = \"https://covid.cdc.gov/covid-data-tracker/COVIDData/getAjaxData?id=vaccination_county_condensed_data\""
   ]
  },
  {
   "cell_type": "code",
   "execution_count": 6,
   "metadata": {},
   "outputs": [],
   "source": [
    "df_nested = pd.read_json(url)"
   ]
  },
  {
   "cell_type": "markdown",
   "metadata": {},
   "source": [
    "### Extract the nested data"
   ]
  },
  {
   "cell_type": "code",
   "execution_count": 7,
   "metadata": {},
   "outputs": [],
   "source": [
    "df = pd.json_normalize(df_nested[\"vaccination_county_condensed_data\"])"
   ]
  },
  {
   "cell_type": "code",
   "execution_count": 16,
   "metadata": {},
   "outputs": [
    {
     "data": {
      "text/html": [
       "<div>\n",
       "<style scoped>\n",
       "    .dataframe tbody tr th:only-of-type {\n",
       "        vertical-align: middle;\n",
       "    }\n",
       "\n",
       "    .dataframe tbody tr th {\n",
       "        vertical-align: top;\n",
       "    }\n",
       "\n",
       "    .dataframe thead th {\n",
       "        text-align: right;\n",
       "    }\n",
       "</style>\n",
       "<table border=\"1\" class=\"dataframe\">\n",
       "  <thead>\n",
       "    <tr style=\"text-align: right;\">\n",
       "      <th></th>\n",
       "      <th>date</th>\n",
       "      <th>fips</th>\n",
       "      <th>statename</th>\n",
       "      <th>stateabbr</th>\n",
       "      <th>county</th>\n",
       "      <th>series_complete_18plus</th>\n",
       "      <th>series_complete_18pluspop_pct</th>\n",
       "      <th>series_complete_65plus</th>\n",
       "      <th>series_complete_65pluspop_pct</th>\n",
       "      <th>series_complete_yes</th>\n",
       "      <th>series_complete_pop_pct</th>\n",
       "      <th>completeness_pct</th>\n",
       "      <th>month</th>\n",
       "    </tr>\n",
       "  </thead>\n",
       "  <tbody>\n",
       "    <tr>\n",
       "      <th>0</th>\n",
       "      <td>2021-03-26</td>\n",
       "      <td>01001</td>\n",
       "      <td>Alabama</td>\n",
       "      <td>AL</td>\n",
       "      <td>Autauga</td>\n",
       "      <td>4638.0</td>\n",
       "      <td>10.8</td>\n",
       "      <td>2491.0</td>\n",
       "      <td>27.9</td>\n",
       "      <td>4639.0</td>\n",
       "      <td>8.3</td>\n",
       "      <td>93.5</td>\n",
       "      <td>3</td>\n",
       "    </tr>\n",
       "    <tr>\n",
       "      <th>1</th>\n",
       "      <td>2021-03-26</td>\n",
       "      <td>01003</td>\n",
       "      <td>Alabama</td>\n",
       "      <td>AL</td>\n",
       "      <td>Baldwin</td>\n",
       "      <td>29522.0</td>\n",
       "      <td>16.8</td>\n",
       "      <td>19428.0</td>\n",
       "      <td>41.5</td>\n",
       "      <td>29532.0</td>\n",
       "      <td>13.2</td>\n",
       "      <td>93.5</td>\n",
       "      <td>3</td>\n",
       "    </tr>\n",
       "    <tr>\n",
       "      <th>2</th>\n",
       "      <td>2021-03-26</td>\n",
       "      <td>01005</td>\n",
       "      <td>Alabama</td>\n",
       "      <td>AL</td>\n",
       "      <td>Barbour</td>\n",
       "      <td>2323.0</td>\n",
       "      <td>11.8</td>\n",
       "      <td>1583.0</td>\n",
       "      <td>32.6</td>\n",
       "      <td>2323.0</td>\n",
       "      <td>9.4</td>\n",
       "      <td>93.5</td>\n",
       "      <td>3</td>\n",
       "    </tr>\n",
       "    <tr>\n",
       "      <th>3</th>\n",
       "      <td>2021-03-26</td>\n",
       "      <td>01007</td>\n",
       "      <td>Alabama</td>\n",
       "      <td>AL</td>\n",
       "      <td>Bibb</td>\n",
       "      <td>1994.0</td>\n",
       "      <td>11.2</td>\n",
       "      <td>1246.0</td>\n",
       "      <td>33.4</td>\n",
       "      <td>1995.0</td>\n",
       "      <td>8.9</td>\n",
       "      <td>93.5</td>\n",
       "      <td>3</td>\n",
       "    </tr>\n",
       "    <tr>\n",
       "      <th>4</th>\n",
       "      <td>2021-03-26</td>\n",
       "      <td>01009</td>\n",
       "      <td>Alabama</td>\n",
       "      <td>AL</td>\n",
       "      <td>Blount</td>\n",
       "      <td>4133.0</td>\n",
       "      <td>9.3</td>\n",
       "      <td>2618.0</td>\n",
       "      <td>24.2</td>\n",
       "      <td>4135.0</td>\n",
       "      <td>7.2</td>\n",
       "      <td>93.5</td>\n",
       "      <td>3</td>\n",
       "    </tr>\n",
       "  </tbody>\n",
       "</table>\n",
       "</div>"
      ],
      "text/plain": [
       "        date   fips statename stateabbr   county  series_complete_18plus  \\\n",
       "0 2021-03-26  01001   Alabama        AL  Autauga                  4638.0   \n",
       "1 2021-03-26  01003   Alabama        AL  Baldwin                 29522.0   \n",
       "2 2021-03-26  01005   Alabama        AL  Barbour                  2323.0   \n",
       "3 2021-03-26  01007   Alabama        AL     Bibb                  1994.0   \n",
       "4 2021-03-26  01009   Alabama        AL   Blount                  4133.0   \n",
       "\n",
       "   series_complete_18pluspop_pct  series_complete_65plus  \\\n",
       "0                           10.8                  2491.0   \n",
       "1                           16.8                 19428.0   \n",
       "2                           11.8                  1583.0   \n",
       "3                           11.2                  1246.0   \n",
       "4                            9.3                  2618.0   \n",
       "\n",
       "   series_complete_65pluspop_pct  series_complete_yes  \\\n",
       "0                           27.9               4639.0   \n",
       "1                           41.5              29532.0   \n",
       "2                           32.6               2323.0   \n",
       "3                           33.4               1995.0   \n",
       "4                           24.2               4135.0   \n",
       "\n",
       "   series_complete_pop_pct  completeness_pct month  \n",
       "0                      8.3              93.5     3  \n",
       "1                     13.2              93.5     3  \n",
       "2                      9.4              93.5     3  \n",
       "3                      8.9              93.5     3  \n",
       "4                      7.2              93.5     3  "
      ]
     },
     "execution_count": 16,
     "metadata": {},
     "output_type": "execute_result"
    }
   ],
   "source": [
    "df.head()"
   ]
  },
  {
   "cell_type": "markdown",
   "metadata": {},
   "source": [
    "### Clean up headers, dates and extra spaces around strings"
   ]
  },
  {
   "cell_type": "code",
   "execution_count": 8,
   "metadata": {},
   "outputs": [],
   "source": [
    "df.columns = df.columns.str.lower()"
   ]
  },
  {
   "cell_type": "code",
   "execution_count": 9,
   "metadata": {},
   "outputs": [],
   "source": [
    "df_obj = df.select_dtypes([\"object\"])\n",
    "df[df_obj.columns] = df_obj.apply(lambda x: x.str.strip())"
   ]
  },
  {
   "cell_type": "code",
   "execution_count": 10,
   "metadata": {},
   "outputs": [],
   "source": [
    "df[\"date\"] = pd.to_datetime(df[\"date\"])\n",
    "df[\"month\"] = df[\"date\"].dt.month\n",
    "df[\"month\"] = df[\"month\"].astype(str)"
   ]
  },
  {
   "cell_type": "code",
   "execution_count": 11,
   "metadata": {},
   "outputs": [
    {
     "data": {
      "text/plain": [
       "date                             datetime64[ns]\n",
       "fips                                     object\n",
       "statename                                object\n",
       "stateabbr                                object\n",
       "county                                   object\n",
       "series_complete_18plus                  float64\n",
       "series_complete_18pluspop_pct           float64\n",
       "series_complete_65plus                  float64\n",
       "series_complete_65pluspop_pct           float64\n",
       "series_complete_yes                     float64\n",
       "series_complete_pop_pct                 float64\n",
       "completeness_pct                        float64\n",
       "month                                    object\n",
       "dtype: object"
      ]
     },
     "execution_count": 11,
     "metadata": {},
     "output_type": "execute_result"
    }
   ],
   "source": [
    "df.dtypes"
   ]
  },
  {
   "cell_type": "markdown",
   "metadata": {},
   "source": [
    "### Filter the data frame to just a specific state"
   ]
  },
  {
   "cell_type": "code",
   "execution_count": 12,
   "metadata": {},
   "outputs": [],
   "source": [
    "ca = df[df[\"stateabbr\"] == \"CA\"]"
   ]
  },
  {
   "cell_type": "code",
   "execution_count": 13,
   "metadata": {},
   "outputs": [
    {
     "data": {
      "text/html": [
       "<div>\n",
       "<style scoped>\n",
       "    .dataframe tbody tr th:only-of-type {\n",
       "        vertical-align: middle;\n",
       "    }\n",
       "\n",
       "    .dataframe tbody tr th {\n",
       "        vertical-align: top;\n",
       "    }\n",
       "\n",
       "    .dataframe thead th {\n",
       "        text-align: right;\n",
       "    }\n",
       "</style>\n",
       "<table border=\"1\" class=\"dataframe\">\n",
       "  <thead>\n",
       "    <tr style=\"text-align: right;\">\n",
       "      <th></th>\n",
       "      <th>date</th>\n",
       "      <th>fips</th>\n",
       "      <th>county</th>\n",
       "      <th>series_complete_pop_pct</th>\n",
       "    </tr>\n",
       "  </thead>\n",
       "  <tbody>\n",
       "    <tr>\n",
       "      <th>206</th>\n",
       "      <td>2021-03-26</td>\n",
       "      <td>06041</td>\n",
       "      <td>Marin</td>\n",
       "      <td>23.7</td>\n",
       "    </tr>\n",
       "    <tr>\n",
       "      <th>213</th>\n",
       "      <td>2021-03-26</td>\n",
       "      <td>06055</td>\n",
       "      <td>Napa</td>\n",
       "      <td>20.6</td>\n",
       "    </tr>\n",
       "    <tr>\n",
       "      <th>208</th>\n",
       "      <td>2021-03-26</td>\n",
       "      <td>06045</td>\n",
       "      <td>Mendocino</td>\n",
       "      <td>20.3</td>\n",
       "    </tr>\n",
       "    <tr>\n",
       "      <th>234</th>\n",
       "      <td>2021-03-26</td>\n",
       "      <td>06097</td>\n",
       "      <td>Sonoma</td>\n",
       "      <td>19.9</td>\n",
       "    </tr>\n",
       "    <tr>\n",
       "      <th>226</th>\n",
       "      <td>2021-03-26</td>\n",
       "      <td>06081</td>\n",
       "      <td>San Mateo</td>\n",
       "      <td>18.8</td>\n",
       "    </tr>\n",
       "    <tr>\n",
       "      <th>240</th>\n",
       "      <td>2021-03-26</td>\n",
       "      <td>06109</td>\n",
       "      <td>Tuolumne</td>\n",
       "      <td>18.7</td>\n",
       "    </tr>\n",
       "    <tr>\n",
       "      <th>192</th>\n",
       "      <td>2021-03-26</td>\n",
       "      <td>06013</td>\n",
       "      <td>Contra Costa</td>\n",
       "      <td>18.5</td>\n",
       "    </tr>\n",
       "    <tr>\n",
       "      <th>223</th>\n",
       "      <td>2021-03-26</td>\n",
       "      <td>06075</td>\n",
       "      <td>San Francisco</td>\n",
       "      <td>18.3</td>\n",
       "    </tr>\n",
       "    <tr>\n",
       "      <th>229</th>\n",
       "      <td>2021-03-26</td>\n",
       "      <td>06087</td>\n",
       "      <td>Santa Cruz</td>\n",
       "      <td>18.2</td>\n",
       "    </tr>\n",
       "    <tr>\n",
       "      <th>216</th>\n",
       "      <td>2021-03-26</td>\n",
       "      <td>06061</td>\n",
       "      <td>Placer</td>\n",
       "      <td>17.9</td>\n",
       "    </tr>\n",
       "  </tbody>\n",
       "</table>\n",
       "</div>"
      ],
      "text/plain": [
       "          date   fips         county  series_complete_pop_pct\n",
       "206 2021-03-26  06041          Marin                     23.7\n",
       "213 2021-03-26  06055           Napa                     20.6\n",
       "208 2021-03-26  06045      Mendocino                     20.3\n",
       "234 2021-03-26  06097         Sonoma                     19.9\n",
       "226 2021-03-26  06081      San Mateo                     18.8\n",
       "240 2021-03-26  06109       Tuolumne                     18.7\n",
       "192 2021-03-26  06013   Contra Costa                     18.5\n",
       "223 2021-03-26  06075  San Francisco                     18.3\n",
       "229 2021-03-26  06087     Santa Cruz                     18.2\n",
       "216 2021-03-26  06061         Placer                     17.9"
      ]
     },
     "execution_count": 13,
     "metadata": {},
     "output_type": "execute_result"
    }
   ],
   "source": [
    "ca[[\"date\", \"fips\", \"county\", \"series_complete_pop_pct\"]].sort_values(\n",
    "    \"series_complete_pop_pct\", ascending=False\n",
    ").head(10)"
   ]
  },
  {
   "cell_type": "markdown",
   "metadata": {},
   "source": [
    "### Which counties in the U.S. have the highest vaccination rates?"
   ]
  },
  {
   "cell_type": "code",
   "execution_count": 14,
   "metadata": {},
   "outputs": [
    {
     "data": {
      "text/html": [
       "<div>\n",
       "<style scoped>\n",
       "    .dataframe tbody tr th:only-of-type {\n",
       "        vertical-align: middle;\n",
       "    }\n",
       "\n",
       "    .dataframe tbody tr th {\n",
       "        vertical-align: top;\n",
       "    }\n",
       "\n",
       "    .dataframe thead th {\n",
       "        text-align: right;\n",
       "    }\n",
       "</style>\n",
       "<table border=\"1\" class=\"dataframe\">\n",
       "  <thead>\n",
       "    <tr style=\"text-align: right;\">\n",
       "      <th></th>\n",
       "      <th>date</th>\n",
       "      <th>fips</th>\n",
       "      <th>county</th>\n",
       "      <th>statename</th>\n",
       "      <th>series_complete_pop_pct</th>\n",
       "    </tr>\n",
       "  </thead>\n",
       "  <tbody>\n",
       "    <tr>\n",
       "      <th>412</th>\n",
       "      <td>2021-03-26</td>\n",
       "      <td>13053</td>\n",
       "      <td>Chattahoochee</td>\n",
       "      <td>Georgia</td>\n",
       "      <td>67.0</td>\n",
       "    </tr>\n",
       "    <tr>\n",
       "      <th>94</th>\n",
       "      <td>2021-03-26</td>\n",
       "      <td>02282</td>\n",
       "      <td>Yakutat</td>\n",
       "      <td>Alaska</td>\n",
       "      <td>48.0</td>\n",
       "    </tr>\n",
       "    <tr>\n",
       "      <th>90</th>\n",
       "      <td>2021-03-26</td>\n",
       "      <td>02230</td>\n",
       "      <td>Skagway</td>\n",
       "      <td>Alaska</td>\n",
       "      <td>46.8</td>\n",
       "    </tr>\n",
       "    <tr>\n",
       "      <th>87</th>\n",
       "      <td>2021-03-26</td>\n",
       "      <td>02195</td>\n",
       "      <td>Petersburg</td>\n",
       "      <td>Alaska</td>\n",
       "      <td>45.2</td>\n",
       "    </tr>\n",
       "    <tr>\n",
       "      <th>89</th>\n",
       "      <td>2021-03-26</td>\n",
       "      <td>02220</td>\n",
       "      <td>Sitka</td>\n",
       "      <td>Alaska</td>\n",
       "      <td>44.3</td>\n",
       "    </tr>\n",
       "    <tr>\n",
       "      <th>75</th>\n",
       "      <td>2021-03-26</td>\n",
       "      <td>02100</td>\n",
       "      <td>Haines</td>\n",
       "      <td>Alaska</td>\n",
       "      <td>42.7</td>\n",
       "    </tr>\n",
       "    <tr>\n",
       "      <th>76</th>\n",
       "      <td>2021-03-26</td>\n",
       "      <td>02105</td>\n",
       "      <td>Hoonah-Angoon</td>\n",
       "      <td>Alaska</td>\n",
       "      <td>41.1</td>\n",
       "    </tr>\n",
       "    <tr>\n",
       "      <th>84</th>\n",
       "      <td>2021-03-26</td>\n",
       "      <td>02180</td>\n",
       "      <td>Nome</td>\n",
       "      <td>Alaska</td>\n",
       "      <td>40.6</td>\n",
       "    </tr>\n",
       "    <tr>\n",
       "      <th>95</th>\n",
       "      <td>2021-03-26</td>\n",
       "      <td>02290</td>\n",
       "      <td>Yukon-Koyukuk</td>\n",
       "      <td>Alaska</td>\n",
       "      <td>39.3</td>\n",
       "    </tr>\n",
       "    <tr>\n",
       "      <th>1600</th>\n",
       "      <td>2021-03-26</td>\n",
       "      <td>30005</td>\n",
       "      <td>Blaine</td>\n",
       "      <td>Montana</td>\n",
       "      <td>38.9</td>\n",
       "    </tr>\n",
       "  </tbody>\n",
       "</table>\n",
       "</div>"
      ],
      "text/plain": [
       "           date   fips         county statename  series_complete_pop_pct\n",
       "412  2021-03-26  13053  Chattahoochee   Georgia                     67.0\n",
       "94   2021-03-26  02282        Yakutat    Alaska                     48.0\n",
       "90   2021-03-26  02230        Skagway    Alaska                     46.8\n",
       "87   2021-03-26  02195     Petersburg    Alaska                     45.2\n",
       "89   2021-03-26  02220          Sitka    Alaska                     44.3\n",
       "75   2021-03-26  02100         Haines    Alaska                     42.7\n",
       "76   2021-03-26  02105  Hoonah-Angoon    Alaska                     41.1\n",
       "84   2021-03-26  02180           Nome    Alaska                     40.6\n",
       "95   2021-03-26  02290  Yukon-Koyukuk    Alaska                     39.3\n",
       "1600 2021-03-26  30005         Blaine   Montana                     38.9"
      ]
     },
     "execution_count": 14,
     "metadata": {},
     "output_type": "execute_result"
    }
   ],
   "source": [
    "df[[\"date\", \"fips\", \"county\", \"statename\", \"series_complete_pop_pct\"]].sort_values(\n",
    "    \"series_complete_pop_pct\", ascending=False\n",
    ").head(10)"
   ]
  },
  {
   "cell_type": "markdown",
   "metadata": {},
   "source": [
    "---"
   ]
  },
  {
   "cell_type": "markdown",
   "metadata": {},
   "source": [
    "### Export to csv"
   ]
  },
  {
   "cell_type": "code",
   "execution_count": 15,
   "metadata": {},
   "outputs": [],
   "source": [
    "df.to_csv(\"output/vaccinations_by_county.csv\", index=False)"
   ]
  },
  {
   "cell_type": "code",
   "execution_count": null,
   "metadata": {},
   "outputs": [],
   "source": []
  }
 ],
 "metadata": {
  "kernelspec": {
   "display_name": "Python 3",
   "language": "python",
   "name": "python3"
  },
  "language_info": {
   "codemirror_mode": {
    "name": "ipython",
    "version": 3
   },
   "file_extension": ".py",
   "mimetype": "text/x-python",
   "name": "python",
   "nbconvert_exporter": "python",
   "pygments_lexer": "ipython3",
   "version": "3.7.4"
  }
 },
 "nbformat": 4,
 "nbformat_minor": 4
}
