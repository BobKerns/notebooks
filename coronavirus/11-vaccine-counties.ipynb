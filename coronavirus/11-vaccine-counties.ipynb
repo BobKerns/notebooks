{
 "cells": [
  {
   "cell_type": "markdown",
   "metadata": {},
   "source": [
    "# Coronavirus vaccine administration by county"
   ]
  },
  {
   "cell_type": "markdown",
   "metadata": {},
   "source": [
    "### Load Python tools"
   ]
  },
  {
   "cell_type": "code",
   "execution_count": 1,
   "metadata": {},
   "outputs": [],
   "source": [
    "%load_ext lab_black"
   ]
  },
  {
   "cell_type": "code",
   "execution_count": 2,
   "metadata": {},
   "outputs": [],
   "source": [
    "import pandas as pd\n",
    "import geopandas as gpd\n",
    "import altair as alt\n",
    "import altair_latimes as lat"
   ]
  },
  {
   "cell_type": "code",
   "execution_count": 3,
   "metadata": {},
   "outputs": [
    {
     "data": {
      "text/plain": [
       "DataTransformerRegistry.enable('default')"
      ]
     },
     "execution_count": 3,
     "metadata": {},
     "output_type": "execute_result"
    }
   ],
   "source": [
    "alt.themes.register(\"latimes\", lat.theme)\n",
    "alt.themes.enable(\"latimes\")\n",
    "pd.options.display.max_columns = 50\n",
    "pd.options.display.max_rows = 1000\n",
    "alt.data_transformers.disable_max_rows()"
   ]
  },
  {
   "cell_type": "markdown",
   "metadata": {},
   "source": [
    "### Get the county-level data from CDC"
   ]
  },
  {
   "cell_type": "code",
   "execution_count": 4,
   "metadata": {},
   "outputs": [],
   "source": [
    "# Pulled from here: https://covid.cdc.gov/covid-data-tracker/#county-view"
   ]
  },
  {
   "cell_type": "code",
   "execution_count": 5,
   "metadata": {},
   "outputs": [],
   "source": [
    "url = \"https://covid.cdc.gov/covid-data-tracker/COVIDData/getAjaxData?id=vaccination_county_condensed_data\""
   ]
  },
  {
   "cell_type": "code",
   "execution_count": 6,
   "metadata": {},
   "outputs": [],
   "source": [
    "df_nested = pd.read_json(url)"
   ]
  },
  {
   "cell_type": "markdown",
   "metadata": {},
   "source": [
    "### Extract the nested data"
   ]
  },
  {
   "cell_type": "code",
   "execution_count": 7,
   "metadata": {},
   "outputs": [],
   "source": [
    "df = pd.json_normalize(df_nested[\"vaccination_county_condensed_data\"])"
   ]
  },
  {
   "cell_type": "code",
   "execution_count": 8,
   "metadata": {},
   "outputs": [
    {
     "data": {
      "text/html": [
       "<div>\n",
       "<style scoped>\n",
       "    .dataframe tbody tr th:only-of-type {\n",
       "        vertical-align: middle;\n",
       "    }\n",
       "\n",
       "    .dataframe tbody tr th {\n",
       "        vertical-align: top;\n",
       "    }\n",
       "\n",
       "    .dataframe thead th {\n",
       "        text-align: right;\n",
       "    }\n",
       "</style>\n",
       "<table border=\"1\" class=\"dataframe\">\n",
       "  <thead>\n",
       "    <tr style=\"text-align: right;\">\n",
       "      <th></th>\n",
       "      <th>Date</th>\n",
       "      <th>FIPS</th>\n",
       "      <th>StateName</th>\n",
       "      <th>StateAbbr</th>\n",
       "      <th>County</th>\n",
       "      <th>Series_Complete_18Plus</th>\n",
       "      <th>Series_Complete_18PlusPop_Pct</th>\n",
       "      <th>Series_Complete_65Plus</th>\n",
       "      <th>Series_Complete_65PlusPop_Pct</th>\n",
       "      <th>Series_Complete_Yes</th>\n",
       "      <th>Series_Complete_Pop_Pct</th>\n",
       "      <th>Completeness_pct</th>\n",
       "    </tr>\n",
       "  </thead>\n",
       "  <tbody>\n",
       "    <tr>\n",
       "      <th>0</th>\n",
       "      <td>2021-03-27</td>\n",
       "      <td>01001</td>\n",
       "      <td>Alabama</td>\n",
       "      <td>AL</td>\n",
       "      <td>Autauga</td>\n",
       "      <td>4725.0</td>\n",
       "      <td>11.0</td>\n",
       "      <td>2530.0</td>\n",
       "      <td>28.4</td>\n",
       "      <td>4727.0</td>\n",
       "      <td>8.5</td>\n",
       "      <td>93.5</td>\n",
       "    </tr>\n",
       "    <tr>\n",
       "      <th>1</th>\n",
       "      <td>2021-03-27</td>\n",
       "      <td>01003</td>\n",
       "      <td>Alabama</td>\n",
       "      <td>AL</td>\n",
       "      <td>Baldwin</td>\n",
       "      <td>29931.0</td>\n",
       "      <td>17.0</td>\n",
       "      <td>19597.0</td>\n",
       "      <td>41.8</td>\n",
       "      <td>29941.0</td>\n",
       "      <td>13.4</td>\n",
       "      <td>93.5</td>\n",
       "    </tr>\n",
       "    <tr>\n",
       "      <th>2</th>\n",
       "      <td>2021-03-27</td>\n",
       "      <td>01005</td>\n",
       "      <td>Alabama</td>\n",
       "      <td>AL</td>\n",
       "      <td>Barbour</td>\n",
       "      <td>2416.0</td>\n",
       "      <td>12.3</td>\n",
       "      <td>1641.0</td>\n",
       "      <td>33.8</td>\n",
       "      <td>2416.0</td>\n",
       "      <td>9.8</td>\n",
       "      <td>93.5</td>\n",
       "    </tr>\n",
       "    <tr>\n",
       "      <th>3</th>\n",
       "      <td>2021-03-27</td>\n",
       "      <td>01007</td>\n",
       "      <td>Alabama</td>\n",
       "      <td>AL</td>\n",
       "      <td>Bibb</td>\n",
       "      <td>2020.0</td>\n",
       "      <td>11.3</td>\n",
       "      <td>1260.0</td>\n",
       "      <td>33.8</td>\n",
       "      <td>2021.0</td>\n",
       "      <td>9.0</td>\n",
       "      <td>93.5</td>\n",
       "    </tr>\n",
       "    <tr>\n",
       "      <th>4</th>\n",
       "      <td>2021-03-27</td>\n",
       "      <td>01009</td>\n",
       "      <td>Alabama</td>\n",
       "      <td>AL</td>\n",
       "      <td>Blount</td>\n",
       "      <td>4177.0</td>\n",
       "      <td>9.4</td>\n",
       "      <td>2642.0</td>\n",
       "      <td>24.4</td>\n",
       "      <td>4179.0</td>\n",
       "      <td>7.2</td>\n",
       "      <td>93.5</td>\n",
       "    </tr>\n",
       "  </tbody>\n",
       "</table>\n",
       "</div>"
      ],
      "text/plain": [
       "         Date   FIPS StateName StateAbbr   County  Series_Complete_18Plus  \\\n",
       "0  2021-03-27  01001   Alabama       AL   Autauga                  4725.0   \n",
       "1  2021-03-27  01003   Alabama       AL   Baldwin                 29931.0   \n",
       "2  2021-03-27  01005   Alabama       AL   Barbour                  2416.0   \n",
       "3  2021-03-27  01007   Alabama       AL      Bibb                  2020.0   \n",
       "4  2021-03-27  01009   Alabama       AL    Blount                  4177.0   \n",
       "\n",
       "   Series_Complete_18PlusPop_Pct  Series_Complete_65Plus  \\\n",
       "0                           11.0                  2530.0   \n",
       "1                           17.0                 19597.0   \n",
       "2                           12.3                  1641.0   \n",
       "3                           11.3                  1260.0   \n",
       "4                            9.4                  2642.0   \n",
       "\n",
       "   Series_Complete_65PlusPop_Pct  Series_Complete_Yes  \\\n",
       "0                           28.4               4727.0   \n",
       "1                           41.8              29941.0   \n",
       "2                           33.8               2416.0   \n",
       "3                           33.8               2021.0   \n",
       "4                           24.4               4179.0   \n",
       "\n",
       "   Series_Complete_Pop_Pct  Completeness_pct  \n",
       "0                      8.5              93.5  \n",
       "1                     13.4              93.5  \n",
       "2                      9.8              93.5  \n",
       "3                      9.0              93.5  \n",
       "4                      7.2              93.5  "
      ]
     },
     "execution_count": 8,
     "metadata": {},
     "output_type": "execute_result"
    }
   ],
   "source": [
    "df.head()"
   ]
  },
  {
   "cell_type": "markdown",
   "metadata": {},
   "source": [
    "### Clean up headers, dates and extra spaces around strings"
   ]
  },
  {
   "cell_type": "code",
   "execution_count": 9,
   "metadata": {},
   "outputs": [],
   "source": [
    "df.columns = df.columns.str.lower()"
   ]
  },
  {
   "cell_type": "code",
   "execution_count": 10,
   "metadata": {},
   "outputs": [],
   "source": [
    "df_obj = df.select_dtypes([\"object\"])\n",
    "df[df_obj.columns] = df_obj.apply(lambda x: x.str.strip())"
   ]
  },
  {
   "cell_type": "code",
   "execution_count": 11,
   "metadata": {},
   "outputs": [],
   "source": [
    "df[\"date\"] = pd.to_datetime(df[\"date\"])\n",
    "df[\"month\"] = df[\"date\"].dt.month\n",
    "df[\"month\"] = df[\"month\"].astype(str)"
   ]
  },
  {
   "cell_type": "code",
   "execution_count": 12,
   "metadata": {},
   "outputs": [
    {
     "data": {
      "text/plain": [
       "date                             datetime64[ns]\n",
       "fips                                     object\n",
       "statename                                object\n",
       "stateabbr                                object\n",
       "county                                   object\n",
       "series_complete_18plus                  float64\n",
       "series_complete_18pluspop_pct           float64\n",
       "series_complete_65plus                  float64\n",
       "series_complete_65pluspop_pct           float64\n",
       "series_complete_yes                     float64\n",
       "series_complete_pop_pct                 float64\n",
       "completeness_pct                        float64\n",
       "month                                    object\n",
       "dtype: object"
      ]
     },
     "execution_count": 12,
     "metadata": {},
     "output_type": "execute_result"
    }
   ],
   "source": [
    "df.dtypes"
   ]
  },
  {
   "cell_type": "markdown",
   "metadata": {},
   "source": [
    "### Filter the data frame to just a specific state"
   ]
  },
  {
   "cell_type": "code",
   "execution_count": 13,
   "metadata": {},
   "outputs": [],
   "source": [
    "ca = df[df[\"stateabbr\"] == \"CA\"]"
   ]
  },
  {
   "cell_type": "code",
   "execution_count": 14,
   "metadata": {},
   "outputs": [
    {
     "data": {
      "text/html": [
       "<div>\n",
       "<style scoped>\n",
       "    .dataframe tbody tr th:only-of-type {\n",
       "        vertical-align: middle;\n",
       "    }\n",
       "\n",
       "    .dataframe tbody tr th {\n",
       "        vertical-align: top;\n",
       "    }\n",
       "\n",
       "    .dataframe thead th {\n",
       "        text-align: right;\n",
       "    }\n",
       "</style>\n",
       "<table border=\"1\" class=\"dataframe\">\n",
       "  <thead>\n",
       "    <tr style=\"text-align: right;\">\n",
       "      <th></th>\n",
       "      <th>date</th>\n",
       "      <th>fips</th>\n",
       "      <th>county</th>\n",
       "      <th>statename</th>\n",
       "      <th>series_complete_pop_pct</th>\n",
       "    </tr>\n",
       "  </thead>\n",
       "  <tbody>\n",
       "    <tr>\n",
       "      <th>206</th>\n",
       "      <td>2021-03-27</td>\n",
       "      <td>06041</td>\n",
       "      <td>Marin</td>\n",
       "      <td>California</td>\n",
       "      <td>24.6</td>\n",
       "    </tr>\n",
       "    <tr>\n",
       "      <th>213</th>\n",
       "      <td>2021-03-27</td>\n",
       "      <td>06055</td>\n",
       "      <td>Napa</td>\n",
       "      <td>California</td>\n",
       "      <td>21.2</td>\n",
       "    </tr>\n",
       "    <tr>\n",
       "      <th>208</th>\n",
       "      <td>2021-03-27</td>\n",
       "      <td>06045</td>\n",
       "      <td>Mendocino</td>\n",
       "      <td>California</td>\n",
       "      <td>21.0</td>\n",
       "    </tr>\n",
       "    <tr>\n",
       "      <th>234</th>\n",
       "      <td>2021-03-27</td>\n",
       "      <td>06097</td>\n",
       "      <td>Sonoma</td>\n",
       "      <td>California</td>\n",
       "      <td>20.4</td>\n",
       "    </tr>\n",
       "    <tr>\n",
       "      <th>226</th>\n",
       "      <td>2021-03-27</td>\n",
       "      <td>06081</td>\n",
       "      <td>San Mateo</td>\n",
       "      <td>California</td>\n",
       "      <td>19.6</td>\n",
       "    </tr>\n",
       "    <tr>\n",
       "      <th>192</th>\n",
       "      <td>2021-03-27</td>\n",
       "      <td>06013</td>\n",
       "      <td>Contra Costa</td>\n",
       "      <td>California</td>\n",
       "      <td>19.2</td>\n",
       "    </tr>\n",
       "    <tr>\n",
       "      <th>240</th>\n",
       "      <td>2021-03-27</td>\n",
       "      <td>06109</td>\n",
       "      <td>Tuolumne</td>\n",
       "      <td>California</td>\n",
       "      <td>19.1</td>\n",
       "    </tr>\n",
       "    <tr>\n",
       "      <th>223</th>\n",
       "      <td>2021-03-27</td>\n",
       "      <td>06075</td>\n",
       "      <td>San Francisco</td>\n",
       "      <td>California</td>\n",
       "      <td>19.0</td>\n",
       "    </tr>\n",
       "    <tr>\n",
       "      <th>229</th>\n",
       "      <td>2021-03-27</td>\n",
       "      <td>06087</td>\n",
       "      <td>Santa Cruz</td>\n",
       "      <td>California</td>\n",
       "      <td>18.7</td>\n",
       "    </tr>\n",
       "    <tr>\n",
       "      <th>216</th>\n",
       "      <td>2021-03-27</td>\n",
       "      <td>06061</td>\n",
       "      <td>Placer</td>\n",
       "      <td>California</td>\n",
       "      <td>18.4</td>\n",
       "    </tr>\n",
       "  </tbody>\n",
       "</table>\n",
       "</div>"
      ],
      "text/plain": [
       "          date   fips         county   statename  series_complete_pop_pct\n",
       "206 2021-03-27  06041          Marin  California                     24.6\n",
       "213 2021-03-27  06055           Napa  California                     21.2\n",
       "208 2021-03-27  06045      Mendocino  California                     21.0\n",
       "234 2021-03-27  06097         Sonoma  California                     20.4\n",
       "226 2021-03-27  06081      San Mateo  California                     19.6\n",
       "192 2021-03-27  06013   Contra Costa  California                     19.2\n",
       "240 2021-03-27  06109       Tuolumne  California                     19.1\n",
       "223 2021-03-27  06075  San Francisco  California                     19.0\n",
       "229 2021-03-27  06087     Santa Cruz  California                     18.7\n",
       "216 2021-03-27  06061         Placer  California                     18.4"
      ]
     },
     "execution_count": 14,
     "metadata": {},
     "output_type": "execute_result"
    }
   ],
   "source": [
    "ca[[\"date\", \"fips\", \"county\", \"statename\", \"series_complete_pop_pct\"]].sort_values(\n",
    "    \"series_complete_pop_pct\", ascending=False\n",
    ").head(10)"
   ]
  },
  {
   "cell_type": "markdown",
   "metadata": {},
   "source": [
    "### Which counties in the U.S. have the highest vaccination rates?"
   ]
  },
  {
   "cell_type": "code",
   "execution_count": 15,
   "metadata": {},
   "outputs": [
    {
     "data": {
      "text/html": [
       "<div>\n",
       "<style scoped>\n",
       "    .dataframe tbody tr th:only-of-type {\n",
       "        vertical-align: middle;\n",
       "    }\n",
       "\n",
       "    .dataframe tbody tr th {\n",
       "        vertical-align: top;\n",
       "    }\n",
       "\n",
       "    .dataframe thead th {\n",
       "        text-align: right;\n",
       "    }\n",
       "</style>\n",
       "<table border=\"1\" class=\"dataframe\">\n",
       "  <thead>\n",
       "    <tr style=\"text-align: right;\">\n",
       "      <th></th>\n",
       "      <th>date</th>\n",
       "      <th>fips</th>\n",
       "      <th>county</th>\n",
       "      <th>statename</th>\n",
       "      <th>series_complete_pop_pct</th>\n",
       "    </tr>\n",
       "  </thead>\n",
       "  <tbody>\n",
       "    <tr>\n",
       "      <th>412</th>\n",
       "      <td>2021-03-27</td>\n",
       "      <td>13053</td>\n",
       "      <td>Chattahoochee</td>\n",
       "      <td>Georgia</td>\n",
       "      <td>69.6</td>\n",
       "    </tr>\n",
       "    <tr>\n",
       "      <th>94</th>\n",
       "      <td>2021-03-27</td>\n",
       "      <td>02282</td>\n",
       "      <td>Yakutat</td>\n",
       "      <td>Alaska</td>\n",
       "      <td>48.0</td>\n",
       "    </tr>\n",
       "    <tr>\n",
       "      <th>90</th>\n",
       "      <td>2021-03-27</td>\n",
       "      <td>02230</td>\n",
       "      <td>Skagway</td>\n",
       "      <td>Alaska</td>\n",
       "      <td>46.8</td>\n",
       "    </tr>\n",
       "    <tr>\n",
       "      <th>87</th>\n",
       "      <td>2021-03-27</td>\n",
       "      <td>02195</td>\n",
       "      <td>Petersburg</td>\n",
       "      <td>Alaska</td>\n",
       "      <td>45.3</td>\n",
       "    </tr>\n",
       "    <tr>\n",
       "      <th>89</th>\n",
       "      <td>2021-03-27</td>\n",
       "      <td>02220</td>\n",
       "      <td>Sitka</td>\n",
       "      <td>Alaska</td>\n",
       "      <td>44.4</td>\n",
       "    </tr>\n",
       "    <tr>\n",
       "      <th>75</th>\n",
       "      <td>2021-03-27</td>\n",
       "      <td>02100</td>\n",
       "      <td>Haines</td>\n",
       "      <td>Alaska</td>\n",
       "      <td>42.7</td>\n",
       "    </tr>\n",
       "    <tr>\n",
       "      <th>84</th>\n",
       "      <td>2021-03-27</td>\n",
       "      <td>02180</td>\n",
       "      <td>Nome</td>\n",
       "      <td>Alaska</td>\n",
       "      <td>41.3</td>\n",
       "    </tr>\n",
       "    <tr>\n",
       "      <th>76</th>\n",
       "      <td>2021-03-27</td>\n",
       "      <td>02105</td>\n",
       "      <td>Hoonah-Angoon</td>\n",
       "      <td>Alaska</td>\n",
       "      <td>41.1</td>\n",
       "    </tr>\n",
       "    <tr>\n",
       "      <th>1615</th>\n",
       "      <td>2021-03-27</td>\n",
       "      <td>30035</td>\n",
       "      <td>Glacier</td>\n",
       "      <td>Montana</td>\n",
       "      <td>40.2</td>\n",
       "    </tr>\n",
       "    <tr>\n",
       "      <th>95</th>\n",
       "      <td>2021-03-27</td>\n",
       "      <td>02290</td>\n",
       "      <td>Yukon-Koyukuk</td>\n",
       "      <td>Alaska</td>\n",
       "      <td>39.5</td>\n",
       "    </tr>\n",
       "  </tbody>\n",
       "</table>\n",
       "</div>"
      ],
      "text/plain": [
       "           date   fips         county statename  series_complete_pop_pct\n",
       "412  2021-03-27  13053  Chattahoochee   Georgia                     69.6\n",
       "94   2021-03-27  02282        Yakutat    Alaska                     48.0\n",
       "90   2021-03-27  02230        Skagway    Alaska                     46.8\n",
       "87   2021-03-27  02195     Petersburg    Alaska                     45.3\n",
       "89   2021-03-27  02220          Sitka    Alaska                     44.4\n",
       "75   2021-03-27  02100         Haines    Alaska                     42.7\n",
       "84   2021-03-27  02180           Nome    Alaska                     41.3\n",
       "76   2021-03-27  02105  Hoonah-Angoon    Alaska                     41.1\n",
       "1615 2021-03-27  30035        Glacier   Montana                     40.2\n",
       "95   2021-03-27  02290  Yukon-Koyukuk    Alaska                     39.5"
      ]
     },
     "execution_count": 15,
     "metadata": {},
     "output_type": "execute_result"
    }
   ],
   "source": [
    "df[[\"date\", \"fips\", \"county\", \"statename\", \"series_complete_pop_pct\"]].sort_values(\n",
    "    \"series_complete_pop_pct\", ascending=False\n",
    ").head(10)"
   ]
  },
  {
   "cell_type": "markdown",
   "metadata": {},
   "source": [
    "---"
   ]
  },
  {
   "cell_type": "markdown",
   "metadata": {},
   "source": [
    "### Export to csv"
   ]
  },
  {
   "cell_type": "code",
   "execution_count": 16,
   "metadata": {},
   "outputs": [],
   "source": [
    "df.to_csv(\"output/vaccinations_by_county.csv\", index=False)"
   ]
  }
 ],
 "metadata": {
  "kernelspec": {
   "display_name": "Python 3",
   "language": "python",
   "name": "python3"
  },
  "language_info": {
   "codemirror_mode": {
    "name": "ipython",
    "version": 3
   },
   "file_extension": ".py",
   "mimetype": "text/x-python",
   "name": "python",
   "nbconvert_exporter": "python",
   "pygments_lexer": "ipython3",
   "version": "3.7.4"
  }
 },
 "nbformat": 4,
 "nbformat_minor": 4
}
