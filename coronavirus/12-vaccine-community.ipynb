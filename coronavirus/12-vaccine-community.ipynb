{
 "cells": [
  {
   "cell_type": "markdown",
   "metadata": {},
   "source": [
    "# LA County coronavirus vaccine administration by city/community"
   ]
  },
  {
   "cell_type": "markdown",
   "metadata": {},
   "source": [
    "### Load Python tools"
   ]
  },
  {
   "cell_type": "code",
   "execution_count": 1,
   "metadata": {},
   "outputs": [],
   "source": [
    "%load_ext lab_black"
   ]
  },
  {
   "cell_type": "code",
   "execution_count": 2,
   "metadata": {},
   "outputs": [],
   "source": [
    "import pandas as pd\n",
    "import geopandas as gpd\n",
    "import altair as alt\n",
    "import altair_latimes as lat\n",
    "import glob\n",
    "import path\n",
    "import os"
   ]
  },
  {
   "cell_type": "code",
   "execution_count": 3,
   "metadata": {},
   "outputs": [
    {
     "data": {
      "text/plain": [
       "DataTransformerRegistry.enable('default')"
      ]
     },
     "execution_count": 3,
     "metadata": {},
     "output_type": "execute_result"
    }
   ],
   "source": [
    "alt.themes.register(\"latimes\", lat.theme)\n",
    "alt.themes.enable(\"latimes\")\n",
    "pd.options.display.max_columns = 50\n",
    "pd.options.display.max_rows = 1000\n",
    "alt.data_transformers.disable_max_rows()"
   ]
  },
  {
   "cell_type": "markdown",
   "metadata": {},
   "source": [
    "### Create a timeseries from coronavirus-tracker data"
   ]
  },
  {
   "cell_type": "code",
   "execution_count": 4,
   "metadata": {},
   "outputs": [],
   "source": [
    "path = \"/Users/mhustiles/data/github/coronavirus-tracker/_notebooks/data/raw/vaccines/los-angeles/\"\n",
    "all_files = glob.glob(os.path.join(path, \"*.csv\"))"
   ]
  },
  {
   "cell_type": "code",
   "execution_count": 5,
   "metadata": {},
   "outputs": [],
   "source": [
    "df_from_each_file = (\n",
    "    pd.read_csv(f, encoding=\"ISO-8859-1\", low_memory=False) for f in all_files\n",
    ")\n",
    "concatenated_df = pd.concat(df_from_each_file, ignore_index=True)"
   ]
  },
  {
   "cell_type": "code",
   "execution_count": 6,
   "metadata": {},
   "outputs": [],
   "source": [
    "df = concatenated_df.copy()"
   ]
  },
  {
   "cell_type": "code",
   "execution_count": 7,
   "metadata": {},
   "outputs": [],
   "source": [
    "population = df[df[\"update_date\"] == df[\"update_date\"].max()][[\"area\", \"pop_2019\"]]"
   ]
  },
  {
   "cell_type": "code",
   "execution_count": 8,
   "metadata": {},
   "outputs": [
    {
     "data": {
      "text/html": [
       "<div>\n",
       "<style scoped>\n",
       "    .dataframe tbody tr th:only-of-type {\n",
       "        vertical-align: middle;\n",
       "    }\n",
       "\n",
       "    .dataframe tbody tr th {\n",
       "        vertical-align: top;\n",
       "    }\n",
       "\n",
       "    .dataframe thead th {\n",
       "        text-align: right;\n",
       "    }\n",
       "</style>\n",
       "<table border=\"1\" class=\"dataframe\">\n",
       "  <thead>\n",
       "    <tr style=\"text-align: right;\">\n",
       "      <th></th>\n",
       "      <th>area</th>\n",
       "      <th>pop_2019</th>\n",
       "    </tr>\n",
       "  </thead>\n",
       "  <tbody>\n",
       "    <tr>\n",
       "      <th>4176</th>\n",
       "      <td>City of Agoura Hills</td>\n",
       "      <td>18019</td>\n",
       "    </tr>\n",
       "    <tr>\n",
       "      <th>4177</th>\n",
       "      <td>City of Alhambra</td>\n",
       "      <td>72940</td>\n",
       "    </tr>\n",
       "    <tr>\n",
       "      <th>4178</th>\n",
       "      <td>City of Arcadia</td>\n",
       "      <td>51103</td>\n",
       "    </tr>\n",
       "    <tr>\n",
       "      <th>4179</th>\n",
       "      <td>City of Artesia</td>\n",
       "      <td>14266</td>\n",
       "    </tr>\n",
       "    <tr>\n",
       "      <th>4180</th>\n",
       "      <td>City of Avalon</td>\n",
       "      <td>3077</td>\n",
       "    </tr>\n",
       "  </tbody>\n",
       "</table>\n",
       "</div>"
      ],
      "text/plain": [
       "                      area pop_2019\n",
       "4176  City of Agoura Hills    18019\n",
       "4177      City of Alhambra    72940\n",
       "4178       City of Arcadia    51103\n",
       "4179       City of Artesia    14266\n",
       "4180        City of Avalon     3077"
      ]
     },
     "execution_count": 8,
     "metadata": {},
     "output_type": "execute_result"
    }
   ],
   "source": [
    "population.head()"
   ]
  },
  {
   "cell_type": "markdown",
   "metadata": {},
   "source": [
    "### Strip out the strings placed in columns by the county"
   ]
  },
  {
   "cell_type": "code",
   "execution_count": 9,
   "metadata": {},
   "outputs": [],
   "source": [
    "df = df[\n",
    "    (df.vaccinations.str.strip() != \"Unreliable Data\")\n",
    "    & (df.pop_2019.str.strip() != \"No Pop Data\")\n",
    "    & (df.vaccinations_pct.str.strip() != \"Unreliable Data\")\n",
    "    & (df.vaccinations_pct.str.strip() != \"No Pop Data\")\n",
    "    & (df.vaccinations.str.strip() != \"<5\")\n",
    "]"
   ]
  },
  {
   "cell_type": "markdown",
   "metadata": {},
   "source": [
    "### Clean up places names"
   ]
  },
  {
   "cell_type": "code",
   "execution_count": 10,
   "metadata": {},
   "outputs": [
    {
     "data": {
      "text/html": [
       "<div>\n",
       "<style scoped>\n",
       "    .dataframe tbody tr th:only-of-type {\n",
       "        vertical-align: middle;\n",
       "    }\n",
       "\n",
       "    .dataframe tbody tr th {\n",
       "        vertical-align: top;\n",
       "    }\n",
       "\n",
       "    .dataframe thead th {\n",
       "        text-align: right;\n",
       "    }\n",
       "</style>\n",
       "<table border=\"1\" class=\"dataframe\">\n",
       "  <thead>\n",
       "    <tr style=\"text-align: right;\">\n",
       "      <th></th>\n",
       "      <th>area</th>\n",
       "      <th>vaccinations</th>\n",
       "      <th>pop_2019</th>\n",
       "      <th>vaccinations_pct</th>\n",
       "      <th>update_date</th>\n",
       "    </tr>\n",
       "  </thead>\n",
       "  <tbody>\n",
       "    <tr>\n",
       "      <th>0</th>\n",
       "      <td>City of Agoura Hills</td>\n",
       "      <td>5008</td>\n",
       "      <td>17447</td>\n",
       "      <td>28.7</td>\n",
       "      <td>2021-03-25</td>\n",
       "    </tr>\n",
       "    <tr>\n",
       "      <th>1</th>\n",
       "      <td>City of Alhambra</td>\n",
       "      <td>18947</td>\n",
       "      <td>71313</td>\n",
       "      <td>26.6</td>\n",
       "      <td>2021-03-25</td>\n",
       "    </tr>\n",
       "    <tr>\n",
       "      <th>2</th>\n",
       "      <td>City of Arcadia</td>\n",
       "      <td>13777</td>\n",
       "      <td>49666</td>\n",
       "      <td>27.7</td>\n",
       "      <td>2021-03-25</td>\n",
       "    </tr>\n",
       "    <tr>\n",
       "      <th>3</th>\n",
       "      <td>City of Artesia</td>\n",
       "      <td>3571</td>\n",
       "      <td>13877</td>\n",
       "      <td>25.7</td>\n",
       "      <td>2021-03-25</td>\n",
       "    </tr>\n",
       "    <tr>\n",
       "      <th>4</th>\n",
       "      <td>City of Avalon</td>\n",
       "      <td>317</td>\n",
       "      <td>3000</td>\n",
       "      <td>10.6</td>\n",
       "      <td>2021-03-25</td>\n",
       "    </tr>\n",
       "  </tbody>\n",
       "</table>\n",
       "</div>"
      ],
      "text/plain": [
       "                   area vaccinations pop_2019 vaccinations_pct update_date\n",
       "0  City of Agoura Hills         5008    17447             28.7  2021-03-25\n",
       "1      City of Alhambra        18947    71313             26.6  2021-03-25\n",
       "2       City of Arcadia        13777    49666             27.7  2021-03-25\n",
       "3       City of Artesia         3571    13877             25.7  2021-03-25\n",
       "4        City of Avalon          317     3000             10.6  2021-03-25"
      ]
     },
     "execution_count": 10,
     "metadata": {},
     "output_type": "execute_result"
    }
   ],
   "source": [
    "df.head()"
   ]
  },
  {
   "cell_type": "code",
   "execution_count": 11,
   "metadata": {},
   "outputs": [],
   "source": [
    "df.area = df.area.str.replace(\"City of\", \"\", regex=False)"
   ]
  },
  {
   "cell_type": "code",
   "execution_count": 12,
   "metadata": {},
   "outputs": [
    {
     "data": {
      "text/html": [
       "<div>\n",
       "<style scoped>\n",
       "    .dataframe tbody tr th:only-of-type {\n",
       "        vertical-align: middle;\n",
       "    }\n",
       "\n",
       "    .dataframe tbody tr th {\n",
       "        vertical-align: top;\n",
       "    }\n",
       "\n",
       "    .dataframe thead th {\n",
       "        text-align: right;\n",
       "    }\n",
       "</style>\n",
       "<table border=\"1\" class=\"dataframe\">\n",
       "  <thead>\n",
       "    <tr style=\"text-align: right;\">\n",
       "      <th></th>\n",
       "      <th>area</th>\n",
       "      <th>vaccinations</th>\n",
       "      <th>pop_2019</th>\n",
       "      <th>vaccinations_pct</th>\n",
       "      <th>update_date</th>\n",
       "    </tr>\n",
       "  </thead>\n",
       "  <tbody>\n",
       "    <tr>\n",
       "      <th>0</th>\n",
       "      <td>Agoura Hills</td>\n",
       "      <td>5008</td>\n",
       "      <td>17447</td>\n",
       "      <td>28.7</td>\n",
       "      <td>2021-03-25</td>\n",
       "    </tr>\n",
       "    <tr>\n",
       "      <th>1</th>\n",
       "      <td>Alhambra</td>\n",
       "      <td>18947</td>\n",
       "      <td>71313</td>\n",
       "      <td>26.6</td>\n",
       "      <td>2021-03-25</td>\n",
       "    </tr>\n",
       "    <tr>\n",
       "      <th>2</th>\n",
       "      <td>Arcadia</td>\n",
       "      <td>13777</td>\n",
       "      <td>49666</td>\n",
       "      <td>27.7</td>\n",
       "      <td>2021-03-25</td>\n",
       "    </tr>\n",
       "    <tr>\n",
       "      <th>3</th>\n",
       "      <td>Artesia</td>\n",
       "      <td>3571</td>\n",
       "      <td>13877</td>\n",
       "      <td>25.7</td>\n",
       "      <td>2021-03-25</td>\n",
       "    </tr>\n",
       "    <tr>\n",
       "      <th>4</th>\n",
       "      <td>Avalon</td>\n",
       "      <td>317</td>\n",
       "      <td>3000</td>\n",
       "      <td>10.6</td>\n",
       "      <td>2021-03-25</td>\n",
       "    </tr>\n",
       "  </tbody>\n",
       "</table>\n",
       "</div>"
      ],
      "text/plain": [
       "            area vaccinations pop_2019 vaccinations_pct update_date\n",
       "0   Agoura Hills         5008    17447             28.7  2021-03-25\n",
       "1       Alhambra        18947    71313             26.6  2021-03-25\n",
       "2        Arcadia        13777    49666             27.7  2021-03-25\n",
       "3        Artesia         3571    13877             25.7  2021-03-25\n",
       "4         Avalon          317     3000             10.6  2021-03-25"
      ]
     },
     "execution_count": 12,
     "metadata": {},
     "output_type": "execute_result"
    }
   ],
   "source": [
    "df.head()"
   ]
  },
  {
   "cell_type": "markdown",
   "metadata": {},
   "source": [
    "### Merge with population figures/rates from vaccine disparity project"
   ]
  },
  {
   "cell_type": "code",
   "execution_count": 13,
   "metadata": {},
   "outputs": [],
   "source": [
    "disparity = pd.read_csv(\"../../vaccine-disparity/_workspace/neighborhoods_grouped.csv\")"
   ]
  },
  {
   "cell_type": "code",
   "execution_count": 14,
   "metadata": {},
   "outputs": [],
   "source": [
    "disparity_clean = disparity[\n",
    "    [\n",
    "        \"name\",\n",
    "        \"total_pop\",\n",
    "        \"totalpop_17andunder\",\n",
    "        \"totalpop_18to64\",\n",
    "        \"totalpop_65andup\",\n",
    "        \"totalpop_17andunder_percent\",\n",
    "        \"totalpop_65andup_percent\",\n",
    "        \"totalpop_65andup_percent\",\n",
    "        \"majority_white\",\n",
    "        \"majority_hispanic\",\n",
    "        \"median_householdincome\",\n",
    "    ]\n",
    "]"
   ]
  },
  {
   "cell_type": "code",
   "execution_count": 15,
   "metadata": {},
   "outputs": [],
   "source": [
    "df_pop_merge = pd.merge(\n",
    "    disparity_clean, df, left_on=\"name\", right_on=\"area\", indicator=True\n",
    ")"
   ]
  },
  {
   "cell_type": "code",
   "execution_count": 16,
   "metadata": {},
   "outputs": [
    {
     "data": {
      "text/plain": [
       "both          11924\n",
       "right_only        0\n",
       "left_only         0\n",
       "Name: _merge, dtype: int64"
      ]
     },
     "execution_count": 16,
     "metadata": {},
     "output_type": "execute_result"
    }
   ],
   "source": [
    "df_pop_merge._merge.value_counts()"
   ]
  },
  {
   "cell_type": "code",
   "execution_count": 17,
   "metadata": {},
   "outputs": [],
   "source": [
    "df[\"week\"] = pd.to_datetime(df[\"update_date\"]).dt.week"
   ]
  },
  {
   "cell_type": "code",
   "execution_count": 18,
   "metadata": {},
   "outputs": [
    {
     "data": {
      "text/plain": [
       "13    2352\n",
       "12    2352\n",
       "11    2352\n",
       "10    2342\n",
       "14    2340\n",
       "9     2338\n",
       "8     1670\n",
       "15     332\n",
       "Name: week, dtype: int64"
      ]
     },
     "execution_count": 18,
     "metadata": {},
     "output_type": "execute_result"
    }
   ],
   "source": [
    "df.week.value_counts()"
   ]
  },
  {
   "cell_type": "code",
   "execution_count": 19,
   "metadata": {},
   "outputs": [
    {
     "data": {
      "text/html": [
       "<div>\n",
       "<style scoped>\n",
       "    .dataframe tbody tr th:only-of-type {\n",
       "        vertical-align: middle;\n",
       "    }\n",
       "\n",
       "    .dataframe tbody tr th {\n",
       "        vertical-align: top;\n",
       "    }\n",
       "\n",
       "    .dataframe thead th {\n",
       "        text-align: right;\n",
       "    }\n",
       "</style>\n",
       "<table border=\"1\" class=\"dataframe\">\n",
       "  <thead>\n",
       "    <tr style=\"text-align: right;\">\n",
       "      <th></th>\n",
       "      <th>area</th>\n",
       "      <th>vaccinations</th>\n",
       "      <th>pop_2019</th>\n",
       "      <th>vaccinations_pct</th>\n",
       "      <th>update_date</th>\n",
       "      <th>week</th>\n",
       "    </tr>\n",
       "  </thead>\n",
       "  <tbody>\n",
       "    <tr>\n",
       "      <th>4259</th>\n",
       "      <td>West Covina</td>\n",
       "      <td>38583</td>\n",
       "      <td>88873</td>\n",
       "      <td>43.4</td>\n",
       "      <td>2021-04-12</td>\n",
       "      <td>15</td>\n",
       "    </tr>\n",
       "    <tr>\n",
       "      <th>4406</th>\n",
       "      <td>Unincorporated - Angeles National Forest</td>\n",
       "      <td>296</td>\n",
       "      <td>1096</td>\n",
       "      <td>27.0</td>\n",
       "      <td>2021-04-12</td>\n",
       "      <td>15</td>\n",
       "    </tr>\n",
       "    <tr>\n",
       "      <th>4404</th>\n",
       "      <td>Unincorporated - Altadena</td>\n",
       "      <td>17205</td>\n",
       "      <td>36812</td>\n",
       "      <td>46.7</td>\n",
       "      <td>2021-04-12</td>\n",
       "      <td>15</td>\n",
       "    </tr>\n",
       "    <tr>\n",
       "      <th>4403</th>\n",
       "      <td>Unincorporated - Agua Dulce</td>\n",
       "      <td>958</td>\n",
       "      <td>3736</td>\n",
       "      <td>25.6</td>\n",
       "      <td>2021-04-12</td>\n",
       "      <td>15</td>\n",
       "    </tr>\n",
       "    <tr>\n",
       "      <th>4402</th>\n",
       "      <td>Unincorporated - Acton</td>\n",
       "      <td>1652</td>\n",
       "      <td>6961</td>\n",
       "      <td>23.7</td>\n",
       "      <td>2021-04-12</td>\n",
       "      <td>15</td>\n",
       "    </tr>\n",
       "    <tr>\n",
       "      <th>4401</th>\n",
       "      <td>Los Angeles - Woodland Hills</td>\n",
       "      <td>27387</td>\n",
       "      <td>57284</td>\n",
       "      <td>47.8</td>\n",
       "      <td>2021-04-12</td>\n",
       "      <td>15</td>\n",
       "    </tr>\n",
       "    <tr>\n",
       "      <th>4400</th>\n",
       "      <td>Los Angeles - Winnetka</td>\n",
       "      <td>15821</td>\n",
       "      <td>41471</td>\n",
       "      <td>38.1</td>\n",
       "      <td>2021-04-12</td>\n",
       "      <td>15</td>\n",
       "    </tr>\n",
       "    <tr>\n",
       "      <th>4399</th>\n",
       "      <td>Los Angeles - Wilshire Center</td>\n",
       "      <td>13370</td>\n",
       "      <td>40599</td>\n",
       "      <td>32.9</td>\n",
       "      <td>2021-04-12</td>\n",
       "      <td>15</td>\n",
       "    </tr>\n",
       "    <tr>\n",
       "      <th>4398</th>\n",
       "      <td>Los Angeles - Wilmington</td>\n",
       "      <td>11236</td>\n",
       "      <td>42449</td>\n",
       "      <td>26.5</td>\n",
       "      <td>2021-04-12</td>\n",
       "      <td>15</td>\n",
       "    </tr>\n",
       "    <tr>\n",
       "      <th>4397</th>\n",
       "      <td>Los Angeles - Wholesale District</td>\n",
       "      <td>12332</td>\n",
       "      <td>32528</td>\n",
       "      <td>37.9</td>\n",
       "      <td>2021-04-12</td>\n",
       "      <td>15</td>\n",
       "    </tr>\n",
       "  </tbody>\n",
       "</table>\n",
       "</div>"
      ],
      "text/plain": [
       "                                          area vaccinations pop_2019  \\\n",
       "4259                               West Covina        38583    88873   \n",
       "4406  Unincorporated - Angeles National Forest          296     1096   \n",
       "4404                 Unincorporated - Altadena        17205    36812   \n",
       "4403               Unincorporated - Agua Dulce          958     3736   \n",
       "4402                    Unincorporated - Acton         1652     6961   \n",
       "4401              Los Angeles - Woodland Hills        27387    57284   \n",
       "4400                    Los Angeles - Winnetka        15821    41471   \n",
       "4399             Los Angeles - Wilshire Center        13370    40599   \n",
       "4398                  Los Angeles - Wilmington        11236    42449   \n",
       "4397          Los Angeles - Wholesale District        12332    32528   \n",
       "\n",
       "     vaccinations_pct update_date  week  \n",
       "4259             43.4  2021-04-12    15  \n",
       "4406             27.0  2021-04-12    15  \n",
       "4404             46.7  2021-04-12    15  \n",
       "4403             25.6  2021-04-12    15  \n",
       "4402             23.7  2021-04-12    15  \n",
       "4401             47.8  2021-04-12    15  \n",
       "4400             38.1  2021-04-12    15  \n",
       "4399             32.9  2021-04-12    15  \n",
       "4398             26.5  2021-04-12    15  \n",
       "4397             37.9  2021-04-12    15  "
      ]
     },
     "execution_count": 19,
     "metadata": {},
     "output_type": "execute_result"
    }
   ],
   "source": [
    "df.sort_values(\"update_date\", ascending=False).head(10)"
   ]
  },
  {
   "cell_type": "markdown",
   "metadata": {},
   "source": [
    "### Clean up data types"
   ]
  },
  {
   "cell_type": "code",
   "execution_count": 20,
   "metadata": {},
   "outputs": [],
   "source": [
    "df[\"vaccinations\"] = df[\"vaccinations\"].astype(float)"
   ]
  },
  {
   "cell_type": "code",
   "execution_count": 21,
   "metadata": {},
   "outputs": [],
   "source": [
    "df[\"pop_2019\"] = df[\"pop_2019\"].astype(float)"
   ]
  },
  {
   "cell_type": "code",
   "execution_count": 22,
   "metadata": {},
   "outputs": [],
   "source": [
    "df[\"vaccinations_pct\"] = ((df[\"vaccinations\"] / df[\"pop_2019\"]) * 100).round(2)"
   ]
  },
  {
   "cell_type": "markdown",
   "metadata": {},
   "source": [
    "### Which week of the year? "
   ]
  },
  {
   "cell_type": "code",
   "execution_count": 23,
   "metadata": {},
   "outputs": [],
   "source": [
    "df[\"week\"] = pd.to_datetime(df[\"update_date\"]).dt.week"
   ]
  },
  {
   "cell_type": "code",
   "execution_count": 24,
   "metadata": {},
   "outputs": [],
   "source": [
    "df[\"weekday\"] = pd.to_datetime(df[\"update_date\"]).dt.day_name()"
   ]
  },
  {
   "cell_type": "markdown",
   "metadata": {},
   "source": [
    "### Just get the updates each Monday"
   ]
  },
  {
   "cell_type": "code",
   "execution_count": 25,
   "metadata": {},
   "outputs": [],
   "source": [
    "df = df[df[\"weekday\"] == \"Monday\"]"
   ]
  },
  {
   "cell_type": "code",
   "execution_count": 26,
   "metadata": {},
   "outputs": [
    {
     "data": {
      "text/html": [
       "<div>\n",
       "<style scoped>\n",
       "    .dataframe tbody tr th:only-of-type {\n",
       "        vertical-align: middle;\n",
       "    }\n",
       "\n",
       "    .dataframe tbody tr th {\n",
       "        vertical-align: top;\n",
       "    }\n",
       "\n",
       "    .dataframe thead th {\n",
       "        text-align: right;\n",
       "    }\n",
       "</style>\n",
       "<table border=\"1\" class=\"dataframe\">\n",
       "  <thead>\n",
       "    <tr style=\"text-align: right;\">\n",
       "      <th></th>\n",
       "      <th>area</th>\n",
       "      <th>vaccinations</th>\n",
       "      <th>pop_2019</th>\n",
       "      <th>vaccinations_pct</th>\n",
       "      <th>update_date</th>\n",
       "      <th>week</th>\n",
       "      <th>weekday</th>\n",
       "    </tr>\n",
       "  </thead>\n",
       "  <tbody>\n",
       "    <tr>\n",
       "      <th>4345</th>\n",
       "      <td>Los Angeles - Palms</td>\n",
       "      <td>14793.0</td>\n",
       "      <td>36835.0</td>\n",
       "      <td>40.16</td>\n",
       "      <td>2021-04-12</td>\n",
       "      <td>15</td>\n",
       "      <td>Monday</td>\n",
       "    </tr>\n",
       "    <tr>\n",
       "      <th>4282</th>\n",
       "      <td>Los Angeles - Chatsworth</td>\n",
       "      <td>14390.0</td>\n",
       "      <td>31934.0</td>\n",
       "      <td>45.06</td>\n",
       "      <td>2021-04-12</td>\n",
       "      <td>15</td>\n",
       "      <td>Monday</td>\n",
       "    </tr>\n",
       "    <tr>\n",
       "      <th>4284</th>\n",
       "      <td>Los Angeles - Chinatown</td>\n",
       "      <td>2707.0</td>\n",
       "      <td>7441.0</td>\n",
       "      <td>36.38</td>\n",
       "      <td>2021-04-12</td>\n",
       "      <td>15</td>\n",
       "      <td>Monday</td>\n",
       "    </tr>\n",
       "    <tr>\n",
       "      <th>4285</th>\n",
       "      <td>Los Angeles - Cloverdale/Cochran</td>\n",
       "      <td>3649.0</td>\n",
       "      <td>11658.0</td>\n",
       "      <td>31.30</td>\n",
       "      <td>2021-04-12</td>\n",
       "      <td>15</td>\n",
       "      <td>Monday</td>\n",
       "    </tr>\n",
       "    <tr>\n",
       "      <th>4286</th>\n",
       "      <td>Los Angeles - Country Club Park</td>\n",
       "      <td>5057.0</td>\n",
       "      <td>12607.0</td>\n",
       "      <td>40.11</td>\n",
       "      <td>2021-04-12</td>\n",
       "      <td>15</td>\n",
       "      <td>Monday</td>\n",
       "    </tr>\n",
       "  </tbody>\n",
       "</table>\n",
       "</div>"
      ],
      "text/plain": [
       "                                  area  vaccinations  pop_2019  \\\n",
       "4345               Los Angeles - Palms       14793.0   36835.0   \n",
       "4282          Los Angeles - Chatsworth       14390.0   31934.0   \n",
       "4284           Los Angeles - Chinatown        2707.0    7441.0   \n",
       "4285  Los Angeles - Cloverdale/Cochran        3649.0   11658.0   \n",
       "4286   Los Angeles - Country Club Park        5057.0   12607.0   \n",
       "\n",
       "      vaccinations_pct update_date  week weekday  \n",
       "4345             40.16  2021-04-12    15  Monday  \n",
       "4282             45.06  2021-04-12    15  Monday  \n",
       "4284             36.38  2021-04-12    15  Monday  \n",
       "4285             31.30  2021-04-12    15  Monday  \n",
       "4286             40.11  2021-04-12    15  Monday  "
      ]
     },
     "execution_count": 26,
     "metadata": {},
     "output_type": "execute_result"
    }
   ],
   "source": [
    "df.sort_values(\"week\", ascending=False).head()"
   ]
  },
  {
   "cell_type": "markdown",
   "metadata": {},
   "source": [
    "### Widen the data for weekly average columns"
   ]
  },
  {
   "cell_type": "code",
   "execution_count": 27,
   "metadata": {},
   "outputs": [],
   "source": [
    "df_pivot = (\n",
    "    pd.pivot_table(\n",
    "        df,\n",
    "        values=\"vaccinations_pct\",\n",
    "        index=\"area\",\n",
    "        columns=\"week\",\n",
    "        aggfunc=\"mean\",\n",
    "    )\n",
    "    .round(2)\n",
    "    .reset_index()\n",
    ")"
   ]
  },
  {
   "cell_type": "code",
   "execution_count": 28,
   "metadata": {},
   "outputs": [
    {
     "data": {
      "text/html": [
       "<div>\n",
       "<style scoped>\n",
       "    .dataframe tbody tr th:only-of-type {\n",
       "        vertical-align: middle;\n",
       "    }\n",
       "\n",
       "    .dataframe tbody tr th {\n",
       "        vertical-align: top;\n",
       "    }\n",
       "\n",
       "    .dataframe thead th {\n",
       "        text-align: right;\n",
       "    }\n",
       "</style>\n",
       "<table border=\"1\" class=\"dataframe\">\n",
       "  <thead>\n",
       "    <tr style=\"text-align: right;\">\n",
       "      <th>week</th>\n",
       "      <th>area</th>\n",
       "      <th>9</th>\n",
       "      <th>10</th>\n",
       "      <th>11</th>\n",
       "      <th>12</th>\n",
       "      <th>13</th>\n",
       "      <th>14</th>\n",
       "      <th>15</th>\n",
       "    </tr>\n",
       "  </thead>\n",
       "  <tbody>\n",
       "    <tr>\n",
       "      <th>0</th>\n",
       "      <td>Agoura Hills</td>\n",
       "      <td>21.82</td>\n",
       "      <td>21.82</td>\n",
       "      <td>28.70</td>\n",
       "      <td>28.70</td>\n",
       "      <td>38.91</td>\n",
       "      <td>38.91</td>\n",
       "      <td>47.18</td>\n",
       "    </tr>\n",
       "    <tr>\n",
       "      <th>1</th>\n",
       "      <td>Alhambra</td>\n",
       "      <td>18.68</td>\n",
       "      <td>18.68</td>\n",
       "      <td>26.57</td>\n",
       "      <td>26.57</td>\n",
       "      <td>37.35</td>\n",
       "      <td>37.35</td>\n",
       "      <td>45.10</td>\n",
       "    </tr>\n",
       "    <tr>\n",
       "      <th>2</th>\n",
       "      <td>Arcadia</td>\n",
       "      <td>20.90</td>\n",
       "      <td>20.90</td>\n",
       "      <td>27.74</td>\n",
       "      <td>27.74</td>\n",
       "      <td>37.66</td>\n",
       "      <td>37.66</td>\n",
       "      <td>46.08</td>\n",
       "    </tr>\n",
       "    <tr>\n",
       "      <th>3</th>\n",
       "      <td>Artesia</td>\n",
       "      <td>20.83</td>\n",
       "      <td>20.83</td>\n",
       "      <td>25.73</td>\n",
       "      <td>25.73</td>\n",
       "      <td>35.27</td>\n",
       "      <td>35.27</td>\n",
       "      <td>42.27</td>\n",
       "    </tr>\n",
       "    <tr>\n",
       "      <th>4</th>\n",
       "      <td>Avalon</td>\n",
       "      <td>10.00</td>\n",
       "      <td>10.00</td>\n",
       "      <td>10.57</td>\n",
       "      <td>10.57</td>\n",
       "      <td>10.27</td>\n",
       "      <td>10.27</td>\n",
       "      <td>10.43</td>\n",
       "    </tr>\n",
       "  </tbody>\n",
       "</table>\n",
       "</div>"
      ],
      "text/plain": [
       "week           area      9     10     11     12     13     14     15\n",
       "0      Agoura Hills  21.82  21.82  28.70  28.70  38.91  38.91  47.18\n",
       "1          Alhambra  18.68  18.68  26.57  26.57  37.35  37.35  45.10\n",
       "2           Arcadia  20.90  20.90  27.74  27.74  37.66  37.66  46.08\n",
       "3           Artesia  20.83  20.83  25.73  25.73  35.27  35.27  42.27\n",
       "4            Avalon  10.00  10.00  10.57  10.57  10.27  10.27  10.43"
      ]
     },
     "execution_count": 28,
     "metadata": {},
     "output_type": "execute_result"
    }
   ],
   "source": [
    "df_pivot.head()"
   ]
  },
  {
   "cell_type": "code",
   "execution_count": 29,
   "metadata": {},
   "outputs": [],
   "source": [
    "df_pivot.columns = [\"pct_week_\" + str(col) for col in df_pivot.columns]"
   ]
  },
  {
   "cell_type": "code",
   "execution_count": 30,
   "metadata": {},
   "outputs": [],
   "source": [
    "df_pivot.rename(\n",
    "    columns={\"pct_week_area\": \"name\", \"week_pop_2019\": \"population\"}, inplace=True\n",
    ")"
   ]
  },
  {
   "cell_type": "code",
   "execution_count": 31,
   "metadata": {},
   "outputs": [
    {
     "data": {
      "text/html": [
       "<div>\n",
       "<style scoped>\n",
       "    .dataframe tbody tr th:only-of-type {\n",
       "        vertical-align: middle;\n",
       "    }\n",
       "\n",
       "    .dataframe tbody tr th {\n",
       "        vertical-align: top;\n",
       "    }\n",
       "\n",
       "    .dataframe thead th {\n",
       "        text-align: right;\n",
       "    }\n",
       "</style>\n",
       "<table border=\"1\" class=\"dataframe\">\n",
       "  <thead>\n",
       "    <tr style=\"text-align: right;\">\n",
       "      <th></th>\n",
       "      <th>name</th>\n",
       "      <th>pct_week_9</th>\n",
       "      <th>pct_week_10</th>\n",
       "      <th>pct_week_11</th>\n",
       "      <th>pct_week_12</th>\n",
       "      <th>pct_week_13</th>\n",
       "      <th>pct_week_14</th>\n",
       "      <th>pct_week_15</th>\n",
       "    </tr>\n",
       "  </thead>\n",
       "  <tbody>\n",
       "    <tr>\n",
       "      <th>0</th>\n",
       "      <td>Agoura Hills</td>\n",
       "      <td>21.82</td>\n",
       "      <td>21.82</td>\n",
       "      <td>28.70</td>\n",
       "      <td>28.70</td>\n",
       "      <td>38.91</td>\n",
       "      <td>38.91</td>\n",
       "      <td>47.18</td>\n",
       "    </tr>\n",
       "    <tr>\n",
       "      <th>1</th>\n",
       "      <td>Alhambra</td>\n",
       "      <td>18.68</td>\n",
       "      <td>18.68</td>\n",
       "      <td>26.57</td>\n",
       "      <td>26.57</td>\n",
       "      <td>37.35</td>\n",
       "      <td>37.35</td>\n",
       "      <td>45.10</td>\n",
       "    </tr>\n",
       "    <tr>\n",
       "      <th>2</th>\n",
       "      <td>Arcadia</td>\n",
       "      <td>20.90</td>\n",
       "      <td>20.90</td>\n",
       "      <td>27.74</td>\n",
       "      <td>27.74</td>\n",
       "      <td>37.66</td>\n",
       "      <td>37.66</td>\n",
       "      <td>46.08</td>\n",
       "    </tr>\n",
       "    <tr>\n",
       "      <th>3</th>\n",
       "      <td>Artesia</td>\n",
       "      <td>20.83</td>\n",
       "      <td>20.83</td>\n",
       "      <td>25.73</td>\n",
       "      <td>25.73</td>\n",
       "      <td>35.27</td>\n",
       "      <td>35.27</td>\n",
       "      <td>42.27</td>\n",
       "    </tr>\n",
       "    <tr>\n",
       "      <th>4</th>\n",
       "      <td>Avalon</td>\n",
       "      <td>10.00</td>\n",
       "      <td>10.00</td>\n",
       "      <td>10.57</td>\n",
       "      <td>10.57</td>\n",
       "      <td>10.27</td>\n",
       "      <td>10.27</td>\n",
       "      <td>10.43</td>\n",
       "    </tr>\n",
       "  </tbody>\n",
       "</table>\n",
       "</div>"
      ],
      "text/plain": [
       "            name  pct_week_9  pct_week_10  pct_week_11  pct_week_12  \\\n",
       "0   Agoura Hills       21.82        21.82        28.70        28.70   \n",
       "1       Alhambra       18.68        18.68        26.57        26.57   \n",
       "2        Arcadia       20.90        20.90        27.74        27.74   \n",
       "3        Artesia       20.83        20.83        25.73        25.73   \n",
       "4         Avalon       10.00        10.00        10.57        10.57   \n",
       "\n",
       "   pct_week_13  pct_week_14  pct_week_15  \n",
       "0        38.91        38.91        47.18  \n",
       "1        37.35        37.35        45.10  \n",
       "2        37.66        37.66        46.08  \n",
       "3        35.27        35.27        42.27  \n",
       "4        10.27        10.27        10.43  "
      ]
     },
     "execution_count": 31,
     "metadata": {},
     "output_type": "execute_result"
    }
   ],
   "source": [
    "df_pivot.head()"
   ]
  },
  {
   "cell_type": "markdown",
   "metadata": {},
   "source": [
    "### Merge with population figures/rates from vaccine disparity project"
   ]
  },
  {
   "cell_type": "code",
   "execution_count": 32,
   "metadata": {},
   "outputs": [],
   "source": [
    "disparity = pd.read_csv(\"../../vaccine-disparity/_workspace/neighborhoods_grouped.csv\")"
   ]
  },
  {
   "cell_type": "code",
   "execution_count": 33,
   "metadata": {},
   "outputs": [
    {
     "data": {
      "text/html": [
       "<div>\n",
       "<style scoped>\n",
       "    .dataframe tbody tr th:only-of-type {\n",
       "        vertical-align: middle;\n",
       "    }\n",
       "\n",
       "    .dataframe tbody tr th {\n",
       "        vertical-align: top;\n",
       "    }\n",
       "\n",
       "    .dataframe thead th {\n",
       "        text-align: right;\n",
       "    }\n",
       "</style>\n",
       "<table border=\"1\" class=\"dataframe\">\n",
       "  <thead>\n",
       "    <tr style=\"text-align: right;\">\n",
       "      <th></th>\n",
       "      <th>Unnamed: 0</th>\n",
       "      <th>id</th>\n",
       "      <th>name</th>\n",
       "      <th>tract</th>\n",
       "      <th>tract_percent</th>\n",
       "      <th>Unnamed: 0_x</th>\n",
       "      <th>total_white</th>\n",
       "      <th>white_17andunder</th>\n",
       "      <th>white_18to64</th>\n",
       "      <th>white_65andup</th>\n",
       "      <th>total_hispanic</th>\n",
       "      <th>hispanic_17andunder</th>\n",
       "      <th>hispanic_18to64</th>\n",
       "      <th>hispanic_65andup</th>\n",
       "      <th>total_black</th>\n",
       "      <th>black_17andunder</th>\n",
       "      <th>black_18to64</th>\n",
       "      <th>black_65andup</th>\n",
       "      <th>total_native_american</th>\n",
       "      <th>native_american_17andunder</th>\n",
       "      <th>native_american_18to64</th>\n",
       "      <th>native_american_65andup</th>\n",
       "      <th>total_other</th>\n",
       "      <th>other_17andunder</th>\n",
       "      <th>other_18to64</th>\n",
       "      <th>...</th>\n",
       "      <th>total_asian_percent</th>\n",
       "      <th>asian_17andunder_percent</th>\n",
       "      <th>asian_18to64_percent</th>\n",
       "      <th>asian_65andup_percent</th>\n",
       "      <th>total_pacificislander_percent</th>\n",
       "      <th>pacificislander_17andunder_percent</th>\n",
       "      <th>pacificislander_18to64_percent</th>\n",
       "      <th>pacificislander_65andup_percent</th>\n",
       "      <th>nonwhite_percentage</th>\n",
       "      <th>totalpop_17andunder_percent</th>\n",
       "      <th>totalpop_18to64_percent</th>\n",
       "      <th>totalpop_65andup_percent</th>\n",
       "      <th>healthcare_workers_percent</th>\n",
       "      <th>majority_nonwhite</th>\n",
       "      <th>majority_black</th>\n",
       "      <th>majority_asian</th>\n",
       "      <th>majority_white</th>\n",
       "      <th>majority_american_indian_and_alaska_native</th>\n",
       "      <th>majority_hispanic</th>\n",
       "      <th>majority_18to64</th>\n",
       "      <th>majority_65andup</th>\n",
       "      <th>Unnamed: 0_y</th>\n",
       "      <th>neighborhood</th>\n",
       "      <th>median_householdincome</th>\n",
       "      <th>majorityhigherthanmedianincomeLA</th>\n",
       "    </tr>\n",
       "  </thead>\n",
       "  <tbody>\n",
       "    <tr>\n",
       "      <th>0</th>\n",
       "      <td>0</td>\n",
       "      <td>1</td>\n",
       "      <td>Agoura Hills</td>\n",
       "      <td>56022.97</td>\n",
       "      <td>3.015807</td>\n",
       "      <td>15128</td>\n",
       "      <td>14294.386712</td>\n",
       "      <td>2565.000554</td>\n",
       "      <td>9240.747705</td>\n",
       "      <td>2488.638453</td>\n",
       "      <td>2060.384429</td>\n",
       "      <td>637.837458</td>\n",
       "      <td>1224.501950</td>\n",
       "      <td>0.000021</td>\n",
       "      <td>475.768824</td>\n",
       "      <td>167.211468</td>\n",
       "      <td>235.017585</td>\n",
       "      <td>73.539771</td>\n",
       "      <td>29.800880</td>\n",
       "      <td>16.466653</td>\n",
       "      <td>13.334227</td>\n",
       "      <td>0.000000</td>\n",
       "      <td>1360.190418</td>\n",
       "      <td>599.562387</td>\n",
       "      <td>692.685050</td>\n",
       "      <td>...</td>\n",
       "      <td>0.084100</td>\n",
       "      <td>0.076485</td>\n",
       "      <td>0.085944</td>\n",
       "      <td>0.084423</td>\n",
       "      <td>0.000000</td>\n",
       "      <td>0.000000</td>\n",
       "      <td>0.000000</td>\n",
       "      <td>0.000000</td>\n",
       "      <td>0.256824</td>\n",
       "      <td>0.215044</td>\n",
       "      <td>0.630619</td>\n",
       "      <td>0.159371</td>\n",
       "      <td>0.058344</td>\n",
       "      <td>True</td>\n",
       "      <td>False</td>\n",
       "      <td>False</td>\n",
       "      <td>True</td>\n",
       "      <td>False</td>\n",
       "      <td>False</td>\n",
       "      <td>True</td>\n",
       "      <td>False</td>\n",
       "      <td>0.0</td>\n",
       "      <td>Agoura Hills</td>\n",
       "      <td>121292.28270</td>\n",
       "      <td>True</td>\n",
       "    </tr>\n",
       "    <tr>\n",
       "      <th>1</th>\n",
       "      <td>1</td>\n",
       "      <td>2</td>\n",
       "      <td>Alhambra</td>\n",
       "      <td>161868.09</td>\n",
       "      <td>20.001823</td>\n",
       "      <td>47335</td>\n",
       "      <td>7500.641870</td>\n",
       "      <td>595.828265</td>\n",
       "      <td>4755.725927</td>\n",
       "      <td>2149.087677</td>\n",
       "      <td>30438.112581</td>\n",
       "      <td>7119.582940</td>\n",
       "      <td>19780.332201</td>\n",
       "      <td>0.000015</td>\n",
       "      <td>1892.355281</td>\n",
       "      <td>466.049670</td>\n",
       "      <td>1181.319618</td>\n",
       "      <td>244.985992</td>\n",
       "      <td>400.171514</td>\n",
       "      <td>26.149556</td>\n",
       "      <td>248.238252</td>\n",
       "      <td>125.783706</td>\n",
       "      <td>19460.555741</td>\n",
       "      <td>5174.416696</td>\n",
       "      <td>12865.429555</td>\n",
       "      <td>...</td>\n",
       "      <td>0.511584</td>\n",
       "      <td>0.393858</td>\n",
       "      <td>0.517814</td>\n",
       "      <td>0.598009</td>\n",
       "      <td>0.002586</td>\n",
       "      <td>0.005788</td>\n",
       "      <td>0.001722</td>\n",
       "      <td>0.002694</td>\n",
       "      <td>0.911412</td>\n",
       "      <td>0.169381</td>\n",
       "      <td>0.651545</td>\n",
       "      <td>0.179751</td>\n",
       "      <td>0.098254</td>\n",
       "      <td>False</td>\n",
       "      <td>False</td>\n",
       "      <td>True</td>\n",
       "      <td>False</td>\n",
       "      <td>False</td>\n",
       "      <td>False</td>\n",
       "      <td>True</td>\n",
       "      <td>False</td>\n",
       "      <td>1.0</td>\n",
       "      <td>Alhambra</td>\n",
       "      <td>61897.39551</td>\n",
       "      <td>False</td>\n",
       "    </tr>\n",
       "    <tr>\n",
       "      <th>2</th>\n",
       "      <td>2</td>\n",
       "      <td>3</td>\n",
       "      <td>Arcadia</td>\n",
       "      <td>126258.98</td>\n",
       "      <td>12.228262</td>\n",
       "      <td>37169</td>\n",
       "      <td>13381.530815</td>\n",
       "      <td>2115.148625</td>\n",
       "      <td>6685.762725</td>\n",
       "      <td>4580.619465</td>\n",
       "      <td>8147.091902</td>\n",
       "      <td>2441.806335</td>\n",
       "      <td>4856.815380</td>\n",
       "      <td>0.000006</td>\n",
       "      <td>990.881657</td>\n",
       "      <td>334.528273</td>\n",
       "      <td>525.148452</td>\n",
       "      <td>131.204932</td>\n",
       "      <td>70.730779</td>\n",
       "      <td>0.017364</td>\n",
       "      <td>24.079301</td>\n",
       "      <td>46.634115</td>\n",
       "      <td>5085.192956</td>\n",
       "      <td>1626.462948</td>\n",
       "      <td>3048.032363</td>\n",
       "      <td>...</td>\n",
       "      <td>0.605520</td>\n",
       "      <td>0.596204</td>\n",
       "      <td>0.642072</td>\n",
       "      <td>0.495743</td>\n",
       "      <td>0.001375</td>\n",
       "      <td>0.000157</td>\n",
       "      <td>0.001546</td>\n",
       "      <td>0.002277</td>\n",
       "      <td>0.783141</td>\n",
       "      <td>0.222551</td>\n",
       "      <td>0.592985</td>\n",
       "      <td>0.185774</td>\n",
       "      <td>0.103864</td>\n",
       "      <td>False</td>\n",
       "      <td>False</td>\n",
       "      <td>True</td>\n",
       "      <td>False</td>\n",
       "      <td>False</td>\n",
       "      <td>False</td>\n",
       "      <td>True</td>\n",
       "      <td>False</td>\n",
       "      <td>2.0</td>\n",
       "      <td>Arcadia</td>\n",
       "      <td>92543.61666</td>\n",
       "      <td>True</td>\n",
       "    </tr>\n",
       "    <tr>\n",
       "      <th>3</th>\n",
       "      <td>3</td>\n",
       "      <td>4</td>\n",
       "      <td>Artesia</td>\n",
       "      <td>55463.91</td>\n",
       "      <td>3.000606</td>\n",
       "      <td>18036</td>\n",
       "      <td>2543.198368</td>\n",
       "      <td>249.844904</td>\n",
       "      <td>1424.499924</td>\n",
       "      <td>868.853540</td>\n",
       "      <td>6684.617774</td>\n",
       "      <td>1596.709299</td>\n",
       "      <td>4444.111268</td>\n",
       "      <td>0.000097</td>\n",
       "      <td>852.042661</td>\n",
       "      <td>301.822462</td>\n",
       "      <td>497.791440</td>\n",
       "      <td>52.428760</td>\n",
       "      <td>59.913886</td>\n",
       "      <td>0.003356</td>\n",
       "      <td>0.049661</td>\n",
       "      <td>59.860869</td>\n",
       "      <td>4909.630360</td>\n",
       "      <td>1361.455844</td>\n",
       "      <td>3131.351644</td>\n",
       "      <td>...</td>\n",
       "      <td>0.367121</td>\n",
       "      <td>0.321175</td>\n",
       "      <td>0.387681</td>\n",
       "      <td>0.341434</td>\n",
       "      <td>0.002986</td>\n",
       "      <td>0.000024</td>\n",
       "      <td>0.001575</td>\n",
       "      <td>0.012780</td>\n",
       "      <td>0.848194</td>\n",
       "      <td>0.201502</td>\n",
       "      <td>0.644574</td>\n",
       "      <td>0.153806</td>\n",
       "      <td>0.181542</td>\n",
       "      <td>False</td>\n",
       "      <td>False</td>\n",
       "      <td>False</td>\n",
       "      <td>False</td>\n",
       "      <td>False</td>\n",
       "      <td>False</td>\n",
       "      <td>True</td>\n",
       "      <td>False</td>\n",
       "      <td>3.0</td>\n",
       "      <td>Artesia</td>\n",
       "      <td>67486.31903</td>\n",
       "      <td>False</td>\n",
       "    </tr>\n",
       "    <tr>\n",
       "      <th>4</th>\n",
       "      <td>4</td>\n",
       "      <td>5</td>\n",
       "      <td>Avalon</td>\n",
       "      <td>11981.00</td>\n",
       "      <td>0.830664</td>\n",
       "      <td>3881</td>\n",
       "      <td>1298.646327</td>\n",
       "      <td>95.240319</td>\n",
       "      <td>830.798525</td>\n",
       "      <td>372.607483</td>\n",
       "      <td>1704.840285</td>\n",
       "      <td>714.150321</td>\n",
       "      <td>926.143353</td>\n",
       "      <td>0.000333</td>\n",
       "      <td>3.354092</td>\n",
       "      <td>0.000000</td>\n",
       "      <td>3.354092</td>\n",
       "      <td>0.000000</td>\n",
       "      <td>0.000000</td>\n",
       "      <td>0.000000</td>\n",
       "      <td>0.000000</td>\n",
       "      <td>0.000000</td>\n",
       "      <td>583.530943</td>\n",
       "      <td>294.597351</td>\n",
       "      <td>263.280451</td>\n",
       "      <td>...</td>\n",
       "      <td>0.000558</td>\n",
       "      <td>0.000000</td>\n",
       "      <td>0.000027</td>\n",
       "      <td>0.003757</td>\n",
       "      <td>0.000324</td>\n",
       "      <td>0.000000</td>\n",
       "      <td>0.000558</td>\n",
       "      <td>0.000000</td>\n",
       "      <td>0.574229</td>\n",
       "      <td>0.265365</td>\n",
       "      <td>0.580198</td>\n",
       "      <td>0.144410</td>\n",
       "      <td>0.067722</td>\n",
       "      <td>False</td>\n",
       "      <td>False</td>\n",
       "      <td>False</td>\n",
       "      <td>False</td>\n",
       "      <td>False</td>\n",
       "      <td>True</td>\n",
       "      <td>True</td>\n",
       "      <td>False</td>\n",
       "      <td>4.0</td>\n",
       "      <td>Avalon</td>\n",
       "      <td>73854.46872</td>\n",
       "      <td>True</td>\n",
       "    </tr>\n",
       "  </tbody>\n",
       "</table>\n",
       "<p>5 rows × 84 columns</p>\n",
       "</div>"
      ],
      "text/plain": [
       "   Unnamed: 0  id          name      tract  tract_percent  Unnamed: 0_x  \\\n",
       "0           0   1  Agoura Hills   56022.97       3.015807         15128   \n",
       "1           1   2      Alhambra  161868.09      20.001823         47335   \n",
       "2           2   3       Arcadia  126258.98      12.228262         37169   \n",
       "3           3   4       Artesia   55463.91       3.000606         18036   \n",
       "4           4   5        Avalon   11981.00       0.830664          3881   \n",
       "\n",
       "    total_white  white_17andunder  white_18to64  white_65andup  \\\n",
       "0  14294.386712       2565.000554   9240.747705    2488.638453   \n",
       "1   7500.641870        595.828265   4755.725927    2149.087677   \n",
       "2  13381.530815       2115.148625   6685.762725    4580.619465   \n",
       "3   2543.198368        249.844904   1424.499924     868.853540   \n",
       "4   1298.646327         95.240319    830.798525     372.607483   \n",
       "\n",
       "   total_hispanic  hispanic_17andunder  hispanic_18to64  hispanic_65andup  \\\n",
       "0     2060.384429           637.837458      1224.501950          0.000021   \n",
       "1    30438.112581          7119.582940     19780.332201          0.000015   \n",
       "2     8147.091902          2441.806335      4856.815380          0.000006   \n",
       "3     6684.617774          1596.709299      4444.111268          0.000097   \n",
       "4     1704.840285           714.150321       926.143353          0.000333   \n",
       "\n",
       "   total_black  black_17andunder  black_18to64  black_65andup  \\\n",
       "0   475.768824        167.211468    235.017585      73.539771   \n",
       "1  1892.355281        466.049670   1181.319618     244.985992   \n",
       "2   990.881657        334.528273    525.148452     131.204932   \n",
       "3   852.042661        301.822462    497.791440      52.428760   \n",
       "4     3.354092          0.000000      3.354092       0.000000   \n",
       "\n",
       "   total_native_american  native_american_17andunder  native_american_18to64  \\\n",
       "0              29.800880                   16.466653               13.334227   \n",
       "1             400.171514                   26.149556              248.238252   \n",
       "2              70.730779                    0.017364               24.079301   \n",
       "3              59.913886                    0.003356                0.049661   \n",
       "4               0.000000                    0.000000                0.000000   \n",
       "\n",
       "   native_american_65andup   total_other  other_17andunder  other_18to64  ...  \\\n",
       "0                 0.000000   1360.190418        599.562387    692.685050  ...   \n",
       "1               125.783706  19460.555741       5174.416696  12865.429555  ...   \n",
       "2                46.634115   5085.192956       1626.462948   3048.032363  ...   \n",
       "3                59.860869   4909.630360       1361.455844   3131.351644  ...   \n",
       "4                 0.000000    583.530943        294.597351    263.280451  ...   \n",
       "\n",
       "   total_asian_percent  asian_17andunder_percent  asian_18to64_percent  \\\n",
       "0             0.084100                  0.076485              0.085944   \n",
       "1             0.511584                  0.393858              0.517814   \n",
       "2             0.605520                  0.596204              0.642072   \n",
       "3             0.367121                  0.321175              0.387681   \n",
       "4             0.000558                  0.000000              0.000027   \n",
       "\n",
       "   asian_65andup_percent   total_pacificislander_percent  \\\n",
       "0                0.084423                       0.000000   \n",
       "1                0.598009                       0.002586   \n",
       "2                0.495743                       0.001375   \n",
       "3                0.341434                       0.002986   \n",
       "4                0.003757                       0.000324   \n",
       "\n",
       "   pacificislander_17andunder_percent  pacificislander_18to64_percent  \\\n",
       "0                            0.000000                        0.000000   \n",
       "1                            0.005788                        0.001722   \n",
       "2                            0.000157                        0.001546   \n",
       "3                            0.000024                        0.001575   \n",
       "4                            0.000000                        0.000558   \n",
       "\n",
       "   pacificislander_65andup_percent  nonwhite_percentage  \\\n",
       "0                         0.000000             0.256824   \n",
       "1                         0.002694             0.911412   \n",
       "2                         0.002277             0.783141   \n",
       "3                         0.012780             0.848194   \n",
       "4                         0.000000             0.574229   \n",
       "\n",
       "   totalpop_17andunder_percent  totalpop_18to64_percent  \\\n",
       "0                     0.215044                 0.630619   \n",
       "1                     0.169381                 0.651545   \n",
       "2                     0.222551                 0.592985   \n",
       "3                     0.201502                 0.644574   \n",
       "4                     0.265365                 0.580198   \n",
       "\n",
       "   totalpop_65andup_percent  healthcare_workers_percent  majority_nonwhite  \\\n",
       "0                  0.159371                    0.058344               True   \n",
       "1                  0.179751                    0.098254              False   \n",
       "2                  0.185774                    0.103864              False   \n",
       "3                  0.153806                    0.181542              False   \n",
       "4                  0.144410                    0.067722              False   \n",
       "\n",
       "   majority_black  majority_asian  majority_white  \\\n",
       "0           False           False            True   \n",
       "1           False            True           False   \n",
       "2           False            True           False   \n",
       "3           False           False           False   \n",
       "4           False           False           False   \n",
       "\n",
       "   majority_american_indian_and_alaska_native  majority_hispanic  \\\n",
       "0                                       False              False   \n",
       "1                                       False              False   \n",
       "2                                       False              False   \n",
       "3                                       False              False   \n",
       "4                                       False               True   \n",
       "\n",
       "   majority_18to64  majority_65andup  Unnamed: 0_y  neighborhood  \\\n",
       "0             True             False           0.0  Agoura Hills   \n",
       "1             True             False           1.0      Alhambra   \n",
       "2             True             False           2.0       Arcadia   \n",
       "3             True             False           3.0       Artesia   \n",
       "4             True             False           4.0        Avalon   \n",
       "\n",
       "   median_householdincome  majorityhigherthanmedianincomeLA  \n",
       "0            121292.28270                              True  \n",
       "1             61897.39551                             False  \n",
       "2             92543.61666                              True  \n",
       "3             67486.31903                             False  \n",
       "4             73854.46872                              True  \n",
       "\n",
       "[5 rows x 84 columns]"
      ]
     },
     "execution_count": 33,
     "metadata": {},
     "output_type": "execute_result"
    }
   ],
   "source": [
    "disparity.head()"
   ]
  },
  {
   "cell_type": "code",
   "execution_count": 34,
   "metadata": {},
   "outputs": [],
   "source": [
    "disparity_clean = disparity[\n",
    "    [\n",
    "        \"name\",\n",
    "        \"total_pop\",\n",
    "        #         \"totalpop_17andunder_percent\",\n",
    "        #         \"totalpop_18to64\",\n",
    "        #         \"totalpop_65andup\",\n",
    "        \"totalpop_17andunder_percent\",\n",
    "        \"totalpop_65andup_percent\",\n",
    "        \"nonwhite_percentage\",\n",
    "        \"majority_white\",\n",
    "        \"majority_hispanic\",\n",
    "        \"median_householdincome\",\n",
    "    ]\n",
    "]"
   ]
  },
  {
   "cell_type": "code",
   "execution_count": 35,
   "metadata": {},
   "outputs": [],
   "source": [
    "df_merge = pd.merge(df_pivot, disparity_clean, on=\"name\")"
   ]
  },
  {
   "cell_type": "code",
   "execution_count": 37,
   "metadata": {},
   "outputs": [],
   "source": [
    "df_merge[\"change_week9_to_15\"] = (\n",
    "    ((df_merge[\"pct_week_15\"] - df_merge[\"pct_week_9\"]) / df_merge[\"pct_week_9\"]) * 100\n",
    ").round()"
   ]
  },
  {
   "cell_type": "code",
   "execution_count": null,
   "metadata": {},
   "outputs": [],
   "source": [
    "df_merge_slim = df_merge[\n",
    "    [\n",
    "        \"name\",\n",
    "        \"pct_week_8\",\n",
    "        \"pct_week_15\",\n",
    "        \"total_pop\",\n",
    "        \"totalpop_17andunder_percent\",\n",
    "        \"totalpop_65andup_percent\",\n",
    "        \"nonwhite_percentage\",\n",
    "        \"majority_white\",\n",
    "        \"majority_hispanic\",\n",
    "        \"median_householdincome\",\n",
    "        \"change_week8_to_15\",\n",
    "    ]\n",
    "]"
   ]
  },
  {
   "cell_type": "code",
   "execution_count": null,
   "metadata": {},
   "outputs": [],
   "source": [
    "df_merge_slim.sort_values(\"change_week8_to_15\", ascending=False).tail(10)"
   ]
  },
  {
   "cell_type": "code",
   "execution_count": null,
   "metadata": {},
   "outputs": [],
   "source": [
    "larger_places = df_merge_slim[df_merge_slim[\"total_pop\"] > 5000]"
   ]
  },
  {
   "cell_type": "markdown",
   "metadata": {},
   "source": [
    "### Which places with populations of more than 5,000 saw the largest pct increase from week 8 to week 15?"
   ]
  },
  {
   "cell_type": "code",
   "execution_count": null,
   "metadata": {},
   "outputs": [],
   "source": [
    "larger_places.sort_values(\"change_week8_to_15\", ascending=False).head(10)"
   ]
  },
  {
   "cell_type": "markdown",
   "metadata": {},
   "source": [
    "### Mean income and older population share in places with largest pct increases"
   ]
  },
  {
   "cell_type": "code",
   "execution_count": null,
   "metadata": {},
   "outputs": [],
   "source": [
    "round(\n",
    "    larger_places.sort_values(\"change_week8_to_15\", ascending=False)\n",
    "    .head(10)[\"median_householdincome\"]\n",
    "    .mean()\n",
    ")"
   ]
  },
  {
   "cell_type": "code",
   "execution_count": null,
   "metadata": {},
   "outputs": [],
   "source": [
    "round(\n",
    "    larger_places.sort_values(\"change_week8_to_15\", ascending=False)\n",
    "    .head(10)[\"totalpop_65andup_percent\"]\n",
    "    .mean()\n",
    "    * 100,\n",
    "    2,\n",
    ")"
   ]
  },
  {
   "cell_type": "markdown",
   "metadata": {},
   "source": [
    "### Which places with populations of more than 5,000 saw the smallest pct increase from week 8 to week 14?"
   ]
  },
  {
   "cell_type": "code",
   "execution_count": null,
   "metadata": {},
   "outputs": [],
   "source": [
    "larger_places.sort_values(\"change_week8_to_15\", ascending=False).tail(10)"
   ]
  },
  {
   "cell_type": "markdown",
   "metadata": {},
   "source": [
    "### Mean income and older population share in places with smalles pct increases"
   ]
  },
  {
   "cell_type": "code",
   "execution_count": null,
   "metadata": {},
   "outputs": [],
   "source": [
    "round(\n",
    "    larger_places.sort_values(\"change_week8_to_15\", ascending=False)\n",
    "    .tail(10)[\"median_householdincome\"]\n",
    "    .mean()\n",
    ")"
   ]
  },
  {
   "cell_type": "code",
   "execution_count": null,
   "metadata": {},
   "outputs": [],
   "source": [
    "round(\n",
    "    larger_places.sort_values(\"change_week8_to_15\", ascending=False)\n",
    "    .tail(10)[\"totalpop_65andup_percent\"]\n",
    "    .mean()\n",
    "    * 100,\n",
    "    2,\n",
    ")"
   ]
  },
  {
   "cell_type": "markdown",
   "metadata": {},
   "source": [
    "### Which places have the highest vaccination coverage right now? "
   ]
  },
  {
   "cell_type": "code",
   "execution_count": null,
   "metadata": {},
   "outputs": [],
   "source": [
    "larger_places[[\"name\", \"pct_week_15\"]].sort_values(\"pct_week_15\", ascending=False).head(\n",
    "    10\n",
    ")"
   ]
  },
  {
   "cell_type": "markdown",
   "metadata": {},
   "source": [
    "### What's the relationship between these variables and vaccination rate increases?"
   ]
  },
  {
   "cell_type": "code",
   "execution_count": null,
   "metadata": {},
   "outputs": [],
   "source": [
    "df_corr = larger_places[\n",
    "    [\n",
    "        \"name\",\n",
    "        \"pct_week_15\",\n",
    "        \"change_week8_to_15\",\n",
    "        \"nonwhite_percentage\",\n",
    "        \"totalpop_65andup_percent\",\n",
    "        \"median_householdincome\",\n",
    "    ]\n",
    "]"
   ]
  },
  {
   "cell_type": "code",
   "execution_count": null,
   "metadata": {},
   "outputs": [],
   "source": [
    "df_corr.corr(method=\"pearson\")"
   ]
  },
  {
   "cell_type": "markdown",
   "metadata": {},
   "source": [
    "---"
   ]
  },
  {
   "cell_type": "markdown",
   "metadata": {},
   "source": [
    "### Merge with geography"
   ]
  },
  {
   "cell_type": "code",
   "execution_count": null,
   "metadata": {},
   "outputs": [],
   "source": [
    "places_geo = gpd.read_file(\"../../vaccine-disparity/assets/lac-areas.json\")"
   ]
  },
  {
   "cell_type": "code",
   "execution_count": null,
   "metadata": {},
   "outputs": [],
   "source": [
    "larger_places.head()"
   ]
  },
  {
   "cell_type": "markdown",
   "metadata": {},
   "source": [
    "---"
   ]
  },
  {
   "cell_type": "markdown",
   "metadata": {},
   "source": [
    "### Export to csv"
   ]
  },
  {
   "cell_type": "code",
   "execution_count": null,
   "metadata": {},
   "outputs": [],
   "source": [
    "import datetime as dt\n",
    "\n",
    "today = dt.datetime.today().strftime(\"%m-%d-%Y\")"
   ]
  },
  {
   "cell_type": "code",
   "execution_count": null,
   "metadata": {},
   "outputs": [],
   "source": []
  },
  {
   "cell_type": "code",
   "execution_count": null,
   "metadata": {},
   "outputs": [],
   "source": [
    "concatenated_df.to_csv(\n",
    "    \"output/vaccine-community/lac_vax_by_place_\" + today + \".csv\",\n",
    "    index=False,\n",
    ")"
   ]
  },
  {
   "cell_type": "code",
   "execution_count": null,
   "metadata": {},
   "outputs": [],
   "source": [
    "df_pivot.to_csv(\n",
    "    \"output/vaccine-community/lac_vax_by_place_weeks_\" + today + \".csv\",\n",
    "    index=False,\n",
    ")"
   ]
  },
  {
   "cell_type": "code",
   "execution_count": null,
   "metadata": {},
   "outputs": [],
   "source": [
    "larger_places.sort_values(\"change_week8_to_15\", ascending=False).head(10).to_csv(\n",
    "    \"output/vaccine-community/largest_vax_coverage_change\" + today + \".csv\",\n",
    "    index=False,\n",
    ")"
   ]
  },
  {
   "cell_type": "code",
   "execution_count": null,
   "metadata": {},
   "outputs": [],
   "source": [
    "larger_places.sort_values(\"change_week8_to_15\", ascending=False).tail(10).to_csv(\n",
    "    \"output/vaccine-community/smallest_vax_coverage_change\" + today + \".csv\",\n",
    "    index=False,\n",
    ")"
   ]
  },
  {
   "cell_type": "code",
   "execution_count": null,
   "metadata": {},
   "outputs": [],
   "source": []
  }
 ],
 "metadata": {
  "kernelspec": {
   "display_name": "Python 3",
   "language": "python",
   "name": "python3"
  },
  "language_info": {
   "codemirror_mode": {
    "name": "ipython",
    "version": 3
   },
   "file_extension": ".py",
   "mimetype": "text/x-python",
   "name": "python",
   "nbconvert_exporter": "python",
   "pygments_lexer": "ipython3",
   "version": "3.7.4"
  }
 },
 "nbformat": 4,
 "nbformat_minor": 4
}
