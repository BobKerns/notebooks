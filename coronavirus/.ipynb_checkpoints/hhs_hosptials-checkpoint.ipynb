{
 "cells": [
  {
   "cell_type": "markdown",
   "metadata": {},
   "source": [
    "# Analyzing HHS hospital occupancy data"
   ]
  },
  {
   "cell_type": "markdown",
   "metadata": {},
   "source": [
    "#### An analysis of HHS hospital data, by @datagraphics and @stiles.\n",
    "\n",
    "#### **Questions?** [matt.stiles@latimes.com](matt.stiles@latimes.com) \\\\ 310.529.8749"
   ]
  },
  {
   "cell_type": "markdown",
   "metadata": {},
   "source": [
    "---"
   ]
  },
  {
   "cell_type": "markdown",
   "metadata": {},
   "source": [
    "### Import Python tools"
   ]
  },
  {
   "cell_type": "code",
   "execution_count": 1,
   "metadata": {},
   "outputs": [],
   "source": [
    "%load_ext lab_black"
   ]
  },
  {
   "cell_type": "code",
   "execution_count": 2,
   "metadata": {},
   "outputs": [
    {
     "data": {
      "text/plain": [
       "DataTransformerRegistry.enable('default')"
      ]
     },
     "execution_count": 2,
     "metadata": {},
     "output_type": "execute_result"
    }
   ],
   "source": [
    "import pandas as pd\n",
    "import geopandas as gpd\n",
    "import jenkspy\n",
    "import matplotlib.pyplot as plt\n",
    "\n",
    "%matplotlib inline\n",
    "import json\n",
    "import numpy as np\n",
    "import altair as alt\n",
    "import altair_latimes as lat\n",
    "\n",
    "alt.themes.register(\"latimes\", lat.theme)\n",
    "alt.themes.enable(\"latimes\")\n",
    "pd.options.display.max_columns = 50\n",
    "pd.options.display.max_rows = 1000\n",
    "alt.data_transformers.disable_max_rows()"
   ]
  },
  {
   "cell_type": "markdown",
   "metadata": {},
   "source": [
    "---"
   ]
  },
  {
   "cell_type": "markdown",
   "metadata": {},
   "source": [
    "### Define cities and regions metadata"
   ]
  },
  {
   "cell_type": "code",
   "execution_count": 3,
   "metadata": {},
   "outputs": [],
   "source": [
    "metadata_df = pd.read_csv(\"input/city-metadata.csv\", dtype={\"fips\": str})"
   ]
  },
  {
   "cell_type": "code",
   "execution_count": 4,
   "metadata": {},
   "outputs": [],
   "source": [
    "metadata_df = metadata_df[[\"county\", \"fips\", \"population\", \"region\"]]"
   ]
  },
  {
   "cell_type": "code",
   "execution_count": 5,
   "metadata": {},
   "outputs": [],
   "source": [
    "socal = [\"Los Angeles\", \"Orange\", \"Ventura\", \"San Bernardino\", \"Riverside\"]\n",
    "bayarea = [\n",
    "    \"Alameda\",\n",
    "    \"Contra Costa\",\n",
    "    \"Marin\",\n",
    "    \"Napa\",\n",
    "    \"San Francisco\",\n",
    "    \"San Mateo\",\n",
    "    \"Santa Clara\",\n",
    "    \"Solano\",\n",
    "    \"Sonoma\",\n",
    "]"
   ]
  },
  {
   "cell_type": "markdown",
   "metadata": {},
   "source": [
    "### Get the latest url from the HHS API and read in the latest dataframe"
   ]
  },
  {
   "cell_type": "code",
   "execution_count": 6,
   "metadata": {},
   "outputs": [],
   "source": [
    "# Data dictionary: https://healthdata.gov/covid-19-reported-patient-impact-and-hospital-capacity-facility-data-dictionary\n",
    "# Data source: https://healthdata.gov/dataset/covid-19-reported-patient-impact-and-hospital-capacity-facility"
   ]
  },
  {
   "cell_type": "code",
   "execution_count": 7,
   "metadata": {},
   "outputs": [],
   "source": [
    "metadata = pd.read_json(\n",
    "# TODO this API will keep working with the addition of the legacy in the domain, but the code needs to be ported to use the new API\n",
    "    \"https://legacy.healthdata.gov/api/3/action/package_show?id=d475cc4e-83cd-4c16-be57-9105f300e0bc&page=0\"\n",
    ").result[0][\"resources\"]"
   ]
  },
  {
   "cell_type": "code",
   "execution_count": 8,
   "metadata": {},
   "outputs": [],
   "source": [
    "src = pd.read_csv(\n",
    "    metadata[0][\"url\"],\n",
    "    dtype={\"fips_code\": str, \"zip\": str},\n",
    "    infer_datetime_format=True,\n",
    "    parse_dates=True,\n",
    ")"
   ]
  },
  {
   "cell_type": "code",
   "execution_count": 9,
   "metadata": {},
   "outputs": [],
   "source": [
    "# src = pd.read_csv('https://healthdata.gov/sites/default/files/reported_hospital_capacity_admissions_facility_level_weekly_average_timeseries_20201228.csv',\\\n",
    "# dtype={'fips_code':str, 'zip':str}, infer_datetime_format=True, parse_dates=True)"
   ]
  },
  {
   "cell_type": "code",
   "execution_count": 10,
   "metadata": {},
   "outputs": [],
   "source": [
    "df = src.copy()"
   ]
  },
  {
   "cell_type": "code",
   "execution_count": 11,
   "metadata": {},
   "outputs": [],
   "source": [
    "ca_data = pd.DataFrame(df.loc[df.state == \"CA\"])"
   ]
  },
  {
   "cell_type": "code",
   "execution_count": 12,
   "metadata": {},
   "outputs": [],
   "source": [
    "ca_data[\"fips\"] = ca_data[\"fips_code\"].str[2:5]"
   ]
  },
  {
   "cell_type": "code",
   "execution_count": 13,
   "metadata": {},
   "outputs": [],
   "source": [
    "ca_timeseries = pd.merge(\n",
    "    ca_data, metadata_df, how=\"left\", left_on=\"fips\", right_on=\"fips\"\n",
    ")"
   ]
  },
  {
   "cell_type": "markdown",
   "metadata": {},
   "source": [
    "### What's the most recent collection week?"
   ]
  },
  {
   "cell_type": "code",
   "execution_count": 14,
   "metadata": {},
   "outputs": [],
   "source": [
    "ca_timeseries[\"collection_week\"] = pd.to_datetime(ca_timeseries[\"collection_week\"])"
   ]
  },
  {
   "cell_type": "code",
   "execution_count": 15,
   "metadata": {},
   "outputs": [
    {
     "data": {
      "text/plain": [
       "Timestamp('2021-01-01 00:00:00')"
      ]
     },
     "execution_count": 15,
     "metadata": {},
     "output_type": "execute_result"
    }
   ],
   "source": [
    "ca_timeseries[\"collection_week\"].max()"
   ]
  },
  {
   "cell_type": "markdown",
   "metadata": {},
   "source": [
    "### Get rid of the -999999 suppressed values"
   ]
  },
  {
   "cell_type": "code",
   "execution_count": 16,
   "metadata": {},
   "outputs": [],
   "source": [
    "ca_timeseries = ca_timeseries.replace([-999999.0], [0])"
   ]
  },
  {
   "cell_type": "code",
   "execution_count": 17,
   "metadata": {},
   "outputs": [],
   "source": [
    "ca_timeseries[\"hospital_name\"] = (ca_timeseries[\"hospital_name\"]).str.title()\n",
    "ca_timeseries[\"hospital_name\"] = (\n",
    "    (ca_timeseries[\"hospital_name\"])\n",
    "    .str.replace(\" Of \", \" of \")\n",
    "    .str.replace(\"Hlth\", \"Health\")\n",
    "    .str.replace(\" La\", \" LA\")\n",
    ")"
   ]
  },
  {
   "cell_type": "markdown",
   "metadata": {},
   "source": [
    "---"
   ]
  },
  {
   "cell_type": "markdown",
   "metadata": {},
   "source": [
    "## Calculate some hospitalization/covid rates"
   ]
  },
  {
   "cell_type": "code",
   "execution_count": 18,
   "metadata": {},
   "outputs": [
    {
     "data": {
      "text/html": [
       "<div>\n",
       "<style scoped>\n",
       "    .dataframe tbody tr th:only-of-type {\n",
       "        vertical-align: middle;\n",
       "    }\n",
       "\n",
       "    .dataframe tbody tr th {\n",
       "        vertical-align: top;\n",
       "    }\n",
       "\n",
       "    .dataframe thead th {\n",
       "        text-align: right;\n",
       "    }\n",
       "</style>\n",
       "<table border=\"1\" class=\"dataframe\">\n",
       "  <thead>\n",
       "    <tr style=\"text-align: right;\">\n",
       "      <th></th>\n",
       "      <th>hospital_pk</th>\n",
       "      <th>collection_week</th>\n",
       "      <th>state</th>\n",
       "      <th>ccn</th>\n",
       "      <th>hospital_name</th>\n",
       "      <th>address</th>\n",
       "      <th>city</th>\n",
       "      <th>zip</th>\n",
       "      <th>hospital_subtype</th>\n",
       "      <th>fips_code</th>\n",
       "      <th>is_metro_micro</th>\n",
       "      <th>total_beds_7_day_avg</th>\n",
       "      <th>all_adult_hospital_beds_7_day_avg</th>\n",
       "      <th>all_adult_hospital_inpatient_beds_7_day_avg</th>\n",
       "      <th>inpatient_beds_used_7_day_avg</th>\n",
       "      <th>all_adult_hospital_inpatient_bed_occupied_7_day_avg</th>\n",
       "      <th>total_adult_patients_hospitalized_confirmed_and_suspected_covid_7_day_avg</th>\n",
       "      <th>total_adult_patients_hospitalized_confirmed_covid_7_day_avg</th>\n",
       "      <th>total_pediatric_patients_hospitalized_confirmed_and_suspected_covid_7_day_avg</th>\n",
       "      <th>total_pediatric_patients_hospitalized_confirmed_covid_7_day_avg</th>\n",
       "      <th>inpatient_beds_7_day_avg</th>\n",
       "      <th>total_icu_beds_7_day_avg</th>\n",
       "      <th>total_staffed_adult_icu_beds_7_day_avg</th>\n",
       "      <th>icu_beds_used_7_day_avg</th>\n",
       "      <th>staffed_adult_icu_bed_occupancy_7_day_avg</th>\n",
       "      <th>...</th>\n",
       "      <th>previous_day_admission_adult_covid_confirmed_40-49_7_day_sum</th>\n",
       "      <th>previous_day_admission_adult_covid_confirmed_50-59_7_day_sum</th>\n",
       "      <th>previous_day_admission_adult_covid_confirmed_60-69_7_day_sum</th>\n",
       "      <th>previous_day_admission_adult_covid_confirmed_70-79_7_day_sum</th>\n",
       "      <th>previous_day_admission_adult_covid_confirmed_80+_7_day_sum</th>\n",
       "      <th>previous_day_admission_adult_covid_confirmed_unknown_7_day_sum</th>\n",
       "      <th>previous_day_admission_pediatric_covid_confirmed_7_day_sum</th>\n",
       "      <th>previous_day_covid_ED_visits_7_day_sum</th>\n",
       "      <th>previous_day_admission_adult_covid_suspected_7_day_sum</th>\n",
       "      <th>previous_day_admission_adult_covid_suspected_18-19_7_day_sum</th>\n",
       "      <th>previous_day_admission_adult_covid_suspected_20-29_7_day_sum</th>\n",
       "      <th>previous_day_admission_adult_covid_suspected_30-39_7_day_sum</th>\n",
       "      <th>previous_day_admission_adult_covid_suspected_40-49_7_day_sum</th>\n",
       "      <th>previous_day_admission_adult_covid_suspected_50-59_7_day_sum</th>\n",
       "      <th>previous_day_admission_adult_covid_suspected_60-69_7_day_sum</th>\n",
       "      <th>previous_day_admission_adult_covid_suspected_70-79_7_day_sum</th>\n",
       "      <th>previous_day_admission_adult_covid_suspected_80+_7_day_sum</th>\n",
       "      <th>previous_day_admission_adult_covid_suspected_unknown_7_day_sum</th>\n",
       "      <th>previous_day_admission_pediatric_covid_suspected_7_day_sum</th>\n",
       "      <th>previous_day_total_ED_visits_7_day_sum</th>\n",
       "      <th>previous_day_admission_influenza_confirmed_7_day_sum</th>\n",
       "      <th>fips</th>\n",
       "      <th>county</th>\n",
       "      <th>population</th>\n",
       "      <th>region</th>\n",
       "    </tr>\n",
       "  </thead>\n",
       "  <tbody>\n",
       "    <tr>\n",
       "      <th>0</th>\n",
       "      <td>050283</td>\n",
       "      <td>2021-01-01</td>\n",
       "      <td>CA</td>\n",
       "      <td>050283</td>\n",
       "      <td>Stanford Health Care - Valleycare</td>\n",
       "      <td>5555 WEST LAS POSITAS BOULEVARD</td>\n",
       "      <td>PLEASANTON</td>\n",
       "      <td>94588</td>\n",
       "      <td>Short Term</td>\n",
       "      <td>06001</td>\n",
       "      <td>True</td>\n",
       "      <td>257.0</td>\n",
       "      <td>253.0</td>\n",
       "      <td>237.0</td>\n",
       "      <td>93.4</td>\n",
       "      <td>93.4</td>\n",
       "      <td>33.1</td>\n",
       "      <td>29.7</td>\n",
       "      <td>0.0</td>\n",
       "      <td>0.0</td>\n",
       "      <td>241.1</td>\n",
       "      <td>38.0</td>\n",
       "      <td>22.0</td>\n",
       "      <td>20.0</td>\n",
       "      <td>16.9</td>\n",
       "      <td>...</td>\n",
       "      <td>0.0</td>\n",
       "      <td>0.0</td>\n",
       "      <td>0.0</td>\n",
       "      <td>7.0</td>\n",
       "      <td>12.0</td>\n",
       "      <td>0.0</td>\n",
       "      <td>0.0</td>\n",
       "      <td>59.0</td>\n",
       "      <td>10.0</td>\n",
       "      <td>0.0</td>\n",
       "      <td>0.0</td>\n",
       "      <td>0.0</td>\n",
       "      <td>0.0</td>\n",
       "      <td>0.0</td>\n",
       "      <td>0.0</td>\n",
       "      <td>5.0</td>\n",
       "      <td>0.0</td>\n",
       "      <td>0.0</td>\n",
       "      <td>0.0</td>\n",
       "      <td>508.0</td>\n",
       "      <td>0.0</td>\n",
       "      <td>001</td>\n",
       "      <td>Alameda</td>\n",
       "      <td>1,643,700</td>\n",
       "      <td>Bay Area</td>\n",
       "    </tr>\n",
       "    <tr>\n",
       "      <th>1</th>\n",
       "      <td>050305</td>\n",
       "      <td>2021-01-01</td>\n",
       "      <td>CA</td>\n",
       "      <td>050305</td>\n",
       "      <td>Alta Bates Summit Medical Center - Alta Bates ...</td>\n",
       "      <td>2450 ASHBY AVENUE</td>\n",
       "      <td>BERKELEY</td>\n",
       "      <td>94705</td>\n",
       "      <td>Short Term</td>\n",
       "      <td>06001</td>\n",
       "      <td>True</td>\n",
       "      <td>403.0</td>\n",
       "      <td>348.0</td>\n",
       "      <td>341.0</td>\n",
       "      <td>144.1</td>\n",
       "      <td>143.7</td>\n",
       "      <td>38.0</td>\n",
       "      <td>36.4</td>\n",
       "      <td>0.0</td>\n",
       "      <td>0.0</td>\n",
       "      <td>396.0</td>\n",
       "      <td>30.0</td>\n",
       "      <td>30.0</td>\n",
       "      <td>15.1</td>\n",
       "      <td>15.1</td>\n",
       "      <td>...</td>\n",
       "      <td>5.0</td>\n",
       "      <td>0.0</td>\n",
       "      <td>6.0</td>\n",
       "      <td>10.0</td>\n",
       "      <td>10.0</td>\n",
       "      <td>0.0</td>\n",
       "      <td>0.0</td>\n",
       "      <td>232.0</td>\n",
       "      <td>19.0</td>\n",
       "      <td>0.0</td>\n",
       "      <td>5.0</td>\n",
       "      <td>4.0</td>\n",
       "      <td>0.0</td>\n",
       "      <td>4.0</td>\n",
       "      <td>0.0</td>\n",
       "      <td>0.0</td>\n",
       "      <td>0.0</td>\n",
       "      <td>0.0</td>\n",
       "      <td>0.0</td>\n",
       "      <td>558.0</td>\n",
       "      <td>0.0</td>\n",
       "      <td>001</td>\n",
       "      <td>Alameda</td>\n",
       "      <td>1,643,700</td>\n",
       "      <td>Bay Area</td>\n",
       "    </tr>\n",
       "    <tr>\n",
       "      <th>2</th>\n",
       "      <td>050320</td>\n",
       "      <td>2021-01-01</td>\n",
       "      <td>CA</td>\n",
       "      <td>050320</td>\n",
       "      <td>Highland Hospital</td>\n",
       "      <td>1411 EAST 31ST STREET</td>\n",
       "      <td>OAKLAND</td>\n",
       "      <td>94602</td>\n",
       "      <td>Short Term</td>\n",
       "      <td>06001</td>\n",
       "      <td>True</td>\n",
       "      <td>432.0</td>\n",
       "      <td>424.0</td>\n",
       "      <td>424.0</td>\n",
       "      <td>169.0</td>\n",
       "      <td>168.0</td>\n",
       "      <td>37.6</td>\n",
       "      <td>35.1</td>\n",
       "      <td>0.0</td>\n",
       "      <td>0.0</td>\n",
       "      <td>432.0</td>\n",
       "      <td>41.0</td>\n",
       "      <td>33.0</td>\n",
       "      <td>24.9</td>\n",
       "      <td>23.9</td>\n",
       "      <td>...</td>\n",
       "      <td>4.0</td>\n",
       "      <td>5.0</td>\n",
       "      <td>7.0</td>\n",
       "      <td>5.0</td>\n",
       "      <td>4.0</td>\n",
       "      <td>0.0</td>\n",
       "      <td>0.0</td>\n",
       "      <td>602.0</td>\n",
       "      <td>12.0</td>\n",
       "      <td>0.0</td>\n",
       "      <td>0.0</td>\n",
       "      <td>0.0</td>\n",
       "      <td>0.0</td>\n",
       "      <td>0.0</td>\n",
       "      <td>0.0</td>\n",
       "      <td>0.0</td>\n",
       "      <td>0.0</td>\n",
       "      <td>0.0</td>\n",
       "      <td>0.0</td>\n",
       "      <td>1362.0</td>\n",
       "      <td>0.0</td>\n",
       "      <td>001</td>\n",
       "      <td>Alameda</td>\n",
       "      <td>1,643,700</td>\n",
       "      <td>Bay Area</td>\n",
       "    </tr>\n",
       "    <tr>\n",
       "      <th>3</th>\n",
       "      <td>050488</td>\n",
       "      <td>2021-01-01</td>\n",
       "      <td>CA</td>\n",
       "      <td>050488</td>\n",
       "      <td>Eden Medical Center</td>\n",
       "      <td>20103 LAKE CHABOT ROAD</td>\n",
       "      <td>CASTRO VALLEY</td>\n",
       "      <td>94546</td>\n",
       "      <td>Short Term</td>\n",
       "      <td>06001</td>\n",
       "      <td>True</td>\n",
       "      <td>150.4</td>\n",
       "      <td>150.0</td>\n",
       "      <td>139.3</td>\n",
       "      <td>139.6</td>\n",
       "      <td>139.1</td>\n",
       "      <td>44.1</td>\n",
       "      <td>43.4</td>\n",
       "      <td>0.0</td>\n",
       "      <td>0.0</td>\n",
       "      <td>139.7</td>\n",
       "      <td>24.0</td>\n",
       "      <td>24.0</td>\n",
       "      <td>22.7</td>\n",
       "      <td>22.7</td>\n",
       "      <td>...</td>\n",
       "      <td>0.0</td>\n",
       "      <td>0.0</td>\n",
       "      <td>7.0</td>\n",
       "      <td>6.0</td>\n",
       "      <td>6.0</td>\n",
       "      <td>0.0</td>\n",
       "      <td>0.0</td>\n",
       "      <td>323.0</td>\n",
       "      <td>17.0</td>\n",
       "      <td>0.0</td>\n",
       "      <td>0.0</td>\n",
       "      <td>4.0</td>\n",
       "      <td>0.0</td>\n",
       "      <td>0.0</td>\n",
       "      <td>0.0</td>\n",
       "      <td>0.0</td>\n",
       "      <td>4.0</td>\n",
       "      <td>0.0</td>\n",
       "      <td>0.0</td>\n",
       "      <td>669.0</td>\n",
       "      <td>0.0</td>\n",
       "      <td>001</td>\n",
       "      <td>Alameda</td>\n",
       "      <td>1,643,700</td>\n",
       "      <td>Bay Area</td>\n",
       "    </tr>\n",
       "    <tr>\n",
       "      <th>4</th>\n",
       "      <td>050002</td>\n",
       "      <td>2021-01-01</td>\n",
       "      <td>CA</td>\n",
       "      <td>050002</td>\n",
       "      <td>St Rose Hospital</td>\n",
       "      <td>27200 CALAROGA AVE</td>\n",
       "      <td>HAYWARD</td>\n",
       "      <td>94545</td>\n",
       "      <td>Short Term</td>\n",
       "      <td>06001</td>\n",
       "      <td>True</td>\n",
       "      <td>95.0</td>\n",
       "      <td>95.0</td>\n",
       "      <td>95.0</td>\n",
       "      <td>56.6</td>\n",
       "      <td>56.6</td>\n",
       "      <td>24.7</td>\n",
       "      <td>22.9</td>\n",
       "      <td>0.0</td>\n",
       "      <td>0.0</td>\n",
       "      <td>95.0</td>\n",
       "      <td>15.0</td>\n",
       "      <td>15.0</td>\n",
       "      <td>10.6</td>\n",
       "      <td>10.6</td>\n",
       "      <td>...</td>\n",
       "      <td>0.0</td>\n",
       "      <td>0.0</td>\n",
       "      <td>0.0</td>\n",
       "      <td>4.0</td>\n",
       "      <td>0.0</td>\n",
       "      <td>0.0</td>\n",
       "      <td>0.0</td>\n",
       "      <td>58.0</td>\n",
       "      <td>13.0</td>\n",
       "      <td>0.0</td>\n",
       "      <td>0.0</td>\n",
       "      <td>0.0</td>\n",
       "      <td>0.0</td>\n",
       "      <td>0.0</td>\n",
       "      <td>4.0</td>\n",
       "      <td>0.0</td>\n",
       "      <td>0.0</td>\n",
       "      <td>0.0</td>\n",
       "      <td>0.0</td>\n",
       "      <td>413.0</td>\n",
       "      <td>0.0</td>\n",
       "      <td>001</td>\n",
       "      <td>Alameda</td>\n",
       "      <td>1,643,700</td>\n",
       "      <td>Bay Area</td>\n",
       "    </tr>\n",
       "  </tbody>\n",
       "</table>\n",
       "<p>5 rows × 97 columns</p>\n",
       "</div>"
      ],
      "text/plain": [
       "  hospital_pk collection_week state     ccn  \\\n",
       "0      050283      2021-01-01    CA  050283   \n",
       "1      050305      2021-01-01    CA  050305   \n",
       "2      050320      2021-01-01    CA  050320   \n",
       "3      050488      2021-01-01    CA  050488   \n",
       "4      050002      2021-01-01    CA  050002   \n",
       "\n",
       "                                       hospital_name  \\\n",
       "0                  Stanford Health Care - Valleycare   \n",
       "1  Alta Bates Summit Medical Center - Alta Bates ...   \n",
       "2                                  Highland Hospital   \n",
       "3                                Eden Medical Center   \n",
       "4                                   St Rose Hospital   \n",
       "\n",
       "                           address           city    zip hospital_subtype  \\\n",
       "0  5555 WEST LAS POSITAS BOULEVARD     PLEASANTON  94588       Short Term   \n",
       "1                2450 ASHBY AVENUE       BERKELEY  94705       Short Term   \n",
       "2            1411 EAST 31ST STREET        OAKLAND  94602       Short Term   \n",
       "3           20103 LAKE CHABOT ROAD  CASTRO VALLEY  94546       Short Term   \n",
       "4               27200 CALAROGA AVE        HAYWARD  94545       Short Term   \n",
       "\n",
       "  fips_code  is_metro_micro  total_beds_7_day_avg  \\\n",
       "0     06001            True                 257.0   \n",
       "1     06001            True                 403.0   \n",
       "2     06001            True                 432.0   \n",
       "3     06001            True                 150.4   \n",
       "4     06001            True                  95.0   \n",
       "\n",
       "   all_adult_hospital_beds_7_day_avg  \\\n",
       "0                              253.0   \n",
       "1                              348.0   \n",
       "2                              424.0   \n",
       "3                              150.0   \n",
       "4                               95.0   \n",
       "\n",
       "   all_adult_hospital_inpatient_beds_7_day_avg  inpatient_beds_used_7_day_avg  \\\n",
       "0                                        237.0                           93.4   \n",
       "1                                        341.0                          144.1   \n",
       "2                                        424.0                          169.0   \n",
       "3                                        139.3                          139.6   \n",
       "4                                         95.0                           56.6   \n",
       "\n",
       "   all_adult_hospital_inpatient_bed_occupied_7_day_avg  \\\n",
       "0                                               93.4     \n",
       "1                                              143.7     \n",
       "2                                              168.0     \n",
       "3                                              139.1     \n",
       "4                                               56.6     \n",
       "\n",
       "   total_adult_patients_hospitalized_confirmed_and_suspected_covid_7_day_avg  \\\n",
       "0                                               33.1                           \n",
       "1                                               38.0                           \n",
       "2                                               37.6                           \n",
       "3                                               44.1                           \n",
       "4                                               24.7                           \n",
       "\n",
       "   total_adult_patients_hospitalized_confirmed_covid_7_day_avg  \\\n",
       "0                                               29.7             \n",
       "1                                               36.4             \n",
       "2                                               35.1             \n",
       "3                                               43.4             \n",
       "4                                               22.9             \n",
       "\n",
       "   total_pediatric_patients_hospitalized_confirmed_and_suspected_covid_7_day_avg  \\\n",
       "0                                                0.0                               \n",
       "1                                                0.0                               \n",
       "2                                                0.0                               \n",
       "3                                                0.0                               \n",
       "4                                                0.0                               \n",
       "\n",
       "   total_pediatric_patients_hospitalized_confirmed_covid_7_day_avg  \\\n",
       "0                                                0.0                 \n",
       "1                                                0.0                 \n",
       "2                                                0.0                 \n",
       "3                                                0.0                 \n",
       "4                                                0.0                 \n",
       "\n",
       "   inpatient_beds_7_day_avg  total_icu_beds_7_day_avg  \\\n",
       "0                     241.1                      38.0   \n",
       "1                     396.0                      30.0   \n",
       "2                     432.0                      41.0   \n",
       "3                     139.7                      24.0   \n",
       "4                      95.0                      15.0   \n",
       "\n",
       "   total_staffed_adult_icu_beds_7_day_avg  icu_beds_used_7_day_avg  \\\n",
       "0                                    22.0                     20.0   \n",
       "1                                    30.0                     15.1   \n",
       "2                                    33.0                     24.9   \n",
       "3                                    24.0                     22.7   \n",
       "4                                    15.0                     10.6   \n",
       "\n",
       "   staffed_adult_icu_bed_occupancy_7_day_avg  ...  \\\n",
       "0                                       16.9  ...   \n",
       "1                                       15.1  ...   \n",
       "2                                       23.9  ...   \n",
       "3                                       22.7  ...   \n",
       "4                                       10.6  ...   \n",
       "\n",
       "   previous_day_admission_adult_covid_confirmed_40-49_7_day_sum  \\\n",
       "0                                                0.0              \n",
       "1                                                5.0              \n",
       "2                                                4.0              \n",
       "3                                                0.0              \n",
       "4                                                0.0              \n",
       "\n",
       "   previous_day_admission_adult_covid_confirmed_50-59_7_day_sum  \\\n",
       "0                                                0.0              \n",
       "1                                                0.0              \n",
       "2                                                5.0              \n",
       "3                                                0.0              \n",
       "4                                                0.0              \n",
       "\n",
       "   previous_day_admission_adult_covid_confirmed_60-69_7_day_sum  \\\n",
       "0                                                0.0              \n",
       "1                                                6.0              \n",
       "2                                                7.0              \n",
       "3                                                7.0              \n",
       "4                                                0.0              \n",
       "\n",
       "   previous_day_admission_adult_covid_confirmed_70-79_7_day_sum  \\\n",
       "0                                                7.0              \n",
       "1                                               10.0              \n",
       "2                                                5.0              \n",
       "3                                                6.0              \n",
       "4                                                4.0              \n",
       "\n",
       "   previous_day_admission_adult_covid_confirmed_80+_7_day_sum  \\\n",
       "0                                               12.0            \n",
       "1                                               10.0            \n",
       "2                                                4.0            \n",
       "3                                                6.0            \n",
       "4                                                0.0            \n",
       "\n",
       "   previous_day_admission_adult_covid_confirmed_unknown_7_day_sum  \\\n",
       "0                                                0.0                \n",
       "1                                                0.0                \n",
       "2                                                0.0                \n",
       "3                                                0.0                \n",
       "4                                                0.0                \n",
       "\n",
       "   previous_day_admission_pediatric_covid_confirmed_7_day_sum  \\\n",
       "0                                                0.0            \n",
       "1                                                0.0            \n",
       "2                                                0.0            \n",
       "3                                                0.0            \n",
       "4                                                0.0            \n",
       "\n",
       "   previous_day_covid_ED_visits_7_day_sum  \\\n",
       "0                                    59.0   \n",
       "1                                   232.0   \n",
       "2                                   602.0   \n",
       "3                                   323.0   \n",
       "4                                    58.0   \n",
       "\n",
       "   previous_day_admission_adult_covid_suspected_7_day_sum  \\\n",
       "0                                               10.0        \n",
       "1                                               19.0        \n",
       "2                                               12.0        \n",
       "3                                               17.0        \n",
       "4                                               13.0        \n",
       "\n",
       "   previous_day_admission_adult_covid_suspected_18-19_7_day_sum  \\\n",
       "0                                                0.0              \n",
       "1                                                0.0              \n",
       "2                                                0.0              \n",
       "3                                                0.0              \n",
       "4                                                0.0              \n",
       "\n",
       "   previous_day_admission_adult_covid_suspected_20-29_7_day_sum  \\\n",
       "0                                                0.0              \n",
       "1                                                5.0              \n",
       "2                                                0.0              \n",
       "3                                                0.0              \n",
       "4                                                0.0              \n",
       "\n",
       "   previous_day_admission_adult_covid_suspected_30-39_7_day_sum  \\\n",
       "0                                                0.0              \n",
       "1                                                4.0              \n",
       "2                                                0.0              \n",
       "3                                                4.0              \n",
       "4                                                0.0              \n",
       "\n",
       "   previous_day_admission_adult_covid_suspected_40-49_7_day_sum  \\\n",
       "0                                                0.0              \n",
       "1                                                0.0              \n",
       "2                                                0.0              \n",
       "3                                                0.0              \n",
       "4                                                0.0              \n",
       "\n",
       "   previous_day_admission_adult_covid_suspected_50-59_7_day_sum  \\\n",
       "0                                                0.0              \n",
       "1                                                4.0              \n",
       "2                                                0.0              \n",
       "3                                                0.0              \n",
       "4                                                0.0              \n",
       "\n",
       "   previous_day_admission_adult_covid_suspected_60-69_7_day_sum  \\\n",
       "0                                                0.0              \n",
       "1                                                0.0              \n",
       "2                                                0.0              \n",
       "3                                                0.0              \n",
       "4                                                4.0              \n",
       "\n",
       "   previous_day_admission_adult_covid_suspected_70-79_7_day_sum  \\\n",
       "0                                                5.0              \n",
       "1                                                0.0              \n",
       "2                                                0.0              \n",
       "3                                                0.0              \n",
       "4                                                0.0              \n",
       "\n",
       "   previous_day_admission_adult_covid_suspected_80+_7_day_sum  \\\n",
       "0                                                0.0            \n",
       "1                                                0.0            \n",
       "2                                                0.0            \n",
       "3                                                4.0            \n",
       "4                                                0.0            \n",
       "\n",
       "   previous_day_admission_adult_covid_suspected_unknown_7_day_sum  \\\n",
       "0                                                0.0                \n",
       "1                                                0.0                \n",
       "2                                                0.0                \n",
       "3                                                0.0                \n",
       "4                                                0.0                \n",
       "\n",
       "   previous_day_admission_pediatric_covid_suspected_7_day_sum  \\\n",
       "0                                                0.0            \n",
       "1                                                0.0            \n",
       "2                                                0.0            \n",
       "3                                                0.0            \n",
       "4                                                0.0            \n",
       "\n",
       "   previous_day_total_ED_visits_7_day_sum  \\\n",
       "0                                   508.0   \n",
       "1                                   558.0   \n",
       "2                                  1362.0   \n",
       "3                                   669.0   \n",
       "4                                   413.0   \n",
       "\n",
       "   previous_day_admission_influenza_confirmed_7_day_sum  fips   county  \\\n",
       "0                                                0.0      001  Alameda   \n",
       "1                                                0.0      001  Alameda   \n",
       "2                                                0.0      001  Alameda   \n",
       "3                                                0.0      001  Alameda   \n",
       "4                                                0.0      001  Alameda   \n",
       "\n",
       "   population    region  \n",
       "0   1,643,700  Bay Area  \n",
       "1   1,643,700  Bay Area  \n",
       "2   1,643,700  Bay Area  \n",
       "3   1,643,700  Bay Area  \n",
       "4   1,643,700  Bay Area  \n",
       "\n",
       "[5 rows x 97 columns]"
      ]
     },
     "execution_count": 18,
     "metadata": {},
     "output_type": "execute_result"
    }
   ],
   "source": [
    "ca_timeseries.head()"
   ]
  },
  {
   "cell_type": "markdown",
   "metadata": {},
   "source": [
    "#### How many beds"
   ]
  },
  {
   "cell_type": "code",
   "execution_count": 19,
   "metadata": {},
   "outputs": [],
   "source": [
    "ca_timeseries[\"total_beds\"] = round(\n",
    "    (\n",
    "        ca_timeseries[\"total_beds_7_day_sum\"]\n",
    "        / ca_timeseries[\"total_beds_7_day_coverage\"]\n",
    "    ),\n",
    "    0,\n",
    ")"
   ]
  },
  {
   "cell_type": "markdown",
   "metadata": {},
   "source": [
    "#### Calculate daily average of total staffed ICU beds"
   ]
  },
  {
   "cell_type": "code",
   "execution_count": 20,
   "metadata": {},
   "outputs": [],
   "source": [
    "ca_timeseries[\"total_staffed_adult_icu_beds\"] = round(\n",
    "    (\n",
    "        ca_timeseries[\"total_staffed_adult_icu_beds_7_day_sum\"]\n",
    "        / ca_timeseries[\"total_staffed_adult_icu_beds_7_day_coverage\"]\n",
    "    ),\n",
    "    0,\n",
    ")"
   ]
  },
  {
   "cell_type": "markdown",
   "metadata": {},
   "source": [
    "#### Calculate daily average of occupied ICU beds"
   ]
  },
  {
   "cell_type": "code",
   "execution_count": 21,
   "metadata": {},
   "outputs": [],
   "source": [
    "ca_timeseries[\"total_occupied_adult_icu_beds\"] = round(\n",
    "    (\n",
    "        ca_timeseries[\"staffed_adult_icu_bed_occupancy_7_day_sum\"]\n",
    "        / ca_timeseries[\"staffed_adult_icu_bed_occupancy_7_day_coverage\"]\n",
    "    ),\n",
    "    0,\n",
    ")"
   ]
  },
  {
   "cell_type": "markdown",
   "metadata": {},
   "source": [
    "#### Calculate daily average of COVID patients in the ICU"
   ]
  },
  {
   "cell_type": "code",
   "execution_count": 22,
   "metadata": {},
   "outputs": [],
   "source": [
    "ca_timeseries[\"total_covid_icu_patients\"] = round(\n",
    "    (\n",
    "        ca_timeseries[\n",
    "            \"staffed_icu_adult_patients_confirmed_and_suspected_covid_7_day_sum\"\n",
    "        ]\n",
    "        / ca_timeseries[\n",
    "            \"staffed_icu_adult_patients_confirmed_and_suspected_covid_7_day_coverage\"\n",
    "        ]\n",
    "    ),\n",
    "    0,\n",
    ")"
   ]
  },
  {
   "cell_type": "markdown",
   "metadata": {},
   "source": [
    "#### Number of ICU beds available"
   ]
  },
  {
   "cell_type": "code",
   "execution_count": 23,
   "metadata": {},
   "outputs": [],
   "source": [
    "ca_timeseries[\"total_available_adult_icu_beds\"] = round(\n",
    "    (\n",
    "        ca_timeseries[\"total_staffed_adult_icu_beds\"]\n",
    "        - ca_timeseries[\"total_occupied_adult_icu_beds\"]\n",
    "    ),\n",
    "    0,\n",
    ")"
   ]
  },
  {
   "cell_type": "markdown",
   "metadata": {},
   "source": [
    "#### Calculate daily ICU occupancy as percentage"
   ]
  },
  {
   "cell_type": "code",
   "execution_count": 24,
   "metadata": {},
   "outputs": [],
   "source": [
    "ca_timeseries[\"pct_occupied_adult_icu_beds\"] = round(\n",
    "    (\n",
    "        ca_timeseries[\"total_occupied_adult_icu_beds\"]\n",
    "        / ca_timeseries[\"total_staffed_adult_icu_beds\"]\n",
    "    ),\n",
    "    2,\n",
    ")"
   ]
  },
  {
   "cell_type": "markdown",
   "metadata": {},
   "source": [
    "#### If a hospital reports 0 staffed adult ICU beds, drop them from the dataframe"
   ]
  },
  {
   "cell_type": "code",
   "execution_count": 25,
   "metadata": {},
   "outputs": [],
   "source": [
    "filtered_timeseries = ca_timeseries[\n",
    "    (ca_timeseries.total_staffed_adult_icu_beds_7_day_sum.notnull())\n",
    "    & (ca_timeseries.total_staffed_adult_icu_beds_7_day_sum != 0)\n",
    "].sort_values(\"total_staffed_adult_icu_beds_7_day_sum\")"
   ]
  },
  {
   "cell_type": "markdown",
   "metadata": {},
   "source": [
    "#### How many patients?"
   ]
  },
  {
   "cell_type": "code",
   "execution_count": 26,
   "metadata": {},
   "outputs": [],
   "source": [
    "ca_timeseries[\"all_patients\"] = round(\n",
    "    (\n",
    "        ca_timeseries[\"inpatient_beds_used_7_day_sum\"]\n",
    "        / ca_timeseries[\"inpatient_beds_used_7_day_coverage\"]\n",
    "    ),\n",
    "    0,\n",
    ")"
   ]
  },
  {
   "cell_type": "markdown",
   "metadata": {},
   "source": [
    "#### How many Covid patients"
   ]
  },
  {
   "cell_type": "code",
   "execution_count": 27,
   "metadata": {},
   "outputs": [],
   "source": [
    "ca_timeseries[\"total_adult_covid_patients\"] = (\n",
    "    ca_timeseries[\n",
    "        \"total_adult_patients_hospitalized_confirmed_and_suspected_covid_7_day_sum\"\n",
    "    ]\n",
    "    / ca_timeseries[\n",
    "        \"total_adult_patients_hospitalized_confirmed_and_suspected_covid_7_day_coverage\"\n",
    "    ]\n",
    ")"
   ]
  },
  {
   "cell_type": "code",
   "execution_count": 28,
   "metadata": {},
   "outputs": [],
   "source": [
    "ca_timeseries[\"total_pediatric_covid_patients\"] = (\n",
    "    ca_timeseries[\n",
    "        \"total_pediatric_patients_hospitalized_confirmed_and_suspected_covid_7_day_sum\"\n",
    "    ]\n",
    "    / ca_timeseries[\n",
    "        \"total_pediatric_patients_hospitalized_confirmed_and_suspected_covid_7_day_coverage\"\n",
    "    ]\n",
    ")"
   ]
  },
  {
   "cell_type": "code",
   "execution_count": 29,
   "metadata": {},
   "outputs": [],
   "source": [
    "ca_timeseries[\"total_covid_patients\"] = round(\n",
    "    ca_timeseries[\"total_adult_covid_patients\"]\n",
    "    + ca_timeseries[\"total_pediatric_covid_patients\"],\n",
    "    0,\n",
    ").fillna(0)"
   ]
  },
  {
   "cell_type": "markdown",
   "metadata": {},
   "source": [
    "#### What's the rate of Covid patients?"
   ]
  },
  {
   "cell_type": "code",
   "execution_count": 30,
   "metadata": {},
   "outputs": [],
   "source": [
    "ca_timeseries[\"covid_patients_share\"] = round(\n",
    "    (ca_timeseries[\"total_covid_patients\"] / ca_timeseries[\"all_patients\"]), 2\n",
    ")"
   ]
  },
  {
   "cell_type": "code",
   "execution_count": 31,
   "metadata": {},
   "outputs": [],
   "source": [
    "ca_timeseries = ca_timeseries[ca_timeseries[\"all_patients\"] > 0]"
   ]
  },
  {
   "cell_type": "markdown",
   "metadata": {},
   "source": [
    "---"
   ]
  },
  {
   "cell_type": "markdown",
   "metadata": {},
   "source": [
    "### Trim to the columns we want"
   ]
  },
  {
   "cell_type": "code",
   "execution_count": 32,
   "metadata": {},
   "outputs": [],
   "source": [
    "trimmed_timeseries = ca_timeseries[\n",
    "    [\n",
    "        \"hospital_name\",\n",
    "        \"hospital_subtype\",\n",
    "        \"ccn\",\n",
    "        \"collection_week\",\n",
    "        \"county\",\n",
    "        \"fips\",\n",
    "        \"total_beds\",\n",
    "        \"total_staffed_adult_icu_beds\",\n",
    "        \"total_covid_icu_patients\",\n",
    "        \"total_available_adult_icu_beds\",\n",
    "        \"pct_occupied_adult_icu_beds\",\n",
    "        \"total_covid_patients\",\n",
    "        \"all_patients\",\n",
    "        \"covid_patients_share\",\n",
    "        \"region\",\n",
    "    ]\n",
    "].rename(\n",
    "    columns={\n",
    "        \"hospital_name\": \"hospital\",\n",
    "        \"collection_week\": \"week\",\n",
    "    }\n",
    ")"
   ]
  },
  {
   "cell_type": "code",
   "execution_count": 33,
   "metadata": {},
   "outputs": [
    {
     "data": {
      "text/plain": [
       "0.15842891203413226"
      ]
     },
     "execution_count": 33,
     "metadata": {},
     "output_type": "execute_result"
    }
   ],
   "source": [
    "trimmed_timeseries.covid_patients_share.mean()"
   ]
  },
  {
   "cell_type": "markdown",
   "metadata": {},
   "source": [
    "---"
   ]
  },
  {
   "cell_type": "markdown",
   "metadata": {},
   "source": [
    "### Filter the dataframe for Los Angeles County facilities"
   ]
  },
  {
   "cell_type": "code",
   "execution_count": 34,
   "metadata": {},
   "outputs": [],
   "source": [
    "la = trimmed_timeseries[trimmed_timeseries[\"fips\"] == \"037\"]\n",
    "oc = trimmed_timeseries[trimmed_timeseries[\"fips\"] == \"059\"]"
   ]
  },
  {
   "cell_type": "markdown",
   "metadata": {},
   "source": [
    "### Filter the California dataframe to the most recent collection week"
   ]
  },
  {
   "cell_type": "code",
   "execution_count": 35,
   "metadata": {},
   "outputs": [],
   "source": [
    "current_ca = trimmed_timeseries[\n",
    "    trimmed_timeseries[\"week\"] == trimmed_timeseries[\"week\"].max()\n",
    "].sort_values(\"covid_patients_share\", ascending=False)"
   ]
  },
  {
   "cell_type": "code",
   "execution_count": 36,
   "metadata": {},
   "outputs": [],
   "source": [
    "current_la = la[la[\"week\"] == la[\"week\"].max()].sort_values(\n",
    "    \"covid_patients_share\", ascending=False\n",
    ")"
   ]
  },
  {
   "cell_type": "code",
   "execution_count": 37,
   "metadata": {},
   "outputs": [],
   "source": [
    "current_oc = oc[oc[\"week\"] == oc[\"week\"].max()].sort_values(\n",
    "    \"covid_patients_share\", ascending=False\n",
    ")"
   ]
  },
  {
   "cell_type": "code",
   "execution_count": 38,
   "metadata": {},
   "outputs": [],
   "source": [
    "current_ca.to_csv(\"output/current_ca.csv\", index=False)"
   ]
  },
  {
   "cell_type": "markdown",
   "metadata": {},
   "source": [
    "### Specific place?"
   ]
  },
  {
   "cell_type": "code",
   "execution_count": 39,
   "metadata": {},
   "outputs": [
    {
     "data": {
      "text/plain": [
       "hospital                          Methodist Hospital of Southern Ca\n",
       "hospital_subtype                                         Short Term\n",
       "ccn                                                          050238\n",
       "week                                            2021-01-01 00:00:00\n",
       "county                                                  Los Angeles\n",
       "fips                                                            037\n",
       "total_beds                                                   256.00\n",
       "total_staffed_adult_icu_beds                                  21.00\n",
       "total_covid_icu_patients                                      21.00\n",
       "total_available_adult_icu_beds                                 1.00\n",
       "pct_occupied_adult_icu_beds                                    0.95\n",
       "total_covid_patients                                         143.00\n",
       "all_patients                                                 211.00\n",
       "covid_patients_share                                           0.68\n",
       "region                                          Southern California\n",
       "Name: 103, dtype: object"
      ]
     },
     "execution_count": 39,
     "metadata": {},
     "output_type": "execute_result"
    }
   ],
   "source": [
    "current_ca[current_ca[\"hospital\"].str.contains(\"Methodist Hospital\")].iloc[0]"
   ]
  },
  {
   "cell_type": "markdown",
   "metadata": {},
   "source": [
    "### Which CA hospitals have the greatest share of covid patients? "
   ]
  },
  {
   "cell_type": "code",
   "execution_count": 118,
   "metadata": {},
   "outputs": [
    {
     "data": {
      "text/html": [
       "<div>\n",
       "<style scoped>\n",
       "    .dataframe tbody tr th:only-of-type {\n",
       "        vertical-align: middle;\n",
       "    }\n",
       "\n",
       "    .dataframe tbody tr th {\n",
       "        vertical-align: top;\n",
       "    }\n",
       "\n",
       "    .dataframe thead th {\n",
       "        text-align: right;\n",
       "    }\n",
       "</style>\n",
       "<table border=\"1\" class=\"dataframe\">\n",
       "  <thead>\n",
       "    <tr style=\"text-align: right;\">\n",
       "      <th></th>\n",
       "      <th>hospital</th>\n",
       "      <th>total_beds</th>\n",
       "      <th>total_covid_patients</th>\n",
       "      <th>all_patients</th>\n",
       "      <th>covid_patients_share</th>\n",
       "      <th>region</th>\n",
       "      <th>county</th>\n",
       "    </tr>\n",
       "  </thead>\n",
       "  <tbody>\n",
       "    <tr>\n",
       "      <th>8</th>\n",
       "      <td>Alta Bates Summit Medical Center</td>\n",
       "      <td>296.0</td>\n",
       "      <td>25.0</td>\n",
       "      <td>191.0</td>\n",
       "      <td>0.13</td>\n",
       "      <td>Bay Area</td>\n",
       "      <td>Alameda</td>\n",
       "    </tr>\n",
       "    <tr>\n",
       "      <th>234</th>\n",
       "      <td>Loma Linda University Children'S Hospital</td>\n",
       "      <td>363.0</td>\n",
       "      <td>29.0</td>\n",
       "      <td>217.0</td>\n",
       "      <td>0.13</td>\n",
       "      <td>Southern California</td>\n",
       "      <td>San Bernardino</td>\n",
       "    </tr>\n",
       "    <tr>\n",
       "      <th>273</th>\n",
       "      <td>Chinese Hospital</td>\n",
       "      <td>92.0</td>\n",
       "      <td>5.0</td>\n",
       "      <td>42.0</td>\n",
       "      <td>0.12</td>\n",
       "      <td>Bay Area</td>\n",
       "      <td>San Francisco</td>\n",
       "    </tr>\n",
       "    <tr>\n",
       "      <th>266</th>\n",
       "      <td>California Pacific Medical Center- Van Ness Ca...</td>\n",
       "      <td>301.0</td>\n",
       "      <td>23.0</td>\n",
       "      <td>188.0</td>\n",
       "      <td>0.12</td>\n",
       "      <td>Bay Area</td>\n",
       "      <td>San Francisco</td>\n",
       "    </tr>\n",
       "    <tr>\n",
       "      <th>26</th>\n",
       "      <td>Sutter Coast Hospital</td>\n",
       "      <td>51.0</td>\n",
       "      <td>3.0</td>\n",
       "      <td>31.0</td>\n",
       "      <td>0.10</td>\n",
       "      <td>Northern California</td>\n",
       "      <td>Del Norte</td>\n",
       "    </tr>\n",
       "    <tr>\n",
       "      <th>58</th>\n",
       "      <td>Adventist Health Clearlake</td>\n",
       "      <td>37.0</td>\n",
       "      <td>2.0</td>\n",
       "      <td>21.0</td>\n",
       "      <td>0.10</td>\n",
       "      <td>Northern California</td>\n",
       "      <td>Lake</td>\n",
       "    </tr>\n",
       "    <tr>\n",
       "      <th>88</th>\n",
       "      <td>City of Hope Helford Clinical Research Hospital</td>\n",
       "      <td>208.0</td>\n",
       "      <td>19.0</td>\n",
       "      <td>189.0</td>\n",
       "      <td>0.10</td>\n",
       "      <td>Southern California</td>\n",
       "      <td>Los Angeles</td>\n",
       "    </tr>\n",
       "    <tr>\n",
       "      <th>324</th>\n",
       "      <td>Sonoma Valley Hospital</td>\n",
       "      <td>44.0</td>\n",
       "      <td>2.0</td>\n",
       "      <td>26.0</td>\n",
       "      <td>0.08</td>\n",
       "      <td>Bay Area</td>\n",
       "      <td>Sonoma</td>\n",
       "    </tr>\n",
       "    <tr>\n",
       "      <th>246</th>\n",
       "      <td>Hi-Desert Medical Center</td>\n",
       "      <td>133.0</td>\n",
       "      <td>8.0</td>\n",
       "      <td>129.0</td>\n",
       "      <td>0.06</td>\n",
       "      <td>Southern California</td>\n",
       "      <td>San Bernardino</td>\n",
       "    </tr>\n",
       "    <tr>\n",
       "      <th>41</th>\n",
       "      <td>St Joseph Hospital</td>\n",
       "      <td>182.0</td>\n",
       "      <td>6.0</td>\n",
       "      <td>117.0</td>\n",
       "      <td>0.05</td>\n",
       "      <td>Northern California</td>\n",
       "      <td>Humboldt</td>\n",
       "    </tr>\n",
       "  </tbody>\n",
       "</table>\n",
       "</div>"
      ],
      "text/plain": [
       "                                              hospital  total_beds  \\\n",
       "8                     Alta Bates Summit Medical Center       296.0   \n",
       "234          Loma Linda University Children'S Hospital       363.0   \n",
       "273                                   Chinese Hospital        92.0   \n",
       "266  California Pacific Medical Center- Van Ness Ca...       301.0   \n",
       "26                               Sutter Coast Hospital        51.0   \n",
       "58                          Adventist Health Clearlake        37.0   \n",
       "88     City of Hope Helford Clinical Research Hospital       208.0   \n",
       "324                             Sonoma Valley Hospital        44.0   \n",
       "246                           Hi-Desert Medical Center       133.0   \n",
       "41                                  St Joseph Hospital       182.0   \n",
       "\n",
       "     total_covid_patients  all_patients  covid_patients_share  \\\n",
       "8                    25.0         191.0                  0.13   \n",
       "234                  29.0         217.0                  0.13   \n",
       "273                   5.0          42.0                  0.12   \n",
       "266                  23.0         188.0                  0.12   \n",
       "26                    3.0          31.0                  0.10   \n",
       "58                    2.0          21.0                  0.10   \n",
       "88                   19.0         189.0                  0.10   \n",
       "324                   2.0          26.0                  0.08   \n",
       "246                   8.0         129.0                  0.06   \n",
       "41                    6.0         117.0                  0.05   \n",
       "\n",
       "                  region          county  \n",
       "8               Bay Area         Alameda  \n",
       "234  Southern California  San Bernardino  \n",
       "273             Bay Area   San Francisco  \n",
       "266             Bay Area   San Francisco  \n",
       "26   Northern California       Del Norte  \n",
       "58   Northern California            Lake  \n",
       "88   Southern California     Los Angeles  \n",
       "324             Bay Area          Sonoma  \n",
       "246  Southern California  San Bernardino  \n",
       "41   Northern California        Humboldt  "
      ]
     },
     "execution_count": 118,
     "metadata": {},
     "output_type": "execute_result"
    }
   ],
   "source": [
    "current_ca[\n",
    "    (current_ca[\"hospital_subtype\"] != \"Long Term\")\n",
    "    & (current_ca[\"total_covid_icu_patients\"] > 0)\n",
    "][\n",
    "    [\n",
    "        \"hospital\",\n",
    "        \"total_beds\",\n",
    "        \"total_covid_patients\",\n",
    "        \"all_patients\",\n",
    "        \"covid_patients_share\",\n",
    "        \"region\",\n",
    "        \"county\",\n",
    "    ]\n",
    "].sort_values(\n",
    "    \"covid_patients_share\", ascending=False\n",
    ").tail(\n",
    "    10\n",
    ")"
   ]
  },
  {
   "cell_type": "markdown",
   "metadata": {},
   "source": [
    "### Which facilities in LA have the greatest share of covid patients? "
   ]
  },
  {
   "cell_type": "code",
   "execution_count": 41,
   "metadata": {},
   "outputs": [
    {
     "data": {
      "text/html": [
       "<div>\n",
       "<style scoped>\n",
       "    .dataframe tbody tr th:only-of-type {\n",
       "        vertical-align: middle;\n",
       "    }\n",
       "\n",
       "    .dataframe tbody tr th {\n",
       "        vertical-align: top;\n",
       "    }\n",
       "\n",
       "    .dataframe thead th {\n",
       "        text-align: right;\n",
       "    }\n",
       "</style>\n",
       "<table border=\"1\" class=\"dataframe\">\n",
       "  <thead>\n",
       "    <tr style=\"text-align: right;\">\n",
       "      <th></th>\n",
       "      <th>hospital</th>\n",
       "      <th>total_beds</th>\n",
       "      <th>total_covid_patients</th>\n",
       "      <th>all_patients</th>\n",
       "      <th>covid_patients_share</th>\n",
       "    </tr>\n",
       "  </thead>\n",
       "  <tbody>\n",
       "    <tr>\n",
       "      <th>102</th>\n",
       "      <td>Kaiser Foundation Hospital - Downey</td>\n",
       "      <td>447.0</td>\n",
       "      <td>231.0</td>\n",
       "      <td>256.0</td>\n",
       "      <td>0.90</td>\n",
       "    </tr>\n",
       "    <tr>\n",
       "      <th>120</th>\n",
       "      <td>Kaiser Foundation Hospital - Baldwin Park</td>\n",
       "      <td>311.0</td>\n",
       "      <td>179.0</td>\n",
       "      <td>202.0</td>\n",
       "      <td>0.89</td>\n",
       "    </tr>\n",
       "    <tr>\n",
       "      <th>125</th>\n",
       "      <td>Palmdale Regional Medical Center</td>\n",
       "      <td>184.0</td>\n",
       "      <td>117.0</td>\n",
       "      <td>137.0</td>\n",
       "      <td>0.85</td>\n",
       "    </tr>\n",
       "    <tr>\n",
       "      <th>67</th>\n",
       "      <td>Community Hospital of Huntington Park</td>\n",
       "      <td>65.0</td>\n",
       "      <td>36.0</td>\n",
       "      <td>44.0</td>\n",
       "      <td>0.82</td>\n",
       "    </tr>\n",
       "    <tr>\n",
       "      <th>112</th>\n",
       "      <td>Kaiser Foundation Hospital - West LA</td>\n",
       "      <td>318.0</td>\n",
       "      <td>133.0</td>\n",
       "      <td>167.0</td>\n",
       "      <td>0.80</td>\n",
       "    </tr>\n",
       "    <tr>\n",
       "      <th>92</th>\n",
       "      <td>Kaiser Foundation Hospital - Panorama City</td>\n",
       "      <td>293.0</td>\n",
       "      <td>152.0</td>\n",
       "      <td>202.0</td>\n",
       "      <td>0.75</td>\n",
       "    </tr>\n",
       "    <tr>\n",
       "      <th>69</th>\n",
       "      <td>San Gabriel Valley Medical Center</td>\n",
       "      <td>111.0</td>\n",
       "      <td>63.0</td>\n",
       "      <td>84.0</td>\n",
       "      <td>0.75</td>\n",
       "    </tr>\n",
       "    <tr>\n",
       "      <th>89</th>\n",
       "      <td>Martin Luther King, Jr. Community Hospital</td>\n",
       "      <td>233.0</td>\n",
       "      <td>156.0</td>\n",
       "      <td>209.0</td>\n",
       "      <td>0.75</td>\n",
       "    </tr>\n",
       "    <tr>\n",
       "      <th>133</th>\n",
       "      <td>San Dimas Community Hospital</td>\n",
       "      <td>164.0</td>\n",
       "      <td>49.0</td>\n",
       "      <td>65.0</td>\n",
       "      <td>0.75</td>\n",
       "    </tr>\n",
       "    <tr>\n",
       "      <th>122</th>\n",
       "      <td>Alhambra Hospital Medical Center</td>\n",
       "      <td>101.0</td>\n",
       "      <td>51.0</td>\n",
       "      <td>68.0</td>\n",
       "      <td>0.75</td>\n",
       "    </tr>\n",
       "  </tbody>\n",
       "</table>\n",
       "</div>"
      ],
      "text/plain": [
       "                                       hospital  total_beds  \\\n",
       "102         Kaiser Foundation Hospital - Downey       447.0   \n",
       "120   Kaiser Foundation Hospital - Baldwin Park       311.0   \n",
       "125            Palmdale Regional Medical Center       184.0   \n",
       "67        Community Hospital of Huntington Park        65.0   \n",
       "112        Kaiser Foundation Hospital - West LA       318.0   \n",
       "92   Kaiser Foundation Hospital - Panorama City       293.0   \n",
       "69            San Gabriel Valley Medical Center       111.0   \n",
       "89   Martin Luther King, Jr. Community Hospital       233.0   \n",
       "133                San Dimas Community Hospital       164.0   \n",
       "122            Alhambra Hospital Medical Center       101.0   \n",
       "\n",
       "     total_covid_patients  all_patients  covid_patients_share  \n",
       "102                 231.0         256.0                  0.90  \n",
       "120                 179.0         202.0                  0.89  \n",
       "125                 117.0         137.0                  0.85  \n",
       "67                   36.0          44.0                  0.82  \n",
       "112                 133.0         167.0                  0.80  \n",
       "92                  152.0         202.0                  0.75  \n",
       "69                   63.0          84.0                  0.75  \n",
       "89                  156.0         209.0                  0.75  \n",
       "133                  49.0          65.0                  0.75  \n",
       "122                  51.0          68.0                  0.75  "
      ]
     },
     "execution_count": 41,
     "metadata": {},
     "output_type": "execute_result"
    }
   ],
   "source": [
    "current_la[\n",
    "    (current_la[\"hospital_subtype\"] != \"Long Term\")\n",
    "    & (current_la[\"total_covid_icu_patients\"] > 0)\n",
    "][\n",
    "    [\n",
    "        \"hospital\",\n",
    "        \"total_beds\",\n",
    "        \"total_covid_patients\",\n",
    "        \"all_patients\",\n",
    "        \"covid_patients_share\",\n",
    "    ]\n",
    "].sort_values(\n",
    "    \"covid_patients_share\", ascending=False\n",
    ").head(\n",
    "    10\n",
    ")"
   ]
  },
  {
   "cell_type": "markdown",
   "metadata": {},
   "source": [
    "### Which places have the lowest share? "
   ]
  },
  {
   "cell_type": "code",
   "execution_count": 42,
   "metadata": {},
   "outputs": [
    {
     "data": {
      "text/html": [
       "<div>\n",
       "<style scoped>\n",
       "    .dataframe tbody tr th:only-of-type {\n",
       "        vertical-align: middle;\n",
       "    }\n",
       "\n",
       "    .dataframe tbody tr th {\n",
       "        vertical-align: top;\n",
       "    }\n",
       "\n",
       "    .dataframe thead th {\n",
       "        text-align: right;\n",
       "    }\n",
       "</style>\n",
       "<table border=\"1\" class=\"dataframe\">\n",
       "  <thead>\n",
       "    <tr style=\"text-align: right;\">\n",
       "      <th></th>\n",
       "      <th>hospital</th>\n",
       "      <th>total_beds</th>\n",
       "      <th>total_covid_patients</th>\n",
       "      <th>all_patients</th>\n",
       "      <th>covid_patients_share</th>\n",
       "    </tr>\n",
       "  </thead>\n",
       "  <tbody>\n",
       "    <tr>\n",
       "      <th>104</th>\n",
       "      <td>St Mary Medical Center</td>\n",
       "      <td>406.0</td>\n",
       "      <td>91.0</td>\n",
       "      <td>221.0</td>\n",
       "      <td>0.41</td>\n",
       "    </tr>\n",
       "    <tr>\n",
       "      <th>137</th>\n",
       "      <td>Cedars-Sinai Medical Center</td>\n",
       "      <td>928.0</td>\n",
       "      <td>336.0</td>\n",
       "      <td>830.0</td>\n",
       "      <td>0.40</td>\n",
       "    </tr>\n",
       "    <tr>\n",
       "      <th>68</th>\n",
       "      <td>Santa Monica - Ucla Med Ctr &amp; Orthopaedic Hosp...</td>\n",
       "      <td>302.0</td>\n",
       "      <td>95.0</td>\n",
       "      <td>243.0</td>\n",
       "      <td>0.39</td>\n",
       "    </tr>\n",
       "    <tr>\n",
       "      <th>96</th>\n",
       "      <td>Encino Hospital Medical Center</td>\n",
       "      <td>70.0</td>\n",
       "      <td>25.0</td>\n",
       "      <td>70.0</td>\n",
       "      <td>0.36</td>\n",
       "    </tr>\n",
       "    <tr>\n",
       "      <th>116</th>\n",
       "      <td>Memorial Hospital of Gardena</td>\n",
       "      <td>186.0</td>\n",
       "      <td>59.0</td>\n",
       "      <td>165.0</td>\n",
       "      <td>0.36</td>\n",
       "    </tr>\n",
       "    <tr>\n",
       "      <th>74</th>\n",
       "      <td>Keck Hospital of Usc</td>\n",
       "      <td>401.0</td>\n",
       "      <td>62.0</td>\n",
       "      <td>202.0</td>\n",
       "      <td>0.31</td>\n",
       "    </tr>\n",
       "    <tr>\n",
       "      <th>107</th>\n",
       "      <td>Ronald Reagan U C L A Medical Center</td>\n",
       "      <td>457.0</td>\n",
       "      <td>110.0</td>\n",
       "      <td>385.0</td>\n",
       "      <td>0.29</td>\n",
       "    </tr>\n",
       "    <tr>\n",
       "      <th>139</th>\n",
       "      <td>College Medical Center</td>\n",
       "      <td>235.0</td>\n",
       "      <td>38.0</td>\n",
       "      <td>129.0</td>\n",
       "      <td>0.29</td>\n",
       "    </tr>\n",
       "    <tr>\n",
       "      <th>140</th>\n",
       "      <td>Lac/Rancho Los Amigos National Rehabilitation ...</td>\n",
       "      <td>166.0</td>\n",
       "      <td>27.0</td>\n",
       "      <td>145.0</td>\n",
       "      <td>0.19</td>\n",
       "    </tr>\n",
       "    <tr>\n",
       "      <th>88</th>\n",
       "      <td>City of Hope Helford Clinical Research Hospital</td>\n",
       "      <td>208.0</td>\n",
       "      <td>19.0</td>\n",
       "      <td>189.0</td>\n",
       "      <td>0.10</td>\n",
       "    </tr>\n",
       "  </tbody>\n",
       "</table>\n",
       "</div>"
      ],
      "text/plain": [
       "                                              hospital  total_beds  \\\n",
       "104                             St Mary Medical Center       406.0   \n",
       "137                        Cedars-Sinai Medical Center       928.0   \n",
       "68   Santa Monica - Ucla Med Ctr & Orthopaedic Hosp...       302.0   \n",
       "96                      Encino Hospital Medical Center        70.0   \n",
       "116                       Memorial Hospital of Gardena       186.0   \n",
       "74                                Keck Hospital of Usc       401.0   \n",
       "107               Ronald Reagan U C L A Medical Center       457.0   \n",
       "139                             College Medical Center       235.0   \n",
       "140  Lac/Rancho Los Amigos National Rehabilitation ...       166.0   \n",
       "88     City of Hope Helford Clinical Research Hospital       208.0   \n",
       "\n",
       "     total_covid_patients  all_patients  covid_patients_share  \n",
       "104                  91.0         221.0                  0.41  \n",
       "137                 336.0         830.0                  0.40  \n",
       "68                   95.0         243.0                  0.39  \n",
       "96                   25.0          70.0                  0.36  \n",
       "116                  59.0         165.0                  0.36  \n",
       "74                   62.0         202.0                  0.31  \n",
       "107                 110.0         385.0                  0.29  \n",
       "139                  38.0         129.0                  0.29  \n",
       "140                  27.0         145.0                  0.19  \n",
       "88                   19.0         189.0                  0.10  "
      ]
     },
     "execution_count": 42,
     "metadata": {},
     "output_type": "execute_result"
    }
   ],
   "source": [
    "current_la[\n",
    "    (current_la[\"hospital_subtype\"] != \"Long Term\")\n",
    "    & (current_la[\"total_covid_icu_patients\"] > 0)\n",
    "][\n",
    "    [\n",
    "        \"hospital\",\n",
    "        \"total_beds\",\n",
    "        \"total_covid_patients\",\n",
    "        \"all_patients\",\n",
    "        \"covid_patients_share\",\n",
    "    ]\n",
    "].sort_values(\n",
    "    \"covid_patients_share\", ascending=False\n",
    ").tail(\n",
    "    10\n",
    ")"
   ]
  },
  {
   "cell_type": "markdown",
   "metadata": {},
   "source": [
    "### Which facilities in OC have the greatest share of covid patients? "
   ]
  },
  {
   "cell_type": "code",
   "execution_count": 43,
   "metadata": {},
   "outputs": [
    {
     "data": {
      "text/html": [
       "<div>\n",
       "<style scoped>\n",
       "    .dataframe tbody tr th:only-of-type {\n",
       "        vertical-align: middle;\n",
       "    }\n",
       "\n",
       "    .dataframe tbody tr th {\n",
       "        vertical-align: top;\n",
       "    }\n",
       "\n",
       "    .dataframe thead th {\n",
       "        text-align: right;\n",
       "    }\n",
       "</style>\n",
       "<table border=\"1\" class=\"dataframe\">\n",
       "  <thead>\n",
       "    <tr style=\"text-align: right;\">\n",
       "      <th></th>\n",
       "      <th>hospital</th>\n",
       "      <th>total_covid_patients</th>\n",
       "      <th>all_patients</th>\n",
       "      <th>covid_patients_share</th>\n",
       "    </tr>\n",
       "  </thead>\n",
       "  <tbody>\n",
       "    <tr>\n",
       "      <th>178</th>\n",
       "      <td>Garden Grove Hospital &amp; Medical Center</td>\n",
       "      <td>48.0</td>\n",
       "      <td>57.0</td>\n",
       "      <td>0.84</td>\n",
       "    </tr>\n",
       "    <tr>\n",
       "      <th>185</th>\n",
       "      <td>Kaiser Foundation Hospital - Orange County - A...</td>\n",
       "      <td>254.0</td>\n",
       "      <td>351.0</td>\n",
       "      <td>0.72</td>\n",
       "    </tr>\n",
       "    <tr>\n",
       "      <th>172</th>\n",
       "      <td>Ahmc Anaheim Regional Medical Center</td>\n",
       "      <td>96.0</td>\n",
       "      <td>137.0</td>\n",
       "      <td>0.70</td>\n",
       "    </tr>\n",
       "    <tr>\n",
       "      <th>193</th>\n",
       "      <td>Providence St. Jude Medical Center</td>\n",
       "      <td>210.0</td>\n",
       "      <td>305.0</td>\n",
       "      <td>0.69</td>\n",
       "    </tr>\n",
       "    <tr>\n",
       "      <th>184</th>\n",
       "      <td>Huntington Beach Hospital</td>\n",
       "      <td>44.0</td>\n",
       "      <td>64.0</td>\n",
       "      <td>0.69</td>\n",
       "    </tr>\n",
       "  </tbody>\n",
       "</table>\n",
       "</div>"
      ],
      "text/plain": [
       "                                              hospital  total_covid_patients  \\\n",
       "178             Garden Grove Hospital & Medical Center                  48.0   \n",
       "185  Kaiser Foundation Hospital - Orange County - A...                 254.0   \n",
       "172               Ahmc Anaheim Regional Medical Center                  96.0   \n",
       "193                 Providence St. Jude Medical Center                 210.0   \n",
       "184                          Huntington Beach Hospital                  44.0   \n",
       "\n",
       "     all_patients  covid_patients_share  \n",
       "178          57.0                  0.84  \n",
       "185         351.0                  0.72  \n",
       "172         137.0                  0.70  \n",
       "193         305.0                  0.69  \n",
       "184          64.0                  0.69  "
      ]
     },
     "execution_count": 43,
     "metadata": {},
     "output_type": "execute_result"
    }
   ],
   "source": [
    "current_oc[\n",
    "    (current_oc[\"hospital_subtype\"] != \"Long Term\")\n",
    "    & (current_oc[\"total_covid_icu_patients\"] > 0)\n",
    "][\n",
    "    [\"hospital\", \"total_covid_patients\", \"all_patients\", \"covid_patients_share\"]\n",
    "].sort_values(\n",
    "    \"covid_patients_share\", ascending=False\n",
    ").head(\n",
    "    5\n",
    ")"
   ]
  },
  {
   "cell_type": "code",
   "execution_count": 44,
   "metadata": {},
   "outputs": [
    {
     "data": {
      "text/html": [
       "<div>\n",
       "<style scoped>\n",
       "    .dataframe tbody tr th:only-of-type {\n",
       "        vertical-align: middle;\n",
       "    }\n",
       "\n",
       "    .dataframe tbody tr th {\n",
       "        vertical-align: top;\n",
       "    }\n",
       "\n",
       "    .dataframe thead th {\n",
       "        text-align: right;\n",
       "    }\n",
       "</style>\n",
       "<table border=\"1\" class=\"dataframe\">\n",
       "  <thead>\n",
       "    <tr style=\"text-align: right;\">\n",
       "      <th></th>\n",
       "      <th>hospital</th>\n",
       "      <th>total_beds</th>\n",
       "      <th>total_covid_patients</th>\n",
       "      <th>all_patients</th>\n",
       "      <th>covid_patients_share</th>\n",
       "    </tr>\n",
       "  </thead>\n",
       "  <tbody>\n",
       "    <tr>\n",
       "      <th>169</th>\n",
       "      <td>West Anaheim Medical Center</td>\n",
       "      <td>166.0</td>\n",
       "      <td>58.0</td>\n",
       "      <td>116.0</td>\n",
       "      <td>0.50</td>\n",
       "    </tr>\n",
       "    <tr>\n",
       "      <th>176</th>\n",
       "      <td>Foothill Regional Medical Center</td>\n",
       "      <td>125.0</td>\n",
       "      <td>34.0</td>\n",
       "      <td>75.0</td>\n",
       "      <td>0.45</td>\n",
       "    </tr>\n",
       "    <tr>\n",
       "      <th>183</th>\n",
       "      <td>Memorialcare Saddleback Medical Center</td>\n",
       "      <td>234.0</td>\n",
       "      <td>69.0</td>\n",
       "      <td>153.0</td>\n",
       "      <td>0.45</td>\n",
       "    </tr>\n",
       "    <tr>\n",
       "      <th>179</th>\n",
       "      <td>South Coast Global Medical Center</td>\n",
       "      <td>180.0</td>\n",
       "      <td>48.0</td>\n",
       "      <td>111.0</td>\n",
       "      <td>0.43</td>\n",
       "    </tr>\n",
       "    <tr>\n",
       "      <th>175</th>\n",
       "      <td>Providence Mission Hospital</td>\n",
       "      <td>337.0</td>\n",
       "      <td>113.0</td>\n",
       "      <td>274.0</td>\n",
       "      <td>0.41</td>\n",
       "    </tr>\n",
       "    <tr>\n",
       "      <th>168</th>\n",
       "      <td>University of California Irvine Medical Center</td>\n",
       "      <td>439.0</td>\n",
       "      <td>167.0</td>\n",
       "      <td>405.0</td>\n",
       "      <td>0.41</td>\n",
       "    </tr>\n",
       "    <tr>\n",
       "      <th>182</th>\n",
       "      <td>Hoag Memorial Hospital Presbyterian</td>\n",
       "      <td>441.0</td>\n",
       "      <td>172.0</td>\n",
       "      <td>426.0</td>\n",
       "      <td>0.40</td>\n",
       "    </tr>\n",
       "    <tr>\n",
       "      <th>166</th>\n",
       "      <td>Chapman Global Medical Center</td>\n",
       "      <td>78.0</td>\n",
       "      <td>23.0</td>\n",
       "      <td>62.0</td>\n",
       "      <td>0.37</td>\n",
       "    </tr>\n",
       "    <tr>\n",
       "      <th>181</th>\n",
       "      <td>Anaheim Global Medical Center</td>\n",
       "      <td>189.0</td>\n",
       "      <td>37.0</td>\n",
       "      <td>131.0</td>\n",
       "      <td>0.28</td>\n",
       "    </tr>\n",
       "    <tr>\n",
       "      <th>186</th>\n",
       "      <td>Orange County Global Medical Center</td>\n",
       "      <td>425.0</td>\n",
       "      <td>83.0</td>\n",
       "      <td>304.0</td>\n",
       "      <td>0.27</td>\n",
       "    </tr>\n",
       "  </tbody>\n",
       "</table>\n",
       "</div>"
      ],
      "text/plain": [
       "                                           hospital  total_beds  \\\n",
       "169                     West Anaheim Medical Center       166.0   \n",
       "176                Foothill Regional Medical Center       125.0   \n",
       "183          Memorialcare Saddleback Medical Center       234.0   \n",
       "179               South Coast Global Medical Center       180.0   \n",
       "175                     Providence Mission Hospital       337.0   \n",
       "168  University of California Irvine Medical Center       439.0   \n",
       "182             Hoag Memorial Hospital Presbyterian       441.0   \n",
       "166                   Chapman Global Medical Center        78.0   \n",
       "181                   Anaheim Global Medical Center       189.0   \n",
       "186             Orange County Global Medical Center       425.0   \n",
       "\n",
       "     total_covid_patients  all_patients  covid_patients_share  \n",
       "169                  58.0         116.0                  0.50  \n",
       "176                  34.0          75.0                  0.45  \n",
       "183                  69.0         153.0                  0.45  \n",
       "179                  48.0         111.0                  0.43  \n",
       "175                 113.0         274.0                  0.41  \n",
       "168                 167.0         405.0                  0.41  \n",
       "182                 172.0         426.0                  0.40  \n",
       "166                  23.0          62.0                  0.37  \n",
       "181                  37.0         131.0                  0.28  \n",
       "186                  83.0         304.0                  0.27  "
      ]
     },
     "execution_count": 44,
     "metadata": {},
     "output_type": "execute_result"
    }
   ],
   "source": [
    "current_oc[\n",
    "    (current_oc[\"hospital_subtype\"] != \"Long Term\")\n",
    "    & (current_oc[\"total_covid_icu_patients\"] > 0)\n",
    "][\n",
    "    [\n",
    "        \"hospital\",\n",
    "        \"total_beds\",\n",
    "        \"total_covid_patients\",\n",
    "        \"all_patients\",\n",
    "        \"covid_patients_share\",\n",
    "    ]\n",
    "].sort_values(\n",
    "    \"covid_patients_share\", ascending=False\n",
    ").tail(\n",
    "    10\n",
    ")"
   ]
  },
  {
   "cell_type": "code",
   "execution_count": 45,
   "metadata": {},
   "outputs": [],
   "source": [
    "current_la[\"covid_patients_share\"] = round(\n",
    "    (current_la[\"covid_patients_share\"] * 100), 2\n",
    ")"
   ]
  },
  {
   "cell_type": "markdown",
   "metadata": {},
   "source": [
    "### Output top LA hospitals for CMS table"
   ]
  },
  {
   "cell_type": "code",
   "execution_count": 46,
   "metadata": {},
   "outputs": [],
   "source": [
    "current_la[\n",
    "    (current_la[\"hospital_subtype\"] != \"Long Term\")\n",
    "    & (current_la[\"total_covid_icu_patients\"] > 0)\n",
    "][[\"hospital\", \"total_covid_patients\", \"covid_patients_share\"]].sort_values(\n",
    "    \"covid_patients_share\", ascending=False\n",
    ").head(\n",
    "    10\n",
    ").to_csv(\n",
    "    \"output/current_la_hospitals.csv\", index=False\n",
    ")"
   ]
  },
  {
   "cell_type": "markdown",
   "metadata": {},
   "source": [
    "### Which facilities in LA have the highest ICU capacity rates? "
   ]
  },
  {
   "cell_type": "code",
   "execution_count": 47,
   "metadata": {},
   "outputs": [
    {
     "data": {
      "text/html": [
       "<div>\n",
       "<style scoped>\n",
       "    .dataframe tbody tr th:only-of-type {\n",
       "        vertical-align: middle;\n",
       "    }\n",
       "\n",
       "    .dataframe tbody tr th {\n",
       "        vertical-align: top;\n",
       "    }\n",
       "\n",
       "    .dataframe thead th {\n",
       "        text-align: right;\n",
       "    }\n",
       "</style>\n",
       "<table border=\"1\" class=\"dataframe\">\n",
       "  <thead>\n",
       "    <tr style=\"text-align: right;\">\n",
       "      <th></th>\n",
       "      <th>hospital</th>\n",
       "      <th>hospital_subtype</th>\n",
       "      <th>ccn</th>\n",
       "      <th>week</th>\n",
       "      <th>county</th>\n",
       "      <th>fips</th>\n",
       "      <th>total_beds</th>\n",
       "      <th>total_staffed_adult_icu_beds</th>\n",
       "      <th>total_covid_icu_patients</th>\n",
       "      <th>total_available_adult_icu_beds</th>\n",
       "      <th>pct_occupied_adult_icu_beds</th>\n",
       "      <th>total_covid_patients</th>\n",
       "      <th>all_patients</th>\n",
       "      <th>covid_patients_share</th>\n",
       "      <th>region</th>\n",
       "    </tr>\n",
       "  </thead>\n",
       "  <tbody>\n",
       "    <tr>\n",
       "      <th>137</th>\n",
       "      <td>Cedars-Sinai Medical Center</td>\n",
       "      <td>Short Term</td>\n",
       "      <td>050625</td>\n",
       "      <td>2021-01-01</td>\n",
       "      <td>Los Angeles</td>\n",
       "      <td>037</td>\n",
       "      <td>928.0</td>\n",
       "      <td>107.0</td>\n",
       "      <td>80.0</td>\n",
       "      <td>-39.0</td>\n",
       "      <td>1.36</td>\n",
       "      <td>336.0</td>\n",
       "      <td>830.0</td>\n",
       "      <td>40.0</td>\n",
       "      <td>Southern California</td>\n",
       "    </tr>\n",
       "    <tr>\n",
       "      <th>102</th>\n",
       "      <td>Kaiser Foundation Hospital - Downey</td>\n",
       "      <td>Short Term</td>\n",
       "      <td>050139</td>\n",
       "      <td>2021-01-01</td>\n",
       "      <td>Los Angeles</td>\n",
       "      <td>037</td>\n",
       "      <td>447.0</td>\n",
       "      <td>58.0</td>\n",
       "      <td>52.0</td>\n",
       "      <td>0.0</td>\n",
       "      <td>1.00</td>\n",
       "      <td>231.0</td>\n",
       "      <td>256.0</td>\n",
       "      <td>90.0</td>\n",
       "      <td>Southern California</td>\n",
       "    </tr>\n",
       "    <tr>\n",
       "      <th>96</th>\n",
       "      <td>Encino Hospital Medical Center</td>\n",
       "      <td>Short Term</td>\n",
       "      <td>050158</td>\n",
       "      <td>2021-01-01</td>\n",
       "      <td>Los Angeles</td>\n",
       "      <td>037</td>\n",
       "      <td>70.0</td>\n",
       "      <td>6.0</td>\n",
       "      <td>3.0</td>\n",
       "      <td>0.0</td>\n",
       "      <td>1.00</td>\n",
       "      <td>25.0</td>\n",
       "      <td>70.0</td>\n",
       "      <td>36.0</td>\n",
       "      <td>Southern California</td>\n",
       "    </tr>\n",
       "    <tr>\n",
       "      <th>120</th>\n",
       "      <td>Kaiser Foundation Hospital - Baldwin Park</td>\n",
       "      <td>Short Term</td>\n",
       "      <td>050723</td>\n",
       "      <td>2021-01-01</td>\n",
       "      <td>Los Angeles</td>\n",
       "      <td>037</td>\n",
       "      <td>311.0</td>\n",
       "      <td>32.0</td>\n",
       "      <td>26.0</td>\n",
       "      <td>0.0</td>\n",
       "      <td>1.00</td>\n",
       "      <td>179.0</td>\n",
       "      <td>202.0</td>\n",
       "      <td>89.0</td>\n",
       "      <td>Southern California</td>\n",
       "    </tr>\n",
       "    <tr>\n",
       "      <th>111</th>\n",
       "      <td>Providence Little Company of Mary Med Ctr Torr...</td>\n",
       "      <td>Short Term</td>\n",
       "      <td>050353</td>\n",
       "      <td>2021-01-01</td>\n",
       "      <td>Los Angeles</td>\n",
       "      <td>037</td>\n",
       "      <td>334.0</td>\n",
       "      <td>33.0</td>\n",
       "      <td>23.0</td>\n",
       "      <td>0.0</td>\n",
       "      <td>1.00</td>\n",
       "      <td>164.0</td>\n",
       "      <td>279.0</td>\n",
       "      <td>59.0</td>\n",
       "      <td>Southern California</td>\n",
       "    </tr>\n",
       "    <tr>\n",
       "      <th>75</th>\n",
       "      <td>Whittier Hospital Medical Center</td>\n",
       "      <td>Short Term</td>\n",
       "      <td>050735</td>\n",
       "      <td>2021-01-01</td>\n",
       "      <td>Los Angeles</td>\n",
       "      <td>037</td>\n",
       "      <td>183.0</td>\n",
       "      <td>25.0</td>\n",
       "      <td>17.0</td>\n",
       "      <td>0.0</td>\n",
       "      <td>1.00</td>\n",
       "      <td>69.0</td>\n",
       "      <td>127.0</td>\n",
       "      <td>54.0</td>\n",
       "      <td>Southern California</td>\n",
       "    </tr>\n",
       "    <tr>\n",
       "      <th>70</th>\n",
       "      <td>Beverly Hospital</td>\n",
       "      <td>Short Term</td>\n",
       "      <td>050350</td>\n",
       "      <td>2021-01-01</td>\n",
       "      <td>Los Angeles</td>\n",
       "      <td>037</td>\n",
       "      <td>182.0</td>\n",
       "      <td>25.0</td>\n",
       "      <td>19.0</td>\n",
       "      <td>0.0</td>\n",
       "      <td>1.00</td>\n",
       "      <td>81.0</td>\n",
       "      <td>136.0</td>\n",
       "      <td>60.0</td>\n",
       "      <td>Southern California</td>\n",
       "    </tr>\n",
       "    <tr>\n",
       "      <th>95</th>\n",
       "      <td>Northridge Hospital Medical Center</td>\n",
       "      <td>Short Term</td>\n",
       "      <td>050116</td>\n",
       "      <td>2021-01-01</td>\n",
       "      <td>Los Angeles</td>\n",
       "      <td>037</td>\n",
       "      <td>325.0</td>\n",
       "      <td>45.0</td>\n",
       "      <td>33.0</td>\n",
       "      <td>0.0</td>\n",
       "      <td>1.00</td>\n",
       "      <td>130.0</td>\n",
       "      <td>257.0</td>\n",
       "      <td>51.0</td>\n",
       "      <td>Southern California</td>\n",
       "    </tr>\n",
       "    <tr>\n",
       "      <th>65</th>\n",
       "      <td>Pacifica Hospital of The Valley</td>\n",
       "      <td>Short Term</td>\n",
       "      <td>050378</td>\n",
       "      <td>2021-01-01</td>\n",
       "      <td>Los Angeles</td>\n",
       "      <td>037</td>\n",
       "      <td>118.0</td>\n",
       "      <td>13.0</td>\n",
       "      <td>4.0</td>\n",
       "      <td>0.0</td>\n",
       "      <td>1.00</td>\n",
       "      <td>32.0</td>\n",
       "      <td>64.0</td>\n",
       "      <td>50.0</td>\n",
       "      <td>Southern California</td>\n",
       "    </tr>\n",
       "    <tr>\n",
       "      <th>115</th>\n",
       "      <td>Usc Verdugo Hills Hospital</td>\n",
       "      <td>Short Term</td>\n",
       "      <td>050124</td>\n",
       "      <td>2021-01-01</td>\n",
       "      <td>Los Angeles</td>\n",
       "      <td>037</td>\n",
       "      <td>130.0</td>\n",
       "      <td>15.0</td>\n",
       "      <td>10.0</td>\n",
       "      <td>0.0</td>\n",
       "      <td>1.00</td>\n",
       "      <td>63.0</td>\n",
       "      <td>126.0</td>\n",
       "      <td>50.0</td>\n",
       "      <td>Southern California</td>\n",
       "    </tr>\n",
       "  </tbody>\n",
       "</table>\n",
       "</div>"
      ],
      "text/plain": [
       "                                              hospital hospital_subtype  \\\n",
       "137                        Cedars-Sinai Medical Center       Short Term   \n",
       "102                Kaiser Foundation Hospital - Downey       Short Term   \n",
       "96                      Encino Hospital Medical Center       Short Term   \n",
       "120          Kaiser Foundation Hospital - Baldwin Park       Short Term   \n",
       "111  Providence Little Company of Mary Med Ctr Torr...       Short Term   \n",
       "75                    Whittier Hospital Medical Center       Short Term   \n",
       "70                                    Beverly Hospital       Short Term   \n",
       "95                  Northridge Hospital Medical Center       Short Term   \n",
       "65                     Pacifica Hospital of The Valley       Short Term   \n",
       "115                         Usc Verdugo Hills Hospital       Short Term   \n",
       "\n",
       "        ccn       week       county fips  total_beds  \\\n",
       "137  050625 2021-01-01  Los Angeles  037       928.0   \n",
       "102  050139 2021-01-01  Los Angeles  037       447.0   \n",
       "96   050158 2021-01-01  Los Angeles  037        70.0   \n",
       "120  050723 2021-01-01  Los Angeles  037       311.0   \n",
       "111  050353 2021-01-01  Los Angeles  037       334.0   \n",
       "75   050735 2021-01-01  Los Angeles  037       183.0   \n",
       "70   050350 2021-01-01  Los Angeles  037       182.0   \n",
       "95   050116 2021-01-01  Los Angeles  037       325.0   \n",
       "65   050378 2021-01-01  Los Angeles  037       118.0   \n",
       "115  050124 2021-01-01  Los Angeles  037       130.0   \n",
       "\n",
       "     total_staffed_adult_icu_beds  total_covid_icu_patients  \\\n",
       "137                         107.0                      80.0   \n",
       "102                          58.0                      52.0   \n",
       "96                            6.0                       3.0   \n",
       "120                          32.0                      26.0   \n",
       "111                          33.0                      23.0   \n",
       "75                           25.0                      17.0   \n",
       "70                           25.0                      19.0   \n",
       "95                           45.0                      33.0   \n",
       "65                           13.0                       4.0   \n",
       "115                          15.0                      10.0   \n",
       "\n",
       "     total_available_adult_icu_beds  pct_occupied_adult_icu_beds  \\\n",
       "137                           -39.0                         1.36   \n",
       "102                             0.0                         1.00   \n",
       "96                              0.0                         1.00   \n",
       "120                             0.0                         1.00   \n",
       "111                             0.0                         1.00   \n",
       "75                              0.0                         1.00   \n",
       "70                              0.0                         1.00   \n",
       "95                              0.0                         1.00   \n",
       "65                              0.0                         1.00   \n",
       "115                             0.0                         1.00   \n",
       "\n",
       "     total_covid_patients  all_patients  covid_patients_share  \\\n",
       "137                 336.0         830.0                  40.0   \n",
       "102                 231.0         256.0                  90.0   \n",
       "96                   25.0          70.0                  36.0   \n",
       "120                 179.0         202.0                  89.0   \n",
       "111                 164.0         279.0                  59.0   \n",
       "75                   69.0         127.0                  54.0   \n",
       "70                   81.0         136.0                  60.0   \n",
       "95                  130.0         257.0                  51.0   \n",
       "65                   32.0          64.0                  50.0   \n",
       "115                  63.0         126.0                  50.0   \n",
       "\n",
       "                  region  \n",
       "137  Southern California  \n",
       "102  Southern California  \n",
       "96   Southern California  \n",
       "120  Southern California  \n",
       "111  Southern California  \n",
       "75   Southern California  \n",
       "70   Southern California  \n",
       "95   Southern California  \n",
       "65   Southern California  \n",
       "115  Southern California  "
      ]
     },
     "execution_count": 47,
     "metadata": {},
     "output_type": "execute_result"
    }
   ],
   "source": [
    "current_la[(current_la[\"total_covid_icu_patients\"] > 0)].sort_values(\n",
    "    \"pct_occupied_adult_icu_beds\", ascending=False\n",
    ").head(10)"
   ]
  },
  {
   "cell_type": "markdown",
   "metadata": {},
   "source": [
    "### How many LA County hospitals (with Covid patients) are in our dataframe? "
   ]
  },
  {
   "cell_type": "code",
   "execution_count": 48,
   "metadata": {},
   "outputs": [
    {
     "data": {
      "text/plain": [
       "73"
      ]
     },
     "execution_count": 48,
     "metadata": {},
     "output_type": "execute_result"
    }
   ],
   "source": [
    "len(current_la[(current_la[\"total_covid_icu_patients\"] > 0)])"
   ]
  },
  {
   "cell_type": "markdown",
   "metadata": {},
   "source": [
    "### How many have 'high' ICU occupancy rates? "
   ]
  },
  {
   "cell_type": "code",
   "execution_count": 49,
   "metadata": {},
   "outputs": [
    {
     "data": {
      "text/plain": [
       "49"
      ]
     },
     "execution_count": 49,
     "metadata": {},
     "output_type": "execute_result"
    }
   ],
   "source": [
    "len(current_la[current_la[\"pct_occupied_adult_icu_beds\"] > 0.90])"
   ]
  },
  {
   "cell_type": "markdown",
   "metadata": {},
   "source": [
    "### Top 10 Bay Area hospotals by Covid share? "
   ]
  },
  {
   "cell_type": "code",
   "execution_count": 50,
   "metadata": {},
   "outputs": [
    {
     "data": {
      "text/html": [
       "<div>\n",
       "<style scoped>\n",
       "    .dataframe tbody tr th:only-of-type {\n",
       "        vertical-align: middle;\n",
       "    }\n",
       "\n",
       "    .dataframe tbody tr th {\n",
       "        vertical-align: top;\n",
       "    }\n",
       "\n",
       "    .dataframe thead th {\n",
       "        text-align: right;\n",
       "    }\n",
       "</style>\n",
       "<table border=\"1\" class=\"dataframe\">\n",
       "  <thead>\n",
       "    <tr style=\"text-align: right;\">\n",
       "      <th></th>\n",
       "      <th>hospital</th>\n",
       "      <th>hospital_subtype</th>\n",
       "      <th>ccn</th>\n",
       "      <th>week</th>\n",
       "      <th>county</th>\n",
       "      <th>fips</th>\n",
       "      <th>total_beds</th>\n",
       "      <th>total_staffed_adult_icu_beds</th>\n",
       "      <th>total_covid_icu_patients</th>\n",
       "      <th>total_available_adult_icu_beds</th>\n",
       "      <th>pct_occupied_adult_icu_beds</th>\n",
       "      <th>total_covid_patients</th>\n",
       "      <th>all_patients</th>\n",
       "      <th>covid_patients_share</th>\n",
       "      <th>region</th>\n",
       "    </tr>\n",
       "  </thead>\n",
       "  <tbody>\n",
       "    <tr>\n",
       "      <th>302</th>\n",
       "      <td>Kaiser Foundation Hospital-San Jose</td>\n",
       "      <td>Short Term</td>\n",
       "      <td>050604</td>\n",
       "      <td>2021-01-01</td>\n",
       "      <td>Santa Clara</td>\n",
       "      <td>085</td>\n",
       "      <td>175.0</td>\n",
       "      <td>20.0</td>\n",
       "      <td>16.0</td>\n",
       "      <td>2.0</td>\n",
       "      <td>0.90</td>\n",
       "      <td>97.0</td>\n",
       "      <td>159.0</td>\n",
       "      <td>0.61</td>\n",
       "      <td>Bay Area</td>\n",
       "    </tr>\n",
       "    <tr>\n",
       "      <th>299</th>\n",
       "      <td>Regional Medical Center of San Jose</td>\n",
       "      <td>Short Term</td>\n",
       "      <td>050125</td>\n",
       "      <td>2021-01-01</td>\n",
       "      <td>Santa Clara</td>\n",
       "      <td>085</td>\n",
       "      <td>286.0</td>\n",
       "      <td>47.0</td>\n",
       "      <td>29.0</td>\n",
       "      <td>0.0</td>\n",
       "      <td>1.00</td>\n",
       "      <td>118.0</td>\n",
       "      <td>242.0</td>\n",
       "      <td>0.49</td>\n",
       "      <td>Bay Area</td>\n",
       "    </tr>\n",
       "    <tr>\n",
       "      <th>289</th>\n",
       "      <td>Kaiser Foundation Hospital - South San Francisco</td>\n",
       "      <td>Short Term</td>\n",
       "      <td>050070</td>\n",
       "      <td>2021-01-01</td>\n",
       "      <td>San Mateo</td>\n",
       "      <td>081</td>\n",
       "      <td>98.0</td>\n",
       "      <td>13.0</td>\n",
       "      <td>6.0</td>\n",
       "      <td>1.0</td>\n",
       "      <td>0.92</td>\n",
       "      <td>43.0</td>\n",
       "      <td>89.0</td>\n",
       "      <td>0.48</td>\n",
       "      <td>Bay Area</td>\n",
       "    </tr>\n",
       "    <tr>\n",
       "      <th>6</th>\n",
       "      <td>Alameda Hospital</td>\n",
       "      <td>Short Term</td>\n",
       "      <td>050211</td>\n",
       "      <td>2021-01-01</td>\n",
       "      <td>Alameda</td>\n",
       "      <td>001</td>\n",
       "      <td>90.0</td>\n",
       "      <td>8.0</td>\n",
       "      <td>4.0</td>\n",
       "      <td>1.0</td>\n",
       "      <td>0.88</td>\n",
       "      <td>20.0</td>\n",
       "      <td>43.0</td>\n",
       "      <td>0.47</td>\n",
       "      <td>Bay Area</td>\n",
       "    </tr>\n",
       "    <tr>\n",
       "      <th>291</th>\n",
       "      <td>Seton Medical Center</td>\n",
       "      <td>Short Term</td>\n",
       "      <td>050289</td>\n",
       "      <td>2021-01-01</td>\n",
       "      <td>San Mateo</td>\n",
       "      <td>081</td>\n",
       "      <td>92.0</td>\n",
       "      <td>16.0</td>\n",
       "      <td>6.0</td>\n",
       "      <td>6.0</td>\n",
       "      <td>0.62</td>\n",
       "      <td>33.0</td>\n",
       "      <td>73.0</td>\n",
       "      <td>0.45</td>\n",
       "      <td>Bay Area</td>\n",
       "    </tr>\n",
       "    <tr>\n",
       "      <th>4</th>\n",
       "      <td>St Rose Hospital</td>\n",
       "      <td>Short Term</td>\n",
       "      <td>050002</td>\n",
       "      <td>2021-01-01</td>\n",
       "      <td>Alameda</td>\n",
       "      <td>001</td>\n",
       "      <td>95.0</td>\n",
       "      <td>15.0</td>\n",
       "      <td>7.0</td>\n",
       "      <td>4.0</td>\n",
       "      <td>0.73</td>\n",
       "      <td>25.0</td>\n",
       "      <td>57.0</td>\n",
       "      <td>0.44</td>\n",
       "      <td>Bay Area</td>\n",
       "    </tr>\n",
       "    <tr>\n",
       "      <th>11</th>\n",
       "      <td>Kaiser Foundation Hospital - San Leandro</td>\n",
       "      <td>Short Term</td>\n",
       "      <td>050777</td>\n",
       "      <td>2021-01-01</td>\n",
       "      <td>Alameda</td>\n",
       "      <td>001</td>\n",
       "      <td>182.0</td>\n",
       "      <td>19.0</td>\n",
       "      <td>13.0</td>\n",
       "      <td>1.0</td>\n",
       "      <td>0.95</td>\n",
       "      <td>73.0</td>\n",
       "      <td>166.0</td>\n",
       "      <td>0.44</td>\n",
       "      <td>Bay Area</td>\n",
       "    </tr>\n",
       "    <tr>\n",
       "      <th>287</th>\n",
       "      <td>San Mateo Medical Center</td>\n",
       "      <td>Short Term</td>\n",
       "      <td>050113</td>\n",
       "      <td>2021-01-01</td>\n",
       "      <td>San Mateo</td>\n",
       "      <td>081</td>\n",
       "      <td>54.0</td>\n",
       "      <td>7.0</td>\n",
       "      <td>5.0</td>\n",
       "      <td>0.0</td>\n",
       "      <td>1.00</td>\n",
       "      <td>17.0</td>\n",
       "      <td>40.0</td>\n",
       "      <td>0.42</td>\n",
       "      <td>Bay Area</td>\n",
       "    </tr>\n",
       "    <tr>\n",
       "      <th>23</th>\n",
       "      <td>Sutter Delta Medical Center</td>\n",
       "      <td>Short Term</td>\n",
       "      <td>050523</td>\n",
       "      <td>2021-01-01</td>\n",
       "      <td>Contra Costa</td>\n",
       "      <td>013</td>\n",
       "      <td>148.0</td>\n",
       "      <td>12.0</td>\n",
       "      <td>5.0</td>\n",
       "      <td>0.0</td>\n",
       "      <td>1.00</td>\n",
       "      <td>43.0</td>\n",
       "      <td>103.0</td>\n",
       "      <td>0.42</td>\n",
       "      <td>Bay Area</td>\n",
       "    </tr>\n",
       "    <tr>\n",
       "      <th>321</th>\n",
       "      <td>Healdsburg District Hospital</td>\n",
       "      <td>Critical Access Hospitals</td>\n",
       "      <td>051321</td>\n",
       "      <td>2021-01-01</td>\n",
       "      <td>Sonoma</td>\n",
       "      <td>097</td>\n",
       "      <td>28.0</td>\n",
       "      <td>5.0</td>\n",
       "      <td>0.0</td>\n",
       "      <td>5.0</td>\n",
       "      <td>0.00</td>\n",
       "      <td>4.0</td>\n",
       "      <td>10.0</td>\n",
       "      <td>0.40</td>\n",
       "      <td>Bay Area</td>\n",
       "    </tr>\n",
       "  </tbody>\n",
       "</table>\n",
       "</div>"
      ],
      "text/plain": [
       "                                             hospital  \\\n",
       "302               Kaiser Foundation Hospital-San Jose   \n",
       "299               Regional Medical Center of San Jose   \n",
       "289  Kaiser Foundation Hospital - South San Francisco   \n",
       "6                                    Alameda Hospital   \n",
       "291                              Seton Medical Center   \n",
       "4                                    St Rose Hospital   \n",
       "11           Kaiser Foundation Hospital - San Leandro   \n",
       "287                          San Mateo Medical Center   \n",
       "23                        Sutter Delta Medical Center   \n",
       "321                      Healdsburg District Hospital   \n",
       "\n",
       "              hospital_subtype     ccn       week        county fips  \\\n",
       "302                 Short Term  050604 2021-01-01   Santa Clara  085   \n",
       "299                 Short Term  050125 2021-01-01   Santa Clara  085   \n",
       "289                 Short Term  050070 2021-01-01     San Mateo  081   \n",
       "6                   Short Term  050211 2021-01-01       Alameda  001   \n",
       "291                 Short Term  050289 2021-01-01     San Mateo  081   \n",
       "4                   Short Term  050002 2021-01-01       Alameda  001   \n",
       "11                  Short Term  050777 2021-01-01       Alameda  001   \n",
       "287                 Short Term  050113 2021-01-01     San Mateo  081   \n",
       "23                  Short Term  050523 2021-01-01  Contra Costa  013   \n",
       "321  Critical Access Hospitals  051321 2021-01-01        Sonoma  097   \n",
       "\n",
       "     total_beds  total_staffed_adult_icu_beds  total_covid_icu_patients  \\\n",
       "302       175.0                          20.0                      16.0   \n",
       "299       286.0                          47.0                      29.0   \n",
       "289        98.0                          13.0                       6.0   \n",
       "6          90.0                           8.0                       4.0   \n",
       "291        92.0                          16.0                       6.0   \n",
       "4          95.0                          15.0                       7.0   \n",
       "11        182.0                          19.0                      13.0   \n",
       "287        54.0                           7.0                       5.0   \n",
       "23        148.0                          12.0                       5.0   \n",
       "321        28.0                           5.0                       0.0   \n",
       "\n",
       "     total_available_adult_icu_beds  pct_occupied_adult_icu_beds  \\\n",
       "302                             2.0                         0.90   \n",
       "299                             0.0                         1.00   \n",
       "289                             1.0                         0.92   \n",
       "6                               1.0                         0.88   \n",
       "291                             6.0                         0.62   \n",
       "4                               4.0                         0.73   \n",
       "11                              1.0                         0.95   \n",
       "287                             0.0                         1.00   \n",
       "23                              0.0                         1.00   \n",
       "321                             5.0                         0.00   \n",
       "\n",
       "     total_covid_patients  all_patients  covid_patients_share    region  \n",
       "302                  97.0         159.0                  0.61  Bay Area  \n",
       "299                 118.0         242.0                  0.49  Bay Area  \n",
       "289                  43.0          89.0                  0.48  Bay Area  \n",
       "6                    20.0          43.0                  0.47  Bay Area  \n",
       "291                  33.0          73.0                  0.45  Bay Area  \n",
       "4                    25.0          57.0                  0.44  Bay Area  \n",
       "11                   73.0         166.0                  0.44  Bay Area  \n",
       "287                  17.0          40.0                  0.42  Bay Area  \n",
       "23                   43.0         103.0                  0.42  Bay Area  \n",
       "321                   4.0          10.0                  0.40  Bay Area  "
      ]
     },
     "execution_count": 50,
     "metadata": {},
     "output_type": "execute_result"
    }
   ],
   "source": [
    "current_ca[current_ca[\"county\"].isin(bayarea)].sort_values(\n",
    "    \"covid_patients_share\", ascending=False\n",
    ").head(10)"
   ]
  },
  {
   "cell_type": "markdown",
   "metadata": {},
   "source": [
    "---"
   ]
  },
  {
   "cell_type": "markdown",
   "metadata": {},
   "source": [
    "## Get medical facilities' geographic data"
   ]
  },
  {
   "cell_type": "code",
   "execution_count": 51,
   "metadata": {},
   "outputs": [],
   "source": [
    "# From HHS: https://maps3.arcgisonline.com/arcgis/rest/services/A-16/HHS_IOM_Health_Resources/MapServer"
   ]
  },
  {
   "cell_type": "code",
   "execution_count": 52,
   "metadata": {},
   "outputs": [],
   "source": [
    "hospitals = gpd.read_file(\n",
    "    \"/Users/mhustiles/data/github/AGStoShapefile/backupdir/HHS_Hospital/HHS_Hospital_1608139617293.geojson\"\n",
    ")"
   ]
  },
  {
   "cell_type": "code",
   "execution_count": 53,
   "metadata": {},
   "outputs": [],
   "source": [
    "medical_centers = gpd.read_file(\n",
    "    \"/Users/mhustiles/data/github/AGStoShapefile/backupdir/HHS_Medical_Center/HHS_Medical_Center_1608139616289.geojson\"\n",
    ")"
   ]
  },
  {
   "cell_type": "markdown",
   "metadata": {},
   "source": [
    "### Clean up the column names so we can merge the facilities dataframes"
   ]
  },
  {
   "cell_type": "code",
   "execution_count": 54,
   "metadata": {},
   "outputs": [],
   "source": [
    "facilities = [hospitals, medical_centers]"
   ]
  },
  {
   "cell_type": "code",
   "execution_count": 55,
   "metadata": {},
   "outputs": [],
   "source": [
    "hospitals.rename(\n",
    "    columns={\n",
    "        \"Name_new\": \"name\",\n",
    "        \"Address_1\": \"address\",\n",
    "        \"City\": \"city\",\n",
    "        \"State_1\": \"state\",\n",
    "        \"ZipCode\": \"zipcode\",\n",
    "        \"PhoneNum\": \"phone\",\n",
    "        \"County_Nam\": \"county\",\n",
    "        \"Provider_N\": \"provider_id\",\n",
    "        \"Hospital_T\": \"type\",\n",
    "        \"Hospital_O\": \"operation\",\n",
    "        \"Emergency_\": \"emergency\",\n",
    "    },\n",
    "    inplace=True,\n",
    ")"
   ]
  },
  {
   "cell_type": "code",
   "execution_count": 56,
   "metadata": {},
   "outputs": [],
   "source": [
    "medical_centers.rename(\n",
    "    columns={\n",
    "        \"Hospital_N\": \"name\",\n",
    "        \"Address1\": \"address\",\n",
    "        \"City_1\": \"city\",\n",
    "        \"State_1\": \"state\",\n",
    "        \"ZipCode\": \"zipcode\",\n",
    "        \"PhoneNum\": \"phone\",\n",
    "        \"County_Nam\": \"county\",\n",
    "        \"Provider_N\": \"provider_id\",\n",
    "        \"Hospital_T\": \"type\",\n",
    "        \"Hospital_O\": \"operation\",\n",
    "        \"Emergency_\": \"emergency\",\n",
    "    },\n",
    "    inplace=True,\n",
    ")"
   ]
  },
  {
   "cell_type": "markdown",
   "metadata": {},
   "source": [
    "### Concatenate the different facility types into one dataframe, and also filter that just to CA"
   ]
  },
  {
   "cell_type": "code",
   "execution_count": 57,
   "metadata": {},
   "outputs": [],
   "source": [
    "all_medical_geo = pd.concat(facilities)"
   ]
  },
  {
   "cell_type": "code",
   "execution_count": 58,
   "metadata": {},
   "outputs": [],
   "source": [
    "all_medical_geo_ca = all_medical_geo[all_medical_geo[\"state\"] == \"CA\"]"
   ]
  },
  {
   "cell_type": "markdown",
   "metadata": {},
   "source": [
    "### We might be better off using HHS' own locations data with CCNs"
   ]
  },
  {
   "cell_type": "code",
   "execution_count": 59,
   "metadata": {},
   "outputs": [],
   "source": [
    "locations = pd.read_csv(\n",
    "    \"input/hospital_locations.csv\",\n",
    "    dtype={\"latitude\": float, \"longitude\": float, \"CCN\": str},\n",
    ")"
   ]
  },
  {
   "cell_type": "code",
   "execution_count": 60,
   "metadata": {},
   "outputs": [],
   "source": [
    "locations.columns = (\n",
    "    locations.columns.str.strip()\n",
    "    .str.lower()\n",
    "    .str.replace(\" \", \"_\", regex=False)\n",
    "    .str.replace(\"(\", \"\", regex=False)\n",
    "    .str.replace(\")\", \"\", regex=False)\n",
    "    .str.replace(\"-\", \"_\", regex=False)\n",
    ")"
   ]
  },
  {
   "cell_type": "markdown",
   "metadata": {},
   "source": [
    "### Even though it has the wrong location for White Memorial. Let's fix."
   ]
  },
  {
   "cell_type": "code",
   "execution_count": 61,
   "metadata": {},
   "outputs": [],
   "source": [
    "locations.loc[\n",
    "    (locations.facility_name == \"WHITE MEMORIAL MEDICAL CENTER\"), \"longitude\"\n",
    "] = -118.2176219"
   ]
  },
  {
   "cell_type": "code",
   "execution_count": 62,
   "metadata": {},
   "outputs": [],
   "source": [
    "locations.loc[\n",
    "    (locations.facility_name == \"WHITE MEMORIAL MEDICAL CENTER\"), \"latitude\"\n",
    "] = 34.0493044"
   ]
  },
  {
   "cell_type": "markdown",
   "metadata": {},
   "source": [
    "### Convert the lon/lat fields into a geodataframe"
   ]
  },
  {
   "cell_type": "code",
   "execution_count": 63,
   "metadata": {},
   "outputs": [],
   "source": [
    "locations = gpd.GeoDataFrame(\n",
    "    locations, geometry=gpd.points_from_xy(locations.longitude, locations.latitude)\n",
    ")"
   ]
  },
  {
   "cell_type": "markdown",
   "metadata": {},
   "source": [
    "### And then confine it to California"
   ]
  },
  {
   "cell_type": "code",
   "execution_count": 64,
   "metadata": {},
   "outputs": [],
   "source": [
    "locationsca = gpd.GeoDataFrame(locations[locations[\"state\"] == \"CA\"])"
   ]
  },
  {
   "cell_type": "markdown",
   "metadata": {},
   "source": [
    "### Make the CCN string match the hospital capacity data"
   ]
  },
  {
   "cell_type": "code",
   "execution_count": 65,
   "metadata": {},
   "outputs": [],
   "source": [
    "locationsca[\"ccn\"] = locationsca[\"ccn\"].str.zfill(6)"
   ]
  },
  {
   "cell_type": "markdown",
   "metadata": {},
   "source": [
    "---"
   ]
  },
  {
   "cell_type": "markdown",
   "metadata": {},
   "source": [
    "### Merge with our CA medical facilities"
   ]
  },
  {
   "cell_type": "code",
   "execution_count": 66,
   "metadata": {},
   "outputs": [],
   "source": [
    "current_ca_geo = locationsca.merge(current_ca, left_on=\"ccn\", right_on=\"ccn\")"
   ]
  },
  {
   "cell_type": "code",
   "execution_count": 67,
   "metadata": {},
   "outputs": [
    {
     "data": {
      "text/plain": [
       "347"
      ]
     },
     "execution_count": 67,
     "metadata": {},
     "output_type": "execute_result"
    }
   ],
   "source": [
    "len(current_ca_geo)"
   ]
  },
  {
   "cell_type": "code",
   "execution_count": 68,
   "metadata": {},
   "outputs": [],
   "source": [
    "current_ca_geo.rename(\n",
    "    columns={\n",
    "        \"county_x\": \"county\",\n",
    "        \"city_x\": \"city\",\n",
    "        \"address_x\": \"address\",\n",
    "        \"state_x\": \"state\",\n",
    "    },\n",
    "    inplace=True,\n",
    ")"
   ]
  },
  {
   "cell_type": "code",
   "execution_count": 69,
   "metadata": {},
   "outputs": [],
   "source": [
    "# current_ca_geo.drop(['county_y', 'hospital_subtype', 'provider_id', 'ccn', 'emergency', 'address', 'OBJECTID', 'state', 'name', 'phone', 'zipcode'], axis=1, inplace=True)"
   ]
  },
  {
   "cell_type": "markdown",
   "metadata": {},
   "source": [
    "---"
   ]
  },
  {
   "cell_type": "markdown",
   "metadata": {},
   "source": [
    "### Filter to just LA County hospitals"
   ]
  },
  {
   "cell_type": "code",
   "execution_count": 70,
   "metadata": {},
   "outputs": [],
   "source": [
    "current_la_geo = current_ca_geo[current_ca_geo[\"fips\"] == \"037\"]"
   ]
  },
  {
   "cell_type": "markdown",
   "metadata": {},
   "source": [
    "### How many facilities in California?"
   ]
  },
  {
   "cell_type": "code",
   "execution_count": 71,
   "metadata": {},
   "outputs": [
    {
     "data": {
      "text/plain": [
       "347"
      ]
     },
     "execution_count": 71,
     "metadata": {},
     "output_type": "execute_result"
    }
   ],
   "source": [
    "len(current_ca_geo)"
   ]
  },
  {
   "cell_type": "markdown",
   "metadata": {},
   "source": [
    "### How many in L.A. County?"
   ]
  },
  {
   "cell_type": "code",
   "execution_count": 72,
   "metadata": {},
   "outputs": [
    {
     "data": {
      "text/plain": [
       "84"
      ]
     },
     "execution_count": 72,
     "metadata": {},
     "output_type": "execute_result"
    }
   ],
   "source": [
    "len(current_la_geo)"
   ]
  },
  {
   "cell_type": "markdown",
   "metadata": {},
   "source": [
    "---"
   ]
  },
  {
   "cell_type": "markdown",
   "metadata": {},
   "source": [
    "### Export hospital specific data for maps and tables"
   ]
  },
  {
   "cell_type": "code",
   "execution_count": 73,
   "metadata": {},
   "outputs": [],
   "source": [
    "current_ca_geo.to_file(\"output/current_ca_geo.geojson\", driver=\"GeoJSON\")"
   ]
  },
  {
   "cell_type": "code",
   "execution_count": 74,
   "metadata": {},
   "outputs": [],
   "source": [
    "current_ca_geo.to_csv(\"output/current_ca_geo.csv\", index=False)"
   ]
  },
  {
   "cell_type": "code",
   "execution_count": 75,
   "metadata": {},
   "outputs": [],
   "source": [
    "current_la_geo.to_file(\"output/current_la_geo.geojson\", driver=\"GeoJSON\")"
   ]
  },
  {
   "cell_type": "code",
   "execution_count": 76,
   "metadata": {},
   "outputs": [],
   "source": [
    "current_la_geo.to_csv(\"output/current_la_geo.csv\", index=False)"
   ]
  },
  {
   "cell_type": "markdown",
   "metadata": {},
   "source": [
    "---"
   ]
  },
  {
   "cell_type": "markdown",
   "metadata": {},
   "source": [
    "## Aggregate"
   ]
  },
  {
   "cell_type": "markdown",
   "metadata": {},
   "source": [
    "### What's the average share of Covid patients in hospitals statewide?"
   ]
  },
  {
   "cell_type": "code",
   "execution_count": 77,
   "metadata": {},
   "outputs": [],
   "source": [
    "state = (\n",
    "    current_ca.groupby([\"week\"])\n",
    "    .agg({\"total_covid_patients\": \"sum\", \"all_patients\": \"sum\"})\n",
    "    .reset_index()\n",
    ")"
   ]
  },
  {
   "cell_type": "code",
   "execution_count": 78,
   "metadata": {},
   "outputs": [],
   "source": [
    "state[\"covid_patients_share\"] = round(\n",
    "    (state[\"total_covid_patients\"] / state[\"all_patients\"]), 2\n",
    ")"
   ]
  },
  {
   "cell_type": "code",
   "execution_count": 79,
   "metadata": {},
   "outputs": [
    {
     "data": {
      "text/html": [
       "<div>\n",
       "<style scoped>\n",
       "    .dataframe tbody tr th:only-of-type {\n",
       "        vertical-align: middle;\n",
       "    }\n",
       "\n",
       "    .dataframe tbody tr th {\n",
       "        vertical-align: top;\n",
       "    }\n",
       "\n",
       "    .dataframe thead th {\n",
       "        text-align: right;\n",
       "    }\n",
       "</style>\n",
       "<table border=\"1\" class=\"dataframe\">\n",
       "  <thead>\n",
       "    <tr style=\"text-align: right;\">\n",
       "      <th></th>\n",
       "      <th>week</th>\n",
       "      <th>total_covid_patients</th>\n",
       "      <th>all_patients</th>\n",
       "      <th>covid_patients_share</th>\n",
       "    </tr>\n",
       "  </thead>\n",
       "  <tbody>\n",
       "    <tr>\n",
       "      <th>0</th>\n",
       "      <td>2021-01-01</td>\n",
       "      <td>21970.0</td>\n",
       "      <td>51255.0</td>\n",
       "      <td>0.43</td>\n",
       "    </tr>\n",
       "  </tbody>\n",
       "</table>\n",
       "</div>"
      ],
      "text/plain": [
       "        week  total_covid_patients  all_patients  covid_patients_share\n",
       "0 2021-01-01               21970.0       51255.0                  0.43"
      ]
     },
     "execution_count": 79,
     "metadata": {},
     "output_type": "execute_result"
    }
   ],
   "source": [
    "state.head()"
   ]
  },
  {
   "cell_type": "markdown",
   "metadata": {},
   "source": [
    "### Covid patients by county"
   ]
  },
  {
   "cell_type": "code",
   "execution_count": 80,
   "metadata": {},
   "outputs": [],
   "source": [
    "counties = (\n",
    "    trimmed_timeseries.groupby([\"county\", \"week\", \"region\"])\n",
    "    .agg({\"total_covid_patients\": \"sum\", \"all_patients\": \"sum\"})\n",
    "    .reset_index()\n",
    ")"
   ]
  },
  {
   "cell_type": "code",
   "execution_count": 81,
   "metadata": {},
   "outputs": [],
   "source": [
    "counties[\"covid_patients_share\"] = round(\n",
    "    (counties[\"total_covid_patients\"] / counties[\"all_patients\"]), 2\n",
    ")"
   ]
  },
  {
   "cell_type": "markdown",
   "metadata": {},
   "source": [
    "#### Which counties have the most Covid patients (in most recent week)?"
   ]
  },
  {
   "cell_type": "code",
   "execution_count": 82,
   "metadata": {},
   "outputs": [
    {
     "data": {
      "text/html": [
       "<div>\n",
       "<style scoped>\n",
       "    .dataframe tbody tr th:only-of-type {\n",
       "        vertical-align: middle;\n",
       "    }\n",
       "\n",
       "    .dataframe tbody tr th {\n",
       "        vertical-align: top;\n",
       "    }\n",
       "\n",
       "    .dataframe thead th {\n",
       "        text-align: right;\n",
       "    }\n",
       "</style>\n",
       "<table border=\"1\" class=\"dataframe\">\n",
       "  <thead>\n",
       "    <tr style=\"text-align: right;\">\n",
       "      <th></th>\n",
       "      <th>county</th>\n",
       "      <th>week</th>\n",
       "      <th>region</th>\n",
       "      <th>total_covid_patients</th>\n",
       "      <th>all_patients</th>\n",
       "      <th>covid_patients_share</th>\n",
       "    </tr>\n",
       "  </thead>\n",
       "  <tbody>\n",
       "    <tr>\n",
       "      <th>409</th>\n",
       "      <td>Los Angeles</td>\n",
       "      <td>2021-01-01</td>\n",
       "      <td>Southern California</td>\n",
       "      <td>8200.0</td>\n",
       "      <td>15660.0</td>\n",
       "      <td>0.52</td>\n",
       "    </tr>\n",
       "    <tr>\n",
       "      <th>662</th>\n",
       "      <td>Orange</td>\n",
       "      <td>2021-01-01</td>\n",
       "      <td>Southern California</td>\n",
       "      <td>2185.0</td>\n",
       "      <td>4533.0</td>\n",
       "      <td>0.48</td>\n",
       "    </tr>\n",
       "    <tr>\n",
       "      <th>799</th>\n",
       "      <td>San Bernardino</td>\n",
       "      <td>2021-01-01</td>\n",
       "      <td>Southern California</td>\n",
       "      <td>1781.0</td>\n",
       "      <td>3230.0</td>\n",
       "      <td>0.55</td>\n",
       "    </tr>\n",
       "    <tr>\n",
       "      <th>731</th>\n",
       "      <td>Riverside</td>\n",
       "      <td>2021-01-01</td>\n",
       "      <td>Southern California</td>\n",
       "      <td>1637.0</td>\n",
       "      <td>2860.0</td>\n",
       "      <td>0.57</td>\n",
       "    </tr>\n",
       "    <tr>\n",
       "      <th>822</th>\n",
       "      <td>San Diego</td>\n",
       "      <td>2021-01-01</td>\n",
       "      <td>Southern California</td>\n",
       "      <td>1618.0</td>\n",
       "      <td>4302.0</td>\n",
       "      <td>0.38</td>\n",
       "    </tr>\n",
       "  </tbody>\n",
       "</table>\n",
       "</div>"
      ],
      "text/plain": [
       "             county       week               region  total_covid_patients  \\\n",
       "409     Los Angeles 2021-01-01  Southern California                8200.0   \n",
       "662          Orange 2021-01-01  Southern California                2185.0   \n",
       "799  San Bernardino 2021-01-01  Southern California                1781.0   \n",
       "731       Riverside 2021-01-01  Southern California                1637.0   \n",
       "822       San Diego 2021-01-01  Southern California                1618.0   \n",
       "\n",
       "     all_patients  covid_patients_share  \n",
       "409       15660.0                  0.52  \n",
       "662        4533.0                  0.48  \n",
       "799        3230.0                  0.55  \n",
       "731        2860.0                  0.57  \n",
       "822        4302.0                  0.38  "
      ]
     },
     "execution_count": 82,
     "metadata": {},
     "output_type": "execute_result"
    }
   ],
   "source": [
    "counties[counties[\"week\"] == counties[\"week\"].max()].sort_values(\n",
    "    \"total_covid_patients\", ascending=False\n",
    ").head(5)"
   ]
  },
  {
   "cell_type": "markdown",
   "metadata": {},
   "source": [
    "#### Which counties have the highest percentage of Covid patients (in most recent week)?"
   ]
  },
  {
   "cell_type": "code",
   "execution_count": 83,
   "metadata": {},
   "outputs": [
    {
     "data": {
      "text/html": [
       "<div>\n",
       "<style scoped>\n",
       "    .dataframe tbody tr th:only-of-type {\n",
       "        vertical-align: middle;\n",
       "    }\n",
       "\n",
       "    .dataframe tbody tr th {\n",
       "        vertical-align: top;\n",
       "    }\n",
       "\n",
       "    .dataframe thead th {\n",
       "        text-align: right;\n",
       "    }\n",
       "</style>\n",
       "<table border=\"1\" class=\"dataframe\">\n",
       "  <thead>\n",
       "    <tr style=\"text-align: right;\">\n",
       "      <th></th>\n",
       "      <th>county</th>\n",
       "      <th>week</th>\n",
       "      <th>region</th>\n",
       "      <th>total_covid_patients</th>\n",
       "      <th>all_patients</th>\n",
       "      <th>covid_patients_share</th>\n",
       "    </tr>\n",
       "  </thead>\n",
       "  <tbody>\n",
       "    <tr>\n",
       "      <th>409</th>\n",
       "      <td>Los Angeles</td>\n",
       "      <td>2021-01-01</td>\n",
       "      <td>Southern California</td>\n",
       "      <td>8200.0</td>\n",
       "      <td>15660.0</td>\n",
       "      <td>0.52</td>\n",
       "    </tr>\n",
       "    <tr>\n",
       "      <th>662</th>\n",
       "      <td>Orange</td>\n",
       "      <td>2021-01-01</td>\n",
       "      <td>Southern California</td>\n",
       "      <td>2185.0</td>\n",
       "      <td>4533.0</td>\n",
       "      <td>0.48</td>\n",
       "    </tr>\n",
       "    <tr>\n",
       "      <th>799</th>\n",
       "      <td>San Bernardino</td>\n",
       "      <td>2021-01-01</td>\n",
       "      <td>Southern California</td>\n",
       "      <td>1781.0</td>\n",
       "      <td>3230.0</td>\n",
       "      <td>0.55</td>\n",
       "    </tr>\n",
       "    <tr>\n",
       "      <th>731</th>\n",
       "      <td>Riverside</td>\n",
       "      <td>2021-01-01</td>\n",
       "      <td>Southern California</td>\n",
       "      <td>1637.0</td>\n",
       "      <td>2860.0</td>\n",
       "      <td>0.57</td>\n",
       "    </tr>\n",
       "    <tr>\n",
       "      <th>822</th>\n",
       "      <td>San Diego</td>\n",
       "      <td>2021-01-01</td>\n",
       "      <td>Southern California</td>\n",
       "      <td>1618.0</td>\n",
       "      <td>4302.0</td>\n",
       "      <td>0.38</td>\n",
       "    </tr>\n",
       "  </tbody>\n",
       "</table>\n",
       "</div>"
      ],
      "text/plain": [
       "             county       week               region  total_covid_patients  \\\n",
       "409     Los Angeles 2021-01-01  Southern California                8200.0   \n",
       "662          Orange 2021-01-01  Southern California                2185.0   \n",
       "799  San Bernardino 2021-01-01  Southern California                1781.0   \n",
       "731       Riverside 2021-01-01  Southern California                1637.0   \n",
       "822       San Diego 2021-01-01  Southern California                1618.0   \n",
       "\n",
       "     all_patients  covid_patients_share  \n",
       "409       15660.0                  0.52  \n",
       "662        4533.0                  0.48  \n",
       "799        3230.0                  0.55  \n",
       "731        2860.0                  0.57  \n",
       "822        4302.0                  0.38  "
      ]
     },
     "execution_count": 83,
     "metadata": {},
     "output_type": "execute_result"
    }
   ],
   "source": [
    "counties[counties[\"week\"] == counties[\"week\"].max()].sort_values(\n",
    "    \"total_covid_patients\", ascending=False\n",
    ").head(5)"
   ]
  },
  {
   "cell_type": "markdown",
   "metadata": {},
   "source": [
    "### How has this changed over time? "
   ]
  },
  {
   "cell_type": "code",
   "execution_count": 84,
   "metadata": {},
   "outputs": [],
   "source": [
    "counties_grouped = (\n",
    "    counties.groupby([\"county\", \"week\", \"region\"])\n",
    "    .agg({\"total_covid_patients\": \"sum\", \"covid_patients_share\": \"mean\"})\n",
    "    .reset_index()\n",
    ")"
   ]
  },
  {
   "cell_type": "code",
   "execution_count": 85,
   "metadata": {},
   "outputs": [],
   "source": [
    "la_grouped = pd.DataFrame(counties_grouped[counties_grouped[\"county\"] == \"Los Angeles\"])"
   ]
  },
  {
   "cell_type": "code",
   "execution_count": 86,
   "metadata": {},
   "outputs": [
    {
     "data": {
      "text/html": [
       "<div>\n",
       "<style scoped>\n",
       "    .dataframe tbody tr th:only-of-type {\n",
       "        vertical-align: middle;\n",
       "    }\n",
       "\n",
       "    .dataframe tbody tr th {\n",
       "        vertical-align: top;\n",
       "    }\n",
       "\n",
       "    .dataframe thead th {\n",
       "        text-align: right;\n",
       "    }\n",
       "</style>\n",
       "<table border=\"1\" class=\"dataframe\">\n",
       "  <thead>\n",
       "    <tr style=\"text-align: right;\">\n",
       "      <th></th>\n",
       "      <th>county</th>\n",
       "      <th>week</th>\n",
       "      <th>region</th>\n",
       "      <th>total_covid_patients</th>\n",
       "      <th>covid_patients_share</th>\n",
       "    </tr>\n",
       "  </thead>\n",
       "  <tbody>\n",
       "    <tr>\n",
       "      <th>405</th>\n",
       "      <td>Los Angeles</td>\n",
       "      <td>2020-12-04</td>\n",
       "      <td>Southern California</td>\n",
       "      <td>3666.0</td>\n",
       "      <td>0.26</td>\n",
       "    </tr>\n",
       "    <tr>\n",
       "      <th>406</th>\n",
       "      <td>Los Angeles</td>\n",
       "      <td>2020-12-11</td>\n",
       "      <td>Southern California</td>\n",
       "      <td>5038.0</td>\n",
       "      <td>0.34</td>\n",
       "    </tr>\n",
       "    <tr>\n",
       "      <th>407</th>\n",
       "      <td>Los Angeles</td>\n",
       "      <td>2020-12-18</td>\n",
       "      <td>Southern California</td>\n",
       "      <td>6497.0</td>\n",
       "      <td>0.43</td>\n",
       "    </tr>\n",
       "    <tr>\n",
       "      <th>408</th>\n",
       "      <td>Los Angeles</td>\n",
       "      <td>2020-12-25</td>\n",
       "      <td>Southern California</td>\n",
       "      <td>7584.0</td>\n",
       "      <td>0.50</td>\n",
       "    </tr>\n",
       "    <tr>\n",
       "      <th>409</th>\n",
       "      <td>Los Angeles</td>\n",
       "      <td>2021-01-01</td>\n",
       "      <td>Southern California</td>\n",
       "      <td>8200.0</td>\n",
       "      <td>0.52</td>\n",
       "    </tr>\n",
       "  </tbody>\n",
       "</table>\n",
       "</div>"
      ],
      "text/plain": [
       "          county       week               region  total_covid_patients  \\\n",
       "405  Los Angeles 2020-12-04  Southern California                3666.0   \n",
       "406  Los Angeles 2020-12-11  Southern California                5038.0   \n",
       "407  Los Angeles 2020-12-18  Southern California                6497.0   \n",
       "408  Los Angeles 2020-12-25  Southern California                7584.0   \n",
       "409  Los Angeles 2021-01-01  Southern California                8200.0   \n",
       "\n",
       "     covid_patients_share  \n",
       "405                  0.26  \n",
       "406                  0.34  \n",
       "407                  0.43  \n",
       "408                  0.50  \n",
       "409                  0.52  "
      ]
     },
     "execution_count": 86,
     "metadata": {},
     "output_type": "execute_result"
    }
   ],
   "source": [
    "la_grouped.tail()"
   ]
  },
  {
   "cell_type": "code",
   "execution_count": 87,
   "metadata": {},
   "outputs": [],
   "source": [
    "la_grouped.to_csv(\"output/la_grouped.csv\", index=False)"
   ]
  },
  {
   "cell_type": "code",
   "execution_count": 88,
   "metadata": {},
   "outputs": [
    {
     "data": {
      "text/html": [
       "\n",
       "<div id=\"altair-viz-2199b4ecac8a431abc6c19ff9b756416\"></div>\n",
       "<script type=\"text/javascript\">\n",
       "  (function(spec, embedOpt){\n",
       "    let outputDiv = document.currentScript.previousElementSibling;\n",
       "    if (outputDiv.id !== \"altair-viz-2199b4ecac8a431abc6c19ff9b756416\") {\n",
       "      outputDiv = document.getElementById(\"altair-viz-2199b4ecac8a431abc6c19ff9b756416\");\n",
       "    }\n",
       "    const paths = {\n",
       "      \"vega\": \"https://cdn.jsdelivr.net/npm//vega@5?noext\",\n",
       "      \"vega-lib\": \"https://cdn.jsdelivr.net/npm//vega-lib?noext\",\n",
       "      \"vega-lite\": \"https://cdn.jsdelivr.net/npm//vega-lite@4.8.1?noext\",\n",
       "      \"vega-embed\": \"https://cdn.jsdelivr.net/npm//vega-embed@6?noext\",\n",
       "    };\n",
       "\n",
       "    function loadScript(lib) {\n",
       "      return new Promise(function(resolve, reject) {\n",
       "        var s = document.createElement('script');\n",
       "        s.src = paths[lib];\n",
       "        s.async = true;\n",
       "        s.onload = () => resolve(paths[lib]);\n",
       "        s.onerror = () => reject(`Error loading script: ${paths[lib]}`);\n",
       "        document.getElementsByTagName(\"head\")[0].appendChild(s);\n",
       "      });\n",
       "    }\n",
       "\n",
       "    function showError(err) {\n",
       "      outputDiv.innerHTML = `<div class=\"error\" style=\"color:red;\">${err}</div>`;\n",
       "      throw err;\n",
       "    }\n",
       "\n",
       "    function displayChart(vegaEmbed) {\n",
       "      vegaEmbed(outputDiv, spec, embedOpt)\n",
       "        .catch(err => showError(`Javascript Error: ${err.message}<br>This usually means there's a typo in your chart specification. See the javascript console for the full traceback.`));\n",
       "    }\n",
       "\n",
       "    if(typeof define === \"function\" && define.amd) {\n",
       "      requirejs.config({paths});\n",
       "      require([\"vega-embed\"], displayChart, err => showError(`Error loading script: ${err.message}`));\n",
       "    } else if (typeof vegaEmbed === \"function\") {\n",
       "      displayChart(vegaEmbed);\n",
       "    } else {\n",
       "      loadScript(\"vega\")\n",
       "        .then(() => loadScript(\"vega-lite\"))\n",
       "        .then(() => loadScript(\"vega-embed\"))\n",
       "        .catch(showError)\n",
       "        .then(() => displayChart(vegaEmbed));\n",
       "    }\n",
       "  })({\"config\": {\"view\": {\"width\": 800, \"height\": 450}, \"background\": \"#ffffff\", \"title\": {\"anchor\": \"start\", \"font\": \"Benton Gothic Bold, sans\", \"fontColor\": \"#000000\", \"fontSize\": 22, \"fontWeight\": \"normal\"}, \"arc\": {\"fill\": \"#82c6df\"}, \"area\": {\"fill\": \"#82c6df\"}, \"line\": {\"stroke\": \"#82c6df\", \"strokeWidth\": 3}, \"path\": {\"stroke\": \"#82c6df\"}, \"rect\": {\"fill\": \"#82c6df\"}, \"shape\": {\"stroke\": \"#82c6df\"}, \"bar\": {\"fill\": \"#82c6df\"}, \"point\": {\"stroke\": \"#82c6df\"}, \"symbol\": {\"fill\": \"#82c6df\", \"size\": 30}, \"axis\": {\"titleFont\": \"Benton Gothic Bold, sans\", \"titleFontSize\": 13, \"titleFontWeight\": \"normal\", \"labelFont\": \"Benton Gothic, sans\", \"labelFontSize\": 11.5, \"labelFontWeight\": \"normal\"}, \"axisX\": {\"labelAngle\": 0, \"labelPadding\": 4, \"tickSize\": 3}, \"axisY\": {\"labelBaseline\": \"middle\", \"maxExtent\": 45, \"minExtent\": 45, \"tickSize\": 2, \"titleAlign\": \"left\", \"titleAngle\": 0, \"titleX\": -45, \"titleY\": -11}, \"legend\": {\"titleFont\": \"Benton Gothic Bold, sans\", \"titleFontSize\": 13, \"titleFontWeight\": \"normal\", \"symbolType\": \"square\", \"labelFont\": \"Benton Gothic, sans\", \"labelFontSize\": 11.5}, \"range\": {\"category\": [\"#3580b1\", \"#ec8431\", \"#ab7fb4\", \"#c89d29\", \"#adc839\", \"#829eb1\"], \"diverging\": [\"#e68a4f\", \"#f4bb6a\", \"#f9e39c\", \"#dadfe2\", \"#a6b7c6\", \"#849eae\"], \"heatmap\": [\"#fbf2c7\", \"#f9e39c\", \"#f8d36e\", \"#f4bb6a\", \"#e68a4f\", \"#d15a40\", \"#ab4232\"], \"ordinal\": [\"#fbf2c7\", \"#f9e39c\", \"#f8d36e\", \"#f4bb6a\", \"#e68a4f\", \"#d15a40\", \"#ab4232\"], \"ramp\": [\"#fbf2c7\", \"#f9e39c\", \"#f8d36e\", \"#f4bb6a\", \"#e68a4f\", \"#d15a40\", \"#ab4232\"]}}, \"data\": {\"name\": \"data-ee82cf98a137b3f5c4e465472b0ec073\"}, \"mark\": \"area\", \"encoding\": {\"x\": {\"type\": \"temporal\", \"axis\": {\"format\": \"\", \"tickCount\": 3, \"title\": \" \"}, \"field\": \"week\"}, \"y\": {\"type\": \"quantitative\", \"axis\": {\"format\": \"%\", \"tickCount\": 6}, \"field\": \"covid_patients_share\", \"title\": \"Covid patients in LA County hospitals\"}}, \"height\": 500, \"width\": 500, \"$schema\": \"https://vega.github.io/schema/vega-lite/v4.8.1.json\", \"datasets\": {\"data-ee82cf98a137b3f5c4e465472b0ec073\": [{\"county\": \"Los Angeles\", \"week\": \"2020-07-31T00:00:00\", \"region\": \"Southern California\", \"total_covid_patients\": 2319.0, \"covid_patients_share\": 0.19}, {\"county\": \"Los Angeles\", \"week\": \"2020-08-07T00:00:00\", \"region\": \"Southern California\", \"total_covid_patients\": 2025.0, \"covid_patients_share\": 0.16}, {\"county\": \"Los Angeles\", \"week\": \"2020-08-14T00:00:00\", \"region\": \"Southern California\", \"total_covid_patients\": 1950.0, \"covid_patients_share\": 0.16}, {\"county\": \"Los Angeles\", \"week\": \"2020-08-21T00:00:00\", \"region\": \"Southern California\", \"total_covid_patients\": 1724.0, \"covid_patients_share\": 0.14}, {\"county\": \"Los Angeles\", \"week\": \"2020-08-28T00:00:00\", \"region\": \"Southern California\", \"total_covid_patients\": 1456.0, \"covid_patients_share\": 0.12}, {\"county\": \"Los Angeles\", \"week\": \"2020-09-04T00:00:00\", \"region\": \"Southern California\", \"total_covid_patients\": 1307.0, \"covid_patients_share\": 0.11}, {\"county\": \"Los Angeles\", \"week\": \"2020-09-11T00:00:00\", \"region\": \"Southern California\", \"total_covid_patients\": 1120.0, \"covid_patients_share\": 0.09}, {\"county\": \"Los Angeles\", \"week\": \"2020-09-18T00:00:00\", \"region\": \"Southern California\", \"total_covid_patients\": 1105.0, \"covid_patients_share\": 0.09}, {\"county\": \"Los Angeles\", \"week\": \"2020-09-25T00:00:00\", \"region\": \"Southern California\", \"total_covid_patients\": 1065.0, \"covid_patients_share\": 0.09}, {\"county\": \"Los Angeles\", \"week\": \"2020-10-02T00:00:00\", \"region\": \"Southern California\", \"total_covid_patients\": 1048.0, \"covid_patients_share\": 0.08}, {\"county\": \"Los Angeles\", \"week\": \"2020-10-09T00:00:00\", \"region\": \"Southern California\", \"total_covid_patients\": 1066.0, \"covid_patients_share\": 0.09}, {\"county\": \"Los Angeles\", \"week\": \"2020-10-16T00:00:00\", \"region\": \"Southern California\", \"total_covid_patients\": 1072.0, \"covid_patients_share\": 0.09}, {\"county\": \"Los Angeles\", \"week\": \"2020-10-23T00:00:00\", \"region\": \"Southern California\", \"total_covid_patients\": 1032.0, \"covid_patients_share\": 0.08}, {\"county\": \"Los Angeles\", \"week\": \"2020-10-30T00:00:00\", \"region\": \"Southern California\", \"total_covid_patients\": 1112.0, \"covid_patients_share\": 0.09}, {\"county\": \"Los Angeles\", \"week\": \"2020-11-06T00:00:00\", \"region\": \"Southern California\", \"total_covid_patients\": 1215.0, \"covid_patients_share\": 0.09}, {\"county\": \"Los Angeles\", \"week\": \"2020-11-13T00:00:00\", \"region\": \"Southern California\", \"total_covid_patients\": 1511.0, \"covid_patients_share\": 0.12}, {\"county\": \"Los Angeles\", \"week\": \"2020-11-20T00:00:00\", \"region\": \"Southern California\", \"total_covid_patients\": 2023.0, \"covid_patients_share\": 0.15}, {\"county\": \"Los Angeles\", \"week\": \"2020-11-27T00:00:00\", \"region\": \"Southern California\", \"total_covid_patients\": 2743.0, \"covid_patients_share\": 0.21}, {\"county\": \"Los Angeles\", \"week\": \"2020-12-04T00:00:00\", \"region\": \"Southern California\", \"total_covid_patients\": 3666.0, \"covid_patients_share\": 0.26}, {\"county\": \"Los Angeles\", \"week\": \"2020-12-11T00:00:00\", \"region\": \"Southern California\", \"total_covid_patients\": 5038.0, \"covid_patients_share\": 0.34}, {\"county\": \"Los Angeles\", \"week\": \"2020-12-18T00:00:00\", \"region\": \"Southern California\", \"total_covid_patients\": 6497.0, \"covid_patients_share\": 0.43}, {\"county\": \"Los Angeles\", \"week\": \"2020-12-25T00:00:00\", \"region\": \"Southern California\", \"total_covid_patients\": 7584.0, \"covid_patients_share\": 0.5}, {\"county\": \"Los Angeles\", \"week\": \"2021-01-01T00:00:00\", \"region\": \"Southern California\", \"total_covid_patients\": 8200.0, \"covid_patients_share\": 0.52}]}}, {\"mode\": \"vega-lite\"});\n",
       "</script>"
      ],
      "text/plain": [
       "alt.Chart(...)"
      ]
     },
     "execution_count": 88,
     "metadata": {},
     "output_type": "execute_result"
    }
   ],
   "source": [
    "alt.Chart(la_grouped).mark_area().encode(\n",
    "    x=alt.X(\"week:T\", axis=alt.Axis(format=\"\", title=\" \", tickCount=3)),\n",
    "    y=alt.Y(\n",
    "        \"covid_patients_share\",\n",
    "        title=\"Covid patients in LA County hospitals\",\n",
    "        axis=alt.Axis(format=\"%\", tickCount=6),\n",
    "    ),\n",
    ").properties(width=500, height=500)"
   ]
  },
  {
   "cell_type": "markdown",
   "metadata": {},
   "source": [
    "### Just southern California counties? "
   ]
  },
  {
   "cell_type": "code",
   "execution_count": 89,
   "metadata": {},
   "outputs": [],
   "source": [
    "socal_grouped = (\n",
    "    counties_grouped[counties_grouped[\"county\"].isin(socal)]\n",
    "    .groupby([\"county\", \"week\"])\n",
    "    .agg({\"total_covid_patients\": \"sum\", \"covid_patients_share\": \"mean\"})\n",
    "    .reset_index()\n",
    ")"
   ]
  },
  {
   "cell_type": "code",
   "execution_count": 90,
   "metadata": {},
   "outputs": [
    {
     "data": {
      "text/html": [
       "\n",
       "<div id=\"altair-viz-024e85a33f254fc59dc4e8a5276a1b85\"></div>\n",
       "<script type=\"text/javascript\">\n",
       "  (function(spec, embedOpt){\n",
       "    let outputDiv = document.currentScript.previousElementSibling;\n",
       "    if (outputDiv.id !== \"altair-viz-024e85a33f254fc59dc4e8a5276a1b85\") {\n",
       "      outputDiv = document.getElementById(\"altair-viz-024e85a33f254fc59dc4e8a5276a1b85\");\n",
       "    }\n",
       "    const paths = {\n",
       "      \"vega\": \"https://cdn.jsdelivr.net/npm//vega@5?noext\",\n",
       "      \"vega-lib\": \"https://cdn.jsdelivr.net/npm//vega-lib?noext\",\n",
       "      \"vega-lite\": \"https://cdn.jsdelivr.net/npm//vega-lite@4.8.1?noext\",\n",
       "      \"vega-embed\": \"https://cdn.jsdelivr.net/npm//vega-embed@6?noext\",\n",
       "    };\n",
       "\n",
       "    function loadScript(lib) {\n",
       "      return new Promise(function(resolve, reject) {\n",
       "        var s = document.createElement('script');\n",
       "        s.src = paths[lib];\n",
       "        s.async = true;\n",
       "        s.onload = () => resolve(paths[lib]);\n",
       "        s.onerror = () => reject(`Error loading script: ${paths[lib]}`);\n",
       "        document.getElementsByTagName(\"head\")[0].appendChild(s);\n",
       "      });\n",
       "    }\n",
       "\n",
       "    function showError(err) {\n",
       "      outputDiv.innerHTML = `<div class=\"error\" style=\"color:red;\">${err}</div>`;\n",
       "      throw err;\n",
       "    }\n",
       "\n",
       "    function displayChart(vegaEmbed) {\n",
       "      vegaEmbed(outputDiv, spec, embedOpt)\n",
       "        .catch(err => showError(`Javascript Error: ${err.message}<br>This usually means there's a typo in your chart specification. See the javascript console for the full traceback.`));\n",
       "    }\n",
       "\n",
       "    if(typeof define === \"function\" && define.amd) {\n",
       "      requirejs.config({paths});\n",
       "      require([\"vega-embed\"], displayChart, err => showError(`Error loading script: ${err.message}`));\n",
       "    } else if (typeof vegaEmbed === \"function\") {\n",
       "      displayChart(vegaEmbed);\n",
       "    } else {\n",
       "      loadScript(\"vega\")\n",
       "        .then(() => loadScript(\"vega-lite\"))\n",
       "        .then(() => loadScript(\"vega-embed\"))\n",
       "        .catch(showError)\n",
       "        .then(() => displayChart(vegaEmbed));\n",
       "    }\n",
       "  })({\"config\": {\"view\": {\"width\": 800, \"height\": 450}, \"background\": \"#ffffff\", \"title\": {\"anchor\": \"start\", \"font\": \"Benton Gothic Bold, sans\", \"fontColor\": \"#000000\", \"fontSize\": 22, \"fontWeight\": \"normal\"}, \"arc\": {\"fill\": \"#82c6df\"}, \"area\": {\"fill\": \"#82c6df\"}, \"line\": {\"stroke\": \"#82c6df\", \"strokeWidth\": 3}, \"path\": {\"stroke\": \"#82c6df\"}, \"rect\": {\"fill\": \"#82c6df\"}, \"shape\": {\"stroke\": \"#82c6df\"}, \"bar\": {\"fill\": \"#82c6df\"}, \"point\": {\"stroke\": \"#82c6df\"}, \"symbol\": {\"fill\": \"#82c6df\", \"size\": 30}, \"axis\": {\"titleFont\": \"Benton Gothic Bold, sans\", \"titleFontSize\": 13, \"titleFontWeight\": \"normal\", \"labelFont\": \"Benton Gothic, sans\", \"labelFontSize\": 11.5, \"labelFontWeight\": \"normal\"}, \"axisX\": {\"labelAngle\": 0, \"labelPadding\": 4, \"tickSize\": 3}, \"axisY\": {\"labelBaseline\": \"middle\", \"maxExtent\": 45, \"minExtent\": 45, \"tickSize\": 2, \"titleAlign\": \"left\", \"titleAngle\": 0, \"titleX\": -45, \"titleY\": -11}, \"legend\": {\"titleFont\": \"Benton Gothic Bold, sans\", \"titleFontSize\": 13, \"titleFontWeight\": \"normal\", \"symbolType\": \"square\", \"labelFont\": \"Benton Gothic, sans\", \"labelFontSize\": 11.5}, \"range\": {\"category\": [\"#3580b1\", \"#ec8431\", \"#ab7fb4\", \"#c89d29\", \"#adc839\", \"#829eb1\"], \"diverging\": [\"#e68a4f\", \"#f4bb6a\", \"#f9e39c\", \"#dadfe2\", \"#a6b7c6\", \"#849eae\"], \"heatmap\": [\"#fbf2c7\", \"#f9e39c\", \"#f8d36e\", \"#f4bb6a\", \"#e68a4f\", \"#d15a40\", \"#ab4232\"], \"ordinal\": [\"#fbf2c7\", \"#f9e39c\", \"#f8d36e\", \"#f4bb6a\", \"#e68a4f\", \"#d15a40\", \"#ab4232\"], \"ramp\": [\"#fbf2c7\", \"#f9e39c\", \"#f8d36e\", \"#f4bb6a\", \"#e68a4f\", \"#d15a40\", \"#ab4232\"]}}, \"data\": {\"name\": \"data-2b81f30e9d6a46b29877d409356816db\"}, \"mark\": \"area\", \"encoding\": {\"facet\": {\"type\": \"nominal\", \"field\": \"county\"}, \"x\": {\"type\": \"temporal\", \"axis\": {\"format\": \"\", \"tickCount\": 3, \"title\": \" \"}, \"field\": \"week\"}, \"y\": {\"type\": \"quantitative\", \"axis\": {\"format\": \"%\", \"tickCount\": 6, \"title\": \"\"}, \"field\": \"covid_patients_share\", \"title\": \" \"}}, \"height\": 200, \"title\": \"Share of all patients with Covid in SoCal Counties\", \"width\": 200, \"$schema\": \"https://vega.github.io/schema/vega-lite/v4.8.1.json\", \"datasets\": {\"data-2b81f30e9d6a46b29877d409356816db\": [{\"county\": \"Los Angeles\", \"week\": \"2020-07-31T00:00:00\", \"total_covid_patients\": 2319.0, \"covid_patients_share\": 0.19}, {\"county\": \"Los Angeles\", \"week\": \"2020-08-07T00:00:00\", \"total_covid_patients\": 2025.0, \"covid_patients_share\": 0.16}, {\"county\": \"Los Angeles\", \"week\": \"2020-08-14T00:00:00\", \"total_covid_patients\": 1950.0, \"covid_patients_share\": 0.16}, {\"county\": \"Los Angeles\", \"week\": \"2020-08-21T00:00:00\", \"total_covid_patients\": 1724.0, \"covid_patients_share\": 0.14}, {\"county\": \"Los Angeles\", \"week\": \"2020-08-28T00:00:00\", \"total_covid_patients\": 1456.0, \"covid_patients_share\": 0.12}, {\"county\": \"Los Angeles\", \"week\": \"2020-09-04T00:00:00\", \"total_covid_patients\": 1307.0, \"covid_patients_share\": 0.11}, {\"county\": \"Los Angeles\", \"week\": \"2020-09-11T00:00:00\", \"total_covid_patients\": 1120.0, \"covid_patients_share\": 0.09}, {\"county\": \"Los Angeles\", \"week\": \"2020-09-18T00:00:00\", \"total_covid_patients\": 1105.0, \"covid_patients_share\": 0.09}, {\"county\": \"Los Angeles\", \"week\": \"2020-09-25T00:00:00\", \"total_covid_patients\": 1065.0, \"covid_patients_share\": 0.09}, {\"county\": \"Los Angeles\", \"week\": \"2020-10-02T00:00:00\", \"total_covid_patients\": 1048.0, \"covid_patients_share\": 0.08}, {\"county\": \"Los Angeles\", \"week\": \"2020-10-09T00:00:00\", \"total_covid_patients\": 1066.0, \"covid_patients_share\": 0.09}, {\"county\": \"Los Angeles\", \"week\": \"2020-10-16T00:00:00\", \"total_covid_patients\": 1072.0, \"covid_patients_share\": 0.09}, {\"county\": \"Los Angeles\", \"week\": \"2020-10-23T00:00:00\", \"total_covid_patients\": 1032.0, \"covid_patients_share\": 0.08}, {\"county\": \"Los Angeles\", \"week\": \"2020-10-30T00:00:00\", \"total_covid_patients\": 1112.0, \"covid_patients_share\": 0.09}, {\"county\": \"Los Angeles\", \"week\": \"2020-11-06T00:00:00\", \"total_covid_patients\": 1215.0, \"covid_patients_share\": 0.09}, {\"county\": \"Los Angeles\", \"week\": \"2020-11-13T00:00:00\", \"total_covid_patients\": 1511.0, \"covid_patients_share\": 0.12}, {\"county\": \"Los Angeles\", \"week\": \"2020-11-20T00:00:00\", \"total_covid_patients\": 2023.0, \"covid_patients_share\": 0.15}, {\"county\": \"Los Angeles\", \"week\": \"2020-11-27T00:00:00\", \"total_covid_patients\": 2743.0, \"covid_patients_share\": 0.21}, {\"county\": \"Los Angeles\", \"week\": \"2020-12-04T00:00:00\", \"total_covid_patients\": 3666.0, \"covid_patients_share\": 0.26}, {\"county\": \"Los Angeles\", \"week\": \"2020-12-11T00:00:00\", \"total_covid_patients\": 5038.0, \"covid_patients_share\": 0.34}, {\"county\": \"Los Angeles\", \"week\": \"2020-12-18T00:00:00\", \"total_covid_patients\": 6497.0, \"covid_patients_share\": 0.43}, {\"county\": \"Los Angeles\", \"week\": \"2020-12-25T00:00:00\", \"total_covid_patients\": 7584.0, \"covid_patients_share\": 0.5}, {\"county\": \"Los Angeles\", \"week\": \"2021-01-01T00:00:00\", \"total_covid_patients\": 8200.0, \"covid_patients_share\": 0.52}, {\"county\": \"Orange\", \"week\": \"2020-07-31T00:00:00\", \"total_covid_patients\": 581.0, \"covid_patients_share\": 0.16}, {\"county\": \"Orange\", \"week\": \"2020-08-07T00:00:00\", \"total_covid_patients\": 519.0, \"covid_patients_share\": 0.16}, {\"county\": \"Orange\", \"week\": \"2020-08-14T00:00:00\", \"total_covid_patients\": 472.0, \"covid_patients_share\": 0.14}, {\"county\": \"Orange\", \"week\": \"2020-08-21T00:00:00\", \"total_covid_patients\": 451.0, \"covid_patients_share\": 0.13}, {\"county\": \"Orange\", \"week\": \"2020-08-28T00:00:00\", \"total_covid_patients\": 354.0, \"covid_patients_share\": 0.1}, {\"county\": \"Orange\", \"week\": \"2020-09-04T00:00:00\", \"total_covid_patients\": 291.0, \"covid_patients_share\": 0.09}, {\"county\": \"Orange\", \"week\": \"2020-09-11T00:00:00\", \"total_covid_patients\": 245.0, \"covid_patients_share\": 0.07}, {\"county\": \"Orange\", \"week\": \"2020-09-18T00:00:00\", \"total_covid_patients\": 232.0, \"covid_patients_share\": 0.07}, {\"county\": \"Orange\", \"week\": \"2020-09-25T00:00:00\", \"total_covid_patients\": 217.0, \"covid_patients_share\": 0.06}, {\"county\": \"Orange\", \"week\": \"2020-10-02T00:00:00\", \"total_covid_patients\": 217.0, \"covid_patients_share\": 0.06}, {\"county\": \"Orange\", \"week\": \"2020-10-09T00:00:00\", \"total_covid_patients\": 211.0, \"covid_patients_share\": 0.06}, {\"county\": \"Orange\", \"week\": \"2020-10-16T00:00:00\", \"total_covid_patients\": 211.0, \"covid_patients_share\": 0.06}, {\"county\": \"Orange\", \"week\": \"2020-10-23T00:00:00\", \"total_covid_patients\": 208.0, \"covid_patients_share\": 0.06}, {\"county\": \"Orange\", \"week\": \"2020-10-30T00:00:00\", \"total_covid_patients\": 213.0, \"covid_patients_share\": 0.06}, {\"county\": \"Orange\", \"week\": \"2020-11-06T00:00:00\", \"total_covid_patients\": 261.0, \"covid_patients_share\": 0.07}, {\"county\": \"Orange\", \"week\": \"2020-11-13T00:00:00\", \"total_covid_patients\": 324.0, \"covid_patients_share\": 0.09}, {\"county\": \"Orange\", \"week\": \"2020-11-20T00:00:00\", \"total_covid_patients\": 488.0, \"covid_patients_share\": 0.14}, {\"county\": \"Orange\", \"week\": \"2020-11-27T00:00:00\", \"total_covid_patients\": 694.0, \"covid_patients_share\": 0.19}, {\"county\": \"Orange\", \"week\": \"2020-12-04T00:00:00\", \"total_covid_patients\": 991.0, \"covid_patients_share\": 0.25}, {\"county\": \"Orange\", \"week\": \"2020-12-11T00:00:00\", \"total_covid_patients\": 1433.0, \"covid_patients_share\": 0.34}, {\"county\": \"Orange\", \"week\": \"2020-12-18T00:00:00\", \"total_covid_patients\": 1805.0, \"covid_patients_share\": 0.43}, {\"county\": \"Orange\", \"week\": \"2020-12-25T00:00:00\", \"total_covid_patients\": 2048.0, \"covid_patients_share\": 0.47}, {\"county\": \"Orange\", \"week\": \"2021-01-01T00:00:00\", \"total_covid_patients\": 2185.0, \"covid_patients_share\": 0.48}, {\"county\": \"Riverside\", \"week\": \"2020-07-31T00:00:00\", \"total_covid_patients\": 529.0, \"covid_patients_share\": 0.24}, {\"county\": \"Riverside\", \"week\": \"2020-08-07T00:00:00\", \"total_covid_patients\": 468.0, \"covid_patients_share\": 0.23}, {\"county\": \"Riverside\", \"week\": \"2020-08-14T00:00:00\", \"total_covid_patients\": 409.0, \"covid_patients_share\": 0.19}, {\"county\": \"Riverside\", \"week\": \"2020-08-21T00:00:00\", \"total_covid_patients\": 340.0, \"covid_patients_share\": 0.16}, {\"county\": \"Riverside\", \"week\": \"2020-08-28T00:00:00\", \"total_covid_patients\": 297.0, \"covid_patients_share\": 0.14}, {\"county\": \"Riverside\", \"week\": \"2020-09-04T00:00:00\", \"total_covid_patients\": 234.0, \"covid_patients_share\": 0.11}, {\"county\": \"Riverside\", \"week\": \"2020-09-11T00:00:00\", \"total_covid_patients\": 207.0, \"covid_patients_share\": 0.1}, {\"county\": \"Riverside\", \"week\": \"2020-09-18T00:00:00\", \"total_covid_patients\": 192.0, \"covid_patients_share\": 0.1}, {\"county\": \"Riverside\", \"week\": \"2020-09-25T00:00:00\", \"total_covid_patients\": 182.0, \"covid_patients_share\": 0.09}, {\"county\": \"Riverside\", \"week\": \"2020-10-02T00:00:00\", \"total_covid_patients\": 213.0, \"covid_patients_share\": 0.1}, {\"county\": \"Riverside\", \"week\": \"2020-10-09T00:00:00\", \"total_covid_patients\": 202.0, \"covid_patients_share\": 0.09}, {\"county\": \"Riverside\", \"week\": \"2020-10-16T00:00:00\", \"total_covid_patients\": 214.0, \"covid_patients_share\": 0.1}, {\"county\": \"Riverside\", \"week\": \"2020-10-23T00:00:00\", \"total_covid_patients\": 211.0, \"covid_patients_share\": 0.1}, {\"county\": \"Riverside\", \"week\": \"2020-10-30T00:00:00\", \"total_covid_patients\": 241.0, \"covid_patients_share\": 0.11}, {\"county\": \"Riverside\", \"week\": \"2020-11-06T00:00:00\", \"total_covid_patients\": 296.0, \"covid_patients_share\": 0.14}, {\"county\": \"Riverside\", \"week\": \"2020-11-13T00:00:00\", \"total_covid_patients\": 399.0, \"covid_patients_share\": 0.18}, {\"county\": \"Riverside\", \"week\": \"2020-11-20T00:00:00\", \"total_covid_patients\": 505.0, \"covid_patients_share\": 0.22}, {\"county\": \"Riverside\", \"week\": \"2020-11-27T00:00:00\", \"total_covid_patients\": 670.0, \"covid_patients_share\": 0.28}, {\"county\": \"Riverside\", \"week\": \"2020-12-04T00:00:00\", \"total_covid_patients\": 843.0, \"covid_patients_share\": 0.34}, {\"county\": \"Riverside\", \"week\": \"2020-12-11T00:00:00\", \"total_covid_patients\": 1072.0, \"covid_patients_share\": 0.42}, {\"county\": \"Riverside\", \"week\": \"2020-12-18T00:00:00\", \"total_covid_patients\": 1360.0, \"covid_patients_share\": 0.5}, {\"county\": \"Riverside\", \"week\": \"2020-12-25T00:00:00\", \"total_covid_patients\": 1525.0, \"covid_patients_share\": 0.55}, {\"county\": \"Riverside\", \"week\": \"2021-01-01T00:00:00\", \"total_covid_patients\": 1637.0, \"covid_patients_share\": 0.57}, {\"county\": \"San Bernardino\", \"week\": \"2020-07-31T00:00:00\", \"total_covid_patients\": 613.0, \"covid_patients_share\": 0.23}, {\"county\": \"San Bernardino\", \"week\": \"2020-08-07T00:00:00\", \"total_covid_patients\": 550.0, \"covid_patients_share\": 0.22}, {\"county\": \"San Bernardino\", \"week\": \"2020-08-14T00:00:00\", \"total_covid_patients\": 516.0, \"covid_patients_share\": 0.2}, {\"county\": \"San Bernardino\", \"week\": \"2020-08-21T00:00:00\", \"total_covid_patients\": 420.0, \"covid_patients_share\": 0.17}, {\"county\": \"San Bernardino\", \"week\": \"2020-08-28T00:00:00\", \"total_covid_patients\": 332.0, \"covid_patients_share\": 0.14}, {\"county\": \"San Bernardino\", \"week\": \"2020-09-04T00:00:00\", \"total_covid_patients\": 270.0, \"covid_patients_share\": 0.11}, {\"county\": \"San Bernardino\", \"week\": \"2020-09-11T00:00:00\", \"total_covid_patients\": 233.0, \"covid_patients_share\": 0.1}, {\"county\": \"San Bernardino\", \"week\": \"2020-09-18T00:00:00\", \"total_covid_patients\": 220.0, \"covid_patients_share\": 0.09}, {\"county\": \"San Bernardino\", \"week\": \"2020-09-25T00:00:00\", \"total_covid_patients\": 212.0, \"covid_patients_share\": 0.09}, {\"county\": \"San Bernardino\", \"week\": \"2020-10-02T00:00:00\", \"total_covid_patients\": 234.0, \"covid_patients_share\": 0.1}, {\"county\": \"San Bernardino\", \"week\": \"2020-10-09T00:00:00\", \"total_covid_patients\": 241.0, \"covid_patients_share\": 0.1}, {\"county\": \"San Bernardino\", \"week\": \"2020-10-16T00:00:00\", \"total_covid_patients\": 234.0, \"covid_patients_share\": 0.09}, {\"county\": \"San Bernardino\", \"week\": \"2020-10-23T00:00:00\", \"total_covid_patients\": 265.0, \"covid_patients_share\": 0.1}, {\"county\": \"San Bernardino\", \"week\": \"2020-10-30T00:00:00\", \"total_covid_patients\": 309.0, \"covid_patients_share\": 0.12}, {\"county\": \"San Bernardino\", \"week\": \"2020-11-06T00:00:00\", \"total_covid_patients\": 335.0, \"covid_patients_share\": 0.13}, {\"county\": \"San Bernardino\", \"week\": \"2020-11-13T00:00:00\", \"total_covid_patients\": 457.0, \"covid_patients_share\": 0.17}, {\"county\": \"San Bernardino\", \"week\": \"2020-11-20T00:00:00\", \"total_covid_patients\": 621.0, \"covid_patients_share\": 0.23}, {\"county\": \"San Bernardino\", \"week\": \"2020-11-27T00:00:00\", \"total_covid_patients\": 868.0, \"covid_patients_share\": 0.31}, {\"county\": \"San Bernardino\", \"week\": \"2020-12-04T00:00:00\", \"total_covid_patients\": 1091.0, \"covid_patients_share\": 0.38}, {\"county\": \"San Bernardino\", \"week\": \"2020-12-11T00:00:00\", \"total_covid_patients\": 1408.0, \"covid_patients_share\": 0.48}, {\"county\": \"San Bernardino\", \"week\": \"2020-12-18T00:00:00\", \"total_covid_patients\": 1650.0, \"covid_patients_share\": 0.53}, {\"county\": \"San Bernardino\", \"week\": \"2020-12-25T00:00:00\", \"total_covid_patients\": 1724.0, \"covid_patients_share\": 0.55}, {\"county\": \"San Bernardino\", \"week\": \"2021-01-01T00:00:00\", \"total_covid_patients\": 1781.0, \"covid_patients_share\": 0.55}, {\"county\": \"Ventura\", \"week\": \"2020-07-31T00:00:00\", \"total_covid_patients\": 119.0, \"covid_patients_share\": 0.15}, {\"county\": \"Ventura\", \"week\": \"2020-08-07T00:00:00\", \"total_covid_patients\": 107.0, \"covid_patients_share\": 0.14}, {\"county\": \"Ventura\", \"week\": \"2020-08-14T00:00:00\", \"total_covid_patients\": 108.0, \"covid_patients_share\": 0.14}, {\"county\": \"Ventura\", \"week\": \"2020-08-21T00:00:00\", \"total_covid_patients\": 107.0, \"covid_patients_share\": 0.14}, {\"county\": \"Ventura\", \"week\": \"2020-08-28T00:00:00\", \"total_covid_patients\": 90.0, \"covid_patients_share\": 0.12}, {\"county\": \"Ventura\", \"week\": \"2020-09-04T00:00:00\", \"total_covid_patients\": 84.0, \"covid_patients_share\": 0.11}, {\"county\": \"Ventura\", \"week\": \"2020-09-11T00:00:00\", \"total_covid_patients\": 65.0, \"covid_patients_share\": 0.09}, {\"county\": \"Ventura\", \"week\": \"2020-09-18T00:00:00\", \"total_covid_patients\": 60.0, \"covid_patients_share\": 0.08}, {\"county\": \"Ventura\", \"week\": \"2020-09-25T00:00:00\", \"total_covid_patients\": 57.0, \"covid_patients_share\": 0.08}, {\"county\": \"Ventura\", \"week\": \"2020-10-02T00:00:00\", \"total_covid_patients\": 45.0, \"covid_patients_share\": 0.06}, {\"county\": \"Ventura\", \"week\": \"2020-10-09T00:00:00\", \"total_covid_patients\": 47.0, \"covid_patients_share\": 0.06}, {\"county\": \"Ventura\", \"week\": \"2020-10-16T00:00:00\", \"total_covid_patients\": 38.0, \"covid_patients_share\": 0.05}, {\"county\": \"Ventura\", \"week\": \"2020-10-23T00:00:00\", \"total_covid_patients\": 39.0, \"covid_patients_share\": 0.05}, {\"county\": \"Ventura\", \"week\": \"2020-10-30T00:00:00\", \"total_covid_patients\": 37.0, \"covid_patients_share\": 0.05}, {\"county\": \"Ventura\", \"week\": \"2020-11-06T00:00:00\", \"total_covid_patients\": 45.0, \"covid_patients_share\": 0.06}, {\"county\": \"Ventura\", \"week\": \"2020-11-13T00:00:00\", \"total_covid_patients\": 50.0, \"covid_patients_share\": 0.07}, {\"county\": \"Ventura\", \"week\": \"2020-11-20T00:00:00\", \"total_covid_patients\": 77.0, \"covid_patients_share\": 0.1}, {\"county\": \"Ventura\", \"week\": \"2020-11-27T00:00:00\", \"total_covid_patients\": 105.0, \"covid_patients_share\": 0.13}, {\"county\": \"Ventura\", \"week\": \"2020-12-04T00:00:00\", \"total_covid_patients\": 137.0, \"covid_patients_share\": 0.16}, {\"county\": \"Ventura\", \"week\": \"2020-12-11T00:00:00\", \"total_covid_patients\": 212.0, \"covid_patients_share\": 0.25}, {\"county\": \"Ventura\", \"week\": \"2020-12-18T00:00:00\", \"total_covid_patients\": 300.0, \"covid_patients_share\": 0.34}, {\"county\": \"Ventura\", \"week\": \"2020-12-25T00:00:00\", \"total_covid_patients\": 364.0, \"covid_patients_share\": 0.42}, {\"county\": \"Ventura\", \"week\": \"2021-01-01T00:00:00\", \"total_covid_patients\": 399.0, \"covid_patients_share\": 0.43}]}}, {\"mode\": \"vega-lite\"});\n",
       "</script>"
      ],
      "text/plain": [
       "alt.Chart(...)"
      ]
     },
     "execution_count": 90,
     "metadata": {},
     "output_type": "execute_result"
    }
   ],
   "source": [
    "alt.Chart(socal_grouped).mark_area().encode(\n",
    "    x=alt.X(\"week:T\", axis=alt.Axis(format=\"\", title=\" \", tickCount=3)),\n",
    "    y=alt.Y(\n",
    "        \"covid_patients_share\",\n",
    "        title=\" \",\n",
    "        axis=alt.Axis(format=\"%\", title=\"\", tickCount=6),\n",
    "    ),\n",
    "    facet=alt.Facet(\"county\"),\n",
    ").properties(\n",
    "    width=200, height=200, title=\"Share of all patients with Covid in SoCal Counties\"\n",
    ")"
   ]
  },
  {
   "cell_type": "markdown",
   "metadata": {},
   "source": [
    "### Bay Area? "
   ]
  },
  {
   "cell_type": "code",
   "execution_count": 91,
   "metadata": {},
   "outputs": [],
   "source": [
    "bayarea_grouped = (\n",
    "    counties_grouped[counties_grouped[\"county\"].isin(bayarea)]\n",
    "    .groupby([\"week\"])\n",
    "    .agg({\"total_covid_patients\": \"sum\", \"covid_patients_share\": \"mean\"})\n",
    "    .reset_index()\n",
    ")"
   ]
  },
  {
   "cell_type": "code",
   "execution_count": 92,
   "metadata": {},
   "outputs": [
    {
     "data": {
      "text/html": [
       "<div>\n",
       "<style scoped>\n",
       "    .dataframe tbody tr th:only-of-type {\n",
       "        vertical-align: middle;\n",
       "    }\n",
       "\n",
       "    .dataframe tbody tr th {\n",
       "        vertical-align: top;\n",
       "    }\n",
       "\n",
       "    .dataframe thead th {\n",
       "        text-align: right;\n",
       "    }\n",
       "</style>\n",
       "<table border=\"1\" class=\"dataframe\">\n",
       "  <thead>\n",
       "    <tr style=\"text-align: right;\">\n",
       "      <th></th>\n",
       "      <th>week</th>\n",
       "      <th>total_covid_patients</th>\n",
       "      <th>covid_patients_share</th>\n",
       "    </tr>\n",
       "  </thead>\n",
       "  <tbody>\n",
       "    <tr>\n",
       "      <th>18</th>\n",
       "      <td>2020-12-04</td>\n",
       "      <td>1183.0</td>\n",
       "      <td>0.146667</td>\n",
       "    </tr>\n",
       "    <tr>\n",
       "      <th>19</th>\n",
       "      <td>2020-12-11</td>\n",
       "      <td>1515.0</td>\n",
       "      <td>0.182222</td>\n",
       "    </tr>\n",
       "    <tr>\n",
       "      <th>20</th>\n",
       "      <td>2020-12-18</td>\n",
       "      <td>1806.0</td>\n",
       "      <td>0.210000</td>\n",
       "    </tr>\n",
       "    <tr>\n",
       "      <th>21</th>\n",
       "      <td>2020-12-25</td>\n",
       "      <td>2001.0</td>\n",
       "      <td>0.235556</td>\n",
       "    </tr>\n",
       "    <tr>\n",
       "      <th>22</th>\n",
       "      <td>2021-01-01</td>\n",
       "      <td>2163.0</td>\n",
       "      <td>0.254444</td>\n",
       "    </tr>\n",
       "  </tbody>\n",
       "</table>\n",
       "</div>"
      ],
      "text/plain": [
       "         week  total_covid_patients  covid_patients_share\n",
       "18 2020-12-04                1183.0              0.146667\n",
       "19 2020-12-11                1515.0              0.182222\n",
       "20 2020-12-18                1806.0              0.210000\n",
       "21 2020-12-25                2001.0              0.235556\n",
       "22 2021-01-01                2163.0              0.254444"
      ]
     },
     "execution_count": 92,
     "metadata": {},
     "output_type": "execute_result"
    }
   ],
   "source": [
    "bayarea_grouped.tail()"
   ]
  },
  {
   "cell_type": "code",
   "execution_count": 93,
   "metadata": {},
   "outputs": [
    {
     "data": {
      "text/html": [
       "\n",
       "<div id=\"altair-viz-e7b2913f354847fd8329b93803f0884d\"></div>\n",
       "<script type=\"text/javascript\">\n",
       "  (function(spec, embedOpt){\n",
       "    let outputDiv = document.currentScript.previousElementSibling;\n",
       "    if (outputDiv.id !== \"altair-viz-e7b2913f354847fd8329b93803f0884d\") {\n",
       "      outputDiv = document.getElementById(\"altair-viz-e7b2913f354847fd8329b93803f0884d\");\n",
       "    }\n",
       "    const paths = {\n",
       "      \"vega\": \"https://cdn.jsdelivr.net/npm//vega@5?noext\",\n",
       "      \"vega-lib\": \"https://cdn.jsdelivr.net/npm//vega-lib?noext\",\n",
       "      \"vega-lite\": \"https://cdn.jsdelivr.net/npm//vega-lite@4.8.1?noext\",\n",
       "      \"vega-embed\": \"https://cdn.jsdelivr.net/npm//vega-embed@6?noext\",\n",
       "    };\n",
       "\n",
       "    function loadScript(lib) {\n",
       "      return new Promise(function(resolve, reject) {\n",
       "        var s = document.createElement('script');\n",
       "        s.src = paths[lib];\n",
       "        s.async = true;\n",
       "        s.onload = () => resolve(paths[lib]);\n",
       "        s.onerror = () => reject(`Error loading script: ${paths[lib]}`);\n",
       "        document.getElementsByTagName(\"head\")[0].appendChild(s);\n",
       "      });\n",
       "    }\n",
       "\n",
       "    function showError(err) {\n",
       "      outputDiv.innerHTML = `<div class=\"error\" style=\"color:red;\">${err}</div>`;\n",
       "      throw err;\n",
       "    }\n",
       "\n",
       "    function displayChart(vegaEmbed) {\n",
       "      vegaEmbed(outputDiv, spec, embedOpt)\n",
       "        .catch(err => showError(`Javascript Error: ${err.message}<br>This usually means there's a typo in your chart specification. See the javascript console for the full traceback.`));\n",
       "    }\n",
       "\n",
       "    if(typeof define === \"function\" && define.amd) {\n",
       "      requirejs.config({paths});\n",
       "      require([\"vega-embed\"], displayChart, err => showError(`Error loading script: ${err.message}`));\n",
       "    } else if (typeof vegaEmbed === \"function\") {\n",
       "      displayChart(vegaEmbed);\n",
       "    } else {\n",
       "      loadScript(\"vega\")\n",
       "        .then(() => loadScript(\"vega-lite\"))\n",
       "        .then(() => loadScript(\"vega-embed\"))\n",
       "        .catch(showError)\n",
       "        .then(() => displayChart(vegaEmbed));\n",
       "    }\n",
       "  })({\"config\": {\"view\": {\"width\": 800, \"height\": 450}, \"background\": \"#ffffff\", \"title\": {\"anchor\": \"start\", \"font\": \"Benton Gothic Bold, sans\", \"fontColor\": \"#000000\", \"fontSize\": 22, \"fontWeight\": \"normal\"}, \"arc\": {\"fill\": \"#82c6df\"}, \"area\": {\"fill\": \"#82c6df\"}, \"line\": {\"stroke\": \"#82c6df\", \"strokeWidth\": 3}, \"path\": {\"stroke\": \"#82c6df\"}, \"rect\": {\"fill\": \"#82c6df\"}, \"shape\": {\"stroke\": \"#82c6df\"}, \"bar\": {\"fill\": \"#82c6df\"}, \"point\": {\"stroke\": \"#82c6df\"}, \"symbol\": {\"fill\": \"#82c6df\", \"size\": 30}, \"axis\": {\"titleFont\": \"Benton Gothic Bold, sans\", \"titleFontSize\": 13, \"titleFontWeight\": \"normal\", \"labelFont\": \"Benton Gothic, sans\", \"labelFontSize\": 11.5, \"labelFontWeight\": \"normal\"}, \"axisX\": {\"labelAngle\": 0, \"labelPadding\": 4, \"tickSize\": 3}, \"axisY\": {\"labelBaseline\": \"middle\", \"maxExtent\": 45, \"minExtent\": 45, \"tickSize\": 2, \"titleAlign\": \"left\", \"titleAngle\": 0, \"titleX\": -45, \"titleY\": -11}, \"legend\": {\"titleFont\": \"Benton Gothic Bold, sans\", \"titleFontSize\": 13, \"titleFontWeight\": \"normal\", \"symbolType\": \"square\", \"labelFont\": \"Benton Gothic, sans\", \"labelFontSize\": 11.5}, \"range\": {\"category\": [\"#3580b1\", \"#ec8431\", \"#ab7fb4\", \"#c89d29\", \"#adc839\", \"#829eb1\"], \"diverging\": [\"#e68a4f\", \"#f4bb6a\", \"#f9e39c\", \"#dadfe2\", \"#a6b7c6\", \"#849eae\"], \"heatmap\": [\"#fbf2c7\", \"#f9e39c\", \"#f8d36e\", \"#f4bb6a\", \"#e68a4f\", \"#d15a40\", \"#ab4232\"], \"ordinal\": [\"#fbf2c7\", \"#f9e39c\", \"#f8d36e\", \"#f4bb6a\", \"#e68a4f\", \"#d15a40\", \"#ab4232\"], \"ramp\": [\"#fbf2c7\", \"#f9e39c\", \"#f8d36e\", \"#f4bb6a\", \"#e68a4f\", \"#d15a40\", \"#ab4232\"]}}, \"data\": {\"name\": \"data-36e0e3a56cbcd514a694bff113e43142\"}, \"mark\": \"area\", \"encoding\": {\"x\": {\"type\": \"temporal\", \"axis\": {\"format\": \"\", \"tickCount\": 3, \"title\": \" \"}, \"field\": \"week\"}, \"y\": {\"type\": \"quantitative\", \"axis\": {\"format\": \"%\", \"tickCount\": 6, \"title\": \"Share of all patients with Covid in Bay Area\"}, \"field\": \"covid_patients_share\", \"title\": \" \"}}, \"height\": 500, \"width\": 500, \"$schema\": \"https://vega.github.io/schema/vega-lite/v4.8.1.json\", \"datasets\": {\"data-36e0e3a56cbcd514a694bff113e43142\": [{\"week\": \"2020-07-31T00:00:00\", \"total_covid_patients\": 914.0, \"covid_patients_share\": 0.11888888888888889}, {\"week\": \"2020-08-07T00:00:00\", \"total_covid_patients\": 829.0, \"covid_patients_share\": 0.1111111111111111}, {\"week\": \"2020-08-14T00:00:00\", \"total_covid_patients\": 859.0, \"covid_patients_share\": 0.10666666666666666}, {\"week\": \"2020-08-21T00:00:00\", \"total_covid_patients\": 803.0, \"covid_patients_share\": 0.1011111111111111}, {\"week\": \"2020-08-28T00:00:00\", \"total_covid_patients\": 713.0, \"covid_patients_share\": 0.08888888888888889}, {\"week\": \"2020-09-04T00:00:00\", \"total_covid_patients\": 652.0, \"covid_patients_share\": 0.08888888888888889}, {\"week\": \"2020-09-11T00:00:00\", \"total_covid_patients\": 606.0, \"covid_patients_share\": 0.08333333333333333}, {\"week\": \"2020-09-18T00:00:00\", \"total_covid_patients\": 531.0, \"covid_patients_share\": 0.06888888888888887}, {\"week\": \"2020-09-25T00:00:00\", \"total_covid_patients\": 461.0, \"covid_patients_share\": 0.06222222222222223}, {\"week\": \"2020-10-02T00:00:00\", \"total_covid_patients\": 439.0, \"covid_patients_share\": 0.06666666666666667}, {\"week\": \"2020-10-09T00:00:00\", \"total_covid_patients\": 408.0, \"covid_patients_share\": 0.05888888888888889}, {\"week\": \"2020-10-16T00:00:00\", \"total_covid_patients\": 377.0, \"covid_patients_share\": 0.05555555555555555}, {\"week\": \"2020-10-23T00:00:00\", \"total_covid_patients\": 377.0, \"covid_patients_share\": 0.05333333333333334}, {\"week\": \"2020-10-30T00:00:00\", \"total_covid_patients\": 415.0, \"covid_patients_share\": 0.05777777777777778}, {\"week\": \"2020-11-06T00:00:00\", \"total_covid_patients\": 455.0, \"covid_patients_share\": 0.06555555555555556}, {\"week\": \"2020-11-13T00:00:00\", \"total_covid_patients\": 529.0, \"covid_patients_share\": 0.07}, {\"week\": \"2020-11-20T00:00:00\", \"total_covid_patients\": 707.0, \"covid_patients_share\": 0.08777777777777779}, {\"week\": \"2020-11-27T00:00:00\", \"total_covid_patients\": 939.0, \"covid_patients_share\": 0.12111111111111111}, {\"week\": \"2020-12-04T00:00:00\", \"total_covid_patients\": 1183.0, \"covid_patients_share\": 0.14666666666666664}, {\"week\": \"2020-12-11T00:00:00\", \"total_covid_patients\": 1515.0, \"covid_patients_share\": 0.1822222222222222}, {\"week\": \"2020-12-18T00:00:00\", \"total_covid_patients\": 1806.0, \"covid_patients_share\": 0.21000000000000002}, {\"week\": \"2020-12-25T00:00:00\", \"total_covid_patients\": 2001.0, \"covid_patients_share\": 0.23555555555555557}, {\"week\": \"2021-01-01T00:00:00\", \"total_covid_patients\": 2163.0, \"covid_patients_share\": 0.2544444444444445}]}}, {\"mode\": \"vega-lite\"});\n",
       "</script>"
      ],
      "text/plain": [
       "alt.Chart(...)"
      ]
     },
     "execution_count": 93,
     "metadata": {},
     "output_type": "execute_result"
    }
   ],
   "source": [
    "alt.Chart(bayarea_grouped).mark_area().encode(\n",
    "    x=alt.X(\"week:T\", axis=alt.Axis(format=\"\", title=\" \", tickCount=3)),\n",
    "    y=alt.Y(\n",
    "        \"covid_patients_share\",\n",
    "        title=\" \",\n",
    "        axis=alt.Axis(\n",
    "            format=\"%\",\n",
    "            title=\"Share of all patients with Covid in Bay Area\",\n",
    "            tickCount=6,\n",
    "        ),\n",
    "    ),\n",
    ").properties(width=500, height=500)"
   ]
  },
  {
   "cell_type": "markdown",
   "metadata": {},
   "source": [
    "---"
   ]
  },
  {
   "cell_type": "markdown",
   "metadata": {},
   "source": [
    "### What's going on in the most-populous counties "
   ]
  },
  {
   "cell_type": "code",
   "execution_count": 94,
   "metadata": {},
   "outputs": [],
   "source": [
    "counties_pop = pd.read_csv(\n",
    "    \"../census/processed/acs5_2018_population_counties.csv\",\n",
    "    dtype={\"geoid\": str, \"population\": int, \"state\": str, \"county\": str},\n",
    ")"
   ]
  },
  {
   "cell_type": "code",
   "execution_count": 95,
   "metadata": {},
   "outputs": [],
   "source": [
    "counties_pop.rename(columns={\"universe\": \"population\"}, inplace=True)"
   ]
  },
  {
   "cell_type": "code",
   "execution_count": 96,
   "metadata": {},
   "outputs": [],
   "source": [
    "counties_pop.drop(\n",
    "    [\"universe_annotation\", \"universe_moe\", \"universe_moe_annotation\"],\n",
    "    axis=1,\n",
    "    inplace=True,\n",
    ")"
   ]
  },
  {
   "cell_type": "code",
   "execution_count": 97,
   "metadata": {},
   "outputs": [],
   "source": [
    "ca_counties_pop = counties_pop[counties_pop[\"state\"] == \"06\"]"
   ]
  },
  {
   "cell_type": "code",
   "execution_count": 98,
   "metadata": {},
   "outputs": [],
   "source": [
    "big_ca_counties_pop = ca_counties_pop.sort_values(\"population\", ascending=False).head(\n",
    "    10\n",
    ")"
   ]
  },
  {
   "cell_type": "code",
   "execution_count": 99,
   "metadata": {},
   "outputs": [],
   "source": [
    "big_ca_counties_pop[\"name\"] = big_ca_counties_pop[\"name\"].str.replace(\n",
    "    \" County, California\", \"\"\n",
    ")"
   ]
  },
  {
   "cell_type": "code",
   "execution_count": 100,
   "metadata": {},
   "outputs": [],
   "source": [
    "big_counties = list(big_ca_counties_pop.name)"
   ]
  },
  {
   "cell_type": "code",
   "execution_count": 101,
   "metadata": {},
   "outputs": [],
   "source": [
    "big_counties_grouped = (\n",
    "    counties_grouped[counties_grouped[\"county\"].isin(big_counties)]\n",
    "    .groupby([\"county\", \"week\", \"region\"])\n",
    "    .agg({\"total_covid_patients\": \"sum\", \"covid_patients_share\": \"mean\"})\n",
    "    .reset_index()\n",
    ")"
   ]
  },
  {
   "cell_type": "code",
   "execution_count": 102,
   "metadata": {},
   "outputs": [
    {
     "data": {
      "text/html": [
       "\n",
       "<div id=\"altair-viz-a34a61f2129b4e4b8fd00e2c8aa71ec2\"></div>\n",
       "<script type=\"text/javascript\">\n",
       "  (function(spec, embedOpt){\n",
       "    let outputDiv = document.currentScript.previousElementSibling;\n",
       "    if (outputDiv.id !== \"altair-viz-a34a61f2129b4e4b8fd00e2c8aa71ec2\") {\n",
       "      outputDiv = document.getElementById(\"altair-viz-a34a61f2129b4e4b8fd00e2c8aa71ec2\");\n",
       "    }\n",
       "    const paths = {\n",
       "      \"vega\": \"https://cdn.jsdelivr.net/npm//vega@5?noext\",\n",
       "      \"vega-lib\": \"https://cdn.jsdelivr.net/npm//vega-lib?noext\",\n",
       "      \"vega-lite\": \"https://cdn.jsdelivr.net/npm//vega-lite@4.8.1?noext\",\n",
       "      \"vega-embed\": \"https://cdn.jsdelivr.net/npm//vega-embed@6?noext\",\n",
       "    };\n",
       "\n",
       "    function loadScript(lib) {\n",
       "      return new Promise(function(resolve, reject) {\n",
       "        var s = document.createElement('script');\n",
       "        s.src = paths[lib];\n",
       "        s.async = true;\n",
       "        s.onload = () => resolve(paths[lib]);\n",
       "        s.onerror = () => reject(`Error loading script: ${paths[lib]}`);\n",
       "        document.getElementsByTagName(\"head\")[0].appendChild(s);\n",
       "      });\n",
       "    }\n",
       "\n",
       "    function showError(err) {\n",
       "      outputDiv.innerHTML = `<div class=\"error\" style=\"color:red;\">${err}</div>`;\n",
       "      throw err;\n",
       "    }\n",
       "\n",
       "    function displayChart(vegaEmbed) {\n",
       "      vegaEmbed(outputDiv, spec, embedOpt)\n",
       "        .catch(err => showError(`Javascript Error: ${err.message}<br>This usually means there's a typo in your chart specification. See the javascript console for the full traceback.`));\n",
       "    }\n",
       "\n",
       "    if(typeof define === \"function\" && define.amd) {\n",
       "      requirejs.config({paths});\n",
       "      require([\"vega-embed\"], displayChart, err => showError(`Error loading script: ${err.message}`));\n",
       "    } else if (typeof vegaEmbed === \"function\") {\n",
       "      displayChart(vegaEmbed);\n",
       "    } else {\n",
       "      loadScript(\"vega\")\n",
       "        .then(() => loadScript(\"vega-lite\"))\n",
       "        .then(() => loadScript(\"vega-embed\"))\n",
       "        .catch(showError)\n",
       "        .then(() => displayChart(vegaEmbed));\n",
       "    }\n",
       "  })({\"config\": {\"view\": {\"width\": 800, \"height\": 450, \"strokeOpacity\": 0}, \"background\": \"#ffffff\", \"title\": {\"anchor\": \"start\", \"font\": \"Benton Gothic Bold, sans\", \"fontColor\": \"#000000\", \"fontSize\": 22, \"fontWeight\": \"normal\"}, \"arc\": {\"fill\": \"#82c6df\"}, \"area\": {\"fill\": \"#82c6df\"}, \"line\": {\"stroke\": \"#82c6df\", \"strokeWidth\": 3}, \"path\": {\"stroke\": \"#82c6df\"}, \"rect\": {\"fill\": \"#82c6df\"}, \"shape\": {\"stroke\": \"#82c6df\"}, \"bar\": {\"fill\": \"#82c6df\"}, \"point\": {\"stroke\": \"#82c6df\"}, \"symbol\": {\"fill\": \"#82c6df\", \"size\": 30}, \"axis\": {\"titleFont\": \"Benton Gothic Bold, sans\", \"titleFontSize\": 13, \"titleFontWeight\": \"normal\", \"labelFont\": \"Benton Gothic, sans\", \"labelFontSize\": 11.5, \"labelFontWeight\": \"normal\"}, \"axisX\": {\"labelAngle\": 0, \"labelPadding\": 4, \"tickSize\": 3}, \"axisY\": {\"labelBaseline\": \"middle\", \"maxExtent\": 45, \"minExtent\": 45, \"tickSize\": 2, \"titleAlign\": \"left\", \"titleAngle\": 0, \"titleX\": -45, \"titleY\": -11}, \"legend\": {\"titleFont\": \"Benton Gothic Bold, sans\", \"titleFontSize\": 13, \"titleFontWeight\": \"normal\", \"symbolType\": \"square\", \"labelFont\": \"Benton Gothic, sans\", \"labelFontSize\": 11.5}, \"range\": {\"category\": [\"#3580b1\", \"#ec8431\", \"#ab7fb4\", \"#c89d29\", \"#adc839\", \"#829eb1\"], \"diverging\": [\"#e68a4f\", \"#f4bb6a\", \"#f9e39c\", \"#dadfe2\", \"#a6b7c6\", \"#849eae\"], \"heatmap\": [\"#fbf2c7\", \"#f9e39c\", \"#f8d36e\", \"#f4bb6a\", \"#e68a4f\", \"#d15a40\", \"#ab4232\"], \"ordinal\": [\"#fbf2c7\", \"#f9e39c\", \"#f8d36e\", \"#f4bb6a\", \"#e68a4f\", \"#d15a40\", \"#ab4232\"], \"ramp\": [\"#fbf2c7\", \"#f9e39c\", \"#f8d36e\", \"#f4bb6a\", \"#e68a4f\", \"#d15a40\", \"#ab4232\"]}}, \"data\": {\"name\": \"data-ec667161656d06ff8a78a175d23c78db\"}, \"mark\": \"area\", \"encoding\": {\"color\": {\"type\": \"nominal\", \"field\": \"region\", \"legend\": {\"orient\": \"top\", \"title\": \" \"}}, \"facet\": {\"type\": \"nominal\", \"columns\": 5, \"field\": \"county\", \"sort\": {\"field\": \"covid_patients_share\", \"op\": \"max\", \"order\": \"descending\"}, \"title\": \" \"}, \"x\": {\"type\": \"temporal\", \"axis\": {\"format\": \"%b.\", \"grid\": false, \"tickCount\": 4, \"title\": \" \"}, \"field\": \"week\"}, \"y\": {\"type\": \"quantitative\", \"axis\": {\"domainOpacity\": 0, \"format\": \"%\", \"gridColor\": \"#dddddd\", \"offset\": 6, \"tickCount\": 5, \"tickSize\": 0, \"title\": \"\"}, \"field\": \"covid_patients_share\", \"title\": \" \"}}, \"height\": 200, \"title\": \"Share of all hospital patients with COVID-19 in large California counties\", \"width\": 200, \"$schema\": \"https://vega.github.io/schema/vega-lite/v4.8.1.json\", \"datasets\": {\"data-ec667161656d06ff8a78a175d23c78db\": [{\"county\": \"Alameda\", \"week\": \"2020-07-31T00:00:00\", \"region\": \"Bay Area\", \"total_covid_patients\": 251.0, \"covid_patients_share\": 0.16}, {\"county\": \"Alameda\", \"week\": \"2020-08-07T00:00:00\", \"region\": \"Bay Area\", \"total_covid_patients\": 218.0, \"covid_patients_share\": 0.14}, {\"county\": \"Alameda\", \"week\": \"2020-08-14T00:00:00\", \"region\": \"Bay Area\", \"total_covid_patients\": 254.0, \"covid_patients_share\": 0.16}, {\"county\": \"Alameda\", \"week\": \"2020-08-21T00:00:00\", \"region\": \"Bay Area\", \"total_covid_patients\": 250.0, \"covid_patients_share\": 0.16}, {\"county\": \"Alameda\", \"week\": \"2020-08-28T00:00:00\", \"region\": \"Bay Area\", \"total_covid_patients\": 222.0, \"covid_patients_share\": 0.14}, {\"county\": \"Alameda\", \"week\": \"2020-09-04T00:00:00\", \"region\": \"Bay Area\", \"total_covid_patients\": 197.0, \"covid_patients_share\": 0.13}, {\"county\": \"Alameda\", \"week\": \"2020-09-11T00:00:00\", \"region\": \"Bay Area\", \"total_covid_patients\": 164.0, \"covid_patients_share\": 0.11}, {\"county\": \"Alameda\", \"week\": \"2020-09-18T00:00:00\", \"region\": \"Bay Area\", \"total_covid_patients\": 138.0, \"covid_patients_share\": 0.09}, {\"county\": \"Alameda\", \"week\": \"2020-09-25T00:00:00\", \"region\": \"Bay Area\", \"total_covid_patients\": 121.0, \"covid_patients_share\": 0.08}, {\"county\": \"Alameda\", \"week\": \"2020-10-02T00:00:00\", \"region\": \"Bay Area\", \"total_covid_patients\": 108.0, \"covid_patients_share\": 0.07}, {\"county\": \"Alameda\", \"week\": \"2020-10-09T00:00:00\", \"region\": \"Bay Area\", \"total_covid_patients\": 103.0, \"covid_patients_share\": 0.07}, {\"county\": \"Alameda\", \"week\": \"2020-10-16T00:00:00\", \"region\": \"Bay Area\", \"total_covid_patients\": 98.0, \"covid_patients_share\": 0.07}, {\"county\": \"Alameda\", \"week\": \"2020-10-23T00:00:00\", \"region\": \"Bay Area\", \"total_covid_patients\": 94.0, \"covid_patients_share\": 0.07}, {\"county\": \"Alameda\", \"week\": \"2020-10-30T00:00:00\", \"region\": \"Bay Area\", \"total_covid_patients\": 111.0, \"covid_patients_share\": 0.08}, {\"county\": \"Alameda\", \"week\": \"2020-11-06T00:00:00\", \"region\": \"Bay Area\", \"total_covid_patients\": 111.0, \"covid_patients_share\": 0.08}, {\"county\": \"Alameda\", \"week\": \"2020-11-13T00:00:00\", \"region\": \"Bay Area\", \"total_covid_patients\": 118.0, \"covid_patients_share\": 0.08}, {\"county\": \"Alameda\", \"week\": \"2020-11-20T00:00:00\", \"region\": \"Bay Area\", \"total_covid_patients\": 164.0, \"covid_patients_share\": 0.11}, {\"county\": \"Alameda\", \"week\": \"2020-11-27T00:00:00\", \"region\": \"Bay Area\", \"total_covid_patients\": 223.0, \"covid_patients_share\": 0.15}, {\"county\": \"Alameda\", \"week\": \"2020-12-04T00:00:00\", \"region\": \"Bay Area\", \"total_covid_patients\": 276.0, \"covid_patients_share\": 0.18}, {\"county\": \"Alameda\", \"week\": \"2020-12-11T00:00:00\", \"region\": \"Bay Area\", \"total_covid_patients\": 362.0, \"covid_patients_share\": 0.22}, {\"county\": \"Alameda\", \"week\": \"2020-12-18T00:00:00\", \"region\": \"Bay Area\", \"total_covid_patients\": 421.0, \"covid_patients_share\": 0.26}, {\"county\": \"Alameda\", \"week\": \"2020-12-25T00:00:00\", \"region\": \"Bay Area\", \"total_covid_patients\": 468.0, \"covid_patients_share\": 0.29}, {\"county\": \"Alameda\", \"week\": \"2021-01-01T00:00:00\", \"region\": \"Bay Area\", \"total_covid_patients\": 481.0, \"covid_patients_share\": 0.29}, {\"county\": \"Contra Costa\", \"week\": \"2020-07-31T00:00:00\", \"region\": \"Bay Area\", \"total_covid_patients\": 131.0, \"covid_patients_share\": 0.13}, {\"county\": \"Contra Costa\", \"week\": \"2020-08-07T00:00:00\", \"region\": \"Bay Area\", \"total_covid_patients\": 123.0, \"covid_patients_share\": 0.13}, {\"county\": \"Contra Costa\", \"week\": \"2020-08-14T00:00:00\", \"region\": \"Bay Area\", \"total_covid_patients\": 116.0, \"covid_patients_share\": 0.12}, {\"county\": \"Contra Costa\", \"week\": \"2020-08-21T00:00:00\", \"region\": \"Bay Area\", \"total_covid_patients\": 108.0, \"covid_patients_share\": 0.12}, {\"county\": \"Contra Costa\", \"week\": \"2020-08-28T00:00:00\", \"region\": \"Bay Area\", \"total_covid_patients\": 100.0, \"covid_patients_share\": 0.11}, {\"county\": \"Contra Costa\", \"week\": \"2020-09-04T00:00:00\", \"region\": \"Bay Area\", \"total_covid_patients\": 86.0, \"covid_patients_share\": 0.09}, {\"county\": \"Contra Costa\", \"week\": \"2020-09-11T00:00:00\", \"region\": \"Bay Area\", \"total_covid_patients\": 83.0, \"covid_patients_share\": 0.09}, {\"county\": \"Contra Costa\", \"week\": \"2020-09-18T00:00:00\", \"region\": \"Bay Area\", \"total_covid_patients\": 68.0, \"covid_patients_share\": 0.07}, {\"county\": \"Contra Costa\", \"week\": \"2020-09-25T00:00:00\", \"region\": \"Bay Area\", \"total_covid_patients\": 47.0, \"covid_patients_share\": 0.05}, {\"county\": \"Contra Costa\", \"week\": \"2020-10-02T00:00:00\", \"region\": \"Bay Area\", \"total_covid_patients\": 48.0, \"covid_patients_share\": 0.05}, {\"county\": \"Contra Costa\", \"week\": \"2020-10-09T00:00:00\", \"region\": \"Bay Area\", \"total_covid_patients\": 41.0, \"covid_patients_share\": 0.04}, {\"county\": \"Contra Costa\", \"week\": \"2020-10-16T00:00:00\", \"region\": \"Bay Area\", \"total_covid_patients\": 33.0, \"covid_patients_share\": 0.04}, {\"county\": \"Contra Costa\", \"week\": \"2020-10-23T00:00:00\", \"region\": \"Bay Area\", \"total_covid_patients\": 37.0, \"covid_patients_share\": 0.04}, {\"county\": \"Contra Costa\", \"week\": \"2020-10-30T00:00:00\", \"region\": \"Bay Area\", \"total_covid_patients\": 47.0, \"covid_patients_share\": 0.05}, {\"county\": \"Contra Costa\", \"week\": \"2020-11-06T00:00:00\", \"region\": \"Bay Area\", \"total_covid_patients\": 55.0, \"covid_patients_share\": 0.06}, {\"county\": \"Contra Costa\", \"week\": \"2020-11-13T00:00:00\", \"region\": \"Bay Area\", \"total_covid_patients\": 70.0, \"covid_patients_share\": 0.07}, {\"county\": \"Contra Costa\", \"week\": \"2020-11-20T00:00:00\", \"region\": \"Bay Area\", \"total_covid_patients\": 91.0, \"covid_patients_share\": 0.09}, {\"county\": \"Contra Costa\", \"week\": \"2020-11-27T00:00:00\", \"region\": \"Bay Area\", \"total_covid_patients\": 120.0, \"covid_patients_share\": 0.13}, {\"county\": \"Contra Costa\", \"week\": \"2020-12-04T00:00:00\", \"region\": \"Bay Area\", \"total_covid_patients\": 152.0, \"covid_patients_share\": 0.15}, {\"county\": \"Contra Costa\", \"week\": \"2020-12-11T00:00:00\", \"region\": \"Bay Area\", \"total_covid_patients\": 183.0, \"covid_patients_share\": 0.18}, {\"county\": \"Contra Costa\", \"week\": \"2020-12-18T00:00:00\", \"region\": \"Bay Area\", \"total_covid_patients\": 234.0, \"covid_patients_share\": 0.23}, {\"county\": \"Contra Costa\", \"week\": \"2020-12-25T00:00:00\", \"region\": \"Bay Area\", \"total_covid_patients\": 253.0, \"covid_patients_share\": 0.25}, {\"county\": \"Contra Costa\", \"week\": \"2021-01-01T00:00:00\", \"region\": \"Bay Area\", \"total_covid_patients\": 269.0, \"covid_patients_share\": 0.25}, {\"county\": \"Fresno\", \"week\": \"2020-07-31T00:00:00\", \"region\": \"San Joaquin Valley\", \"total_covid_patients\": 337.0, \"covid_patients_share\": 0.27}, {\"county\": \"Fresno\", \"week\": \"2020-08-07T00:00:00\", \"region\": \"San Joaquin Valley\", \"total_covid_patients\": 317.0, \"covid_patients_share\": 0.24}, {\"county\": \"Fresno\", \"week\": \"2020-08-14T00:00:00\", \"region\": \"San Joaquin Valley\", \"total_covid_patients\": 276.0, \"covid_patients_share\": 0.21}, {\"county\": \"Fresno\", \"week\": \"2020-08-21T00:00:00\", \"region\": \"San Joaquin Valley\", \"total_covid_patients\": 270.0, \"covid_patients_share\": 0.2}, {\"county\": \"Fresno\", \"week\": \"2020-08-28T00:00:00\", \"region\": \"San Joaquin Valley\", \"total_covid_patients\": 213.0, \"covid_patients_share\": 0.16}, {\"county\": \"Fresno\", \"week\": \"2020-09-04T00:00:00\", \"region\": \"San Joaquin Valley\", \"total_covid_patients\": 172.0, \"covid_patients_share\": 0.13}, {\"county\": \"Fresno\", \"week\": \"2020-09-11T00:00:00\", \"region\": \"San Joaquin Valley\", \"total_covid_patients\": 136.0, \"covid_patients_share\": 0.11}, {\"county\": \"Fresno\", \"week\": \"2020-09-18T00:00:00\", \"region\": \"San Joaquin Valley\", \"total_covid_patients\": 112.0, \"covid_patients_share\": 0.09}, {\"county\": \"Fresno\", \"week\": \"2020-09-25T00:00:00\", \"region\": \"San Joaquin Valley\", \"total_covid_patients\": 102.0, \"covid_patients_share\": 0.08}, {\"county\": \"Fresno\", \"week\": \"2020-10-02T00:00:00\", \"region\": \"San Joaquin Valley\", \"total_covid_patients\": 123.0, \"covid_patients_share\": 0.1}, {\"county\": \"Fresno\", \"week\": \"2020-10-09T00:00:00\", \"region\": \"San Joaquin Valley\", \"total_covid_patients\": 108.0, \"covid_patients_share\": 0.09}, {\"county\": \"Fresno\", \"week\": \"2020-10-16T00:00:00\", \"region\": \"San Joaquin Valley\", \"total_covid_patients\": 119.0, \"covid_patients_share\": 0.09}, {\"county\": \"Fresno\", \"week\": \"2020-10-23T00:00:00\", \"region\": \"San Joaquin Valley\", \"total_covid_patients\": 111.0, \"covid_patients_share\": 0.08}, {\"county\": \"Fresno\", \"week\": \"2020-10-30T00:00:00\", \"region\": \"San Joaquin Valley\", \"total_covid_patients\": 116.0, \"covid_patients_share\": 0.08}, {\"county\": \"Fresno\", \"week\": \"2020-11-06T00:00:00\", \"region\": \"San Joaquin Valley\", \"total_covid_patients\": 136.0, \"covid_patients_share\": 0.09}, {\"county\": \"Fresno\", \"week\": \"2020-11-13T00:00:00\", \"region\": \"San Joaquin Valley\", \"total_covid_patients\": 180.0, \"covid_patients_share\": 0.12}, {\"county\": \"Fresno\", \"week\": \"2020-11-20T00:00:00\", \"region\": \"San Joaquin Valley\", \"total_covid_patients\": 267.0, \"covid_patients_share\": 0.18}, {\"county\": \"Fresno\", \"week\": \"2020-11-27T00:00:00\", \"region\": \"San Joaquin Valley\", \"total_covid_patients\": 336.0, \"covid_patients_share\": 0.22}, {\"county\": \"Fresno\", \"week\": \"2020-12-04T00:00:00\", \"region\": \"San Joaquin Valley\", \"total_covid_patients\": 464.0, \"covid_patients_share\": 0.29}, {\"county\": \"Fresno\", \"week\": \"2020-12-11T00:00:00\", \"region\": \"San Joaquin Valley\", \"total_covid_patients\": 535.0, \"covid_patients_share\": 0.35}, {\"county\": \"Fresno\", \"week\": \"2020-12-18T00:00:00\", \"region\": \"San Joaquin Valley\", \"total_covid_patients\": 620.0, \"covid_patients_share\": 0.39}, {\"county\": \"Fresno\", \"week\": \"2020-12-25T00:00:00\", \"region\": \"San Joaquin Valley\", \"total_covid_patients\": 652.0, \"covid_patients_share\": 0.43}, {\"county\": \"Fresno\", \"week\": \"2021-01-01T00:00:00\", \"region\": \"San Joaquin Valley\", \"total_covid_patients\": 665.0, \"covid_patients_share\": 0.43}, {\"county\": \"Los Angeles\", \"week\": \"2020-07-31T00:00:00\", \"region\": \"Southern California\", \"total_covid_patients\": 2319.0, \"covid_patients_share\": 0.19}, {\"county\": \"Los Angeles\", \"week\": \"2020-08-07T00:00:00\", \"region\": \"Southern California\", \"total_covid_patients\": 2025.0, \"covid_patients_share\": 0.16}, {\"county\": \"Los Angeles\", \"week\": \"2020-08-14T00:00:00\", \"region\": \"Southern California\", \"total_covid_patients\": 1950.0, \"covid_patients_share\": 0.16}, {\"county\": \"Los Angeles\", \"week\": \"2020-08-21T00:00:00\", \"region\": \"Southern California\", \"total_covid_patients\": 1724.0, \"covid_patients_share\": 0.14}, {\"county\": \"Los Angeles\", \"week\": \"2020-08-28T00:00:00\", \"region\": \"Southern California\", \"total_covid_patients\": 1456.0, \"covid_patients_share\": 0.12}, {\"county\": \"Los Angeles\", \"week\": \"2020-09-04T00:00:00\", \"region\": \"Southern California\", \"total_covid_patients\": 1307.0, \"covid_patients_share\": 0.11}, {\"county\": \"Los Angeles\", \"week\": \"2020-09-11T00:00:00\", \"region\": \"Southern California\", \"total_covid_patients\": 1120.0, \"covid_patients_share\": 0.09}, {\"county\": \"Los Angeles\", \"week\": \"2020-09-18T00:00:00\", \"region\": \"Southern California\", \"total_covid_patients\": 1105.0, \"covid_patients_share\": 0.09}, {\"county\": \"Los Angeles\", \"week\": \"2020-09-25T00:00:00\", \"region\": \"Southern California\", \"total_covid_patients\": 1065.0, \"covid_patients_share\": 0.09}, {\"county\": \"Los Angeles\", \"week\": \"2020-10-02T00:00:00\", \"region\": \"Southern California\", \"total_covid_patients\": 1048.0, \"covid_patients_share\": 0.08}, {\"county\": \"Los Angeles\", \"week\": \"2020-10-09T00:00:00\", \"region\": \"Southern California\", \"total_covid_patients\": 1066.0, \"covid_patients_share\": 0.09}, {\"county\": \"Los Angeles\", \"week\": \"2020-10-16T00:00:00\", \"region\": \"Southern California\", \"total_covid_patients\": 1072.0, \"covid_patients_share\": 0.09}, {\"county\": \"Los Angeles\", \"week\": \"2020-10-23T00:00:00\", \"region\": \"Southern California\", \"total_covid_patients\": 1032.0, \"covid_patients_share\": 0.08}, {\"county\": \"Los Angeles\", \"week\": \"2020-10-30T00:00:00\", \"region\": \"Southern California\", \"total_covid_patients\": 1112.0, \"covid_patients_share\": 0.09}, {\"county\": \"Los Angeles\", \"week\": \"2020-11-06T00:00:00\", \"region\": \"Southern California\", \"total_covid_patients\": 1215.0, \"covid_patients_share\": 0.09}, {\"county\": \"Los Angeles\", \"week\": \"2020-11-13T00:00:00\", \"region\": \"Southern California\", \"total_covid_patients\": 1511.0, \"covid_patients_share\": 0.12}, {\"county\": \"Los Angeles\", \"week\": \"2020-11-20T00:00:00\", \"region\": \"Southern California\", \"total_covid_patients\": 2023.0, \"covid_patients_share\": 0.15}, {\"county\": \"Los Angeles\", \"week\": \"2020-11-27T00:00:00\", \"region\": \"Southern California\", \"total_covid_patients\": 2743.0, \"covid_patients_share\": 0.21}, {\"county\": \"Los Angeles\", \"week\": \"2020-12-04T00:00:00\", \"region\": \"Southern California\", \"total_covid_patients\": 3666.0, \"covid_patients_share\": 0.26}, {\"county\": \"Los Angeles\", \"week\": \"2020-12-11T00:00:00\", \"region\": \"Southern California\", \"total_covid_patients\": 5038.0, \"covid_patients_share\": 0.34}, {\"county\": \"Los Angeles\", \"week\": \"2020-12-18T00:00:00\", \"region\": \"Southern California\", \"total_covid_patients\": 6497.0, \"covid_patients_share\": 0.43}, {\"county\": \"Los Angeles\", \"week\": \"2020-12-25T00:00:00\", \"region\": \"Southern California\", \"total_covid_patients\": 7584.0, \"covid_patients_share\": 0.5}, {\"county\": \"Los Angeles\", \"week\": \"2021-01-01T00:00:00\", \"region\": \"Southern California\", \"total_covid_patients\": 8200.0, \"covid_patients_share\": 0.52}, {\"county\": \"Orange\", \"week\": \"2020-07-31T00:00:00\", \"region\": \"Southern California\", \"total_covid_patients\": 581.0, \"covid_patients_share\": 0.16}, {\"county\": \"Orange\", \"week\": \"2020-08-07T00:00:00\", \"region\": \"Southern California\", \"total_covid_patients\": 519.0, \"covid_patients_share\": 0.16}, {\"county\": \"Orange\", \"week\": \"2020-08-14T00:00:00\", \"region\": \"Southern California\", \"total_covid_patients\": 472.0, \"covid_patients_share\": 0.14}, {\"county\": \"Orange\", \"week\": \"2020-08-21T00:00:00\", \"region\": \"Southern California\", \"total_covid_patients\": 451.0, \"covid_patients_share\": 0.13}, {\"county\": \"Orange\", \"week\": \"2020-08-28T00:00:00\", \"region\": \"Southern California\", \"total_covid_patients\": 354.0, \"covid_patients_share\": 0.1}, {\"county\": \"Orange\", \"week\": \"2020-09-04T00:00:00\", \"region\": \"Southern California\", \"total_covid_patients\": 291.0, \"covid_patients_share\": 0.09}, {\"county\": \"Orange\", \"week\": \"2020-09-11T00:00:00\", \"region\": \"Southern California\", \"total_covid_patients\": 245.0, \"covid_patients_share\": 0.07}, {\"county\": \"Orange\", \"week\": \"2020-09-18T00:00:00\", \"region\": \"Southern California\", \"total_covid_patients\": 232.0, \"covid_patients_share\": 0.07}, {\"county\": \"Orange\", \"week\": \"2020-09-25T00:00:00\", \"region\": \"Southern California\", \"total_covid_patients\": 217.0, \"covid_patients_share\": 0.06}, {\"county\": \"Orange\", \"week\": \"2020-10-02T00:00:00\", \"region\": \"Southern California\", \"total_covid_patients\": 217.0, \"covid_patients_share\": 0.06}, {\"county\": \"Orange\", \"week\": \"2020-10-09T00:00:00\", \"region\": \"Southern California\", \"total_covid_patients\": 211.0, \"covid_patients_share\": 0.06}, {\"county\": \"Orange\", \"week\": \"2020-10-16T00:00:00\", \"region\": \"Southern California\", \"total_covid_patients\": 211.0, \"covid_patients_share\": 0.06}, {\"county\": \"Orange\", \"week\": \"2020-10-23T00:00:00\", \"region\": \"Southern California\", \"total_covid_patients\": 208.0, \"covid_patients_share\": 0.06}, {\"county\": \"Orange\", \"week\": \"2020-10-30T00:00:00\", \"region\": \"Southern California\", \"total_covid_patients\": 213.0, \"covid_patients_share\": 0.06}, {\"county\": \"Orange\", \"week\": \"2020-11-06T00:00:00\", \"region\": \"Southern California\", \"total_covid_patients\": 261.0, \"covid_patients_share\": 0.07}, {\"county\": \"Orange\", \"week\": \"2020-11-13T00:00:00\", \"region\": \"Southern California\", \"total_covid_patients\": 324.0, \"covid_patients_share\": 0.09}, {\"county\": \"Orange\", \"week\": \"2020-11-20T00:00:00\", \"region\": \"Southern California\", \"total_covid_patients\": 488.0, \"covid_patients_share\": 0.14}, {\"county\": \"Orange\", \"week\": \"2020-11-27T00:00:00\", \"region\": \"Southern California\", \"total_covid_patients\": 694.0, \"covid_patients_share\": 0.19}, {\"county\": \"Orange\", \"week\": \"2020-12-04T00:00:00\", \"region\": \"Southern California\", \"total_covid_patients\": 991.0, \"covid_patients_share\": 0.25}, {\"county\": \"Orange\", \"week\": \"2020-12-11T00:00:00\", \"region\": \"Southern California\", \"total_covid_patients\": 1433.0, \"covid_patients_share\": 0.34}, {\"county\": \"Orange\", \"week\": \"2020-12-18T00:00:00\", \"region\": \"Southern California\", \"total_covid_patients\": 1805.0, \"covid_patients_share\": 0.43}, {\"county\": \"Orange\", \"week\": \"2020-12-25T00:00:00\", \"region\": \"Southern California\", \"total_covid_patients\": 2048.0, \"covid_patients_share\": 0.47}, {\"county\": \"Orange\", \"week\": \"2021-01-01T00:00:00\", \"region\": \"Southern California\", \"total_covid_patients\": 2185.0, \"covid_patients_share\": 0.48}, {\"county\": \"Riverside\", \"week\": \"2020-07-31T00:00:00\", \"region\": \"Southern California\", \"total_covid_patients\": 529.0, \"covid_patients_share\": 0.24}, {\"county\": \"Riverside\", \"week\": \"2020-08-07T00:00:00\", \"region\": \"Southern California\", \"total_covid_patients\": 468.0, \"covid_patients_share\": 0.23}, {\"county\": \"Riverside\", \"week\": \"2020-08-14T00:00:00\", \"region\": \"Southern California\", \"total_covid_patients\": 409.0, \"covid_patients_share\": 0.19}, {\"county\": \"Riverside\", \"week\": \"2020-08-21T00:00:00\", \"region\": \"Southern California\", \"total_covid_patients\": 340.0, \"covid_patients_share\": 0.16}, {\"county\": \"Riverside\", \"week\": \"2020-08-28T00:00:00\", \"region\": \"Southern California\", \"total_covid_patients\": 297.0, \"covid_patients_share\": 0.14}, {\"county\": \"Riverside\", \"week\": \"2020-09-04T00:00:00\", \"region\": \"Southern California\", \"total_covid_patients\": 234.0, \"covid_patients_share\": 0.11}, {\"county\": \"Riverside\", \"week\": \"2020-09-11T00:00:00\", \"region\": \"Southern California\", \"total_covid_patients\": 207.0, \"covid_patients_share\": 0.1}, {\"county\": \"Riverside\", \"week\": \"2020-09-18T00:00:00\", \"region\": \"Southern California\", \"total_covid_patients\": 192.0, \"covid_patients_share\": 0.1}, {\"county\": \"Riverside\", \"week\": \"2020-09-25T00:00:00\", \"region\": \"Southern California\", \"total_covid_patients\": 182.0, \"covid_patients_share\": 0.09}, {\"county\": \"Riverside\", \"week\": \"2020-10-02T00:00:00\", \"region\": \"Southern California\", \"total_covid_patients\": 213.0, \"covid_patients_share\": 0.1}, {\"county\": \"Riverside\", \"week\": \"2020-10-09T00:00:00\", \"region\": \"Southern California\", \"total_covid_patients\": 202.0, \"covid_patients_share\": 0.09}, {\"county\": \"Riverside\", \"week\": \"2020-10-16T00:00:00\", \"region\": \"Southern California\", \"total_covid_patients\": 214.0, \"covid_patients_share\": 0.1}, {\"county\": \"Riverside\", \"week\": \"2020-10-23T00:00:00\", \"region\": \"Southern California\", \"total_covid_patients\": 211.0, \"covid_patients_share\": 0.1}, {\"county\": \"Riverside\", \"week\": \"2020-10-30T00:00:00\", \"region\": \"Southern California\", \"total_covid_patients\": 241.0, \"covid_patients_share\": 0.11}, {\"county\": \"Riverside\", \"week\": \"2020-11-06T00:00:00\", \"region\": \"Southern California\", \"total_covid_patients\": 296.0, \"covid_patients_share\": 0.14}, {\"county\": \"Riverside\", \"week\": \"2020-11-13T00:00:00\", \"region\": \"Southern California\", \"total_covid_patients\": 399.0, \"covid_patients_share\": 0.18}, {\"county\": \"Riverside\", \"week\": \"2020-11-20T00:00:00\", \"region\": \"Southern California\", \"total_covid_patients\": 505.0, \"covid_patients_share\": 0.22}, {\"county\": \"Riverside\", \"week\": \"2020-11-27T00:00:00\", \"region\": \"Southern California\", \"total_covid_patients\": 670.0, \"covid_patients_share\": 0.28}, {\"county\": \"Riverside\", \"week\": \"2020-12-04T00:00:00\", \"region\": \"Southern California\", \"total_covid_patients\": 843.0, \"covid_patients_share\": 0.34}, {\"county\": \"Riverside\", \"week\": \"2020-12-11T00:00:00\", \"region\": \"Southern California\", \"total_covid_patients\": 1072.0, \"covid_patients_share\": 0.42}, {\"county\": \"Riverside\", \"week\": \"2020-12-18T00:00:00\", \"region\": \"Southern California\", \"total_covid_patients\": 1360.0, \"covid_patients_share\": 0.5}, {\"county\": \"Riverside\", \"week\": \"2020-12-25T00:00:00\", \"region\": \"Southern California\", \"total_covid_patients\": 1525.0, \"covid_patients_share\": 0.55}, {\"county\": \"Riverside\", \"week\": \"2021-01-01T00:00:00\", \"region\": \"Southern California\", \"total_covid_patients\": 1637.0, \"covid_patients_share\": 0.57}, {\"county\": \"Sacramento\", \"week\": \"2020-07-31T00:00:00\", \"region\": \"Greater Sacramento\", \"total_covid_patients\": 301.0, \"covid_patients_share\": 0.16}, {\"county\": \"Sacramento\", \"week\": \"2020-08-07T00:00:00\", \"region\": \"Greater Sacramento\", \"total_covid_patients\": 291.0, \"covid_patients_share\": 0.15}, {\"county\": \"Sacramento\", \"week\": \"2020-08-14T00:00:00\", \"region\": \"Greater Sacramento\", \"total_covid_patients\": 291.0, \"covid_patients_share\": 0.14}, {\"county\": \"Sacramento\", \"week\": \"2020-08-21T00:00:00\", \"region\": \"Greater Sacramento\", \"total_covid_patients\": 256.0, \"covid_patients_share\": 0.13}, {\"county\": \"Sacramento\", \"week\": \"2020-08-28T00:00:00\", \"region\": \"Greater Sacramento\", \"total_covid_patients\": 231.0, \"covid_patients_share\": 0.12}, {\"county\": \"Sacramento\", \"week\": \"2020-09-04T00:00:00\", \"region\": \"Greater Sacramento\", \"total_covid_patients\": 197.0, \"covid_patients_share\": 0.11}, {\"county\": \"Sacramento\", \"week\": \"2020-09-11T00:00:00\", \"region\": \"Greater Sacramento\", \"total_covid_patients\": 157.0, \"covid_patients_share\": 0.08}, {\"county\": \"Sacramento\", \"week\": \"2020-09-18T00:00:00\", \"region\": \"Greater Sacramento\", \"total_covid_patients\": 162.0, \"covid_patients_share\": 0.08}, {\"county\": \"Sacramento\", \"week\": \"2020-09-25T00:00:00\", \"region\": \"Greater Sacramento\", \"total_covid_patients\": 155.0, \"covid_patients_share\": 0.08}, {\"county\": \"Sacramento\", \"week\": \"2020-10-02T00:00:00\", \"region\": \"Greater Sacramento\", \"total_covid_patients\": 119.0, \"covid_patients_share\": 0.06}, {\"county\": \"Sacramento\", \"week\": \"2020-10-09T00:00:00\", \"region\": \"Greater Sacramento\", \"total_covid_patients\": 119.0, \"covid_patients_share\": 0.06}, {\"county\": \"Sacramento\", \"week\": \"2020-10-16T00:00:00\", \"region\": \"Greater Sacramento\", \"total_covid_patients\": 113.0, \"covid_patients_share\": 0.06}, {\"county\": \"Sacramento\", \"week\": \"2020-10-23T00:00:00\", \"region\": \"Greater Sacramento\", \"total_covid_patients\": 109.0, \"covid_patients_share\": 0.06}, {\"county\": \"Sacramento\", \"week\": \"2020-10-30T00:00:00\", \"region\": \"Greater Sacramento\", \"total_covid_patients\": 112.0, \"covid_patients_share\": 0.06}, {\"county\": \"Sacramento\", \"week\": \"2020-11-06T00:00:00\", \"region\": \"Greater Sacramento\", \"total_covid_patients\": 168.0, \"covid_patients_share\": 0.08}, {\"county\": \"Sacramento\", \"week\": \"2020-11-13T00:00:00\", \"region\": \"Greater Sacramento\", \"total_covid_patients\": 221.0, \"covid_patients_share\": 0.11}, {\"county\": \"Sacramento\", \"week\": \"2020-11-20T00:00:00\", \"region\": \"Greater Sacramento\", \"total_covid_patients\": 283.0, \"covid_patients_share\": 0.14}, {\"county\": \"Sacramento\", \"week\": \"2020-11-27T00:00:00\", \"region\": \"Greater Sacramento\", \"total_covid_patients\": 358.0, \"covid_patients_share\": 0.18}, {\"county\": \"Sacramento\", \"week\": \"2020-12-04T00:00:00\", \"region\": \"Greater Sacramento\", \"total_covid_patients\": 416.0, \"covid_patients_share\": 0.2}, {\"county\": \"Sacramento\", \"week\": \"2020-12-11T00:00:00\", \"region\": \"Greater Sacramento\", \"total_covid_patients\": 486.0, \"covid_patients_share\": 0.24}, {\"county\": \"Sacramento\", \"week\": \"2020-12-18T00:00:00\", \"region\": \"Greater Sacramento\", \"total_covid_patients\": 547.0, \"covid_patients_share\": 0.27}, {\"county\": \"Sacramento\", \"week\": \"2020-12-25T00:00:00\", \"region\": \"Greater Sacramento\", \"total_covid_patients\": 495.0, \"covid_patients_share\": 0.25}, {\"county\": \"Sacramento\", \"week\": \"2021-01-01T00:00:00\", \"region\": \"Greater Sacramento\", \"total_covid_patients\": 516.0, \"covid_patients_share\": 0.25}, {\"county\": \"San Bernardino\", \"week\": \"2020-07-31T00:00:00\", \"region\": \"Southern California\", \"total_covid_patients\": 613.0, \"covid_patients_share\": 0.23}, {\"county\": \"San Bernardino\", \"week\": \"2020-08-07T00:00:00\", \"region\": \"Southern California\", \"total_covid_patients\": 550.0, \"covid_patients_share\": 0.22}, {\"county\": \"San Bernardino\", \"week\": \"2020-08-14T00:00:00\", \"region\": \"Southern California\", \"total_covid_patients\": 516.0, \"covid_patients_share\": 0.2}, {\"county\": \"San Bernardino\", \"week\": \"2020-08-21T00:00:00\", \"region\": \"Southern California\", \"total_covid_patients\": 420.0, \"covid_patients_share\": 0.17}, {\"county\": \"San Bernardino\", \"week\": \"2020-08-28T00:00:00\", \"region\": \"Southern California\", \"total_covid_patients\": 332.0, \"covid_patients_share\": 0.14}, {\"county\": \"San Bernardino\", \"week\": \"2020-09-04T00:00:00\", \"region\": \"Southern California\", \"total_covid_patients\": 270.0, \"covid_patients_share\": 0.11}, {\"county\": \"San Bernardino\", \"week\": \"2020-09-11T00:00:00\", \"region\": \"Southern California\", \"total_covid_patients\": 233.0, \"covid_patients_share\": 0.1}, {\"county\": \"San Bernardino\", \"week\": \"2020-09-18T00:00:00\", \"region\": \"Southern California\", \"total_covid_patients\": 220.0, \"covid_patients_share\": 0.09}, {\"county\": \"San Bernardino\", \"week\": \"2020-09-25T00:00:00\", \"region\": \"Southern California\", \"total_covid_patients\": 212.0, \"covid_patients_share\": 0.09}, {\"county\": \"San Bernardino\", \"week\": \"2020-10-02T00:00:00\", \"region\": \"Southern California\", \"total_covid_patients\": 234.0, \"covid_patients_share\": 0.1}, {\"county\": \"San Bernardino\", \"week\": \"2020-10-09T00:00:00\", \"region\": \"Southern California\", \"total_covid_patients\": 241.0, \"covid_patients_share\": 0.1}, {\"county\": \"San Bernardino\", \"week\": \"2020-10-16T00:00:00\", \"region\": \"Southern California\", \"total_covid_patients\": 234.0, \"covid_patients_share\": 0.09}, {\"county\": \"San Bernardino\", \"week\": \"2020-10-23T00:00:00\", \"region\": \"Southern California\", \"total_covid_patients\": 265.0, \"covid_patients_share\": 0.1}, {\"county\": \"San Bernardino\", \"week\": \"2020-10-30T00:00:00\", \"region\": \"Southern California\", \"total_covid_patients\": 309.0, \"covid_patients_share\": 0.12}, {\"county\": \"San Bernardino\", \"week\": \"2020-11-06T00:00:00\", \"region\": \"Southern California\", \"total_covid_patients\": 335.0, \"covid_patients_share\": 0.13}, {\"county\": \"San Bernardino\", \"week\": \"2020-11-13T00:00:00\", \"region\": \"Southern California\", \"total_covid_patients\": 457.0, \"covid_patients_share\": 0.17}, {\"county\": \"San Bernardino\", \"week\": \"2020-11-20T00:00:00\", \"region\": \"Southern California\", \"total_covid_patients\": 621.0, \"covid_patients_share\": 0.23}, {\"county\": \"San Bernardino\", \"week\": \"2020-11-27T00:00:00\", \"region\": \"Southern California\", \"total_covid_patients\": 868.0, \"covid_patients_share\": 0.31}, {\"county\": \"San Bernardino\", \"week\": \"2020-12-04T00:00:00\", \"region\": \"Southern California\", \"total_covid_patients\": 1091.0, \"covid_patients_share\": 0.38}, {\"county\": \"San Bernardino\", \"week\": \"2020-12-11T00:00:00\", \"region\": \"Southern California\", \"total_covid_patients\": 1408.0, \"covid_patients_share\": 0.48}, {\"county\": \"San Bernardino\", \"week\": \"2020-12-18T00:00:00\", \"region\": \"Southern California\", \"total_covid_patients\": 1650.0, \"covid_patients_share\": 0.53}, {\"county\": \"San Bernardino\", \"week\": \"2020-12-25T00:00:00\", \"region\": \"Southern California\", \"total_covid_patients\": 1724.0, \"covid_patients_share\": 0.55}, {\"county\": \"San Bernardino\", \"week\": \"2021-01-01T00:00:00\", \"region\": \"Southern California\", \"total_covid_patients\": 1781.0, \"covid_patients_share\": 0.55}, {\"county\": \"San Diego\", \"week\": \"2020-07-31T00:00:00\", \"region\": \"Southern California\", \"total_covid_patients\": 370.0, \"covid_patients_share\": 0.1}, {\"county\": \"San Diego\", \"week\": \"2020-08-07T00:00:00\", \"region\": \"Southern California\", \"total_covid_patients\": 335.0, \"covid_patients_share\": 0.09}, {\"county\": \"San Diego\", \"week\": \"2020-08-14T00:00:00\", \"region\": \"Southern California\", \"total_covid_patients\": 292.0, \"covid_patients_share\": 0.08}, {\"county\": \"San Diego\", \"week\": \"2020-08-21T00:00:00\", \"region\": \"Southern California\", \"total_covid_patients\": 296.0, \"covid_patients_share\": 0.08}, {\"county\": \"San Diego\", \"week\": \"2020-08-28T00:00:00\", \"region\": \"Southern California\", \"total_covid_patients\": 297.0, \"covid_patients_share\": 0.08}, {\"county\": \"San Diego\", \"week\": \"2020-09-04T00:00:00\", \"region\": \"Southern California\", \"total_covid_patients\": 277.0, \"covid_patients_share\": 0.08}, {\"county\": \"San Diego\", \"week\": \"2020-09-11T00:00:00\", \"region\": \"Southern California\", \"total_covid_patients\": 281.0, \"covid_patients_share\": 0.07}, {\"county\": \"San Diego\", \"week\": \"2020-09-18T00:00:00\", \"region\": \"Southern California\", \"total_covid_patients\": 256.0, \"covid_patients_share\": 0.07}, {\"county\": \"San Diego\", \"week\": \"2020-09-25T00:00:00\", \"region\": \"Southern California\", \"total_covid_patients\": 238.0, \"covid_patients_share\": 0.06}, {\"county\": \"San Diego\", \"week\": \"2020-10-02T00:00:00\", \"region\": \"Southern California\", \"total_covid_patients\": 264.0, \"covid_patients_share\": 0.07}, {\"county\": \"San Diego\", \"week\": \"2020-10-09T00:00:00\", \"region\": \"Southern California\", \"total_covid_patients\": 236.0, \"covid_patients_share\": 0.06}, {\"county\": \"San Diego\", \"week\": \"2020-10-16T00:00:00\", \"region\": \"Southern California\", \"total_covid_patients\": 235.0, \"covid_patients_share\": 0.06}, {\"county\": \"San Diego\", \"week\": \"2020-10-23T00:00:00\", \"region\": \"Southern California\", \"total_covid_patients\": 154.0, \"covid_patients_share\": 0.04}, {\"county\": \"San Diego\", \"week\": \"2020-10-30T00:00:00\", \"region\": \"Southern California\", \"total_covid_patients\": 270.0, \"covid_patients_share\": 0.07}, {\"county\": \"San Diego\", \"week\": \"2020-11-06T00:00:00\", \"region\": \"Southern California\", \"total_covid_patients\": 315.0, \"covid_patients_share\": 0.08}, {\"county\": \"San Diego\", \"week\": \"2020-11-13T00:00:00\", \"region\": \"Southern California\", \"total_covid_patients\": 366.0, \"covid_patients_share\": 0.09}, {\"county\": \"San Diego\", \"week\": \"2020-11-20T00:00:00\", \"region\": \"Southern California\", \"total_covid_patients\": 492.0, \"covid_patients_share\": 0.12}, {\"county\": \"San Diego\", \"week\": \"2020-11-27T00:00:00\", \"region\": \"Southern California\", \"total_covid_patients\": 715.0, \"covid_patients_share\": 0.18}, {\"county\": \"San Diego\", \"week\": \"2020-12-04T00:00:00\", \"region\": \"Southern California\", \"total_covid_patients\": 892.0, \"covid_patients_share\": 0.21}, {\"county\": \"San Diego\", \"week\": \"2020-12-11T00:00:00\", \"region\": \"Southern California\", \"total_covid_patients\": 1098.0, \"covid_patients_share\": 0.26}, {\"county\": \"San Diego\", \"week\": \"2020-12-18T00:00:00\", \"region\": \"Southern California\", \"total_covid_patients\": 1357.0, \"covid_patients_share\": 0.32}, {\"county\": \"San Diego\", \"week\": \"2020-12-25T00:00:00\", \"region\": \"Southern California\", \"total_covid_patients\": 1516.0, \"covid_patients_share\": 0.36}, {\"county\": \"San Diego\", \"week\": \"2021-01-01T00:00:00\", \"region\": \"Southern California\", \"total_covid_patients\": 1618.0, \"covid_patients_share\": 0.38}, {\"county\": \"Santa Clara\", \"week\": \"2020-07-31T00:00:00\", \"region\": \"Bay Area\", \"total_covid_patients\": 208.0, \"covid_patients_share\": 0.09}, {\"county\": \"Santa Clara\", \"week\": \"2020-08-07T00:00:00\", \"region\": \"Bay Area\", \"total_covid_patients\": 200.0, \"covid_patients_share\": 0.09}, {\"county\": \"Santa Clara\", \"week\": \"2020-08-14T00:00:00\", \"region\": \"Bay Area\", \"total_covid_patients\": 181.0, \"covid_patients_share\": 0.08}, {\"county\": \"Santa Clara\", \"week\": \"2020-08-21T00:00:00\", \"region\": \"Bay Area\", \"total_covid_patients\": 165.0, \"covid_patients_share\": 0.07}, {\"county\": \"Santa Clara\", \"week\": \"2020-08-28T00:00:00\", \"region\": \"Bay Area\", \"total_covid_patients\": 158.0, \"covid_patients_share\": 0.07}, {\"county\": \"Santa Clara\", \"week\": \"2020-09-04T00:00:00\", \"region\": \"Bay Area\", \"total_covid_patients\": 133.0, \"covid_patients_share\": 0.06}, {\"county\": \"Santa Clara\", \"week\": \"2020-09-11T00:00:00\", \"region\": \"Bay Area\", \"total_covid_patients\": 126.0, \"covid_patients_share\": 0.06}, {\"county\": \"Santa Clara\", \"week\": \"2020-09-18T00:00:00\", \"region\": \"Bay Area\", \"total_covid_patients\": 126.0, \"covid_patients_share\": 0.06}, {\"county\": \"Santa Clara\", \"week\": \"2020-09-25T00:00:00\", \"region\": \"Bay Area\", \"total_covid_patients\": 106.0, \"covid_patients_share\": 0.05}, {\"county\": \"Santa Clara\", \"week\": \"2020-10-02T00:00:00\", \"region\": \"Bay Area\", \"total_covid_patients\": 99.0, \"covid_patients_share\": 0.05}, {\"county\": \"Santa Clara\", \"week\": \"2020-10-09T00:00:00\", \"region\": \"Bay Area\", \"total_covid_patients\": 100.0, \"covid_patients_share\": 0.05}, {\"county\": \"Santa Clara\", \"week\": \"2020-10-16T00:00:00\", \"region\": \"Bay Area\", \"total_covid_patients\": 107.0, \"covid_patients_share\": 0.05}, {\"county\": \"Santa Clara\", \"week\": \"2020-10-23T00:00:00\", \"region\": \"Bay Area\", \"total_covid_patients\": 108.0, \"covid_patients_share\": 0.05}, {\"county\": \"Santa Clara\", \"week\": \"2020-10-30T00:00:00\", \"region\": \"Bay Area\", \"total_covid_patients\": 109.0, \"covid_patients_share\": 0.05}, {\"county\": \"Santa Clara\", \"week\": \"2020-11-06T00:00:00\", \"region\": \"Bay Area\", \"total_covid_patients\": 129.0, \"covid_patients_share\": 0.06}, {\"county\": \"Santa Clara\", \"week\": \"2020-11-13T00:00:00\", \"region\": \"Bay Area\", \"total_covid_patients\": 166.0, \"covid_patients_share\": 0.07}, {\"county\": \"Santa Clara\", \"week\": \"2020-11-20T00:00:00\", \"region\": \"Bay Area\", \"total_covid_patients\": 226.0, \"covid_patients_share\": 0.1}, {\"county\": \"Santa Clara\", \"week\": \"2020-11-27T00:00:00\", \"region\": \"Bay Area\", \"total_covid_patients\": 295.0, \"covid_patients_share\": 0.13}, {\"county\": \"Santa Clara\", \"week\": \"2020-12-04T00:00:00\", \"region\": \"Bay Area\", \"total_covid_patients\": 359.0, \"covid_patients_share\": 0.16}, {\"county\": \"Santa Clara\", \"week\": \"2020-12-11T00:00:00\", \"region\": \"Bay Area\", \"total_covid_patients\": 457.0, \"covid_patients_share\": 0.21}, {\"county\": \"Santa Clara\", \"week\": \"2020-12-18T00:00:00\", \"region\": \"Bay Area\", \"total_covid_patients\": 563.0, \"covid_patients_share\": 0.26}, {\"county\": \"Santa Clara\", \"week\": \"2020-12-25T00:00:00\", \"region\": \"Bay Area\", \"total_covid_patients\": 625.0, \"covid_patients_share\": 0.28}, {\"county\": \"Santa Clara\", \"week\": \"2021-01-01T00:00:00\", \"region\": \"Bay Area\", \"total_covid_patients\": 645.0, \"covid_patients_share\": 0.28}]}}, {\"mode\": \"vega-lite\"});\n",
       "</script>"
      ],
      "text/plain": [
       "alt.Chart(...)"
      ]
     },
     "execution_count": 102,
     "metadata": {},
     "output_type": "execute_result"
    }
   ],
   "source": [
    "chart = (\n",
    "    alt.Chart(big_counties_grouped)\n",
    "    .mark_area()\n",
    "    .encode(\n",
    "        x=alt.X(\n",
    "            \"week:T\", axis=alt.Axis(grid=False, format=\"%b.\", title=\" \", tickCount=4)\n",
    "        ),\n",
    "        y=alt.Y(\n",
    "            \"covid_patients_share\",\n",
    "            title=\" \",\n",
    "            axis=alt.Axis(\n",
    "                format=\"%\",\n",
    "                title=\"\",\n",
    "                tickCount=5,\n",
    "                gridColor=\"#dddddd\",\n",
    "                offset=6,\n",
    "                tickSize=0,\n",
    "                domainOpacity=0,\n",
    "            ),\n",
    "        ),\n",
    "        facet=alt.Facet(\n",
    "            \"county\",\n",
    "            columns=5,\n",
    "            title=\" \",\n",
    "            sort=alt.EncodingSortField(\n",
    "                \"covid_patients_share\", op=\"max\", order=\"descending\"\n",
    "            ),\n",
    "        ),\n",
    "        color=alt.Color(\"region\", legend=alt.Legend(orient=\"top\", title=\" \")),\n",
    "    )\n",
    "    .properties(\n",
    "        width=200,\n",
    "        height=200,\n",
    "        title=\"Share of all hospital patients with COVID-19 in large California counties\",\n",
    "    )\n",
    ")\n",
    "\n",
    "chart.configure_view(strokeOpacity=0)"
   ]
  },
  {
   "cell_type": "markdown",
   "metadata": {},
   "source": [
    "---"
   ]
  },
  {
   "cell_type": "markdown",
   "metadata": {},
   "source": [
    "### Regions"
   ]
  },
  {
   "cell_type": "code",
   "execution_count": 103,
   "metadata": {},
   "outputs": [],
   "source": [
    "regions_timeseries = (\n",
    "    trimmed_timeseries.groupby([\"week\", \"region\"])\n",
    "    .agg({\"total_covid_patients\": \"sum\", \"all_patients\": \"sum\", \"total_beds\": \"sum\"})\n",
    "    .reset_index()\n",
    ")"
   ]
  },
  {
   "cell_type": "code",
   "execution_count": 104,
   "metadata": {},
   "outputs": [],
   "source": [
    "regions_timeseries[\"covid_patients_share\"] = round(\n",
    "    (regions_timeseries[\"total_covid_patients\"] / regions_timeseries[\"all_patients\"]), 2\n",
    ")"
   ]
  },
  {
   "cell_type": "code",
   "execution_count": 105,
   "metadata": {},
   "outputs": [
    {
     "data": {
      "text/html": [
       "<div>\n",
       "<style scoped>\n",
       "    .dataframe tbody tr th:only-of-type {\n",
       "        vertical-align: middle;\n",
       "    }\n",
       "\n",
       "    .dataframe tbody tr th {\n",
       "        vertical-align: top;\n",
       "    }\n",
       "\n",
       "    .dataframe thead th {\n",
       "        text-align: right;\n",
       "    }\n",
       "</style>\n",
       "<table border=\"1\" class=\"dataframe\">\n",
       "  <thead>\n",
       "    <tr style=\"text-align: right;\">\n",
       "      <th></th>\n",
       "      <th>week</th>\n",
       "      <th>region</th>\n",
       "      <th>total_covid_patients</th>\n",
       "      <th>all_patients</th>\n",
       "      <th>total_beds</th>\n",
       "      <th>covid_patients_share</th>\n",
       "    </tr>\n",
       "  </thead>\n",
       "  <tbody>\n",
       "    <tr>\n",
       "      <th>110</th>\n",
       "      <td>2021-01-01</td>\n",
       "      <td>Bay Area</td>\n",
       "      <td>2442.0</td>\n",
       "      <td>9117.0</td>\n",
       "      <td>12932.0</td>\n",
       "      <td>0.27</td>\n",
       "    </tr>\n",
       "    <tr>\n",
       "      <th>111</th>\n",
       "      <td>2021-01-01</td>\n",
       "      <td>Greater Sacramento</td>\n",
       "      <td>969.0</td>\n",
       "      <td>3680.0</td>\n",
       "      <td>4829.0</td>\n",
       "      <td>0.26</td>\n",
       "    </tr>\n",
       "    <tr>\n",
       "      <th>112</th>\n",
       "      <td>2021-01-01</td>\n",
       "      <td>Northern California</td>\n",
       "      <td>119.0</td>\n",
       "      <td>785.0</td>\n",
       "      <td>1269.0</td>\n",
       "      <td>0.15</td>\n",
       "    </tr>\n",
       "    <tr>\n",
       "      <th>113</th>\n",
       "      <td>2021-01-01</td>\n",
       "      <td>San Joaquin Valley</td>\n",
       "      <td>2211.0</td>\n",
       "      <td>5243.0</td>\n",
       "      <td>6461.0</td>\n",
       "      <td>0.42</td>\n",
       "    </tr>\n",
       "    <tr>\n",
       "      <th>114</th>\n",
       "      <td>2021-01-01</td>\n",
       "      <td>Southern California</td>\n",
       "      <td>16229.0</td>\n",
       "      <td>32430.0</td>\n",
       "      <td>44439.0</td>\n",
       "      <td>0.50</td>\n",
       "    </tr>\n",
       "  </tbody>\n",
       "</table>\n",
       "</div>"
      ],
      "text/plain": [
       "          week               region  total_covid_patients  all_patients  \\\n",
       "110 2021-01-01             Bay Area                2442.0        9117.0   \n",
       "111 2021-01-01   Greater Sacramento                 969.0        3680.0   \n",
       "112 2021-01-01  Northern California                 119.0         785.0   \n",
       "113 2021-01-01   San Joaquin Valley                2211.0        5243.0   \n",
       "114 2021-01-01  Southern California               16229.0       32430.0   \n",
       "\n",
       "     total_beds  covid_patients_share  \n",
       "110     12932.0                  0.27  \n",
       "111      4829.0                  0.26  \n",
       "112      1269.0                  0.15  \n",
       "113      6461.0                  0.42  \n",
       "114     44439.0                  0.50  "
      ]
     },
     "execution_count": 105,
     "metadata": {},
     "output_type": "execute_result"
    }
   ],
   "source": [
    "regions_timeseries.tail(5)"
   ]
  },
  {
   "cell_type": "code",
   "execution_count": 106,
   "metadata": {},
   "outputs": [
    {
     "data": {
      "text/plain": [
       "0.32"
      ]
     },
     "execution_count": 106,
     "metadata": {},
     "output_type": "execute_result"
    }
   ],
   "source": [
    "regions_timeseries[\n",
    "    regions_timeseries[\"week\"] == \"2021-01-01\"\n",
    "].covid_patients_share.mean()"
   ]
  },
  {
   "cell_type": "code",
   "execution_count": 107,
   "metadata": {},
   "outputs": [
    {
     "data": {
      "text/html": [
       "\n",
       "<div id=\"altair-viz-1298062e85ed41109f2c23614297743c\"></div>\n",
       "<script type=\"text/javascript\">\n",
       "  (function(spec, embedOpt){\n",
       "    let outputDiv = document.currentScript.previousElementSibling;\n",
       "    if (outputDiv.id !== \"altair-viz-1298062e85ed41109f2c23614297743c\") {\n",
       "      outputDiv = document.getElementById(\"altair-viz-1298062e85ed41109f2c23614297743c\");\n",
       "    }\n",
       "    const paths = {\n",
       "      \"vega\": \"https://cdn.jsdelivr.net/npm//vega@5?noext\",\n",
       "      \"vega-lib\": \"https://cdn.jsdelivr.net/npm//vega-lib?noext\",\n",
       "      \"vega-lite\": \"https://cdn.jsdelivr.net/npm//vega-lite@4.8.1?noext\",\n",
       "      \"vega-embed\": \"https://cdn.jsdelivr.net/npm//vega-embed@6?noext\",\n",
       "    };\n",
       "\n",
       "    function loadScript(lib) {\n",
       "      return new Promise(function(resolve, reject) {\n",
       "        var s = document.createElement('script');\n",
       "        s.src = paths[lib];\n",
       "        s.async = true;\n",
       "        s.onload = () => resolve(paths[lib]);\n",
       "        s.onerror = () => reject(`Error loading script: ${paths[lib]}`);\n",
       "        document.getElementsByTagName(\"head\")[0].appendChild(s);\n",
       "      });\n",
       "    }\n",
       "\n",
       "    function showError(err) {\n",
       "      outputDiv.innerHTML = `<div class=\"error\" style=\"color:red;\">${err}</div>`;\n",
       "      throw err;\n",
       "    }\n",
       "\n",
       "    function displayChart(vegaEmbed) {\n",
       "      vegaEmbed(outputDiv, spec, embedOpt)\n",
       "        .catch(err => showError(`Javascript Error: ${err.message}<br>This usually means there's a typo in your chart specification. See the javascript console for the full traceback.`));\n",
       "    }\n",
       "\n",
       "    if(typeof define === \"function\" && define.amd) {\n",
       "      requirejs.config({paths});\n",
       "      require([\"vega-embed\"], displayChart, err => showError(`Error loading script: ${err.message}`));\n",
       "    } else if (typeof vegaEmbed === \"function\") {\n",
       "      displayChart(vegaEmbed);\n",
       "    } else {\n",
       "      loadScript(\"vega\")\n",
       "        .then(() => loadScript(\"vega-lite\"))\n",
       "        .then(() => loadScript(\"vega-embed\"))\n",
       "        .catch(showError)\n",
       "        .then(() => displayChart(vegaEmbed));\n",
       "    }\n",
       "  })({\"config\": {\"view\": {\"width\": 800, \"height\": 450, \"strokeOpacity\": 0}, \"background\": \"#ffffff\", \"title\": {\"anchor\": \"start\", \"font\": \"Benton Gothic Bold, sans\", \"fontColor\": \"#000000\", \"fontSize\": 22, \"fontWeight\": \"normal\"}, \"arc\": {\"fill\": \"#82c6df\"}, \"area\": {\"fill\": \"#82c6df\"}, \"line\": {\"stroke\": \"#82c6df\", \"strokeWidth\": 3}, \"path\": {\"stroke\": \"#82c6df\"}, \"rect\": {\"fill\": \"#82c6df\"}, \"shape\": {\"stroke\": \"#82c6df\"}, \"bar\": {\"fill\": \"#82c6df\"}, \"point\": {\"stroke\": \"#82c6df\"}, \"symbol\": {\"fill\": \"#82c6df\", \"size\": 30}, \"axis\": {\"titleFont\": \"Benton Gothic Bold, sans\", \"titleFontSize\": 13, \"titleFontWeight\": \"normal\", \"labelFont\": \"Benton Gothic, sans\", \"labelFontSize\": 11.5, \"labelFontWeight\": \"normal\"}, \"axisX\": {\"labelAngle\": 0, \"labelPadding\": 4, \"tickSize\": 3}, \"axisY\": {\"labelBaseline\": \"middle\", \"maxExtent\": 45, \"minExtent\": 45, \"tickSize\": 2, \"titleAlign\": \"left\", \"titleAngle\": 0, \"titleX\": -45, \"titleY\": -11}, \"legend\": {\"titleFont\": \"Benton Gothic Bold, sans\", \"titleFontSize\": 13, \"titleFontWeight\": \"normal\", \"symbolType\": \"square\", \"labelFont\": \"Benton Gothic, sans\", \"labelFontSize\": 11.5}, \"range\": {\"category\": [\"#3580b1\", \"#ec8431\", \"#ab7fb4\", \"#c89d29\", \"#adc839\", \"#829eb1\"], \"diverging\": [\"#e68a4f\", \"#f4bb6a\", \"#f9e39c\", \"#dadfe2\", \"#a6b7c6\", \"#849eae\"], \"heatmap\": [\"#fbf2c7\", \"#f9e39c\", \"#f8d36e\", \"#f4bb6a\", \"#e68a4f\", \"#d15a40\", \"#ab4232\"], \"ordinal\": [\"#fbf2c7\", \"#f9e39c\", \"#f8d36e\", \"#f4bb6a\", \"#e68a4f\", \"#d15a40\", \"#ab4232\"], \"ramp\": [\"#fbf2c7\", \"#f9e39c\", \"#f8d36e\", \"#f4bb6a\", \"#e68a4f\", \"#d15a40\", \"#ab4232\"]}}, \"data\": {\"name\": \"data-ae16c3338ae5ae9f019726b3f6857151\"}, \"mark\": \"area\", \"encoding\": {\"facet\": {\"type\": \"nominal\", \"columns\": 5, \"field\": \"region\", \"sort\": {\"field\": \"covid_patients_share\", \"op\": \"max\", \"order\": \"descending\"}, \"title\": \" \"}, \"x\": {\"type\": \"temporal\", \"axis\": {\"format\": \"%b.\", \"grid\": false, \"tickCount\": 4, \"title\": \" \"}, \"field\": \"week\"}, \"y\": {\"type\": \"quantitative\", \"axis\": {\"domainOpacity\": 0, \"format\": \"%\", \"gridColor\": \"#dddddd\", \"offset\": 6, \"tickCount\": 5, \"tickSize\": 0, \"title\": \"\"}, \"field\": \"covid_patients_share\", \"title\": \" \"}}, \"height\": 200, \"title\": \"Share of all hospital patients with COVID-19 by region\", \"width\": 200, \"$schema\": \"https://vega.github.io/schema/vega-lite/v4.8.1.json\", \"datasets\": {\"data-ae16c3338ae5ae9f019726b3f6857151\": [{\"week\": \"2020-07-31T00:00:00\", \"region\": \"Bay Area\", \"total_covid_patients\": 971.0, \"all_patients\": 8403.0, \"total_beds\": 14488.0, \"covid_patients_share\": 0.12}, {\"week\": \"2020-07-31T00:00:00\", \"region\": \"Greater Sacramento\", \"total_covid_patients\": 470.0, \"all_patients\": 3320.0, \"total_beds\": 5303.0, \"covid_patients_share\": 0.14}, {\"week\": \"2020-07-31T00:00:00\", \"region\": \"Northern California\", \"total_covid_patients\": 29.0, \"all_patients\": 710.0, \"total_beds\": 1804.0, \"covid_patients_share\": 0.04}, {\"week\": \"2020-07-31T00:00:00\", \"region\": \"San Joaquin Valley\", \"total_covid_patients\": 1389.0, \"all_patients\": 4505.0, \"total_beds\": 8795.0, \"covid_patients_share\": 0.31}, {\"week\": \"2020-07-31T00:00:00\", \"region\": \"Southern California\", \"total_covid_patients\": 4691.0, \"all_patients\": 26003.0, \"total_beds\": 50338.0, \"covid_patients_share\": 0.18}, {\"week\": \"2020-08-07T00:00:00\", \"region\": \"Bay Area\", \"total_covid_patients\": 890.0, \"all_patients\": 8170.0, \"total_beds\": 14687.0, \"covid_patients_share\": 0.11}, {\"week\": \"2020-08-07T00:00:00\", \"region\": \"Greater Sacramento\", \"total_covid_patients\": 454.0, \"all_patients\": 3325.0, \"total_beds\": 4967.0, \"covid_patients_share\": 0.14}, {\"week\": \"2020-08-07T00:00:00\", \"region\": \"Northern California\", \"total_covid_patients\": 34.0, \"all_patients\": 709.0, \"total_beds\": 1759.0, \"covid_patients_share\": 0.05}, {\"week\": \"2020-08-07T00:00:00\", \"region\": \"San Joaquin Valley\", \"total_covid_patients\": 1214.0, \"all_patients\": 4459.0, \"total_beds\": 9841.0, \"covid_patients_share\": 0.27}, {\"week\": \"2020-08-07T00:00:00\", \"region\": \"Southern California\", \"total_covid_patients\": 4156.0, \"all_patients\": 25437.0, \"total_beds\": 60892.0, \"covid_patients_share\": 0.16}, {\"week\": \"2020-08-14T00:00:00\", \"region\": \"Bay Area\", \"total_covid_patients\": 926.0, \"all_patients\": 8515.0, \"total_beds\": 16427.0, \"covid_patients_share\": 0.11}, {\"week\": \"2020-08-14T00:00:00\", \"region\": \"Greater Sacramento\", \"total_covid_patients\": 448.0, \"all_patients\": 3488.0, \"total_beds\": 5137.0, \"covid_patients_share\": 0.13}, {\"week\": \"2020-08-14T00:00:00\", \"region\": \"Northern California\", \"total_covid_patients\": 25.0, \"all_patients\": 707.0, \"total_beds\": 1991.0, \"covid_patients_share\": 0.04}, {\"week\": \"2020-08-14T00:00:00\", \"region\": \"San Joaquin Valley\", \"total_covid_patients\": 1072.0, \"all_patients\": 4643.0, \"total_beds\": 10085.0, \"covid_patients_share\": 0.23}, {\"week\": \"2020-08-14T00:00:00\", \"region\": \"Southern California\", \"total_covid_patients\": 3869.0, \"all_patients\": 25775.0, \"total_beds\": 55229.0, \"covid_patients_share\": 0.15}, {\"week\": \"2020-08-21T00:00:00\", \"region\": \"Bay Area\", \"total_covid_patients\": 853.0, \"all_patients\": 8432.0, \"total_beds\": 15141.0, \"covid_patients_share\": 0.1}, {\"week\": \"2020-08-21T00:00:00\", \"region\": \"Greater Sacramento\", \"total_covid_patients\": 381.0, \"all_patients\": 3390.0, \"total_beds\": 5283.0, \"covid_patients_share\": 0.11}, {\"week\": \"2020-08-21T00:00:00\", \"region\": \"Northern California\", \"total_covid_patients\": 17.0, \"all_patients\": 694.0, \"total_beds\": 1628.0, \"covid_patients_share\": 0.02}, {\"week\": \"2020-08-21T00:00:00\", \"region\": \"San Joaquin Valley\", \"total_covid_patients\": 956.0, \"all_patients\": 4600.0, \"total_beds\": 7867.0, \"covid_patients_share\": 0.21}, {\"week\": \"2020-08-21T00:00:00\", \"region\": \"Southern California\", \"total_covid_patients\": 3440.0, \"all_patients\": 25846.0, \"total_beds\": 51672.0, \"covid_patients_share\": 0.13}, {\"week\": \"2020-08-28T00:00:00\", \"region\": \"Bay Area\", \"total_covid_patients\": 752.0, \"all_patients\": 8252.0, \"total_beds\": 15087.0, \"covid_patients_share\": 0.09}, {\"week\": \"2020-08-28T00:00:00\", \"region\": \"Greater Sacramento\", \"total_covid_patients\": 347.0, \"all_patients\": 3364.0, \"total_beds\": 5404.0, \"covid_patients_share\": 0.1}, {\"week\": \"2020-08-28T00:00:00\", \"region\": \"Northern California\", \"total_covid_patients\": 12.0, \"all_patients\": 714.0, \"total_beds\": 1571.0, \"covid_patients_share\": 0.02}, {\"week\": \"2020-08-28T00:00:00\", \"region\": \"San Joaquin Valley\", \"total_covid_patients\": 772.0, \"all_patients\": 4569.0, \"total_beds\": 7945.0, \"covid_patients_share\": 0.17}, {\"week\": \"2020-08-28T00:00:00\", \"region\": \"Southern California\", \"total_covid_patients\": 2914.0, \"all_patients\": 25375.0, \"total_beds\": 56040.0, \"covid_patients_share\": 0.11}, {\"week\": \"2020-09-04T00:00:00\", \"region\": \"Bay Area\", \"total_covid_patients\": 691.0, \"all_patients\": 8274.0, \"total_beds\": 15312.0, \"covid_patients_share\": 0.08}, {\"week\": \"2020-09-04T00:00:00\", \"region\": \"Greater Sacramento\", \"total_covid_patients\": 308.0, \"all_patients\": 3262.0, \"total_beds\": 5256.0, \"covid_patients_share\": 0.09}, {\"week\": \"2020-09-04T00:00:00\", \"region\": \"Northern California\", \"total_covid_patients\": 12.0, \"all_patients\": 728.0, \"total_beds\": 1660.0, \"covid_patients_share\": 0.02}, {\"week\": \"2020-09-04T00:00:00\", \"region\": \"San Joaquin Valley\", \"total_covid_patients\": 672.0, \"all_patients\": 4432.0, \"total_beds\": 8030.0, \"covid_patients_share\": 0.15}, {\"week\": \"2020-09-04T00:00:00\", \"region\": \"Southern California\", \"total_covid_patients\": 2543.0, \"all_patients\": 25148.0, \"total_beds\": 47261.0, \"covid_patients_share\": 0.1}, {\"week\": \"2020-09-11T00:00:00\", \"region\": \"Bay Area\", \"total_covid_patients\": 646.0, \"all_patients\": 8383.0, \"total_beds\": 15337.0, \"covid_patients_share\": 0.08}, {\"week\": \"2020-09-11T00:00:00\", \"region\": \"Greater Sacramento\", \"total_covid_patients\": 251.0, \"all_patients\": 3367.0, \"total_beds\": 5241.0, \"covid_patients_share\": 0.07}, {\"week\": \"2020-09-11T00:00:00\", \"region\": \"Northern California\", \"total_covid_patients\": 14.0, \"all_patients\": 713.0, \"total_beds\": 1600.0, \"covid_patients_share\": 0.02}, {\"week\": \"2020-09-11T00:00:00\", \"region\": \"San Joaquin Valley\", \"total_covid_patients\": 531.0, \"all_patients\": 4326.0, \"total_beds\": 7840.0, \"covid_patients_share\": 0.12}, {\"week\": \"2020-09-11T00:00:00\", \"region\": \"Southern California\", \"total_covid_patients\": 2216.0, \"all_patients\": 25253.0, \"total_beds\": 47547.0, \"covid_patients_share\": 0.09}, {\"week\": \"2020-09-18T00:00:00\", \"region\": \"Bay Area\", \"total_covid_patients\": 573.0, \"all_patients\": 8385.0, \"total_beds\": 15045.0, \"covid_patients_share\": 0.07}, {\"week\": \"2020-09-18T00:00:00\", \"region\": \"Greater Sacramento\", \"total_covid_patients\": 260.0, \"all_patients\": 3397.0, \"total_beds\": 5237.0, \"covid_patients_share\": 0.08}, {\"week\": \"2020-09-18T00:00:00\", \"region\": \"Northern California\", \"total_covid_patients\": 21.0, \"all_patients\": 742.0, \"total_beds\": 1659.0, \"covid_patients_share\": 0.03}, {\"week\": \"2020-09-18T00:00:00\", \"region\": \"San Joaquin Valley\", \"total_covid_patients\": 460.0, \"all_patients\": 4393.0, \"total_beds\": 8022.0, \"covid_patients_share\": 0.1}, {\"week\": \"2020-09-18T00:00:00\", \"region\": \"Southern California\", \"total_covid_patients\": 2123.0, \"all_patients\": 25272.0, \"total_beds\": 47739.0, \"covid_patients_share\": 0.08}, {\"week\": \"2020-09-25T00:00:00\", \"region\": \"Bay Area\", \"total_covid_patients\": 512.0, \"all_patients\": 8311.0, \"total_beds\": 15475.0, \"covid_patients_share\": 0.06}, {\"week\": \"2020-09-25T00:00:00\", \"region\": \"Greater Sacramento\", \"total_covid_patients\": 233.0, \"all_patients\": 3456.0, \"total_beds\": 5328.0, \"covid_patients_share\": 0.07}, {\"week\": \"2020-09-25T00:00:00\", \"region\": \"Northern California\", \"total_covid_patients\": 29.0, \"all_patients\": 755.0, \"total_beds\": 1661.0, \"covid_patients_share\": 0.04}, {\"week\": \"2020-09-25T00:00:00\", \"region\": \"San Joaquin Valley\", \"total_covid_patients\": 400.0, \"all_patients\": 4375.0, \"total_beds\": 8122.0, \"covid_patients_share\": 0.09}, {\"week\": \"2020-09-25T00:00:00\", \"region\": \"Southern California\", \"total_covid_patients\": 2021.0, \"all_patients\": 25313.0, \"total_beds\": 47895.0, \"covid_patients_share\": 0.08}, {\"week\": \"2020-10-02T00:00:00\", \"region\": \"Bay Area\", \"total_covid_patients\": 484.0, \"all_patients\": 8315.0, \"total_beds\": 15092.0, \"covid_patients_share\": 0.06}, {\"week\": \"2020-10-02T00:00:00\", \"region\": \"Greater Sacramento\", \"total_covid_patients\": 193.0, \"all_patients\": 3426.0, \"total_beds\": 5236.0, \"covid_patients_share\": 0.06}, {\"week\": \"2020-10-02T00:00:00\", \"region\": \"Northern California\", \"total_covid_patients\": 23.0, \"all_patients\": 704.0, \"total_beds\": 1601.0, \"covid_patients_share\": 0.03}, {\"week\": \"2020-10-02T00:00:00\", \"region\": \"San Joaquin Valley\", \"total_covid_patients\": 388.0, \"all_patients\": 4308.0, \"total_beds\": 7997.0, \"covid_patients_share\": 0.09}, {\"week\": \"2020-10-02T00:00:00\", \"region\": \"Southern California\", \"total_covid_patients\": 2073.0, \"all_patients\": 25749.0, \"total_beds\": 47835.0, \"covid_patients_share\": 0.08}, {\"week\": \"2020-10-09T00:00:00\", \"region\": \"Bay Area\", \"total_covid_patients\": 454.0, \"all_patients\": 8441.0, \"total_beds\": 15400.0, \"covid_patients_share\": 0.05}, {\"week\": \"2020-10-09T00:00:00\", \"region\": \"Greater Sacramento\", \"total_covid_patients\": 182.0, \"all_patients\": 3388.0, \"total_beds\": 5341.0, \"covid_patients_share\": 0.05}, {\"week\": \"2020-10-09T00:00:00\", \"region\": \"Northern California\", \"total_covid_patients\": 18.0, \"all_patients\": 729.0, \"total_beds\": 1659.0, \"covid_patients_share\": 0.02}, {\"week\": \"2020-10-09T00:00:00\", \"region\": \"San Joaquin Valley\", \"total_covid_patients\": 352.0, \"all_patients\": 4316.0, \"total_beds\": 7953.0, \"covid_patients_share\": 0.08}, {\"week\": \"2020-10-09T00:00:00\", \"region\": \"Southern California\", \"total_covid_patients\": 2065.0, \"all_patients\": 25753.0, \"total_beds\": 47962.0, \"covid_patients_share\": 0.08}, {\"week\": \"2020-10-16T00:00:00\", \"region\": \"Bay Area\", \"total_covid_patients\": 410.0, \"all_patients\": 8300.0, \"total_beds\": 15312.0, \"covid_patients_share\": 0.05}, {\"week\": \"2020-10-16T00:00:00\", \"region\": \"Greater Sacramento\", \"total_covid_patients\": 170.0, \"all_patients\": 3381.0, \"total_beds\": 5322.0, \"covid_patients_share\": 0.05}, {\"week\": \"2020-10-16T00:00:00\", \"region\": \"Northern California\", \"total_covid_patients\": 22.0, \"all_patients\": 721.0, \"total_beds\": 1652.0, \"covid_patients_share\": 0.03}, {\"week\": \"2020-10-16T00:00:00\", \"region\": \"San Joaquin Valley\", \"total_covid_patients\": 358.0, \"all_patients\": 4318.0, \"total_beds\": 7975.0, \"covid_patients_share\": 0.08}, {\"week\": \"2020-10-16T00:00:00\", \"region\": \"Southern California\", \"total_covid_patients\": 2070.0, \"all_patients\": 26016.0, \"total_beds\": 47339.0, \"covid_patients_share\": 0.08}, {\"week\": \"2020-10-23T00:00:00\", \"region\": \"Bay Area\", \"total_covid_patients\": 413.0, \"all_patients\": 8411.0, \"total_beds\": 15300.0, \"covid_patients_share\": 0.05}, {\"week\": \"2020-10-23T00:00:00\", \"region\": \"Greater Sacramento\", \"total_covid_patients\": 171.0, \"all_patients\": 3342.0, \"total_beds\": 5302.0, \"covid_patients_share\": 0.05}, {\"week\": \"2020-10-23T00:00:00\", \"region\": \"Northern California\", \"total_covid_patients\": 29.0, \"all_patients\": 706.0, \"total_beds\": 1670.0, \"covid_patients_share\": 0.04}, {\"week\": \"2020-10-23T00:00:00\", \"region\": \"San Joaquin Valley\", \"total_covid_patients\": 348.0, \"all_patients\": 4309.0, \"total_beds\": 8153.0, \"covid_patients_share\": 0.08}, {\"week\": \"2020-10-23T00:00:00\", \"region\": \"Southern California\", \"total_covid_patients\": 1974.0, \"all_patients\": 25945.0, \"total_beds\": 47577.0, \"covid_patients_share\": 0.08}, {\"week\": \"2020-10-30T00:00:00\", \"region\": \"Bay Area\", \"total_covid_patients\": 456.0, \"all_patients\": 8366.0, \"total_beds\": 12870.0, \"covid_patients_share\": 0.05}, {\"week\": \"2020-10-30T00:00:00\", \"region\": \"Greater Sacramento\", \"total_covid_patients\": 190.0, \"all_patients\": 3386.0, \"total_beds\": 4523.0, \"covid_patients_share\": 0.06}, {\"week\": \"2020-10-30T00:00:00\", \"region\": \"Northern California\", \"total_covid_patients\": 24.0, \"all_patients\": 731.0, \"total_beds\": 1385.0, \"covid_patients_share\": 0.03}, {\"week\": \"2020-10-30T00:00:00\", \"region\": \"San Joaquin Valley\", \"total_covid_patients\": 376.0, \"all_patients\": 4469.0, \"total_beds\": 6896.0, \"covid_patients_share\": 0.08}, {\"week\": \"2020-10-30T00:00:00\", \"region\": \"Southern California\", \"total_covid_patients\": 2254.0, \"all_patients\": 26336.0, \"total_beds\": 42838.0, \"covid_patients_share\": 0.09}, {\"week\": \"2020-11-06T00:00:00\", \"region\": \"Bay Area\", \"total_covid_patients\": 503.0, \"all_patients\": 8638.0, \"total_beds\": 13007.0, \"covid_patients_share\": 0.06}, {\"week\": \"2020-11-06T00:00:00\", \"region\": \"Greater Sacramento\", \"total_covid_patients\": 257.0, \"all_patients\": 3489.0, \"total_beds\": 4643.0, \"covid_patients_share\": 0.07}, {\"week\": \"2020-11-06T00:00:00\", \"region\": \"Northern California\", \"total_covid_patients\": 45.0, \"all_patients\": 744.0, \"total_beds\": 1421.0, \"covid_patients_share\": 0.06}, {\"week\": \"2020-11-06T00:00:00\", \"region\": \"San Joaquin Valley\", \"total_covid_patients\": 433.0, \"all_patients\": 4572.0, \"total_beds\": 6942.0, \"covid_patients_share\": 0.09}, {\"week\": \"2020-11-06T00:00:00\", \"region\": \"Southern California\", \"total_covid_patients\": 2541.0, \"all_patients\": 26715.0, \"total_beds\": 43167.0, \"covid_patients_share\": 0.1}, {\"week\": \"2020-11-13T00:00:00\", \"region\": \"Bay Area\", \"total_covid_patients\": 595.0, \"all_patients\": 8800.0, \"total_beds\": 13126.0, \"covid_patients_share\": 0.07}, {\"week\": \"2020-11-13T00:00:00\", \"region\": \"Greater Sacramento\", \"total_covid_patients\": 376.0, \"all_patients\": 3556.0, \"total_beds\": 4634.0, \"covid_patients_share\": 0.11}, {\"week\": \"2020-11-13T00:00:00\", \"region\": \"Northern California\", \"total_covid_patients\": 55.0, \"all_patients\": 736.0, \"total_beds\": 1375.0, \"covid_patients_share\": 0.07}, {\"week\": \"2020-11-13T00:00:00\", \"region\": \"San Joaquin Valley\", \"total_covid_patients\": 607.0, \"all_patients\": 4582.0, \"total_beds\": 6893.0, \"covid_patients_share\": 0.13}, {\"week\": \"2020-11-13T00:00:00\", \"region\": \"Southern California\", \"total_covid_patients\": 3205.0, \"all_patients\": 27157.0, \"total_beds\": 43197.0, \"covid_patients_share\": 0.12}, {\"week\": \"2020-11-20T00:00:00\", \"region\": \"Bay Area\", \"total_covid_patients\": 792.0, \"all_patients\": 8648.0, \"total_beds\": 13182.0, \"covid_patients_share\": 0.09}, {\"week\": \"2020-11-20T00:00:00\", \"region\": \"Greater Sacramento\", \"total_covid_patients\": 507.0, \"all_patients\": 3532.0, \"total_beds\": 4613.0, \"covid_patients_share\": 0.14}, {\"week\": \"2020-11-20T00:00:00\", \"region\": \"Northern California\", \"total_covid_patients\": 88.0, \"all_patients\": 731.0, \"total_beds\": 1373.0, \"covid_patients_share\": 0.12}, {\"week\": \"2020-11-20T00:00:00\", \"region\": \"San Joaquin Valley\", \"total_covid_patients\": 853.0, \"all_patients\": 4556.0, \"total_beds\": 6921.0, \"covid_patients_share\": 0.19}, {\"week\": \"2020-11-20T00:00:00\", \"region\": \"Southern California\", \"total_covid_patients\": 4305.0, \"all_patients\": 27270.0, \"total_beds\": 43035.0, \"covid_patients_share\": 0.16}, {\"week\": \"2020-11-27T00:00:00\", \"region\": \"Bay Area\", \"total_covid_patients\": 1062.0, \"all_patients\": 8441.0, \"total_beds\": 12913.0, \"covid_patients_share\": 0.13}, {\"week\": \"2020-11-27T00:00:00\", \"region\": \"Greater Sacramento\", \"total_covid_patients\": 650.0, \"all_patients\": 3524.0, \"total_beds\": 4628.0, \"covid_patients_share\": 0.18}, {\"week\": \"2020-11-27T00:00:00\", \"region\": \"Northern California\", \"total_covid_patients\": 107.0, \"all_patients\": 772.0, \"total_beds\": 1424.0, \"covid_patients_share\": 0.14}, {\"week\": \"2020-11-27T00:00:00\", \"region\": \"San Joaquin Valley\", \"total_covid_patients\": 1120.0, \"all_patients\": 4681.0, \"total_beds\": 6952.0, \"covid_patients_share\": 0.24}, {\"week\": \"2020-11-27T00:00:00\", \"region\": \"Southern California\", \"total_covid_patients\": 5934.0, \"all_patients\": 27614.0, \"total_beds\": 43102.0, \"covid_patients_share\": 0.21}, {\"week\": \"2020-12-04T00:00:00\", \"region\": \"Bay Area\", \"total_covid_patients\": 1333.0, \"all_patients\": 8910.0, \"total_beds\": 12896.0, \"covid_patients_share\": 0.15}, {\"week\": \"2020-12-04T00:00:00\", \"region\": \"Greater Sacramento\", \"total_covid_patients\": 767.0, \"all_patients\": 3580.0, \"total_beds\": 4620.0, \"covid_patients_share\": 0.21}, {\"week\": \"2020-12-04T00:00:00\", \"region\": \"Northern California\", \"total_covid_patients\": 99.0, \"all_patients\": 747.0, \"total_beds\": 1313.0, \"covid_patients_share\": 0.13}, {\"week\": \"2020-12-04T00:00:00\", \"region\": \"San Joaquin Valley\", \"total_covid_patients\": 1440.0, \"all_patients\": 5096.0, \"total_beds\": 6638.0, \"covid_patients_share\": 0.28}, {\"week\": \"2020-12-04T00:00:00\", \"region\": \"Southern California\", \"total_covid_patients\": 7813.0, \"all_patients\": 29331.0, \"total_beds\": 43319.0, \"covid_patients_share\": 0.27}, {\"week\": \"2020-12-11T00:00:00\", \"region\": \"Bay Area\", \"total_covid_patients\": 1710.0, \"all_patients\": 8927.0, \"total_beds\": 12807.0, \"covid_patients_share\": 0.19}, {\"week\": \"2020-12-11T00:00:00\", \"region\": \"Greater Sacramento\", \"total_covid_patients\": 906.0, \"all_patients\": 3585.0, \"total_beds\": 4663.0, \"covid_patients_share\": 0.25}, {\"week\": \"2020-12-11T00:00:00\", \"region\": \"Northern California\", \"total_covid_patients\": 121.0, \"all_patients\": 766.0, \"total_beds\": 1257.0, \"covid_patients_share\": 0.16}, {\"week\": \"2020-12-11T00:00:00\", \"region\": \"San Joaquin Valley\", \"total_covid_patients\": 1817.0, \"all_patients\": 5123.0, \"total_beds\": 6516.0, \"covid_patients_share\": 0.35}, {\"week\": \"2020-12-11T00:00:00\", \"region\": \"Southern California\", \"total_covid_patients\": 10540.0, \"all_patients\": 30204.0, \"total_beds\": 43588.0, \"covid_patients_share\": 0.35}, {\"week\": \"2020-12-18T00:00:00\", \"region\": \"Bay Area\", \"total_covid_patients\": 2036.0, \"all_patients\": 8938.0, \"total_beds\": 12892.0, \"covid_patients_share\": 0.23}, {\"week\": \"2020-12-18T00:00:00\", \"region\": \"Greater Sacramento\", \"total_covid_patients\": 987.0, \"all_patients\": 3618.0, \"total_beds\": 4723.0, \"covid_patients_share\": 0.27}, {\"week\": \"2020-12-18T00:00:00\", \"region\": \"Northern California\", \"total_covid_patients\": 121.0, \"all_patients\": 771.0, \"total_beds\": 1318.0, \"covid_patients_share\": 0.16}, {\"week\": \"2020-12-18T00:00:00\", \"region\": \"San Joaquin Valley\", \"total_covid_patients\": 2074.0, \"all_patients\": 5146.0, \"total_beds\": 6613.0, \"covid_patients_share\": 0.4}, {\"week\": \"2020-12-18T00:00:00\", \"region\": \"Southern California\", \"total_covid_patients\": 13339.0, \"all_patients\": 31070.0, \"total_beds\": 43739.0, \"covid_patients_share\": 0.43}, {\"week\": \"2020-12-25T00:00:00\", \"region\": \"Bay Area\", \"total_covid_patients\": 2260.0, \"all_patients\": 8811.0, \"total_beds\": 12913.0, \"covid_patients_share\": 0.26}, {\"week\": \"2020-12-25T00:00:00\", \"region\": \"Greater Sacramento\", \"total_covid_patients\": 963.0, \"all_patients\": 3559.0, \"total_beds\": 4775.0, \"covid_patients_share\": 0.27}, {\"week\": \"2020-12-25T00:00:00\", \"region\": \"Northern California\", \"total_covid_patients\": 123.0, \"all_patients\": 747.0, \"total_beds\": 1292.0, \"covid_patients_share\": 0.16}, {\"week\": \"2020-12-25T00:00:00\", \"region\": \"San Joaquin Valley\", \"total_covid_patients\": 2151.0, \"all_patients\": 5129.0, \"total_beds\": 6508.0, \"covid_patients_share\": 0.42}, {\"week\": \"2020-12-25T00:00:00\", \"region\": \"Southern California\", \"total_covid_patients\": 15143.0, \"all_patients\": 31442.0, \"total_beds\": 43949.0, \"covid_patients_share\": 0.48}, {\"week\": \"2021-01-01T00:00:00\", \"region\": \"Bay Area\", \"total_covid_patients\": 2442.0, \"all_patients\": 9117.0, \"total_beds\": 12932.0, \"covid_patients_share\": 0.27}, {\"week\": \"2021-01-01T00:00:00\", \"region\": \"Greater Sacramento\", \"total_covid_patients\": 969.0, \"all_patients\": 3680.0, \"total_beds\": 4829.0, \"covid_patients_share\": 0.26}, {\"week\": \"2021-01-01T00:00:00\", \"region\": \"Northern California\", \"total_covid_patients\": 119.0, \"all_patients\": 785.0, \"total_beds\": 1269.0, \"covid_patients_share\": 0.15}, {\"week\": \"2021-01-01T00:00:00\", \"region\": \"San Joaquin Valley\", \"total_covid_patients\": 2211.0, \"all_patients\": 5243.0, \"total_beds\": 6461.0, \"covid_patients_share\": 0.42}, {\"week\": \"2021-01-01T00:00:00\", \"region\": \"Southern California\", \"total_covid_patients\": 16229.0, \"all_patients\": 32430.0, \"total_beds\": 44439.0, \"covid_patients_share\": 0.5}]}}, {\"mode\": \"vega-lite\"});\n",
       "</script>"
      ],
      "text/plain": [
       "alt.Chart(...)"
      ]
     },
     "execution_count": 107,
     "metadata": {},
     "output_type": "execute_result"
    }
   ],
   "source": [
    "chart = (\n",
    "    alt.Chart(regions_timeseries)\n",
    "    .mark_area()\n",
    "    .encode(\n",
    "        x=alt.X(\n",
    "            \"week:T\", axis=alt.Axis(grid=False, format=\"%b.\", title=\" \", tickCount=4)\n",
    "        ),\n",
    "        y=alt.Y(\n",
    "            \"covid_patients_share\",\n",
    "            title=\" \",\n",
    "            axis=alt.Axis(\n",
    "                format=\"%\",\n",
    "                title=\"\",\n",
    "                tickCount=5,\n",
    "                gridColor=\"#dddddd\",\n",
    "                offset=6,\n",
    "                tickSize=0,\n",
    "                domainOpacity=0,\n",
    "            ),\n",
    "        ),\n",
    "        facet=alt.Facet(\n",
    "            \"region\",\n",
    "            columns=5,\n",
    "            title=\" \",\n",
    "            sort=alt.EncodingSortField(\n",
    "                \"covid_patients_share\", op=\"max\", order=\"descending\"\n",
    "            ),\n",
    "        ),\n",
    "        #     color=alt.Color('region', legend=alt.Legend(orient=\"top\", title=' '))\n",
    "    )\n",
    "    .properties(\n",
    "        width=200,\n",
    "        height=200,\n",
    "        title=\"Share of all hospital patients with COVID-19 by region\",\n",
    "    )\n",
    ")\n",
    "\n",
    "chart.configure_view(strokeOpacity=0)"
   ]
  },
  {
   "cell_type": "markdown",
   "metadata": {},
   "source": [
    "---"
   ]
  },
  {
   "cell_type": "markdown",
   "metadata": {},
   "source": [
    "### Hospital overcapacity"
   ]
  },
  {
   "cell_type": "code",
   "execution_count": 108,
   "metadata": {},
   "outputs": [],
   "source": [
    "before = pd.read_csv(\"input/hospital_utilization.csv\", dtype={\"fac_no\": str})"
   ]
  },
  {
   "cell_type": "code",
   "execution_count": 109,
   "metadata": {},
   "outputs": [
    {
     "data": {
      "text/html": [
       "<div>\n",
       "<style scoped>\n",
       "    .dataframe tbody tr th:only-of-type {\n",
       "        vertical-align: middle;\n",
       "    }\n",
       "\n",
       "    .dataframe tbody tr th {\n",
       "        vertical-align: top;\n",
       "    }\n",
       "\n",
       "    .dataframe thead th {\n",
       "        text-align: right;\n",
       "    }\n",
       "</style>\n",
       "<table border=\"1\" class=\"dataframe\">\n",
       "  <thead>\n",
       "    <tr style=\"text-align: right;\">\n",
       "      <th></th>\n",
       "      <th>fac_no</th>\n",
       "      <th>fac_name</th>\n",
       "      <th>fac_city</th>\n",
       "      <th>county</th>\n",
       "      <th>license_no</th>\n",
       "      <th>fac_zip</th>\n",
       "      <th>icu_beds</th>\n",
       "      <th>tot_lic_beds</th>\n",
       "    </tr>\n",
       "  </thead>\n",
       "  <tbody>\n",
       "    <tr>\n",
       "      <th>185</th>\n",
       "      <td>106191230</td>\n",
       "      <td>MARTIN LUTHER KING, JR. COMMUNITY HOSPITAL</td>\n",
       "      <td>LOS ANGELES</td>\n",
       "      <td>Los Angeles</td>\n",
       "      <td>060000132</td>\n",
       "      <td>90059</td>\n",
       "      <td>20</td>\n",
       "      <td>131</td>\n",
       "    </tr>\n",
       "  </tbody>\n",
       "</table>\n",
       "</div>"
      ],
      "text/plain": [
       "        fac_no                                    fac_name     fac_city  \\\n",
       "185  106191230  MARTIN LUTHER KING, JR. COMMUNITY HOSPITAL  LOS ANGELES   \n",
       "\n",
       "          county license_no fac_zip  icu_beds  tot_lic_beds  \n",
       "185  Los Angeles  060000132   90059        20           131  "
      ]
     },
     "execution_count": 109,
     "metadata": {},
     "output_type": "execute_result"
    }
   ],
   "source": [
    "before[before[\"fac_name\"].str.contains(\"KING\")]"
   ]
  },
  {
   "cell_type": "code",
   "execution_count": 110,
   "metadata": {},
   "outputs": [
    {
     "data": {
      "text/html": [
       "<div>\n",
       "<style scoped>\n",
       "    .dataframe tbody tr th:only-of-type {\n",
       "        vertical-align: middle;\n",
       "    }\n",
       "\n",
       "    .dataframe tbody tr th {\n",
       "        vertical-align: top;\n",
       "    }\n",
       "\n",
       "    .dataframe thead th {\n",
       "        text-align: right;\n",
       "    }\n",
       "</style>\n",
       "<table border=\"1\" class=\"dataframe\">\n",
       "  <thead>\n",
       "    <tr style=\"text-align: right;\">\n",
       "      <th></th>\n",
       "      <th>hospital</th>\n",
       "      <th>hospital_subtype</th>\n",
       "      <th>ccn</th>\n",
       "      <th>week</th>\n",
       "      <th>county</th>\n",
       "      <th>fips</th>\n",
       "      <th>total_beds</th>\n",
       "      <th>total_staffed_adult_icu_beds</th>\n",
       "      <th>total_covid_icu_patients</th>\n",
       "      <th>total_available_adult_icu_beds</th>\n",
       "      <th>pct_occupied_adult_icu_beds</th>\n",
       "      <th>total_covid_patients</th>\n",
       "      <th>all_patients</th>\n",
       "      <th>covid_patients_share</th>\n",
       "      <th>region</th>\n",
       "    </tr>\n",
       "  </thead>\n",
       "  <tbody>\n",
       "    <tr>\n",
       "      <th>89</th>\n",
       "      <td>Martin Luther King, Jr. Community Hospital</td>\n",
       "      <td>Short Term</td>\n",
       "      <td>050779</td>\n",
       "      <td>2021-01-01</td>\n",
       "      <td>Los Angeles</td>\n",
       "      <td>037</td>\n",
       "      <td>233.0</td>\n",
       "      <td>28.0</td>\n",
       "      <td>14.0</td>\n",
       "      <td>1.0</td>\n",
       "      <td>0.96</td>\n",
       "      <td>156.0</td>\n",
       "      <td>209.0</td>\n",
       "      <td>0.75</td>\n",
       "      <td>Southern California</td>\n",
       "    </tr>\n",
       "  </tbody>\n",
       "</table>\n",
       "</div>"
      ],
      "text/plain": [
       "                                      hospital hospital_subtype     ccn  \\\n",
       "89  Martin Luther King, Jr. Community Hospital       Short Term  050779   \n",
       "\n",
       "         week       county fips  total_beds  total_staffed_adult_icu_beds  \\\n",
       "89 2021-01-01  Los Angeles  037       233.0                          28.0   \n",
       "\n",
       "    total_covid_icu_patients  total_available_adult_icu_beds  \\\n",
       "89                      14.0                             1.0   \n",
       "\n",
       "    pct_occupied_adult_icu_beds  total_covid_patients  all_patients  \\\n",
       "89                         0.96                 156.0         209.0   \n",
       "\n",
       "    covid_patients_share               region  \n",
       "89                  0.75  Southern California  "
      ]
     },
     "execution_count": 110,
     "metadata": {},
     "output_type": "execute_result"
    }
   ],
   "source": [
    "current_ca[current_ca[\"ccn\"] == \"050779\"]"
   ]
  },
  {
   "cell_type": "code",
   "execution_count": 111,
   "metadata": {},
   "outputs": [],
   "source": [
    "before[[\"fac_name\"]].sort_values(\"fac_name\", ascending=False).to_csv(\n",
    "    \"output/before_names.csv\", index=False\n",
    ")"
   ]
  },
  {
   "cell_type": "code",
   "execution_count": 112,
   "metadata": {},
   "outputs": [],
   "source": [
    "current_ca[[\"hospital\"]].sort_values(\"hospital\", ascending=False).to_csv(\n",
    "    \"output/current_names.csv\", index=False\n",
    ")"
   ]
  }
 ],
 "metadata": {
  "kernelspec": {
   "display_name": "Python 3",
   "language": "python",
   "name": "python3"
  },
  "language_info": {
   "codemirror_mode": {
    "name": "ipython",
    "version": 3
   },
   "file_extension": ".py",
   "mimetype": "text/x-python",
   "name": "python",
   "nbconvert_exporter": "python",
   "pygments_lexer": "ipython3",
   "version": "3.7.4"
  }
 },
 "nbformat": 4,
 "nbformat_minor": 4
}
