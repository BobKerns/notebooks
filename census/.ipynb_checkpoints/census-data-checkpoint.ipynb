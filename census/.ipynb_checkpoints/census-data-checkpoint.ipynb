{
 "cells": [
  {
   "cell_type": "markdown",
   "metadata": {},
   "source": [
    "# Processing U.S. Census data"
   ]
  },
  {
   "cell_type": "code",
   "execution_count": 18,
   "metadata": {},
   "outputs": [],
   "source": [
    "%load_ext lab_black"
   ]
  },
  {
   "cell_type": "code",
   "execution_count": 19,
   "metadata": {},
   "outputs": [],
   "source": [
    "import pandas as pd\n",
    "import pyarrow\n",
    "import geopandas as gpd\n",
    "import geojson\n",
    "import matplotlib\n",
    "import matplotlib.pyplot as plt\n",
    "import geojson\n",
    "import json\n",
    "import jenkspy\n",
    "import numpy as np\n",
    "from earthpy import clip as cl\n",
    "from altair import datum\n",
    "import altair as alt\n",
    "import altair_latimes as lat\n",
    "\n",
    "alt.themes.register(\"latimes\", lat.theme)\n",
    "alt.themes.enable(\"latimes\")\n",
    "pd.options.display.max_columns = 200\n",
    "pd.options.display.max_rows = 1000"
   ]
  },
  {
   "cell_type": "markdown",
   "metadata": {},
   "source": [
    "### Import DataDesk tool"
   ]
  },
  {
   "cell_type": "code",
   "execution_count": 20,
   "metadata": {},
   "outputs": [],
   "source": [
    "# !censusdatadownloader age tracts"
   ]
  },
  {
   "cell_type": "code",
   "execution_count": 25,
   "metadata": {},
   "outputs": [],
   "source": [
    "src = pd.read_csv(\"../census/processed/acs5_2018_age_tracts.csv\", low_memory=\"False\")"
   ]
  },
  {
   "cell_type": "code",
   "execution_count": 40,
   "metadata": {},
   "outputs": [],
   "source": [
    "df = src[src[\"name\"].str.contains(\"Los Angeles County, California\")][\n",
    "    [\n",
    "        \"geoid\",\n",
    "        \"name\",\n",
    "        \"total_under_5\",\n",
    "        \"total_5_to_9\",\n",
    "        \"total_10_to_14\",\n",
    "        \"total_15_to_17\",\n",
    "        \"total_18_to_19\",\n",
    "        \"total_20\",\n",
    "        \"total_21\",\n",
    "        \"total_22_to_24\",\n",
    "        \"total_25_to_29\",\n",
    "        \"total_30_to_34\",\n",
    "        \"total_35_to_39\",\n",
    "        \"total_40_to_44\",\n",
    "        \"total_45_to_49\",\n",
    "        \"total_50_to_54\",\n",
    "        \"total_55_to_59\",\n",
    "        \"total_60_to_61\",\n",
    "        \"total_62_to_64\",\n",
    "        \"total_65_to_66\",\n",
    "        \"total_67_to_69\",\n",
    "        \"total_70_to_74\",\n",
    "        \"total_75_to_79\",\n",
    "        \"total_80_to_84\",\n",
    "        \"total_85_and_over\",\n",
    "    ]\n",
    "]"
   ]
  },
  {
   "cell_type": "code",
   "execution_count": null,
   "metadata": {},
   "outputs": [],
   "source": [
    "df.head()"
   ]
  },
  {
   "cell_type": "code",
   "execution_count": 42,
   "metadata": {},
   "outputs": [],
   "source": [
    "df.to_csv(\"../coronavirus/input/tracts_age_cohorts.csv\", index=False)"
   ]
  },
  {
   "cell_type": "markdown",
   "metadata": {},
   "source": [
    "### California counties"
   ]
  },
  {
   "cell_type": "code",
   "execution_count": 13,
   "metadata": {},
   "outputs": [],
   "source": [
    "counties = pd.read_csv('input/processed/acs5_2018_population_counties.csv')"
   ]
  },
  {
   "cell_type": "code",
   "execution_count": 4,
   "metadata": {},
   "outputs": [],
   "source": [
    "ca_counties = pd.DataFrame(counties[counties['name'].str.contains(', California')])"
   ]
  },
  {
   "cell_type": "code",
   "execution_count": 5,
   "metadata": {},
   "outputs": [],
   "source": [
    "ca_counties['name'] = ca_counties['name'].str.replace(', California', '')"
   ]
  },
  {
   "cell_type": "code",
   "execution_count": 6,
   "metadata": {},
   "outputs": [
    {
     "data": {
      "text/html": [
       "<div>\n",
       "<style scoped>\n",
       "    .dataframe tbody tr th:only-of-type {\n",
       "        vertical-align: middle;\n",
       "    }\n",
       "\n",
       "    .dataframe tbody tr th {\n",
       "        vertical-align: top;\n",
       "    }\n",
       "\n",
       "    .dataframe thead th {\n",
       "        text-align: right;\n",
       "    }\n",
       "</style>\n",
       "<table border=\"1\" class=\"dataframe\">\n",
       "  <thead>\n",
       "    <tr style=\"text-align: right;\">\n",
       "      <th></th>\n",
       "      <th>geoid</th>\n",
       "      <th>name</th>\n",
       "      <th>universe</th>\n",
       "      <th>universe_annotation</th>\n",
       "      <th>universe_moe</th>\n",
       "      <th>universe_moe_annotation</th>\n",
       "      <th>state</th>\n",
       "      <th>county</th>\n",
       "    </tr>\n",
       "  </thead>\n",
       "  <tbody>\n",
       "    <tr>\n",
       "      <td>198</td>\n",
       "      <td>6037</td>\n",
       "      <td>Los Angeles County</td>\n",
       "      <td>10098052.0</td>\n",
       "      <td>NaN</td>\n",
       "      <td>-555555555.0</td>\n",
       "      <td>*****</td>\n",
       "      <td>6</td>\n",
       "      <td>37</td>\n",
       "    </tr>\n",
       "    <tr>\n",
       "      <td>216</td>\n",
       "      <td>6073</td>\n",
       "      <td>San Diego County</td>\n",
       "      <td>3302833.0</td>\n",
       "      <td>NaN</td>\n",
       "      <td>-555555555.0</td>\n",
       "      <td>*****</td>\n",
       "      <td>6</td>\n",
       "      <td>73</td>\n",
       "    </tr>\n",
       "    <tr>\n",
       "      <td>209</td>\n",
       "      <td>6059</td>\n",
       "      <td>Orange County</td>\n",
       "      <td>3164182.0</td>\n",
       "      <td>NaN</td>\n",
       "      <td>-555555555.0</td>\n",
       "      <td>*****</td>\n",
       "      <td>6</td>\n",
       "      <td>59</td>\n",
       "    </tr>\n",
       "    <tr>\n",
       "      <td>212</td>\n",
       "      <td>6065</td>\n",
       "      <td>Riverside County</td>\n",
       "      <td>2383286.0</td>\n",
       "      <td>NaN</td>\n",
       "      <td>-555555555.0</td>\n",
       "      <td>*****</td>\n",
       "      <td>6</td>\n",
       "      <td>65</td>\n",
       "    </tr>\n",
       "    <tr>\n",
       "      <td>215</td>\n",
       "      <td>6071</td>\n",
       "      <td>San Bernardino County</td>\n",
       "      <td>2135413.0</td>\n",
       "      <td>NaN</td>\n",
       "      <td>-555555555.0</td>\n",
       "      <td>*****</td>\n",
       "      <td>6</td>\n",
       "      <td>71</td>\n",
       "    </tr>\n",
       "    <tr>\n",
       "      <td>222</td>\n",
       "      <td>6085</td>\n",
       "      <td>Santa Clara County</td>\n",
       "      <td>1922200.0</td>\n",
       "      <td>NaN</td>\n",
       "      <td>-555555555.0</td>\n",
       "      <td>*****</td>\n",
       "      <td>6</td>\n",
       "      <td>85</td>\n",
       "    </tr>\n",
       "    <tr>\n",
       "      <td>181</td>\n",
       "      <td>6001</td>\n",
       "      <td>Alameda County</td>\n",
       "      <td>1643700.0</td>\n",
       "      <td>NaN</td>\n",
       "      <td>-555555555.0</td>\n",
       "      <td>*****</td>\n",
       "      <td>6</td>\n",
       "      <td>1</td>\n",
       "    </tr>\n",
       "    <tr>\n",
       "      <td>213</td>\n",
       "      <td>6067</td>\n",
       "      <td>Sacramento County</td>\n",
       "      <td>1510023.0</td>\n",
       "      <td>NaN</td>\n",
       "      <td>-555555555.0</td>\n",
       "      <td>*****</td>\n",
       "      <td>6</td>\n",
       "      <td>67</td>\n",
       "    </tr>\n",
       "    <tr>\n",
       "      <td>186</td>\n",
       "      <td>6013</td>\n",
       "      <td>Contra Costa County</td>\n",
       "      <td>1133247.0</td>\n",
       "      <td>NaN</td>\n",
       "      <td>-555555555.0</td>\n",
       "      <td>*****</td>\n",
       "      <td>6</td>\n",
       "      <td>13</td>\n",
       "    </tr>\n",
       "    <tr>\n",
       "      <td>189</td>\n",
       "      <td>6019</td>\n",
       "      <td>Fresno County</td>\n",
       "      <td>978130.0</td>\n",
       "      <td>NaN</td>\n",
       "      <td>-555555555.0</td>\n",
       "      <td>*****</td>\n",
       "      <td>6</td>\n",
       "      <td>19</td>\n",
       "    </tr>\n",
       "  </tbody>\n",
       "</table>\n",
       "</div>"
      ],
      "text/plain": [
       "     geoid                   name    universe  universe_annotation  \\\n",
       "198   6037     Los Angeles County  10098052.0                  NaN   \n",
       "216   6073       San Diego County   3302833.0                  NaN   \n",
       "209   6059          Orange County   3164182.0                  NaN   \n",
       "212   6065       Riverside County   2383286.0                  NaN   \n",
       "215   6071  San Bernardino County   2135413.0                  NaN   \n",
       "222   6085     Santa Clara County   1922200.0                  NaN   \n",
       "181   6001         Alameda County   1643700.0                  NaN   \n",
       "213   6067      Sacramento County   1510023.0                  NaN   \n",
       "186   6013    Contra Costa County   1133247.0                  NaN   \n",
       "189   6019          Fresno County    978130.0                  NaN   \n",
       "\n",
       "     universe_moe universe_moe_annotation  state  county  \n",
       "198  -555555555.0                   *****      6      37  \n",
       "216  -555555555.0                   *****      6      73  \n",
       "209  -555555555.0                   *****      6      59  \n",
       "212  -555555555.0                   *****      6      65  \n",
       "215  -555555555.0                   *****      6      71  \n",
       "222  -555555555.0                   *****      6      85  \n",
       "181  -555555555.0                   *****      6       1  \n",
       "213  -555555555.0                   *****      6      67  \n",
       "186  -555555555.0                   *****      6      13  \n",
       "189  -555555555.0                   *****      6      19  "
      ]
     },
     "execution_count": 6,
     "metadata": {},
     "output_type": "execute_result"
    }
   ],
   "source": [
    "ca_counties.sort_values(by='universe', ascending=False).head(10)"
   ]
  },
  {
   "cell_type": "markdown",
   "metadata": {},
   "source": [
    "---"
   ]
  },
  {
   "cell_type": "markdown",
   "metadata": {},
   "source": [
    "### California cities"
   ]
  },
  {
   "cell_type": "code",
   "execution_count": 220,
   "metadata": {},
   "outputs": [],
   "source": [
    "places = pd.read_csv('input/processed/acs5_2018_population_places.csv', dtype={ 'geoid':str,\n",
    "                                                                              'state':str,\n",
    "                                                                              'place':str})\\\n",
    ".drop(['universe_annotation', 'universe_moe', 'universe_moe_annotation'], axis=1).rename(columns={ 'universe':'population', 'name':'city' })"
   ]
  },
  {
   "cell_type": "code",
   "execution_count": null,
   "metadata": {},
   "outputs": [],
   "source": []
  },
  {
   "cell_type": "code",
   "execution_count": 221,
   "metadata": {},
   "outputs": [],
   "source": [
    "ca_cities = pd.DataFrame(places[places['geoid'].str.startswith('06')])"
   ]
  },
  {
   "cell_type": "code",
   "execution_count": 222,
   "metadata": {},
   "outputs": [],
   "source": [
    "ca_cities['city'] = ca_cities['city'].str.replace(' city, California','')\n",
    "ca_cities['city'] = ca_cities['city'].str.replace(' CDP, California','')\n",
    "ca_cities['city'] = ca_cities['city'].str.replace(' town, California','')"
   ]
  },
  {
   "cell_type": "code",
   "execution_count": 253,
   "metadata": {},
   "outputs": [],
   "source": [
    "ca_cities.loc[ca_cities.city.str.contains('Ventura'), 'city'] = 'Ventura'\n",
    "ca_cities.loc[ca_cities.city.str.contains('Paso Robles'), 'city'] = 'Paso Robles'\n",
    "ca_cities.loc[ca_cities.city.str.contains('Paso Robles'), 'city'] = 'Paso Robles'\n",
    "ca_cities.loc[ca_cities.city.str.contains('La Crescenta-Montrose'), 'city'] = 'La Crescenta'\n",
    "ca_cities.loc[ca_cities.city.str.contains('La Crescenta-Montrose'), 'city'] = 'La Crescenta'"
   ]
  },
  {
   "cell_type": "code",
   "execution_count": 267,
   "metadata": {},
   "outputs": [
    {
     "data": {
      "text/html": [
       "<div>\n",
       "<style scoped>\n",
       "    .dataframe tbody tr th:only-of-type {\n",
       "        vertical-align: middle;\n",
       "    }\n",
       "\n",
       "    .dataframe tbody tr th {\n",
       "        vertical-align: top;\n",
       "    }\n",
       "\n",
       "    .dataframe thead th {\n",
       "        text-align: right;\n",
       "    }\n",
       "</style>\n",
       "<table border=\"1\" class=\"dataframe\">\n",
       "  <thead>\n",
       "    <tr style=\"text-align: right;\">\n",
       "      <th></th>\n",
       "      <th>geoid</th>\n",
       "      <th>city</th>\n",
       "      <th>population</th>\n",
       "      <th>state</th>\n",
       "      <th>place</th>\n",
       "    </tr>\n",
       "  </thead>\n",
       "  <tbody>\n",
       "    <tr>\n",
       "      <td>18354</td>\n",
       "      <td>0604716</td>\n",
       "      <td>Bear Valley CDP (Alpine County), California</td>\n",
       "      <td>58.0</td>\n",
       "      <td>06</td>\n",
       "      <td>04716</td>\n",
       "    </tr>\n",
       "    <tr>\n",
       "      <td>18904</td>\n",
       "      <td>0601228</td>\n",
       "      <td>Alpine Village</td>\n",
       "      <td>155.0</td>\n",
       "      <td>06</td>\n",
       "      <td>01228</td>\n",
       "    </tr>\n",
       "    <tr>\n",
       "      <td>18912</td>\n",
       "      <td>0601192</td>\n",
       "      <td>Alpine</td>\n",
       "      <td>15233.0</td>\n",
       "      <td>06</td>\n",
       "      <td>01192</td>\n",
       "    </tr>\n",
       "  </tbody>\n",
       "</table>\n",
       "</div>"
      ],
      "text/plain": [
       "         geoid                                         city  population state  \\\n",
       "18354  0604716  Bear Valley CDP (Alpine County), California        58.0    06   \n",
       "18904  0601228                               Alpine Village       155.0    06   \n",
       "18912  0601192                                       Alpine     15233.0    06   \n",
       "\n",
       "       place  \n",
       "18354  04716  \n",
       "18904  01228  \n",
       "18912  01192  "
      ]
     },
     "execution_count": 267,
     "metadata": {},
     "output_type": "execute_result"
    }
   ],
   "source": [
    "ca_cities[ca_cities['city'].str.contains('Alpine')]"
   ]
  },
  {
   "cell_type": "code",
   "execution_count": 245,
   "metadata": {},
   "outputs": [
    {
     "data": {
      "text/html": [
       "<div>\n",
       "<style scoped>\n",
       "    .dataframe tbody tr th:only-of-type {\n",
       "        vertical-align: middle;\n",
       "    }\n",
       "\n",
       "    .dataframe tbody tr th {\n",
       "        vertical-align: top;\n",
       "    }\n",
       "\n",
       "    .dataframe thead th {\n",
       "        text-align: right;\n",
       "    }\n",
       "</style>\n",
       "<table border=\"1\" class=\"dataframe\">\n",
       "  <thead>\n",
       "    <tr style=\"text-align: right;\">\n",
       "      <th></th>\n",
       "      <th>geoid</th>\n",
       "      <th>city</th>\n",
       "      <th>population</th>\n",
       "      <th>state</th>\n",
       "      <th>place</th>\n",
       "    </tr>\n",
       "  </thead>\n",
       "  <tbody>\n",
       "  </tbody>\n",
       "</table>\n",
       "</div>"
      ],
      "text/plain": [
       "Empty DataFrame\n",
       "Columns: [geoid, city, population, state, place]\n",
       "Index: []"
      ]
     },
     "execution_count": 245,
     "metadata": {},
     "output_type": "execute_result"
    }
   ],
   "source": [
    "ca_cities[ca_cities['geoid'] == '']"
   ]
  },
  {
   "cell_type": "code",
   "execution_count": 226,
   "metadata": {},
   "outputs": [],
   "source": [
    "ca_cities = ca_cities.drop([18742, 19030])"
   ]
  },
  {
   "cell_type": "code",
   "execution_count": 227,
   "metadata": {},
   "outputs": [
    {
     "data": {
      "text/html": [
       "<div>\n",
       "<style scoped>\n",
       "    .dataframe tbody tr th:only-of-type {\n",
       "        vertical-align: middle;\n",
       "    }\n",
       "\n",
       "    .dataframe tbody tr th {\n",
       "        vertical-align: top;\n",
       "    }\n",
       "\n",
       "    .dataframe thead th {\n",
       "        text-align: right;\n",
       "    }\n",
       "</style>\n",
       "<table border=\"1\" class=\"dataframe\">\n",
       "  <thead>\n",
       "    <tr style=\"text-align: right;\">\n",
       "      <th></th>\n",
       "      <th>geoid</th>\n",
       "      <th>city</th>\n",
       "      <th>population</th>\n",
       "      <th>state</th>\n",
       "      <th>place</th>\n",
       "    </tr>\n",
       "  </thead>\n",
       "  <tbody>\n",
       "    <tr>\n",
       "      <td>20022</td>\n",
       "      <td>0644000</td>\n",
       "      <td>Los Angeles</td>\n",
       "      <td>3959657.0</td>\n",
       "      <td>06</td>\n",
       "      <td>44000</td>\n",
       "    </tr>\n",
       "    <tr>\n",
       "      <td>18899</td>\n",
       "      <td>0666000</td>\n",
       "      <td>San Diego</td>\n",
       "      <td>1401932.0</td>\n",
       "      <td>06</td>\n",
       "      <td>66000</td>\n",
       "    </tr>\n",
       "    <tr>\n",
       "      <td>19803</td>\n",
       "      <td>0668000</td>\n",
       "      <td>San Jose</td>\n",
       "      <td>1026658.0</td>\n",
       "      <td>06</td>\n",
       "      <td>68000</td>\n",
       "    </tr>\n",
       "    <tr>\n",
       "      <td>19805</td>\n",
       "      <td>0667000</td>\n",
       "      <td>San Francisco</td>\n",
       "      <td>870044.0</td>\n",
       "      <td>06</td>\n",
       "      <td>67000</td>\n",
       "    </tr>\n",
       "    <tr>\n",
       "      <td>19104</td>\n",
       "      <td>0627000</td>\n",
       "      <td>Fresno</td>\n",
       "      <td>522277.0</td>\n",
       "      <td>06</td>\n",
       "      <td>27000</td>\n",
       "    </tr>\n",
       "  </tbody>\n",
       "</table>\n",
       "</div>"
      ],
      "text/plain": [
       "         geoid           city  population state  place\n",
       "20022  0644000    Los Angeles   3959657.0    06  44000\n",
       "18899  0666000      San Diego   1401932.0    06  66000\n",
       "19803  0668000       San Jose   1026658.0    06  68000\n",
       "19805  0667000  San Francisco    870044.0    06  67000\n",
       "19104  0627000         Fresno    522277.0    06  27000"
      ]
     },
     "execution_count": 227,
     "metadata": {},
     "output_type": "execute_result"
    }
   ],
   "source": [
    "ca_cities.sort_values(by='population', ascending=False).head()"
   ]
  },
  {
   "cell_type": "code",
   "execution_count": 228,
   "metadata": {},
   "outputs": [
    {
     "data": {
      "text/plain": [
       "1519"
      ]
     },
     "execution_count": 228,
     "metadata": {},
     "output_type": "execute_result"
    }
   ],
   "source": [
    "len(ca_cities)"
   ]
  },
  {
   "cell_type": "code",
   "execution_count": 229,
   "metadata": {},
   "outputs": [],
   "source": [
    "ca_cities.to_csv('/Users/mhustiles/data/github/coronavirus-tracker/_notebooks/data/raw/census/ca_cities.csv', index=False)"
   ]
  },
  {
   "cell_type": "code",
   "execution_count": null,
   "metadata": {},
   "outputs": [],
   "source": []
  },
  {
   "cell_type": "code",
   "execution_count": 230,
   "metadata": {},
   "outputs": [],
   "source": [
    "la_communities = gpd.read_file('/Users/mhustiles/data/data/GIS/LA/lac_cities_noislands.shp')"
   ]
  },
  {
   "cell_type": "code",
   "execution_count": 231,
   "metadata": {},
   "outputs": [],
   "source": [
    "la_county_cities = la_communities[la_communities['CITY_TYPE'] == 'City']"
   ]
  },
  {
   "cell_type": "code",
   "execution_count": 232,
   "metadata": {},
   "outputs": [],
   "source": [
    "la_communities = gpd.read_file('/Users/mhustiles/data/data/GIS/LA/LACITY_COMMUNITIES/LACITY_COMMUNITIES.shp')"
   ]
  },
  {
   "cell_type": "code",
   "execution_count": 233,
   "metadata": {},
   "outputs": [],
   "source": [
    "la_communities['name'] = la_communities['COMTY_NAME'].str.title()"
   ]
  },
  {
   "cell_type": "code",
   "execution_count": 234,
   "metadata": {},
   "outputs": [],
   "source": [
    "la_communities.columns = la_communities.columns.str.lower()"
   ]
  },
  {
   "cell_type": "code",
   "execution_count": 235,
   "metadata": {},
   "outputs": [],
   "source": [
    "la_communities[[ 'name', 'geometry']].to_file('/Users/mhustiles/data/github/coronavirus-tracker/_notebooks/data/raw/la_communities.geojson')"
   ]
  },
  {
   "cell_type": "code",
   "execution_count": null,
   "metadata": {},
   "outputs": [],
   "source": []
  },
  {
   "cell_type": "code",
   "execution_count": 270,
   "metadata": {},
   "outputs": [
    {
     "name": "stdout",
     "output_type": "stream",
     "text": [
      "/bin/sh: mapshaper: command not found\n"
     ]
    }
   ],
   "source": [
    "!mapshaper"
   ]
  },
  {
   "cell_type": "code",
   "execution_count": 268,
   "metadata": {},
   "outputs": [],
   "source": [
    "ca_counties = gpd.read_file('/Users/mhustiles/data/data/GIS/ca-counties.geojson')"
   ]
  },
  {
   "cell_type": "code",
   "execution_count": 271,
   "metadata": {},
   "outputs": [
    {
     "data": {
      "text/plain": [
       "<matplotlib.axes._subplots.AxesSubplot at 0x1290b5cd0>"
      ]
     },
     "execution_count": 271,
     "metadata": {},
     "output_type": "execute_result"
    },
    {
     "data": {
      "image/png": "[encoded data removed]",
      "text/plain": [
       "<Figure size 432x288 with 1 Axes>"
      ]
     },
     "metadata": {
      "needs_background": "light"
     },
     "output_type": "display_data"
    }
   ],
   "source": [
    "ca_counties.plot()"
   ]
  },
  {
   "cell_type": "code",
   "execution_count": null,
   "metadata": {},
   "outputs": [],
   "source": []
  },
  {
   "cell_type": "code",
   "execution_count": null,
   "metadata": {},
   "outputs": [],
   "source": []
  }
 ],
 "metadata": {
  "kernelspec": {
   "display_name": "Python 3",
   "language": "python",
   "name": "python3"
  },
  "language_info": {
   "codemirror_mode": {
    "name": "ipython",
    "version": 3
   },
   "file_extension": ".py",
   "mimetype": "text/x-python",
   "name": "python",
   "nbconvert_exporter": "python",
   "pygments_lexer": "ipython3",
   "version": "3.7.4"
  }
 },
 "nbformat": 4,
 "nbformat_minor": 4
}
