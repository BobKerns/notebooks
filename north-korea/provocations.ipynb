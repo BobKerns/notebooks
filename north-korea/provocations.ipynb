{
 "cells": [
  {
   "cell_type": "markdown",
   "metadata": {},
   "source": [
    "# North Korea provocations database"
   ]
  },
  {
   "cell_type": "code",
   "execution_count": null,
   "metadata": {},
   "outputs": [],
   "source": [
    "# !/opt/anaconda3/bin/python -m pip install nb-black"
   ]
  },
  {
   "cell_type": "code",
   "execution_count": 2,
   "metadata": {},
   "outputs": [],
   "source": [
    "%load_ext lab_black"
   ]
  },
  {
   "cell_type": "code",
   "execution_count": 3,
   "metadata": {},
   "outputs": [],
   "source": [
    "import pandas as pd\n",
    "import geopandas as gpd\n",
    "import jenkspy\n",
    "import matplotlib.pyplot as plt"
   ]
  },
  {
   "cell_type": "code",
   "execution_count": 4,
   "metadata": {},
   "outputs": [],
   "source": [
    "%matplotlib inline\n",
    "import json\n",
    "import numpy as np\n",
    "import altair as alt\n",
    "import altair_latimes as lat\n",
    "import dateutil"
   ]
  },
  {
   "cell_type": "code",
   "execution_count": 5,
   "metadata": {},
   "outputs": [],
   "source": [
    "import requests\n",
    "from bs4 import BeautifulSoup\n",
    "import re\n",
    "import unicodedata\n",
    "from datetime import datetime, date"
   ]
  },
  {
   "cell_type": "code",
   "execution_count": 6,
   "metadata": {},
   "outputs": [],
   "source": [
    "alt.themes.register(\"latimes\", lat.theme)\n",
    "alt.themes.enable(\"latimes\")\n",
    "pd.options.display.max_columns = 50\n",
    "pd.options.display.max_rows = 1000\n",
    "alt.data_transformers.disable_max_rows()\n",
    "pd.set_option(\"display.max_colwidth\", None)"
   ]
  },
  {
   "cell_type": "markdown",
   "metadata": {},
   "source": [
    "### Download latest version of the database from here"
   ]
  },
  {
   "cell_type": "code",
   "execution_count": 7,
   "metadata": {},
   "outputs": [],
   "source": [
    "# https://beyondparallel.csis.org/database-north-korean-provocations/"
   ]
  },
  {
   "cell_type": "markdown",
   "metadata": {},
   "source": [
    "### Import data"
   ]
  },
  {
   "cell_type": "code",
   "execution_count": 8,
   "metadata": {},
   "outputs": [],
   "source": [
    "src = pd.read_csv(\"input/Provocations New.csv\")"
   ]
  },
  {
   "cell_type": "code",
   "execution_count": 9,
   "metadata": {},
   "outputs": [],
   "source": [
    "src.columns = (\n",
    "    src.columns.str.strip()\n",
    "    .str.lower()\n",
    "    .str.replace(\" \", \"_\")\n",
    "    .str.replace(\"(\", \"\")\n",
    "    .str.replace(\")\", \"\")\n",
    "    .str.replace(\"-\", \"_\")\n",
    ")"
   ]
  },
  {
   "cell_type": "code",
   "execution_count": 10,
   "metadata": {},
   "outputs": [
    {
     "data": {
      "text/html": [
       "<div>\n",
       "<style scoped>\n",
       "    .dataframe tbody tr th:only-of-type {\n",
       "        vertical-align: middle;\n",
       "    }\n",
       "\n",
       "    .dataframe tbody tr th {\n",
       "        vertical-align: top;\n",
       "    }\n",
       "\n",
       "    .dataframe thead th {\n",
       "        text-align: right;\n",
       "    }\n",
       "</style>\n",
       "<table border=\"1\" class=\"dataframe\">\n",
       "  <thead>\n",
       "    <tr style=\"text-align: right;\">\n",
       "      <th></th>\n",
       "      <th>date</th>\n",
       "      <th>type</th>\n",
       "      <th>event</th>\n",
       "      <th>description</th>\n",
       "      <th>resources</th>\n",
       "    </tr>\n",
       "  </thead>\n",
       "  <tbody>\n",
       "    <tr>\n",
       "      <th>0</th>\n",
       "      <td>1958-02-16</td>\n",
       "      <td>Other Provocation</td>\n",
       "      <td>Hijacking of South Korean Plane</td>\n",
       "      <td>North Korean agents hijacked a South Korean plane en route from Busan to Seoul. Twenty-eight kidnapped passengers taken to Pyongyang were eventually released but eight other passengers were never returned.</td>\n",
       "      <td>https://goo.gl/Xn9Wr4 The US Military Experience in Korea 1871-1982, page 108.</td>\n",
       "    </tr>\n",
       "    <tr>\n",
       "      <th>1</th>\n",
       "      <td>1959-06-15</td>\n",
       "      <td>Other Provocation</td>\n",
       "      <td>NK Fighter Jets Attack U.S. Navy Plane</td>\n",
       "      <td>Two North Korean jet fighters (MiG) attacked and damaged a U.S. navy patrol plane (P4M Mercator) off the eastern coast of North Korea. The pilot returned safely to base in Japan's Honshu Island.</td>\n",
       "      <td>https://goo.gl/UFh93r The US Military Experience in Korea 1871-1982, page 109.</td>\n",
       "    </tr>\n",
       "    <tr>\n",
       "      <th>2</th>\n",
       "      <td>1960-07-30</td>\n",
       "      <td>Other Provocation</td>\n",
       "      <td>Exchange of Fire and Sinking of NK Vessel</td>\n",
       "      <td>A South Korean destroyer sinks a North Korean patrol vessel off the eastern coast killing at least 14 crewmen. This was the first naval clash between the two Koreas since the signing of the Armistice in 1953.</td>\n",
       "      <td>https://goo.gl/NEgR7x The US Military Experience in Korea 1871-1982, page 109.</td>\n",
       "    </tr>\n",
       "    <tr>\n",
       "      <th>3</th>\n",
       "      <td>1962-11-20</td>\n",
       "      <td>Other Provocation</td>\n",
       "      <td>Exchange of Fire at DMZ</td>\n",
       "      <td>NK troops attacked a UN observation post 7 miles southeast of Panmunjom and an armed clash ensues.</td>\n",
       "      <td>http://www.cfr.org/content/publications/attachments/Korean_Peninsula_Clashes.pdf; The US Military Experience in Korea 1871-1982, page 113.</td>\n",
       "    </tr>\n",
       "    <tr>\n",
       "      <th>4</th>\n",
       "      <td>1963-07-29</td>\n",
       "      <td>Other Provocation</td>\n",
       "      <td>Exchange of Fire at DMZ</td>\n",
       "      <td>A group of at least seven North Korean soldiers crossed the DMZ and killed two U.S. soldiers and wounded one during an attack on a jeep with a machine gun and hand grenade. U.S. and South Korean patrols tracked and killed two of the infiltrators.</td>\n",
       "      <td>https://goo.gl/8PXjzE; The US Military Experience in Korea 1871-1982, page 113.</td>\n",
       "    </tr>\n",
       "  </tbody>\n",
       "</table>\n",
       "</div>"
      ],
      "text/plain": [
       "         date               type                                      event  \\\n",
       "0  1958-02-16  Other Provocation            Hijacking of South Korean Plane   \n",
       "1  1959-06-15  Other Provocation     NK Fighter Jets Attack U.S. Navy Plane   \n",
       "2  1960-07-30  Other Provocation  Exchange of Fire and Sinking of NK Vessel   \n",
       "3  1962-11-20  Other Provocation                    Exchange of Fire at DMZ   \n",
       "4  1963-07-29  Other Provocation                    Exchange of Fire at DMZ   \n",
       "\n",
       "                                                                                                                                                                                                                                              description  \\\n",
       "0                                           North Korean agents hijacked a South Korean plane en route from Busan to Seoul. Twenty-eight kidnapped passengers taken to Pyongyang were eventually released but eight other passengers were never returned.   \n",
       "1                                                      Two North Korean jet fighters (MiG) attacked and damaged a U.S. navy patrol plane (P4M Mercator) off the eastern coast of North Korea. The pilot returned safely to base in Japan's Honshu Island.   \n",
       "2                                        A South Korean destroyer sinks a North Korean patrol vessel off the eastern coast killing at least 14 crewmen. This was the first naval clash between the two Koreas since the signing of the Armistice in 1953.   \n",
       "3                                                                                                                                                      NK troops attacked a UN observation post 7 miles southeast of Panmunjom and an armed clash ensues.   \n",
       "4  A group of at least seven North Korean soldiers crossed the DMZ and killed two U.S. soldiers and wounded one during an attack on a jeep with a machine gun and hand grenade. U.S. and South Korean patrols tracked and killed two of the infiltrators.   \n",
       "\n",
       "                                                                                                                                    resources  \n",
       "0                                                              https://goo.gl/Xn9Wr4 The US Military Experience in Korea 1871-1982, page 108.  \n",
       "1                                                              https://goo.gl/UFh93r The US Military Experience in Korea 1871-1982, page 109.  \n",
       "2                                                              https://goo.gl/NEgR7x The US Military Experience in Korea 1871-1982, page 109.  \n",
       "3  http://www.cfr.org/content/publications/attachments/Korean_Peninsula_Clashes.pdf; The US Military Experience in Korea 1871-1982, page 113.  \n",
       "4                                                             https://goo.gl/8PXjzE; The US Military Experience in Korea 1871-1982, page 113.  "
      ]
     },
     "execution_count": 10,
     "metadata": {},
     "output_type": "execute_result"
    }
   ],
   "source": [
    "src.head()"
   ]
  },
  {
   "cell_type": "markdown",
   "metadata": {},
   "source": [
    "### Parse dates"
   ]
  },
  {
   "cell_type": "code",
   "execution_count": 11,
   "metadata": {},
   "outputs": [],
   "source": [
    "src[\"date\"] = pd.to_datetime(src[\"date\"])\n",
    "src[\"year\"] = src[\"date\"].dt.year\n",
    "src[\"month\"] = src[\"date\"].dt.month\n",
    "src[\"day\"] = src[\"date\"].dt.day\n",
    "src[\"day\"] = src[\"date\"].dt.day_name()"
   ]
  },
  {
   "cell_type": "code",
   "execution_count": 16,
   "metadata": {},
   "outputs": [
    {
     "data": {
      "text/html": [
       "<div>\n",
       "<style scoped>\n",
       "    .dataframe tbody tr th:only-of-type {\n",
       "        vertical-align: middle;\n",
       "    }\n",
       "\n",
       "    .dataframe tbody tr th {\n",
       "        vertical-align: top;\n",
       "    }\n",
       "\n",
       "    .dataframe thead th {\n",
       "        text-align: right;\n",
       "    }\n",
       "</style>\n",
       "<table border=\"1\" class=\"dataframe\">\n",
       "  <thead>\n",
       "    <tr style=\"text-align: right;\">\n",
       "      <th></th>\n",
       "      <th>type</th>\n",
       "      <th>year</th>\n",
       "      <th>date</th>\n",
       "    </tr>\n",
       "  </thead>\n",
       "  <tbody>\n",
       "    <tr>\n",
       "      <th>0</th>\n",
       "      <td>Missile Provocation</td>\n",
       "      <td>1984</td>\n",
       "      <td>2</td>\n",
       "    </tr>\n",
       "    <tr>\n",
       "      <th>1</th>\n",
       "      <td>Missile Provocation</td>\n",
       "      <td>1985</td>\n",
       "      <td>1</td>\n",
       "    </tr>\n",
       "    <tr>\n",
       "      <th>2</th>\n",
       "      <td>Missile Provocation</td>\n",
       "      <td>1990</td>\n",
       "      <td>2</td>\n",
       "    </tr>\n",
       "    <tr>\n",
       "      <th>3</th>\n",
       "      <td>Missile Provocation</td>\n",
       "      <td>1991</td>\n",
       "      <td>2</td>\n",
       "    </tr>\n",
       "    <tr>\n",
       "      <th>4</th>\n",
       "      <td>Missile Provocation</td>\n",
       "      <td>1992</td>\n",
       "      <td>1</td>\n",
       "    </tr>\n",
       "  </tbody>\n",
       "</table>\n",
       "</div>"
      ],
      "text/plain": [
       "                  type  year  date\n",
       "0  Missile Provocation  1984     2\n",
       "1  Missile Provocation  1985     1\n",
       "2  Missile Provocation  1990     2\n",
       "3  Missile Provocation  1991     2\n",
       "4  Missile Provocation  1992     1"
      ]
     },
     "execution_count": 16,
     "metadata": {},
     "output_type": "execute_result"
    }
   ],
   "source": [
    "src.groupby([\"type\", \"year\"]).agg({\"date\": \"count\"}).reset_index().head()"
   ]
  },
  {
   "cell_type": "code",
   "execution_count": 13,
   "metadata": {},
   "outputs": [],
   "source": [
    "missiles = src[src[\"type\"] == \"Missile Provocation\"]"
   ]
  },
  {
   "cell_type": "code",
   "execution_count": 14,
   "metadata": {},
   "outputs": [
    {
     "data": {
      "text/html": [
       "<div>\n",
       "<style scoped>\n",
       "    .dataframe tbody tr th:only-of-type {\n",
       "        vertical-align: middle;\n",
       "    }\n",
       "\n",
       "    .dataframe tbody tr th {\n",
       "        vertical-align: top;\n",
       "    }\n",
       "\n",
       "    .dataframe thead th {\n",
       "        text-align: right;\n",
       "    }\n",
       "</style>\n",
       "<table border=\"1\" class=\"dataframe\">\n",
       "  <thead>\n",
       "    <tr style=\"text-align: right;\">\n",
       "      <th></th>\n",
       "      <th>date</th>\n",
       "      <th>type</th>\n",
       "      <th>event</th>\n",
       "      <th>description</th>\n",
       "      <th>resources</th>\n",
       "      <th>year</th>\n",
       "      <th>month</th>\n",
       "      <th>day</th>\n",
       "    </tr>\n",
       "  </thead>\n",
       "  <tbody>\n",
       "    <tr>\n",
       "      <th>294</th>\n",
       "      <td>2021-03-21</td>\n",
       "      <td>Missile Provocation</td>\n",
       "      <td>Anti-Ship Cruise Missile Launch</td>\n",
       "      <td>On March 21, 2021 at around 6:36am (KST), North Korea fired two cruise missiles from the western port county of Onchon.</td>\n",
       "      <td>https://en.yna.co.kr/view/AEN20210324000555325?section=news</td>\n",
       "      <td>2021</td>\n",
       "      <td>3</td>\n",
       "      <td>Sunday</td>\n",
       "    </tr>\n",
       "    <tr>\n",
       "      <th>293</th>\n",
       "      <td>2020-07-06</td>\n",
       "      <td>Missile Provocation</td>\n",
       "      <td>Anti-Ship Cruise Missile Launch</td>\n",
       "      <td>On July 7, North Korea launched ship-to-ship missile from a ship in te sea between Korea and Japan that flew about 100 km. South Korean authorities saw the test as part of North Korea's regular maritime exercise.</td>\n",
       "      <td>https://en.yna.co.kr/view/AEN20200730003600325</td>\n",
       "      <td>2020</td>\n",
       "      <td>7</td>\n",
       "      <td>Monday</td>\n",
       "    </tr>\n",
       "    <tr>\n",
       "      <th>291</th>\n",
       "      <td>2020-04-14</td>\n",
       "      <td>Missile Provocation</td>\n",
       "      <td>Anti-Ship Cruise Missile Launch</td>\n",
       "      <td>On April 14, 2020 at 7:00am (KST), North Korea launched cruise missiles near the town of Munchon and air-to-ground missiles from fighter jets near Wonsan for more than 40 minutes. The projectiles travelled around 150 km towards the sea between Korea and Japan.</td>\n",
       "      <td>https://en.yna.co.kr/view/AEN20200414006452325?section=nk/nk</td>\n",
       "      <td>2020</td>\n",
       "      <td>4</td>\n",
       "      <td>Tuesday</td>\n",
       "    </tr>\n",
       "    <tr>\n",
       "      <th>290</th>\n",
       "      <td>2020-03-21</td>\n",
       "      <td>Missile Provocation</td>\n",
       "      <td>Short-range Missile Launch</td>\n",
       "      <td>On March 21, 2020 at 6:45am and 6:50pm (KST), North Korea launched two projectiles from the county of Sonchon in North Pyongan Province towards the sea between Korea and Japan. The projectiles traveled a distance of 410km (255 miles) at a maximum altitude of 50km (31 miles) and closely resemble the KN-24 short-range ballistic missile system.</td>\n",
       "      <td>https://en.yna.co.kr/view/AEN20200321000454325?section=nk/nk</td>\n",
       "      <td>2020</td>\n",
       "      <td>3</td>\n",
       "      <td>Saturday</td>\n",
       "    </tr>\n",
       "    <tr>\n",
       "      <th>289</th>\n",
       "      <td>2020-03-06</td>\n",
       "      <td>Missile Provocation</td>\n",
       "      <td>Short-range Missile Launch</td>\n",
       "      <td>On March 9. 2020 at 7:36am (KST), North Korea launched three short-range projectiles from the Sondok, South Hamgyong Province area towards the sea between Korea and Japan. The projectiles traveled a distance of 200 km at a maximum altitude of 50 km, and closely resemble the KN-25 multiple rocket launch system.</td>\n",
       "      <td>https://en.yna.co.kr/view/AEN20200309000455325</td>\n",
       "      <td>2020</td>\n",
       "      <td>3</td>\n",
       "      <td>Friday</td>\n",
       "    </tr>\n",
       "  </tbody>\n",
       "</table>\n",
       "</div>"
      ],
      "text/plain": [
       "          date                 type                            event  \\\n",
       "294 2021-03-21  Missile Provocation  Anti-Ship Cruise Missile Launch   \n",
       "293 2020-07-06  Missile Provocation  Anti-Ship Cruise Missile Launch   \n",
       "291 2020-04-14  Missile Provocation  Anti-Ship Cruise Missile Launch   \n",
       "290 2020-03-21  Missile Provocation       Short-range Missile Launch   \n",
       "289 2020-03-06  Missile Provocation       Short-range Missile Launch   \n",
       "\n",
       "                                                                                                                                                                                                                                                                                                                                                 description  \\\n",
       "294                                                                                                                                                                                                                                  On March 21, 2021 at around 6:36am (KST), North Korea fired two cruise missiles from the western port county of Onchon.   \n",
       "293                                                                                                                                     On July 7, North Korea launched ship-to-ship missile from a ship in te sea between Korea and Japan that flew about 100 km. South Korean authorities saw the test as part of North Korea's regular maritime exercise.   \n",
       "291                                                                                     On April 14, 2020 at 7:00am (KST), North Korea launched cruise missiles near the town of Munchon and air-to-ground missiles from fighter jets near Wonsan for more than 40 minutes. The projectiles travelled around 150 km towards the sea between Korea and Japan.   \n",
       "290  On March 21, 2020 at 6:45am and 6:50pm (KST), North Korea launched two projectiles from the county of Sonchon in North Pyongan Province towards the sea between Korea and Japan. The projectiles traveled a distance of 410km (255 miles) at a maximum altitude of 50km (31 miles) and closely resemble the KN-24 short-range ballistic missile system.   \n",
       "289                                  On March 9. 2020 at 7:36am (KST), North Korea launched three short-range projectiles from the Sondok, South Hamgyong Province area towards the sea between Korea and Japan. The projectiles traveled a distance of 200 km at a maximum altitude of 50 km, and closely resemble the KN-25 multiple rocket launch system.   \n",
       "\n",
       "                                                        resources  year  \\\n",
       "294   https://en.yna.co.kr/view/AEN20210324000555325?section=news  2021   \n",
       "293                https://en.yna.co.kr/view/AEN20200730003600325  2020   \n",
       "291  https://en.yna.co.kr/view/AEN20200414006452325?section=nk/nk  2020   \n",
       "290  https://en.yna.co.kr/view/AEN20200321000454325?section=nk/nk  2020   \n",
       "289                https://en.yna.co.kr/view/AEN20200309000455325  2020   \n",
       "\n",
       "     month       day  \n",
       "294      3    Sunday  \n",
       "293      7    Monday  \n",
       "291      4   Tuesday  \n",
       "290      3  Saturday  \n",
       "289      3    Friday  "
      ]
     },
     "execution_count": 14,
     "metadata": {},
     "output_type": "execute_result"
    }
   ],
   "source": [
    "missiles.sort_values(\"date\", ascending=False).head()"
   ]
  },
  {
   "cell_type": "code",
   "execution_count": 15,
   "metadata": {},
   "outputs": [
    {
     "data": {
      "text/html": [
       "<div>\n",
       "<style scoped>\n",
       "    .dataframe tbody tr th:only-of-type {\n",
       "        vertical-align: middle;\n",
       "    }\n",
       "\n",
       "    .dataframe tbody tr th {\n",
       "        vertical-align: top;\n",
       "    }\n",
       "\n",
       "    .dataframe thead th {\n",
       "        text-align: right;\n",
       "    }\n",
       "</style>\n",
       "<table border=\"1\" class=\"dataframe\">\n",
       "  <thead>\n",
       "    <tr style=\"text-align: right;\">\n",
       "      <th></th>\n",
       "      <th>event</th>\n",
       "      <th>date</th>\n",
       "    </tr>\n",
       "  </thead>\n",
       "  <tbody>\n",
       "    <tr>\n",
       "      <th>0</th>\n",
       "      <td>Anti-Ship Cruise Missile Launch</td>\n",
       "      <td>18</td>\n",
       "    </tr>\n",
       "    <tr>\n",
       "      <th>1</th>\n",
       "      <td>Ballistic Missile Launch (type unknown)</td>\n",
       "      <td>2</td>\n",
       "    </tr>\n",
       "    <tr>\n",
       "      <th>2</th>\n",
       "      <td>Inter-Continental Ballistic Missile/Short-Range Missile Launches</td>\n",
       "      <td>1</td>\n",
       "    </tr>\n",
       "    <tr>\n",
       "      <th>3</th>\n",
       "      <td>Inter-continental Ballistic Missile Launch</td>\n",
       "      <td>2</td>\n",
       "    </tr>\n",
       "    <tr>\n",
       "      <th>4</th>\n",
       "      <td>Intermediate-range Ballistic Missile Launch</td>\n",
       "      <td>12</td>\n",
       "    </tr>\n",
       "    <tr>\n",
       "      <th>5</th>\n",
       "      <td>Joint Missile Test with China</td>\n",
       "      <td>1</td>\n",
       "    </tr>\n",
       "    <tr>\n",
       "      <th>6</th>\n",
       "      <td>Long-range Surface-to-Air Missile Launch</td>\n",
       "      <td>1</td>\n",
       "    </tr>\n",
       "    <tr>\n",
       "      <th>7</th>\n",
       "      <td>Medium-range Ballistic Missile Launch</td>\n",
       "      <td>13</td>\n",
       "    </tr>\n",
       "    <tr>\n",
       "      <th>8</th>\n",
       "      <td>Satellite Launch (Other Provocation)</td>\n",
       "      <td>4</td>\n",
       "    </tr>\n",
       "    <tr>\n",
       "      <th>9</th>\n",
       "      <td>Short-range Ballistic Missile Launch</td>\n",
       "      <td>38</td>\n",
       "    </tr>\n",
       "    <tr>\n",
       "      <th>10</th>\n",
       "      <td>Short-range Missile Launch</td>\n",
       "      <td>23</td>\n",
       "    </tr>\n",
       "    <tr>\n",
       "      <th>11</th>\n",
       "      <td>Short-range Surface-to-Air Missile Launch</td>\n",
       "      <td>1</td>\n",
       "    </tr>\n",
       "    <tr>\n",
       "      <th>12</th>\n",
       "      <td>Submarine Launched Ballistic Missile Launch</td>\n",
       "      <td>7</td>\n",
       "    </tr>\n",
       "  </tbody>\n",
       "</table>\n",
       "</div>"
      ],
      "text/plain": [
       "                                                               event  date\n",
       "0                                    Anti-Ship Cruise Missile Launch    18\n",
       "1                            Ballistic Missile Launch (type unknown)     2\n",
       "2   Inter-Continental Ballistic Missile/Short-Range Missile Launches     1\n",
       "3                         Inter-continental Ballistic Missile Launch     2\n",
       "4                        Intermediate-range Ballistic Missile Launch    12\n",
       "5                                      Joint Missile Test with China     1\n",
       "6                           Long-range Surface-to-Air Missile Launch     1\n",
       "7                              Medium-range Ballistic Missile Launch    13\n",
       "8                               Satellite Launch (Other Provocation)     4\n",
       "9                               Short-range Ballistic Missile Launch    38\n",
       "10                                        Short-range Missile Launch    23\n",
       "11                         Short-range Surface-to-Air Missile Launch     1\n",
       "12                       Submarine Launched Ballistic Missile Launch     7"
      ]
     },
     "execution_count": 15,
     "metadata": {},
     "output_type": "execute_result"
    }
   ],
   "source": [
    "missiles.groupby([\"event\"]).agg({\"date\": \"count\"}).reset_index()"
   ]
  }
 ],
 "metadata": {
  "kernelspec": {
   "display_name": "Python 3",
   "language": "python",
   "name": "python3"
  },
  "language_info": {
   "codemirror_mode": {
    "name": "ipython",
    "version": 3
   },
   "file_extension": ".py",
   "mimetype": "text/x-python",
   "name": "python",
   "nbconvert_exporter": "python",
   "pygments_lexer": "ipython3",
   "version": "3.7.4"
  }
 },
 "nbformat": 4,
 "nbformat_minor": 4
}
