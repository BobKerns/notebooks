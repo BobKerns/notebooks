{
 "cells": [
  {
   "cell_type": "markdown",
   "metadata": {},
   "source": [
    "# White House visitor logs"
   ]
  },
  {
   "cell_type": "markdown",
   "metadata": {},
   "source": [
    "### Import Python tools and Jupyter configuration"
   ]
  },
  {
   "cell_type": "code",
   "execution_count": 1,
   "metadata": {},
   "outputs": [],
   "source": [
    "%load_ext lab_black"
   ]
  },
  {
   "cell_type": "code",
   "execution_count": 2,
   "metadata": {},
   "outputs": [],
   "source": [
    "import pandas as pd\n",
    "import requests\n",
    "from bs4 import BeautifulSoup\n",
    "import re\n",
    "import datetime as dt"
   ]
  },
  {
   "cell_type": "code",
   "execution_count": 3,
   "metadata": {},
   "outputs": [],
   "source": [
    "import altair as alt\n",
    "import altair_latimes as lat\n",
    "import numpy as np"
   ]
  },
  {
   "cell_type": "code",
   "execution_count": 4,
   "metadata": {},
   "outputs": [
    {
     "data": {
      "text/plain": [
       "ThemeRegistry.enable('latimes')"
      ]
     },
     "execution_count": 4,
     "metadata": {},
     "output_type": "execute_result"
    }
   ],
   "source": [
    "alt.themes.register(\"latimes\", lat.theme)\n",
    "alt.themes.enable(\"latimes\")"
   ]
  },
  {
   "cell_type": "code",
   "execution_count": 5,
   "metadata": {},
   "outputs": [],
   "source": [
    "pd.options.display.max_columns = 1000\n",
    "pd.options.display.max_rows = 1000\n",
    "alt.data_transformers.disable_max_rows()\n",
    "pd.options.display.max_colwidth = None"
   ]
  },
  {
   "cell_type": "code",
   "execution_count": 6,
   "metadata": {},
   "outputs": [],
   "source": [
    "# https://www.whitehouse.gov/disclosures/visitor-logs/"
   ]
  },
  {
   "cell_type": "markdown",
   "metadata": {},
   "source": [
    "### Read the page to find links to the raw data"
   ]
  },
  {
   "cell_type": "code",
   "execution_count": 7,
   "metadata": {},
   "outputs": [],
   "source": [
    "r = requests.get(\"https://www.whitehouse.gov/disclosures/visitor-logs/\")\n",
    "soup = BeautifulSoup(r.text, \"html.parser\")"
   ]
  },
  {
   "cell_type": "markdown",
   "metadata": {},
   "source": [
    "### Grab the urls from download buttons"
   ]
  },
  {
   "cell_type": "code",
   "execution_count": 8,
   "metadata": {},
   "outputs": [],
   "source": [
    "page = soup.find_all(\"a\", class_=\"wp-block-button__link\")"
   ]
  },
  {
   "cell_type": "code",
   "execution_count": 9,
   "metadata": {},
   "outputs": [],
   "source": [
    "links = []\n",
    "\n",
    "for p in page:\n",
    "    links.append(dict(url=p[\"href\"]))"
   ]
  },
  {
   "cell_type": "markdown",
   "metadata": {},
   "source": [
    "### Get the first URL"
   ]
  },
  {
   "cell_type": "code",
   "execution_count": 10,
   "metadata": {},
   "outputs": [],
   "source": [
    "src = pd.read_csv(links[0][\"url\"])"
   ]
  },
  {
   "cell_type": "markdown",
   "metadata": {},
   "source": [
    "### Clean up the messy file"
   ]
  },
  {
   "cell_type": "code",
   "execution_count": 11,
   "metadata": {},
   "outputs": [],
   "source": [
    "src.columns = src.columns.str.lower()"
   ]
  },
  {
   "cell_type": "code",
   "execution_count": 12,
   "metadata": {},
   "outputs": [],
   "source": [
    "src.drop(\n",
    "    [\n",
    "        \"unnamed: 28\",\n",
    "        \"unnamed: 29\",\n",
    "        \"unnamed: 30\",\n",
    "        \"unnamed: 31\",\n",
    "        \"unnamed: 32\",\n",
    "        \"unnamed: 33\",\n",
    "        \"unnamed: 34\",\n",
    "        \"unnamed: 35\",\n",
    "        \"unnamed: 36\",\n",
    "        \"unnamed: 37\",\n",
    "        \"unnamed: 38\",\n",
    "        \"unnamed: 39\",\n",
    "        \"unnamed: 40\",\n",
    "        \"unnamed: 41\",\n",
    "        \"unnamed: 42\",\n",
    "        \"unnamed: 43\",\n",
    "        \"unnamed: 44\",\n",
    "        \"unnamed: 45\",\n",
    "        \"unnamed: 46\",\n",
    "        \"unnamed: 47\",\n",
    "        \"unnamed: 48\",\n",
    "        \"unnamed: 49\",\n",
    "        \"unnamed: 50\",\n",
    "        \"unnamed: 51\",\n",
    "        \"unnamed: 52\",\n",
    "        \"unnamed: 53\",\n",
    "        \"unnamed: 54\",\n",
    "        \"unnamed: 55\",\n",
    "        \"unnamed: 56\",\n",
    "        \"unnamed: 57\",\n",
    "        \"unnamed: 58\",\n",
    "        \"unnamed: 59\",\n",
    "        \"unnamed: 60\",\n",
    "        \"unnamed: 61\",\n",
    "        \"unnamed: 62\",\n",
    "        \"unnamed: 63\",\n",
    "        \"unnamed: 64\",\n",
    "        \"unnamed: 65\",\n",
    "        \"unnamed: 66\",\n",
    "        \"unnamed: 67\",\n",
    "        \"unnamed: 68\",\n",
    "        \"unnamed: 69\",\n",
    "        \"unnamed: 70\",\n",
    "        \"unnamed: 71\",\n",
    "        \"unnamed: 72\",\n",
    "        \"unnamed: 73\",\n",
    "        \"unnamed: 74\",\n",
    "        \"unnamed: 75\",\n",
    "        \"unnamed: 76\",\n",
    "        \"unnamed: 77\",\n",
    "        \"unnamed: 78\",\n",
    "        \"unnamed: 79\",\n",
    "        \"unnamed: 80\",\n",
    "        \"unnamed: 81\",\n",
    "        \"unnamed: 82\",\n",
    "        \"unnamed: 83\",\n",
    "        \"unnamed: 84\",\n",
    "        \"unnamed: 85\",\n",
    "        \"unnamed: 86\",\n",
    "        \"unnamed: 87\",\n",
    "        \"unnamed: 88\",\n",
    "        \"unnamed: 89\",\n",
    "        \"unnamed: 90\",\n",
    "        \"unnamed: 91\",\n",
    "        \"unnamed: 92\",\n",
    "        \"unnamed: 93\",\n",
    "        \"unnamed: 94\",\n",
    "        \"unnamed: 95\",\n",
    "        \"unnamed: 96\",\n",
    "        \"unnamed: 97\",\n",
    "        \"unnamed: 98\",\n",
    "        \"unnamed: 99\",\n",
    "        \"unnamed: 100\",\n",
    "        \"unnamed: 101\",\n",
    "        \"unnamed: 102\",\n",
    "        \"unnamed: 103\",\n",
    "        \"unnamed: 104\",\n",
    "        \"unnamed: 105\",\n",
    "        \"unnamed: 106\",\n",
    "        \"unnamed: 107\",\n",
    "        \"unnamed: 108\",\n",
    "        \"unnamed: 109\",\n",
    "        \"unnamed: 110\",\n",
    "        \"unnamed: 111\",\n",
    "        \"unnamed: 112\",\n",
    "        \"unnamed: 113\",\n",
    "        \"unnamed: 114\",\n",
    "        \"unnamed: 115\",\n",
    "        \"unnamed: 116\",\n",
    "        \"unnamed: 117\",\n",
    "        \"unnamed: 118\",\n",
    "        \"unnamed: 119\",\n",
    "        \"unnamed: 120\",\n",
    "        \"unnamed: 121\",\n",
    "        \"unnamed: 122\",\n",
    "        \"unnamed: 123\",\n",
    "        \"unnamed: 124\",\n",
    "        \"unnamed: 125\",\n",
    "        \"unnamed: 126\",\n",
    "        \"unnamed: 127\",\n",
    "        \"unnamed: 128\",\n",
    "        \"unnamed: 129\",\n",
    "        \"unnamed: 130\",\n",
    "        \"unnamed: 131\",\n",
    "        \"unnamed: 132\",\n",
    "        \"unnamed: 133\",\n",
    "        \"unnamed: 134\",\n",
    "        \"unnamed: 135\",\n",
    "        \"unnamed: 136\",\n",
    "        \"unnamed: 137\",\n",
    "        \"unnamed: 138\",\n",
    "        \"unnamed: 139\",\n",
    "        \"unnamed: 140\",\n",
    "        \"unnamed: 141\",\n",
    "        \"unnamed: 142\",\n",
    "        \"unnamed: 143\",\n",
    "        \"unnamed: 144\",\n",
    "        \"unnamed: 145\",\n",
    "        \"unnamed: 146\",\n",
    "    ],\n",
    "    axis=1,\n",
    "    inplace=True,\n",
    ")"
   ]
  },
  {
   "cell_type": "code",
   "execution_count": null,
   "metadata": {},
   "outputs": [],
   "source": []
  },
  {
   "cell_type": "markdown",
   "metadata": {},
   "source": [
    "### Real dates"
   ]
  },
  {
   "cell_type": "code",
   "execution_count": 14,
   "metadata": {},
   "outputs": [],
   "source": [
    "date_cols = [\n",
    "    \"appt_made_date\",\n",
    "    \"appt_start_date\",\n",
    "    \"appt_end_date\",\n",
    "    \"appt_cancel_date\",\n",
    "    \"releasedate\",\n",
    "]"
   ]
  },
  {
   "cell_type": "code",
   "execution_count": 15,
   "metadata": {},
   "outputs": [],
   "source": [
    "src[date_cols] = src[date_cols].applymap(lambda x: pd.to_datetime(x))"
   ]
  },
  {
   "cell_type": "markdown",
   "metadata": {},
   "source": [
    "### The dataframe has inconsitent casing. Let's make it all upper for grouping later. "
   ]
  },
  {
   "cell_type": "code",
   "execution_count": 16,
   "metadata": {},
   "outputs": [],
   "source": [
    "src[\n",
    "    [\n",
    "        \"namelast\",\n",
    "        \"namefirst\",\n",
    "        \"namemid\",\n",
    "        \"uin\",\n",
    "        \"access_type\",\n",
    "        \"toa\",\n",
    "        \"poa\",\n",
    "        \"tod\",\n",
    "        \"pod\",\n",
    "        \"last_updatedby\",\n",
    "        \"post\",\n",
    "        \"lastentrydate\",\n",
    "        \"terminal_suffix\",\n",
    "        \"visitee_namelast\",\n",
    "        \"visitee_namefirst\",\n",
    "        \"meeting_loc\",\n",
    "        \"meeting_room\",\n",
    "        \"caller_name_last\",\n",
    "        \"caller_name_first\",\n",
    "        \"description\",\n",
    "    ]\n",
    "] = src[\n",
    "    [\n",
    "        \"namelast\",\n",
    "        \"namefirst\",\n",
    "        \"namemid\",\n",
    "        \"uin\",\n",
    "        \"access_type\",\n",
    "        \"toa\",\n",
    "        \"poa\",\n",
    "        \"tod\",\n",
    "        \"pod\",\n",
    "        \"last_updatedby\",\n",
    "        \"post\",\n",
    "        \"lastentrydate\",\n",
    "        \"terminal_suffix\",\n",
    "        \"visitee_namelast\",\n",
    "        \"visitee_namefirst\",\n",
    "        \"meeting_loc\",\n",
    "        \"meeting_room\",\n",
    "        \"caller_name_last\",\n",
    "        \"caller_name_first\",\n",
    "        \"description\",\n",
    "    ]\n",
    "].apply(\n",
    "    lambda x: x.astype(str).str.upper()\n",
    ")"
   ]
  },
  {
   "cell_type": "code",
   "execution_count": 17,
   "metadata": {},
   "outputs": [],
   "source": [
    "df = src.copy()"
   ]
  },
  {
   "cell_type": "markdown",
   "metadata": {},
   "source": [
    "---"
   ]
  },
  {
   "cell_type": "markdown",
   "metadata": {},
   "source": [
    "## Exports"
   ]
  },
  {
   "cell_type": "code",
   "execution_count": 18,
   "metadata": {},
   "outputs": [],
   "source": [
    "today = dt.date.today().strftime(\"%m-%d-%Y\")"
   ]
  },
  {
   "cell_type": "code",
   "execution_count": 20,
   "metadata": {},
   "outputs": [],
   "source": [
    "df.to_csv(\"data/processed/log_\" + today + \".csv\", index=False)\n",
    "df.to_csv(\"data/processed/log_latest.csv\", index=False)\n",
    "src.to_csv(\"data/raw/log_\" + today + \".csv\", index=False)"
   ]
  },
  {
   "cell_type": "code",
   "execution_count": null,
   "metadata": {},
   "outputs": [],
   "source": []
  }
 ],
 "metadata": {
  "kernelspec": {
   "display_name": "Python 3",
   "language": "python",
   "name": "python3"
  },
  "language_info": {
   "codemirror_mode": {
    "name": "ipython",
    "version": 3
   },
   "file_extension": ".py",
   "mimetype": "text/x-python",
   "name": "python",
   "nbconvert_exporter": "python",
   "pygments_lexer": "ipython3",
   "version": "3.7.4"
  }
 },
 "nbformat": 4,
 "nbformat_minor": 4
}
