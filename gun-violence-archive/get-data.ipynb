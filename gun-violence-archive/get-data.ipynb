{
 "cells": [
  {
   "cell_type": "markdown",
   "id": "ad003e32-ece7-426e-b95f-76b86591a5fe",
   "metadata": {},
   "source": [
    "# Gun Violence Archive"
   ]
  },
  {
   "cell_type": "markdown",
   "id": "7598beea-2ef9-499e-a1db-d3ff975f02c5",
   "metadata": {},
   "source": [
    "### Import Python tools and Jupyter configuration"
   ]
  },
  {
   "cell_type": "code",
   "execution_count": 17,
   "id": "3115fafd-80a0-4164-8f23-14d1e3aa0672",
   "metadata": {},
   "outputs": [
    {
     "name": "stdout",
     "output_type": "stream",
     "text": [
      "The lab_black extension is already loaded. To reload it, use:\n",
      "  %reload_ext lab_black\n"
     ]
    }
   ],
   "source": [
    "%load_ext lab_black"
   ]
  },
  {
   "cell_type": "code",
   "execution_count": 18,
   "id": "0926c570-fca1-4709-9f86-93d8824b9798",
   "metadata": {},
   "outputs": [],
   "source": [
    "import pandas as pd\n",
    "import altair as alt\n",
    "import altair_latimes as lat"
   ]
  },
  {
   "cell_type": "code",
   "execution_count": 19,
   "id": "0d7b2597-64fc-43cf-afc5-09c8740863f8",
   "metadata": {},
   "outputs": [
    {
     "data": {
      "text/plain": [
       "ThemeRegistry.enable('latimes')"
      ]
     },
     "execution_count": 19,
     "metadata": {},
     "output_type": "execute_result"
    }
   ],
   "source": [
    "alt.themes.register(\"latimes\", lat.theme)\n",
    "alt.themes.enable(\"latimes\")"
   ]
  },
  {
   "cell_type": "code",
   "execution_count": 20,
   "id": "5e925b93-d395-47d4-980c-7259abf5db43",
   "metadata": {},
   "outputs": [],
   "source": [
    "pd.options.display.max_columns = 100\n",
    "pd.options.display.max_rows = 1000\n",
    "alt.data_transformers.disable_max_rows()\n",
    "pd.options.display.max_colwidth = None"
   ]
  },
  {
   "cell_type": "code",
   "execution_count": 21,
   "id": "1546f21b-0638-483b-8625-727c88aedd7c",
   "metadata": {},
   "outputs": [],
   "source": [
    "src = pd.read_csv(\n",
    "    \"data/raw/gun-violence-archive-2021-06-15.csv\",\n",
    "    parse_dates=[\"date\"],\n",
    "    dtype={\"Incident ID\": str},\n",
    "    header=0,\n",
    "    names=[\n",
    "        \"id\",\n",
    "        \"date\",\n",
    "        \"state\",\n",
    "        \"city_county\",\n",
    "        \"address\",\n",
    "        \"killed\",\n",
    "        \"injured\",\n",
    "        \"operations\",\n",
    "    ],\n",
    ")"
   ]
  },
  {
   "cell_type": "code",
   "execution_count": 22,
   "id": "3462a7ad-4567-46ce-9fa2-638113f960da",
   "metadata": {},
   "outputs": [
    {
     "data": {
      "text/html": [
       "<div>\n",
       "<style scoped>\n",
       "    .dataframe tbody tr th:only-of-type {\n",
       "        vertical-align: middle;\n",
       "    }\n",
       "\n",
       "    .dataframe tbody tr th {\n",
       "        vertical-align: top;\n",
       "    }\n",
       "\n",
       "    .dataframe thead th {\n",
       "        text-align: right;\n",
       "    }\n",
       "</style>\n",
       "<table border=\"1\" class=\"dataframe\">\n",
       "  <thead>\n",
       "    <tr style=\"text-align: right;\">\n",
       "      <th></th>\n",
       "      <th>id</th>\n",
       "      <th>date</th>\n",
       "      <th>state</th>\n",
       "      <th>city_county</th>\n",
       "      <th>address</th>\n",
       "      <th>killed</th>\n",
       "      <th>injured</th>\n",
       "      <th>operations</th>\n",
       "    </tr>\n",
       "  </thead>\n",
       "  <tbody>\n",
       "    <tr>\n",
       "      <th>0</th>\n",
       "      <td>2035278</td>\n",
       "      <td>2021-06-15</td>\n",
       "      <td>Virginia</td>\n",
       "      <td>Hampton</td>\n",
       "      <td>1500 block of N King St</td>\n",
       "      <td>0</td>\n",
       "      <td>2</td>\n",
       "      <td>NaN</td>\n",
       "    </tr>\n",
       "    <tr>\n",
       "      <th>1</th>\n",
       "      <td>2035117</td>\n",
       "      <td>2021-06-14</td>\n",
       "      <td>Tennessee</td>\n",
       "      <td>Memphis</td>\n",
       "      <td>1780 Pendleton St</td>\n",
       "      <td>0</td>\n",
       "      <td>1</td>\n",
       "      <td>NaN</td>\n",
       "    </tr>\n",
       "    <tr>\n",
       "      <th>2</th>\n",
       "      <td>2035103</td>\n",
       "      <td>2021-06-14</td>\n",
       "      <td>New York</td>\n",
       "      <td>Corona (Queens)</td>\n",
       "      <td>189th St and 119th Ave</td>\n",
       "      <td>0</td>\n",
       "      <td>2</td>\n",
       "      <td>NaN</td>\n",
       "    </tr>\n",
       "    <tr>\n",
       "      <th>3</th>\n",
       "      <td>2034224</td>\n",
       "      <td>2021-06-14</td>\n",
       "      <td>Connecticut</td>\n",
       "      <td>Hartford</td>\n",
       "      <td>24 Bliss St</td>\n",
       "      <td>0</td>\n",
       "      <td>2</td>\n",
       "      <td>NaN</td>\n",
       "    </tr>\n",
       "    <tr>\n",
       "      <th>4</th>\n",
       "      <td>2035095</td>\n",
       "      <td>2021-06-14</td>\n",
       "      <td>Illinois</td>\n",
       "      <td>Chicago</td>\n",
       "      <td>5105 W Fulton St</td>\n",
       "      <td>1</td>\n",
       "      <td>0</td>\n",
       "      <td>NaN</td>\n",
       "    </tr>\n",
       "  </tbody>\n",
       "</table>\n",
       "</div>"
      ],
      "text/plain": [
       "        id       date        state      city_county                  address  \\\n",
       "0  2035278 2021-06-15     Virginia          Hampton  1500 block of N King St   \n",
       "1  2035117 2021-06-14    Tennessee          Memphis        1780 Pendleton St   \n",
       "2  2035103 2021-06-14     New York  Corona (Queens)   189th St and 119th Ave   \n",
       "3  2034224 2021-06-14  Connecticut         Hartford              24 Bliss St   \n",
       "4  2035095 2021-06-14     Illinois          Chicago         5105 W Fulton St   \n",
       "\n",
       "   killed  injured  operations  \n",
       "0       0        2         NaN  \n",
       "1       0        1         NaN  \n",
       "2       0        2         NaN  \n",
       "3       0        2         NaN  \n",
       "4       1        0         NaN  "
      ]
     },
     "execution_count": 22,
     "metadata": {},
     "output_type": "execute_result"
    }
   ],
   "source": [
    "src.head()"
   ]
  },
  {
   "cell_type": "markdown",
   "id": "6257f843-bd19-442e-aa06-ee1f8e909023",
   "metadata": {},
   "source": [
    "### Dates"
   ]
  },
  {
   "cell_type": "code",
   "execution_count": 23,
   "id": "2e2c6c57-9911-4a8d-be49-234364164943",
   "metadata": {},
   "outputs": [],
   "source": [
    "src[\"date\"] = pd.to_datetime(src[\"date\"], format=\"%m/%d/%Y\")\n",
    "src[\"date\"] = pd.to_datetime(src[\"date\"].dt.strftime(\"%Y-%m-%d\"))\n",
    "src[\"year\"] = src[\"date\"].dt.year\n",
    "src[\"quarter\"] = src[\"date\"].dt.quarter\n",
    "src[\"day\"] = src[\"date\"].dt.day\n",
    "src[\"month\"] = src[\"date\"].dt.month\n",
    "src[\"weekday\"] = src[\"date\"].dt.weekday\n",
    "src[\"monthname\"] = src[\"date\"].dt.month_name()\n",
    "src[\"month_year\"] = pd.to_datetime(src[\"date\"]).dt.to_period(\"M\")\n",
    "src[\"month_year_full\"] = src[\"date\"].apply(lambda x: x.strftime(\"%B-%Y\"))\n",
    "src[\"month_year_full\"] = pd.to_datetime(src[\"month_year_full\"])"
   ]
  }
 ],
 "metadata": {
  "kernelspec": {
   "display_name": "Python 3",
   "language": "python",
   "name": "python3"
  },
  "language_info": {
   "codemirror_mode": {
    "name": "ipython",
    "version": 3
   },
   "file_extension": ".py",
   "mimetype": "text/x-python",
   "name": "python",
   "nbconvert_exporter": "python",
   "pygments_lexer": "ipython3",
   "version": "3.8.2"
  }
 },
 "nbformat": 4,
 "nbformat_minor": 5
}
