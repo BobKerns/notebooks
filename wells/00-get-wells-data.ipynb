{
 "cells": [
  {
   "cell_type": "markdown",
   "metadata": {},
   "source": [
    "# Processing and analyzing wells data"
   ]
  },
  {
   "cell_type": "markdown",
   "metadata": {},
   "source": [
    "### Load python tools"
   ]
  },
  {
   "cell_type": "code",
   "execution_count": 1,
   "metadata": {},
   "outputs": [],
   "source": [
    "import pandas as pd\n",
    "import geopandas as gpd\n",
    "import altair as alt"
   ]
  },
  {
   "cell_type": "markdown",
   "metadata": {},
   "source": [
    "### Make stuff pretty"
   ]
  },
  {
   "cell_type": "code",
   "execution_count": 2,
   "metadata": {},
   "outputs": [],
   "source": [
    "%load_ext lab_black"
   ]
  },
  {
   "cell_type": "code",
   "execution_count": 3,
   "metadata": {},
   "outputs": [],
   "source": [
    "import altair as alt\n",
    "import altair_latimes as lat"
   ]
  },
  {
   "cell_type": "code",
   "execution_count": 4,
   "metadata": {},
   "outputs": [],
   "source": [
    "alt.themes.register(\"latimes\", lat.theme)\n",
    "alt.themes.enable(\"latimes\")\n",
    "pd.options.display.max_columns = 100\n",
    "pd.options.display.max_rows = 1000\n",
    "alt.data_transformers.disable_max_rows()\n",
    "pd.set_option(\"display.max_colwidth\", None)"
   ]
  },
  {
   "cell_type": "markdown",
   "metadata": {},
   "source": [
    "---"
   ]
  },
  {
   "cell_type": "markdown",
   "metadata": {},
   "source": [
    "### Let's get the latest version of the data"
   ]
  },
  {
   "cell_type": "code",
   "execution_count": 5,
   "metadata": {},
   "outputs": [],
   "source": [
    "# Download CSV from this url: http://aogweb.state.ak.us/DataMiner3/Forms/Production.aspx"
   ]
  },
  {
   "cell_type": "code",
   "execution_count": 6,
   "metadata": {},
   "outputs": [],
   "source": [
    "src = pd.read_csv(\"input/Production 20210305 131038.csv\")"
   ]
  },
  {
   "cell_type": "markdown",
   "metadata": {},
   "source": [
    "### How many records are here? "
   ]
  },
  {
   "cell_type": "code",
   "execution_count": 7,
   "metadata": {},
   "outputs": [
    {
     "data": {
      "text/plain": [
       "1153194"
      ]
     },
     "execution_count": 7,
     "metadata": {},
     "output_type": "execute_result"
    }
   ],
   "source": [
    "len(src)"
   ]
  },
  {
   "cell_type": "markdown",
   "metadata": {},
   "source": [
    "### Clean up the headers"
   ]
  },
  {
   "cell_type": "code",
   "execution_count": 8,
   "metadata": {},
   "outputs": [],
   "source": [
    "src.columns = (\n",
    "    src.columns.str.strip()\n",
    "    .str.lower()\n",
    "    .str.replace(\" \", \"_\")\n",
    "    .str.replace(\"(\", \"\")\n",
    "    .str.replace(\")\", \"\")\n",
    "    .str.replace(\"/\", \"_\")\n",
    ")"
   ]
  },
  {
   "cell_type": "markdown",
   "metadata": {},
   "source": [
    "### Parse dates"
   ]
  },
  {
   "cell_type": "code",
   "execution_count": 9,
   "metadata": {},
   "outputs": [],
   "source": [
    "src[\"date\"] = pd.to_datetime(src[\"date\"], format=\"%m/%Y\")\n",
    "src[\"month\"] = src[\"date\"].dt.strftime(\"%m\")\n",
    "src[\"year\"] = src[\"date\"].dt.strftime(\"%Y\")"
   ]
  },
  {
   "cell_type": "markdown",
   "metadata": {},
   "source": [
    "### Remove thousand separator characters from production details"
   ]
  },
  {
   "cell_type": "code",
   "execution_count": 10,
   "metadata": {},
   "outputs": [],
   "source": [
    "src[\"gas\"] = src[\"gas\"].str.replace(\",\", \"\", regex=False)\n",
    "src[\"oil\"] = src[\"oil\"].str.replace(\",\", \"\", regex=False)\n",
    "src[\"water\"] = src[\"water\"].str.replace(\",\", \"\", regex=False)"
   ]
  },
  {
   "cell_type": "markdown",
   "metadata": {},
   "source": [
    "### Convert production totals and days to numbers"
   ]
  },
  {
   "cell_type": "code",
   "execution_count": 11,
   "metadata": {},
   "outputs": [],
   "source": [
    "src[[\"gas\", \"oil\", \"water\", \"days\"]] = (\n",
    "    src[[\"gas\", \"oil\", \"water\", \"days\"]].fillna(\"0\").astype(int)\n",
    ")"
   ]
  },
  {
   "cell_type": "code",
   "execution_count": 12,
   "metadata": {},
   "outputs": [
    {
     "data": {
      "text/html": [
       "<div>\n",
       "<style scoped>\n",
       "    .dataframe tbody tr th:only-of-type {\n",
       "        vertical-align: middle;\n",
       "    }\n",
       "\n",
       "    .dataframe tbody tr th {\n",
       "        vertical-align: top;\n",
       "    }\n",
       "\n",
       "    .dataframe thead th {\n",
       "        text-align: right;\n",
       "    }\n",
       "</style>\n",
       "<table border=\"1\" class=\"dataframe\">\n",
       "  <thead>\n",
       "    <tr style=\"text-align: right;\">\n",
       "      <th></th>\n",
       "      <th>permit</th>\n",
       "      <th>api</th>\n",
       "      <th>well_name</th>\n",
       "      <th>operator</th>\n",
       "      <th>well_status</th>\n",
       "      <th>area</th>\n",
       "      <th>field</th>\n",
       "      <th>pool</th>\n",
       "      <th>pad</th>\n",
       "      <th>date</th>\n",
       "      <th>production_type</th>\n",
       "      <th>production_method</th>\n",
       "      <th>oil</th>\n",
       "      <th>gas</th>\n",
       "      <th>water</th>\n",
       "      <th>days</th>\n",
       "      <th>month</th>\n",
       "      <th>year</th>\n",
       "    </tr>\n",
       "  </thead>\n",
       "  <tbody>\n",
       "    <tr>\n",
       "      <th>0</th>\n",
       "      <td>208098</td>\n",
       "      <td>50883201270000</td>\n",
       "      <td>N COOK INLET UNIT A-16</td>\n",
       "      <td>Hilcorp Alaska, LLC</td>\n",
       "      <td>Gas well, single completion</td>\n",
       "      <td>COOK INLET BASIN</td>\n",
       "      <td>NORTH COOK INLET</td>\n",
       "      <td>TERTIARY GAS</td>\n",
       "      <td>NO_COOK_INLET</td>\n",
       "      <td>2021-01-01</td>\n",
       "      <td>Gas Production</td>\n",
       "      <td>Gas Lift</td>\n",
       "      <td>0</td>\n",
       "      <td>73076</td>\n",
       "      <td>763</td>\n",
       "      <td>31</td>\n",
       "      <td>01</td>\n",
       "      <td>2021</td>\n",
       "    </tr>\n",
       "    <tr>\n",
       "      <th>1</th>\n",
       "      <td>208097</td>\n",
       "      <td>50883201260000</td>\n",
       "      <td>N COOK INLET UNIT A-15</td>\n",
       "      <td>Hilcorp Alaska, LLC</td>\n",
       "      <td>Gas well, single completion</td>\n",
       "      <td>COOK INLET BASIN</td>\n",
       "      <td>NORTH COOK INLET</td>\n",
       "      <td>TERTIARY GAS</td>\n",
       "      <td>NO_COOK_INLET</td>\n",
       "      <td>2021-01-01</td>\n",
       "      <td>Gas Production</td>\n",
       "      <td>Gas Lift</td>\n",
       "      <td>0</td>\n",
       "      <td>44246</td>\n",
       "      <td>1608</td>\n",
       "      <td>31</td>\n",
       "      <td>01</td>\n",
       "      <td>2021</td>\n",
       "    </tr>\n",
       "    <tr>\n",
       "      <th>2</th>\n",
       "      <td>208096</td>\n",
       "      <td>50883201250000</td>\n",
       "      <td>N COOK INLET UNIT A-14</td>\n",
       "      <td>Hilcorp Alaska, LLC</td>\n",
       "      <td>Gas well, single completion</td>\n",
       "      <td>COOK INLET BASIN</td>\n",
       "      <td>NORTH COOK INLET</td>\n",
       "      <td>TERTIARY GAS</td>\n",
       "      <td>NO_COOK_INLET</td>\n",
       "      <td>2021-01-01</td>\n",
       "      <td>Gas Production</td>\n",
       "      <td>Gas Lift</td>\n",
       "      <td>0</td>\n",
       "      <td>11467</td>\n",
       "      <td>1994</td>\n",
       "      <td>31</td>\n",
       "      <td>01</td>\n",
       "      <td>2021</td>\n",
       "    </tr>\n",
       "    <tr>\n",
       "      <th>3</th>\n",
       "      <td>198059</td>\n",
       "      <td>50883200950000</td>\n",
       "      <td>N COOK INLET UNIT B-03</td>\n",
       "      <td>Hilcorp Alaska, LLC</td>\n",
       "      <td>Gas well, single completion</td>\n",
       "      <td>COOK INLET BASIN</td>\n",
       "      <td>NORTH COOK INLET</td>\n",
       "      <td>TERTIARY GAS</td>\n",
       "      <td>NO_COOK_INLET</td>\n",
       "      <td>2021-01-01</td>\n",
       "      <td>Gas Production</td>\n",
       "      <td>Gas Lift</td>\n",
       "      <td>0</td>\n",
       "      <td>32784</td>\n",
       "      <td>4917</td>\n",
       "      <td>31</td>\n",
       "      <td>01</td>\n",
       "      <td>2021</td>\n",
       "    </tr>\n",
       "    <tr>\n",
       "      <th>4</th>\n",
       "      <td>198002</td>\n",
       "      <td>50883200930100</td>\n",
       "      <td>N COOK INLET UNIT B-01A</td>\n",
       "      <td>Hilcorp Alaska, LLC</td>\n",
       "      <td>Gas well &amp; Disposal well, dual comp</td>\n",
       "      <td>COOK INLET BASIN</td>\n",
       "      <td>NORTH COOK INLET</td>\n",
       "      <td>TERTIARY GAS</td>\n",
       "      <td>NO_COOK_INLET</td>\n",
       "      <td>2021-01-01</td>\n",
       "      <td>Gas Production</td>\n",
       "      <td>Shut-In</td>\n",
       "      <td>0</td>\n",
       "      <td>0</td>\n",
       "      <td>0</td>\n",
       "      <td>0</td>\n",
       "      <td>01</td>\n",
       "      <td>2021</td>\n",
       "    </tr>\n",
       "  </tbody>\n",
       "</table>\n",
       "</div>"
      ],
      "text/plain": [
       "   permit             api                well_name             operator  \\\n",
       "0  208098  50883201270000   N COOK INLET UNIT A-16  Hilcorp Alaska, LLC   \n",
       "1  208097  50883201260000   N COOK INLET UNIT A-15  Hilcorp Alaska, LLC   \n",
       "2  208096  50883201250000   N COOK INLET UNIT A-14  Hilcorp Alaska, LLC   \n",
       "3  198059  50883200950000   N COOK INLET UNIT B-03  Hilcorp Alaska, LLC   \n",
       "4  198002  50883200930100  N COOK INLET UNIT B-01A  Hilcorp Alaska, LLC   \n",
       "\n",
       "                           well_status              area             field  \\\n",
       "0          Gas well, single completion  COOK INLET BASIN  NORTH COOK INLET   \n",
       "1          Gas well, single completion  COOK INLET BASIN  NORTH COOK INLET   \n",
       "2          Gas well, single completion  COOK INLET BASIN  NORTH COOK INLET   \n",
       "3          Gas well, single completion  COOK INLET BASIN  NORTH COOK INLET   \n",
       "4  Gas well & Disposal well, dual comp  COOK INLET BASIN  NORTH COOK INLET   \n",
       "\n",
       "           pool            pad       date production_type production_method  \\\n",
       "0  TERTIARY GAS  NO_COOK_INLET 2021-01-01  Gas Production          Gas Lift   \n",
       "1  TERTIARY GAS  NO_COOK_INLET 2021-01-01  Gas Production          Gas Lift   \n",
       "2  TERTIARY GAS  NO_COOK_INLET 2021-01-01  Gas Production          Gas Lift   \n",
       "3  TERTIARY GAS  NO_COOK_INLET 2021-01-01  Gas Production          Gas Lift   \n",
       "4  TERTIARY GAS  NO_COOK_INLET 2021-01-01  Gas Production           Shut-In   \n",
       "\n",
       "   oil    gas  water  days month  year  \n",
       "0    0  73076    763    31    01  2021  \n",
       "1    0  44246   1608    31    01  2021  \n",
       "2    0  11467   1994    31    01  2021  \n",
       "3    0  32784   4917    31    01  2021  \n",
       "4    0      0      0     0    01  2021  "
      ]
     },
     "execution_count": 12,
     "metadata": {},
     "output_type": "execute_result"
    }
   ],
   "source": [
    "src.head()"
   ]
  },
  {
   "cell_type": "markdown",
   "metadata": {},
   "source": [
    "### Focus on the area of interest"
   ]
  },
  {
   "cell_type": "code",
   "execution_count": 13,
   "metadata": {},
   "outputs": [],
   "source": [
    "# Hilcorp North Slope only produces in Prudhoe Bay, but to narrow down the BP search to those wells, I put \"Arctic Slope\" in Area and \"Prudhoe Bay\" in Field."
   ]
  },
  {
   "cell_type": "code",
   "execution_count": 14,
   "metadata": {},
   "outputs": [],
   "source": [
    "src_limit = src[(src[\"area\"] == \"ARCTIC SLOPE\") & (src[\"field\"] == \"PRUDHOE BAY\")]"
   ]
  },
  {
   "cell_type": "markdown",
   "metadata": {},
   "source": [
    "### How many records now?"
   ]
  },
  {
   "cell_type": "code",
   "execution_count": 15,
   "metadata": {},
   "outputs": [
    {
     "data": {
      "text/plain": [
       "526765"
      ]
     },
     "execution_count": 15,
     "metadata": {},
     "output_type": "execute_result"
    }
   ],
   "source": [
    "len(src_limit)"
   ]
  },
  {
   "cell_type": "code",
   "execution_count": 16,
   "metadata": {},
   "outputs": [],
   "source": [
    "# I'm specifically interested in production by Hilcorp North Slope from June 2020 through January 2021"
   ]
  },
  {
   "cell_type": "code",
   "execution_count": 17,
   "metadata": {},
   "outputs": [],
   "source": [
    "months = [\"06\", \"07\", \"08\", \"09\", \"10\", \"11\", \"12\", \"01\"]"
   ]
  },
  {
   "cell_type": "code",
   "execution_count": 18,
   "metadata": {},
   "outputs": [],
   "source": [
    "src_limit_dates = src_limit[src_limit[\"month\"].isin(months)]"
   ]
  },
  {
   "cell_type": "markdown",
   "metadata": {},
   "source": [
    "### How many records now?"
   ]
  },
  {
   "cell_type": "code",
   "execution_count": 19,
   "metadata": {},
   "outputs": [
    {
     "data": {
      "text/plain": [
       "353047"
      ]
     },
     "execution_count": 19,
     "metadata": {},
     "output_type": "execute_result"
    }
   ],
   "source": [
    "len(src_limit_dates)"
   ]
  },
  {
   "cell_type": "code",
   "execution_count": 20,
   "metadata": {},
   "outputs": [
    {
     "data": {
      "text/plain": [
       "BP Exploration (Alaska) Inc.          323816\n",
       "ARCO Alaska Inc.                       18729\n",
       "Hilcorp North Slope, LLC               10117\n",
       "Standard Alaska Production Company       220\n",
       "ConocoPhillips Alaska, Inc.              136\n",
       "Sohio Alaska Petroleum Company            29\n",
       "Name: operator, dtype: int64"
      ]
     },
     "execution_count": 20,
     "metadata": {},
     "output_type": "execute_result"
    }
   ],
   "source": [
    "src_limit_dates.operator.value_counts()"
   ]
  },
  {
   "cell_type": "markdown",
   "metadata": {},
   "source": [
    "---"
   ]
  },
  {
   "cell_type": "markdown",
   "metadata": {},
   "source": [
    "### OK, let's get to work"
   ]
  },
  {
   "cell_type": "code",
   "execution_count": 21,
   "metadata": {},
   "outputs": [],
   "source": [
    "df = src_limit_dates.copy()"
   ]
  },
  {
   "cell_type": "markdown",
   "metadata": {},
   "source": [
    "### Limit well analysis to Hilcorp North Slope, LLC"
   ]
  },
  {
   "cell_type": "code",
   "execution_count": 22,
   "metadata": {},
   "outputs": [],
   "source": [
    "df_hilcorp = df[df[\"operator\"] == \"Hilcorp North Slope, LLC\"]"
   ]
  },
  {
   "cell_type": "code",
   "execution_count": 23,
   "metadata": {},
   "outputs": [
    {
     "data": {
      "text/html": [
       "<div>\n",
       "<style scoped>\n",
       "    .dataframe tbody tr th:only-of-type {\n",
       "        vertical-align: middle;\n",
       "    }\n",
       "\n",
       "    .dataframe tbody tr th {\n",
       "        vertical-align: top;\n",
       "    }\n",
       "\n",
       "    .dataframe thead th {\n",
       "        text-align: right;\n",
       "    }\n",
       "</style>\n",
       "<table border=\"1\" class=\"dataframe\">\n",
       "  <thead>\n",
       "    <tr style=\"text-align: right;\">\n",
       "      <th></th>\n",
       "      <th>permit</th>\n",
       "      <th>api</th>\n",
       "      <th>well_name</th>\n",
       "      <th>operator</th>\n",
       "      <th>well_status</th>\n",
       "      <th>area</th>\n",
       "      <th>field</th>\n",
       "      <th>pool</th>\n",
       "      <th>pad</th>\n",
       "      <th>date</th>\n",
       "      <th>production_type</th>\n",
       "      <th>production_method</th>\n",
       "      <th>oil</th>\n",
       "      <th>gas</th>\n",
       "      <th>water</th>\n",
       "      <th>days</th>\n",
       "      <th>month</th>\n",
       "      <th>year</th>\n",
       "    </tr>\n",
       "  </thead>\n",
       "  <tbody>\n",
       "    <tr>\n",
       "      <th>975</th>\n",
       "      <td>219187</td>\n",
       "      <td>50029236610000</td>\n",
       "      <td>PRUDHOE BAY UNIT J-31</td>\n",
       "      <td>Hilcorp North Slope, LLC</td>\n",
       "      <td>Oil well, single completion</td>\n",
       "      <td>ARCTIC SLOPE</td>\n",
       "      <td>PRUDHOE BAY</td>\n",
       "      <td>PRUDHOE OIL</td>\n",
       "      <td>PBU_J</td>\n",
       "      <td>2021-01-01</td>\n",
       "      <td>Oil Production</td>\n",
       "      <td>Flowing</td>\n",
       "      <td>23793</td>\n",
       "      <td>602981</td>\n",
       "      <td>37092</td>\n",
       "      <td>31</td>\n",
       "      <td>01</td>\n",
       "      <td>2021</td>\n",
       "    </tr>\n",
       "    <tr>\n",
       "      <th>981</th>\n",
       "      <td>219120</td>\n",
       "      <td>50029236470000</td>\n",
       "      <td>PRUDHOE BAY UN POL S-202</td>\n",
       "      <td>Hilcorp North Slope, LLC</td>\n",
       "      <td>Oil well, single completion</td>\n",
       "      <td>ARCTIC SLOPE</td>\n",
       "      <td>PRUDHOE BAY</td>\n",
       "      <td>POLARIS OIL</td>\n",
       "      <td>PBU_S</td>\n",
       "      <td>2021-01-01</td>\n",
       "      <td>Oil Production</td>\n",
       "      <td>Gas Lift</td>\n",
       "      <td>56517</td>\n",
       "      <td>73097</td>\n",
       "      <td>0</td>\n",
       "      <td>31</td>\n",
       "      <td>01</td>\n",
       "      <td>2021</td>\n",
       "    </tr>\n",
       "    <tr>\n",
       "      <th>986</th>\n",
       "      <td>219102</td>\n",
       "      <td>50029236420000</td>\n",
       "      <td>PRUDHOE BAY UN LIS L5-07</td>\n",
       "      <td>Hilcorp North Slope, LLC</td>\n",
       "      <td>Oil well, single completion</td>\n",
       "      <td>ARCTIC SLOPE</td>\n",
       "      <td>PRUDHOE BAY</td>\n",
       "      <td>LISBURNE OIL</td>\n",
       "      <td>PBU_LIS_L5</td>\n",
       "      <td>2021-01-01</td>\n",
       "      <td>Oil Production</td>\n",
       "      <td>Flowing</td>\n",
       "      <td>25336</td>\n",
       "      <td>331416</td>\n",
       "      <td>14473</td>\n",
       "      <td>31</td>\n",
       "      <td>01</td>\n",
       "      <td>2021</td>\n",
       "    </tr>\n",
       "    <tr>\n",
       "      <th>989</th>\n",
       "      <td>219073</td>\n",
       "      <td>50029236330000</td>\n",
       "      <td>PRUDHOE BAY UNIT 01-37</td>\n",
       "      <td>Hilcorp North Slope, LLC</td>\n",
       "      <td>Oil well, single completion</td>\n",
       "      <td>ARCTIC SLOPE</td>\n",
       "      <td>PRUDHOE BAY</td>\n",
       "      <td>PRUDHOE OIL</td>\n",
       "      <td>PBU_DS1</td>\n",
       "      <td>2021-01-01</td>\n",
       "      <td>Oil Production</td>\n",
       "      <td>Gas Lift</td>\n",
       "      <td>13642</td>\n",
       "      <td>510738</td>\n",
       "      <td>55114</td>\n",
       "      <td>31</td>\n",
       "      <td>01</td>\n",
       "      <td>2021</td>\n",
       "    </tr>\n",
       "    <tr>\n",
       "      <th>992</th>\n",
       "      <td>219050</td>\n",
       "      <td>50029236280000</td>\n",
       "      <td>PRUDHOE BAY UN LIS L3-06</td>\n",
       "      <td>Hilcorp North Slope, LLC</td>\n",
       "      <td>Oil well, single completion</td>\n",
       "      <td>ARCTIC SLOPE</td>\n",
       "      <td>PRUDHOE BAY</td>\n",
       "      <td>LISBURNE OIL</td>\n",
       "      <td>PBU_LIS_L3</td>\n",
       "      <td>2021-01-01</td>\n",
       "      <td>Oil Production</td>\n",
       "      <td>Flowing</td>\n",
       "      <td>8684</td>\n",
       "      <td>228494</td>\n",
       "      <td>3646</td>\n",
       "      <td>31</td>\n",
       "      <td>01</td>\n",
       "      <td>2021</td>\n",
       "    </tr>\n",
       "  </tbody>\n",
       "</table>\n",
       "</div>"
      ],
      "text/plain": [
       "     permit             api                 well_name  \\\n",
       "975  219187  50029236610000     PRUDHOE BAY UNIT J-31   \n",
       "981  219120  50029236470000  PRUDHOE BAY UN POL S-202   \n",
       "986  219102  50029236420000  PRUDHOE BAY UN LIS L5-07   \n",
       "989  219073  50029236330000    PRUDHOE BAY UNIT 01-37   \n",
       "992  219050  50029236280000  PRUDHOE BAY UN LIS L3-06   \n",
       "\n",
       "                     operator                  well_status          area  \\\n",
       "975  Hilcorp North Slope, LLC  Oil well, single completion  ARCTIC SLOPE   \n",
       "981  Hilcorp North Slope, LLC  Oil well, single completion  ARCTIC SLOPE   \n",
       "986  Hilcorp North Slope, LLC  Oil well, single completion  ARCTIC SLOPE   \n",
       "989  Hilcorp North Slope, LLC  Oil well, single completion  ARCTIC SLOPE   \n",
       "992  Hilcorp North Slope, LLC  Oil well, single completion  ARCTIC SLOPE   \n",
       "\n",
       "           field          pool         pad       date production_type  \\\n",
       "975  PRUDHOE BAY   PRUDHOE OIL       PBU_J 2021-01-01  Oil Production   \n",
       "981  PRUDHOE BAY   POLARIS OIL       PBU_S 2021-01-01  Oil Production   \n",
       "986  PRUDHOE BAY  LISBURNE OIL  PBU_LIS_L5 2021-01-01  Oil Production   \n",
       "989  PRUDHOE BAY   PRUDHOE OIL     PBU_DS1 2021-01-01  Oil Production   \n",
       "992  PRUDHOE BAY  LISBURNE OIL  PBU_LIS_L3 2021-01-01  Oil Production   \n",
       "\n",
       "    production_method    oil     gas  water  days month  year  \n",
       "975           Flowing  23793  602981  37092    31    01  2021  \n",
       "981          Gas Lift  56517   73097      0    31    01  2021  \n",
       "986           Flowing  25336  331416  14473    31    01  2021  \n",
       "989          Gas Lift  13642  510738  55114    31    01  2021  \n",
       "992           Flowing   8684  228494   3646    31    01  2021  "
      ]
     },
     "execution_count": 23,
     "metadata": {},
     "output_type": "execute_result"
    }
   ],
   "source": [
    "df_hilcorp.head()"
   ]
  },
  {
   "cell_type": "markdown",
   "metadata": {},
   "source": [
    "### Make a list of all the Hilcorp wells "
   ]
  },
  {
   "cell_type": "code",
   "execution_count": 24,
   "metadata": {},
   "outputs": [],
   "source": [
    "df_hilcorp_wells = df_hilcorp.api.to_list()"
   ]
  },
  {
   "cell_type": "code",
   "execution_count": 25,
   "metadata": {},
   "outputs": [
    {
     "data": {
      "text/plain": [
       "10117"
      ]
     },
     "execution_count": 25,
     "metadata": {},
     "output_type": "execute_result"
    }
   ],
   "source": [
    "len(df_hilcorp_wells)"
   ]
  },
  {
   "cell_type": "markdown",
   "metadata": {},
   "source": [
    "### What's the production by Hilcorp in 2020 & 2021? "
   ]
  },
  {
   "cell_type": "code",
   "execution_count": 26,
   "metadata": {},
   "outputs": [
    {
     "data": {
      "text/html": [
       "<div>\n",
       "<style scoped>\n",
       "    .dataframe tbody tr th:only-of-type {\n",
       "        vertical-align: middle;\n",
       "    }\n",
       "\n",
       "    .dataframe tbody tr th {\n",
       "        vertical-align: top;\n",
       "    }\n",
       "\n",
       "    .dataframe thead th {\n",
       "        text-align: right;\n",
       "    }\n",
       "</style>\n",
       "<table border=\"1\" class=\"dataframe\">\n",
       "  <thead>\n",
       "    <tr style=\"text-align: right;\">\n",
       "      <th></th>\n",
       "      <th>operator</th>\n",
       "      <th>month</th>\n",
       "      <th>oil</th>\n",
       "      <th>gas</th>\n",
       "      <th>water</th>\n",
       "      <th>days</th>\n",
       "    </tr>\n",
       "  </thead>\n",
       "  <tbody>\n",
       "    <tr>\n",
       "      <th>0</th>\n",
       "      <td>Hilcorp North Slope, LLC</td>\n",
       "      <td>01</td>\n",
       "      <td>6914369</td>\n",
       "      <td>270080714</td>\n",
       "      <td>45783845</td>\n",
       "      <td>1262</td>\n",
       "    </tr>\n",
       "    <tr>\n",
       "      <th>1</th>\n",
       "      <td>Hilcorp North Slope, LLC</td>\n",
       "      <td>06</td>\n",
       "      <td>6186756</td>\n",
       "      <td>223959355</td>\n",
       "      <td>39011101</td>\n",
       "      <td>1266</td>\n",
       "    </tr>\n",
       "    <tr>\n",
       "      <th>2</th>\n",
       "      <td>Hilcorp North Slope, LLC</td>\n",
       "      <td>07</td>\n",
       "      <td>6360604</td>\n",
       "      <td>225845283</td>\n",
       "      <td>43159682</td>\n",
       "      <td>1266</td>\n",
       "    </tr>\n",
       "    <tr>\n",
       "      <th>3</th>\n",
       "      <td>Hilcorp North Slope, LLC</td>\n",
       "      <td>08</td>\n",
       "      <td>6229256</td>\n",
       "      <td>212702759</td>\n",
       "      <td>42815726</td>\n",
       "      <td>1267</td>\n",
       "    </tr>\n",
       "    <tr>\n",
       "      <th>4</th>\n",
       "      <td>Hilcorp North Slope, LLC</td>\n",
       "      <td>09</td>\n",
       "      <td>6366968</td>\n",
       "      <td>226840297</td>\n",
       "      <td>42800112</td>\n",
       "      <td>1266</td>\n",
       "    </tr>\n",
       "    <tr>\n",
       "      <th>5</th>\n",
       "      <td>Hilcorp North Slope, LLC</td>\n",
       "      <td>10</td>\n",
       "      <td>6719477</td>\n",
       "      <td>248089904</td>\n",
       "      <td>44142567</td>\n",
       "      <td>1263</td>\n",
       "    </tr>\n",
       "    <tr>\n",
       "      <th>6</th>\n",
       "      <td>Hilcorp North Slope, LLC</td>\n",
       "      <td>11</td>\n",
       "      <td>6659646</td>\n",
       "      <td>245993639</td>\n",
       "      <td>44901708</td>\n",
       "      <td>1263</td>\n",
       "    </tr>\n",
       "    <tr>\n",
       "      <th>7</th>\n",
       "      <td>Hilcorp North Slope, LLC</td>\n",
       "      <td>12</td>\n",
       "      <td>7039345</td>\n",
       "      <td>277644756</td>\n",
       "      <td>45874099</td>\n",
       "      <td>1264</td>\n",
       "    </tr>\n",
       "  </tbody>\n",
       "</table>\n",
       "</div>"
      ],
      "text/plain": [
       "                   operator month      oil        gas     water  days\n",
       "0  Hilcorp North Slope, LLC    01  6914369  270080714  45783845  1262\n",
       "1  Hilcorp North Slope, LLC    06  6186756  223959355  39011101  1266\n",
       "2  Hilcorp North Slope, LLC    07  6360604  225845283  43159682  1266\n",
       "3  Hilcorp North Slope, LLC    08  6229256  212702759  42815726  1267\n",
       "4  Hilcorp North Slope, LLC    09  6366968  226840297  42800112  1266\n",
       "5  Hilcorp North Slope, LLC    10  6719477  248089904  44142567  1263\n",
       "6  Hilcorp North Slope, LLC    11  6659646  245993639  44901708  1263\n",
       "7  Hilcorp North Slope, LLC    12  7039345  277644756  45874099  1264"
      ]
     },
     "execution_count": 26,
     "metadata": {},
     "output_type": "execute_result"
    }
   ],
   "source": [
    "df_hilcorp[(df_hilcorp[\"year\"] == \"2020\") | (df_hilcorp[\"year\"] == \"2021\")].groupby(\n",
    "    [\"operator\", \"month\"]\n",
    ").agg({\"oil\": \"sum\", \"gas\": \"sum\", \"water\": \"sum\", \"days\": \"size\"}).reset_index()"
   ]
  },
  {
   "cell_type": "markdown",
   "metadata": {},
   "source": [
    "### Get the production on those wells in past years"
   ]
  },
  {
   "cell_type": "code",
   "execution_count": 27,
   "metadata": {},
   "outputs": [],
   "source": [
    "df_past = df[df[\"api\"].isin(df_hilcorp_wells)]"
   ]
  },
  {
   "cell_type": "markdown",
   "metadata": {},
   "source": [
    "### And limit it to after 1985?"
   ]
  },
  {
   "cell_type": "code",
   "execution_count": 28,
   "metadata": {},
   "outputs": [],
   "source": [
    "df_past_wells = df_past[df_past[\"year\"] > \"1985\"]"
   ]
  },
  {
   "cell_type": "code",
   "execution_count": 29,
   "metadata": {},
   "outputs": [],
   "source": [
    "past_annual = (\n",
    "    df_past_wells.groupby([\"year\"])\n",
    "    .agg({\"oil\": \"sum\", \"gas\": \"sum\", \"water\": \"sum\", \"days\": \"size\"})\n",
    "    .reset_index()\n",
    ")"
   ]
  },
  {
   "cell_type": "code",
   "execution_count": 30,
   "metadata": {},
   "outputs": [],
   "source": [
    "past_annual[\"oil_per_day\"] = round(past_annual[\"oil\"] / past_annual[\"days\"], 0)\n",
    "past_annual[\"gas_per_day\"] = round(past_annual[\"gas\"] / past_annual[\"days\"], 0)\n",
    "past_annual[\"water_per_day\"] = round(past_annual[\"water\"] / past_annual[\"days\"], 0)"
   ]
  },
  {
   "cell_type": "code",
   "execution_count": 31,
   "metadata": {},
   "outputs": [
    {
     "data": {
      "text/html": [
       "<div>\n",
       "<style scoped>\n",
       "    .dataframe tbody tr th:only-of-type {\n",
       "        vertical-align: middle;\n",
       "    }\n",
       "\n",
       "    .dataframe tbody tr th {\n",
       "        vertical-align: top;\n",
       "    }\n",
       "\n",
       "    .dataframe thead th {\n",
       "        text-align: right;\n",
       "    }\n",
       "</style>\n",
       "<table border=\"1\" class=\"dataframe\">\n",
       "  <thead>\n",
       "    <tr style=\"text-align: right;\">\n",
       "      <th></th>\n",
       "      <th>year</th>\n",
       "      <th>oil</th>\n",
       "      <th>gas</th>\n",
       "      <th>water</th>\n",
       "      <th>days</th>\n",
       "      <th>oil_per_day</th>\n",
       "      <th>gas_per_day</th>\n",
       "      <th>water_per_day</th>\n",
       "    </tr>\n",
       "  </thead>\n",
       "  <tbody>\n",
       "    <tr>\n",
       "      <th>0</th>\n",
       "      <td>1986</td>\n",
       "      <td>98390030</td>\n",
       "      <td>127845617</td>\n",
       "      <td>28598176</td>\n",
       "      <td>1347</td>\n",
       "      <td>73044.0</td>\n",
       "      <td>94911.0</td>\n",
       "      <td>21231.0</td>\n",
       "    </tr>\n",
       "    <tr>\n",
       "      <th>1</th>\n",
       "      <td>1987</td>\n",
       "      <td>103552721</td>\n",
       "      <td>183830549</td>\n",
       "      <td>52234134</td>\n",
       "      <td>1558</td>\n",
       "      <td>66465.0</td>\n",
       "      <td>117991.0</td>\n",
       "      <td>33526.0</td>\n",
       "    </tr>\n",
       "    <tr>\n",
       "      <th>2</th>\n",
       "      <td>1988</td>\n",
       "      <td>102372540</td>\n",
       "      <td>250511183</td>\n",
       "      <td>67370560</td>\n",
       "      <td>1664</td>\n",
       "      <td>61522.0</td>\n",
       "      <td>150548.0</td>\n",
       "      <td>40487.0</td>\n",
       "    </tr>\n",
       "    <tr>\n",
       "      <th>3</th>\n",
       "      <td>1989</td>\n",
       "      <td>97366305</td>\n",
       "      <td>285464342</td>\n",
       "      <td>74696358</td>\n",
       "      <td>1782</td>\n",
       "      <td>54639.0</td>\n",
       "      <td>160193.0</td>\n",
       "      <td>41917.0</td>\n",
       "    </tr>\n",
       "    <tr>\n",
       "      <th>4</th>\n",
       "      <td>1990</td>\n",
       "      <td>88291950</td>\n",
       "      <td>287618350</td>\n",
       "      <td>77465279</td>\n",
       "      <td>1929</td>\n",
       "      <td>45771.0</td>\n",
       "      <td>149102.0</td>\n",
       "      <td>40158.0</td>\n",
       "    </tr>\n",
       "    <tr>\n",
       "      <th>5</th>\n",
       "      <td>1991</td>\n",
       "      <td>96350406</td>\n",
       "      <td>348596918</td>\n",
       "      <td>87096947</td>\n",
       "      <td>2098</td>\n",
       "      <td>45925.0</td>\n",
       "      <td>166157.0</td>\n",
       "      <td>41514.0</td>\n",
       "    </tr>\n",
       "    <tr>\n",
       "      <th>6</th>\n",
       "      <td>1992</td>\n",
       "      <td>96331309</td>\n",
       "      <td>383970462</td>\n",
       "      <td>107345481</td>\n",
       "      <td>2267</td>\n",
       "      <td>42493.0</td>\n",
       "      <td>169374.0</td>\n",
       "      <td>47351.0</td>\n",
       "    </tr>\n",
       "    <tr>\n",
       "      <th>7</th>\n",
       "      <td>1993</td>\n",
       "      <td>92183598</td>\n",
       "      <td>406345940</td>\n",
       "      <td>129500097</td>\n",
       "      <td>2526</td>\n",
       "      <td>36494.0</td>\n",
       "      <td>160865.0</td>\n",
       "      <td>51267.0</td>\n",
       "    </tr>\n",
       "    <tr>\n",
       "      <th>8</th>\n",
       "      <td>1994</td>\n",
       "      <td>97586268</td>\n",
       "      <td>465522105</td>\n",
       "      <td>132469613</td>\n",
       "      <td>2818</td>\n",
       "      <td>34630.0</td>\n",
       "      <td>165196.0</td>\n",
       "      <td>47008.0</td>\n",
       "    </tr>\n",
       "    <tr>\n",
       "      <th>9</th>\n",
       "      <td>1995</td>\n",
       "      <td>98096291</td>\n",
       "      <td>532658766</td>\n",
       "      <td>147358425</td>\n",
       "      <td>2986</td>\n",
       "      <td>32852.0</td>\n",
       "      <td>178385.0</td>\n",
       "      <td>49350.0</td>\n",
       "    </tr>\n",
       "  </tbody>\n",
       "</table>\n",
       "</div>"
      ],
      "text/plain": [
       "   year        oil        gas      water  days  oil_per_day  gas_per_day  \\\n",
       "0  1986   98390030  127845617   28598176  1347      73044.0      94911.0   \n",
       "1  1987  103552721  183830549   52234134  1558      66465.0     117991.0   \n",
       "2  1988  102372540  250511183   67370560  1664      61522.0     150548.0   \n",
       "3  1989   97366305  285464342   74696358  1782      54639.0     160193.0   \n",
       "4  1990   88291950  287618350   77465279  1929      45771.0     149102.0   \n",
       "5  1991   96350406  348596918   87096947  2098      45925.0     166157.0   \n",
       "6  1992   96331309  383970462  107345481  2267      42493.0     169374.0   \n",
       "7  1993   92183598  406345940  129500097  2526      36494.0     160865.0   \n",
       "8  1994   97586268  465522105  132469613  2818      34630.0     165196.0   \n",
       "9  1995   98096291  532658766  147358425  2986      32852.0     178385.0   \n",
       "\n",
       "   water_per_day  \n",
       "0        21231.0  \n",
       "1        33526.0  \n",
       "2        40487.0  \n",
       "3        41917.0  \n",
       "4        40158.0  \n",
       "5        41514.0  \n",
       "6        47351.0  \n",
       "7        51267.0  \n",
       "8        47008.0  \n",
       "9        49350.0  "
      ]
     },
     "execution_count": 31,
     "metadata": {},
     "output_type": "execute_result"
    }
   ],
   "source": [
    "past_annual.head(10)"
   ]
  },
  {
   "cell_type": "code",
   "execution_count": 32,
   "metadata": {},
   "outputs": [
    {
     "data": {
      "text/html": [
       "<div>\n",
       "<style scoped>\n",
       "    .dataframe tbody tr th:only-of-type {\n",
       "        vertical-align: middle;\n",
       "    }\n",
       "\n",
       "    .dataframe tbody tr th {\n",
       "        vertical-align: top;\n",
       "    }\n",
       "\n",
       "    .dataframe thead th {\n",
       "        text-align: right;\n",
       "    }\n",
       "</style>\n",
       "<table border=\"1\" class=\"dataframe\">\n",
       "  <thead>\n",
       "    <tr style=\"text-align: right;\">\n",
       "      <th></th>\n",
       "      <th>year</th>\n",
       "      <th>oil</th>\n",
       "      <th>gas</th>\n",
       "      <th>water</th>\n",
       "      <th>days</th>\n",
       "      <th>oil_per_day</th>\n",
       "      <th>gas_per_day</th>\n",
       "      <th>water_per_day</th>\n",
       "    </tr>\n",
       "  </thead>\n",
       "  <tbody>\n",
       "    <tr>\n",
       "      <th>26</th>\n",
       "      <td>2012</td>\n",
       "      <td>56950949</td>\n",
       "      <td>1354671017</td>\n",
       "      <td>206838894</td>\n",
       "      <td>7829</td>\n",
       "      <td>7274.0</td>\n",
       "      <td>173032.0</td>\n",
       "      <td>26420.0</td>\n",
       "    </tr>\n",
       "    <tr>\n",
       "      <th>27</th>\n",
       "      <td>2013</td>\n",
       "      <td>58120937</td>\n",
       "      <td>1498913195</td>\n",
       "      <td>202774650</td>\n",
       "      <td>8161</td>\n",
       "      <td>7122.0</td>\n",
       "      <td>183668.0</td>\n",
       "      <td>24847.0</td>\n",
       "    </tr>\n",
       "    <tr>\n",
       "      <th>28</th>\n",
       "      <td>2014</td>\n",
       "      <td>52149306</td>\n",
       "      <td>1485807942</td>\n",
       "      <td>205431642</td>\n",
       "      <td>8480</td>\n",
       "      <td>6150.0</td>\n",
       "      <td>175213.0</td>\n",
       "      <td>24225.0</td>\n",
       "    </tr>\n",
       "    <tr>\n",
       "      <th>29</th>\n",
       "      <td>2015</td>\n",
       "      <td>53926425</td>\n",
       "      <td>1553262054</td>\n",
       "      <td>214804156</td>\n",
       "      <td>8872</td>\n",
       "      <td>6078.0</td>\n",
       "      <td>175075.0</td>\n",
       "      <td>24211.0</td>\n",
       "    </tr>\n",
       "    <tr>\n",
       "      <th>30</th>\n",
       "      <td>2016</td>\n",
       "      <td>55021235</td>\n",
       "      <td>1665197732</td>\n",
       "      <td>230847466</td>\n",
       "      <td>9286</td>\n",
       "      <td>5925.0</td>\n",
       "      <td>179323.0</td>\n",
       "      <td>24860.0</td>\n",
       "    </tr>\n",
       "    <tr>\n",
       "      <th>31</th>\n",
       "      <td>2017</td>\n",
       "      <td>53486914</td>\n",
       "      <td>1656225517</td>\n",
       "      <td>244916406</td>\n",
       "      <td>9538</td>\n",
       "      <td>5608.0</td>\n",
       "      <td>173645.0</td>\n",
       "      <td>25678.0</td>\n",
       "    </tr>\n",
       "    <tr>\n",
       "      <th>32</th>\n",
       "      <td>2018</td>\n",
       "      <td>51947354</td>\n",
       "      <td>1719666762</td>\n",
       "      <td>262853956</td>\n",
       "      <td>9751</td>\n",
       "      <td>5327.0</td>\n",
       "      <td>176358.0</td>\n",
       "      <td>26957.0</td>\n",
       "    </tr>\n",
       "    <tr>\n",
       "      <th>33</th>\n",
       "      <td>2019</td>\n",
       "      <td>49506709</td>\n",
       "      <td>1769556671</td>\n",
       "      <td>281914860</td>\n",
       "      <td>9973</td>\n",
       "      <td>4964.0</td>\n",
       "      <td>177435.0</td>\n",
       "      <td>28268.0</td>\n",
       "    </tr>\n",
       "    <tr>\n",
       "      <th>34</th>\n",
       "      <td>2020</td>\n",
       "      <td>52457975</td>\n",
       "      <td>1923985210</td>\n",
       "      <td>343282268</td>\n",
       "      <td>10113</td>\n",
       "      <td>5187.0</td>\n",
       "      <td>190249.0</td>\n",
       "      <td>33945.0</td>\n",
       "    </tr>\n",
       "    <tr>\n",
       "      <th>35</th>\n",
       "      <td>2021</td>\n",
       "      <td>6914369</td>\n",
       "      <td>270080714</td>\n",
       "      <td>45783845</td>\n",
       "      <td>1262</td>\n",
       "      <td>5479.0</td>\n",
       "      <td>214010.0</td>\n",
       "      <td>36279.0</td>\n",
       "    </tr>\n",
       "  </tbody>\n",
       "</table>\n",
       "</div>"
      ],
      "text/plain": [
       "    year       oil         gas      water   days  oil_per_day  gas_per_day  \\\n",
       "26  2012  56950949  1354671017  206838894   7829       7274.0     173032.0   \n",
       "27  2013  58120937  1498913195  202774650   8161       7122.0     183668.0   \n",
       "28  2014  52149306  1485807942  205431642   8480       6150.0     175213.0   \n",
       "29  2015  53926425  1553262054  214804156   8872       6078.0     175075.0   \n",
       "30  2016  55021235  1665197732  230847466   9286       5925.0     179323.0   \n",
       "31  2017  53486914  1656225517  244916406   9538       5608.0     173645.0   \n",
       "32  2018  51947354  1719666762  262853956   9751       5327.0     176358.0   \n",
       "33  2019  49506709  1769556671  281914860   9973       4964.0     177435.0   \n",
       "34  2020  52457975  1923985210  343282268  10113       5187.0     190249.0   \n",
       "35  2021   6914369   270080714   45783845   1262       5479.0     214010.0   \n",
       "\n",
       "    water_per_day  \n",
       "26        26420.0  \n",
       "27        24847.0  \n",
       "28        24225.0  \n",
       "29        24211.0  \n",
       "30        24860.0  \n",
       "31        25678.0  \n",
       "32        26957.0  \n",
       "33        28268.0  \n",
       "34        33945.0  \n",
       "35        36279.0  "
      ]
     },
     "execution_count": 32,
     "metadata": {},
     "output_type": "execute_result"
    }
   ],
   "source": [
    "past_annual.tail(10)"
   ]
  },
  {
   "cell_type": "markdown",
   "metadata": {},
   "source": [
    "### Chart oil per-day rate by year"
   ]
  },
  {
   "cell_type": "code",
   "execution_count": 33,
   "metadata": {},
   "outputs": [
    {
     "data": {
      "text/html": [
       "\n",
       "<div id=\"altair-viz-8cab4647e33c4fb2aa12009f6841ea31\"></div>\n",
       "<script type=\"text/javascript\">\n",
       "  (function(spec, embedOpt){\n",
       "    const outputDiv = document.getElementById(\"altair-viz-8cab4647e33c4fb2aa12009f6841ea31\");\n",
       "    const paths = {\n",
       "      \"vega\": \"https://cdn.jsdelivr.net/npm//vega@5?noext\",\n",
       "      \"vega-lib\": \"https://cdn.jsdelivr.net/npm//vega-lib?noext\",\n",
       "      \"vega-lite\": \"https://cdn.jsdelivr.net/npm//vega-lite@4.0.2?noext\",\n",
       "      \"vega-embed\": \"https://cdn.jsdelivr.net/npm//vega-embed@6?noext\",\n",
       "    };\n",
       "\n",
       "    function loadScript(lib) {\n",
       "      return new Promise(function(resolve, reject) {\n",
       "        var s = document.createElement('script');\n",
       "        s.src = paths[lib];\n",
       "        s.async = true;\n",
       "        s.onload = () => resolve(paths[lib]);\n",
       "        s.onerror = () => reject(`Error loading script: ${paths[lib]}`);\n",
       "        document.getElementsByTagName(\"head\")[0].appendChild(s);\n",
       "      });\n",
       "    }\n",
       "\n",
       "    function showError(err) {\n",
       "      outputDiv.innerHTML = `<div class=\"error\" style=\"color:red;\">${err}</div>`;\n",
       "      throw err;\n",
       "    }\n",
       "\n",
       "    function displayChart(vegaEmbed) {\n",
       "      vegaEmbed(outputDiv, spec, embedOpt)\n",
       "        .catch(err => showError(`Javascript Error: ${err.message}<br>This usually means there's a typo in your chart specification. See the javascript console for the full traceback.`));\n",
       "    }\n",
       "\n",
       "    if(typeof define === \"function\" && define.amd) {\n",
       "      requirejs.config({paths});\n",
       "      require([\"vega-embed\"], displayChart, err => showError(`Error loading script: ${err.message}`));\n",
       "    } else if (typeof vegaEmbed === \"function\") {\n",
       "      displayChart(vegaEmbed);\n",
       "    } else {\n",
       "      loadScript(\"vega\")\n",
       "        .then(() => loadScript(\"vega-lite\"))\n",
       "        .then(() => loadScript(\"vega-embed\"))\n",
       "        .catch(showError)\n",
       "        .then(() => displayChart(vegaEmbed));\n",
       "    }\n",
       "  })({\"config\": {\"view\": {\"width\": 800, \"height\": 450}, \"background\": \"#ffffff\", \"title\": {\"anchor\": \"start\", \"font\": \"Benton Gothic Bold, sans\", \"fontColor\": \"#000000\", \"fontSize\": 22, \"fontWeight\": \"normal\"}, \"arc\": {\"fill\": \"#82c6df\"}, \"area\": {\"fill\": \"#82c6df\"}, \"line\": {\"stroke\": \"#82c6df\", \"strokeWidth\": 3}, \"path\": {\"stroke\": \"#82c6df\"}, \"rect\": {\"fill\": \"#82c6df\"}, \"shape\": {\"stroke\": \"#82c6df\"}, \"bar\": {\"fill\": \"#82c6df\"}, \"point\": {\"stroke\": \"#82c6df\"}, \"symbol\": {\"fill\": \"#82c6df\", \"size\": 30}, \"axis\": {\"titleFont\": \"Benton Gothic Bold, sans\", \"titleFontSize\": 13, \"titleFontWeight\": \"normal\", \"labelFont\": \"Benton Gothic, sans\", \"labelFontSize\": 11.5, \"labelFontWeight\": \"normal\"}, \"axisX\": {\"labelAngle\": 0, \"labelPadding\": 4, \"tickSize\": 3}, \"axisY\": {\"labelBaseline\": \"middle\", \"maxExtent\": 45, \"minExtent\": 45, \"tickSize\": 2, \"titleAlign\": \"left\", \"titleAngle\": 0, \"titleX\": -45, \"titleY\": -11}, \"legend\": {\"titleFont\": \"Benton Gothic Bold, sans\", \"titleFontSize\": 13, \"titleFontWeight\": \"normal\", \"symbolType\": \"square\", \"labelFont\": \"Benton Gothic, sans\", \"labelFontSize\": 11.5}, \"range\": {\"category\": [\"#3580b1\", \"#ec8431\", \"#ab7fb4\", \"#c89d29\", \"#adc839\", \"#829eb1\"], \"diverging\": [\"#e68a4f\", \"#f4bb6a\", \"#f9e39c\", \"#dadfe2\", \"#a6b7c6\", \"#849eae\"], \"heatmap\": [\"#fbf2c7\", \"#f9e39c\", \"#f8d36e\", \"#f4bb6a\", \"#e68a4f\", \"#d15a40\", \"#ab4232\"], \"ordinal\": [\"#fbf2c7\", \"#f9e39c\", \"#f8d36e\", \"#f4bb6a\", \"#e68a4f\", \"#d15a40\", \"#ab4232\"], \"ramp\": [\"#fbf2c7\", \"#f9e39c\", \"#f8d36e\", \"#f4bb6a\", \"#e68a4f\", \"#d15a40\", \"#ab4232\"]}}, \"data\": {\"name\": \"data-764809f23c5d4c92f1057d03b2bedda9\"}, \"mark\": \"line\", \"encoding\": {\"x\": {\"type\": \"temporal\", \"axis\": {\"format\": \"%y\"}, \"field\": \"year\"}, \"y\": {\"type\": \"quantitative\", \"field\": \"oil_per_day\"}}, \"width\": 1000, \"$schema\": \"https://vega.github.io/schema/vega-lite/v4.0.2.json\", \"datasets\": {\"data-764809f23c5d4c92f1057d03b2bedda9\": [{\"year\": \"1986\", \"oil\": 98390030, \"gas\": 127845617, \"water\": 28598176, \"days\": 1347, \"oil_per_day\": 73044.0, \"gas_per_day\": 94911.0, \"water_per_day\": 21231.0}, {\"year\": \"1987\", \"oil\": 103552721, \"gas\": 183830549, \"water\": 52234134, \"days\": 1558, \"oil_per_day\": 66465.0, \"gas_per_day\": 117991.0, \"water_per_day\": 33526.0}, {\"year\": \"1988\", \"oil\": 102372540, \"gas\": 250511183, \"water\": 67370560, \"days\": 1664, \"oil_per_day\": 61522.0, \"gas_per_day\": 150548.0, \"water_per_day\": 40487.0}, {\"year\": \"1989\", \"oil\": 97366305, \"gas\": 285464342, \"water\": 74696358, \"days\": 1782, \"oil_per_day\": 54639.0, \"gas_per_day\": 160193.0, \"water_per_day\": 41917.0}, {\"year\": \"1990\", \"oil\": 88291950, \"gas\": 287618350, \"water\": 77465279, \"days\": 1929, \"oil_per_day\": 45771.0, \"gas_per_day\": 149102.0, \"water_per_day\": 40158.0}, {\"year\": \"1991\", \"oil\": 96350406, \"gas\": 348596918, \"water\": 87096947, \"days\": 2098, \"oil_per_day\": 45925.0, \"gas_per_day\": 166157.0, \"water_per_day\": 41514.0}, {\"year\": \"1992\", \"oil\": 96331309, \"gas\": 383970462, \"water\": 107345481, \"days\": 2267, \"oil_per_day\": 42493.0, \"gas_per_day\": 169374.0, \"water_per_day\": 47351.0}, {\"year\": \"1993\", \"oil\": 92183598, \"gas\": 406345940, \"water\": 129500097, \"days\": 2526, \"oil_per_day\": 36494.0, \"gas_per_day\": 160865.0, \"water_per_day\": 51267.0}, {\"year\": \"1994\", \"oil\": 97586268, \"gas\": 465522105, \"water\": 132469613, \"days\": 2818, \"oil_per_day\": 34630.0, \"gas_per_day\": 165196.0, \"water_per_day\": 47008.0}, {\"year\": \"1995\", \"oil\": 98096291, \"gas\": 532658766, \"water\": 147358425, \"days\": 2986, \"oil_per_day\": 32852.0, \"gas_per_day\": 178385.0, \"water_per_day\": 49350.0}, {\"year\": \"1996\", \"oil\": 99274918, \"gas\": 582936139, \"water\": 154582734, \"days\": 3188, \"oil_per_day\": 31140.0, \"gas_per_day\": 182853.0, \"water_per_day\": 48489.0}, {\"year\": \"1997\", \"oil\": 98656147, \"gas\": 645511191, \"water\": 167321413, \"days\": 3509, \"oil_per_day\": 28115.0, \"gas_per_day\": 183959.0, \"water_per_day\": 47684.0}, {\"year\": \"1998\", \"oil\": 90857525, \"gas\": 708519727, \"water\": 168730354, \"days\": 3821, \"oil_per_day\": 23778.0, \"gas_per_day\": 185428.0, \"water_per_day\": 44159.0}, {\"year\": \"1999\", \"oil\": 81196142, \"gas\": 748891437, \"water\": 178813421, \"days\": 4062, \"oil_per_day\": 19989.0, \"gas_per_day\": 184365.0, \"water_per_day\": 44021.0}, {\"year\": \"2000\", \"oil\": 75339639, \"gas\": 792103092, \"water\": 192890289, \"days\": 4262, \"oil_per_day\": 17677.0, \"gas_per_day\": 185852.0, \"water_per_day\": 45258.0}, {\"year\": \"2001\", \"oil\": 69384205, \"gas\": 789049789, \"water\": 179315322, \"days\": 4592, \"oil_per_day\": 15110.0, \"gas_per_day\": 171831.0, \"water_per_day\": 39050.0}, {\"year\": \"2002\", \"oil\": 69940166, \"gas\": 849011205, \"water\": 184878275, \"days\": 4939, \"oil_per_day\": 14161.0, \"gas_per_day\": 171899.0, \"water_per_day\": 37432.0}, {\"year\": \"2003\", \"oil\": 72465427, \"gas\": 924317608, \"water\": 201287427, \"days\": 5283, \"oil_per_day\": 13717.0, \"gas_per_day\": 174961.0, \"water_per_day\": 38101.0}, {\"year\": \"2004\", \"oil\": 67201089, \"gas\": 945044862, \"water\": 220847181, \"days\": 5544, \"oil_per_day\": 12121.0, \"gas_per_day\": 170463.0, \"water_per_day\": 39835.0}, {\"year\": \"2005\", \"oil\": 68040165, \"gas\": 1054395433, \"water\": 223545842, \"days\": 5864, \"oil_per_day\": 11603.0, \"gas_per_day\": 179808.0, \"water_per_day\": 38122.0}, {\"year\": \"2006\", \"oil\": 51942738, \"gas\": 840620491, \"water\": 153852747, \"days\": 6067, \"oil_per_day\": 8562.0, \"gas_per_day\": 138556.0, \"water_per_day\": 25359.0}, {\"year\": \"2007\", \"oil\": 57299928, \"gas\": 1036035822, \"water\": 186234284, \"days\": 6279, \"oil_per_day\": 9126.0, \"gas_per_day\": 165000.0, \"water_per_day\": 29660.0}, {\"year\": \"2008\", \"oil\": 61444046, \"gas\": 1120114057, \"water\": 203087498, \"days\": 6641, \"oil_per_day\": 9252.0, \"gas_per_day\": 168666.0, \"water_per_day\": 30581.0}, {\"year\": \"2009\", \"oil\": 60244212, \"gas\": 1203131969, \"water\": 199022855, \"days\": 7007, \"oil_per_day\": 8598.0, \"gas_per_day\": 171704.0, \"water_per_day\": 28403.0}, {\"year\": \"2010\", \"oil\": 59634048, \"gas\": 1264721672, \"water\": 213956607, \"days\": 7331, \"oil_per_day\": 8135.0, \"gas_per_day\": 172517.0, \"water_per_day\": 29185.0}, {\"year\": \"2011\", \"oil\": 56127232, \"gas\": 1295518146, \"water\": 201824759, \"days\": 7560, \"oil_per_day\": 7424.0, \"gas_per_day\": 171365.0, \"water_per_day\": 26696.0}, {\"year\": \"2012\", \"oil\": 56950949, \"gas\": 1354671017, \"water\": 206838894, \"days\": 7829, \"oil_per_day\": 7274.0, \"gas_per_day\": 173032.0, \"water_per_day\": 26420.0}, {\"year\": \"2013\", \"oil\": 58120937, \"gas\": 1498913195, \"water\": 202774650, \"days\": 8161, \"oil_per_day\": 7122.0, \"gas_per_day\": 183668.0, \"water_per_day\": 24847.0}, {\"year\": \"2014\", \"oil\": 52149306, \"gas\": 1485807942, \"water\": 205431642, \"days\": 8480, \"oil_per_day\": 6150.0, \"gas_per_day\": 175213.0, \"water_per_day\": 24225.0}, {\"year\": \"2015\", \"oil\": 53926425, \"gas\": 1553262054, \"water\": 214804156, \"days\": 8872, \"oil_per_day\": 6078.0, \"gas_per_day\": 175075.0, \"water_per_day\": 24211.0}, {\"year\": \"2016\", \"oil\": 55021235, \"gas\": 1665197732, \"water\": 230847466, \"days\": 9286, \"oil_per_day\": 5925.0, \"gas_per_day\": 179323.0, \"water_per_day\": 24860.0}, {\"year\": \"2017\", \"oil\": 53486914, \"gas\": 1656225517, \"water\": 244916406, \"days\": 9538, \"oil_per_day\": 5608.0, \"gas_per_day\": 173645.0, \"water_per_day\": 25678.0}, {\"year\": \"2018\", \"oil\": 51947354, \"gas\": 1719666762, \"water\": 262853956, \"days\": 9751, \"oil_per_day\": 5327.0, \"gas_per_day\": 176358.0, \"water_per_day\": 26957.0}, {\"year\": \"2019\", \"oil\": 49506709, \"gas\": 1769556671, \"water\": 281914860, \"days\": 9973, \"oil_per_day\": 4964.0, \"gas_per_day\": 177435.0, \"water_per_day\": 28268.0}, {\"year\": \"2020\", \"oil\": 52457975, \"gas\": 1923985210, \"water\": 343282268, \"days\": 10113, \"oil_per_day\": 5187.0, \"gas_per_day\": 190249.0, \"water_per_day\": 33945.0}, {\"year\": \"2021\", \"oil\": 6914369, \"gas\": 270080714, \"water\": 45783845, \"days\": 1262, \"oil_per_day\": 5479.0, \"gas_per_day\": 214010.0, \"water_per_day\": 36279.0}]}}, {\"mode\": \"vega-lite\"});\n",
       "</script>"
      ],
      "text/plain": [
       "alt.Chart(...)"
      ]
     },
     "execution_count": 33,
     "metadata": {},
     "output_type": "execute_result"
    }
   ],
   "source": [
    "alt.Chart(past_annual).mark_line().encode(\n",
    "    x=alt.X(\"year:T\", axis=alt.Axis(format=(\"%y\"))), y=\"oil_per_day\"\n",
    ").properties(width=1000)"
   ]
  },
  {
   "cell_type": "markdown",
   "metadata": {},
   "source": [
    "### Chart more recent production"
   ]
  },
  {
   "cell_type": "code",
   "execution_count": 38,
   "metadata": {},
   "outputs": [
    {
     "data": {
      "text/html": [
       "\n",
       "<div id=\"altair-viz-31642c1ad52c4b2ca6d3b6409d5c911a\"></div>\n",
       "<script type=\"text/javascript\">\n",
       "  (function(spec, embedOpt){\n",
       "    const outputDiv = document.getElementById(\"altair-viz-31642c1ad52c4b2ca6d3b6409d5c911a\");\n",
       "    const paths = {\n",
       "      \"vega\": \"https://cdn.jsdelivr.net/npm//vega@5?noext\",\n",
       "      \"vega-lib\": \"https://cdn.jsdelivr.net/npm//vega-lib?noext\",\n",
       "      \"vega-lite\": \"https://cdn.jsdelivr.net/npm//vega-lite@4.0.2?noext\",\n",
       "      \"vega-embed\": \"https://cdn.jsdelivr.net/npm//vega-embed@6?noext\",\n",
       "    };\n",
       "\n",
       "    function loadScript(lib) {\n",
       "      return new Promise(function(resolve, reject) {\n",
       "        var s = document.createElement('script');\n",
       "        s.src = paths[lib];\n",
       "        s.async = true;\n",
       "        s.onload = () => resolve(paths[lib]);\n",
       "        s.onerror = () => reject(`Error loading script: ${paths[lib]}`);\n",
       "        document.getElementsByTagName(\"head\")[0].appendChild(s);\n",
       "      });\n",
       "    }\n",
       "\n",
       "    function showError(err) {\n",
       "      outputDiv.innerHTML = `<div class=\"error\" style=\"color:red;\">${err}</div>`;\n",
       "      throw err;\n",
       "    }\n",
       "\n",
       "    function displayChart(vegaEmbed) {\n",
       "      vegaEmbed(outputDiv, spec, embedOpt)\n",
       "        .catch(err => showError(`Javascript Error: ${err.message}<br>This usually means there's a typo in your chart specification. See the javascript console for the full traceback.`));\n",
       "    }\n",
       "\n",
       "    if(typeof define === \"function\" && define.amd) {\n",
       "      requirejs.config({paths});\n",
       "      require([\"vega-embed\"], displayChart, err => showError(`Error loading script: ${err.message}`));\n",
       "    } else if (typeof vegaEmbed === \"function\") {\n",
       "      displayChart(vegaEmbed);\n",
       "    } else {\n",
       "      loadScript(\"vega\")\n",
       "        .then(() => loadScript(\"vega-lite\"))\n",
       "        .then(() => loadScript(\"vega-embed\"))\n",
       "        .catch(showError)\n",
       "        .then(() => displayChart(vegaEmbed));\n",
       "    }\n",
       "  })({\"config\": {\"view\": {\"width\": 800, \"height\": 450}, \"background\": \"#ffffff\", \"title\": {\"anchor\": \"start\", \"font\": \"Benton Gothic Bold, sans\", \"fontColor\": \"#000000\", \"fontSize\": 22, \"fontWeight\": \"normal\"}, \"arc\": {\"fill\": \"#82c6df\"}, \"area\": {\"fill\": \"#82c6df\"}, \"line\": {\"stroke\": \"#82c6df\", \"strokeWidth\": 3}, \"path\": {\"stroke\": \"#82c6df\"}, \"rect\": {\"fill\": \"#82c6df\"}, \"shape\": {\"stroke\": \"#82c6df\"}, \"bar\": {\"fill\": \"#82c6df\"}, \"point\": {\"stroke\": \"#82c6df\"}, \"symbol\": {\"fill\": \"#82c6df\", \"size\": 30}, \"axis\": {\"titleFont\": \"Benton Gothic Bold, sans\", \"titleFontSize\": 13, \"titleFontWeight\": \"normal\", \"labelFont\": \"Benton Gothic, sans\", \"labelFontSize\": 11.5, \"labelFontWeight\": \"normal\"}, \"axisX\": {\"labelAngle\": 0, \"labelPadding\": 4, \"tickSize\": 3}, \"axisY\": {\"labelBaseline\": \"middle\", \"maxExtent\": 45, \"minExtent\": 45, \"tickSize\": 2, \"titleAlign\": \"left\", \"titleAngle\": 0, \"titleX\": -45, \"titleY\": -11}, \"legend\": {\"titleFont\": \"Benton Gothic Bold, sans\", \"titleFontSize\": 13, \"titleFontWeight\": \"normal\", \"symbolType\": \"square\", \"labelFont\": \"Benton Gothic, sans\", \"labelFontSize\": 11.5}, \"range\": {\"category\": [\"#3580b1\", \"#ec8431\", \"#ab7fb4\", \"#c89d29\", \"#adc839\", \"#829eb1\"], \"diverging\": [\"#e68a4f\", \"#f4bb6a\", \"#f9e39c\", \"#dadfe2\", \"#a6b7c6\", \"#849eae\"], \"heatmap\": [\"#fbf2c7\", \"#f9e39c\", \"#f8d36e\", \"#f4bb6a\", \"#e68a4f\", \"#d15a40\", \"#ab4232\"], \"ordinal\": [\"#fbf2c7\", \"#f9e39c\", \"#f8d36e\", \"#f4bb6a\", \"#e68a4f\", \"#d15a40\", \"#ab4232\"], \"ramp\": [\"#fbf2c7\", \"#f9e39c\", \"#f8d36e\", \"#f4bb6a\", \"#e68a4f\", \"#d15a40\", \"#ab4232\"]}}, \"data\": {\"name\": \"data-fd5252b2ccdcbf6b59fd66717e1d98a0\"}, \"mark\": \"line\", \"encoding\": {\"x\": {\"type\": \"temporal\", \"axis\": {\"format\": \"%m-%y\"}, \"field\": \"year\"}, \"y\": {\"type\": \"quantitative\", \"field\": \"oil_per_day\"}}, \"width\": 1000, \"$schema\": \"https://vega.github.io/schema/vega-lite/v4.0.2.json\", \"datasets\": {\"data-fd5252b2ccdcbf6b59fd66717e1d98a0\": [{\"year\": \"2011\", \"oil\": 56127232, \"gas\": 1295518146, \"water\": 201824759, \"days\": 7560, \"oil_per_day\": 7424.0, \"gas_per_day\": 171365.0, \"water_per_day\": 26696.0}, {\"year\": \"2012\", \"oil\": 56950949, \"gas\": 1354671017, \"water\": 206838894, \"days\": 7829, \"oil_per_day\": 7274.0, \"gas_per_day\": 173032.0, \"water_per_day\": 26420.0}, {\"year\": \"2013\", \"oil\": 58120937, \"gas\": 1498913195, \"water\": 202774650, \"days\": 8161, \"oil_per_day\": 7122.0, \"gas_per_day\": 183668.0, \"water_per_day\": 24847.0}, {\"year\": \"2014\", \"oil\": 52149306, \"gas\": 1485807942, \"water\": 205431642, \"days\": 8480, \"oil_per_day\": 6150.0, \"gas_per_day\": 175213.0, \"water_per_day\": 24225.0}, {\"year\": \"2015\", \"oil\": 53926425, \"gas\": 1553262054, \"water\": 214804156, \"days\": 8872, \"oil_per_day\": 6078.0, \"gas_per_day\": 175075.0, \"water_per_day\": 24211.0}, {\"year\": \"2016\", \"oil\": 55021235, \"gas\": 1665197732, \"water\": 230847466, \"days\": 9286, \"oil_per_day\": 5925.0, \"gas_per_day\": 179323.0, \"water_per_day\": 24860.0}, {\"year\": \"2017\", \"oil\": 53486914, \"gas\": 1656225517, \"water\": 244916406, \"days\": 9538, \"oil_per_day\": 5608.0, \"gas_per_day\": 173645.0, \"water_per_day\": 25678.0}, {\"year\": \"2018\", \"oil\": 51947354, \"gas\": 1719666762, \"water\": 262853956, \"days\": 9751, \"oil_per_day\": 5327.0, \"gas_per_day\": 176358.0, \"water_per_day\": 26957.0}, {\"year\": \"2019\", \"oil\": 49506709, \"gas\": 1769556671, \"water\": 281914860, \"days\": 9973, \"oil_per_day\": 4964.0, \"gas_per_day\": 177435.0, \"water_per_day\": 28268.0}, {\"year\": \"2020\", \"oil\": 52457975, \"gas\": 1923985210, \"water\": 343282268, \"days\": 10113, \"oil_per_day\": 5187.0, \"gas_per_day\": 190249.0, \"water_per_day\": 33945.0}, {\"year\": \"2021\", \"oil\": 6914369, \"gas\": 270080714, \"water\": 45783845, \"days\": 1262, \"oil_per_day\": 5479.0, \"gas_per_day\": 214010.0, \"water_per_day\": 36279.0}]}}, {\"mode\": \"vega-lite\"});\n",
       "</script>"
      ],
      "text/plain": [
       "alt.Chart(...)"
      ]
     },
     "execution_count": 38,
     "metadata": {},
     "output_type": "execute_result"
    }
   ],
   "source": [
    "alt.Chart(past_annual.query(\"year > '2010'\")).mark_line().encode(\n",
    "    x=alt.X(\"year:T\", axis=alt.Axis(format=(\"%m-%y\"))), y=\"oil_per_day\"\n",
    ").properties(width=1000)"
   ]
  },
  {
   "cell_type": "code",
   "execution_count": null,
   "metadata": {},
   "outputs": [],
   "source": []
  }
 ],
 "metadata": {
  "kernelspec": {
   "display_name": "Python 3",
   "language": "python",
   "name": "python3"
  },
  "language_info": {
   "codemirror_mode": {
    "name": "ipython",
    "version": 3
   },
   "file_extension": ".py",
   "mimetype": "text/x-python",
   "name": "python",
   "nbconvert_exporter": "python",
   "pygments_lexer": "ipython3",
   "version": "3.7.4"
  }
 },
 "nbformat": 4,
 "nbformat_minor": 4
}
