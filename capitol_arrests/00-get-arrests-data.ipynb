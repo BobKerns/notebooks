{
 "cells": [
  {
   "cell_type": "markdown",
   "metadata": {},
   "source": [
    "# DOJ arrests/charges data from the Jan. 6 riot at the U.S. Capitol"
   ]
  },
  {
   "cell_type": "markdown",
   "metadata": {},
   "source": [
    "### Import Python tools and Jupyter configuration"
   ]
  },
  {
   "cell_type": "code",
   "execution_count": 1,
   "metadata": {},
   "outputs": [],
   "source": [
    "%load_ext lab_black"
   ]
  },
  {
   "cell_type": "code",
   "execution_count": 2,
   "metadata": {},
   "outputs": [],
   "source": [
    "import pandas as pd\n",
    "import requests\n",
    "from bs4 import BeautifulSoup\n",
    "import re"
   ]
  },
  {
   "cell_type": "code",
   "execution_count": 3,
   "metadata": {},
   "outputs": [],
   "source": [
    "import altair as alt\n",
    "import altair_latimes as lat\n",
    "import numpy as np"
   ]
  },
  {
   "cell_type": "code",
   "execution_count": 4,
   "metadata": {},
   "outputs": [
    {
     "data": {
      "text/plain": [
       "ThemeRegistry.enable('latimes')"
      ]
     },
     "execution_count": 4,
     "metadata": {},
     "output_type": "execute_result"
    }
   ],
   "source": [
    "alt.themes.register(\"latimes\", lat.theme)\n",
    "alt.themes.enable(\"latimes\")"
   ]
  },
  {
   "cell_type": "code",
   "execution_count": 5,
   "metadata": {},
   "outputs": [],
   "source": [
    "pd.options.display.max_columns = 100\n",
    "pd.options.display.max_rows = 1000\n",
    "alt.data_transformers.disable_max_rows()\n",
    "pd.options.display.max_colwidth = None"
   ]
  },
  {
   "cell_type": "markdown",
   "metadata": {},
   "source": [
    "### Justice Department list"
   ]
  },
  {
   "cell_type": "code",
   "execution_count": 76,
   "metadata": {},
   "outputs": [],
   "source": [
    "justice_url = \"https://www.justice.gov/opa/investigations-regarding-violence-capitol\""
   ]
  },
  {
   "cell_type": "code",
   "execution_count": 77,
   "metadata": {},
   "outputs": [],
   "source": [
    "headers = {\n",
    "    \"User-Agent\": \"Mozilla/5.0 (Macintosh; Intel Mac OS X 10_15_6) AppleWebKit/537.36 (KHTML, like Gecko) Chrome/85.0.4183.102 Safari/537.36\",\n",
    "    \"Accept\": \"text/html,application/xhtml+xml,application/xml;q=0.9,image/avif,image/webp,image/apng,*/*;q=0.8,application/signed-exchange;v=b3;q=0.9\",\n",
    "}\n",
    "response_justice = requests.get(justice_url, headers=headers)"
   ]
  },
  {
   "cell_type": "markdown",
   "metadata": {},
   "source": [
    "### Create a dataframe with the html table, and clean up the headers"
   ]
  },
  {
   "cell_type": "code",
   "execution_count": 78,
   "metadata": {},
   "outputs": [],
   "source": [
    "justice = pd.read_html(response_justice.text, attrs={\"class\": \"tablesaw\"})[0]\n",
    "strings = [\",\", \"/\", \"(\", \")\", \"_\"]"
   ]
  },
  {
   "cell_type": "markdown",
   "metadata": {},
   "source": [
    "### Clean up the headers"
   ]
  },
  {
   "cell_type": "code",
   "execution_count": 79,
   "metadata": {},
   "outputs": [],
   "source": [
    "justice.columns = (\n",
    "    justice.columns.str.strip()\n",
    "    .str.lower()\n",
    "    .str.replace(\" \", \"_\", regex=False)\n",
    "    .str.replace(\":\", \"\", regex=False)\n",
    "    .str.replace(\"/\", \"_\", regex=False)\n",
    "    .str.replace(\",\", \"_\", regex=False)\n",
    "    .str.replace(\"*\", \"\", regex=False)\n",
    "    .str.replace(\"(s)\", \"s\", regex=False)\n",
    ")"
   ]
  },
  {
   "cell_type": "markdown",
   "metadata": {},
   "source": [
    "### Make a copy of the dataframe so we can improve the original"
   ]
  },
  {
   "cell_type": "code",
   "execution_count": 80,
   "metadata": {},
   "outputs": [],
   "source": [
    "doj = pd.DataFrame(justice.rename(columns={\"name\": \"fullname\"}).copy())"
   ]
  },
  {
   "cell_type": "code",
   "execution_count": 81,
   "metadata": {},
   "outputs": [],
   "source": [
    "doj[\"fullname\"] = doj[\"fullname\"].str.replace(\n",
    "    \"BETANCUR, Bryan (aka Bryan Clooney, aka Maximo Clooney)\",\n",
    "    \"BETANCUR, Bryan\",\n",
    "    regex=False,\n",
    ")"
   ]
  },
  {
   "cell_type": "code",
   "execution_count": 82,
   "metadata": {},
   "outputs": [],
   "source": [
    "doj[\"fullname\"] = doj[\"fullname\"].str.strip()"
   ]
  },
  {
   "cell_type": "code",
   "execution_count": 83,
   "metadata": {},
   "outputs": [],
   "source": [
    "doj = doj[\n",
    "    [\n",
    "        \"case_number\",\n",
    "        \"fullname\",\n",
    "        \"location_of_arrest\",\n",
    "        \"charges\",\n",
    "        \"associated_documents\",\n",
    "        \"case_status\",\n",
    "        \"entry_last_updated\",\n",
    "    ]\n",
    "]"
   ]
  },
  {
   "cell_type": "markdown",
   "metadata": {},
   "source": [
    "### Get out HTML table so we can parse it"
   ]
  },
  {
   "cell_type": "code",
   "execution_count": 84,
   "metadata": {},
   "outputs": [],
   "source": [
    "response_justice = requests.get(justice_url)\n",
    "soup = BeautifulSoup(response_justice.text, \"html.parser\")\n",
    "table = soup.find(\"table\")"
   ]
  },
  {
   "cell_type": "markdown",
   "metadata": {},
   "source": [
    "### Clean up locations"
   ]
  },
  {
   "cell_type": "code",
   "execution_count": 85,
   "metadata": {},
   "outputs": [],
   "source": [
    "doj[\"location_of_arrest\"] = (\n",
    "    doj[\"location_of_arrest\"]\n",
    "    .str.strip()\n",
    "    .str.title()\n",
    "    .str.replace(\", Middle District\", \"\", regex=False)\n",
    "    .str.replace(\", Southern District\", \"\", regex=False)\n",
    "    .str.replace(\", Central District\", \"\", regex=False)\n",
    "    .str.replace(\", Western District\", \"\", regex=False)\n",
    "    .str.replace(\", Eastern District\", \"\", regex=False)\n",
    "    .str.replace(\", Northern District\", \"\", regex=False)\n",
    ")"
   ]
  },
  {
   "cell_type": "code",
   "execution_count": 86,
   "metadata": {},
   "outputs": [],
   "source": [
    "doj[\"location_of_arrest\"] = doj[\"location_of_arrest\"].fillna(\"Not listed\")"
   ]
  },
  {
   "cell_type": "code",
   "execution_count": 87,
   "metadata": {},
   "outputs": [],
   "source": [
    "new = doj[\"location_of_arrest\"].str.split(\", \", n=1, expand=True)\n",
    "doj[\"location_of_arrest_state\"] = new[0]\n",
    "doj[\"location_of_arrest_other\"] = new[1]\n",
    "doj.drop(columns=[\"location_of_arrest\"], inplace=True)"
   ]
  },
  {
   "cell_type": "markdown",
   "metadata": {},
   "source": [
    "### Get the defendant document links from the table into a list"
   ]
  },
  {
   "cell_type": "code",
   "execution_count": 18,
   "metadata": {},
   "outputs": [],
   "source": [
    "links = []\n",
    "\n",
    "for tr in table.findAll(\"tr\")[1:]:\n",
    "    trs = tr.findAll(\"td\")\n",
    "\n",
    "    this_row_links = []\n",
    "\n",
    "    for link in trs[3].findAll(\"a\"):\n",
    "        this_row_links.append(\"https://www.justice.gov\" + link[\"href\"])\n",
    "\n",
    "    links.append(this_row_links)"
   ]
  },
  {
   "cell_type": "code",
   "execution_count": 19,
   "metadata": {},
   "outputs": [],
   "source": [
    "doj[\"links\"] = links"
   ]
  },
  {
   "cell_type": "code",
   "execution_count": 20,
   "metadata": {},
   "outputs": [],
   "source": [
    "links = doj[\"links\"].apply(pd.Series).fillna(\"\")"
   ]
  },
  {
   "cell_type": "code",
   "execution_count": 21,
   "metadata": {},
   "outputs": [],
   "source": [
    "df = pd.merge(doj, links, left_index=True, right_index=True)"
   ]
  },
  {
   "cell_type": "code",
   "execution_count": 22,
   "metadata": {},
   "outputs": [],
   "source": [
    "# df.drop([\"links\"], axis=1, inplace=True)"
   ]
  },
  {
   "cell_type": "code",
   "execution_count": 23,
   "metadata": {},
   "outputs": [],
   "source": [
    "df.rename(\n",
    "    columns={\n",
    "        0: \"link_0\",\n",
    "        1: \"link_1\",\n",
    "        2: \"link_2\",\n",
    "        3: \"link_3\",\n",
    "        4: \"link_4\",\n",
    "        5: \"link_5\",\n",
    "    },\n",
    "    inplace=True,\n",
    ")"
   ]
  },
  {
   "cell_type": "markdown",
   "metadata": {},
   "source": [
    "---"
   ]
  },
  {
   "cell_type": "markdown",
   "metadata": {},
   "source": [
    "### Parse the defendant names"
   ]
  },
  {
   "cell_type": "code",
   "execution_count": 24,
   "metadata": {},
   "outputs": [],
   "source": [
    "df[\"fullname\"] = df[\"fullname\"].str.replace(\" (aka\", \", (aka\", regex=False)"
   ]
  },
  {
   "cell_type": "code",
   "execution_count": 25,
   "metadata": {},
   "outputs": [],
   "source": [
    "df[[\"last_name\", \"first_name\", \"rest\", \"rest2\", \"rest3\"]] = (\n",
    "    df[\"fullname\"].str.title().str.strip().str.split(\", \", expand=True).fillna(\"\")\n",
    ")"
   ]
  },
  {
   "cell_type": "code",
   "execution_count": 26,
   "metadata": {},
   "outputs": [],
   "source": [
    "df[[\"first_name\", \"middle_name\", \"other_name\"]] = (\n",
    "    df[\"first_name\"].str.title().str.split(\" \", expand=True)\n",
    ")"
   ]
  },
  {
   "cell_type": "code",
   "execution_count": 27,
   "metadata": {},
   "outputs": [],
   "source": [
    "df.drop([\"rest\", \"rest2\", \"other_name\"], axis=1, inplace=True)"
   ]
  },
  {
   "cell_type": "code",
   "execution_count": 28,
   "metadata": {},
   "outputs": [],
   "source": [
    "df = df[\n",
    "    [\n",
    "        \"case_number\",\n",
    "        \"fullname\",\n",
    "        \"first_name\",\n",
    "        \"middle_name\",\n",
    "        \"last_name\",\n",
    "        \"charges\",\n",
    "        \"case_status\",\n",
    "        \"entry_last_updated\",\n",
    "        \"location_of_arrest_state\",\n",
    "        \"location_of_arrest_other\",\n",
    "        \"associated_documents\",\n",
    "        \"link_0\",\n",
    "        \"link_1\",\n",
    "        \"link_2\",\n",
    "        \"link_3\",\n",
    "        \"link_4\",\n",
    "        \"link_5\",\n",
    "        \"links\",\n",
    "    ]\n",
    "]"
   ]
  },
  {
   "cell_type": "markdown",
   "metadata": {},
   "source": [
    "---"
   ]
  },
  {
   "cell_type": "markdown",
   "metadata": {},
   "source": [
    "### How's the dataframe look? "
   ]
  },
  {
   "cell_type": "code",
   "execution_count": 29,
   "metadata": {},
   "outputs": [
    {
     "data": {
      "text/html": [
       "<div>\n",
       "<style scoped>\n",
       "    .dataframe tbody tr th:only-of-type {\n",
       "        vertical-align: middle;\n",
       "    }\n",
       "\n",
       "    .dataframe tbody tr th {\n",
       "        vertical-align: top;\n",
       "    }\n",
       "\n",
       "    .dataframe thead th {\n",
       "        text-align: right;\n",
       "    }\n",
       "</style>\n",
       "<table border=\"1\" class=\"dataframe\">\n",
       "  <thead>\n",
       "    <tr style=\"text-align: right;\">\n",
       "      <th></th>\n",
       "      <th>case_number</th>\n",
       "      <th>fullname</th>\n",
       "      <th>first_name</th>\n",
       "      <th>middle_name</th>\n",
       "      <th>last_name</th>\n",
       "      <th>charges</th>\n",
       "      <th>case_status</th>\n",
       "      <th>entry_last_updated</th>\n",
       "      <th>location_of_arrest_state</th>\n",
       "      <th>location_of_arrest_other</th>\n",
       "      <th>associated_documents</th>\n",
       "      <th>link_0</th>\n",
       "      <th>link_1</th>\n",
       "      <th>link_2</th>\n",
       "      <th>link_3</th>\n",
       "      <th>link_4</th>\n",
       "      <th>link_5</th>\n",
       "      <th>links</th>\n",
       "    </tr>\n",
       "  </thead>\n",
       "  <tbody>\n",
       "    <tr>\n",
       "      <th>0</th>\n",
       "      <td>1:21-cr-212</td>\n",
       "      <td>ADAMS, Jared Hunter</td>\n",
       "      <td>Jared</td>\n",
       "      <td>Hunter</td>\n",
       "      <td>Adams</td>\n",
       "      <td>Entering and Remaining in a Restricted Building; Disorderly and Disruptive Conduct in a Restricted Building; Violent Entry and Disorderly Conduct in a Capitol Building; Parading, Demonstrating, or Picketing in a Capitol Building</td>\n",
       "      <td>Arrest date &amp; location: 3/9/2021 in Hilliard, Ohio</td>\n",
       "      <td>March 22, 2021</td>\n",
       "      <td>Ohio</td>\n",
       "      <td>Hilliard</td>\n",
       "      <td>Adams &amp; Jared - Information  Adams &amp; Jared - Statement of Facts  Adams &amp; Jared - Complaint</td>\n",
       "      <td>https://www.justice.gov/usao-dc/case-multi-defendant/file/1378326/download</td>\n",
       "      <td>https://www.justice.gov/usao-dc/case-multi-defendant/file/1378331/download</td>\n",
       "      <td>https://www.justice.gov/usao-dc/case-multi-defendant/file/1378336/download</td>\n",
       "      <td></td>\n",
       "      <td></td>\n",
       "      <td></td>\n",
       "      <td>[https://www.justice.gov/usao-dc/case-multi-defendant/file/1378326/download, https://www.justice.gov/usao-dc/case-multi-defendant/file/1378331/download, https://www.justice.gov/usao-dc/case-multi-defendant/file/1378336/download]</td>\n",
       "    </tr>\n",
       "  </tbody>\n",
       "</table>\n",
       "</div>"
      ],
      "text/plain": [
       "   case_number             fullname first_name middle_name last_name  \\\n",
       "0  1:21-cr-212  ADAMS, Jared Hunter      Jared      Hunter     Adams   \n",
       "\n",
       "                                                                                                                                                                                                                                charges  \\\n",
       "0  Entering and Remaining in a Restricted Building; Disorderly and Disruptive Conduct in a Restricted Building; Violent Entry and Disorderly Conduct in a Capitol Building; Parading, Demonstrating, or Picketing in a Capitol Building   \n",
       "\n",
       "                                          case_status entry_last_updated  \\\n",
       "0  Arrest date & location: 3/9/2021 in Hilliard, Ohio     March 22, 2021   \n",
       "\n",
       "  location_of_arrest_state location_of_arrest_other  \\\n",
       "0                     Ohio                 Hilliard   \n",
       "\n",
       "                                                                         associated_documents  \\\n",
       "0  Adams & Jared - Information  Adams & Jared - Statement of Facts  Adams & Jared - Complaint   \n",
       "\n",
       "                                                                       link_0  \\\n",
       "0  https://www.justice.gov/usao-dc/case-multi-defendant/file/1378326/download   \n",
       "\n",
       "                                                                       link_1  \\\n",
       "0  https://www.justice.gov/usao-dc/case-multi-defendant/file/1378331/download   \n",
       "\n",
       "                                                                       link_2  \\\n",
       "0  https://www.justice.gov/usao-dc/case-multi-defendant/file/1378336/download   \n",
       "\n",
       "  link_3 link_4 link_5  \\\n",
       "0                        \n",
       "\n",
       "                                                                                                                                                                                                                                  links  \n",
       "0  [https://www.justice.gov/usao-dc/case-multi-defendant/file/1378326/download, https://www.justice.gov/usao-dc/case-multi-defendant/file/1378331/download, https://www.justice.gov/usao-dc/case-multi-defendant/file/1378336/download]  "
      ]
     },
     "execution_count": 29,
     "metadata": {},
     "output_type": "execute_result"
    }
   ],
   "source": [
    "df.head(1)"
   ]
  },
  {
   "cell_type": "markdown",
   "metadata": {},
   "source": [
    "### How many cases?"
   ]
  },
  {
   "cell_type": "code",
   "execution_count": 30,
   "metadata": {},
   "outputs": [
    {
     "data": {
      "text/plain": [
       "355"
      ]
     },
     "execution_count": 30,
     "metadata": {},
     "output_type": "execute_result"
    }
   ],
   "source": [
    "len(df)"
   ]
  },
  {
   "cell_type": "markdown",
   "metadata": {},
   "source": [
    "### Arrest locations"
   ]
  },
  {
   "cell_type": "code",
   "execution_count": 65,
   "metadata": {},
   "outputs": [
    {
     "data": {
      "text/plain": [
       "Not listed      46\n",
       "Florida         33\n",
       "Pennsylvania    33\n",
       "Texas           28\n",
       "New York        24\n",
       "Ohio            17\n",
       "Virginia        16\n",
       "California      13\n",
       "New Jersey      12\n",
       "Missouri        11\n",
       "Name: location_of_arrest_state, dtype: int64"
      ]
     },
     "execution_count": 65,
     "metadata": {},
     "output_type": "execute_result"
    }
   ],
   "source": [
    "df.location_of_arrest_state.value_counts().head(10)"
   ]
  },
  {
   "cell_type": "markdown",
   "metadata": {},
   "source": [
    "### California cases"
   ]
  },
  {
   "cell_type": "code",
   "execution_count": 32,
   "metadata": {},
   "outputs": [],
   "source": [
    "df_ca = df[df[\"location_of_arrest_state\"] == \"California\"]"
   ]
  },
  {
   "cell_type": "code",
   "execution_count": 67,
   "metadata": {},
   "outputs": [
    {
     "data": {
      "text/html": [
       "<div>\n",
       "<style scoped>\n",
       "    .dataframe tbody tr th:only-of-type {\n",
       "        vertical-align: middle;\n",
       "    }\n",
       "\n",
       "    .dataframe tbody tr th {\n",
       "        vertical-align: top;\n",
       "    }\n",
       "\n",
       "    .dataframe thead th {\n",
       "        text-align: right;\n",
       "    }\n",
       "</style>\n",
       "<table border=\"1\" class=\"dataframe\">\n",
       "  <thead>\n",
       "    <tr style=\"text-align: right;\">\n",
       "      <th></th>\n",
       "      <th>fullname</th>\n",
       "      <th>case_status</th>\n",
       "      <th>entry_last_updated</th>\n",
       "      <th>charges</th>\n",
       "    </tr>\n",
       "  </thead>\n",
       "  <tbody>\n",
       "    <tr>\n",
       "      <th>7</th>\n",
       "      <td>ALLAN, Tommy Frederick</td>\n",
       "      <td>Arrested 1/22/21 in the Eastern District of California</td>\n",
       "      <td>February 10, 2021</td>\n",
       "      <td>Theft of Government Property; Entering and Remaining in a Restricted Building or Grounds; Disorderly and Disruptive Conduct in a Restricted Building or Grounds; Entering and Remaining on the Floor of Congress; Disorderly Conduct in a Capitol Building; Parading, Demonstrating, or Picketing in a Capitol Building</td>\n",
       "    </tr>\n",
       "    <tr>\n",
       "      <th>29</th>\n",
       "      <td>BISIGNANO, Gina Michelle</td>\n",
       "      <td>Arrested 1/19/21 in the Central District of California Ordered detained. Indicted 1/29/21.</td>\n",
       "      <td>February 4, 2021</td>\n",
       "      <td>Obstruction of an Official Proceeding; Aiding and Abetting; Civil Disorder; Destruction of Government Property; Entering and Remaining in a Restricted Building or Grounds; Disorderly and Disruptive Conduct in a Restricted Building or Grounds; Engaging in Physical Violence in a Restricted Building or Grounds; Disorderly Conduct in a Capitol Building</td>\n",
       "    </tr>\n",
       "    <tr>\n",
       "      <th>67</th>\n",
       "      <td>CORDON, Kevin Francisco</td>\n",
       "      <td>Arrested on 03/09/2021 in Alhambra, California</td>\n",
       "      <td>April 7, 2021</td>\n",
       "      <td>Obstruction of an Official Proceeding; Entering and Remaining in a Restricted Building or Grounds; Disorderly and Disruptive Conduct in a Restricted Building or Grounds; Disorderly Conduct in a Capitol Building; Parading, Demonstrating, or Picketing in a Capitol Building</td>\n",
       "    </tr>\n",
       "    <tr>\n",
       "      <th>85</th>\n",
       "      <td>EHMKE, Hunter Allen</td>\n",
       "      <td>Arrested 1/13/21 in California. Initial Appearance in federal court in the Central District of California 1/14/21 at 1pm PST. Defendant was released on bond with home detention and electronic home monitoring. Initial appearance in federal court in the District of Columbia scheduled for 1/21/21 at 1pm EST.</td>\n",
       "      <td>February 4, 2021</td>\n",
       "      <td>Destruction of Government Property; Obstruction of an Official Proceeding; Disorderly Conduct in a Capitol Building; Parading, Demonstrating, or Picketing in a Capitol Building</td>\n",
       "    </tr>\n",
       "    <tr>\n",
       "      <th>86</th>\n",
       "      <td>EHRKE, Valerie Elaine</td>\n",
       "      <td>Arrested 1/19/21 in the Eastern District of California</td>\n",
       "      <td>February 10, 2021</td>\n",
       "      <td>Entering and Remaining in a Restricted Building; Disorderly and Disruptive Conduct in a Restricted Building; Violent Entry and Disorderly Conduct in a Capitol Building; Parading, Demonstrating, or Picketing in a Capitol Building</td>\n",
       "    </tr>\n",
       "    <tr>\n",
       "      <th>108</th>\n",
       "      <td>GOLD, Simone Melissa</td>\n",
       "      <td>Arrested 1/18/21 in the Central District of California Released on conditions. Virtual hearing in federal court in the District of Columbia on 1/21/21 at 1:00pm.</td>\n",
       "      <td>February 8, 2021</td>\n",
       "      <td>Restricted Building or Grounds; Violent Entry and Disorderly Conduct</td>\n",
       "    </tr>\n",
       "    <tr>\n",
       "      <th>175</th>\n",
       "      <td>LEWIS, Jacob</td>\n",
       "      <td>Arrested 1/27/2021 in the Central District of California. Initial appearance 1/27/21 at 2:00pm PST. Released on conditions. Virtual initial appearance in federal court in the District of Columbia on 2/10/21 at 1:00pm</td>\n",
       "      <td>February 10, 2021</td>\n",
       "      <td>Entering and Remaining in a Restricted Building; Disorderly and Disruptive Conduct in a Restricted Building; Violent Entry and Disorderly Conduct in a Capitol Building; Parading, Demonstrating, or Picketing in a Capitol Building</td>\n",
       "    </tr>\n",
       "    <tr>\n",
       "      <th>259</th>\n",
       "      <td>RILEY, Jorge A.</td>\n",
       "      <td>Arrested 1/19/21 in the Eastern District of California</td>\n",
       "      <td>February 10, 2021</td>\n",
       "      <td>Obstructing of an Official Proceeding; Aiding and Aiding; Entering and Remaining in a Restricted Building or Grounds; Disorderly and Disruptive Conduct in a Restricted Building or Grounds; Disorderly Conduct in a Capitol Building; Parading, Demonstrating, or Picketing in a Capitol Building</td>\n",
       "    </tr>\n",
       "    <tr>\n",
       "      <th>284</th>\n",
       "      <td>SECOR, Christian</td>\n",
       "      <td>Arrested 2/16/21 in the Central District of California</td>\n",
       "      <td>March 24, 2021</td>\n",
       "      <td>Obstruction of an Official Proceeding; Civil Disorder; Assaulting, Resisting, or Impeding Certain Officers; Entering and Remaining in a Restricted Building or Grounds; Disorderly and Disruptive Conduct in a Restricted Building or Grounds; Entering and Remaining on the Floor of Congress; Entering and Remaining in the Gallery of Congress; Entering and Remaining in Certain Rooms in the Capitol Building; Disorderly Conduct in a Capitol Building; Parading, Demonstrating, or Picketing in a Capitol Building</td>\n",
       "    </tr>\n",
       "    <tr>\n",
       "      <th>294</th>\n",
       "      <td>SIMON, Mark</td>\n",
       "      <td>Arrested 1/28/21 in the Central District of California. Initial appearance 1/28/21 at 2:00pm PST in the Central District of California. Released on bond. Next hearing (virtual) on 2/3/21 in federal court in the District of Columbia.</td>\n",
       "      <td>March 19, 2021</td>\n",
       "      <td>Entering and Remaining in a Restricted Building or Grounds; Disorderly and Disruptive Conduct in a Restricted Building or Grounds; Disorderly Conduct in a Capitol Building or Grounds; Parading, Demonstrating, or Picketing in a Capitol Building</td>\n",
       "    </tr>\n",
       "    <tr>\n",
       "      <th>295</th>\n",
       "      <td>SMITH, Jeffrey Alexander, (aka, Alex Smith)</td>\n",
       "      <td>Arrested 1/27/21 in the Southern District of California Released on bond. Next hearing (remote) 2/3/21 at 1:00pm EST in federal court in the District of Columbia.</td>\n",
       "      <td>April 12, 2021</td>\n",
       "      <td>Violent Entry and Disorderly Conduct in a Capitol Building; Parading, Demonstrating, or Picketing in a Capitol Building; Entering and Remaining in a Restricted Building; Disorderly and Disruptive Conduct in a Restricted Building</td>\n",
       "    </tr>\n",
       "    <tr>\n",
       "      <th>313</th>\n",
       "      <td>STRAND, John Herbert</td>\n",
       "      <td>Arrested 1/18/21 in the Central District of California Released on conditions.</td>\n",
       "      <td>February 8, 2021</td>\n",
       "      <td>Restricted Building or Grounds; Violent Entry and Disorderly Conduct</td>\n",
       "    </tr>\n",
       "    <tr>\n",
       "      <th>314</th>\n",
       "      <td>STRONG, Kevin</td>\n",
       "      <td>Arrested 1/22/21 in the Central District of California</td>\n",
       "      <td>March 25, 2021</td>\n",
       "      <td>Entering and Remaining in a Restricted Building or Grounds; Disorderly and Disruptive Conduct in a Restricted Building or Grounds; Disorderly Conduct in a Capitol Building; Parading, Demonstrating, or Picketing in a Capitol Building</td>\n",
       "    </tr>\n",
       "  </tbody>\n",
       "</table>\n",
       "</div>"
      ],
      "text/plain": [
       "                                        fullname  \\\n",
       "7                         ALLAN, Tommy Frederick   \n",
       "29                      BISIGNANO, Gina Michelle   \n",
       "67                       CORDON, Kevin Francisco   \n",
       "85                           EHMKE, Hunter Allen   \n",
       "86                         EHRKE, Valerie Elaine   \n",
       "108                         GOLD, Simone Melissa   \n",
       "175                                 LEWIS, Jacob   \n",
       "259                              RILEY, Jorge A.   \n",
       "284                             SECOR, Christian   \n",
       "294                                  SIMON, Mark   \n",
       "295  SMITH, Jeffrey Alexander, (aka, Alex Smith)   \n",
       "313                         STRAND, John Herbert   \n",
       "314                                STRONG, Kevin   \n",
       "\n",
       "                                                                                                                                                                                                                                                                                                            case_status  \\\n",
       "7                                                                                                                                                                                                                                                                Arrested 1/22/21 in the Eastern District of California   \n",
       "29                                                                                                                                                                                                                           Arrested 1/19/21 in the Central District of California Ordered detained. Indicted 1/29/21.   \n",
       "67                                                                                                                                                                                                                                                                       Arrested on 03/09/2021 in Alhambra, California   \n",
       "85   Arrested 1/13/21 in California. Initial Appearance in federal court in the Central District of California 1/14/21 at 1pm PST. Defendant was released on bond with home detention and electronic home monitoring. Initial appearance in federal court in the District of Columbia scheduled for 1/21/21 at 1pm EST.   \n",
       "86                                                                                                                                                                                                                                                               Arrested 1/19/21 in the Eastern District of California   \n",
       "108                                                                                                                                                   Arrested 1/18/21 in the Central District of California Released on conditions. Virtual hearing in federal court in the District of Columbia on 1/21/21 at 1:00pm.   \n",
       "175                                                                                            Arrested 1/27/2021 in the Central District of California. Initial appearance 1/27/21 at 2:00pm PST. Released on conditions. Virtual initial appearance in federal court in the District of Columbia on 2/10/21 at 1:00pm   \n",
       "259                                                                                                                                                                                                                                                              Arrested 1/19/21 in the Eastern District of California   \n",
       "284                                                                                                                                                                                                                                                              Arrested 2/16/21 in the Central District of California   \n",
       "294                                                                            Arrested 1/28/21 in the Central District of California. Initial appearance 1/28/21 at 2:00pm PST in the Central District of California. Released on bond. Next hearing (virtual) on 2/3/21 in federal court in the District of Columbia.   \n",
       "295                                                                                                                                                  Arrested 1/27/21 in the Southern District of California Released on bond. Next hearing (remote) 2/3/21 at 1:00pm EST in federal court in the District of Columbia.   \n",
       "313                                                                                                                                                                                                                                      Arrested 1/18/21 in the Central District of California Released on conditions.   \n",
       "314                                                                                                                                                                                                                                                              Arrested 1/22/21 in the Central District of California   \n",
       "\n",
       "    entry_last_updated  \\\n",
       "7    February 10, 2021   \n",
       "29    February 4, 2021   \n",
       "67       April 7, 2021   \n",
       "85    February 4, 2021   \n",
       "86   February 10, 2021   \n",
       "108   February 8, 2021   \n",
       "175  February 10, 2021   \n",
       "259  February 10, 2021   \n",
       "284     March 24, 2021   \n",
       "294     March 19, 2021   \n",
       "295     April 12, 2021   \n",
       "313   February 8, 2021   \n",
       "314     March 25, 2021   \n",
       "\n",
       "                                                                                                                                                                                                                                                                                                                                                                                                                                                                                                                       charges  \n",
       "7                                                                                                                                                                                                      Theft of Government Property; Entering and Remaining in a Restricted Building or Grounds; Disorderly and Disruptive Conduct in a Restricted Building or Grounds; Entering and Remaining on the Floor of Congress; Disorderly Conduct in a Capitol Building; Parading, Demonstrating, or Picketing in a Capitol Building  \n",
       "29                                                                                                                                                              Obstruction of an Official Proceeding; Aiding and Abetting; Civil Disorder; Destruction of Government Property; Entering and Remaining in a Restricted Building or Grounds; Disorderly and Disruptive Conduct in a Restricted Building or Grounds; Engaging in Physical Violence in a Restricted Building or Grounds; Disorderly Conduct in a Capitol Building  \n",
       "67                                                                                                                                                                                                                                             Obstruction of an Official Proceeding; Entering and Remaining in a Restricted Building or Grounds; Disorderly and Disruptive Conduct in a Restricted Building or Grounds; Disorderly Conduct in a Capitol Building; Parading, Demonstrating, or Picketing in a Capitol Building  \n",
       "85                                                                                                                                                                                                                                                                                                                                            Destruction of Government Property; Obstruction of an Official Proceeding; Disorderly Conduct in a Capitol Building; Parading, Demonstrating, or Picketing in a Capitol Building  \n",
       "86                                                                                                                                                                                                                                                                                        Entering and Remaining in a Restricted Building; Disorderly and Disruptive Conduct in a Restricted Building; Violent Entry and Disorderly Conduct in a Capitol Building; Parading, Demonstrating, or Picketing in a Capitol Building  \n",
       "108                                                                                                                                                                                                                                                                                                                                                                                                                                                       Restricted Building or Grounds; Violent Entry and Disorderly Conduct  \n",
       "175                                                                                                                                                                                                                                                                                       Entering and Remaining in a Restricted Building; Disorderly and Disruptive Conduct in a Restricted Building; Violent Entry and Disorderly Conduct in a Capitol Building; Parading, Demonstrating, or Picketing in a Capitol Building  \n",
       "259                                                                                                                                                                                                                         Obstructing of an Official Proceeding; Aiding and Aiding; Entering and Remaining in a Restricted Building or Grounds; Disorderly and Disruptive Conduct in a Restricted Building or Grounds; Disorderly Conduct in a Capitol Building; Parading, Demonstrating, or Picketing in a Capitol Building  \n",
       "284  Obstruction of an Official Proceeding; Civil Disorder; Assaulting, Resisting, or Impeding Certain Officers; Entering and Remaining in a Restricted Building or Grounds; Disorderly and Disruptive Conduct in a Restricted Building or Grounds; Entering and Remaining on the Floor of Congress; Entering and Remaining in the Gallery of Congress; Entering and Remaining in Certain Rooms in the Capitol Building; Disorderly Conduct in a Capitol Building; Parading, Demonstrating, or Picketing in a Capitol Building  \n",
       "294                                                                                                                                                                                                                                                                        Entering and Remaining in a Restricted Building or Grounds; Disorderly and Disruptive Conduct in a Restricted Building or Grounds; Disorderly Conduct in a Capitol Building or Grounds; Parading, Demonstrating, or Picketing in a Capitol Building  \n",
       "295                                                                                                                                                                                                                                                                                       Violent Entry and Disorderly Conduct in a Capitol Building; Parading, Demonstrating, or Picketing in a Capitol Building; Entering and Remaining in a Restricted Building; Disorderly and Disruptive Conduct in a Restricted Building  \n",
       "313                                                                                                                                                                                                                                                                                                                                                                                                                                                       Restricted Building or Grounds; Violent Entry and Disorderly Conduct  \n",
       "314                                                                                                                                                                                                                                                                                   Entering and Remaining in a Restricted Building or Grounds; Disorderly and Disruptive Conduct in a Restricted Building or Grounds; Disorderly Conduct in a Capitol Building; Parading, Demonstrating, or Picketing in a Capitol Building  "
      ]
     },
     "execution_count": 67,
     "metadata": {},
     "output_type": "execute_result"
    }
   ],
   "source": [
    "df_ca[[\"fullname\", \"case_status\", \"entry_last_updated\", \"charges\"]]"
   ]
  },
  {
   "cell_type": "code",
   "execution_count": 34,
   "metadata": {},
   "outputs": [
    {
     "data": {
      "text/plain": [
       "13"
      ]
     },
     "execution_count": 34,
     "metadata": {},
     "output_type": "execute_result"
    }
   ],
   "source": [
    "len(df_ca)"
   ]
  },
  {
   "cell_type": "markdown",
   "metadata": {},
   "source": [
    "---"
   ]
  },
  {
   "cell_type": "markdown",
   "metadata": {},
   "source": [
    "### Parse and categorize each defendant's list of charges"
   ]
  },
  {
   "cell_type": "code",
   "execution_count": 35,
   "metadata": {},
   "outputs": [],
   "source": [
    "df[\"charges_list\"] = df[\"charges\"].str.upper().str.split(\";\")"
   ]
  },
  {
   "cell_type": "markdown",
   "metadata": {},
   "source": [
    "### Create a flat table from the one-to-many relationship between defendants and charges"
   ]
  },
  {
   "cell_type": "code",
   "execution_count": 36,
   "metadata": {},
   "outputs": [],
   "source": [
    "df_long = df.explode(\"charges_list\")"
   ]
  },
  {
   "cell_type": "markdown",
   "metadata": {},
   "source": [
    "### Charge strings and categories"
   ]
  },
  {
   "cell_type": "code",
   "execution_count": 37,
   "metadata": {},
   "outputs": [],
   "source": [
    "data_list = {\n",
    "    \"charge\": [\n",
    "        \"INTERSTATE\",\n",
    "        \"VIOLENCE\",\n",
    "        \"PARADING, DEMONSTRATING, OR PICKETING\",\n",
    "        \"PARADE, DEMONSTRATE, OR PICKET\",\n",
    "        \"ENTERING\",\n",
    "        \"DISORDERLY CONDUCT\",\n",
    "        \"DISORDERLY AND DISRUPTIVE CONDUCT\",\n",
    "        \"OBSTRUCTION OF AN OFFICIAL\",\n",
    "        \"CIVIL DISORDER\",\n",
    "        \"OBSTRUCTION OF AN OFFICIAL\",\n",
    "        \"KNOWINGLY ENTERING OR REMAINING\",\n",
    "        \"VIOLENT ENTRY\",\n",
    "        \"DISORDERLY AND DISRUPTIVE CONDUCT\",\n",
    "        \"REMAINING IN A RESTRICTED BUILDING\",\n",
    "        \"VIOLENT ENTRY\",\n",
    "        \"AIDING AND ABETTING\",\n",
    "        \"PHYSICAL VIOLENCE\",\n",
    "        \"CONSPIRACY\",\n",
    "        \"ASSAULTING, RESISTING, OR IMPEDING\",\n",
    "        \"RESTRICTED BUILDING OR GROUNDS\",\n",
    "        \"ENTERING AND REMAINING IN A RESTRICTED BUILDING OR GROUNDS WITH A DEADLY OR DANGEROUS WEAPON\",\n",
    "        \"ASSAULTING, RESISTING, OR IMPEDING CERTAIN OFFICERS USING A DANGEROUS WEAPON\",\n",
    "        \"IMPEDING PASSAGE THROUGH THE CAPITOL GROUNDS OR BUILDINGS\",\n",
    "        \"TAMPERING\",\n",
    "        \"THEFT\",\n",
    "        \"OBSTRUCTION\",\n",
    "        \"DESTRUCTION\",\n",
    "        \"DEMONSTRATING\",\n",
    "        \"DISRUPTIVE CONDUCT\",\n",
    "        \"PROPERTY\",\n",
    "        \"ASSAULTING\",\n",
    "        \"UNLAWFUL ENTRY\",\n",
    "        \"IMPEDING\",\n",
    "        \"PISTOL\",\n",
    "        \"FIREARM\",\n",
    "        \"OBSTRUCTING\",\n",
    "        \"UNLAWFUL ACTIVITIES ON CAPITOL GROUNDS\",\n",
    "        \"INTERFERED WITH A FEDERAL AGENT\",\n",
    "        \"UNLAWFUL POSSESSION\",\n",
    "        \"BODILY INJURY\",\n",
    "        \"THREATENING A FEDERAL OFFICER\",\n",
    "        \"ASSAULT\",\n",
    "        \"PARADING\",\n",
    "        \"DISORDERLLY CONDUCT\",\n",
    "        \"DI$ORDERLY CONDUCT\",\n",
    "        \"OBSTRUCT, IMPEDE, OR INTERFERE\",\n",
    "        \"DISRUPTING THE ORDERLY CONDUCT\",\n",
    "        \"AMMUNITION\",\n",
    "        \"DI$ORDERLY\",\n",
    "        \"DISORDELRY CONDUCT\",\n",
    "        \"OFFICIAL PROCEEDING\",\n",
    "        \"AIDING AND AIDING\",\n",
    "    ],\n",
    "    \"category\": [\n",
    "        \"Other\",\n",
    "        \"Other\",\n",
    "        \"Demonstrating in the Capitol\",\n",
    "        \"Demonstrating in the Capitol\",\n",
    "        \"Entering/remaining in resricted area\",\n",
    "        \"Disruptive/disorderly conduct\",\n",
    "        \"Disruptive/disorderly conduct\",\n",
    "        \"Obstructing a proceeding\",\n",
    "        \"Disruptive/disorderly conduct\",\n",
    "        \"Obstructing a proceeding\",\n",
    "        \"Entering/remaining in resricted area\",\n",
    "        \"Violent entry\",\n",
    "        \"Disruptive/disorderly conduct\",\n",
    "        \"Entering/remaining in resricted area\",\n",
    "        \"Violent entry\",\n",
    "        \"Aiding and abetting\",\n",
    "        \"Physical violence in the Capitol\",\n",
    "        \"Conspiracy\",\n",
    "        \"Assaulting/resisting/impeding officers\",\n",
    "        \"Entering/remaining in resricted area\",\n",
    "        \"Weapons charge\",\n",
    "        \"Assaulting/resisting/impeding officers w/ weapon\",\n",
    "        \"Impeding passage in the Capitol\",\n",
    "        \"Tampering\",\n",
    "        \"Theft\",\n",
    "        \"Obstructing a proceeding\",\n",
    "        \"Destroying property\",\n",
    "        \"Demonstrating in the Capitol\",\n",
    "        \"Disruptive/disorderly conduct\",\n",
    "        \"Property damage\",\n",
    "        \"Assaulting/resisting/impeding officers\",\n",
    "        \"Entering/remaining in resricted area\",\n",
    "        \"Assaulting/resisting/impeding officers\",\n",
    "        \"Weapons charge\",\n",
    "        \"Weapons charge\",\n",
    "        \"Obstructing a proceeding\",\n",
    "        \"Unlawful activities on Capitol grounds\",\n",
    "        \"Assaulting/resisting/impeding officers\",\n",
    "        \"Weapons charge\",\n",
    "        \"Assaulting/resisting/impeding officers\",\n",
    "        \"Assaulting/resisting/impeding officers\",\n",
    "        \"Assaulting/resisting/impeding officers\",\n",
    "        \"Demonstrating in the Capitol\",\n",
    "        \"Disruptive/disorderly conduct\",\n",
    "        \"Disruptive/disorderly conduct\",\n",
    "        \"Assaulting/resisting/impeding officers\",\n",
    "        \"Disruptive/disorderly conduct\",\n",
    "        \"Weapons charge\",\n",
    "        \"Disruptive/disorderly conduct\",\n",
    "        \"Disruptive/disorderly conduct\",\n",
    "        \"Obstructing a proceeding\",\n",
    "        \"Aiding and abetting\",\n",
    "    ],\n",
    "}"
   ]
  },
  {
   "cell_type": "markdown",
   "metadata": {},
   "source": [
    "### Loop and assign categories"
   ]
  },
  {
   "cell_type": "code",
   "execution_count": 38,
   "metadata": {},
   "outputs": [],
   "source": [
    "for charge, category in zip(data_list[\"charge\"], data_list[\"category\"]):\n",
    "    df_long.loc[\n",
    "        df_long[\"charges_list\"].str.contains(f\"{charge}\", case=False), \"category\"\n",
    "    ] = f\"{category}\""
   ]
  },
  {
   "cell_type": "markdown",
   "metadata": {},
   "source": [
    "---"
   ]
  },
  {
   "cell_type": "markdown",
   "metadata": {},
   "source": [
    "### How many charges does each defendant face? "
   ]
  },
  {
   "cell_type": "code",
   "execution_count": 39,
   "metadata": {},
   "outputs": [],
   "source": [
    "cases_by_defendant = (\n",
    "    df_long.groupby([\"case_number\", \"fullname\"])\n",
    "    .agg({\"charges_list\": \"count\"})\n",
    "    .reset_index()\n",
    ").sort_values(\"charges_list\", ascending=False)"
   ]
  },
  {
   "cell_type": "code",
   "execution_count": 40,
   "metadata": {},
   "outputs": [
    {
     "data": {
      "text/html": [
       "<div>\n",
       "<style scoped>\n",
       "    .dataframe tbody tr th:only-of-type {\n",
       "        vertical-align: middle;\n",
       "    }\n",
       "\n",
       "    .dataframe tbody tr th {\n",
       "        vertical-align: top;\n",
       "    }\n",
       "\n",
       "    .dataframe thead th {\n",
       "        text-align: right;\n",
       "    }\n",
       "</style>\n",
       "<table border=\"1\" class=\"dataframe\">\n",
       "  <thead>\n",
       "    <tr style=\"text-align: right;\">\n",
       "      <th></th>\n",
       "      <th>case_number</th>\n",
       "      <th>fullname</th>\n",
       "      <th>charges_list</th>\n",
       "    </tr>\n",
       "  </thead>\n",
       "  <tbody>\n",
       "    <tr>\n",
       "      <th>13</th>\n",
       "      <td>1:21-cr-107</td>\n",
       "      <td>CUA, Bruno Joseph</td>\n",
       "      <td>12</td>\n",
       "    </tr>\n",
       "    <tr>\n",
       "      <th>26</th>\n",
       "      <td>1:21-cr-120</td>\n",
       "      <td>FAIRLAMB, Scott Kevin</td>\n",
       "      <td>11</td>\n",
       "    </tr>\n",
       "    <tr>\n",
       "      <th>92</th>\n",
       "      <td>1:21-cr-190</td>\n",
       "      <td>ALAM, Zachary Jordan</td>\n",
       "      <td>10</td>\n",
       "    </tr>\n",
       "    <tr>\n",
       "      <th>233</th>\n",
       "      <td>1:21-cr-75</td>\n",
       "      <td>MILLER, Matthew Ryan</td>\n",
       "      <td>10</td>\n",
       "    </tr>\n",
       "    <tr>\n",
       "      <th>110</th>\n",
       "      <td>1:21-cr-206</td>\n",
       "      <td>MELLIS, Jonathan Gennaro, (aka, Jon Gennaro)</td>\n",
       "      <td>10</td>\n",
       "    </tr>\n",
       "  </tbody>\n",
       "</table>\n",
       "</div>"
      ],
      "text/plain": [
       "     case_number                                      fullname  charges_list\n",
       "13   1:21-cr-107                             CUA, Bruno Joseph            12\n",
       "26   1:21-cr-120                         FAIRLAMB, Scott Kevin            11\n",
       "92   1:21-cr-190                          ALAM, Zachary Jordan            10\n",
       "233   1:21-cr-75                          MILLER, Matthew Ryan            10\n",
       "110  1:21-cr-206  MELLIS, Jonathan Gennaro, (aka, Jon Gennaro)            10"
      ]
     },
     "execution_count": 40,
     "metadata": {},
     "output_type": "execute_result"
    }
   ],
   "source": [
    "cases_by_defendant.sort_values(\"charges_list\", ascending=False).head()"
   ]
  },
  {
   "cell_type": "markdown",
   "metadata": {},
   "source": [
    "### Which charges are most common (many imperfect strings here)?"
   ]
  },
  {
   "cell_type": "code",
   "execution_count": 41,
   "metadata": {},
   "outputs": [],
   "source": [
    "charges_by_charges = (\n",
    "    df_long.groupby(\n",
    "        [\n",
    "            \"charges_list\",\n",
    "        ]\n",
    "    )\n",
    "    .agg({\"case_number\": \"count\"})\n",
    "    .reset_index()\n",
    ").sort_values(\"case_number\", ascending=False)"
   ]
  },
  {
   "cell_type": "code",
   "execution_count": 42,
   "metadata": {},
   "outputs": [
    {
     "data": {
      "text/html": [
       "<div>\n",
       "<style scoped>\n",
       "    .dataframe tbody tr th:only-of-type {\n",
       "        vertical-align: middle;\n",
       "    }\n",
       "\n",
       "    .dataframe tbody tr th {\n",
       "        vertical-align: top;\n",
       "    }\n",
       "\n",
       "    .dataframe thead th {\n",
       "        text-align: right;\n",
       "    }\n",
       "</style>\n",
       "<table border=\"1\" class=\"dataframe\">\n",
       "  <thead>\n",
       "    <tr style=\"text-align: right;\">\n",
       "      <th></th>\n",
       "      <th>charges_list</th>\n",
       "      <th>case_number</th>\n",
       "    </tr>\n",
       "  </thead>\n",
       "  <tbody>\n",
       "    <tr>\n",
       "      <th>141</th>\n",
       "      <td>PARADING, DEMONSTRATING, OR PICKETING IN A CAPITOL BUILDING</td>\n",
       "      <td>116</td>\n",
       "    </tr>\n",
       "    <tr>\n",
       "      <th>49</th>\n",
       "      <td>DISORDERLY CONDUCT IN A CAPITOL BUILDING</td>\n",
       "      <td>92</td>\n",
       "    </tr>\n",
       "    <tr>\n",
       "      <th>41</th>\n",
       "      <td>DISORDERLY AND DISRUPTIVE CONDUCT IN A RESTRICTED BUILDING OR GROUNDS</td>\n",
       "      <td>90</td>\n",
       "    </tr>\n",
       "    <tr>\n",
       "      <th>79</th>\n",
       "      <td>ENTERING AND REMAINING IN A RESTRICTED BUILDING OR GROUNDS</td>\n",
       "      <td>72</td>\n",
       "    </tr>\n",
       "    <tr>\n",
       "      <th>206</th>\n",
       "      <td>ENTERING AND REMAINING IN A RESTRICTED BUILDING</td>\n",
       "      <td>46</td>\n",
       "    </tr>\n",
       "    <tr>\n",
       "      <th>241</th>\n",
       "      <td>OBSTRUCTION OF AN OFFICIAL PROCEEDING</td>\n",
       "      <td>43</td>\n",
       "    </tr>\n",
       "    <tr>\n",
       "      <th>39</th>\n",
       "      <td>DISORDERLY AND DISRUPTIVE CONDUCT IN A RESTRICTED BUILDING</td>\n",
       "      <td>43</td>\n",
       "    </tr>\n",
       "    <tr>\n",
       "      <th>180</th>\n",
       "      <td>VIOLENT ENTRY AND DISORDERLY CONDUCT ON CAPITOL GROUNDS</td>\n",
       "      <td>40</td>\n",
       "    </tr>\n",
       "    <tr>\n",
       "      <th>124</th>\n",
       "      <td>OBSTRUCTION OF AN OFFICIAL PROCEEDING</td>\n",
       "      <td>38</td>\n",
       "    </tr>\n",
       "    <tr>\n",
       "      <th>198</th>\n",
       "      <td>CIVIL DISORDER</td>\n",
       "      <td>37</td>\n",
       "    </tr>\n",
       "  </tbody>\n",
       "</table>\n",
       "</div>"
      ],
      "text/plain": [
       "                                                               charges_list  \\\n",
       "141             PARADING, DEMONSTRATING, OR PICKETING IN A CAPITOL BUILDING   \n",
       "49                                 DISORDERLY CONDUCT IN A CAPITOL BUILDING   \n",
       "41    DISORDERLY AND DISRUPTIVE CONDUCT IN A RESTRICTED BUILDING OR GROUNDS   \n",
       "79               ENTERING AND REMAINING IN A RESTRICTED BUILDING OR GROUNDS   \n",
       "206                         ENTERING AND REMAINING IN A RESTRICTED BUILDING   \n",
       "241                                   OBSTRUCTION OF AN OFFICIAL PROCEEDING   \n",
       "39               DISORDERLY AND DISRUPTIVE CONDUCT IN A RESTRICTED BUILDING   \n",
       "180                 VIOLENT ENTRY AND DISORDERLY CONDUCT ON CAPITOL GROUNDS   \n",
       "124                                   OBSTRUCTION OF AN OFFICIAL PROCEEDING   \n",
       "198                                                          CIVIL DISORDER   \n",
       "\n",
       "     case_number  \n",
       "141          116  \n",
       "49            92  \n",
       "41            90  \n",
       "79            72  \n",
       "206           46  \n",
       "241           43  \n",
       "39            43  \n",
       "180           40  \n",
       "124           38  \n",
       "198           37  "
      ]
     },
     "execution_count": 42,
     "metadata": {},
     "output_type": "execute_result"
    }
   ],
   "source": [
    "charges_by_charges.sort_values(\"case_number\", ascending=False).head(10)"
   ]
  },
  {
   "cell_type": "markdown",
   "metadata": {},
   "source": [
    "### Which categories of charges are most common? "
   ]
  },
  {
   "cell_type": "code",
   "execution_count": 43,
   "metadata": {},
   "outputs": [],
   "source": [
    "charges_by_category = (\n",
    "    df_long.groupby(\n",
    "        [\n",
    "            \"category\",\n",
    "        ]\n",
    "    )\n",
    "    .agg({\"case_number\": \"count\"})\n",
    "    .reset_index()\n",
    ").sort_values(\"case_number\", ascending=False)"
   ]
  },
  {
   "cell_type": "code",
   "execution_count": 44,
   "metadata": {},
   "outputs": [
    {
     "data": {
      "text/html": [
       "<div>\n",
       "<style scoped>\n",
       "    .dataframe tbody tr th:only-of-type {\n",
       "        vertical-align: middle;\n",
       "    }\n",
       "\n",
       "    .dataframe tbody tr th {\n",
       "        vertical-align: top;\n",
       "    }\n",
       "\n",
       "    .dataframe thead th {\n",
       "        text-align: right;\n",
       "    }\n",
       "</style>\n",
       "<table border=\"1\" class=\"dataframe\">\n",
       "  <thead>\n",
       "    <tr style=\"text-align: right;\">\n",
       "      <th></th>\n",
       "      <th>category</th>\n",
       "      <th>case_number</th>\n",
       "    </tr>\n",
       "  </thead>\n",
       "  <tbody>\n",
       "    <tr>\n",
       "      <th>4</th>\n",
       "      <td>Disruptive/disorderly conduct</td>\n",
       "      <td>437</td>\n",
       "    </tr>\n",
       "    <tr>\n",
       "      <th>5</th>\n",
       "      <td>Entering/remaining in resricted area</td>\n",
       "      <td>367</td>\n",
       "    </tr>\n",
       "    <tr>\n",
       "      <th>6</th>\n",
       "      <td>Obstructing a proceeding</td>\n",
       "      <td>184</td>\n",
       "    </tr>\n",
       "    <tr>\n",
       "      <th>3</th>\n",
       "      <td>Demonstrating in the Capitol</td>\n",
       "      <td>176</td>\n",
       "    </tr>\n",
       "    <tr>\n",
       "      <th>12</th>\n",
       "      <td>Violent entry</td>\n",
       "      <td>111</td>\n",
       "    </tr>\n",
       "    <tr>\n",
       "      <th>1</th>\n",
       "      <td>Assaulting/resisting/impeding officers</td>\n",
       "      <td>108</td>\n",
       "    </tr>\n",
       "    <tr>\n",
       "      <th>9</th>\n",
       "      <td>Property damage</td>\n",
       "      <td>60</td>\n",
       "    </tr>\n",
       "    <tr>\n",
       "      <th>8</th>\n",
       "      <td>Physical violence in the Capitol</td>\n",
       "      <td>40</td>\n",
       "    </tr>\n",
       "    <tr>\n",
       "      <th>13</th>\n",
       "      <td>Weapons charge</td>\n",
       "      <td>32</td>\n",
       "    </tr>\n",
       "    <tr>\n",
       "      <th>0</th>\n",
       "      <td>Aiding and abetting</td>\n",
       "      <td>29</td>\n",
       "    </tr>\n",
       "  </tbody>\n",
       "</table>\n",
       "</div>"
      ],
      "text/plain": [
       "                                  category  case_number\n",
       "4            Disruptive/disorderly conduct          437\n",
       "5     Entering/remaining in resricted area          367\n",
       "6                 Obstructing a proceeding          184\n",
       "3             Demonstrating in the Capitol          176\n",
       "12                           Violent entry          111\n",
       "1   Assaulting/resisting/impeding officers          108\n",
       "9                          Property damage           60\n",
       "8         Physical violence in the Capitol           40\n",
       "13                          Weapons charge           32\n",
       "0                      Aiding and abetting           29"
      ]
     },
     "execution_count": 44,
     "metadata": {},
     "output_type": "execute_result"
    }
   ],
   "source": [
    "charges_by_category.sort_values(\"case_number\", ascending=False).head(10)"
   ]
  },
  {
   "cell_type": "code",
   "execution_count": 45,
   "metadata": {},
   "outputs": [
    {
     "data": {
      "text/plain": [
       "1591"
      ]
     },
     "execution_count": 45,
     "metadata": {},
     "output_type": "execute_result"
    }
   ],
   "source": [
    "charges_by_category.case_number.sum()"
   ]
  },
  {
   "cell_type": "markdown",
   "metadata": {},
   "source": [
    "---"
   ]
  },
  {
   "cell_type": "markdown",
   "metadata": {},
   "source": [
    "### Parse dates from the \"case status\" column"
   ]
  },
  {
   "cell_type": "code",
   "execution_count": 71,
   "metadata": {},
   "outputs": [],
   "source": [
    "df_long_new = df_long.copy()"
   ]
  },
  {
   "cell_type": "code",
   "execution_count": 72,
   "metadata": {},
   "outputs": [],
   "source": [
    "df_long_new[\"case_status_helper\"] = df_long_new[\"case_status\"].fillna(\"\").astype(str)"
   ]
  },
  {
   "cell_type": "markdown",
   "metadata": {},
   "source": [
    "### Remove alphabetical characters to expose dates in sentences"
   ]
  },
  {
   "cell_type": "code",
   "execution_count": 73,
   "metadata": {},
   "outputs": [],
   "source": [
    "df_long_new[\"arrested_date\"] = (\n",
    "    df_long_new[\"case_status_helper\"]\n",
    "    .str.replace(\"April \", \"04/\", regex=False)\n",
    "    .str.replace(\"March \", \"03/\", regex=False)\n",
    "    .str.replace(\"January \", \"01/\", regex=False)\n",
    "    .str.replace(\"February \", \"01/\", regex=False)\n",
    "    .str.replace(\", 2021 \", \"/21\", regex=False)\n",
    "    .str.replace(\"[^0-9,-,/.]\", \"\", regex=True)\n",
    ")"
   ]
  },
  {
   "cell_type": "code",
   "execution_count": 75,
   "metadata": {},
   "outputs": [
    {
     "data": {
      "text/plain": [
       "                                                   378\n",
       "1/19/21                                             56\n",
       "1/18/21                                             44\n",
       "1/26/21                                             30\n",
       "2/11/21                                             30\n",
       "1/27/21                                             22\n",
       "2/1/21                                              22\n",
       "03/09/2021,                                         21\n",
       "1/25/21                                             20\n",
       "02/25/2021                                          18\n",
       "02/19/2021,                                         18\n",
       "2/4/21                                              16\n",
       "1/15/21                                             15\n",
       "1/17/21.                                            15\n",
       "03/04/2021,                                         14\n",
       "03/12/2021,                                         13\n",
       "1/20/21                                             13\n",
       ".                                                   12\n",
       "1/22/21                                             12\n",
       "2/6/21                                              12\n",
       "1/18/21.                                            12\n",
       "1/22/2104/7,2021.                                   11\n",
       "1/20/21.1/22/21.1/25/21..                           10\n",
       "2/4/212/4/2021.2/10/21200.                          10\n",
       "1/26/21.1/26/21230..                                10\n",
       "2/18/21                                             10\n",
       "1/30/211/8/21..3/29/214/9/21                        10\n",
       "03/05/2021,                                         10\n",
       "1/25/2021../2/8/21100/2/16/2021,200.                10\n",
       "2/16/21                                             10\n",
       "1/13/21                                             10\n",
       "1/14/2021.,,1/20/21230.                             10\n",
       "1/16/2104/7,2021.                                   10\n",
       "1/28/212/1/21300..2/16/21                            9\n",
       "03/17/2021,                                          9\n",
       "03/17/2021,..                                        9\n",
       "1/28/21.2/1/21300..2/16/21.                          9\n",
       "03/04/2021                                           9\n",
       "1/16/21                                              9\n",
       "03/18/2021,                                          9\n",
       "1/16/21.                                             8\n",
       "1/15/21.1/15/212.                                    8\n",
       "1/12/213                                             8\n",
       "1/19/21.1/29/21.                                     8\n",
       "1/19/211/29/21                                       8\n",
       "1/7/21./1/7/21..1/28/211200..                        8\n",
       "2/4/21.                                              8\n",
       "1/21/2021,1/27/21130.                                8\n",
       "1/16/2104/7,2021                                     8\n",
       "2/4/21.2/4/21.                                       8\n",
       "1/29/21.                                             8\n",
       "1/12.                                                8\n",
       "1/28/21.2/2/21100.                                   8\n",
       "2/25/2021                                            8\n",
       "02/18/2021                                           7\n",
       "2/19/2021.2/19/21.2/23/21130                         7\n",
       "2/22/21.2/23/2021.                                   7\n",
       "1/21/21                                              7\n",
       "1/17/21                                              7\n",
       "1/14/21.1/19/21300.                                  7\n",
       "02/12/2021                                           7\n",
       "41/15/2021.                                          7\n",
       "02/25/2021,                                          6\n",
       "1/14/21.1/14/21..2/11/211100.                        6\n",
       "03/09/2021,.03/26,2021                               6\n",
       "03/24,2021                                           6\n",
       "1/8/21.1/11/21.                                      6\n",
       "3/10/21,                                             6\n",
       "1/22/21.1/25/21..1/27/21                             6\n",
       "1/18/21,                                             6\n",
       "1/12/21.                                             6\n",
       "2/10/21.2/10/21130..                                 6\n",
       "1/22/211/25/21..1/27/21                              6\n",
       "1/7/21.1/27/21100..                                  6\n",
       "03/09/2021.03/12,2021                                6\n",
       "03/17/2021.03/26/21.                                 5\n",
       ",3/10/2021                                           5\n",
       "02/10/2021                                           5\n",
       "03/18/2021,.                                         5\n",
       "2/11/21.                                             5\n",
       "1/17/21.1/19/21..                                    5\n",
       "3/15/21.3/15/21200...                                5\n",
       "1/22/21.                                             5\n",
       "2/11/21.2/11/21..                                    5\n",
       "1/29/2021                                            5\n",
       "2/17/21                                              5\n",
       "1/16/21,.1/19/2021.                                  5\n",
       "1/14/21                                              5\n",
       "1/19/20212/11/2021200.                               5\n",
       "3/15/21.3/15/21300.                                  5\n",
       "2/3/21                                               5\n",
       "2/15/21                                              5\n",
       "03/11/2021,.                                         5\n",
       "02/05/2021.                                          5\n",
       "1/20/2021                                            5\n",
       "1/15/21,.                                            5\n",
       "1/15/21.1/15/211100                                  5\n",
       "2/9/21.2/9/21200                                     5\n",
       "1/26/211/29/21930..                                  5\n",
       "1/21/21.1/21/21300..1/26/21100.                      5\n",
       ".03/19,2021...03/24,04/9.                            5\n",
       "1/20/21.1/20/21                                      5\n",
       "03/16/2021,                                          5\n",
       "1/19/21.                                             5\n",
       "3/5/21.3/8/21./3/12/211030..03/26/21.                4\n",
       "1/12/21./1/22/21100..                                4\n",
       "1/20/21.1/20/21300.                                  4\n",
       "1/20/212/9/21.                                       4\n",
       "3/3/2021,                                            4\n",
       "2/12/21.2/12/21200.                                  4\n",
       "1/8/21.1/8/21.1/13/21130..                           4\n",
       "1/11/21..01/19/211000..                              4\n",
       "3/9/2021,                                            4\n",
       "1/27/21.2/3/21100.                                   4\n",
       "1/26/2021                                            4\n",
       ".03/19/21..                                          4\n",
       "1/16/21.1/19/21.01/25/211..                          4\n",
       "1/7/21./1/7/21..1/28/21200..                         4\n",
       "03/12/2021.03/15.                                    4\n",
       "1/18/21.1/25/21..                                    4\n",
       "1/14/2021                                            4\n",
       "1/19/21,.1/22/21200.                                 4\n",
       "1/29/21.1/29/21200..2/4/21100.                       4\n",
       "1/28/21                                              4\n",
       ".1/15/21..1/22/21                                    4\n",
       "1/17/21,                                             4\n",
       "1/13/21.1/14/211..1/21/211.                          4\n",
       "1/12/21.1/12/21                                      4\n",
       "2/12/21                                              4\n",
       "1/15/21.1/25/21.                                     4\n",
       "1/19/21.1/19/21230.                                  4\n",
       "1/14/21.1/15/21..                                    4\n",
       "1/21/21.                                             4\n",
       "1/28/21.1/28/21200..2/3/21.                          4\n",
       "1/27/2021.1/27/21200..2/10/21100                     4\n",
       ".3/22/20211100/.                                     4\n",
       "03/08/2021,                                          4\n",
       "02/26/2021                                           4\n",
       "2/2/21                                               4\n",
       "1/25/211/26/21..                                     3\n",
       "1/15/21.                                             3\n",
       "04/7,2021.                                           3\n",
       "1/13/21..1/19/211.                                   3\n",
       "1/15/211/21/211030..                                 3\n",
       "1/21/2021                                            3\n",
       "2/1/21.2/1/211000.                                   3\n",
       "3/6/21                                               3\n",
       "1/08/211/11/21                                       3\n",
       "1/30/21                                              3\n",
       "03/11/2021,                                          3\n",
       "1/14/21..                                            3\n",
       "02/18/2021.,                                         3\n",
       "03/26,2021                                           3\n",
       "1/7/21.1/7/21.1/8/21330...1/29/211000..1/11/21.      3\n",
       ",04/12...7.                                          2\n",
       "04/9/21.                                             2\n",
       "1/18/21.1/25/21.                                     2\n",
       "1/14/2121/19/21                                      2\n",
       "03/15/2021,                                          2\n",
       "01/21/2021                                           2\n",
       "03/03/2021,                                          2\n",
       "1/17/21.1/19/21130.                                  2\n",
       "1/18/21.1/21/21100.                                  2\n",
       "04/7,2021                                            2\n",
       "1/13/211230./2/11/21200                              2\n",
       "03/26/21.                                            2\n",
       "04/8.                                                1\n",
       "03/23,2021.03/26/21,..                               1\n",
       "03/29,2021.,.                                        1\n",
       "04/6/2104/7.                                         1\n",
       "2/4/212/4/21.                                        1\n",
       "04/6/2111..10..04/9.                                 1\n",
       "01/19/21.04/29,2021.                                 1\n",
       "..03/31,2021.                                        1\n",
       "04/1,2021.3.....04/7.                                1\n",
       "03/25/2103/31.904/1.                                 1\n",
       "3/15/2021,                                           1\n",
       "04/9,2021..                                          1\n",
       "04/1/2104/211..                                      1\n",
       "03/27,2021.03/29.                                    1\n",
       "03/26/21....                                         1\n",
       "1/28/2021                                            1\n",
       "04/9,2021.                                           1\n",
       "03/29/21,03/31.04/9...                               1\n",
       "03/26,2021.                                          1\n",
       "04/6/21.                                             1\n",
       "03/30/21.25,000                                      1\n",
       "04/6/21.04/7.                                        1\n",
       "04/1/21.04/2.                                        1\n",
       "04/7/21.                                             1\n",
       "04/2.                                                1\n",
       "1/7/21.1/7/21../1/12/21.300..1/11/21.                1\n",
       "Name: arrested_date, dtype: int64"
      ]
     },
     "execution_count": 75,
     "metadata": {},
     "output_type": "execute_result"
    }
   ],
   "source": [
    "df_long_new[\"arrested_date\"].value_counts()"
   ]
  },
  {
   "cell_type": "code",
   "execution_count": 48,
   "metadata": {},
   "outputs": [],
   "source": []
  },
  {
   "cell_type": "code",
   "execution_count": 48,
   "metadata": {},
   "outputs": [],
   "source": []
  },
  {
   "cell_type": "code",
   "execution_count": 48,
   "metadata": {},
   "outputs": [],
   "source": []
  },
  {
   "cell_type": "code",
   "execution_count": 48,
   "metadata": {},
   "outputs": [],
   "source": []
  },
  {
   "cell_type": "code",
   "execution_count": 48,
   "metadata": {},
   "outputs": [],
   "source": []
  },
  {
   "cell_type": "code",
   "execution_count": 48,
   "metadata": {},
   "outputs": [],
   "source": []
  },
  {
   "cell_type": "code",
   "execution_count": 48,
   "metadata": {},
   "outputs": [],
   "source": []
  },
  {
   "cell_type": "code",
   "execution_count": 49,
   "metadata": {},
   "outputs": [],
   "source": [
    "# df_long_new[\"arrested_date\"] = (\n",
    "#     df_long_new[\"arrested_date\"]\n",
    "#     .str.replace(\",\", \"|\", regex=False)\n",
    "#     .str.replace(\"/21\", \"/21|\", regex=False)\n",
    "#     .str.replace(\".\", \"|\", regex=False)\n",
    "# )"
   ]
  },
  {
   "cell_type": "code",
   "execution_count": 50,
   "metadata": {},
   "outputs": [],
   "source": [
    "# df_long_new[\n",
    "#     [\"0\", \"1\", \"2\", \"3\", \"4\", \"5\", \"6\", \"7\", \"8\", \"9\", \"10\", \"11\", \"12\", \"13\"]\n",
    "# ] = df_long_new[\"arrested_date\"].str.split(\"|\", expand=True)"
   ]
  },
  {
   "cell_type": "code",
   "execution_count": 51,
   "metadata": {},
   "outputs": [],
   "source": [
    "# df_long_new[\"arrested_date\"] = df_long_new[\"arrested_date\"] + (\"/21\")"
   ]
  },
  {
   "cell_type": "code",
   "execution_count": 52,
   "metadata": {},
   "outputs": [
    {
     "data": {
      "text/plain": [
       "0                3/9/2021|/21\n",
       "0                3/9/2021|/21\n",
       "0                3/9/2021|/21\n",
       "0                3/9/2021|/21\n",
       "1    2/12/21||2/12/21|200|/21\n",
       "Name: arrested_date, dtype: object"
      ]
     },
     "execution_count": 52,
     "metadata": {},
     "output_type": "execute_result"
    }
   ],
   "source": [
    "# df_long_new[\"arrested_date\"].head()"
   ]
  },
  {
   "cell_type": "code",
   "execution_count": 53,
   "metadata": {},
   "outputs": [],
   "source": [
    "# df_long_new.drop(\n",
    "#     [\n",
    "#         \"1\",\n",
    "#         \"2\",\n",
    "#         \"3\",\n",
    "#         \"4\",\n",
    "#         \"5\",\n",
    "#         \"6\",\n",
    "#         \"7\",\n",
    "#         \"8\",\n",
    "#         \"9\",\n",
    "#         \"10\",\n",
    "#         \"11\",\n",
    "#         \"12\",\n",
    "#         \"13\",\n",
    "#         \"arrested_date\",\n",
    "#     ],\n",
    "#     axis=1,\n",
    "#     inplace=True,\n",
    "# )"
   ]
  },
  {
   "cell_type": "code",
   "execution_count": 54,
   "metadata": {},
   "outputs": [],
   "source": [
    "# df_long_new.rename(\n",
    "#     columns={\"charge\": \"all_charges\", \"charges_list\": \"charge\", \"0\": \"arrest_date\"},\n",
    "#     inplace=True,\n",
    "# )"
   ]
  },
  {
   "cell_type": "code",
   "execution_count": 55,
   "metadata": {},
   "outputs": [],
   "source": [
    "# df_long_new[\"arrest_date\"] = (\n",
    "#     df_long_new[\"arrest_date\"]\n",
    "#     .str.replace(\"1/19/20212/11/2021200\", \"1/19/2021\", regex=False)\n",
    "#     .str.replace(\"2021\", \"21\", regex=False)\n",
    "# )"
   ]
  },
  {
   "cell_type": "code",
   "execution_count": 56,
   "metadata": {},
   "outputs": [],
   "source": [
    "# df_long_new[\"arrest_date\"] = df_long_new[\"arrest_date\"].str.strip()"
   ]
  },
  {
   "cell_type": "code",
   "execution_count": 57,
   "metadata": {},
   "outputs": [],
   "source": [
    "# df_clean = df_long_new[\n",
    "#     [\n",
    "#         \"case_number\",\n",
    "#         \"arrest_date\",\n",
    "#         \"fullname\",\n",
    "#         \"first_name\",\n",
    "#         \"middle_name\",\n",
    "#         \"last_name\",\n",
    "#         \"charge\",\n",
    "#         \"case_status\",\n",
    "#         \"entry_last_updated\",\n",
    "#         \"location_of_arrest_state\",\n",
    "#         \"location_of_arrest_other\",\n",
    "#         \"associated_documents\",\n",
    "#         \"links\",\n",
    "#     ]\n",
    "# ]"
   ]
  },
  {
   "cell_type": "code",
   "execution_count": 69,
   "metadata": {},
   "outputs": [
    {
     "data": {
      "text/plain": [
       "            415\n",
       "1/19/21      90\n",
       "1/18/21      70\n",
       "1/26/21      49\n",
       "1/16/21      44\n",
       "1/15/21      43\n",
       "2/4/21       43\n",
       "1/14/21      41\n",
       "1/20/21      41\n",
       "1/22/21      40\n",
       "2/11/21      40\n",
       "1/28/21      35\n",
       "1/17/21      33\n",
       "1/25/21      33\n",
       "03/09/21     33\n",
       "1/27/21      30\n",
       "1/21         27\n",
       "2/1/21       25\n",
       "02/25/21     24\n",
       "03/17/21     23\n",
       "03/04/21     23\n",
       "1/7/21       22\n",
       "1/12/21      22\n",
       "1/13/21      19\n",
       "02/19/21     18\n",
       "03/12/21     17\n",
       "1/29/21      17\n",
       "03/18/21     14\n",
       "1/30/21      13\n",
       "2/6/21       12\n",
       "3/15/21      11\n",
       "2/18/21      10\n",
       "03/05/21     10\n",
       "02/18/21     10\n",
       "2/16/21      10\n",
       "1/8/21       10\n",
       "1/12          8\n",
       "2/12/21       8\n",
       "2/25/21       8\n",
       "03/11/21      8\n",
       "2/22/21       7\n",
       "02/12/21      7\n",
       "2/19/21       7\n",
       "41/15/21      7\n",
       "03/24         6\n",
       "3/10/21       6\n",
       "2/10/21       6\n",
       "2/15/21       5\n",
       "04/7          5\n",
       "03/16/21      5\n",
       "2/17/21       5\n",
       "02/10/21      5\n",
       "02/05/21      5\n",
       "2/9/21        5\n",
       "2/3/21        5\n",
       "02/26/21      4\n",
       "03/26         4\n",
       "2/2/21        4\n",
       "03/08/21      4\n",
       "3/5/21        4\n",
       "3/9/21        4\n",
       "1/11/21       4\n",
       "04/6/21       4\n",
       "3/3/21        4\n",
       "3/6/21        3\n",
       "1/08/21       3\n",
       "03/26/21      3\n",
       "04/1/21       2\n",
       "03/03/21      2\n",
       "04/9          2\n",
       "01/21         2\n",
       "04/9/21       2\n",
       "03/15/21      2\n",
       "04/1          1\n",
       "03/27         1\n",
       "03/29/21      1\n",
       "03/25/21      1\n",
       "04/7/21       1\n",
       "01/19/21      1\n",
       "03/23         1\n",
       "03/30/21      1\n",
       "04/8          1\n",
       "03/29         1\n",
       "04/2          1\n",
       "Name: arrest_date, dtype: int64"
      ]
     },
     "execution_count": 69,
     "metadata": {},
     "output_type": "execute_result"
    }
   ],
   "source": [
    "# df_clean[\"arrest_date\"].value_counts()"
   ]
  },
  {
   "cell_type": "markdown",
   "metadata": {},
   "source": [
    "## Export"
   ]
  },
  {
   "cell_type": "markdown",
   "metadata": {},
   "source": [
    "### All cases"
   ]
  },
  {
   "cell_type": "code",
   "execution_count": 58,
   "metadata": {},
   "outputs": [],
   "source": [
    "df_clean.to_json(\"processed/cases.json\", orient=\"records\", indent=2)"
   ]
  },
  {
   "cell_type": "code",
   "execution_count": 59,
   "metadata": {},
   "outputs": [],
   "source": [
    "df_clean.to_csv(\"processed/cases.csv\", index=False)"
   ]
  },
  {
   "cell_type": "markdown",
   "metadata": {},
   "source": [
    "### California cases"
   ]
  },
  {
   "cell_type": "code",
   "execution_count": 60,
   "metadata": {},
   "outputs": [],
   "source": [
    "df_clean[df_clean[\"location_of_arrest_state\"] == \"California\"].to_json(\n",
    "    \"processed/california-cases.json\", orient=\"records\", indent=2\n",
    ")"
   ]
  },
  {
   "cell_type": "code",
   "execution_count": 61,
   "metadata": {},
   "outputs": [],
   "source": [
    "df_clean[df_clean[\"location_of_arrest_state\"] == \"California\"].to_csv(\n",
    "    \"processed/california-cases.csv\", index=False\n",
    ")"
   ]
  },
  {
   "cell_type": "markdown",
   "metadata": {},
   "source": [
    "### Charges by category"
   ]
  },
  {
   "cell_type": "code",
   "execution_count": 62,
   "metadata": {},
   "outputs": [],
   "source": [
    "charges_by_category.to_csv(\"processed/charges_by_category.csv\", index=False)"
   ]
  },
  {
   "cell_type": "code",
   "execution_count": 63,
   "metadata": {},
   "outputs": [],
   "source": [
    "cases_by_defendant.to_csv(\"processed/cases_by_defendant.csv\", index=False)"
   ]
  },
  {
   "cell_type": "code",
   "execution_count": 64,
   "metadata": {},
   "outputs": [],
   "source": [
    "charges_by_charges.to_csv(\"processed/charges_by_charges.csv\", index=False)"
   ]
  }
 ],
 "metadata": {
  "kernelspec": {
   "display_name": "Python 3",
   "language": "python",
   "name": "python3"
  },
  "language_info": {
   "codemirror_mode": {
    "name": "ipython",
    "version": 3
   },
   "file_extension": ".py",
   "mimetype": "text/x-python",
   "name": "python",
   "nbconvert_exporter": "python",
   "pygments_lexer": "ipython3",
   "version": "3.7.4"
  }
 },
 "nbformat": 4,
 "nbformat_minor": 5
}
