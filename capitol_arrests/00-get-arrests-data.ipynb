{
 "cells": [
  {
   "cell_type": "markdown",
   "metadata": {},
   "source": [
    "# Arrests/charges stemming from the Jan. 6 riot at the U.S. Capitol"
   ]
  },
  {
   "cell_type": "markdown",
   "metadata": {},
   "source": [
    "### Import Python tools"
   ]
  },
  {
   "cell_type": "code",
   "execution_count": 1,
   "metadata": {},
   "outputs": [],
   "source": [
    "%load_ext lab_black"
   ]
  },
  {
   "cell_type": "code",
   "execution_count": 2,
   "metadata": {},
   "outputs": [],
   "source": [
    "import pandas as pd\n",
    "import geopandas as gpd\n",
    "import jenkspy\n",
    "import matplotlib.pyplot as plt\n",
    "import requests\n",
    "from bs4 import BeautifulSoup"
   ]
  },
  {
   "cell_type": "code",
   "execution_count": 3,
   "metadata": {},
   "outputs": [],
   "source": [
    "%matplotlib inline\n",
    "import json\n",
    "import numpy as np\n",
    "import altair as alt\n",
    "import altair_latimes as lat"
   ]
  },
  {
   "cell_type": "code",
   "execution_count": 4,
   "metadata": {},
   "outputs": [
    {
     "data": {
      "text/plain": [
       "ThemeRegistry.enable('latimes')"
      ]
     },
     "execution_count": 4,
     "metadata": {},
     "output_type": "execute_result"
    }
   ],
   "source": [
    "alt.themes.register(\"latimes\", lat.theme)\n",
    "alt.themes.enable(\"latimes\")"
   ]
  },
  {
   "cell_type": "code",
   "execution_count": 5,
   "metadata": {},
   "outputs": [],
   "source": [
    "pd.options.display.max_columns = 100\n",
    "pd.options.display.max_rows = 1000\n",
    "alt.data_transformers.disable_max_rows()\n",
    "pd.set_option(\"display.max_colwidth\", None)"
   ]
  },
  {
   "cell_type": "markdown",
   "metadata": {},
   "source": [
    "### Local Reports"
   ]
  },
  {
   "cell_type": "code",
   "execution_count": 6,
   "metadata": {},
   "outputs": [],
   "source": [
    "# https://www.uscp.gov/media-center/weekly-arrest-summary"
   ]
  },
  {
   "cell_type": "code",
   "execution_count": 7,
   "metadata": {},
   "outputs": [],
   "source": [
    "# https://github.com/wpinvestigative/us_capitol_police_reports"
   ]
  },
  {
   "cell_type": "code",
   "execution_count": 8,
   "metadata": {},
   "outputs": [],
   "source": [
    "# https://mpdc.dc.gov/page/may-2020-january-2021-unrest-related-arrests-and-persons-interest"
   ]
  },
  {
   "cell_type": "code",
   "execution_count": 9,
   "metadata": {},
   "outputs": [],
   "source": [
    "# https://mpdc.dc.gov/sites/default/files/dc/sites/mpdc/publication/attachments/Unrest-Related%20Arrest%20Data%20as%20of%20January%207%202021.pdf"
   ]
  },
  {
   "cell_type": "markdown",
   "metadata": {},
   "source": [
    "---"
   ]
  },
  {
   "cell_type": "markdown",
   "metadata": {},
   "source": [
    "### Justice Department list"
   ]
  },
  {
   "cell_type": "code",
   "execution_count": 10,
   "metadata": {},
   "outputs": [],
   "source": [
    "justice_url = \"https://www.justice.gov/opa/investigations-regarding-violence-capitol\""
   ]
  },
  {
   "cell_type": "code",
   "execution_count": 11,
   "metadata": {},
   "outputs": [],
   "source": [
    "headers = {\n",
    "    \"User-Agent\": \"Mozilla/5.0 (Macintosh; Intel Mac OS X 10_15_6) AppleWebKit/537.36 (KHTML, like Gecko) Chrome/85.0.4183.102 Safari/537.36\",\n",
    "    \"Accept\": \"text/html,application/xhtml+xml,application/xml;q=0.9,image/avif,image/webp,image/apng,*/*;q=0.8,application/signed-exchange;v=b3;q=0.9\",\n",
    "}\n",
    "response_justice = requests.get(justice_url, headers=headers)"
   ]
  },
  {
   "cell_type": "markdown",
   "metadata": {},
   "source": [
    "### Create a dataframe with the html table, and clean up the headers"
   ]
  },
  {
   "cell_type": "code",
   "execution_count": 12,
   "metadata": {},
   "outputs": [],
   "source": [
    "justice = pd.read_html(response_justice.text, attrs={\"class\": \"tablesaw\"})[0]\n",
    "strings = [\",\", \"/\", \"(\", \")\", \"_\"]"
   ]
  },
  {
   "cell_type": "code",
   "execution_count": 13,
   "metadata": {},
   "outputs": [],
   "source": [
    "justice.columns = (\n",
    "    justice.columns.str.strip()\n",
    "    .str.lower()\n",
    "    .str.replace(\" \", \"_\", regex=False)\n",
    "    .str.replace(\":\", \"\", regex=False)\n",
    "    .str.replace(\"/\", \"_\", regex=False)\n",
    "    .str.replace(\",\", \"_\", regex=False)\n",
    ")"
   ]
  },
  {
   "cell_type": "code",
   "execution_count": 14,
   "metadata": {},
   "outputs": [],
   "source": [
    "# justice.rename(columns=lambda x: x.replace(\" \", \"_\").lower(), inplace=True)"
   ]
  },
  {
   "cell_type": "markdown",
   "metadata": {},
   "source": [
    "### Make a copy of the dataframe so we can improve the original"
   ]
  },
  {
   "cell_type": "code",
   "execution_count": 15,
   "metadata": {},
   "outputs": [],
   "source": [
    "justice_df = pd.DataFrame(justice.rename(columns={\"name\": \"fullname\"}).copy())"
   ]
  },
  {
   "cell_type": "code",
   "execution_count": 16,
   "metadata": {},
   "outputs": [],
   "source": [
    "justice_df[\"fullname\"] = justice_df[\"fullname\"].str.replace(\n",
    "    \"BETANCUR, Bryan (aka Bryan Clooney, aka Maximo Clooney)\",\n",
    "    \"BETANCUR, Bryan\",\n",
    "    regex=False,\n",
    ")"
   ]
  },
  {
   "cell_type": "code",
   "execution_count": 17,
   "metadata": {},
   "outputs": [
    {
     "data": {
      "text/html": [
       "<div>\n",
       "<style scoped>\n",
       "    .dataframe tbody tr th:only-of-type {\n",
       "        vertical-align: middle;\n",
       "    }\n",
       "\n",
       "    .dataframe tbody tr th {\n",
       "        vertical-align: top;\n",
       "    }\n",
       "\n",
       "    .dataframe thead th {\n",
       "        text-align: right;\n",
       "    }\n",
       "</style>\n",
       "<table border=\"1\" class=\"dataframe\">\n",
       "  <thead>\n",
       "    <tr style=\"text-align: right;\">\n",
       "      <th></th>\n",
       "      <th>case_number</th>\n",
       "      <th>fullname</th>\n",
       "      <th>charge(s)</th>\n",
       "      <th>associated_documents</th>\n",
       "      <th>location_of_arrest</th>\n",
       "      <th>case_status</th>\n",
       "      <th>entry_last_updated*</th>\n",
       "    </tr>\n",
       "  </thead>\n",
       "  <tbody>\n",
       "    <tr>\n",
       "      <th>250</th>\n",
       "      <td>1:21-mj-229</td>\n",
       "      <td>WILSON, Zachary John</td>\n",
       "      <td>Knowingly entering or remaining in any restricted building</td>\n",
       "      <td>Wilson - Complaint</td>\n",
       "      <td>NaN</td>\n",
       "      <td>NaN</td>\n",
       "      <td>March 1, 2021</td>\n",
       "    </tr>\n",
       "    <tr>\n",
       "      <th>251</th>\n",
       "      <td>1:21-mj-160</td>\n",
       "      <td>WINN, Dana Joe</td>\n",
       "      <td>Unlawful Entry on Restricted Building or Grounds; Violent entry and disorderly conduct on Capitol Grounds</td>\n",
       "      <td>Pert &amp; Winn - Complaint &amp; Statement of Facts</td>\n",
       "      <td>Florida, Middle District</td>\n",
       "      <td>Arrested 1/26/21 in the Middle District of Florida. Initial appearance 1/26/21 at 2:30pm. Released on Conditions.</td>\n",
       "      <td>February 4, 2021</td>\n",
       "    </tr>\n",
       "    <tr>\n",
       "      <th>252</th>\n",
       "      <td>1:21-mj-26</td>\n",
       "      <td>WRIGLEY, Andrew</td>\n",
       "      <td>Entering and Remaining in a Restricted Building; Disorderly and Disruptive Conduct in a Restricted Building; Violent Entry and Disorderly Conduct in a Capitol Building; Parading, Demonstrating, or Picketing in a Capitol Building</td>\n",
       "      <td>Wrigley - Complaint  Wrigley - Statement of Facts  Wrigley - Information</td>\n",
       "      <td>Pennsylvania, Middle District</td>\n",
       "      <td>Arrested on 1/15/21 in the Middle District of Pennsylvania. Initial appearance via video on 1/25/21 in federal court in the District of Columbia.</td>\n",
       "      <td>March 1, 2021</td>\n",
       "    </tr>\n",
       "    <tr>\n",
       "      <th>253</th>\n",
       "      <td>NaN</td>\n",
       "      <td>YOUNG, Graydon</td>\n",
       "      <td>Conspiracy; Obstruction of an Official Proceeding and Aiding and Abetting; Destruction of Government Property and Aiding and Abetting; Entering and Remaining in a Restricted Building or Grounds; Tampering with Documents or Proceedings</td>\n",
       "      <td>Meggs Steele Young - Complaint &amp; Affidavit  Caldwell, et al – Indictment</td>\n",
       "      <td>Florida, Middle District</td>\n",
       "      <td>Arrested 2/15/21 in the Middle District of Florida</td>\n",
       "      <td>February 19, 2021</td>\n",
       "    </tr>\n",
       "    <tr>\n",
       "      <th>254</th>\n",
       "      <td>1:21-mj-193</td>\n",
       "      <td>ZINK, Ryan Scott</td>\n",
       "      <td>Obstruction of an Official Proceeding; Knowingly Entering or Remaining in any Restricted Building or Grounds Without Lawful Authority and engages in any act of physical violence against any person or property in any restricted building or grounds.</td>\n",
       "      <td>Zink - Complaint &amp; Statement of Facts</td>\n",
       "      <td>Pennsylvania</td>\n",
       "      <td>NaN</td>\n",
       "      <td>March 1, 2021</td>\n",
       "    </tr>\n",
       "  </tbody>\n",
       "</table>\n",
       "</div>"
      ],
      "text/plain": [
       "     case_number              fullname  \\\n",
       "250  1:21-mj-229  WILSON, Zachary John   \n",
       "251  1:21-mj-160        WINN, Dana Joe   \n",
       "252   1:21-mj-26       WRIGLEY, Andrew   \n",
       "253          NaN        YOUNG, Graydon   \n",
       "254  1:21-mj-193      ZINK, Ryan Scott   \n",
       "\n",
       "                                                                                                                                                                                                                                                   charge(s)  \\\n",
       "250                                                                                                                                                                                               Knowingly entering or remaining in any restricted building   \n",
       "251                                                                                                                                                Unlawful Entry on Restricted Building or Grounds; Violent entry and disorderly conduct on Capitol Grounds   \n",
       "252                     Entering and Remaining in a Restricted Building; Disorderly and Disruptive Conduct in a Restricted Building; Violent Entry and Disorderly Conduct in a Capitol Building; Parading, Demonstrating, or Picketing in a Capitol Building   \n",
       "253               Conspiracy; Obstruction of an Official Proceeding and Aiding and Abetting; Destruction of Government Property and Aiding and Abetting; Entering and Remaining in a Restricted Building or Grounds; Tampering with Documents or Proceedings   \n",
       "254  Obstruction of an Official Proceeding; Knowingly Entering or Remaining in any Restricted Building or Grounds Without Lawful Authority and engages in any act of physical violence against any person or property in any restricted building or grounds.   \n",
       "\n",
       "                                                         associated_documents  \\\n",
       "250                                                        Wilson - Complaint   \n",
       "251                              Pert & Winn - Complaint & Statement of Facts   \n",
       "252  Wrigley - Complaint  Wrigley - Statement of Facts  Wrigley - Information   \n",
       "253  Meggs Steele Young - Complaint & Affidavit  Caldwell, et al – Indictment   \n",
       "254                                     Zink - Complaint & Statement of Facts   \n",
       "\n",
       "                location_of_arrest  \\\n",
       "250                            NaN   \n",
       "251       Florida, Middle District   \n",
       "252  Pennsylvania, Middle District   \n",
       "253       Florida, Middle District   \n",
       "254                   Pennsylvania   \n",
       "\n",
       "                                                                                                                                           case_status  \\\n",
       "250                                                                                                                                                NaN   \n",
       "251                                  Arrested 1/26/21 in the Middle District of Florida. Initial appearance 1/26/21 at 2:30pm. Released on Conditions.   \n",
       "252  Arrested on 1/15/21 in the Middle District of Pennsylvania. Initial appearance via video on 1/25/21 in federal court in the District of Columbia.   \n",
       "253                                                                                                 Arrested 2/15/21 in the Middle District of Florida   \n",
       "254                                                                                                                                                NaN   \n",
       "\n",
       "    entry_last_updated*  \n",
       "250       March 1, 2021  \n",
       "251    February 4, 2021  \n",
       "252       March 1, 2021  \n",
       "253   February 19, 2021  \n",
       "254       March 1, 2021  "
      ]
     },
     "execution_count": 17,
     "metadata": {},
     "output_type": "execute_result"
    }
   ],
   "source": [
    "justice_df.tail()"
   ]
  },
  {
   "cell_type": "code",
   "execution_count": 18,
   "metadata": {},
   "outputs": [],
   "source": [
    "justice_df[\"fullname\"] = justice_df[\"fullname\"].str.strip()"
   ]
  },
  {
   "cell_type": "code",
   "execution_count": 19,
   "metadata": {},
   "outputs": [],
   "source": [
    "justice_df = justice_df[\n",
    "    [\n",
    "        \"case_number\",\n",
    "        \"fullname\",\n",
    "        \"location_of_arrest\",\n",
    "        \"charge(s)\",\n",
    "        \"associated_documents\",\n",
    "        \"case_status\",\n",
    "        \"entry_last_updated*\",\n",
    "    ]\n",
    "]"
   ]
  },
  {
   "cell_type": "markdown",
   "metadata": {},
   "source": [
    "### Get out HTML table so we can parse it"
   ]
  },
  {
   "cell_type": "code",
   "execution_count": 20,
   "metadata": {},
   "outputs": [],
   "source": [
    "response_justice = requests.get(justice_url)\n",
    "soup = BeautifulSoup(response_justice.text, \"html.parser\")\n",
    "table = soup.find(\"table\")"
   ]
  },
  {
   "cell_type": "markdown",
   "metadata": {},
   "source": [
    "### Get the defendant document links from the table into a list"
   ]
  },
  {
   "cell_type": "code",
   "execution_count": 21,
   "metadata": {},
   "outputs": [],
   "source": [
    "# links = []\n",
    "# for tr in table.findAll(\"tr\")[1:]:\n",
    "#     trs = tr.findAll(\"td\")\n",
    "\n",
    "#     this_row_links = []\n",
    "\n",
    "#     for link in trs[3].findAll(\"a\"):\n",
    "#         this_row_links.append(link[\"href\"])\n",
    "\n",
    "#     links.append(this_row_links)"
   ]
  },
  {
   "cell_type": "code",
   "execution_count": 22,
   "metadata": {},
   "outputs": [],
   "source": [
    "# justice_df[\"links\"] = links"
   ]
  },
  {
   "cell_type": "markdown",
   "metadata": {},
   "source": [
    "### Get the link descriptions from the table into a list"
   ]
  },
  {
   "cell_type": "code",
   "execution_count": 23,
   "metadata": {},
   "outputs": [],
   "source": [
    "# press_releases = []\n",
    "# for tr in table.findAll(\"tr\")[1:]:\n",
    "#     trs = tr.findAll(\"td\")\n",
    "\n",
    "#     this_row_text = []\n",
    "\n",
    "#     for p in trs[3].findAll(\"p\"):\n",
    "#         this_row_text.append(p)\n",
    "\n",
    "#     press_releases.append(this_row_text)"
   ]
  },
  {
   "cell_type": "code",
   "execution_count": 24,
   "metadata": {},
   "outputs": [],
   "source": [
    "# justice_df[\"press_links\"] = press_releases"
   ]
  },
  {
   "cell_type": "markdown",
   "metadata": {},
   "source": [
    "### We no longer need this column"
   ]
  },
  {
   "cell_type": "code",
   "execution_count": 25,
   "metadata": {},
   "outputs": [],
   "source": [
    "# justice_df.drop([\"links_to_press_releases__charging_documents\"], axis=1, inplace=True)"
   ]
  },
  {
   "cell_type": "markdown",
   "metadata": {},
   "source": [
    "### How's the dataframe look? "
   ]
  },
  {
   "cell_type": "code",
   "execution_count": 26,
   "metadata": {},
   "outputs": [
    {
     "data": {
      "text/html": [
       "<div>\n",
       "<style scoped>\n",
       "    .dataframe tbody tr th:only-of-type {\n",
       "        vertical-align: middle;\n",
       "    }\n",
       "\n",
       "    .dataframe tbody tr th {\n",
       "        vertical-align: top;\n",
       "    }\n",
       "\n",
       "    .dataframe thead th {\n",
       "        text-align: right;\n",
       "    }\n",
       "</style>\n",
       "<table border=\"1\" class=\"dataframe\">\n",
       "  <thead>\n",
       "    <tr style=\"text-align: right;\">\n",
       "      <th></th>\n",
       "      <th>case_number</th>\n",
       "      <th>fullname</th>\n",
       "      <th>location_of_arrest</th>\n",
       "      <th>charge(s)</th>\n",
       "      <th>associated_documents</th>\n",
       "      <th>case_status</th>\n",
       "      <th>entry_last_updated*</th>\n",
       "    </tr>\n",
       "  </thead>\n",
       "  <tbody>\n",
       "    <tr>\n",
       "      <th>0</th>\n",
       "      <td>1:21-cr-93</td>\n",
       "      <td>ANDRIES, John D.</td>\n",
       "      <td>Maryland</td>\n",
       "      <td>Knowlingly Entering or Remaining in any Restricted Building or Grounds Without Lawful Authority; Violent Entry and Disorderly Conduct on Capitol Grounds</td>\n",
       "      <td>Andries - Complaint, Statement of Facts, &amp; Information</td>\n",
       "      <td>NaN</td>\n",
       "      <td>February 27, 2021</td>\n",
       "    </tr>\n",
       "    <tr>\n",
       "      <th>1</th>\n",
       "      <td>1:21-cr-43</td>\n",
       "      <td>ABUAL-RAGHEB, Rasha N.</td>\n",
       "      <td>New Jersey</td>\n",
       "      <td>Entering and Remaining in a Restricted Building; Disorderly and Disruptive Conduct in a Restricted Building; Violent Entry and Disorderly Conduct in a Capitol Building; Parading, Demonstrating, or Picketing in a Capitol Building</td>\n",
       "      <td>Abual-Ragheb - Complaint  Abual-Ragheb - Affidavit  Abual-Ragheb - Indictment</td>\n",
       "      <td>Arrested 1/19/21 in the District of New Jersey</td>\n",
       "      <td>February 4, 2021</td>\n",
       "    </tr>\n",
       "    <tr>\n",
       "      <th>2</th>\n",
       "      <td>1:21-cr-84</td>\n",
       "      <td>ADAMS, Daniel Page</td>\n",
       "      <td>Texas, Eastern District</td>\n",
       "      <td>Civil Disorder; Obstruction of an Official Proceeding; Assaulting, Resisting or Impeding Certain Officers; Entering and Remaining in a Restricted Building or Grounds; Disorderly and Disruptive Conduct in a Restricted Building or Grounds; Disorderly Conduct in a Capitol Building; Impeding Passage Through the Capitol Grounds or Buildings; Parading, Demonstrating, or Picketing in a Capitol Building</td>\n",
       "      <td>Adams Connell - Complaint  Adams Connell - Statement of Facts  Adams, Connell - Amended Statement of Facts  Adams, Connell - Amended Complaint  Adams, Connell - Indictment</td>\n",
       "      <td>Arrested 1/16/21 in the Eastern District of Texas</td>\n",
       "      <td>February 10, 2021</td>\n",
       "    </tr>\n",
       "    <tr>\n",
       "      <th>3</th>\n",
       "      <td>1:21-mj-165</td>\n",
       "      <td>ALAM, Zachary Jordan</td>\n",
       "      <td>Pennsylvania, Eastern District</td>\n",
       "      <td>Assault on a Federal Officer with a Dangerous or Deadly Weapon; Destruction of Government Property over $1,000; Obstruction of an Official Proceeding; Unlawful Entry on Restricted Building or Grounds; Violent Entry and Disorderly Conduct</td>\n",
       "      <td>Alam, Zachary - Complaint &amp; Affidavit</td>\n",
       "      <td>Arrested 1/30/21 in the Eastern District of Pennsylvania</td>\n",
       "      <td>February 4, 2021</td>\n",
       "    </tr>\n",
       "    <tr>\n",
       "      <th>4</th>\n",
       "      <td>1:21-cr-26</td>\n",
       "      <td>ALBERTS, Christopher Michael</td>\n",
       "      <td>Maryland</td>\n",
       "      <td>Unlawful Possession of a Firearm on Capitol Grounds or Buildings; Unlawful Entry or Remaining on Restricted Grounds without Lawful Authoirty; Carrying a Pistol without a License Outside Home or Place of Business; Possession of a Large Capacity Ammunition Feeding Device</td>\n",
       "      <td>Alberts - Complaint  Alberts - Statement of Facts  Alberts, Christopher - Indictment</td>\n",
       "      <td>Arrested on 1/7/21. Initial appearance / detention hearing on 1/7/21. Defendant released. Preliminary Hearing set for 1/28/21 at 2:00 p.m.</td>\n",
       "      <td>February 4, 2021</td>\n",
       "    </tr>\n",
       "  </tbody>\n",
       "</table>\n",
       "</div>"
      ],
      "text/plain": [
       "   case_number                      fullname              location_of_arrest  \\\n",
       "0   1:21-cr-93              ANDRIES, John D.                        Maryland   \n",
       "1   1:21-cr-43        ABUAL-RAGHEB, Rasha N.                      New Jersey   \n",
       "2   1:21-cr-84            ADAMS, Daniel Page         Texas, Eastern District   \n",
       "3  1:21-mj-165          ALAM, Zachary Jordan  Pennsylvania, Eastern District   \n",
       "4   1:21-cr-26  ALBERTS, Christopher Michael                        Maryland   \n",
       "\n",
       "                                                                                                                                                                                                                                                                                                                                                                                                        charge(s)  \\\n",
       "0                                                                                                                                                                                                                                                        Knowlingly Entering or Remaining in any Restricted Building or Grounds Without Lawful Authority; Violent Entry and Disorderly Conduct on Capitol Grounds   \n",
       "1                                                                                                                                                                            Entering and Remaining in a Restricted Building; Disorderly and Disruptive Conduct in a Restricted Building; Violent Entry and Disorderly Conduct in a Capitol Building; Parading, Demonstrating, or Picketing in a Capitol Building   \n",
       "2  Civil Disorder; Obstruction of an Official Proceeding; Assaulting, Resisting or Impeding Certain Officers; Entering and Remaining in a Restricted Building or Grounds; Disorderly and Disruptive Conduct in a Restricted Building or Grounds; Disorderly Conduct in a Capitol Building; Impeding Passage Through the Capitol Grounds or Buildings; Parading, Demonstrating, or Picketing in a Capitol Building   \n",
       "3                                                                                                                                                                   Assault on a Federal Officer with a Dangerous or Deadly Weapon; Destruction of Government Property over $1,000; Obstruction of an Official Proceeding; Unlawful Entry on Restricted Building or Grounds; Violent Entry and Disorderly Conduct   \n",
       "4                                                                                                                                   Unlawful Possession of a Firearm on Capitol Grounds or Buildings; Unlawful Entry or Remaining on Restricted Grounds without Lawful Authoirty; Carrying a Pistol without a License Outside Home or Place of Business; Possession of a Large Capacity Ammunition Feeding Device   \n",
       "\n",
       "                                                                                                                                                          associated_documents  \\\n",
       "0                                                                                                                       Andries - Complaint, Statement of Facts, & Information   \n",
       "1                                                                                                Abual-Ragheb - Complaint  Abual-Ragheb - Affidavit  Abual-Ragheb - Indictment   \n",
       "2  Adams Connell - Complaint  Adams Connell - Statement of Facts  Adams, Connell - Amended Statement of Facts  Adams, Connell - Amended Complaint  Adams, Connell - Indictment   \n",
       "3                                                                                                                                        Alam, Zachary - Complaint & Affidavit   \n",
       "4                                                                                         Alberts - Complaint  Alberts - Statement of Facts  Alberts, Christopher - Indictment   \n",
       "\n",
       "                                                                                                                                  case_status  \\\n",
       "0                                                                                                                                         NaN   \n",
       "1                                                                                              Arrested 1/19/21 in the District of New Jersey   \n",
       "2                                                                                           Arrested 1/16/21 in the Eastern District of Texas   \n",
       "3                                                                                    Arrested 1/30/21 in the Eastern District of Pennsylvania   \n",
       "4  Arrested on 1/7/21. Initial appearance / detention hearing on 1/7/21. Defendant released. Preliminary Hearing set for 1/28/21 at 2:00 p.m.   \n",
       "\n",
       "  entry_last_updated*  \n",
       "0   February 27, 2021  \n",
       "1    February 4, 2021  \n",
       "2   February 10, 2021  \n",
       "3    February 4, 2021  \n",
       "4    February 4, 2021  "
      ]
     },
     "execution_count": 26,
     "metadata": {},
     "output_type": "execute_result"
    }
   ],
   "source": [
    "justice_df.head()"
   ]
  },
  {
   "cell_type": "code",
   "execution_count": 27,
   "metadata": {},
   "outputs": [],
   "source": [
    "phrases = [\n",
    "    \", Middle District\",\n",
    "    \", Southern District\",\n",
    "    \", Central District\",\n",
    "    \", Western District\",\n",
    "]"
   ]
  },
  {
   "cell_type": "code",
   "execution_count": 28,
   "metadata": {},
   "outputs": [],
   "source": [
    "justice_df.to_json(\"processed/justice_df.json\", orient=\"records\", indent=2)"
   ]
  },
  {
   "cell_type": "code",
   "execution_count": 29,
   "metadata": {},
   "outputs": [
    {
     "data": {
      "text/plain": [
       "255"
      ]
     },
     "execution_count": 29,
     "metadata": {},
     "output_type": "execute_result"
    }
   ],
   "source": [
    "len(justice_df)"
   ]
  },
  {
   "cell_type": "markdown",
   "metadata": {},
   "source": [
    "---"
   ]
  },
  {
   "cell_type": "markdown",
   "metadata": {},
   "source": [
    "### Ingrest data from the Program on Extremism at GW"
   ]
  },
  {
   "cell_type": "code",
   "execution_count": 30,
   "metadata": {},
   "outputs": [],
   "source": [
    "# https://extremism.gwu.edu/Capitol-Hill-Cases"
   ]
  },
  {
   "cell_type": "code",
   "execution_count": 31,
   "metadata": {},
   "outputs": [
    {
     "name": "stdout",
     "output_type": "stream",
     "text": [
      "--2021-03-16 07:38:32--  https://extremism.gwu.edu/sites/g/files/zaxdzs2191/f/CapitolHillTracker11521.xlsx\n",
      "Resolving extremism.gwu.edu (extremism.gwu.edu)... 2606:4700::6812:825, 2606:4700::6812:925, 104.18.8.37, ...\n",
      "Connecting to extremism.gwu.edu (extremism.gwu.edu)|2606:4700::6812:825|:443... connected.\n",
      "HTTP request sent, awaiting response... 200 OK\n",
      "Length: 11830 (12K) [application/vnd.openxmlformats-officedocument.spreadsheetml.sheet]\n",
      "Saving to: ‘raw/latest_extremism.xlsx’\n",
      "\n",
      "latest_extremism.xl 100%[===================>]  11.55K  --.-KB/s    in 0.003s  \n",
      "\n",
      "2021-03-16 07:38:34 (4.20 MB/s) - ‘raw/latest_extremism.xlsx’ saved [11830/11830]\n",
      "\n"
     ]
    }
   ],
   "source": [
    "!wget 'https://extremism.gwu.edu/sites/g/files/zaxdzs2191/f/CapitolHillTracker11521.xlsx' --directory-prefix=\"raw/\" --output-document=\"raw/latest_extremism.xlsx\""
   ]
  },
  {
   "cell_type": "code",
   "execution_count": 32,
   "metadata": {},
   "outputs": [],
   "source": [
    "gw_df = pd.read_excel(\"raw/latest_extremism.xlsx\", skiprows=1).dropna(how=\"all\", axis=1)"
   ]
  },
  {
   "cell_type": "code",
   "execution_count": 33,
   "metadata": {},
   "outputs": [],
   "source": [
    "gw_df.columns = (\n",
    "    gw_df.columns.str.strip()\n",
    "    .str.lower()\n",
    "    .str.replace(\" \", \"_\", regex=False)\n",
    "    .str.replace(\":\", \"\", regex=False)\n",
    "    .str.replace(\"/\", \"_\", regex=False)\n",
    "    .str.replace(\",\", \"_\", regex=False)\n",
    ")"
   ]
  },
  {
   "cell_type": "code",
   "execution_count": 34,
   "metadata": {},
   "outputs": [],
   "source": [
    "gw_df[\"datecharged\"] = (pd.to_datetime(gw_df[\"datecharged\"]).dt.date).fillna(\"\")"
   ]
  },
  {
   "cell_type": "code",
   "execution_count": 35,
   "metadata": {},
   "outputs": [
    {
     "data": {
      "text/html": [
       "<div>\n",
       "<style scoped>\n",
       "    .dataframe tbody tr th:only-of-type {\n",
       "        vertical-align: middle;\n",
       "    }\n",
       "\n",
       "    .dataframe tbody tr th {\n",
       "        vertical-align: top;\n",
       "    }\n",
       "\n",
       "    .dataframe thead th {\n",
       "        text-align: right;\n",
       "    }\n",
       "</style>\n",
       "<table border=\"1\" class=\"dataframe\">\n",
       "  <thead>\n",
       "    <tr style=\"text-align: right;\">\n",
       "      <th></th>\n",
       "      <th>name</th>\n",
       "      <th>agearrest</th>\n",
       "      <th>gender</th>\n",
       "      <th>state</th>\n",
       "      <th>datecharged</th>\n",
       "    </tr>\n",
       "  </thead>\n",
       "  <tbody>\n",
       "    <tr>\n",
       "      <th>0</th>\n",
       "      <td>ALBERTS, Christopher Michael</td>\n",
       "      <td>33</td>\n",
       "      <td>M</td>\n",
       "      <td>MD</td>\n",
       "      <td>2021-01-07</td>\n",
       "    </tr>\n",
       "    <tr>\n",
       "      <th>1</th>\n",
       "      <td>BARANYI, Thomas</td>\n",
       "      <td>28</td>\n",
       "      <td>M</td>\n",
       "      <td>NJ</td>\n",
       "      <td>2021-01-10</td>\n",
       "    </tr>\n",
       "    <tr>\n",
       "      <th>2</th>\n",
       "      <td>BARNETT, Richard</td>\n",
       "      <td>60</td>\n",
       "      <td>M</td>\n",
       "      <td>AR</td>\n",
       "      <td>2021-01-07</td>\n",
       "    </tr>\n",
       "    <tr>\n",
       "      <th>3</th>\n",
       "      <td>BAUER, Robert</td>\n",
       "      <td>Unknown</td>\n",
       "      <td>M</td>\n",
       "      <td>KY</td>\n",
       "      <td></td>\n",
       "    </tr>\n",
       "    <tr>\n",
       "      <th>4</th>\n",
       "      <td>BLACK, Joshua Matthew</td>\n",
       "      <td>44</td>\n",
       "      <td>M</td>\n",
       "      <td>AL</td>\n",
       "      <td>2021-01-13</td>\n",
       "    </tr>\n",
       "    <tr>\n",
       "      <th>5</th>\n",
       "      <td>BLEDSOE, Matthew</td>\n",
       "      <td>Unknown</td>\n",
       "      <td>M</td>\n",
       "      <td>Unknown</td>\n",
       "      <td></td>\n",
       "    </tr>\n",
       "    <tr>\n",
       "      <th>6</th>\n",
       "      <td>BROCK, Larry Rendell</td>\n",
       "      <td>54</td>\n",
       "      <td>M</td>\n",
       "      <td>TX</td>\n",
       "      <td>2021-01-09</td>\n",
       "    </tr>\n",
       "    <tr>\n",
       "      <th>7</th>\n",
       "      <td>BROWN, Terry</td>\n",
       "      <td>69</td>\n",
       "      <td>M</td>\n",
       "      <td>PA</td>\n",
       "      <td>2021-01-07</td>\n",
       "    </tr>\n",
       "    <tr>\n",
       "      <th>8</th>\n",
       "      <td>CAMARGO, Samuel</td>\n",
       "      <td>Unknown</td>\n",
       "      <td>M</td>\n",
       "      <td>FL</td>\n",
       "      <td>2021-01-15</td>\n",
       "    </tr>\n",
       "    <tr>\n",
       "      <th>9</th>\n",
       "      <td>CHANSLEY, Jacob Anthony</td>\n",
       "      <td>33</td>\n",
       "      <td>M</td>\n",
       "      <td>AZ</td>\n",
       "      <td>2021-01-11</td>\n",
       "    </tr>\n",
       "  </tbody>\n",
       "</table>\n",
       "</div>"
      ],
      "text/plain": [
       "                            name agearrest gender    state datecharged\n",
       "0  ALBERTS, Christopher Michael         33      M       MD  2021-01-07\n",
       "1                BARANYI, Thomas        28      M       NJ  2021-01-10\n",
       "2               BARNETT, Richard        60      M       AR  2021-01-07\n",
       "3                  BAUER, Robert   Unknown      M       KY            \n",
       "4          BLACK, Joshua Matthew        44      M       AL  2021-01-13\n",
       "5               BLEDSOE, Matthew   Unknown      M  Unknown            \n",
       "6           BROCK, Larry Rendell        54      M       TX  2021-01-09\n",
       "7                   BROWN, Terry        69      M       PA  2021-01-07\n",
       "8                CAMARGO, Samuel   Unknown      M       FL  2021-01-15\n",
       "9        CHANSLEY, Jacob Anthony        33      M       AZ  2021-01-11"
      ]
     },
     "execution_count": 35,
     "metadata": {},
     "output_type": "execute_result"
    }
   ],
   "source": [
    "gw_df.head(10)"
   ]
  },
  {
   "cell_type": "code",
   "execution_count": 36,
   "metadata": {},
   "outputs": [],
   "source": [
    "gw_df.name = gw_df.name.str.strip()"
   ]
  },
  {
   "cell_type": "code",
   "execution_count": 37,
   "metadata": {},
   "outputs": [
    {
     "data": {
      "text/plain": [
       "58"
      ]
     },
     "execution_count": 37,
     "metadata": {},
     "output_type": "execute_result"
    }
   ],
   "source": [
    "len(gw_df)"
   ]
  },
  {
   "cell_type": "code",
   "execution_count": 38,
   "metadata": {},
   "outputs": [
    {
     "data": {
      "text/plain": [
       "VA         7\n",
       "Unknown    6\n",
       "NY         5\n",
       "TX         5\n",
       "FL         5\n",
       "CO         2\n",
       "PA         2\n",
       "AL         2\n",
       "IL         2\n",
       "MD         2\n",
       "AR         2\n",
       "DE         2\n",
       "ID         1\n",
       "HI         1\n",
       "NH         1\n",
       "OH         1\n",
       "WI         1\n",
       "KY         1\n",
       "WA         1\n",
       "DC         1\n",
       "WV         1\n",
       "MO         1\n",
       "LA         1\n",
       "NJ         1\n",
       "UT         1\n",
       "IA         1\n",
       "TN         1\n",
       "AZ         1\n",
       "Name: state, dtype: int64"
      ]
     },
     "execution_count": 38,
     "metadata": {},
     "output_type": "execute_result"
    }
   ],
   "source": [
    "gw_df.state.value_counts()"
   ]
  },
  {
   "cell_type": "markdown",
   "metadata": {},
   "source": [
    "### Merge with Justice data"
   ]
  },
  {
   "cell_type": "code",
   "execution_count": 39,
   "metadata": {},
   "outputs": [],
   "source": [
    "# justice_gw_merge = pd.merge(\n",
    "#     justice_df, gw_df, right_on=\"name\", left_on=\"fullname\", how=\"right\"\n",
    "# )"
   ]
  },
  {
   "cell_type": "code",
   "execution_count": 40,
   "metadata": {},
   "outputs": [],
   "source": [
    "# len(justice_gw_merge)"
   ]
  },
  {
   "cell_type": "code",
   "execution_count": 41,
   "metadata": {},
   "outputs": [],
   "source": [
    "# justice_gw_merge.head()"
   ]
  },
  {
   "cell_type": "markdown",
   "metadata": {},
   "source": [
    "---"
   ]
  },
  {
   "cell_type": "markdown",
   "metadata": {},
   "source": [
    "### Read data from the [Prosecution Project](https://theprosecutionproject.org/2021/01/14/prosecution-data-capitol-siege-of-january-6-2021/)"
   ]
  },
  {
   "cell_type": "code",
   "execution_count": 42,
   "metadata": {},
   "outputs": [],
   "source": [
    "url2 = \"https://docs.google.com/spreadsheets/d/e/2PACX-1vQ-NJiMr9_MVxsqTSB1sYkzOZSfg59m6ViR7qvjXef3O4txMuWYxh7TlTVcQAxzduCjhLxKP3dlXUhX/pub?output=csv\""
   ]
  },
  {
   "cell_type": "code",
   "execution_count": 43,
   "metadata": {},
   "outputs": [],
   "source": [
    "cases = pd.read_csv(url2, dtype={\"age\": int})"
   ]
  },
  {
   "cell_type": "code",
   "execution_count": 44,
   "metadata": {},
   "outputs": [],
   "source": [
    "cases.columns = (\n",
    "    cases.columns.str.strip()\n",
    "    .str.lower()\n",
    "    .str.replace(\" \", \"_\", regex=False)\n",
    "    .str.replace(\":\", \"\", regex=False)\n",
    "    .str.replace(\"/\", \"_\", regex=False)\n",
    "    .str.replace(\"-\", \"_\", regex=False)\n",
    ")"
   ]
  },
  {
   "cell_type": "code",
   "execution_count": 45,
   "metadata": {},
   "outputs": [],
   "source": [
    "cases = cases.dropna(how=\"all\")"
   ]
  },
  {
   "cell_type": "code",
   "execution_count": 46,
   "metadata": {},
   "outputs": [],
   "source": [
    "cases[\"charges\"] = cases[\"charges\"].str.upper()"
   ]
  },
  {
   "cell_type": "code",
   "execution_count": 47,
   "metadata": {},
   "outputs": [
    {
     "data": {
      "text/html": [
       "<div>\n",
       "<style scoped>\n",
       "    .dataframe tbody tr th:only-of-type {\n",
       "        vertical-align: middle;\n",
       "    }\n",
       "\n",
       "    .dataframe tbody tr th {\n",
       "        vertical-align: top;\n",
       "    }\n",
       "\n",
       "    .dataframe thead th {\n",
       "        text-align: right;\n",
       "    }\n",
       "</style>\n",
       "<table border=\"1\" class=\"dataframe\">\n",
       "  <thead>\n",
       "    <tr style=\"text-align: right;\">\n",
       "      <th></th>\n",
       "      <th>full_legal_name</th>\n",
       "      <th>charges</th>\n",
       "    </tr>\n",
       "  </thead>\n",
       "  <tbody>\n",
       "    <tr>\n",
       "      <th>0</th>\n",
       "      <td>Henry Tarrio</td>\n",
       "      <td>DC CODE 7:2506.01(B) POSSESSION OF LARGE CAPACITY AMMUNITION FEEDING DEVICE [2 COUNTS]</td>\n",
       "    </tr>\n",
       "    <tr>\n",
       "      <th>1</th>\n",
       "      <td>Matthew Ross Council</td>\n",
       "      <td>18:1752(A)(1) KNOWINGLY ENTERING OR REMAINING IN ANY RESTRICTED BUILDING OR GROUNDS WITHOUT LAWFUL AUTHORITY; 40:5104(E)(2) VIOLENT ENTRY AND DISORDERLY CONDUCT ON CAPITOL GROUNDS</td>\n",
       "    </tr>\n",
       "    <tr>\n",
       "      <th>2</th>\n",
       "      <td>Kash Lee Kelly</td>\n",
       "      <td>18:1752(A)(1) AND (2); 40:5104(E)(2)(A) AND (G)</td>\n",
       "    </tr>\n",
       "    <tr>\n",
       "      <th>3</th>\n",
       "      <td>Thomas Alexander Gronek</td>\n",
       "      <td>22 DC CODE 4504(A-1) CARRYING A RIFLE OR SHOTGUN (OUTSIDE HOME OR PLACE OF BUSINESS</td>\n",
       "    </tr>\n",
       "    <tr>\n",
       "      <th>4</th>\n",
       "      <td>Harlan Timothy Boen</td>\n",
       "      <td>22 DC CODE 4504(A) CARRYING A PISTOL WITHOUT A LICENSE (OUTSIDE HOME OR PLACE OF BUSINESS)</td>\n",
       "    </tr>\n",
       "  </tbody>\n",
       "</table>\n",
       "</div>"
      ],
      "text/plain": [
       "           full_legal_name  \\\n",
       "0             Henry Tarrio   \n",
       "1     Matthew Ross Council   \n",
       "2           Kash Lee Kelly   \n",
       "3  Thomas Alexander Gronek   \n",
       "4      Harlan Timothy Boen   \n",
       "\n",
       "                                                                                                                                                                               charges  \n",
       "0                                                                                               DC CODE 7:2506.01(B) POSSESSION OF LARGE CAPACITY AMMUNITION FEEDING DEVICE [2 COUNTS]  \n",
       "1  18:1752(A)(1) KNOWINGLY ENTERING OR REMAINING IN ANY RESTRICTED BUILDING OR GROUNDS WITHOUT LAWFUL AUTHORITY; 40:5104(E)(2) VIOLENT ENTRY AND DISORDERLY CONDUCT ON CAPITOL GROUNDS  \n",
       "2                                                                                                                                      18:1752(A)(1) AND (2); 40:5104(E)(2)(A) AND (G)  \n",
       "3                                                                                                  22 DC CODE 4504(A-1) CARRYING A RIFLE OR SHOTGUN (OUTSIDE HOME OR PLACE OF BUSINESS  \n",
       "4                                                                                           22 DC CODE 4504(A) CARRYING A PISTOL WITHOUT A LICENSE (OUTSIDE HOME OR PLACE OF BUSINESS)  "
      ]
     },
     "execution_count": 47,
     "metadata": {},
     "output_type": "execute_result"
    }
   ],
   "source": [
    "cases[[\"full_legal_name\", \"charges\"]].head()"
   ]
  },
  {
   "cell_type": "markdown",
   "metadata": {},
   "source": [
    "### Mean age of all arrestees related to the Capitol seige"
   ]
  },
  {
   "cell_type": "code",
   "execution_count": 48,
   "metadata": {},
   "outputs": [
    {
     "data": {
      "text/plain": [
       "date                   object\n",
       "date_descriptor        object\n",
       "case_id                object\n",
       "group_identifier       object\n",
       "full_legal_name        object\n",
       "first_name             object\n",
       "family_name            object\n",
       "other_names_aliases    object\n",
       "co_offenders           object\n",
       "name_of_case           object\n",
       "jurisdiction           object\n",
       "location_country       object\n",
       "location_state         object\n",
       "location_city          object\n",
       "charges                object\n",
       "additional_details     object\n",
       "age                    object\n",
       "gender                 object\n",
       "racial_ethnic_group    object\n",
       "short_narrative        object\n",
       "dtype: object"
      ]
     },
     "execution_count": 48,
     "metadata": {},
     "output_type": "execute_result"
    }
   ],
   "source": [
    "cases.dtypes"
   ]
  },
  {
   "cell_type": "code",
   "execution_count": 49,
   "metadata": {},
   "outputs": [],
   "source": [
    "cases[\"age\"] = cases[\"age\"].fillna(\"0\").str.replace(\"Bledsoe\", \"0\", regex=False)"
   ]
  },
  {
   "cell_type": "code",
   "execution_count": 50,
   "metadata": {},
   "outputs": [
    {
     "ename": "ValueError",
     "evalue": "invalid literal for int() with base 10: '#'",
     "output_type": "error",
     "traceback": [
      "\u001b[0;31m---------------------------------------------------------------------------\u001b[0m",
      "\u001b[0;31mValueError\u001b[0m                                Traceback (most recent call last)",
      "\u001b[0;32m<ipython-input-50-61a8425be9eb>\u001b[0m in \u001b[0;36m<module>\u001b[0;34m\u001b[0m\n\u001b[0;32m----> 1\u001b[0;31m \u001b[0mcases\u001b[0m\u001b[0;34m[\u001b[0m\u001b[0;34m\"age\"\u001b[0m\u001b[0;34m]\u001b[0m \u001b[0;34m=\u001b[0m \u001b[0mcases\u001b[0m\u001b[0;34m[\u001b[0m\u001b[0;34m\"age\"\u001b[0m\u001b[0;34m]\u001b[0m\u001b[0;34m.\u001b[0m\u001b[0mastype\u001b[0m\u001b[0;34m(\u001b[0m\u001b[0mint\u001b[0m\u001b[0;34m)\u001b[0m\u001b[0;34m\u001b[0m\u001b[0;34m\u001b[0m\u001b[0m\n\u001b[0m",
      "\u001b[0;32m/opt/anaconda3/lib/python3.7/site-packages/pandas/core/generic.py\u001b[0m in \u001b[0;36mastype\u001b[0;34m(self, dtype, copy, errors)\u001b[0m\n\u001b[1;32m   5696\u001b[0m         \u001b[0;32melse\u001b[0m\u001b[0;34m:\u001b[0m\u001b[0;34m\u001b[0m\u001b[0;34m\u001b[0m\u001b[0m\n\u001b[1;32m   5697\u001b[0m             \u001b[0;31m# else, only a single dtype is given\u001b[0m\u001b[0;34m\u001b[0m\u001b[0;34m\u001b[0m\u001b[0;34m\u001b[0m\u001b[0m\n\u001b[0;32m-> 5698\u001b[0;31m             \u001b[0mnew_data\u001b[0m \u001b[0;34m=\u001b[0m \u001b[0mself\u001b[0m\u001b[0;34m.\u001b[0m\u001b[0m_data\u001b[0m\u001b[0;34m.\u001b[0m\u001b[0mastype\u001b[0m\u001b[0;34m(\u001b[0m\u001b[0mdtype\u001b[0m\u001b[0;34m=\u001b[0m\u001b[0mdtype\u001b[0m\u001b[0;34m,\u001b[0m \u001b[0mcopy\u001b[0m\u001b[0;34m=\u001b[0m\u001b[0mcopy\u001b[0m\u001b[0;34m,\u001b[0m \u001b[0merrors\u001b[0m\u001b[0;34m=\u001b[0m\u001b[0merrors\u001b[0m\u001b[0;34m)\u001b[0m\u001b[0;34m\u001b[0m\u001b[0;34m\u001b[0m\u001b[0m\n\u001b[0m\u001b[1;32m   5699\u001b[0m             \u001b[0;32mreturn\u001b[0m \u001b[0mself\u001b[0m\u001b[0;34m.\u001b[0m\u001b[0m_constructor\u001b[0m\u001b[0;34m(\u001b[0m\u001b[0mnew_data\u001b[0m\u001b[0;34m)\u001b[0m\u001b[0;34m.\u001b[0m\u001b[0m__finalize__\u001b[0m\u001b[0;34m(\u001b[0m\u001b[0mself\u001b[0m\u001b[0;34m)\u001b[0m\u001b[0;34m\u001b[0m\u001b[0;34m\u001b[0m\u001b[0m\n\u001b[1;32m   5700\u001b[0m \u001b[0;34m\u001b[0m\u001b[0m\n",
      "\u001b[0;32m/opt/anaconda3/lib/python3.7/site-packages/pandas/core/internals/managers.py\u001b[0m in \u001b[0;36mastype\u001b[0;34m(self, dtype, copy, errors)\u001b[0m\n\u001b[1;32m    580\u001b[0m \u001b[0;34m\u001b[0m\u001b[0m\n\u001b[1;32m    581\u001b[0m     \u001b[0;32mdef\u001b[0m \u001b[0mastype\u001b[0m\u001b[0;34m(\u001b[0m\u001b[0mself\u001b[0m\u001b[0;34m,\u001b[0m \u001b[0mdtype\u001b[0m\u001b[0;34m,\u001b[0m \u001b[0mcopy\u001b[0m\u001b[0;34m:\u001b[0m \u001b[0mbool\u001b[0m \u001b[0;34m=\u001b[0m \u001b[0;32mFalse\u001b[0m\u001b[0;34m,\u001b[0m \u001b[0merrors\u001b[0m\u001b[0;34m:\u001b[0m \u001b[0mstr\u001b[0m \u001b[0;34m=\u001b[0m \u001b[0;34m\"raise\"\u001b[0m\u001b[0;34m)\u001b[0m\u001b[0;34m:\u001b[0m\u001b[0;34m\u001b[0m\u001b[0;34m\u001b[0m\u001b[0m\n\u001b[0;32m--> 582\u001b[0;31m         \u001b[0;32mreturn\u001b[0m \u001b[0mself\u001b[0m\u001b[0;34m.\u001b[0m\u001b[0mapply\u001b[0m\u001b[0;34m(\u001b[0m\u001b[0;34m\"astype\"\u001b[0m\u001b[0;34m,\u001b[0m \u001b[0mdtype\u001b[0m\u001b[0;34m=\u001b[0m\u001b[0mdtype\u001b[0m\u001b[0;34m,\u001b[0m \u001b[0mcopy\u001b[0m\u001b[0;34m=\u001b[0m\u001b[0mcopy\u001b[0m\u001b[0;34m,\u001b[0m \u001b[0merrors\u001b[0m\u001b[0;34m=\u001b[0m\u001b[0merrors\u001b[0m\u001b[0;34m)\u001b[0m\u001b[0;34m\u001b[0m\u001b[0;34m\u001b[0m\u001b[0m\n\u001b[0m\u001b[1;32m    583\u001b[0m \u001b[0;34m\u001b[0m\u001b[0m\n\u001b[1;32m    584\u001b[0m     \u001b[0;32mdef\u001b[0m \u001b[0mconvert\u001b[0m\u001b[0;34m(\u001b[0m\u001b[0mself\u001b[0m\u001b[0;34m,\u001b[0m \u001b[0;34m**\u001b[0m\u001b[0mkwargs\u001b[0m\u001b[0;34m)\u001b[0m\u001b[0;34m:\u001b[0m\u001b[0;34m\u001b[0m\u001b[0;34m\u001b[0m\u001b[0m\n",
      "\u001b[0;32m/opt/anaconda3/lib/python3.7/site-packages/pandas/core/internals/managers.py\u001b[0m in \u001b[0;36mapply\u001b[0;34m(self, f, filter, **kwargs)\u001b[0m\n\u001b[1;32m    440\u001b[0m                 \u001b[0mapplied\u001b[0m \u001b[0;34m=\u001b[0m \u001b[0mb\u001b[0m\u001b[0;34m.\u001b[0m\u001b[0mapply\u001b[0m\u001b[0;34m(\u001b[0m\u001b[0mf\u001b[0m\u001b[0;34m,\u001b[0m \u001b[0;34m**\u001b[0m\u001b[0mkwargs\u001b[0m\u001b[0;34m)\u001b[0m\u001b[0;34m\u001b[0m\u001b[0;34m\u001b[0m\u001b[0m\n\u001b[1;32m    441\u001b[0m             \u001b[0;32melse\u001b[0m\u001b[0;34m:\u001b[0m\u001b[0;34m\u001b[0m\u001b[0;34m\u001b[0m\u001b[0m\n\u001b[0;32m--> 442\u001b[0;31m                 \u001b[0mapplied\u001b[0m \u001b[0;34m=\u001b[0m \u001b[0mgetattr\u001b[0m\u001b[0;34m(\u001b[0m\u001b[0mb\u001b[0m\u001b[0;34m,\u001b[0m \u001b[0mf\u001b[0m\u001b[0;34m)\u001b[0m\u001b[0;34m(\u001b[0m\u001b[0;34m**\u001b[0m\u001b[0mkwargs\u001b[0m\u001b[0;34m)\u001b[0m\u001b[0;34m\u001b[0m\u001b[0;34m\u001b[0m\u001b[0m\n\u001b[0m\u001b[1;32m    443\u001b[0m             \u001b[0mresult_blocks\u001b[0m \u001b[0;34m=\u001b[0m \u001b[0m_extend_blocks\u001b[0m\u001b[0;34m(\u001b[0m\u001b[0mapplied\u001b[0m\u001b[0;34m,\u001b[0m \u001b[0mresult_blocks\u001b[0m\u001b[0;34m)\u001b[0m\u001b[0;34m\u001b[0m\u001b[0;34m\u001b[0m\u001b[0m\n\u001b[1;32m    444\u001b[0m \u001b[0;34m\u001b[0m\u001b[0m\n",
      "\u001b[0;32m/opt/anaconda3/lib/python3.7/site-packages/pandas/core/internals/blocks.py\u001b[0m in \u001b[0;36mastype\u001b[0;34m(self, dtype, copy, errors)\u001b[0m\n\u001b[1;32m    623\u001b[0m             \u001b[0mvals1d\u001b[0m \u001b[0;34m=\u001b[0m \u001b[0mvalues\u001b[0m\u001b[0;34m.\u001b[0m\u001b[0mravel\u001b[0m\u001b[0;34m(\u001b[0m\u001b[0;34m)\u001b[0m\u001b[0;34m\u001b[0m\u001b[0;34m\u001b[0m\u001b[0m\n\u001b[1;32m    624\u001b[0m             \u001b[0;32mtry\u001b[0m\u001b[0;34m:\u001b[0m\u001b[0;34m\u001b[0m\u001b[0;34m\u001b[0m\u001b[0m\n\u001b[0;32m--> 625\u001b[0;31m                 \u001b[0mvalues\u001b[0m \u001b[0;34m=\u001b[0m \u001b[0mastype_nansafe\u001b[0m\u001b[0;34m(\u001b[0m\u001b[0mvals1d\u001b[0m\u001b[0;34m,\u001b[0m \u001b[0mdtype\u001b[0m\u001b[0;34m,\u001b[0m \u001b[0mcopy\u001b[0m\u001b[0;34m=\u001b[0m\u001b[0;32mTrue\u001b[0m\u001b[0;34m)\u001b[0m\u001b[0;34m\u001b[0m\u001b[0;34m\u001b[0m\u001b[0m\n\u001b[0m\u001b[1;32m    626\u001b[0m             \u001b[0;32mexcept\u001b[0m \u001b[0;34m(\u001b[0m\u001b[0mValueError\u001b[0m\u001b[0;34m,\u001b[0m \u001b[0mTypeError\u001b[0m\u001b[0;34m)\u001b[0m\u001b[0;34m:\u001b[0m\u001b[0;34m\u001b[0m\u001b[0;34m\u001b[0m\u001b[0m\n\u001b[1;32m    627\u001b[0m                 \u001b[0;31m# e.g. astype_nansafe can fail on object-dtype of strings\u001b[0m\u001b[0;34m\u001b[0m\u001b[0;34m\u001b[0m\u001b[0;34m\u001b[0m\u001b[0m\n",
      "\u001b[0;32m/opt/anaconda3/lib/python3.7/site-packages/pandas/core/dtypes/cast.py\u001b[0m in \u001b[0;36mastype_nansafe\u001b[0;34m(arr, dtype, copy, skipna)\u001b[0m\n\u001b[1;32m    872\u001b[0m         \u001b[0;31m# work around NumPy brokenness, #1987\u001b[0m\u001b[0;34m\u001b[0m\u001b[0;34m\u001b[0m\u001b[0;34m\u001b[0m\u001b[0m\n\u001b[1;32m    873\u001b[0m         \u001b[0;32mif\u001b[0m \u001b[0mnp\u001b[0m\u001b[0;34m.\u001b[0m\u001b[0missubdtype\u001b[0m\u001b[0;34m(\u001b[0m\u001b[0mdtype\u001b[0m\u001b[0;34m.\u001b[0m\u001b[0mtype\u001b[0m\u001b[0;34m,\u001b[0m \u001b[0mnp\u001b[0m\u001b[0;34m.\u001b[0m\u001b[0minteger\u001b[0m\u001b[0;34m)\u001b[0m\u001b[0;34m:\u001b[0m\u001b[0;34m\u001b[0m\u001b[0;34m\u001b[0m\u001b[0m\n\u001b[0;32m--> 874\u001b[0;31m             \u001b[0;32mreturn\u001b[0m \u001b[0mlib\u001b[0m\u001b[0;34m.\u001b[0m\u001b[0mastype_intsafe\u001b[0m\u001b[0;34m(\u001b[0m\u001b[0marr\u001b[0m\u001b[0;34m.\u001b[0m\u001b[0mravel\u001b[0m\u001b[0;34m(\u001b[0m\u001b[0;34m)\u001b[0m\u001b[0;34m,\u001b[0m \u001b[0mdtype\u001b[0m\u001b[0;34m)\u001b[0m\u001b[0;34m.\u001b[0m\u001b[0mreshape\u001b[0m\u001b[0;34m(\u001b[0m\u001b[0marr\u001b[0m\u001b[0;34m.\u001b[0m\u001b[0mshape\u001b[0m\u001b[0;34m)\u001b[0m\u001b[0;34m\u001b[0m\u001b[0;34m\u001b[0m\u001b[0m\n\u001b[0m\u001b[1;32m    875\u001b[0m \u001b[0;34m\u001b[0m\u001b[0m\n\u001b[1;32m    876\u001b[0m         \u001b[0;31m# if we have a datetime/timedelta array of objects\u001b[0m\u001b[0;34m\u001b[0m\u001b[0;34m\u001b[0m\u001b[0;34m\u001b[0m\u001b[0m\n",
      "\u001b[0;32mpandas/_libs/lib.pyx\u001b[0m in \u001b[0;36mpandas._libs.lib.astype_intsafe\u001b[0;34m()\u001b[0m\n",
      "\u001b[0;31mValueError\u001b[0m: invalid literal for int() with base 10: '#'"
     ]
    }
   ],
   "source": [
    "cases[\"age\"] = cases[\"age\"].astype(int)"
   ]
  },
  {
   "cell_type": "code",
   "execution_count": null,
   "metadata": {},
   "outputs": [],
   "source": [
    "cases[\"age\"].mean()"
   ]
  },
  {
   "cell_type": "markdown",
   "metadata": {},
   "source": [
    "### Number of cases so far"
   ]
  },
  {
   "cell_type": "code",
   "execution_count": null,
   "metadata": {},
   "outputs": [],
   "source": [
    "len(cases)"
   ]
  },
  {
   "cell_type": "markdown",
   "metadata": {},
   "source": [
    "### Gender counts for those charged"
   ]
  },
  {
   "cell_type": "code",
   "execution_count": null,
   "metadata": {},
   "outputs": [],
   "source": [
    "round(cases.gender.value_counts(\"normalize\") * 100)"
   ]
  },
  {
   "cell_type": "markdown",
   "metadata": {},
   "source": [
    "### Race/ethnicity of those charged?"
   ]
  },
  {
   "cell_type": "code",
   "execution_count": null,
   "metadata": {},
   "outputs": [],
   "source": [
    "round(cases.racial_ethnic_group.value_counts(\"normalize\") * 100)"
   ]
  },
  {
   "cell_type": "code",
   "execution_count": null,
   "metadata": {},
   "outputs": [],
   "source": [
    "cases_race = (\n",
    "    cases.groupby([\"racial_ethnic_group\"]).agg({\"case_id\": \"size\"}).reset_index()\n",
    ").rename(columns={\"case_id\": \"count\"})"
   ]
  },
  {
   "cell_type": "code",
   "execution_count": null,
   "metadata": {},
   "outputs": [],
   "source": [
    "alt.Chart(cases_race).mark_bar().encode(\n",
    "    x=alt.X(\"racial_ethnic_group:N\", title=\"Race/ethnicity\"),\n",
    "    y=alt.Y(\"count:Q\", title=\"Count\"),\n",
    ").properties(width=800, height=400, title=\"Cases by race/ethnicity\")"
   ]
  },
  {
   "cell_type": "markdown",
   "metadata": {},
   "source": [
    "---"
   ]
  },
  {
   "cell_type": "markdown",
   "metadata": {},
   "source": [
    "### Cases that only involve illegally entering the Capitol"
   ]
  },
  {
   "cell_type": "code",
   "execution_count": null,
   "metadata": {},
   "outputs": [],
   "source": [
    "capitol_entry_cases = cases[\n",
    "    cases[\"charges\"].fillna(\"\").str.contains(\"RESTRICTED BUILDING OR GROUNDS\")\n",
    "]"
   ]
  },
  {
   "cell_type": "code",
   "execution_count": null,
   "metadata": {},
   "outputs": [],
   "source": [
    "len(capitol_entry_cases)"
   ]
  },
  {
   "cell_type": "code",
   "execution_count": null,
   "metadata": {},
   "outputs": [],
   "source": [
    "round(capitol_entry_cases.racial_ethnic_group.value_counts(\"normalize\") * 100)"
   ]
  },
  {
   "cell_type": "code",
   "execution_count": null,
   "metadata": {},
   "outputs": [],
   "source": [
    "round(capitol_entry_cases.location_state.value_counts(\"normalize\") * 100)"
   ]
  },
  {
   "cell_type": "code",
   "execution_count": null,
   "metadata": {},
   "outputs": [],
   "source": [
    "round(capitol_entry_cases.gender.value_counts(\"normalize\") * 100)"
   ]
  },
  {
   "cell_type": "markdown",
   "metadata": {},
   "source": [
    "---"
   ]
  },
  {
   "cell_type": "markdown",
   "metadata": {},
   "source": [
    "### Export"
   ]
  },
  {
   "cell_type": "code",
   "execution_count": null,
   "metadata": {},
   "outputs": [],
   "source": [
    "cases.to_csv(\"raw/cases_prosecution_project.csv\", index=False)"
   ]
  },
  {
   "cell_type": "code",
   "execution_count": null,
   "metadata": {},
   "outputs": [],
   "source": []
  }
 ],
 "metadata": {
  "kernelspec": {
   "display_name": "Python 3",
   "language": "python",
   "name": "python3"
  },
  "language_info": {
   "codemirror_mode": {
    "name": "ipython",
    "version": 3
   },
   "file_extension": ".py",
   "mimetype": "text/x-python",
   "name": "python",
   "nbconvert_exporter": "python",
   "pygments_lexer": "ipython3",
   "version": "3.7.4"
  }
 },
 "nbformat": 4,
 "nbformat_minor": 5
}
