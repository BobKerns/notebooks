{
 "cells": [
  {
   "cell_type": "markdown",
   "metadata": {},
   "source": [
    "# Counting U.S. Capitol breach cases listed by DOJ via Wayback Machine"
   ]
  },
  {
   "cell_type": "markdown",
   "metadata": {},
   "source": [
    "### Import Python tools and Jupyter configuration"
   ]
  },
  {
   "cell_type": "code",
   "execution_count": 1,
   "metadata": {},
   "outputs": [],
   "source": [
    "%load_ext lab_black"
   ]
  },
  {
   "cell_type": "code",
   "execution_count": 2,
   "metadata": {},
   "outputs": [],
   "source": [
    "import pandas as pd\n",
    "import requests\n",
    "from bs4 import BeautifulSoup\n",
    "import re"
   ]
  },
  {
   "cell_type": "code",
   "execution_count": 3,
   "metadata": {},
   "outputs": [],
   "source": [
    "import altair as alt\n",
    "import altair_latimes as lat\n",
    "import numpy as np"
   ]
  },
  {
   "cell_type": "code",
   "execution_count": 4,
   "metadata": {},
   "outputs": [
    {
     "data": {
      "text/plain": [
       "ThemeRegistry.enable('latimes')"
      ]
     },
     "execution_count": 4,
     "metadata": {},
     "output_type": "execute_result"
    }
   ],
   "source": [
    "alt.themes.register(\"latimes\", lat.theme)\n",
    "alt.themes.enable(\"latimes\")"
   ]
  },
  {
   "cell_type": "code",
   "execution_count": 5,
   "metadata": {},
   "outputs": [],
   "source": [
    "pd.options.display.max_columns = 100\n",
    "pd.options.display.max_rows = 1000\n",
    "alt.data_transformers.disable_max_rows()\n",
    "pd.options.display.max_colwidth = None"
   ]
  },
  {
   "cell_type": "markdown",
   "metadata": {},
   "source": [
    "### Headers"
   ]
  },
  {
   "cell_type": "code",
   "execution_count": 6,
   "metadata": {},
   "outputs": [],
   "source": [
    "headers = {\n",
    "    \"User-Agent\": \"Mozilla/5.0 (Macintosh; Intel Mac OS X 10_15_6) AppleWebKit/537.36 (KHTML, like Gecko) Chrome/85.0.4183.102 Safari/537.36\",\n",
    "    \"Accept\": \"text/html,application/xhtml+xml,application/xml;q=0.9,image/avif,image/webp,image/apng,*/*;q=0.8,application/signed-exchange;v=b3;q=0.9\",\n",
    "}"
   ]
  },
  {
   "cell_type": "markdown",
   "metadata": {},
   "source": [
    "### Get the wayback machine feed of changes"
   ]
  },
  {
   "cell_type": "code",
   "execution_count": 7,
   "metadata": {},
   "outputs": [],
   "source": [
    "url = \"http://web.archive.org/cdx/search/cdx?url=https://www.justice.gov/usao-dc/capitol-breach-cases&output=json\""
   ]
  },
  {
   "cell_type": "code",
   "execution_count": 8,
   "metadata": {},
   "outputs": [],
   "source": [
    "urls = pd.read_json(url, orient=\"records\").drop([0], axis=0)"
   ]
  },
  {
   "cell_type": "code",
   "execution_count": 9,
   "metadata": {},
   "outputs": [],
   "source": [
    "urls.columns = [\n",
    "    \"urlkey\",\n",
    "    \"timestamp\",\n",
    "    \"original\",\n",
    "    \"mimetype\",\n",
    "    \"statuscode\",\n",
    "    \"digest\",\n",
    "    \"length\",\n",
    "]"
   ]
  },
  {
   "cell_type": "code",
   "execution_count": 10,
   "metadata": {},
   "outputs": [],
   "source": [
    "urls[\"datetime\"] = pd.to_datetime(urls[\"timestamp\"])"
   ]
  },
  {
   "cell_type": "code",
   "execution_count": 11,
   "metadata": {},
   "outputs": [],
   "source": [
    "urls[\"date\"] = urls[\"datetime\"].dt.date"
   ]
  },
  {
   "cell_type": "markdown",
   "metadata": {},
   "source": [
    "### Limit the update urls to the last one of each day"
   ]
  },
  {
   "cell_type": "code",
   "execution_count": 12,
   "metadata": {},
   "outputs": [],
   "source": [
    "daily_urls = urls.sort_values([\"datetime\", \"date\"], ascending=True).drop_duplicates(\n",
    "    \"date\", keep=\"last\"\n",
    ")"
   ]
  },
  {
   "cell_type": "code",
   "execution_count": 13,
   "metadata": {},
   "outputs": [],
   "source": [
    "urls_success = daily_urls[daily_urls[\"statuscode\"] == \"200\"].copy()"
   ]
  },
  {
   "cell_type": "code",
   "execution_count": 14,
   "metadata": {},
   "outputs": [
    {
     "data": {
      "text/plain": [
       "65"
      ]
     },
     "execution_count": 14,
     "metadata": {},
     "output_type": "execute_result"
    }
   ],
   "source": [
    "len(urls_success)"
   ]
  },
  {
   "cell_type": "markdown",
   "metadata": {},
   "source": [
    "### Loop through urls and create Wayback create dataframes"
   ]
  },
  {
   "cell_type": "code",
   "execution_count": 15,
   "metadata": {},
   "outputs": [],
   "source": [
    "# Sample url: 'https://web.archive.org/web/20210401183845/https://www.justice.gov/usao-dc/capitol-breach-cases'"
   ]
  },
  {
   "cell_type": "code",
   "execution_count": 16,
   "metadata": {},
   "outputs": [],
   "source": [
    "content = []\n",
    "pages = []\n",
    "\n",
    "for t, u in zip(urls_success.timestamp, urls_success.original):\n",
    "    response_justice = requests.get(\n",
    "        \"https://web.archive.org/web/\" + t + \"/\" + u, headers=headers\n",
    "    )\n",
    "    #     justice_url = \"https://web.archive.org/web/\" + t + \"/\" + u\n",
    "    pages.append(\n",
    "        (pd.read_html(response_justice.text, attrs={\"class\": \"tablesaw\"})[0]).assign(\n",
    "            timestamp=t\n",
    "        )\n",
    "    )"
   ]
  },
  {
   "cell_type": "markdown",
   "metadata": {},
   "source": [
    "### Create a large dataframe from a list of update date dataframes, and add a timestamp"
   ]
  },
  {
   "cell_type": "code",
   "execution_count": 17,
   "metadata": {},
   "outputs": [],
   "source": [
    "df = pd.concat(pages)"
   ]
  },
  {
   "cell_type": "code",
   "execution_count": 18,
   "metadata": {},
   "outputs": [],
   "source": [
    "df.drop([\"Entry Last Updated*\"], axis=1, inplace=True)"
   ]
  },
  {
   "cell_type": "markdown",
   "metadata": {},
   "source": [
    "### Clean up dates"
   ]
  },
  {
   "cell_type": "code",
   "execution_count": 19,
   "metadata": {},
   "outputs": [],
   "source": [
    "df[\"datetime\"] = pd.to_datetime(df[\"timestamp\"])"
   ]
  },
  {
   "cell_type": "code",
   "execution_count": 20,
   "metadata": {},
   "outputs": [],
   "source": [
    "df[\"date\"] = df[\"datetime\"].dt.date"
   ]
  },
  {
   "cell_type": "code",
   "execution_count": 21,
   "metadata": {},
   "outputs": [],
   "source": [
    "df.drop([\"timestamp\"], axis=1, inplace=True)"
   ]
  },
  {
   "cell_type": "code",
   "execution_count": 22,
   "metadata": {},
   "outputs": [
    {
     "data": {
      "text/plain": [
       "Case Number                     object\n",
       "Name                            object\n",
       "Charge(s)                       object\n",
       "Associated Documents            object\n",
       "Location of Arrest              object\n",
       "Case Status                     object\n",
       "Entry Last Updated              object\n",
       "datetime                datetime64[ns]\n",
       "date                            object\n",
       "dtype: object"
      ]
     },
     "execution_count": 22,
     "metadata": {},
     "output_type": "execute_result"
    }
   ],
   "source": [
    "df.dtypes"
   ]
  },
  {
   "cell_type": "markdown",
   "metadata": {},
   "source": [
    "### Clean up the headers"
   ]
  },
  {
   "cell_type": "code",
   "execution_count": 23,
   "metadata": {},
   "outputs": [],
   "source": [
    "df.columns = (\n",
    "    df.columns.str.strip()\n",
    "    .str.lower()\n",
    "    .str.replace(\" \", \"_\", regex=False)\n",
    "    .str.replace(\":\", \"\", regex=False)\n",
    "    .str.replace(\"/\", \"_\", regex=False)\n",
    "    .str.replace(\",\", \"_\", regex=False)\n",
    "    .str.replace(\"*\", \"\", regex=False)\n",
    "    .str.replace(\"(s)\", \"s\", regex=False)\n",
    ")"
   ]
  },
  {
   "cell_type": "code",
   "execution_count": 24,
   "metadata": {},
   "outputs": [],
   "source": [
    "df.to_csv(\"raw/cases-internet-archive-all.csv\", index=False)"
   ]
  },
  {
   "cell_type": "markdown",
   "metadata": {},
   "source": [
    "---"
   ]
  },
  {
   "cell_type": "markdown",
   "metadata": {},
   "source": [
    "### How many cases each day?"
   ]
  },
  {
   "cell_type": "code",
   "execution_count": 25,
   "metadata": {},
   "outputs": [],
   "source": [
    "cases_by_day = df.groupby([\"datetime\"]).agg({\"case_number\": \"size\"}).reset_index()"
   ]
  },
  {
   "cell_type": "code",
   "execution_count": 26,
   "metadata": {},
   "outputs": [
    {
     "data": {
      "text/plain": [
       "datetime       datetime64[ns]\n",
       "case_number             int64\n",
       "dtype: object"
      ]
     },
     "execution_count": 26,
     "metadata": {},
     "output_type": "execute_result"
    }
   ],
   "source": [
    "cases_by_day.dtypes"
   ]
  },
  {
   "cell_type": "code",
   "execution_count": 27,
   "metadata": {},
   "outputs": [
    {
     "data": {
      "text/html": [
       "\n",
       "<div id=\"altair-viz-612ade7766be4b2b9ccdafdf1614e437\"></div>\n",
       "<script type=\"text/javascript\">\n",
       "  (function(spec, embedOpt){\n",
       "    const outputDiv = document.getElementById(\"altair-viz-612ade7766be4b2b9ccdafdf1614e437\");\n",
       "    const paths = {\n",
       "      \"vega\": \"https://cdn.jsdelivr.net/npm//vega@5?noext\",\n",
       "      \"vega-lib\": \"https://cdn.jsdelivr.net/npm//vega-lib?noext\",\n",
       "      \"vega-lite\": \"https://cdn.jsdelivr.net/npm//vega-lite@4.0.2?noext\",\n",
       "      \"vega-embed\": \"https://cdn.jsdelivr.net/npm//vega-embed@6?noext\",\n",
       "    };\n",
       "\n",
       "    function loadScript(lib) {\n",
       "      return new Promise(function(resolve, reject) {\n",
       "        var s = document.createElement('script');\n",
       "        s.src = paths[lib];\n",
       "        s.async = true;\n",
       "        s.onload = () => resolve(paths[lib]);\n",
       "        s.onerror = () => reject(`Error loading script: ${paths[lib]}`);\n",
       "        document.getElementsByTagName(\"head\")[0].appendChild(s);\n",
       "      });\n",
       "    }\n",
       "\n",
       "    function showError(err) {\n",
       "      outputDiv.innerHTML = `<div class=\"error\" style=\"color:red;\">${err}</div>`;\n",
       "      throw err;\n",
       "    }\n",
       "\n",
       "    function displayChart(vegaEmbed) {\n",
       "      vegaEmbed(outputDiv, spec, embedOpt)\n",
       "        .catch(err => showError(`Javascript Error: ${err.message}<br>This usually means there's a typo in your chart specification. See the javascript console for the full traceback.`));\n",
       "    }\n",
       "\n",
       "    if(typeof define === \"function\" && define.amd) {\n",
       "      requirejs.config({paths});\n",
       "      require([\"vega-embed\"], displayChart, err => showError(`Error loading script: ${err.message}`));\n",
       "    } else if (typeof vegaEmbed === \"function\") {\n",
       "      displayChart(vegaEmbed);\n",
       "    } else {\n",
       "      loadScript(\"vega\")\n",
       "        .then(() => loadScript(\"vega-lite\"))\n",
       "        .then(() => loadScript(\"vega-embed\"))\n",
       "        .catch(showError)\n",
       "        .then(() => displayChart(vegaEmbed));\n",
       "    }\n",
       "  })({\"config\": {\"view\": {\"width\": 800, \"height\": 450, \"strokeOpacity\": 0}, \"background\": \"#ffffff\", \"title\": {\"anchor\": \"start\", \"font\": \"Benton Gothic Bold, sans\", \"fontColor\": \"#000000\", \"fontSize\": 22, \"fontWeight\": \"normal\"}, \"arc\": {\"fill\": \"#82c6df\"}, \"area\": {\"fill\": \"#82c6df\"}, \"line\": {\"stroke\": \"#82c6df\", \"strokeWidth\": 3}, \"path\": {\"stroke\": \"#82c6df\"}, \"rect\": {\"fill\": \"#82c6df\"}, \"shape\": {\"stroke\": \"#82c6df\"}, \"bar\": {\"fill\": \"#82c6df\"}, \"point\": {\"stroke\": \"#82c6df\"}, \"symbol\": {\"fill\": \"#82c6df\", \"size\": 30}, \"axis\": {\"titleFont\": \"Benton Gothic Bold, sans\", \"titleFontSize\": 13, \"titleFontWeight\": \"normal\", \"labelFont\": \"Benton Gothic, sans\", \"labelFontSize\": 13, \"labelFontWeight\": \"normal\"}, \"axisX\": {\"labelAngle\": 0, \"labelPadding\": 4, \"tickSize\": 3}, \"axisY\": {\"labelBaseline\": \"middle\", \"maxExtent\": 45, \"minExtent\": 45, \"tickSize\": 2, \"titleAlign\": \"left\", \"titleAngle\": 0, \"titleX\": -45, \"titleY\": -11}, \"legend\": {\"titleFont\": \"Benton Gothic Bold, sans\", \"titleFontSize\": 13, \"titleFontWeight\": \"normal\", \"symbolType\": \"square\", \"labelFont\": \"Benton Gothic, sans\", \"labelFontSize\": 11.5, \"orient\": \"top\"}, \"range\": {\"category\": [\"#3580b1\", \"#ec8431\", \"#ab7fb4\", \"#c89d29\", \"#adc839\", \"#829eb1\"], \"diverging\": [\"#e68a4f\", \"#f4bb6a\", \"#f9e39c\", \"#dadfe2\", \"#a6b7c6\", \"#849eae\"], \"heatmap\": [\"#fbf2c7\", \"#f9e39c\", \"#f8d36e\", \"#f4bb6a\", \"#e68a4f\", \"#d15a40\", \"#ab4232\"], \"ordinal\": [\"#fbf2c7\", \"#f9e39c\", \"#f8d36e\", \"#f4bb6a\", \"#e68a4f\", \"#d15a40\", \"#ab4232\"], \"ramp\": [\"#fbf2c7\", \"#f9e39c\", \"#f8d36e\", \"#f4bb6a\", \"#e68a4f\", \"#d15a40\", \"#ab4232\"]}}, \"layer\": [{\"mark\": \"line\", \"encoding\": {\"x\": {\"type\": \"temporal\", \"axis\": {\"format\": \"%b. %-d\", \"grid\": false, \"tickCount\": 10}, \"field\": \"datetime\", \"title\": \"\"}, \"y\": {\"type\": \"quantitative\", \"axis\": {\"domainOpacity\": 0, \"gridColor\": \"#dddddd\", \"gridWidth\": 0.6, \"offset\": 4, \"tickCount\": 6, \"tickSize\": 0}, \"field\": \"case_number\", \"scale\": {\"domain\": [100, 400]}, \"stack\": null, \"title\": \" \"}}}, {\"mark\": {\"type\": \"area\", \"opacity\": 0.2}, \"encoding\": {\"x\": {\"type\": \"temporal\", \"axis\": {\"format\": \"%b. %-d\", \"grid\": false, \"tickCount\": 10}, \"field\": \"datetime\", \"title\": \"\"}, \"y\": {\"type\": \"quantitative\", \"axis\": {\"domainOpacity\": 0, \"gridColor\": \"#dddddd\", \"gridWidth\": 0.6, \"offset\": 4, \"tickCount\": 6, \"tickSize\": 0}, \"field\": \"case_number\", \"scale\": {\"domain\": [100, 400]}, \"stack\": null, \"title\": \" \"}}}], \"data\": {\"name\": \"data-a80bebcb97d07102d0b8d6d2b631adaa\"}, \"height\": 600, \"title\": \"U.S. Capitol breach defendants, by day\", \"width\": 800, \"$schema\": \"https://vega.github.io/schema/vega-lite/v4.0.2.json\", \"datasets\": {\"data-a80bebcb97d07102d0b8d6d2b631adaa\": [{\"datetime\": \"2021-02-04T22:22:04\", \"case_number\": 172}, {\"datetime\": \"2021-02-05T22:41:54\", \"case_number\": 173}, {\"datetime\": \"2021-02-06T21:06:40\", \"case_number\": 173}, {\"datetime\": \"2021-02-07T20:44:16\", \"case_number\": 173}, {\"datetime\": \"2021-02-08T21:36:51\", \"case_number\": 173}, {\"datetime\": \"2021-02-09T23:52:31\", \"case_number\": 180}, {\"datetime\": \"2021-02-10T22:53:50\", \"case_number\": 181}, {\"datetime\": \"2021-02-11T23:50:08\", \"case_number\": 188}, {\"datetime\": \"2021-02-12T23:02:03\", \"case_number\": 191}, {\"datetime\": \"2021-02-13T19:19:41\", \"case_number\": 191}, {\"datetime\": \"2021-02-14T23:51:32\", \"case_number\": 191}, {\"datetime\": \"2021-02-15T22:28:29\", \"case_number\": 191}, {\"datetime\": \"2021-02-16T22:32:54\", \"case_number\": 191}, {\"datetime\": \"2021-02-17T18:55:55\", \"case_number\": 191}, {\"datetime\": \"2021-02-18T23:50:00\", \"case_number\": 192}, {\"datetime\": \"2021-02-19T23:57:51\", \"case_number\": 199}, {\"datetime\": \"2021-02-20T23:36:31\", \"case_number\": 199}, {\"datetime\": \"2021-02-21T17:49:41\", \"case_number\": 199}, {\"datetime\": \"2021-02-22T23:21:38\", \"case_number\": 199}, {\"datetime\": \"2021-02-23T21:32:31\", \"case_number\": 200}, {\"datetime\": \"2021-02-24T23:52:20\", \"case_number\": 200}, {\"datetime\": \"2021-02-25T21:54:37\", \"case_number\": 200}, {\"datetime\": \"2021-02-26T21:54:35\", \"case_number\": 200}, {\"datetime\": \"2021-02-27T13:54:22\", \"case_number\": 200}, {\"datetime\": \"2021-02-28T05:24:02\", \"case_number\": 203}, {\"datetime\": \"2021-03-01T23:35:36\", \"case_number\": 249}, {\"datetime\": \"2021-03-02T22:43:41\", \"case_number\": 249}, {\"datetime\": \"2021-03-03T07:49:49\", \"case_number\": 249}, {\"datetime\": \"2021-03-04T21:09:41\", \"case_number\": 249}, {\"datetime\": \"2021-03-05T17:05:37\", \"case_number\": 249}, {\"datetime\": \"2021-03-08T15:44:51\", \"case_number\": 250}, {\"datetime\": \"2021-03-09T21:39:00\", \"case_number\": 251}, {\"datetime\": \"2021-03-10T22:49:48\", \"case_number\": 252}, {\"datetime\": \"2021-03-11T21:51:38\", \"case_number\": 252}, {\"datetime\": \"2021-03-12T22:51:39\", \"case_number\": 252}, {\"datetime\": \"2021-03-13T23:18:33\", \"case_number\": 252}, {\"datetime\": \"2021-03-14T03:17:14\", \"case_number\": 252}, {\"datetime\": \"2021-03-15T17:19:03\", \"case_number\": 253}, {\"datetime\": \"2021-03-16T19:20:15\", \"case_number\": 255}, {\"datetime\": \"2021-03-17T19:01:50\", \"case_number\": 255}, {\"datetime\": \"2021-03-18T23:09:11\", \"case_number\": 255}, {\"datetime\": \"2021-03-19T22:49:47\", \"case_number\": 258}, {\"datetime\": \"2021-03-20T13:23:22\", \"case_number\": 259}, {\"datetime\": \"2021-03-21T13:54:42\", \"case_number\": 259}, {\"datetime\": \"2021-03-22T21:38:57\", \"case_number\": 289}, {\"datetime\": \"2021-03-24T06:15:10\", \"case_number\": 307}, {\"datetime\": \"2021-03-25T23:07:01\", \"case_number\": 321}, {\"datetime\": \"2021-03-26T18:53:18\", \"case_number\": 325}, {\"datetime\": \"2021-03-27T09:32:24\", \"case_number\": 324}, {\"datetime\": \"2021-03-28T10:21:57\", \"case_number\": 324}, {\"datetime\": \"2021-03-29T16:07:32\", \"case_number\": 325}, {\"datetime\": \"2021-03-30T22:50:46\", \"case_number\": 330}, {\"datetime\": \"2021-03-31T22:24:08\", \"case_number\": 330}, {\"datetime\": \"2021-04-01T19:17:46\", \"case_number\": 331}, {\"datetime\": \"2021-04-02T23:36:33\", \"case_number\": 338}, {\"datetime\": \"2021-04-04T15:27:32\", \"case_number\": 338}, {\"datetime\": \"2021-04-05T13:57:59\", \"case_number\": 338}, {\"datetime\": \"2021-04-06T00:27:29\", \"case_number\": 338}, {\"datetime\": \"2021-04-07T21:49:12\", \"case_number\": 341}, {\"datetime\": \"2021-04-08T21:09:00\", \"case_number\": 344}, {\"datetime\": \"2021-04-09T14:26:18\", \"case_number\": 346}, {\"datetime\": \"2021-04-14T17:40:59\", \"case_number\": 359}, {\"datetime\": \"2021-04-15T16:36:18\", \"case_number\": 360}, {\"datetime\": \"2021-04-17T16:10:14\", \"case_number\": 361}, {\"datetime\": \"2021-04-18T15:29:13\", \"case_number\": 361}]}}, {\"mode\": \"vega-lite\"});\n",
       "</script>"
      ],
      "text/plain": [
       "alt.LayerChart(...)"
      ]
     },
     "execution_count": 27,
     "metadata": {},
     "output_type": "execute_result"
    }
   ],
   "source": [
    "area_chart = (\n",
    "    alt.Chart(cases_by_day)\n",
    "    .mark_area(opacity=0.2)\n",
    "    .encode(\n",
    "        x=alt.X(\n",
    "            \"datetime\",\n",
    "            title=\"\",\n",
    "            axis=alt.Axis(format=\"%b. %-d\", tickCount=10, grid=False),\n",
    "        ),\n",
    "        y=alt.Y(\n",
    "            \"case_number\",\n",
    "            title=\" \",\n",
    "            stack=None,\n",
    "            axis=alt.Axis(\n",
    "                tickSize=0,\n",
    "                domainOpacity=0,\n",
    "                tickCount=6,\n",
    "                offset=4,\n",
    "                gridWidth=0.6,\n",
    "                gridColor=\"#dddddd\",\n",
    "            ),\n",
    "            scale=alt.Scale(domain=(100, 400)),\n",
    "        ),\n",
    "    )\n",
    ")\n",
    "\n",
    "line_chart = (\n",
    "    alt.Chart(cases_by_day)\n",
    "    .mark_line()\n",
    "    .encode(\n",
    "        x=alt.X(\n",
    "            \"datetime\",\n",
    "            title=\"\",\n",
    "            axis=alt.Axis(format=\"%b. %-d\", tickCount=10, grid=False),\n",
    "        ),\n",
    "        y=alt.Y(\n",
    "            \"case_number\",\n",
    "            title=\" \",\n",
    "            stack=None,\n",
    "            axis=alt.Axis(\n",
    "                tickSize=0,\n",
    "                domainOpacity=0,\n",
    "                tickCount=6,\n",
    "                offset=4,\n",
    "                gridWidth=0.6,\n",
    "                gridColor=\"#dddddd\",\n",
    "            ),\n",
    "            scale=alt.Scale(domain=(100, 400)),\n",
    "        ),\n",
    "    )\n",
    ")\n",
    "\n",
    "\n",
    "chart_defendants_area = (\n",
    "    (line_chart + area_chart)\n",
    "    .properties(\n",
    "        width=800,\n",
    "        height=600,\n",
    "        title=\"U.S. Capitol breach defendants, by day\",\n",
    "    )\n",
    "    .configure_view(strokeOpacity=0)\n",
    "    .configure_legend(orient=\"top\", symbolType=\"square\")\n",
    "    .configure_axis(labelFontSize=13)\n",
    ")\n",
    "\n",
    "chart_defendants_area"
   ]
  },
  {
   "cell_type": "code",
   "execution_count": 28,
   "metadata": {},
   "outputs": [],
   "source": [
    "chart_defendants_area.save(\"capitol_defendants_timeseries.png\", scale_factor=2)"
   ]
  },
  {
   "cell_type": "markdown",
   "metadata": {},
   "source": [
    "---"
   ]
  },
  {
   "cell_type": "code",
   "execution_count": 29,
   "metadata": {},
   "outputs": [
    {
     "data": {
      "text/html": [
       "<div>\n",
       "<style scoped>\n",
       "    .dataframe tbody tr th:only-of-type {\n",
       "        vertical-align: middle;\n",
       "    }\n",
       "\n",
       "    .dataframe tbody tr th {\n",
       "        vertical-align: top;\n",
       "    }\n",
       "\n",
       "    .dataframe thead th {\n",
       "        text-align: right;\n",
       "    }\n",
       "</style>\n",
       "<table border=\"1\" class=\"dataframe\">\n",
       "  <thead>\n",
       "    <tr style=\"text-align: right;\">\n",
       "      <th></th>\n",
       "      <th>case_number</th>\n",
       "      <th>name</th>\n",
       "      <th>charges</th>\n",
       "      <th>associated_documents</th>\n",
       "      <th>location_of_arrest</th>\n",
       "      <th>case_status</th>\n",
       "      <th>entry_last_updated</th>\n",
       "      <th>datetime</th>\n",
       "      <th>date</th>\n",
       "    </tr>\n",
       "  </thead>\n",
       "  <tbody>\n",
       "    <tr>\n",
       "      <th>0</th>\n",
       "      <td>1:21-mj-186</td>\n",
       "      <td>SCHWARTZ, Peter</td>\n",
       "      <td>Forcibly Assaulting, Resisting, or Impeding Certain Officers or Employees; Knowingly Entering or Remaining in any Restricted Building or Grounds Without Lawful Authority; Violent Entry and Disorderly Conduct on Capitol Grounds</td>\n",
       "      <td>Schwartz, Peter - Complaint &amp; Statement of Facts</td>\n",
       "      <td>Pennsylvania, Western District</td>\n",
       "      <td>Arrested 2/4/21 in the Western District of Pennsylvania</td>\n",
       "      <td>February 4, 2021</td>\n",
       "      <td>2021-02-04 22:22:04</td>\n",
       "      <td>2021-02-04</td>\n",
       "    </tr>\n",
       "    <tr>\n",
       "      <th>1</th>\n",
       "      <td>1:21-mj-178</td>\n",
       "      <td>GRACE, Jeffrey</td>\n",
       "      <td>Knowingly Entering or Remaining in any Restricted Building or Grounds Without Lawful Authority</td>\n",
       "      <td>Grace, Jeffrey - Complaint &amp; Statement of Facts</td>\n",
       "      <td>Oregon</td>\n",
       "      <td>Arrested 2/4/21 in Oregon</td>\n",
       "      <td>February 4, 2021</td>\n",
       "      <td>2021-02-04 22:22:04</td>\n",
       "      <td>2021-02-04</td>\n",
       "    </tr>\n",
       "    <tr>\n",
       "      <th>2</th>\n",
       "      <td>1:21-mj-179</td>\n",
       "      <td>SCHWAB, Katherine Staveley (aka, Katie)</td>\n",
       "      <td>Knowingly Entering or Remaining in any Restricted Building or Grounds Without Lawful Authority; Disorderly Conduct on Capitol Grounds</td>\n",
       "      <td>Schwab, Katherine - Complaint &amp; Statement of Facts</td>\n",
       "      <td>Texas, Northern District</td>\n",
       "      <td>Arrested 2/1/21 in the Northern District of Texas</td>\n",
       "      <td>February 4, 2021</td>\n",
       "      <td>2021-02-04 22:22:04</td>\n",
       "      <td>2021-02-04</td>\n",
       "    </tr>\n",
       "    <tr>\n",
       "      <th>3</th>\n",
       "      <td>1:21-mj-181</td>\n",
       "      <td>Hyland, Jason Lee</td>\n",
       "      <td>Knowingly Entering or Remaining in any Restricted Building or Grounds Without Lawful Authority; Disorderly Conduct on Capitol Grounds</td>\n",
       "      <td>Hyland, Jason - Complaint &amp; Statement of Facts</td>\n",
       "      <td>Texas, Eastern District</td>\n",
       "      <td>Arrested 2/2/21 in the Eastern District of Texas</td>\n",
       "      <td>February 4, 2021</td>\n",
       "      <td>2021-02-04 22:22:04</td>\n",
       "      <td>2021-02-04</td>\n",
       "    </tr>\n",
       "    <tr>\n",
       "      <th>4</th>\n",
       "      <td>1:21-cr-53</td>\n",
       "      <td>LANG, Edward Jacob</td>\n",
       "      <td>Civil Disorder; Assaulting, Resisting, or Impeding Certain Officers; Assaultin, Resisting, or Impeding Certain Officers Using a Dangerous Weapon; Obstruction of an Official Proceeding; Aiding and Abetting; Disorderly and Disruptive Conduct in a Restricted Building or Grounds with a Deadly or Dangerous Weapon; Disorderly Conduct in a Capitol Building; Act of Physical Violence in the Capitol Grounds or Buildings</td>\n",
       "      <td>Lang - Affidavit in Support  Lang - Complaint  Lang - Indictment</td>\n",
       "      <td>New York</td>\n",
       "      <td>Arrested on 1/16/21 in New York.</td>\n",
       "      <td>February 4, 2021</td>\n",
       "      <td>2021-02-04 22:22:04</td>\n",
       "      <td>2021-02-04</td>\n",
       "    </tr>\n",
       "  </tbody>\n",
       "</table>\n",
       "</div>"
      ],
      "text/plain": [
       "   case_number                                     name  \\\n",
       "0  1:21-mj-186                          SCHWARTZ, Peter   \n",
       "1  1:21-mj-178                           GRACE, Jeffrey   \n",
       "2  1:21-mj-179  SCHWAB, Katherine Staveley (aka, Katie)   \n",
       "3  1:21-mj-181                        Hyland, Jason Lee   \n",
       "4   1:21-cr-53                       LANG, Edward Jacob   \n",
       "\n",
       "                                                                                                                                                                                                                                                                                                                                                                                                                         charges  \\\n",
       "0                                                                                                                                                                                             Forcibly Assaulting, Resisting, or Impeding Certain Officers or Employees; Knowingly Entering or Remaining in any Restricted Building or Grounds Without Lawful Authority; Violent Entry and Disorderly Conduct on Capitol Grounds   \n",
       "1                                                                                                                                                                                                                                                                                                                                 Knowingly Entering or Remaining in any Restricted Building or Grounds Without Lawful Authority   \n",
       "2                                                                                                                                                                                                                                                                                          Knowingly Entering or Remaining in any Restricted Building or Grounds Without Lawful Authority; Disorderly Conduct on Capitol Grounds   \n",
       "3                                                                                                                                                                                                                                                                                          Knowingly Entering or Remaining in any Restricted Building or Grounds Without Lawful Authority; Disorderly Conduct on Capitol Grounds   \n",
       "4  Civil Disorder; Assaulting, Resisting, or Impeding Certain Officers; Assaultin, Resisting, or Impeding Certain Officers Using a Dangerous Weapon; Obstruction of an Official Proceeding; Aiding and Abetting; Disorderly and Disruptive Conduct in a Restricted Building or Grounds with a Deadly or Dangerous Weapon; Disorderly Conduct in a Capitol Building; Act of Physical Violence in the Capitol Grounds or Buildings   \n",
       "\n",
       "                                               associated_documents  \\\n",
       "0                  Schwartz, Peter - Complaint & Statement of Facts   \n",
       "1                   Grace, Jeffrey - Complaint & Statement of Facts   \n",
       "2                Schwab, Katherine - Complaint & Statement of Facts   \n",
       "3                    Hyland, Jason - Complaint & Statement of Facts   \n",
       "4  Lang - Affidavit in Support  Lang - Complaint  Lang - Indictment   \n",
       "\n",
       "               location_of_arrest  \\\n",
       "0  Pennsylvania, Western District   \n",
       "1                          Oregon   \n",
       "2        Texas, Northern District   \n",
       "3         Texas, Eastern District   \n",
       "4                        New York   \n",
       "\n",
       "                                               case_status entry_last_updated  \\\n",
       "0  Arrested 2/4/21 in the Western District of Pennsylvania   February 4, 2021   \n",
       "1                                Arrested 2/4/21 in Oregon   February 4, 2021   \n",
       "2        Arrested 2/1/21 in the Northern District of Texas   February 4, 2021   \n",
       "3         Arrested 2/2/21 in the Eastern District of Texas   February 4, 2021   \n",
       "4                         Arrested on 1/16/21 in New York.   February 4, 2021   \n",
       "\n",
       "             datetime        date  \n",
       "0 2021-02-04 22:22:04  2021-02-04  \n",
       "1 2021-02-04 22:22:04  2021-02-04  \n",
       "2 2021-02-04 22:22:04  2021-02-04  \n",
       "3 2021-02-04 22:22:04  2021-02-04  \n",
       "4 2021-02-04 22:22:04  2021-02-04  "
      ]
     },
     "execution_count": 29,
     "metadata": {},
     "output_type": "execute_result"
    }
   ],
   "source": [
    "df.head()"
   ]
  },
  {
   "cell_type": "code",
   "execution_count": 30,
   "metadata": {},
   "outputs": [
    {
     "data": {
      "text/plain": [
       "(16580, 9)"
      ]
     },
     "execution_count": 30,
     "metadata": {},
     "output_type": "execute_result"
    }
   ],
   "source": [
    "df.shape"
   ]
  },
  {
   "cell_type": "markdown",
   "metadata": {},
   "source": [
    "---"
   ]
  },
  {
   "cell_type": "markdown",
   "metadata": {},
   "source": [
    "### Parse and categorize each defendant's list of charges"
   ]
  },
  {
   "cell_type": "code",
   "execution_count": 31,
   "metadata": {},
   "outputs": [],
   "source": [
    "df[\"charges_list\"] = df[\"charges\"].str.upper().str.split(\";\")"
   ]
  },
  {
   "cell_type": "markdown",
   "metadata": {},
   "source": [
    "### Create a flat table from the one-to-many relationship between defendants and charges"
   ]
  },
  {
   "cell_type": "code",
   "execution_count": 32,
   "metadata": {},
   "outputs": [],
   "source": [
    "df_long = df.explode(\"charges_list\")"
   ]
  },
  {
   "cell_type": "code",
   "execution_count": 33,
   "metadata": {},
   "outputs": [],
   "source": [
    "charges_by_day = df_long.groupby([\"date\"]).agg({\"charges_list\": \"count\"}).reset_index()"
   ]
  },
  {
   "cell_type": "markdown",
   "metadata": {},
   "source": [
    "### Charge strings and categories"
   ]
  },
  {
   "cell_type": "code",
   "execution_count": 34,
   "metadata": {},
   "outputs": [],
   "source": [
    "data_list = {\n",
    "    \"charge\": [\n",
    "        \"INTERSTATE\",\n",
    "        \"VIOLENCE\",\n",
    "        \"PARADING, DEMONSTRATING, OR PICKETING\",\n",
    "        \"PARADE, DEMONSTRATE, OR PICKET\",\n",
    "        \"ENTERING\",\n",
    "        \"DISORDERLY CONDUCT\",\n",
    "        \"DISORDERLY AND DISRUPTIVE CONDUCT\",\n",
    "        \"OBSTRUCTION OF AN OFFICIAL\",\n",
    "        \"CIVIL DISORDER\",\n",
    "        \"OBSTRUCTION OF AN OFFICIAL\",\n",
    "        \"KNOWINGLY ENTERING OR REMAINING\",\n",
    "        \"VIOLENT ENTRY\",\n",
    "        \"DISORDERLY AND DISRUPTIVE CONDUCT\",\n",
    "        \"REMAINING IN A RESTRICTED BUILDING\",\n",
    "        \"VIOLENT ENTRY\",\n",
    "        \"AIDING AND ABETTING\",\n",
    "        \"PHYSICAL VIOLENCE\",\n",
    "        \"CONSPIRACY\",\n",
    "        \"ASSAULTING, RESISTING, OR IMPEDING\",\n",
    "        \"RESTRICTED BUILDING OR GROUNDS\",\n",
    "        \"ENTERING AND REMAINING IN A RESTRICTED BUILDING OR GROUNDS WITH A DEADLY OR DANGEROUS WEAPON\",\n",
    "        \"ASSAULTING, RESISTING, OR IMPEDING CERTAIN OFFICERS USING A DANGEROUS WEAPON\",\n",
    "        \"IMPEDING PASSAGE THROUGH THE CAPITOL GROUNDS OR BUILDINGS\",\n",
    "        \"TAMPERING\",\n",
    "        \"THEFT\",\n",
    "        \"OBSTRUCTION\",\n",
    "        \"DESTRUCTION\",\n",
    "        \"DEMONSTRATING\",\n",
    "        \"DISRUPTIVE CONDUCT\",\n",
    "        \"PROPERTY\",\n",
    "        \"ASSAULTING\",\n",
    "        \"UNLAWFUL ENTRY\",\n",
    "        \"IMPEDING\",\n",
    "        \"PISTOL\",\n",
    "        \"FIREARM\",\n",
    "        \"OBSTRUCTING\",\n",
    "        \"UNLAWFUL ACTIVITIES ON CAPITOL GROUNDS\",\n",
    "        \"INTERFERED WITH A FEDERAL AGENT\",\n",
    "        \"UNLAWFUL POSSESSION\",\n",
    "        \"BODILY INJURY\",\n",
    "        \"THREATENING A FEDERAL OFFICER\",\n",
    "        \"ASSAULT\",\n",
    "        \"PARADING\",\n",
    "        \"DISORDERLLY CONDUCT\",\n",
    "        \"DI$ORDERLY CONDUCT\",\n",
    "        \"OBSTRUCT, IMPEDE, OR INTERFERE\",\n",
    "        \"DISRUPTING THE ORDERLY CONDUCT\",\n",
    "        \"AMMUNITION\",\n",
    "        \"DI$ORDERLY\",\n",
    "        \"DISORDELRY CONDUCT\",\n",
    "        \"OFFICIAL PROCEEDING\",\n",
    "        \"AIDING AND AIDING\",\n",
    "    ],\n",
    "    \"category\": [\n",
    "        \"Other\",\n",
    "        \"Violent entry\",\n",
    "        \"Demonstrating in the Capitol\",\n",
    "        \"Demonstrating in the Capitol\",\n",
    "        \"Entering restricted area\",\n",
    "        \"Disruptive/disorderly\",\n",
    "        \"Disruptive/disorderly\",\n",
    "        \"Obstructing a proceeding\",\n",
    "        \"Disruptive/disorderly\",\n",
    "        \"Obstructing a proceeding\",\n",
    "        \"Entering restricted area\",\n",
    "        \"Violent entry\",\n",
    "        \"Disruptive/disorderly\",\n",
    "        \"Entering restricted area\",\n",
    "        \"Violent entry\",\n",
    "        \"Aiding and abetting\",\n",
    "        \"Physical violence\",\n",
    "        \"Conspiracy\",\n",
    "        \"Assaulting/resisting/impeding\",\n",
    "        \"Entering restricted area\",\n",
    "        \"Weapons charge\",\n",
    "        \"Assault/resist/impede officer\",\n",
    "        \"Impeding passage in the Capitol\",\n",
    "        \"Tampering\",\n",
    "        \"Theft\",\n",
    "        \"Obstructing a proceeding\",\n",
    "        \"Destroying property\",\n",
    "        \"Demonstrating in the Capitol\",\n",
    "        \"Disruptive/disorderly\",\n",
    "        \"Property damage\",\n",
    "        \"Assault/resist/impede officer\",\n",
    "        \"Entering restricted area\",\n",
    "        \"Assault/resist/impede officer\",\n",
    "        \"Weapons charge\",\n",
    "        \"Weapons charge\",\n",
    "        \"Obstructing a proceeding\",\n",
    "        \"Unlawful activities\",\n",
    "        \"Assault/resist/impede officer\",\n",
    "        \"Weapons charge\",\n",
    "        \"Assault/resist/impede officer\",\n",
    "        \"Assault/resist/impede officer\",\n",
    "        \"Assault/resist/impede officer\",\n",
    "        \"Demonstrating in the Capitol\",\n",
    "        \"Disruptive/disorderly\",\n",
    "        \"Disruptive/disorderly\",\n",
    "        \"Assault/resist/impede officer\",\n",
    "        \"Disruptive/disorderly\",\n",
    "        \"Weapons charge\",\n",
    "        \"Disruptive/disorderly\",\n",
    "        \"Disruptive/disorderly\",\n",
    "        \"Obstructing a proceeding\",\n",
    "        \"Aiding and abetting\",\n",
    "    ],\n",
    "}"
   ]
  },
  {
   "cell_type": "markdown",
   "metadata": {},
   "source": [
    "### Loop and assign categories"
   ]
  },
  {
   "cell_type": "code",
   "execution_count": 35,
   "metadata": {},
   "outputs": [],
   "source": [
    "for charge, category in zip(data_list[\"charge\"], data_list[\"category\"]):\n",
    "    df_long.loc[\n",
    "        df_long[\"charges_list\"].fillna(\"\").str.contains(f\"{charge}\", case=False),\n",
    "        \"category\",\n",
    "    ] = f\"{category}\""
   ]
  },
  {
   "cell_type": "code",
   "execution_count": 36,
   "metadata": {},
   "outputs": [
    {
     "data": {
      "text/html": [
       "<div>\n",
       "<style scoped>\n",
       "    .dataframe tbody tr th:only-of-type {\n",
       "        vertical-align: middle;\n",
       "    }\n",
       "\n",
       "    .dataframe tbody tr th {\n",
       "        vertical-align: top;\n",
       "    }\n",
       "\n",
       "    .dataframe thead th {\n",
       "        text-align: right;\n",
       "    }\n",
       "</style>\n",
       "<table border=\"1\" class=\"dataframe\">\n",
       "  <thead>\n",
       "    <tr style=\"text-align: right;\">\n",
       "      <th></th>\n",
       "      <th>case_number</th>\n",
       "      <th>name</th>\n",
       "      <th>charges</th>\n",
       "      <th>associated_documents</th>\n",
       "      <th>location_of_arrest</th>\n",
       "      <th>case_status</th>\n",
       "      <th>entry_last_updated</th>\n",
       "      <th>datetime</th>\n",
       "      <th>date</th>\n",
       "      <th>charges_list</th>\n",
       "      <th>category</th>\n",
       "    </tr>\n",
       "  </thead>\n",
       "  <tbody>\n",
       "    <tr>\n",
       "      <th>0</th>\n",
       "      <td>1:21-mj-186</td>\n",
       "      <td>SCHWARTZ, Peter</td>\n",
       "      <td>Forcibly Assaulting, Resisting, or Impeding Certain Officers or Employees; Knowingly Entering or Remaining in any Restricted Building or Grounds Without Lawful Authority; Violent Entry and Disorderly Conduct on Capitol Grounds</td>\n",
       "      <td>Schwartz, Peter - Complaint &amp; Statement of Facts</td>\n",
       "      <td>Pennsylvania, Western District</td>\n",
       "      <td>Arrested 2/4/21 in the Western District of Pennsylvania</td>\n",
       "      <td>February 4, 2021</td>\n",
       "      <td>2021-02-04 22:22:04</td>\n",
       "      <td>2021-02-04</td>\n",
       "      <td>FORCIBLY ASSAULTING, RESISTING, OR IMPEDING CERTAIN OFFICERS OR EMPLOYEES</td>\n",
       "      <td>Assault/resist/impede officer</td>\n",
       "    </tr>\n",
       "    <tr>\n",
       "      <th>0</th>\n",
       "      <td>1:21-mj-186</td>\n",
       "      <td>SCHWARTZ, Peter</td>\n",
       "      <td>Forcibly Assaulting, Resisting, or Impeding Certain Officers or Employees; Knowingly Entering or Remaining in any Restricted Building or Grounds Without Lawful Authority; Violent Entry and Disorderly Conduct on Capitol Grounds</td>\n",
       "      <td>Schwartz, Peter - Complaint &amp; Statement of Facts</td>\n",
       "      <td>Pennsylvania, Western District</td>\n",
       "      <td>Arrested 2/4/21 in the Western District of Pennsylvania</td>\n",
       "      <td>February 4, 2021</td>\n",
       "      <td>2021-02-04 22:22:04</td>\n",
       "      <td>2021-02-04</td>\n",
       "      <td>KNOWINGLY ENTERING OR REMAINING IN ANY RESTRICTED BUILDING OR GROUNDS WITHOUT LAWFUL AUTHORITY</td>\n",
       "      <td>Entering restricted area</td>\n",
       "    </tr>\n",
       "    <tr>\n",
       "      <th>0</th>\n",
       "      <td>1:21-mj-186</td>\n",
       "      <td>SCHWARTZ, Peter</td>\n",
       "      <td>Forcibly Assaulting, Resisting, or Impeding Certain Officers or Employees; Knowingly Entering or Remaining in any Restricted Building or Grounds Without Lawful Authority; Violent Entry and Disorderly Conduct on Capitol Grounds</td>\n",
       "      <td>Schwartz, Peter - Complaint &amp; Statement of Facts</td>\n",
       "      <td>Pennsylvania, Western District</td>\n",
       "      <td>Arrested 2/4/21 in the Western District of Pennsylvania</td>\n",
       "      <td>February 4, 2021</td>\n",
       "      <td>2021-02-04 22:22:04</td>\n",
       "      <td>2021-02-04</td>\n",
       "      <td>VIOLENT ENTRY AND DISORDERLY CONDUCT ON CAPITOL GROUNDS</td>\n",
       "      <td>Violent entry</td>\n",
       "    </tr>\n",
       "    <tr>\n",
       "      <th>1</th>\n",
       "      <td>1:21-mj-178</td>\n",
       "      <td>GRACE, Jeffrey</td>\n",
       "      <td>Knowingly Entering or Remaining in any Restricted Building or Grounds Without Lawful Authority</td>\n",
       "      <td>Grace, Jeffrey - Complaint &amp; Statement of Facts</td>\n",
       "      <td>Oregon</td>\n",
       "      <td>Arrested 2/4/21 in Oregon</td>\n",
       "      <td>February 4, 2021</td>\n",
       "      <td>2021-02-04 22:22:04</td>\n",
       "      <td>2021-02-04</td>\n",
       "      <td>KNOWINGLY ENTERING OR REMAINING IN ANY RESTRICTED BUILDING OR GROUNDS WITHOUT LAWFUL AUTHORITY</td>\n",
       "      <td>Entering restricted area</td>\n",
       "    </tr>\n",
       "    <tr>\n",
       "      <th>2</th>\n",
       "      <td>1:21-mj-179</td>\n",
       "      <td>SCHWAB, Katherine Staveley (aka, Katie)</td>\n",
       "      <td>Knowingly Entering or Remaining in any Restricted Building or Grounds Without Lawful Authority; Disorderly Conduct on Capitol Grounds</td>\n",
       "      <td>Schwab, Katherine - Complaint &amp; Statement of Facts</td>\n",
       "      <td>Texas, Northern District</td>\n",
       "      <td>Arrested 2/1/21 in the Northern District of Texas</td>\n",
       "      <td>February 4, 2021</td>\n",
       "      <td>2021-02-04 22:22:04</td>\n",
       "      <td>2021-02-04</td>\n",
       "      <td>KNOWINGLY ENTERING OR REMAINING IN ANY RESTRICTED BUILDING OR GROUNDS WITHOUT LAWFUL AUTHORITY</td>\n",
       "      <td>Entering restricted area</td>\n",
       "    </tr>\n",
       "  </tbody>\n",
       "</table>\n",
       "</div>"
      ],
      "text/plain": [
       "   case_number                                     name  \\\n",
       "0  1:21-mj-186                          SCHWARTZ, Peter   \n",
       "0  1:21-mj-186                          SCHWARTZ, Peter   \n",
       "0  1:21-mj-186                          SCHWARTZ, Peter   \n",
       "1  1:21-mj-178                           GRACE, Jeffrey   \n",
       "2  1:21-mj-179  SCHWAB, Katherine Staveley (aka, Katie)   \n",
       "\n",
       "                                                                                                                                                                                                                              charges  \\\n",
       "0  Forcibly Assaulting, Resisting, or Impeding Certain Officers or Employees; Knowingly Entering or Remaining in any Restricted Building or Grounds Without Lawful Authority; Violent Entry and Disorderly Conduct on Capitol Grounds   \n",
       "0  Forcibly Assaulting, Resisting, or Impeding Certain Officers or Employees; Knowingly Entering or Remaining in any Restricted Building or Grounds Without Lawful Authority; Violent Entry and Disorderly Conduct on Capitol Grounds   \n",
       "0  Forcibly Assaulting, Resisting, or Impeding Certain Officers or Employees; Knowingly Entering or Remaining in any Restricted Building or Grounds Without Lawful Authority; Violent Entry and Disorderly Conduct on Capitol Grounds   \n",
       "1                                                                                                                                      Knowingly Entering or Remaining in any Restricted Building or Grounds Without Lawful Authority   \n",
       "2                                                                                               Knowingly Entering or Remaining in any Restricted Building or Grounds Without Lawful Authority; Disorderly Conduct on Capitol Grounds   \n",
       "\n",
       "                                 associated_documents  \\\n",
       "0    Schwartz, Peter - Complaint & Statement of Facts   \n",
       "0    Schwartz, Peter - Complaint & Statement of Facts   \n",
       "0    Schwartz, Peter - Complaint & Statement of Facts   \n",
       "1     Grace, Jeffrey - Complaint & Statement of Facts   \n",
       "2  Schwab, Katherine - Complaint & Statement of Facts   \n",
       "\n",
       "               location_of_arrest  \\\n",
       "0  Pennsylvania, Western District   \n",
       "0  Pennsylvania, Western District   \n",
       "0  Pennsylvania, Western District   \n",
       "1                          Oregon   \n",
       "2        Texas, Northern District   \n",
       "\n",
       "                                               case_status entry_last_updated  \\\n",
       "0  Arrested 2/4/21 in the Western District of Pennsylvania   February 4, 2021   \n",
       "0  Arrested 2/4/21 in the Western District of Pennsylvania   February 4, 2021   \n",
       "0  Arrested 2/4/21 in the Western District of Pennsylvania   February 4, 2021   \n",
       "1                                Arrested 2/4/21 in Oregon   February 4, 2021   \n",
       "2        Arrested 2/1/21 in the Northern District of Texas   February 4, 2021   \n",
       "\n",
       "             datetime        date  \\\n",
       "0 2021-02-04 22:22:04  2021-02-04   \n",
       "0 2021-02-04 22:22:04  2021-02-04   \n",
       "0 2021-02-04 22:22:04  2021-02-04   \n",
       "1 2021-02-04 22:22:04  2021-02-04   \n",
       "2 2021-02-04 22:22:04  2021-02-04   \n",
       "\n",
       "                                                                                      charges_list  \\\n",
       "0                        FORCIBLY ASSAULTING, RESISTING, OR IMPEDING CERTAIN OFFICERS OR EMPLOYEES   \n",
       "0   KNOWINGLY ENTERING OR REMAINING IN ANY RESTRICTED BUILDING OR GROUNDS WITHOUT LAWFUL AUTHORITY   \n",
       "0                                          VIOLENT ENTRY AND DISORDERLY CONDUCT ON CAPITOL GROUNDS   \n",
       "1   KNOWINGLY ENTERING OR REMAINING IN ANY RESTRICTED BUILDING OR GROUNDS WITHOUT LAWFUL AUTHORITY   \n",
       "2   KNOWINGLY ENTERING OR REMAINING IN ANY RESTRICTED BUILDING OR GROUNDS WITHOUT LAWFUL AUTHORITY   \n",
       "\n",
       "                        category  \n",
       "0  Assault/resist/impede officer  \n",
       "0       Entering restricted area  \n",
       "0                  Violent entry  \n",
       "1       Entering restricted area  \n",
       "2       Entering restricted area  "
      ]
     },
     "execution_count": 36,
     "metadata": {},
     "output_type": "execute_result"
    }
   ],
   "source": [
    "df_long.head()"
   ]
  },
  {
   "cell_type": "markdown",
   "metadata": {},
   "source": [
    "--- "
   ]
  },
  {
   "cell_type": "markdown",
   "metadata": {},
   "source": [
    "### Chart the number of charges over time"
   ]
  },
  {
   "cell_type": "code",
   "execution_count": 37,
   "metadata": {},
   "outputs": [],
   "source": [
    "charges_by_day.date = pd.to_datetime(charges_by_day.date)"
   ]
  },
  {
   "cell_type": "code",
   "execution_count": 38,
   "metadata": {},
   "outputs": [
    {
     "data": {
      "text/plain": [
       "date            datetime64[ns]\n",
       "charges_list             int64\n",
       "dtype: object"
      ]
     },
     "execution_count": 38,
     "metadata": {},
     "output_type": "execute_result"
    }
   ],
   "source": [
    "charges_by_day.dtypes"
   ]
  },
  {
   "cell_type": "code",
   "execution_count": 39,
   "metadata": {},
   "outputs": [
    {
     "data": {
      "text/html": [
       "\n",
       "<div id=\"altair-viz-1a347c8c997b448eb15282081bdfc8eb\"></div>\n",
       "<script type=\"text/javascript\">\n",
       "  (function(spec, embedOpt){\n",
       "    const outputDiv = document.getElementById(\"altair-viz-1a347c8c997b448eb15282081bdfc8eb\");\n",
       "    const paths = {\n",
       "      \"vega\": \"https://cdn.jsdelivr.net/npm//vega@5?noext\",\n",
       "      \"vega-lib\": \"https://cdn.jsdelivr.net/npm//vega-lib?noext\",\n",
       "      \"vega-lite\": \"https://cdn.jsdelivr.net/npm//vega-lite@4.0.2?noext\",\n",
       "      \"vega-embed\": \"https://cdn.jsdelivr.net/npm//vega-embed@6?noext\",\n",
       "    };\n",
       "\n",
       "    function loadScript(lib) {\n",
       "      return new Promise(function(resolve, reject) {\n",
       "        var s = document.createElement('script');\n",
       "        s.src = paths[lib];\n",
       "        s.async = true;\n",
       "        s.onload = () => resolve(paths[lib]);\n",
       "        s.onerror = () => reject(`Error loading script: ${paths[lib]}`);\n",
       "        document.getElementsByTagName(\"head\")[0].appendChild(s);\n",
       "      });\n",
       "    }\n",
       "\n",
       "    function showError(err) {\n",
       "      outputDiv.innerHTML = `<div class=\"error\" style=\"color:red;\">${err}</div>`;\n",
       "      throw err;\n",
       "    }\n",
       "\n",
       "    function displayChart(vegaEmbed) {\n",
       "      vegaEmbed(outputDiv, spec, embedOpt)\n",
       "        .catch(err => showError(`Javascript Error: ${err.message}<br>This usually means there's a typo in your chart specification. See the javascript console for the full traceback.`));\n",
       "    }\n",
       "\n",
       "    if(typeof define === \"function\" && define.amd) {\n",
       "      requirejs.config({paths});\n",
       "      require([\"vega-embed\"], displayChart, err => showError(`Error loading script: ${err.message}`));\n",
       "    } else if (typeof vegaEmbed === \"function\") {\n",
       "      displayChart(vegaEmbed);\n",
       "    } else {\n",
       "      loadScript(\"vega\")\n",
       "        .then(() => loadScript(\"vega-lite\"))\n",
       "        .then(() => loadScript(\"vega-embed\"))\n",
       "        .catch(showError)\n",
       "        .then(() => displayChart(vegaEmbed));\n",
       "    }\n",
       "  })({\"config\": {\"view\": {\"width\": 800, \"height\": 450, \"strokeOpacity\": 0}, \"background\": \"#ffffff\", \"title\": {\"anchor\": \"start\", \"font\": \"Benton Gothic Bold, sans\", \"fontColor\": \"#000000\", \"fontSize\": 22, \"fontWeight\": \"normal\"}, \"arc\": {\"fill\": \"#82c6df\"}, \"area\": {\"fill\": \"#82c6df\"}, \"line\": {\"stroke\": \"#82c6df\", \"strokeWidth\": 3}, \"path\": {\"stroke\": \"#82c6df\"}, \"rect\": {\"fill\": \"#82c6df\"}, \"shape\": {\"stroke\": \"#82c6df\"}, \"bar\": {\"fill\": \"#82c6df\"}, \"point\": {\"stroke\": \"#82c6df\"}, \"symbol\": {\"fill\": \"#82c6df\", \"size\": 30}, \"axis\": {\"titleFont\": \"Benton Gothic Bold, sans\", \"titleFontSize\": 13, \"titleFontWeight\": \"normal\", \"labelFont\": \"Benton Gothic, sans\", \"labelFontSize\": 13, \"labelFontWeight\": \"normal\"}, \"axisX\": {\"labelAngle\": 0, \"labelPadding\": 4, \"tickSize\": 3}, \"axisY\": {\"labelBaseline\": \"middle\", \"maxExtent\": 45, \"minExtent\": 45, \"tickSize\": 2, \"titleAlign\": \"left\", \"titleAngle\": 0, \"titleX\": -45, \"titleY\": -11}, \"legend\": {\"titleFont\": \"Benton Gothic Bold, sans\", \"titleFontSize\": 13, \"titleFontWeight\": \"normal\", \"symbolType\": \"square\", \"labelFont\": \"Benton Gothic, sans\", \"labelFontSize\": 11.5, \"orient\": \"top\"}, \"range\": {\"category\": [\"#3580b1\", \"#ec8431\", \"#ab7fb4\", \"#c89d29\", \"#adc839\", \"#829eb1\"], \"diverging\": [\"#e68a4f\", \"#f4bb6a\", \"#f9e39c\", \"#dadfe2\", \"#a6b7c6\", \"#849eae\"], \"heatmap\": [\"#fbf2c7\", \"#f9e39c\", \"#f8d36e\", \"#f4bb6a\", \"#e68a4f\", \"#d15a40\", \"#ab4232\"], \"ordinal\": [\"#fbf2c7\", \"#f9e39c\", \"#f8d36e\", \"#f4bb6a\", \"#e68a4f\", \"#d15a40\", \"#ab4232\"], \"ramp\": [\"#fbf2c7\", \"#f9e39c\", \"#f8d36e\", \"#f4bb6a\", \"#e68a4f\", \"#d15a40\", \"#ab4232\"]}}, \"layer\": [{\"mark\": \"line\", \"encoding\": {\"x\": {\"type\": \"temporal\", \"axis\": {\"format\": \"%b. %-d\", \"grid\": false, \"tickCount\": 10}, \"field\": \"date\", \"title\": \"\"}, \"y\": {\"type\": \"quantitative\", \"axis\": {\"domainOpacity\": 0, \"gridColor\": \"#dddddd\", \"gridWidth\": 0.6, \"offset\": 4, \"tickCount\": 6, \"tickSize\": 0}, \"field\": \"charges_list\", \"scale\": {\"domain\": [100, 1600]}, \"stack\": null, \"title\": \" \"}}}, {\"mark\": {\"type\": \"area\", \"opacity\": 0.2}, \"encoding\": {\"x\": {\"type\": \"temporal\", \"axis\": {\"format\": \"%b. %-d\", \"grid\": false, \"tickCount\": 10}, \"field\": \"date\", \"title\": \"\"}, \"y\": {\"type\": \"quantitative\", \"axis\": {\"domainOpacity\": 0, \"gridColor\": \"#dddddd\", \"gridWidth\": 0.6, \"offset\": 4, \"tickCount\": 6, \"tickSize\": 0}, \"field\": \"charges_list\", \"scale\": {\"domain\": [100, 400]}, \"stack\": null, \"title\": \" \"}}}], \"data\": {\"name\": \"data-78ab7b3618dc01a7bdd8da5f8f6da677\"}, \"height\": 600, \"title\": \"U.S. Capitol breach defendants, by day\", \"width\": 800, \"$schema\": \"https://vega.github.io/schema/vega-lite/v4.0.2.json\", \"datasets\": {\"data-78ab7b3618dc01a7bdd8da5f8f6da677\": [{\"date\": \"2021-02-04T00:00:00\", \"charges_list\": 531}, {\"date\": \"2021-02-05T00:00:00\", \"charges_list\": 565}, {\"date\": \"2021-02-06T00:00:00\", \"charges_list\": 566}, {\"date\": \"2021-02-07T00:00:00\", \"charges_list\": 566}, {\"date\": \"2021-02-08T00:00:00\", \"charges_list\": 566}, {\"date\": \"2021-02-09T00:00:00\", \"charges_list\": 599}, {\"date\": \"2021-02-10T00:00:00\", \"charges_list\": 659}, {\"date\": \"2021-02-11T00:00:00\", \"charges_list\": 693}, {\"date\": \"2021-02-12T00:00:00\", \"charges_list\": 709}, {\"date\": \"2021-02-13T00:00:00\", \"charges_list\": 709}, {\"date\": \"2021-02-14T00:00:00\", \"charges_list\": 709}, {\"date\": \"2021-02-15T00:00:00\", \"charges_list\": 709}, {\"date\": \"2021-02-16T00:00:00\", \"charges_list\": 734}, {\"date\": \"2021-02-17T00:00:00\", \"charges_list\": 734}, {\"date\": \"2021-02-18T00:00:00\", \"charges_list\": 735}, {\"date\": \"2021-02-19T00:00:00\", \"charges_list\": 764}, {\"date\": \"2021-02-20T00:00:00\", \"charges_list\": 764}, {\"date\": \"2021-02-21T00:00:00\", \"charges_list\": 764}, {\"date\": \"2021-02-22T00:00:00\", \"charges_list\": 764}, {\"date\": \"2021-02-23T00:00:00\", \"charges_list\": 769}, {\"date\": \"2021-02-24T00:00:00\", \"charges_list\": 769}, {\"date\": \"2021-02-25T00:00:00\", \"charges_list\": 769}, {\"date\": \"2021-02-26T00:00:00\", \"charges_list\": 769}, {\"date\": \"2021-02-27T00:00:00\", \"charges_list\": 791}, {\"date\": \"2021-02-28T00:00:00\", \"charges_list\": 802}, {\"date\": \"2021-03-01T00:00:00\", \"charges_list\": 991}, {\"date\": \"2021-03-02T00:00:00\", \"charges_list\": 991}, {\"date\": \"2021-03-03T00:00:00\", \"charges_list\": 991}, {\"date\": \"2021-03-04T00:00:00\", \"charges_list\": 991}, {\"date\": \"2021-03-05T00:00:00\", \"charges_list\": 991}, {\"date\": \"2021-03-08T00:00:00\", \"charges_list\": 996}, {\"date\": \"2021-03-09T00:00:00\", \"charges_list\": 999}, {\"date\": \"2021-03-10T00:00:00\", \"charges_list\": 1003}, {\"date\": \"2021-03-11T00:00:00\", \"charges_list\": 1003}, {\"date\": \"2021-03-12T00:00:00\", \"charges_list\": 1003}, {\"date\": \"2021-03-13T00:00:00\", \"charges_list\": 1003}, {\"date\": \"2021-03-14T00:00:00\", \"charges_list\": 1003}, {\"date\": \"2021-03-15T00:00:00\", \"charges_list\": 1008}, {\"date\": \"2021-03-16T00:00:00\", \"charges_list\": 1013}, {\"date\": \"2021-03-17T00:00:00\", \"charges_list\": 1013}, {\"date\": \"2021-03-18T00:00:00\", \"charges_list\": 1013}, {\"date\": \"2021-03-19T00:00:00\", \"charges_list\": 1179}, {\"date\": \"2021-03-20T00:00:00\", \"charges_list\": 1183}, {\"date\": \"2021-03-21T00:00:00\", \"charges_list\": 1183}, {\"date\": \"2021-03-22T00:00:00\", \"charges_list\": 1328}, {\"date\": \"2021-03-24T00:00:00\", \"charges_list\": 1407}, {\"date\": \"2021-03-25T00:00:00\", \"charges_list\": 1497}, {\"date\": \"2021-03-26T00:00:00\", \"charges_list\": 1513}, {\"date\": \"2021-03-27T00:00:00\", \"charges_list\": 1509}, {\"date\": \"2021-03-28T00:00:00\", \"charges_list\": 1509}, {\"date\": \"2021-03-29T00:00:00\", \"charges_list\": 1510}, {\"date\": \"2021-03-30T00:00:00\", \"charges_list\": 1528}, {\"date\": \"2021-03-31T00:00:00\", \"charges_list\": 1528}, {\"date\": \"2021-04-01T00:00:00\", \"charges_list\": 1535}, {\"date\": \"2021-04-02T00:00:00\", \"charges_list\": 1542}, {\"date\": \"2021-04-04T00:00:00\", \"charges_list\": 1542}, {\"date\": \"2021-04-05T00:00:00\", \"charges_list\": 1542}, {\"date\": \"2021-04-06T00:00:00\", \"charges_list\": 1549}, {\"date\": \"2021-04-07T00:00:00\", \"charges_list\": 1571}, {\"date\": \"2021-04-08T00:00:00\", \"charges_list\": 1576}, {\"date\": \"2021-04-09T00:00:00\", \"charges_list\": 1578}, {\"date\": \"2021-04-14T00:00:00\", \"charges_list\": 1607}, {\"date\": \"2021-04-15T00:00:00\", \"charges_list\": 1608}, {\"date\": \"2021-04-17T00:00:00\", \"charges_list\": 1615}, {\"date\": \"2021-04-18T00:00:00\", \"charges_list\": 1615}]}}, {\"mode\": \"vega-lite\"});\n",
       "</script>"
      ],
      "text/plain": [
       "alt.LayerChart(...)"
      ]
     },
     "execution_count": 39,
     "metadata": {},
     "output_type": "execute_result"
    }
   ],
   "source": [
    "area_chart = (\n",
    "    alt.Chart(charges_by_day)\n",
    "    .mark_area(opacity=0.2)\n",
    "    .encode(\n",
    "        x=alt.X(\n",
    "            \"date:T\",\n",
    "            title=\"\",\n",
    "            axis=alt.Axis(format=\"%b. %-d\", tickCount=10, grid=False),\n",
    "        ),\n",
    "        y=alt.Y(\n",
    "            \"charges_list:Q\",\n",
    "            title=\" \",\n",
    "            stack=None,\n",
    "            axis=alt.Axis(\n",
    "                tickSize=0,\n",
    "                domainOpacity=0,\n",
    "                tickCount=6,\n",
    "                offset=4,\n",
    "                gridWidth=0.6,\n",
    "                gridColor=\"#dddddd\",\n",
    "            ),\n",
    "            scale=alt.Scale(domain=(100, 400)),\n",
    "        ),\n",
    "    )\n",
    ")\n",
    "\n",
    "line_chart = (\n",
    "    alt.Chart(charges_by_day)\n",
    "    .mark_line()\n",
    "    .encode(\n",
    "        x=alt.X(\n",
    "            \"date:T\",\n",
    "            title=\"\",\n",
    "            axis=alt.Axis(format=\"%b. %-d\", tickCount=10, grid=False),\n",
    "        ),\n",
    "        y=alt.Y(\n",
    "            \"charges_list:Q\",\n",
    "            title=\" \",\n",
    "            stack=None,\n",
    "            axis=alt.Axis(\n",
    "                tickSize=0,\n",
    "                domainOpacity=0,\n",
    "                tickCount=6,\n",
    "                offset=4,\n",
    "                gridWidth=0.6,\n",
    "                gridColor=\"#dddddd\",\n",
    "            ),\n",
    "            scale=alt.Scale(domain=(100, 1600)),\n",
    "        ),\n",
    "    )\n",
    ")\n",
    "\n",
    "\n",
    "chart_charges_area = (\n",
    "    (line_chart + area_chart)\n",
    "    .properties(\n",
    "        width=800,\n",
    "        height=600,\n",
    "        title=\"U.S. Capitol breach defendants, by day\",\n",
    "    )\n",
    "    .configure_view(strokeOpacity=0)\n",
    "    .configure_legend(orient=\"top\", symbolType=\"square\")\n",
    "    .configure_axis(labelFontSize=13)\n",
    ")\n",
    "\n",
    "chart_charges_area"
   ]
  },
  {
   "cell_type": "code",
   "execution_count": 40,
   "metadata": {},
   "outputs": [],
   "source": [
    "chart_charges_area.save(\"capitol_charges_timeseries.png\", scale_factor=2)"
   ]
  },
  {
   "cell_type": "markdown",
   "metadata": {},
   "source": [
    "### Group charge categories by day"
   ]
  },
  {
   "cell_type": "code",
   "execution_count": 41,
   "metadata": {},
   "outputs": [],
   "source": [
    "categories_by_day = (\n",
    "    df_long.groupby([\"date\", \"category\"]).agg({\"name\": \"count\"}).reset_index()\n",
    ")"
   ]
  },
  {
   "cell_type": "code",
   "execution_count": 42,
   "metadata": {},
   "outputs": [],
   "source": [
    "categories = (\n",
    "    df_long[df_long[\"date\"] == df_long[\"date\"].max()]\n",
    "    .groupby([\"category\"])\n",
    "    .agg({\"name\": \"count\"})\n",
    "    .reset_index()\n",
    ").sort_values(\"name\", ascending=False)"
   ]
  },
  {
   "cell_type": "markdown",
   "metadata": {},
   "source": [
    "### Bar chart of most-recent count of charges by category"
   ]
  },
  {
   "cell_type": "code",
   "execution_count": 44,
   "metadata": {},
   "outputs": [
    {
     "data": {
      "text/html": [
       "\n",
       "<div id=\"altair-viz-7970cbabcc634f2587a9ba905212c408\"></div>\n",
       "<script type=\"text/javascript\">\n",
       "  (function(spec, embedOpt){\n",
       "    const outputDiv = document.getElementById(\"altair-viz-7970cbabcc634f2587a9ba905212c408\");\n",
       "    const paths = {\n",
       "      \"vega\": \"https://cdn.jsdelivr.net/npm//vega@5?noext\",\n",
       "      \"vega-lib\": \"https://cdn.jsdelivr.net/npm//vega-lib?noext\",\n",
       "      \"vega-lite\": \"https://cdn.jsdelivr.net/npm//vega-lite@4.0.2?noext\",\n",
       "      \"vega-embed\": \"https://cdn.jsdelivr.net/npm//vega-embed@6?noext\",\n",
       "    };\n",
       "\n",
       "    function loadScript(lib) {\n",
       "      return new Promise(function(resolve, reject) {\n",
       "        var s = document.createElement('script');\n",
       "        s.src = paths[lib];\n",
       "        s.async = true;\n",
       "        s.onload = () => resolve(paths[lib]);\n",
       "        s.onerror = () => reject(`Error loading script: ${paths[lib]}`);\n",
       "        document.getElementsByTagName(\"head\")[0].appendChild(s);\n",
       "      });\n",
       "    }\n",
       "\n",
       "    function showError(err) {\n",
       "      outputDiv.innerHTML = `<div class=\"error\" style=\"color:red;\">${err}</div>`;\n",
       "      throw err;\n",
       "    }\n",
       "\n",
       "    function displayChart(vegaEmbed) {\n",
       "      vegaEmbed(outputDiv, spec, embedOpt)\n",
       "        .catch(err => showError(`Javascript Error: ${err.message}<br>This usually means there's a typo in your chart specification. See the javascript console for the full traceback.`));\n",
       "    }\n",
       "\n",
       "    if(typeof define === \"function\" && define.amd) {\n",
       "      requirejs.config({paths});\n",
       "      require([\"vega-embed\"], displayChart, err => showError(`Error loading script: ${err.message}`));\n",
       "    } else if (typeof vegaEmbed === \"function\") {\n",
       "      displayChart(vegaEmbed);\n",
       "    } else {\n",
       "      loadScript(\"vega\")\n",
       "        .then(() => loadScript(\"vega-lite\"))\n",
       "        .then(() => loadScript(\"vega-embed\"))\n",
       "        .catch(showError)\n",
       "        .then(() => displayChart(vegaEmbed));\n",
       "    }\n",
       "  })({\"config\": {\"view\": {\"width\": 800, \"height\": 450, \"strokeOpacity\": 0}, \"background\": \"#ffffff\", \"title\": {\"anchor\": \"start\", \"font\": \"Benton Gothic Bold, sans\", \"fontColor\": \"#000000\", \"fontSize\": 22, \"fontWeight\": \"normal\"}, \"arc\": {\"fill\": \"#82c6df\"}, \"area\": {\"fill\": \"#82c6df\"}, \"line\": {\"stroke\": \"#82c6df\", \"strokeWidth\": 3}, \"path\": {\"stroke\": \"#82c6df\"}, \"rect\": {\"fill\": \"#82c6df\"}, \"shape\": {\"stroke\": \"#82c6df\"}, \"bar\": {\"fill\": \"#82c6df\"}, \"point\": {\"stroke\": \"#82c6df\"}, \"symbol\": {\"fill\": \"#82c6df\", \"size\": 30}, \"axis\": {\"titleFont\": \"Benton Gothic Bold, sans\", \"titleFontSize\": 13, \"titleFontWeight\": \"normal\", \"labelFont\": \"Benton Gothic, sans\", \"labelFontSize\": 13, \"labelFontWeight\": \"normal\"}, \"axisX\": {\"labelAngle\": 0, \"labelPadding\": 4, \"tickSize\": 3}, \"axisY\": {\"labelBaseline\": \"middle\", \"maxExtent\": 45, \"minExtent\": 45, \"tickSize\": 2, \"titleAlign\": \"left\", \"titleAngle\": 0, \"titleX\": -45, \"titleY\": -11}, \"legend\": {\"titleFont\": \"Benton Gothic Bold, sans\", \"titleFontSize\": 13, \"titleFontWeight\": \"normal\", \"symbolType\": \"square\", \"labelFont\": \"Benton Gothic, sans\", \"labelFontSize\": 11.5, \"orient\": \"top\"}, \"range\": {\"category\": [\"#3580b1\", \"#ec8431\", \"#ab7fb4\", \"#c89d29\", \"#adc839\", \"#829eb1\"], \"diverging\": [\"#e68a4f\", \"#f4bb6a\", \"#f9e39c\", \"#dadfe2\", \"#a6b7c6\", \"#849eae\"], \"heatmap\": [\"#fbf2c7\", \"#f9e39c\", \"#f8d36e\", \"#f4bb6a\", \"#e68a4f\", \"#d15a40\", \"#ab4232\"], \"ordinal\": [\"#fbf2c7\", \"#f9e39c\", \"#f8d36e\", \"#f4bb6a\", \"#e68a4f\", \"#d15a40\", \"#ab4232\"], \"ramp\": [\"#fbf2c7\", \"#f9e39c\", \"#f8d36e\", \"#f4bb6a\", \"#e68a4f\", \"#d15a40\", \"#ab4232\"]}}, \"layer\": [{\"mark\": \"bar\", \"encoding\": {\"x\": {\"type\": \"quantitative\", \"axis\": {\"domainOpacity\": 0, \"gridColor\": \"#dddddd\", \"gridWidth\": 0.6, \"offset\": 4, \"tickCount\": 6, \"tickSize\": 0}, \"field\": \"name\", \"title\": \"Number of charges\"}, \"y\": {\"type\": \"nominal\", \"axis\": {\"domainOpacity\": 0, \"grid\": false, \"gridColor\": \"#dddddd\", \"gridWidth\": 0.6, \"offset\": 4, \"tickCount\": 6, \"tickSize\": 0}, \"field\": \"category\", \"sort\": \"-x\", \"title\": \" \"}}}, {\"mark\": {\"type\": \"text\", \"align\": \"left\", \"baseline\": \"middle\", \"dx\": 4, \"fontSize\": 13}, \"encoding\": {\"text\": {\"type\": \"quantitative\", \"field\": \"name\"}, \"x\": {\"type\": \"quantitative\", \"axis\": {\"domainOpacity\": 0, \"gridColor\": \"#dddddd\", \"gridWidth\": 0.6, \"offset\": 4, \"tickCount\": 6, \"tickSize\": 0}, \"field\": \"name\", \"title\": \"Number of charges\"}, \"y\": {\"type\": \"nominal\", \"axis\": {\"domainOpacity\": 0, \"grid\": false, \"gridColor\": \"#dddddd\", \"gridWidth\": 0.6, \"offset\": 4, \"tickCount\": 6, \"tickSize\": 0}, \"field\": \"category\", \"sort\": \"-x\", \"title\": \" \"}}}], \"data\": {\"name\": \"data-663fcf8cae14d6080d2897316058060e\"}, \"height\": 450, \"title\": \"U.S. Capitol charges, by category\", \"width\": 800, \"$schema\": \"https://vega.github.io/schema/vega-lite/v4.0.2.json\", \"datasets\": {\"data-663fcf8cae14d6080d2897316058060e\": [{\"category\": \"Disruptive/disorderly\", \"name\": 442}, {\"category\": \"Entering restricted area\", \"name\": 368}, {\"category\": \"Obstructing a proceeding\", \"name\": 185}, {\"category\": \"Demonstrating in the Capitol\", \"name\": 182}, {\"category\": \"Violent entry\", \"name\": 113}, {\"category\": \"Assault/resist/impede officer\", \"name\": 110}, {\"category\": \"Property damage\", \"name\": 60}, {\"category\": \"Physical violence\", \"name\": 41}, {\"category\": \"Weapons charge\", \"name\": 33}, {\"category\": \"Aiding and abetting\", \"name\": 29}, {\"category\": \"Conspiracy\", \"name\": 26}, {\"category\": \"Tampering\", \"name\": 12}, {\"category\": \"Other\", \"name\": 4}, {\"category\": \"Unlawful activities\", \"name\": 4}]}}, {\"mode\": \"vega-lite\"});\n",
       "</script>"
      ],
      "text/plain": [
       "alt.LayerChart(...)"
      ]
     },
     "execution_count": 44,
     "metadata": {},
     "output_type": "execute_result"
    }
   ],
   "source": [
    "bar_categories = (\n",
    "    alt.Chart(categories)\n",
    "    .mark_bar()\n",
    "    .encode(\n",
    "        x=alt.X(\n",
    "            \"name\",\n",
    "            title=\"Number of charges\",\n",
    "            axis=alt.Axis(\n",
    "                domainOpacity=0,\n",
    "                tickSize=0,\n",
    "                tickCount=6,\n",
    "                offset=4,\n",
    "                gridWidth=0.6,\n",
    "                gridColor=\"#dddddd\",\n",
    "            ),\n",
    "        ),\n",
    "        y=alt.Y(\n",
    "            \"category\",\n",
    "            title=\" \",\n",
    "            sort=\"-x\",\n",
    "            axis=alt.Axis(\n",
    "                tickSize=0,\n",
    "                domainOpacity=0,\n",
    "                tickCount=6,\n",
    "                offset=4,\n",
    "                gridWidth=0.6,\n",
    "                gridColor=\"#dddddd\",\n",
    "                grid=False,\n",
    "            ),\n",
    "        ),\n",
    "    )\n",
    ")\n",
    "\n",
    "text = bar_categories.mark_text(\n",
    "    align=\"left\", baseline=\"middle\", dx=4, fontSize=13\n",
    ").encode(text=\"name:Q\")\n",
    "\n",
    "\n",
    "chart_charges_bar = (\n",
    "    (bar_categories + text)\n",
    "    .properties(\n",
    "        width=800,\n",
    "        height=450,\n",
    "        title=\"U.S. Capitol charges, by category\",\n",
    "    )\n",
    "    .configure_view(strokeOpacity=0)\n",
    "    .configure_legend(orient=\"top\", symbolType=\"square\")\n",
    "    .configure_axis(labelFontSize=13)\n",
    ")\n",
    "\n",
    "chart_charges_bar"
   ]
  },
  {
   "cell_type": "code",
   "execution_count": 45,
   "metadata": {},
   "outputs": [],
   "source": [
    "chart_charges_bar.save(\"capitol_categories_chart.png\", scale_factor=2)"
   ]
  },
  {
   "cell_type": "markdown",
   "metadata": {},
   "source": [
    "### Cumulative area chart with categories over time"
   ]
  },
  {
   "cell_type": "code",
   "execution_count": 46,
   "metadata": {},
   "outputs": [],
   "source": [
    "categories_by_day.date = pd.to_datetime(categories_by_day.date)"
   ]
  },
  {
   "cell_type": "code",
   "execution_count": 47,
   "metadata": {},
   "outputs": [
    {
     "data": {
      "text/html": [
       "\n",
       "<div id=\"altair-viz-fa6639547a914673b991da0f5adb22bd\"></div>\n",
       "<script type=\"text/javascript\">\n",
       "  (function(spec, embedOpt){\n",
       "    const outputDiv = document.getElementById(\"altair-viz-fa6639547a914673b991da0f5adb22bd\");\n",
       "    const paths = {\n",
       "      \"vega\": \"https://cdn.jsdelivr.net/npm//vega@5?noext\",\n",
       "      \"vega-lib\": \"https://cdn.jsdelivr.net/npm//vega-lib?noext\",\n",
       "      \"vega-lite\": \"https://cdn.jsdelivr.net/npm//vega-lite@4.0.2?noext\",\n",
       "      \"vega-embed\": \"https://cdn.jsdelivr.net/npm//vega-embed@6?noext\",\n",
       "    };\n",
       "\n",
       "    function loadScript(lib) {\n",
       "      return new Promise(function(resolve, reject) {\n",
       "        var s = document.createElement('script');\n",
       "        s.src = paths[lib];\n",
       "        s.async = true;\n",
       "        s.onload = () => resolve(paths[lib]);\n",
       "        s.onerror = () => reject(`Error loading script: ${paths[lib]}`);\n",
       "        document.getElementsByTagName(\"head\")[0].appendChild(s);\n",
       "      });\n",
       "    }\n",
       "\n",
       "    function showError(err) {\n",
       "      outputDiv.innerHTML = `<div class=\"error\" style=\"color:red;\">${err}</div>`;\n",
       "      throw err;\n",
       "    }\n",
       "\n",
       "    function displayChart(vegaEmbed) {\n",
       "      vegaEmbed(outputDiv, spec, embedOpt)\n",
       "        .catch(err => showError(`Javascript Error: ${err.message}<br>This usually means there's a typo in your chart specification. See the javascript console for the full traceback.`));\n",
       "    }\n",
       "\n",
       "    if(typeof define === \"function\" && define.amd) {\n",
       "      requirejs.config({paths});\n",
       "      require([\"vega-embed\"], displayChart, err => showError(`Error loading script: ${err.message}`));\n",
       "    } else if (typeof vegaEmbed === \"function\") {\n",
       "      displayChart(vegaEmbed);\n",
       "    } else {\n",
       "      loadScript(\"vega\")\n",
       "        .then(() => loadScript(\"vega-lite\"))\n",
       "        .then(() => loadScript(\"vega-embed\"))\n",
       "        .catch(showError)\n",
       "        .then(() => displayChart(vegaEmbed));\n",
       "    }\n",
       "  })({\"config\": {\"view\": {\"width\": 800, \"height\": 450, \"strokeOpacity\": 0}, \"background\": \"#ffffff\", \"title\": {\"anchor\": \"start\", \"font\": \"Benton Gothic Bold, sans\", \"fontColor\": \"#000000\", \"fontSize\": 22, \"fontWeight\": \"normal\"}, \"arc\": {\"fill\": \"#82c6df\"}, \"area\": {\"fill\": \"#82c6df\"}, \"line\": {\"stroke\": \"#82c6df\", \"strokeWidth\": 3}, \"path\": {\"stroke\": \"#82c6df\"}, \"rect\": {\"fill\": \"#82c6df\"}, \"shape\": {\"stroke\": \"#82c6df\"}, \"bar\": {\"fill\": \"#82c6df\"}, \"point\": {\"stroke\": \"#82c6df\"}, \"symbol\": {\"fill\": \"#82c6df\", \"size\": 30}, \"axis\": {\"titleFont\": \"Benton Gothic Bold, sans\", \"titleFontSize\": 13, \"titleFontWeight\": \"normal\", \"labelFont\": \"Benton Gothic, sans\", \"labelFontSize\": 13, \"labelFontWeight\": \"normal\"}, \"axisX\": {\"labelAngle\": 0, \"labelPadding\": 4, \"tickSize\": 3}, \"axisY\": {\"labelBaseline\": \"middle\", \"maxExtent\": 45, \"minExtent\": 45, \"tickSize\": 2, \"titleAlign\": \"left\", \"titleAngle\": 0, \"titleX\": -45, \"titleY\": -11}, \"legend\": {\"titleFont\": \"Benton Gothic Bold, sans\", \"titleFontSize\": 13, \"titleFontWeight\": \"normal\", \"symbolType\": \"square\", \"labelFont\": \"Benton Gothic, sans\", \"labelFontSize\": 11.5, \"orient\": \"right\"}, \"range\": {\"category\": [\"#3580b1\", \"#ec8431\", \"#ab7fb4\", \"#c89d29\", \"#adc839\", \"#829eb1\"], \"diverging\": [\"#e68a4f\", \"#f4bb6a\", \"#f9e39c\", \"#dadfe2\", \"#a6b7c6\", \"#849eae\"], \"heatmap\": [\"#fbf2c7\", \"#f9e39c\", \"#f8d36e\", \"#f4bb6a\", \"#e68a4f\", \"#d15a40\", \"#ab4232\"], \"ordinal\": [\"#fbf2c7\", \"#f9e39c\", \"#f8d36e\", \"#f4bb6a\", \"#e68a4f\", \"#d15a40\", \"#ab4232\"], \"ramp\": [\"#fbf2c7\", \"#f9e39c\", \"#f8d36e\", \"#f4bb6a\", \"#e68a4f\", \"#d15a40\", \"#ab4232\"]}}, \"data\": {\"name\": \"data-55083bd214cc254bdfbbe0617058a70b\"}, \"mark\": {\"type\": \"area\", \"opacity\": 0.6}, \"encoding\": {\"color\": {\"type\": \"nominal\", \"field\": \"category\", \"scale\": {\"scheme\": \"category20\"}}, \"x\": {\"type\": \"temporal\", \"axis\": {\"format\": \"%b. %-d\", \"grid\": false, \"tickCount\": 10}, \"field\": \"date\", \"title\": \"\"}, \"y\": {\"type\": \"quantitative\", \"axis\": {\"domainOpacity\": 0, \"gridColor\": \"#dddddd\", \"gridWidth\": 0.6, \"offset\": 4, \"tickCount\": 6, \"tickSize\": 0}, \"field\": \"name\", \"scale\": {\"domain\": [0, 1500]}, \"title\": \" \"}}, \"height\": 600, \"title\": \"Cumulative charge categories in U.S. Capitol breach, by day\", \"width\": 800, \"$schema\": \"https://vega.github.io/schema/vega-lite/v4.0.2.json\", \"datasets\": {\"data-55083bd214cc254bdfbbe0617058a70b\": [{\"date\": \"2021-02-04T00:00:00\", \"category\": \"Aiding and abetting\", \"name\": 19}, {\"date\": \"2021-02-04T00:00:00\", \"category\": \"Assault/resist/impede officer\", \"name\": 28}, {\"date\": \"2021-02-04T00:00:00\", \"category\": \"Conspiracy\", \"name\": 11}, {\"date\": \"2021-02-04T00:00:00\", \"category\": \"Demonstrating in the Capitol\", \"name\": 18}, {\"date\": \"2021-02-04T00:00:00\", \"category\": \"Disruptive/disorderly\", \"name\": 92}, {\"date\": \"2021-02-04T00:00:00\", \"category\": \"Entering restricted area\", \"name\": 148}, {\"date\": \"2021-02-04T00:00:00\", \"category\": \"Obstructing a proceeding\", \"name\": 42}, {\"date\": \"2021-02-04T00:00:00\", \"category\": \"Other\", \"name\": 3}, {\"date\": \"2021-02-04T00:00:00\", \"category\": \"Physical violence\", \"name\": 7}, {\"date\": \"2021-02-04T00:00:00\", \"category\": \"Property damage\", \"name\": 34}, {\"date\": \"2021-02-04T00:00:00\", \"category\": \"Tampering\", \"name\": 1}, {\"date\": \"2021-02-04T00:00:00\", \"category\": \"Unlawful activities\", \"name\": 6}, {\"date\": \"2021-02-04T00:00:00\", \"category\": \"Violent entry\", \"name\": 100}, {\"date\": \"2021-02-04T00:00:00\", \"category\": \"Weapons charge\", \"name\": 4}, {\"date\": \"2021-02-05T00:00:00\", \"category\": \"Aiding and abetting\", \"name\": 22}, {\"date\": \"2021-02-05T00:00:00\", \"category\": \"Assault/resist/impede officer\", \"name\": 29}, {\"date\": \"2021-02-05T00:00:00\", \"category\": \"Conspiracy\", \"name\": 11}, {\"date\": \"2021-02-05T00:00:00\", \"category\": \"Demonstrating in the Capitol\", \"name\": 28}, {\"date\": \"2021-02-05T00:00:00\", \"category\": \"Disruptive/disorderly\", \"name\": 101}, {\"date\": \"2021-02-05T00:00:00\", \"category\": \"Entering restricted area\", \"name\": 152}, {\"date\": \"2021-02-05T00:00:00\", \"category\": \"Obstructing a proceeding\", \"name\": 47}, {\"date\": \"2021-02-05T00:00:00\", \"category\": \"Other\", \"name\": 3}, {\"date\": \"2021-02-05T00:00:00\", \"category\": \"Physical violence\", \"name\": 7}, {\"date\": \"2021-02-05T00:00:00\", \"category\": \"Property damage\", \"name\": 35}, {\"date\": \"2021-02-05T00:00:00\", \"category\": \"Tampering\", \"name\": 1}, {\"date\": \"2021-02-05T00:00:00\", \"category\": \"Unlawful activities\", \"name\": 6}, {\"date\": \"2021-02-05T00:00:00\", \"category\": \"Violent entry\", \"name\": 99}, {\"date\": \"2021-02-05T00:00:00\", \"category\": \"Weapons charge\", \"name\": 6}, {\"date\": \"2021-02-06T00:00:00\", \"category\": \"Aiding and abetting\", \"name\": 22}, {\"date\": \"2021-02-06T00:00:00\", \"category\": \"Assault/resist/impede officer\", \"name\": 29}, {\"date\": \"2021-02-06T00:00:00\", \"category\": \"Conspiracy\", \"name\": 11}, {\"date\": \"2021-02-06T00:00:00\", \"category\": \"Demonstrating in the Capitol\", \"name\": 28}, {\"date\": \"2021-02-06T00:00:00\", \"category\": \"Disruptive/disorderly\", \"name\": 101}, {\"date\": \"2021-02-06T00:00:00\", \"category\": \"Entering restricted area\", \"name\": 152}, {\"date\": \"2021-02-06T00:00:00\", \"category\": \"Obstructing a proceeding\", \"name\": 47}, {\"date\": \"2021-02-06T00:00:00\", \"category\": \"Other\", \"name\": 3}, {\"date\": \"2021-02-06T00:00:00\", \"category\": \"Physical violence\", \"name\": 7}, {\"date\": \"2021-02-06T00:00:00\", \"category\": \"Property damage\", \"name\": 35}, {\"date\": \"2021-02-06T00:00:00\", \"category\": \"Tampering\", \"name\": 1}, {\"date\": \"2021-02-06T00:00:00\", \"category\": \"Unlawful activities\", \"name\": 6}, {\"date\": \"2021-02-06T00:00:00\", \"category\": \"Violent entry\", \"name\": 100}, {\"date\": \"2021-02-06T00:00:00\", \"category\": \"Weapons charge\", \"name\": 6}, {\"date\": \"2021-02-07T00:00:00\", \"category\": \"Aiding and abetting\", \"name\": 22}, {\"date\": \"2021-02-07T00:00:00\", \"category\": \"Assault/resist/impede officer\", \"name\": 29}, {\"date\": \"2021-02-07T00:00:00\", \"category\": \"Conspiracy\", \"name\": 11}, {\"date\": \"2021-02-07T00:00:00\", \"category\": \"Demonstrating in the Capitol\", \"name\": 28}, {\"date\": \"2021-02-07T00:00:00\", \"category\": \"Disruptive/disorderly\", \"name\": 101}, {\"date\": \"2021-02-07T00:00:00\", \"category\": \"Entering restricted area\", \"name\": 152}, {\"date\": \"2021-02-07T00:00:00\", \"category\": \"Obstructing a proceeding\", \"name\": 47}, {\"date\": \"2021-02-07T00:00:00\", \"category\": \"Other\", \"name\": 3}, {\"date\": \"2021-02-07T00:00:00\", \"category\": \"Physical violence\", \"name\": 7}, {\"date\": \"2021-02-07T00:00:00\", \"category\": \"Property damage\", \"name\": 35}, {\"date\": \"2021-02-07T00:00:00\", \"category\": \"Tampering\", \"name\": 1}, {\"date\": \"2021-02-07T00:00:00\", \"category\": \"Unlawful activities\", \"name\": 6}, {\"date\": \"2021-02-07T00:00:00\", \"category\": \"Violent entry\", \"name\": 100}, {\"date\": \"2021-02-07T00:00:00\", \"category\": \"Weapons charge\", \"name\": 6}, {\"date\": \"2021-02-08T00:00:00\", \"category\": \"Aiding and abetting\", \"name\": 22}, {\"date\": \"2021-02-08T00:00:00\", \"category\": \"Assault/resist/impede officer\", \"name\": 29}, {\"date\": \"2021-02-08T00:00:00\", \"category\": \"Conspiracy\", \"name\": 11}, {\"date\": \"2021-02-08T00:00:00\", \"category\": \"Demonstrating in the Capitol\", \"name\": 28}, {\"date\": \"2021-02-08T00:00:00\", \"category\": \"Disruptive/disorderly\", \"name\": 101}, {\"date\": \"2021-02-08T00:00:00\", \"category\": \"Entering restricted area\", \"name\": 152}, {\"date\": \"2021-02-08T00:00:00\", \"category\": \"Obstructing a proceeding\", \"name\": 47}, {\"date\": \"2021-02-08T00:00:00\", \"category\": \"Other\", \"name\": 3}, {\"date\": \"2021-02-08T00:00:00\", \"category\": \"Physical violence\", \"name\": 7}, {\"date\": \"2021-02-08T00:00:00\", \"category\": \"Property damage\", \"name\": 35}, {\"date\": \"2021-02-08T00:00:00\", \"category\": \"Tampering\", \"name\": 1}, {\"date\": \"2021-02-08T00:00:00\", \"category\": \"Unlawful activities\", \"name\": 6}, {\"date\": \"2021-02-08T00:00:00\", \"category\": \"Violent entry\", \"name\": 100}, {\"date\": \"2021-02-08T00:00:00\", \"category\": \"Weapons charge\", \"name\": 6}, {\"date\": \"2021-02-09T00:00:00\", \"category\": \"Aiding and abetting\", \"name\": 22}, {\"date\": \"2021-02-09T00:00:00\", \"category\": \"Assault/resist/impede officer\", \"name\": 34}, {\"date\": \"2021-02-09T00:00:00\", \"category\": \"Conspiracy\", \"name\": 11}, {\"date\": \"2021-02-09T00:00:00\", \"category\": \"Demonstrating in the Capitol\", \"name\": 30}, {\"date\": \"2021-02-09T00:00:00\", \"category\": \"Disruptive/disorderly\", \"name\": 113}, {\"date\": \"2021-02-09T00:00:00\", \"category\": \"Entering restricted area\", \"name\": 160}, {\"date\": \"2021-02-09T00:00:00\", \"category\": \"Obstructing a proceeding\", \"name\": 48}, {\"date\": \"2021-02-09T00:00:00\", \"category\": \"Other\", \"name\": 3}, {\"date\": \"2021-02-09T00:00:00\", \"category\": \"Physical violence\", \"name\": 9}, {\"date\": \"2021-02-09T00:00:00\", \"category\": \"Property damage\", \"name\": 36}, {\"date\": \"2021-02-09T00:00:00\", \"category\": \"Tampering\", \"name\": 1}, {\"date\": \"2021-02-09T00:00:00\", \"category\": \"Unlawful activities\", \"name\": 6}, {\"date\": \"2021-02-09T00:00:00\", \"category\": \"Violent entry\", \"name\": 102}, {\"date\": \"2021-02-09T00:00:00\", \"category\": \"Weapons charge\", \"name\": 6}, {\"date\": \"2021-02-10T00:00:00\", \"category\": \"Aiding and abetting\", \"name\": 28}, {\"date\": \"2021-02-10T00:00:00\", \"category\": \"Assault/resist/impede officer\", \"name\": 38}, {\"date\": \"2021-02-10T00:00:00\", \"category\": \"Conspiracy\", \"name\": 11}, {\"date\": \"2021-02-10T00:00:00\", \"category\": \"Demonstrating in the Capitol\", \"name\": 43}, {\"date\": \"2021-02-10T00:00:00\", \"category\": \"Disruptive/disorderly\", \"name\": 143}, {\"date\": \"2021-02-10T00:00:00\", \"category\": \"Entering restricted area\", \"name\": 165}, {\"date\": \"2021-02-10T00:00:00\", \"category\": \"Obstructing a proceeding\", \"name\": 53}, {\"date\": \"2021-02-10T00:00:00\", \"category\": \"Other\", \"name\": 3}, {\"date\": \"2021-02-10T00:00:00\", \"category\": \"Physical violence\", \"name\": 12}, {\"date\": \"2021-02-10T00:00:00\", \"category\": \"Property damage\", \"name\": 37}, {\"date\": \"2021-02-10T00:00:00\", \"category\": \"Tampering\", \"name\": 1}, {\"date\": \"2021-02-10T00:00:00\", \"category\": \"Unlawful activities\", \"name\": 6}, {\"date\": \"2021-02-10T00:00:00\", \"category\": \"Violent entry\", \"name\": 94}, {\"date\": \"2021-02-10T00:00:00\", \"category\": \"Weapons charge\", \"name\": 8}, {\"date\": \"2021-02-11T00:00:00\", \"category\": \"Aiding and abetting\", \"name\": 28}, {\"date\": \"2021-02-11T00:00:00\", \"category\": \"Assault/resist/impede officer\", \"name\": 39}, {\"date\": \"2021-02-11T00:00:00\", \"category\": \"Conspiracy\", \"name\": 16}, {\"date\": \"2021-02-11T00:00:00\", \"category\": \"Demonstrating in the Capitol\", \"name\": 43}, {\"date\": \"2021-02-11T00:00:00\", \"category\": \"Disruptive/disorderly\", \"name\": 153}, {\"date\": \"2021-02-11T00:00:00\", \"category\": \"Entering restricted area\", \"name\": 172}, {\"date\": \"2021-02-11T00:00:00\", \"category\": \"Obstructing a proceeding\", \"name\": 58}, {\"date\": \"2021-02-11T00:00:00\", \"category\": \"Other\", \"name\": 3}, {\"date\": \"2021-02-11T00:00:00\", \"category\": \"Physical violence\", \"name\": 12}, {\"date\": \"2021-02-11T00:00:00\", \"category\": \"Property damage\", \"name\": 37}, {\"date\": \"2021-02-11T00:00:00\", \"category\": \"Tampering\", \"name\": 1}, {\"date\": \"2021-02-11T00:00:00\", \"category\": \"Unlawful activities\", \"name\": 6}, {\"date\": \"2021-02-11T00:00:00\", \"category\": \"Violent entry\", \"name\": 96}, {\"date\": \"2021-02-11T00:00:00\", \"category\": \"Weapons charge\", \"name\": 8}, {\"date\": \"2021-02-12T00:00:00\", \"category\": \"Aiding and abetting\", \"name\": 28}, {\"date\": \"2021-02-12T00:00:00\", \"category\": \"Assault/resist/impede officer\", \"name\": 41}, {\"date\": \"2021-02-12T00:00:00\", \"category\": \"Conspiracy\", \"name\": 16}, {\"date\": \"2021-02-12T00:00:00\", \"category\": \"Demonstrating in the Capitol\", \"name\": 45}, {\"date\": \"2021-02-12T00:00:00\", \"category\": \"Disruptive/disorderly\", \"name\": 159}, {\"date\": \"2021-02-12T00:00:00\", \"category\": \"Entering restricted area\", \"name\": 176}, {\"date\": \"2021-02-12T00:00:00\", \"category\": \"Obstructing a proceeding\", \"name\": 59}, {\"date\": \"2021-02-12T00:00:00\", \"category\": \"Other\", \"name\": 3}, {\"date\": \"2021-02-12T00:00:00\", \"category\": \"Physical violence\", \"name\": 13}, {\"date\": \"2021-02-12T00:00:00\", \"category\": \"Property damage\", \"name\": 37}, {\"date\": \"2021-02-12T00:00:00\", \"category\": \"Tampering\", \"name\": 1}, {\"date\": \"2021-02-12T00:00:00\", \"category\": \"Unlawful activities\", \"name\": 6}, {\"date\": \"2021-02-12T00:00:00\", \"category\": \"Violent entry\", \"name\": 96}, {\"date\": \"2021-02-12T00:00:00\", \"category\": \"Weapons charge\", \"name\": 8}, {\"date\": \"2021-02-13T00:00:00\", \"category\": \"Aiding and abetting\", \"name\": 28}, {\"date\": \"2021-02-13T00:00:00\", \"category\": \"Assault/resist/impede officer\", \"name\": 41}, {\"date\": \"2021-02-13T00:00:00\", \"category\": \"Conspiracy\", \"name\": 16}, {\"date\": \"2021-02-13T00:00:00\", \"category\": \"Demonstrating in the Capitol\", \"name\": 45}, {\"date\": \"2021-02-13T00:00:00\", \"category\": \"Disruptive/disorderly\", \"name\": 159}, {\"date\": \"2021-02-13T00:00:00\", \"category\": \"Entering restricted area\", \"name\": 176}, {\"date\": \"2021-02-13T00:00:00\", \"category\": \"Obstructing a proceeding\", \"name\": 59}, {\"date\": \"2021-02-13T00:00:00\", \"category\": \"Other\", \"name\": 3}, {\"date\": \"2021-02-13T00:00:00\", \"category\": \"Physical violence\", \"name\": 13}, {\"date\": \"2021-02-13T00:00:00\", \"category\": \"Property damage\", \"name\": 37}, {\"date\": \"2021-02-13T00:00:00\", \"category\": \"Tampering\", \"name\": 1}, {\"date\": \"2021-02-13T00:00:00\", \"category\": \"Unlawful activities\", \"name\": 6}, {\"date\": \"2021-02-13T00:00:00\", \"category\": \"Violent entry\", \"name\": 96}, {\"date\": \"2021-02-13T00:00:00\", \"category\": \"Weapons charge\", \"name\": 8}, {\"date\": \"2021-02-14T00:00:00\", \"category\": \"Aiding and abetting\", \"name\": 28}, {\"date\": \"2021-02-14T00:00:00\", \"category\": \"Assault/resist/impede officer\", \"name\": 41}, {\"date\": \"2021-02-14T00:00:00\", \"category\": \"Conspiracy\", \"name\": 16}, {\"date\": \"2021-02-14T00:00:00\", \"category\": \"Demonstrating in the Capitol\", \"name\": 45}, {\"date\": \"2021-02-14T00:00:00\", \"category\": \"Disruptive/disorderly\", \"name\": 159}, {\"date\": \"2021-02-14T00:00:00\", \"category\": \"Entering restricted area\", \"name\": 176}, {\"date\": \"2021-02-14T00:00:00\", \"category\": \"Obstructing a proceeding\", \"name\": 59}, {\"date\": \"2021-02-14T00:00:00\", \"category\": \"Other\", \"name\": 3}, {\"date\": \"2021-02-14T00:00:00\", \"category\": \"Physical violence\", \"name\": 13}, {\"date\": \"2021-02-14T00:00:00\", \"category\": \"Property damage\", \"name\": 37}, {\"date\": \"2021-02-14T00:00:00\", \"category\": \"Tampering\", \"name\": 1}, {\"date\": \"2021-02-14T00:00:00\", \"category\": \"Unlawful activities\", \"name\": 6}, {\"date\": \"2021-02-14T00:00:00\", \"category\": \"Violent entry\", \"name\": 96}, {\"date\": \"2021-02-14T00:00:00\", \"category\": \"Weapons charge\", \"name\": 8}, {\"date\": \"2021-02-15T00:00:00\", \"category\": \"Aiding and abetting\", \"name\": 28}, {\"date\": \"2021-02-15T00:00:00\", \"category\": \"Assault/resist/impede officer\", \"name\": 41}, {\"date\": \"2021-02-15T00:00:00\", \"category\": \"Conspiracy\", \"name\": 16}, {\"date\": \"2021-02-15T00:00:00\", \"category\": \"Demonstrating in the Capitol\", \"name\": 45}, {\"date\": \"2021-02-15T00:00:00\", \"category\": \"Disruptive/disorderly\", \"name\": 159}, {\"date\": \"2021-02-15T00:00:00\", \"category\": \"Entering restricted area\", \"name\": 176}, {\"date\": \"2021-02-15T00:00:00\", \"category\": \"Obstructing a proceeding\", \"name\": 59}, {\"date\": \"2021-02-15T00:00:00\", \"category\": \"Other\", \"name\": 3}, {\"date\": \"2021-02-15T00:00:00\", \"category\": \"Physical violence\", \"name\": 13}, {\"date\": \"2021-02-15T00:00:00\", \"category\": \"Property damage\", \"name\": 37}, {\"date\": \"2021-02-15T00:00:00\", \"category\": \"Tampering\", \"name\": 1}, {\"date\": \"2021-02-15T00:00:00\", \"category\": \"Unlawful activities\", \"name\": 6}, {\"date\": \"2021-02-15T00:00:00\", \"category\": \"Violent entry\", \"name\": 96}, {\"date\": \"2021-02-15T00:00:00\", \"category\": \"Weapons charge\", \"name\": 8}, {\"date\": \"2021-02-16T00:00:00\", \"category\": \"Aiding and abetting\", \"name\": 28}, {\"date\": \"2021-02-16T00:00:00\", \"category\": \"Assault/resist/impede officer\", \"name\": 47}, {\"date\": \"2021-02-16T00:00:00\", \"category\": \"Conspiracy\", \"name\": 15}, {\"date\": \"2021-02-16T00:00:00\", \"category\": \"Demonstrating in the Capitol\", \"name\": 49}, {\"date\": \"2021-02-16T00:00:00\", \"category\": \"Disruptive/disorderly\", \"name\": 167}, {\"date\": \"2021-02-16T00:00:00\", \"category\": \"Entering restricted area\", \"name\": 176}, {\"date\": \"2021-02-16T00:00:00\", \"category\": \"Obstructing a proceeding\", \"name\": 64}, {\"date\": \"2021-02-16T00:00:00\", \"category\": \"Other\", \"name\": 3}, {\"date\": \"2021-02-16T00:00:00\", \"category\": \"Physical violence\", \"name\": 16}, {\"date\": \"2021-02-16T00:00:00\", \"category\": \"Property damage\", \"name\": 39}, {\"date\": \"2021-02-16T00:00:00\", \"category\": \"Tampering\", \"name\": 1}, {\"date\": \"2021-02-16T00:00:00\", \"category\": \"Unlawful activities\", \"name\": 6}, {\"date\": \"2021-02-16T00:00:00\", \"category\": \"Violent entry\", \"name\": 92}, {\"date\": \"2021-02-16T00:00:00\", \"category\": \"Weapons charge\", \"name\": 13}, {\"date\": \"2021-02-17T00:00:00\", \"category\": \"Aiding and abetting\", \"name\": 28}, {\"date\": \"2021-02-17T00:00:00\", \"category\": \"Assault/resist/impede officer\", \"name\": 47}, {\"date\": \"2021-02-17T00:00:00\", \"category\": \"Conspiracy\", \"name\": 15}, {\"date\": \"2021-02-17T00:00:00\", \"category\": \"Demonstrating in the Capitol\", \"name\": 49}, {\"date\": \"2021-02-17T00:00:00\", \"category\": \"Disruptive/disorderly\", \"name\": 167}, {\"date\": \"2021-02-17T00:00:00\", \"category\": \"Entering restricted area\", \"name\": 176}, {\"date\": \"2021-02-17T00:00:00\", \"category\": \"Obstructing a proceeding\", \"name\": 64}, {\"date\": \"2021-02-17T00:00:00\", \"category\": \"Other\", \"name\": 3}, {\"date\": \"2021-02-17T00:00:00\", \"category\": \"Physical violence\", \"name\": 16}, {\"date\": \"2021-02-17T00:00:00\", \"category\": \"Property damage\", \"name\": 39}, {\"date\": \"2021-02-17T00:00:00\", \"category\": \"Tampering\", \"name\": 1}, {\"date\": \"2021-02-17T00:00:00\", \"category\": \"Unlawful activities\", \"name\": 6}, {\"date\": \"2021-02-17T00:00:00\", \"category\": \"Violent entry\", \"name\": 92}, {\"date\": \"2021-02-17T00:00:00\", \"category\": \"Weapons charge\", \"name\": 13}, {\"date\": \"2021-02-18T00:00:00\", \"category\": \"Aiding and abetting\", \"name\": 28}, {\"date\": \"2021-02-18T00:00:00\", \"category\": \"Assault/resist/impede officer\", \"name\": 47}, {\"date\": \"2021-02-18T00:00:00\", \"category\": \"Conspiracy\", \"name\": 15}, {\"date\": \"2021-02-18T00:00:00\", \"category\": \"Demonstrating in the Capitol\", \"name\": 49}, {\"date\": \"2021-02-18T00:00:00\", \"category\": \"Disruptive/disorderly\", \"name\": 167}, {\"date\": \"2021-02-18T00:00:00\", \"category\": \"Entering restricted area\", \"name\": 176}, {\"date\": \"2021-02-18T00:00:00\", \"category\": \"Obstructing a proceeding\", \"name\": 65}, {\"date\": \"2021-02-18T00:00:00\", \"category\": \"Other\", \"name\": 3}, {\"date\": \"2021-02-18T00:00:00\", \"category\": \"Physical violence\", \"name\": 16}, {\"date\": \"2021-02-18T00:00:00\", \"category\": \"Property damage\", \"name\": 39}, {\"date\": \"2021-02-18T00:00:00\", \"category\": \"Tampering\", \"name\": 1}, {\"date\": \"2021-02-18T00:00:00\", \"category\": \"Unlawful activities\", \"name\": 6}, {\"date\": \"2021-02-18T00:00:00\", \"category\": \"Violent entry\", \"name\": 92}, {\"date\": \"2021-02-18T00:00:00\", \"category\": \"Weapons charge\", \"name\": 13}, {\"date\": \"2021-02-19T00:00:00\", \"category\": \"Aiding and abetting\", \"name\": 28}, {\"date\": \"2021-02-19T00:00:00\", \"category\": \"Assault/resist/impede officer\", \"name\": 47}, {\"date\": \"2021-02-19T00:00:00\", \"category\": \"Conspiracy\", \"name\": 21}, {\"date\": \"2021-02-19T00:00:00\", \"category\": \"Demonstrating in the Capitol\", \"name\": 49}, {\"date\": \"2021-02-19T00:00:00\", \"category\": \"Disruptive/disorderly\", \"name\": 167}, {\"date\": \"2021-02-19T00:00:00\", \"category\": \"Entering restricted area\", \"name\": 183}, {\"date\": \"2021-02-19T00:00:00\", \"category\": \"Obstructing a proceeding\", \"name\": 73}, {\"date\": \"2021-02-19T00:00:00\", \"category\": \"Other\", \"name\": 3}, {\"date\": \"2021-02-19T00:00:00\", \"category\": \"Physical violence\", \"name\": 16}, {\"date\": \"2021-02-19T00:00:00\", \"category\": \"Property damage\", \"name\": 45}, {\"date\": \"2021-02-19T00:00:00\", \"category\": \"Tampering\", \"name\": 2}, {\"date\": \"2021-02-19T00:00:00\", \"category\": \"Unlawful activities\", \"name\": 6}, {\"date\": \"2021-02-19T00:00:00\", \"category\": \"Violent entry\", \"name\": 93}, {\"date\": \"2021-02-19T00:00:00\", \"category\": \"Weapons charge\", \"name\": 13}, {\"date\": \"2021-02-20T00:00:00\", \"category\": \"Aiding and abetting\", \"name\": 28}, {\"date\": \"2021-02-20T00:00:00\", \"category\": \"Assault/resist/impede officer\", \"name\": 47}, {\"date\": \"2021-02-20T00:00:00\", \"category\": \"Conspiracy\", \"name\": 21}, {\"date\": \"2021-02-20T00:00:00\", \"category\": \"Demonstrating in the Capitol\", \"name\": 49}, {\"date\": \"2021-02-20T00:00:00\", \"category\": \"Disruptive/disorderly\", \"name\": 167}, {\"date\": \"2021-02-20T00:00:00\", \"category\": \"Entering restricted area\", \"name\": 183}, {\"date\": \"2021-02-20T00:00:00\", \"category\": \"Obstructing a proceeding\", \"name\": 73}, {\"date\": \"2021-02-20T00:00:00\", \"category\": \"Other\", \"name\": 3}, {\"date\": \"2021-02-20T00:00:00\", \"category\": \"Physical violence\", \"name\": 16}, {\"date\": \"2021-02-20T00:00:00\", \"category\": \"Property damage\", \"name\": 45}, {\"date\": \"2021-02-20T00:00:00\", \"category\": \"Tampering\", \"name\": 2}, {\"date\": \"2021-02-20T00:00:00\", \"category\": \"Unlawful activities\", \"name\": 6}, {\"date\": \"2021-02-20T00:00:00\", \"category\": \"Violent entry\", \"name\": 93}, {\"date\": \"2021-02-20T00:00:00\", \"category\": \"Weapons charge\", \"name\": 13}, {\"date\": \"2021-02-21T00:00:00\", \"category\": \"Aiding and abetting\", \"name\": 28}, {\"date\": \"2021-02-21T00:00:00\", \"category\": \"Assault/resist/impede officer\", \"name\": 47}, {\"date\": \"2021-02-21T00:00:00\", \"category\": \"Conspiracy\", \"name\": 21}, {\"date\": \"2021-02-21T00:00:00\", \"category\": \"Demonstrating in the Capitol\", \"name\": 49}, {\"date\": \"2021-02-21T00:00:00\", \"category\": \"Disruptive/disorderly\", \"name\": 167}, {\"date\": \"2021-02-21T00:00:00\", \"category\": \"Entering restricted area\", \"name\": 183}, {\"date\": \"2021-02-21T00:00:00\", \"category\": \"Obstructing a proceeding\", \"name\": 73}, {\"date\": \"2021-02-21T00:00:00\", \"category\": \"Other\", \"name\": 3}, {\"date\": \"2021-02-21T00:00:00\", \"category\": \"Physical violence\", \"name\": 16}, {\"date\": \"2021-02-21T00:00:00\", \"category\": \"Property damage\", \"name\": 45}, {\"date\": \"2021-02-21T00:00:00\", \"category\": \"Tampering\", \"name\": 2}, {\"date\": \"2021-02-21T00:00:00\", \"category\": \"Unlawful activities\", \"name\": 6}, {\"date\": \"2021-02-21T00:00:00\", \"category\": \"Violent entry\", \"name\": 93}, {\"date\": \"2021-02-21T00:00:00\", \"category\": \"Weapons charge\", \"name\": 13}, {\"date\": \"2021-02-22T00:00:00\", \"category\": \"Aiding and abetting\", \"name\": 28}, {\"date\": \"2021-02-22T00:00:00\", \"category\": \"Assault/resist/impede officer\", \"name\": 47}, {\"date\": \"2021-02-22T00:00:00\", \"category\": \"Conspiracy\", \"name\": 21}, {\"date\": \"2021-02-22T00:00:00\", \"category\": \"Demonstrating in the Capitol\", \"name\": 49}, {\"date\": \"2021-02-22T00:00:00\", \"category\": \"Disruptive/disorderly\", \"name\": 167}, {\"date\": \"2021-02-22T00:00:00\", \"category\": \"Entering restricted area\", \"name\": 183}, {\"date\": \"2021-02-22T00:00:00\", \"category\": \"Obstructing a proceeding\", \"name\": 73}, {\"date\": \"2021-02-22T00:00:00\", \"category\": \"Other\", \"name\": 3}, {\"date\": \"2021-02-22T00:00:00\", \"category\": \"Physical violence\", \"name\": 16}, {\"date\": \"2021-02-22T00:00:00\", \"category\": \"Property damage\", \"name\": 45}, {\"date\": \"2021-02-22T00:00:00\", \"category\": \"Tampering\", \"name\": 2}, {\"date\": \"2021-02-22T00:00:00\", \"category\": \"Unlawful activities\", \"name\": 6}, {\"date\": \"2021-02-22T00:00:00\", \"category\": \"Violent entry\", \"name\": 93}, {\"date\": \"2021-02-22T00:00:00\", \"category\": \"Weapons charge\", \"name\": 13}, {\"date\": \"2021-02-23T00:00:00\", \"category\": \"Aiding and abetting\", \"name\": 28}, {\"date\": \"2021-02-23T00:00:00\", \"category\": \"Assault/resist/impede officer\", \"name\": 48}, {\"date\": \"2021-02-23T00:00:00\", \"category\": \"Conspiracy\", \"name\": 21}, {\"date\": \"2021-02-23T00:00:00\", \"category\": \"Demonstrating in the Capitol\", \"name\": 49}, {\"date\": \"2021-02-23T00:00:00\", \"category\": \"Disruptive/disorderly\", \"name\": 168}, {\"date\": \"2021-02-23T00:00:00\", \"category\": \"Entering restricted area\", \"name\": 184}, {\"date\": \"2021-02-23T00:00:00\", \"category\": \"Obstructing a proceeding\", \"name\": 74}, {\"date\": \"2021-02-23T00:00:00\", \"category\": \"Other\", \"name\": 3}, {\"date\": \"2021-02-23T00:00:00\", \"category\": \"Physical violence\", \"name\": 16}, {\"date\": \"2021-02-23T00:00:00\", \"category\": \"Property damage\", \"name\": 45}, {\"date\": \"2021-02-23T00:00:00\", \"category\": \"Tampering\", \"name\": 2}, {\"date\": \"2021-02-23T00:00:00\", \"category\": \"Unlawful activities\", \"name\": 6}, {\"date\": \"2021-02-23T00:00:00\", \"category\": \"Violent entry\", \"name\": 94}, {\"date\": \"2021-02-23T00:00:00\", \"category\": \"Weapons charge\", \"name\": 13}, {\"date\": \"2021-02-24T00:00:00\", \"category\": \"Aiding and abetting\", \"name\": 28}, {\"date\": \"2021-02-24T00:00:00\", \"category\": \"Assault/resist/impede officer\", \"name\": 48}, {\"date\": \"2021-02-24T00:00:00\", \"category\": \"Conspiracy\", \"name\": 21}, {\"date\": \"2021-02-24T00:00:00\", \"category\": \"Demonstrating in the Capitol\", \"name\": 49}, {\"date\": \"2021-02-24T00:00:00\", \"category\": \"Disruptive/disorderly\", \"name\": 168}, {\"date\": \"2021-02-24T00:00:00\", \"category\": \"Entering restricted area\", \"name\": 184}, {\"date\": \"2021-02-24T00:00:00\", \"category\": \"Obstructing a proceeding\", \"name\": 74}, {\"date\": \"2021-02-24T00:00:00\", \"category\": \"Other\", \"name\": 3}, {\"date\": \"2021-02-24T00:00:00\", \"category\": \"Physical violence\", \"name\": 16}, {\"date\": \"2021-02-24T00:00:00\", \"category\": \"Property damage\", \"name\": 45}, {\"date\": \"2021-02-24T00:00:00\", \"category\": \"Tampering\", \"name\": 2}, {\"date\": \"2021-02-24T00:00:00\", \"category\": \"Unlawful activities\", \"name\": 6}, {\"date\": \"2021-02-24T00:00:00\", \"category\": \"Violent entry\", \"name\": 94}, {\"date\": \"2021-02-24T00:00:00\", \"category\": \"Weapons charge\", \"name\": 13}, {\"date\": \"2021-02-25T00:00:00\", \"category\": \"Aiding and abetting\", \"name\": 28}, {\"date\": \"2021-02-25T00:00:00\", \"category\": \"Assault/resist/impede officer\", \"name\": 48}, {\"date\": \"2021-02-25T00:00:00\", \"category\": \"Conspiracy\", \"name\": 21}, {\"date\": \"2021-02-25T00:00:00\", \"category\": \"Demonstrating in the Capitol\", \"name\": 49}, {\"date\": \"2021-02-25T00:00:00\", \"category\": \"Disruptive/disorderly\", \"name\": 168}, {\"date\": \"2021-02-25T00:00:00\", \"category\": \"Entering restricted area\", \"name\": 184}, {\"date\": \"2021-02-25T00:00:00\", \"category\": \"Obstructing a proceeding\", \"name\": 74}, {\"date\": \"2021-02-25T00:00:00\", \"category\": \"Other\", \"name\": 3}, {\"date\": \"2021-02-25T00:00:00\", \"category\": \"Physical violence\", \"name\": 16}, {\"date\": \"2021-02-25T00:00:00\", \"category\": \"Property damage\", \"name\": 45}, {\"date\": \"2021-02-25T00:00:00\", \"category\": \"Tampering\", \"name\": 2}, {\"date\": \"2021-02-25T00:00:00\", \"category\": \"Unlawful activities\", \"name\": 6}, {\"date\": \"2021-02-25T00:00:00\", \"category\": \"Violent entry\", \"name\": 94}, {\"date\": \"2021-02-25T00:00:00\", \"category\": \"Weapons charge\", \"name\": 13}, {\"date\": \"2021-02-26T00:00:00\", \"category\": \"Aiding and abetting\", \"name\": 28}, {\"date\": \"2021-02-26T00:00:00\", \"category\": \"Assault/resist/impede officer\", \"name\": 48}, {\"date\": \"2021-02-26T00:00:00\", \"category\": \"Conspiracy\", \"name\": 21}, {\"date\": \"2021-02-26T00:00:00\", \"category\": \"Demonstrating in the Capitol\", \"name\": 49}, {\"date\": \"2021-02-26T00:00:00\", \"category\": \"Disruptive/disorderly\", \"name\": 168}, {\"date\": \"2021-02-26T00:00:00\", \"category\": \"Entering restricted area\", \"name\": 184}, {\"date\": \"2021-02-26T00:00:00\", \"category\": \"Obstructing a proceeding\", \"name\": 74}, {\"date\": \"2021-02-26T00:00:00\", \"category\": \"Other\", \"name\": 3}, {\"date\": \"2021-02-26T00:00:00\", \"category\": \"Physical violence\", \"name\": 16}, {\"date\": \"2021-02-26T00:00:00\", \"category\": \"Property damage\", \"name\": 45}, {\"date\": \"2021-02-26T00:00:00\", \"category\": \"Tampering\", \"name\": 2}, {\"date\": \"2021-02-26T00:00:00\", \"category\": \"Unlawful activities\", \"name\": 6}, {\"date\": \"2021-02-26T00:00:00\", \"category\": \"Violent entry\", \"name\": 94}, {\"date\": \"2021-02-26T00:00:00\", \"category\": \"Weapons charge\", \"name\": 13}, {\"date\": \"2021-02-27T00:00:00\", \"category\": \"Aiding and abetting\", \"name\": 28}, {\"date\": \"2021-02-27T00:00:00\", \"category\": \"Assault/resist/impede officer\", \"name\": 49}, {\"date\": \"2021-02-27T00:00:00\", \"category\": \"Conspiracy\", \"name\": 21}, {\"date\": \"2021-02-27T00:00:00\", \"category\": \"Demonstrating in the Capitol\", \"name\": 52}, {\"date\": \"2021-02-27T00:00:00\", \"category\": \"Disruptive/disorderly\", \"name\": 177}, {\"date\": \"2021-02-27T00:00:00\", \"category\": \"Entering restricted area\", \"name\": 189}, {\"date\": \"2021-02-27T00:00:00\", \"category\": \"Obstructing a proceeding\", \"name\": 77}, {\"date\": \"2021-02-27T00:00:00\", \"category\": \"Other\", \"name\": 3}, {\"date\": \"2021-02-27T00:00:00\", \"category\": \"Physical violence\", \"name\": 17}, {\"date\": \"2021-02-27T00:00:00\", \"category\": \"Property damage\", \"name\": 45}, {\"date\": \"2021-02-27T00:00:00\", \"category\": \"Tampering\", \"name\": 2}, {\"date\": \"2021-02-27T00:00:00\", \"category\": \"Unlawful activities\", \"name\": 6}, {\"date\": \"2021-02-27T00:00:00\", \"category\": \"Violent entry\", \"name\": 91}, {\"date\": \"2021-02-27T00:00:00\", \"category\": \"Weapons charge\", \"name\": 16}, {\"date\": \"2021-02-28T00:00:00\", \"category\": \"Aiding and abetting\", \"name\": 28}, {\"date\": \"2021-02-28T00:00:00\", \"category\": \"Assault/resist/impede officer\", \"name\": 50}, {\"date\": \"2021-02-28T00:00:00\", \"category\": \"Conspiracy\", \"name\": 22}, {\"date\": \"2021-02-28T00:00:00\", \"category\": \"Demonstrating in the Capitol\", \"name\": 52}, {\"date\": \"2021-02-28T00:00:00\", \"category\": \"Disruptive/disorderly\", \"name\": 178}, {\"date\": \"2021-02-28T00:00:00\", \"category\": \"Entering restricted area\", \"name\": 192}, {\"date\": \"2021-02-28T00:00:00\", \"category\": \"Obstructing a proceeding\", \"name\": 80}, {\"date\": \"2021-02-28T00:00:00\", \"category\": \"Other\", \"name\": 3}, {\"date\": \"2021-02-28T00:00:00\", \"category\": \"Physical violence\", \"name\": 17}, {\"date\": \"2021-02-28T00:00:00\", \"category\": \"Property damage\", \"name\": 45}, {\"date\": \"2021-02-28T00:00:00\", \"category\": \"Tampering\", \"name\": 2}, {\"date\": \"2021-02-28T00:00:00\", \"category\": \"Unlawful activities\", \"name\": 6}, {\"date\": \"2021-02-28T00:00:00\", \"category\": \"Violent entry\", \"name\": 93}, {\"date\": \"2021-02-28T00:00:00\", \"category\": \"Weapons charge\", \"name\": 16}, {\"date\": \"2021-03-01T00:00:00\", \"category\": \"Aiding and abetting\", \"name\": 26}, {\"date\": \"2021-03-01T00:00:00\", \"category\": \"Assault/resist/impede officer\", \"name\": 63}, {\"date\": \"2021-03-01T00:00:00\", \"category\": \"Conspiracy\", \"name\": 22}, {\"date\": \"2021-03-01T00:00:00\", \"category\": \"Demonstrating in the Capitol\", \"name\": 69}, {\"date\": \"2021-03-01T00:00:00\", \"category\": \"Disruptive/disorderly\", \"name\": 229}, {\"date\": \"2021-03-01T00:00:00\", \"category\": \"Entering restricted area\", \"name\": 247}, {\"date\": \"2021-03-01T00:00:00\", \"category\": \"Obstructing a proceeding\", \"name\": 99}, {\"date\": \"2021-03-01T00:00:00\", \"category\": \"Other\", \"name\": 4}, {\"date\": \"2021-03-01T00:00:00\", \"category\": \"Physical violence\", \"name\": 21}, {\"date\": \"2021-03-01T00:00:00\", \"category\": \"Property damage\", \"name\": 49}, {\"date\": \"2021-03-01T00:00:00\", \"category\": \"Tampering\", \"name\": 2}, {\"date\": \"2021-03-01T00:00:00\", \"category\": \"Unlawful activities\", \"name\": 6}, {\"date\": \"2021-03-01T00:00:00\", \"category\": \"Violent entry\", \"name\": 121}, {\"date\": \"2021-03-01T00:00:00\", \"category\": \"Weapons charge\", \"name\": 19}, {\"date\": \"2021-03-02T00:00:00\", \"category\": \"Aiding and abetting\", \"name\": 26}, {\"date\": \"2021-03-02T00:00:00\", \"category\": \"Assault/resist/impede officer\", \"name\": 63}, {\"date\": \"2021-03-02T00:00:00\", \"category\": \"Conspiracy\", \"name\": 22}, {\"date\": \"2021-03-02T00:00:00\", \"category\": \"Demonstrating in the Capitol\", \"name\": 69}, {\"date\": \"2021-03-02T00:00:00\", \"category\": \"Disruptive/disorderly\", \"name\": 229}, {\"date\": \"2021-03-02T00:00:00\", \"category\": \"Entering restricted area\", \"name\": 247}, {\"date\": \"2021-03-02T00:00:00\", \"category\": \"Obstructing a proceeding\", \"name\": 99}, {\"date\": \"2021-03-02T00:00:00\", \"category\": \"Other\", \"name\": 4}, {\"date\": \"2021-03-02T00:00:00\", \"category\": \"Physical violence\", \"name\": 21}, {\"date\": \"2021-03-02T00:00:00\", \"category\": \"Property damage\", \"name\": 49}, {\"date\": \"2021-03-02T00:00:00\", \"category\": \"Tampering\", \"name\": 2}, {\"date\": \"2021-03-02T00:00:00\", \"category\": \"Unlawful activities\", \"name\": 6}, {\"date\": \"2021-03-02T00:00:00\", \"category\": \"Violent entry\", \"name\": 121}, {\"date\": \"2021-03-02T00:00:00\", \"category\": \"Weapons charge\", \"name\": 19}, {\"date\": \"2021-03-03T00:00:00\", \"category\": \"Aiding and abetting\", \"name\": 26}, {\"date\": \"2021-03-03T00:00:00\", \"category\": \"Assault/resist/impede officer\", \"name\": 63}, {\"date\": \"2021-03-03T00:00:00\", \"category\": \"Conspiracy\", \"name\": 22}, {\"date\": \"2021-03-03T00:00:00\", \"category\": \"Demonstrating in the Capitol\", \"name\": 69}, {\"date\": \"2021-03-03T00:00:00\", \"category\": \"Disruptive/disorderly\", \"name\": 229}, {\"date\": \"2021-03-03T00:00:00\", \"category\": \"Entering restricted area\", \"name\": 247}, {\"date\": \"2021-03-03T00:00:00\", \"category\": \"Obstructing a proceeding\", \"name\": 99}, {\"date\": \"2021-03-03T00:00:00\", \"category\": \"Other\", \"name\": 4}, {\"date\": \"2021-03-03T00:00:00\", \"category\": \"Physical violence\", \"name\": 21}, {\"date\": \"2021-03-03T00:00:00\", \"category\": \"Property damage\", \"name\": 49}, {\"date\": \"2021-03-03T00:00:00\", \"category\": \"Tampering\", \"name\": 2}, {\"date\": \"2021-03-03T00:00:00\", \"category\": \"Unlawful activities\", \"name\": 6}, {\"date\": \"2021-03-03T00:00:00\", \"category\": \"Violent entry\", \"name\": 121}, {\"date\": \"2021-03-03T00:00:00\", \"category\": \"Weapons charge\", \"name\": 19}, {\"date\": \"2021-03-04T00:00:00\", \"category\": \"Aiding and abetting\", \"name\": 26}, {\"date\": \"2021-03-04T00:00:00\", \"category\": \"Assault/resist/impede officer\", \"name\": 63}, {\"date\": \"2021-03-04T00:00:00\", \"category\": \"Conspiracy\", \"name\": 22}, {\"date\": \"2021-03-04T00:00:00\", \"category\": \"Demonstrating in the Capitol\", \"name\": 69}, {\"date\": \"2021-03-04T00:00:00\", \"category\": \"Disruptive/disorderly\", \"name\": 229}, {\"date\": \"2021-03-04T00:00:00\", \"category\": \"Entering restricted area\", \"name\": 247}, {\"date\": \"2021-03-04T00:00:00\", \"category\": \"Obstructing a proceeding\", \"name\": 99}, {\"date\": \"2021-03-04T00:00:00\", \"category\": \"Other\", \"name\": 4}, {\"date\": \"2021-03-04T00:00:00\", \"category\": \"Physical violence\", \"name\": 21}, {\"date\": \"2021-03-04T00:00:00\", \"category\": \"Property damage\", \"name\": 49}, {\"date\": \"2021-03-04T00:00:00\", \"category\": \"Tampering\", \"name\": 2}, {\"date\": \"2021-03-04T00:00:00\", \"category\": \"Unlawful activities\", \"name\": 6}, {\"date\": \"2021-03-04T00:00:00\", \"category\": \"Violent entry\", \"name\": 121}, {\"date\": \"2021-03-04T00:00:00\", \"category\": \"Weapons charge\", \"name\": 19}, {\"date\": \"2021-03-05T00:00:00\", \"category\": \"Aiding and abetting\", \"name\": 26}, {\"date\": \"2021-03-05T00:00:00\", \"category\": \"Assault/resist/impede officer\", \"name\": 63}, {\"date\": \"2021-03-05T00:00:00\", \"category\": \"Conspiracy\", \"name\": 22}, {\"date\": \"2021-03-05T00:00:00\", \"category\": \"Demonstrating in the Capitol\", \"name\": 69}, {\"date\": \"2021-03-05T00:00:00\", \"category\": \"Disruptive/disorderly\", \"name\": 229}, {\"date\": \"2021-03-05T00:00:00\", \"category\": \"Entering restricted area\", \"name\": 247}, {\"date\": \"2021-03-05T00:00:00\", \"category\": \"Obstructing a proceeding\", \"name\": 99}, {\"date\": \"2021-03-05T00:00:00\", \"category\": \"Other\", \"name\": 4}, {\"date\": \"2021-03-05T00:00:00\", \"category\": \"Physical violence\", \"name\": 21}, {\"date\": \"2021-03-05T00:00:00\", \"category\": \"Property damage\", \"name\": 49}, {\"date\": \"2021-03-05T00:00:00\", \"category\": \"Tampering\", \"name\": 2}, {\"date\": \"2021-03-05T00:00:00\", \"category\": \"Unlawful activities\", \"name\": 6}, {\"date\": \"2021-03-05T00:00:00\", \"category\": \"Violent entry\", \"name\": 121}, {\"date\": \"2021-03-05T00:00:00\", \"category\": \"Weapons charge\", \"name\": 19}, {\"date\": \"2021-03-08T00:00:00\", \"category\": \"Aiding and abetting\", \"name\": 26}, {\"date\": \"2021-03-08T00:00:00\", \"category\": \"Assault/resist/impede officer\", \"name\": 65}, {\"date\": \"2021-03-08T00:00:00\", \"category\": \"Conspiracy\", \"name\": 22}, {\"date\": \"2021-03-08T00:00:00\", \"category\": \"Demonstrating in the Capitol\", \"name\": 69}, {\"date\": \"2021-03-08T00:00:00\", \"category\": \"Disruptive/disorderly\", \"name\": 230}, {\"date\": \"2021-03-08T00:00:00\", \"category\": \"Entering restricted area\", \"name\": 248}, {\"date\": \"2021-03-08T00:00:00\", \"category\": \"Obstructing a proceeding\", \"name\": 100}, {\"date\": \"2021-03-08T00:00:00\", \"category\": \"Other\", \"name\": 4}, {\"date\": \"2021-03-08T00:00:00\", \"category\": \"Physical violence\", \"name\": 21}, {\"date\": \"2021-03-08T00:00:00\", \"category\": \"Property damage\", \"name\": 49}, {\"date\": \"2021-03-08T00:00:00\", \"category\": \"Tampering\", \"name\": 2}, {\"date\": \"2021-03-08T00:00:00\", \"category\": \"Unlawful activities\", \"name\": 6}, {\"date\": \"2021-03-08T00:00:00\", \"category\": \"Violent entry\", \"name\": 121}, {\"date\": \"2021-03-08T00:00:00\", \"category\": \"Weapons charge\", \"name\": 19}, {\"date\": \"2021-03-09T00:00:00\", \"category\": \"Aiding and abetting\", \"name\": 26}, {\"date\": \"2021-03-09T00:00:00\", \"category\": \"Assault/resist/impede officer\", \"name\": 65}, {\"date\": \"2021-03-09T00:00:00\", \"category\": \"Conspiracy\", \"name\": 22}, {\"date\": \"2021-03-09T00:00:00\", \"category\": \"Demonstrating in the Capitol\", \"name\": 69}, {\"date\": \"2021-03-09T00:00:00\", \"category\": \"Disruptive/disorderly\", \"name\": 230}, {\"date\": \"2021-03-09T00:00:00\", \"category\": \"Entering restricted area\", \"name\": 249}, {\"date\": \"2021-03-09T00:00:00\", \"category\": \"Obstructing a proceeding\", \"name\": 101}, {\"date\": \"2021-03-09T00:00:00\", \"category\": \"Other\", \"name\": 4}, {\"date\": \"2021-03-09T00:00:00\", \"category\": \"Physical violence\", \"name\": 21}, {\"date\": \"2021-03-09T00:00:00\", \"category\": \"Property damage\", \"name\": 49}, {\"date\": \"2021-03-09T00:00:00\", \"category\": \"Tampering\", \"name\": 3}, {\"date\": \"2021-03-09T00:00:00\", \"category\": \"Unlawful activities\", \"name\": 6}, {\"date\": \"2021-03-09T00:00:00\", \"category\": \"Violent entry\", \"name\": 121}, {\"date\": \"2021-03-09T00:00:00\", \"category\": \"Weapons charge\", \"name\": 19}, {\"date\": \"2021-03-10T00:00:00\", \"category\": \"Aiding and abetting\", \"name\": 26}, {\"date\": \"2021-03-10T00:00:00\", \"category\": \"Assault/resist/impede officer\", \"name\": 66}, {\"date\": \"2021-03-10T00:00:00\", \"category\": \"Conspiracy\", \"name\": 22}, {\"date\": \"2021-03-10T00:00:00\", \"category\": \"Demonstrating in the Capitol\", \"name\": 69}, {\"date\": \"2021-03-10T00:00:00\", \"category\": \"Disruptive/disorderly\", \"name\": 230}, {\"date\": \"2021-03-10T00:00:00\", \"category\": \"Entering restricted area\", \"name\": 250}, {\"date\": \"2021-03-10T00:00:00\", \"category\": \"Obstructing a proceeding\", \"name\": 102}, {\"date\": \"2021-03-10T00:00:00\", \"category\": \"Other\", \"name\": 4}, {\"date\": \"2021-03-10T00:00:00\", \"category\": \"Physical violence\", \"name\": 21}, {\"date\": \"2021-03-10T00:00:00\", \"category\": \"Property damage\", \"name\": 49}, {\"date\": \"2021-03-10T00:00:00\", \"category\": \"Tampering\", \"name\": 3}, {\"date\": \"2021-03-10T00:00:00\", \"category\": \"Unlawful activities\", \"name\": 6}, {\"date\": \"2021-03-10T00:00:00\", \"category\": \"Violent entry\", \"name\": 122}, {\"date\": \"2021-03-10T00:00:00\", \"category\": \"Weapons charge\", \"name\": 19}, {\"date\": \"2021-03-11T00:00:00\", \"category\": \"Aiding and abetting\", \"name\": 26}, {\"date\": \"2021-03-11T00:00:00\", \"category\": \"Assault/resist/impede officer\", \"name\": 66}, {\"date\": \"2021-03-11T00:00:00\", \"category\": \"Conspiracy\", \"name\": 22}, {\"date\": \"2021-03-11T00:00:00\", \"category\": \"Demonstrating in the Capitol\", \"name\": 69}, {\"date\": \"2021-03-11T00:00:00\", \"category\": \"Disruptive/disorderly\", \"name\": 230}, {\"date\": \"2021-03-11T00:00:00\", \"category\": \"Entering restricted area\", \"name\": 250}, {\"date\": \"2021-03-11T00:00:00\", \"category\": \"Obstructing a proceeding\", \"name\": 102}, {\"date\": \"2021-03-11T00:00:00\", \"category\": \"Other\", \"name\": 4}, {\"date\": \"2021-03-11T00:00:00\", \"category\": \"Physical violence\", \"name\": 21}, {\"date\": \"2021-03-11T00:00:00\", \"category\": \"Property damage\", \"name\": 49}, {\"date\": \"2021-03-11T00:00:00\", \"category\": \"Tampering\", \"name\": 3}, {\"date\": \"2021-03-11T00:00:00\", \"category\": \"Unlawful activities\", \"name\": 6}, {\"date\": \"2021-03-11T00:00:00\", \"category\": \"Violent entry\", \"name\": 122}, {\"date\": \"2021-03-11T00:00:00\", \"category\": \"Weapons charge\", \"name\": 19}, {\"date\": \"2021-03-12T00:00:00\", \"category\": \"Aiding and abetting\", \"name\": 26}, {\"date\": \"2021-03-12T00:00:00\", \"category\": \"Assault/resist/impede officer\", \"name\": 66}, {\"date\": \"2021-03-12T00:00:00\", \"category\": \"Conspiracy\", \"name\": 22}, {\"date\": \"2021-03-12T00:00:00\", \"category\": \"Demonstrating in the Capitol\", \"name\": 69}, {\"date\": \"2021-03-12T00:00:00\", \"category\": \"Disruptive/disorderly\", \"name\": 230}, {\"date\": \"2021-03-12T00:00:00\", \"category\": \"Entering restricted area\", \"name\": 250}, {\"date\": \"2021-03-12T00:00:00\", \"category\": \"Obstructing a proceeding\", \"name\": 102}, {\"date\": \"2021-03-12T00:00:00\", \"category\": \"Other\", \"name\": 4}, {\"date\": \"2021-03-12T00:00:00\", \"category\": \"Physical violence\", \"name\": 21}, {\"date\": \"2021-03-12T00:00:00\", \"category\": \"Property damage\", \"name\": 49}, {\"date\": \"2021-03-12T00:00:00\", \"category\": \"Tampering\", \"name\": 3}, {\"date\": \"2021-03-12T00:00:00\", \"category\": \"Unlawful activities\", \"name\": 6}, {\"date\": \"2021-03-12T00:00:00\", \"category\": \"Violent entry\", \"name\": 122}, {\"date\": \"2021-03-12T00:00:00\", \"category\": \"Weapons charge\", \"name\": 19}, {\"date\": \"2021-03-13T00:00:00\", \"category\": \"Aiding and abetting\", \"name\": 26}, {\"date\": \"2021-03-13T00:00:00\", \"category\": \"Assault/resist/impede officer\", \"name\": 66}, {\"date\": \"2021-03-13T00:00:00\", \"category\": \"Conspiracy\", \"name\": 22}, {\"date\": \"2021-03-13T00:00:00\", \"category\": \"Demonstrating in the Capitol\", \"name\": 69}, {\"date\": \"2021-03-13T00:00:00\", \"category\": \"Disruptive/disorderly\", \"name\": 230}, {\"date\": \"2021-03-13T00:00:00\", \"category\": \"Entering restricted area\", \"name\": 250}, {\"date\": \"2021-03-13T00:00:00\", \"category\": \"Obstructing a proceeding\", \"name\": 102}, {\"date\": \"2021-03-13T00:00:00\", \"category\": \"Other\", \"name\": 4}, {\"date\": \"2021-03-13T00:00:00\", \"category\": \"Physical violence\", \"name\": 21}, {\"date\": \"2021-03-13T00:00:00\", \"category\": \"Property damage\", \"name\": 49}, {\"date\": \"2021-03-13T00:00:00\", \"category\": \"Tampering\", \"name\": 3}, {\"date\": \"2021-03-13T00:00:00\", \"category\": \"Unlawful activities\", \"name\": 6}, {\"date\": \"2021-03-13T00:00:00\", \"category\": \"Violent entry\", \"name\": 122}, {\"date\": \"2021-03-13T00:00:00\", \"category\": \"Weapons charge\", \"name\": 19}, {\"date\": \"2021-03-14T00:00:00\", \"category\": \"Aiding and abetting\", \"name\": 26}, {\"date\": \"2021-03-14T00:00:00\", \"category\": \"Assault/resist/impede officer\", \"name\": 66}, {\"date\": \"2021-03-14T00:00:00\", \"category\": \"Conspiracy\", \"name\": 22}, {\"date\": \"2021-03-14T00:00:00\", \"category\": \"Demonstrating in the Capitol\", \"name\": 69}, {\"date\": \"2021-03-14T00:00:00\", \"category\": \"Disruptive/disorderly\", \"name\": 230}, {\"date\": \"2021-03-14T00:00:00\", \"category\": \"Entering restricted area\", \"name\": 250}, {\"date\": \"2021-03-14T00:00:00\", \"category\": \"Obstructing a proceeding\", \"name\": 102}, {\"date\": \"2021-03-14T00:00:00\", \"category\": \"Other\", \"name\": 4}, {\"date\": \"2021-03-14T00:00:00\", \"category\": \"Physical violence\", \"name\": 21}, {\"date\": \"2021-03-14T00:00:00\", \"category\": \"Property damage\", \"name\": 49}, {\"date\": \"2021-03-14T00:00:00\", \"category\": \"Tampering\", \"name\": 3}, {\"date\": \"2021-03-14T00:00:00\", \"category\": \"Unlawful activities\", \"name\": 6}, {\"date\": \"2021-03-14T00:00:00\", \"category\": \"Violent entry\", \"name\": 122}, {\"date\": \"2021-03-14T00:00:00\", \"category\": \"Weapons charge\", \"name\": 19}, {\"date\": \"2021-03-15T00:00:00\", \"category\": \"Aiding and abetting\", \"name\": 26}, {\"date\": \"2021-03-15T00:00:00\", \"category\": \"Assault/resist/impede officer\", \"name\": 68}, {\"date\": \"2021-03-15T00:00:00\", \"category\": \"Conspiracy\", \"name\": 23}, {\"date\": \"2021-03-15T00:00:00\", \"category\": \"Demonstrating in the Capitol\", \"name\": 69}, {\"date\": \"2021-03-15T00:00:00\", \"category\": \"Disruptive/disorderly\", \"name\": 230}, {\"date\": \"2021-03-15T00:00:00\", \"category\": \"Entering restricted area\", \"name\": 250}, {\"date\": \"2021-03-15T00:00:00\", \"category\": \"Obstructing a proceeding\", \"name\": 103}, {\"date\": \"2021-03-15T00:00:00\", \"category\": \"Other\", \"name\": 4}, {\"date\": \"2021-03-15T00:00:00\", \"category\": \"Physical violence\", \"name\": 22}, {\"date\": \"2021-03-15T00:00:00\", \"category\": \"Property damage\", \"name\": 49}, {\"date\": \"2021-03-15T00:00:00\", \"category\": \"Tampering\", \"name\": 3}, {\"date\": \"2021-03-15T00:00:00\", \"category\": \"Unlawful activities\", \"name\": 6}, {\"date\": \"2021-03-15T00:00:00\", \"category\": \"Violent entry\", \"name\": 122}, {\"date\": \"2021-03-15T00:00:00\", \"category\": \"Weapons charge\", \"name\": 19}, {\"date\": \"2021-03-16T00:00:00\", \"category\": \"Aiding and abetting\", \"name\": 26}, {\"date\": \"2021-03-16T00:00:00\", \"category\": \"Assault/resist/impede officer\", \"name\": 70}, {\"date\": \"2021-03-16T00:00:00\", \"category\": \"Conspiracy\", \"name\": 24}, {\"date\": \"2021-03-16T00:00:00\", \"category\": \"Demonstrating in the Capitol\", \"name\": 69}, {\"date\": \"2021-03-16T00:00:00\", \"category\": \"Disruptive/disorderly\", \"name\": 230}, {\"date\": \"2021-03-16T00:00:00\", \"category\": \"Entering restricted area\", \"name\": 250}, {\"date\": \"2021-03-16T00:00:00\", \"category\": \"Obstructing a proceeding\", \"name\": 104}, {\"date\": \"2021-03-16T00:00:00\", \"category\": \"Other\", \"name\": 4}, {\"date\": \"2021-03-16T00:00:00\", \"category\": \"Physical violence\", \"name\": 23}, {\"date\": \"2021-03-16T00:00:00\", \"category\": \"Property damage\", \"name\": 49}, {\"date\": \"2021-03-16T00:00:00\", \"category\": \"Tampering\", \"name\": 3}, {\"date\": \"2021-03-16T00:00:00\", \"category\": \"Unlawful activities\", \"name\": 6}, {\"date\": \"2021-03-16T00:00:00\", \"category\": \"Violent entry\", \"name\": 122}, {\"date\": \"2021-03-16T00:00:00\", \"category\": \"Weapons charge\", \"name\": 19}, {\"date\": \"2021-03-17T00:00:00\", \"category\": \"Aiding and abetting\", \"name\": 26}, {\"date\": \"2021-03-17T00:00:00\", \"category\": \"Assault/resist/impede officer\", \"name\": 70}, {\"date\": \"2021-03-17T00:00:00\", \"category\": \"Conspiracy\", \"name\": 24}, {\"date\": \"2021-03-17T00:00:00\", \"category\": \"Demonstrating in the Capitol\", \"name\": 69}, {\"date\": \"2021-03-17T00:00:00\", \"category\": \"Disruptive/disorderly\", \"name\": 230}, {\"date\": \"2021-03-17T00:00:00\", \"category\": \"Entering restricted area\", \"name\": 250}, {\"date\": \"2021-03-17T00:00:00\", \"category\": \"Obstructing a proceeding\", \"name\": 104}, {\"date\": \"2021-03-17T00:00:00\", \"category\": \"Other\", \"name\": 4}, {\"date\": \"2021-03-17T00:00:00\", \"category\": \"Physical violence\", \"name\": 23}, {\"date\": \"2021-03-17T00:00:00\", \"category\": \"Property damage\", \"name\": 49}, {\"date\": \"2021-03-17T00:00:00\", \"category\": \"Tampering\", \"name\": 3}, {\"date\": \"2021-03-17T00:00:00\", \"category\": \"Unlawful activities\", \"name\": 6}, {\"date\": \"2021-03-17T00:00:00\", \"category\": \"Violent entry\", \"name\": 122}, {\"date\": \"2021-03-17T00:00:00\", \"category\": \"Weapons charge\", \"name\": 19}, {\"date\": \"2021-03-18T00:00:00\", \"category\": \"Aiding and abetting\", \"name\": 26}, {\"date\": \"2021-03-18T00:00:00\", \"category\": \"Assault/resist/impede officer\", \"name\": 70}, {\"date\": \"2021-03-18T00:00:00\", \"category\": \"Conspiracy\", \"name\": 24}, {\"date\": \"2021-03-18T00:00:00\", \"category\": \"Demonstrating in the Capitol\", \"name\": 69}, {\"date\": \"2021-03-18T00:00:00\", \"category\": \"Disruptive/disorderly\", \"name\": 230}, {\"date\": \"2021-03-18T00:00:00\", \"category\": \"Entering restricted area\", \"name\": 250}, {\"date\": \"2021-03-18T00:00:00\", \"category\": \"Obstructing a proceeding\", \"name\": 104}, {\"date\": \"2021-03-18T00:00:00\", \"category\": \"Other\", \"name\": 4}, {\"date\": \"2021-03-18T00:00:00\", \"category\": \"Physical violence\", \"name\": 23}, {\"date\": \"2021-03-18T00:00:00\", \"category\": \"Property damage\", \"name\": 49}, {\"date\": \"2021-03-18T00:00:00\", \"category\": \"Tampering\", \"name\": 3}, {\"date\": \"2021-03-18T00:00:00\", \"category\": \"Unlawful activities\", \"name\": 6}, {\"date\": \"2021-03-18T00:00:00\", \"category\": \"Violent entry\", \"name\": 122}, {\"date\": \"2021-03-18T00:00:00\", \"category\": \"Weapons charge\", \"name\": 19}, {\"date\": \"2021-03-19T00:00:00\", \"category\": \"Aiding and abetting\", \"name\": 25}, {\"date\": \"2021-03-19T00:00:00\", \"category\": \"Assault/resist/impede officer\", \"name\": 86}, {\"date\": \"2021-03-19T00:00:00\", \"category\": \"Conspiracy\", \"name\": 28}, {\"date\": \"2021-03-19T00:00:00\", \"category\": \"Demonstrating in the Capitol\", \"name\": 103}, {\"date\": \"2021-03-19T00:00:00\", \"category\": \"Disruptive/disorderly\", \"name\": 299}, {\"date\": \"2021-03-19T00:00:00\", \"category\": \"Entering restricted area\", \"name\": 279}, {\"date\": \"2021-03-19T00:00:00\", \"category\": \"Obstructing a proceeding\", \"name\": 133}, {\"date\": \"2021-03-19T00:00:00\", \"category\": \"Other\", \"name\": 4}, {\"date\": \"2021-03-19T00:00:00\", \"category\": \"Physical violence\", \"name\": 28}, {\"date\": \"2021-03-19T00:00:00\", \"category\": \"Property damage\", \"name\": 53}, {\"date\": \"2021-03-19T00:00:00\", \"category\": \"Tampering\", \"name\": 3}, {\"date\": \"2021-03-19T00:00:00\", \"category\": \"Unlawful activities\", \"name\": 5}, {\"date\": \"2021-03-19T00:00:00\", \"category\": \"Violent entry\", \"name\": 102}, {\"date\": \"2021-03-19T00:00:00\", \"category\": \"Weapons charge\", \"name\": 25}, {\"date\": \"2021-03-20T00:00:00\", \"category\": \"Aiding and abetting\", \"name\": 25}, {\"date\": \"2021-03-20T00:00:00\", \"category\": \"Assault/resist/impede officer\", \"name\": 86}, {\"date\": \"2021-03-20T00:00:00\", \"category\": \"Conspiracy\", \"name\": 29}, {\"date\": \"2021-03-20T00:00:00\", \"category\": \"Demonstrating in the Capitol\", \"name\": 103}, {\"date\": \"2021-03-20T00:00:00\", \"category\": \"Disruptive/disorderly\", \"name\": 299}, {\"date\": \"2021-03-20T00:00:00\", \"category\": \"Entering restricted area\", \"name\": 279}, {\"date\": \"2021-03-20T00:00:00\", \"category\": \"Obstructing a proceeding\", \"name\": 134}, {\"date\": \"2021-03-20T00:00:00\", \"category\": \"Other\", \"name\": 4}, {\"date\": \"2021-03-20T00:00:00\", \"category\": \"Physical violence\", \"name\": 28}, {\"date\": \"2021-03-20T00:00:00\", \"category\": \"Property damage\", \"name\": 54}, {\"date\": \"2021-03-20T00:00:00\", \"category\": \"Tampering\", \"name\": 3}, {\"date\": \"2021-03-20T00:00:00\", \"category\": \"Unlawful activities\", \"name\": 5}, {\"date\": \"2021-03-20T00:00:00\", \"category\": \"Violent entry\", \"name\": 102}, {\"date\": \"2021-03-20T00:00:00\", \"category\": \"Weapons charge\", \"name\": 25}, {\"date\": \"2021-03-21T00:00:00\", \"category\": \"Aiding and abetting\", \"name\": 25}, {\"date\": \"2021-03-21T00:00:00\", \"category\": \"Assault/resist/impede officer\", \"name\": 86}, {\"date\": \"2021-03-21T00:00:00\", \"category\": \"Conspiracy\", \"name\": 29}, {\"date\": \"2021-03-21T00:00:00\", \"category\": \"Demonstrating in the Capitol\", \"name\": 103}, {\"date\": \"2021-03-21T00:00:00\", \"category\": \"Disruptive/disorderly\", \"name\": 299}, {\"date\": \"2021-03-21T00:00:00\", \"category\": \"Entering restricted area\", \"name\": 279}, {\"date\": \"2021-03-21T00:00:00\", \"category\": \"Obstructing a proceeding\", \"name\": 134}, {\"date\": \"2021-03-21T00:00:00\", \"category\": \"Other\", \"name\": 4}, {\"date\": \"2021-03-21T00:00:00\", \"category\": \"Physical violence\", \"name\": 28}, {\"date\": \"2021-03-21T00:00:00\", \"category\": \"Property damage\", \"name\": 54}, {\"date\": \"2021-03-21T00:00:00\", \"category\": \"Tampering\", \"name\": 3}, {\"date\": \"2021-03-21T00:00:00\", \"category\": \"Unlawful activities\", \"name\": 5}, {\"date\": \"2021-03-21T00:00:00\", \"category\": \"Violent entry\", \"name\": 102}, {\"date\": \"2021-03-21T00:00:00\", \"category\": \"Weapons charge\", \"name\": 25}, {\"date\": \"2021-03-22T00:00:00\", \"category\": \"Aiding and abetting\", \"name\": 27}, {\"date\": \"2021-03-22T00:00:00\", \"category\": \"Assault/resist/impede officer\", \"name\": 91}, {\"date\": \"2021-03-22T00:00:00\", \"category\": \"Conspiracy\", \"name\": 26}, {\"date\": \"2021-03-22T00:00:00\", \"category\": \"Demonstrating in the Capitol\", \"name\": 122}, {\"date\": \"2021-03-22T00:00:00\", \"category\": \"Disruptive/disorderly\", \"name\": 344}, {\"date\": \"2021-03-22T00:00:00\", \"category\": \"Entering restricted area\", \"name\": 314}, {\"date\": \"2021-03-22T00:00:00\", \"category\": \"Obstructing a proceeding\", \"name\": 150}, {\"date\": \"2021-03-22T00:00:00\", \"category\": \"Other\", \"name\": 4}, {\"date\": \"2021-03-22T00:00:00\", \"category\": \"Physical violence\", \"name\": 31}, {\"date\": \"2021-03-22T00:00:00\", \"category\": \"Property damage\", \"name\": 57}, {\"date\": \"2021-03-22T00:00:00\", \"category\": \"Tampering\", \"name\": 12}, {\"date\": \"2021-03-22T00:00:00\", \"category\": \"Unlawful activities\", \"name\": 5}, {\"date\": \"2021-03-22T00:00:00\", \"category\": \"Violent entry\", \"name\": 113}, {\"date\": \"2021-03-22T00:00:00\", \"category\": \"Weapons charge\", \"name\": 26}, {\"date\": \"2021-03-24T00:00:00\", \"category\": \"Aiding and abetting\", \"name\": 29}, {\"date\": \"2021-03-24T00:00:00\", \"category\": \"Assault/resist/impede officer\", \"name\": 97}, {\"date\": \"2021-03-24T00:00:00\", \"category\": \"Conspiracy\", \"name\": 26}, {\"date\": \"2021-03-24T00:00:00\", \"category\": \"Demonstrating in the Capitol\", \"name\": 131}, {\"date\": \"2021-03-24T00:00:00\", \"category\": \"Disruptive/disorderly\", \"name\": 363}, {\"date\": \"2021-03-24T00:00:00\", \"category\": \"Entering restricted area\", \"name\": 334}, {\"date\": \"2021-03-24T00:00:00\", \"category\": \"Obstructing a proceeding\", \"name\": 163}, {\"date\": \"2021-03-24T00:00:00\", \"category\": \"Other\", \"name\": 4}, {\"date\": \"2021-03-24T00:00:00\", \"category\": \"Physical violence\", \"name\": 31}, {\"date\": \"2021-03-24T00:00:00\", \"category\": \"Property damage\", \"name\": 57}, {\"date\": \"2021-03-24T00:00:00\", \"category\": \"Tampering\", \"name\": 12}, {\"date\": \"2021-03-24T00:00:00\", \"category\": \"Unlawful activities\", \"name\": 5}, {\"date\": \"2021-03-24T00:00:00\", \"category\": \"Violent entry\", \"name\": 123}, {\"date\": \"2021-03-24T00:00:00\", \"category\": \"Weapons charge\", \"name\": 26}, {\"date\": \"2021-03-25T00:00:00\", \"category\": \"Aiding and abetting\", \"name\": 31}, {\"date\": \"2021-03-25T00:00:00\", \"category\": \"Assault/resist/impede officer\", \"name\": 101}, {\"date\": \"2021-03-25T00:00:00\", \"category\": \"Conspiracy\", \"name\": 26}, {\"date\": \"2021-03-25T00:00:00\", \"category\": \"Demonstrating in the Capitol\", \"name\": 145}, {\"date\": \"2021-03-25T00:00:00\", \"category\": \"Disruptive/disorderly\", \"name\": 388}, {\"date\": \"2021-03-25T00:00:00\", \"category\": \"Entering restricted area\", \"name\": 356}, {\"date\": \"2021-03-25T00:00:00\", \"category\": \"Obstructing a proceeding\", \"name\": 173}, {\"date\": \"2021-03-25T00:00:00\", \"category\": \"Other\", \"name\": 4}, {\"date\": \"2021-03-25T00:00:00\", \"category\": \"Physical violence\", \"name\": 37}, {\"date\": \"2021-03-25T00:00:00\", \"category\": \"Property damage\", \"name\": 56}, {\"date\": \"2021-03-25T00:00:00\", \"category\": \"Tampering\", \"name\": 12}, {\"date\": \"2021-03-25T00:00:00\", \"category\": \"Unlawful activities\", \"name\": 4}, {\"date\": \"2021-03-25T00:00:00\", \"category\": \"Violent entry\", \"name\": 131}, {\"date\": \"2021-03-25T00:00:00\", \"category\": \"Weapons charge\", \"name\": 27}, {\"date\": \"2021-03-26T00:00:00\", \"category\": \"Aiding and abetting\", \"name\": 31}, {\"date\": \"2021-03-26T00:00:00\", \"category\": \"Assault/resist/impede officer\", \"name\": 103}, {\"date\": \"2021-03-26T00:00:00\", \"category\": \"Conspiracy\", \"name\": 26}, {\"date\": \"2021-03-26T00:00:00\", \"category\": \"Demonstrating in the Capitol\", \"name\": 148}, {\"date\": \"2021-03-26T00:00:00\", \"category\": \"Disruptive/disorderly\", \"name\": 399}, {\"date\": \"2021-03-26T00:00:00\", \"category\": \"Entering restricted area\", \"name\": 358}, {\"date\": \"2021-03-26T00:00:00\", \"category\": \"Obstructing a proceeding\", \"name\": 173}, {\"date\": \"2021-03-26T00:00:00\", \"category\": \"Other\", \"name\": 4}, {\"date\": \"2021-03-26T00:00:00\", \"category\": \"Physical violence\", \"name\": 38}, {\"date\": \"2021-03-26T00:00:00\", \"category\": \"Property damage\", \"name\": 56}, {\"date\": \"2021-03-26T00:00:00\", \"category\": \"Tampering\", \"name\": 12}, {\"date\": \"2021-03-26T00:00:00\", \"category\": \"Unlawful activities\", \"name\": 4}, {\"date\": \"2021-03-26T00:00:00\", \"category\": \"Violent entry\", \"name\": 127}, {\"date\": \"2021-03-26T00:00:00\", \"category\": \"Weapons charge\", \"name\": 28}, {\"date\": \"2021-03-27T00:00:00\", \"category\": \"Aiding and abetting\", \"name\": 31}, {\"date\": \"2021-03-27T00:00:00\", \"category\": \"Assault/resist/impede officer\", \"name\": 103}, {\"date\": \"2021-03-27T00:00:00\", \"category\": \"Conspiracy\", \"name\": 26}, {\"date\": \"2021-03-27T00:00:00\", \"category\": \"Demonstrating in the Capitol\", \"name\": 147}, {\"date\": \"2021-03-27T00:00:00\", \"category\": \"Disruptive/disorderly\", \"name\": 399}, {\"date\": \"2021-03-27T00:00:00\", \"category\": \"Entering restricted area\", \"name\": 356}, {\"date\": \"2021-03-27T00:00:00\", \"category\": \"Obstructing a proceeding\", \"name\": 173}, {\"date\": \"2021-03-27T00:00:00\", \"category\": \"Other\", \"name\": 4}, {\"date\": \"2021-03-27T00:00:00\", \"category\": \"Physical violence\", \"name\": 38}, {\"date\": \"2021-03-27T00:00:00\", \"category\": \"Property damage\", \"name\": 56}, {\"date\": \"2021-03-27T00:00:00\", \"category\": \"Tampering\", \"name\": 12}, {\"date\": \"2021-03-27T00:00:00\", \"category\": \"Unlawful activities\", \"name\": 4}, {\"date\": \"2021-03-27T00:00:00\", \"category\": \"Violent entry\", \"name\": 126}, {\"date\": \"2021-03-27T00:00:00\", \"category\": \"Weapons charge\", \"name\": 28}, {\"date\": \"2021-03-28T00:00:00\", \"category\": \"Aiding and abetting\", \"name\": 31}, {\"date\": \"2021-03-28T00:00:00\", \"category\": \"Assault/resist/impede officer\", \"name\": 103}, {\"date\": \"2021-03-28T00:00:00\", \"category\": \"Conspiracy\", \"name\": 26}, {\"date\": \"2021-03-28T00:00:00\", \"category\": \"Demonstrating in the Capitol\", \"name\": 147}, {\"date\": \"2021-03-28T00:00:00\", \"category\": \"Disruptive/disorderly\", \"name\": 399}, {\"date\": \"2021-03-28T00:00:00\", \"category\": \"Entering restricted area\", \"name\": 356}, {\"date\": \"2021-03-28T00:00:00\", \"category\": \"Obstructing a proceeding\", \"name\": 173}, {\"date\": \"2021-03-28T00:00:00\", \"category\": \"Other\", \"name\": 4}, {\"date\": \"2021-03-28T00:00:00\", \"category\": \"Physical violence\", \"name\": 38}, {\"date\": \"2021-03-28T00:00:00\", \"category\": \"Property damage\", \"name\": 56}, {\"date\": \"2021-03-28T00:00:00\", \"category\": \"Tampering\", \"name\": 12}, {\"date\": \"2021-03-28T00:00:00\", \"category\": \"Unlawful activities\", \"name\": 4}, {\"date\": \"2021-03-28T00:00:00\", \"category\": \"Violent entry\", \"name\": 126}, {\"date\": \"2021-03-28T00:00:00\", \"category\": \"Weapons charge\", \"name\": 28}, {\"date\": \"2021-03-29T00:00:00\", \"category\": \"Aiding and abetting\", \"name\": 31}, {\"date\": \"2021-03-29T00:00:00\", \"category\": \"Assault/resist/impede officer\", \"name\": 103}, {\"date\": \"2021-03-29T00:00:00\", \"category\": \"Conspiracy\", \"name\": 26}, {\"date\": \"2021-03-29T00:00:00\", \"category\": \"Demonstrating in the Capitol\", \"name\": 148}, {\"date\": \"2021-03-29T00:00:00\", \"category\": \"Disruptive/disorderly\", \"name\": 399}, {\"date\": \"2021-03-29T00:00:00\", \"category\": \"Entering restricted area\", \"name\": 356}, {\"date\": \"2021-03-29T00:00:00\", \"category\": \"Obstructing a proceeding\", \"name\": 173}, {\"date\": \"2021-03-29T00:00:00\", \"category\": \"Other\", \"name\": 4}, {\"date\": \"2021-03-29T00:00:00\", \"category\": \"Physical violence\", \"name\": 38}, {\"date\": \"2021-03-29T00:00:00\", \"category\": \"Property damage\", \"name\": 56}, {\"date\": \"2021-03-29T00:00:00\", \"category\": \"Tampering\", \"name\": 12}, {\"date\": \"2021-03-29T00:00:00\", \"category\": \"Unlawful activities\", \"name\": 4}, {\"date\": \"2021-03-29T00:00:00\", \"category\": \"Violent entry\", \"name\": 126}, {\"date\": \"2021-03-29T00:00:00\", \"category\": \"Weapons charge\", \"name\": 28}, {\"date\": \"2021-03-30T00:00:00\", \"category\": \"Aiding and abetting\", \"name\": 31}, {\"date\": \"2021-03-30T00:00:00\", \"category\": \"Assault/resist/impede officer\", \"name\": 103}, {\"date\": \"2021-03-30T00:00:00\", \"category\": \"Conspiracy\", \"name\": 26}, {\"date\": \"2021-03-30T00:00:00\", \"category\": \"Demonstrating in the Capitol\", \"name\": 151}, {\"date\": \"2021-03-30T00:00:00\", \"category\": \"Disruptive/disorderly\", \"name\": 408}, {\"date\": \"2021-03-30T00:00:00\", \"category\": \"Entering restricted area\", \"name\": 358}, {\"date\": \"2021-03-30T00:00:00\", \"category\": \"Obstructing a proceeding\", \"name\": 177}, {\"date\": \"2021-03-30T00:00:00\", \"category\": \"Other\", \"name\": 4}, {\"date\": \"2021-03-30T00:00:00\", \"category\": \"Physical violence\", \"name\": 39}, {\"date\": \"2021-03-30T00:00:00\", \"category\": \"Property damage\", \"name\": 58}, {\"date\": \"2021-03-30T00:00:00\", \"category\": \"Tampering\", \"name\": 12}, {\"date\": \"2021-03-30T00:00:00\", \"category\": \"Unlawful activities\", \"name\": 4}, {\"date\": \"2021-03-30T00:00:00\", \"category\": \"Violent entry\", \"name\": 122}, {\"date\": \"2021-03-30T00:00:00\", \"category\": \"Weapons charge\", \"name\": 29}, {\"date\": \"2021-03-31T00:00:00\", \"category\": \"Aiding and abetting\", \"name\": 31}, {\"date\": \"2021-03-31T00:00:00\", \"category\": \"Assault/resist/impede officer\", \"name\": 103}, {\"date\": \"2021-03-31T00:00:00\", \"category\": \"Conspiracy\", \"name\": 26}, {\"date\": \"2021-03-31T00:00:00\", \"category\": \"Demonstrating in the Capitol\", \"name\": 151}, {\"date\": \"2021-03-31T00:00:00\", \"category\": \"Disruptive/disorderly\", \"name\": 408}, {\"date\": \"2021-03-31T00:00:00\", \"category\": \"Entering restricted area\", \"name\": 358}, {\"date\": \"2021-03-31T00:00:00\", \"category\": \"Obstructing a proceeding\", \"name\": 177}, {\"date\": \"2021-03-31T00:00:00\", \"category\": \"Other\", \"name\": 4}, {\"date\": \"2021-03-31T00:00:00\", \"category\": \"Physical violence\", \"name\": 39}, {\"date\": \"2021-03-31T00:00:00\", \"category\": \"Property damage\", \"name\": 58}, {\"date\": \"2021-03-31T00:00:00\", \"category\": \"Tampering\", \"name\": 12}, {\"date\": \"2021-03-31T00:00:00\", \"category\": \"Unlawful activities\", \"name\": 4}, {\"date\": \"2021-03-31T00:00:00\", \"category\": \"Violent entry\", \"name\": 122}, {\"date\": \"2021-03-31T00:00:00\", \"category\": \"Weapons charge\", \"name\": 29}, {\"date\": \"2021-04-01T00:00:00\", \"category\": \"Aiding and abetting\", \"name\": 31}, {\"date\": \"2021-04-01T00:00:00\", \"category\": \"Assault/resist/impede officer\", \"name\": 104}, {\"date\": \"2021-04-01T00:00:00\", \"category\": \"Conspiracy\", \"name\": 26}, {\"date\": \"2021-04-01T00:00:00\", \"category\": \"Demonstrating in the Capitol\", \"name\": 152}, {\"date\": \"2021-04-01T00:00:00\", \"category\": \"Disruptive/disorderly\", \"name\": 409}, {\"date\": \"2021-04-01T00:00:00\", \"category\": \"Entering restricted area\", \"name\": 359}, {\"date\": \"2021-04-01T00:00:00\", \"category\": \"Obstructing a proceeding\", \"name\": 178}, {\"date\": \"2021-04-01T00:00:00\", \"category\": \"Other\", \"name\": 4}, {\"date\": \"2021-04-01T00:00:00\", \"category\": \"Physical violence\", \"name\": 39}, {\"date\": \"2021-04-01T00:00:00\", \"category\": \"Property damage\", \"name\": 60}, {\"date\": \"2021-04-01T00:00:00\", \"category\": \"Tampering\", \"name\": 12}, {\"date\": \"2021-04-01T00:00:00\", \"category\": \"Unlawful activities\", \"name\": 4}, {\"date\": \"2021-04-01T00:00:00\", \"category\": \"Violent entry\", \"name\": 122}, {\"date\": \"2021-04-01T00:00:00\", \"category\": \"Weapons charge\", \"name\": 29}, {\"date\": \"2021-04-02T00:00:00\", \"category\": \"Aiding and abetting\", \"name\": 31}, {\"date\": \"2021-04-02T00:00:00\", \"category\": \"Assault/resist/impede officer\", \"name\": 105}, {\"date\": \"2021-04-02T00:00:00\", \"category\": \"Conspiracy\", \"name\": 26}, {\"date\": \"2021-04-02T00:00:00\", \"category\": \"Demonstrating in the Capitol\", \"name\": 153}, {\"date\": \"2021-04-02T00:00:00\", \"category\": \"Disruptive/disorderly\", \"name\": 410}, {\"date\": \"2021-04-02T00:00:00\", \"category\": \"Entering restricted area\", \"name\": 360}, {\"date\": \"2021-04-02T00:00:00\", \"category\": \"Obstructing a proceeding\", \"name\": 180}, {\"date\": \"2021-04-02T00:00:00\", \"category\": \"Other\", \"name\": 4}, {\"date\": \"2021-04-02T00:00:00\", \"category\": \"Physical violence\", \"name\": 39}, {\"date\": \"2021-04-02T00:00:00\", \"category\": \"Property damage\", \"name\": 60}, {\"date\": \"2021-04-02T00:00:00\", \"category\": \"Tampering\", \"name\": 12}, {\"date\": \"2021-04-02T00:00:00\", \"category\": \"Unlawful activities\", \"name\": 4}, {\"date\": \"2021-04-02T00:00:00\", \"category\": \"Violent entry\", \"name\": 122}, {\"date\": \"2021-04-02T00:00:00\", \"category\": \"Weapons charge\", \"name\": 30}, {\"date\": \"2021-04-04T00:00:00\", \"category\": \"Aiding and abetting\", \"name\": 31}, {\"date\": \"2021-04-04T00:00:00\", \"category\": \"Assault/resist/impede officer\", \"name\": 105}, {\"date\": \"2021-04-04T00:00:00\", \"category\": \"Conspiracy\", \"name\": 26}, {\"date\": \"2021-04-04T00:00:00\", \"category\": \"Demonstrating in the Capitol\", \"name\": 153}, {\"date\": \"2021-04-04T00:00:00\", \"category\": \"Disruptive/disorderly\", \"name\": 410}, {\"date\": \"2021-04-04T00:00:00\", \"category\": \"Entering restricted area\", \"name\": 360}, {\"date\": \"2021-04-04T00:00:00\", \"category\": \"Obstructing a proceeding\", \"name\": 180}, {\"date\": \"2021-04-04T00:00:00\", \"category\": \"Other\", \"name\": 4}, {\"date\": \"2021-04-04T00:00:00\", \"category\": \"Physical violence\", \"name\": 39}, {\"date\": \"2021-04-04T00:00:00\", \"category\": \"Property damage\", \"name\": 60}, {\"date\": \"2021-04-04T00:00:00\", \"category\": \"Tampering\", \"name\": 12}, {\"date\": \"2021-04-04T00:00:00\", \"category\": \"Unlawful activities\", \"name\": 4}, {\"date\": \"2021-04-04T00:00:00\", \"category\": \"Violent entry\", \"name\": 122}, {\"date\": \"2021-04-04T00:00:00\", \"category\": \"Weapons charge\", \"name\": 30}, {\"date\": \"2021-04-05T00:00:00\", \"category\": \"Aiding and abetting\", \"name\": 31}, {\"date\": \"2021-04-05T00:00:00\", \"category\": \"Assault/resist/impede officer\", \"name\": 105}, {\"date\": \"2021-04-05T00:00:00\", \"category\": \"Conspiracy\", \"name\": 26}, {\"date\": \"2021-04-05T00:00:00\", \"category\": \"Demonstrating in the Capitol\", \"name\": 153}, {\"date\": \"2021-04-05T00:00:00\", \"category\": \"Disruptive/disorderly\", \"name\": 410}, {\"date\": \"2021-04-05T00:00:00\", \"category\": \"Entering restricted area\", \"name\": 360}, {\"date\": \"2021-04-05T00:00:00\", \"category\": \"Obstructing a proceeding\", \"name\": 180}, {\"date\": \"2021-04-05T00:00:00\", \"category\": \"Other\", \"name\": 4}, {\"date\": \"2021-04-05T00:00:00\", \"category\": \"Physical violence\", \"name\": 39}, {\"date\": \"2021-04-05T00:00:00\", \"category\": \"Property damage\", \"name\": 60}, {\"date\": \"2021-04-05T00:00:00\", \"category\": \"Tampering\", \"name\": 12}, {\"date\": \"2021-04-05T00:00:00\", \"category\": \"Unlawful activities\", \"name\": 4}, {\"date\": \"2021-04-05T00:00:00\", \"category\": \"Violent entry\", \"name\": 122}, {\"date\": \"2021-04-05T00:00:00\", \"category\": \"Weapons charge\", \"name\": 30}, {\"date\": \"2021-04-06T00:00:00\", \"category\": \"Aiding and abetting\", \"name\": 31}, {\"date\": \"2021-04-06T00:00:00\", \"category\": \"Assault/resist/impede officer\", \"name\": 105}, {\"date\": \"2021-04-06T00:00:00\", \"category\": \"Conspiracy\", \"name\": 26}, {\"date\": \"2021-04-06T00:00:00\", \"category\": \"Demonstrating in the Capitol\", \"name\": 157}, {\"date\": \"2021-04-06T00:00:00\", \"category\": \"Disruptive/disorderly\", \"name\": 415}, {\"date\": \"2021-04-06T00:00:00\", \"category\": \"Entering restricted area\", \"name\": 360}, {\"date\": \"2021-04-06T00:00:00\", \"category\": \"Obstructing a proceeding\", \"name\": 181}, {\"date\": \"2021-04-06T00:00:00\", \"category\": \"Other\", \"name\": 4}, {\"date\": \"2021-04-06T00:00:00\", \"category\": \"Physical violence\", \"name\": 39}, {\"date\": \"2021-04-06T00:00:00\", \"category\": \"Property damage\", \"name\": 60}, {\"date\": \"2021-04-06T00:00:00\", \"category\": \"Tampering\", \"name\": 12}, {\"date\": \"2021-04-06T00:00:00\", \"category\": \"Unlawful activities\", \"name\": 4}, {\"date\": \"2021-04-06T00:00:00\", \"category\": \"Violent entry\", \"name\": 119}, {\"date\": \"2021-04-06T00:00:00\", \"category\": \"Weapons charge\", \"name\": 30}, {\"date\": \"2021-04-07T00:00:00\", \"category\": \"Aiding and abetting\", \"name\": 29}, {\"date\": \"2021-04-07T00:00:00\", \"category\": \"Assault/resist/impede officer\", \"name\": 108}, {\"date\": \"2021-04-07T00:00:00\", \"category\": \"Conspiracy\", \"name\": 26}, {\"date\": \"2021-04-07T00:00:00\", \"category\": \"Demonstrating in the Capitol\", \"name\": 164}, {\"date\": \"2021-04-07T00:00:00\", \"category\": \"Disruptive/disorderly\", \"name\": 430}, {\"date\": \"2021-04-07T00:00:00\", \"category\": \"Entering restricted area\", \"name\": 361}, {\"date\": \"2021-04-07T00:00:00\", \"category\": \"Obstructing a proceeding\", \"name\": 183}, {\"date\": \"2021-04-07T00:00:00\", \"category\": \"Other\", \"name\": 4}, {\"date\": \"2021-04-07T00:00:00\", \"category\": \"Physical violence\", \"name\": 40}, {\"date\": \"2021-04-07T00:00:00\", \"category\": \"Property damage\", \"name\": 60}, {\"date\": \"2021-04-07T00:00:00\", \"category\": \"Tampering\", \"name\": 12}, {\"date\": \"2021-04-07T00:00:00\", \"category\": \"Unlawful activities\", \"name\": 4}, {\"date\": \"2021-04-07T00:00:00\", \"category\": \"Violent entry\", \"name\": 113}, {\"date\": \"2021-04-07T00:00:00\", \"category\": \"Weapons charge\", \"name\": 31}, {\"date\": \"2021-04-08T00:00:00\", \"category\": \"Aiding and abetting\", \"name\": 29}, {\"date\": \"2021-04-08T00:00:00\", \"category\": \"Assault/resist/impede officer\", \"name\": 108}, {\"date\": \"2021-04-08T00:00:00\", \"category\": \"Conspiracy\", \"name\": 26}, {\"date\": \"2021-04-08T00:00:00\", \"category\": \"Demonstrating in the Capitol\", \"name\": 167}, {\"date\": \"2021-04-08T00:00:00\", \"category\": \"Disruptive/disorderly\", \"name\": 431}, {\"date\": \"2021-04-08T00:00:00\", \"category\": \"Entering restricted area\", \"name\": 361}, {\"date\": \"2021-04-08T00:00:00\", \"category\": \"Obstructing a proceeding\", \"name\": 184}, {\"date\": \"2021-04-08T00:00:00\", \"category\": \"Other\", \"name\": 4}, {\"date\": \"2021-04-08T00:00:00\", \"category\": \"Physical violence\", \"name\": 40}, {\"date\": \"2021-04-08T00:00:00\", \"category\": \"Property damage\", \"name\": 60}, {\"date\": \"2021-04-08T00:00:00\", \"category\": \"Tampering\", \"name\": 12}, {\"date\": \"2021-04-08T00:00:00\", \"category\": \"Unlawful activities\", \"name\": 4}, {\"date\": \"2021-04-08T00:00:00\", \"category\": \"Violent entry\", \"name\": 113}, {\"date\": \"2021-04-08T00:00:00\", \"category\": \"Weapons charge\", \"name\": 31}, {\"date\": \"2021-04-09T00:00:00\", \"category\": \"Aiding and abetting\", \"name\": 29}, {\"date\": \"2021-04-09T00:00:00\", \"category\": \"Assault/resist/impede officer\", \"name\": 108}, {\"date\": \"2021-04-09T00:00:00\", \"category\": \"Conspiracy\", \"name\": 26}, {\"date\": \"2021-04-09T00:00:00\", \"category\": \"Demonstrating in the Capitol\", \"name\": 168}, {\"date\": \"2021-04-09T00:00:00\", \"category\": \"Disruptive/disorderly\", \"name\": 431}, {\"date\": \"2021-04-09T00:00:00\", \"category\": \"Entering restricted area\", \"name\": 362}, {\"date\": \"2021-04-09T00:00:00\", \"category\": \"Obstructing a proceeding\", \"name\": 184}, {\"date\": \"2021-04-09T00:00:00\", \"category\": \"Other\", \"name\": 4}, {\"date\": \"2021-04-09T00:00:00\", \"category\": \"Physical violence\", \"name\": 40}, {\"date\": \"2021-04-09T00:00:00\", \"category\": \"Property damage\", \"name\": 60}, {\"date\": \"2021-04-09T00:00:00\", \"category\": \"Tampering\", \"name\": 12}, {\"date\": \"2021-04-09T00:00:00\", \"category\": \"Unlawful activities\", \"name\": 4}, {\"date\": \"2021-04-09T00:00:00\", \"category\": \"Violent entry\", \"name\": 113}, {\"date\": \"2021-04-09T00:00:00\", \"category\": \"Weapons charge\", \"name\": 31}, {\"date\": \"2021-04-14T00:00:00\", \"category\": \"Aiding and abetting\", \"name\": 29}, {\"date\": \"2021-04-14T00:00:00\", \"category\": \"Assault/resist/impede officer\", \"name\": 108}, {\"date\": \"2021-04-14T00:00:00\", \"category\": \"Conspiracy\", \"name\": 26}, {\"date\": \"2021-04-14T00:00:00\", \"category\": \"Demonstrating in the Capitol\", \"name\": 179}, {\"date\": \"2021-04-14T00:00:00\", \"category\": \"Disruptive/disorderly\", \"name\": 439}, {\"date\": \"2021-04-14T00:00:00\", \"category\": \"Entering restricted area\", \"name\": 369}, {\"date\": \"2021-04-14T00:00:00\", \"category\": \"Obstructing a proceeding\", \"name\": 186}, {\"date\": \"2021-04-14T00:00:00\", \"category\": \"Other\", \"name\": 4}, {\"date\": \"2021-04-14T00:00:00\", \"category\": \"Physical violence\", \"name\": 40}, {\"date\": \"2021-04-14T00:00:00\", \"category\": \"Property damage\", \"name\": 60}, {\"date\": \"2021-04-14T00:00:00\", \"category\": \"Tampering\", \"name\": 12}, {\"date\": \"2021-04-14T00:00:00\", \"category\": \"Unlawful activities\", \"name\": 4}, {\"date\": \"2021-04-14T00:00:00\", \"category\": \"Violent entry\", \"name\": 113}, {\"date\": \"2021-04-14T00:00:00\", \"category\": \"Weapons charge\", \"name\": 32}, {\"date\": \"2021-04-15T00:00:00\", \"category\": \"Aiding and abetting\", \"name\": 29}, {\"date\": \"2021-04-15T00:00:00\", \"category\": \"Assault/resist/impede officer\", \"name\": 109}, {\"date\": \"2021-04-15T00:00:00\", \"category\": \"Conspiracy\", \"name\": 26}, {\"date\": \"2021-04-15T00:00:00\", \"category\": \"Demonstrating in the Capitol\", \"name\": 179}, {\"date\": \"2021-04-15T00:00:00\", \"category\": \"Disruptive/disorderly\", \"name\": 439}, {\"date\": \"2021-04-15T00:00:00\", \"category\": \"Entering restricted area\", \"name\": 369}, {\"date\": \"2021-04-15T00:00:00\", \"category\": \"Obstructing a proceeding\", \"name\": 186}, {\"date\": \"2021-04-15T00:00:00\", \"category\": \"Other\", \"name\": 4}, {\"date\": \"2021-04-15T00:00:00\", \"category\": \"Physical violence\", \"name\": 40}, {\"date\": \"2021-04-15T00:00:00\", \"category\": \"Property damage\", \"name\": 60}, {\"date\": \"2021-04-15T00:00:00\", \"category\": \"Tampering\", \"name\": 12}, {\"date\": \"2021-04-15T00:00:00\", \"category\": \"Unlawful activities\", \"name\": 4}, {\"date\": \"2021-04-15T00:00:00\", \"category\": \"Violent entry\", \"name\": 113}, {\"date\": \"2021-04-15T00:00:00\", \"category\": \"Weapons charge\", \"name\": 32}, {\"date\": \"2021-04-17T00:00:00\", \"category\": \"Aiding and abetting\", \"name\": 29}, {\"date\": \"2021-04-17T00:00:00\", \"category\": \"Assault/resist/impede officer\", \"name\": 110}, {\"date\": \"2021-04-17T00:00:00\", \"category\": \"Conspiracy\", \"name\": 26}, {\"date\": \"2021-04-17T00:00:00\", \"category\": \"Demonstrating in the Capitol\", \"name\": 182}, {\"date\": \"2021-04-17T00:00:00\", \"category\": \"Disruptive/disorderly\", \"name\": 442}, {\"date\": \"2021-04-17T00:00:00\", \"category\": \"Entering restricted area\", \"name\": 368}, {\"date\": \"2021-04-17T00:00:00\", \"category\": \"Obstructing a proceeding\", \"name\": 185}, {\"date\": \"2021-04-17T00:00:00\", \"category\": \"Other\", \"name\": 4}, {\"date\": \"2021-04-17T00:00:00\", \"category\": \"Physical violence\", \"name\": 41}, {\"date\": \"2021-04-17T00:00:00\", \"category\": \"Property damage\", \"name\": 60}, {\"date\": \"2021-04-17T00:00:00\", \"category\": \"Tampering\", \"name\": 12}, {\"date\": \"2021-04-17T00:00:00\", \"category\": \"Unlawful activities\", \"name\": 4}, {\"date\": \"2021-04-17T00:00:00\", \"category\": \"Violent entry\", \"name\": 113}, {\"date\": \"2021-04-17T00:00:00\", \"category\": \"Weapons charge\", \"name\": 33}, {\"date\": \"2021-04-18T00:00:00\", \"category\": \"Aiding and abetting\", \"name\": 29}, {\"date\": \"2021-04-18T00:00:00\", \"category\": \"Assault/resist/impede officer\", \"name\": 110}, {\"date\": \"2021-04-18T00:00:00\", \"category\": \"Conspiracy\", \"name\": 26}, {\"date\": \"2021-04-18T00:00:00\", \"category\": \"Demonstrating in the Capitol\", \"name\": 182}, {\"date\": \"2021-04-18T00:00:00\", \"category\": \"Disruptive/disorderly\", \"name\": 442}, {\"date\": \"2021-04-18T00:00:00\", \"category\": \"Entering restricted area\", \"name\": 368}, {\"date\": \"2021-04-18T00:00:00\", \"category\": \"Obstructing a proceeding\", \"name\": 185}, {\"date\": \"2021-04-18T00:00:00\", \"category\": \"Other\", \"name\": 4}, {\"date\": \"2021-04-18T00:00:00\", \"category\": \"Physical violence\", \"name\": 41}, {\"date\": \"2021-04-18T00:00:00\", \"category\": \"Property damage\", \"name\": 60}, {\"date\": \"2021-04-18T00:00:00\", \"category\": \"Tampering\", \"name\": 12}, {\"date\": \"2021-04-18T00:00:00\", \"category\": \"Unlawful activities\", \"name\": 4}, {\"date\": \"2021-04-18T00:00:00\", \"category\": \"Violent entry\", \"name\": 113}, {\"date\": \"2021-04-18T00:00:00\", \"category\": \"Weapons charge\", \"name\": 33}]}}, {\"mode\": \"vega-lite\"});\n",
       "</script>"
      ],
      "text/plain": [
       "alt.Chart(...)"
      ]
     },
     "execution_count": 47,
     "metadata": {},
     "output_type": "execute_result"
    }
   ],
   "source": [
    "categories_chart = (\n",
    "    alt.Chart(categories_by_day)\n",
    "    .mark_area(opacity=0.6)\n",
    "    .encode(\n",
    "        x=alt.X(\n",
    "            \"date\",\n",
    "            title=\"\",\n",
    "            axis=alt.Axis(format=\"%b. %-d\", tickCount=10, grid=False),\n",
    "        ),\n",
    "        y=alt.Y(\n",
    "            \"name\",\n",
    "            title=\" \",\n",
    "            axis=alt.Axis(\n",
    "                tickSize=0,\n",
    "                domainOpacity=0,\n",
    "                tickCount=6,\n",
    "                offset=4,\n",
    "                gridWidth=0.6,\n",
    "                gridColor=\"#dddddd\",\n",
    "            ),\n",
    "            scale=alt.Scale(domain=(0, 1500)),\n",
    "        ),\n",
    "        color=alt.Color(\"category\", scale=alt.Scale(scheme=\"category20\")),\n",
    "    )\n",
    "    .properties(\n",
    "        width=800,\n",
    "        height=600,\n",
    "        title=\"Cumulative charge categories in U.S. Capitol breach, by day\",\n",
    "    )\n",
    "    .configure_view(strokeOpacity=0)\n",
    "    .configure_legend(orient=\"right\", symbolType=\"square\")\n",
    ").configure_axis(labelFontSize=13)\n",
    "\n",
    "categories_chart"
   ]
  },
  {
   "cell_type": "code",
   "execution_count": 48,
   "metadata": {},
   "outputs": [],
   "source": [
    "categories_chart.save(\"capitol_charges_by_category_timeseries.png\", scale_factor=2)"
   ]
  }
 ],
 "metadata": {
  "kernelspec": {
   "display_name": "Python 3",
   "language": "python",
   "name": "python3"
  },
  "language_info": {
   "codemirror_mode": {
    "name": "ipython",
    "version": 3
   },
   "file_extension": ".py",
   "mimetype": "text/x-python",
   "name": "python",
   "nbconvert_exporter": "python",
   "pygments_lexer": "ipython3",
   "version": "3.7.4"
  }
 },
 "nbformat": 4,
 "nbformat_minor": 5
}
