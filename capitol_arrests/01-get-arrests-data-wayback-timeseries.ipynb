{
 "cells": [
  {
   "cell_type": "markdown",
   "metadata": {},
   "source": [
    "# Counting U.S. Capitol breach cases listed by DOJ via Wayback Machine"
   ]
  },
  {
   "cell_type": "markdown",
   "metadata": {},
   "source": [
    "### Import Python tools and Jupyter configuration"
   ]
  },
  {
   "cell_type": "code",
   "execution_count": 1,
   "metadata": {},
   "outputs": [],
   "source": [
    "%load_ext lab_black"
   ]
  },
  {
   "cell_type": "code",
   "execution_count": 2,
   "metadata": {},
   "outputs": [],
   "source": [
    "import pandas as pd\n",
    "import requests\n",
    "from bs4 import BeautifulSoup\n",
    "import re"
   ]
  },
  {
   "cell_type": "code",
   "execution_count": 3,
   "metadata": {},
   "outputs": [],
   "source": [
    "import altair as alt\n",
    "import altair_latimes as lat\n",
    "import numpy as np"
   ]
  },
  {
   "cell_type": "code",
   "execution_count": 4,
   "metadata": {},
   "outputs": [
    {
     "data": {
      "text/plain": [
       "ThemeRegistry.enable('latimes')"
      ]
     },
     "execution_count": 4,
     "metadata": {},
     "output_type": "execute_result"
    }
   ],
   "source": [
    "alt.themes.register(\"latimes\", lat.theme)\n",
    "alt.themes.enable(\"latimes\")"
   ]
  },
  {
   "cell_type": "code",
   "execution_count": 5,
   "metadata": {},
   "outputs": [],
   "source": [
    "pd.options.display.max_columns = 100\n",
    "pd.options.display.max_rows = 1000\n",
    "alt.data_transformers.disable_max_rows()\n",
    "pd.options.display.max_colwidth = None"
   ]
  },
  {
   "cell_type": "markdown",
   "metadata": {},
   "source": [
    "### Headers"
   ]
  },
  {
   "cell_type": "code",
   "execution_count": 6,
   "metadata": {},
   "outputs": [],
   "source": [
    "headers = {\n",
    "    \"User-Agent\": \"Mozilla/5.0 (Macintosh; Intel Mac OS X 10_15_6) AppleWebKit/537.36 (KHTML, like Gecko) Chrome/85.0.4183.102 Safari/537.36\",\n",
    "    \"Accept\": \"text/html,application/xhtml+xml,application/xml;q=0.9,image/avif,image/webp,image/apng,*/*;q=0.8,application/signed-exchange;v=b3;q=0.9\",\n",
    "}"
   ]
  },
  {
   "cell_type": "markdown",
   "metadata": {},
   "source": [
    "### Get the wayback machine feed of changes"
   ]
  },
  {
   "cell_type": "code",
   "execution_count": 7,
   "metadata": {},
   "outputs": [],
   "source": [
    "url = \"http://web.archive.org/cdx/search/cdx?url=https://www.justice.gov/usao-dc/capitol-breach-cases&output=json\""
   ]
  },
  {
   "cell_type": "code",
   "execution_count": 8,
   "metadata": {},
   "outputs": [],
   "source": [
    "urls = pd.read_json(url, orient=\"records\").drop([0], axis=0)"
   ]
  },
  {
   "cell_type": "code",
   "execution_count": 9,
   "metadata": {},
   "outputs": [],
   "source": [
    "urls.columns = [\n",
    "    \"urlkey\",\n",
    "    \"timestamp\",\n",
    "    \"original\",\n",
    "    \"mimetype\",\n",
    "    \"statuscode\",\n",
    "    \"digest\",\n",
    "    \"length\",\n",
    "]"
   ]
  },
  {
   "cell_type": "code",
   "execution_count": 10,
   "metadata": {},
   "outputs": [],
   "source": [
    "urls[\"datetime\"] = pd.to_datetime(urls[\"timestamp\"])"
   ]
  },
  {
   "cell_type": "code",
   "execution_count": 11,
   "metadata": {},
   "outputs": [],
   "source": [
    "urls[\"date\"] = urls[\"datetime\"].dt.date"
   ]
  },
  {
   "cell_type": "markdown",
   "metadata": {},
   "source": [
    "### Limit the update urls to the last one of each day"
   ]
  },
  {
   "cell_type": "code",
   "execution_count": 12,
   "metadata": {},
   "outputs": [],
   "source": [
    "daily_urls = urls.sort_values([\"datetime\", \"date\"], ascending=True).drop_duplicates(\n",
    "    \"date\", keep=\"last\"\n",
    ")"
   ]
  },
  {
   "cell_type": "code",
   "execution_count": 13,
   "metadata": {},
   "outputs": [],
   "source": [
    "urls_success = daily_urls[daily_urls[\"statuscode\"] == \"200\"].copy()"
   ]
  },
  {
   "cell_type": "code",
   "execution_count": 14,
   "metadata": {},
   "outputs": [
    {
     "data": {
      "text/plain": [
       "80"
      ]
     },
     "execution_count": 14,
     "metadata": {},
     "output_type": "execute_result"
    }
   ],
   "source": [
    "len(urls_success)"
   ]
  },
  {
   "cell_type": "markdown",
   "metadata": {},
   "source": [
    "### Loop through urls and create Wayback create dataframes"
   ]
  },
  {
   "cell_type": "code",
   "execution_count": 15,
   "metadata": {},
   "outputs": [],
   "source": [
    "# Sample url: 'https://web.archive.org/web/20210401183845/https://www.justice.gov/usao-dc/capitol-breach-cases'"
   ]
  },
  {
   "cell_type": "code",
   "execution_count": null,
   "metadata": {},
   "outputs": [],
   "source": [
    "content = []\n",
    "pages = []\n",
    "\n",
    "for t, u in zip(urls_success.timestamp, urls_success.original):\n",
    "    response_justice = requests.get(\n",
    "        \"https://web.archive.org/web/\" + t + \"/\" + u, headers=headers\n",
    "    )\n",
    "    #     justice_url = \"https://web.archive.org/web/\" + t + \"/\" + u\n",
    "    pages.append(\n",
    "        (pd.read_html(response_justice.text, attrs={\"class\": \"tablesaw\"})[0]).assign(\n",
    "            timestamp=t\n",
    "        )\n",
    "    )"
   ]
  },
  {
   "cell_type": "markdown",
   "metadata": {},
   "source": [
    "### Create a large dataframe from a list of update date dataframes, and add a timestamp"
   ]
  },
  {
   "cell_type": "code",
   "execution_count": null,
   "metadata": {},
   "outputs": [],
   "source": [
    "df = pd.concat(pages)"
   ]
  },
  {
   "cell_type": "code",
   "execution_count": null,
   "metadata": {},
   "outputs": [],
   "source": [
    "df.drop([\"Entry Last Updated*\"], axis=1, inplace=True)"
   ]
  },
  {
   "cell_type": "markdown",
   "metadata": {},
   "source": [
    "### Clean up dates"
   ]
  },
  {
   "cell_type": "code",
   "execution_count": null,
   "metadata": {},
   "outputs": [],
   "source": [
    "df[\"datetime\"] = pd.to_datetime(df[\"timestamp\"])"
   ]
  },
  {
   "cell_type": "code",
   "execution_count": null,
   "metadata": {},
   "outputs": [],
   "source": [
    "df[\"date\"] = df[\"datetime\"].dt.date"
   ]
  },
  {
   "cell_type": "code",
   "execution_count": null,
   "metadata": {},
   "outputs": [],
   "source": [
    "df.drop([\"timestamp\"], axis=1, inplace=True)"
   ]
  },
  {
   "cell_type": "code",
   "execution_count": null,
   "metadata": {},
   "outputs": [],
   "source": [
    "df.dtypes"
   ]
  },
  {
   "cell_type": "markdown",
   "metadata": {},
   "source": [
    "### Clean up the headers"
   ]
  },
  {
   "cell_type": "code",
   "execution_count": null,
   "metadata": {},
   "outputs": [],
   "source": [
    "df.columns = (\n",
    "    df.columns.str.strip()\n",
    "    .str.lower()\n",
    "    .str.replace(\" \", \"_\", regex=False)\n",
    "    .str.replace(\":\", \"\", regex=False)\n",
    "    .str.replace(\"/\", \"_\", regex=False)\n",
    "    .str.replace(\",\", \"_\", regex=False)\n",
    "    .str.replace(\"*\", \"\", regex=False)\n",
    "    .str.replace(\"(s)\", \"s\", regex=False)\n",
    ")"
   ]
  },
  {
   "cell_type": "code",
   "execution_count": null,
   "metadata": {},
   "outputs": [],
   "source": [
    "df.to_csv(\"raw/cases-internet-archive-all.csv\", index=False)"
   ]
  },
  {
   "cell_type": "markdown",
   "metadata": {},
   "source": [
    "---"
   ]
  },
  {
   "cell_type": "markdown",
   "metadata": {},
   "source": [
    "### How many cases each day?"
   ]
  },
  {
   "cell_type": "code",
   "execution_count": null,
   "metadata": {},
   "outputs": [],
   "source": [
    "cases_by_day = df.groupby([\"datetime\"]).agg({\"case_number\": \"size\"}).reset_index()"
   ]
  },
  {
   "cell_type": "code",
   "execution_count": null,
   "metadata": {},
   "outputs": [],
   "source": [
    "cases_by_day.dtypes"
   ]
  },
  {
   "cell_type": "code",
   "execution_count": null,
   "metadata": {},
   "outputs": [],
   "source": [
    "area_chart = (\n",
    "    alt.Chart(cases_by_day)\n",
    "    .mark_area(opacity=0.2)\n",
    "    .encode(\n",
    "        x=alt.X(\n",
    "            \"datetime\",\n",
    "            title=\"\",\n",
    "            axis=alt.Axis(format=\"%b. %-d\", tickCount=10, grid=False),\n",
    "        ),\n",
    "        y=alt.Y(\n",
    "            \"case_number\",\n",
    "            title=\" \",\n",
    "            stack=None,\n",
    "            axis=alt.Axis(\n",
    "                tickSize=0,\n",
    "                domainOpacity=0,\n",
    "                tickCount=6,\n",
    "                offset=4,\n",
    "                gridWidth=0.6,\n",
    "                gridColor=\"#dddddd\",\n",
    "            ),\n",
    "            scale=alt.Scale(domain=(100, 400)),\n",
    "        ),\n",
    "    )\n",
    ")\n",
    "\n",
    "line_chart = (\n",
    "    alt.Chart(cases_by_day)\n",
    "    .mark_line()\n",
    "    .encode(\n",
    "        x=alt.X(\n",
    "            \"datetime\",\n",
    "            title=\"\",\n",
    "            axis=alt.Axis(format=\"%b. %-d\", tickCount=10, grid=False),\n",
    "        ),\n",
    "        y=alt.Y(\n",
    "            \"case_number\",\n",
    "            title=\" \",\n",
    "            stack=None,\n",
    "            axis=alt.Axis(\n",
    "                tickSize=0,\n",
    "                domainOpacity=0,\n",
    "                tickCount=6,\n",
    "                offset=4,\n",
    "                gridWidth=0.6,\n",
    "                gridColor=\"#dddddd\",\n",
    "            ),\n",
    "            scale=alt.Scale(domain=(100, 400)),\n",
    "        ),\n",
    "    )\n",
    ")\n",
    "\n",
    "\n",
    "chart_defendants_area = (\n",
    "    (line_chart + area_chart)\n",
    "    .properties(\n",
    "        width=800,\n",
    "        height=600,\n",
    "        title=\"Cumulative U.S. Capitol breach defendants, by day\",\n",
    "    )\n",
    "    .configure_view(strokeOpacity=0)\n",
    "    .configure_legend(orient=\"top\", symbolType=\"square\")\n",
    "    .configure_axis(labelFontSize=13)\n",
    ")\n",
    "\n",
    "chart_defendants_area"
   ]
  },
  {
   "cell_type": "code",
   "execution_count": null,
   "metadata": {},
   "outputs": [],
   "source": [
    "chart_defendants_area.save(\"capitol_defendants_timeseries.png\", scale_factor=1)"
   ]
  },
  {
   "cell_type": "markdown",
   "metadata": {},
   "source": [
    "---"
   ]
  },
  {
   "cell_type": "code",
   "execution_count": null,
   "metadata": {},
   "outputs": [],
   "source": [
    "df.head()"
   ]
  },
  {
   "cell_type": "code",
   "execution_count": null,
   "metadata": {},
   "outputs": [],
   "source": [
    "df.shape"
   ]
  },
  {
   "cell_type": "markdown",
   "metadata": {},
   "source": [
    "---"
   ]
  },
  {
   "cell_type": "markdown",
   "metadata": {},
   "source": [
    "### Parse and categorize each defendant's list of charges"
   ]
  },
  {
   "cell_type": "code",
   "execution_count": null,
   "metadata": {},
   "outputs": [],
   "source": [
    "df[\"charges_list\"] = df[\"charges\"].str.upper().str.split(\";\")"
   ]
  },
  {
   "cell_type": "markdown",
   "metadata": {},
   "source": [
    "### Create a flat table from the one-to-many relationship between defendants and charges"
   ]
  },
  {
   "cell_type": "code",
   "execution_count": null,
   "metadata": {},
   "outputs": [],
   "source": [
    "df_long = df.explode(\"charges_list\")"
   ]
  },
  {
   "cell_type": "code",
   "execution_count": null,
   "metadata": {},
   "outputs": [],
   "source": [
    "charges_by_day = df_long.groupby([\"date\"]).agg({\"charges_list\": \"count\"}).reset_index()"
   ]
  },
  {
   "cell_type": "markdown",
   "metadata": {},
   "source": [
    "### Charge strings and categories"
   ]
  },
  {
   "cell_type": "code",
   "execution_count": null,
   "metadata": {},
   "outputs": [],
   "source": [
    "data_list = {\n",
    "    \"charge\": [\n",
    "        \"INTERSTATE\",\n",
    "        \"VIOLENCE\",\n",
    "        \"PARADING, DEMONSTRATING, OR PICKETING\",\n",
    "        \"PARADE, DEMONSTRATE, OR PICKET\",\n",
    "        \"ENTERING\",\n",
    "        \"DISORDERLY CONDUCT\",\n",
    "        \"DISORDERLY AND DISRUPTIVE CONDUCT\",\n",
    "        \"OBSTRUCTION OF AN OFFICIAL\",\n",
    "        \"CIVIL DISORDER\",\n",
    "        \"OBSTRUCTION OF AN OFFICIAL\",\n",
    "        \"KNOWINGLY ENTERING OR REMAINING\",\n",
    "        \"VIOLENT ENTRY\",\n",
    "        \"DISORDERLY AND DISRUPTIVE CONDUCT\",\n",
    "        \"REMAINING IN A RESTRICTED BUILDING\",\n",
    "        \"VIOLENT ENTRY\",\n",
    "        \"AIDING AND ABETTING\",\n",
    "        \"PHYSICAL VIOLENCE\",\n",
    "        \"CONSPIRACY\",\n",
    "        \"ASSAULTING, RESISTING, OR IMPEDING\",\n",
    "        \"RESTRICTED BUILDING OR GROUNDS\",\n",
    "        \"ENTERING AND REMAINING IN A RESTRICTED BUILDING OR GROUNDS WITH A DEADLY OR DANGEROUS WEAPON\",\n",
    "        \"ASSAULTING, RESISTING, OR IMPEDING CERTAIN OFFICERS USING A DANGEROUS WEAPON\",\n",
    "        \"IMPEDING PASSAGE THROUGH THE CAPITOL GROUNDS OR BUILDINGS\",\n",
    "        \"TAMPERING\",\n",
    "        \"THEFT\",\n",
    "        \"OBSTRUCTION\",\n",
    "        \"DESTRUCTION\",\n",
    "        \"DEMONSTRATING\",\n",
    "        \"DISRUPTIVE CONDUCT\",\n",
    "        \"PROPERTY\",\n",
    "        \"ASSAULTING\",\n",
    "        \"UNLAWFUL ENTRY\",\n",
    "        \"IMPEDING\",\n",
    "        \"PISTOL\",\n",
    "        \"FIREARM\",\n",
    "        \"OBSTRUCTING\",\n",
    "        \"UNLAWFUL ACTIVITIES ON CAPITOL GROUNDS\",\n",
    "        \"INTERFERED WITH A FEDERAL AGENT\",\n",
    "        \"UNLAWFUL POSSESSION\",\n",
    "        \"BODILY INJURY\",\n",
    "        \"THREATENING A FEDERAL OFFICER\",\n",
    "        \"ASSAULT\",\n",
    "        \"PARADING\",\n",
    "        \"DISORDERLLY CONDUCT\",\n",
    "        \"DI$ORDERLY CONDUCT\",\n",
    "        \"OBSTRUCT, IMPEDE, OR INTERFERE\",\n",
    "        \"DISRUPTING THE ORDERLY CONDUCT\",\n",
    "        \"AMMUNITION\",\n",
    "        \"DI$ORDERLY\",\n",
    "        \"DISORDELRY CONDUCT\",\n",
    "        \"OFFICIAL PROCEEDING\",\n",
    "        \"AIDING AND AIDING\",\n",
    "    ],\n",
    "    \"category\": [\n",
    "        \"Other\",\n",
    "        \"Violent entry\",\n",
    "        \"Demonstrating in the Capitol\",\n",
    "        \"Demonstrating in the Capitol\",\n",
    "        \"Entering restricted area\",\n",
    "        \"Disruptive/disorderly\",\n",
    "        \"Disruptive/disorderly\",\n",
    "        \"Obstructing a proceeding\",\n",
    "        \"Disruptive/disorderly\",\n",
    "        \"Obstructing a proceeding\",\n",
    "        \"Entering restricted area\",\n",
    "        \"Violent entry\",\n",
    "        \"Disruptive/disorderly\",\n",
    "        \"Entering restricted area\",\n",
    "        \"Violent entry\",\n",
    "        \"Aiding and abetting\",\n",
    "        \"Physical violence\",\n",
    "        \"Conspiracy\",\n",
    "        \"Assaulting/resisting/impeding\",\n",
    "        \"Entering restricted area\",\n",
    "        \"Weapons charge\",\n",
    "        \"Assault/resist/impede officer\",\n",
    "        \"Impeding passage in the Capitol\",\n",
    "        \"Tampering\",\n",
    "        \"Theft\",\n",
    "        \"Obstructing a proceeding\",\n",
    "        \"Destroying property\",\n",
    "        \"Demonstrating in the Capitol\",\n",
    "        \"Disruptive/disorderly\",\n",
    "        \"Property damage\",\n",
    "        \"Assault/resist/impede officer\",\n",
    "        \"Entering restricted area\",\n",
    "        \"Assault/resist/impede officer\",\n",
    "        \"Weapons charge\",\n",
    "        \"Weapons charge\",\n",
    "        \"Obstructing a proceeding\",\n",
    "        \"Unlawful activities\",\n",
    "        \"Assault/resist/impede officer\",\n",
    "        \"Weapons charge\",\n",
    "        \"Assault/resist/impede officer\",\n",
    "        \"Assault/resist/impede officer\",\n",
    "        \"Assault/resist/impede officer\",\n",
    "        \"Demonstrating in the Capitol\",\n",
    "        \"Disruptive/disorderly\",\n",
    "        \"Disruptive/disorderly\",\n",
    "        \"Assault/resist/impede officer\",\n",
    "        \"Disruptive/disorderly\",\n",
    "        \"Weapons charge\",\n",
    "        \"Disruptive/disorderly\",\n",
    "        \"Disruptive/disorderly\",\n",
    "        \"Obstructing a proceeding\",\n",
    "        \"Aiding and abetting\",\n",
    "    ],\n",
    "}"
   ]
  },
  {
   "cell_type": "markdown",
   "metadata": {},
   "source": [
    "### Loop and assign categories"
   ]
  },
  {
   "cell_type": "code",
   "execution_count": null,
   "metadata": {},
   "outputs": [],
   "source": [
    "for charge, category in zip(data_list[\"charge\"], data_list[\"category\"]):\n",
    "    df_long.loc[\n",
    "        df_long[\"charges_list\"].fillna(\"\").str.contains(f\"{charge}\", case=False),\n",
    "        \"category\",\n",
    "    ] = f\"{category}\""
   ]
  },
  {
   "cell_type": "code",
   "execution_count": null,
   "metadata": {},
   "outputs": [],
   "source": [
    "df_long.head()"
   ]
  },
  {
   "cell_type": "markdown",
   "metadata": {},
   "source": [
    "--- "
   ]
  },
  {
   "cell_type": "markdown",
   "metadata": {},
   "source": [
    "### Chart the number of charges over time"
   ]
  },
  {
   "cell_type": "code",
   "execution_count": null,
   "metadata": {},
   "outputs": [],
   "source": [
    "charges_by_day.date = pd.to_datetime(charges_by_day.date)"
   ]
  },
  {
   "cell_type": "code",
   "execution_count": null,
   "metadata": {},
   "outputs": [],
   "source": [
    "charges_by_day.dtypes"
   ]
  },
  {
   "cell_type": "code",
   "execution_count": null,
   "metadata": {},
   "outputs": [],
   "source": [
    "area_chart = (\n",
    "    alt.Chart(charges_by_day)\n",
    "    .mark_area(opacity=0.2)\n",
    "    .encode(\n",
    "        x=alt.X(\n",
    "            \"date:T\",\n",
    "            title=\"\",\n",
    "            axis=alt.Axis(format=\"%b. %-d\", tickCount=10, grid=False),\n",
    "        ),\n",
    "        y=alt.Y(\n",
    "            \"charges_list:Q\",\n",
    "            title=\" \",\n",
    "            stack=None,\n",
    "            axis=alt.Axis(\n",
    "                tickSize=0,\n",
    "                domainOpacity=0,\n",
    "                tickCount=6,\n",
    "                offset=4,\n",
    "                gridWidth=0.6,\n",
    "                gridColor=\"#dddddd\",\n",
    "            ),\n",
    "            scale=alt.Scale(domain=(100, 400)),\n",
    "        ),\n",
    "    )\n",
    ")\n",
    "\n",
    "line_chart = (\n",
    "    alt.Chart(charges_by_day)\n",
    "    .mark_line()\n",
    "    .encode(\n",
    "        x=alt.X(\n",
    "            \"date:T\",\n",
    "            title=\"\",\n",
    "            axis=alt.Axis(format=\"%b. %-d\", tickCount=10, grid=False),\n",
    "        ),\n",
    "        y=alt.Y(\n",
    "            \"charges_list:Q\",\n",
    "            title=\" \",\n",
    "            stack=None,\n",
    "            axis=alt.Axis(\n",
    "                tickSize=0,\n",
    "                domainOpacity=0,\n",
    "                tickCount=6,\n",
    "                offset=4,\n",
    "                gridWidth=0.6,\n",
    "                gridColor=\"#dddddd\",\n",
    "            ),\n",
    "            scale=alt.Scale(domain=(100, 1600)),\n",
    "        ),\n",
    "    )\n",
    ")\n",
    "\n",
    "\n",
    "chart_charges_area = (\n",
    "    (line_chart + area_chart)\n",
    "    .properties(\n",
    "        width=800,\n",
    "        height=600,\n",
    "        title=\"Cumulative U.S. Capitol breach charges, by day\",\n",
    "    )\n",
    "    .configure_view(strokeOpacity=0)\n",
    "    .configure_legend(orient=\"top\", symbolType=\"square\")\n",
    "    .configure_axis(labelFontSize=13)\n",
    ")\n",
    "\n",
    "chart_charges_area"
   ]
  },
  {
   "cell_type": "code",
   "execution_count": null,
   "metadata": {},
   "outputs": [],
   "source": [
    "chart_charges_area.save(\"capitol_charges_timeseries.png\", scale_factor=1)"
   ]
  },
  {
   "cell_type": "code",
   "execution_count": null,
   "metadata": {},
   "outputs": [],
   "source": [
    "!chromedriver --version"
   ]
  },
  {
   "cell_type": "code",
   "execution_count": null,
   "metadata": {},
   "outputs": [],
   "source": [
    "!which chromedriver"
   ]
  },
  {
   "cell_type": "markdown",
   "metadata": {},
   "source": [
    "### Group charge categories by day"
   ]
  },
  {
   "cell_type": "code",
   "execution_count": null,
   "metadata": {},
   "outputs": [],
   "source": [
    "categories_by_day = (\n",
    "    df_long.groupby([\"date\", \"category\"]).agg({\"name\": \"count\"}).reset_index()\n",
    ")"
   ]
  },
  {
   "cell_type": "code",
   "execution_count": null,
   "metadata": {},
   "outputs": [],
   "source": [
    "categories = (\n",
    "    df_long[df_long[\"date\"] == df_long[\"date\"].max()]\n",
    "    .groupby([\"category\"])\n",
    "    .agg({\"name\": \"count\"})\n",
    "    .reset_index()\n",
    ").sort_values(\"name\", ascending=False)"
   ]
  },
  {
   "cell_type": "markdown",
   "metadata": {},
   "source": [
    "### Bar chart of most-recent count of charges by category"
   ]
  },
  {
   "cell_type": "code",
   "execution_count": null,
   "metadata": {},
   "outputs": [],
   "source": [
    "bar_categories = (\n",
    "    alt.Chart(categories)\n",
    "    .mark_bar()\n",
    "    .encode(\n",
    "        x=alt.X(\n",
    "            \"name\",\n",
    "            title=\"Number of charges\",\n",
    "            axis=alt.Axis(\n",
    "                domainOpacity=0,\n",
    "                tickSize=0,\n",
    "                tickCount=6,\n",
    "                offset=4,\n",
    "                gridWidth=0.6,\n",
    "                gridColor=\"#dddddd\",\n",
    "            ),\n",
    "        ),\n",
    "        y=alt.Y(\n",
    "            \"category\",\n",
    "            title=\" \",\n",
    "            sort=\"-x\",\n",
    "            axis=alt.Axis(\n",
    "                tickSize=0,\n",
    "                domainOpacity=0,\n",
    "                tickCount=6,\n",
    "                offset=4,\n",
    "                gridWidth=0.6,\n",
    "                gridColor=\"#dddddd\",\n",
    "                grid=False,\n",
    "            ),\n",
    "        ),\n",
    "    )\n",
    ")\n",
    "\n",
    "text = bar_categories.mark_text(\n",
    "    align=\"left\", baseline=\"middle\", dx=4, fontSize=13\n",
    ").encode(text=\"name:Q\")\n",
    "\n",
    "\n",
    "chart_charges_bar = (\n",
    "    (bar_categories + text)\n",
    "    .properties(\n",
    "        width=800,\n",
    "        height=450,\n",
    "        title=\"U.S. Capitol charges, by category\",\n",
    "    )\n",
    "    .configure_view(strokeOpacity=0)\n",
    "    .configure_legend(orient=\"top\", symbolType=\"square\")\n",
    "    .configure_axis(labelFontSize=13)\n",
    ")\n",
    "\n",
    "chart_charges_bar"
   ]
  },
  {
   "cell_type": "code",
   "execution_count": null,
   "metadata": {},
   "outputs": [],
   "source": [
    "chart_charges_bar.save(\"capitol_categories_chart.png\", scale_factor=1)"
   ]
  },
  {
   "cell_type": "markdown",
   "metadata": {},
   "source": [
    "### Cumulative area chart with categories over time"
   ]
  },
  {
   "cell_type": "code",
   "execution_count": null,
   "metadata": {},
   "outputs": [],
   "source": [
    "categories_by_day.date = pd.to_datetime(categories_by_day.date)"
   ]
  },
  {
   "cell_type": "code",
   "execution_count": null,
   "metadata": {},
   "outputs": [],
   "source": [
    "categories_chart = (\n",
    "    alt.Chart(categories_by_day)\n",
    "    .mark_area(opacity=0.6)\n",
    "    .encode(\n",
    "        x=alt.X(\n",
    "            \"date\",\n",
    "            title=\"\",\n",
    "            axis=alt.Axis(format=\"%b. %-d\", tickCount=10, grid=False),\n",
    "        ),\n",
    "        y=alt.Y(\n",
    "            \"name\",\n",
    "            title=\" \",\n",
    "            axis=alt.Axis(\n",
    "                tickSize=0,\n",
    "                domainOpacity=0,\n",
    "                tickCount=6,\n",
    "                offset=4,\n",
    "                gridWidth=0.6,\n",
    "                gridColor=\"#dddddd\",\n",
    "            ),\n",
    "            scale=alt.Scale(domain=(0, 1500)),\n",
    "        ),\n",
    "        color=alt.Color(\"category\", scale=alt.Scale(scheme=\"category20\")),\n",
    "    )\n",
    "    .properties(\n",
    "        width=800,\n",
    "        height=600,\n",
    "        title=\"Cumulative charge categories in U.S. Capitol breach, by day\",\n",
    "    )\n",
    "    .configure_view(strokeOpacity=0)\n",
    "    .configure_legend(orient=\"right\", symbolType=\"square\")\n",
    ").configure_axis(labelFontSize=13)\n",
    "\n",
    "categories_chart"
   ]
  },
  {
   "cell_type": "code",
   "execution_count": null,
   "metadata": {},
   "outputs": [],
   "source": [
    "categories_chart.save(\"capitol_charges_by_category_timeseries.png\", scale_factor=1)"
   ]
  }
 ],
 "metadata": {
  "kernelspec": {
   "display_name": "Python 3",
   "language": "python",
   "name": "python3"
  },
  "language_info": {
   "codemirror_mode": {
    "name": "ipython",
    "version": 3
   },
   "file_extension": ".py",
   "mimetype": "text/x-python",
   "name": "python",
   "nbconvert_exporter": "python",
   "pygments_lexer": "ipython3",
   "version": "3.7.4"
  }
 },
 "nbformat": 4,
 "nbformat_minor": 5
}
