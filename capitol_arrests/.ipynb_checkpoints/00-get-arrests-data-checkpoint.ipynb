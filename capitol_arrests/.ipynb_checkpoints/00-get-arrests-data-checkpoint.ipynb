{
 "cells": [
  {
   "cell_type": "markdown",
   "metadata": {},
   "source": [
    "# Arrests/charges stemming from the Jan. 6 riot at the U.S. Capitol"
   ]
  },
  {
   "cell_type": "markdown",
   "metadata": {},
   "source": [
    "### Import Python tools and Jupyter configuration"
   ]
  },
  {
   "cell_type": "code",
   "execution_count": 1,
   "metadata": {},
   "outputs": [],
   "source": [
    "%load_ext lab_black"
   ]
  },
  {
   "cell_type": "code",
   "execution_count": 2,
   "metadata": {},
   "outputs": [],
   "source": [
    "import pandas as pd\n",
    "import requests\n",
    "from bs4 import BeautifulSoup"
   ]
  },
  {
   "cell_type": "code",
   "execution_count": 3,
   "metadata": {},
   "outputs": [],
   "source": [
    "import altair as alt\n",
    "import altair_latimes as lat\n",
    "import numpy as np\n",
    "from fuzzywuzzy import process, fuzz"
   ]
  },
  {
   "cell_type": "code",
   "execution_count": 4,
   "metadata": {},
   "outputs": [
    {
     "data": {
      "text/plain": [
       "ThemeRegistry.enable('latimes')"
      ]
     },
     "execution_count": 4,
     "metadata": {},
     "output_type": "execute_result"
    }
   ],
   "source": [
    "alt.themes.register(\"latimes\", lat.theme)\n",
    "alt.themes.enable(\"latimes\")"
   ]
  },
  {
   "cell_type": "code",
   "execution_count": 5,
   "metadata": {},
   "outputs": [],
   "source": [
    "pd.options.display.max_columns = 100\n",
    "pd.options.display.max_rows = 1000\n",
    "alt.data_transformers.disable_max_rows()\n",
    "pd.options.display.max_colwidth = None"
   ]
  },
  {
   "cell_type": "markdown",
   "metadata": {},
   "source": [
    "### Justice Department list"
   ]
  },
  {
   "cell_type": "code",
   "execution_count": 6,
   "metadata": {},
   "outputs": [],
   "source": [
    "justice_url = \"https://www.justice.gov/opa/investigations-regarding-violence-capitol\""
   ]
  },
  {
   "cell_type": "code",
   "execution_count": 7,
   "metadata": {},
   "outputs": [],
   "source": [
    "headers = {\n",
    "    \"User-Agent\": \"Mozilla/5.0 (Macintosh; Intel Mac OS X 10_15_6) AppleWebKit/537.36 (KHTML, like Gecko) Chrome/85.0.4183.102 Safari/537.36\",\n",
    "    \"Accept\": \"text/html,application/xhtml+xml,application/xml;q=0.9,image/avif,image/webp,image/apng,*/*;q=0.8,application/signed-exchange;v=b3;q=0.9\",\n",
    "}\n",
    "response_justice = requests.get(justice_url, headers=headers)"
   ]
  },
  {
   "cell_type": "markdown",
   "metadata": {},
   "source": [
    "### Create a dataframe with the html table, and clean up the headers"
   ]
  },
  {
   "cell_type": "code",
   "execution_count": 8,
   "metadata": {},
   "outputs": [],
   "source": [
    "justice = pd.read_html(response_justice.text, attrs={\"class\": \"tablesaw\"})[0]\n",
    "strings = [\",\", \"/\", \"(\", \")\", \"_\"]"
   ]
  },
  {
   "cell_type": "markdown",
   "metadata": {},
   "source": [
    "### Clean up the headers"
   ]
  },
  {
   "cell_type": "code",
   "execution_count": 9,
   "metadata": {},
   "outputs": [],
   "source": [
    "justice.columns = (\n",
    "    justice.columns.str.strip()\n",
    "    .str.lower()\n",
    "    .str.replace(\" \", \"_\", regex=False)\n",
    "    .str.replace(\":\", \"\", regex=False)\n",
    "    .str.replace(\"/\", \"_\", regex=False)\n",
    "    .str.replace(\",\", \"_\", regex=False)\n",
    "    .str.replace(\"*\", \"\", regex=False)\n",
    "    .str.replace(\"(s)\", \"s\", regex=False)\n",
    ")"
   ]
  },
  {
   "cell_type": "markdown",
   "metadata": {},
   "source": [
    "### Make a copy of the dataframe so we can improve the original"
   ]
  },
  {
   "cell_type": "code",
   "execution_count": 10,
   "metadata": {},
   "outputs": [],
   "source": [
    "doj = pd.DataFrame(justice.rename(columns={\"name\": \"fullname\"}).copy())"
   ]
  },
  {
   "cell_type": "code",
   "execution_count": 11,
   "metadata": {},
   "outputs": [],
   "source": [
    "doj[\"fullname\"] = doj[\"fullname\"].str.replace(\n",
    "    \"BETANCUR, Bryan (aka Bryan Clooney, aka Maximo Clooney)\",\n",
    "    \"BETANCUR, Bryan\",\n",
    "    regex=False,\n",
    ")"
   ]
  },
  {
   "cell_type": "code",
   "execution_count": 12,
   "metadata": {},
   "outputs": [],
   "source": [
    "doj[\"fullname\"] = doj[\"fullname\"].str.strip()"
   ]
  },
  {
   "cell_type": "code",
   "execution_count": 13,
   "metadata": {},
   "outputs": [],
   "source": [
    "doj = doj[\n",
    "    [\n",
    "        \"case_number\",\n",
    "        \"fullname\",\n",
    "        \"location_of_arrest\",\n",
    "        \"charges\",\n",
    "        \"associated_documents\",\n",
    "        \"case_status\",\n",
    "        \"entry_last_updated\",\n",
    "    ]\n",
    "]"
   ]
  },
  {
   "cell_type": "markdown",
   "metadata": {},
   "source": [
    "### Get out HTML table so we can parse it"
   ]
  },
  {
   "cell_type": "code",
   "execution_count": 14,
   "metadata": {},
   "outputs": [],
   "source": [
    "response_justice = requests.get(justice_url)\n",
    "soup = BeautifulSoup(response_justice.text, \"html.parser\")\n",
    "table = soup.find(\"table\")"
   ]
  },
  {
   "cell_type": "markdown",
   "metadata": {},
   "source": [
    "### Clean up locations"
   ]
  },
  {
   "cell_type": "code",
   "execution_count": 15,
   "metadata": {},
   "outputs": [],
   "source": [
    "doj[\"location_of_arrest\"] = (\n",
    "    doj[\"location_of_arrest\"]\n",
    "    .str.strip()\n",
    "    .str.title()\n",
    "    .str.replace(\", Middle District\", \"\", regex=False)\n",
    "    .str.replace(\", Southern District\", \"\", regex=False)\n",
    "    .str.replace(\", Central District\", \"\", regex=False)\n",
    "    .str.replace(\", Western District\", \"\", regex=False)\n",
    "    .str.replace(\", Eastern District\", \"\", regex=False)\n",
    "    .str.replace(\", Northern District\", \"\", regex=False)\n",
    ")"
   ]
  },
  {
   "cell_type": "code",
   "execution_count": 16,
   "metadata": {},
   "outputs": [],
   "source": [
    "doj[\"location_of_arrest\"] = doj[\"location_of_arrest\"].fillna(\"Not listed\")"
   ]
  },
  {
   "cell_type": "code",
   "execution_count": 17,
   "metadata": {},
   "outputs": [],
   "source": [
    "new = doj[\"location_of_arrest\"].str.split(\", \", n=1, expand=True)\n",
    "doj[\"location_of_arrest_state\"] = new[0]\n",
    "doj[\"location_of_arrest_other\"] = new[1]\n",
    "doj.drop(columns=[\"location_of_arrest\"], inplace=True)"
   ]
  },
  {
   "cell_type": "markdown",
   "metadata": {},
   "source": [
    "### Get the defendant document links from the table into a list"
   ]
  },
  {
   "cell_type": "code",
   "execution_count": 18,
   "metadata": {},
   "outputs": [],
   "source": [
    "links = []\n",
    "\n",
    "for tr in table.findAll(\"tr\")[1:]:\n",
    "    trs = tr.findAll(\"td\")\n",
    "\n",
    "    this_row_links = []\n",
    "\n",
    "    for link in trs[3].findAll(\"a\"):\n",
    "        this_row_links.append(\"https://www.justice.gov\" + link[\"href\"])\n",
    "\n",
    "    links.append(this_row_links)"
   ]
  },
  {
   "cell_type": "code",
   "execution_count": 19,
   "metadata": {},
   "outputs": [],
   "source": [
    "doj[\"links\"] = links"
   ]
  },
  {
   "cell_type": "code",
   "execution_count": 20,
   "metadata": {},
   "outputs": [],
   "source": [
    "links = doj[\"links\"].apply(pd.Series).fillna(\"\")"
   ]
  },
  {
   "cell_type": "code",
   "execution_count": 21,
   "metadata": {},
   "outputs": [],
   "source": [
    "df = pd.merge(doj, links, left_index=True, right_index=True)"
   ]
  },
  {
   "cell_type": "code",
   "execution_count": 22,
   "metadata": {},
   "outputs": [],
   "source": [
    "# df.drop([\"links\"], axis=1, inplace=True)"
   ]
  },
  {
   "cell_type": "code",
   "execution_count": 23,
   "metadata": {},
   "outputs": [],
   "source": [
    "df.rename(\n",
    "    columns={\n",
    "        0: \"link_0\",\n",
    "        1: \"link_1\",\n",
    "        2: \"link_2\",\n",
    "        3: \"link_3\",\n",
    "        4: \"link_4\",\n",
    "        5: \"link_5\",\n",
    "    },\n",
    "    inplace=True,\n",
    ")"
   ]
  },
  {
   "cell_type": "markdown",
   "metadata": {},
   "source": [
    "---"
   ]
  },
  {
   "cell_type": "markdown",
   "metadata": {},
   "source": [
    "### Parse the defendant names"
   ]
  },
  {
   "cell_type": "code",
   "execution_count": 24,
   "metadata": {},
   "outputs": [],
   "source": [
    "df[\"fullname\"] = df[\"fullname\"].str.replace(\" (aka\", \", (aka\", regex=False)"
   ]
  },
  {
   "cell_type": "code",
   "execution_count": 25,
   "metadata": {},
   "outputs": [],
   "source": [
    "df[[\"last_name\", \"first_name\", \"rest\", \"rest2\", \"rest3\"]] = (\n",
    "    df[\"fullname\"].str.title().str.strip().str.split(\", \", expand=True).fillna(\"\")\n",
    ")"
   ]
  },
  {
   "cell_type": "code",
   "execution_count": 26,
   "metadata": {},
   "outputs": [],
   "source": [
    "df[[\"first_name\", \"middle_name\", \"other_name\"]] = (\n",
    "    df[\"first_name\"].str.title().str.split(\" \", expand=True)\n",
    ")"
   ]
  },
  {
   "cell_type": "code",
   "execution_count": 27,
   "metadata": {},
   "outputs": [],
   "source": [
    "df.drop([\"rest\", \"rest2\", \"other_name\"], axis=1, inplace=True)"
   ]
  },
  {
   "cell_type": "code",
   "execution_count": 28,
   "metadata": {},
   "outputs": [],
   "source": [
    "df = df[\n",
    "    [\n",
    "        \"case_number\",\n",
    "        \"fullname\",\n",
    "        \"first_name\",\n",
    "        \"middle_name\",\n",
    "        \"last_name\",\n",
    "        \"charges\",\n",
    "        \"case_status\",\n",
    "        \"entry_last_updated\",\n",
    "        \"location_of_arrest_state\",\n",
    "        \"location_of_arrest_other\",\n",
    "        \"associated_documents\",\n",
    "        \"link_0\",\n",
    "        \"link_1\",\n",
    "        \"link_2\",\n",
    "        \"link_3\",\n",
    "        \"link_4\",\n",
    "        \"link_5\",\n",
    "        \"links\",\n",
    "    ]\n",
    "]"
   ]
  },
  {
   "cell_type": "markdown",
   "metadata": {},
   "source": [
    "---"
   ]
  },
  {
   "cell_type": "markdown",
   "metadata": {},
   "source": [
    "### How's the dataframe look? "
   ]
  },
  {
   "cell_type": "code",
   "execution_count": 29,
   "metadata": {},
   "outputs": [
    {
     "data": {
      "text/html": [
       "<div>\n",
       "<style scoped>\n",
       "    .dataframe tbody tr th:only-of-type {\n",
       "        vertical-align: middle;\n",
       "    }\n",
       "\n",
       "    .dataframe tbody tr th {\n",
       "        vertical-align: top;\n",
       "    }\n",
       "\n",
       "    .dataframe thead th {\n",
       "        text-align: right;\n",
       "    }\n",
       "</style>\n",
       "<table border=\"1\" class=\"dataframe\">\n",
       "  <thead>\n",
       "    <tr style=\"text-align: right;\">\n",
       "      <th></th>\n",
       "      <th>case_number</th>\n",
       "      <th>fullname</th>\n",
       "      <th>first_name</th>\n",
       "      <th>middle_name</th>\n",
       "      <th>last_name</th>\n",
       "      <th>charges</th>\n",
       "      <th>case_status</th>\n",
       "      <th>entry_last_updated</th>\n",
       "      <th>location_of_arrest_state</th>\n",
       "      <th>location_of_arrest_other</th>\n",
       "      <th>associated_documents</th>\n",
       "      <th>link_0</th>\n",
       "      <th>link_1</th>\n",
       "      <th>link_2</th>\n",
       "      <th>link_3</th>\n",
       "      <th>link_4</th>\n",
       "      <th>link_5</th>\n",
       "      <th>links</th>\n",
       "    </tr>\n",
       "  </thead>\n",
       "  <tbody>\n",
       "    <tr>\n",
       "      <th>0</th>\n",
       "      <td>1:21-cr-212</td>\n",
       "      <td>ADAMS, Jared Hunter</td>\n",
       "      <td>Jared</td>\n",
       "      <td>Hunter</td>\n",
       "      <td>Adams</td>\n",
       "      <td>Entering and Remaining in a Restricted Building; Disorderly and Disruptive Conduct in a Restricted Building; Violent Entry and Disorderly Conduct in a Capitol Building; Parading, Demonstrating, or Picketing in a Capitol Building</td>\n",
       "      <td>Arrest date &amp; location: 3/9/2021 in Hilliard, Ohio</td>\n",
       "      <td>March 22, 2021</td>\n",
       "      <td>Ohio</td>\n",
       "      <td>Hilliard</td>\n",
       "      <td>Adams &amp; Jared - Information  Adams &amp; Jared - Statement of Facts  Adams &amp; Jared - Complaint</td>\n",
       "      <td>https://www.justice.gov/usao-dc/case-multi-defendant/file/1378326/download</td>\n",
       "      <td>https://www.justice.gov/usao-dc/case-multi-defendant/file/1378331/download</td>\n",
       "      <td>https://www.justice.gov/usao-dc/case-multi-defendant/file/1378336/download</td>\n",
       "      <td></td>\n",
       "      <td></td>\n",
       "      <td></td>\n",
       "      <td>[https://www.justice.gov/usao-dc/case-multi-defendant/file/1378326/download, https://www.justice.gov/usao-dc/case-multi-defendant/file/1378331/download, https://www.justice.gov/usao-dc/case-multi-defendant/file/1378336/download]</td>\n",
       "    </tr>\n",
       "  </tbody>\n",
       "</table>\n",
       "</div>"
      ],
      "text/plain": [
       "   case_number             fullname first_name middle_name last_name  \\\n",
       "0  1:21-cr-212  ADAMS, Jared Hunter      Jared      Hunter     Adams   \n",
       "\n",
       "                                                                                                                                                                                                                                charges  \\\n",
       "0  Entering and Remaining in a Restricted Building; Disorderly and Disruptive Conduct in a Restricted Building; Violent Entry and Disorderly Conduct in a Capitol Building; Parading, Demonstrating, or Picketing in a Capitol Building   \n",
       "\n",
       "                                          case_status entry_last_updated  \\\n",
       "0  Arrest date & location: 3/9/2021 in Hilliard, Ohio     March 22, 2021   \n",
       "\n",
       "  location_of_arrest_state location_of_arrest_other  \\\n",
       "0                     Ohio                 Hilliard   \n",
       "\n",
       "                                                                         associated_documents  \\\n",
       "0  Adams & Jared - Information  Adams & Jared - Statement of Facts  Adams & Jared - Complaint   \n",
       "\n",
       "                                                                       link_0  \\\n",
       "0  https://www.justice.gov/usao-dc/case-multi-defendant/file/1378326/download   \n",
       "\n",
       "                                                                       link_1  \\\n",
       "0  https://www.justice.gov/usao-dc/case-multi-defendant/file/1378331/download   \n",
       "\n",
       "                                                                       link_2  \\\n",
       "0  https://www.justice.gov/usao-dc/case-multi-defendant/file/1378336/download   \n",
       "\n",
       "  link_3 link_4 link_5  \\\n",
       "0                        \n",
       "\n",
       "                                                                                                                                                                                                                                  links  \n",
       "0  [https://www.justice.gov/usao-dc/case-multi-defendant/file/1378326/download, https://www.justice.gov/usao-dc/case-multi-defendant/file/1378331/download, https://www.justice.gov/usao-dc/case-multi-defendant/file/1378336/download]  "
      ]
     },
     "execution_count": 29,
     "metadata": {},
     "output_type": "execute_result"
    }
   ],
   "source": [
    "df.head(1)"
   ]
  },
  {
   "cell_type": "markdown",
   "metadata": {},
   "source": [
    "### How many cases?"
   ]
  },
  {
   "cell_type": "code",
   "execution_count": 30,
   "metadata": {},
   "outputs": [
    {
     "data": {
      "text/plain": [
       "338"
      ]
     },
     "execution_count": 30,
     "metadata": {},
     "output_type": "execute_result"
    }
   ],
   "source": [
    "len(df)"
   ]
  },
  {
   "cell_type": "markdown",
   "metadata": {},
   "source": [
    "### Arrest locations"
   ]
  },
  {
   "cell_type": "code",
   "execution_count": 32,
   "metadata": {},
   "outputs": [
    {
     "data": {
      "text/plain": [
       "Not listed      44\n",
       "Florida         32\n",
       "Pennsylvania    30\n",
       "Texas           26\n",
       "New York        24\n",
       "Name: location_of_arrest_state, dtype: int64"
      ]
     },
     "execution_count": 32,
     "metadata": {},
     "output_type": "execute_result"
    }
   ],
   "source": [
    "df.location_of_arrest_state.value_counts().head()"
   ]
  },
  {
   "cell_type": "markdown",
   "metadata": {},
   "source": [
    "### California cases"
   ]
  },
  {
   "cell_type": "code",
   "execution_count": 33,
   "metadata": {},
   "outputs": [],
   "source": [
    "df_ca = df[df[\"location_of_arrest_state\"] == \"California\"]"
   ]
  },
  {
   "cell_type": "code",
   "execution_count": 34,
   "metadata": {},
   "outputs": [
    {
     "data": {
      "text/html": [
       "<div>\n",
       "<style scoped>\n",
       "    .dataframe tbody tr th:only-of-type {\n",
       "        vertical-align: middle;\n",
       "    }\n",
       "\n",
       "    .dataframe tbody tr th {\n",
       "        vertical-align: top;\n",
       "    }\n",
       "\n",
       "    .dataframe thead th {\n",
       "        text-align: right;\n",
       "    }\n",
       "</style>\n",
       "<table border=\"1\" class=\"dataframe\">\n",
       "  <thead>\n",
       "    <tr style=\"text-align: right;\">\n",
       "      <th></th>\n",
       "      <th>fullname</th>\n",
       "      <th>charges</th>\n",
       "    </tr>\n",
       "  </thead>\n",
       "  <tbody>\n",
       "    <tr>\n",
       "      <th>7</th>\n",
       "      <td>ALLAN, Tommy Frederick</td>\n",
       "      <td>Theft of Government Property; Entering and Remaining in a Restricted Building or Grounds; Disorderly and Disruptive Conduct in a Restricted Building or Grounds; Entering and Remaining on the Floor of Congress; Disorderly Conduct in a Capitol Building; Parading, Demonstrating, or Picketing in a Capitol Building</td>\n",
       "    </tr>\n",
       "    <tr>\n",
       "      <th>28</th>\n",
       "      <td>BISIGNANO, Gina Michelle</td>\n",
       "      <td>Obstruction of an Official Proceeding; Aiding and Abetting; Civil Disorder; Destruction of Government Property; Entering and Remaining in a Restricted Building or Grounds; Disorderly and Disruptive Conduct in a Restricted Building or Grounds; Engaging in Physical Violence in a Restricted Building or Grounds; Disorderly Conduct in a Capitol Building</td>\n",
       "    </tr>\n",
       "    <tr>\n",
       "      <th>65</th>\n",
       "      <td>CORDON, Kevin Francisco</td>\n",
       "      <td>Obstruction of Justice/Congress; Knowingly Entering or Remaining in any Restricted Building or Grounds Without Lawful Authority; Violent Entry and Disorderly Conduct on Capitol Grounds</td>\n",
       "    </tr>\n",
       "    <tr>\n",
       "      <th>83</th>\n",
       "      <td>EHMKE, Hunter Allen</td>\n",
       "      <td>Destruction of Government Property; Obstruction of an Official Proceeding; Disorderly Conduct in a Capitol Building; Parading, Demonstrating, or Picketing in a Capitol Building</td>\n",
       "    </tr>\n",
       "    <tr>\n",
       "      <th>84</th>\n",
       "      <td>EHRKE, Valerie Elaine</td>\n",
       "      <td>Entering and Remaining in a Restricted Building; Disorderly and Disruptive Conduct in a Restricted Building; Violent Entry and Disorderly Conduct in a Capitol Building; Parading, Demonstrating, or Picketing in a Capitol Building</td>\n",
       "    </tr>\n",
       "    <tr>\n",
       "      <th>106</th>\n",
       "      <td>GOLD, Simone Melissa</td>\n",
       "      <td>Restricted Building or Grounds; Violent Entry and Disorderly Conduct</td>\n",
       "    </tr>\n",
       "    <tr>\n",
       "      <th>169</th>\n",
       "      <td>LEWIS, Jacob</td>\n",
       "      <td>Entering and Remaining in a Restricted Building; Disorderly and Disruptive Conduct in a Restricted Building; Violent Entry and Disorderly Conduct in a Capitol Building; Parading, Demonstrating, or Picketing in a Capitol Building</td>\n",
       "    </tr>\n",
       "    <tr>\n",
       "      <th>249</th>\n",
       "      <td>RILEY, Jorge A.</td>\n",
       "      <td>Obstructing of an Official Proceeding; Aiding and Aiding; Entering and Remaining in a Restricted Building or Grounds; Disorderly and Disruptive Conduct in a Restricted Building or Grounds; Disorderly Conduct in a Capitol Building; Parading, Demonstrating, or Picketing in a Capitol Building</td>\n",
       "    </tr>\n",
       "    <tr>\n",
       "      <th>273</th>\n",
       "      <td>SECOR, Christian</td>\n",
       "      <td>Obstruction of an Official Proceeding; Civil Disorder; Assaulting, Resisting, or Impeding Certain Officers; Entering and Remaining in a Restricted Building or Grounds; Disorderly and Disruptive Conduct in a Restricted Building or Grounds; Entering and Remaining on the Floor of Congress; Entering and Remaining in the Gallery of Congress; Entering and Remaining in Certain Rooms in the Capitol Building; Disorderly Conduct in a Capitol Building; Parading, Demonstrating, or Picketing in a Capitol Building</td>\n",
       "    </tr>\n",
       "    <tr>\n",
       "      <th>283</th>\n",
       "      <td>SIMON, Mark</td>\n",
       "      <td>Entering and Remaining in a Restricted Building or Grounds; Disorderly and Disruptive Conduct in a Restricted Building or Grounds; Disorderly Conduct in a Capitol Building or Grounds; Parading, Demonstrating, or Picketing in a Capitol Building</td>\n",
       "    </tr>\n",
       "    <tr>\n",
       "      <th>284</th>\n",
       "      <td>SMITH, Jeffrey Alexander, (aka, Alex Smith)</td>\n",
       "      <td>Violent Entry and Disorderly Conduct on Capitol Grounds; Knowingly Entering or Remaining in any Restricted Building or Grounds Without Lawful Authority</td>\n",
       "    </tr>\n",
       "    <tr>\n",
       "      <th>301</th>\n",
       "      <td>STRAND, John Herbert</td>\n",
       "      <td>Restricted Building or Grounds; Violent Entry and Disorderly Conduct</td>\n",
       "    </tr>\n",
       "    <tr>\n",
       "      <th>302</th>\n",
       "      <td>STRONG, Kevin</td>\n",
       "      <td>Entering and Remaining in a Restricted Building or Grounds; Disorderly and Disruptive Conduct in a Restricted Building or Grounds; Disorderly Conduct in a Capitol Building; Parading, Demonstrating, or Picketing in a Capitol Building</td>\n",
       "    </tr>\n",
       "  </tbody>\n",
       "</table>\n",
       "</div>"
      ],
      "text/plain": [
       "                                        fullname  \\\n",
       "7                         ALLAN, Tommy Frederick   \n",
       "28                      BISIGNANO, Gina Michelle   \n",
       "65                       CORDON, Kevin Francisco   \n",
       "83                           EHMKE, Hunter Allen   \n",
       "84                         EHRKE, Valerie Elaine   \n",
       "106                         GOLD, Simone Melissa   \n",
       "169                                 LEWIS, Jacob   \n",
       "249                              RILEY, Jorge A.   \n",
       "273                             SECOR, Christian   \n",
       "283                                  SIMON, Mark   \n",
       "284  SMITH, Jeffrey Alexander, (aka, Alex Smith)   \n",
       "301                         STRAND, John Herbert   \n",
       "302                                STRONG, Kevin   \n",
       "\n",
       "                                                                                                                                                                                                                                                                                                                                                                                                                                                                                                                       charges  \n",
       "7                                                                                                                                                                                                      Theft of Government Property; Entering and Remaining in a Restricted Building or Grounds; Disorderly and Disruptive Conduct in a Restricted Building or Grounds; Entering and Remaining on the Floor of Congress; Disorderly Conduct in a Capitol Building; Parading, Demonstrating, or Picketing in a Capitol Building  \n",
       "28                                                                                                                                                              Obstruction of an Official Proceeding; Aiding and Abetting; Civil Disorder; Destruction of Government Property; Entering and Remaining in a Restricted Building or Grounds; Disorderly and Disruptive Conduct in a Restricted Building or Grounds; Engaging in Physical Violence in a Restricted Building or Grounds; Disorderly Conduct in a Capitol Building  \n",
       "65                                                                                                                                                                                                                                                                                                                                    Obstruction of Justice/Congress; Knowingly Entering or Remaining in any Restricted Building or Grounds Without Lawful Authority; Violent Entry and Disorderly Conduct on Capitol Grounds  \n",
       "83                                                                                                                                                                                                                                                                                                                                            Destruction of Government Property; Obstruction of an Official Proceeding; Disorderly Conduct in a Capitol Building; Parading, Demonstrating, or Picketing in a Capitol Building  \n",
       "84                                                                                                                                                                                                                                                                                        Entering and Remaining in a Restricted Building; Disorderly and Disruptive Conduct in a Restricted Building; Violent Entry and Disorderly Conduct in a Capitol Building; Parading, Demonstrating, or Picketing in a Capitol Building  \n",
       "106                                                                                                                                                                                                                                                                                                                                                                                                                                                       Restricted Building or Grounds; Violent Entry and Disorderly Conduct  \n",
       "169                                                                                                                                                                                                                                                                                       Entering and Remaining in a Restricted Building; Disorderly and Disruptive Conduct in a Restricted Building; Violent Entry and Disorderly Conduct in a Capitol Building; Parading, Demonstrating, or Picketing in a Capitol Building  \n",
       "249                                                                                                                                                                                                                         Obstructing of an Official Proceeding; Aiding and Aiding; Entering and Remaining in a Restricted Building or Grounds; Disorderly and Disruptive Conduct in a Restricted Building or Grounds; Disorderly Conduct in a Capitol Building; Parading, Demonstrating, or Picketing in a Capitol Building  \n",
       "273  Obstruction of an Official Proceeding; Civil Disorder; Assaulting, Resisting, or Impeding Certain Officers; Entering and Remaining in a Restricted Building or Grounds; Disorderly and Disruptive Conduct in a Restricted Building or Grounds; Entering and Remaining on the Floor of Congress; Entering and Remaining in the Gallery of Congress; Entering and Remaining in Certain Rooms in the Capitol Building; Disorderly Conduct in a Capitol Building; Parading, Demonstrating, or Picketing in a Capitol Building  \n",
       "283                                                                                                                                                                                                                                                                        Entering and Remaining in a Restricted Building or Grounds; Disorderly and Disruptive Conduct in a Restricted Building or Grounds; Disorderly Conduct in a Capitol Building or Grounds; Parading, Demonstrating, or Picketing in a Capitol Building  \n",
       "284                                                                                                                                                                                                                                                                                                                                                                    Violent Entry and Disorderly Conduct on Capitol Grounds; Knowingly Entering or Remaining in any Restricted Building or Grounds Without Lawful Authority  \n",
       "301                                                                                                                                                                                                                                                                                                                                                                                                                                                       Restricted Building or Grounds; Violent Entry and Disorderly Conduct  \n",
       "302                                                                                                                                                                                                                                                                                   Entering and Remaining in a Restricted Building or Grounds; Disorderly and Disruptive Conduct in a Restricted Building or Grounds; Disorderly Conduct in a Capitol Building; Parading, Demonstrating, or Picketing in a Capitol Building  "
      ]
     },
     "execution_count": 34,
     "metadata": {},
     "output_type": "execute_result"
    }
   ],
   "source": [
    "df_ca[[\"fullname\", \"charges\"]]"
   ]
  },
  {
   "cell_type": "markdown",
   "metadata": {},
   "source": [
    "---"
   ]
  },
  {
   "cell_type": "markdown",
   "metadata": {},
   "source": [
    "### Parse and categorize each defendant's list of charges"
   ]
  },
  {
   "cell_type": "code",
   "execution_count": 35,
   "metadata": {},
   "outputs": [],
   "source": [
    "df[\"charges_list\"] = df[\"charges\"].str.upper().str.split(\";\")"
   ]
  },
  {
   "cell_type": "markdown",
   "metadata": {},
   "source": [
    "### Create a flat table from the one-to-many relationship between defendants and charges"
   ]
  },
  {
   "cell_type": "code",
   "execution_count": 59,
   "metadata": {},
   "outputs": [],
   "source": [
    "df_long = df.explode(\"charges_list\")"
   ]
  },
  {
   "cell_type": "markdown",
   "metadata": {},
   "source": [
    "### Charge strings and categories"
   ]
  },
  {
   "cell_type": "code",
   "execution_count": 37,
   "metadata": {},
   "outputs": [],
   "source": [
    "data_list = {\n",
    "    \"charge\": [\n",
    "        \"INTERSTATE\",\n",
    "        \"VIOLENCE\",\n",
    "        \"PARADING, DEMONSTRATING, OR PICKETING\",\n",
    "        \"PARADE, DEMONSTRATE, OR PICKET\",\n",
    "        \"ENTERING\",\n",
    "        \"DISORDERLY CONDUCT\",\n",
    "        \"DISORDERLY AND DISRUPTIVE CONDUCT\",\n",
    "        \"OBSTRUCTION OF AN OFFICIAL\",\n",
    "        \"CIVIL DISORDER\",\n",
    "        \"OBSTRUCTION OF AN OFFICIAL\",\n",
    "        \"KNOWINGLY ENTERING OR REMAINING\",\n",
    "        \"VIOLENT ENTRY\",\n",
    "        \"DISORDERLY AND DISRUPTIVE CONDUCT\",\n",
    "        \"REMAINING IN A RESTRICTED BUILDING\",\n",
    "        \"VIOLENT ENTRY\",\n",
    "        \"AIDING AND ABETTING\",\n",
    "        \"PHYSICAL VIOLENCE\",\n",
    "        \"CONSPIRACY\",\n",
    "        \"ASSAULTING, RESISTING, OR IMPEDING\",\n",
    "        \"RESTRICTED BUILDING OR GROUNDS\",\n",
    "        \"ENTERING AND REMAINING IN A RESTRICTED BUILDING OR GROUNDS WITH A DEADLY OR DANGEROUS WEAPON\",\n",
    "        \"ASSAULTING, RESISTING, OR IMPEDING CERTAIN OFFICERS USING A DANGEROUS WEAPON\",\n",
    "        \"IMPEDING PASSAGE THROUGH THE CAPITOL GROUNDS OR BUILDINGS\",\n",
    "        \"TAMPERING\",\n",
    "        \"THEFT\",\n",
    "        \"OBSTRUCTION\",\n",
    "        \"DESTRUCTION\",\n",
    "        \"DEMONSTRATING\",\n",
    "        \"DISRUPTIVE CONDUCT\",\n",
    "        \"PROPERTY\",\n",
    "        \"ASSAULTING\",\n",
    "        \"UNLAWFUL ENTRY\",\n",
    "        \"IMPEDING\",\n",
    "        \"PISTOL\",\n",
    "        \"FIREARM\",\n",
    "        \"OBSTRUCTING\",\n",
    "        \"UNLAWFUL ACTIVITIES ON CAPITOL GROUNDS\",\n",
    "        \"INTERFERED WITH A FEDERAL AGENT\",\n",
    "        \"UNLAWFUL POSSESSION\",\n",
    "        \"BODILY INJURY\",\n",
    "        \"THREATENING A FEDERAL OFFICER\",\n",
    "        \"ASSAULT\",\n",
    "        \"PARADING\",\n",
    "        \"DISORDERLLY CONDUCT\",\n",
    "        \"DI$ORDERLY CONDUCT\",\n",
    "        \"OBSTRUCT, IMPEDE, OR INTERFERE\",\n",
    "        \"DISRUPTING THE ORDERLY CONDUCT\",\n",
    "        \"AMMUNITION\",\n",
    "        \"DI$ORDERLY\",\n",
    "        \"DISORDELRY CONDUCT\",\n",
    "        \"OFFICIAL PROCEEDING\",\n",
    "        \"AIDING AND AIDING\",\n",
    "    ],\n",
    "    \"category\": [\n",
    "        \"Other\",\n",
    "        \"Other\",\n",
    "        \"Demonstrating in the Capitol\",\n",
    "        \"Demonstrating in the Capitol\",\n",
    "        \"Entering/remaining in resricted area\",\n",
    "        \"Disruptive/disorderly conduct\",\n",
    "        \"Disruptive/disorderly conduct\",\n",
    "        \"Obstructing a proceeding\",\n",
    "        \"Disruptive/disorderly conduct\",\n",
    "        \"Obstructing a proceeding\",\n",
    "        \"Entering/remaining in resricted area\",\n",
    "        \"Violent entry\",\n",
    "        \"Disruptive/disorderly conduct\",\n",
    "        \"Entering/remaining in resricted area\",\n",
    "        \"Violent entry\",\n",
    "        \"Aiding and abetting\",\n",
    "        \"Physical violence in the Capitol\",\n",
    "        \"Conspiracy\",\n",
    "        \"Assaulting/resisting/impeding officers\",\n",
    "        \"Entering/remaining in resricted area\",\n",
    "        \"Weapons charge\",\n",
    "        \"Assaulting/resisting/impeding officers w/ weapon\",\n",
    "        \"Impeding passage in the Capitol\",\n",
    "        \"Tampering\",\n",
    "        \"Theft\",\n",
    "        \"Obstructing a proceeding\",\n",
    "        \"Destroying property\",\n",
    "        \"Demonstrating in the Capitol\",\n",
    "        \"Disruptive/disorderly conduct\",\n",
    "        \"Property damage\",\n",
    "        \"Assaulting/resisting/impeding officers\",\n",
    "        \"Entering/remaining in resricted area\",\n",
    "        \"Assaulting/resisting/impeding officers\",\n",
    "        \"Weapons charge\",\n",
    "        \"Weapons charge\",\n",
    "        \"Obstructing a proceeding\",\n",
    "        \"Unlawful activities on Capitol grounds\",\n",
    "        \"Assaulting/resisting/impeding officers\",\n",
    "        \"Weapons charge\",\n",
    "        \"Assaulting/resisting/impeding officers\",\n",
    "        \"Assaulting/resisting/impeding officers\",\n",
    "        \"Assaulting/resisting/impeding officers\",\n",
    "        \"Demonstrating in the Capitol\",\n",
    "        \"Disruptive/disorderly conduct\",\n",
    "        \"Disruptive/disorderly conduct\",\n",
    "        \"Assaulting/resisting/impeding officers\",\n",
    "        \"Disruptive/disorderly conduct\",\n",
    "        \"Weapons charge\",\n",
    "        \"Disruptive/disorderly conduct\",\n",
    "        \"Disruptive/disorderly conduct\",\n",
    "        \"Obstructing a proceeding\",\n",
    "        \"Aiding and abetting\",\n",
    "    ],\n",
    "}"
   ]
  },
  {
   "cell_type": "markdown",
   "metadata": {},
   "source": [
    "### Loop and assign categories"
   ]
  },
  {
   "cell_type": "code",
   "execution_count": 38,
   "metadata": {},
   "outputs": [],
   "source": [
    "for charge, category in zip(data_list[\"charge\"], data_list[\"category\"]):\n",
    "    df_long.loc[\n",
    "        df_long[\"charges_list\"].str.contains(f\"{charge}\", case=False), \"category\"\n",
    "    ] = f\"{category}\""
   ]
  },
  {
   "cell_type": "markdown",
   "metadata": {},
   "source": [
    "---"
   ]
  },
  {
   "cell_type": "markdown",
   "metadata": {},
   "source": [
    "### How many charges does each defendant face? "
   ]
  },
  {
   "cell_type": "code",
   "execution_count": 39,
   "metadata": {},
   "outputs": [],
   "source": [
    "cases_by_defendant = (\n",
    "    df_long.groupby([\"case_number\", \"fullname\"])\n",
    "    .agg({\"charges_list\": \"count\"})\n",
    "    .reset_index()\n",
    ").sort_values(\"charges_list\", ascending=False)"
   ]
  },
  {
   "cell_type": "code",
   "execution_count": 40,
   "metadata": {},
   "outputs": [
    {
     "data": {
      "text/html": [
       "<div>\n",
       "<style scoped>\n",
       "    .dataframe tbody tr th:only-of-type {\n",
       "        vertical-align: middle;\n",
       "    }\n",
       "\n",
       "    .dataframe tbody tr th {\n",
       "        vertical-align: top;\n",
       "    }\n",
       "\n",
       "    .dataframe thead th {\n",
       "        text-align: right;\n",
       "    }\n",
       "</style>\n",
       "<table border=\"1\" class=\"dataframe\">\n",
       "  <thead>\n",
       "    <tr style=\"text-align: right;\">\n",
       "      <th></th>\n",
       "      <th>case_number</th>\n",
       "      <th>fullname</th>\n",
       "      <th>charges_list</th>\n",
       "    </tr>\n",
       "  </thead>\n",
       "  <tbody>\n",
       "    <tr>\n",
       "      <th>26</th>\n",
       "      <td>1:21-cr-120</td>\n",
       "      <td>FAIRLAMB, Scott Kevin</td>\n",
       "      <td>11</td>\n",
       "    </tr>\n",
       "    <tr>\n",
       "      <th>110</th>\n",
       "      <td>1:21-cr-206</td>\n",
       "      <td>MELLIS, Jonathan Gennaro, (aka, Jon Gennaro)</td>\n",
       "      <td>10</td>\n",
       "    </tr>\n",
       "    <tr>\n",
       "      <th>85</th>\n",
       "      <td>1:21-cr-178</td>\n",
       "      <td>SCHWARTZ, Peter</td>\n",
       "      <td>10</td>\n",
       "    </tr>\n",
       "    <tr>\n",
       "      <th>22</th>\n",
       "      <td>1:21-cr-117</td>\n",
       "      <td>NICHOLS, Ryan</td>\n",
       "      <td>10</td>\n",
       "    </tr>\n",
       "    <tr>\n",
       "      <th>21</th>\n",
       "      <td>1:21-cr-117</td>\n",
       "      <td>HARKRIDER, Alex Kirk</td>\n",
       "      <td>10</td>\n",
       "    </tr>\n",
       "  </tbody>\n",
       "</table>\n",
       "</div>"
      ],
      "text/plain": [
       "     case_number                                      fullname  charges_list\n",
       "26   1:21-cr-120                         FAIRLAMB, Scott Kevin            11\n",
       "110  1:21-cr-206  MELLIS, Jonathan Gennaro, (aka, Jon Gennaro)            10\n",
       "85   1:21-cr-178                               SCHWARTZ, Peter            10\n",
       "22   1:21-cr-117                                 NICHOLS, Ryan            10\n",
       "21   1:21-cr-117                          HARKRIDER, Alex Kirk            10"
      ]
     },
     "execution_count": 40,
     "metadata": {},
     "output_type": "execute_result"
    }
   ],
   "source": [
    "cases_by_defendant.sort_values(\"charges_list\", ascending=False).head()"
   ]
  },
  {
   "cell_type": "markdown",
   "metadata": {},
   "source": [
    "### Which charges are most common (many imperfect strings here)?"
   ]
  },
  {
   "cell_type": "code",
   "execution_count": 41,
   "metadata": {},
   "outputs": [],
   "source": [
    "charges_by_charges = (\n",
    "    df_long.groupby(\n",
    "        [\n",
    "            \"charges_list\",\n",
    "        ]\n",
    "    )\n",
    "    .agg({\"case_number\": \"count\"})\n",
    "    .reset_index()\n",
    ").sort_values(\"case_number\", ascending=False)"
   ]
  },
  {
   "cell_type": "code",
   "execution_count": 42,
   "metadata": {},
   "outputs": [
    {
     "data": {
      "text/html": [
       "<div>\n",
       "<style scoped>\n",
       "    .dataframe tbody tr th:only-of-type {\n",
       "        vertical-align: middle;\n",
       "    }\n",
       "\n",
       "    .dataframe tbody tr th {\n",
       "        vertical-align: top;\n",
       "    }\n",
       "\n",
       "    .dataframe thead th {\n",
       "        text-align: right;\n",
       "    }\n",
       "</style>\n",
       "<table border=\"1\" class=\"dataframe\">\n",
       "  <thead>\n",
       "    <tr style=\"text-align: right;\">\n",
       "      <th></th>\n",
       "      <th>charges_list</th>\n",
       "      <th>case_number</th>\n",
       "    </tr>\n",
       "  </thead>\n",
       "  <tbody>\n",
       "    <tr>\n",
       "      <th>142</th>\n",
       "      <td>PARADING, DEMONSTRATING, OR PICKETING IN A CAPITOL BUILDING</td>\n",
       "      <td>104</td>\n",
       "    </tr>\n",
       "    <tr>\n",
       "      <th>40</th>\n",
       "      <td>DISORDERLY AND DISRUPTIVE CONDUCT IN A RESTRICTED BUILDING OR GROUNDS</td>\n",
       "      <td>82</td>\n",
       "    </tr>\n",
       "    <tr>\n",
       "      <th>48</th>\n",
       "      <td>DISORDERLY CONDUCT IN A CAPITOL BUILDING</td>\n",
       "      <td>82</td>\n",
       "    </tr>\n",
       "    <tr>\n",
       "      <th>79</th>\n",
       "      <td>ENTERING AND REMAINING IN A RESTRICTED BUILDING OR GROUNDS</td>\n",
       "      <td>68</td>\n",
       "    </tr>\n",
       "    <tr>\n",
       "      <th>181</th>\n",
       "      <td>VIOLENT ENTRY AND DISORDERLY CONDUCT ON CAPITOL GROUNDS</td>\n",
       "      <td>48</td>\n",
       "    </tr>\n",
       "    <tr>\n",
       "      <th>207</th>\n",
       "      <td>ENTERING AND REMAINING IN A RESTRICTED BUILDING</td>\n",
       "      <td>45</td>\n",
       "    </tr>\n",
       "    <tr>\n",
       "      <th>38</th>\n",
       "      <td>DISORDERLY AND DISRUPTIVE CONDUCT IN A RESTRICTED BUILDING</td>\n",
       "      <td>41</td>\n",
       "    </tr>\n",
       "    <tr>\n",
       "      <th>233</th>\n",
       "      <td>OBSTRUCTION OF AN OFFICIAL PROCEEDING</td>\n",
       "      <td>39</td>\n",
       "    </tr>\n",
       "    <tr>\n",
       "      <th>221</th>\n",
       "      <td>KNOWINGLY ENTERING OR REMAINING IN ANY RESTRICTED BUILDING OR GROUNDS WITHOUT LAWFUL AUTHORITY</td>\n",
       "      <td>39</td>\n",
       "    </tr>\n",
       "    <tr>\n",
       "      <th>125</th>\n",
       "      <td>OBSTRUCTION OF AN OFFICIAL PROCEEDING</td>\n",
       "      <td>38</td>\n",
       "    </tr>\n",
       "  </tbody>\n",
       "</table>\n",
       "</div>"
      ],
      "text/plain": [
       "                                                                                       charges_list  \\\n",
       "142                                     PARADING, DEMONSTRATING, OR PICKETING IN A CAPITOL BUILDING   \n",
       "40                            DISORDERLY AND DISRUPTIVE CONDUCT IN A RESTRICTED BUILDING OR GROUNDS   \n",
       "48                                                         DISORDERLY CONDUCT IN A CAPITOL BUILDING   \n",
       "79                                       ENTERING AND REMAINING IN A RESTRICTED BUILDING OR GROUNDS   \n",
       "181                                         VIOLENT ENTRY AND DISORDERLY CONDUCT ON CAPITOL GROUNDS   \n",
       "207                                                 ENTERING AND REMAINING IN A RESTRICTED BUILDING   \n",
       "38                                       DISORDERLY AND DISRUPTIVE CONDUCT IN A RESTRICTED BUILDING   \n",
       "233                                                           OBSTRUCTION OF AN OFFICIAL PROCEEDING   \n",
       "221  KNOWINGLY ENTERING OR REMAINING IN ANY RESTRICTED BUILDING OR GROUNDS WITHOUT LAWFUL AUTHORITY   \n",
       "125                                                           OBSTRUCTION OF AN OFFICIAL PROCEEDING   \n",
       "\n",
       "     case_number  \n",
       "142          104  \n",
       "40            82  \n",
       "48            82  \n",
       "79            68  \n",
       "181           48  \n",
       "207           45  \n",
       "38            41  \n",
       "233           39  \n",
       "221           39  \n",
       "125           38  "
      ]
     },
     "execution_count": 42,
     "metadata": {},
     "output_type": "execute_result"
    }
   ],
   "source": [
    "charges_by_charges.sort_values(\"case_number\", ascending=False).head(10)"
   ]
  },
  {
   "cell_type": "markdown",
   "metadata": {},
   "source": [
    "### Which categories of charges are most common? "
   ]
  },
  {
   "cell_type": "code",
   "execution_count": 43,
   "metadata": {},
   "outputs": [],
   "source": [
    "charges_by_category = (\n",
    "    df_long.groupby(\n",
    "        [\n",
    "            \"category\",\n",
    "        ]\n",
    "    )\n",
    "    .agg({\"case_number\": \"count\"})\n",
    "    .reset_index()\n",
    ").sort_values(\"case_number\", ascending=False)"
   ]
  },
  {
   "cell_type": "code",
   "execution_count": 44,
   "metadata": {},
   "outputs": [
    {
     "data": {
      "text/html": [
       "<div>\n",
       "<style scoped>\n",
       "    .dataframe tbody tr th:only-of-type {\n",
       "        vertical-align: middle;\n",
       "    }\n",
       "\n",
       "    .dataframe tbody tr th {\n",
       "        vertical-align: top;\n",
       "    }\n",
       "\n",
       "    .dataframe thead th {\n",
       "        text-align: right;\n",
       "    }\n",
       "</style>\n",
       "<table border=\"1\" class=\"dataframe\">\n",
       "  <thead>\n",
       "    <tr style=\"text-align: right;\">\n",
       "      <th></th>\n",
       "      <th>category</th>\n",
       "      <th>case_number</th>\n",
       "    </tr>\n",
       "  </thead>\n",
       "  <tbody>\n",
       "    <tr>\n",
       "      <th>4</th>\n",
       "      <td>Disruptive/disorderly conduct</td>\n",
       "      <td>415</td>\n",
       "    </tr>\n",
       "    <tr>\n",
       "      <th>5</th>\n",
       "      <td>Entering/remaining in resricted area</td>\n",
       "      <td>359</td>\n",
       "    </tr>\n",
       "    <tr>\n",
       "      <th>6</th>\n",
       "      <td>Obstructing a proceeding</td>\n",
       "      <td>179</td>\n",
       "    </tr>\n",
       "    <tr>\n",
       "      <th>3</th>\n",
       "      <td>Demonstrating in the Capitol</td>\n",
       "      <td>157</td>\n",
       "    </tr>\n",
       "    <tr>\n",
       "      <th>12</th>\n",
       "      <td>Violent entry</td>\n",
       "      <td>118</td>\n",
       "    </tr>\n",
       "    <tr>\n",
       "      <th>1</th>\n",
       "      <td>Assaulting/resisting/impeding officers</td>\n",
       "      <td>105</td>\n",
       "    </tr>\n",
       "    <tr>\n",
       "      <th>9</th>\n",
       "      <td>Property damage</td>\n",
       "      <td>60</td>\n",
       "    </tr>\n",
       "    <tr>\n",
       "      <th>8</th>\n",
       "      <td>Physical violence in the Capitol</td>\n",
       "      <td>39</td>\n",
       "    </tr>\n",
       "    <tr>\n",
       "      <th>0</th>\n",
       "      <td>Aiding and abetting</td>\n",
       "      <td>31</td>\n",
       "    </tr>\n",
       "    <tr>\n",
       "      <th>13</th>\n",
       "      <td>Weapons charge</td>\n",
       "      <td>30</td>\n",
       "    </tr>\n",
       "  </tbody>\n",
       "</table>\n",
       "</div>"
      ],
      "text/plain": [
       "                                  category  case_number\n",
       "4            Disruptive/disorderly conduct          415\n",
       "5     Entering/remaining in resricted area          359\n",
       "6                 Obstructing a proceeding          179\n",
       "3             Demonstrating in the Capitol          157\n",
       "12                           Violent entry          118\n",
       "1   Assaulting/resisting/impeding officers          105\n",
       "9                          Property damage           60\n",
       "8         Physical violence in the Capitol           39\n",
       "0                      Aiding and abetting           31\n",
       "13                          Weapons charge           30"
      ]
     },
     "execution_count": 44,
     "metadata": {},
     "output_type": "execute_result"
    }
   ],
   "source": [
    "charges_by_category.sort_values(\"case_number\", ascending=False).head(10)"
   ]
  },
  {
   "cell_type": "code",
   "execution_count": 46,
   "metadata": {},
   "outputs": [],
   "source": [
    "charges_by_category.case_number.sum()"
   ]
  },
  {
   "cell_type": "markdown",
   "metadata": {},
   "source": [
    "---"
   ]
  },
  {
   "cell_type": "code",
   "execution_count": 115,
   "metadata": {},
   "outputs": [],
   "source": [
    "df_long_new = df_long.copy()"
   ]
  },
  {
   "cell_type": "code",
   "execution_count": 116,
   "metadata": {},
   "outputs": [],
   "source": [
    "df_long_new[\"case_status_helper\"] = (\n",
    "    df_long_new[\"case_status\"]\n",
    "    .str.replace(\"Arrested in Northern Alabama \", \"Arrested |\", regex=False)\n",
    "    .str.replace(\"Arrested on \", \"Arrested \", regex=False)\n",
    "    .str.replace(\"Arrested \", \"Arrested |\", regex=False)\n",
    "    .str.replace(\"Arrest date & location: \", \"Arrest date & location|\", regex=False)\n",
    "    .str.replace(\" in the \", \"|\", regex=False)\n",
    "    .str.replace(\"21.\", \"21|\", regex=False)\n",
    "    .str.replace(\"21 in \", \"21|\", regex=False)\n",
    ")"
   ]
  },
  {
   "cell_type": "code",
   "execution_count": 117,
   "metadata": {},
   "outputs": [],
   "source": [
    "df_long_new[[\"0\", \"arrested_date\", \"2\", \"3\", \"4\", \"5\"]] = (\n",
    "    df_long_new[\"case_status_helper\"].str.split(\"|\", expand=True).fillna(\"\")\n",
    ")"
   ]
  },
  {
   "cell_type": "code",
   "execution_count": 118,
   "metadata": {},
   "outputs": [],
   "source": [
    "df_long_new.drop(\n",
    "    [\n",
    "        \"0\",\n",
    "        \"2\",\n",
    "        \"3\",\n",
    "        \"4\",\n",
    "        \"5\",\n",
    "        \"case_status_helper\",\n",
    "    ],\n",
    "    axis=1,\n",
    "    inplace=True,\n",
    ")"
   ]
  },
  {
   "cell_type": "code",
   "execution_count": 119,
   "metadata": {},
   "outputs": [],
   "source": [
    "df_long_new.rename(\n",
    "    columns={\"charge\": \"all_charges\", \"charges_list\": \"charge\"}, inplace=True\n",
    ")"
   ]
  },
  {
   "cell_type": "code",
   "execution_count": 120,
   "metadata": {},
   "outputs": [
    {
     "data": {
      "text/plain": [
       "Index(['case_number', 'fullname', 'first_name', 'middle_name', 'last_name',\n",
       "       'charges', 'case_status', 'entry_last_updated',\n",
       "       'location_of_arrest_state', 'location_of_arrest_other',\n",
       "       'associated_documents', 'link_0', 'link_1', 'link_2', 'link_3',\n",
       "       'link_4', 'link_5', 'links', 'charge', 'arrested_date'],\n",
       "      dtype='object')"
      ]
     },
     "execution_count": 120,
     "metadata": {},
     "output_type": "execute_result"
    }
   ],
   "source": [
    "df_long_new.columns"
   ]
  },
  {
   "cell_type": "code",
   "execution_count": 121,
   "metadata": {},
   "outputs": [],
   "source": [
    "df_clean = df_long_new[\n",
    "    [\n",
    "        \"case_number\",\n",
    "        \"arrested_date\",\n",
    "        \"fullname\",\n",
    "        \"first_name\",\n",
    "        \"middle_name\",\n",
    "        \"last_name\",\n",
    "        \"charge\",\n",
    "        \"case_status\",\n",
    "        \"entry_last_updated\",\n",
    "        \"location_of_arrest_state\",\n",
    "        \"location_of_arrest_other\",\n",
    "        \"associated_documents\",\n",
    "        \"links\",\n",
    "    ]\n",
    "]"
   ]
  },
  {
   "cell_type": "code",
   "execution_count": 122,
   "metadata": {},
   "outputs": [],
   "source": [
    "df_clean.head()"
   ]
  },
  {
   "cell_type": "markdown",
   "metadata": {},
   "source": [
    "---"
   ]
  },
  {
   "cell_type": "markdown",
   "metadata": {},
   "source": [
    "### Charts "
   ]
  },
  {
   "cell_type": "code",
   "execution_count": null,
   "metadata": {},
   "outputs": [],
   "source": []
  },
  {
   "cell_type": "code",
   "execution_count": null,
   "metadata": {},
   "outputs": [],
   "source": []
  },
  {
   "cell_type": "code",
   "execution_count": null,
   "metadata": {},
   "outputs": [],
   "source": []
  },
  {
   "cell_type": "code",
   "execution_count": null,
   "metadata": {},
   "outputs": [],
   "source": []
  },
  {
   "cell_type": "code",
   "execution_count": null,
   "metadata": {},
   "outputs": [],
   "source": []
  },
  {
   "cell_type": "code",
   "execution_count": null,
   "metadata": {},
   "outputs": [],
   "source": []
  },
  {
   "cell_type": "markdown",
   "metadata": {},
   "source": [
    "---"
   ]
  },
  {
   "cell_type": "markdown",
   "metadata": {},
   "source": [
    "## Export"
   ]
  },
  {
   "cell_type": "markdown",
   "metadata": {},
   "source": [
    "### All cases"
   ]
  },
  {
   "cell_type": "code",
   "execution_count": 124,
   "metadata": {},
   "outputs": [],
   "source": [
    "df_clean.to_json(\"processed/cases.json\", orient=\"records\", indent=2)"
   ]
  },
  {
   "cell_type": "code",
   "execution_count": 125,
   "metadata": {},
   "outputs": [],
   "source": [
    "df_clean.to_csv(\"processed/cases.csv\", index=False)"
   ]
  },
  {
   "cell_type": "markdown",
   "metadata": {},
   "source": [
    "### California cases"
   ]
  },
  {
   "cell_type": "code",
   "execution_count": 126,
   "metadata": {},
   "outputs": [],
   "source": [
    "df_clean[df_clean[\"location_of_arrest_state\"] == \"California\"].to_json(\n",
    "    \"processed/california-cases.json\", orient=\"records\", indent=2\n",
    ")"
   ]
  },
  {
   "cell_type": "code",
   "execution_count": 127,
   "metadata": {},
   "outputs": [],
   "source": [
    "df_clean[df_clean[\"location_of_arrest_state\"] == \"California\"].to_csv(\n",
    "    \"processed/california-cases.csv\", index=False\n",
    ")"
   ]
  },
  {
   "cell_type": "code",
   "execution_count": null,
   "metadata": {},
   "outputs": [],
   "source": []
  }
 ],
 "metadata": {
  "kernelspec": {
   "display_name": "Python 3",
   "language": "python",
   "name": "python3"
  },
  "language_info": {
   "codemirror_mode": {
    "name": "ipython",
    "version": 3
   },
   "file_extension": ".py",
   "mimetype": "text/x-python",
   "name": "python",
   "nbconvert_exporter": "python",
   "pygments_lexer": "ipython3",
   "version": "3.7.4"
  }
 },
 "nbformat": 4,
 "nbformat_minor": 5
}
