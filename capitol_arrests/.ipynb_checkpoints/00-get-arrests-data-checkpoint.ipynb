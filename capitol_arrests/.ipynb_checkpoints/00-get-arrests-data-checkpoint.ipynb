{
 "cells": [
  {
   "cell_type": "markdown",
   "metadata": {},
   "source": [
    "# Arrests/charges stemming from the Jan. 6 riot at the U.S. Capitol"
   ]
  },
  {
   "cell_type": "markdown",
   "metadata": {},
   "source": [
    "### Import Python tools"
   ]
  },
  {
   "cell_type": "code",
   "execution_count": 1,
   "metadata": {},
   "outputs": [],
   "source": [
    "%load_ext lab_black"
   ]
  },
  {
   "cell_type": "code",
   "execution_count": 2,
   "metadata": {},
   "outputs": [],
   "source": [
    "import pandas as pd\n",
    "import geopandas as gpd\n",
    "import jenkspy\n",
    "import matplotlib.pyplot as plt\n",
    "import requests\n",
    "from bs4 import BeautifulSoup"
   ]
  },
  {
   "cell_type": "code",
   "execution_count": 3,
   "metadata": {},
   "outputs": [],
   "source": [
    "%matplotlib inline\n",
    "import json\n",
    "import numpy as np\n",
    "import altair as alt\n",
    "import altair_latimes as lat"
   ]
  },
  {
   "cell_type": "code",
   "execution_count": 4,
   "metadata": {},
   "outputs": [
    {
     "data": {
      "text/plain": [
       "ThemeRegistry.enable('latimes')"
      ]
     },
     "execution_count": 4,
     "metadata": {},
     "output_type": "execute_result"
    }
   ],
   "source": [
    "alt.themes.register(\"latimes\", lat.theme)\n",
    "alt.themes.enable(\"latimes\")"
   ]
  },
  {
   "cell_type": "code",
   "execution_count": 5,
   "metadata": {},
   "outputs": [],
   "source": [
    "pd.options.display.max_columns = 100\n",
    "pd.options.display.max_rows = 1000\n",
    "alt.data_transformers.disable_max_rows()\n",
    "pd.set_option(\"display.max_colwidth\", None)"
   ]
  },
  {
   "cell_type": "markdown",
   "metadata": {},
   "source": [
    "### Justice Department list"
   ]
  },
  {
   "cell_type": "code",
   "execution_count": 6,
   "metadata": {},
   "outputs": [],
   "source": [
    "justice_url = \"https://www.justice.gov/opa/investigations-regarding-violence-capitol\""
   ]
  },
  {
   "cell_type": "code",
   "execution_count": 7,
   "metadata": {},
   "outputs": [],
   "source": [
    "headers = {\n",
    "    \"User-Agent\": \"Mozilla/5.0 (Macintosh; Intel Mac OS X 10_15_6) AppleWebKit/537.36 (KHTML, like Gecko) Chrome/85.0.4183.102 Safari/537.36\",\n",
    "    \"Accept\": \"text/html,application/xhtml+xml,application/xml;q=0.9,image/avif,image/webp,image/apng,*/*;q=0.8,application/signed-exchange;v=b3;q=0.9\",\n",
    "}\n",
    "response_justice = requests.get(justice_url, headers=headers)"
   ]
  },
  {
   "cell_type": "markdown",
   "metadata": {},
   "source": [
    "### Create a dataframe with the html table, and clean up the headers"
   ]
  },
  {
   "cell_type": "code",
   "execution_count": 8,
   "metadata": {},
   "outputs": [],
   "source": [
    "justice = pd.read_html(response_justice.text, attrs={\"class\": \"tablesaw\"})[0]\n",
    "strings = [\",\", \"/\", \"(\", \")\", \"_\"]"
   ]
  },
  {
   "cell_type": "markdown",
   "metadata": {},
   "source": [
    "### Clean up the headers"
   ]
  },
  {
   "cell_type": "code",
   "execution_count": 9,
   "metadata": {},
   "outputs": [],
   "source": [
    "justice.columns = (\n",
    "    justice.columns.str.strip()\n",
    "    .str.lower()\n",
    "    .str.replace(\" \", \"_\", regex=False)\n",
    "    .str.replace(\":\", \"\", regex=False)\n",
    "    .str.replace(\"/\", \"_\", regex=False)\n",
    "    .str.replace(\",\", \"_\", regex=False)\n",
    "    .str.replace(\"*\", \"\", regex=False)\n",
    "    .str.replace(\"(s)\", \"s\", regex=False)\n",
    ")"
   ]
  },
  {
   "cell_type": "markdown",
   "metadata": {},
   "source": [
    "### Make a copy of the dataframe so we can improve the original"
   ]
  },
  {
   "cell_type": "code",
   "execution_count": 49,
   "metadata": {},
   "outputs": [],
   "source": [
    "justice_df = pd.DataFrame(justice.rename(columns={\"name\": \"fullname\"}).copy())"
   ]
  },
  {
   "cell_type": "code",
   "execution_count": 50,
   "metadata": {},
   "outputs": [],
   "source": [
    "justice_df[\"fullname\"] = justice_df[\"fullname\"].str.replace(\n",
    "    \"BETANCUR, Bryan (aka Bryan Clooney, aka Maximo Clooney)\",\n",
    "    \"BETANCUR, Bryan\",\n",
    "    regex=False,\n",
    ")"
   ]
  },
  {
   "cell_type": "code",
   "execution_count": 51,
   "metadata": {},
   "outputs": [
    {
     "data": {
      "text/html": [
       "<div>\n",
       "<style scoped>\n",
       "    .dataframe tbody tr th:only-of-type {\n",
       "        vertical-align: middle;\n",
       "    }\n",
       "\n",
       "    .dataframe tbody tr th {\n",
       "        vertical-align: top;\n",
       "    }\n",
       "\n",
       "    .dataframe thead th {\n",
       "        text-align: right;\n",
       "    }\n",
       "</style>\n",
       "<table border=\"1\" class=\"dataframe\">\n",
       "  <thead>\n",
       "    <tr style=\"text-align: right;\">\n",
       "      <th></th>\n",
       "      <th>case_number</th>\n",
       "      <th>fullname</th>\n",
       "      <th>charges</th>\n",
       "      <th>associated_documents</th>\n",
       "      <th>location_of_arrest</th>\n",
       "      <th>case_status</th>\n",
       "      <th>entry_last_updated</th>\n",
       "    </tr>\n",
       "  </thead>\n",
       "  <tbody>\n",
       "    <tr>\n",
       "      <th>329</th>\n",
       "      <td>1:21-cr-223</td>\n",
       "      <td>WOOD, Matthew</td>\n",
       "      <td>Obstruction of an Official Proceeding and Aiding and Abetting; Entering and Remaining in a Restricted Building or Grounds; Disorderly and Disruptive Conduct in a Restricted Building or Grounds; Entering and Remaining in Certain Rooms in the Capitol Building; Disorderly Conduct in a Capitol Building; Parading, Demonstrating, or Picketing in a Capitol Building</td>\n",
       "      <td>Wood - Complaint  Wood - Indictment  Wood - Statement of Facts</td>\n",
       "      <td>North Carolina, Winston Salem</td>\n",
       "      <td>Arrested on 03/05/2021 in Winston Salem, North Carolina</td>\n",
       "      <td>March 25, 2021</td>\n",
       "    </tr>\n",
       "    <tr>\n",
       "      <th>330</th>\n",
       "      <td>1:21-mj-296</td>\n",
       "      <td>WORRELL, Christopher</td>\n",
       "      <td>Knowingly Entering or Remaining in any Restricted Building or Grounds Without Lawful Authority; Knowingly Engaging in Disorderly or Disruptive Conduct in any Restricted Building or Grounds; Violent Entry and Disorderly Conduct on Capitol Grounds; Obstruction of Justice/Congress; Knowingly Engaging in Act of Physical Violence in any Restricted Building or Grounds</td>\n",
       "      <td>Worrell - Complaint  Worrell - Statement of Facts</td>\n",
       "      <td>Florida, Naples</td>\n",
       "      <td>Arrested on 03/12/2021 in Naples, Florida</td>\n",
       "      <td>March 25, 2021</td>\n",
       "    </tr>\n",
       "    <tr>\n",
       "      <th>331</th>\n",
       "      <td>1:21-cr-42</td>\n",
       "      <td>WRIGLEY, Andrew</td>\n",
       "      <td>Entering and Remaining in a Restricted Building; Disorderly and Disruptive Conduct in a Restricted Building; Violent Entry and Disorderly Conduct in a Capitol Building; Parading, Demonstrating, or Picketing in a Capitol Building</td>\n",
       "      <td>Wrigley - Complaint  Wrigley - Statement of Facts  Wrigley - Information</td>\n",
       "      <td>Pennsylvania</td>\n",
       "      <td>Arrested on 1/15/21 in the Middle District of Pennsylvania. Initial appearance via video on 1/25/21 in federal court in the District of Columbia.</td>\n",
       "      <td>March 25, 2021</td>\n",
       "    </tr>\n",
       "    <tr>\n",
       "      <th>332</th>\n",
       "      <td>1:21-cr-28</td>\n",
       "      <td>YOUNG, Graydon</td>\n",
       "      <td>Conspiracy; Obstruction of an Official Proceeding and Aiding and Abetting; Destruction of Government Property and Aiding and Abetting; Entering and Remaining in a Restricted Building or Grounds; Tampering with Documents or Proceedings</td>\n",
       "      <td>Meggs Steele Young - Complaint &amp; Affidavit  Caldwell, et al – Indictment  Caldwell, Crowl, Watkins, Parker, Parker, Young, Steele, Meggs, Meggs, Harrelson - Second Superceding Indictment</td>\n",
       "      <td>Florida</td>\n",
       "      <td>Arrested 2/15/21 in the Middle District of Florida</td>\n",
       "      <td>March 26, 2021</td>\n",
       "    </tr>\n",
       "    <tr>\n",
       "      <th>333</th>\n",
       "      <td>1:21-cr-191</td>\n",
       "      <td>ZINK, Ryan Scott</td>\n",
       "      <td>Obstruction of an Official Proceeding; Knowingly Entering or Remaining in any Restricted Building or Grounds Without Lawful Authority and engages in any act of physical violence against any person or property in any restricted building or grounds.</td>\n",
       "      <td>Zink - Complaint &amp; Statement of Facts</td>\n",
       "      <td>Pennsylvania</td>\n",
       "      <td>NaN</td>\n",
       "      <td>March 25, 2021</td>\n",
       "    </tr>\n",
       "  </tbody>\n",
       "</table>\n",
       "</div>"
      ],
      "text/plain": [
       "     case_number              fullname  \\\n",
       "329  1:21-cr-223         WOOD, Matthew   \n",
       "330  1:21-mj-296  WORRELL, Christopher   \n",
       "331   1:21-cr-42       WRIGLEY, Andrew   \n",
       "332   1:21-cr-28        YOUNG, Graydon   \n",
       "333  1:21-cr-191      ZINK, Ryan Scott   \n",
       "\n",
       "                                                                                                                                                                                                                                                                                                                                                                          charges  \\\n",
       "329      Obstruction of an Official Proceeding and Aiding and Abetting; Entering and Remaining in a Restricted Building or Grounds; Disorderly and Disruptive Conduct in a Restricted Building or Grounds; Entering and Remaining in Certain Rooms in the Capitol Building; Disorderly Conduct in a Capitol Building; Parading, Demonstrating, or Picketing in a Capitol Building   \n",
       "330  Knowingly Entering or Remaining in any Restricted Building or Grounds Without Lawful Authority; Knowingly Engaging in Disorderly or Disruptive Conduct in any Restricted Building or Grounds; Violent Entry and Disorderly Conduct on Capitol Grounds; Obstruction of Justice/Congress; Knowingly Engaging in Act of Physical Violence in any Restricted Building or Grounds   \n",
       "331                                                                                                                                          Entering and Remaining in a Restricted Building; Disorderly and Disruptive Conduct in a Restricted Building; Violent Entry and Disorderly Conduct in a Capitol Building; Parading, Demonstrating, or Picketing in a Capitol Building   \n",
       "332                                                                                                                                    Conspiracy; Obstruction of an Official Proceeding and Aiding and Abetting; Destruction of Government Property and Aiding and Abetting; Entering and Remaining in a Restricted Building or Grounds; Tampering with Documents or Proceedings   \n",
       "333                                                                                                                       Obstruction of an Official Proceeding; Knowingly Entering or Remaining in any Restricted Building or Grounds Without Lawful Authority and engages in any act of physical violence against any person or property in any restricted building or grounds.   \n",
       "\n",
       "                                                                                                                                                                           associated_documents  \\\n",
       "329                                                                                                                              Wood - Complaint  Wood - Indictment  Wood - Statement of Facts   \n",
       "330                                                                                                                                           Worrell - Complaint  Worrell - Statement of Facts   \n",
       "331                                                                                                                    Wrigley - Complaint  Wrigley - Statement of Facts  Wrigley - Information   \n",
       "332  Meggs Steele Young - Complaint & Affidavit  Caldwell, et al – Indictment  Caldwell, Crowl, Watkins, Parker, Parker, Young, Steele, Meggs, Meggs, Harrelson - Second Superceding Indictment   \n",
       "333                                                                                                                                                       Zink - Complaint & Statement of Facts   \n",
       "\n",
       "                location_of_arrest  \\\n",
       "329  North Carolina, Winston Salem   \n",
       "330                Florida, Naples   \n",
       "331                   Pennsylvania   \n",
       "332                        Florida   \n",
       "333                   Pennsylvania   \n",
       "\n",
       "                                                                                                                                           case_status  \\\n",
       "329                                                                                            Arrested on 03/05/2021 in Winston Salem, North Carolina   \n",
       "330                                                                                                          Arrested on 03/12/2021 in Naples, Florida   \n",
       "331  Arrested on 1/15/21 in the Middle District of Pennsylvania. Initial appearance via video on 1/25/21 in federal court in the District of Columbia.   \n",
       "332                                                                                                 Arrested 2/15/21 in the Middle District of Florida   \n",
       "333                                                                                                                                                NaN   \n",
       "\n",
       "    entry_last_updated  \n",
       "329     March 25, 2021  \n",
       "330     March 25, 2021  \n",
       "331     March 25, 2021  \n",
       "332     March 26, 2021  \n",
       "333     March 25, 2021  "
      ]
     },
     "execution_count": 51,
     "metadata": {},
     "output_type": "execute_result"
    }
   ],
   "source": [
    "justice_df.tail()"
   ]
  },
  {
   "cell_type": "code",
   "execution_count": 52,
   "metadata": {},
   "outputs": [],
   "source": [
    "justice_df[\"fullname\"] = justice_df[\"fullname\"].str.strip()"
   ]
  },
  {
   "cell_type": "code",
   "execution_count": 53,
   "metadata": {},
   "outputs": [],
   "source": [
    "justice_df = justice_df[\n",
    "    [\n",
    "        \"case_number\",\n",
    "        \"fullname\",\n",
    "        \"location_of_arrest\",\n",
    "        \"charges\",\n",
    "        \"associated_documents\",\n",
    "        \"case_status\",\n",
    "        \"entry_last_updated\",\n",
    "    ]\n",
    "]"
   ]
  },
  {
   "cell_type": "markdown",
   "metadata": {},
   "source": [
    "### Get out HTML table so we can parse it"
   ]
  },
  {
   "cell_type": "code",
   "execution_count": 54,
   "metadata": {},
   "outputs": [],
   "source": [
    "response_justice = requests.get(justice_url)\n",
    "soup = BeautifulSoup(response_justice.text, \"html.parser\")\n",
    "table = soup.find(\"table\")"
   ]
  },
  {
   "cell_type": "markdown",
   "metadata": {},
   "source": [
    "### Get the defendant document links from the table into a list"
   ]
  },
  {
   "cell_type": "code",
   "execution_count": 55,
   "metadata": {},
   "outputs": [],
   "source": [
    "links = []\n",
    "for tr in table.findAll(\"tr\")[1:]:\n",
    "    trs = tr.findAll(\"td\")\n",
    "\n",
    "    this_row_links = []\n",
    "\n",
    "    for link in trs[3].findAll(\"a\"):\n",
    "        this_row_links.append(link[\"href\"])\n",
    "\n",
    "    links.append(this_row_links)"
   ]
  },
  {
   "cell_type": "code",
   "execution_count": 56,
   "metadata": {},
   "outputs": [],
   "source": [
    "justice_df[\"links\"] = links"
   ]
  },
  {
   "cell_type": "markdown",
   "metadata": {},
   "source": [
    "### Clean up locations"
   ]
  },
  {
   "cell_type": "code",
   "execution_count": 57,
   "metadata": {},
   "outputs": [],
   "source": [
    "justice_df[\"location_of_arrest\"] = (\n",
    "    justice_df[\"location_of_arrest\"]\n",
    "    .str.strip()\n",
    "    .str.title()\n",
    "    .str.replace(\", Middle District\", \"\", regex=False)\n",
    "    .str.replace(\", Southern District\", \"\", regex=False)\n",
    "    .str.replace(\", Central District\", \"\", regex=False)\n",
    "    .str.replace(\", Western District\", \"\", regex=False)\n",
    "    .str.replace(\", Eastern District\", \"\", regex=False)\n",
    "    .str.replace(\", Northern District\", \"\", regex=False)\n",
    ")"
   ]
  },
  {
   "cell_type": "code",
   "execution_count": 58,
   "metadata": {},
   "outputs": [],
   "source": [
    "justice_df[\"location_of_arrest\"] = justice_df[\"location_of_arrest\"].fillna(\"Not listed\")"
   ]
  },
  {
   "cell_type": "code",
   "execution_count": 59,
   "metadata": {},
   "outputs": [],
   "source": [
    "new = justice_df[\"location_of_arrest\"].str.split(\", \", n=1, expand=True)\n",
    "justice_df[\"location_of_arrest_state\"] = new[0]\n",
    "justice_df[\"location_of_arrest_other\"] = new[1]\n",
    "justice_df.drop(columns=[\"location_of_arrest\"], inplace=True)"
   ]
  },
  {
   "cell_type": "markdown",
   "metadata": {},
   "source": [
    "### How's the dataframe look? "
   ]
  },
  {
   "cell_type": "code",
   "execution_count": 60,
   "metadata": {},
   "outputs": [
    {
     "data": {
      "text/html": [
       "<div>\n",
       "<style scoped>\n",
       "    .dataframe tbody tr th:only-of-type {\n",
       "        vertical-align: middle;\n",
       "    }\n",
       "\n",
       "    .dataframe tbody tr th {\n",
       "        vertical-align: top;\n",
       "    }\n",
       "\n",
       "    .dataframe thead th {\n",
       "        text-align: right;\n",
       "    }\n",
       "</style>\n",
       "<table border=\"1\" class=\"dataframe\">\n",
       "  <thead>\n",
       "    <tr style=\"text-align: right;\">\n",
       "      <th></th>\n",
       "      <th>case_number</th>\n",
       "      <th>fullname</th>\n",
       "      <th>charges</th>\n",
       "      <th>associated_documents</th>\n",
       "      <th>case_status</th>\n",
       "      <th>entry_last_updated</th>\n",
       "      <th>links</th>\n",
       "      <th>location_of_arrest_state</th>\n",
       "      <th>location_of_arrest_other</th>\n",
       "    </tr>\n",
       "  </thead>\n",
       "  <tbody>\n",
       "    <tr>\n",
       "      <th>0</th>\n",
       "      <td>1:21-cr-212</td>\n",
       "      <td>ADAMS, Jared Hunter</td>\n",
       "      <td>Entering and Remaining in a Restricted Building; Disorderly and Disruptive Conduct in a Restricted Building; Violent Entry and Disorderly Conduct in a Capitol Building; Parading, Demonstrating, or Picketing in a Capitol Building</td>\n",
       "      <td>Adams &amp; Jared - Information  Adams &amp; Jared - Statement of Facts  Adams &amp; Jared - Complaint</td>\n",
       "      <td>Arrest date &amp; location: 3/9/2021 in Hilliard, Ohio</td>\n",
       "      <td>March 22, 2021</td>\n",
       "      <td>[/usao-dc/case-multi-defendant/file/1378326/download, /usao-dc/case-multi-defendant/file/1378331/download, /usao-dc/case-multi-defendant/file/1378336/download]</td>\n",
       "      <td>Ohio</td>\n",
       "      <td>Hilliard</td>\n",
       "    </tr>\n",
       "    <tr>\n",
       "      <th>1</th>\n",
       "      <td>1:21-cr-115</td>\n",
       "      <td>ALVEAR GONZALEZ, Eduardo Nicolas (aka, Alvear Gonzalez Eduardo Nicolas; aka, Nicolas Alvear)</td>\n",
       "      <td>Entering and Remaining in a Restricted Building or Grounds; Disorderly and Disruptive Conduct in a Restricted Building or Grounds; Disorderly Conduct in a Capitol Building; Parading, Demonstrating, or Picketing in a Capitol Building</td>\n",
       "      <td>Gonzalez - Statement of Facts  Gonzalez - Complaint  Gonzalez - Information</td>\n",
       "      <td>Arrested 2/12/21 in the Eastern District of Virginia. Initial Appearance 2/12/21 at 2:00pm.</td>\n",
       "      <td>March 23, 2021</td>\n",
       "      <td>[/usao-dc/case-multi-defendant/file/1378626/download, /usao-dc/case-multi-defendant/file/1378631/download, /usao-dc/case-multi-defendant/file/1378636/download]</td>\n",
       "      <td>Virginia</td>\n",
       "      <td>None</td>\n",
       "    </tr>\n",
       "    <tr>\n",
       "      <th>2</th>\n",
       "      <td>1:21-cr-43</td>\n",
       "      <td>ABUAL-RAGHEB, Rasha N.</td>\n",
       "      <td>Entering and Remaining in a Restricted Building; Disorderly and Disruptive Conduct in a Restricted Building; Violent Entry and Disorderly Conduct in a Capitol Building; Parading, Demonstrating, or Picketing in a Capitol Building</td>\n",
       "      <td>Abual-Ragheb - Complaint  Abual-Ragheb - Affidavit  Abual-Ragheb - Indictment</td>\n",
       "      <td>Arrested 1/19/21 in the District of New Jersey</td>\n",
       "      <td>February 4, 2021</td>\n",
       "      <td>[/opa/page/file/1357081/download, /opa/page/file/1357076/download, /usao-dc/case-multi-defendant/file/1364746/download]</td>\n",
       "      <td>New Jersey</td>\n",
       "      <td>None</td>\n",
       "    </tr>\n",
       "    <tr>\n",
       "      <th>3</th>\n",
       "      <td>1:21-cr-84</td>\n",
       "      <td>ADAMS, Daniel Page</td>\n",
       "      <td>Civil Disorder; Obstruction of an Official Proceeding; Assaulting, Resisting or Impeding Certain Officers; Entering and Remaining in a Restricted Building or Grounds; Disorderly and Disruptive Conduct in a Restricted Building or Grounds; Disorderly Conduct in a Capitol Building; Impeding Passage Through the Capitol Grounds or Buildings; Parading, Demonstrating, or Picketing in a Capitol Building</td>\n",
       "      <td>Adams Connell - Complaint  Adams Connell - Statement of Facts  Adams, Connell - Amended Statement of Facts  Adams, Connell - Amended Complaint  Adams, Connell - Indictment</td>\n",
       "      <td>Arrested 1/16/21 in the Eastern District of Texas</td>\n",
       "      <td>February 10, 2021</td>\n",
       "      <td>[/opa/page/file/1355881/download, /opa/page/file/1355876/download, /opa/page/file/1358936/download, /opa/page/file/1358931/download, /usao-dc/case-multi-defendant/file/1366036/download]</td>\n",
       "      <td>Texas</td>\n",
       "      <td>None</td>\n",
       "    </tr>\n",
       "    <tr>\n",
       "      <th>4</th>\n",
       "      <td>1:21-mj-291</td>\n",
       "      <td>ADAMS, Howard Berton</td>\n",
       "      <td>Obstruction of Law Enforcement During Civil Disorder; Obstruction of Justice/Congress; Knowingly Entering or Remaining in any Restricted Building or Grounds Without Lawful Authority; Disorderly conduct in restricted building or grounds; Disorderly Conduct on Capitol Grounds; Parading or demonstrating in Capitol building</td>\n",
       "      <td>Adams - Complaint  Adams - Statement of Facts</td>\n",
       "      <td>Arrest date &amp; location: 3/10/21 in Edgewater, FL</td>\n",
       "      <td>March 22, 2021</td>\n",
       "      <td>[/usao-dc/case-multi-defendant/file/1378306/download, /usao-dc/case-multi-defendant/file/1378311/download]</td>\n",
       "      <td>Florida</td>\n",
       "      <td>Edgewater</td>\n",
       "    </tr>\n",
       "  </tbody>\n",
       "</table>\n",
       "</div>"
      ],
      "text/plain": [
       "   case_number  \\\n",
       "0  1:21-cr-212   \n",
       "1  1:21-cr-115   \n",
       "2   1:21-cr-43   \n",
       "3   1:21-cr-84   \n",
       "4  1:21-mj-291   \n",
       "\n",
       "                                                                                       fullname  \\\n",
       "0                                                                           ADAMS, Jared Hunter   \n",
       "1  ALVEAR GONZALEZ, Eduardo Nicolas (aka, Alvear Gonzalez Eduardo Nicolas; aka, Nicolas Alvear)   \n",
       "2                                                                        ABUAL-RAGHEB, Rasha N.   \n",
       "3                                                                            ADAMS, Daniel Page   \n",
       "4                                                                          ADAMS, Howard Berton   \n",
       "\n",
       "                                                                                                                                                                                                                                                                                                                                                                                                          charges  \\\n",
       "0                                                                                                                                                                            Entering and Remaining in a Restricted Building; Disorderly and Disruptive Conduct in a Restricted Building; Violent Entry and Disorderly Conduct in a Capitol Building; Parading, Demonstrating, or Picketing in a Capitol Building   \n",
       "1                                                                                                                                                                        Entering and Remaining in a Restricted Building or Grounds; Disorderly and Disruptive Conduct in a Restricted Building or Grounds; Disorderly Conduct in a Capitol Building; Parading, Demonstrating, or Picketing in a Capitol Building   \n",
       "2                                                                                                                                                                            Entering and Remaining in a Restricted Building; Disorderly and Disruptive Conduct in a Restricted Building; Violent Entry and Disorderly Conduct in a Capitol Building; Parading, Demonstrating, or Picketing in a Capitol Building   \n",
       "3  Civil Disorder; Obstruction of an Official Proceeding; Assaulting, Resisting or Impeding Certain Officers; Entering and Remaining in a Restricted Building or Grounds; Disorderly and Disruptive Conduct in a Restricted Building or Grounds; Disorderly Conduct in a Capitol Building; Impeding Passage Through the Capitol Grounds or Buildings; Parading, Demonstrating, or Picketing in a Capitol Building   \n",
       "4                                                                               Obstruction of Law Enforcement During Civil Disorder; Obstruction of Justice/Congress; Knowingly Entering or Remaining in any Restricted Building or Grounds Without Lawful Authority; Disorderly conduct in restricted building or grounds; Disorderly Conduct on Capitol Grounds; Parading or demonstrating in Capitol building   \n",
       "\n",
       "                                                                                                                                                          associated_documents  \\\n",
       "0                                                                                   Adams & Jared - Information  Adams & Jared - Statement of Facts  Adams & Jared - Complaint   \n",
       "1                                                                                                  Gonzalez - Statement of Facts  Gonzalez - Complaint  Gonzalez - Information   \n",
       "2                                                                                                Abual-Ragheb - Complaint  Abual-Ragheb - Affidavit  Abual-Ragheb - Indictment   \n",
       "3  Adams Connell - Complaint  Adams Connell - Statement of Facts  Adams, Connell - Amended Statement of Facts  Adams, Connell - Amended Complaint  Adams, Connell - Indictment   \n",
       "4                                                                                                                                Adams - Complaint  Adams - Statement of Facts   \n",
       "\n",
       "                                                                                   case_status  \\\n",
       "0                                           Arrest date & location: 3/9/2021 in Hilliard, Ohio   \n",
       "1  Arrested 2/12/21 in the Eastern District of Virginia. Initial Appearance 2/12/21 at 2:00pm.   \n",
       "2                                               Arrested 1/19/21 in the District of New Jersey   \n",
       "3                                            Arrested 1/16/21 in the Eastern District of Texas   \n",
       "4                                             Arrest date & location: 3/10/21 in Edgewater, FL   \n",
       "\n",
       "  entry_last_updated  \\\n",
       "0     March 22, 2021   \n",
       "1     March 23, 2021   \n",
       "2   February 4, 2021   \n",
       "3  February 10, 2021   \n",
       "4     March 22, 2021   \n",
       "\n",
       "                                                                                                                                                                                       links  \\\n",
       "0                            [/usao-dc/case-multi-defendant/file/1378326/download, /usao-dc/case-multi-defendant/file/1378331/download, /usao-dc/case-multi-defendant/file/1378336/download]   \n",
       "1                            [/usao-dc/case-multi-defendant/file/1378626/download, /usao-dc/case-multi-defendant/file/1378631/download, /usao-dc/case-multi-defendant/file/1378636/download]   \n",
       "2                                                                    [/opa/page/file/1357081/download, /opa/page/file/1357076/download, /usao-dc/case-multi-defendant/file/1364746/download]   \n",
       "3  [/opa/page/file/1355881/download, /opa/page/file/1355876/download, /opa/page/file/1358936/download, /opa/page/file/1358931/download, /usao-dc/case-multi-defendant/file/1366036/download]   \n",
       "4                                                                                 [/usao-dc/case-multi-defendant/file/1378306/download, /usao-dc/case-multi-defendant/file/1378311/download]   \n",
       "\n",
       "  location_of_arrest_state location_of_arrest_other  \n",
       "0                     Ohio                 Hilliard  \n",
       "1                 Virginia                     None  \n",
       "2               New Jersey                     None  \n",
       "3                    Texas                     None  \n",
       "4                  Florida                Edgewater  "
      ]
     },
     "execution_count": 60,
     "metadata": {},
     "output_type": "execute_result"
    }
   ],
   "source": [
    "justice_df.head()"
   ]
  },
  {
   "cell_type": "code",
   "execution_count": 61,
   "metadata": {},
   "outputs": [],
   "source": [
    "justice_df.to_json(\"processed/justice_df.json\", orient=\"records\", indent=2)"
   ]
  },
  {
   "cell_type": "markdown",
   "metadata": {},
   "source": [
    "### How many cases?"
   ]
  },
  {
   "cell_type": "code",
   "execution_count": 62,
   "metadata": {},
   "outputs": [
    {
     "data": {
      "text/plain": [
       "334"
      ]
     },
     "execution_count": 62,
     "metadata": {},
     "output_type": "execute_result"
    }
   ],
   "source": [
    "len(justice_df)"
   ]
  },
  {
   "cell_type": "markdown",
   "metadata": {},
   "source": [
    "### How many cases involve conspiracy?"
   ]
  },
  {
   "cell_type": "code",
   "execution_count": 63,
   "metadata": {},
   "outputs": [
    {
     "data": {
      "text/plain": [
       "26"
      ]
     },
     "execution_count": 63,
     "metadata": {},
     "output_type": "execute_result"
    }
   ],
   "source": [
    "len(justice_df[justice_df[\"charges\"].str.contains(\"Conspiracy\")])"
   ]
  },
  {
   "cell_type": "markdown",
   "metadata": {},
   "source": [
    "### Arrest locations"
   ]
  },
  {
   "cell_type": "code",
   "execution_count": 64,
   "metadata": {},
   "outputs": [
    {
     "data": {
      "text/plain": [
       "                        41\n",
       "Florida                 32\n",
       "Pennsylvania            30\n",
       "Texas                   26\n",
       "New York                24\n",
       "Ohio                    17\n",
       "Virginia                16\n",
       "California              13\n",
       "New Jersey              12\n",
       "Missouri                11\n",
       "Kentucky                10\n",
       "Tennessee                8\n",
       "District Of Columbia     6\n",
       "Illinois                 6\n",
       "Maryland                 6\n",
       "North Carolina           6\n",
       "Michigan                 5\n",
       "Montana                  5\n",
       "Georgia                  5\n",
       "Iowa                     4\n",
       "Massachusetts            4\n",
       "Indiana                  4\n",
       "Colorado                 4\n",
       "Arizona                  4\n",
       "Washington               4\n",
       "West Virginia            4\n",
       "Alabama                  4\n",
       "Oklahoma                 3\n",
       "Wisconsin                2\n",
       "Idaho                    2\n",
       "Arkansas                 2\n",
       "New Hampshire            2\n",
       "Nevada                   2\n",
       "Louisiana                2\n",
       "Hawaii                   1\n",
       "Washington.              1\n",
       "Southgate                1\n",
       "Maine                    1\n",
       "New York Of              1\n",
       "Kansas                   1\n",
       "Utah                     1\n",
       "Nebraska                 1\n",
       "Name: location_of_arrest_state, dtype: int64"
      ]
     },
     "execution_count": 64,
     "metadata": {},
     "output_type": "execute_result"
    }
   ],
   "source": [
    "justice_df.location_of_arrest_state.value_counts()"
   ]
  },
  {
   "cell_type": "code",
   "execution_count": null,
   "metadata": {},
   "outputs": [],
   "source": []
  }
 ],
 "metadata": {
  "kernelspec": {
   "display_name": "Python 3",
   "language": "python",
   "name": "python3"
  },
  "language_info": {
   "codemirror_mode": {
    "name": "ipython",
    "version": 3
   },
   "file_extension": ".py",
   "mimetype": "text/x-python",
   "name": "python",
   "nbconvert_exporter": "python",
   "pygments_lexer": "ipython3",
   "version": "3.7.4"
  }
 },
 "nbformat": 4,
 "nbformat_minor": 5
}
