{
 "cells": [
  {
   "cell_type": "markdown",
   "metadata": {},
   "source": [
    "# My political bubbles history"
   ]
  },
  {
   "cell_type": "markdown",
   "metadata": {},
   "source": [
    "### Import Python tools and Jupyter configuration"
   ]
  },
  {
   "cell_type": "code",
   "execution_count": 1,
   "metadata": {},
   "outputs": [],
   "source": [
    "%load_ext lab_black"
   ]
  },
  {
   "cell_type": "code",
   "execution_count": 2,
   "metadata": {},
   "outputs": [],
   "source": [
    "import pandas as pd\n",
    "import requests\n",
    "from bs4 import BeautifulSoup\n",
    "import re"
   ]
  },
  {
   "cell_type": "code",
   "execution_count": 3,
   "metadata": {},
   "outputs": [],
   "source": [
    "import altair as alt\n",
    "import altair_latimes as lat\n",
    "import numpy as np\n",
    "import matplotlib.pyplot as plt\n",
    "from pywaffle import Waffle"
   ]
  },
  {
   "cell_type": "code",
   "execution_count": 4,
   "metadata": {},
   "outputs": [
    {
     "data": {
      "text/plain": [
       "ThemeRegistry.enable('latimes')"
      ]
     },
     "execution_count": 4,
     "metadata": {},
     "output_type": "execute_result"
    }
   ],
   "source": [
    "alt.themes.register(\"latimes\", lat.theme)\n",
    "alt.themes.enable(\"latimes\")"
   ]
  },
  {
   "cell_type": "code",
   "execution_count": 5,
   "metadata": {},
   "outputs": [],
   "source": [
    "pd.options.display.max_columns = 100\n",
    "pd.options.display.max_rows = 1000\n",
    "alt.data_transformers.disable_max_rows()\n",
    "pd.options.display.max_colwidth = None"
   ]
  },
  {
   "cell_type": "markdown",
   "metadata": {},
   "source": [
    "### Where have I lived (excluding pre-teen addresses and 3.5 years in Seoul (2015-2018)?"
   ]
  },
  {
   "cell_type": "code",
   "execution_count": 6,
   "metadata": {},
   "outputs": [],
   "source": [
    "addresses = {\n",
    "    \"street\": [\n",
    "        \"12600 Braddock Dr\",\n",
    "        \"12701 Rubens Ave\",\n",
    "        \"3114 15th St NE\",\n",
    "        \"1023 Kearney St NE\",\n",
    "        \"2604 Brisbane Rd\",\n",
    "        \"904 Westcott St\",\n",
    "        \"7927 Forest Ln\",\n",
    "        \"700 W Mitchell\",\n",
    "        \"3624 Andrea St\",\n",
    "    ],\n",
    "    \"city\": [\n",
    "        \"Los Angeles\",\n",
    "        \"Los Angeles\",\n",
    "        \"Washington\",\n",
    "        \"Washington\",\n",
    "        \"Austin\",\n",
    "        \"Houston\",\n",
    "        \"Dallas\",\n",
    "        \"Arlington\",\n",
    "        \"Longview\",\n",
    "    ],\n",
    "    \"state\": [\"CA\", \"CA\", \"DC\", \"DC\", \"TX\", \"TX\", \"TX\", \"TX\", \"TX\"],\n",
    "    \"zip\": [\n",
    "        \"90066\",\n",
    "        \"90066\",\n",
    "        \"20017\",\n",
    "        \"20017\",\n",
    "        \"78745\",\n",
    "        \"77007\",\n",
    "        \"75230\",\n",
    "        \"76013\",\n",
    "        \"75604\",\n",
    "    ],\n",
    "    \"moved\": [\n",
    "        \"2020\",\n",
    "        \"2018\",\n",
    "        \"2013\",\n",
    "        \"2011\",\n",
    "        \"2009\",\n",
    "        \"2005\",\n",
    "        \"2001\",\n",
    "        \"1997\",\n",
    "        \"1989\",\n",
    "    ],\n",
    "}"
   ]
  },
  {
   "cell_type": "code",
   "execution_count": 7,
   "metadata": {},
   "outputs": [
    {
     "data": {
      "text/html": [
       "<div>\n",
       "<style scoped>\n",
       "    .dataframe tbody tr th:only-of-type {\n",
       "        vertical-align: middle;\n",
       "    }\n",
       "\n",
       "    .dataframe tbody tr th {\n",
       "        vertical-align: top;\n",
       "    }\n",
       "\n",
       "    .dataframe thead th {\n",
       "        text-align: right;\n",
       "    }\n",
       "</style>\n",
       "<table border=\"1\" class=\"dataframe\">\n",
       "  <thead>\n",
       "    <tr style=\"text-align: right;\">\n",
       "      <th></th>\n",
       "      <th>street</th>\n",
       "      <th>city</th>\n",
       "      <th>state</th>\n",
       "      <th>zip</th>\n",
       "      <th>moved</th>\n",
       "    </tr>\n",
       "  </thead>\n",
       "  <tbody>\n",
       "    <tr>\n",
       "      <th>0</th>\n",
       "      <td>12600 Braddock Dr</td>\n",
       "      <td>Los Angeles</td>\n",
       "      <td>CA</td>\n",
       "      <td>90066</td>\n",
       "      <td>2020</td>\n",
       "    </tr>\n",
       "    <tr>\n",
       "      <th>1</th>\n",
       "      <td>12701 Rubens Ave</td>\n",
       "      <td>Los Angeles</td>\n",
       "      <td>CA</td>\n",
       "      <td>90066</td>\n",
       "      <td>2018</td>\n",
       "    </tr>\n",
       "    <tr>\n",
       "      <th>2</th>\n",
       "      <td>3114 15th St NE</td>\n",
       "      <td>Washington</td>\n",
       "      <td>DC</td>\n",
       "      <td>20017</td>\n",
       "      <td>2013</td>\n",
       "    </tr>\n",
       "    <tr>\n",
       "      <th>3</th>\n",
       "      <td>1023 Kearney St NE</td>\n",
       "      <td>Washington</td>\n",
       "      <td>DC</td>\n",
       "      <td>20017</td>\n",
       "      <td>2011</td>\n",
       "    </tr>\n",
       "    <tr>\n",
       "      <th>4</th>\n",
       "      <td>2604 Brisbane Rd</td>\n",
       "      <td>Austin</td>\n",
       "      <td>TX</td>\n",
       "      <td>78745</td>\n",
       "      <td>2009</td>\n",
       "    </tr>\n",
       "    <tr>\n",
       "      <th>5</th>\n",
       "      <td>904 Westcott St</td>\n",
       "      <td>Houston</td>\n",
       "      <td>TX</td>\n",
       "      <td>77007</td>\n",
       "      <td>2005</td>\n",
       "    </tr>\n",
       "    <tr>\n",
       "      <th>6</th>\n",
       "      <td>7927 Forest Ln</td>\n",
       "      <td>Dallas</td>\n",
       "      <td>TX</td>\n",
       "      <td>75230</td>\n",
       "      <td>2001</td>\n",
       "    </tr>\n",
       "    <tr>\n",
       "      <th>7</th>\n",
       "      <td>700 W Mitchell</td>\n",
       "      <td>Arlington</td>\n",
       "      <td>TX</td>\n",
       "      <td>76013</td>\n",
       "      <td>1997</td>\n",
       "    </tr>\n",
       "    <tr>\n",
       "      <th>8</th>\n",
       "      <td>3624 Andrea St</td>\n",
       "      <td>Longview</td>\n",
       "      <td>TX</td>\n",
       "      <td>75604</td>\n",
       "      <td>1989</td>\n",
       "    </tr>\n",
       "  </tbody>\n",
       "</table>\n",
       "</div>"
      ],
      "text/plain": [
       "               street         city state    zip moved\n",
       "0   12600 Braddock Dr  Los Angeles    CA  90066  2020\n",
       "1    12701 Rubens Ave  Los Angeles    CA  90066  2018\n",
       "2     3114 15th St NE   Washington    DC  20017  2013\n",
       "3  1023 Kearney St NE   Washington    DC  20017  2011\n",
       "4    2604 Brisbane Rd       Austin    TX  78745  2009\n",
       "5     904 Westcott St      Houston    TX  77007  2005\n",
       "6      7927 Forest Ln       Dallas    TX  75230  2001\n",
       "7      700 W Mitchell    Arlington    TX  76013  1997\n",
       "8      3624 Andrea St     Longview    TX  75604  1989"
      ]
     },
     "execution_count": 7,
     "metadata": {},
     "output_type": "execute_result"
    }
   ],
   "source": [
    "address_df = pd.DataFrame(addresses)\n",
    "address_df"
   ]
  },
  {
   "cell_type": "markdown",
   "metadata": {},
   "source": [
    "### Make the street uppercase for later and a place column"
   ]
  },
  {
   "cell_type": "code",
   "execution_count": 8,
   "metadata": {},
   "outputs": [],
   "source": [
    "address_df[\"street\"] = address_df[\"street\"].str.upper()"
   ]
  },
  {
   "cell_type": "code",
   "execution_count": 9,
   "metadata": {},
   "outputs": [],
   "source": [
    "address_df[\"place\"] = (\n",
    "    address_df[\"street\"]\n",
    "    + \", \"\n",
    "    + address_df[\"city\"]\n",
    "    + \", \"\n",
    "    + address_df[\"state\"]\n",
    "    + \", \"\n",
    "    + address_df[\"zip\"]\n",
    ").str.upper()"
   ]
  },
  {
   "cell_type": "markdown",
   "metadata": {},
   "source": [
    "### Format calls to Census Geocoding API to get longitude, latitude from addresses"
   ]
  },
  {
   "cell_type": "code",
   "execution_count": 10,
   "metadata": {},
   "outputs": [],
   "source": [
    "formaturl = (\n",
    "    lambda x: \"https://geocoding.geo.census.gov/geocoder/geographies/address?street=\"\n",
    "    + f\"{x[0]}\"\n",
    "    + \"&city=\"\n",
    "    + f\"{x[1]}\"\n",
    "    + \"&state=\"\n",
    "    + f\"{x[2]}\"\n",
    "    + \"&benchmark=Public_AR_Census2020&vintage=Census2020_Census2020&layers=10&format=json\"\n",
    ")"
   ]
  },
  {
   "cell_type": "markdown",
   "metadata": {},
   "source": [
    "### Create a dictionary of addresses and coordinates"
   ]
  },
  {
   "cell_type": "code",
   "execution_count": 11,
   "metadata": {},
   "outputs": [],
   "source": [
    "call_metadata = []\n",
    "for s, c, t, m in zip(\n",
    "    address_df[\"street\"], address_df[\"city\"], address_df[\"state\"], address_df[\"moved\"]\n",
    "):\n",
    "    call_metadata.append(\n",
    "        dict(street=s, city=c, state=t, moved=m, url=formaturl((s, c, t)))\n",
    "    )"
   ]
  },
  {
   "cell_type": "code",
   "execution_count": 12,
   "metadata": {},
   "outputs": [
    {
     "data": {
      "text/plain": [
       "{'street': '12600 BRADDOCK DR',\n",
       " 'city': 'Los Angeles',\n",
       " 'state': 'CA',\n",
       " 'moved': '2020',\n",
       " 'url': 'https://geocoding.geo.census.gov/geocoder/geographies/address?street=12600 BRADDOCK DR&city=Los Angeles&state=CA&benchmark=Public_AR_Census2020&vintage=Census2020_Census2020&layers=10&format=json'}"
      ]
     },
     "execution_count": 12,
     "metadata": {},
     "output_type": "execute_result"
    }
   ],
   "source": [
    "call_metadata[0]"
   ]
  },
  {
   "cell_type": "markdown",
   "metadata": {},
   "source": [
    "### Convert returned json into a conventional dataframe and explode nexted columns"
   ]
  },
  {
   "cell_type": "code",
   "execution_count": 13,
   "metadata": {},
   "outputs": [],
   "source": [
    "census_returns = []\n",
    "for m in call_metadata:\n",
    "    r = requests.get(m[\"url\"])\n",
    "    d = r.json()\n",
    "    census_returns.append(d)"
   ]
  },
  {
   "cell_type": "code",
   "execution_count": 14,
   "metadata": {},
   "outputs": [],
   "source": [
    "data = pd.DataFrame(census_returns)"
   ]
  },
  {
   "cell_type": "code",
   "execution_count": 15,
   "metadata": {},
   "outputs": [],
   "source": [
    "result = pd.json_normalize(data[\"result\"])"
   ]
  },
  {
   "cell_type": "code",
   "execution_count": 16,
   "metadata": {},
   "outputs": [],
   "source": [
    "df = pd.concat(\n",
    "    [pd.DataFrame(pd.json_normalize(x)) for x in result[\"addressMatches\"]],\n",
    "    ignore_index=True,\n",
    ")"
   ]
  },
  {
   "cell_type": "markdown",
   "metadata": {},
   "source": [
    "### Slim down the dataframe into something manageable and rename janky column names"
   ]
  },
  {
   "cell_type": "code",
   "execution_count": 17,
   "metadata": {},
   "outputs": [],
   "source": [
    "location = df[\n",
    "    [\n",
    "        \"matchedAddress\",\n",
    "        \"coordinates.x\",\n",
    "        \"coordinates.y\",\n",
    "        \"addressComponents.city\",\n",
    "        \"addressComponents.state\",\n",
    "        \"addressComponents.zip\",\n",
    "    ]\n",
    "].copy()"
   ]
  },
  {
   "cell_type": "code",
   "execution_count": 18,
   "metadata": {},
   "outputs": [],
   "source": [
    "location.rename(\n",
    "    columns={\n",
    "        \"matchedAddress\": \"address\",\n",
    "        \"coordinates.x\": \"longitude\",\n",
    "        \"coordinates.y\": \"latitude\",\n",
    "        \"addressComponents.city\": \"city\",\n",
    "        \"addressComponents.state\": \"state\",\n",
    "        \"addressComponents.zip\": \"zip\",\n",
    "    },\n",
    "    inplace=True,\n",
    ")"
   ]
  },
  {
   "cell_type": "markdown",
   "metadata": {},
   "source": [
    "### Simplier address column"
   ]
  },
  {
   "cell_type": "code",
   "execution_count": 19,
   "metadata": {},
   "outputs": [],
   "source": [
    "location[\"place\"] = location[\"city\"] + \", \" + location[\"state\"] + \", \" + location[\"zip\"]"
   ]
  },
  {
   "cell_type": "markdown",
   "metadata": {},
   "source": [
    "---"
   ]
  },
  {
   "cell_type": "markdown",
   "metadata": {},
   "source": [
    "### Get the 'bubble' info from the NY Times app"
   ]
  },
  {
   "cell_type": "code",
   "execution_count": 20,
   "metadata": {},
   "outputs": [],
   "source": [
    "# https://www.nytimes.com/interactive/2021/04/30/opinion/politics/bubble-politics.html"
   ]
  },
  {
   "cell_type": "markdown",
   "metadata": {},
   "source": [
    "### Dictionary of residences and URLs to NY Times"
   ]
  },
  {
   "cell_type": "code",
   "execution_count": 21,
   "metadata": {},
   "outputs": [],
   "source": [
    "bubble_urls = []\n",
    "\n",
    "for x, y, a in zip(location[\"longitude\"], location[\"latitude\"], location[\"address\"]):\n",
    "    bubble_urls.append(\n",
    "        dict(\n",
    "            {\n",
    "                \"url\": \"https://www.nytimes.com/svc/int/run/political-bubble/?lat=\"\n",
    "                + str(y)\n",
    "                + \"&lon=\"\n",
    "                + str(x),\n",
    "                \"place\": a,\n",
    "                \"address\": a,\n",
    "            }\n",
    "        )\n",
    "    )"
   ]
  },
  {
   "cell_type": "code",
   "execution_count": 22,
   "metadata": {},
   "outputs": [],
   "source": [
    "# https://www.nytimes.com/svc/int/run/political-bubble/?lat=33.98673&lon=-118.42337"
   ]
  },
  {
   "cell_type": "code",
   "execution_count": 23,
   "metadata": {},
   "outputs": [
    {
     "data": {
      "text/plain": [
       "{'url': 'https://www.nytimes.com/svc/int/run/political-bubble/?lat=33.98673&lon=-118.42337',\n",
       " 'place': '12600 BRADDOCK DR, LOS ANGELES, CA, 90066',\n",
       " 'address': '12600 BRADDOCK DR, LOS ANGELES, CA, 90066'}"
      ]
     },
     "execution_count": 23,
     "metadata": {},
     "output_type": "execute_result"
    }
   ],
   "source": [
    "bubble_urls[0]"
   ]
  },
  {
   "cell_type": "markdown",
   "metadata": {},
   "source": [
    "### Grab bubble data for each address"
   ]
  },
  {
   "cell_type": "code",
   "execution_count": 24,
   "metadata": {},
   "outputs": [],
   "source": [
    "df_list = []\n",
    "\n",
    "for u in bubble_urls:\n",
    "    data = requests.get(u[\"url\"])\n",
    "    data_json = data.json()\n",
    "\n",
    "    df = pd.DataFrame(data_json).assign(address=u[\"place\"])\n",
    "    df_list.append(df)\n",
    "\n",
    "final_df = pd.concat(df_list).reset_index()"
   ]
  },
  {
   "cell_type": "code",
   "execution_count": 25,
   "metadata": {},
   "outputs": [
    {
     "data": {
      "text/plain": [
       "index                                                 c_lat\n",
       "nearest_oasis                                       33.7801\n",
       "nearest_bubble                                      33.9765\n",
       "user_neighbors                                          NaN\n",
       "address           12600 BRADDOCK DR, LOS ANGELES, CA, 90066\n",
       "Name: 0, dtype: object"
      ]
     },
     "execution_count": 25,
     "metadata": {},
     "output_type": "execute_result"
    }
   ],
   "source": [
    "final_df.iloc[0]"
   ]
  },
  {
   "cell_type": "markdown",
   "metadata": {},
   "source": [
    "### Remove rows where party column is na and drop/rename columns"
   ]
  },
  {
   "cell_type": "code",
   "execution_count": 26,
   "metadata": {},
   "outputs": [],
   "source": [
    "slim_df = final_df.dropna(subset=[\"user_neighbors\"]).copy()"
   ]
  },
  {
   "cell_type": "code",
   "execution_count": 27,
   "metadata": {},
   "outputs": [],
   "source": [
    "slim_df.drop([\"nearest_oasis\", \"nearest_bubble\"], axis=1, inplace=True)"
   ]
  },
  {
   "cell_type": "code",
   "execution_count": 28,
   "metadata": {},
   "outputs": [],
   "source": [
    "slim_df.rename(columns={\"index\": \"party\", \"user_neighbors\": \"share\"}, inplace=True)"
   ]
  },
  {
   "cell_type": "markdown",
   "metadata": {},
   "source": [
    "### Merge residences metadata with bubble data"
   ]
  },
  {
   "cell_type": "code",
   "execution_count": 29,
   "metadata": {},
   "outputs": [],
   "source": [
    "chart_df = pd.merge(address_df, slim_df, left_on=\"place\", right_on=\"address\")"
   ]
  },
  {
   "cell_type": "markdown",
   "metadata": {},
   "source": [
    "### Chart friendly address label"
   ]
  },
  {
   "cell_type": "code",
   "execution_count": 30,
   "metadata": {},
   "outputs": [],
   "source": [
    "chart_df[\"label\"] = (\n",
    "    chart_df[\"city\"] + \", \" + chart_df[\"state\"] + \" (\" + chart_df[\"moved\"] + \")\"\n",
    ")"
   ]
  },
  {
   "cell_type": "markdown",
   "metadata": {},
   "source": [
    "### Better party labels"
   ]
  },
  {
   "cell_type": "code",
   "execution_count": 31,
   "metadata": {},
   "outputs": [],
   "source": [
    "chart_df.loc[chart_df[\"party\"] == \"dem\", \"party\"] = \"Democratic\"\n",
    "chart_df.loc[chart_df[\"party\"] == \"rep\", \"party\"] = \"Republican\"\n",
    "chart_df.loc[chart_df[\"party\"] == \"ind\", \"party\"] = \"Independent\""
   ]
  },
  {
   "cell_type": "code",
   "execution_count": 32,
   "metadata": {},
   "outputs": [
    {
     "data": {
      "text/html": [
       "<div>\n",
       "<style scoped>\n",
       "    .dataframe tbody tr th:only-of-type {\n",
       "        vertical-align: middle;\n",
       "    }\n",
       "\n",
       "    .dataframe tbody tr th {\n",
       "        vertical-align: top;\n",
       "    }\n",
       "\n",
       "    .dataframe thead th {\n",
       "        text-align: right;\n",
       "    }\n",
       "</style>\n",
       "<table border=\"1\" class=\"dataframe\">\n",
       "  <thead>\n",
       "    <tr style=\"text-align: right;\">\n",
       "      <th></th>\n",
       "      <th>street</th>\n",
       "      <th>city</th>\n",
       "      <th>state</th>\n",
       "      <th>zip</th>\n",
       "      <th>moved</th>\n",
       "      <th>place</th>\n",
       "      <th>party</th>\n",
       "      <th>share</th>\n",
       "      <th>address</th>\n",
       "      <th>label</th>\n",
       "    </tr>\n",
       "  </thead>\n",
       "  <tbody>\n",
       "    <tr>\n",
       "      <th>0</th>\n",
       "      <td>12600 BRADDOCK DR</td>\n",
       "      <td>Los Angeles</td>\n",
       "      <td>CA</td>\n",
       "      <td>90066</td>\n",
       "      <td>2020</td>\n",
       "      <td>12600 BRADDOCK DR, LOS ANGELES, CA, 90066</td>\n",
       "      <td>Democratic</td>\n",
       "      <td>0.845</td>\n",
       "      <td>12600 BRADDOCK DR, LOS ANGELES, CA, 90066</td>\n",
       "      <td>Los Angeles, CA (2020)</td>\n",
       "    </tr>\n",
       "    <tr>\n",
       "      <th>1</th>\n",
       "      <td>12600 BRADDOCK DR</td>\n",
       "      <td>Los Angeles</td>\n",
       "      <td>CA</td>\n",
       "      <td>90066</td>\n",
       "      <td>2020</td>\n",
       "      <td>12600 BRADDOCK DR, LOS ANGELES, CA, 90066</td>\n",
       "      <td>Republican</td>\n",
       "      <td>0.153</td>\n",
       "      <td>12600 BRADDOCK DR, LOS ANGELES, CA, 90066</td>\n",
       "      <td>Los Angeles, CA (2020)</td>\n",
       "    </tr>\n",
       "    <tr>\n",
       "      <th>2</th>\n",
       "      <td>12600 BRADDOCK DR</td>\n",
       "      <td>Los Angeles</td>\n",
       "      <td>CA</td>\n",
       "      <td>90066</td>\n",
       "      <td>2020</td>\n",
       "      <td>12600 BRADDOCK DR, LOS ANGELES, CA, 90066</td>\n",
       "      <td>Independent</td>\n",
       "      <td>0.002</td>\n",
       "      <td>12600 BRADDOCK DR, LOS ANGELES, CA, 90066</td>\n",
       "      <td>Los Angeles, CA (2020)</td>\n",
       "    </tr>\n",
       "    <tr>\n",
       "      <th>3</th>\n",
       "      <td>12701 RUBENS AVE</td>\n",
       "      <td>Los Angeles</td>\n",
       "      <td>CA</td>\n",
       "      <td>90066</td>\n",
       "      <td>2018</td>\n",
       "      <td>12701 RUBENS AVE, LOS ANGELES, CA, 90066</td>\n",
       "      <td>Democratic</td>\n",
       "      <td>0.853</td>\n",
       "      <td>12701 RUBENS AVE, LOS ANGELES, CA, 90066</td>\n",
       "      <td>Los Angeles, CA (2018)</td>\n",
       "    </tr>\n",
       "    <tr>\n",
       "      <th>4</th>\n",
       "      <td>12701 RUBENS AVE</td>\n",
       "      <td>Los Angeles</td>\n",
       "      <td>CA</td>\n",
       "      <td>90066</td>\n",
       "      <td>2018</td>\n",
       "      <td>12701 RUBENS AVE, LOS ANGELES, CA, 90066</td>\n",
       "      <td>Republican</td>\n",
       "      <td>0.146</td>\n",
       "      <td>12701 RUBENS AVE, LOS ANGELES, CA, 90066</td>\n",
       "      <td>Los Angeles, CA (2018)</td>\n",
       "    </tr>\n",
       "    <tr>\n",
       "      <th>5</th>\n",
       "      <td>12701 RUBENS AVE</td>\n",
       "      <td>Los Angeles</td>\n",
       "      <td>CA</td>\n",
       "      <td>90066</td>\n",
       "      <td>2018</td>\n",
       "      <td>12701 RUBENS AVE, LOS ANGELES, CA, 90066</td>\n",
       "      <td>Independent</td>\n",
       "      <td>0.001</td>\n",
       "      <td>12701 RUBENS AVE, LOS ANGELES, CA, 90066</td>\n",
       "      <td>Los Angeles, CA (2018)</td>\n",
       "    </tr>\n",
       "    <tr>\n",
       "      <th>6</th>\n",
       "      <td>3114 15TH ST NE</td>\n",
       "      <td>Washington</td>\n",
       "      <td>DC</td>\n",
       "      <td>20017</td>\n",
       "      <td>2013</td>\n",
       "      <td>3114 15TH ST NE, WASHINGTON, DC, 20017</td>\n",
       "      <td>Democratic</td>\n",
       "      <td>0.957</td>\n",
       "      <td>3114 15TH ST NE, WASHINGTON, DC, 20017</td>\n",
       "      <td>Washington, DC (2013)</td>\n",
       "    </tr>\n",
       "    <tr>\n",
       "      <th>7</th>\n",
       "      <td>3114 15TH ST NE</td>\n",
       "      <td>Washington</td>\n",
       "      <td>DC</td>\n",
       "      <td>20017</td>\n",
       "      <td>2013</td>\n",
       "      <td>3114 15TH ST NE, WASHINGTON, DC, 20017</td>\n",
       "      <td>Republican</td>\n",
       "      <td>0.036</td>\n",
       "      <td>3114 15TH ST NE, WASHINGTON, DC, 20017</td>\n",
       "      <td>Washington, DC (2013)</td>\n",
       "    </tr>\n",
       "    <tr>\n",
       "      <th>8</th>\n",
       "      <td>3114 15TH ST NE</td>\n",
       "      <td>Washington</td>\n",
       "      <td>DC</td>\n",
       "      <td>20017</td>\n",
       "      <td>2013</td>\n",
       "      <td>3114 15TH ST NE, WASHINGTON, DC, 20017</td>\n",
       "      <td>Independent</td>\n",
       "      <td>0.007</td>\n",
       "      <td>3114 15TH ST NE, WASHINGTON, DC, 20017</td>\n",
       "      <td>Washington, DC (2013)</td>\n",
       "    </tr>\n",
       "    <tr>\n",
       "      <th>9</th>\n",
       "      <td>1023 KEARNEY ST NE</td>\n",
       "      <td>Washington</td>\n",
       "      <td>DC</td>\n",
       "      <td>20017</td>\n",
       "      <td>2011</td>\n",
       "      <td>1023 KEARNEY ST NE, WASHINGTON, DC, 20017</td>\n",
       "      <td>Democratic</td>\n",
       "      <td>0.954</td>\n",
       "      <td>1023 KEARNEY ST NE, WASHINGTON, DC, 20017</td>\n",
       "      <td>Washington, DC (2011)</td>\n",
       "    </tr>\n",
       "    <tr>\n",
       "      <th>10</th>\n",
       "      <td>1023 KEARNEY ST NE</td>\n",
       "      <td>Washington</td>\n",
       "      <td>DC</td>\n",
       "      <td>20017</td>\n",
       "      <td>2011</td>\n",
       "      <td>1023 KEARNEY ST NE, WASHINGTON, DC, 20017</td>\n",
       "      <td>Republican</td>\n",
       "      <td>0.046</td>\n",
       "      <td>1023 KEARNEY ST NE, WASHINGTON, DC, 20017</td>\n",
       "      <td>Washington, DC (2011)</td>\n",
       "    </tr>\n",
       "    <tr>\n",
       "      <th>11</th>\n",
       "      <td>1023 KEARNEY ST NE</td>\n",
       "      <td>Washington</td>\n",
       "      <td>DC</td>\n",
       "      <td>20017</td>\n",
       "      <td>2011</td>\n",
       "      <td>1023 KEARNEY ST NE, WASHINGTON, DC, 20017</td>\n",
       "      <td>Independent</td>\n",
       "      <td>0.000</td>\n",
       "      <td>1023 KEARNEY ST NE, WASHINGTON, DC, 20017</td>\n",
       "      <td>Washington, DC (2011)</td>\n",
       "    </tr>\n",
       "    <tr>\n",
       "      <th>12</th>\n",
       "      <td>2604 BRISBANE RD</td>\n",
       "      <td>Austin</td>\n",
       "      <td>TX</td>\n",
       "      <td>78745</td>\n",
       "      <td>2009</td>\n",
       "      <td>2604 BRISBANE RD, AUSTIN, TX, 78745</td>\n",
       "      <td>Democratic</td>\n",
       "      <td>0.844</td>\n",
       "      <td>2604 BRISBANE RD, AUSTIN, TX, 78745</td>\n",
       "      <td>Austin, TX (2009)</td>\n",
       "    </tr>\n",
       "    <tr>\n",
       "      <th>13</th>\n",
       "      <td>2604 BRISBANE RD</td>\n",
       "      <td>Austin</td>\n",
       "      <td>TX</td>\n",
       "      <td>78745</td>\n",
       "      <td>2009</td>\n",
       "      <td>2604 BRISBANE RD, AUSTIN, TX, 78745</td>\n",
       "      <td>Republican</td>\n",
       "      <td>0.150</td>\n",
       "      <td>2604 BRISBANE RD, AUSTIN, TX, 78745</td>\n",
       "      <td>Austin, TX (2009)</td>\n",
       "    </tr>\n",
       "    <tr>\n",
       "      <th>14</th>\n",
       "      <td>2604 BRISBANE RD</td>\n",
       "      <td>Austin</td>\n",
       "      <td>TX</td>\n",
       "      <td>78745</td>\n",
       "      <td>2009</td>\n",
       "      <td>2604 BRISBANE RD, AUSTIN, TX, 78745</td>\n",
       "      <td>Independent</td>\n",
       "      <td>0.006</td>\n",
       "      <td>2604 BRISBANE RD, AUSTIN, TX, 78745</td>\n",
       "      <td>Austin, TX (2009)</td>\n",
       "    </tr>\n",
       "    <tr>\n",
       "      <th>15</th>\n",
       "      <td>904 WESTCOTT ST</td>\n",
       "      <td>Houston</td>\n",
       "      <td>TX</td>\n",
       "      <td>77007</td>\n",
       "      <td>2005</td>\n",
       "      <td>904 WESTCOTT ST, HOUSTON, TX, 77007</td>\n",
       "      <td>Democratic</td>\n",
       "      <td>0.693</td>\n",
       "      <td>904 WESTCOTT ST, HOUSTON, TX, 77007</td>\n",
       "      <td>Houston, TX (2005)</td>\n",
       "    </tr>\n",
       "    <tr>\n",
       "      <th>16</th>\n",
       "      <td>904 WESTCOTT ST</td>\n",
       "      <td>Houston</td>\n",
       "      <td>TX</td>\n",
       "      <td>77007</td>\n",
       "      <td>2005</td>\n",
       "      <td>904 WESTCOTT ST, HOUSTON, TX, 77007</td>\n",
       "      <td>Republican</td>\n",
       "      <td>0.306</td>\n",
       "      <td>904 WESTCOTT ST, HOUSTON, TX, 77007</td>\n",
       "      <td>Houston, TX (2005)</td>\n",
       "    </tr>\n",
       "    <tr>\n",
       "      <th>17</th>\n",
       "      <td>904 WESTCOTT ST</td>\n",
       "      <td>Houston</td>\n",
       "      <td>TX</td>\n",
       "      <td>77007</td>\n",
       "      <td>2005</td>\n",
       "      <td>904 WESTCOTT ST, HOUSTON, TX, 77007</td>\n",
       "      <td>Independent</td>\n",
       "      <td>0.001</td>\n",
       "      <td>904 WESTCOTT ST, HOUSTON, TX, 77007</td>\n",
       "      <td>Houston, TX (2005)</td>\n",
       "    </tr>\n",
       "    <tr>\n",
       "      <th>18</th>\n",
       "      <td>7927 FOREST LN</td>\n",
       "      <td>Dallas</td>\n",
       "      <td>TX</td>\n",
       "      <td>75230</td>\n",
       "      <td>2001</td>\n",
       "      <td>7927 FOREST LN, DALLAS, TX, 75230</td>\n",
       "      <td>Democratic</td>\n",
       "      <td>0.793</td>\n",
       "      <td>7927 FOREST LN, DALLAS, TX, 75230</td>\n",
       "      <td>Dallas, TX (2001)</td>\n",
       "    </tr>\n",
       "    <tr>\n",
       "      <th>19</th>\n",
       "      <td>7927 FOREST LN</td>\n",
       "      <td>Dallas</td>\n",
       "      <td>TX</td>\n",
       "      <td>75230</td>\n",
       "      <td>2001</td>\n",
       "      <td>7927 FOREST LN, DALLAS, TX, 75230</td>\n",
       "      <td>Republican</td>\n",
       "      <td>0.206</td>\n",
       "      <td>7927 FOREST LN, DALLAS, TX, 75230</td>\n",
       "      <td>Dallas, TX (2001)</td>\n",
       "    </tr>\n",
       "    <tr>\n",
       "      <th>20</th>\n",
       "      <td>7927 FOREST LN</td>\n",
       "      <td>Dallas</td>\n",
       "      <td>TX</td>\n",
       "      <td>75230</td>\n",
       "      <td>2001</td>\n",
       "      <td>7927 FOREST LN, DALLAS, TX, 75230</td>\n",
       "      <td>Independent</td>\n",
       "      <td>0.001</td>\n",
       "      <td>7927 FOREST LN, DALLAS, TX, 75230</td>\n",
       "      <td>Dallas, TX (2001)</td>\n",
       "    </tr>\n",
       "    <tr>\n",
       "      <th>21</th>\n",
       "      <td>3624 ANDREA ST</td>\n",
       "      <td>Longview</td>\n",
       "      <td>TX</td>\n",
       "      <td>75604</td>\n",
       "      <td>1989</td>\n",
       "      <td>3624 ANDREA ST, LONGVIEW, TX, 75604</td>\n",
       "      <td>Democratic</td>\n",
       "      <td>0.100</td>\n",
       "      <td>3624 ANDREA ST, LONGVIEW, TX, 75604</td>\n",
       "      <td>Longview, TX (1989)</td>\n",
       "    </tr>\n",
       "    <tr>\n",
       "      <th>22</th>\n",
       "      <td>3624 ANDREA ST</td>\n",
       "      <td>Longview</td>\n",
       "      <td>TX</td>\n",
       "      <td>75604</td>\n",
       "      <td>1989</td>\n",
       "      <td>3624 ANDREA ST, LONGVIEW, TX, 75604</td>\n",
       "      <td>Republican</td>\n",
       "      <td>0.900</td>\n",
       "      <td>3624 ANDREA ST, LONGVIEW, TX, 75604</td>\n",
       "      <td>Longview, TX (1989)</td>\n",
       "    </tr>\n",
       "    <tr>\n",
       "      <th>23</th>\n",
       "      <td>3624 ANDREA ST</td>\n",
       "      <td>Longview</td>\n",
       "      <td>TX</td>\n",
       "      <td>75604</td>\n",
       "      <td>1989</td>\n",
       "      <td>3624 ANDREA ST, LONGVIEW, TX, 75604</td>\n",
       "      <td>Independent</td>\n",
       "      <td>0.000</td>\n",
       "      <td>3624 ANDREA ST, LONGVIEW, TX, 75604</td>\n",
       "      <td>Longview, TX (1989)</td>\n",
       "    </tr>\n",
       "  </tbody>\n",
       "</table>\n",
       "</div>"
      ],
      "text/plain": [
       "                street         city state    zip moved  \\\n",
       "0    12600 BRADDOCK DR  Los Angeles    CA  90066  2020   \n",
       "1    12600 BRADDOCK DR  Los Angeles    CA  90066  2020   \n",
       "2    12600 BRADDOCK DR  Los Angeles    CA  90066  2020   \n",
       "3     12701 RUBENS AVE  Los Angeles    CA  90066  2018   \n",
       "4     12701 RUBENS AVE  Los Angeles    CA  90066  2018   \n",
       "5     12701 RUBENS AVE  Los Angeles    CA  90066  2018   \n",
       "6      3114 15TH ST NE   Washington    DC  20017  2013   \n",
       "7      3114 15TH ST NE   Washington    DC  20017  2013   \n",
       "8      3114 15TH ST NE   Washington    DC  20017  2013   \n",
       "9   1023 KEARNEY ST NE   Washington    DC  20017  2011   \n",
       "10  1023 KEARNEY ST NE   Washington    DC  20017  2011   \n",
       "11  1023 KEARNEY ST NE   Washington    DC  20017  2011   \n",
       "12    2604 BRISBANE RD       Austin    TX  78745  2009   \n",
       "13    2604 BRISBANE RD       Austin    TX  78745  2009   \n",
       "14    2604 BRISBANE RD       Austin    TX  78745  2009   \n",
       "15     904 WESTCOTT ST      Houston    TX  77007  2005   \n",
       "16     904 WESTCOTT ST      Houston    TX  77007  2005   \n",
       "17     904 WESTCOTT ST      Houston    TX  77007  2005   \n",
       "18      7927 FOREST LN       Dallas    TX  75230  2001   \n",
       "19      7927 FOREST LN       Dallas    TX  75230  2001   \n",
       "20      7927 FOREST LN       Dallas    TX  75230  2001   \n",
       "21      3624 ANDREA ST     Longview    TX  75604  1989   \n",
       "22      3624 ANDREA ST     Longview    TX  75604  1989   \n",
       "23      3624 ANDREA ST     Longview    TX  75604  1989   \n",
       "\n",
       "                                        place        party  share  \\\n",
       "0   12600 BRADDOCK DR, LOS ANGELES, CA, 90066   Democratic  0.845   \n",
       "1   12600 BRADDOCK DR, LOS ANGELES, CA, 90066   Republican  0.153   \n",
       "2   12600 BRADDOCK DR, LOS ANGELES, CA, 90066  Independent  0.002   \n",
       "3    12701 RUBENS AVE, LOS ANGELES, CA, 90066   Democratic  0.853   \n",
       "4    12701 RUBENS AVE, LOS ANGELES, CA, 90066   Republican  0.146   \n",
       "5    12701 RUBENS AVE, LOS ANGELES, CA, 90066  Independent  0.001   \n",
       "6      3114 15TH ST NE, WASHINGTON, DC, 20017   Democratic  0.957   \n",
       "7      3114 15TH ST NE, WASHINGTON, DC, 20017   Republican  0.036   \n",
       "8      3114 15TH ST NE, WASHINGTON, DC, 20017  Independent  0.007   \n",
       "9   1023 KEARNEY ST NE, WASHINGTON, DC, 20017   Democratic  0.954   \n",
       "10  1023 KEARNEY ST NE, WASHINGTON, DC, 20017   Republican  0.046   \n",
       "11  1023 KEARNEY ST NE, WASHINGTON, DC, 20017  Independent  0.000   \n",
       "12        2604 BRISBANE RD, AUSTIN, TX, 78745   Democratic  0.844   \n",
       "13        2604 BRISBANE RD, AUSTIN, TX, 78745   Republican  0.150   \n",
       "14        2604 BRISBANE RD, AUSTIN, TX, 78745  Independent  0.006   \n",
       "15        904 WESTCOTT ST, HOUSTON, TX, 77007   Democratic  0.693   \n",
       "16        904 WESTCOTT ST, HOUSTON, TX, 77007   Republican  0.306   \n",
       "17        904 WESTCOTT ST, HOUSTON, TX, 77007  Independent  0.001   \n",
       "18          7927 FOREST LN, DALLAS, TX, 75230   Democratic  0.793   \n",
       "19          7927 FOREST LN, DALLAS, TX, 75230   Republican  0.206   \n",
       "20          7927 FOREST LN, DALLAS, TX, 75230  Independent  0.001   \n",
       "21        3624 ANDREA ST, LONGVIEW, TX, 75604   Democratic  0.100   \n",
       "22        3624 ANDREA ST, LONGVIEW, TX, 75604   Republican  0.900   \n",
       "23        3624 ANDREA ST, LONGVIEW, TX, 75604  Independent  0.000   \n",
       "\n",
       "                                      address                   label  \n",
       "0   12600 BRADDOCK DR, LOS ANGELES, CA, 90066  Los Angeles, CA (2020)  \n",
       "1   12600 BRADDOCK DR, LOS ANGELES, CA, 90066  Los Angeles, CA (2020)  \n",
       "2   12600 BRADDOCK DR, LOS ANGELES, CA, 90066  Los Angeles, CA (2020)  \n",
       "3    12701 RUBENS AVE, LOS ANGELES, CA, 90066  Los Angeles, CA (2018)  \n",
       "4    12701 RUBENS AVE, LOS ANGELES, CA, 90066  Los Angeles, CA (2018)  \n",
       "5    12701 RUBENS AVE, LOS ANGELES, CA, 90066  Los Angeles, CA (2018)  \n",
       "6      3114 15TH ST NE, WASHINGTON, DC, 20017   Washington, DC (2013)  \n",
       "7      3114 15TH ST NE, WASHINGTON, DC, 20017   Washington, DC (2013)  \n",
       "8      3114 15TH ST NE, WASHINGTON, DC, 20017   Washington, DC (2013)  \n",
       "9   1023 KEARNEY ST NE, WASHINGTON, DC, 20017   Washington, DC (2011)  \n",
       "10  1023 KEARNEY ST NE, WASHINGTON, DC, 20017   Washington, DC (2011)  \n",
       "11  1023 KEARNEY ST NE, WASHINGTON, DC, 20017   Washington, DC (2011)  \n",
       "12        2604 BRISBANE RD, AUSTIN, TX, 78745       Austin, TX (2009)  \n",
       "13        2604 BRISBANE RD, AUSTIN, TX, 78745       Austin, TX (2009)  \n",
       "14        2604 BRISBANE RD, AUSTIN, TX, 78745       Austin, TX (2009)  \n",
       "15        904 WESTCOTT ST, HOUSTON, TX, 77007      Houston, TX (2005)  \n",
       "16        904 WESTCOTT ST, HOUSTON, TX, 77007      Houston, TX (2005)  \n",
       "17        904 WESTCOTT ST, HOUSTON, TX, 77007      Houston, TX (2005)  \n",
       "18          7927 FOREST LN, DALLAS, TX, 75230       Dallas, TX (2001)  \n",
       "19          7927 FOREST LN, DALLAS, TX, 75230       Dallas, TX (2001)  \n",
       "20          7927 FOREST LN, DALLAS, TX, 75230       Dallas, TX (2001)  \n",
       "21        3624 ANDREA ST, LONGVIEW, TX, 75604     Longview, TX (1989)  \n",
       "22        3624 ANDREA ST, LONGVIEW, TX, 75604     Longview, TX (1989)  \n",
       "23        3624 ANDREA ST, LONGVIEW, TX, 75604     Longview, TX (1989)  "
      ]
     },
     "execution_count": 32,
     "metadata": {},
     "output_type": "execute_result"
    }
   ],
   "source": [
    "chart_df"
   ]
  },
  {
   "cell_type": "markdown",
   "metadata": {},
   "source": [
    "### Chart it!"
   ]
  },
  {
   "cell_type": "code",
   "execution_count": 225,
   "metadata": {},
   "outputs": [
    {
     "data": {
      "text/html": [
       "\n",
       "<div id=\"altair-viz-7f8fa9da4cca411fb407b1e4737f36c5\"></div>\n",
       "<script type=\"text/javascript\">\n",
       "  (function(spec, embedOpt){\n",
       "    const outputDiv = document.getElementById(\"altair-viz-7f8fa9da4cca411fb407b1e4737f36c5\");\n",
       "    const paths = {\n",
       "      \"vega\": \"https://cdn.jsdelivr.net/npm//vega@5?noext\",\n",
       "      \"vega-lib\": \"https://cdn.jsdelivr.net/npm//vega-lib?noext\",\n",
       "      \"vega-lite\": \"https://cdn.jsdelivr.net/npm//vega-lite@4.0.2?noext\",\n",
       "      \"vega-embed\": \"https://cdn.jsdelivr.net/npm//vega-embed@6?noext\",\n",
       "    };\n",
       "\n",
       "    function loadScript(lib) {\n",
       "      return new Promise(function(resolve, reject) {\n",
       "        var s = document.createElement('script');\n",
       "        s.src = paths[lib];\n",
       "        s.async = true;\n",
       "        s.onload = () => resolve(paths[lib]);\n",
       "        s.onerror = () => reject(`Error loading script: ${paths[lib]}`);\n",
       "        document.getElementsByTagName(\"head\")[0].appendChild(s);\n",
       "      });\n",
       "    }\n",
       "\n",
       "    function showError(err) {\n",
       "      outputDiv.innerHTML = `<div class=\"error\" style=\"color:red;\">${err}</div>`;\n",
       "      throw err;\n",
       "    }\n",
       "\n",
       "    function displayChart(vegaEmbed) {\n",
       "      vegaEmbed(outputDiv, spec, embedOpt)\n",
       "        .catch(err => showError(`Javascript Error: ${err.message}<br>This usually means there's a typo in your chart specification. See the javascript console for the full traceback.`));\n",
       "    }\n",
       "\n",
       "    if(typeof define === \"function\" && define.amd) {\n",
       "      requirejs.config({paths});\n",
       "      require([\"vega-embed\"], displayChart, err => showError(`Error loading script: ${err.message}`));\n",
       "    } else if (typeof vegaEmbed === \"function\") {\n",
       "      displayChart(vegaEmbed);\n",
       "    } else {\n",
       "      loadScript(\"vega\")\n",
       "        .then(() => loadScript(\"vega-lite\"))\n",
       "        .then(() => loadScript(\"vega-embed\"))\n",
       "        .catch(showError)\n",
       "        .then(() => displayChart(vegaEmbed));\n",
       "    }\n",
       "  })({\"config\": {\"view\": {\"width\": 800, \"height\": 450, \"strokeOpacity\": 0}, \"background\": \"#ffffff\", \"title\": {\"anchor\": \"start\", \"font\": \"Benton Gothic Bold, sans\", \"fontColor\": \"#000000\", \"fontSize\": 22, \"fontWeight\": \"normal\"}, \"arc\": {\"fill\": \"#82c6df\"}, \"area\": {\"fill\": \"#82c6df\"}, \"line\": {\"stroke\": \"#82c6df\", \"strokeWidth\": 3}, \"path\": {\"stroke\": \"#82c6df\"}, \"rect\": {\"fill\": \"#82c6df\"}, \"shape\": {\"stroke\": \"#82c6df\"}, \"bar\": {\"fill\": \"#82c6df\"}, \"point\": {\"stroke\": \"#82c6df\"}, \"symbol\": {\"fill\": \"#82c6df\", \"size\": 30}, \"axis\": {\"titleFont\": \"Benton Gothic Bold, sans\", \"titleFontSize\": 13, \"titleFontWeight\": \"normal\", \"labelFont\": \"Benton Gothic, sans\", \"labelFontSize\": 12, \"labelFontWeight\": \"normal\"}, \"axisX\": {\"labelAngle\": 0, \"labelPadding\": 4, \"tickSize\": 3}, \"axisY\": {\"labelBaseline\": \"middle\", \"maxExtent\": 45, \"minExtent\": 45, \"tickSize\": 2, \"titleAlign\": \"left\", \"titleAngle\": 0, \"titleX\": -45, \"titleY\": -11}, \"legend\": {\"titleFont\": \"Benton Gothic Bold, sans\", \"titleFontSize\": 13, \"titleFontWeight\": \"normal\", \"symbolType\": \"square\", \"labelFont\": \"Benton Gothic, sans\", \"labelFontSize\": 11.5, \"orient\": \"top\"}, \"range\": {\"category\": [\"#3580b1\", \"#ec8431\", \"#ab7fb4\", \"#c89d29\", \"#adc839\", \"#829eb1\"], \"diverging\": [\"#e68a4f\", \"#f4bb6a\", \"#f9e39c\", \"#dadfe2\", \"#a6b7c6\", \"#849eae\"], \"heatmap\": [\"#fbf2c7\", \"#f9e39c\", \"#f8d36e\", \"#f4bb6a\", \"#e68a4f\", \"#d15a40\", \"#ab4232\"], \"ordinal\": [\"#fbf2c7\", \"#f9e39c\", \"#f8d36e\", \"#f4bb6a\", \"#e68a4f\", \"#d15a40\", \"#ab4232\"], \"ramp\": [\"#fbf2c7\", \"#f9e39c\", \"#f8d36e\", \"#f4bb6a\", \"#e68a4f\", \"#d15a40\", \"#ab4232\"]}}, \"data\": {\"name\": \"data-c05d155155a6efa64e378e624773f576\"}, \"mark\": {\"type\": \"bar\", \"opacity\": 0.7}, \"encoding\": {\"color\": {\"type\": \"nominal\", \"field\": \"party\", \"scale\": {\"domain\": [\"Democratic\", \"Republican\", \"Independent\"], \"range\": [\"#5789b8\", \"#d94f54\", \"#af8dc3\"]}, \"title\": \" \"}, \"x\": {\"type\": \"quantitative\", \"axis\": {\"domainOpacity\": 0, \"format\": \"%\", \"gridColor\": \"#dddddd\", \"gridWidth\": 0.6, \"offset\": 4, \"tickCount\": 6, \"tickSize\": 0}, \"field\": \"share\", \"stack\": \"normalize\", \"title\": \"Party %\"}, \"y\": {\"type\": \"nominal\", \"axis\": {\"domainOpacity\": 0, \"gridColor\": \"#dddddd\", \"gridWidth\": 0.6, \"offset\": 4, \"tickCount\": 2, \"tickSize\": 0}, \"field\": \"label\", \"sort\": {\"field\": \"moved\"}, \"title\": \" \"}}, \"height\": 330, \"title\": \"Current party preferences in places I've lived\", \"width\": 600, \"$schema\": \"https://vega.github.io/schema/vega-lite/v4.0.2.json\", \"datasets\": {\"data-c05d155155a6efa64e378e624773f576\": [{\"street\": \"12600 BRADDOCK DR\", \"city\": \"Los Angeles\", \"state\": \"CA\", \"zip\": \"90066\", \"moved\": \"2020\", \"place\": \"12600 BRADDOCK DR, LOS ANGELES, CA, 90066\", \"party\": \"Democratic\", \"share\": 0.845, \"address\": \"12600 BRADDOCK DR, LOS ANGELES, CA, 90066\", \"label\": \"Los Angeles, CA (2020)\"}, {\"street\": \"12600 BRADDOCK DR\", \"city\": \"Los Angeles\", \"state\": \"CA\", \"zip\": \"90066\", \"moved\": \"2020\", \"place\": \"12600 BRADDOCK DR, LOS ANGELES, CA, 90066\", \"party\": \"Republican\", \"share\": 0.153, \"address\": \"12600 BRADDOCK DR, LOS ANGELES, CA, 90066\", \"label\": \"Los Angeles, CA (2020)\"}, {\"street\": \"12600 BRADDOCK DR\", \"city\": \"Los Angeles\", \"state\": \"CA\", \"zip\": \"90066\", \"moved\": \"2020\", \"place\": \"12600 BRADDOCK DR, LOS ANGELES, CA, 90066\", \"party\": \"Independent\", \"share\": 0.002, \"address\": \"12600 BRADDOCK DR, LOS ANGELES, CA, 90066\", \"label\": \"Los Angeles, CA (2020)\"}, {\"street\": \"12701 RUBENS AVE\", \"city\": \"Los Angeles\", \"state\": \"CA\", \"zip\": \"90066\", \"moved\": \"2018\", \"place\": \"12701 RUBENS AVE, LOS ANGELES, CA, 90066\", \"party\": \"Democratic\", \"share\": 0.853, \"address\": \"12701 RUBENS AVE, LOS ANGELES, CA, 90066\", \"label\": \"Los Angeles, CA (2018)\"}, {\"street\": \"12701 RUBENS AVE\", \"city\": \"Los Angeles\", \"state\": \"CA\", \"zip\": \"90066\", \"moved\": \"2018\", \"place\": \"12701 RUBENS AVE, LOS ANGELES, CA, 90066\", \"party\": \"Republican\", \"share\": 0.146, \"address\": \"12701 RUBENS AVE, LOS ANGELES, CA, 90066\", \"label\": \"Los Angeles, CA (2018)\"}, {\"street\": \"12701 RUBENS AVE\", \"city\": \"Los Angeles\", \"state\": \"CA\", \"zip\": \"90066\", \"moved\": \"2018\", \"place\": \"12701 RUBENS AVE, LOS ANGELES, CA, 90066\", \"party\": \"Independent\", \"share\": 0.001, \"address\": \"12701 RUBENS AVE, LOS ANGELES, CA, 90066\", \"label\": \"Los Angeles, CA (2018)\"}, {\"street\": \"3114 15TH ST NE\", \"city\": \"Washington\", \"state\": \"DC\", \"zip\": \"20017\", \"moved\": \"2013\", \"place\": \"3114 15TH ST NE, WASHINGTON, DC, 20017\", \"party\": \"Democratic\", \"share\": 0.957, \"address\": \"3114 15TH ST NE, WASHINGTON, DC, 20017\", \"label\": \"Washington, DC (2013)\"}, {\"street\": \"3114 15TH ST NE\", \"city\": \"Washington\", \"state\": \"DC\", \"zip\": \"20017\", \"moved\": \"2013\", \"place\": \"3114 15TH ST NE, WASHINGTON, DC, 20017\", \"party\": \"Republican\", \"share\": 0.036, \"address\": \"3114 15TH ST NE, WASHINGTON, DC, 20017\", \"label\": \"Washington, DC (2013)\"}, {\"street\": \"3114 15TH ST NE\", \"city\": \"Washington\", \"state\": \"DC\", \"zip\": \"20017\", \"moved\": \"2013\", \"place\": \"3114 15TH ST NE, WASHINGTON, DC, 20017\", \"party\": \"Independent\", \"share\": 0.007, \"address\": \"3114 15TH ST NE, WASHINGTON, DC, 20017\", \"label\": \"Washington, DC (2013)\"}, {\"street\": \"1023 KEARNEY ST NE\", \"city\": \"Washington\", \"state\": \"DC\", \"zip\": \"20017\", \"moved\": \"2011\", \"place\": \"1023 KEARNEY ST NE, WASHINGTON, DC, 20017\", \"party\": \"Democratic\", \"share\": 0.954, \"address\": \"1023 KEARNEY ST NE, WASHINGTON, DC, 20017\", \"label\": \"Washington, DC (2011)\"}, {\"street\": \"1023 KEARNEY ST NE\", \"city\": \"Washington\", \"state\": \"DC\", \"zip\": \"20017\", \"moved\": \"2011\", \"place\": \"1023 KEARNEY ST NE, WASHINGTON, DC, 20017\", \"party\": \"Republican\", \"share\": 0.046, \"address\": \"1023 KEARNEY ST NE, WASHINGTON, DC, 20017\", \"label\": \"Washington, DC (2011)\"}, {\"street\": \"1023 KEARNEY ST NE\", \"city\": \"Washington\", \"state\": \"DC\", \"zip\": \"20017\", \"moved\": \"2011\", \"place\": \"1023 KEARNEY ST NE, WASHINGTON, DC, 20017\", \"party\": \"Independent\", \"share\": 0.0, \"address\": \"1023 KEARNEY ST NE, WASHINGTON, DC, 20017\", \"label\": \"Washington, DC (2011)\"}, {\"street\": \"2604 BRISBANE RD\", \"city\": \"Austin\", \"state\": \"TX\", \"zip\": \"78745\", \"moved\": \"2009\", \"place\": \"2604 BRISBANE RD, AUSTIN, TX, 78745\", \"party\": \"Democratic\", \"share\": 0.844, \"address\": \"2604 BRISBANE RD, AUSTIN, TX, 78745\", \"label\": \"Austin, TX (2009)\"}, {\"street\": \"2604 BRISBANE RD\", \"city\": \"Austin\", \"state\": \"TX\", \"zip\": \"78745\", \"moved\": \"2009\", \"place\": \"2604 BRISBANE RD, AUSTIN, TX, 78745\", \"party\": \"Republican\", \"share\": 0.15, \"address\": \"2604 BRISBANE RD, AUSTIN, TX, 78745\", \"label\": \"Austin, TX (2009)\"}, {\"street\": \"2604 BRISBANE RD\", \"city\": \"Austin\", \"state\": \"TX\", \"zip\": \"78745\", \"moved\": \"2009\", \"place\": \"2604 BRISBANE RD, AUSTIN, TX, 78745\", \"party\": \"Independent\", \"share\": 0.006, \"address\": \"2604 BRISBANE RD, AUSTIN, TX, 78745\", \"label\": \"Austin, TX (2009)\"}, {\"street\": \"904 WESTCOTT ST\", \"city\": \"Houston\", \"state\": \"TX\", \"zip\": \"77007\", \"moved\": \"2005\", \"place\": \"904 WESTCOTT ST, HOUSTON, TX, 77007\", \"party\": \"Democratic\", \"share\": 0.693, \"address\": \"904 WESTCOTT ST, HOUSTON, TX, 77007\", \"label\": \"Houston, TX (2005)\"}, {\"street\": \"904 WESTCOTT ST\", \"city\": \"Houston\", \"state\": \"TX\", \"zip\": \"77007\", \"moved\": \"2005\", \"place\": \"904 WESTCOTT ST, HOUSTON, TX, 77007\", \"party\": \"Republican\", \"share\": 0.306, \"address\": \"904 WESTCOTT ST, HOUSTON, TX, 77007\", \"label\": \"Houston, TX (2005)\"}, {\"street\": \"904 WESTCOTT ST\", \"city\": \"Houston\", \"state\": \"TX\", \"zip\": \"77007\", \"moved\": \"2005\", \"place\": \"904 WESTCOTT ST, HOUSTON, TX, 77007\", \"party\": \"Independent\", \"share\": 0.001, \"address\": \"904 WESTCOTT ST, HOUSTON, TX, 77007\", \"label\": \"Houston, TX (2005)\"}, {\"street\": \"7927 FOREST LN\", \"city\": \"Dallas\", \"state\": \"TX\", \"zip\": \"75230\", \"moved\": \"2001\", \"place\": \"7927 FOREST LN, DALLAS, TX, 75230\", \"party\": \"Democratic\", \"share\": 0.793, \"address\": \"7927 FOREST LN, DALLAS, TX, 75230\", \"label\": \"Dallas, TX (2001)\"}, {\"street\": \"7927 FOREST LN\", \"city\": \"Dallas\", \"state\": \"TX\", \"zip\": \"75230\", \"moved\": \"2001\", \"place\": \"7927 FOREST LN, DALLAS, TX, 75230\", \"party\": \"Republican\", \"share\": 0.206, \"address\": \"7927 FOREST LN, DALLAS, TX, 75230\", \"label\": \"Dallas, TX (2001)\"}, {\"street\": \"7927 FOREST LN\", \"city\": \"Dallas\", \"state\": \"TX\", \"zip\": \"75230\", \"moved\": \"2001\", \"place\": \"7927 FOREST LN, DALLAS, TX, 75230\", \"party\": \"Independent\", \"share\": 0.001, \"address\": \"7927 FOREST LN, DALLAS, TX, 75230\", \"label\": \"Dallas, TX (2001)\"}, {\"street\": \"3624 ANDREA ST\", \"city\": \"Longview\", \"state\": \"TX\", \"zip\": \"75604\", \"moved\": \"1989\", \"place\": \"3624 ANDREA ST, LONGVIEW, TX, 75604\", \"party\": \"Democratic\", \"share\": 0.1, \"address\": \"3624 ANDREA ST, LONGVIEW, TX, 75604\", \"label\": \"Longview, TX (1989)\"}, {\"street\": \"3624 ANDREA ST\", \"city\": \"Longview\", \"state\": \"TX\", \"zip\": \"75604\", \"moved\": \"1989\", \"place\": \"3624 ANDREA ST, LONGVIEW, TX, 75604\", \"party\": \"Republican\", \"share\": 0.9, \"address\": \"3624 ANDREA ST, LONGVIEW, TX, 75604\", \"label\": \"Longview, TX (1989)\"}, {\"street\": \"3624 ANDREA ST\", \"city\": \"Longview\", \"state\": \"TX\", \"zip\": \"75604\", \"moved\": \"1989\", \"place\": \"3624 ANDREA ST, LONGVIEW, TX, 75604\", \"party\": \"Independent\", \"share\": 0.0, \"address\": \"3624 ANDREA ST, LONGVIEW, TX, 75604\", \"label\": \"Longview, TX (1989)\"}]}}, {\"mode\": \"vega-lite\"});\n",
       "</script>"
      ],
      "text/plain": [
       "alt.Chart(...)"
      ]
     },
     "execution_count": 225,
     "metadata": {},
     "output_type": "execute_result"
    }
   ],
   "source": [
    "chart = (\n",
    "    alt.Chart(chart_df)\n",
    "    .mark_bar(opacity=0.7)\n",
    "    .encode(\n",
    "        x=alt.X(\n",
    "            \"share\",\n",
    "            stack=\"normalize\",\n",
    "            axis=alt.Axis(\n",
    "                format=\"%\",\n",
    "                tickCount=6,\n",
    "                tickSize=0,\n",
    "                domainOpacity=0,\n",
    "                offset=4,\n",
    "                gridWidth=0.6,\n",
    "                gridColor=\"#dddddd\",\n",
    "            ),\n",
    "            title=\"Party %\",\n",
    "        ),\n",
    "        y=alt.Y(\n",
    "            \"label\",\n",
    "            title=\" \",\n",
    "            sort=alt.SortField(\"moved\"),\n",
    "            axis=alt.Axis(\n",
    "                tickSize=0,\n",
    "                domainOpacity=0,\n",
    "                tickCount=2,\n",
    "                offset=4,\n",
    "                gridWidth=0.6,\n",
    "                gridColor=\"#dddddd\",\n",
    "            ),\n",
    "        ),\n",
    "        color=alt.Color(\n",
    "            \"party\",\n",
    "            title=\" \",\n",
    "            scale=alt.Scale(\n",
    "                domain=[\"Democratic\", \"Republican\", \"Independent\"],\n",
    "                range=[\"#5789b8\", \"#d94f54\", \"#af8dc3\"],\n",
    "            ),\n",
    "        ),\n",
    "    )\n",
    "    .properties(\n",
    "        width=600, height=330, title=\"Current party preferences in places I've lived\"\n",
    "    )\n",
    "    .configure_view(strokeOpacity=0)\n",
    "    .configure_axis(labelFontSize=12)\n",
    "    .configure_legend(orient=\"top\", symbolType=\"square\")\n",
    ")\n",
    "chart"
   ]
  },
  {
   "cell_type": "code",
   "execution_count": 220,
   "metadata": {},
   "outputs": [],
   "source": [
    "chart_df_grp = (\n",
    "    chart_df[chart_df[\"label\"] == \"Longview, TX (1989)\"]\n",
    "    .groupby([\"label\", \"party\"])\n",
    "    .agg({\"share\": \"mean\"})\n",
    "    .reset_index()\n",
    ")\n",
    "chart_df_grp[\"share_1000\"] = chart_df_grp[\"share\"] * 1000"
   ]
  },
  {
   "cell_type": "code",
   "execution_count": 221,
   "metadata": {},
   "outputs": [
    {
     "data": {
      "text/plain": [
       "array(['Longview, TX (1989)'], dtype=object)"
      ]
     },
     "execution_count": 221,
     "metadata": {},
     "output_type": "execute_result"
    }
   ],
   "source": [
    "chart_df_grp[\"label\"].unique()"
   ]
  },
  {
   "cell_type": "code",
   "execution_count": 223,
   "metadata": {},
   "outputs": [
    {
     "data": {
      "image/png": "[encoded data removed]",
      "text/plain": [
       "<Waffle size 1440x360 with 1 Axes>"
      ]
     },
     "metadata": {
      "needs_background": "light"
     },
     "output_type": "display_data"
    }
   ],
   "source": [
    "for l in chart_df_grp[chart_df_grp[\"label\"] == \"Longview, TX (1989)\"][\"label\"].unique():\n",
    "    fig = plt.figure(\n",
    "        FigureClass=Waffle,\n",
    "        rows=10,\n",
    "        values=list(chart_df_grp[\"share_1000\"]),\n",
    "        labels=list(chart_df_grp[\"party\"]),\n",
    "        colors=[\"#5789b8\", \"#e1e1e1\", \"#d94f54\"],\n",
    "        font_size=10,\n",
    "        figsize=(20, 5),\n",
    "        icons=\"square\",\n",
    "        legend={\n",
    "            \"labels\": [\"Democratic\", \"Independent\", \"Republican\"],\n",
    "            \"loc\": \"lower left\",\n",
    "            \"bbox_to_anchor\": (0, -0.4),\n",
    "            \"ncol\": len(chart_df_grp),\n",
    "            \"framealpha\": 0,\n",
    "            \"fontsize\": 0,\n",
    "        },\n",
    "        title={\n",
    "            \"label\": l,\n",
    "            \"loc\": \"left\",\n",
    "            \"fontdict\": {\"fontsize\": 15},\n",
    "        },\n",
    "        starting_location=\"NW\",\n",
    "    )"
   ]
  },
  {
   "cell_type": "markdown",
   "metadata": {},
   "source": [
    "---"
   ]
  },
  {
   "cell_type": "markdown",
   "metadata": {},
   "source": [
    "### Exports"
   ]
  },
  {
   "cell_type": "code",
   "execution_count": 35,
   "metadata": {},
   "outputs": [],
   "source": [
    "chart.save(\"party_share_stacked_bar.png\", scale_factor=1)"
   ]
  },
  {
   "cell_type": "code",
   "execution_count": 36,
   "metadata": {},
   "outputs": [],
   "source": [
    "chart_df.to_csv(\"output/bubbles.csv\", index=False)"
   ]
  }
 ],
 "metadata": {
  "kernelspec": {
   "display_name": "Python 3",
   "language": "python",
   "name": "python3"
  },
  "language_info": {
   "codemirror_mode": {
    "name": "ipython",
    "version": 3
   },
   "file_extension": ".py",
   "mimetype": "text/x-python",
   "name": "python",
   "nbconvert_exporter": "python",
   "pygments_lexer": "ipython3",
   "version": "3.7.4"
  }
 },
 "nbformat": 4,
 "nbformat_minor": 4
}
