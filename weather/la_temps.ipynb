{
 "cells": [
  {
   "cell_type": "markdown",
   "id": "bcc76354-e44d-4d66-b1cd-674ece93b7f6",
   "metadata": {},
   "source": [
    "# LAX min/max temperatures: 1965-2021"
   ]
  },
  {
   "cell_type": "markdown",
   "id": "339f15c6-5946-430c-89ad-59abe3bfe500",
   "metadata": {},
   "source": [
    "### Import Python tools and Jupyter configuration"
   ]
  },
  {
   "cell_type": "code",
   "execution_count": 1,
   "id": "29235202-ac8a-4798-9f61-46f92581db47",
   "metadata": {},
   "outputs": [],
   "source": [
    "%load_ext lab_black"
   ]
  },
  {
   "cell_type": "code",
   "execution_count": 2,
   "id": "c07d07e4-f20e-4762-9788-60d442337142",
   "metadata": {},
   "outputs": [],
   "source": [
    "import pandas as pd\n",
    "import requests\n",
    "from bs4 import BeautifulSoup\n",
    "import re\n",
    "import datetime as dt"
   ]
  },
  {
   "cell_type": "code",
   "execution_count": 3,
   "id": "8edd1959-f997-4f5c-8f5d-fcc067fcf268",
   "metadata": {},
   "outputs": [],
   "source": [
    "import altair as alt\n",
    "import altair_latimes as lat\n",
    "import numpy as np"
   ]
  },
  {
   "cell_type": "code",
   "execution_count": 4,
   "id": "9d2aa149-7132-4ac1-97b2-6060a9dbf6cc",
   "metadata": {},
   "outputs": [
    {
     "data": {
      "text/plain": [
       "ThemeRegistry.enable('latimes')"
      ]
     },
     "execution_count": 4,
     "metadata": {},
     "output_type": "execute_result"
    }
   ],
   "source": [
    "alt.themes.register(\"latimes\", lat.theme)\n",
    "alt.themes.enable(\"latimes\")"
   ]
  },
  {
   "cell_type": "code",
   "execution_count": 5,
   "id": "d2d80af7-551d-4a86-bbea-a1529ff87729",
   "metadata": {},
   "outputs": [],
   "source": [
    "pd.options.display.max_columns = 1000\n",
    "pd.options.display.max_rows = 1000\n",
    "alt.data_transformers.disable_max_rows()\n",
    "pd.options.display.max_colwidth = None"
   ]
  },
  {
   "cell_type": "markdown",
   "id": "416fd20f-a7ef-4c03-aaf7-d81f519b3e72",
   "metadata": {},
   "source": [
    "### Read data from NOAA"
   ]
  },
  {
   "cell_type": "code",
   "execution_count": 11,
   "id": "6020a370-296f-4b5a-9bb6-f7312924b7e8",
   "metadata": {},
   "outputs": [],
   "source": [
    "# https://docs.opendata.aws/noaa-ghcn-pds/readme.html"
   ]
  },
  {
   "cell_type": "code",
   "execution_count": 11,
   "id": "cc33771e-ca91-4b26-b4e7-4be749d1e773",
   "metadata": {},
   "outputs": [],
   "source": [
    "# Download: https://www.ncei.noaa.gov/orders/cdo/2597175.csv\n",
    "# https://www.ncdc.noaa.gov/cdo-web/orders?email=mattstiles@gmail.com&id=2597175"
   ]
  },
  {
   "cell_type": "code",
   "execution_count": 20,
   "id": "c7aba19a-3cbf-49e7-9ad9-15d7555c0e01",
   "metadata": {},
   "outputs": [],
   "source": [
    "src = pd.read_csv(\n",
    "    \"data/raw/downtown_la_sun_clouds_temp_1950-2021.csv\", parse_dates=[\"DATE\"]\n",
    ")"
   ]
  },
  {
   "cell_type": "code",
   "execution_count": 21,
   "id": "9f931578-c3dd-40b7-8836-b1488ea19793",
   "metadata": {},
   "outputs": [],
   "source": [
    "src.columns = src.columns.str.lower()"
   ]
  },
  {
   "cell_type": "markdown",
   "id": "64981399-034a-4cd8-b45f-849080b53885",
   "metadata": {},
   "source": [
    "### Dates"
   ]
  },
  {
   "cell_type": "code",
   "execution_count": 22,
   "id": "ab0b2a72-3ba3-4420-b3f2-376850955cdd",
   "metadata": {},
   "outputs": [],
   "source": [
    "src[\"date\"] = pd.to_datetime(src[\"date\"], format=\"%m/%d/%Y\")\n",
    "src[\"date\"] = pd.to_datetime(src[\"date\"].dt.strftime(\"%Y-%m-%d\"))\n",
    "src[\"year\"] = src[\"date\"].dt.year\n",
    "src[\"quarter\"] = src[\"date\"].dt.quarter\n",
    "src[\"day\"] = src[\"date\"].dt.day\n",
    "src[\"month\"] = src[\"date\"].dt.month\n",
    "src[\"weekday\"] = src[\"date\"].dt.day_name()\n",
    "src[\"monthname\"] = src[\"date\"].dt.month_name()\n",
    "src[\"month_year\"] = pd.to_datetime(src[\"date\"]).dt.to_period(\"M\")\n",
    "src[\"month_year_full\"] = src[\"date\"].apply(lambda x: x.strftime(\"%B-%Y\"))\n",
    "src[\"month_year_full\"] = pd.to_datetime(src[\"month_year_full\"])"
   ]
  },
  {
   "cell_type": "code",
   "execution_count": 27,
   "id": "285df815-74b7-40c8-a7f5-4ef6fb89036d",
   "metadata": {},
   "outputs": [],
   "source": [
    "src.drop([\"acsh\", \"psun\", \"tavg\", \"tsun\"], axis=1, inplace=True)"
   ]
  },
  {
   "cell_type": "code",
   "execution_count": 33,
   "id": "1dd49ebd-4293-4ae3-9691-a450e9a98b58",
   "metadata": {},
   "outputs": [
    {
     "data": {
      "text/html": [
       "<div>\n",
       "<style scoped>\n",
       "    .dataframe tbody tr th:only-of-type {\n",
       "        vertical-align: middle;\n",
       "    }\n",
       "\n",
       "    .dataframe tbody tr th {\n",
       "        vertical-align: top;\n",
       "    }\n",
       "\n",
       "    .dataframe thead th {\n",
       "        text-align: right;\n",
       "    }\n",
       "</style>\n",
       "<table border=\"1\" class=\"dataframe\">\n",
       "  <thead>\n",
       "    <tr style=\"text-align: right;\">\n",
       "      <th></th>\n",
       "      <th>station</th>\n",
       "      <th>name</th>\n",
       "      <th>date</th>\n",
       "      <th>tmax</th>\n",
       "      <th>tmin</th>\n",
       "      <th>year</th>\n",
       "      <th>quarter</th>\n",
       "      <th>day</th>\n",
       "      <th>month</th>\n",
       "      <th>weekday</th>\n",
       "      <th>monthname</th>\n",
       "      <th>month_year</th>\n",
       "      <th>month_year_full</th>\n",
       "    </tr>\n",
       "  </thead>\n",
       "  <tbody>\n",
       "    <tr>\n",
       "      <th>0</th>\n",
       "      <td>USW00093134</td>\n",
       "      <td>LOS ANGELES DOWNTOWN USC, CA US</td>\n",
       "      <td>1964-01-01</td>\n",
       "      <td>80</td>\n",
       "      <td>54</td>\n",
       "      <td>1964</td>\n",
       "      <td>1</td>\n",
       "      <td>1</td>\n",
       "      <td>1</td>\n",
       "      <td>Wednesday</td>\n",
       "      <td>January</td>\n",
       "      <td>1964-01</td>\n",
       "      <td>1964-01-01</td>\n",
       "    </tr>\n",
       "    <tr>\n",
       "      <th>1</th>\n",
       "      <td>USW00093134</td>\n",
       "      <td>LOS ANGELES DOWNTOWN USC, CA US</td>\n",
       "      <td>1964-01-02</td>\n",
       "      <td>72</td>\n",
       "      <td>52</td>\n",
       "      <td>1964</td>\n",
       "      <td>1</td>\n",
       "      <td>2</td>\n",
       "      <td>1</td>\n",
       "      <td>Thursday</td>\n",
       "      <td>January</td>\n",
       "      <td>1964-01</td>\n",
       "      <td>1964-01-01</td>\n",
       "    </tr>\n",
       "    <tr>\n",
       "      <th>2</th>\n",
       "      <td>USW00093134</td>\n",
       "      <td>LOS ANGELES DOWNTOWN USC, CA US</td>\n",
       "      <td>1964-01-03</td>\n",
       "      <td>73</td>\n",
       "      <td>50</td>\n",
       "      <td>1964</td>\n",
       "      <td>1</td>\n",
       "      <td>3</td>\n",
       "      <td>1</td>\n",
       "      <td>Friday</td>\n",
       "      <td>January</td>\n",
       "      <td>1964-01</td>\n",
       "      <td>1964-01-01</td>\n",
       "    </tr>\n",
       "    <tr>\n",
       "      <th>3</th>\n",
       "      <td>USW00093134</td>\n",
       "      <td>LOS ANGELES DOWNTOWN USC, CA US</td>\n",
       "      <td>1964-01-04</td>\n",
       "      <td>72</td>\n",
       "      <td>51</td>\n",
       "      <td>1964</td>\n",
       "      <td>1</td>\n",
       "      <td>4</td>\n",
       "      <td>1</td>\n",
       "      <td>Saturday</td>\n",
       "      <td>January</td>\n",
       "      <td>1964-01</td>\n",
       "      <td>1964-01-01</td>\n",
       "    </tr>\n",
       "    <tr>\n",
       "      <th>4</th>\n",
       "      <td>USW00093134</td>\n",
       "      <td>LOS ANGELES DOWNTOWN USC, CA US</td>\n",
       "      <td>1964-01-05</td>\n",
       "      <td>70</td>\n",
       "      <td>51</td>\n",
       "      <td>1964</td>\n",
       "      <td>1</td>\n",
       "      <td>5</td>\n",
       "      <td>1</td>\n",
       "      <td>Sunday</td>\n",
       "      <td>January</td>\n",
       "      <td>1964-01</td>\n",
       "      <td>1964-01-01</td>\n",
       "    </tr>\n",
       "  </tbody>\n",
       "</table>\n",
       "</div>"
      ],
      "text/plain": [
       "       station                             name       date  tmax  tmin  year  \\\n",
       "0  USW00093134  LOS ANGELES DOWNTOWN USC, CA US 1964-01-01    80    54  1964   \n",
       "1  USW00093134  LOS ANGELES DOWNTOWN USC, CA US 1964-01-02    72    52  1964   \n",
       "2  USW00093134  LOS ANGELES DOWNTOWN USC, CA US 1964-01-03    73    50  1964   \n",
       "3  USW00093134  LOS ANGELES DOWNTOWN USC, CA US 1964-01-04    72    51  1964   \n",
       "4  USW00093134  LOS ANGELES DOWNTOWN USC, CA US 1964-01-05    70    51  1964   \n",
       "\n",
       "   quarter  day  month    weekday monthname month_year month_year_full  \n",
       "0        1    1      1  Wednesday   January    1964-01      1964-01-01  \n",
       "1        1    2      1   Thursday   January    1964-01      1964-01-01  \n",
       "2        1    3      1     Friday   January    1964-01      1964-01-01  \n",
       "3        1    4      1   Saturday   January    1964-01      1964-01-01  \n",
       "4        1    5      1     Sunday   January    1964-01      1964-01-01  "
      ]
     },
     "execution_count": 33,
     "metadata": {},
     "output_type": "execute_result"
    }
   ],
   "source": [
    "src.head()"
   ]
  },
  {
   "cell_type": "code",
   "execution_count": null,
   "id": "0e2c7365-0988-45ec-8c94-a56d02086b6b",
   "metadata": {},
   "outputs": [],
   "source": []
  }
 ],
 "metadata": {
  "kernelspec": {
   "display_name": "Python 3",
   "language": "python",
   "name": "python3"
  },
  "language_info": {
   "codemirror_mode": {
    "name": "ipython",
    "version": 3
   },
   "file_extension": ".py",
   "mimetype": "text/x-python",
   "name": "python",
   "nbconvert_exporter": "python",
   "pygments_lexer": "ipython3",
   "version": "3.8.2"
  }
 },
 "nbformat": 4,
 "nbformat_minor": 5
}
