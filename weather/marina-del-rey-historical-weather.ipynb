{
 "cells": [
  {
   "cell_type": "markdown",
   "id": "4e0fe3db-44bf-4f3c-bf53-ccb2d1cddcb0",
   "metadata": {},
   "source": [
    "# Scraping data from Weather Underground"
   ]
  },
  {
   "cell_type": "markdown",
   "id": "e8cac701-6480-467d-8390-259d7593ed71",
   "metadata": {},
   "source": [
    "### Import Python tools and Jupyter configuration"
   ]
  },
  {
   "cell_type": "code",
   "execution_count": 3,
   "id": "9488ad62-07c9-48ee-a997-bfe771749218",
   "metadata": {},
   "outputs": [],
   "source": [
    "%load_ext lab_black"
   ]
  },
  {
   "cell_type": "code",
   "execution_count": 44,
   "id": "e786da73-0d9c-4a89-9f5f-844b11945fe4",
   "metadata": {},
   "outputs": [],
   "source": [
    "import pandas as pd\n",
    "import geopandas as gpd\n",
    "import datetime as dt\n",
    "import matplotlib.pyplot as plt\n",
    "import altair as alt\n",
    "import requests\n",
    "import lxml.html as html\n",
    "import bs4 as BeautifulSoup"
   ]
  },
  {
   "cell_type": "code",
   "execution_count": 45,
   "id": "87343817-2f3e-462d-bdcb-fa61f8ba517e",
   "metadata": {},
   "outputs": [],
   "source": [
    "pd.options.display.max_columns = 100\n",
    "pd.options.display.max_rows = 1000\n",
    "pd.options.display.max_colwidth = None"
   ]
  },
  {
   "cell_type": "markdown",
   "id": "d519768a-c377-4608-8cff-4350f8da8309",
   "metadata": {},
   "source": [
    "### Read the raw data"
   ]
  },
  {
   "cell_type": "code",
   "execution_count": 46,
   "id": "41f256bb-14d9-4957-9812-e858fec6f9d6",
   "metadata": {},
   "outputs": [],
   "source": [
    "url = \"https://www.wunderground.com/history/daily/us/ca/los-angeles/KLAX/date/2021-1-1\""
   ]
  },
  {
   "cell_type": "code",
   "execution_count": 47,
   "id": "ca91d8f4-bb2e-4ae7-badd-811eba44adeb",
   "metadata": {},
   "outputs": [],
   "source": [
    "headers = {\"user-agent\": \"my-app/0.0.1\"}\n",
    "html = requests.get(url, headers=headers)"
   ]
  },
  {
   "cell_type": "code",
   "execution_count": null,
   "id": "41e49759-c176-4fb3-a62e-3ff32c13ac42",
   "metadata": {},
   "outputs": [],
   "source": [
    "'https://www.wunderground.com/history/daily/us/ca/los-angeles/KLAX/date/2021-1-1'"
   ]
  }
 ],
 "metadata": {
  "kernelspec": {
   "display_name": "Python 3",
   "language": "python",
   "name": "python3"
  },
  "language_info": {
   "codemirror_mode": {
    "name": "ipython",
    "version": 3
   },
   "file_extension": ".py",
   "mimetype": "text/x-python",
   "name": "python",
   "nbconvert_exporter": "python",
   "pygments_lexer": "ipython3",
   "version": "3.8.2"
  }
 },
 "nbformat": 4,
 "nbformat_minor": 5
}
