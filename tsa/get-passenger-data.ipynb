{
 "cells": [
  {
   "cell_type": "markdown",
   "id": "ded3ac09-9ed0-4817-848e-b9875aca8f0f",
   "metadata": {},
   "source": [
    "# TSA passenger checkpoint throughput"
   ]
  },
  {
   "cell_type": "markdown",
   "id": "adced373-62e3-4675-922b-9bb47e3076f2",
   "metadata": {},
   "source": [
    "### Import Python tools and Jupyter configuration"
   ]
  },
  {
   "cell_type": "code",
   "execution_count": 1,
   "id": "5163bc52-eb21-43e6-8d1d-75d9b290c024",
   "metadata": {},
   "outputs": [],
   "source": [
    "%load_ext lab_black"
   ]
  },
  {
   "cell_type": "code",
   "execution_count": 2,
   "id": "26bb3af0-aa09-42ea-a047-82f0413ebba4",
   "metadata": {},
   "outputs": [],
   "source": [
    "import pandas as pd\n",
    "import requests\n",
    "from bs4 import BeautifulSoup\n",
    "import re\n",
    "import datetime as dt"
   ]
  },
  {
   "cell_type": "code",
   "execution_count": 3,
   "id": "535a3405-8a88-4a88-87d1-6afca1d89173",
   "metadata": {},
   "outputs": [],
   "source": [
    "import altair as alt\n",
    "import altair_latimes as lat\n",
    "import numpy as np"
   ]
  },
  {
   "cell_type": "code",
   "execution_count": 4,
   "id": "a3498d78-2b4f-485c-a338-7a4847b56a3f",
   "metadata": {},
   "outputs": [
    {
     "data": {
      "text/plain": [
       "ThemeRegistry.enable('latimes')"
      ]
     },
     "execution_count": 4,
     "metadata": {},
     "output_type": "execute_result"
    }
   ],
   "source": [
    "alt.themes.register(\"latimes\", lat.theme)\n",
    "alt.themes.enable(\"latimes\")"
   ]
  },
  {
   "cell_type": "code",
   "execution_count": 5,
   "id": "4e47eccb-ee1e-4ff1-a612-b8e8e51d0d5d",
   "metadata": {},
   "outputs": [],
   "source": [
    "pd.options.display.max_columns = 1000\n",
    "pd.options.display.max_rows = 1000\n",
    "alt.data_transformers.disable_max_rows()\n",
    "pd.options.display.max_colwidth = None"
   ]
  },
  {
   "cell_type": "code",
   "execution_count": 6,
   "id": "7bd102e3-825c-41fb-88eb-1bb5be5ea4f2",
   "metadata": {},
   "outputs": [],
   "source": [
    "url = \"https://www.tsa.gov/coronavirus/passenger-throughput\""
   ]
  },
  {
   "cell_type": "code",
   "execution_count": 7,
   "id": "f85b5bfc-c03d-47fb-b519-d55fc321f0e4",
   "metadata": {},
   "outputs": [],
   "source": [
    "header = {\n",
    "    \"User-Agent\": \"Mozilla/5.0 (X11; Linux x86_64) AppleWebKit/537.36 (KHTML, like Gecko) \\\n",
    "  Chrome/50.0.2661.75 Safari/537.36\",\n",
    "    \"X-Requested-With\": \"XMLHttpRequest\",\n",
    "}"
   ]
  },
  {
   "cell_type": "code",
   "execution_count": 8,
   "id": "257fcccf-45c2-4707-878a-bda359fb6f88",
   "metadata": {},
   "outputs": [],
   "source": [
    "r = requests.get(url, headers=header)"
   ]
  },
  {
   "cell_type": "code",
   "execution_count": 9,
   "id": "d6bcb6a5-58b8-45bc-8970-7c205a7e6391",
   "metadata": {},
   "outputs": [],
   "source": [
    "tsa_dfs = pd.read_html(r.text)\n",
    "tsa_tables = pd.DataFrame(tsa_dfs[0])"
   ]
  },
  {
   "cell_type": "code",
   "execution_count": 10,
   "id": "62af1599-7f6d-4a9a-945b-824267359269",
   "metadata": {},
   "outputs": [
    {
     "data": {
      "text/html": [
       "<div>\n",
       "<style scoped>\n",
       "    .dataframe tbody tr th:only-of-type {\n",
       "        vertical-align: middle;\n",
       "    }\n",
       "\n",
       "    .dataframe tbody tr th {\n",
       "        vertical-align: top;\n",
       "    }\n",
       "\n",
       "    .dataframe thead th {\n",
       "        text-align: right;\n",
       "    }\n",
       "</style>\n",
       "<table border=\"1\" class=\"dataframe\">\n",
       "  <thead>\n",
       "    <tr style=\"text-align: right;\">\n",
       "      <th></th>\n",
       "      <th>Date</th>\n",
       "      <th>2021 Traveler Throughput</th>\n",
       "      <th>2020 Traveler Throughput</th>\n",
       "      <th>2019 Traveler Throughput</th>\n",
       "    </tr>\n",
       "  </thead>\n",
       "  <tbody>\n",
       "    <tr>\n",
       "      <th>0</th>\n",
       "      <td>5/30/2021</td>\n",
       "      <td>1650454.0</td>\n",
       "      <td>352947</td>\n",
       "      <td>2555578</td>\n",
       "    </tr>\n",
       "    <tr>\n",
       "      <th>1</th>\n",
       "      <td>5/29/2021</td>\n",
       "      <td>1605810.0</td>\n",
       "      <td>268867</td>\n",
       "      <td>2117180</td>\n",
       "    </tr>\n",
       "    <tr>\n",
       "      <th>2</th>\n",
       "      <td>5/28/2021</td>\n",
       "      <td>1959593.0</td>\n",
       "      <td>327133</td>\n",
       "      <td>2570613</td>\n",
       "    </tr>\n",
       "    <tr>\n",
       "      <th>3</th>\n",
       "      <td>5/27/2021</td>\n",
       "      <td>1854534.0</td>\n",
       "      <td>321776</td>\n",
       "      <td>2485770</td>\n",
       "    </tr>\n",
       "    <tr>\n",
       "      <th>4</th>\n",
       "      <td>5/26/2021</td>\n",
       "      <td>1618169.0</td>\n",
       "      <td>261170</td>\n",
       "      <td>2269035</td>\n",
       "    </tr>\n",
       "  </tbody>\n",
       "</table>\n",
       "</div>"
      ],
      "text/plain": [
       "        Date  2021 Traveler Throughput  2020 Traveler Throughput  \\\n",
       "0  5/30/2021                 1650454.0                    352947   \n",
       "1  5/29/2021                 1605810.0                    268867   \n",
       "2  5/28/2021                 1959593.0                    327133   \n",
       "3  5/27/2021                 1854534.0                    321776   \n",
       "4  5/26/2021                 1618169.0                    261170   \n",
       "\n",
       "   2019 Traveler Throughput  \n",
       "0                   2555578  \n",
       "1                   2117180  \n",
       "2                   2570613  \n",
       "3                   2485770  \n",
       "4                   2269035  "
      ]
     },
     "execution_count": 10,
     "metadata": {},
     "output_type": "execute_result"
    }
   ],
   "source": [
    "tsa_tables.head()"
   ]
  },
  {
   "cell_type": "code",
   "execution_count": 11,
   "id": "e9f4df30-1cc0-4b58-9e6d-6970db981579",
   "metadata": {},
   "outputs": [],
   "source": [
    "tsa_tables.rename(\n",
    "    columns={\n",
    "        \"0\": \"date\",\n",
    "        \"1\": \"2021 Traveler Throughput\",\n",
    "        \"2\": \"2020 Traveler Throughput\",\n",
    "        \"2\": \"2019 Traveler Throughput\",\n",
    "    },\n",
    "    inplace=True,\n",
    ")\n",
    "tsa_tables.columns = [\"date\", \"2021\", \"2020\", \"2019\"]"
   ]
  },
  {
   "cell_type": "code",
   "execution_count": 12,
   "id": "52525690-4eb3-4223-959b-5ab10a9910fb",
   "metadata": {},
   "outputs": [
    {
     "data": {
      "text/html": [
       "<div>\n",
       "<style scoped>\n",
       "    .dataframe tbody tr th:only-of-type {\n",
       "        vertical-align: middle;\n",
       "    }\n",
       "\n",
       "    .dataframe tbody tr th {\n",
       "        vertical-align: top;\n",
       "    }\n",
       "\n",
       "    .dataframe thead th {\n",
       "        text-align: right;\n",
       "    }\n",
       "</style>\n",
       "<table border=\"1\" class=\"dataframe\">\n",
       "  <thead>\n",
       "    <tr style=\"text-align: right;\">\n",
       "      <th></th>\n",
       "      <th>date</th>\n",
       "      <th>2021</th>\n",
       "      <th>2020</th>\n",
       "      <th>2019</th>\n",
       "    </tr>\n",
       "  </thead>\n",
       "  <tbody>\n",
       "    <tr>\n",
       "      <th>0</th>\n",
       "      <td>5/30/2021</td>\n",
       "      <td>1650454.0</td>\n",
       "      <td>352947</td>\n",
       "      <td>2555578</td>\n",
       "    </tr>\n",
       "    <tr>\n",
       "      <th>1</th>\n",
       "      <td>5/29/2021</td>\n",
       "      <td>1605810.0</td>\n",
       "      <td>268867</td>\n",
       "      <td>2117180</td>\n",
       "    </tr>\n",
       "    <tr>\n",
       "      <th>2</th>\n",
       "      <td>5/28/2021</td>\n",
       "      <td>1959593.0</td>\n",
       "      <td>327133</td>\n",
       "      <td>2570613</td>\n",
       "    </tr>\n",
       "    <tr>\n",
       "      <th>3</th>\n",
       "      <td>5/27/2021</td>\n",
       "      <td>1854534.0</td>\n",
       "      <td>321776</td>\n",
       "      <td>2485770</td>\n",
       "    </tr>\n",
       "    <tr>\n",
       "      <th>4</th>\n",
       "      <td>5/26/2021</td>\n",
       "      <td>1618169.0</td>\n",
       "      <td>261170</td>\n",
       "      <td>2269035</td>\n",
       "    </tr>\n",
       "  </tbody>\n",
       "</table>\n",
       "</div>"
      ],
      "text/plain": [
       "        date       2021    2020     2019\n",
       "0  5/30/2021  1650454.0  352947  2555578\n",
       "1  5/29/2021  1605810.0  268867  2117180\n",
       "2  5/28/2021  1959593.0  327133  2570613\n",
       "3  5/27/2021  1854534.0  321776  2485770\n",
       "4  5/26/2021  1618169.0  261170  2269035"
      ]
     },
     "execution_count": 12,
     "metadata": {},
     "output_type": "execute_result"
    }
   ],
   "source": [
    "tsa_tables.head()"
   ]
  },
  {
   "cell_type": "code",
   "execution_count": 13,
   "id": "2c4e4fe9-46cb-40e5-8c74-4578e1ca6e0e",
   "metadata": {},
   "outputs": [
    {
     "data": {
      "text/html": [
       "<div>\n",
       "<style scoped>\n",
       "    .dataframe tbody tr th:only-of-type {\n",
       "        vertical-align: middle;\n",
       "    }\n",
       "\n",
       "    .dataframe tbody tr th {\n",
       "        vertical-align: top;\n",
       "    }\n",
       "\n",
       "    .dataframe thead th {\n",
       "        text-align: right;\n",
       "    }\n",
       "</style>\n",
       "<table border=\"1\" class=\"dataframe\">\n",
       "  <thead>\n",
       "    <tr style=\"text-align: right;\">\n",
       "      <th></th>\n",
       "      <th>date</th>\n",
       "      <th>2021</th>\n",
       "      <th>2020</th>\n",
       "      <th>2019</th>\n",
       "    </tr>\n",
       "  </thead>\n",
       "  <tbody>\n",
       "    <tr>\n",
       "      <th>360</th>\n",
       "      <td>6/4/2020</td>\n",
       "      <td>NaN</td>\n",
       "      <td>391882</td>\n",
       "      <td>2623947</td>\n",
       "    </tr>\n",
       "    <tr>\n",
       "      <th>361</th>\n",
       "      <td>6/3/2020</td>\n",
       "      <td>NaN</td>\n",
       "      <td>304436</td>\n",
       "      <td>2370152</td>\n",
       "    </tr>\n",
       "    <tr>\n",
       "      <th>362</th>\n",
       "      <td>6/2/2020</td>\n",
       "      <td>NaN</td>\n",
       "      <td>267742</td>\n",
       "      <td>2247421</td>\n",
       "    </tr>\n",
       "    <tr>\n",
       "      <th>363</th>\n",
       "      <td>6/1/2020</td>\n",
       "      <td>NaN</td>\n",
       "      <td>353261</td>\n",
       "      <td>2499002</td>\n",
       "    </tr>\n",
       "    <tr>\n",
       "      <th>364</th>\n",
       "      <td>5/31/2020</td>\n",
       "      <td>NaN</td>\n",
       "      <td>352947</td>\n",
       "      <td>2555578</td>\n",
       "    </tr>\n",
       "  </tbody>\n",
       "</table>\n",
       "</div>"
      ],
      "text/plain": [
       "          date  2021    2020     2019\n",
       "360   6/4/2020   NaN  391882  2623947\n",
       "361   6/3/2020   NaN  304436  2370152\n",
       "362   6/2/2020   NaN  267742  2247421\n",
       "363   6/1/2020   NaN  353261  2499002\n",
       "364  5/31/2020   NaN  352947  2555578"
      ]
     },
     "execution_count": 13,
     "metadata": {},
     "output_type": "execute_result"
    }
   ],
   "source": [
    "tsa_tables.tail()"
   ]
  },
  {
   "cell_type": "code",
   "execution_count": 14,
   "id": "0e3e2caf-d779-410e-b577-5e4b32a83761",
   "metadata": {},
   "outputs": [],
   "source": [
    "tsa_tables = tsa_tables.iloc[1:].copy()"
   ]
  },
  {
   "cell_type": "markdown",
   "id": "bcc64379-6b74-4022-80df-f9b5b52ea8f6",
   "metadata": {},
   "source": [
    "### Include previously collected data"
   ]
  },
  {
   "cell_type": "code",
   "execution_count": 15,
   "id": "3ac844f2-7a84-4b65-b176-071f229e4d1c",
   "metadata": {},
   "outputs": [],
   "source": [
    "archive = pd.read_csv(\"data/raw/tsa_tables_before_pandemic.csv\", parse_dates=[\"date\"])"
   ]
  },
  {
   "cell_type": "code",
   "execution_count": 16,
   "id": "fe80597d-cf52-4d5c-93c3-66a6f0bdd592",
   "metadata": {},
   "outputs": [],
   "source": [
    "archive.drop([\"Unnamed: 0\"], axis=1, inplace=True)"
   ]
  },
  {
   "cell_type": "code",
   "execution_count": 17,
   "id": "59648124-ea3f-41b7-97dd-c700461fad5d",
   "metadata": {},
   "outputs": [],
   "source": [
    "df = pd.concat([tsa_tables, archive])"
   ]
  },
  {
   "cell_type": "markdown",
   "id": "34fd6212-5033-4d37-b8c7-b1e90c000914",
   "metadata": {},
   "source": [
    "---"
   ]
  },
  {
   "cell_type": "code",
   "execution_count": 23,
   "id": "90fb2a7e-2aa0-455b-b58a-63c94910f61f",
   "metadata": {},
   "outputs": [],
   "source": [
    "df[\"date\"] = pd.to_datetime(df[\"date\"])"
   ]
  },
  {
   "cell_type": "code",
   "execution_count": 24,
   "id": "92c89887-2256-4639-9fa0-84786e6534cc",
   "metadata": {},
   "outputs": [],
   "source": [
    "df[\"month_day\"] = df[\"date\"].dt.strftime(\"%m-%d\")"
   ]
  },
  {
   "cell_type": "code",
   "execution_count": 25,
   "id": "bdb4219e-2a98-42a7-b8fe-15b5878da07f",
   "metadata": {},
   "outputs": [
    {
     "data": {
      "text/html": [
       "<div>\n",
       "<style scoped>\n",
       "    .dataframe tbody tr th:only-of-type {\n",
       "        vertical-align: middle;\n",
       "    }\n",
       "\n",
       "    .dataframe tbody tr th {\n",
       "        vertical-align: top;\n",
       "    }\n",
       "\n",
       "    .dataframe thead th {\n",
       "        text-align: right;\n",
       "    }\n",
       "</style>\n",
       "<table border=\"1\" class=\"dataframe\">\n",
       "  <thead>\n",
       "    <tr style=\"text-align: right;\">\n",
       "      <th></th>\n",
       "      <th>date</th>\n",
       "      <th>2021</th>\n",
       "      <th>2020</th>\n",
       "      <th>2019</th>\n",
       "      <th>month_day</th>\n",
       "    </tr>\n",
       "  </thead>\n",
       "  <tbody>\n",
       "    <tr>\n",
       "      <th>1</th>\n",
       "      <td>2021-05-29</td>\n",
       "      <td>1605810.0</td>\n",
       "      <td>268867</td>\n",
       "      <td>2117180</td>\n",
       "      <td>05-29</td>\n",
       "    </tr>\n",
       "    <tr>\n",
       "      <th>2</th>\n",
       "      <td>2021-05-28</td>\n",
       "      <td>1959593.0</td>\n",
       "      <td>327133</td>\n",
       "      <td>2570613</td>\n",
       "      <td>05-28</td>\n",
       "    </tr>\n",
       "    <tr>\n",
       "      <th>3</th>\n",
       "      <td>2021-05-27</td>\n",
       "      <td>1854534.0</td>\n",
       "      <td>321776</td>\n",
       "      <td>2485770</td>\n",
       "      <td>05-27</td>\n",
       "    </tr>\n",
       "    <tr>\n",
       "      <th>4</th>\n",
       "      <td>2021-05-26</td>\n",
       "      <td>1618169.0</td>\n",
       "      <td>261170</td>\n",
       "      <td>2269035</td>\n",
       "      <td>05-26</td>\n",
       "    </tr>\n",
       "    <tr>\n",
       "      <th>5</th>\n",
       "      <td>2021-05-25</td>\n",
       "      <td>1470840.0</td>\n",
       "      <td>264843</td>\n",
       "      <td>2453649</td>\n",
       "      <td>05-25</td>\n",
       "    </tr>\n",
       "    <tr>\n",
       "      <th>6</th>\n",
       "      <td>2021-05-24</td>\n",
       "      <td>1747353.0</td>\n",
       "      <td>340769</td>\n",
       "      <td>2512237</td>\n",
       "      <td>05-24</td>\n",
       "    </tr>\n",
       "    <tr>\n",
       "      <th>7</th>\n",
       "      <td>2021-05-23</td>\n",
       "      <td>1863697.0</td>\n",
       "      <td>267451</td>\n",
       "      <td>2070716</td>\n",
       "      <td>05-23</td>\n",
       "    </tr>\n",
       "    <tr>\n",
       "      <th>8</th>\n",
       "      <td>2021-05-22</td>\n",
       "      <td>1550044.0</td>\n",
       "      <td>253190</td>\n",
       "      <td>2124825</td>\n",
       "      <td>05-22</td>\n",
       "    </tr>\n",
       "    <tr>\n",
       "      <th>9</th>\n",
       "      <td>2021-05-21</td>\n",
       "      <td>1820433.0</td>\n",
       "      <td>348673</td>\n",
       "      <td>2792670</td>\n",
       "      <td>05-21</td>\n",
       "    </tr>\n",
       "    <tr>\n",
       "      <th>10</th>\n",
       "      <td>2021-05-20</td>\n",
       "      <td>1728496.0</td>\n",
       "      <td>318449</td>\n",
       "      <td>2673635</td>\n",
       "      <td>05-20</td>\n",
       "    </tr>\n",
       "  </tbody>\n",
       "</table>\n",
       "</div>"
      ],
      "text/plain": [
       "         date       2021    2020     2019 month_day\n",
       "1  2021-05-29  1605810.0  268867  2117180     05-29\n",
       "2  2021-05-28  1959593.0  327133  2570613     05-28\n",
       "3  2021-05-27  1854534.0  321776  2485770     05-27\n",
       "4  2021-05-26  1618169.0  261170  2269035     05-26\n",
       "5  2021-05-25  1470840.0  264843  2453649     05-25\n",
       "6  2021-05-24  1747353.0  340769  2512237     05-24\n",
       "7  2021-05-23  1863697.0  267451  2070716     05-23\n",
       "8  2021-05-22  1550044.0  253190  2124825     05-22\n",
       "9  2021-05-21  1820433.0  348673  2792670     05-21\n",
       "10 2021-05-20  1728496.0  318449  2673635     05-20"
      ]
     },
     "execution_count": 25,
     "metadata": {},
     "output_type": "execute_result"
    }
   ],
   "source": [
    "df.head(10)"
   ]
  },
  {
   "cell_type": "code",
   "execution_count": 32,
   "id": "f55c99f1-3f59-43fe-a82f-472d79f96954",
   "metadata": {},
   "outputs": [],
   "source": [
    "tsa_tables_melt = pd.melt(\n",
    "    df,\n",
    "    id_vars=[\"month_day\"],\n",
    "    value_vars=[\"2021\", \"2020\", \"2019\"],\n",
    "    var_name=\"year\",\n",
    "    value_name=\"travelers\",\n",
    ")"
   ]
  },
  {
   "cell_type": "code",
   "execution_count": 33,
   "id": "da47d37f-3744-4b28-953b-cdea69e3fe5b",
   "metadata": {},
   "outputs": [
    {
     "data": {
      "text/html": [
       "<div>\n",
       "<style scoped>\n",
       "    .dataframe tbody tr th:only-of-type {\n",
       "        vertical-align: middle;\n",
       "    }\n",
       "\n",
       "    .dataframe tbody tr th {\n",
       "        vertical-align: top;\n",
       "    }\n",
       "\n",
       "    .dataframe thead th {\n",
       "        text-align: right;\n",
       "    }\n",
       "</style>\n",
       "<table border=\"1\" class=\"dataframe\">\n",
       "  <thead>\n",
       "    <tr style=\"text-align: right;\">\n",
       "      <th></th>\n",
       "      <th>month_day</th>\n",
       "      <th>year</th>\n",
       "      <th>travelers</th>\n",
       "    </tr>\n",
       "  </thead>\n",
       "  <tbody>\n",
       "    <tr>\n",
       "      <th>0</th>\n",
       "      <td>05-29</td>\n",
       "      <td>2021</td>\n",
       "      <td>1605810.0</td>\n",
       "    </tr>\n",
       "    <tr>\n",
       "      <th>1</th>\n",
       "      <td>05-28</td>\n",
       "      <td>2021</td>\n",
       "      <td>1959593.0</td>\n",
       "    </tr>\n",
       "    <tr>\n",
       "      <th>2</th>\n",
       "      <td>05-27</td>\n",
       "      <td>2021</td>\n",
       "      <td>1854534.0</td>\n",
       "    </tr>\n",
       "    <tr>\n",
       "      <th>3</th>\n",
       "      <td>05-26</td>\n",
       "      <td>2021</td>\n",
       "      <td>1618169.0</td>\n",
       "    </tr>\n",
       "    <tr>\n",
       "      <th>4</th>\n",
       "      <td>05-25</td>\n",
       "      <td>2021</td>\n",
       "      <td>1470840.0</td>\n",
       "    </tr>\n",
       "  </tbody>\n",
       "</table>\n",
       "</div>"
      ],
      "text/plain": [
       "  month_day  year  travelers\n",
       "0     05-29  2021  1605810.0\n",
       "1     05-28  2021  1959593.0\n",
       "2     05-27  2021  1854534.0\n",
       "3     05-26  2021  1618169.0\n",
       "4     05-25  2021  1470840.0"
      ]
     },
     "execution_count": 33,
     "metadata": {},
     "output_type": "execute_result"
    }
   ],
   "source": [
    "tsa_tables_melt.head()"
   ]
  },
  {
   "cell_type": "code",
   "execution_count": 34,
   "id": "5e6d6f18-a5d7-453f-87b5-77d8015eb1e2",
   "metadata": {},
   "outputs": [
    {
     "data": {
      "text/html": [
       "<div>\n",
       "<style scoped>\n",
       "    .dataframe tbody tr th:only-of-type {\n",
       "        vertical-align: middle;\n",
       "    }\n",
       "\n",
       "    .dataframe tbody tr th {\n",
       "        vertical-align: top;\n",
       "    }\n",
       "\n",
       "    .dataframe thead th {\n",
       "        text-align: right;\n",
       "    }\n",
       "</style>\n",
       "<table border=\"1\" class=\"dataframe\">\n",
       "  <thead>\n",
       "    <tr style=\"text-align: right;\">\n",
       "      <th></th>\n",
       "      <th>month_day</th>\n",
       "      <th>year</th>\n",
       "      <th>travelers</th>\n",
       "    </tr>\n",
       "  </thead>\n",
       "  <tbody>\n",
       "    <tr>\n",
       "      <th>1261</th>\n",
       "      <td>03-05</td>\n",
       "      <td>2019</td>\n",
       "      <td>2402692.0</td>\n",
       "    </tr>\n",
       "    <tr>\n",
       "      <th>1262</th>\n",
       "      <td>03-04</td>\n",
       "      <td>2019</td>\n",
       "      <td>2143619.0</td>\n",
       "    </tr>\n",
       "    <tr>\n",
       "      <th>1263</th>\n",
       "      <td>03-03</td>\n",
       "      <td>2019</td>\n",
       "      <td>1979558.0</td>\n",
       "    </tr>\n",
       "    <tr>\n",
       "      <th>1264</th>\n",
       "      <td>03-02</td>\n",
       "      <td>2019</td>\n",
       "      <td>2257920.0</td>\n",
       "    </tr>\n",
       "    <tr>\n",
       "      <th>1265</th>\n",
       "      <td>03-01</td>\n",
       "      <td>2019</td>\n",
       "      <td>2301439.0</td>\n",
       "    </tr>\n",
       "  </tbody>\n",
       "</table>\n",
       "</div>"
      ],
      "text/plain": [
       "     month_day  year  travelers\n",
       "1261     03-05  2019  2402692.0\n",
       "1262     03-04  2019  2143619.0\n",
       "1263     03-03  2019  1979558.0\n",
       "1264     03-02  2019  2257920.0\n",
       "1265     03-01  2019  2301439.0"
      ]
     },
     "execution_count": 34,
     "metadata": {},
     "output_type": "execute_result"
    }
   ],
   "source": [
    "tsa_tables_melt.tail()"
   ]
  },
  {
   "cell_type": "code",
   "execution_count": 35,
   "id": "8020c5e9-34dc-4896-b07c-530ca566fba1",
   "metadata": {},
   "outputs": [
    {
     "data": {
      "text/html": [
       "<div>\n",
       "<style scoped>\n",
       "    .dataframe tbody tr th:only-of-type {\n",
       "        vertical-align: middle;\n",
       "    }\n",
       "\n",
       "    .dataframe tbody tr th {\n",
       "        vertical-align: top;\n",
       "    }\n",
       "\n",
       "    .dataframe thead th {\n",
       "        text-align: right;\n",
       "    }\n",
       "</style>\n",
       "<table border=\"1\" class=\"dataframe\">\n",
       "  <thead>\n",
       "    <tr style=\"text-align: right;\">\n",
       "      <th></th>\n",
       "      <th>month_day</th>\n",
       "      <th>year</th>\n",
       "      <th>travelers</th>\n",
       "    </tr>\n",
       "  </thead>\n",
       "  <tbody>\n",
       "    <tr>\n",
       "      <th>0</th>\n",
       "      <td>05-29</td>\n",
       "      <td>2021</td>\n",
       "      <td>1605810.0</td>\n",
       "    </tr>\n",
       "    <tr>\n",
       "      <th>1</th>\n",
       "      <td>05-28</td>\n",
       "      <td>2021</td>\n",
       "      <td>1959593.0</td>\n",
       "    </tr>\n",
       "    <tr>\n",
       "      <th>2</th>\n",
       "      <td>05-27</td>\n",
       "      <td>2021</td>\n",
       "      <td>1854534.0</td>\n",
       "    </tr>\n",
       "    <tr>\n",
       "      <th>3</th>\n",
       "      <td>05-26</td>\n",
       "      <td>2021</td>\n",
       "      <td>1618169.0</td>\n",
       "    </tr>\n",
       "    <tr>\n",
       "      <th>4</th>\n",
       "      <td>05-25</td>\n",
       "      <td>2021</td>\n",
       "      <td>1470840.0</td>\n",
       "    </tr>\n",
       "    <tr>\n",
       "      <th>...</th>\n",
       "      <td>...</td>\n",
       "      <td>...</td>\n",
       "      <td>...</td>\n",
       "    </tr>\n",
       "    <tr>\n",
       "      <th>1261</th>\n",
       "      <td>03-05</td>\n",
       "      <td>2019</td>\n",
       "      <td>2402692.0</td>\n",
       "    </tr>\n",
       "    <tr>\n",
       "      <th>1262</th>\n",
       "      <td>03-04</td>\n",
       "      <td>2019</td>\n",
       "      <td>2143619.0</td>\n",
       "    </tr>\n",
       "    <tr>\n",
       "      <th>1263</th>\n",
       "      <td>03-03</td>\n",
       "      <td>2019</td>\n",
       "      <td>1979558.0</td>\n",
       "    </tr>\n",
       "    <tr>\n",
       "      <th>1264</th>\n",
       "      <td>03-02</td>\n",
       "      <td>2019</td>\n",
       "      <td>2257920.0</td>\n",
       "    </tr>\n",
       "    <tr>\n",
       "      <th>1265</th>\n",
       "      <td>03-01</td>\n",
       "      <td>2019</td>\n",
       "      <td>2301439.0</td>\n",
       "    </tr>\n",
       "  </tbody>\n",
       "</table>\n",
       "<p>1266 rows × 3 columns</p>\n",
       "</div>"
      ],
      "text/plain": [
       "     month_day  year  travelers\n",
       "0        05-29  2021  1605810.0\n",
       "1        05-28  2021  1959593.0\n",
       "2        05-27  2021  1854534.0\n",
       "3        05-26  2021  1618169.0\n",
       "4        05-25  2021  1470840.0\n",
       "...        ...   ...        ...\n",
       "1261     03-05  2019  2402692.0\n",
       "1262     03-04  2019  2143619.0\n",
       "1263     03-03  2019  1979558.0\n",
       "1264     03-02  2019  2257920.0\n",
       "1265     03-01  2019  2301439.0\n",
       "\n",
       "[1266 rows x 3 columns]"
      ]
     },
     "execution_count": 35,
     "metadata": {},
     "output_type": "execute_result"
    }
   ],
   "source": [
    "tsa_tables_melt"
   ]
  },
  {
   "cell_type": "code",
   "execution_count": null,
   "id": "ac1da7f3-3af1-42c5-a2d4-ea15332150ce",
   "metadata": {},
   "outputs": [],
   "source": []
  }
 ],
 "metadata": {
  "kernelspec": {
   "display_name": "Python 3",
   "language": "python",
   "name": "python3"
  },
  "language_info": {
   "codemirror_mode": {
    "name": "ipython",
    "version": 3
   },
   "file_extension": ".py",
   "mimetype": "text/x-python",
   "name": "python",
   "nbconvert_exporter": "python",
   "pygments_lexer": "ipython3",
   "version": "3.8.2"
  }
 },
 "nbformat": 4,
 "nbformat_minor": 5
}
