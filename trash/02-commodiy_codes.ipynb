{
 "cells": [
  {
   "cell_type": "markdown",
   "metadata": {},
   "source": [
    "# L.A. trash collection - change by commodity codes"
   ]
  },
  {
   "cell_type": "markdown",
   "metadata": {},
   "source": [
    "### Import Python tools and Jupyter configuration"
   ]
  },
  {
   "cell_type": "code",
   "execution_count": 1,
   "metadata": {},
   "outputs": [],
   "source": [
    "%load_ext lab_black"
   ]
  },
  {
   "cell_type": "code",
   "execution_count": 2,
   "metadata": {},
   "outputs": [],
   "source": [
    "import pandas as pd\n",
    "import geopandas as gpd\n",
    "import datetime as dt"
   ]
  },
  {
   "cell_type": "code",
   "execution_count": 3,
   "metadata": {},
   "outputs": [],
   "source": [
    "import altair as alt\n",
    "import altair_latimes as lat\n",
    "import matplotlib.pyplot as plt"
   ]
  },
  {
   "cell_type": "code",
   "execution_count": 4,
   "metadata": {},
   "outputs": [
    {
     "data": {
      "text/plain": [
       "DataTransformerRegistry.enable('default')"
      ]
     },
     "execution_count": 4,
     "metadata": {},
     "output_type": "execute_result"
    }
   ],
   "source": [
    "alt.themes.register(\"latimes\", lat.theme)\n",
    "alt.themes.enable(\"latimes\")\n",
    "alt.data_transformers.disable_max_rows()"
   ]
  },
  {
   "cell_type": "markdown",
   "metadata": {},
   "source": [
    "### Read the collection data"
   ]
  },
  {
   "cell_type": "code",
   "execution_count": 13,
   "metadata": {},
   "outputs": [],
   "source": [
    "src = pd.read_csv(\n",
    "    \"data/processed/all_data.csv\",\n",
    "    parse_dates=[\n",
    "        \"datetime\",\n",
    "    ],\n",
    "    dtype={\n",
    "        \"year\": \"str\",\n",
    "        \"quarter\": \"str\",\n",
    "        \"day\": \"str\",\n",
    "        \"month\": \"str\",\n",
    "        \"weekday\": \"str\",\n",
    "    },\n",
    ")"
   ]
  },
  {
   "cell_type": "code",
   "execution_count": 54,
   "metadata": {},
   "outputs": [],
   "source": [
    "df = src[src[\"year\"] != \"2021\"].copy()"
   ]
  },
  {
   "cell_type": "code",
   "execution_count": 55,
   "metadata": {},
   "outputs": [],
   "source": [
    "df[\"month_year\"] = pd.to_datetime(df[\"month_year\"], format=\"%Y-%m\")"
   ]
  },
  {
   "cell_type": "markdown",
   "metadata": {},
   "source": [
    "### Group by commodity codes"
   ]
  },
  {
   "cell_type": "code",
   "execution_count": 56,
   "metadata": {},
   "outputs": [],
   "source": [
    "ccodes = (\n",
    "    df.groupby([\"year\", \"commoditycode\"])\n",
    "    .agg({\"tons\": sum})\n",
    "    .sort_values(by=[\"year\", \"tons\"], ascending=False)\n",
    "    .reset_index()\n",
    ")"
   ]
  },
  {
   "cell_type": "code",
   "execution_count": 57,
   "metadata": {},
   "outputs": [
    {
     "data": {
      "text/html": [
       "<div>\n",
       "<style scoped>\n",
       "    .dataframe tbody tr th:only-of-type {\n",
       "        vertical-align: middle;\n",
       "    }\n",
       "\n",
       "    .dataframe tbody tr th {\n",
       "        vertical-align: top;\n",
       "    }\n",
       "\n",
       "    .dataframe thead th {\n",
       "        text-align: right;\n",
       "    }\n",
       "</style>\n",
       "<table border=\"1\" class=\"dataframe\">\n",
       "  <thead>\n",
       "    <tr style=\"text-align: right;\">\n",
       "      <th></th>\n",
       "      <th>year</th>\n",
       "      <th>commoditycode</th>\n",
       "      <th>tons</th>\n",
       "    </tr>\n",
       "  </thead>\n",
       "  <tbody>\n",
       "    <tr>\n",
       "      <th>0</th>\n",
       "      <td>2020</td>\n",
       "      <td>A</td>\n",
       "      <td>889267.50</td>\n",
       "    </tr>\n",
       "    <tr>\n",
       "      <th>1</th>\n",
       "      <td>2020</td>\n",
       "      <td>R</td>\n",
       "      <td>259601.52</td>\n",
       "    </tr>\n",
       "    <tr>\n",
       "      <th>2</th>\n",
       "      <td>2020</td>\n",
       "      <td>CA</td>\n",
       "      <td>35271.34</td>\n",
       "    </tr>\n",
       "    <tr>\n",
       "      <th>3</th>\n",
       "      <td>2020</td>\n",
       "      <td>P</td>\n",
       "      <td>24670.58</td>\n",
       "    </tr>\n",
       "    <tr>\n",
       "      <th>4</th>\n",
       "      <td>2020</td>\n",
       "      <td>W</td>\n",
       "      <td>3100.24</td>\n",
       "    </tr>\n",
       "    <tr>\n",
       "      <th>5</th>\n",
       "      <td>2020</td>\n",
       "      <td>E</td>\n",
       "      <td>483.73</td>\n",
       "    </tr>\n",
       "    <tr>\n",
       "      <th>6</th>\n",
       "      <td>2020</td>\n",
       "      <td>GR</td>\n",
       "      <td>296.80</td>\n",
       "    </tr>\n",
       "    <tr>\n",
       "      <th>7</th>\n",
       "      <td>2020</td>\n",
       "      <td>CR</td>\n",
       "      <td>265.51</td>\n",
       "    </tr>\n",
       "  </tbody>\n",
       "</table>\n",
       "</div>"
      ],
      "text/plain": [
       "   year commoditycode       tons\n",
       "0  2020             A  889267.50\n",
       "1  2020             R  259601.52\n",
       "2  2020            CA   35271.34\n",
       "3  2020             P   24670.58\n",
       "4  2020             W    3100.24\n",
       "5  2020             E     483.73\n",
       "6  2020            GR     296.80\n",
       "7  2020            CR     265.51"
      ]
     },
     "execution_count": 57,
     "metadata": {},
     "output_type": "execute_result"
    }
   ],
   "source": [
    "ccodes.head(8)"
   ]
  },
  {
   "cell_type": "code",
   "execution_count": 59,
   "metadata": {},
   "outputs": [],
   "source": [
    "ccodes_pivot = pd.pivot_table(\n",
    "    ccodes, columns=\"year\", values=\"tons\", index=\"commoditycode\", aggfunc={\"tons\": sum}\n",
    ").reset_index()"
   ]
  },
  {
   "cell_type": "code",
   "execution_count": 61,
   "metadata": {},
   "outputs": [],
   "source": [
    "before = [\"2016\", \"2017\", \"2018\", \"2019\"]"
   ]
  },
  {
   "cell_type": "code",
   "execution_count": 68,
   "metadata": {},
   "outputs": [],
   "source": [
    "ccodes_pivot[\"before\"] = ccodes_pivot[before].mean(axis=1).round(2)"
   ]
  },
  {
   "cell_type": "code",
   "execution_count": 69,
   "metadata": {},
   "outputs": [],
   "source": [
    "ccodes_pivot[\"change\"] = (\n",
    "    (ccodes_pivot[\"2020\"] - ccodes_pivot[\"before\"]) / ccodes_pivot[\"before\"] * 100\n",
    ").round(2)"
   ]
  },
  {
   "cell_type": "code",
   "execution_count": 72,
   "metadata": {},
   "outputs": [],
   "source": [
    "ccodes_pivot[\"diff\"] = ccodes_pivot[\"2020\"] - ccodes_pivot[\"before\"]"
   ]
  },
  {
   "cell_type": "code",
   "execution_count": 73,
   "metadata": {},
   "outputs": [
    {
     "data": {
      "text/html": [
       "<div>\n",
       "<style scoped>\n",
       "    .dataframe tbody tr th:only-of-type {\n",
       "        vertical-align: middle;\n",
       "    }\n",
       "\n",
       "    .dataframe tbody tr th {\n",
       "        vertical-align: top;\n",
       "    }\n",
       "\n",
       "    .dataframe thead th {\n",
       "        text-align: right;\n",
       "    }\n",
       "</style>\n",
       "<table border=\"1\" class=\"dataframe\">\n",
       "  <thead>\n",
       "    <tr style=\"text-align: right;\">\n",
       "      <th>year</th>\n",
       "      <th>commoditycode</th>\n",
       "      <th>2016</th>\n",
       "      <th>2017</th>\n",
       "      <th>2018</th>\n",
       "      <th>2019</th>\n",
       "      <th>2020</th>\n",
       "      <th>before</th>\n",
       "      <th>change</th>\n",
       "      <th>diff</th>\n",
       "    </tr>\n",
       "  </thead>\n",
       "  <tbody>\n",
       "    <tr>\n",
       "      <th>0</th>\n",
       "      <td>A</td>\n",
       "      <td>796118.42</td>\n",
       "      <td>810194.10</td>\n",
       "      <td>814262.48</td>\n",
       "      <td>829133.27</td>\n",
       "      <td>889267.50</td>\n",
       "      <td>812427.07</td>\n",
       "      <td>9.46</td>\n",
       "      <td>76840.43</td>\n",
       "    </tr>\n",
       "    <tr>\n",
       "      <th>1</th>\n",
       "      <td>CA</td>\n",
       "      <td>41315.35</td>\n",
       "      <td>46815.93</td>\n",
       "      <td>44149.93</td>\n",
       "      <td>45877.72</td>\n",
       "      <td>35271.34</td>\n",
       "      <td>44539.73</td>\n",
       "      <td>-20.81</td>\n",
       "      <td>-9268.39</td>\n",
       "    </tr>\n",
       "    <tr>\n",
       "      <th>2</th>\n",
       "      <td>CR</td>\n",
       "      <td>2305.94</td>\n",
       "      <td>3110.61</td>\n",
       "      <td>2194.45</td>\n",
       "      <td>1368.69</td>\n",
       "      <td>265.51</td>\n",
       "      <td>2244.92</td>\n",
       "      <td>-88.17</td>\n",
       "      <td>-1979.41</td>\n",
       "    </tr>\n",
       "    <tr>\n",
       "      <th>3</th>\n",
       "      <td>D</td>\n",
       "      <td>250.56</td>\n",
       "      <td>235.58</td>\n",
       "      <td>194.87</td>\n",
       "      <td>221.83</td>\n",
       "      <td>193.16</td>\n",
       "      <td>225.71</td>\n",
       "      <td>-14.42</td>\n",
       "      <td>-32.55</td>\n",
       "    </tr>\n",
       "    <tr>\n",
       "      <th>4</th>\n",
       "      <td>E</td>\n",
       "      <td>860.87</td>\n",
       "      <td>900.56</td>\n",
       "      <td>761.71</td>\n",
       "      <td>735.85</td>\n",
       "      <td>483.73</td>\n",
       "      <td>814.75</td>\n",
       "      <td>-40.63</td>\n",
       "      <td>-331.02</td>\n",
       "    </tr>\n",
       "    <tr>\n",
       "      <th>5</th>\n",
       "      <td>GR</td>\n",
       "      <td>NaN</td>\n",
       "      <td>29.57</td>\n",
       "      <td>177.16</td>\n",
       "      <td>283.28</td>\n",
       "      <td>296.80</td>\n",
       "      <td>163.34</td>\n",
       "      <td>81.71</td>\n",
       "      <td>133.46</td>\n",
       "    </tr>\n",
       "    <tr>\n",
       "      <th>6</th>\n",
       "      <td>P</td>\n",
       "      <td>21204.94</td>\n",
       "      <td>22348.49</td>\n",
       "      <td>24545.80</td>\n",
       "      <td>24287.73</td>\n",
       "      <td>24670.58</td>\n",
       "      <td>23096.74</td>\n",
       "      <td>6.81</td>\n",
       "      <td>1573.84</td>\n",
       "    </tr>\n",
       "    <tr>\n",
       "      <th>7</th>\n",
       "      <td>R</td>\n",
       "      <td>217728.59</td>\n",
       "      <td>213869.67</td>\n",
       "      <td>202186.95</td>\n",
       "      <td>206369.26</td>\n",
       "      <td>259601.52</td>\n",
       "      <td>210038.62</td>\n",
       "      <td>23.60</td>\n",
       "      <td>49562.90</td>\n",
       "    </tr>\n",
       "    <tr>\n",
       "      <th>8</th>\n",
       "      <td>W</td>\n",
       "      <td>1139.24</td>\n",
       "      <td>1513.86</td>\n",
       "      <td>1270.66</td>\n",
       "      <td>2015.71</td>\n",
       "      <td>3100.24</td>\n",
       "      <td>1484.87</td>\n",
       "      <td>108.79</td>\n",
       "      <td>1615.37</td>\n",
       "    </tr>\n",
       "  </tbody>\n",
       "</table>\n",
       "</div>"
      ],
      "text/plain": [
       "year commoditycode       2016       2017       2018       2019       2020  \\\n",
       "0                A  796118.42  810194.10  814262.48  829133.27  889267.50   \n",
       "1               CA   41315.35   46815.93   44149.93   45877.72   35271.34   \n",
       "2               CR    2305.94    3110.61    2194.45    1368.69     265.51   \n",
       "3                D     250.56     235.58     194.87     221.83     193.16   \n",
       "4                E     860.87     900.56     761.71     735.85     483.73   \n",
       "5               GR        NaN      29.57     177.16     283.28     296.80   \n",
       "6                P   21204.94   22348.49   24545.80   24287.73   24670.58   \n",
       "7                R  217728.59  213869.67  202186.95  206369.26  259601.52   \n",
       "8                W    1139.24    1513.86    1270.66    2015.71    3100.24   \n",
       "\n",
       "year     before  change      diff  \n",
       "0     812427.07    9.46  76840.43  \n",
       "1      44539.73  -20.81  -9268.39  \n",
       "2       2244.92  -88.17  -1979.41  \n",
       "3        225.71  -14.42    -32.55  \n",
       "4        814.75  -40.63   -331.02  \n",
       "5        163.34   81.71    133.46  \n",
       "6      23096.74    6.81   1573.84  \n",
       "7     210038.62   23.60  49562.90  \n",
       "8       1484.87  108.79   1615.37  "
      ]
     },
     "execution_count": 73,
     "metadata": {},
     "output_type": "execute_result"
    }
   ],
   "source": [
    "ccodes_pivot"
   ]
  },
  {
   "cell_type": "code",
   "execution_count": null,
   "metadata": {},
   "outputs": [],
   "source": []
  }
 ],
 "metadata": {
  "kernelspec": {
   "display_name": "notebooks",
   "language": "python",
   "name": "notebooks"
  },
  "language_info": {
   "codemirror_mode": {
    "name": "ipython",
    "version": 3
   },
   "file_extension": ".py",
   "mimetype": "text/x-python",
   "name": "python",
   "nbconvert_exporter": "python",
   "pygments_lexer": "ipython3",
   "version": "3.7.4"
  }
 },
 "nbformat": 4,
 "nbformat_minor": 4
}
