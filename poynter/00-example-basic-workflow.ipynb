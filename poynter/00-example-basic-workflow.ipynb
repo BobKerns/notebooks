{
 "cells": [
  {
   "cell_type": "markdown",
   "metadata": {},
   "source": [
    "# Using Python, Pandas and Jupyter for data journalism"
   ]
  },
  {
   "cell_type": "code",
   "execution_count": 1,
   "metadata": {},
   "outputs": [],
   "source": [
    "%load_ext lab_black"
   ]
  },
  {
   "cell_type": "code",
   "execution_count": 2,
   "metadata": {},
   "outputs": [],
   "source": [
    "import pandas as pd\n",
    "import altair as alt\n",
    "import altair_latimes as lat"
   ]
  },
  {
   "cell_type": "code",
   "execution_count": 3,
   "metadata": {
    "jupyter": {
     "source_hidden": true
    }
   },
   "outputs": [
    {
     "data": {
      "text/plain": [
       "DataTransformerRegistry.enable('default')"
      ]
     },
     "execution_count": 3,
     "metadata": {},
     "output_type": "execute_result"
    }
   ],
   "source": [
    "alt.themes.register(\"latimes\", lat.theme)\n",
    "alt.themes.enable(\"latimes\")\n",
    "pd.options.display.max_columns = 50\n",
    "pd.options.display.max_rows = 1000\n",
    "alt.data_transformers.disable_max_rows()"
   ]
  },
  {
   "cell_type": "markdown",
   "metadata": {},
   "source": [
    "### Fetch some County of Los Angeles employee payroll data from an open-data API"
   ]
  },
  {
   "cell_type": "code",
   "execution_count": 4,
   "metadata": {},
   "outputs": [],
   "source": [
    "# https://data.lacounty.gov/Human-Resources/LA-County-Employee-Salaries/8rdv-6nb6"
   ]
  },
  {
   "cell_type": "code",
   "execution_count": 5,
   "metadata": {},
   "outputs": [],
   "source": [
    "url = \"https://data.lacounty.gov/api/views/8rdv-6nb6/rows.csv?accessType=DOWNLOAD\""
   ]
  },
  {
   "cell_type": "markdown",
   "metadata": {},
   "source": [
    "### Import the data and store it as a variable"
   ]
  },
  {
   "cell_type": "code",
   "execution_count": 6,
   "metadata": {},
   "outputs": [],
   "source": [
    "df = pd.read_csv(url)"
   ]
  },
  {
   "cell_type": "markdown",
   "metadata": {},
   "source": [
    "### Remove uppercase characters and spaces from the headers"
   ]
  },
  {
   "cell_type": "code",
   "execution_count": 7,
   "metadata": {},
   "outputs": [],
   "source": [
    "df.columns = (\n",
    "    df.columns.str.lower().str.replace(\" \", \"_\").str.replace(\",\", \"\").str.lstrip(\"_\")\n",
    ")"
   ]
  },
  {
   "cell_type": "markdown",
   "metadata": {},
   "source": [
    "### Let's just get the most recent year"
   ]
  },
  {
   "cell_type": "code",
   "execution_count": 8,
   "metadata": {},
   "outputs": [],
   "source": [
    "df.year = df.year.astype(str)"
   ]
  },
  {
   "cell_type": "code",
   "execution_count": 9,
   "metadata": {},
   "outputs": [],
   "source": [
    "current_df = df[df[\"year\"] == \"2019\"]"
   ]
  },
  {
   "cell_type": "markdown",
   "metadata": {},
   "source": [
    "### What do the data look like?"
   ]
  },
  {
   "cell_type": "code",
   "execution_count": 10,
   "metadata": {},
   "outputs": [
    {
     "data": {
      "text/html": [
       "<div>\n",
       "<style scoped>\n",
       "    .dataframe tbody tr th:only-of-type {\n",
       "        vertical-align: middle;\n",
       "    }\n",
       "\n",
       "    .dataframe tbody tr th {\n",
       "        vertical-align: top;\n",
       "    }\n",
       "\n",
       "    .dataframe thead th {\n",
       "        text-align: right;\n",
       "    }\n",
       "</style>\n",
       "<table border=\"1\" class=\"dataframe\">\n",
       "  <thead>\n",
       "    <tr style=\"text-align: right;\">\n",
       "      <th></th>\n",
       "      <th>year</th>\n",
       "      <th>employee_last_name</th>\n",
       "      <th>employee_first_name</th>\n",
       "      <th>middle_initial</th>\n",
       "      <th>position_title</th>\n",
       "      <th>department</th>\n",
       "      <th>base_earnings</th>\n",
       "      <th>overtime_earnings</th>\n",
       "      <th>other_earnings</th>\n",
       "      <th>leave_time_payouts</th>\n",
       "      <th>total_earnings</th>\n",
       "      <th>medical_dental_vision</th>\n",
       "      <th>retirement_surcharge</th>\n",
       "      <th>pension_contributions</th>\n",
       "      <th>deferred_contributions</th>\n",
       "      <th>ltd_life_&amp;_medical_tax</th>\n",
       "      <th>other_benefits</th>\n",
       "      <th>total_benefits</th>\n",
       "      <th>total_compensation</th>\n",
       "      <th>employee_name</th>\n",
       "    </tr>\n",
       "  </thead>\n",
       "  <tbody>\n",
       "    <tr>\n",
       "      <th>0</th>\n",
       "      <td>2019</td>\n",
       "      <td>YEE</td>\n",
       "      <td>SALLY</td>\n",
       "      <td>NaN</td>\n",
       "      <td>SHERIFF STATION CLERK II</td>\n",
       "      <td>SHERIFF</td>\n",
       "      <td>54263.0</td>\n",
       "      <td>1397.0</td>\n",
       "      <td>3248.0</td>\n",
       "      <td>5016.0</td>\n",
       "      <td>63924.0</td>\n",
       "      <td>8890.0</td>\n",
       "      <td>0.0</td>\n",
       "      <td>11084.0</td>\n",
       "      <td>2171.0</td>\n",
       "      <td>1527.0</td>\n",
       "      <td>45.0</td>\n",
       "      <td>23717.0</td>\n",
       "      <td>87641.0</td>\n",
       "      <td>SALLY YEE</td>\n",
       "    </tr>\n",
       "    <tr>\n",
       "      <th>1</th>\n",
       "      <td>2019</td>\n",
       "      <td>YEE</td>\n",
       "      <td>SO</td>\n",
       "      <td>G</td>\n",
       "      <td>CASHIERING SERVICES REPRESENTATIVE I, SHERIFF</td>\n",
       "      <td>SHERIFF</td>\n",
       "      <td>23716.0</td>\n",
       "      <td>0.0</td>\n",
       "      <td>4099.0</td>\n",
       "      <td>1253.0</td>\n",
       "      <td>29068.0</td>\n",
       "      <td>15611.0</td>\n",
       "      <td>0.0</td>\n",
       "      <td>9593.0</td>\n",
       "      <td>1372.0</td>\n",
       "      <td>788.0</td>\n",
       "      <td>34.0</td>\n",
       "      <td>27399.0</td>\n",
       "      <td>56467.0</td>\n",
       "      <td>SO YEE</td>\n",
       "    </tr>\n",
       "    <tr>\n",
       "      <th>12</th>\n",
       "      <td>2019</td>\n",
       "      <td>YEE</td>\n",
       "      <td>TAI</td>\n",
       "      <td>C</td>\n",
       "      <td>AUDIO, VIDEO &amp; SECURITY SYST TECH</td>\n",
       "      <td>SHERIFF</td>\n",
       "      <td>88182.0</td>\n",
       "      <td>5073.0</td>\n",
       "      <td>8225.0</td>\n",
       "      <td>6695.0</td>\n",
       "      <td>108175.0</td>\n",
       "      <td>15635.0</td>\n",
       "      <td>0.0</td>\n",
       "      <td>18757.0</td>\n",
       "      <td>3527.0</td>\n",
       "      <td>1828.0</td>\n",
       "      <td>492.0</td>\n",
       "      <td>40240.0</td>\n",
       "      <td>148415.0</td>\n",
       "      <td>TAI YEE</td>\n",
       "    </tr>\n",
       "    <tr>\n",
       "      <th>15</th>\n",
       "      <td>2019</td>\n",
       "      <td>YEGAVIAN</td>\n",
       "      <td>BEDROS</td>\n",
       "      <td>R</td>\n",
       "      <td>DEPUTY SHERIFF</td>\n",
       "      <td>SHERIFF</td>\n",
       "      <td>97330.0</td>\n",
       "      <td>0.0</td>\n",
       "      <td>2298.0</td>\n",
       "      <td>0.0</td>\n",
       "      <td>99628.0</td>\n",
       "      <td>26001.0</td>\n",
       "      <td>2977.0</td>\n",
       "      <td>25473.0</td>\n",
       "      <td>3893.0</td>\n",
       "      <td>1692.0</td>\n",
       "      <td>6.0</td>\n",
       "      <td>60043.0</td>\n",
       "      <td>159671.0</td>\n",
       "      <td>BEDROS YEGAVIAN</td>\n",
       "    </tr>\n",
       "    <tr>\n",
       "      <th>17</th>\n",
       "      <td>2019</td>\n",
       "      <td>YEH</td>\n",
       "      <td>GREGORY</td>\n",
       "      <td>NaN</td>\n",
       "      <td>CRIME ANALYST,SHERIFF</td>\n",
       "      <td>SHERIFF</td>\n",
       "      <td>63582.0</td>\n",
       "      <td>724.0</td>\n",
       "      <td>1663.0</td>\n",
       "      <td>0.0</td>\n",
       "      <td>65968.0</td>\n",
       "      <td>11256.0</td>\n",
       "      <td>0.0</td>\n",
       "      <td>11940.0</td>\n",
       "      <td>2397.0</td>\n",
       "      <td>1169.0</td>\n",
       "      <td>216.0</td>\n",
       "      <td>26978.0</td>\n",
       "      <td>92947.0</td>\n",
       "      <td>GREGORY YEH</td>\n",
       "    </tr>\n",
       "  </tbody>\n",
       "</table>\n",
       "</div>"
      ],
      "text/plain": [
       "    year employee_last_name employee_first_name middle_initial  \\\n",
       "0   2019                YEE               SALLY            NaN   \n",
       "1   2019                YEE                  SO              G   \n",
       "12  2019                YEE                 TAI              C   \n",
       "15  2019           YEGAVIAN              BEDROS              R   \n",
       "17  2019                YEH             GREGORY            NaN   \n",
       "\n",
       "                                   position_title department  base_earnings  \\\n",
       "0                        SHERIFF STATION CLERK II    SHERIFF        54263.0   \n",
       "1   CASHIERING SERVICES REPRESENTATIVE I, SHERIFF    SHERIFF        23716.0   \n",
       "12              AUDIO, VIDEO & SECURITY SYST TECH    SHERIFF        88182.0   \n",
       "15                                 DEPUTY SHERIFF    SHERIFF        97330.0   \n",
       "17                          CRIME ANALYST,SHERIFF    SHERIFF        63582.0   \n",
       "\n",
       "    overtime_earnings  other_earnings  leave_time_payouts  total_earnings  \\\n",
       "0              1397.0          3248.0              5016.0         63924.0   \n",
       "1                 0.0          4099.0              1253.0         29068.0   \n",
       "12             5073.0          8225.0              6695.0        108175.0   \n",
       "15                0.0          2298.0                 0.0         99628.0   \n",
       "17              724.0          1663.0                 0.0         65968.0   \n",
       "\n",
       "    medical_dental_vision  retirement_surcharge  pension_contributions  \\\n",
       "0                  8890.0                   0.0                11084.0   \n",
       "1                 15611.0                   0.0                 9593.0   \n",
       "12                15635.0                   0.0                18757.0   \n",
       "15                26001.0                2977.0                25473.0   \n",
       "17                11256.0                   0.0                11940.0   \n",
       "\n",
       "    deferred_contributions  ltd_life_&_medical_tax  other_benefits  \\\n",
       "0                   2171.0                  1527.0            45.0   \n",
       "1                   1372.0                   788.0            34.0   \n",
       "12                  3527.0                  1828.0           492.0   \n",
       "15                  3893.0                  1692.0             6.0   \n",
       "17                  2397.0                  1169.0           216.0   \n",
       "\n",
       "    total_benefits  total_compensation    employee_name  \n",
       "0          23717.0             87641.0        SALLY YEE  \n",
       "1          27399.0             56467.0           SO YEE  \n",
       "12         40240.0            148415.0          TAI YEE  \n",
       "15         60043.0            159671.0  BEDROS YEGAVIAN  \n",
       "17         26978.0             92947.0      GREGORY YEH  "
      ]
     },
     "execution_count": 10,
     "metadata": {},
     "output_type": "execute_result"
    }
   ],
   "source": [
    "current_df.head()"
   ]
  },
  {
   "cell_type": "markdown",
   "metadata": {},
   "source": [
    "### How many employees were there in 2019? "
   ]
  },
  {
   "cell_type": "code",
   "execution_count": 11,
   "metadata": {},
   "outputs": [
    {
     "data": {
      "text/plain": [
       "110988"
      ]
     },
     "execution_count": 11,
     "metadata": {},
     "output_type": "execute_result"
    }
   ],
   "source": [
    "len(current_df)"
   ]
  },
  {
   "cell_type": "markdown",
   "metadata": {},
   "source": [
    "### How are the employees does the Sheriff's Department have? "
   ]
  },
  {
   "cell_type": "code",
   "execution_count": 12,
   "metadata": {},
   "outputs": [],
   "source": [
    "df_sheriff = current_df[current_df[\"department\"] == \"SHERIFF\"]"
   ]
  },
  {
   "cell_type": "code",
   "execution_count": 13,
   "metadata": {},
   "outputs": [
    {
     "data": {
      "text/plain": [
       "18427"
      ]
     },
     "execution_count": 13,
     "metadata": {},
     "output_type": "execute_result"
    }
   ],
   "source": [
    "len(df_sheriff)"
   ]
  },
  {
   "cell_type": "markdown",
   "metadata": {},
   "source": [
    "### Who are the highest paid employees at the Sheriff's Department? "
   ]
  },
  {
   "cell_type": "code",
   "execution_count": 14,
   "metadata": {},
   "outputs": [
    {
     "data": {
      "text/html": [
       "<div>\n",
       "<style scoped>\n",
       "    .dataframe tbody tr th:only-of-type {\n",
       "        vertical-align: middle;\n",
       "    }\n",
       "\n",
       "    .dataframe tbody tr th {\n",
       "        vertical-align: top;\n",
       "    }\n",
       "\n",
       "    .dataframe thead th {\n",
       "        text-align: right;\n",
       "    }\n",
       "</style>\n",
       "<table border=\"1\" class=\"dataframe\">\n",
       "  <thead>\n",
       "    <tr style=\"text-align: right;\">\n",
       "      <th></th>\n",
       "      <th>employee_name</th>\n",
       "      <th>position_title</th>\n",
       "      <th>department</th>\n",
       "      <th>overtime_earnings</th>\n",
       "      <th>total_earnings</th>\n",
       "    </tr>\n",
       "  </thead>\n",
       "  <tbody>\n",
       "    <tr>\n",
       "      <th>736745</th>\n",
       "      <td>MARIA GUTIERREZ</td>\n",
       "      <td>ASSISTANT SHERIFF/UC/</td>\n",
       "      <td>SHERIFF</td>\n",
       "      <td>0.0</td>\n",
       "      <td>613029.0</td>\n",
       "    </tr>\n",
       "    <tr>\n",
       "      <th>745225</th>\n",
       "      <td>JEFFREY SCROGGIN</td>\n",
       "      <td>COMMANDER</td>\n",
       "      <td>SHERIFF</td>\n",
       "      <td>0.0</td>\n",
       "      <td>587050.0</td>\n",
       "    </tr>\n",
       "    <tr>\n",
       "      <th>737105</th>\n",
       "      <td>KEVIN HEBERT</td>\n",
       "      <td>COMMANDER</td>\n",
       "      <td>SHERIFF</td>\n",
       "      <td>0.0</td>\n",
       "      <td>523597.0</td>\n",
       "    </tr>\n",
       "    <tr>\n",
       "      <th>746480</th>\n",
       "      <td>JAMES THORNTON JR</td>\n",
       "      <td>CAPTAIN</td>\n",
       "      <td>SHERIFF</td>\n",
       "      <td>0.0</td>\n",
       "      <td>522605.0</td>\n",
       "    </tr>\n",
       "    <tr>\n",
       "      <th>742452</th>\n",
       "      <td>ANTHONY PAEZ</td>\n",
       "      <td>DEPUTY SHERIFF</td>\n",
       "      <td>SHERIFF</td>\n",
       "      <td>0.0</td>\n",
       "      <td>485828.0</td>\n",
       "    </tr>\n",
       "    <tr>\n",
       "      <th>732598</th>\n",
       "      <td>TIMOTHY CARR</td>\n",
       "      <td>LIEUTENANT</td>\n",
       "      <td>SHERIFF</td>\n",
       "      <td>1.0</td>\n",
       "      <td>471757.0</td>\n",
       "    </tr>\n",
       "    <tr>\n",
       "      <th>741493</th>\n",
       "      <td>DAVID MOSER</td>\n",
       "      <td>SERGEANT</td>\n",
       "      <td>SHERIFF</td>\n",
       "      <td>5737.0</td>\n",
       "      <td>471207.0</td>\n",
       "    </tr>\n",
       "    <tr>\n",
       "      <th>747961</th>\n",
       "      <td>EDWARD WINSLOW</td>\n",
       "      <td>LIEUTENANT</td>\n",
       "      <td>SHERIFF</td>\n",
       "      <td>0.0</td>\n",
       "      <td>442888.0</td>\n",
       "    </tr>\n",
       "    <tr>\n",
       "      <th>735123</th>\n",
       "      <td>JOSEPH FENNELL JR</td>\n",
       "      <td>COMMANDER</td>\n",
       "      <td>SHERIFF</td>\n",
       "      <td>0.0</td>\n",
       "      <td>424623.0</td>\n",
       "    </tr>\n",
       "    <tr>\n",
       "      <th>746318</th>\n",
       "      <td>JON TEDDER</td>\n",
       "      <td>SERGEANT</td>\n",
       "      <td>SHERIFF</td>\n",
       "      <td>51633.0</td>\n",
       "      <td>419081.0</td>\n",
       "    </tr>\n",
       "  </tbody>\n",
       "</table>\n",
       "</div>"
      ],
      "text/plain": [
       "            employee_name         position_title department  \\\n",
       "736745    MARIA GUTIERREZ  ASSISTANT SHERIFF/UC/    SHERIFF   \n",
       "745225   JEFFREY SCROGGIN              COMMANDER    SHERIFF   \n",
       "737105       KEVIN HEBERT              COMMANDER    SHERIFF   \n",
       "746480  JAMES THORNTON JR                CAPTAIN    SHERIFF   \n",
       "742452       ANTHONY PAEZ         DEPUTY SHERIFF    SHERIFF   \n",
       "732598       TIMOTHY CARR             LIEUTENANT    SHERIFF   \n",
       "741493        DAVID MOSER               SERGEANT    SHERIFF   \n",
       "747961     EDWARD WINSLOW             LIEUTENANT    SHERIFF   \n",
       "735123  JOSEPH FENNELL JR              COMMANDER    SHERIFF   \n",
       "746318         JON TEDDER               SERGEANT    SHERIFF   \n",
       "\n",
       "        overtime_earnings  total_earnings  \n",
       "736745                0.0        613029.0  \n",
       "745225                0.0        587050.0  \n",
       "737105                0.0        523597.0  \n",
       "746480                0.0        522605.0  \n",
       "742452                0.0        485828.0  \n",
       "732598                1.0        471757.0  \n",
       "741493             5737.0        471207.0  \n",
       "747961                0.0        442888.0  \n",
       "735123                0.0        424623.0  \n",
       "746318            51633.0        419081.0  "
      ]
     },
     "execution_count": 14,
     "metadata": {},
     "output_type": "execute_result"
    }
   ],
   "source": [
    "df_sheriff[\n",
    "    [\n",
    "        \"employee_name\",\n",
    "        \"position_title\",\n",
    "        \"department\",\n",
    "        \"overtime_earnings\",\n",
    "        \"total_earnings\",\n",
    "    ]\n",
    "].sort_values(\"total_earnings\", ascending=False).head(10)"
   ]
  },
  {
   "cell_type": "markdown",
   "metadata": {},
   "source": [
    "### Who earns the most in overtime, countywide? "
   ]
  },
  {
   "cell_type": "code",
   "execution_count": 15,
   "metadata": {},
   "outputs": [
    {
     "data": {
      "text/html": [
       "<div>\n",
       "<style scoped>\n",
       "    .dataframe tbody tr th:only-of-type {\n",
       "        vertical-align: middle;\n",
       "    }\n",
       "\n",
       "    .dataframe tbody tr th {\n",
       "        vertical-align: top;\n",
       "    }\n",
       "\n",
       "    .dataframe thead th {\n",
       "        text-align: right;\n",
       "    }\n",
       "</style>\n",
       "<table border=\"1\" class=\"dataframe\">\n",
       "  <thead>\n",
       "    <tr style=\"text-align: right;\">\n",
       "      <th></th>\n",
       "      <th>employee_name</th>\n",
       "      <th>position_title</th>\n",
       "      <th>department</th>\n",
       "      <th>overtime_earnings</th>\n",
       "      <th>total_earnings</th>\n",
       "    </tr>\n",
       "  </thead>\n",
       "  <tbody>\n",
       "    <tr>\n",
       "      <th>662755</th>\n",
       "      <td>ERIC PACHECO</td>\n",
       "      <td>SENIOR PILOT, FIRE SERVICES</td>\n",
       "      <td>FIRE DEPARTMENT</td>\n",
       "      <td>294028.0</td>\n",
       "      <td>471745.0</td>\n",
       "    </tr>\n",
       "    <tr>\n",
       "      <th>663464</th>\n",
       "      <td>THOMAS SHORT</td>\n",
       "      <td>SENIOR PILOT, FIRE SERVICES</td>\n",
       "      <td>FIRE DEPARTMENT</td>\n",
       "      <td>259046.0</td>\n",
       "      <td>452924.0</td>\n",
       "    </tr>\n",
       "    <tr>\n",
       "      <th>663032</th>\n",
       "      <td>THOMAS RAY</td>\n",
       "      <td>BATTALION CHIEF/56 HOURS/</td>\n",
       "      <td>FIRE DEPARTMENT</td>\n",
       "      <td>251074.0</td>\n",
       "      <td>471220.0</td>\n",
       "    </tr>\n",
       "    <tr>\n",
       "      <th>727722</th>\n",
       "      <td>SOHEIL NAJIBI</td>\n",
       "      <td>PHYS SPEC SURGERY-ORTHOPEDICS NON MEGAFLEX</td>\n",
       "      <td>RANCHO LOS AMIGOS NATIONAL REHABILITATION CENTER</td>\n",
       "      <td>235889.0</td>\n",
       "      <td>665021.0</td>\n",
       "    </tr>\n",
       "    <tr>\n",
       "      <th>663953</th>\n",
       "      <td>RYAN VAN DYCK</td>\n",
       "      <td>PILOT, FIRE SERVICES</td>\n",
       "      <td>FIRE DEPARTMENT</td>\n",
       "      <td>229193.0</td>\n",
       "      <td>374176.0</td>\n",
       "    </tr>\n",
       "    <tr>\n",
       "      <th>663298</th>\n",
       "      <td>MICHAEL SAGELY</td>\n",
       "      <td>SENIOR PILOT, FIRE SERVICES</td>\n",
       "      <td>FIRE DEPARTMENT</td>\n",
       "      <td>221455.0</td>\n",
       "      <td>412577.0</td>\n",
       "    </tr>\n",
       "    <tr>\n",
       "      <th>659709</th>\n",
       "      <td>RANDALL BISHOP</td>\n",
       "      <td>FIRE FIGHTER (56 HOUR)</td>\n",
       "      <td>FIRE DEPARTMENT</td>\n",
       "      <td>215228.0</td>\n",
       "      <td>371325.0</td>\n",
       "    </tr>\n",
       "    <tr>\n",
       "      <th>661584</th>\n",
       "      <td>MEDARDO JUAREZ</td>\n",
       "      <td>FIRE FIGHTER SPECIALIST (56 HOUR)</td>\n",
       "      <td>FIRE DEPARTMENT</td>\n",
       "      <td>211994.0</td>\n",
       "      <td>357565.0</td>\n",
       "    </tr>\n",
       "    <tr>\n",
       "      <th>659768</th>\n",
       "      <td>MATTHEW BOYAN</td>\n",
       "      <td>FIRE CAPTAIN (56 HOUR)</td>\n",
       "      <td>FIRE DEPARTMENT</td>\n",
       "      <td>211411.0</td>\n",
       "      <td>365205.0</td>\n",
       "    </tr>\n",
       "    <tr>\n",
       "      <th>662745</th>\n",
       "      <td>ALEX OWENS</td>\n",
       "      <td>FIRE CAPTAIN (56 HOUR)</td>\n",
       "      <td>FIRE DEPARTMENT</td>\n",
       "      <td>210996.0</td>\n",
       "      <td>370178.0</td>\n",
       "    </tr>\n",
       "  </tbody>\n",
       "</table>\n",
       "</div>"
      ],
      "text/plain": [
       "         employee_name                              position_title  \\\n",
       "662755    ERIC PACHECO                 SENIOR PILOT, FIRE SERVICES   \n",
       "663464    THOMAS SHORT                 SENIOR PILOT, FIRE SERVICES   \n",
       "663032      THOMAS RAY                   BATTALION CHIEF/56 HOURS/   \n",
       "727722   SOHEIL NAJIBI  PHYS SPEC SURGERY-ORTHOPEDICS NON MEGAFLEX   \n",
       "663953   RYAN VAN DYCK                        PILOT, FIRE SERVICES   \n",
       "663298  MICHAEL SAGELY                 SENIOR PILOT, FIRE SERVICES   \n",
       "659709  RANDALL BISHOP                      FIRE FIGHTER (56 HOUR)   \n",
       "661584  MEDARDO JUAREZ           FIRE FIGHTER SPECIALIST (56 HOUR)   \n",
       "659768   MATTHEW BOYAN                      FIRE CAPTAIN (56 HOUR)   \n",
       "662745      ALEX OWENS                      FIRE CAPTAIN (56 HOUR)   \n",
       "\n",
       "                                              department  overtime_earnings  \\\n",
       "662755                                   FIRE DEPARTMENT           294028.0   \n",
       "663464                                   FIRE DEPARTMENT           259046.0   \n",
       "663032                                   FIRE DEPARTMENT           251074.0   \n",
       "727722  RANCHO LOS AMIGOS NATIONAL REHABILITATION CENTER           235889.0   \n",
       "663953                                   FIRE DEPARTMENT           229193.0   \n",
       "663298                                   FIRE DEPARTMENT           221455.0   \n",
       "659709                                   FIRE DEPARTMENT           215228.0   \n",
       "661584                                   FIRE DEPARTMENT           211994.0   \n",
       "659768                                   FIRE DEPARTMENT           211411.0   \n",
       "662745                                   FIRE DEPARTMENT           210996.0   \n",
       "\n",
       "        total_earnings  \n",
       "662755        471745.0  \n",
       "663464        452924.0  \n",
       "663032        471220.0  \n",
       "727722        665021.0  \n",
       "663953        374176.0  \n",
       "663298        412577.0  \n",
       "659709        371325.0  \n",
       "661584        357565.0  \n",
       "659768        365205.0  \n",
       "662745        370178.0  "
      ]
     },
     "execution_count": 15,
     "metadata": {},
     "output_type": "execute_result"
    }
   ],
   "source": [
    "current_df[\n",
    "    [\n",
    "        \"employee_name\",\n",
    "        \"position_title\",\n",
    "        \"department\",\n",
    "        \"overtime_earnings\",\n",
    "        \"total_earnings\",\n",
    "    ]\n",
    "].sort_values(\"overtime_earnings\", ascending=False).head(10)"
   ]
  },
  {
   "cell_type": "code",
   "execution_count": 16,
   "metadata": {},
   "outputs": [],
   "source": [
    "pilots = current_df[current_df[\"position_title\"].str.contains(\"PILOT\")]"
   ]
  },
  {
   "cell_type": "code",
   "execution_count": 17,
   "metadata": {},
   "outputs": [
    {
     "data": {
      "text/html": [
       "<div>\n",
       "<style scoped>\n",
       "    .dataframe tbody tr th:only-of-type {\n",
       "        vertical-align: middle;\n",
       "    }\n",
       "\n",
       "    .dataframe tbody tr th {\n",
       "        vertical-align: top;\n",
       "    }\n",
       "\n",
       "    .dataframe thead th {\n",
       "        text-align: right;\n",
       "    }\n",
       "</style>\n",
       "<table border=\"1\" class=\"dataframe\">\n",
       "  <thead>\n",
       "    <tr style=\"text-align: right;\">\n",
       "      <th></th>\n",
       "      <th>employee_name</th>\n",
       "      <th>position_title</th>\n",
       "      <th>department</th>\n",
       "      <th>overtime_earnings</th>\n",
       "      <th>total_earnings</th>\n",
       "    </tr>\n",
       "  </thead>\n",
       "  <tbody>\n",
       "    <tr>\n",
       "      <th>662755</th>\n",
       "      <td>ERIC PACHECO</td>\n",
       "      <td>SENIOR PILOT, FIRE SERVICES</td>\n",
       "      <td>FIRE DEPARTMENT</td>\n",
       "      <td>294028.0</td>\n",
       "      <td>471745.0</td>\n",
       "    </tr>\n",
       "    <tr>\n",
       "      <th>663464</th>\n",
       "      <td>THOMAS SHORT</td>\n",
       "      <td>SENIOR PILOT, FIRE SERVICES</td>\n",
       "      <td>FIRE DEPARTMENT</td>\n",
       "      <td>259046.0</td>\n",
       "      <td>452924.0</td>\n",
       "    </tr>\n",
       "    <tr>\n",
       "      <th>663953</th>\n",
       "      <td>RYAN VAN DYCK</td>\n",
       "      <td>PILOT, FIRE SERVICES</td>\n",
       "      <td>FIRE DEPARTMENT</td>\n",
       "      <td>229193.0</td>\n",
       "      <td>374176.0</td>\n",
       "    </tr>\n",
       "    <tr>\n",
       "      <th>663298</th>\n",
       "      <td>MICHAEL SAGELY</td>\n",
       "      <td>SENIOR PILOT, FIRE SERVICES</td>\n",
       "      <td>FIRE DEPARTMENT</td>\n",
       "      <td>221455.0</td>\n",
       "      <td>412577.0</td>\n",
       "    </tr>\n",
       "    <tr>\n",
       "      <th>661512</th>\n",
       "      <td>ETHAN JENSEN</td>\n",
       "      <td>PILOT, FIRE SERVICES</td>\n",
       "      <td>FIRE DEPARTMENT</td>\n",
       "      <td>208019.0</td>\n",
       "      <td>351712.0</td>\n",
       "    </tr>\n",
       "    <tr>\n",
       "      <th>661309</th>\n",
       "      <td>ADAM HENRY</td>\n",
       "      <td>PILOT, FIRE SERVICES</td>\n",
       "      <td>FIRE DEPARTMENT</td>\n",
       "      <td>203077.0</td>\n",
       "      <td>358597.0</td>\n",
       "    </tr>\n",
       "    <tr>\n",
       "      <th>661058</th>\n",
       "      <td>PAUL GOTTWIG</td>\n",
       "      <td>SENIOR PILOT, FIRE SERVICES</td>\n",
       "      <td>FIRE DEPARTMENT</td>\n",
       "      <td>201938.0</td>\n",
       "      <td>358571.0</td>\n",
       "    </tr>\n",
       "    <tr>\n",
       "      <th>663142</th>\n",
       "      <td>THOMAS ROBERTS</td>\n",
       "      <td>PILOT, FIRE SERVICES</td>\n",
       "      <td>FIRE DEPARTMENT</td>\n",
       "      <td>79951.0</td>\n",
       "      <td>200629.0</td>\n",
       "    </tr>\n",
       "    <tr>\n",
       "      <th>663638</th>\n",
       "      <td>PATRICK STEFANSKI</td>\n",
       "      <td>PILOT, FIRE SERVICES</td>\n",
       "      <td>FIRE DEPARTMENT</td>\n",
       "      <td>31224.0</td>\n",
       "      <td>214395.0</td>\n",
       "    </tr>\n",
       "    <tr>\n",
       "      <th>664174</th>\n",
       "      <td>KENYON WILLIAMS</td>\n",
       "      <td>PILOT, FIRE SERVICES</td>\n",
       "      <td>FIRE DEPARTMENT</td>\n",
       "      <td>25030.0</td>\n",
       "      <td>53062.0</td>\n",
       "    </tr>\n",
       "  </tbody>\n",
       "</table>\n",
       "</div>"
      ],
      "text/plain": [
       "            employee_name               position_title       department  \\\n",
       "662755       ERIC PACHECO  SENIOR PILOT, FIRE SERVICES  FIRE DEPARTMENT   \n",
       "663464       THOMAS SHORT  SENIOR PILOT, FIRE SERVICES  FIRE DEPARTMENT   \n",
       "663953      RYAN VAN DYCK         PILOT, FIRE SERVICES  FIRE DEPARTMENT   \n",
       "663298     MICHAEL SAGELY  SENIOR PILOT, FIRE SERVICES  FIRE DEPARTMENT   \n",
       "661512       ETHAN JENSEN         PILOT, FIRE SERVICES  FIRE DEPARTMENT   \n",
       "661309         ADAM HENRY         PILOT, FIRE SERVICES  FIRE DEPARTMENT   \n",
       "661058       PAUL GOTTWIG  SENIOR PILOT, FIRE SERVICES  FIRE DEPARTMENT   \n",
       "663142     THOMAS ROBERTS         PILOT, FIRE SERVICES  FIRE DEPARTMENT   \n",
       "663638  PATRICK STEFANSKI         PILOT, FIRE SERVICES  FIRE DEPARTMENT   \n",
       "664174    KENYON WILLIAMS         PILOT, FIRE SERVICES  FIRE DEPARTMENT   \n",
       "\n",
       "        overtime_earnings  total_earnings  \n",
       "662755           294028.0        471745.0  \n",
       "663464           259046.0        452924.0  \n",
       "663953           229193.0        374176.0  \n",
       "663298           221455.0        412577.0  \n",
       "661512           208019.0        351712.0  \n",
       "661309           203077.0        358597.0  \n",
       "661058           201938.0        358571.0  \n",
       "663142            79951.0        200629.0  \n",
       "663638            31224.0        214395.0  \n",
       "664174            25030.0         53062.0  "
      ]
     },
     "execution_count": 17,
     "metadata": {},
     "output_type": "execute_result"
    }
   ],
   "source": [
    "pilots[\n",
    "    [\n",
    "        \"employee_name\",\n",
    "        \"position_title\",\n",
    "        \"department\",\n",
    "        \"overtime_earnings\",\n",
    "        \"total_earnings\",\n",
    "    ]\n",
    "].sort_values(\"overtime_earnings\", ascending=False).head(10)"
   ]
  },
  {
   "cell_type": "markdown",
   "metadata": {},
   "source": [
    "### What's the average overtime, by department? "
   ]
  },
  {
   "cell_type": "code",
   "execution_count": 18,
   "metadata": {},
   "outputs": [],
   "source": [
    "ot = (\n",
    "    current_df.groupby([\"department\"])\n",
    "    .agg({\"overtime_earnings\": \"mean\"})\n",
    "    .reset_index()\n",
    "    .round()\n",
    ")"
   ]
  },
  {
   "cell_type": "markdown",
   "metadata": {},
   "source": [
    "### Chart the top spending overtime spending departments"
   ]
  },
  {
   "cell_type": "code",
   "execution_count": 19,
   "metadata": {},
   "outputs": [],
   "source": [
    "ot_top = ot.sort_values(\"overtime_earnings\", ascending=False).head(10)"
   ]
  },
  {
   "cell_type": "code",
   "execution_count": 20,
   "metadata": {},
   "outputs": [
    {
     "data": {
      "text/html": [
       "\n",
       "<div id=\"altair-viz-c875436ee4244abf9fda54074538fdcf\"></div>\n",
       "<script type=\"text/javascript\">\n",
       "  (function(spec, embedOpt){\n",
       "    const outputDiv = document.getElementById(\"altair-viz-c875436ee4244abf9fda54074538fdcf\");\n",
       "    const paths = {\n",
       "      \"vega\": \"https://cdn.jsdelivr.net/npm//vega@5?noext\",\n",
       "      \"vega-lib\": \"https://cdn.jsdelivr.net/npm//vega-lib?noext\",\n",
       "      \"vega-lite\": \"https://cdn.jsdelivr.net/npm//vega-lite@4.0.2?noext\",\n",
       "      \"vega-embed\": \"https://cdn.jsdelivr.net/npm//vega-embed@6?noext\",\n",
       "    };\n",
       "\n",
       "    function loadScript(lib) {\n",
       "      return new Promise(function(resolve, reject) {\n",
       "        var s = document.createElement('script');\n",
       "        s.src = paths[lib];\n",
       "        s.async = true;\n",
       "        s.onload = () => resolve(paths[lib]);\n",
       "        s.onerror = () => reject(`Error loading script: ${paths[lib]}`);\n",
       "        document.getElementsByTagName(\"head\")[0].appendChild(s);\n",
       "      });\n",
       "    }\n",
       "\n",
       "    function showError(err) {\n",
       "      outputDiv.innerHTML = `<div class=\"error\" style=\"color:red;\">${err}</div>`;\n",
       "      throw err;\n",
       "    }\n",
       "\n",
       "    function displayChart(vegaEmbed) {\n",
       "      vegaEmbed(outputDiv, spec, embedOpt)\n",
       "        .catch(err => showError(`Javascript Error: ${err.message}<br>This usually means there's a typo in your chart specification. See the javascript console for the full traceback.`));\n",
       "    }\n",
       "\n",
       "    if(typeof define === \"function\" && define.amd) {\n",
       "      requirejs.config({paths});\n",
       "      require([\"vega-embed\"], displayChart, err => showError(`Error loading script: ${err.message}`));\n",
       "    } else if (typeof vegaEmbed === \"function\") {\n",
       "      displayChart(vegaEmbed);\n",
       "    } else {\n",
       "      loadScript(\"vega\")\n",
       "        .then(() => loadScript(\"vega-lite\"))\n",
       "        .then(() => loadScript(\"vega-embed\"))\n",
       "        .catch(showError)\n",
       "        .then(() => displayChart(vegaEmbed));\n",
       "    }\n",
       "  })({\"config\": {\"view\": {\"width\": 800, \"height\": 450}, \"background\": \"#ffffff\", \"title\": {\"anchor\": \"start\", \"font\": \"Benton Gothic Bold, sans\", \"fontColor\": \"#000000\", \"fontSize\": 22, \"fontWeight\": \"normal\"}, \"arc\": {\"fill\": \"#82c6df\"}, \"area\": {\"fill\": \"#82c6df\"}, \"line\": {\"stroke\": \"#82c6df\", \"strokeWidth\": 3}, \"path\": {\"stroke\": \"#82c6df\"}, \"rect\": {\"fill\": \"#82c6df\"}, \"shape\": {\"stroke\": \"#82c6df\"}, \"bar\": {\"fill\": \"#82c6df\"}, \"point\": {\"stroke\": \"#82c6df\"}, \"symbol\": {\"fill\": \"#82c6df\", \"size\": 30}, \"axis\": {\"titleFont\": \"Benton Gothic Bold, sans\", \"titleFontSize\": 13, \"titleFontWeight\": \"normal\", \"labelFont\": \"Benton Gothic, sans\", \"labelFontSize\": 11.5, \"labelFontWeight\": \"normal\"}, \"axisX\": {\"labelAngle\": 0, \"labelPadding\": 4, \"tickSize\": 3}, \"axisY\": {\"labelBaseline\": \"middle\", \"maxExtent\": 45, \"minExtent\": 45, \"tickSize\": 2, \"titleAlign\": \"left\", \"titleAngle\": 0, \"titleX\": -45, \"titleY\": -11}, \"legend\": {\"titleFont\": \"Benton Gothic Bold, sans\", \"titleFontSize\": 13, \"titleFontWeight\": \"normal\", \"symbolType\": \"square\", \"labelFont\": \"Benton Gothic, sans\", \"labelFontSize\": 11.5}, \"range\": {\"category\": [\"#3580b1\", \"#ec8431\", \"#ab7fb4\", \"#c89d29\", \"#adc839\", \"#829eb1\"], \"diverging\": [\"#e68a4f\", \"#f4bb6a\", \"#f9e39c\", \"#dadfe2\", \"#a6b7c6\", \"#849eae\"], \"heatmap\": [\"#fbf2c7\", \"#f9e39c\", \"#f8d36e\", \"#f4bb6a\", \"#e68a4f\", \"#d15a40\", \"#ab4232\"], \"ordinal\": [\"#fbf2c7\", \"#f9e39c\", \"#f8d36e\", \"#f4bb6a\", \"#e68a4f\", \"#d15a40\", \"#ab4232\"], \"ramp\": [\"#fbf2c7\", \"#f9e39c\", \"#f8d36e\", \"#f4bb6a\", \"#e68a4f\", \"#d15a40\", \"#ab4232\"]}}, \"data\": {\"name\": \"data-2880012ee6a95e44aace6792dce3b9ef\"}, \"mark\": \"bar\", \"encoding\": {\"x\": {\"type\": \"quantitative\", \"field\": \"overtime_earnings\"}, \"y\": {\"type\": \"nominal\", \"field\": \"department\", \"sort\": \"-x\"}}, \"height\": 500, \"width\": 320, \"$schema\": \"https://vega.github.io/schema/vega-lite/v4.0.2.json\", \"datasets\": {\"data-2880012ee6a95e44aace6792dce3b9ef\": [{\"department\": \"FIRE DEPARTMENT\", \"overtime_earnings\": 44314.0}, {\"department\": \"SHERIFF\", \"overtime_earnings\": 15445.0}, {\"department\": \"HEALTH SERVICES - INTEGRATED CORRECTIONAL HEALTH SERVICES\", \"overtime_earnings\": 8205.0}, {\"department\": \"MUSEUM OF NATURAL HISTORY\", \"overtime_earnings\": 7272.0}, {\"department\": \"PROBATION DEPARTMENT\", \"overtime_earnings\": 5558.0}, {\"department\": \"HARBOR CARE SOUTH\", \"overtime_earnings\": 4129.0}, {\"department\": \"OLIVE VIEW-UCLA MEDICAL CENTER\", \"overtime_earnings\": 4124.0}, {\"department\": \"LAC+USC MEDICAL CENTER\", \"overtime_earnings\": 4051.0}, {\"department\": \"DEPARTMENT OF MEDICAL EXAMINER - CORONER\", \"overtime_earnings\": 4023.0}, {\"department\": \"PUBLIC WORKS DEPARTMENT\", \"overtime_earnings\": 3898.0}]}}, {\"mode\": \"vega-lite\"});\n",
       "</script>"
      ],
      "text/plain": [
       "alt.Chart(...)"
      ]
     },
     "execution_count": 20,
     "metadata": {},
     "output_type": "execute_result"
    }
   ],
   "source": [
    "alt.Chart(ot_top).mark_bar().encode(\n",
    "    x=\"overtime_earnings\", y=alt.Y(\"department:N\", sort=\"-x\")\n",
    ").properties(height=500, width=320)"
   ]
  },
  {
   "cell_type": "markdown",
   "metadata": {},
   "source": [
    "### How has overtime at the Fire Department changed over time?"
   ]
  },
  {
   "cell_type": "code",
   "execution_count": 27,
   "metadata": {},
   "outputs": [],
   "source": [
    "fire = df[df[\"department\"].str.contains(\"FIRE DEPARTMENT\")]"
   ]
  },
  {
   "cell_type": "code",
   "execution_count": 28,
   "metadata": {},
   "outputs": [],
   "source": [
    "fire_ot = (\n",
    "    fire.groupby([\"year\"]).agg({\"overtime_earnings\": \"mean\"}).reset_index().round()\n",
    ")"
   ]
  },
  {
   "cell_type": "code",
   "execution_count": 29,
   "metadata": {},
   "outputs": [
    {
     "data": {
      "text/html": [
       "<div>\n",
       "<style scoped>\n",
       "    .dataframe tbody tr th:only-of-type {\n",
       "        vertical-align: middle;\n",
       "    }\n",
       "\n",
       "    .dataframe tbody tr th {\n",
       "        vertical-align: top;\n",
       "    }\n",
       "\n",
       "    .dataframe thead th {\n",
       "        text-align: right;\n",
       "    }\n",
       "</style>\n",
       "<table border=\"1\" class=\"dataframe\">\n",
       "  <thead>\n",
       "    <tr style=\"text-align: right;\">\n",
       "      <th></th>\n",
       "      <th>year</th>\n",
       "      <th>overtime_earnings</th>\n",
       "    </tr>\n",
       "  </thead>\n",
       "  <tbody>\n",
       "    <tr>\n",
       "      <th>0</th>\n",
       "      <td>2018</td>\n",
       "      <td>41190.0</td>\n",
       "    </tr>\n",
       "    <tr>\n",
       "      <th>1</th>\n",
       "      <td>2019</td>\n",
       "      <td>44314.0</td>\n",
       "    </tr>\n",
       "  </tbody>\n",
       "</table>\n",
       "</div>"
      ],
      "text/plain": [
       "   year  overtime_earnings\n",
       "0  2018            41190.0\n",
       "1  2019            44314.0"
      ]
     },
     "execution_count": 29,
     "metadata": {},
     "output_type": "execute_result"
    }
   ],
   "source": [
    "fire_ot"
   ]
  },
  {
   "cell_type": "code",
   "execution_count": null,
   "metadata": {},
   "outputs": [],
   "source": []
  }
 ],
 "metadata": {
  "kernelspec": {
   "display_name": "Python 3",
   "language": "python",
   "name": "python3"
  },
  "language_info": {
   "codemirror_mode": {
    "name": "ipython",
    "version": 3
   },
   "file_extension": ".py",
   "mimetype": "text/x-python",
   "name": "python",
   "nbconvert_exporter": "python",
   "pygments_lexer": "ipython3",
   "version": "3.7.4"
  }
 },
 "nbformat": 4,
 "nbformat_minor": 4
}
