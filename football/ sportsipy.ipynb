{
 "cells": [
  {
   "cell_type": "markdown",
   "metadata": {},
   "source": [
    "# Access sports-reference.com data with sportsipy"
   ]
  },
  {
   "cell_type": "markdown",
   "metadata": {},
   "source": [
    "---"
   ]
  },
  {
   "cell_type": "markdown",
   "metadata": {},
   "source": [
    "### Import Python tools"
   ]
  },
  {
   "cell_type": "code",
   "execution_count": 1,
   "metadata": {},
   "outputs": [],
   "source": [
    "%load_ext lab_black"
   ]
  },
  {
   "cell_type": "code",
   "execution_count": 2,
   "metadata": {},
   "outputs": [],
   "source": [
    "import pandas as pd\n",
    "import geopandas as gpd\n",
    "import jenkspy\n",
    "import matplotlib.pyplot as plt\n",
    "\n",
    "%matplotlib inline\n",
    "import json\n",
    "import numpy as np\n",
    "import altair as alt\n",
    "import altair_latimes as lat\n",
    "\n",
    "alt.themes.register(\"latimes\", lat.theme)\n",
    "alt.themes.enable(\"latimes\")\n",
    "pd.options.display.max_columns = 50\n",
    "pd.options.display.max_rows = 1000\n",
    "alt.data_transformers.disable_max_rows()"
   ]
  },
  {
   "cell_type": "code",
   "execution_count": 40,
   "metadata": {},
   "outputs": [],
   "source": [
    "from sportsipy.fb.team import Team\n",
    "from sportsipy.fb.schedule import Schedule\n",
    "from sportsipy.fb.roster import Roster"
   ]
  },
  {
   "cell_type": "markdown",
   "metadata": {},
   "source": [
    "### Premier League clubs"
   ]
  },
  {
   "cell_type": "code",
   "execution_count": 87,
   "metadata": {},
   "outputs": [],
   "source": [
    "clubs = [\n",
    "    {\"name\": \"Burnley\", \"code\": \"BUR\", \"country\": \"England\", \"id\": \"943e8050\"},\n",
    "    {\n",
    "        \"name\": \"Manchester United\",\n",
    "        \"code\": \"MUN\",\n",
    "        \"country\": \"England\",\n",
    "        \"id\": \"19538871\",\n",
    "    },\n",
    "    {\"name\": \"Manchester City\", \"code\": \"MCI\", \"country\": \"England\", \"id\": \"b8fd03ef\"},\n",
    "    {\"name\": \"Aston Villa\", \"code\": \"AVL\", \"country\": \"England\", \"id\": \"8602292d\"},\n",
    "    {\"name\": \"Fulham\", \"code\": \"FUL\", \"country\": \"England\", \"id\": \"fd962109\"},\n",
    "    {\"name\": \"Arsenal\", \"code\": \"ARS\", \"country\": \"England\", \"id\": \"18bb7c10\"},\n",
    "    {\"name\": \"Crystal Palace\", \"code\": \"CRY\", \"country\": \"England\", \"id\": \"47c64c55\"},\n",
    "    {\"name\": \"Southampton\", \"code\": \"SOU\", \"country\": \"England\", \"id\": \"33c895d4\"},\n",
    "    {\"name\": \"Liverpool\", \"code\": \"LIV\", \"country\": \"England\", \"id\": \"e87167c6\"},\n",
    "    {\"name\": \"Leeds United\", \"code\": \"LEE\", \"country\": \"England\", \"id\": \"5bfb9659\"},\n",
    "    {\"name\": \"West Ham United\", \"code\": \"WHU\", \"country\": \"England\", \"id\": \"52d65cea\"},\n",
    "    {\"name\": \"Newcastle United\", \"code\": \"NEW\", \"country\": \"England\", \"id\": \"b2b47a98\"},\n",
    "    {\n",
    "        \"name\": \"West Bromwich Albion\",\n",
    "        \"code\": \"WBA\",\n",
    "        \"country\": \"England\",\n",
    "        \"id\": \"60c6b05f\",\n",
    "    },\n",
    "    {\"name\": \"Leicester City\", \"code\": \"LEI\", \"country\": \"England\", \"id\": \"a2d435b3\"},\n",
    "    {\n",
    "        \"name\": \"Tottenham Hotspur\",\n",
    "        \"code\": \"TOT\",\n",
    "        \"country\": \"England\",\n",
    "        \"id\": \"a2d435b3\",\n",
    "    },\n",
    "    {\"name\": \"Everton\", \"code\": \"EVE\", \"country\": \"England\", \"id\": \"c4989550\"},\n",
    "    {\"name\": \"Sheffield United\", \"code\": \"SHU\", \"country\": \"England\", \"id\": \"1df6b87e\"},\n",
    "    {\n",
    "        \"name\": \"Wolverhampton Wanderers\",\n",
    "        \"code\": \"WOL\",\n",
    "        \"country\": \"England\",\n",
    "        \"id\": \"8cec06e1\",\n",
    "    },\n",
    "    {\n",
    "        \"name\": \"Brighton & Hove Albion\",\n",
    "        \"code\": \"BHA\",\n",
    "        \"country\": \"England\",\n",
    "        \"id\": \"d07537b9\",\n",
    "    },\n",
    "    {\"name\": \"Chelsea\", \"code\": \"CHE\", \"country\": \"England\", \"id\": \"a6a4e67d\"},\n",
    "]"
   ]
  },
  {
   "cell_type": "code",
   "execution_count": 88,
   "metadata": {},
   "outputs": [],
   "source": [
    "clubs_df = pd.DataFrame(clubs)"
   ]
  },
  {
   "cell_type": "code",
   "execution_count": 89,
   "metadata": {},
   "outputs": [
    {
     "data": {
      "text/html": [
       "<div>\n",
       "<style scoped>\n",
       "    .dataframe tbody tr th:only-of-type {\n",
       "        vertical-align: middle;\n",
       "    }\n",
       "\n",
       "    .dataframe tbody tr th {\n",
       "        vertical-align: top;\n",
       "    }\n",
       "\n",
       "    .dataframe thead th {\n",
       "        text-align: right;\n",
       "    }\n",
       "</style>\n",
       "<table border=\"1\" class=\"dataframe\">\n",
       "  <thead>\n",
       "    <tr style=\"text-align: right;\">\n",
       "      <th></th>\n",
       "      <th>name</th>\n",
       "      <th>code</th>\n",
       "      <th>country</th>\n",
       "      <th>id</th>\n",
       "    </tr>\n",
       "  </thead>\n",
       "  <tbody>\n",
       "    <tr>\n",
       "      <th>0</th>\n",
       "      <td>Burnley</td>\n",
       "      <td>BUR</td>\n",
       "      <td>England</td>\n",
       "      <td>943e8050</td>\n",
       "    </tr>\n",
       "    <tr>\n",
       "      <th>1</th>\n",
       "      <td>Manchester United</td>\n",
       "      <td>MUN</td>\n",
       "      <td>England</td>\n",
       "      <td>19538871</td>\n",
       "    </tr>\n",
       "    <tr>\n",
       "      <th>2</th>\n",
       "      <td>Manchester City</td>\n",
       "      <td>MCI</td>\n",
       "      <td>England</td>\n",
       "      <td>b8fd03ef</td>\n",
       "    </tr>\n",
       "    <tr>\n",
       "      <th>3</th>\n",
       "      <td>Aston Villa</td>\n",
       "      <td>AVL</td>\n",
       "      <td>England</td>\n",
       "      <td>8602292d</td>\n",
       "    </tr>\n",
       "    <tr>\n",
       "      <th>4</th>\n",
       "      <td>Fulham</td>\n",
       "      <td>FUL</td>\n",
       "      <td>England</td>\n",
       "      <td>fd962109</td>\n",
       "    </tr>\n",
       "    <tr>\n",
       "      <th>5</th>\n",
       "      <td>Arsenal</td>\n",
       "      <td>ARS</td>\n",
       "      <td>England</td>\n",
       "      <td>18bb7c10</td>\n",
       "    </tr>\n",
       "    <tr>\n",
       "      <th>6</th>\n",
       "      <td>Crystal Palace</td>\n",
       "      <td>CRY</td>\n",
       "      <td>England</td>\n",
       "      <td>47c64c55</td>\n",
       "    </tr>\n",
       "    <tr>\n",
       "      <th>7</th>\n",
       "      <td>Southampton</td>\n",
       "      <td>SOU</td>\n",
       "      <td>England</td>\n",
       "      <td>33c895d4</td>\n",
       "    </tr>\n",
       "    <tr>\n",
       "      <th>8</th>\n",
       "      <td>Liverpool</td>\n",
       "      <td>LIV</td>\n",
       "      <td>England</td>\n",
       "      <td>e87167c6</td>\n",
       "    </tr>\n",
       "    <tr>\n",
       "      <th>9</th>\n",
       "      <td>Leeds United</td>\n",
       "      <td>LEE</td>\n",
       "      <td>England</td>\n",
       "      <td>5bfb9659</td>\n",
       "    </tr>\n",
       "    <tr>\n",
       "      <th>10</th>\n",
       "      <td>West Ham United</td>\n",
       "      <td>WHU</td>\n",
       "      <td>England</td>\n",
       "      <td>52d65cea</td>\n",
       "    </tr>\n",
       "    <tr>\n",
       "      <th>11</th>\n",
       "      <td>Newcastle United</td>\n",
       "      <td>NEW</td>\n",
       "      <td>England</td>\n",
       "      <td>b2b47a98</td>\n",
       "    </tr>\n",
       "    <tr>\n",
       "      <th>12</th>\n",
       "      <td>West Bromwich Albion</td>\n",
       "      <td>WBA</td>\n",
       "      <td>England</td>\n",
       "      <td>60c6b05f</td>\n",
       "    </tr>\n",
       "    <tr>\n",
       "      <th>13</th>\n",
       "      <td>Leicester City</td>\n",
       "      <td>LEI</td>\n",
       "      <td>England</td>\n",
       "      <td>a2d435b3</td>\n",
       "    </tr>\n",
       "    <tr>\n",
       "      <th>14</th>\n",
       "      <td>Tottenham Hotspur</td>\n",
       "      <td>TOT</td>\n",
       "      <td>England</td>\n",
       "      <td>a2d435b3</td>\n",
       "    </tr>\n",
       "    <tr>\n",
       "      <th>15</th>\n",
       "      <td>Everton</td>\n",
       "      <td>EVE</td>\n",
       "      <td>England</td>\n",
       "      <td>c4989550</td>\n",
       "    </tr>\n",
       "    <tr>\n",
       "      <th>16</th>\n",
       "      <td>Sheffield United</td>\n",
       "      <td>SHU</td>\n",
       "      <td>England</td>\n",
       "      <td>1df6b87e</td>\n",
       "    </tr>\n",
       "    <tr>\n",
       "      <th>17</th>\n",
       "      <td>Wolverhampton Wanderers</td>\n",
       "      <td>WOL</td>\n",
       "      <td>England</td>\n",
       "      <td>8cec06e1</td>\n",
       "    </tr>\n",
       "    <tr>\n",
       "      <th>18</th>\n",
       "      <td>Brighton &amp; Hove Albion</td>\n",
       "      <td>BHA</td>\n",
       "      <td>England</td>\n",
       "      <td>d07537b9</td>\n",
       "    </tr>\n",
       "    <tr>\n",
       "      <th>19</th>\n",
       "      <td>Chelsea</td>\n",
       "      <td>CHE</td>\n",
       "      <td>England</td>\n",
       "      <td>a6a4e67d</td>\n",
       "    </tr>\n",
       "  </tbody>\n",
       "</table>\n",
       "</div>"
      ],
      "text/plain": [
       "                       name code  country        id\n",
       "0                   Burnley  BUR  England  943e8050\n",
       "1         Manchester United  MUN  England  19538871\n",
       "2           Manchester City  MCI  England  b8fd03ef\n",
       "3               Aston Villa  AVL  England  8602292d\n",
       "4                    Fulham  FUL  England  fd962109\n",
       "5                   Arsenal  ARS  England  18bb7c10\n",
       "6            Crystal Palace  CRY  England  47c64c55\n",
       "7               Southampton  SOU  England  33c895d4\n",
       "8                 Liverpool  LIV  England  e87167c6\n",
       "9              Leeds United  LEE  England  5bfb9659\n",
       "10          West Ham United  WHU  England  52d65cea\n",
       "11         Newcastle United  NEW  England  b2b47a98\n",
       "12     West Bromwich Albion  WBA  England  60c6b05f\n",
       "13           Leicester City  LEI  England  a2d435b3\n",
       "14        Tottenham Hotspur  TOT  England  a2d435b3\n",
       "15                  Everton  EVE  England  c4989550\n",
       "16         Sheffield United  SHU  England  1df6b87e\n",
       "17  Wolverhampton Wanderers  WOL  England  8cec06e1\n",
       "18   Brighton & Hove Albion  BHA  England  d07537b9\n",
       "19                  Chelsea  CHE  England  a6a4e67d"
      ]
     },
     "execution_count": 89,
     "metadata": {},
     "output_type": "execute_result"
    }
   ],
   "source": [
    "clubs_df"
   ]
  },
  {
   "cell_type": "code",
   "execution_count": 90,
   "metadata": {},
   "outputs": [
    {
     "name": "stdout",
     "output_type": "stream",
     "text": [
      "[]\n",
      "Exact match not found - Printing closest matches:\n",
      "\n"
     ]
    },
    {
     "ename": "ValueError",
     "evalue": "Team ID of \"18bb7c10\" not found. Did you mean one of the following?\n{}",
     "output_type": "error",
     "traceback": [
      "\u001b[0;31m---------------------------------------------------------------------------\u001b[0m",
      "\u001b[0;31mValueError\u001b[0m                                Traceback (most recent call last)",
      "\u001b[0;32m<ipython-input-90-b5951ae35de6>\u001b[0m in \u001b[0;36m<module>\u001b[0;34m\u001b[0m\n\u001b[1;32m      2\u001b[0m \u001b[0;34m\u001b[0m\u001b[0m\n\u001b[1;32m      3\u001b[0m \u001b[0;32mfor\u001b[0m \u001b[0mc\u001b[0m \u001b[0;32min\u001b[0m \u001b[0mclubs_df\u001b[0m\u001b[0;34m.\u001b[0m\u001b[0mid\u001b[0m\u001b[0;34m:\u001b[0m\u001b[0;34m\u001b[0m\u001b[0;34m\u001b[0m\u001b[0m\n\u001b[0;32m----> 4\u001b[0;31m     \u001b[0mteams\u001b[0m\u001b[0;34m.\u001b[0m\u001b[0mappend\u001b[0m\u001b[0;34m(\u001b[0m\u001b[0mTeam\u001b[0m\u001b[0;34m(\u001b[0m\u001b[0mc\u001b[0m\u001b[0;34m)\u001b[0m\u001b[0;34m)\u001b[0m\u001b[0;34m\u001b[0m\u001b[0;34m\u001b[0m\u001b[0m\n\u001b[0m",
      "\u001b[0;32m/opt/anaconda3/lib/python3.7/site-packages/sportsipy/fb/team.py\u001b[0m in \u001b[0;36m__init__\u001b[0;34m(self, team_id, squad_page)\u001b[0m\n\u001b[1;32m     66\u001b[0m         \u001b[0mself\u001b[0m\u001b[0;34m.\u001b[0m\u001b[0m_away_points\u001b[0m \u001b[0;34m=\u001b[0m \u001b[0;32mNone\u001b[0m\u001b[0;34m\u001b[0m\u001b[0;34m\u001b[0m\u001b[0m\n\u001b[1;32m     67\u001b[0m \u001b[0;34m\u001b[0m\u001b[0m\n\u001b[0;32m---> 68\u001b[0;31m         \u001b[0mself\u001b[0m\u001b[0;34m.\u001b[0m\u001b[0m_squad_id\u001b[0m \u001b[0;34m=\u001b[0m \u001b[0m_lookup_team\u001b[0m\u001b[0;34m(\u001b[0m\u001b[0mteam_id\u001b[0m\u001b[0;34m)\u001b[0m\u001b[0;34m\u001b[0m\u001b[0;34m\u001b[0m\u001b[0m\n\u001b[0m\u001b[1;32m     69\u001b[0m         \u001b[0mself\u001b[0m\u001b[0;34m.\u001b[0m\u001b[0m_pull_team_page\u001b[0m\u001b[0;34m(\u001b[0m\u001b[0msquad_page\u001b[0m\u001b[0;34m)\u001b[0m\u001b[0;34m\u001b[0m\u001b[0;34m\u001b[0m\u001b[0m\n\u001b[1;32m     70\u001b[0m \u001b[0;34m\u001b[0m\u001b[0m\n",
      "\u001b[0;32m/opt/anaconda3/lib/python3.7/site-packages/sportsipy/fb/fb_utils.py\u001b[0m in \u001b[0;36m_lookup_team\u001b[0;34m(team_id)\u001b[0m\n\u001b[1;32m    127\u001b[0m     error_message = ('Team ID of \"%s\" not found. Did you mean one of the '\n\u001b[1;32m    128\u001b[0m                      'following?\\n%s' % (team_id, name))\n\u001b[0;32m--> 129\u001b[0;31m     \u001b[0;32mraise\u001b[0m \u001b[0mValueError\u001b[0m\u001b[0;34m(\u001b[0m\u001b[0merror_message\u001b[0m\u001b[0;34m)\u001b[0m\u001b[0;34m\u001b[0m\u001b[0;34m\u001b[0m\u001b[0m\n\u001b[0m",
      "\u001b[0;31mValueError\u001b[0m: Team ID of \"18bb7c10\" not found. Did you mean one of the following?\n{}"
     ]
    }
   ],
   "source": [
    "teams = []\n",
    "\n",
    "for c in clubs_df.id:\n",
    "    teams.append(Team(c))"
   ]
  },
  {
   "cell_type": "code",
   "execution_count": null,
   "metadata": {},
   "outputs": [],
   "source": [
    "for t in teams:\n",
    "    print(t.name)\n",
    "    print(t.season)\n",
    "    print(t.record)\n",
    "    print(t.position)\n",
    "    print(t.points)\n",
    "    print(t.league)\n",
    "    print(t.manager)\n",
    "    print(t.country)\n",
    "    print(t.gender)\n",
    "    print(t.goals_scored)\n",
    "    print(t.goals_against)\n",
    "    print(t.goal_difference)\n",
    "    print(t.expected_goals)\n",
    "    print(t.expected_goals_against)\n",
    "    print(t.expected_goal_difference)\n",
    "    print(t.home_record)\n",
    "    print(t.home_games)\n",
    "    print(t.away_record)\n",
    "    print(t.away_games)\n",
    "    print(t.home_wins)\n",
    "    print(t.home_draws)\n",
    "    print(t.home_losses)\n",
    "    print(t.away_wins)\n",
    "    print(t.away_draws)\n",
    "    print(t.away_losses)\n",
    "    print(t.home_points)\n",
    "    print(t.away_points)"
   ]
  },
  {
   "cell_type": "code",
   "execution_count": 72,
   "metadata": {},
   "outputs": [],
   "source": []
  },
  {
   "cell_type": "code",
   "execution_count": 72,
   "metadata": {},
   "outputs": [],
   "source": []
  },
  {
   "cell_type": "code",
   "execution_count": 72,
   "metadata": {},
   "outputs": [],
   "source": [
    "tottenham = Team(\"Tottenham Hotspur\")"
   ]
  },
  {
   "cell_type": "code",
   "execution_count": 73,
   "metadata": {},
   "outputs": [
    {
     "data": {
      "text/plain": [
       "30"
      ]
     },
     "execution_count": 73,
     "metadata": {},
     "output_type": "execute_result"
    }
   ],
   "source": [
    "tottenham.goals_against"
   ]
  },
  {
   "cell_type": "code",
   "execution_count": 74,
   "metadata": {},
   "outputs": [
    {
     "data": {
      "text/plain": [
       "49"
      ]
     },
     "execution_count": 74,
     "metadata": {},
     "output_type": "execute_result"
    }
   ],
   "source": [
    "tottenham.goals_scored"
   ]
  },
  {
   "cell_type": "code",
   "execution_count": 75,
   "metadata": {},
   "outputs": [
    {
     "name": "stdout",
     "output_type": "stream",
     "text": [
      "Tottenham Hotspur Stats (Premier\n",
      "2020-2021\n",
      "14-6-9\n",
      "6\n",
      "48\n",
      "Premier League\n",
      "José Mourinho\n",
      "England\n",
      "Male\n",
      "49\n",
      "30\n",
      "19\n",
      "39.7\n",
      "33.7\n",
      "6.1\n",
      "7-3-4\n",
      "14\n",
      "7-3-5\n",
      "15\n",
      "7\n",
      "3\n",
      "4\n",
      "7\n",
      "3\n",
      "5\n",
      "24\n",
      "24\n"
     ]
    }
   ],
   "source": [
    "print(tottenham.name)\n",
    "print(tottenham.season)\n",
    "print(tottenham.record)\n",
    "print(tottenham.position)\n",
    "print(tottenham.points)\n",
    "print(tottenham.league)\n",
    "print(tottenham.manager)\n",
    "print(tottenham.country)\n",
    "print(tottenham.gender)\n",
    "print(tottenham.goals_scored)\n",
    "print(tottenham.goals_against)\n",
    "print(tottenham.goal_difference)\n",
    "print(tottenham.expected_goals)\n",
    "print(tottenham.expected_goals_against)\n",
    "print(tottenham.expected_goal_difference)\n",
    "print(tottenham.home_record)\n",
    "print(tottenham.home_games)\n",
    "print(tottenham.away_record)\n",
    "print(tottenham.away_games)\n",
    "print(tottenham.home_wins)\n",
    "print(tottenham.home_draws)\n",
    "print(tottenham.home_losses)\n",
    "print(tottenham.away_wins)\n",
    "print(tottenham.away_draws)\n",
    "print(tottenham.away_losses)\n",
    "print(tottenham.home_points)\n",
    "print(tottenham.away_points)"
   ]
  }
 ],
 "metadata": {
  "kernelspec": {
   "display_name": "Python 3",
   "language": "python",
   "name": "python3"
  },
  "language_info": {
   "codemirror_mode": {
    "name": "ipython",
    "version": 3
   },
   "file_extension": ".py",
   "mimetype": "text/x-python",
   "name": "python",
   "nbconvert_exporter": "python",
   "pygments_lexer": "ipython3",
   "version": "3.7.4"
  }
 },
 "nbformat": 4,
 "nbformat_minor": 4
}
