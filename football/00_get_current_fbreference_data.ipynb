{
 "cells": [
  {
   "cell_type": "markdown",
   "metadata": {},
   "source": [
    "# Scraping Premier League stats from FBref"
   ]
  },
  {
   "cell_type": "markdown",
   "metadata": {},
   "source": [
    "---"
   ]
  },
  {
   "cell_type": "markdown",
   "metadata": {},
   "source": [
    "### Import Python tools"
   ]
  },
  {
   "cell_type": "code",
   "execution_count": 1,
   "metadata": {},
   "outputs": [],
   "source": [
    "%load_ext lab_black"
   ]
  },
  {
   "cell_type": "code",
   "execution_count": 3,
   "metadata": {},
   "outputs": [
    {
     "data": {
      "text/plain": [
       "DataTransformerRegistry.enable('default')"
      ]
     },
     "execution_count": 3,
     "metadata": {},
     "output_type": "execute_result"
    }
   ],
   "source": [
    "import pandas as pd\n",
    "import geopandas as gpd\n",
    "import matplotlib.pyplot as plt\n",
    "\n",
    "import requests\n",
    "from bs4 import BeautifulSoup as bs\n",
    "\n",
    "%matplotlib inline\n",
    "import json\n",
    "import numpy as np\n",
    "import altair as alt\n",
    "import altair_latimes as lat\n",
    "\n",
    "alt.themes.register(\"latimes\", lat.theme)\n",
    "alt.themes.enable(\"latimes\")\n",
    "pd.options.display.max_columns = 50\n",
    "pd.options.display.max_rows = 1000\n",
    "alt.data_transformers.disable_max_rows()"
   ]
  },
  {
   "cell_type": "code",
   "execution_count": 4,
   "metadata": {},
   "outputs": [],
   "source": [
    "today = pd.to_datetime(\"today\")"
   ]
  },
  {
   "cell_type": "markdown",
   "metadata": {},
   "source": [
    "### Premier League clubs"
   ]
  },
  {
   "cell_type": "code",
   "execution_count": 5,
   "metadata": {},
   "outputs": [],
   "source": [
    "clubs = [\n",
    "    {\"name\": \"Burnley\", \"code\": \"BUR\", \"country\": \"England\", \"id\": \"943e8050\"},\n",
    "    {\n",
    "        \"name\": \"Manchester United\",\n",
    "        \"code\": \"MUN\",\n",
    "        \"country\": \"England\",\n",
    "        \"id\": \"19538871\",\n",
    "    },\n",
    "    {\"name\": \"Manchester City\", \"code\": \"MCI\", \"country\": \"England\", \"id\": \"b8fd03ef\"},\n",
    "    {\"name\": \"Aston Villa\", \"code\": \"AVL\", \"country\": \"England\", \"id\": \"8602292d\"},\n",
    "    {\"name\": \"Fulham\", \"code\": \"FUL\", \"country\": \"England\", \"id\": \"fd962109\"},\n",
    "    {\"name\": \"Arsenal\", \"code\": \"ARS\", \"country\": \"England\", \"id\": \"18bb7c10\"},\n",
    "    {\"name\": \"Crystal Palace\", \"code\": \"CRY\", \"country\": \"England\", \"id\": \"47c64c55\"},\n",
    "    {\"name\": \"Southampton\", \"code\": \"SOU\", \"country\": \"England\", \"id\": \"33c895d4\"},\n",
    "    {\"name\": \"Liverpool\", \"code\": \"LIV\", \"country\": \"England\", \"id\": \"e87167c6\"},\n",
    "    {\"name\": \"Leeds United\", \"code\": \"LEE\", \"country\": \"England\", \"id\": \"5bfb9659\"},\n",
    "    {\"name\": \"West Ham United\", \"code\": \"WHU\", \"country\": \"England\", \"id\": \"52d65cea\"},\n",
    "    {\"name\": \"Newcastle United\", \"code\": \"NEW\", \"country\": \"England\", \"id\": \"b2b47a98\"},\n",
    "    {\n",
    "        \"name\": \"West Bromwich Albion\",\n",
    "        \"code\": \"WBA\",\n",
    "        \"country\": \"England\",\n",
    "        \"id\": \"60c6b05f\",\n",
    "    },\n",
    "    {\"name\": \"Leicester City\", \"code\": \"LEI\", \"country\": \"England\", \"id\": \"a2d435b3\"},\n",
    "    {\n",
    "        \"name\": \"Tottenham Hotspur\",\n",
    "        \"code\": \"TOT\",\n",
    "        \"country\": \"England\",\n",
    "        \"id\": \"361ca564\",\n",
    "    },\n",
    "    {\"name\": \"Everton\", \"code\": \"EVE\", \"country\": \"England\", \"id\": \"c4989550\"},\n",
    "    {\"name\": \"Sheffield United\", \"code\": \"SHU\", \"country\": \"England\", \"id\": \"1df6b87e\"},\n",
    "    {\n",
    "        \"name\": \"Wolverhampton Wanderers\",\n",
    "        \"code\": \"WOL\",\n",
    "        \"country\": \"England\",\n",
    "        \"id\": \"8cec06e1\",\n",
    "    },\n",
    "    {\n",
    "        \"name\": \"Brighton & Hove Albion\",\n",
    "        \"code\": \"BHA\",\n",
    "        \"country\": \"England\",\n",
    "        \"id\": \"d07537b9\",\n",
    "    },\n",
    "    {\"name\": \"Chelsea\", \"code\": \"CHE\", \"country\": \"England\", \"id\": \"a6a4e67d\"},\n",
    "]"
   ]
  },
  {
   "cell_type": "code",
   "execution_count": 6,
   "metadata": {},
   "outputs": [],
   "source": [
    "squad_base = \"https://fbref.com/en/squads/\""
   ]
  },
  {
   "cell_type": "code",
   "execution_count": 7,
   "metadata": {},
   "outputs": [],
   "source": [
    "clubs_df = pd.DataFrame(clubs)"
   ]
  },
  {
   "cell_type": "code",
   "execution_count": 8,
   "metadata": {},
   "outputs": [],
   "source": [
    "clubs_df[\"url\"] = squad_base + \"/\" + clubs_df[\"id\"]"
   ]
  },
  {
   "cell_type": "code",
   "execution_count": 9,
   "metadata": {},
   "outputs": [],
   "source": [
    "clubs_df.to_csv(\"output/clubs_list.csv\", index=False)"
   ]
  },
  {
   "cell_type": "code",
   "execution_count": 10,
   "metadata": {},
   "outputs": [
    {
     "data": {
      "text/html": [
       "<div>\n",
       "<style scoped>\n",
       "    .dataframe tbody tr th:only-of-type {\n",
       "        vertical-align: middle;\n",
       "    }\n",
       "\n",
       "    .dataframe tbody tr th {\n",
       "        vertical-align: top;\n",
       "    }\n",
       "\n",
       "    .dataframe thead th {\n",
       "        text-align: right;\n",
       "    }\n",
       "</style>\n",
       "<table border=\"1\" class=\"dataframe\">\n",
       "  <thead>\n",
       "    <tr style=\"text-align: right;\">\n",
       "      <th></th>\n",
       "      <th>name</th>\n",
       "      <th>code</th>\n",
       "      <th>country</th>\n",
       "      <th>id</th>\n",
       "      <th>url</th>\n",
       "    </tr>\n",
       "  </thead>\n",
       "  <tbody>\n",
       "    <tr>\n",
       "      <th>0</th>\n",
       "      <td>Burnley</td>\n",
       "      <td>BUR</td>\n",
       "      <td>England</td>\n",
       "      <td>943e8050</td>\n",
       "      <td>https://fbref.com/en/squads//943e8050</td>\n",
       "    </tr>\n",
       "    <tr>\n",
       "      <th>1</th>\n",
       "      <td>Manchester United</td>\n",
       "      <td>MUN</td>\n",
       "      <td>England</td>\n",
       "      <td>19538871</td>\n",
       "      <td>https://fbref.com/en/squads//19538871</td>\n",
       "    </tr>\n",
       "    <tr>\n",
       "      <th>2</th>\n",
       "      <td>Manchester City</td>\n",
       "      <td>MCI</td>\n",
       "      <td>England</td>\n",
       "      <td>b8fd03ef</td>\n",
       "      <td>https://fbref.com/en/squads//b8fd03ef</td>\n",
       "    </tr>\n",
       "    <tr>\n",
       "      <th>3</th>\n",
       "      <td>Aston Villa</td>\n",
       "      <td>AVL</td>\n",
       "      <td>England</td>\n",
       "      <td>8602292d</td>\n",
       "      <td>https://fbref.com/en/squads//8602292d</td>\n",
       "    </tr>\n",
       "    <tr>\n",
       "      <th>4</th>\n",
       "      <td>Fulham</td>\n",
       "      <td>FUL</td>\n",
       "      <td>England</td>\n",
       "      <td>fd962109</td>\n",
       "      <td>https://fbref.com/en/squads//fd962109</td>\n",
       "    </tr>\n",
       "  </tbody>\n",
       "</table>\n",
       "</div>"
      ],
      "text/plain": [
       "                name code  country        id  \\\n",
       "0            Burnley  BUR  England  943e8050   \n",
       "1  Manchester United  MUN  England  19538871   \n",
       "2    Manchester City  MCI  England  b8fd03ef   \n",
       "3        Aston Villa  AVL  England  8602292d   \n",
       "4             Fulham  FUL  England  fd962109   \n",
       "\n",
       "                                     url  \n",
       "0  https://fbref.com/en/squads//943e8050  \n",
       "1  https://fbref.com/en/squads//19538871  \n",
       "2  https://fbref.com/en/squads//b8fd03ef  \n",
       "3  https://fbref.com/en/squads//8602292d  \n",
       "4  https://fbref.com/en/squads//fd962109  "
      ]
     },
     "execution_count": 10,
     "metadata": {},
     "output_type": "execute_result"
    }
   ],
   "source": [
    "clubs_df.head()"
   ]
  },
  {
   "cell_type": "markdown",
   "metadata": {},
   "source": [
    "---"
   ]
  },
  {
   "cell_type": "markdown",
   "metadata": {},
   "source": [
    "## League standings overall"
   ]
  },
  {
   "cell_type": "code",
   "execution_count": 11,
   "metadata": {},
   "outputs": [],
   "source": [
    "url = \"https://fbref.com/en/comps/9/Premier-League-Stats\""
   ]
  },
  {
   "cell_type": "code",
   "execution_count": 12,
   "metadata": {},
   "outputs": [],
   "source": [
    "tables = pd.read_html(url)"
   ]
  },
  {
   "cell_type": "code",
   "execution_count": 13,
   "metadata": {},
   "outputs": [],
   "source": [
    "df_overall = tables[0]"
   ]
  },
  {
   "cell_type": "code",
   "execution_count": 14,
   "metadata": {},
   "outputs": [],
   "source": [
    "df_overall.rename(\n",
    "    columns={\n",
    "        \"Rk\": \"rank\",\n",
    "        \"Squad\": \"name\",\n",
    "        \"MP\": \"matches\",\n",
    "        \"W\": \"wins\",\n",
    "        \"D\": \"draws\",\n",
    "        \"L\": \"losses\",\n",
    "        \"GF\": \"goals_for\",\n",
    "        \"GA\": \"goals_against\",\n",
    "        \"GD\": \"goal_diff\",\n",
    "        \"Pts\": \"points\",\n",
    "        \"xG\": \"expected_goals_for\",\n",
    "        \"xGA\": \"expected_goals_against\",\n",
    "        \"xGD\": \"expected_goal_diff\",\n",
    "        \"xGD/90\": \"expected_goals_diff_90mins\",\n",
    "        \"Last 5\": \"last_five\",\n",
    "        \"Attendance\": \"attendance\",\n",
    "        \"Top Team Scorer\": \"top_scorer\",\n",
    "        \"Goalkeeper\": \"goalkeeper\",\n",
    "        \"Notes\": \"notes\",\n",
    "    },\n",
    "    inplace=True,\n",
    ")"
   ]
  },
  {
   "cell_type": "code",
   "execution_count": 15,
   "metadata": {},
   "outputs": [],
   "source": [
    "df_overall.drop([\"notes\"], axis=1, inplace=True)"
   ]
  },
  {
   "cell_type": "code",
   "execution_count": 16,
   "metadata": {},
   "outputs": [
    {
     "data": {
      "text/html": [
       "<div>\n",
       "<style scoped>\n",
       "    .dataframe tbody tr th:only-of-type {\n",
       "        vertical-align: middle;\n",
       "    }\n",
       "\n",
       "    .dataframe tbody tr th {\n",
       "        vertical-align: top;\n",
       "    }\n",
       "\n",
       "    .dataframe thead th {\n",
       "        text-align: right;\n",
       "    }\n",
       "</style>\n",
       "<table border=\"1\" class=\"dataframe\">\n",
       "  <thead>\n",
       "    <tr style=\"text-align: right;\">\n",
       "      <th></th>\n",
       "      <th>rank</th>\n",
       "      <th>name</th>\n",
       "      <th>matches</th>\n",
       "      <th>wins</th>\n",
       "      <th>draws</th>\n",
       "      <th>losses</th>\n",
       "      <th>goals_for</th>\n",
       "      <th>goals_against</th>\n",
       "      <th>goal_diff</th>\n",
       "      <th>points</th>\n",
       "      <th>expected_goals_for</th>\n",
       "      <th>expected_goals_against</th>\n",
       "      <th>expected_goal_diff</th>\n",
       "      <th>expected_goals_diff_90mins</th>\n",
       "      <th>attendance</th>\n",
       "      <th>top_scorer</th>\n",
       "      <th>goalkeeper</th>\n",
       "    </tr>\n",
       "  </thead>\n",
       "  <tbody>\n",
       "    <tr>\n",
       "      <th>0</th>\n",
       "      <td>1</td>\n",
       "      <td>Manchester City</td>\n",
       "      <td>38</td>\n",
       "      <td>27</td>\n",
       "      <td>5</td>\n",
       "      <td>6</td>\n",
       "      <td>83</td>\n",
       "      <td>32</td>\n",
       "      <td>51</td>\n",
       "      <td>86</td>\n",
       "      <td>73.3</td>\n",
       "      <td>31.3</td>\n",
       "      <td>42.0</td>\n",
       "      <td>1.11</td>\n",
       "      <td>526</td>\n",
       "      <td>İlkay Gündoğan - 13</td>\n",
       "      <td>Ederson</td>\n",
       "    </tr>\n",
       "    <tr>\n",
       "      <th>1</th>\n",
       "      <td>2</td>\n",
       "      <td>Manchester Utd</td>\n",
       "      <td>38</td>\n",
       "      <td>21</td>\n",
       "      <td>11</td>\n",
       "      <td>6</td>\n",
       "      <td>73</td>\n",
       "      <td>44</td>\n",
       "      <td>29</td>\n",
       "      <td>74</td>\n",
       "      <td>60.2</td>\n",
       "      <td>42.2</td>\n",
       "      <td>18.0</td>\n",
       "      <td>0.47</td>\n",
       "      <td>526</td>\n",
       "      <td>Bruno Fernandes - 18</td>\n",
       "      <td>David de Gea</td>\n",
       "    </tr>\n",
       "    <tr>\n",
       "      <th>2</th>\n",
       "      <td>3</td>\n",
       "      <td>Liverpool</td>\n",
       "      <td>38</td>\n",
       "      <td>20</td>\n",
       "      <td>9</td>\n",
       "      <td>9</td>\n",
       "      <td>68</td>\n",
       "      <td>42</td>\n",
       "      <td>26</td>\n",
       "      <td>69</td>\n",
       "      <td>72.6</td>\n",
       "      <td>45.4</td>\n",
       "      <td>27.3</td>\n",
       "      <td>0.72</td>\n",
       "      <td>837</td>\n",
       "      <td>Mohamed Salah - 22</td>\n",
       "      <td>Alisson</td>\n",
       "    </tr>\n",
       "    <tr>\n",
       "      <th>3</th>\n",
       "      <td>4</td>\n",
       "      <td>Chelsea</td>\n",
       "      <td>38</td>\n",
       "      <td>19</td>\n",
       "      <td>10</td>\n",
       "      <td>9</td>\n",
       "      <td>58</td>\n",
       "      <td>36</td>\n",
       "      <td>22</td>\n",
       "      <td>67</td>\n",
       "      <td>64.0</td>\n",
       "      <td>32.8</td>\n",
       "      <td>31.2</td>\n",
       "      <td>0.82</td>\n",
       "      <td>526</td>\n",
       "      <td>Jorginho - 7</td>\n",
       "      <td>Edouard Mendy</td>\n",
       "    </tr>\n",
       "    <tr>\n",
       "      <th>4</th>\n",
       "      <td>5</td>\n",
       "      <td>Leicester City</td>\n",
       "      <td>38</td>\n",
       "      <td>20</td>\n",
       "      <td>6</td>\n",
       "      <td>12</td>\n",
       "      <td>68</td>\n",
       "      <td>50</td>\n",
       "      <td>18</td>\n",
       "      <td>66</td>\n",
       "      <td>56.0</td>\n",
       "      <td>47.7</td>\n",
       "      <td>8.3</td>\n",
       "      <td>0.22</td>\n",
       "      <td>421</td>\n",
       "      <td>Jamie Vardy - 15</td>\n",
       "      <td>Kasper Schmeichel</td>\n",
       "    </tr>\n",
       "  </tbody>\n",
       "</table>\n",
       "</div>"
      ],
      "text/plain": [
       "   rank             name  matches  wins  draws  losses  goals_for  \\\n",
       "0     1  Manchester City       38    27      5       6         83   \n",
       "1     2   Manchester Utd       38    21     11       6         73   \n",
       "2     3        Liverpool       38    20      9       9         68   \n",
       "3     4          Chelsea       38    19     10       9         58   \n",
       "4     5   Leicester City       38    20      6      12         68   \n",
       "\n",
       "   goals_against  goal_diff  points  expected_goals_for  \\\n",
       "0             32         51      86                73.3   \n",
       "1             44         29      74                60.2   \n",
       "2             42         26      69                72.6   \n",
       "3             36         22      67                64.0   \n",
       "4             50         18      66                56.0   \n",
       "\n",
       "   expected_goals_against  expected_goal_diff  expected_goals_diff_90mins  \\\n",
       "0                    31.3                42.0                        1.11   \n",
       "1                    42.2                18.0                        0.47   \n",
       "2                    45.4                27.3                        0.72   \n",
       "3                    32.8                31.2                        0.82   \n",
       "4                    47.7                 8.3                        0.22   \n",
       "\n",
       "   attendance            top_scorer         goalkeeper  \n",
       "0         526   İlkay Gündoğan - 13            Ederson  \n",
       "1         526  Bruno Fernandes - 18       David de Gea  \n",
       "2         837    Mohamed Salah - 22            Alisson  \n",
       "3         526          Jorginho - 7      Edouard Mendy  \n",
       "4         421      Jamie Vardy - 15  Kasper Schmeichel  "
      ]
     },
     "execution_count": 16,
     "metadata": {},
     "output_type": "execute_result"
    }
   ],
   "source": [
    "df_overall.head()"
   ]
  },
  {
   "cell_type": "code",
   "execution_count": 17,
   "metadata": {},
   "outputs": [],
   "source": [
    "df_overall[\"updated\"] = today"
   ]
  },
  {
   "cell_type": "code",
   "execution_count": 18,
   "metadata": {},
   "outputs": [],
   "source": [
    "df_overall.to_csv(\"output/league_standings.csv\", index=False)"
   ]
  },
  {
   "cell_type": "markdown",
   "metadata": {},
   "source": [
    "---"
   ]
  },
  {
   "cell_type": "markdown",
   "metadata": {},
   "source": [
    "### Club performance"
   ]
  },
  {
   "cell_type": "code",
   "execution_count": 19,
   "metadata": {},
   "outputs": [],
   "source": [
    "df_performance = tables[2]"
   ]
  },
  {
   "cell_type": "code",
   "execution_count": 20,
   "metadata": {},
   "outputs": [],
   "source": [
    "df_performance.columns = [col[1] for col in df_performance.columns]"
   ]
  },
  {
   "cell_type": "code",
   "execution_count": 21,
   "metadata": {},
   "outputs": [
    {
     "data": {
      "text/html": [
       "<div>\n",
       "<style scoped>\n",
       "    .dataframe tbody tr th:only-of-type {\n",
       "        vertical-align: middle;\n",
       "    }\n",
       "\n",
       "    .dataframe tbody tr th {\n",
       "        vertical-align: top;\n",
       "    }\n",
       "\n",
       "    .dataframe thead th {\n",
       "        text-align: right;\n",
       "    }\n",
       "</style>\n",
       "<table border=\"1\" class=\"dataframe\">\n",
       "  <thead>\n",
       "    <tr style=\"text-align: right;\">\n",
       "      <th></th>\n",
       "      <th>Squad</th>\n",
       "      <th># Pl</th>\n",
       "      <th>Age</th>\n",
       "      <th>Poss</th>\n",
       "      <th>MP</th>\n",
       "      <th>Starts</th>\n",
       "      <th>Min</th>\n",
       "      <th>90s</th>\n",
       "      <th>Gls</th>\n",
       "      <th>Ast</th>\n",
       "      <th>G-PK</th>\n",
       "      <th>PK</th>\n",
       "      <th>PKatt</th>\n",
       "      <th>CrdY</th>\n",
       "      <th>CrdR</th>\n",
       "      <th>Gls</th>\n",
       "      <th>Ast</th>\n",
       "      <th>G+A</th>\n",
       "      <th>G-PK</th>\n",
       "      <th>G+A-PK</th>\n",
       "      <th>xG</th>\n",
       "      <th>npxG</th>\n",
       "      <th>xA</th>\n",
       "      <th>npxG+xA</th>\n",
       "      <th>xG</th>\n",
       "      <th>xA</th>\n",
       "      <th>xG+xA</th>\n",
       "      <th>npxG</th>\n",
       "      <th>npxG+xA</th>\n",
       "    </tr>\n",
       "  </thead>\n",
       "  <tbody>\n",
       "    <tr>\n",
       "      <th>0</th>\n",
       "      <td>Arsenal</td>\n",
       "      <td>29</td>\n",
       "      <td>25.9</td>\n",
       "      <td>53.8</td>\n",
       "      <td>38</td>\n",
       "      <td>418</td>\n",
       "      <td>3420</td>\n",
       "      <td>38.0</td>\n",
       "      <td>53</td>\n",
       "      <td>38</td>\n",
       "      <td>47</td>\n",
       "      <td>6</td>\n",
       "      <td>6</td>\n",
       "      <td>49</td>\n",
       "      <td>5</td>\n",
       "      <td>1.39</td>\n",
       "      <td>1.00</td>\n",
       "      <td>2.39</td>\n",
       "      <td>1.24</td>\n",
       "      <td>2.24</td>\n",
       "      <td>53.5</td>\n",
       "      <td>49.0</td>\n",
       "      <td>36.6</td>\n",
       "      <td>85.5</td>\n",
       "      <td>1.41</td>\n",
       "      <td>0.96</td>\n",
       "      <td>2.37</td>\n",
       "      <td>1.29</td>\n",
       "      <td>2.25</td>\n",
       "    </tr>\n",
       "    <tr>\n",
       "      <th>1</th>\n",
       "      <td>Aston Villa</td>\n",
       "      <td>24</td>\n",
       "      <td>25.2</td>\n",
       "      <td>48.1</td>\n",
       "      <td>38</td>\n",
       "      <td>418</td>\n",
       "      <td>3420</td>\n",
       "      <td>38.0</td>\n",
       "      <td>52</td>\n",
       "      <td>38</td>\n",
       "      <td>47</td>\n",
       "      <td>5</td>\n",
       "      <td>6</td>\n",
       "      <td>71</td>\n",
       "      <td>4</td>\n",
       "      <td>1.37</td>\n",
       "      <td>1.00</td>\n",
       "      <td>2.37</td>\n",
       "      <td>1.24</td>\n",
       "      <td>2.24</td>\n",
       "      <td>53.0</td>\n",
       "      <td>48.6</td>\n",
       "      <td>37.2</td>\n",
       "      <td>85.7</td>\n",
       "      <td>1.40</td>\n",
       "      <td>0.98</td>\n",
       "      <td>2.37</td>\n",
       "      <td>1.28</td>\n",
       "      <td>2.26</td>\n",
       "    </tr>\n",
       "    <tr>\n",
       "      <th>2</th>\n",
       "      <td>Brighton</td>\n",
       "      <td>27</td>\n",
       "      <td>25.8</td>\n",
       "      <td>51.3</td>\n",
       "      <td>38</td>\n",
       "      <td>418</td>\n",
       "      <td>3420</td>\n",
       "      <td>38.0</td>\n",
       "      <td>39</td>\n",
       "      <td>24</td>\n",
       "      <td>33</td>\n",
       "      <td>6</td>\n",
       "      <td>9</td>\n",
       "      <td>49</td>\n",
       "      <td>6</td>\n",
       "      <td>1.03</td>\n",
       "      <td>0.63</td>\n",
       "      <td>1.66</td>\n",
       "      <td>0.87</td>\n",
       "      <td>1.50</td>\n",
       "      <td>51.6</td>\n",
       "      <td>44.8</td>\n",
       "      <td>33.0</td>\n",
       "      <td>77.8</td>\n",
       "      <td>1.36</td>\n",
       "      <td>0.87</td>\n",
       "      <td>2.23</td>\n",
       "      <td>1.18</td>\n",
       "      <td>2.05</td>\n",
       "    </tr>\n",
       "    <tr>\n",
       "      <th>3</th>\n",
       "      <td>Burnley</td>\n",
       "      <td>25</td>\n",
       "      <td>28.3</td>\n",
       "      <td>41.7</td>\n",
       "      <td>38</td>\n",
       "      <td>418</td>\n",
       "      <td>3420</td>\n",
       "      <td>38.0</td>\n",
       "      <td>32</td>\n",
       "      <td>20</td>\n",
       "      <td>29</td>\n",
       "      <td>3</td>\n",
       "      <td>3</td>\n",
       "      <td>48</td>\n",
       "      <td>0</td>\n",
       "      <td>0.84</td>\n",
       "      <td>0.53</td>\n",
       "      <td>1.37</td>\n",
       "      <td>0.76</td>\n",
       "      <td>1.29</td>\n",
       "      <td>39.6</td>\n",
       "      <td>37.3</td>\n",
       "      <td>26.8</td>\n",
       "      <td>64.2</td>\n",
       "      <td>1.04</td>\n",
       "      <td>0.71</td>\n",
       "      <td>1.75</td>\n",
       "      <td>0.98</td>\n",
       "      <td>1.69</td>\n",
       "    </tr>\n",
       "    <tr>\n",
       "      <th>4</th>\n",
       "      <td>Chelsea</td>\n",
       "      <td>27</td>\n",
       "      <td>26.0</td>\n",
       "      <td>61.4</td>\n",
       "      <td>38</td>\n",
       "      <td>418</td>\n",
       "      <td>3420</td>\n",
       "      <td>38.0</td>\n",
       "      <td>56</td>\n",
       "      <td>38</td>\n",
       "      <td>48</td>\n",
       "      <td>8</td>\n",
       "      <td>10</td>\n",
       "      <td>51</td>\n",
       "      <td>3</td>\n",
       "      <td>1.47</td>\n",
       "      <td>1.00</td>\n",
       "      <td>2.47</td>\n",
       "      <td>1.26</td>\n",
       "      <td>2.26</td>\n",
       "      <td>64.0</td>\n",
       "      <td>56.4</td>\n",
       "      <td>42.4</td>\n",
       "      <td>98.8</td>\n",
       "      <td>1.68</td>\n",
       "      <td>1.12</td>\n",
       "      <td>2.80</td>\n",
       "      <td>1.48</td>\n",
       "      <td>2.60</td>\n",
       "    </tr>\n",
       "  </tbody>\n",
       "</table>\n",
       "</div>"
      ],
      "text/plain": [
       "         Squad  # Pl   Age  Poss  MP  Starts   Min   90s  Gls  Ast  G-PK  PK  \\\n",
       "0      Arsenal    29  25.9  53.8  38     418  3420  38.0   53   38    47   6   \n",
       "1  Aston Villa    24  25.2  48.1  38     418  3420  38.0   52   38    47   5   \n",
       "2     Brighton    27  25.8  51.3  38     418  3420  38.0   39   24    33   6   \n",
       "3      Burnley    25  28.3  41.7  38     418  3420  38.0   32   20    29   3   \n",
       "4      Chelsea    27  26.0  61.4  38     418  3420  38.0   56   38    48   8   \n",
       "\n",
       "   PKatt  CrdY  CrdR   Gls   Ast   G+A  G-PK  G+A-PK    xG  npxG    xA  \\\n",
       "0      6    49     5  1.39  1.00  2.39  1.24    2.24  53.5  49.0  36.6   \n",
       "1      6    71     4  1.37  1.00  2.37  1.24    2.24  53.0  48.6  37.2   \n",
       "2      9    49     6  1.03  0.63  1.66  0.87    1.50  51.6  44.8  33.0   \n",
       "3      3    48     0  0.84  0.53  1.37  0.76    1.29  39.6  37.3  26.8   \n",
       "4     10    51     3  1.47  1.00  2.47  1.26    2.26  64.0  56.4  42.4   \n",
       "\n",
       "   npxG+xA    xG    xA  xG+xA  npxG  npxG+xA  \n",
       "0     85.5  1.41  0.96   2.37  1.29     2.25  \n",
       "1     85.7  1.40  0.98   2.37  1.28     2.26  \n",
       "2     77.8  1.36  0.87   2.23  1.18     2.05  \n",
       "3     64.2  1.04  0.71   1.75  0.98     1.69  \n",
       "4     98.8  1.68  1.12   2.80  1.48     2.60  "
      ]
     },
     "execution_count": 21,
     "metadata": {},
     "output_type": "execute_result"
    }
   ],
   "source": [
    "df_performance.head()"
   ]
  },
  {
   "cell_type": "code",
   "execution_count": 22,
   "metadata": {},
   "outputs": [],
   "source": [
    "df_performance[\"updated\"] = today"
   ]
  },
  {
   "cell_type": "code",
   "execution_count": 23,
   "metadata": {},
   "outputs": [],
   "source": [
    "df_performance.to_csv(\"output/club_performance.csv\", index=False)"
   ]
  },
  {
   "cell_type": "markdown",
   "metadata": {},
   "source": [
    "---"
   ]
  },
  {
   "cell_type": "markdown",
   "metadata": {},
   "source": [
    "### Club standard stats"
   ]
  },
  {
   "cell_type": "code",
   "execution_count": 24,
   "metadata": {},
   "outputs": [
    {
     "name": "stderr",
     "output_type": "stream",
     "text": [
      "/Users/stiles/.local/share/virtualenvs/notebooks-sxqKeO4C/lib/python3.8/site-packages/pandas/core/indexes/multi.py:3587: RuntimeWarning: The values in the array are unorderable. Pass `sort=False` to suppress this warning.\n",
      "  uniq_tuples = lib.fast_unique_multiple([self._values, other._values], sort=sort)\n"
     ]
    },
    {
     "ename": "AttributeError",
     "evalue": "'NoneType' object has no attribute 'is_extension'",
     "output_type": "error",
     "traceback": [
      "\u001b[0;31m---------------------------------------------------------------------------\u001b[0m",
      "\u001b[0;31mAttributeError\u001b[0m                            Traceback (most recent call last)",
      "\u001b[0;32m<ipython-input-24-601d7e415e43>\u001b[0m in \u001b[0;36m<module>\u001b[0;34m\u001b[0m\n\u001b[1;32m      4\u001b[0m     \u001b[0mdf_list\u001b[0m\u001b[0;34m.\u001b[0m\u001b[0mappend\u001b[0m\u001b[0;34m(\u001b[0m\u001b[0;34m(\u001b[0m\u001b[0mpd\u001b[0m\u001b[0;34m.\u001b[0m\u001b[0mread_html\u001b[0m\u001b[0;34m(\u001b[0m\u001b[0mi\u001b[0m\u001b[0;34m)\u001b[0m\u001b[0;34m[\u001b[0m\u001b[0;36m0\u001b[0m\u001b[0;34m]\u001b[0m\u001b[0;34m)\u001b[0m\u001b[0;34m.\u001b[0m\u001b[0massign\u001b[0m\u001b[0;34m(\u001b[0m\u001b[0mclubname\u001b[0m\u001b[0;34m=\u001b[0m\u001b[0mn\u001b[0m\u001b[0;34m)\u001b[0m\u001b[0;34m)\u001b[0m\u001b[0;34m\u001b[0m\u001b[0;34m\u001b[0m\u001b[0m\n\u001b[1;32m      5\u001b[0m \u001b[0;34m\u001b[0m\u001b[0m\n\u001b[0;32m----> 6\u001b[0;31m \u001b[0mdf\u001b[0m \u001b[0;34m=\u001b[0m \u001b[0mpd\u001b[0m\u001b[0;34m.\u001b[0m\u001b[0mconcat\u001b[0m\u001b[0;34m(\u001b[0m\u001b[0mdf_list\u001b[0m\u001b[0;34m)\u001b[0m\u001b[0;34m\u001b[0m\u001b[0;34m\u001b[0m\u001b[0m\n\u001b[0m",
      "\u001b[0;32m~/.local/share/virtualenvs/notebooks-sxqKeO4C/lib/python3.8/site-packages/pandas/core/reshape/concat.py\u001b[0m in \u001b[0;36mconcat\u001b[0;34m(objs, axis, join, ignore_index, keys, levels, names, verify_integrity, sort, copy)\u001b[0m\n\u001b[1;32m    296\u001b[0m     )\n\u001b[1;32m    297\u001b[0m \u001b[0;34m\u001b[0m\u001b[0m\n\u001b[0;32m--> 298\u001b[0;31m     \u001b[0;32mreturn\u001b[0m \u001b[0mop\u001b[0m\u001b[0;34m.\u001b[0m\u001b[0mget_result\u001b[0m\u001b[0;34m(\u001b[0m\u001b[0;34m)\u001b[0m\u001b[0;34m\u001b[0m\u001b[0;34m\u001b[0m\u001b[0m\n\u001b[0m\u001b[1;32m    299\u001b[0m \u001b[0;34m\u001b[0m\u001b[0m\n\u001b[1;32m    300\u001b[0m \u001b[0;34m\u001b[0m\u001b[0m\n",
      "\u001b[0;32m~/.local/share/virtualenvs/notebooks-sxqKeO4C/lib/python3.8/site-packages/pandas/core/reshape/concat.py\u001b[0m in \u001b[0;36mget_result\u001b[0;34m(self)\u001b[0m\n\u001b[1;32m    518\u001b[0m                 \u001b[0mmgrs_indexers\u001b[0m\u001b[0;34m.\u001b[0m\u001b[0mappend\u001b[0m\u001b[0;34m(\u001b[0m\u001b[0;34m(\u001b[0m\u001b[0mobj\u001b[0m\u001b[0;34m.\u001b[0m\u001b[0m_mgr\u001b[0m\u001b[0;34m,\u001b[0m \u001b[0mindexers\u001b[0m\u001b[0;34m)\u001b[0m\u001b[0;34m)\u001b[0m\u001b[0;34m\u001b[0m\u001b[0;34m\u001b[0m\u001b[0m\n\u001b[1;32m    519\u001b[0m \u001b[0;34m\u001b[0m\u001b[0m\n\u001b[0;32m--> 520\u001b[0;31m             new_data = concatenate_block_managers(\n\u001b[0m\u001b[1;32m    521\u001b[0m                 \u001b[0mmgrs_indexers\u001b[0m\u001b[0;34m,\u001b[0m \u001b[0mself\u001b[0m\u001b[0;34m.\u001b[0m\u001b[0mnew_axes\u001b[0m\u001b[0;34m,\u001b[0m \u001b[0mconcat_axis\u001b[0m\u001b[0;34m=\u001b[0m\u001b[0mself\u001b[0m\u001b[0;34m.\u001b[0m\u001b[0mbm_axis\u001b[0m\u001b[0;34m,\u001b[0m \u001b[0mcopy\u001b[0m\u001b[0;34m=\u001b[0m\u001b[0mself\u001b[0m\u001b[0;34m.\u001b[0m\u001b[0mcopy\u001b[0m\u001b[0;34m\u001b[0m\u001b[0;34m\u001b[0m\u001b[0m\n\u001b[1;32m    522\u001b[0m             )\n",
      "\u001b[0;32m~/.local/share/virtualenvs/notebooks-sxqKeO4C/lib/python3.8/site-packages/pandas/core/internals/concat.py\u001b[0m in \u001b[0;36mconcatenate_block_managers\u001b[0;34m(mgrs_indexers, axes, concat_axis, copy)\u001b[0m\n\u001b[1;32m     66\u001b[0m                 \u001b[0mvalues\u001b[0m \u001b[0;34m=\u001b[0m \u001b[0mvalues\u001b[0m\u001b[0;34m.\u001b[0m\u001b[0mview\u001b[0m\u001b[0;34m(\u001b[0m\u001b[0;34m)\u001b[0m\u001b[0;34m\u001b[0m\u001b[0;34m\u001b[0m\u001b[0m\n\u001b[1;32m     67\u001b[0m             \u001b[0mb\u001b[0m \u001b[0;34m=\u001b[0m \u001b[0mb\u001b[0m\u001b[0;34m.\u001b[0m\u001b[0mmake_block_same_class\u001b[0m\u001b[0;34m(\u001b[0m\u001b[0mvalues\u001b[0m\u001b[0;34m,\u001b[0m \u001b[0mplacement\u001b[0m\u001b[0;34m=\u001b[0m\u001b[0mplacement\u001b[0m\u001b[0;34m)\u001b[0m\u001b[0;34m\u001b[0m\u001b[0;34m\u001b[0m\u001b[0m\n\u001b[0;32m---> 68\u001b[0;31m         \u001b[0;32melif\u001b[0m \u001b[0m_is_uniform_join_units\u001b[0m\u001b[0;34m(\u001b[0m\u001b[0mjoin_units\u001b[0m\u001b[0;34m)\u001b[0m\u001b[0;34m:\u001b[0m\u001b[0;34m\u001b[0m\u001b[0;34m\u001b[0m\u001b[0m\n\u001b[0m\u001b[1;32m     69\u001b[0m             \u001b[0mblk\u001b[0m \u001b[0;34m=\u001b[0m \u001b[0mjoin_units\u001b[0m\u001b[0;34m[\u001b[0m\u001b[0;36m0\u001b[0m\u001b[0;34m]\u001b[0m\u001b[0;34m.\u001b[0m\u001b[0mblock\u001b[0m\u001b[0;34m\u001b[0m\u001b[0;34m\u001b[0m\u001b[0m\n\u001b[1;32m     70\u001b[0m             \u001b[0mvals\u001b[0m \u001b[0;34m=\u001b[0m \u001b[0;34m[\u001b[0m\u001b[0mju\u001b[0m\u001b[0;34m.\u001b[0m\u001b[0mblock\u001b[0m\u001b[0;34m.\u001b[0m\u001b[0mvalues\u001b[0m \u001b[0;32mfor\u001b[0m \u001b[0mju\u001b[0m \u001b[0;32min\u001b[0m \u001b[0mjoin_units\u001b[0m\u001b[0;34m]\u001b[0m\u001b[0;34m\u001b[0m\u001b[0;34m\u001b[0m\u001b[0m\n",
      "\u001b[0;32m~/.local/share/virtualenvs/notebooks-sxqKeO4C/lib/python3.8/site-packages/pandas/core/internals/concat.py\u001b[0m in \u001b[0;36m_is_uniform_join_units\u001b[0;34m(join_units)\u001b[0m\n\u001b[1;32m    489\u001b[0m         \u001b[0;31m# no blocks that would get missing values (can lead to type upcasts)\u001b[0m\u001b[0;34m\u001b[0m\u001b[0;34m\u001b[0m\u001b[0;34m\u001b[0m\u001b[0m\n\u001b[1;32m    490\u001b[0m         \u001b[0;31m# unless we're an extension dtype.\u001b[0m\u001b[0;34m\u001b[0m\u001b[0;34m\u001b[0m\u001b[0;34m\u001b[0m\u001b[0m\n\u001b[0;32m--> 491\u001b[0;31m         \u001b[0mall\u001b[0m\u001b[0;34m(\u001b[0m\u001b[0;32mnot\u001b[0m \u001b[0mju\u001b[0m\u001b[0;34m.\u001b[0m\u001b[0mis_na\u001b[0m \u001b[0;32mor\u001b[0m \u001b[0mju\u001b[0m\u001b[0;34m.\u001b[0m\u001b[0mblock\u001b[0m\u001b[0;34m.\u001b[0m\u001b[0mis_extension\u001b[0m \u001b[0;32mfor\u001b[0m \u001b[0mju\u001b[0m \u001b[0;32min\u001b[0m \u001b[0mjoin_units\u001b[0m\u001b[0;34m)\u001b[0m\u001b[0;34m\u001b[0m\u001b[0;34m\u001b[0m\u001b[0m\n\u001b[0m\u001b[1;32m    492\u001b[0m         \u001b[0;32mand\u001b[0m\u001b[0;34m\u001b[0m\u001b[0;34m\u001b[0m\u001b[0m\n\u001b[1;32m    493\u001b[0m         \u001b[0;31m# no blocks with indexers (as then the dimensions do not fit)\u001b[0m\u001b[0;34m\u001b[0m\u001b[0;34m\u001b[0m\u001b[0;34m\u001b[0m\u001b[0m\n",
      "\u001b[0;32m~/.local/share/virtualenvs/notebooks-sxqKeO4C/lib/python3.8/site-packages/pandas/core/internals/concat.py\u001b[0m in \u001b[0;36m<genexpr>\u001b[0;34m(.0)\u001b[0m\n\u001b[1;32m    489\u001b[0m         \u001b[0;31m# no blocks that would get missing values (can lead to type upcasts)\u001b[0m\u001b[0;34m\u001b[0m\u001b[0;34m\u001b[0m\u001b[0;34m\u001b[0m\u001b[0m\n\u001b[1;32m    490\u001b[0m         \u001b[0;31m# unless we're an extension dtype.\u001b[0m\u001b[0;34m\u001b[0m\u001b[0;34m\u001b[0m\u001b[0;34m\u001b[0m\u001b[0m\n\u001b[0;32m--> 491\u001b[0;31m         \u001b[0mall\u001b[0m\u001b[0;34m(\u001b[0m\u001b[0;32mnot\u001b[0m \u001b[0mju\u001b[0m\u001b[0;34m.\u001b[0m\u001b[0mis_na\u001b[0m \u001b[0;32mor\u001b[0m \u001b[0mju\u001b[0m\u001b[0;34m.\u001b[0m\u001b[0mblock\u001b[0m\u001b[0;34m.\u001b[0m\u001b[0mis_extension\u001b[0m \u001b[0;32mfor\u001b[0m \u001b[0mju\u001b[0m \u001b[0;32min\u001b[0m \u001b[0mjoin_units\u001b[0m\u001b[0;34m)\u001b[0m\u001b[0;34m\u001b[0m\u001b[0;34m\u001b[0m\u001b[0m\n\u001b[0m\u001b[1;32m    492\u001b[0m         \u001b[0;32mand\u001b[0m\u001b[0;34m\u001b[0m\u001b[0;34m\u001b[0m\u001b[0m\n\u001b[1;32m    493\u001b[0m         \u001b[0;31m# no blocks with indexers (as then the dimensions do not fit)\u001b[0m\u001b[0;34m\u001b[0m\u001b[0;34m\u001b[0m\u001b[0;34m\u001b[0m\u001b[0m\n",
      "\u001b[0;31mAttributeError\u001b[0m: 'NoneType' object has no attribute 'is_extension'"
     ]
    }
   ],
   "source": [
    "df_list = []\n",
    "\n",
    "for i, n in zip(clubs_df[\"url\"], clubs_df[\"name\"]):\n",
    "    df_list.append((pd.read_html(i)[0]).assign(clubname=n))\n",
    "\n",
    "df = pd.concat(df_list)"
   ]
  },
  {
   "cell_type": "code",
   "execution_count": null,
   "metadata": {},
   "outputs": [],
   "source": [
    "df_list[0]"
   ]
  },
  {
   "cell_type": "code",
   "execution_count": null,
   "metadata": {},
   "outputs": [],
   "source": [
    "df_clubstats = df.copy()"
   ]
  },
  {
   "cell_type": "code",
   "execution_count": null,
   "metadata": {},
   "outputs": [],
   "source": [
    "df_clubstats.columns = [\"_\".join(col).strip() for col in df_clubstats.columns.values]"
   ]
  },
  {
   "cell_type": "code",
   "execution_count": null,
   "metadata": {},
   "outputs": [],
   "source": [
    "df_clubstats.columns = (\n",
    "    df_clubstats.columns.str.strip()\n",
    "    .str.lower()\n",
    "    .str.replace(\" \", \"_\")\n",
    "    .str.replace(\"(\", \"\")\n",
    "    .str.replace(\")\", \"\")\n",
    "    .str.replace(\"-\", \"_\")\n",
    ")"
   ]
  },
  {
   "cell_type": "code",
   "execution_count": null,
   "metadata": {},
   "outputs": [],
   "source": [
    "df_clubstats.rename(\n",
    "    columns={\n",
    "        \"performance_ast\": \"assists\",\n",
    "        \"performance_crdr\": \"red_cards\",\n",
    "        \"performance_crdy\": \"yellow_cards\",\n",
    "        \"performance_g_pk\": \"non_penalty_goals\",\n",
    "        \"performance_gls\": \"goals\",\n",
    "        \"performance_pk\": \"penalty_kicks\",\n",
    "        \"performance_pkatt\": \"penalty_kick_attempts\",\n",
    "        \"playing_time_90s\": \"playing_time_90\",\n",
    "        \"playing_time_mp\": \"matches_played\",\n",
    "        \"playing_time_min\": \"minutes\",\n",
    "        \"playing_time_starts\": \"starts\",\n",
    "        \"unnamed:_0_level_0_player\": \"player\",\n",
    "        \"unnamed:_1_level_0_nation\": \"nation\",\n",
    "        \"unnamed:_20_level_0_matches\": \"matches\",\n",
    "        \"unnamed:_29_level_0_matches\": \"matches2\",\n",
    "        \"unnamed:_2_level_0_pos\": \"position\",\n",
    "        \"unnamed:_3_level_0_age\": \"age\",\n",
    "        \"clubname_\": \"clubname\",\n",
    "    },\n",
    "    inplace=True,\n",
    ")"
   ]
  },
  {
   "cell_type": "code",
   "execution_count": null,
   "metadata": {},
   "outputs": [],
   "source": [
    "df_clubstats_slim = df_clubstats[\n",
    "    [\n",
    "        \"player\",\n",
    "        \"nation\",\n",
    "        \"clubname\",\n",
    "        \"age\",\n",
    "        \"position\",\n",
    "        \"starts\",\n",
    "        \"minutes\",\n",
    "        \"matches_played\",\n",
    "        \"playing_time_90\",\n",
    "        \"goals\",\n",
    "        \"assists\",\n",
    "        \"penalty_kick_attempts\",\n",
    "        \"penalty_kicks\",\n",
    "        \"non_penalty_goals\",\n",
    "        \"yellow_cards\",\n",
    "        \"red_cards\",\n",
    "    ]\n",
    "].copy()"
   ]
  },
  {
   "cell_type": "code",
   "execution_count": null,
   "metadata": {},
   "outputs": [],
   "source": [
    "df_clubstats_slim[\"nation\"] = df_clubstats_slim[\"nation\"].str.split(\n",
    "    \" \", n=1, expand=True\n",
    ")"
   ]
  },
  {
   "cell_type": "code",
   "execution_count": null,
   "metadata": {},
   "outputs": [],
   "source": [
    "df_clubstats_slim.head()"
   ]
  },
  {
   "cell_type": "code",
   "execution_count": null,
   "metadata": {},
   "outputs": [],
   "source": [
    "df_clubstats_slim = df_clubstats_slim[\n",
    "    (~df_clubstats_slim.player.str.contains(\"Squad Total\"))\n",
    "    & ~df_clubstats_slim.player.str.contains(\"Opponent Total\")\n",
    "]"
   ]
  },
  {
   "cell_type": "code",
   "execution_count": null,
   "metadata": {},
   "outputs": [],
   "source": [
    "df_clubstats_slim.fillna(0, inplace=True)"
   ]
  },
  {
   "cell_type": "code",
   "execution_count": null,
   "metadata": {},
   "outputs": [],
   "source": [
    "df_clubstats_slim.head()"
   ]
  },
  {
   "cell_type": "code",
   "execution_count": null,
   "metadata": {},
   "outputs": [],
   "source": [
    "df_clubstats_slim.to_csv(\"output/club_standard_stats.csv\", index=False)"
   ]
  },
  {
   "cell_type": "code",
   "execution_count": null,
   "metadata": {},
   "outputs": [],
   "source": [
    "df_clubstats_slim[\"updated\"] = today"
   ]
  },
  {
   "cell_type": "code",
   "execution_count": null,
   "metadata": {},
   "outputs": [],
   "source": [
    "cards = (\n",
    "    df_clubstats_slim.groupby([\"clubname\", \"updated\"])\n",
    "    .agg({\"red_cards\": sum, \"yellow_cards\": sum})\n",
    "    .reset_index()\n",
    ")"
   ]
  },
  {
   "cell_type": "code",
   "execution_count": null,
   "metadata": {},
   "outputs": [],
   "source": [
    "cards = cards[[\"clubname\", \"yellow_cards\", \"red_cards\", \"updated\"]]"
   ]
  },
  {
   "cell_type": "code",
   "execution_count": null,
   "metadata": {},
   "outputs": [],
   "source": [
    "cards.sort_values(\"yellow_cards\", ascending=False)"
   ]
  },
  {
   "cell_type": "code",
   "execution_count": null,
   "metadata": {},
   "outputs": [],
   "source": [
    "cards.sort_values(\"yellow_cards\", ascending=False).to_csv(\n",
    "    \"output/club_cards.csv\", index=False\n",
    ")"
   ]
  },
  {
   "cell_type": "markdown",
   "metadata": {},
   "source": [
    "---"
   ]
  },
  {
   "cell_type": "code",
   "execution_count": null,
   "metadata": {},
   "outputs": [],
   "source": [
    "df_list = []\n",
    "\n",
    "for i, n in zip(clubs_df[\"url\"], clubs_df[\"name\"]):\n",
    "    df_list.append((pd.read_html(i)[1]).assign(clubname=n))\n",
    "\n",
    "fixtures_df = pd.concat(df_list)"
   ]
  },
  {
   "cell_type": "code",
   "execution_count": null,
   "metadata": {},
   "outputs": [],
   "source": [
    "fixtures_df.columns = (\n",
    "    fixtures_df.columns.str.strip()\n",
    "    .str.lower()\n",
    "    .str.replace(\" \", \"_\")\n",
    "    .str.replace(\"(\", \"\")\n",
    "    .str.replace(\")\", \"\")\n",
    "    .str.replace(\"-\", \"_\")\n",
    ")"
   ]
  },
  {
   "cell_type": "code",
   "execution_count": null,
   "metadata": {},
   "outputs": [],
   "source": [
    "fixtures_df.drop([\"match_report\", \"notes\"], axis=1, inplace=True)"
   ]
  },
  {
   "cell_type": "code",
   "execution_count": null,
   "metadata": {},
   "outputs": [],
   "source": [
    "fixtures_df = fixtures_df[~fixtures_df[\"result\"].isnull()].copy()"
   ]
  },
  {
   "cell_type": "code",
   "execution_count": null,
   "metadata": {},
   "outputs": [],
   "source": [
    "fixtures_df[\"updated\"] = today"
   ]
  },
  {
   "cell_type": "code",
   "execution_count": null,
   "metadata": {},
   "outputs": [],
   "source": [
    "premier_league_fixtures = fixtures_df[fixtures_df[\"comp\"] == \"Premier League\"].copy()"
   ]
  },
  {
   "cell_type": "code",
   "execution_count": null,
   "metadata": {},
   "outputs": [],
   "source": [
    "premier_league_fixtures.to_csv(\"output/club_premier_league_fixtures.csv\", index=False)"
   ]
  },
  {
   "cell_type": "markdown",
   "metadata": {},
   "source": [
    "---"
   ]
  },
  {
   "cell_type": "markdown",
   "metadata": {},
   "source": [
    "### Seasons"
   ]
  },
  {
   "cell_type": "code",
   "execution_count": null,
   "metadata": {},
   "outputs": [],
   "source": [
    "seasons_url = \"https://fbref.com/en/comps/9/history/Premier-League-Seasons\""
   ]
  },
  {
   "cell_type": "code",
   "execution_count": null,
   "metadata": {},
   "outputs": [],
   "source": [
    "seasons_df = pd.read_html(seasons_url)[0]"
   ]
  },
  {
   "cell_type": "code",
   "execution_count": null,
   "metadata": {},
   "outputs": [],
   "source": [
    "seasons_df.columns = (\n",
    "    seasons_df.columns.str.strip()\n",
    "    .str.lower()\n",
    "    .str.replace(\" \", \"_\")\n",
    "    .str.replace(\"(\", \"\")\n",
    "    .str.replace(\")\", \"\")\n",
    "    .str.replace(\"-\", \"_\")\n",
    ")"
   ]
  },
  {
   "cell_type": "code",
   "execution_count": null,
   "metadata": {},
   "outputs": [],
   "source": [
    "seasons_df[[\"top_scorer\", \"top_scorer_goals\"]] = seasons_df[\"top_scorer\"].str.split(\n",
    "    \" - \", 1, expand=True\n",
    ")"
   ]
  },
  {
   "cell_type": "code",
   "execution_count": null,
   "metadata": {},
   "outputs": [],
   "source": [
    "seasons_df[\"updated\"] = today"
   ]
  },
  {
   "cell_type": "code",
   "execution_count": null,
   "metadata": {},
   "outputs": [],
   "source": [
    "r = requests.get(\"https://fbref.com/en/comps/9/history/Premier-League-Seasons\")\n",
    "soup = bs(r.content, \"html\")"
   ]
  },
  {
   "cell_type": "code",
   "execution_count": null,
   "metadata": {},
   "outputs": [],
   "source": [
    "links = pd.DataFrame(\n",
    "    [\n",
    "        (i.text, \"https://fbref.com/en/comps/9\" + i[\"href\"])\n",
    "        for i in soup.select(\"tbody th:nth-of-type(1) a\")\n",
    "    ],\n",
    "    columns=[\"season\", \"link\"],\n",
    ")"
   ]
  },
  {
   "cell_type": "code",
   "execution_count": null,
   "metadata": {},
   "outputs": [],
   "source": [
    "seasons_w_link = pd.merge(seasons_df, links, on=\"season\")"
   ]
  },
  {
   "cell_type": "code",
   "execution_count": null,
   "metadata": {},
   "outputs": [],
   "source": [
    "seasons_w_link.to_csv(\"output/premier_league_winners_history.csv\", index=False)"
   ]
  }
 ],
 "metadata": {
  "kernelspec": {
   "display_name": "Python 3",
   "language": "python",
   "name": "python3"
  },
  "language_info": {
   "codemirror_mode": {
    "name": "ipython",
    "version": 3
   },
   "file_extension": ".py",
   "mimetype": "text/x-python",
   "name": "python",
   "nbconvert_exporter": "python",
   "pygments_lexer": "ipython3",
   "version": "3.8.2"
  }
 },
 "nbformat": 4,
 "nbformat_minor": 4
}
