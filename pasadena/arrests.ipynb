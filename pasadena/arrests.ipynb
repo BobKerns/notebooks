{
 "cells": [
  {
   "cell_type": "markdown",
   "id": "56e29118-499f-4aaf-9631-a5dbe736297a",
   "metadata": {},
   "source": [
    "# Processing Pasadena (Texas) police arrests: 2016-2021"
   ]
  },
  {
   "cell_type": "markdown",
   "id": "c40693d6-69e1-4043-bab2-5e2f8e93a37e",
   "metadata": {},
   "source": [
    "### Import Python tools and Jupyter configuration"
   ]
  },
  {
   "cell_type": "code",
   "execution_count": 1,
   "id": "99cd1c64-a49c-414e-acb7-f64b9af4e884",
   "metadata": {},
   "outputs": [],
   "source": [
    "%load_ext lab_black"
   ]
  },
  {
   "cell_type": "code",
   "execution_count": 2,
   "id": "958803e1-82fd-4fc2-8b77-fdcc0e55bc92",
   "metadata": {},
   "outputs": [],
   "source": [
    "import pandas as pd\n",
    "import geopandas as gpd\n",
    "import datetime as dt\n",
    "import matplotlib.pyplot as plt\n",
    "import altair as alt"
   ]
  },
  {
   "cell_type": "code",
   "execution_count": 3,
   "id": "2443291e-4112-4610-91d0-19ae0e46d950",
   "metadata": {},
   "outputs": [],
   "source": [
    "pd.options.display.max_columns = 100\n",
    "pd.options.display.max_rows = 1000\n",
    "pd.options.display.max_colwidth = None"
   ]
  },
  {
   "cell_type": "markdown",
   "id": "f9b62239-f4a1-46e2-9af1-3258f0520850",
   "metadata": {},
   "source": [
    "### Read the raw data"
   ]
  },
  {
   "cell_type": "code",
   "execution_count": 4,
   "id": "adf90c35-7df9-4a8a-8007-89c9e0b39c3d",
   "metadata": {},
   "outputs": [],
   "source": [
    "src = pd.read_excel(\"data/raw/Adult_Arrest_Data_-_01012016-05072021.xlsx\", skiprows=1)"
   ]
  },
  {
   "cell_type": "code",
   "execution_count": 5,
   "id": "fe1bbc85-e09e-4f7e-8e6f-54c9caffd5e5",
   "metadata": {},
   "outputs": [],
   "source": [
    "src.columns = (\n",
    "    src.columns.str.lower()\n",
    "    .str.replace(\":\", \"\", regex=False)\n",
    "    .str.replace(\" \", \"_\", regex=False)\n",
    "    .str.replace(\"#\", \"_no\", regex=False)\n",
    ")"
   ]
  },
  {
   "cell_type": "markdown",
   "id": "8187cd89-3035-4bda-9b23-84b77dbb659f",
   "metadata": {},
   "source": [
    "### Dates"
   ]
  },
  {
   "cell_type": "code",
   "execution_count": 6,
   "id": "c86c421d-6420-4f2f-9d7d-414c12c40d9d",
   "metadata": {},
   "outputs": [],
   "source": [
    "src[\"arrest_date\"] = pd.to_datetime(src[\"arrest_date\"], format=\"%m/%d/%Y\")\n",
    "src[\"arrest_date\"] = pd.to_datetime(src[\"arrest_date\"].dt.strftime(\"%Y-%m-%d\"))\n",
    "src[\"year\"] = src[\"arrest_date\"].dt.year\n",
    "src[\"quarter\"] = src[\"arrest_date\"].dt.quarter\n",
    "src[\"day\"] = src[\"arrest_date\"].dt.day\n",
    "src[\"month\"] = src[\"arrest_date\"].dt.month\n",
    "src[\"weekday\"] = src[\"arrest_date\"].dt.weekday\n",
    "src[\"monthname\"] = src[\"arrest_date\"].dt.month_name()\n",
    "src[\"month_year\"] = pd.to_datetime(src[\"arrest_date\"]).dt.to_period(\"M\")\n",
    "src[\"month_year_full\"] = src[\"arrest_date\"].apply(lambda x: x.strftime(\"%B-%Y\"))\n",
    "src[\"month_year_full\"] = pd.to_datetime(src[\"month_year_full\"])"
   ]
  },
  {
   "cell_type": "markdown",
   "id": "5cb97a86-c887-496d-b8fc-206812e4e43e",
   "metadata": {},
   "source": [
    "### Times"
   ]
  },
  {
   "cell_type": "code",
   "execution_count": 7,
   "id": "7e2ddf67-adf7-46f4-b636-ca84b8e5280a",
   "metadata": {},
   "outputs": [],
   "source": [
    "src[\"arrest_time\"] = src[\"arrest_time\"].astype(str).str.zfill(4)\n",
    "src[\"arrest_hour\"] = src[\"arrest_time\"].str[:2]\n",
    "src[\"arrest_minute\"] = src[\"arrest_time\"].str[-2:]\n",
    "src[\"arrest_time_full\"] = pd.to_datetime(\n",
    "    src[\"arrest_hour\"] + \":\" + src[\"arrest_minute\"], format=\"%H:%M\"\n",
    ").dt.time\n",
    "src[\"arrest_hour\"] = src[\"arrest_hour\"].astype(int)\n",
    "src[\"arrest_minute\"] = src[\"arrest_minute\"].astype(int)"
   ]
  },
  {
   "cell_type": "markdown",
   "id": "3c3b74e0-181f-459b-bae5-f119bd188fc7",
   "metadata": {},
   "source": [
    "### Categorize the time of arrest"
   ]
  },
  {
   "cell_type": "code",
   "execution_count": 8,
   "id": "aa3fe274-3e9c-4b20-ad06-40c08cbced31",
   "metadata": {},
   "outputs": [],
   "source": [
    "def categorize_hours(h):\n",
    "    if (h > 4) and (h <= 8):\n",
    "        return \"Early Morning\"\n",
    "    elif (h > 8) and (h <= 12):\n",
    "        return \"Morning\"\n",
    "    elif (h > 12) and (h <= 16):\n",
    "        return \"Noon\"\n",
    "    elif (h > 16) and (h <= 20):\n",
    "        return \"Evening\"\n",
    "    elif (h > 20) and (h <= 24):\n",
    "        return \"Night\"\n",
    "    elif h <= 4:\n",
    "        return \"Late Night\""
   ]
  },
  {
   "cell_type": "code",
   "execution_count": 9,
   "id": "76d8e3b8-1427-47ff-b61e-8ebfbdb91814",
   "metadata": {},
   "outputs": [],
   "source": [
    "src[\"arrest_time_period\"] = src[\"arrest_hour\"].apply(categorize_hours)"
   ]
  },
  {
   "cell_type": "code",
   "execution_count": 10,
   "id": "ec9b312e-c395-4965-b820-686d7891458a",
   "metadata": {},
   "outputs": [],
   "source": [
    "src[\"arrest_charge\"] = src[\"arrest_charge\"].str.upper()"
   ]
  },
  {
   "cell_type": "markdown",
   "id": "ea44b8e4-fb79-4388-aae5-8b9d73d419ba",
   "metadata": {},
   "source": [
    "---"
   ]
  },
  {
   "cell_type": "code",
   "execution_count": 11,
   "id": "1657627a-0863-417e-b612-176bf14832f1",
   "metadata": {},
   "outputs": [],
   "source": [
    "df = src.copy()"
   ]
  },
  {
   "cell_type": "code",
   "execution_count": 12,
   "id": "6bf0d60a-3143-4d69-b847-8a91994682fd",
   "metadata": {},
   "outputs": [
    {
     "data": {
      "text/html": [
       "<div>\n",
       "<style scoped>\n",
       "    .dataframe tbody tr th:only-of-type {\n",
       "        vertical-align: middle;\n",
       "    }\n",
       "\n",
       "    .dataframe tbody tr th {\n",
       "        vertical-align: top;\n",
       "    }\n",
       "\n",
       "    .dataframe thead th {\n",
       "        text-align: right;\n",
       "    }\n",
       "</style>\n",
       "<table border=\"1\" class=\"dataframe\">\n",
       "  <thead>\n",
       "    <tr style=\"text-align: right;\">\n",
       "      <th></th>\n",
       "      <th>case__no</th>\n",
       "      <th>arrest_date</th>\n",
       "      <th>arrest_time</th>\n",
       "      <th>arresting_agency</th>\n",
       "      <th>arresting_officer</th>\n",
       "      <th>arrestee_age</th>\n",
       "      <th>arrestee_sex</th>\n",
       "      <th>arrestee_race</th>\n",
       "      <th>arrestee_ethnicity</th>\n",
       "      <th>arrest_charge</th>\n",
       "      <th>arrest_location</th>\n",
       "      <th>city</th>\n",
       "      <th>state</th>\n",
       "      <th>zip_code</th>\n",
       "      <th>geox</th>\n",
       "      <th>geoy</th>\n",
       "      <th>year</th>\n",
       "      <th>quarter</th>\n",
       "      <th>day</th>\n",
       "      <th>month</th>\n",
       "      <th>weekday</th>\n",
       "      <th>monthname</th>\n",
       "      <th>month_year</th>\n",
       "      <th>month_year_full</th>\n",
       "      <th>arrest_hour</th>\n",
       "      <th>arrest_minute</th>\n",
       "      <th>arrest_time_full</th>\n",
       "      <th>arrest_time_period</th>\n",
       "    </tr>\n",
       "  </thead>\n",
       "  <tbody>\n",
       "    <tr>\n",
       "      <th>0</th>\n",
       "      <td>21006943</td>\n",
       "      <td>2021-05-07</td>\n",
       "      <td>0050</td>\n",
       "      <td>PPD</td>\n",
       "      <td>SLIGHT, N</td>\n",
       "      <td>35</td>\n",
       "      <td>M</td>\n",
       "      <td>B</td>\n",
       "      <td>N</td>\n",
       "      <td>DRIVING WHILE INTOXICATED - MA &amp; MB</td>\n",
       "      <td>3100 E NASA PKWY/SPACE CENTER BLVD</td>\n",
       "      <td>PASADENA</td>\n",
       "      <td>TX</td>\n",
       "      <td>77058</td>\n",
       "      <td>3216028.75</td>\n",
       "      <td>13771449</td>\n",
       "      <td>2021</td>\n",
       "      <td>2</td>\n",
       "      <td>7</td>\n",
       "      <td>5</td>\n",
       "      <td>4</td>\n",
       "      <td>May</td>\n",
       "      <td>2021-05</td>\n",
       "      <td>2021-05-01</td>\n",
       "      <td>0</td>\n",
       "      <td>50</td>\n",
       "      <td>00:50:00</td>\n",
       "      <td>Late Night</td>\n",
       "    </tr>\n",
       "    <tr>\n",
       "      <th>1</th>\n",
       "      <td>21006951</td>\n",
       "      <td>2021-05-07</td>\n",
       "      <td>0438</td>\n",
       "      <td>PPD</td>\n",
       "      <td>SMITH, K</td>\n",
       "      <td>50</td>\n",
       "      <td>M</td>\n",
       "      <td>W</td>\n",
       "      <td>N</td>\n",
       "      <td>HOLD PPD - FOR FURTHER INVESTIGATION, M</td>\n",
       "      <td>7015 SPENCER HWY</td>\n",
       "      <td>PASADENA</td>\n",
       "      <td>TX</td>\n",
       "      <td>77505</td>\n",
       "      <td>3197134.50</td>\n",
       "      <td>13809154</td>\n",
       "      <td>2021</td>\n",
       "      <td>2</td>\n",
       "      <td>7</td>\n",
       "      <td>5</td>\n",
       "      <td>4</td>\n",
       "      <td>May</td>\n",
       "      <td>2021-05</td>\n",
       "      <td>2021-05-01</td>\n",
       "      <td>4</td>\n",
       "      <td>38</td>\n",
       "      <td>04:38:00</td>\n",
       "      <td>Late Night</td>\n",
       "    </tr>\n",
       "    <tr>\n",
       "      <th>2</th>\n",
       "      <td>21006951</td>\n",
       "      <td>2021-05-07</td>\n",
       "      <td>0438</td>\n",
       "      <td>PPD</td>\n",
       "      <td>SMITH, K</td>\n",
       "      <td>50</td>\n",
       "      <td>M</td>\n",
       "      <td>W</td>\n",
       "      <td>NaN</td>\n",
       "      <td>93OC - OUTSIDE WARRANT (CLASS C), M</td>\n",
       "      <td>7015 SPENCER HWY</td>\n",
       "      <td>PASADENA</td>\n",
       "      <td>TX</td>\n",
       "      <td>77505</td>\n",
       "      <td>3197134.50</td>\n",
       "      <td>13809154</td>\n",
       "      <td>2021</td>\n",
       "      <td>2</td>\n",
       "      <td>7</td>\n",
       "      <td>5</td>\n",
       "      <td>4</td>\n",
       "      <td>May</td>\n",
       "      <td>2021-05</td>\n",
       "      <td>2021-05-01</td>\n",
       "      <td>4</td>\n",
       "      <td>38</td>\n",
       "      <td>04:38:00</td>\n",
       "      <td>Late Night</td>\n",
       "    </tr>\n",
       "    <tr>\n",
       "      <th>3</th>\n",
       "      <td>21006951</td>\n",
       "      <td>2021-05-07</td>\n",
       "      <td>0438</td>\n",
       "      <td>PPD</td>\n",
       "      <td>SMITH, K</td>\n",
       "      <td>50</td>\n",
       "      <td>M</td>\n",
       "      <td>W</td>\n",
       "      <td>NaN</td>\n",
       "      <td>NO CHARGES HAVE BEEN ADDED</td>\n",
       "      <td>7015 SPENCER HWY</td>\n",
       "      <td>PASADENA</td>\n",
       "      <td>TX</td>\n",
       "      <td>77505</td>\n",
       "      <td>3197134.50</td>\n",
       "      <td>13809154</td>\n",
       "      <td>2021</td>\n",
       "      <td>2</td>\n",
       "      <td>7</td>\n",
       "      <td>5</td>\n",
       "      <td>4</td>\n",
       "      <td>May</td>\n",
       "      <td>2021-05</td>\n",
       "      <td>2021-05-01</td>\n",
       "      <td>4</td>\n",
       "      <td>38</td>\n",
       "      <td>04:38:00</td>\n",
       "      <td>Late Night</td>\n",
       "    </tr>\n",
       "    <tr>\n",
       "      <th>4</th>\n",
       "      <td>21006964</td>\n",
       "      <td>2021-05-07</td>\n",
       "      <td>1130</td>\n",
       "      <td>PPD</td>\n",
       "      <td>ROHM, A</td>\n",
       "      <td>41</td>\n",
       "      <td>M</td>\n",
       "      <td>W</td>\n",
       "      <td>H</td>\n",
       "      <td>PAROLE VIOLATOR</td>\n",
       "      <td>2706 CHERRYBROOK LN</td>\n",
       "      <td>PASADENA</td>\n",
       "      <td>TX</td>\n",
       "      <td>77502</td>\n",
       "      <td>3182997.00</td>\n",
       "      <td>13813571</td>\n",
       "      <td>2021</td>\n",
       "      <td>2</td>\n",
       "      <td>7</td>\n",
       "      <td>5</td>\n",
       "      <td>4</td>\n",
       "      <td>May</td>\n",
       "      <td>2021-05</td>\n",
       "      <td>2021-05-01</td>\n",
       "      <td>11</td>\n",
       "      <td>30</td>\n",
       "      <td>11:30:00</td>\n",
       "      <td>Morning</td>\n",
       "    </tr>\n",
       "  </tbody>\n",
       "</table>\n",
       "</div>"
      ],
      "text/plain": [
       "   case__no arrest_date arrest_time arresting_agency arresting_officer  \\\n",
       "0  21006943  2021-05-07        0050              PPD         SLIGHT, N   \n",
       "1  21006951  2021-05-07        0438              PPD          SMITH, K   \n",
       "2  21006951  2021-05-07        0438              PPD          SMITH, K   \n",
       "3  21006951  2021-05-07        0438              PPD          SMITH, K   \n",
       "4  21006964  2021-05-07        1130              PPD           ROHM, A   \n",
       "\n",
       "  arrestee_age arrestee_sex arrestee_race arrestee_ethnicity  \\\n",
       "0           35            M             B                  N   \n",
       "1           50            M             W                  N   \n",
       "2           50            M             W                NaN   \n",
       "3           50            M             W                NaN   \n",
       "4           41            M             W                  H   \n",
       "\n",
       "                             arrest_charge  \\\n",
       "0      DRIVING WHILE INTOXICATED - MA & MB   \n",
       "1  HOLD PPD - FOR FURTHER INVESTIGATION, M   \n",
       "2      93OC - OUTSIDE WARRANT (CLASS C), M   \n",
       "3               NO CHARGES HAVE BEEN ADDED   \n",
       "4                          PAROLE VIOLATOR   \n",
       "\n",
       "                      arrest_location      city state zip_code        geox  \\\n",
       "0  3100 E NASA PKWY/SPACE CENTER BLVD  PASADENA    TX    77058  3216028.75   \n",
       "1                    7015 SPENCER HWY  PASADENA    TX    77505  3197134.50   \n",
       "2                    7015 SPENCER HWY  PASADENA    TX    77505  3197134.50   \n",
       "3                    7015 SPENCER HWY  PASADENA    TX    77505  3197134.50   \n",
       "4                 2706 CHERRYBROOK LN  PASADENA    TX    77502  3182997.00   \n",
       "\n",
       "       geoy  year  quarter  day  month  weekday monthname month_year  \\\n",
       "0  13771449  2021        2    7      5        4       May    2021-05   \n",
       "1  13809154  2021        2    7      5        4       May    2021-05   \n",
       "2  13809154  2021        2    7      5        4       May    2021-05   \n",
       "3  13809154  2021        2    7      5        4       May    2021-05   \n",
       "4  13813571  2021        2    7      5        4       May    2021-05   \n",
       "\n",
       "  month_year_full  arrest_hour  arrest_minute arrest_time_full  \\\n",
       "0      2021-05-01            0             50         00:50:00   \n",
       "1      2021-05-01            4             38         04:38:00   \n",
       "2      2021-05-01            4             38         04:38:00   \n",
       "3      2021-05-01            4             38         04:38:00   \n",
       "4      2021-05-01           11             30         11:30:00   \n",
       "\n",
       "  arrest_time_period  \n",
       "0         Late Night  \n",
       "1         Late Night  \n",
       "2         Late Night  \n",
       "3         Late Night  \n",
       "4            Morning  "
      ]
     },
     "execution_count": 12,
     "metadata": {},
     "output_type": "execute_result"
    }
   ],
   "source": [
    "df.head()"
   ]
  },
  {
   "cell_type": "markdown",
   "id": "1ae08f50-345c-424f-8bdf-3c23472aa9bf",
   "metadata": {},
   "source": [
    "### Jose Manuel Garcia case"
   ]
  },
  {
   "cell_type": "code",
   "execution_count": 13,
   "id": "ec3d7ce2-3165-4470-8be2-c91be7d27e83",
   "metadata": {},
   "outputs": [
    {
     "data": {
      "text/plain": [
       "case__no                         19016065\n",
       "arrest_date           2019-09-24 00:00:00\n",
       "arrest_time                          1804\n",
       "arresting_agency                      PPD\n",
       "arresting_officer               CARTER, J\n",
       "arrestee_age                           41\n",
       "arrestee_sex                            M\n",
       "arrestee_race                           W\n",
       "arrestee_ethnicity                      H\n",
       "arrest_charge               ASSAULT - FEL\n",
       "arrest_location          2801 SPENCER HWY\n",
       "city                             PASADENA\n",
       "state                                  TX\n",
       "zip_code                            77504\n",
       "geox                           3174699.75\n",
       "geoy                             13808897\n",
       "year                                 2019\n",
       "quarter                                 3\n",
       "day                                    24\n",
       "month                                   9\n",
       "weekday                                 1\n",
       "monthname                       September\n",
       "month_year                        2019-09\n",
       "month_year_full       2019-09-01 00:00:00\n",
       "arrest_hour                            18\n",
       "arrest_minute                           4\n",
       "arrest_time_full                 18:04:00\n",
       "arrest_time_period                Evening\n",
       "Name: 8202, dtype: object"
      ]
     },
     "execution_count": 13,
     "metadata": {},
     "output_type": "execute_result"
    }
   ],
   "source": [
    "df[df[\"case__no\"].fillna(\"\").str.contains(\"19016065\")].iloc[0]"
   ]
  },
  {
   "cell_type": "markdown",
   "id": "496ee04f-c7ad-418f-bc2a-5e53ded3ffb4",
   "metadata": {},
   "source": [
    "### Arrests by Officer Carter"
   ]
  },
  {
   "cell_type": "code",
   "execution_count": 14,
   "id": "1393504a-da79-432c-9baa-5d9906824e57",
   "metadata": {},
   "outputs": [],
   "source": [
    "df_carter = df[df[\"arresting_officer\"] == \"CARTER, J\"]"
   ]
  },
  {
   "cell_type": "code",
   "execution_count": 15,
   "id": "878dfbe2-feec-4dc2-a099-90dfdd0978b3",
   "metadata": {},
   "outputs": [
    {
     "data": {
      "text/plain": [
       "473"
      ]
     },
     "execution_count": 15,
     "metadata": {},
     "output_type": "execute_result"
    }
   ],
   "source": [
    "len(df_carter)"
   ]
  },
  {
   "cell_type": "markdown",
   "id": "4909a427-4409-4727-93ee-16917d763ef7",
   "metadata": {},
   "source": [
    "### Group Officer Carter arrests by dates"
   ]
  },
  {
   "cell_type": "code",
   "execution_count": 16,
   "id": "ce8a8d3d-71ac-410f-8a44-ebcc87213575",
   "metadata": {},
   "outputs": [],
   "source": [
    "df_carter_dates = (\n",
    "    df_carter.groupby([\"month_year_full\"])[\"case__no\"]\n",
    "    .size()\n",
    "    .reset_index(name=\"cases_count\")\n",
    ").sort_values(\"cases_count\", ascending=False)"
   ]
  },
  {
   "cell_type": "markdown",
   "id": "45509cf4-afdd-44c7-8b6f-e4c51e7de4c5",
   "metadata": {},
   "source": [
    "### What were his most productive months"
   ]
  },
  {
   "cell_type": "code",
   "execution_count": 17,
   "id": "5d355f6b-e91b-42b8-9ef0-32f7847edd06",
   "metadata": {},
   "outputs": [
    {
     "data": {
      "text/html": [
       "<div>\n",
       "<style scoped>\n",
       "    .dataframe tbody tr th:only-of-type {\n",
       "        vertical-align: middle;\n",
       "    }\n",
       "\n",
       "    .dataframe tbody tr th {\n",
       "        vertical-align: top;\n",
       "    }\n",
       "\n",
       "    .dataframe thead th {\n",
       "        text-align: right;\n",
       "    }\n",
       "</style>\n",
       "<table border=\"1\" class=\"dataframe\">\n",
       "  <thead>\n",
       "    <tr style=\"text-align: right;\">\n",
       "      <th></th>\n",
       "      <th>month_year_full</th>\n",
       "      <th>cases_count</th>\n",
       "    </tr>\n",
       "  </thead>\n",
       "  <tbody>\n",
       "    <tr>\n",
       "      <th>18</th>\n",
       "      <td>2019-06-01</td>\n",
       "      <td>23</td>\n",
       "    </tr>\n",
       "    <tr>\n",
       "      <th>25</th>\n",
       "      <td>2020-01-01</td>\n",
       "      <td>22</td>\n",
       "    </tr>\n",
       "    <tr>\n",
       "      <th>13</th>\n",
       "      <td>2018-08-01</td>\n",
       "      <td>21</td>\n",
       "    </tr>\n",
       "    <tr>\n",
       "      <th>12</th>\n",
       "      <td>2018-07-01</td>\n",
       "      <td>18</td>\n",
       "    </tr>\n",
       "    <tr>\n",
       "      <th>20</th>\n",
       "      <td>2019-08-01</td>\n",
       "      <td>17</td>\n",
       "    </tr>\n",
       "  </tbody>\n",
       "</table>\n",
       "</div>"
      ],
      "text/plain": [
       "   month_year_full  cases_count\n",
       "18      2019-06-01           23\n",
       "25      2020-01-01           22\n",
       "13      2018-08-01           21\n",
       "12      2018-07-01           18\n",
       "20      2019-08-01           17"
      ]
     },
     "execution_count": 17,
     "metadata": {},
     "output_type": "execute_result"
    }
   ],
   "source": [
    "df_carter_dates.sort_values(\"cases_count\", ascending=False).head()"
   ]
  },
  {
   "cell_type": "markdown",
   "id": "03725953-bc7d-4300-ae05-59a312ba9eaf",
   "metadata": {},
   "source": [
    "### No arrests between October 2018 and February 2019. Same in March and April 2020"
   ]
  },
  {
   "cell_type": "code",
   "execution_count": 18,
   "id": "c481af8e-a728-46c9-94f5-5c10b6e60fa6",
   "metadata": {},
   "outputs": [
    {
     "data": {
      "text/html": [
       "\n",
       "<div id=\"altair-viz-c282437d41d84b0f9e63c33845092544\"></div>\n",
       "<script type=\"text/javascript\">\n",
       "  (function(spec, embedOpt){\n",
       "    let outputDiv = document.currentScript.previousElementSibling;\n",
       "    if (outputDiv.id !== \"altair-viz-c282437d41d84b0f9e63c33845092544\") {\n",
       "      outputDiv = document.getElementById(\"altair-viz-c282437d41d84b0f9e63c33845092544\");\n",
       "    }\n",
       "    const paths = {\n",
       "      \"vega\": \"https://cdn.jsdelivr.net/npm//vega@5?noext\",\n",
       "      \"vega-lib\": \"https://cdn.jsdelivr.net/npm//vega-lib?noext\",\n",
       "      \"vega-lite\": \"https://cdn.jsdelivr.net/npm//vega-lite@4.8.1?noext\",\n",
       "      \"vega-embed\": \"https://cdn.jsdelivr.net/npm//vega-embed@6?noext\",\n",
       "    };\n",
       "\n",
       "    function loadScript(lib) {\n",
       "      return new Promise(function(resolve, reject) {\n",
       "        var s = document.createElement('script');\n",
       "        s.src = paths[lib];\n",
       "        s.async = true;\n",
       "        s.onload = () => resolve(paths[lib]);\n",
       "        s.onerror = () => reject(`Error loading script: ${paths[lib]}`);\n",
       "        document.getElementsByTagName(\"head\")[0].appendChild(s);\n",
       "      });\n",
       "    }\n",
       "\n",
       "    function showError(err) {\n",
       "      outputDiv.innerHTML = `<div class=\"error\" style=\"color:red;\">${err}</div>`;\n",
       "      throw err;\n",
       "    }\n",
       "\n",
       "    function displayChart(vegaEmbed) {\n",
       "      vegaEmbed(outputDiv, spec, embedOpt)\n",
       "        .catch(err => showError(`Javascript Error: ${err.message}<br>This usually means there's a typo in your chart specification. See the javascript console for the full traceback.`));\n",
       "    }\n",
       "\n",
       "    if(typeof define === \"function\" && define.amd) {\n",
       "      requirejs.config({paths});\n",
       "      require([\"vega-embed\"], displayChart, err => showError(`Error loading script: ${err.message}`));\n",
       "    } else if (typeof vegaEmbed === \"function\") {\n",
       "      displayChart(vegaEmbed);\n",
       "    } else {\n",
       "      loadScript(\"vega\")\n",
       "        .then(() => loadScript(\"vega-lite\"))\n",
       "        .then(() => loadScript(\"vega-embed\"))\n",
       "        .catch(showError)\n",
       "        .then(() => displayChart(vegaEmbed));\n",
       "    }\n",
       "  })({\"config\": {\"view\": {\"continuousWidth\": 400, \"continuousHeight\": 300, \"strokeOpacity\": 0}}, \"data\": {\"name\": \"data-c12b5da8286b22b53b20e71aa4c13230\"}, \"mark\": {\"type\": \"bar\", \"size\": 15}, \"encoding\": {\"x\": {\"type\": \"temporal\", \"axis\": {\"format\": \"%b %y\", \"grid\": false}, \"field\": \"month_year_full\", \"title\": \"Month/Year\"}, \"y\": {\"type\": \"quantitative\", \"axis\": {\"domainOpacity\": 0, \"gridColor\": \"#dddddd\", \"offset\": 6, \"tickCount\": 6, \"tickSize\": 0, \"title\": \"Arrests per month\"}, \"field\": \"cases_count\"}}, \"height\": 500, \"title\": \"Officer Carter 'assault' arrests by month and year\", \"width\": 1000, \"$schema\": \"https://vega.github.io/schema/vega-lite/v4.8.1.json\", \"datasets\": {\"data-c12b5da8286b22b53b20e71aa4c13230\": [{\"month_year_full\": \"2019-06-01T00:00:00\", \"cases_count\": 23}, {\"month_year_full\": \"2020-01-01T00:00:00\", \"cases_count\": 22}, {\"month_year_full\": \"2018-08-01T00:00:00\", \"cases_count\": 21}, {\"month_year_full\": \"2018-07-01T00:00:00\", \"cases_count\": 18}, {\"month_year_full\": \"2019-08-01T00:00:00\", \"cases_count\": 17}, {\"month_year_full\": \"2017-10-01T00:00:00\", \"cases_count\": 17}, {\"month_year_full\": \"2019-09-01T00:00:00\", \"cases_count\": 17}, {\"month_year_full\": \"2017-08-01T00:00:00\", \"cases_count\": 16}, {\"month_year_full\": \"2018-06-01T00:00:00\", \"cases_count\": 16}, {\"month_year_full\": \"2019-05-01T00:00:00\", \"cases_count\": 16}, {\"month_year_full\": \"2018-03-01T00:00:00\", \"cases_count\": 16}, {\"month_year_full\": \"2017-12-01T00:00:00\", \"cases_count\": 16}, {\"month_year_full\": \"2017-09-01T00:00:00\", \"cases_count\": 16}, {\"month_year_full\": \"2021-04-01T00:00:00\", \"cases_count\": 15}, {\"month_year_full\": \"2017-11-01T00:00:00\", \"cases_count\": 14}, {\"month_year_full\": \"2019-07-01T00:00:00\", \"cases_count\": 14}, {\"month_year_full\": \"2019-12-01T00:00:00\", \"cases_count\": 14}, {\"month_year_full\": \"2019-11-01T00:00:00\", \"cases_count\": 13}, {\"month_year_full\": \"2017-07-01T00:00:00\", \"cases_count\": 13}, {\"month_year_full\": \"2021-03-01T00:00:00\", \"cases_count\": 12}, {\"month_year_full\": \"2021-01-01T00:00:00\", \"cases_count\": 12}, {\"month_year_full\": \"2020-09-01T00:00:00\", \"cases_count\": 10}, {\"month_year_full\": \"2018-05-01T00:00:00\", \"cases_count\": 10}, {\"month_year_full\": \"2018-04-01T00:00:00\", \"cases_count\": 10}, {\"month_year_full\": \"2020-10-01T00:00:00\", \"cases_count\": 10}, {\"month_year_full\": \"2018-01-01T00:00:00\", \"cases_count\": 9}, {\"month_year_full\": \"2019-04-01T00:00:00\", \"cases_count\": 8}, {\"month_year_full\": \"2020-12-01T00:00:00\", \"cases_count\": 8}, {\"month_year_full\": \"2020-11-01T00:00:00\", \"cases_count\": 8}, {\"month_year_full\": \"2020-07-01T00:00:00\", \"cases_count\": 8}, {\"month_year_full\": \"2019-10-01T00:00:00\", \"cases_count\": 8}, {\"month_year_full\": \"2020-06-01T00:00:00\", \"cases_count\": 7}, {\"month_year_full\": \"2018-02-01T00:00:00\", \"cases_count\": 7}, {\"month_year_full\": \"2020-08-01T00:00:00\", \"cases_count\": 6}, {\"month_year_full\": \"2019-03-01T00:00:00\", \"cases_count\": 6}, {\"month_year_full\": \"2020-05-01T00:00:00\", \"cases_count\": 6}, {\"month_year_full\": \"2020-02-01T00:00:00\", \"cases_count\": 6}, {\"month_year_full\": \"2018-09-01T00:00:00\", \"cases_count\": 5}, {\"month_year_full\": \"2021-05-01T00:00:00\", \"cases_count\": 2}, {\"month_year_full\": \"2021-02-01T00:00:00\", \"cases_count\": 1}]}}, {\"mode\": \"vega-lite\"});\n",
       "</script>"
      ],
      "text/plain": [
       "alt.Chart(...)"
      ]
     },
     "execution_count": 18,
     "metadata": {},
     "output_type": "execute_result"
    }
   ],
   "source": [
    "month_year_chart = (\n",
    "    alt.Chart(df_carter_dates)\n",
    "    .mark_bar(size=15)\n",
    "    .encode(\n",
    "        x=alt.X(\n",
    "            \"month_year_full:T\",\n",
    "            axis=alt.Axis(format=\"%b %y\", grid=False),\n",
    "            title=\"Month/Year\",\n",
    "        ),\n",
    "        y=alt.Y(\n",
    "            \"cases_count:Q\",\n",
    "            axis=alt.Axis(\n",
    "                tickCount=6,\n",
    "                gridColor=\"#dddddd\",\n",
    "                offset=6,\n",
    "                tickSize=0,\n",
    "                domainOpacity=0,\n",
    "                title=\"Arrests per month\",\n",
    "            ),\n",
    "        ),\n",
    "    )\n",
    "    .properties(\n",
    "        width=1000,\n",
    "        height=500,\n",
    "        title=\"Officer Carter 'assault' arrests by month and year\",\n",
    "    )\n",
    "    .configure_view(strokeOpacity=0)\n",
    ")\n",
    "month_year_chart"
   ]
  },
  {
   "cell_type": "code",
   "execution_count": 19,
   "id": "4dbcf4ef-28b0-4f9d-8ac7-9090f5b874ce",
   "metadata": {},
   "outputs": [],
   "source": [
    "df_carter_times = (\n",
    "    df_carter.groupby([\"arrest_time_period\"])[\"case__no\"]\n",
    "    .size()\n",
    "    .reset_index(name=\"cases_count\")\n",
    ").sort_values(\"cases_count\", ascending=False)"
   ]
  },
  {
   "cell_type": "code",
   "execution_count": 20,
   "id": "1b17b9f1-d7c9-424f-bad6-20798c47f3c2",
   "metadata": {},
   "outputs": [
    {
     "data": {
      "text/html": [
       "<div>\n",
       "<style scoped>\n",
       "    .dataframe tbody tr th:only-of-type {\n",
       "        vertical-align: middle;\n",
       "    }\n",
       "\n",
       "    .dataframe tbody tr th {\n",
       "        vertical-align: top;\n",
       "    }\n",
       "\n",
       "    .dataframe thead th {\n",
       "        text-align: right;\n",
       "    }\n",
       "</style>\n",
       "<table border=\"1\" class=\"dataframe\">\n",
       "  <thead>\n",
       "    <tr style=\"text-align: right;\">\n",
       "      <th></th>\n",
       "      <th>arrest_time_period</th>\n",
       "      <th>cases_count</th>\n",
       "    </tr>\n",
       "  </thead>\n",
       "  <tbody>\n",
       "    <tr>\n",
       "      <th>1</th>\n",
       "      <td>Evening</td>\n",
       "      <td>168</td>\n",
       "    </tr>\n",
       "    <tr>\n",
       "      <th>5</th>\n",
       "      <td>Noon</td>\n",
       "      <td>117</td>\n",
       "    </tr>\n",
       "    <tr>\n",
       "      <th>4</th>\n",
       "      <td>Night</td>\n",
       "      <td>98</td>\n",
       "    </tr>\n",
       "    <tr>\n",
       "      <th>2</th>\n",
       "      <td>Late Night</td>\n",
       "      <td>42</td>\n",
       "    </tr>\n",
       "    <tr>\n",
       "      <th>3</th>\n",
       "      <td>Morning</td>\n",
       "      <td>33</td>\n",
       "    </tr>\n",
       "    <tr>\n",
       "      <th>0</th>\n",
       "      <td>Early Morning</td>\n",
       "      <td>15</td>\n",
       "    </tr>\n",
       "  </tbody>\n",
       "</table>\n",
       "</div>"
      ],
      "text/plain": [
       "  arrest_time_period  cases_count\n",
       "1            Evening          168\n",
       "5               Noon          117\n",
       "4              Night           98\n",
       "2         Late Night           42\n",
       "3            Morning           33\n",
       "0      Early Morning           15"
      ]
     },
     "execution_count": 20,
     "metadata": {},
     "output_type": "execute_result"
    }
   ],
   "source": [
    "df_carter_times"
   ]
  },
  {
   "cell_type": "code",
   "execution_count": 21,
   "id": "519c2cee-d206-437f-a83a-b26d505981ff",
   "metadata": {},
   "outputs": [
    {
     "data": {
      "text/html": [
       "\n",
       "<div id=\"altair-viz-3f80718a0c8d463a8520c2b174ce08c8\"></div>\n",
       "<script type=\"text/javascript\">\n",
       "  (function(spec, embedOpt){\n",
       "    let outputDiv = document.currentScript.previousElementSibling;\n",
       "    if (outputDiv.id !== \"altair-viz-3f80718a0c8d463a8520c2b174ce08c8\") {\n",
       "      outputDiv = document.getElementById(\"altair-viz-3f80718a0c8d463a8520c2b174ce08c8\");\n",
       "    }\n",
       "    const paths = {\n",
       "      \"vega\": \"https://cdn.jsdelivr.net/npm//vega@5?noext\",\n",
       "      \"vega-lib\": \"https://cdn.jsdelivr.net/npm//vega-lib?noext\",\n",
       "      \"vega-lite\": \"https://cdn.jsdelivr.net/npm//vega-lite@4.8.1?noext\",\n",
       "      \"vega-embed\": \"https://cdn.jsdelivr.net/npm//vega-embed@6?noext\",\n",
       "    };\n",
       "\n",
       "    function loadScript(lib) {\n",
       "      return new Promise(function(resolve, reject) {\n",
       "        var s = document.createElement('script');\n",
       "        s.src = paths[lib];\n",
       "        s.async = true;\n",
       "        s.onload = () => resolve(paths[lib]);\n",
       "        s.onerror = () => reject(`Error loading script: ${paths[lib]}`);\n",
       "        document.getElementsByTagName(\"head\")[0].appendChild(s);\n",
       "      });\n",
       "    }\n",
       "\n",
       "    function showError(err) {\n",
       "      outputDiv.innerHTML = `<div class=\"error\" style=\"color:red;\">${err}</div>`;\n",
       "      throw err;\n",
       "    }\n",
       "\n",
       "    function displayChart(vegaEmbed) {\n",
       "      vegaEmbed(outputDiv, spec, embedOpt)\n",
       "        .catch(err => showError(`Javascript Error: ${err.message}<br>This usually means there's a typo in your chart specification. See the javascript console for the full traceback.`));\n",
       "    }\n",
       "\n",
       "    if(typeof define === \"function\" && define.amd) {\n",
       "      requirejs.config({paths});\n",
       "      require([\"vega-embed\"], displayChart, err => showError(`Error loading script: ${err.message}`));\n",
       "    } else if (typeof vegaEmbed === \"function\") {\n",
       "      displayChart(vegaEmbed);\n",
       "    } else {\n",
       "      loadScript(\"vega\")\n",
       "        .then(() => loadScript(\"vega-lite\"))\n",
       "        .then(() => loadScript(\"vega-embed\"))\n",
       "        .catch(showError)\n",
       "        .then(() => displayChart(vegaEmbed));\n",
       "    }\n",
       "  })({\"config\": {\"view\": {\"continuousWidth\": 400, \"continuousHeight\": 300, \"strokeOpacity\": 0}}, \"data\": {\"name\": \"data-ed1c273682a686a65c939f860ac690fe\"}, \"mark\": \"bar\", \"encoding\": {\"x\": {\"type\": \"quantitative\", \"axis\": {\"grid\": false}, \"field\": \"cases_count\", \"title\": \"Arrests\"}, \"y\": {\"type\": \"ordinal\", \"axis\": {\"domainOpacity\": 0, \"gridColor\": \"#dddddd\", \"offset\": 6, \"tickCount\": 6, \"tickSize\": 0, \"title\": \"Arrests per month\"}, \"field\": \"arrest_time_period\", \"sort\": \"-x\"}}, \"height\": 200, \"title\": \"Officer Carter arrests by time period\", \"width\": 1000, \"$schema\": \"https://vega.github.io/schema/vega-lite/v4.8.1.json\", \"datasets\": {\"data-ed1c273682a686a65c939f860ac690fe\": [{\"arrest_time_period\": \"Evening\", \"cases_count\": 168}, {\"arrest_time_period\": \"Noon\", \"cases_count\": 117}, {\"arrest_time_period\": \"Night\", \"cases_count\": 98}, {\"arrest_time_period\": \"Late Night\", \"cases_count\": 42}, {\"arrest_time_period\": \"Morning\", \"cases_count\": 33}, {\"arrest_time_period\": \"Early Morning\", \"cases_count\": 15}]}}, {\"mode\": \"vega-lite\"});\n",
       "</script>"
      ],
      "text/plain": [
       "alt.Chart(...)"
      ]
     },
     "execution_count": 21,
     "metadata": {},
     "output_type": "execute_result"
    }
   ],
   "source": [
    "time_chart = (\n",
    "    alt.Chart(df_carter_times)\n",
    "    .mark_bar()\n",
    "    .encode(\n",
    "        x=alt.X(\n",
    "            \"cases_count\",\n",
    "            axis=alt.Axis(grid=False),\n",
    "            title=\"Arrests\",\n",
    "        ),\n",
    "        y=alt.Y(\n",
    "            \"arrest_time_period:O\",\n",
    "            axis=alt.Axis(\n",
    "                tickCount=6,\n",
    "                gridColor=\"#dddddd\",\n",
    "                offset=6,\n",
    "                tickSize=0,\n",
    "                domainOpacity=0,\n",
    "                title=\"Arrests per month\",\n",
    "            ),\n",
    "            sort=\"-x\",\n",
    "        ),\n",
    "    )\n",
    "    .properties(width=1000, height=200, title=\"Officer Carter arrests by time period\")\n",
    "    .configure_view(strokeOpacity=0)\n",
    ")\n",
    "time_chart"
   ]
  },
  {
   "cell_type": "markdown",
   "id": "cac536ae-29e5-4e4f-8ae0-48a0f6f25545",
   "metadata": {},
   "source": [
    "### Group Officer Carter by arrest charges"
   ]
  },
  {
   "cell_type": "code",
   "execution_count": 22,
   "id": "332d01a6-ba20-4c16-b54e-1ed0dee32de9",
   "metadata": {},
   "outputs": [],
   "source": [
    "df_carter_charges = (\n",
    "    df_carter.groupby([\"arrest_charge\"]).size().reset_index(name=\"cases_count\")\n",
    ").sort_values(\"cases_count\", ascending=False)"
   ]
  },
  {
   "cell_type": "code",
   "execution_count": 23,
   "id": "8ef44c70-f641-4af0-a6df-924ec611f78d",
   "metadata": {},
   "outputs": [
    {
     "data": {
      "text/html": [
       "<div>\n",
       "<style scoped>\n",
       "    .dataframe tbody tr th:only-of-type {\n",
       "        vertical-align: middle;\n",
       "    }\n",
       "\n",
       "    .dataframe tbody tr th {\n",
       "        vertical-align: top;\n",
       "    }\n",
       "\n",
       "    .dataframe thead th {\n",
       "        text-align: right;\n",
       "    }\n",
       "</style>\n",
       "<table border=\"1\" class=\"dataframe\">\n",
       "  <thead>\n",
       "    <tr style=\"text-align: right;\">\n",
       "      <th></th>\n",
       "      <th>arrest_charge</th>\n",
       "      <th>cases_count</th>\n",
       "    </tr>\n",
       "  </thead>\n",
       "  <tbody>\n",
       "    <tr>\n",
       "      <th>85</th>\n",
       "      <td>PUBLIC INTOXICATION - MC</td>\n",
       "      <td>28</td>\n",
       "    </tr>\n",
       "    <tr>\n",
       "      <th>2</th>\n",
       "      <td>93OC - OUTSIDE WARRANT (FELONY)</td>\n",
       "      <td>24</td>\n",
       "    </tr>\n",
       "    <tr>\n",
       "      <th>4</th>\n",
       "      <td>93OC - OUTSIDE WARRANT (MA &amp; MB)</td>\n",
       "      <td>23</td>\n",
       "    </tr>\n",
       "    <tr>\n",
       "      <th>74</th>\n",
       "      <td>POSSESSION OF COCAINE/METH/OPIUM (PG1 SUBSTANCE)</td>\n",
       "      <td>16</td>\n",
       "    </tr>\n",
       "    <tr>\n",
       "      <th>8</th>\n",
       "      <td>AGGRAVATED ASSAULT</td>\n",
       "      <td>11</td>\n",
       "    </tr>\n",
       "    <tr>\n",
       "      <th>57</th>\n",
       "      <td>HOLD PPD - FOR FURTHER INVESTIGATION</td>\n",
       "      <td>11</td>\n",
       "    </tr>\n",
       "    <tr>\n",
       "      <th>86</th>\n",
       "      <td>PUBLIC INTOXICATION - MC, M</td>\n",
       "      <td>10</td>\n",
       "    </tr>\n",
       "    <tr>\n",
       "      <th>103</th>\n",
       "      <td>TERRORISTIC THREAT - MA &amp; MB</td>\n",
       "      <td>8</td>\n",
       "    </tr>\n",
       "    <tr>\n",
       "      <th>87</th>\n",
       "      <td>PUBLIC INTOXICATION - OTHER THAN ALCOHOL - MC</td>\n",
       "      <td>8</td>\n",
       "    </tr>\n",
       "    <tr>\n",
       "      <th>71</th>\n",
       "      <td>POSS DRUG PARAPHERNALIA</td>\n",
       "      <td>8</td>\n",
       "    </tr>\n",
       "  </tbody>\n",
       "</table>\n",
       "</div>"
      ],
      "text/plain": [
       "                                        arrest_charge  cases_count\n",
       "85                           PUBLIC INTOXICATION - MC           28\n",
       "2                     93OC - OUTSIDE WARRANT (FELONY)           24\n",
       "4                    93OC - OUTSIDE WARRANT (MA & MB)           23\n",
       "74   POSSESSION OF COCAINE/METH/OPIUM (PG1 SUBSTANCE)           16\n",
       "8                                  AGGRAVATED ASSAULT           11\n",
       "57               HOLD PPD - FOR FURTHER INVESTIGATION           11\n",
       "86                        PUBLIC INTOXICATION - MC, M           10\n",
       "103                      TERRORISTIC THREAT - MA & MB            8\n",
       "87      PUBLIC INTOXICATION - OTHER THAN ALCOHOL - MC            8\n",
       "71                            POSS DRUG PARAPHERNALIA            8"
      ]
     },
     "execution_count": 23,
     "metadata": {},
     "output_type": "execute_result"
    }
   ],
   "source": [
    "df_carter_charges.head(10)"
   ]
  },
  {
   "cell_type": "markdown",
   "id": "428579da-cfcd-413b-84a0-bb095544646c",
   "metadata": {},
   "source": [
    "--- "
   ]
  },
  {
   "cell_type": "code",
   "execution_count": 24,
   "id": "4a4fb941-bbc7-4bf2-b2f3-a437f4c5e4ac",
   "metadata": {},
   "outputs": [],
   "source": [
    "df_carter.to_csv(\"data/processed/jason_carter_arrests.csv\", index=False)"
   ]
  },
  {
   "cell_type": "code",
   "execution_count": 25,
   "id": "104f65be-bd15-457b-9365-96eaff14fd53",
   "metadata": {},
   "outputs": [],
   "source": [
    "df_carter_charges.to_csv(\"data/processed/jason_carter_arrests_counts.csv\", index=False)"
   ]
  },
  {
   "cell_type": "code",
   "execution_count": 26,
   "id": "0168849c-1406-4075-a9ad-62b5f1a7b18a",
   "metadata": {},
   "outputs": [],
   "source": [
    "month_year_chart.save(\"visuals/carter_arrests_monthyear.png\")"
   ]
  },
  {
   "cell_type": "code",
   "execution_count": 27,
   "id": "fb3b83ba-746e-4083-9332-6079538b2d55",
   "metadata": {},
   "outputs": [],
   "source": [
    "time_chart.save(\"visuals/carter_arrests_time_periods.png\")"
   ]
  }
 ],
 "metadata": {
  "kernelspec": {
   "display_name": "Python 3",
   "language": "python",
   "name": "python3"
  },
  "language_info": {
   "codemirror_mode": {
    "name": "ipython",
    "version": 3
   },
   "file_extension": ".py",
   "mimetype": "text/x-python",
   "name": "python",
   "nbconvert_exporter": "python",
   "pygments_lexer": "ipython3",
   "version": "3.8.2"
  }
 },
 "nbformat": 4,
 "nbformat_minor": 5
}
