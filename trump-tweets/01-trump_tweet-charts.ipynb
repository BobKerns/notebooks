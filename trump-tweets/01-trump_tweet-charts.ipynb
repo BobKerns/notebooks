{
 "cells": [
  {
   "cell_type": "markdown",
   "metadata": {},
   "source": [
    "# How often does @realDonaldTrump tweet each day?"
   ]
  },
  {
   "cell_type": "code",
   "execution_count": 1,
   "metadata": {},
   "outputs": [],
   "source": [
    "# https://github.com/dnanhkhoa/nb_black\n",
    "%load_ext lab_black"
   ]
  },
  {
   "cell_type": "code",
   "execution_count": 2,
   "metadata": {},
   "outputs": [
    {
     "data": {
      "text/plain": [
       "ThemeRegistry.enable('latimes')"
      ]
     },
     "execution_count": 2,
     "metadata": {},
     "output_type": "execute_result"
    }
   ],
   "source": [
    "import altair as alt\n",
    "import pandas as pd\n",
    "import matplotlib as mpl\n",
    "import numpy as np\n",
    "import json\n",
    "import pytz\n",
    "from datetime import datetime\n",
    "import altair_latimes as lat\n",
    "\n",
    "alt.themes.register(\"latimes\", lat.theme)\n",
    "alt.themes.enable(\"latimes\")"
   ]
  },
  {
   "cell_type": "code",
   "execution_count": 3,
   "metadata": {},
   "outputs": [],
   "source": [
    "pd.set_option(\"display.max_colwidth\", None)\n",
    "pd.set_option(\"display.max_rows\", None)"
   ]
  },
  {
   "cell_type": "markdown",
   "metadata": {},
   "source": [
    "### Read dump downloaded from trumptweetarchive.com"
   ]
  },
  {
   "cell_type": "code",
   "execution_count": 4,
   "metadata": {},
   "outputs": [],
   "source": [
    "%run '00-trump-tweets-processing.ipynb'"
   ]
  },
  {
   "cell_type": "code",
   "execution_count": 5,
   "metadata": {},
   "outputs": [
    {
     "ename": "FileNotFoundError",
     "evalue": "[Errno 2] No such file or directory: '/Users/mhustiles/data/github/notebooks/trump-tweets/output/realdonaldtrump.csv'",
     "output_type": "error",
     "traceback": [
      "\u001b[0;31m---------------------------------------------------------------------------\u001b[0m",
      "\u001b[0;31mFileNotFoundError\u001b[0m                         Traceback (most recent call last)",
      "\u001b[0;32m<ipython-input-5-908b1319deb6>\u001b[0m in \u001b[0;36m<module>\u001b[0;34m\u001b[0m\n\u001b[0;32m----> 1\u001b[0;31m src = pd.read_csv(\n\u001b[0m\u001b[1;32m      2\u001b[0m     \u001b[0;31m\"\u001b[0m\u001b[0;34m/\u001b[0m\u001b[0mUsers\u001b[0m\u001b[0;34m/\u001b[0m\u001b[0mmhustiles\u001b[0m\u001b[0;34m/\u001b[0m\u001b[0mdata\u001b[0m\u001b[0;34m/\u001b[0m\u001b[0mgithub\u001b[0m\u001b[0;34m/\u001b[0m\u001b[0mnotebooks\u001b[0m\u001b[0;34m/\u001b[0m\u001b[0;31m\\\u001b[0m\u001b[0;34m\u001b[0m\u001b[0;34m\u001b[0m\u001b[0m\n\u001b[1;32m      3\u001b[0m \u001b[0mtrump\u001b[0m\u001b[0;34m-\u001b[0m\u001b[0mtweets\u001b[0m\u001b[0;34m/\u001b[0m\u001b[0moutput\u001b[0m\u001b[0;34m/\u001b[0m\u001b[0mrealdonaldtrump\u001b[0m\u001b[0;34m.\u001b[0m\u001b[0mcsv\u001b[0m\u001b[0;31m\"\u001b[0m\u001b[0;34m,\u001b[0m\u001b[0;34m\u001b[0m\u001b[0;34m\u001b[0m\u001b[0m\n\u001b[1;32m      4\u001b[0m     \u001b[0mdtype\u001b[0m\u001b[0;34m=\u001b[0m\u001b[0;34m{\u001b[0m\u001b[0;34m\"id\"\u001b[0m\u001b[0;34m:\u001b[0m \u001b[0mstr\u001b[0m\u001b[0;34m}\u001b[0m\u001b[0;34m,\u001b[0m\u001b[0;34m\u001b[0m\u001b[0;34m\u001b[0m\u001b[0m\n\u001b[1;32m      5\u001b[0m     \u001b[0mlow_memory\u001b[0m\u001b[0;34m=\u001b[0m\u001b[0;32mFalse\u001b[0m\u001b[0;34m,\u001b[0m\u001b[0;34m\u001b[0m\u001b[0;34m\u001b[0m\u001b[0m\n",
      "\u001b[0;32m~/.local/share/virtualenvs/notebooks-sxqKeO4C/lib/python3.8/site-packages/pandas/io/parsers.py\u001b[0m in \u001b[0;36mread_csv\u001b[0;34m(filepath_or_buffer, sep, delimiter, header, names, index_col, usecols, squeeze, prefix, mangle_dupe_cols, dtype, engine, converters, true_values, false_values, skipinitialspace, skiprows, skipfooter, nrows, na_values, keep_default_na, na_filter, verbose, skip_blank_lines, parse_dates, infer_datetime_format, keep_date_col, date_parser, dayfirst, cache_dates, iterator, chunksize, compression, thousands, decimal, lineterminator, quotechar, quoting, doublequote, escapechar, comment, encoding, dialect, error_bad_lines, warn_bad_lines, delim_whitespace, low_memory, memory_map, float_precision, storage_options)\u001b[0m\n\u001b[1;32m    608\u001b[0m     \u001b[0mkwds\u001b[0m\u001b[0;34m.\u001b[0m\u001b[0mupdate\u001b[0m\u001b[0;34m(\u001b[0m\u001b[0mkwds_defaults\u001b[0m\u001b[0;34m)\u001b[0m\u001b[0;34m\u001b[0m\u001b[0;34m\u001b[0m\u001b[0m\n\u001b[1;32m    609\u001b[0m \u001b[0;34m\u001b[0m\u001b[0m\n\u001b[0;32m--> 610\u001b[0;31m     \u001b[0;32mreturn\u001b[0m \u001b[0m_read\u001b[0m\u001b[0;34m(\u001b[0m\u001b[0mfilepath_or_buffer\u001b[0m\u001b[0;34m,\u001b[0m \u001b[0mkwds\u001b[0m\u001b[0;34m)\u001b[0m\u001b[0;34m\u001b[0m\u001b[0;34m\u001b[0m\u001b[0m\n\u001b[0m\u001b[1;32m    611\u001b[0m \u001b[0;34m\u001b[0m\u001b[0m\n\u001b[1;32m    612\u001b[0m \u001b[0;34m\u001b[0m\u001b[0m\n",
      "\u001b[0;32m~/.local/share/virtualenvs/notebooks-sxqKeO4C/lib/python3.8/site-packages/pandas/io/parsers.py\u001b[0m in \u001b[0;36m_read\u001b[0;34m(filepath_or_buffer, kwds)\u001b[0m\n\u001b[1;32m    460\u001b[0m \u001b[0;34m\u001b[0m\u001b[0m\n\u001b[1;32m    461\u001b[0m     \u001b[0;31m# Create the parser.\u001b[0m\u001b[0;34m\u001b[0m\u001b[0;34m\u001b[0m\u001b[0;34m\u001b[0m\u001b[0m\n\u001b[0;32m--> 462\u001b[0;31m     \u001b[0mparser\u001b[0m \u001b[0;34m=\u001b[0m \u001b[0mTextFileReader\u001b[0m\u001b[0;34m(\u001b[0m\u001b[0mfilepath_or_buffer\u001b[0m\u001b[0;34m,\u001b[0m \u001b[0;34m**\u001b[0m\u001b[0mkwds\u001b[0m\u001b[0;34m)\u001b[0m\u001b[0;34m\u001b[0m\u001b[0;34m\u001b[0m\u001b[0m\n\u001b[0m\u001b[1;32m    463\u001b[0m \u001b[0;34m\u001b[0m\u001b[0m\n\u001b[1;32m    464\u001b[0m     \u001b[0;32mif\u001b[0m \u001b[0mchunksize\u001b[0m \u001b[0;32mor\u001b[0m \u001b[0miterator\u001b[0m\u001b[0;34m:\u001b[0m\u001b[0;34m\u001b[0m\u001b[0;34m\u001b[0m\u001b[0m\n",
      "\u001b[0;32m~/.local/share/virtualenvs/notebooks-sxqKeO4C/lib/python3.8/site-packages/pandas/io/parsers.py\u001b[0m in \u001b[0;36m__init__\u001b[0;34m(self, f, engine, **kwds)\u001b[0m\n\u001b[1;32m    817\u001b[0m             \u001b[0mself\u001b[0m\u001b[0;34m.\u001b[0m\u001b[0moptions\u001b[0m\u001b[0;34m[\u001b[0m\u001b[0;34m\"has_index_names\"\u001b[0m\u001b[0;34m]\u001b[0m \u001b[0;34m=\u001b[0m \u001b[0mkwds\u001b[0m\u001b[0;34m[\u001b[0m\u001b[0;34m\"has_index_names\"\u001b[0m\u001b[0;34m]\u001b[0m\u001b[0;34m\u001b[0m\u001b[0;34m\u001b[0m\u001b[0m\n\u001b[1;32m    818\u001b[0m \u001b[0;34m\u001b[0m\u001b[0m\n\u001b[0;32m--> 819\u001b[0;31m         \u001b[0mself\u001b[0m\u001b[0;34m.\u001b[0m\u001b[0m_engine\u001b[0m \u001b[0;34m=\u001b[0m \u001b[0mself\u001b[0m\u001b[0;34m.\u001b[0m\u001b[0m_make_engine\u001b[0m\u001b[0;34m(\u001b[0m\u001b[0mself\u001b[0m\u001b[0;34m.\u001b[0m\u001b[0mengine\u001b[0m\u001b[0;34m)\u001b[0m\u001b[0;34m\u001b[0m\u001b[0;34m\u001b[0m\u001b[0m\n\u001b[0m\u001b[1;32m    820\u001b[0m \u001b[0;34m\u001b[0m\u001b[0m\n\u001b[1;32m    821\u001b[0m     \u001b[0;32mdef\u001b[0m \u001b[0mclose\u001b[0m\u001b[0;34m(\u001b[0m\u001b[0mself\u001b[0m\u001b[0;34m)\u001b[0m\u001b[0;34m:\u001b[0m\u001b[0;34m\u001b[0m\u001b[0;34m\u001b[0m\u001b[0m\n",
      "\u001b[0;32m~/.local/share/virtualenvs/notebooks-sxqKeO4C/lib/python3.8/site-packages/pandas/io/parsers.py\u001b[0m in \u001b[0;36m_make_engine\u001b[0;34m(self, engine)\u001b[0m\n\u001b[1;32m   1048\u001b[0m             )\n\u001b[1;32m   1049\u001b[0m         \u001b[0;31m# error: Too many arguments for \"ParserBase\"\u001b[0m\u001b[0;34m\u001b[0m\u001b[0;34m\u001b[0m\u001b[0;34m\u001b[0m\u001b[0m\n\u001b[0;32m-> 1050\u001b[0;31m         \u001b[0;32mreturn\u001b[0m \u001b[0mmapping\u001b[0m\u001b[0;34m[\u001b[0m\u001b[0mengine\u001b[0m\u001b[0;34m]\u001b[0m\u001b[0;34m(\u001b[0m\u001b[0mself\u001b[0m\u001b[0;34m.\u001b[0m\u001b[0mf\u001b[0m\u001b[0;34m,\u001b[0m \u001b[0;34m**\u001b[0m\u001b[0mself\u001b[0m\u001b[0;34m.\u001b[0m\u001b[0moptions\u001b[0m\u001b[0;34m)\u001b[0m  \u001b[0;31m# type: ignore[call-arg]\u001b[0m\u001b[0;34m\u001b[0m\u001b[0;34m\u001b[0m\u001b[0m\n\u001b[0m\u001b[1;32m   1051\u001b[0m \u001b[0;34m\u001b[0m\u001b[0m\n\u001b[1;32m   1052\u001b[0m     \u001b[0;32mdef\u001b[0m \u001b[0m_failover_to_python\u001b[0m\u001b[0;34m(\u001b[0m\u001b[0mself\u001b[0m\u001b[0;34m)\u001b[0m\u001b[0;34m:\u001b[0m\u001b[0;34m\u001b[0m\u001b[0;34m\u001b[0m\u001b[0m\n",
      "\u001b[0;32m~/.local/share/virtualenvs/notebooks-sxqKeO4C/lib/python3.8/site-packages/pandas/io/parsers.py\u001b[0m in \u001b[0;36m__init__\u001b[0;34m(self, src, **kwds)\u001b[0m\n\u001b[1;32m   1865\u001b[0m \u001b[0;34m\u001b[0m\u001b[0m\n\u001b[1;32m   1866\u001b[0m         \u001b[0;31m# open handles\u001b[0m\u001b[0;34m\u001b[0m\u001b[0;34m\u001b[0m\u001b[0;34m\u001b[0m\u001b[0m\n\u001b[0;32m-> 1867\u001b[0;31m         \u001b[0mself\u001b[0m\u001b[0;34m.\u001b[0m\u001b[0m_open_handles\u001b[0m\u001b[0;34m(\u001b[0m\u001b[0msrc\u001b[0m\u001b[0;34m,\u001b[0m \u001b[0mkwds\u001b[0m\u001b[0;34m)\u001b[0m\u001b[0;34m\u001b[0m\u001b[0;34m\u001b[0m\u001b[0m\n\u001b[0m\u001b[1;32m   1868\u001b[0m         \u001b[0;32massert\u001b[0m \u001b[0mself\u001b[0m\u001b[0;34m.\u001b[0m\u001b[0mhandles\u001b[0m \u001b[0;32mis\u001b[0m \u001b[0;32mnot\u001b[0m \u001b[0;32mNone\u001b[0m\u001b[0;34m\u001b[0m\u001b[0;34m\u001b[0m\u001b[0m\n\u001b[1;32m   1869\u001b[0m         \u001b[0;32mfor\u001b[0m \u001b[0mkey\u001b[0m \u001b[0;32min\u001b[0m \u001b[0;34m(\u001b[0m\u001b[0;34m\"storage_options\"\u001b[0m\u001b[0;34m,\u001b[0m \u001b[0;34m\"encoding\"\u001b[0m\u001b[0;34m,\u001b[0m \u001b[0;34m\"memory_map\"\u001b[0m\u001b[0;34m,\u001b[0m \u001b[0;34m\"compression\"\u001b[0m\u001b[0;34m)\u001b[0m\u001b[0;34m:\u001b[0m\u001b[0;34m\u001b[0m\u001b[0;34m\u001b[0m\u001b[0m\n",
      "\u001b[0;32m~/.local/share/virtualenvs/notebooks-sxqKeO4C/lib/python3.8/site-packages/pandas/io/parsers.py\u001b[0m in \u001b[0;36m_open_handles\u001b[0;34m(self, src, kwds)\u001b[0m\n\u001b[1;32m   1360\u001b[0m         \u001b[0mLet\u001b[0m \u001b[0mthe\u001b[0m \u001b[0mreaders\u001b[0m \u001b[0mopen\u001b[0m \u001b[0mIOHanldes\u001b[0m \u001b[0mafter\u001b[0m \u001b[0mthey\u001b[0m \u001b[0mare\u001b[0m \u001b[0mdone\u001b[0m \u001b[0;32mwith\u001b[0m \u001b[0mtheir\u001b[0m \u001b[0mpotential\u001b[0m \u001b[0mraises\u001b[0m\u001b[0;34m.\u001b[0m\u001b[0;34m\u001b[0m\u001b[0;34m\u001b[0m\u001b[0m\n\u001b[1;32m   1361\u001b[0m         \"\"\"\n\u001b[0;32m-> 1362\u001b[0;31m         self.handles = get_handle(\n\u001b[0m\u001b[1;32m   1363\u001b[0m             \u001b[0msrc\u001b[0m\u001b[0;34m,\u001b[0m\u001b[0;34m\u001b[0m\u001b[0;34m\u001b[0m\u001b[0m\n\u001b[1;32m   1364\u001b[0m             \u001b[0;34m\"r\"\u001b[0m\u001b[0;34m,\u001b[0m\u001b[0;34m\u001b[0m\u001b[0;34m\u001b[0m\u001b[0m\n",
      "\u001b[0;32m~/.local/share/virtualenvs/notebooks-sxqKeO4C/lib/python3.8/site-packages/pandas/io/common.py\u001b[0m in \u001b[0;36mget_handle\u001b[0;34m(path_or_buf, mode, encoding, compression, memory_map, is_text, errors, storage_options)\u001b[0m\n\u001b[1;32m    640\u001b[0m                 \u001b[0merrors\u001b[0m \u001b[0;34m=\u001b[0m \u001b[0;34m\"replace\"\u001b[0m\u001b[0;34m\u001b[0m\u001b[0;34m\u001b[0m\u001b[0m\n\u001b[1;32m    641\u001b[0m             \u001b[0;31m# Encoding\u001b[0m\u001b[0;34m\u001b[0m\u001b[0;34m\u001b[0m\u001b[0;34m\u001b[0m\u001b[0m\n\u001b[0;32m--> 642\u001b[0;31m             handle = open(\n\u001b[0m\u001b[1;32m    643\u001b[0m                 \u001b[0mhandle\u001b[0m\u001b[0;34m,\u001b[0m\u001b[0;34m\u001b[0m\u001b[0;34m\u001b[0m\u001b[0m\n\u001b[1;32m    644\u001b[0m                 \u001b[0mioargs\u001b[0m\u001b[0;34m.\u001b[0m\u001b[0mmode\u001b[0m\u001b[0;34m,\u001b[0m\u001b[0;34m\u001b[0m\u001b[0;34m\u001b[0m\u001b[0m\n",
      "\u001b[0;31mFileNotFoundError\u001b[0m: [Errno 2] No such file or directory: '/Users/mhustiles/data/github/notebooks/trump-tweets/output/realdonaldtrump.csv'"
     ]
    }
   ],
   "source": [
    "src = pd.read_csv(\n",
    "    \"/Users/mhustiles/data/github/notebooks/\\\n",
    "trump-tweets/output/realdonaldtrump.csv\",\n",
    "    dtype={\"id\": str},\n",
    "    low_memory=False,\n",
    ")"
   ]
  },
  {
   "cell_type": "code",
   "execution_count": null,
   "metadata": {},
   "outputs": [],
   "source": [
    "src[\"user\"] = \"realDonaldTrump\""
   ]
  },
  {
   "cell_type": "markdown",
   "metadata": {},
   "source": [
    "### How many tweets since May 2009?"
   ]
  },
  {
   "cell_type": "code",
   "execution_count": null,
   "metadata": {},
   "outputs": [],
   "source": [
    "len(src)"
   ]
  },
  {
   "cell_type": "markdown",
   "metadata": {},
   "source": [
    "### Clean up dates"
   ]
  },
  {
   "cell_type": "code",
   "execution_count": null,
   "metadata": {},
   "outputs": [],
   "source": [
    "src[\"id\"] = src[\"id\"].astype(str)\n",
    "src[\"year\"] = src[\"year\"].astype(str)\n",
    "src[\"month\"] = src[\"month\"].astype(str)\n",
    "src[\"day\"] = src[\"day\"].astype(str)\n",
    "src[\"hour\"] = src[\"hour\"].astype(str)\n",
    "src[\"date\"] = pd.to_datetime(src[\"date\"])"
   ]
  },
  {
   "cell_type": "markdown",
   "metadata": {},
   "source": [
    "### Most popular tweets"
   ]
  },
  {
   "cell_type": "code",
   "execution_count": null,
   "metadata": {},
   "outputs": [],
   "source": [
    "src[[\"id\", \"date\", \"text\", \"favorites\"]].sort_values(\"favorites\", ascending=False).head(\n",
    "    5\n",
    ")"
   ]
  },
  {
   "cell_type": "code",
   "execution_count": null,
   "metadata": {},
   "outputs": [],
   "source": [
    "src[[\"id\", \"date\", \"text\", \"retweets\"]].sort_values(\"retweets\", ascending=False).head(5)"
   ]
  },
  {
   "cell_type": "code",
   "execution_count": null,
   "metadata": {},
   "outputs": [],
   "source": [
    "src.to_csv(\"output/trump-tweets-all.csv\", index=False)"
   ]
  },
  {
   "cell_type": "markdown",
   "metadata": {},
   "source": [
    "### Since he took office"
   ]
  },
  {
   "cell_type": "code",
   "execution_count": null,
   "metadata": {},
   "outputs": [],
   "source": [
    "trumppres = pd.DataFrame(src[src.date >= \"01/20/2017\"]).sort_values(\n",
    "    \"date\", ascending=True\n",
    ")"
   ]
  },
  {
   "cell_type": "markdown",
   "metadata": {},
   "source": [
    "---"
   ]
  },
  {
   "cell_type": "markdown",
   "metadata": {},
   "source": [
    "### Devices used for tweets as president"
   ]
  },
  {
   "cell_type": "code",
   "execution_count": null,
   "metadata": {},
   "outputs": [],
   "source": [
    "trumppres_devices = (\n",
    "    trumppres.groupby([\"device\"])\n",
    "    .agg({\"id\": \"count\"})\n",
    "    .reset_index()\n",
    "    .rename(columns={\"id\": \"count\"})\n",
    ")"
   ]
  },
  {
   "cell_type": "code",
   "execution_count": null,
   "metadata": {},
   "outputs": [],
   "source": [
    "for i in trumppres_devices:\n",
    "    trumppres_devices[\"pct\"] = round(\n",
    "        (trumppres_devices[\"count\"] / trumppres_devices[\"count\"].sum()) * 100, 2\n",
    "    )"
   ]
  },
  {
   "cell_type": "code",
   "execution_count": null,
   "metadata": {},
   "outputs": [],
   "source": [
    "trumppres_devices.sort_values(\"count\", ascending=False).head()"
   ]
  },
  {
   "cell_type": "markdown",
   "metadata": {},
   "source": [
    "### How many not from an iPhone since president? "
   ]
  },
  {
   "cell_type": "code",
   "execution_count": null,
   "metadata": {},
   "outputs": [],
   "source": [
    "trumppres_notiphone = trumppres[trumppres[\"device\"] != \"Twitter for iPhone\"]"
   ]
  },
  {
   "cell_type": "code",
   "execution_count": null,
   "metadata": {},
   "outputs": [],
   "source": [
    "len(trumppres_notiphone)"
   ]
  },
  {
   "cell_type": "markdown",
   "metadata": {},
   "source": [
    "### Time difference between tweets"
   ]
  },
  {
   "cell_type": "code",
   "execution_count": null,
   "metadata": {},
   "outputs": [],
   "source": [
    "trumppres = pd.DataFrame(src[src.date >= \"01/20/2017\"]).sort_values(\n",
    "    \"date\", ascending=True\n",
    ")"
   ]
  },
  {
   "cell_type": "code",
   "execution_count": null,
   "metadata": {},
   "outputs": [],
   "source": [
    "trumppres[\"diff\"] = (trumppres[\"date\"] - trumppres[\"date\"].shift(1)).astype(\n",
    "    \"timedelta64[h]\"\n",
    ")"
   ]
  },
  {
   "cell_type": "code",
   "execution_count": null,
   "metadata": {},
   "outputs": [],
   "source": [
    "trumppres.sort_values(\"date\", ascending=False).head()"
   ]
  },
  {
   "cell_type": "code",
   "execution_count": null,
   "metadata": {},
   "outputs": [],
   "source": [
    "trumppres[\"diff\"].mean()"
   ]
  },
  {
   "cell_type": "markdown",
   "metadata": {},
   "source": [
    "### Tweets per month, year"
   ]
  },
  {
   "cell_type": "code",
   "execution_count": null,
   "metadata": {},
   "outputs": [],
   "source": [
    "trump_years = src.groupby([\"year\", \"month\"]).agg({\"date\": \"count\"}).reset_index()"
   ]
  },
  {
   "cell_type": "code",
   "execution_count": null,
   "metadata": {},
   "outputs": [],
   "source": [
    "trump_years.tail()"
   ]
  },
  {
   "cell_type": "markdown",
   "metadata": {},
   "source": [
    "### What did he average each day in retweets, likes and replies"
   ]
  },
  {
   "cell_type": "code",
   "execution_count": null,
   "metadata": {},
   "outputs": [],
   "source": [
    "trump_engagements_day = (\n",
    "    src.groupby([\"month\", \"year\"])\n",
    "    .agg({\"id\": \"size\", \"retweets\": [\"sum\", \"mean\"], \"favorites\": [\"sum\", \"mean\"]})\n",
    "    .round()\n",
    "    .reset_index()\n",
    ")"
   ]
  },
  {
   "cell_type": "code",
   "execution_count": null,
   "metadata": {},
   "outputs": [],
   "source": [
    "trump_engagements_day.columns = (\n",
    "    trump_engagements_day.columns.map(\"_\".join).str.strip().str.rstrip(\"_\")\n",
    ")"
   ]
  },
  {
   "cell_type": "code",
   "execution_count": null,
   "metadata": {},
   "outputs": [],
   "source": [
    "trump_engagements_day.tail()"
   ]
  },
  {
   "cell_type": "code",
   "execution_count": null,
   "metadata": {},
   "outputs": [],
   "source": [
    "chart = (\n",
    "    alt.Chart((trump_engagements_day.query('year > \"2016\"')))\n",
    "    .mark_bar(size=10, opacity=1)\n",
    "    .encode(\n",
    "        x=alt.X(\n",
    "            \"month:T\",\n",
    "            title=\" \",\n",
    "            axis=alt.Axis(values=[\"1\", \"12\"], grid=False, tickCount=1, format=\"%b\"),\n",
    "        ),\n",
    "        y=alt.Y(\n",
    "            \"id_size:Q\",\n",
    "            stack=None,\n",
    "            title=\" \",\n",
    "            axis=alt.Axis(\n",
    "                gridWidth=0.6,\n",
    "                gridColor=\"#dddddd\",\n",
    "                offset=6,\n",
    "                tickSize=0,\n",
    "                domainOpacity=0,\n",
    "                tickCount=2,\n",
    "                format=\"2,f\",\n",
    "            ),\n",
    "            scale=alt.Scale(domain=(0, 1500)),\n",
    "        ),\n",
    "        facet=alt.Facet(\"year:N\", columns=4, title=\" \"),\n",
    "    )\n",
    "    .properties(width=150, height=100, title=\"Monthly tweets by @realDonaldTrump\")\n",
    ")\n",
    "\n",
    "chart.configure_view(strokeOpacity=0).configure_legend(\n",
    "    orient=\"top\", symbolType=\"stroke\"\n",
    ").configure_legend(symbolType=\"square\")"
   ]
  },
  {
   "cell_type": "code",
   "execution_count": null,
   "metadata": {},
   "outputs": [],
   "source": [
    "chart = (\n",
    "    alt.Chart((trump_engagements_day.query('year > \"2016\"')))\n",
    "    .mark_bar(size=10, opacity=1)\n",
    "    .encode(\n",
    "        x=alt.X(\n",
    "            \"month:T\",\n",
    "            title=\" \",\n",
    "            axis=alt.Axis(values=[\"1\", \"12\"], grid=False, tickCount=1, format=\"%b\"),\n",
    "        ),\n",
    "        y=alt.Y(\n",
    "            \"favorites_mean:Q\",\n",
    "            stack=None,\n",
    "            title=\" \",\n",
    "            axis=alt.Axis(\n",
    "                gridWidth=0.6,\n",
    "                gridColor=\"#dddddd\",\n",
    "                offset=6,\n",
    "                tickSize=0,\n",
    "                domainOpacity=0,\n",
    "                tickCount=2,\n",
    "                format=\"1,s\",\n",
    "            ),\n",
    "            scale=alt.Scale(domain=(0, 120000)),\n",
    "        ),\n",
    "        facet=alt.Facet(\"year:N\", columns=4, title=\" \"),\n",
    "    )\n",
    "    .properties(width=150, height=100, title=\"Mean monthly likes of @realDonaldTrump\")\n",
    ")\n",
    "\n",
    "chart.configure_view(strokeOpacity=0).configure_legend(\n",
    "    orient=\"top\", symbolType=\"stroke\"\n",
    ").configure_legend(symbolType=\"square\")"
   ]
  },
  {
   "cell_type": "code",
   "execution_count": null,
   "metadata": {},
   "outputs": [],
   "source": [
    "chart = (\n",
    "    alt.Chart((trump_engagements_day.query('year > \"2016\"')))\n",
    "    .mark_bar(size=10, opacity=1)\n",
    "    .encode(\n",
    "        x=alt.X(\n",
    "            \"month:T\",\n",
    "            title=\" \",\n",
    "            axis=alt.Axis(values=[\"1\", \"7\"], grid=False, tickCount=1, format=\"%B\"),\n",
    "        ),\n",
    "        y=alt.Y(\n",
    "            \"retweets_mean:Q\",\n",
    "            stack=None,\n",
    "            title=\" \",\n",
    "            axis=alt.Axis(\n",
    "                gridWidth=0.6,\n",
    "                gridColor=\"#dddddd\",\n",
    "                offset=6,\n",
    "                tickSize=0,\n",
    "                domainOpacity=0,\n",
    "                tickCount=2,\n",
    "                format=\"1,s\",\n",
    "            ),\n",
    "            scale=alt.Scale(domain=(0, 50000)),\n",
    "        ),\n",
    "        facet=alt.Facet(\"year:N\", columns=5, title=\" \"),\n",
    "    )\n",
    "    .properties(\n",
    "        width=150, height=100, title=\"Mean monthly retweets of @realDonaldTrump\"\n",
    "    )\n",
    ")\n",
    "\n",
    "chart.configure_view(strokeOpacity=0).configure_legend(\n",
    "    orient=\"top\", symbolType=\"stroke\"\n",
    ").configure_legend(symbolType=\"square\")"
   ]
  },
  {
   "cell_type": "markdown",
   "metadata": {},
   "source": [
    "---"
   ]
  },
  {
   "cell_type": "markdown",
   "metadata": {},
   "source": [
    "### Dump monthly engagements"
   ]
  },
  {
   "cell_type": "code",
   "execution_count": null,
   "metadata": {},
   "outputs": [],
   "source": [
    "df_dt = trumppres.copy()"
   ]
  },
  {
   "cell_type": "code",
   "execution_count": null,
   "metadata": {},
   "outputs": [],
   "source": [
    "df_dt = df_dt.set_index(\"date\")"
   ]
  },
  {
   "cell_type": "code",
   "execution_count": null,
   "metadata": {},
   "outputs": [],
   "source": [
    "g = df_dt.groupby(pd.Grouper(freq=\"MS\"))"
   ]
  },
  {
   "cell_type": "code",
   "execution_count": null,
   "metadata": {},
   "outputs": [],
   "source": [
    "trump_engagements_month = g.mean().reset_index()"
   ]
  },
  {
   "cell_type": "code",
   "execution_count": null,
   "metadata": {},
   "outputs": [],
   "source": [
    "trump_engagements_month.tail()"
   ]
  },
  {
   "cell_type": "code",
   "execution_count": null,
   "metadata": {},
   "outputs": [],
   "source": [
    "# trump_engagements_month = (\n",
    "#     src.groupby([\"month\", \"year\"])\n",
    "#     .agg({\"id\": \"size\", \"retweets\": sum, \"favorites\": sum})\n",
    "#     .round()\n",
    "#     .reset_index()\n",
    "# )"
   ]
  },
  {
   "cell_type": "code",
   "execution_count": null,
   "metadata": {},
   "outputs": [],
   "source": [
    "trump_engagements_month[[\"date\", \"favorites\", \"retweets\"]].to_csv(\n",
    "    \"output/trump_engagements_month.csv\", index=False\n",
    ")"
   ]
  },
  {
   "cell_type": "markdown",
   "metadata": {},
   "source": [
    "---"
   ]
  },
  {
   "cell_type": "markdown",
   "metadata": {},
   "source": [
    "### Limit data to when Trump took office. How many tweets since then?"
   ]
  },
  {
   "cell_type": "code",
   "execution_count": null,
   "metadata": {},
   "outputs": [],
   "source": [
    "trumpall_prez = src[src.date >= \"01/20/2017\"]\n",
    "len(trumpall_prez)"
   ]
  },
  {
   "cell_type": "code",
   "execution_count": null,
   "metadata": {},
   "outputs": [],
   "source": [
    "trumpall_prez.head()"
   ]
  },
  {
   "cell_type": "markdown",
   "metadata": {},
   "source": [
    "### Limit data to month Trump announced candidacy. How many tweets since then?"
   ]
  },
  {
   "cell_type": "code",
   "execution_count": null,
   "metadata": {},
   "outputs": [],
   "source": [
    "trumpall_running = src[src.date >= \"06/01/2015\"]\n",
    "len(trumpall_running)"
   ]
  },
  {
   "cell_type": "markdown",
   "metadata": {},
   "source": [
    "### Count daily tweets since candidacy, create dataframe with results"
   ]
  },
  {
   "cell_type": "code",
   "execution_count": null,
   "metadata": {},
   "outputs": [],
   "source": [
    "trump_tweets_day_candidacy = trumpall_running.groupby([\"date\"]).size()"
   ]
  },
  {
   "cell_type": "code",
   "execution_count": null,
   "metadata": {},
   "outputs": [],
   "source": [
    "trump_tweets_day_candidacy.tail()"
   ]
  },
  {
   "cell_type": "code",
   "execution_count": null,
   "metadata": {},
   "outputs": [],
   "source": [
    "trump_tweets_day_candidacy_df = pd.DataFrame(\n",
    "    {\n",
    "        \"date\": trump_tweets_day_candidacy.index,\n",
    "        \"count\": trump_tweets_day_candidacy.values,\n",
    "    }\n",
    ")"
   ]
  },
  {
   "cell_type": "code",
   "execution_count": null,
   "metadata": {},
   "outputs": [],
   "source": [
    "trump_tweets_day_candidacy_df.to_csv(\"output/trump_tweets_day_candidacy.csv\")"
   ]
  },
  {
   "cell_type": "markdown",
   "metadata": {},
   "source": [
    "### Count daily tweets since inaguration, create dataframe with results"
   ]
  },
  {
   "cell_type": "code",
   "execution_count": null,
   "metadata": {},
   "outputs": [],
   "source": [
    "trump_tweets_day_prez = trumpall_prez.groupby([\"date\"]).size()\n",
    "trump_tweets_day_prez_df = pd.DataFrame(\n",
    "    {\"date\": trump_tweets_day_prez.index, \"count\": trump_tweets_day_prez.values}\n",
    ")"
   ]
  },
  {
   "cell_type": "code",
   "execution_count": null,
   "metadata": {},
   "outputs": [],
   "source": [
    "trump_tweets_day_prez_df.to_csv(\"output/trump_tweets_day_prez.csv\")"
   ]
  },
  {
   "cell_type": "markdown",
   "metadata": {},
   "source": [
    "### Count daily tweets from the beginning, create dataframe with results"
   ]
  },
  {
   "cell_type": "code",
   "execution_count": null,
   "metadata": {},
   "outputs": [],
   "source": [
    "trump_tweets_day = src.groupby([\"date\"]).agg(\"size\").reset_index(name=\"count\")\n",
    "trump_tweets_day.tail(10)"
   ]
  },
  {
   "cell_type": "code",
   "execution_count": null,
   "metadata": {},
   "outputs": [],
   "source": [
    "trump_tweets_day.to_csv(\"output/trump_tweets_day.csv\")"
   ]
  },
  {
   "cell_type": "markdown",
   "metadata": {},
   "source": [
    "---"
   ]
  },
  {
   "cell_type": "markdown",
   "metadata": {},
   "source": [
    "### Sort table for top tweet days during presidency"
   ]
  },
  {
   "cell_type": "code",
   "execution_count": null,
   "metadata": {},
   "outputs": [],
   "source": [
    "trump_freq_inauguration = trump_tweets_day_prez_df.sort_values(\n",
    "    [\"count\"], ascending=False\n",
    ")"
   ]
  },
  {
   "cell_type": "code",
   "execution_count": null,
   "metadata": {},
   "outputs": [],
   "source": [
    "trump_freq_inauguration.head(5)"
   ]
  },
  {
   "cell_type": "markdown",
   "metadata": {},
   "source": [
    "### Read all from today"
   ]
  },
  {
   "cell_type": "code",
   "execution_count": null,
   "metadata": {},
   "outputs": [],
   "source": [
    "today = pd.Timestamp.today().strftime(\"%Y-%m-%d\")"
   ]
  },
  {
   "cell_type": "code",
   "execution_count": null,
   "metadata": {},
   "outputs": [],
   "source": [
    "len(today)"
   ]
  },
  {
   "cell_type": "code",
   "execution_count": null,
   "metadata": {},
   "outputs": [],
   "source": [
    "trump_tweets_today = trumpall_prez[trumpall_prez.date == today]"
   ]
  },
  {
   "cell_type": "code",
   "execution_count": null,
   "metadata": {},
   "outputs": [],
   "source": [
    "trump_tweets_today.head()"
   ]
  },
  {
   "cell_type": "markdown",
   "metadata": {},
   "source": [
    "---"
   ]
  },
  {
   "cell_type": "markdown",
   "metadata": {},
   "source": [
    "### RT vs Tweet"
   ]
  },
  {
   "cell_type": "code",
   "execution_count": null,
   "metadata": {},
   "outputs": [],
   "source": [
    "rt_tweet = src.groupby([\"date\", \"isRetweet\"]).agg(\"size\").reset_index(name=\"count\")\n",
    "rt_tweet_recent = (\n",
    "    src[src[\"date\"] > \"2019-01-01\"]\n",
    "    .groupby([\"date\", \"isRetweet\"])\n",
    "    .agg(\"size\")\n",
    "    .reset_index(name=\"count\")\n",
    ")"
   ]
  },
  {
   "cell_type": "code",
   "execution_count": null,
   "metadata": {},
   "outputs": [],
   "source": [
    "rt_pivot = pd.DataFrame(\n",
    "    pd.pivot_table(\n",
    "        rt_tweet, values=\"count\", index=[\"date\"], columns=[\"isRetweet\"], aggfunc=np.sum\n",
    "    )\n",
    "    .rename(columns={\"isRetweet\": \"id\", False: \"tweet\", True: \"retweet\"})\n",
    "    .reset_index()\n",
    "    .fillna(\"\")\n",
    ")"
   ]
  },
  {
   "cell_type": "code",
   "execution_count": null,
   "metadata": {},
   "outputs": [],
   "source": [
    "rt_pivot.to_csv(\"output/rt_pivot.csv\")"
   ]
  },
  {
   "cell_type": "markdown",
   "metadata": {},
   "source": [
    "---"
   ]
  },
  {
   "cell_type": "markdown",
   "metadata": {},
   "source": [
    "### Chart it!"
   ]
  },
  {
   "cell_type": "code",
   "execution_count": null,
   "metadata": {},
   "outputs": [],
   "source": [
    "# bars\n",
    "\n",
    "lines = (\n",
    "    alt.Chart(\n",
    "        trump_tweets_day_candidacy_df,\n",
    "        title=\"@realDonaldTrump tweet frequency since candidacy announcement\",\n",
    "    )\n",
    "    .mark_bar(size=2)\n",
    "    .encode(\n",
    "        x=alt.X(\n",
    "            \"date:T\",\n",
    "            axis=alt.Axis(grid=False, title=\"\", tickCount=6, format=(\"%b. %Y\")),\n",
    "        ),\n",
    "        y=alt.Y(\n",
    "            \"count:Q\",\n",
    "            scale=alt.Scale(domain=(0, 200)),\n",
    "            axis=alt.Axis(\n",
    "                gridColor=\"#dddddd\",\n",
    "                offset=6,\n",
    "                tickSize=0,\n",
    "                domainOpacity=0,\n",
    "                tickCount=6,\n",
    "                title=\"Daily tweet counts and mean\",\n",
    "            ),\n",
    "        ),\n",
    "    )\n",
    ")\n",
    "\n",
    "# rule showing mean\n",
    "\n",
    "rule = (\n",
    "    alt.Chart(trump_tweets_day_candidacy_df)\n",
    "    .mark_rule(color=\"red\")\n",
    "    .encode(y=\"mean(count):Q\")\n",
    ")\n",
    "\n",
    "# rule label -- would like to add \"Average: \" annotation\n",
    "text = rule.mark_text(\n",
    "    align=\"center\",\n",
    "    baseline=\"middle\",\n",
    "    dx=200,\n",
    "    dy=10,\n",
    "    fontWeight=\"bold\",\n",
    ").encode(text=alt.Text(\"mean(count):Q\", format=\".2\"))\n",
    "\n",
    "# go\n",
    "(lines + rule + text).properties(height=400, width=800).configure_view(strokeOpacity=0)"
   ]
  },
  {
   "cell_type": "code",
   "execution_count": null,
   "metadata": {},
   "outputs": [],
   "source": [
    "# bars\n",
    "\n",
    "bars = (\n",
    "    alt.Chart(\n",
    "        trump_freq_inauguration,\n",
    "        title=\"@realDonaldTrump tweet frequency since inauguration\",\n",
    "    )\n",
    "    .mark_bar(size=2)\n",
    "    .encode(\n",
    "        x=alt.X(\n",
    "            \"date:T\",\n",
    "            axis=alt.Axis(grid=False, title=\"\", tickCount=6, format=(\"%b. %Y\")),\n",
    "        ),\n",
    "        y=alt.Y(\n",
    "            \"count:Q\",\n",
    "            scale=alt.Scale(domain=(0, 200)),\n",
    "            axis=alt.Axis(\n",
    "                gridColor=\"#dddddd\",\n",
    "                offset=6,\n",
    "                tickSize=0,\n",
    "                domainOpacity=0,\n",
    "                tickCount=6,\n",
    "                title=\"Daily tweet counts and mean\",\n",
    "            ),\n",
    "        ),\n",
    "    )\n",
    ")\n",
    "\n",
    "# rule showing mean\n",
    "\n",
    "rule = (\n",
    "    alt.Chart(trump_freq_inauguration).mark_rule(color=\"red\").encode(y=\"mean(count):Q\")\n",
    ")\n",
    "\n",
    "# rule label -- would like to add \"Average: \" annotation\n",
    "text = rule.mark_text(\n",
    "    align=\"center\",\n",
    "    baseline=\"middle\",\n",
    "    dx=200,\n",
    "    dy=10,\n",
    "    fontWeight=\"bold\",\n",
    ").encode(text=alt.Text(\"mean(count):Q\", format=\".2\"))\n",
    "\n",
    "# go\n",
    "(bars + rule + text).properties(height=400, width=800).configure_view(strokeOpacity=0)"
   ]
  },
  {
   "cell_type": "code",
   "execution_count": null,
   "metadata": {},
   "outputs": [],
   "source": [
    "heatmap = (\n",
    "    alt.Chart(\n",
    "        trump_freq_inauguration,\n",
    "        title=\"@realDonaldTrump daily tweet frequency since inauguration\",\n",
    "    )\n",
    "    .mark_rect()\n",
    "    .encode(\n",
    "        x=alt.X(\"date(date):O\", title=\" \"),\n",
    "        y=alt.Y(\"month(date):O\", title=\"\"),\n",
    "        color=alt.Color(\"count:Q\", title=\"Tweet count\"),\n",
    "        tooltip=[\n",
    "            alt.Tooltip(\"monthdate(date):T\", title=\"Date\"),\n",
    "            alt.Tooltip(\"count:Q\", title=\"Tweets\"),\n",
    "        ],\n",
    "        facet=alt.Facet(\"year(date):O\", title=\"\", columns=1),\n",
    "    )\n",
    "    .properties(width=600, height=200)\n",
    ")\n",
    "\n",
    "heatmap.configure_legend(orient=\"top\", padding=10).configure_view(strokeOpacity=0)"
   ]
  },
  {
   "cell_type": "code",
   "execution_count": null,
   "metadata": {},
   "outputs": [],
   "source": [
    "trump_RT_freq_inauguration = trump_tweets_day_prez_df.sort_values(\n",
    "    [\"count\"], ascending=False\n",
    ")"
   ]
  },
  {
   "cell_type": "code",
   "execution_count": null,
   "metadata": {},
   "outputs": [],
   "source": [
    "trumpall_prez_rt = trumpall_prez[\n",
    "    (trumpall_prez[\"isRetweet\"] == True) | (trumpall_prez[\"isRetweet\"] == \"t\")\n",
    "]\n",
    "trumpall_prez_no_rt = trumpall_prez[\n",
    "    (trumpall_prez[\"isRetweet\"] == False) | (trumpall_prez[\"isRetweet\"] == \"f\")\n",
    "]"
   ]
  },
  {
   "cell_type": "code",
   "execution_count": null,
   "metadata": {},
   "outputs": [],
   "source": [
    "len(trumpall_prez_rt)"
   ]
  },
  {
   "cell_type": "markdown",
   "metadata": {},
   "source": [
    "### Retweets"
   ]
  },
  {
   "cell_type": "code",
   "execution_count": null,
   "metadata": {},
   "outputs": [],
   "source": [
    "trump_tweets_day_prez_rt = trumpall_prez_rt.groupby([\"date\"]).size()\n",
    "trump_tweets_day_prez_rt_df = pd.DataFrame(\n",
    "    {\"date\": trump_tweets_day_prez_rt.index, \"count\": trump_tweets_day_prez_rt.values}\n",
    ")"
   ]
  },
  {
   "cell_type": "code",
   "execution_count": null,
   "metadata": {},
   "outputs": [],
   "source": [
    "trump_tweets_day_prez_rt_df.sort_values(by=\"date\", ascending=False).head()"
   ]
  },
  {
   "cell_type": "markdown",
   "metadata": {},
   "source": [
    "### No retweets"
   ]
  },
  {
   "cell_type": "code",
   "execution_count": null,
   "metadata": {},
   "outputs": [],
   "source": [
    "trump_tweets_day_prez_no_rt = trumpall_prez_no_rt.groupby([\"date\"]).size()\n",
    "trump_tweets_day_prez_no_rt_df = pd.DataFrame(\n",
    "    {\n",
    "        \"date\": trump_tweets_day_prez_no_rt.index,\n",
    "        \"count\": trump_tweets_day_prez_no_rt.values,\n",
    "    }\n",
    ")"
   ]
  },
  {
   "cell_type": "code",
   "execution_count": null,
   "metadata": {},
   "outputs": [],
   "source": [
    "# retweets\n",
    "trump_rt_freq_inauguration = trump_tweets_day_prez_rt_df.sort_values(\n",
    "    [\"count\"], ascending=False\n",
    ")\n",
    "# no retweets\n",
    "trump_no_rt_freq_inauguration = trump_tweets_day_prez_no_rt_df.sort_values(\n",
    "    [\"count\"], ascending=False\n",
    ")"
   ]
  },
  {
   "cell_type": "code",
   "execution_count": null,
   "metadata": {},
   "outputs": [],
   "source": [
    "trump_tweets_day_prez_rt_df.tail()"
   ]
  },
  {
   "cell_type": "code",
   "execution_count": null,
   "metadata": {},
   "outputs": [],
   "source": [
    "### Try a different color scheme\n",
    "\n",
    "heatmap = (\n",
    "    alt.Chart(\n",
    "        trump_no_rt_freq_inauguration,\n",
    "        title=\"@realDonaldTrump daily tweet (without RT) frequency since inauguration\",\n",
    "    )\n",
    "    .mark_rect()\n",
    "    .encode(\n",
    "        x=alt.X(\"date(date):O\", title=\" \"),\n",
    "        y=alt.Y(\"month(date):O\", title=\"\"),\n",
    "        color=alt.Color(\n",
    "            \"count:Q\", title=\"Tweet count\", scale=alt.Scale(scheme=\"blues\")\n",
    "        ),\n",
    "        tooltip=[\n",
    "            alt.Tooltip(\"monthdate(date):T\", title=\"Date\"),\n",
    "            alt.Tooltip(\"count:Q\", title=\"Tweets\"),\n",
    "        ],\n",
    "        facet=alt.Facet(\"year(date):O\", title=\"\", columns=1),\n",
    "    )\n",
    "    .properties(width=600, height=180)\n",
    ")\n",
    "\n",
    "heatmap.configure_legend(orient=\"top\", padding=10).configure_view(strokeOpacity=0)"
   ]
  },
  {
   "cell_type": "code",
   "execution_count": null,
   "metadata": {},
   "outputs": [],
   "source": [
    "# bars\n",
    "bars = (\n",
    "    alt.Chart(trump_no_rt_freq_inauguration, title=\"@realDonaldTrump tweet frequency\")\n",
    "    .mark_bar(size=2)\n",
    "    .encode(\n",
    "        x=alt.X(\n",
    "            \"date:T\", axis=alt.Axis(grid=False, title=\"\", tickCount=6, format=(\"%B %Y\"))\n",
    "        ),\n",
    "        y=alt.Y(\n",
    "            \"count:Q\",\n",
    "            scale=alt.Scale(domain=(0, 70)),\n",
    "            axis=alt.Axis(\n",
    "                gridColor=\"#dddddd\",\n",
    "                offset=6,\n",
    "                tickSize=0,\n",
    "                domainOpacity=0,\n",
    "                tickCount=5,\n",
    "                title=\"Daily tweet counts and mean (without retweets) since inauguration\",\n",
    "            ),\n",
    "        ),\n",
    "    )\n",
    ")\n",
    "\n",
    "# rule showing mean\n",
    "rule = (\n",
    "    alt.Chart(trump_no_rt_freq_inauguration)\n",
    "    .mark_rule(color=\"red\")\n",
    "    .encode(y=\"mean(count):Q\")\n",
    ")\n",
    "\n",
    "# rule label -- would like to add \"Average: \" annotation\n",
    "text = rule.mark_text(\n",
    "    align=\"center\",\n",
    "    baseline=\"middle\",\n",
    "    dx=50,\n",
    "    dy=10,\n",
    "    fontWeight=\"bold\",\n",
    ").encode(text=alt.Text(\"mean(count):Q\", format=\".2\"))\n",
    "\n",
    "# go\n",
    "(bars + rule + text).properties(height=400, width=620).configure_view(strokeOpacity=0)"
   ]
  },
  {
   "cell_type": "code",
   "execution_count": null,
   "metadata": {},
   "outputs": [],
   "source": []
  },
  {
   "cell_type": "code",
   "execution_count": null,
   "metadata": {},
   "outputs": [],
   "source": []
  },
  {
   "cell_type": "code",
   "execution_count": null,
   "metadata": {},
   "outputs": [],
   "source": []
  },
  {
   "cell_type": "code",
   "execution_count": null,
   "metadata": {},
   "outputs": [],
   "source": []
  },
  {
   "cell_type": "code",
   "execution_count": null,
   "metadata": {},
   "outputs": [],
   "source": [
    "trumppres[\n",
    "    (trumppres[\"text\"].str.contains(\"ban\"))\n",
    "    & (trumppres[\"text\"].str.contains(\"Twitter\"))\n",
    "]"
   ]
  },
  {
   "cell_type": "code",
   "execution_count": null,
   "metadata": {},
   "outputs": [],
   "source": [
    "trumppres[trumppres[\"id\"] == \"1137702218835136500\"][[\"user\", \"text\"]]"
   ]
  },
  {
   "cell_type": "markdown",
   "metadata": {},
   "source": [
    "---"
   ]
  },
  {
   "cell_type": "code",
   "execution_count": null,
   "metadata": {},
   "outputs": [],
   "source": []
  }
 ],
 "metadata": {
  "kernelspec": {
   "display_name": "Python 3",
   "language": "python",
   "name": "python3"
  },
  "language_info": {
   "codemirror_mode": {
    "name": "ipython",
    "version": 3
   },
   "file_extension": ".py",
   "mimetype": "text/x-python",
   "name": "python",
   "nbconvert_exporter": "python",
   "pygments_lexer": "ipython3",
   "version": "3.8.2"
  }
 },
 "nbformat": 4,
 "nbformat_minor": 4
}
